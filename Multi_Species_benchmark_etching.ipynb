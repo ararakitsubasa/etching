{
 "cells": [
  {
   "cell_type": "code",
   "execution_count": 1,
   "metadata": {},
   "outputs": [],
   "source": [
    "import numpy as np\n",
    "import time as Time\n",
    "from numba import jit\n",
    "import matplotlib.pyplot as plt\n",
    "import pyvista as pv\n",
    "import torch"
   ]
  },
  {
   "cell_type": "code",
   "execution_count": 27,
   "metadata": {},
   "outputs": [],
   "source": [
    "#solid = film[i, j, k, 10][Si, SiF1, SiF2, SiF3, SiO SiO2, SiOF, SiOF2, SiO2F, SiO2F2]\n",
    "#react_t g[F, O, ion] s  [1,          2,           3,          4,       5 ,   6,    7,    8,   9,  10]\n",
    "#react_t g[F, O, ion] s  [Si,       SiF1,       SiF2,       SiF3,      SiO, SiO2, SiOF, SiOF2, SiO2F,SiO2F2]\n",
    "\n",
    "\n",
    "film = np.zeros((50, 50, 100, 10))\n",
    "\n",
    "bottom = 60\n",
    "film[:, :, 0:bottom, 0] = 10 # bottom\n",
    "\n",
    "height = 85\n",
    "\n",
    "film[:, :15, bottom:height, 5] = 10\n",
    "film[:, 35:, bottom:height, 5] = 10\n",
    "\n",
    "slit = np.linspace(25, 0, 5)\n",
    "for k in range(5):\n",
    "    film[:, 15+k, bottom:int(slit[k]) + bottom, 5] = 10\n",
    "    film[:, 30+k, bottom:int(slit[4-k]) + bottom, 5] = 10\n"
   ]
  },
  {
   "cell_type": "code",
   "execution_count": 15,
   "metadata": {},
   "outputs": [],
   "source": [
    "film = np.zeros((50, 50, 100, 10))\n",
    "\n",
    "bottom = 80\n",
    "film[:, :, 0:bottom, 0] = 10 # bottom\n",
    "\n",
    "height = 85\n",
    "\n",
    "film[:, :22, bottom:height, 5] = 10\n",
    "film[:, 28:, bottom:height, 5] = 10"
   ]
  },
  {
   "cell_type": "code",
   "execution_count": 3,
   "metadata": {},
   "outputs": [],
   "source": [
    "# film = np.zeros((100, 100, 160))\n",
    "\n",
    "# bottom = 10\n",
    "# film[:, :, 0:bottom] = 10 # bottom\n",
    "\n",
    "# height = 40\n",
    "\n",
    "# # film[:, :17, 0:height] = 10\n",
    "# # film[:, 83:, 0:height] = 10\n",
    "# # film[:17, :, 0:height] = 10\n",
    "# # film[83:, :, 0:height] = 10\n",
    "\n",
    "# slit = np.linspace(30, 0, 4)\n",
    "# for i in range(4):\n",
    "#     # film[:, 17+i, bottom:int(slit[i]) + bottom] = 10\n",
    "#     # film[:, 79+i, bottom:int(slit[5-i]) + bottom] = 10\n",
    "#     # film[17+i, :, bottom:int(slit[i]) + bottom] = 10\n",
    "#     # film[79+i, :, bottom:int(slit[5-i]) + bottom] = 10\n",
    "#     for j in range(10):\n",
    "#         film[:, 17+i, int(slit[i])+j+ bottom] = 1/11*(10-j)\n",
    "#         film[:, 79+i, int(slit[3-i])+j+ bottom] = 1/11*(10-j)\n",
    "#         film[17+i, :, int(slit[i])+j+ bottom] = 1/11*(10-j)\n",
    "#         film[79+i, :, int(slit[3-i])+j+ bottom] = 1/11*(10-j)\n",
    "# for k in range(4):\n",
    "#     film[:, 17+k, bottom:int(slit[k]) + bottom] = 10\n",
    "#     film[:, 79+k, bottom:int(slit[3-k]) + bottom] = 10\n",
    "#     film[17+k, :, bottom:int(slit[k]) + bottom] = 10\n",
    "#     film[79+k, :, bottom:int(slit[3-k]) + bottom] = 10\n",
    "\n",
    "# film[:, :17, 0:height] = 10\n",
    "# film[:, 83:, 0:height] = 10\n",
    "# film[:17, :, 0:height] = 10\n",
    "# film[83:, :, 0:height] = 10\n",
    "# film[:, :, height:] = 0"
   ]
  },
  {
   "cell_type": "code",
   "execution_count": 16,
   "metadata": {},
   "outputs": [
    {
     "name": "stdout",
     "output_type": "stream",
     "text": [
      "(50, 50, 100)\n"
     ]
    }
   ],
   "source": [
    "sumFilm = np.sum(film, axis=-1)\n",
    "\n",
    "print(sumFilm.shape)"
   ]
  },
  {
   "cell_type": "code",
   "execution_count": 4,
   "metadata": {},
   "outputs": [
    {
     "name": "stderr",
     "output_type": "stream",
     "text": [
      "c:\\Users\\urcs049\\AppData\\Local\\anaconda3\\Lib\\site-packages\\pyvista\\core\\utilities\\points.py:55: UserWarning: Points is not a float type. This can cause issues when transforming or applying filters. Casting to ``np.float32``. Disable this by passing ``force_float=False``.\n",
      "  warnings.warn(\n",
      "c:\\Users\\urcs049\\AppData\\Local\\anaconda3\\Lib\\site-packages\\pyvista\\core\\filters\\data_set.py:2386: UserWarning: No vector-like data to use for orient. orient will be set to False.\n",
      "  warnings.warn(\"No vector-like data to use for orient. orient will be set to False.\")\n"
     ]
    },
    {
     "data": {
      "application/vnd.jupyter.widget-view+json": {
       "model_id": "cae18ce1f9d0456b8cfe55f80acafdcf",
       "version_major": 2,
       "version_minor": 0
      },
      "text/plain": [
       "Widget(value='<iframe src=\"http://localhost:59843/index.html?ui=P_0x15c4182e990_0&reconnect=auto\" class=\"pyvis…"
      ]
     },
     "metadata": {},
     "output_type": "display_data"
    }
   ],
   "source": [
    "# film = np.sum(etching[0], axis=-1)\n",
    "\n",
    "depo1 = torch.Tensor(film[:, :, :, 5]!=0).to_sparse()\n",
    "depo1 = depo1.indices().numpy().T\n",
    "\n",
    "substrute = torch.Tensor(film[:, :, :,0]!=0).to_sparse()\n",
    "substrute = substrute.indices().numpy().T\n",
    "depomesh = pv.PolyData(depo1)\n",
    "depomesh[\"radius\"] = np.ones(depo1.shape[0])*0.5\n",
    "geom = pv.Box()\n",
    "\n",
    "submesh = pv.PolyData(substrute)\n",
    "submesh[\"radius\"] = np.ones(substrute.shape[0])*0.5\n",
    "\n",
    "# Progress bar is a new feature on master branch\n",
    "depoglyphed = depomesh.glyph(scale=\"radius\", geom=geom) # progress_bar=True)\n",
    "subglyphed = submesh.glyph(scale=\"radius\", geom=geom) # progress_bar=True)\n",
    "\n",
    "p = pv.Plotter()\n",
    "p.add_mesh(depoglyphed, color='cyan')\n",
    "p.add_mesh(subglyphed, color='dimgray')\n",
    "p.enable_eye_dome_lighting()\n",
    "p.show()"
   ]
  },
  {
   "cell_type": "code",
   "execution_count": 17,
   "metadata": {},
   "outputs": [],
   "source": [
    "etchfilm = film"
   ]
  },
  {
   "cell_type": "code",
   "execution_count": 18,
   "metadata": {},
   "outputs": [],
   "source": [
    "import Multi_Species_SF_etching"
   ]
  },
  {
   "cell_type": "code",
   "execution_count": 24,
   "metadata": {},
   "outputs": [],
   "source": [
    "logname = 'Multi_species_benchmark_0729'\n",
    "testEtch = Multi_Species_SF_etching.etching(mirror=True,inputMethod='bunch', pressure_pa=0.001, temperature=300, chamberSize=etchfilm.shape,\n",
    "                                         depoThick=90, center_with_direction=np.array([[35,100,75]]), \n",
    "                                         range3D=np.array([[0, 70, 0, 100, 0, 150]]), InOrOut=[1], yield_hist=np.array([None]),\n",
    "                                        reaction_type=False, param = [1.6, -0.7], N = 300000, \n",
    "                                        sub_xy=[0,0], film=etchfilm, n=1, cellSize=etchfilm.shape, \n",
    "                                        celllength=1e-5, kdtreeN=5, tstep=1e-5,\n",
    "                                        substrateTop=40,posGeneratorType='top', logname=logname)\n",
    "\n",
    "\n",
    "# etching = testEtch.depo_position_increase_cosVel_normal(125, int(7e6), 2e-3, 5)\n"
   ]
  },
  {
   "cell_type": "code",
   "execution_count": 20,
   "metadata": {},
   "outputs": [],
   "source": [
    "T = 300\n",
    "Cm = (2*1.380649e-23*T/(27*1.66e-27) )**0.5 # (2kT/m)**0.5 27 for the Al\n",
    "\n",
    "def max_velocity_u( random1, random2):\n",
    "    return Cm*np.sqrt(-np.log(random1))*(np.cos(2*np.pi*random2))\n",
    "\n",
    "def max_velocity_w( random1, random2):\n",
    "    return Cm*np.sqrt(-np.log(random1))*(np.sin(2*np.pi*random2))\n",
    "\n",
    "def max_velocity_v( random3):\n",
    "    return -Cm*np.sqrt(-np.log(random3))"
   ]
  },
  {
   "cell_type": "code",
   "execution_count": 25,
   "metadata": {},
   "outputs": [
    {
     "name": "stdout",
     "output_type": "stream",
     "text": [
      "[[ 0.58315693  0.76924124 -0.26114347  0.        ]\n",
      " [-0.44839342 -0.37091701 -0.81324284  0.        ]\n",
      " [ 0.24101222  0.16195151 -0.95691422  0.        ]\n",
      " [ 0.04810873 -0.79359169 -0.60654578  0.        ]\n",
      " [-0.23433695 -0.48536024 -0.84232513  0.        ]\n",
      " [-0.96432526  0.09312919 -0.24779781  0.        ]\n",
      " [-0.32714809 -0.69598802 -0.63919856  0.        ]\n",
      " [-0.41931445  0.26144006 -0.86938167  0.        ]\n",
      " [ 0.75285343 -0.54981696 -0.36181903  0.        ]\n",
      " [ 0.69720877  0.39571669 -0.59775265  0.        ]]\n"
     ]
    }
   ],
   "source": [
    "N = int(6e7)\n",
    "velosity_matrix = np.zeros((N, 3))\n",
    "tstep=1e-5\n",
    "celllength=1e-5\n",
    "# velosity_matrix[:, 0] = -1 * celllength /tstep\n",
    "# velosity_matrix[:, 1] = -1 * celllength /tstep\n",
    "Random1 = np.random.rand(N)\n",
    "Random2 = np.random.rand(N)\n",
    "Random3 = np.random.rand(N)\n",
    "velosity_matrix = np.array([max_velocity_u(Random1, Random2), \\\n",
    "                            max_velocity_w(Random1, Random2), \\\n",
    "                                max_velocity_v(Random3)]).T\n",
    "\n",
    "energy = np.linalg.norm(velosity_matrix, axis=1)\n",
    "velosity_matrix[:,0] = np.divide(velosity_matrix[:,0], energy)\n",
    "velosity_matrix[:,1] = np.divide(velosity_matrix[:,1], energy)\n",
    "velosity_matrix[:,2] = np.divide(velosity_matrix[:,2], energy)\n",
    "\n",
    "# velosity_matrix[:, 2] = -1 * celllength /tstep\n",
    "\n",
    "typeID = np.zeros(N)\n",
    "# FO_ratio = int(N/4)\n",
    "# typeID[-FO_ratio:] = 1\n",
    "\n",
    "# ion_ration = int(N/8)\n",
    "# typeID[-ion_ration:] = 2\n",
    "# velosity_matrix[-ion_ration:, 0] = np.random.rand(ion_ration)*0.001\n",
    "# velosity_matrix[-ion_ration:, 1] = np.random.rand(ion_ration)*0.001\n",
    "# velosity_matrix[-ion_ration:, 2] = -1 \n",
    "\n",
    "vel_type_shuffle = np.zeros((N, 4))\n",
    "vel_type_shuffle[:, :3] = velosity_matrix\n",
    "vel_type_shuffle[:, -1] = typeID\n",
    "\n",
    "np.random.shuffle(vel_type_shuffle)\n",
    "# print(typeID[:10])\n",
    "# print(velosity_matrix[0])\n",
    "print(vel_type_shuffle[:10])"
   ]
  },
  {
   "cell_type": "code",
   "execution_count": 26,
   "metadata": {},
   "outputs": [
    {
     "name": "stderr",
     "output_type": "stream",
     "text": [
      "running: 100%|██████████████████████████████████████████████████████| 100/100 [09:27<00:00, 5.67s/B]\n"
     ]
    }
   ],
   "source": [
    "etching = testEtch.inputParticle(125,vel_type_shuffle[:,:3], vel_type_shuffle[:,-1], 5e-3, 5)"
   ]
  },
  {
   "cell_type": "code",
   "execution_count": 28,
   "metadata": {},
   "outputs": [
    {
     "name": "stderr",
     "output_type": "stream",
     "text": [
      "c:\\Users\\urcs049\\AppData\\Local\\anaconda3\\Lib\\site-packages\\pyvista\\core\\utilities\\points.py:55: UserWarning: Points is not a float type. This can cause issues when transforming or applying filters. Casting to ``np.float32``. Disable this by passing ``force_float=False``.\n",
      "  warnings.warn(\n",
      "c:\\Users\\urcs049\\AppData\\Local\\anaconda3\\Lib\\site-packages\\pyvista\\core\\filters\\data_set.py:2386: UserWarning: No vector-like data to use for orient. orient will be set to False.\n",
      "  warnings.warn(\"No vector-like data to use for orient. orient will be set to False.\")\n"
     ]
    },
    {
     "data": {
      "application/vnd.jupyter.widget-view+json": {
       "model_id": "d0aae9250c6f431582cb2ecae24f098b",
       "version_major": 2,
       "version_minor": 0
      },
      "text/plain": [
       "Widget(value='<iframe src=\"http://localhost:60402/index.html?ui=P_0x16b0b3740e0_4&reconnect=auto\" class=\"pyvis…"
      ]
     },
     "metadata": {},
     "output_type": "display_data"
    }
   ],
   "source": [
    "sumFilm = np.sum(etching[0], axis=-1)\n",
    "\n",
    "depo1 = torch.Tensor(np.logical_and(etching[0][:, :, :,1]!=0, etching[0][:, :, :,2]!=0)).to_sparse()\n",
    "depo1 = depo1.indices().numpy().T\n",
    "\n",
    "depo2 = torch.Tensor(etching[0][:, :, :,5]!=0).to_sparse()\n",
    "depo2 = depo2.indices().numpy().T\n",
    "\n",
    "substrute = torch.Tensor(etching[0][:, :, :,0]!=0).to_sparse()\n",
    "substrute = substrute.indices().numpy().T\n",
    "depomesh = pv.PolyData(depo1)\n",
    "depomesh[\"radius\"] = np.ones(depo1.shape[0])*0.5\n",
    "depomesh2 = pv.PolyData(depo2)\n",
    "depomesh2[\"radius\"] = np.ones(depo2.shape[0])*0.5\n",
    "geom = pv.Box()\n",
    "\n",
    "submesh = pv.PolyData(substrute)\n",
    "submesh[\"radius\"] = np.ones(substrute.shape[0])*0.5\n",
    "\n",
    "# Progress bar is a new feature on master branch\n",
    "depoglyphed = depomesh.glyph(scale=\"radius\", geom=geom) # progress_bar=True)\n",
    "depoglyphed2 = depomesh2.glyph(scale=\"radius\", geom=geom) # progress_bar=True)\n",
    "subglyphed = submesh.glyph(scale=\"radius\", geom=geom) # progress_bar=True)\n",
    "\n",
    "p = pv.Plotter()\n",
    "p.add_mesh(depoglyphed, color='red')\n",
    "p.add_mesh(depoglyphed2, color='cyan')\n",
    "p.add_mesh(subglyphed, color='dimgray')\n",
    "p.enable_eye_dome_lighting()\n",
    "p.show()"
   ]
  },
  {
   "cell_type": "code",
   "execution_count": 13,
   "metadata": {},
   "outputs": [
    {
     "name": "stderr",
     "output_type": "stream",
     "text": [
      "l:\\program\\Lib\\site-packages\\pyvista\\core\\utilities\\points.py:52: UserWarning: Points is not a float type. This can cause issues when transforming or applying filters. Casting to ``np.float32``. Disable this by passing ``force_float=False``.\n",
      "  warnings.warn(\n",
      "l:\\program\\Lib\\site-packages\\pyvista\\core\\filters\\data_set.py:2320: UserWarning: No vector-like data to use for orient. orient will be set to False.\n",
      "  warnings.warn(\"No vector-like data to use for orient. orient will be set to False.\")\n"
     ]
    },
    {
     "data": {
      "application/vnd.jupyter.widget-view+json": {
       "model_id": "65fdab755efa49eaa38ac4bc722e25cd",
       "version_major": 2,
       "version_minor": 0
      },
      "text/plain": [
       "Widget(value='<iframe src=\"http://localhost:61008/index.html?ui=P_0x1a0bd02bbd0_3&reconnect=auto\" class=\"pyvis…"
      ]
     },
     "metadata": {},
     "output_type": "display_data"
    }
   ],
   "source": [
    "sumFilm = np.sum(etching[0], axis=-1)\n",
    "\n",
    "depo1 = torch.Tensor(np.logical_and(etching[0][:, :25, :,1]!=0, etching[0][:, :25, :,2]!=0)).to_sparse()\n",
    "depo1 = depo1.indices().numpy().T\n",
    "\n",
    "depo2 = torch.Tensor(etching[0][:, :25, :,5]!=0).to_sparse()\n",
    "depo2 = depo2.indices().numpy().T\n",
    "\n",
    "substrute = torch.Tensor(etching[0][:, :25, :,0]!=0).to_sparse()\n",
    "substrute = substrute.indices().numpy().T\n",
    "depomesh = pv.PolyData(depo1)\n",
    "depomesh[\"radius\"] = np.ones(depo1.shape[0])*0.5\n",
    "depomesh2 = pv.PolyData(depo2)\n",
    "depomesh2[\"radius\"] = np.ones(depo2.shape[0])*0.5\n",
    "geom = pv.Box()\n",
    "\n",
    "submesh = pv.PolyData(substrute)\n",
    "submesh[\"radius\"] = np.ones(substrute.shape[0])*0.5\n",
    "\n",
    "# Progress bar is a new feature on master branch\n",
    "depoglyphed = depomesh.glyph(scale=\"radius\", geom=geom) # progress_bar=True)\n",
    "depoglyphed2 = depomesh2.glyph(scale=\"radius\", geom=geom) # progress_bar=True)\n",
    "subglyphed = submesh.glyph(scale=\"radius\", geom=geom) # progress_bar=True)\n",
    "\n",
    "p = pv.Plotter()\n",
    "p.add_mesh(depoglyphed, color='red')\n",
    "p.add_mesh(depoglyphed2, color='cyan')\n",
    "p.add_mesh(subglyphed, color='dimgray')\n",
    "p.enable_eye_dome_lighting()\n",
    "p.show()"
   ]
  },
  {
   "cell_type": "code",
   "execution_count": null,
   "metadata": {},
   "outputs": [
    {
     "name": "stderr",
     "output_type": "stream",
     "text": [
      "l:\\program\\Lib\\site-packages\\pyvista\\core\\utilities\\points.py:52: UserWarning: Points is not a float type. This can cause issues when transforming or applying filters. Casting to ``np.float32``. Disable this by passing ``force_float=False``.\n",
      "  warnings.warn(\n",
      "l:\\program\\Lib\\site-packages\\pyvista\\core\\filters\\data_set.py:2320: UserWarning: No vector-like data to use for orient. orient will be set to False.\n",
      "  warnings.warn(\"No vector-like data to use for orient. orient will be set to False.\")\n"
     ]
    },
    {
     "data": {
      "application/vnd.jupyter.widget-view+json": {
       "model_id": "45e139758c47417b89e217b9efed48d3",
       "version_major": 2,
       "version_minor": 0
      },
      "text/plain": [
       "Widget(value='<iframe src=\"http://localhost:52789/index.html?ui=P_0x206cdc0a4d0_5&reconnect=auto\" class=\"pyvis…"
      ]
     },
     "metadata": {},
     "output_type": "display_data"
    }
   ],
   "source": [
    "sumFilm = np.sum(etching[0], axis=-1)\n",
    "# np.logical_and(etching[0][:, :, :, 5]>0, sumFilm[:, :, :,]>0)\n",
    "depo1 = torch.Tensor(np.logical_and(etching[0][:, :, :, 5]>0, sumFilm[:, :, :,]>0)).to_sparse()\n",
    "depo1 = depo1.indices().numpy().T\n",
    "\n",
    "substrute = torch.Tensor(sumFilm[:, :, :]==5).to_sparse()\n",
    "substrute = substrute.indices().numpy().T\n",
    "depomesh = pv.PolyData(depo1)\n",
    "depomesh[\"radius\"] = np.ones(depo1.shape[0])*0.5\n",
    "geom = pv.Box()\n",
    "\n",
    "submesh = pv.PolyData(substrute)\n",
    "submesh[\"radius\"] = np.ones(substrute.shape[0])*0.5\n",
    "\n",
    "# Progress bar is a new feature on master branch\n",
    "depoglyphed = depomesh.glyph(scale=\"radius\", geom=geom) # progress_bar=True)\n",
    "subglyphed = submesh.glyph(scale=\"radius\", geom=geom) # progress_bar=True)\n",
    "\n",
    "p = pv.Plotter()\n",
    "p.add_mesh(depoglyphed, color='cyan')\n",
    "p.add_mesh(subglyphed, color='dimgray')\n",
    "p.enable_eye_dome_lighting()\n",
    "p.show()"
   ]
  },
  {
   "cell_type": "code",
   "execution_count": null,
   "metadata": {},
   "outputs": [
    {
     "name": "stderr",
     "output_type": "stream",
     "text": [
      "l:\\program\\Lib\\site-packages\\pyvista\\core\\utilities\\points.py:52: UserWarning: Points is not a float type. This can cause issues when transforming or applying filters. Casting to ``np.float32``. Disable this by passing ``force_float=False``.\n",
      "  warnings.warn(\n",
      "l:\\program\\Lib\\site-packages\\pyvista\\core\\filters\\data_set.py:2320: UserWarning: No vector-like data to use for orient. orient will be set to False.\n",
      "  warnings.warn(\"No vector-like data to use for orient. orient will be set to False.\")\n"
     ]
    },
    {
     "data": {
      "application/vnd.jupyter.widget-view+json": {
       "model_id": "59c16c04b19c4c6b96ede9b96551a752",
       "version_major": 2,
       "version_minor": 0
      },
      "text/plain": [
       "Widget(value='<iframe src=\"http://localhost:52789/index.html?ui=P_0x206cf19a4d0_2&reconnect=auto\" class=\"pyvis…"
      ]
     },
     "metadata": {},
     "output_type": "display_data"
    }
   ],
   "source": [
    "sumFilm = np.sum(etching[0], axis=-1)\n",
    "\n",
    "depo1 = torch.Tensor(etching[0][:, :, :, 1]!=0).to_sparse()\n",
    "depo1 = depo1.indices().numpy().T\n",
    "\n",
    "substrute = torch.Tensor(sumFilm[:, :, :]==5).to_sparse()\n",
    "substrute = substrute.indices().numpy().T\n",
    "depomesh = pv.PolyData(depo1)\n",
    "depomesh[\"radius\"] = np.ones(depo1.shape[0])*0.5\n",
    "geom = pv.Box()\n",
    "\n",
    "submesh = pv.PolyData(substrute)\n",
    "submesh[\"radius\"] = np.ones(substrute.shape[0])*0.5\n",
    "\n",
    "# Progress bar is a new feature on master branch\n",
    "depoglyphed = depomesh.glyph(scale=\"radius\", geom=geom) # progress_bar=True)\n",
    "subglyphed = submesh.glyph(scale=\"radius\", geom=geom) # progress_bar=True)\n",
    "\n",
    "p = pv.Plotter()\n",
    "# p.add_mesh(depoglyphed, color='cyan')\n",
    "p.add_mesh(subglyphed, color='dimgray')\n",
    "p.enable_eye_dome_lighting()\n",
    "p.show()"
   ]
  },
  {
   "cell_type": "code",
   "execution_count": null,
   "metadata": {},
   "outputs": [],
   "source": [
    "pointcloud = testEtch.get_pointcloud(sumFilm)"
   ]
  },
  {
   "cell_type": "code",
   "execution_count": null,
   "metadata": {},
   "outputs": [
    {
     "data": {
      "application/vnd.jupyter.widget-view+json": {
       "model_id": "aed88fa9397840bcad379b9f7db64922",
       "version_major": 2,
       "version_minor": 0
      },
      "text/plain": [
       "Widget(value='<iframe src=\"http://localhost:51715/index.html?ui=P_0x1f8f498a750_5&reconnect=auto\" class=\"pyvis…"
      ]
     },
     "metadata": {},
     "output_type": "display_data"
    }
   ],
   "source": [
    "point_cloud = pv.PolyData(pointcloud[:, 3:])\n",
    "vectors = pointcloud[:, :3]\n",
    "\n",
    "point_cloud['vectors'] = vectors\n",
    "arrows = point_cloud.glyph(\n",
    "    orient='vectors',\n",
    "    scale=100000,\n",
    "    factor=5,\n",
    ")\n",
    "\n",
    "# Display the arrowscyan\n",
    "\n",
    "# sphere = pv.Sphere(radius=4, center=(21, 75, 114.5))\n",
    "plotter = pv.Plotter()\n",
    "plotter.add_mesh(point_cloud, color='cyan', point_size=5.0, render_points_as_spheres=True)\n",
    "# plotter.add_mesh(sphere, show_edges=True, opacity=0.5, color=\"w\")\n",
    "plotter.add_mesh(arrows, color='lightblue')\n",
    "# # plotter.add_point_labels([point_cloud.center,], ['Center',],\n",
    "# #                          point_color='yellow', point_size=20)\n",
    "plotter.show_grid()\n",
    "plotter.show()"
   ]
  },
  {
   "cell_type": "code",
   "execution_count": null,
   "metadata": {},
   "outputs": [
    {
     "name": "stderr",
     "output_type": "stream",
     "text": [
      "l:\\program\\Lib\\site-packages\\pyvista\\core\\filters\\data_set.py:2320: UserWarning: No vector-like data to use for orient. orient will be set to False.\n",
      "  warnings.warn(\"No vector-like data to use for orient. orient will be set to False.\")\n"
     ]
    },
    {
     "data": {
      "application/vnd.jupyter.widget-view+json": {
       "model_id": "a26ff6046e8040f1a77473602ee577ea",
       "version_major": 2,
       "version_minor": 0
      },
      "text/plain": [
       "Widget(value='<iframe src=\"http://localhost:51715/index.html?ui=P_0x1f8f9cd6890_6&reconnect=auto\" class=\"pyvis…"
      ]
     },
     "metadata": {},
     "output_type": "display_data"
    }
   ],
   "source": [
    "depo1 = torch.Tensor(pointcloud[:,3:]).to_sparse()\n",
    "depo1 = depo1.indices().numpy().T\n",
    "\n",
    "\n",
    "depomesh = pv.PolyData(pointcloud[:,3:])\n",
    "depomesh[\"radius\"] = np.ones(pointcloud[:,3:].shape[0])*0.5\n",
    "geom = pv.Box()\n",
    "\n",
    "\n",
    "# Progress bar is a new feature on master branch\n",
    "depoglyphed = depomesh.glyph(scale=\"radius\", geom=geom) # progress_bar=True)\n",
    "\n",
    "p = pv.Plotter()\n",
    "p.add_mesh(depoglyphed, color='cyan')\n",
    "p.enable_eye_dome_lighting()\n",
    "p.show()"
   ]
  },
  {
   "cell_type": "code",
   "execution_count": null,
   "metadata": {},
   "outputs": [
    {
     "name": "stderr",
     "output_type": "stream",
     "text": [
      "l:\\program\\Lib\\site-packages\\pyvista\\core\\utilities\\points.py:52: UserWarning: Points is not a float type. This can cause issues when transforming or applying filters. Casting to ``np.float32``. Disable this by passing ``force_float=False``.\n",
      "  warnings.warn(\n",
      "l:\\program\\Lib\\site-packages\\pyvista\\core\\filters\\data_set.py:2320: UserWarning: No vector-like data to use for orient. orient will be set to False.\n",
      "  warnings.warn(\"No vector-like data to use for orient. orient will be set to False.\")\n"
     ]
    },
    {
     "data": {
      "application/vnd.jupyter.widget-view+json": {
       "model_id": "769d19b3d6dc4170bfebea113a80ac43",
       "version_major": 2,
       "version_minor": 0
      },
      "text/plain": [
       "Widget(value='<iframe src=\"http://localhost:50932/index.html?ui=P_0x19c0f17aa10_3&reconnect=auto\" class=\"pyvis…"
      ]
     },
     "metadata": {},
     "output_type": "display_data"
    }
   ],
   "source": [
    "sumFilm = np.sum(etching[0], axis=-1)\n",
    "\n",
    "depo1 = torch.Tensor(np.logical_and(sumFilm[:, 50:, :,]!=10, sumFilm[:, 50:, :,]!=0)).to_sparse()\n",
    "depo1 = depo1.indices().numpy().T\n",
    "\n",
    "substrute = torch.Tensor(sumFilm[:, 50:, :,]==10).to_sparse()\n",
    "substrute = substrute.indices().numpy().T\n",
    "depomesh = pv.PolyData(depo1)\n",
    "depomesh[\"radius\"] = np.ones(depo1.shape[0])*0.5\n",
    "geom = pv.Box()\n",
    "\n",
    "submesh = pv.PolyData(substrute)\n",
    "submesh[\"radius\"] = np.ones(substrute.shape[0])*0.5\n",
    "\n",
    "# Progress bar is a new feature on master branch\n",
    "depoglyphed = depomesh.glyph(scale=\"radius\", geom=geom) # progress_bar=True)\n",
    "subglyphed = submesh.glyph(scale=\"radius\", geom=geom) # progress_bar=True)\n",
    "\n",
    "p = pv.Plotter()\n",
    "p.add_mesh(depoglyphed, color='cyan')\n",
    "p.add_mesh(subglyphed, color='dimgray')\n",
    "p.enable_eye_dome_lighting()\n",
    "p.show()"
   ]
  },
  {
   "cell_type": "code",
   "execution_count": null,
   "metadata": {},
   "outputs": [
    {
     "ename": "ValueError",
     "evalue": "Empty meshes cannot be plotted. Input mesh has zero points. To allow plotting empty meshes, set `pv.global_theme.allow_empty_mesh = True`",
     "output_type": "error",
     "traceback": [
      "\u001b[1;31m---------------------------------------------------------------------------\u001b[0m",
      "\u001b[1;31mValueError\u001b[0m                                Traceback (most recent call last)",
      "Cell \u001b[1;32mIn[10], line 20\u001b[0m\n\u001b[0;32m     17\u001b[0m subglyphed \u001b[38;5;241m=\u001b[39m submesh\u001b[38;5;241m.\u001b[39mglyph(scale\u001b[38;5;241m=\u001b[39m\u001b[38;5;124m\"\u001b[39m\u001b[38;5;124mradius\u001b[39m\u001b[38;5;124m\"\u001b[39m, geom\u001b[38;5;241m=\u001b[39mgeom) \u001b[38;5;66;03m# progress_bar=True)\u001b[39;00m\n\u001b[0;32m     19\u001b[0m p \u001b[38;5;241m=\u001b[39m pv\u001b[38;5;241m.\u001b[39mPlotter()\n\u001b[1;32m---> 20\u001b[0m p\u001b[38;5;241m.\u001b[39madd_mesh(depoglyphed, color\u001b[38;5;241m=\u001b[39m\u001b[38;5;124m'\u001b[39m\u001b[38;5;124mcyan\u001b[39m\u001b[38;5;124m'\u001b[39m)\n\u001b[0;32m     21\u001b[0m p\u001b[38;5;241m.\u001b[39madd_mesh(subglyphed, color\u001b[38;5;241m=\u001b[39m\u001b[38;5;124m'\u001b[39m\u001b[38;5;124mdimgray\u001b[39m\u001b[38;5;124m'\u001b[39m)\n\u001b[0;32m     22\u001b[0m p\u001b[38;5;241m.\u001b[39menable_eye_dome_lighting()\n",
      "File \u001b[1;32ml:\\program\\Lib\\site-packages\\pyvista\\plotting\\plotter.py:3515\u001b[0m, in \u001b[0;36mBasePlotter.add_mesh\u001b[1;34m(self, mesh, color, style, scalars, clim, show_edges, edge_color, point_size, line_width, opacity, flip_scalars, lighting, n_colors, interpolate_before_map, cmap, label, reset_camera, scalar_bar_args, show_scalar_bar, multi_colors, name, texture, render_points_as_spheres, render_lines_as_tubes, smooth_shading, split_sharp_edges, ambient, diffuse, specular, specular_power, nan_color, nan_opacity, culling, rgb, categories, silhouette, use_transparency, below_color, above_color, annotations, pickable, preference, log_scale, pbr, metallic, roughness, render, user_matrix, component, emissive, copy_mesh, backface_params, show_vertices, edge_opacity, **kwargs)\u001b[0m\n\u001b[0;32m   3511\u001b[0m         \u001b[38;5;28;01mraise\u001b[39;00m \u001b[38;5;167;01mValueError\u001b[39;00m(\u001b[38;5;124m'\u001b[39m\u001b[38;5;124mRGB array must be n_points/n_cells by 3/4 in shape.\u001b[39m\u001b[38;5;124m'\u001b[39m)\n\u001b[0;32m   3513\u001b[0m \u001b[38;5;28;01mif\u001b[39;00m algo \u001b[38;5;129;01mis\u001b[39;00m \u001b[38;5;28;01mNone\u001b[39;00m \u001b[38;5;129;01mand\u001b[39;00m \u001b[38;5;129;01mnot\u001b[39;00m \u001b[38;5;28mself\u001b[39m\u001b[38;5;241m.\u001b[39mtheme\u001b[38;5;241m.\u001b[39mallow_empty_mesh \u001b[38;5;129;01mand\u001b[39;00m \u001b[38;5;129;01mnot\u001b[39;00m mesh\u001b[38;5;241m.\u001b[39mn_points:\n\u001b[0;32m   3514\u001b[0m     \u001b[38;5;66;03m# Algorithms may initialize with an empty mesh\u001b[39;00m\n\u001b[1;32m-> 3515\u001b[0m     \u001b[38;5;28;01mraise\u001b[39;00m \u001b[38;5;167;01mValueError\u001b[39;00m(\n\u001b[0;32m   3516\u001b[0m         \u001b[38;5;124m'\u001b[39m\u001b[38;5;124mEmpty meshes cannot be plotted. Input mesh has zero points. To allow plotting empty meshes, set `pv.global_theme.allow_empty_mesh = True`\u001b[39m\u001b[38;5;124m'\u001b[39m\n\u001b[0;32m   3517\u001b[0m     )\n\u001b[0;32m   3519\u001b[0m \u001b[38;5;66;03m# set main values\u001b[39;00m\n\u001b[0;32m   3520\u001b[0m \u001b[38;5;28mself\u001b[39m\u001b[38;5;241m.\u001b[39mmesh \u001b[38;5;241m=\u001b[39m mesh\n",
      "\u001b[1;31mValueError\u001b[0m: Empty meshes cannot be plotted. Input mesh has zero points. To allow plotting empty meshes, set `pv.global_theme.allow_empty_mesh = True`"
     ]
    }
   ],
   "source": [
    "sumFilm = np.sum(testEtch.film, axis=-1)\n",
    "\n",
    "depo1 = torch.Tensor(np.logical_and(sumFilm[:, :, :,]!=10, sumFilm[:, :, :,]!=0)).to_sparse()\n",
    "depo1 = depo1.indices().numpy().T\n",
    "\n",
    "substrute = torch.Tensor(sumFilm[:, :, :,]==10).to_sparse()\n",
    "substrute = substrute.indices().numpy().T\n",
    "depomesh = pv.PolyData(depo1)\n",
    "depomesh[\"radius\"] = np.ones(depo1.shape[0])*0.5\n",
    "geom = pv.Box()\n",
    "\n",
    "submesh = pv.PolyData(substrute)\n",
    "submesh[\"radius\"] = np.ones(substrute.shape[0])*0.5\n",
    "\n",
    "# Progress bar is a new feature on master branch\n",
    "depoglyphed = depomesh.glyph(scale=\"radius\", geom=geom) # progress_bar=True)\n",
    "subglyphed = submesh.glyph(scale=\"radius\", geom=geom) # progress_bar=True)\n",
    "\n",
    "p = pv.Plotter()\n",
    "p.add_mesh(depoglyphed, color='cyan')\n",
    "p.add_mesh(subglyphed, color='dimgray')\n",
    "p.enable_eye_dome_lighting()\n",
    "p.show()"
   ]
  },
  {
   "cell_type": "code",
   "execution_count": null,
   "metadata": {},
   "outputs": [
    {
     "data": {
      "text/plain": [
       "(7000000, 10)"
      ]
     },
     "execution_count": 7,
     "metadata": {},
     "output_type": "execute_result"
    }
   ],
   "source": [
    "testEtch.parcel.shape"
   ]
  },
  {
   "cell_type": "code",
   "execution_count": null,
   "metadata": {},
   "outputs": [
    {
     "data": {
      "text/plain": [
       "array([161.24791799,  84.77586652, -82.53676749,   0.80623615,\n",
       "         0.42387643,  -0.4126888 ,  68.        ,  58.        ,\n",
       "        99.        ,   1.        ])"
      ]
     },
     "execution_count": 14,
     "metadata": {},
     "output_type": "execute_result"
    }
   ],
   "source": [
    "testEtch.parcel[106]"
   ]
  },
  {
   "cell_type": "code",
   "execution_count": null,
   "metadata": {},
   "outputs": [
    {
     "name": "stdout",
     "output_type": "stream",
     "text": [
      "[ 1.29022179e+02  1.60886601e+01 -1.53281836e+02  6.41898233e-01\n",
      "  8.00382431e-02 -7.62601166e-01  6.30000000e+01  9.70000000e+01\n",
      "  9.90000000e+01  1.00000000e+00]\n"
     ]
    }
   ],
   "source": [
    "testEtch.parcel[100, :3] += testEtch.parcel[100, 3:6] \n",
    "print(testEtch.parcel[100])"
   ]
  },
  {
   "cell_type": "code",
   "execution_count": null,
   "metadata": {},
   "outputs": [
    {
     "data": {
      "text/plain": [
       "array([97, 98, 95, 98, 97, 98, 99, 99, 97, 99, 97, 99, 97, 95, 96, 97, 99,\n",
       "       96, 97, 99, 95, 95, 99, 98, 95, 98, 96, 96, 97, 99, 97, 97, 97, 95,\n",
       "       97, 97, 98, 96, 97, 98, 97, 96, 99, 97, 97, 95, 96, 99, 96, 98, 96,\n",
       "       95, 99, 99, 96, 95, 97, 97, 96, 95, 95, 98, 95, 98, 95, 96, 98, 96,\n",
       "       99, 98, 98, 97, 96, 99, 97, 96, 97, 96, 97, 98, 95, 99, 95, 99, 97,\n",
       "       97, 98, 95, 99, 95, 97, 99, 97, 97, 96, 96, 95, 96, 95, 99, 96, 98,\n",
       "       98, 95, 95, 99, 98, 97, 97, 96, 99, 98, 99, 97, 99, 95, 97, 98, 95,\n",
       "       99, 95, 98, 96, 95, 98, 96, 96, 97, 97, 96, 97, 98, 97, 96, 99, 97,\n",
       "       96, 97, 99, 99, 95, 96, 97, 98, 99, 95, 95, 97, 95, 98, 95, 99, 95,\n",
       "       96, 99, 95, 98, 95, 97, 96, 95, 96, 97, 97, 99, 97, 98, 98, 99, 98,\n",
       "       95, 97, 98, 98, 95, 97, 95, 97, 97, 99, 95, 99, 97, 98, 95, 96, 98,\n",
       "       99, 96, 99, 98, 96, 99, 95, 95, 98, 98, 99, 99, 95, 95, 98, 99, 97,\n",
       "       99, 99, 95, 98, 98, 98, 99, 97, 96, 97, 99, 96, 99, 95, 97, 96, 97,\n",
       "       99, 96, 97, 96, 96, 97, 99, 99, 95, 95, 95, 97, 98, 96, 96, 98, 95,\n",
       "       99, 98, 99, 95, 96, 99, 99, 99, 97, 96, 98, 97, 99, 97, 98, 95, 95,\n",
       "       96, 97, 98, 96, 96, 97, 97, 96, 96, 96, 98, 98, 97, 95, 99, 97, 95,\n",
       "       96, 95, 98, 97, 97, 98, 97, 98, 96, 97, 99, 97, 97, 98, 99, 97, 98,\n",
       "       98, 95, 96, 96, 99, 98, 95, 97, 96, 96, 97, 97, 98, 96, 98, 98, 98,\n",
       "       95, 99, 98, 98, 98, 96, 99, 95, 97, 95, 98, 99, 95, 95, 99, 97, 96,\n",
       "       96, 99, 97, 95, 99, 97, 96, 98, 98, 95, 95, 99, 99, 95, 98, 98, 99,\n",
       "       99, 99, 97, 99, 99, 98, 95, 97, 96, 99, 97, 97, 96, 96, 99, 95, 97,\n",
       "       96, 97, 98, 98, 98, 95, 98, 99, 99, 98, 97, 98, 96, 98, 95, 95, 95,\n",
       "       98, 97, 96, 95, 95, 98, 96, 96, 99, 96, 99, 99, 95, 95, 99, 98, 98,\n",
       "       98, 96, 97, 96, 95, 99, 99, 95, 99, 95, 96, 99, 96, 95, 95, 99, 96,\n",
       "       96, 97, 98, 95, 97, 96, 98, 96, 98, 99, 96, 95, 96, 98, 98, 98, 97,\n",
       "       95, 95, 98, 98, 97, 95, 98, 99, 96, 99, 97, 95, 95, 95, 96, 99, 96,\n",
       "       96, 99, 98, 97, 95, 97, 96, 96, 95, 96, 99, 96, 98, 95, 96, 95, 99,\n",
       "       99, 96, 97, 95, 98, 99, 97, 97, 95, 99, 97, 99, 95, 95, 98, 95, 99,\n",
       "       96, 95, 96, 98, 97, 97, 98, 95, 99, 99, 98, 96, 98, 99, 99, 95, 97,\n",
       "       99, 97, 98, 95, 96, 95, 95, 97, 99, 96, 96, 97, 95, 98, 95, 95, 98,\n",
       "       96, 96, 98, 95, 95, 99, 95, 98, 99, 98, 98, 96, 99, 99, 97, 98, 96,\n",
       "       97, 95, 96, 99, 99, 99, 99, 96, 95, 97, 96, 95, 96, 97, 96, 95, 96,\n",
       "       98, 97, 98, 96, 95, 99, 97, 95, 97, 95, 95, 97, 96, 99, 95, 99, 97,\n",
       "       96, 99, 99, 98, 96, 95, 96, 98, 95, 96, 99, 96, 99, 98, 99, 99, 98,\n",
       "       97, 98, 96, 96, 98, 99, 99, 99, 97, 98, 95, 96, 96, 95, 96, 96, 99,\n",
       "       97, 97, 98, 97, 95, 96, 98, 96, 98, 98, 97, 96, 99, 97, 96, 99, 96,\n",
       "       97, 95, 98, 96, 99, 98, 99, 96, 96, 98, 95, 99, 98, 99, 95, 99, 97,\n",
       "       99, 97, 97, 98, 97, 97, 97, 97, 98, 95, 97, 97, 98, 95, 95, 98, 95,\n",
       "       97, 98, 95, 97, 97, 96, 99, 96, 98, 98, 99, 96, 99, 95, 99, 99, 97,\n",
       "       95, 96, 97, 96, 99, 96, 96, 95, 99, 97, 99, 96, 95, 97, 99, 95, 99,\n",
       "       97, 99, 98, 96, 95, 95, 97, 95, 97, 98, 95, 98, 95, 95, 96, 98, 97,\n",
       "       95, 98, 98, 97, 96, 96, 99, 95, 98, 95, 99, 96, 97, 95, 99, 98, 96,\n",
       "       95, 96, 98, 96, 96, 96, 99, 97, 96, 95, 96, 96, 97, 98, 96, 97, 95,\n",
       "       98, 98, 97, 95, 96, 95, 98, 97, 99, 98, 96, 99, 96, 99, 95, 96, 95,\n",
       "       97, 96, 95, 98, 96, 97, 98, 96, 96, 98, 98, 97, 99, 98, 99, 95, 98,\n",
       "       96, 96, 99, 98, 95, 95, 98, 95, 98, 96, 99, 99, 97, 97, 95, 98, 97,\n",
       "       96, 99, 96, 97, 96, 99, 98, 99, 98, 99, 97, 99, 96, 97, 98, 96, 95,\n",
       "       99, 96, 95, 95, 98, 97, 99, 99, 99, 98, 96, 99, 97, 95, 98, 95, 97,\n",
       "       96, 95, 96, 98, 96, 99, 99, 99, 99, 97, 97, 95, 96, 98, 97, 98, 98,\n",
       "       99, 97, 99, 98, 98, 95, 99, 97, 99, 95, 97, 98, 96, 97, 97, 96, 98,\n",
       "       98, 97, 97, 99, 95, 95, 99, 97, 97, 96, 98, 99, 99, 99, 95, 99, 95,\n",
       "       98, 97, 96, 95, 98, 98, 98, 97, 95, 95, 96, 97, 97, 97, 98, 96, 99,\n",
       "       97, 98, 95, 95, 99, 99, 95, 95, 96, 97, 98, 96, 95, 99, 99, 97, 99,\n",
       "       99, 99, 98, 99, 95, 99, 97, 99, 96, 95, 95, 98, 99, 98, 95, 97, 96,\n",
       "       95, 97, 97, 95, 96, 95, 98, 96, 98, 95, 95, 95, 98, 95, 97, 97, 98,\n",
       "       97, 96, 96, 97, 95, 97, 98, 97, 98, 99, 98, 99, 98, 95, 96, 96, 96,\n",
       "       99, 97, 97, 95, 95, 98, 95, 97, 97, 95, 98, 97, 98, 99, 98, 98, 97,\n",
       "       99, 98, 96, 97, 98, 99, 95, 96, 97, 97, 95, 95, 95, 95, 97, 95, 95,\n",
       "       95, 97, 96, 96, 96, 97, 97, 96, 98, 97, 97, 95, 99, 95])"
      ]
     },
     "execution_count": 10,
     "metadata": {},
     "output_type": "execute_result"
    }
   ],
   "source": [
    "testEtch.parcel[10000:11000][:,8].astype(int)\n"
   ]
  },
  {
   "cell_type": "code",
   "execution_count": null,
   "metadata": {},
   "outputs": [],
   "source": []
  }
 ],
 "metadata": {
  "kernelspec": {
   "display_name": "Python 3",
   "language": "python",
   "name": "python3"
  },
  "language_info": {
   "codemirror_mode": {
    "name": "ipython",
    "version": 3
   },
   "file_extension": ".py",
   "mimetype": "text/x-python",
   "name": "python",
   "nbconvert_exporter": "python",
   "pygments_lexer": "ipython3",
   "version": "3.12.5"
  }
 },
 "nbformat": 4,
 "nbformat_minor": 2
}

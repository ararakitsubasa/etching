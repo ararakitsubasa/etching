{
 "cells": [
  {
   "cell_type": "code",
   "execution_count": 1,
   "metadata": {},
   "outputs": [],
   "source": [
    "import numpy as np\n",
    "import time as Time\n",
    "from numba import jit\n",
    "import matplotlib.pyplot as plt\n",
    "import pyvista as pv\n",
    "import torch"
   ]
  },
  {
   "cell_type": "code",
   "execution_count": 2,
   "metadata": {},
   "outputs": [],
   "source": [
    "#solid = film[i, j, k, 10][Si, SiF1, SiF2, SiF3, SiO SiO2, SiOF, SiOF2, SiO2F, SiO2F2]\n",
    "#react_t g[F, O, ion] s  [1,          2,           3,          4,       5 ,   6,    7,    8,   9,  10]\n",
    "#react_t g[F, O, ion] s  [Si,       SiF1,       SiF2,       SiF3,      SiO, SiO2, SiOF, SiOF2, SiO2F,SiO2F2]\n",
    "\n",
    "\n",
    "film = np.zeros((50, 50, 100, 10))\n",
    "\n",
    "bottom = 60\n",
    "film[:, :, 0:bottom, 0] = 5 # bottom\n",
    "\n",
    "height = 85\n",
    "\n",
    "film[:, :20, bottom:height, 5] = 5\n",
    "film[:, 30:, bottom:height, 5] = 5\n"
   ]
  },
  {
   "cell_type": "code",
   "execution_count": 3,
   "metadata": {},
   "outputs": [
    {
     "name": "stdout",
     "output_type": "stream",
     "text": [
      "(50, 50, 100)\n"
     ]
    }
   ],
   "source": [
    "sumFilm = np.sum(film, axis=-1)\n",
    "\n",
    "print(sumFilm.shape)"
   ]
  },
  {
   "cell_type": "code",
   "execution_count": 4,
   "metadata": {},
   "outputs": [
    {
     "name": "stderr",
     "output_type": "stream",
     "text": [
      "l:\\program\\Lib\\site-packages\\pyvista\\core\\utilities\\points.py:52: UserWarning: Points is not a float type. This can cause issues when transforming or applying filters. Casting to ``np.float32``. Disable this by passing ``force_float=False``.\n",
      "  warnings.warn(\n",
      "l:\\program\\Lib\\site-packages\\pyvista\\core\\filters\\data_set.py:2320: UserWarning: No vector-like data to use for orient. orient will be set to False.\n",
      "  warnings.warn(\"No vector-like data to use for orient. orient will be set to False.\")\n"
     ]
    },
    {
     "data": {
      "application/vnd.jupyter.widget-view+json": {
       "model_id": "4096bc68b7f64668ab0c01599ffee93b",
       "version_major": 2,
       "version_minor": 0
      },
      "text/plain": [
       "Widget(value='<iframe src=\"http://localhost:61008/index.html?ui=P_0x1a0979248d0_0&reconnect=auto\" class=\"pyvis…"
      ]
     },
     "metadata": {},
     "output_type": "display_data"
    }
   ],
   "source": [
    "# film = np.sum(etching[0], axis=-1)\n",
    "\n",
    "depo1 = torch.Tensor(film[:, :, :, 5]!=0).to_sparse()\n",
    "depo1 = depo1.indices().numpy().T\n",
    "\n",
    "substrute = torch.Tensor(film[:, :, :,0]!=0).to_sparse()\n",
    "substrute = substrute.indices().numpy().T\n",
    "depomesh = pv.PolyData(depo1)\n",
    "depomesh[\"radius\"] = np.ones(depo1.shape[0])*0.5\n",
    "geom = pv.Box()\n",
    "\n",
    "submesh = pv.PolyData(substrute)\n",
    "submesh[\"radius\"] = np.ones(substrute.shape[0])*0.5\n",
    "\n",
    "# Progress bar is a new feature on master branch\n",
    "depoglyphed = depomesh.glyph(scale=\"radius\", geom=geom) # progress_bar=True)\n",
    "subglyphed = submesh.glyph(scale=\"radius\", geom=geom) # progress_bar=True)\n",
    "\n",
    "p = pv.Plotter()\n",
    "p.add_mesh(depoglyphed, color='cyan')\n",
    "p.add_mesh(subglyphed, color='dimgray')\n",
    "p.enable_eye_dome_lighting()\n",
    "p.show()"
   ]
  },
  {
   "cell_type": "code",
   "execution_count": 5,
   "metadata": {},
   "outputs": [],
   "source": [
    "etchfilm = film"
   ]
  },
  {
   "cell_type": "code",
   "execution_count": 6,
   "metadata": {},
   "outputs": [],
   "source": [
    "import Multi_Species_SF_etching"
   ]
  },
  {
   "cell_type": "code",
   "execution_count": 7,
   "metadata": {},
   "outputs": [],
   "source": [
    "logname = 'Multi_species_benchmark_0729'\n",
    "testEtch = Multi_Species_SF_etching.etching(mirror=True,inputMethod='bunch', pressure_pa=0.001, temperature=300, chamberSize=etchfilm.shape,\n",
    "                                         depoThick=90, center_with_direction=np.array([[35,100,75]]), \n",
    "                                         range3D=np.array([[0, 70, 0, 100, 0, 150]]), InOrOut=[1], yield_hist=np.array([None]),\n",
    "                                        reaction_type=False, param = [1.6, -0.7], N = 300000, \n",
    "                                        sub_xy=[0,0], film=etchfilm, n=1, cellSize=etchfilm.shape, \n",
    "                                        celllength=1e-5, kdtreeN=5, tstep=1e-5,\n",
    "                                        substrateTop=40,posGeneratorType='top', logname=logname)\n",
    "\n",
    "\n",
    "# etching = testEtch.depo_position_increase_cosVel_normal(125, int(7e6), 2e-3, 5)\n"
   ]
  },
  {
   "cell_type": "code",
   "execution_count": 8,
   "metadata": {},
   "outputs": [],
   "source": [
    "T = 300\n",
    "Cm = (2*1.380649e-23*T/(27*1.66e-27) )**0.5 # (2kT/m)**0.5 27 for the Al\n",
    "\n",
    "def max_velocity_u( random1, random2):\n",
    "    return Cm*np.sqrt(-np.log(random1))*(np.cos(2*np.pi*random2))\n",
    "\n",
    "def max_velocity_w( random1, random2):\n",
    "    return Cm*np.sqrt(-np.log(random1))*(np.sin(2*np.pi*random2))\n",
    "\n",
    "def max_velocity_v( random3):\n",
    "    return -Cm*np.sqrt(-np.log(random3))"
   ]
  },
  {
   "cell_type": "code",
   "execution_count": 9,
   "metadata": {},
   "outputs": [
    {
     "name": "stdout",
     "output_type": "stream",
     "text": [
      "[[-3.83421950e-01 -7.42870541e-01 -5.48754014e-01  0.00000000e+00]\n",
      " [ 2.97492882e-04  1.61770002e-04 -1.00000000e+00  2.00000000e+00]\n",
      " [-5.68167637e-01  2.02830926e-01 -7.97524390e-01  0.00000000e+00]\n",
      " [ 7.21600010e-05  5.74916343e-04 -1.00000000e+00  2.00000000e+00]\n",
      " [ 2.60097669e-01  6.73160168e-02 -9.63232971e-01  0.00000000e+00]\n",
      " [-4.45273448e-01  5.62078865e-01 -6.96992759e-01  0.00000000e+00]\n",
      " [-4.11819857e-01  3.40019256e-01 -8.45453317e-01  1.00000000e+00]\n",
      " [-7.50535974e-01 -9.20461328e-02 -6.54387700e-01  0.00000000e+00]\n",
      " [ 2.72670399e-01  6.46360287e-01 -7.12649446e-01  0.00000000e+00]\n",
      " [ 9.08617326e-04  1.17445708e-04 -1.00000000e+00  2.00000000e+00]]\n"
     ]
    }
   ],
   "source": [
    "N = int(1e7)\n",
    "velosity_matrix = np.zeros((N, 3))\n",
    "tstep=1e-5\n",
    "celllength=1e-5\n",
    "# velosity_matrix[:, 0] = -1 * celllength /tstep\n",
    "# velosity_matrix[:, 1] = -1 * celllength /tstep\n",
    "Random1 = np.random.rand(N)\n",
    "Random2 = np.random.rand(N)\n",
    "Random3 = np.random.rand(N)\n",
    "velosity_matrix = np.array([max_velocity_u(Random1, Random2), \\\n",
    "                            max_velocity_w(Random1, Random2), \\\n",
    "                                max_velocity_v(Random3)]).T\n",
    "\n",
    "energy = np.linalg.norm(velosity_matrix, axis=1)\n",
    "velosity_matrix[:,0] = np.divide(velosity_matrix[:,0], energy)\n",
    "velosity_matrix[:,1] = np.divide(velosity_matrix[:,1], energy)\n",
    "velosity_matrix[:,2] = np.divide(velosity_matrix[:,2], energy)\n",
    "\n",
    "# velosity_matrix[:, 2] = -1 * celllength /tstep\n",
    "\n",
    "typeID = np.zeros(N)\n",
    "FO_ratio = int(N/2)\n",
    "typeID[-FO_ratio:] = 1\n",
    "\n",
    "ion_ration = int(N/4)\n",
    "typeID[-ion_ration:] = 2\n",
    "velosity_matrix[-ion_ration:, 0] = np.random.rand(ion_ration)*0.001\n",
    "velosity_matrix[-ion_ration:, 1] = np.random.rand(ion_ration)*0.001\n",
    "velosity_matrix[-ion_ration:, 2] = -1 \n",
    "\n",
    "vel_type_shuffle = np.zeros((N, 4))\n",
    "vel_type_shuffle[:, :3] = velosity_matrix\n",
    "vel_type_shuffle[:, -1] = typeID\n",
    "\n",
    "np.random.shuffle(vel_type_shuffle)\n",
    "# print(typeID[:10])\n",
    "# print(velosity_matrix[0])\n",
    "print(vel_type_shuffle[:10])"
   ]
  },
  {
   "cell_type": "code",
   "execution_count": 10,
   "metadata": {},
   "outputs": [
    {
     "name": "stderr",
     "output_type": "stream",
     "text": [
      "running:   2%|█                                                    | 2.00/100 [00:00<00:40, 2.43B/s]"
     ]
    },
    {
     "name": "stdout",
     "output_type": "stream",
     "text": [
      "get plane (506, 3)\n",
      "i[indice_inject] (506,)\n",
      "get plane [31  2 84]\n",
      "i[indice_inject] 31\n",
      "j[indice_inject] 2\n",
      "k[indice_inject] 84\n",
      "get plane (1610, 3)\n",
      "i[indice_inject] (1610,)\n",
      "get plane [43 44 84]\n",
      "i[indice_inject] 43\n",
      "j[indice_inject] 44\n",
      "k[indice_inject] 84\n",
      "get plane (3004, 3)\n",
      "i[indice_inject] (3004,)\n",
      "get plane [10 15 84]\n",
      "i[indice_inject] 10\n",
      "j[indice_inject] 15\n",
      "k[indice_inject] 84\n"
     ]
    },
    {
     "name": "stderr",
     "output_type": "stream",
     "text": [
      "running:   3%|█▌                                                   | 3.00/100 [00:04<03:20, 2.07s/B]"
     ]
    },
    {
     "name": "stdout",
     "output_type": "stream",
     "text": [
      "get plane (4725, 3)\n",
      "i[indice_inject] (4725,)\n",
      "get plane [ 7  9 84]\n",
      "i[indice_inject] 7\n",
      "j[indice_inject] 9\n",
      "k[indice_inject] 84\n",
      "get plane (6668, 3)\n",
      "i[indice_inject] (6668,)\n",
      "get plane [45 43 84]\n",
      "i[indice_inject] 45\n",
      "j[indice_inject] 43\n",
      "k[indice_inject] 84\n",
      "get plane (7606, 3)\n",
      "i[indice_inject] (7606,)\n",
      "get plane [39 30 84]\n",
      "i[indice_inject] 39\n",
      "j[indice_inject] 30\n",
      "k[indice_inject] 84\n",
      "get plane (8564, 3)\n",
      "i[indice_inject] (8564,)\n",
      "get plane [ 1 11 84]\n",
      "i[indice_inject] 1\n",
      "j[indice_inject] 11\n",
      "k[indice_inject] 84\n",
      "get plane (9259, 3)\n",
      "i[indice_inject] (9259,)\n",
      "get plane [21  9 84]\n",
      "i[indice_inject] 21\n",
      "j[indice_inject] 9\n",
      "k[indice_inject] 84\n"
     ]
    },
    {
     "name": "stderr",
     "output_type": "stream",
     "text": [
      "running:   4%|██                                                   | 4.00/100 [00:05<02:40, 1.67s/B]"
     ]
    },
    {
     "name": "stdout",
     "output_type": "stream",
     "text": [
      "get plane (9964, 3)\n",
      "i[indice_inject] (9964,)\n",
      "get plane [42 31 84]\n",
      "i[indice_inject] 42\n",
      "j[indice_inject] 31\n",
      "k[indice_inject] 84\n",
      "get plane (10323, 3)\n",
      "i[indice_inject] (10323,)\n",
      "get plane [18 38 84]\n",
      "i[indice_inject] 18\n",
      "j[indice_inject] 38\n",
      "k[indice_inject] 84\n",
      "get plane (10464, 3)\n",
      "i[indice_inject] (10464,)\n",
      "get plane [17 31 84]\n",
      "i[indice_inject] 17\n",
      "j[indice_inject] 31\n",
      "k[indice_inject] 84\n",
      "get plane (10851, 3)\n",
      "i[indice_inject] (10851,)\n",
      "get plane [17 30 84]\n",
      "i[indice_inject] 17\n",
      "j[indice_inject] 30\n",
      "k[indice_inject] 84\n",
      "get plane (11631, 3)\n",
      "i[indice_inject] (11631,)\n",
      "get plane [17 30 83]\n",
      "i[indice_inject] 17\n",
      "j[indice_inject] 31\n",
      "k[indice_inject] 83\n"
     ]
    },
    {
     "name": "stderr",
     "output_type": "stream",
     "text": [
      "running:   5%|██▋                                                  | 5.00/100 [00:07<02:23, 1.51s/B]"
     ]
    },
    {
     "name": "stdout",
     "output_type": "stream",
     "text": [
      "get plane (11710, 3)\n",
      "i[indice_inject] (11710,)\n",
      "get plane [16 30 82]\n",
      "i[indice_inject] 16\n",
      "j[indice_inject] 30\n",
      "k[indice_inject] 82\n",
      "get plane (12107, 3)\n",
      "i[indice_inject] (12107,)\n",
      "get plane [16 30 82]\n",
      "i[indice_inject] 16\n",
      "j[indice_inject] 31\n",
      "k[indice_inject] 82\n",
      "get plane (12159, 3)\n",
      "i[indice_inject] (12159,)\n",
      "get plane [16 30 81]\n",
      "i[indice_inject] 16\n",
      "j[indice_inject] 30\n",
      "k[indice_inject] 81\n",
      "get plane (12467, 3)\n",
      "i[indice_inject] (12467,)\n",
      "get plane [15 30 80]\n",
      "i[indice_inject] 15\n",
      "j[indice_inject] 31\n",
      "k[indice_inject] 80\n",
      "get plane (12609, 3)\n",
      "i[indice_inject] (12609,)\n",
      "get plane [15 30 79]\n",
      "i[indice_inject] 15\n",
      "j[indice_inject] 30\n",
      "k[indice_inject] 79\n"
     ]
    },
    {
     "name": "stderr",
     "output_type": "stream",
     "text": [
      "running:   6%|███▏                                                 | 6.00/100 [00:08<02:16, 1.45s/B]"
     ]
    },
    {
     "name": "stdout",
     "output_type": "stream",
     "text": [
      "get plane (12760, 3)\n",
      "i[indice_inject] (12760,)\n",
      "get plane [15 30 79]\n",
      "i[indice_inject] 15\n",
      "j[indice_inject] 31\n",
      "k[indice_inject] 79\n",
      "get plane (13017, 3)\n",
      "i[indice_inject] (13017,)\n",
      "get plane [14 30 78]\n",
      "i[indice_inject] 14\n",
      "j[indice_inject] 30\n",
      "k[indice_inject] 78\n",
      "get plane (13153, 3)\n",
      "i[indice_inject] (13153,)\n",
      "get plane [14 30 77]\n",
      "i[indice_inject] 14\n",
      "j[indice_inject] 31\n",
      "k[indice_inject] 77\n",
      "get plane (13360, 3)\n",
      "i[indice_inject] (13360,)\n",
      "get plane [14 30 76]\n",
      "i[indice_inject] 14\n",
      "j[indice_inject] 30\n",
      "k[indice_inject] 76\n",
      "get plane (13547, 3)\n",
      "i[indice_inject] (13547,)\n",
      "get plane [13 30 76]\n",
      "i[indice_inject] 13\n",
      "j[indice_inject] 31\n",
      "k[indice_inject] 76\n"
     ]
    },
    {
     "name": "stderr",
     "output_type": "stream",
     "text": [
      "running:   7%|███▋                                                 | 7.00/100 [00:09<02:14, 1.45s/B]"
     ]
    },
    {
     "name": "stdout",
     "output_type": "stream",
     "text": [
      "get plane (13471, 3)\n",
      "i[indice_inject] (13471,)\n",
      "get plane [13 30 75]\n",
      "i[indice_inject] 13\n",
      "j[indice_inject] 30\n",
      "k[indice_inject] 75\n",
      "get plane (13848, 3)\n",
      "i[indice_inject] (13848,)\n",
      "get plane [13 30 74]\n",
      "i[indice_inject] 13\n",
      "j[indice_inject] 31\n",
      "k[indice_inject] 74\n",
      "get plane (14082, 3)\n",
      "i[indice_inject] (14082,)\n",
      "get plane [12 30 73]\n",
      "i[indice_inject] 12\n",
      "j[indice_inject] 30\n",
      "k[indice_inject] 73\n",
      "get plane (14629, 3)\n",
      "i[indice_inject] (14629,)\n",
      "get plane [12 30 73]\n",
      "i[indice_inject] 12\n",
      "j[indice_inject] 31\n",
      "k[indice_inject] 73\n",
      "get plane (15057, 3)\n",
      "i[indice_inject] (15057,)\n",
      "get plane [12 30 72]\n",
      "i[indice_inject] 12\n",
      "j[indice_inject] 30\n",
      "k[indice_inject] 72\n"
     ]
    },
    {
     "name": "stderr",
     "output_type": "stream",
     "text": [
      "running:   8%|████▏                                                | 8.00/100 [00:11<02:14, 1.46s/B]"
     ]
    },
    {
     "name": "stdout",
     "output_type": "stream",
     "text": [
      "get plane (15621, 3)\n",
      "i[indice_inject] (15621,)\n",
      "get plane [11 30 71]\n",
      "i[indice_inject] 11\n",
      "j[indice_inject] 31\n",
      "k[indice_inject] 71\n",
      "get plane (15806, 3)\n",
      "i[indice_inject] (15806,)\n",
      "get plane [11 30 70]\n",
      "i[indice_inject] 11\n",
      "j[indice_inject] 30\n",
      "k[indice_inject] 70\n",
      "get plane (16501, 3)\n",
      "i[indice_inject] (16501,)\n",
      "get plane [11 30 70]\n",
      "i[indice_inject] 11\n",
      "j[indice_inject] 31\n",
      "k[indice_inject] 70\n",
      "get plane (16884, 3)\n",
      "i[indice_inject] (16884,)\n",
      "get plane [10 30 69]\n",
      "i[indice_inject] 10\n",
      "j[indice_inject] 30\n",
      "k[indice_inject] 69\n",
      "get plane (17138, 3)\n",
      "i[indice_inject] (17138,)\n",
      "get plane [10 30 68]\n",
      "i[indice_inject] 10\n",
      "j[indice_inject] 31\n",
      "k[indice_inject] 68\n",
      "get plane (17051, 3)\n",
      "i[indice_inject] (17051,)\n",
      "get plane [10 30 67]\n",
      "i[indice_inject] 10\n",
      "j[indice_inject] 30\n",
      "k[indice_inject] 67\n"
     ]
    },
    {
     "name": "stderr",
     "output_type": "stream",
     "text": [
      "running:   9%|████▊                                                | 9.00/100 [00:12<02:14, 1.48s/B]"
     ]
    },
    {
     "name": "stdout",
     "output_type": "stream",
     "text": [
      "get plane (17212, 3)\n",
      "i[indice_inject] (17212,)\n",
      "get plane [ 9 30 67]\n",
      "i[indice_inject] 9\n",
      "j[indice_inject] 31\n",
      "k[indice_inject] 67\n",
      "get plane (17341, 3)\n",
      "i[indice_inject] (17341,)\n",
      "get plane [ 9 30 66]\n",
      "i[indice_inject] 9\n",
      "j[indice_inject] 30\n",
      "k[indice_inject] 66\n",
      "get plane (17530, 3)\n",
      "i[indice_inject] (17530,)\n",
      "get plane [ 9 30 65]\n",
      "i[indice_inject] 9\n",
      "j[indice_inject] 31\n",
      "k[indice_inject] 65\n",
      "get plane (17405, 3)\n",
      "i[indice_inject] (17405,)\n",
      "get plane [ 9 30 64]\n",
      "i[indice_inject] 9\n",
      "j[indice_inject] 30\n",
      "k[indice_inject] 64\n",
      "get plane (17363, 3)\n",
      "i[indice_inject] (17363,)\n",
      "get plane [ 8 30 64]\n",
      "i[indice_inject] 8\n",
      "j[indice_inject] 31\n",
      "k[indice_inject] 64\n"
     ]
    },
    {
     "name": "stderr",
     "output_type": "stream",
     "text": [
      "running:  10%|█████▎                                               | 10.0/100 [00:14<02:15, 1.50s/B]"
     ]
    },
    {
     "name": "stdout",
     "output_type": "stream",
     "text": [
      "get plane (17386, 3)\n",
      "i[indice_inject] (17386,)\n",
      "get plane [ 8 30 63]\n",
      "i[indice_inject] 8\n",
      "j[indice_inject] 30\n",
      "k[indice_inject] 63\n",
      "get plane (17537, 3)\n",
      "i[indice_inject] (17537,)\n",
      "get plane [ 8 30 62]\n",
      "i[indice_inject] 8\n",
      "j[indice_inject] 31\n",
      "k[indice_inject] 62\n",
      "get plane (17709, 3)\n",
      "i[indice_inject] (17709,)\n",
      "get plane [ 7 30 61]\n",
      "i[indice_inject] 7\n",
      "j[indice_inject] 30\n",
      "k[indice_inject] 61\n",
      "get plane (17727, 3)\n",
      "i[indice_inject] (17727,)\n",
      "get plane [ 7 30 61]\n",
      "i[indice_inject] 7\n",
      "j[indice_inject] 30\n",
      "k[indice_inject] 61\n",
      "get plane (17815, 3)\n",
      "i[indice_inject] (17815,)\n",
      "get plane [ 7 30 60]\n",
      "i[indice_inject] 7\n",
      "j[indice_inject] 30\n",
      "k[indice_inject] 60\n"
     ]
    },
    {
     "name": "stderr",
     "output_type": "stream",
     "text": [
      "running:  11%|█████▊                                               | 11.0/100 [00:16<02:17, 1.54s/B]"
     ]
    },
    {
     "name": "stdout",
     "output_type": "stream",
     "text": [
      "get plane (17732, 3)\n",
      "i[indice_inject] (17732,)\n",
      "get plane [ 6 29 59]\n",
      "i[indice_inject] 6\n",
      "j[indice_inject] 30\n",
      "k[indice_inject] 59\n",
      "get plane (17835, 3)\n",
      "i[indice_inject] (17835,)\n",
      "get plane [ 2 30 62]\n",
      "i[indice_inject] 2\n",
      "j[indice_inject] 30\n",
      "k[indice_inject] 62\n",
      "get plane (17564, 3)\n",
      "i[indice_inject] (17564,)\n",
      "get plane [36 19 71]\n",
      "i[indice_inject] 36\n",
      "j[indice_inject] 19\n",
      "k[indice_inject] 71\n",
      "get plane (17556, 3)\n",
      "i[indice_inject] (17556,)\n",
      "get plane [39 19 69]\n",
      "i[indice_inject] 39\n",
      "j[indice_inject] 19\n",
      "k[indice_inject] 69\n",
      "get plane (17825, 3)\n",
      "i[indice_inject] (17825,)\n",
      "get plane [26 30 63]\n",
      "i[indice_inject] 26\n",
      "j[indice_inject] 30\n",
      "k[indice_inject] 63\n"
     ]
    },
    {
     "name": "stderr",
     "output_type": "stream",
     "text": [
      "running:  12%|██████▎                                              | 12.0/100 [00:17<02:17, 1.57s/B]"
     ]
    },
    {
     "name": "stdout",
     "output_type": "stream",
     "text": [
      "get plane (17616, 3)\n",
      "i[indice_inject] (17616,)\n",
      "get plane [25 19 59]\n",
      "i[indice_inject] 24\n",
      "j[indice_inject] 19\n",
      "k[indice_inject] 59\n",
      "get plane (17812, 3)\n",
      "i[indice_inject] (17812,)\n",
      "get plane [10 19 62]\n",
      "i[indice_inject] 10\n",
      "j[indice_inject] 19\n",
      "k[indice_inject] 62\n",
      "get plane (17654, 3)\n",
      "i[indice_inject] (17654,)\n",
      "get plane [45 24 58]\n",
      "i[indice_inject] 45\n",
      "j[indice_inject] 24\n",
      "k[indice_inject] 58\n",
      "get plane (17728, 3)\n",
      "i[indice_inject] (17728,)\n",
      "get plane [19 19 72]\n",
      "i[indice_inject] 19\n",
      "j[indice_inject] 19\n",
      "k[indice_inject] 72\n",
      "get plane (17357, 3)\n",
      "i[indice_inject] (17357,)\n",
      "get plane [35 27 59]\n",
      "i[indice_inject] 35\n",
      "j[indice_inject] 27\n",
      "k[indice_inject] 59\n"
     ]
    },
    {
     "name": "stderr",
     "output_type": "stream",
     "text": [
      "running:  13%|██████▉                                              | 13.0/100 [00:19<02:18, 1.59s/B]"
     ]
    },
    {
     "name": "stdout",
     "output_type": "stream",
     "text": [
      "get plane (17567, 3)\n",
      "i[indice_inject] (17567,)\n",
      "get plane [45 30 81]\n",
      "i[indice_inject] 45\n",
      "j[indice_inject] 30\n",
      "k[indice_inject] 81\n",
      "get plane (17617, 3)\n",
      "i[indice_inject] (17617,)\n",
      "get plane [36 28 58]\n",
      "i[indice_inject] 36\n",
      "j[indice_inject] 28\n",
      "k[indice_inject] 58\n",
      "get plane (17511, 3)\n",
      "i[indice_inject] (17511,)\n",
      "get plane [49 19 65]\n",
      "i[indice_inject] 49\n",
      "j[indice_inject] 19\n",
      "k[indice_inject] 65\n",
      "get plane (17966, 3)\n",
      "i[indice_inject] (17966,)\n",
      "get plane [38 22 58]\n",
      "i[indice_inject] 38\n",
      "j[indice_inject] 22\n",
      "k[indice_inject] 56\n",
      "get plane (17874, 3)\n",
      "i[indice_inject] (17874,)\n",
      "get plane [49 19 71]\n",
      "i[indice_inject] 49\n",
      "j[indice_inject] 19\n",
      "k[indice_inject] 71\n"
     ]
    },
    {
     "name": "stderr",
     "output_type": "stream",
     "text": [
      "running:  14%|███████▍                                             | 14.0/100 [00:21<02:20, 1.63s/B]"
     ]
    },
    {
     "name": "stdout",
     "output_type": "stream",
     "text": [
      "get plane (17618, 3)\n",
      "i[indice_inject] (17618,)\n",
      "get plane [42 26 58]\n",
      "i[indice_inject] 42\n",
      "j[indice_inject] 26\n",
      "k[indice_inject] 58\n",
      "get plane (17727, 3)\n",
      "i[indice_inject] (17727,)\n",
      "get plane [46 29 58]\n",
      "i[indice_inject] 46\n",
      "j[indice_inject] 29\n",
      "k[indice_inject] 58\n",
      "get plane (17836, 3)\n",
      "i[indice_inject] (17836,)\n",
      "get plane [ 0 19 67]\n",
      "i[indice_inject] 0\n",
      "j[indice_inject] 19\n",
      "k[indice_inject] 67\n",
      "get plane (17873, 3)\n",
      "i[indice_inject] (17873,)\n",
      "get plane [29 30 64]\n",
      "i[indice_inject] 29\n",
      "j[indice_inject] 30\n",
      "k[indice_inject] 64\n",
      "get plane (17998, 3)\n",
      "i[indice_inject] (17998,)\n",
      "get plane [35 20 58]\n",
      "i[indice_inject] 35\n",
      "j[indice_inject] 20\n",
      "k[indice_inject] 58\n"
     ]
    },
    {
     "name": "stderr",
     "output_type": "stream",
     "text": [
      "running:  15%|███████▉                                             | 15.0/100 [00:22<02:19, 1.65s/B]"
     ]
    },
    {
     "name": "stdout",
     "output_type": "stream",
     "text": [
      "get plane (17727, 3)\n",
      "i[indice_inject] (17727,)\n",
      "get plane [35 20 58]\n",
      "i[indice_inject] 35\n",
      "j[indice_inject] 19\n",
      "k[indice_inject] 57\n",
      "get plane (17965, 3)\n",
      "i[indice_inject] (17965,)\n",
      "get plane [17 30 62]\n",
      "i[indice_inject] 17\n",
      "j[indice_inject] 30\n",
      "k[indice_inject] 62\n",
      "get plane (17811, 3)\n",
      "i[indice_inject] (17811,)\n",
      "get plane [26 20 58]\n",
      "i[indice_inject] 26\n",
      "j[indice_inject] 20\n",
      "k[indice_inject] 58\n",
      "get plane (17687, 3)\n",
      "i[indice_inject] (17687,)\n",
      "get plane [25 20 57]\n",
      "i[indice_inject] 25\n",
      "j[indice_inject] 20\n",
      "k[indice_inject] 57\n",
      "get plane (17653, 3)\n",
      "i[indice_inject] (17653,)\n",
      "get plane [25 20 57]\n",
      "i[indice_inject] 24\n",
      "j[indice_inject] 20\n",
      "k[indice_inject] 57\n"
     ]
    },
    {
     "name": "stderr",
     "output_type": "stream",
     "text": [
      "running:  16%|████████▍                                            | 16.0/100 [00:24<02:20, 1.67s/B]"
     ]
    },
    {
     "name": "stdout",
     "output_type": "stream",
     "text": [
      "get plane (17668, 3)\n",
      "i[indice_inject] (17668,)\n",
      "get plane [23 20 57]\n",
      "i[indice_inject] 23\n",
      "j[indice_inject] 20\n",
      "k[indice_inject] 56\n",
      "get plane (17826, 3)\n",
      "i[indice_inject] (17826,)\n",
      "get plane [23 20 57]\n",
      "i[indice_inject] 23\n",
      "j[indice_inject] 20\n",
      "k[indice_inject] 56\n",
      "get plane (17374, 3)\n",
      "i[indice_inject] (17374,)\n",
      "get plane [21 21 56]\n",
      "i[indice_inject] 22\n",
      "j[indice_inject] 20\n",
      "k[indice_inject] 55\n",
      "get plane (17357, 3)\n",
      "i[indice_inject] (17357,)\n",
      "get plane [21 21 56]\n",
      "i[indice_inject] 21\n",
      "j[indice_inject] 20\n",
      "k[indice_inject] 55\n",
      "get plane (17670, 3)\n",
      "i[indice_inject] (17670,)\n",
      "get plane [21 21 56]\n",
      "i[indice_inject] 20\n",
      "j[indice_inject] 20\n",
      "k[indice_inject] 54\n"
     ]
    },
    {
     "name": "stderr",
     "output_type": "stream",
     "text": [
      "running:  17%|█████████                                            | 17.0/100 [00:26<02:20, 1.69s/B]"
     ]
    },
    {
     "name": "stdout",
     "output_type": "stream",
     "text": [
      "get plane (17780, 3)\n",
      "i[indice_inject] (17780,)\n",
      "get plane [21 21 56]\n",
      "i[indice_inject] 19\n",
      "j[indice_inject] 20\n",
      "k[indice_inject] 54\n",
      "get plane (17588, 3)\n",
      "i[indice_inject] (17588,)\n",
      "get plane [22 41 83]\n",
      "i[indice_inject] 22\n",
      "j[indice_inject] 41\n",
      "k[indice_inject] 83\n",
      "get plane (17633, 3)\n",
      "i[indice_inject] (17633,)\n",
      "get plane [39 22 58]\n",
      "i[indice_inject] 39\n",
      "j[indice_inject] 22\n",
      "k[indice_inject] 58\n",
      "get plane (17660, 3)\n",
      "i[indice_inject] (17660,)\n",
      "get plane [39 21 58]\n",
      "i[indice_inject] 39\n",
      "j[indice_inject] 21\n",
      "k[indice_inject] 58\n",
      "get plane (17369, 3)\n",
      "i[indice_inject] (17369,)\n",
      "get plane [46 30 81]\n",
      "i[indice_inject] 46\n",
      "j[indice_inject] 30\n",
      "k[indice_inject] 81\n"
     ]
    },
    {
     "name": "stderr",
     "output_type": "stream",
     "text": [
      "running:  18%|█████████▌                                           | 18.0/100 [00:27<02:20, 1.71s/B]"
     ]
    },
    {
     "name": "stdout",
     "output_type": "stream",
     "text": [
      "get plane (17876, 3)\n",
      "i[indice_inject] (17876,)\n",
      "get plane [23 35 82]\n",
      "i[indice_inject] 23\n",
      "j[indice_inject] 35\n",
      "k[indice_inject] 82\n",
      "get plane (17610, 3)\n",
      "i[indice_inject] (17610,)\n",
      "get plane [35 19 75]\n",
      "i[indice_inject] 35\n",
      "j[indice_inject] 19\n",
      "k[indice_inject] 75\n",
      "get plane (17532, 3)\n",
      "i[indice_inject] (17532,)\n",
      "get plane [24 19 71]\n",
      "i[indice_inject] 24\n",
      "j[indice_inject] 19\n",
      "k[indice_inject] 71\n",
      "get plane (17651, 3)\n",
      "i[indice_inject] (17651,)\n",
      "get plane [44 11 82]\n",
      "i[indice_inject] 44\n",
      "j[indice_inject] 11\n",
      "k[indice_inject] 82\n",
      "get plane (17766, 3)\n",
      "i[indice_inject] (17766,)\n",
      "get plane [40 19 63]\n",
      "i[indice_inject] 40\n",
      "j[indice_inject] 19\n",
      "k[indice_inject] 63\n"
     ]
    },
    {
     "name": "stderr",
     "output_type": "stream",
     "text": [
      "running:  19%|██████████                                           | 19.0/100 [00:29<02:20, 1.74s/B]"
     ]
    },
    {
     "name": "stdout",
     "output_type": "stream",
     "text": [
      "get plane (17751, 3)\n",
      "i[indice_inject] (17751,)\n",
      "get plane [ 3 35 83]\n",
      "i[indice_inject] 3\n",
      "j[indice_inject] 35\n",
      "k[indice_inject] 83\n",
      "get plane (17562, 3)\n",
      "i[indice_inject] (17562,)\n",
      "get plane [26 30 58]\n",
      "i[indice_inject] 26\n",
      "j[indice_inject] 30\n",
      "k[indice_inject] 58\n",
      "get plane (17507, 3)\n",
      "i[indice_inject] (17507,)\n",
      "get plane [16  6 83]\n",
      "i[indice_inject] 16\n",
      "j[indice_inject] 6\n",
      "k[indice_inject] 83\n",
      "get plane (17219, 3)\n",
      "i[indice_inject] (17219,)\n",
      "get plane [ 3 30 63]\n",
      "i[indice_inject] 3\n",
      "j[indice_inject] 30\n",
      "k[indice_inject] 63\n",
      "get plane (17370, 3)\n",
      "i[indice_inject] (17370,)\n",
      "get plane [28 30 82]\n",
      "i[indice_inject] 28\n",
      "j[indice_inject] 30\n",
      "k[indice_inject] 82\n"
     ]
    },
    {
     "name": "stderr",
     "output_type": "stream",
     "text": [
      "running:  20%|██████████▌                                          | 20.0/100 [00:31<02:19, 1.74s/B]"
     ]
    },
    {
     "name": "stdout",
     "output_type": "stream",
     "text": [
      "get plane (17539, 3)\n",
      "i[indice_inject] (17539,)\n",
      "get plane [ 2 19 62]\n",
      "i[indice_inject] 2\n",
      "j[indice_inject] 19\n",
      "k[indice_inject] 62\n",
      "get plane (17629, 3)\n",
      "i[indice_inject] (17629,)\n",
      "get plane [15 30 71]\n",
      "i[indice_inject] 15\n",
      "j[indice_inject] 30\n",
      "k[indice_inject] 71\n",
      "get plane (17474, 3)\n",
      "i[indice_inject] (17474,)\n",
      "get plane [37 30 60]\n",
      "i[indice_inject] 37\n",
      "j[indice_inject] 30\n",
      "k[indice_inject] 60\n",
      "get plane (17702, 3)\n",
      "i[indice_inject] (17702,)\n",
      "get plane [47 49 82]\n",
      "i[indice_inject] 47\n",
      "j[indice_inject] 49\n",
      "k[indice_inject] 82\n",
      "get plane (17256, 3)\n",
      "i[indice_inject] (17256,)\n",
      "get plane [20 40 82]\n",
      "i[indice_inject] 20\n",
      "j[indice_inject] 40\n",
      "k[indice_inject] 82\n"
     ]
    },
    {
     "name": "stderr",
     "output_type": "stream",
     "text": [
      "running:  21%|███████████▏                                         | 21.0/100 [00:33<02:18, 1.75s/B]"
     ]
    },
    {
     "name": "stdout",
     "output_type": "stream",
     "text": [
      "get plane (17623, 3)\n",
      "i[indice_inject] (17623,)\n",
      "get plane [46 30 57]\n",
      "i[indice_inject] 46\n",
      "j[indice_inject] 30\n",
      "k[indice_inject] 57\n",
      "get plane (17865, 3)\n",
      "i[indice_inject] (17865,)\n",
      "get plane [31  3 82]\n",
      "i[indice_inject] 31\n",
      "j[indice_inject] 3\n",
      "k[indice_inject] 82\n",
      "get plane (17449, 3)\n",
      "i[indice_inject] (17449,)\n",
      "get plane [13 30 82]\n",
      "i[indice_inject] 13\n",
      "j[indice_inject] 30\n",
      "k[indice_inject] 82\n",
      "get plane (17611, 3)\n",
      "i[indice_inject] (17611,)\n",
      "get plane [32 30 81]\n",
      "i[indice_inject] 32\n",
      "j[indice_inject] 30\n",
      "k[indice_inject] 81\n",
      "get plane (17366, 3)\n",
      "i[indice_inject] (17366,)\n",
      "get plane [47 37 83]\n",
      "i[indice_inject] 47\n",
      "j[indice_inject] 37\n",
      "k[indice_inject] 83\n"
     ]
    },
    {
     "name": "stderr",
     "output_type": "stream",
     "text": [
      "running:  22%|███████████▋                                         | 22.0/100 [00:35<02:16, 1.75s/B]"
     ]
    },
    {
     "name": "stdout",
     "output_type": "stream",
     "text": [
      "get plane (17601, 3)\n",
      "i[indice_inject] (17601,)\n",
      "get plane [14 33 81]\n",
      "i[indice_inject] 14\n",
      "j[indice_inject] 33\n",
      "k[indice_inject] 81\n",
      "get plane (17596, 3)\n",
      "i[indice_inject] (17596,)\n",
      "get plane [16 38 82]\n",
      "i[indice_inject] 16\n",
      "j[indice_inject] 38\n",
      "k[indice_inject] 82\n",
      "get plane (17592, 3)\n",
      "i[indice_inject] (17592,)\n",
      "get plane [ 1 19 57]\n",
      "i[indice_inject] 1\n",
      "j[indice_inject] 19\n",
      "k[indice_inject] 57\n",
      "get plane (17578, 3)\n",
      "i[indice_inject] (17578,)\n",
      "get plane [41 37 82]\n",
      "i[indice_inject] 41\n",
      "j[indice_inject] 37\n",
      "k[indice_inject] 82\n",
      "get plane (17536, 3)\n",
      "i[indice_inject] (17536,)\n",
      "get plane [42 20 57]\n",
      "i[indice_inject] 42\n",
      "j[indice_inject] 20\n",
      "k[indice_inject] 57\n"
     ]
    },
    {
     "name": "stderr",
     "output_type": "stream",
     "text": [
      "running:  23%|████████████▏                                        | 23.0/100 [00:36<02:14, 1.75s/B]"
     ]
    },
    {
     "name": "stdout",
     "output_type": "stream",
     "text": [
      "get plane (17444, 3)\n",
      "i[indice_inject] (17444,)\n",
      "get plane [47 19 81]\n",
      "i[indice_inject] 47\n",
      "j[indice_inject] 19\n",
      "k[indice_inject] 81\n",
      "get plane (17612, 3)\n",
      "i[indice_inject] (17612,)\n",
      "get plane [47 19 81]\n",
      "i[indice_inject] 47\n",
      "j[indice_inject] 19\n",
      "k[indice_inject] 81\n",
      "get plane (17143, 3)\n",
      "i[indice_inject] (17143,)\n",
      "get plane [18 20 56]\n",
      "i[indice_inject] 18\n",
      "j[indice_inject] 20\n",
      "k[indice_inject] 56\n",
      "get plane (17735, 3)\n",
      "i[indice_inject] (17735,)\n",
      "get plane [46 34 82]\n",
      "i[indice_inject] 46\n",
      "j[indice_inject] 34\n",
      "k[indice_inject] 82\n",
      "get plane (17656, 3)\n",
      "i[indice_inject] (17656,)\n",
      "get plane [20 19 56]\n",
      "i[indice_inject] 20\n",
      "j[indice_inject] 19\n",
      "k[indice_inject] 55\n"
     ]
    },
    {
     "name": "stderr",
     "output_type": "stream",
     "text": [
      "running:  24%|████████████▋                                        | 24.0/100 [00:38<02:14, 1.77s/B]"
     ]
    },
    {
     "name": "stdout",
     "output_type": "stream",
     "text": [
      "get plane (17586, 3)\n",
      "i[indice_inject] (17586,)\n",
      "get plane [21 19 55]\n",
      "i[indice_inject] 20\n",
      "j[indice_inject] 18\n",
      "k[indice_inject] 55\n",
      "get plane (17412, 3)\n",
      "i[indice_inject] (17412,)\n",
      "get plane [33 13 82]\n",
      "i[indice_inject] 33\n",
      "j[indice_inject] 13\n",
      "k[indice_inject] 82\n",
      "get plane (17435, 3)\n",
      "i[indice_inject] (17435,)\n",
      "get plane [ 5 30 82]\n",
      "i[indice_inject] 5\n",
      "j[indice_inject] 30\n",
      "k[indice_inject] 82\n",
      "get plane (17630, 3)\n",
      "i[indice_inject] (17630,)\n",
      "get plane [43 30 82]\n",
      "i[indice_inject] 43\n",
      "j[indice_inject] 30\n",
      "k[indice_inject] 82\n",
      "get plane (17363, 3)\n",
      "i[indice_inject] (17363,)\n",
      "get plane [11 22 55]\n",
      "i[indice_inject] 11\n",
      "j[indice_inject] 22\n",
      "k[indice_inject] 55\n"
     ]
    },
    {
     "name": "stderr",
     "output_type": "stream",
     "text": [
      "running:  25%|█████████████▎                                       | 25.0/100 [00:40<02:13, 1.79s/B]"
     ]
    },
    {
     "name": "stdout",
     "output_type": "stream",
     "text": [
      "get plane (17282, 3)\n",
      "i[indice_inject] (17282,)\n",
      "get plane [41 24 55]\n",
      "i[indice_inject] 41\n",
      "j[indice_inject] 24\n",
      "k[indice_inject] 55\n",
      "get plane (17423, 3)\n",
      "i[indice_inject] (17423,)\n",
      "get plane [29  3 82]\n",
      "i[indice_inject] 29\n",
      "j[indice_inject] 3\n",
      "k[indice_inject] 82\n",
      "get plane (17707, 3)\n",
      "i[indice_inject] (17707,)\n",
      "get plane [39 24 54]\n",
      "i[indice_inject] 39\n",
      "j[indice_inject] 24\n",
      "k[indice_inject] 54\n",
      "get plane (17338, 3)\n",
      "i[indice_inject] (17338,)\n",
      "get plane [ 2 35 82]\n",
      "i[indice_inject] 2\n",
      "j[indice_inject] 35\n",
      "k[indice_inject] 82\n",
      "get plane (17590, 3)\n",
      "i[indice_inject] (17590,)\n",
      "get plane [37 24 54]\n",
      "i[indice_inject] 37\n",
      "j[indice_inject] 24\n",
      "k[indice_inject] 54\n"
     ]
    },
    {
     "name": "stderr",
     "output_type": "stream",
     "text": [
      "running:  26%|█████████████▊                                       | 26.0/100 [00:42<02:14, 1.81s/B]"
     ]
    },
    {
     "name": "stdout",
     "output_type": "stream",
     "text": [
      "get plane (17300, 3)\n",
      "i[indice_inject] (17300,)\n",
      "get plane [30 20 54]\n",
      "i[indice_inject] 30\n",
      "j[indice_inject] 19\n",
      "k[indice_inject] 53\n",
      "get plane (17661, 3)\n",
      "i[indice_inject] (17661,)\n",
      "get plane [36 14 82]\n",
      "i[indice_inject] 36\n",
      "j[indice_inject] 14\n",
      "k[indice_inject] 82\n",
      "get plane (17463, 3)\n",
      "i[indice_inject] (17463,)\n",
      "get plane [16 41 82]\n",
      "i[indice_inject] 16\n",
      "j[indice_inject] 41\n",
      "k[indice_inject] 82\n",
      "get plane (17382, 3)\n",
      "i[indice_inject] (17382,)\n",
      "get plane [12 37 82]\n",
      "i[indice_inject] 12\n",
      "j[indice_inject] 37\n",
      "k[indice_inject] 82\n",
      "get plane (17273, 3)\n",
      "i[indice_inject] (17273,)\n",
      "get plane [ 8 30 80]\n",
      "i[indice_inject] 8\n",
      "j[indice_inject] 30\n",
      "k[indice_inject] 80\n"
     ]
    },
    {
     "name": "stderr",
     "output_type": "stream",
     "text": [
      "running:  27%|██████████████▎                                      | 27.0/100 [00:44<02:15, 1.85s/B]"
     ]
    },
    {
     "name": "stdout",
     "output_type": "stream",
     "text": [
      "get plane (17450, 3)\n",
      "i[indice_inject] (17450,)\n",
      "get plane [47 49 82]\n",
      "i[indice_inject] 47\n",
      "j[indice_inject] 49\n",
      "k[indice_inject] 82\n",
      "get plane (17468, 3)\n",
      "i[indice_inject] (17468,)\n",
      "get plane [19 19 67]\n",
      "i[indice_inject] 19\n",
      "j[indice_inject] 19\n",
      "k[indice_inject] 67\n",
      "get plane (17686, 3)\n",
      "i[indice_inject] (17686,)\n",
      "get plane [42 26 55]\n",
      "i[indice_inject] 42\n",
      "j[indice_inject] 26\n",
      "k[indice_inject] 55\n",
      "get plane (17492, 3)\n",
      "i[indice_inject] (17492,)\n",
      "get plane [ 2 18 80]\n",
      "i[indice_inject] 2\n",
      "j[indice_inject] 18\n",
      "k[indice_inject] 80\n",
      "get plane (17589, 3)\n",
      "i[indice_inject] (17589,)\n",
      "get plane [15 40 81]\n",
      "i[indice_inject] 15\n",
      "j[indice_inject] 40\n",
      "k[indice_inject] 81\n"
     ]
    },
    {
     "name": "stderr",
     "output_type": "stream",
     "text": [
      "running:  28%|██████████████▊                                      | 28.0/100 [00:46<02:13, 1.85s/B]"
     ]
    },
    {
     "name": "stdout",
     "output_type": "stream",
     "text": [
      "get plane (17665, 3)\n",
      "i[indice_inject] (17665,)\n",
      "get plane [49 16 81]\n",
      "i[indice_inject] 49\n",
      "j[indice_inject] 16\n",
      "k[indice_inject] 81\n",
      "get plane (17320, 3)\n",
      "i[indice_inject] (17320,)\n",
      "get plane [32 19 77]\n",
      "i[indice_inject] 32\n",
      "j[indice_inject] 19\n",
      "k[indice_inject] 77\n",
      "get plane (17600, 3)\n",
      "i[indice_inject] (17600,)\n",
      "get plane [ 4 32 82]\n",
      "i[indice_inject] 4\n",
      "j[indice_inject] 32\n",
      "k[indice_inject] 82\n",
      "get plane (17390, 3)\n",
      "i[indice_inject] (17390,)\n",
      "get plane [30 25 54]\n",
      "i[indice_inject] 30\n",
      "j[indice_inject] 25\n",
      "k[indice_inject] 54\n",
      "get plane (17200, 3)\n",
      "i[indice_inject] (17200,)\n",
      "get plane [44 17 82]\n",
      "i[indice_inject] 44\n",
      "j[indice_inject] 17\n",
      "k[indice_inject] 82\n"
     ]
    },
    {
     "name": "stderr",
     "output_type": "stream",
     "text": [
      "running:  29%|███████████████▎                                     | 29.0/100 [00:48<02:12, 1.86s/B]"
     ]
    },
    {
     "name": "stdout",
     "output_type": "stream",
     "text": [
      "get plane (17409, 3)\n",
      "i[indice_inject] (17409,)\n",
      "get plane [47 11 82]\n",
      "i[indice_inject] 47\n",
      "j[indice_inject] 11\n",
      "k[indice_inject] 82\n",
      "get plane (17103, 3)\n",
      "i[indice_inject] (17103,)\n",
      "get plane [10 30 61]\n",
      "i[indice_inject] 10\n",
      "j[indice_inject] 30\n",
      "k[indice_inject] 61\n",
      "get plane (17280, 3)\n",
      "i[indice_inject] (17280,)\n",
      "get plane [ 0 30 80]\n",
      "i[indice_inject] 0\n",
      "j[indice_inject] 30\n",
      "k[indice_inject] 80\n",
      "get plane (17324, 3)\n",
      "i[indice_inject] (17324,)\n",
      "get plane [ 9 11 82]\n",
      "i[indice_inject] 9\n",
      "j[indice_inject] 11\n",
      "k[indice_inject] 82\n",
      "get plane (17352, 3)\n",
      "i[indice_inject] (17352,)\n",
      "get plane [13 19 78]\n",
      "i[indice_inject] 13\n",
      "j[indice_inject] 19\n",
      "k[indice_inject] 78\n"
     ]
    },
    {
     "name": "stderr",
     "output_type": "stream",
     "text": [
      "running:  30%|███████████████▉                                     | 30.0/100 [00:49<02:11, 1.87s/B]"
     ]
    },
    {
     "name": "stdout",
     "output_type": "stream",
     "text": [
      "get plane (17543, 3)\n",
      "i[indice_inject] (17543,)\n",
      "get plane [20 10 80]\n",
      "i[indice_inject] 20\n",
      "j[indice_inject] 10\n",
      "k[indice_inject] 80\n",
      "get plane (17460, 3)\n",
      "i[indice_inject] (17460,)\n",
      "get plane [44  0 81]\n",
      "i[indice_inject] 44\n",
      "j[indice_inject] 0\n",
      "k[indice_inject] 81\n",
      "get plane (17295, 3)\n",
      "i[indice_inject] (17295,)\n",
      "get plane [48 19 60]\n",
      "i[indice_inject] 48\n",
      "j[indice_inject] 19\n",
      "k[indice_inject] 60\n",
      "get plane (17268, 3)\n",
      "i[indice_inject] (17268,)\n",
      "get plane [21  8 80]\n",
      "i[indice_inject] 21\n",
      "j[indice_inject] 8\n",
      "k[indice_inject] 80\n",
      "get plane (17546, 3)\n",
      "i[indice_inject] (17546,)\n",
      "get plane [22  7 79]\n",
      "i[indice_inject] 22\n",
      "j[indice_inject] 7\n",
      "k[indice_inject] 79\n"
     ]
    },
    {
     "name": "stderr",
     "output_type": "stream",
     "text": [
      "running:  31%|████████████████▍                                    | 31.0/100 [00:51<02:09, 1.88s/B]"
     ]
    },
    {
     "name": "stdout",
     "output_type": "stream",
     "text": [
      "get plane (17341, 3)\n",
      "i[indice_inject] (17341,)\n",
      "get plane [22  6 79]\n",
      "i[indice_inject] 22\n",
      "j[indice_inject] 6\n",
      "k[indice_inject] 79\n",
      "get plane (17420, 3)\n",
      "i[indice_inject] (17420,)\n",
      "get plane [46 30 80]\n",
      "i[indice_inject] 46\n",
      "j[indice_inject] 30\n",
      "k[indice_inject] 80\n",
      "get plane (17283, 3)\n",
      "i[indice_inject] (17283,)\n",
      "get plane [24  5 79]\n",
      "i[indice_inject] 24\n",
      "j[indice_inject] 5\n",
      "k[indice_inject] 79\n",
      "get plane (17240, 3)\n",
      "i[indice_inject] (17240,)\n",
      "get plane [ 7 22 53]\n",
      "i[indice_inject] 7\n",
      "j[indice_inject] 22\n",
      "k[indice_inject] 53\n",
      "get plane (17352, 3)\n",
      "i[indice_inject] (17352,)\n",
      "get plane [44  5 81]\n",
      "i[indice_inject] 44\n",
      "j[indice_inject] 5\n",
      "k[indice_inject] 81\n"
     ]
    },
    {
     "name": "stderr",
     "output_type": "stream",
     "text": [
      "running:  32%|████████████████▉                                    | 32.0/100 [00:53<02:08, 1.89s/B]"
     ]
    },
    {
     "name": "stdout",
     "output_type": "stream",
     "text": [
      "get plane (17543, 3)\n",
      "i[indice_inject] (17543,)\n",
      "get plane [ 7  4 82]\n",
      "i[indice_inject] 7\n",
      "j[indice_inject] 4\n",
      "k[indice_inject] 82\n",
      "get plane (17710, 3)\n",
      "i[indice_inject] (17710,)\n",
      "get plane [17 12 81]\n",
      "i[indice_inject] 17\n",
      "j[indice_inject] 12\n",
      "k[indice_inject] 81\n",
      "get plane (17401, 3)\n",
      "i[indice_inject] (17401,)\n",
      "get plane [16 12 81]\n",
      "i[indice_inject] 16\n",
      "j[indice_inject] 12\n",
      "k[indice_inject] 81\n",
      "get plane (17574, 3)\n",
      "i[indice_inject] (17574,)\n",
      "get plane [49 20 54]\n",
      "i[indice_inject] 49\n",
      "j[indice_inject] 20\n",
      "k[indice_inject] 54\n",
      "get plane (17246, 3)\n",
      "i[indice_inject] (17246,)\n",
      "get plane [ 2 30 73]\n",
      "i[indice_inject] 2\n",
      "j[indice_inject] 30\n",
      "k[indice_inject] 73\n"
     ]
    },
    {
     "name": "stderr",
     "output_type": "stream",
     "text": [
      "running:  33%|█████████████████▍                                   | 33.0/100 [00:55<02:07, 1.90s/B]"
     ]
    },
    {
     "name": "stdout",
     "output_type": "stream",
     "text": [
      "get plane (17199, 3)\n",
      "i[indice_inject] (17199,)\n",
      "get plane [23 10 79]\n",
      "i[indice_inject] 23\n",
      "j[indice_inject] 10\n",
      "k[indice_inject] 79\n",
      "get plane (17450, 3)\n",
      "i[indice_inject] (17450,)\n",
      "get plane [24 11 80]\n",
      "i[indice_inject] 24\n",
      "j[indice_inject] 11\n",
      "k[indice_inject] 80\n",
      "get plane (17367, 3)\n",
      "i[indice_inject] (17367,)\n",
      "get plane [49 49 81]\n",
      "i[indice_inject] 49\n",
      "j[indice_inject] 49\n",
      "k[indice_inject] 81\n",
      "get plane (17445, 3)\n",
      "i[indice_inject] (17445,)\n",
      "get plane [ 0 37 80]\n",
      "i[indice_inject] 0\n",
      "j[indice_inject] 37\n",
      "k[indice_inject] 80\n",
      "get plane (17437, 3)\n",
      "i[indice_inject] (17437,)\n",
      "get plane [26  7 80]\n",
      "i[indice_inject] 26\n",
      "j[indice_inject] 7\n",
      "k[indice_inject] 80\n"
     ]
    },
    {
     "name": "stderr",
     "output_type": "stream",
     "text": [
      "running:  34%|██████████████████                                   | 34.0/100 [00:57<02:08, 1.95s/B]"
     ]
    },
    {
     "name": "stdout",
     "output_type": "stream",
     "text": [
      "get plane (17356, 3)\n",
      "i[indice_inject] (17356,)\n",
      "get plane [26  7 81]\n",
      "i[indice_inject] 26\n",
      "j[indice_inject] 7\n",
      "k[indice_inject] 81\n",
      "get plane (17332, 3)\n",
      "i[indice_inject] (17332,)\n",
      "get plane [39 30 56]\n",
      "i[indice_inject] 39\n",
      "j[indice_inject] 30\n",
      "k[indice_inject] 56\n",
      "get plane (17604, 3)\n",
      "i[indice_inject] (17604,)\n",
      "get plane [ 8 19 79]\n",
      "i[indice_inject] 8\n",
      "j[indice_inject] 19\n",
      "k[indice_inject] 79\n",
      "get plane (17228, 3)\n",
      "i[indice_inject] (17228,)\n",
      "get plane [ 9 11 82]\n",
      "i[indice_inject] 9\n",
      "j[indice_inject] 11\n",
      "k[indice_inject] 82\n",
      "get plane (17539, 3)\n",
      "i[indice_inject] (17539,)\n",
      "get plane [29  4 79]\n",
      "i[indice_inject] 29\n",
      "j[indice_inject] 4\n",
      "k[indice_inject] 79\n"
     ]
    },
    {
     "name": "stderr",
     "output_type": "stream",
     "text": [
      "running:  35%|██████████████████▌                                  | 35.0/100 [00:59<02:07, 1.96s/B]"
     ]
    },
    {
     "name": "stdout",
     "output_type": "stream",
     "text": [
      "get plane (17750, 3)\n",
      "i[indice_inject] (17750,)\n",
      "get plane [ 2 23 53]\n",
      "i[indice_inject] 2\n",
      "j[indice_inject] 23\n",
      "k[indice_inject] 53\n",
      "get plane (17510, 3)\n",
      "i[indice_inject] (17510,)\n",
      "get plane [25 32 80]\n",
      "i[indice_inject] 25\n",
      "j[indice_inject] 32\n",
      "k[indice_inject] 80\n",
      "get plane (17509, 3)\n",
      "i[indice_inject] (17509,)\n",
      "get plane [ 6 15 79]\n",
      "i[indice_inject] 6\n",
      "j[indice_inject] 15\n",
      "k[indice_inject] 79\n",
      "get plane (17422, 3)\n",
      "i[indice_inject] (17422,)\n",
      "get plane [25 48 79]\n",
      "i[indice_inject] 25\n",
      "j[indice_inject] 48\n",
      "k[indice_inject] 79\n",
      "get plane (17447, 3)\n",
      "i[indice_inject] (17447,)\n",
      "get plane [30 40 81]\n",
      "i[indice_inject] 30\n",
      "j[indice_inject] 40\n",
      "k[indice_inject] 81\n"
     ]
    },
    {
     "name": "stderr",
     "output_type": "stream",
     "text": [
      "running:  36%|███████████████████                                  | 36.0/100 [01:01<02:05, 1.95s/B]"
     ]
    },
    {
     "name": "stdout",
     "output_type": "stream",
     "text": [
      "get plane (17443, 3)\n",
      "i[indice_inject] (17443,)\n",
      "get plane [19 17 80]\n",
      "i[indice_inject] 19\n",
      "j[indice_inject] 17\n",
      "k[indice_inject] 80\n",
      "get plane (17270, 3)\n",
      "i[indice_inject] (17270,)\n",
      "get plane [24 28 52]\n",
      "i[indice_inject] 24\n",
      "j[indice_inject] 28\n",
      "k[indice_inject] 52\n",
      "get plane (17251, 3)\n",
      "i[indice_inject] (17251,)\n",
      "get plane [25 28 52]\n",
      "i[indice_inject] 25\n",
      "j[indice_inject] 28\n",
      "k[indice_inject] 52\n",
      "get plane (17182, 3)\n",
      "i[indice_inject] (17182,)\n",
      "get plane [ 9 19 71]\n",
      "i[indice_inject] 9\n",
      "j[indice_inject] 19\n",
      "k[indice_inject] 71\n",
      "get plane (17473, 3)\n",
      "i[indice_inject] (17473,)\n",
      "get plane [24 47 81]\n",
      "i[indice_inject] 24\n",
      "j[indice_inject] 47\n",
      "k[indice_inject] 81\n"
     ]
    },
    {
     "name": "stderr",
     "output_type": "stream",
     "text": [
      "running:  37%|███████████████████▌                                 | 37.0/100 [01:03<02:03, 1.96s/B]"
     ]
    },
    {
     "name": "stdout",
     "output_type": "stream",
     "text": [
      "get plane (17344, 3)\n",
      "i[indice_inject] (17344,)\n",
      "get plane [41 23 53]\n",
      "i[indice_inject] 41\n",
      "j[indice_inject] 23\n",
      "k[indice_inject] 53\n",
      "get plane (17166, 3)\n",
      "i[indice_inject] (17166,)\n",
      "get plane [40 31 79]\n",
      "i[indice_inject] 40\n",
      "j[indice_inject] 31\n",
      "k[indice_inject] 79\n",
      "get plane (17328, 3)\n",
      "i[indice_inject] (17328,)\n",
      "get plane [22 19 70]\n",
      "i[indice_inject] 22\n",
      "j[indice_inject] 19\n",
      "k[indice_inject] 70\n",
      "get plane (17341, 3)\n",
      "i[indice_inject] (17341,)\n",
      "get plane [27 45 79]\n",
      "i[indice_inject] 27\n",
      "j[indice_inject] 45\n",
      "k[indice_inject] 79\n",
      "get plane (17438, 3)\n",
      "i[indice_inject] (17438,)\n",
      "get plane [28 45 79]\n",
      "i[indice_inject] 28\n",
      "j[indice_inject] 45\n",
      "k[indice_inject] 79\n"
     ]
    },
    {
     "name": "stderr",
     "output_type": "stream",
     "text": [
      "running:  38%|████████████████████▏                                | 38.0/100 [01:05<02:02, 1.97s/B]"
     ]
    },
    {
     "name": "stdout",
     "output_type": "stream",
     "text": [
      "get plane (17332, 3)\n",
      "i[indice_inject] (17332,)\n",
      "get plane [23 46 80]\n",
      "i[indice_inject] 23\n",
      "j[indice_inject] 46\n",
      "k[indice_inject] 80\n",
      "get plane (17483, 3)\n",
      "i[indice_inject] (17483,)\n",
      "get plane [33 33 79]\n",
      "i[indice_inject] 33\n",
      "j[indice_inject] 33\n",
      "k[indice_inject] 79\n",
      "get plane (17167, 3)\n",
      "i[indice_inject] (17167,)\n",
      "get plane [40  4 80]\n",
      "i[indice_inject] 40\n",
      "j[indice_inject] 4\n",
      "k[indice_inject] 80\n",
      "get plane (17416, 3)\n",
      "i[indice_inject] (17416,)\n",
      "get plane [ 4 32 80]\n",
      "i[indice_inject] 4\n",
      "j[indice_inject] 32\n",
      "k[indice_inject] 80\n",
      "get plane (17347, 3)\n",
      "i[indice_inject] (17347,)\n",
      "get plane [41 49 80]\n",
      "i[indice_inject] 41\n",
      "j[indice_inject] 49\n",
      "k[indice_inject] 80\n"
     ]
    },
    {
     "name": "stderr",
     "output_type": "stream",
     "text": [
      "running:  39%|████████████████████▋                                | 39.0/100 [01:07<02:00, 1.98s/B]"
     ]
    },
    {
     "name": "stdout",
     "output_type": "stream",
     "text": [
      "get plane (17054, 3)\n",
      "i[indice_inject] (17054,)\n",
      "get plane [23 44 80]\n",
      "i[indice_inject] 23\n",
      "j[indice_inject] 44\n",
      "k[indice_inject] 80\n",
      "get plane (17168, 3)\n",
      "i[indice_inject] (17168,)\n",
      "get plane [ 1 30 67]\n",
      "i[indice_inject] 1\n",
      "j[indice_inject] 30\n",
      "k[indice_inject] 67\n",
      "get plane (17166, 3)\n",
      "i[indice_inject] (17166,)\n",
      "get plane [24 30 53]\n",
      "i[indice_inject] 24\n",
      "j[indice_inject] 30\n",
      "k[indice_inject] 53\n",
      "get plane (17369, 3)\n",
      "i[indice_inject] (17369,)\n",
      "get plane [32 42 79]\n",
      "i[indice_inject] 32\n",
      "j[indice_inject] 42\n",
      "k[indice_inject] 79\n",
      "get plane (17345, 3)\n",
      "i[indice_inject] (17345,)\n",
      "get plane [12 30 52]\n",
      "i[indice_inject] 12\n",
      "j[indice_inject] 30\n",
      "k[indice_inject] 52\n"
     ]
    },
    {
     "name": "stderr",
     "output_type": "stream",
     "text": [
      "running:  40%|█████████████████████▏                               | 40.0/100 [01:09<01:59, 1.99s/B]"
     ]
    },
    {
     "name": "stdout",
     "output_type": "stream",
     "text": [
      "get plane (17434, 3)\n",
      "i[indice_inject] (17434,)\n",
      "get plane [28 22 52]\n",
      "i[indice_inject] 28\n",
      "j[indice_inject] 22\n",
      "k[indice_inject] 52\n",
      "get plane (17587, 3)\n",
      "i[indice_inject] (17587,)\n",
      "get plane [32  2 79]\n",
      "i[indice_inject] 32\n",
      "j[indice_inject] 2\n",
      "k[indice_inject] 79\n",
      "get plane (17528, 3)\n",
      "i[indice_inject] (17528,)\n",
      "get plane [24 15 79]\n",
      "i[indice_inject] 24\n",
      "j[indice_inject] 15\n",
      "k[indice_inject] 79\n",
      "get plane (17357, 3)\n",
      "i[indice_inject] (17357,)\n",
      "get plane [29 30 77]\n",
      "i[indice_inject] 29\n",
      "j[indice_inject] 30\n",
      "k[indice_inject] 77\n",
      "get plane (17387, 3)\n",
      "i[indice_inject] (17387,)\n",
      "get plane [32  1 77]\n",
      "i[indice_inject] 32\n",
      "j[indice_inject] 1\n",
      "k[indice_inject] 77\n"
     ]
    },
    {
     "name": "stderr",
     "output_type": "stream",
     "text": [
      "running:  41%|█████████████████████▋                               | 41.0/100 [01:11<01:57, 2.00s/B]"
     ]
    },
    {
     "name": "stdout",
     "output_type": "stream",
     "text": [
      "get plane (17603, 3)\n",
      "i[indice_inject] (17603,)\n",
      "get plane [12  9 79]\n",
      "i[indice_inject] 12\n",
      "j[indice_inject] 9\n",
      "k[indice_inject] 79\n",
      "get plane (17549, 3)\n",
      "i[indice_inject] (17549,)\n",
      "get plane [12  9 80]\n",
      "i[indice_inject] 12\n",
      "j[indice_inject] 9\n",
      "k[indice_inject] 80\n",
      "get plane (17396, 3)\n",
      "i[indice_inject] (17396,)\n",
      "get plane [12  8 79]\n",
      "i[indice_inject] 12\n",
      "j[indice_inject] 8\n",
      "k[indice_inject] 79\n",
      "get plane (17437, 3)\n",
      "i[indice_inject] (17437,)\n",
      "get plane [24 49 80]\n",
      "i[indice_inject] 24\n",
      "j[indice_inject] 49\n",
      "k[indice_inject] 80\n",
      "get plane (17325, 3)\n",
      "i[indice_inject] (17325,)\n",
      "get plane [14 19 79]\n",
      "i[indice_inject] 14\n",
      "j[indice_inject] 19\n",
      "k[indice_inject] 79\n"
     ]
    },
    {
     "name": "stderr",
     "output_type": "stream",
     "text": [
      "running:  42%|██████████████████████▎                              | 42.0/100 [01:13<01:56, 2.01s/B]"
     ]
    },
    {
     "name": "stdout",
     "output_type": "stream",
     "text": [
      "get plane (17184, 3)\n",
      "i[indice_inject] (17184,)\n",
      "get plane [ 4  1 80]\n",
      "i[indice_inject] 4\n",
      "j[indice_inject] 1\n",
      "k[indice_inject] 80\n",
      "get plane (17440, 3)\n",
      "i[indice_inject] (17440,)\n",
      "get plane [17 19 78]\n",
      "i[indice_inject] 17\n",
      "j[indice_inject] 19\n",
      "k[indice_inject] 78\n",
      "get plane (17367, 3)\n",
      "i[indice_inject] (17367,)\n",
      "get plane [41 19 71]\n",
      "i[indice_inject] 41\n",
      "j[indice_inject] 19\n",
      "k[indice_inject] 71\n",
      "get plane (17463, 3)\n",
      "i[indice_inject] (17463,)\n",
      "get plane [48  2 79]\n",
      "i[indice_inject] 48\n",
      "j[indice_inject] 2\n",
      "k[indice_inject] 79\n",
      "get plane (17483, 3)\n",
      "i[indice_inject] (17483,)\n",
      "get plane [24 15 79]\n",
      "i[indice_inject] 24\n",
      "j[indice_inject] 15\n",
      "k[indice_inject] 79\n"
     ]
    },
    {
     "name": "stderr",
     "output_type": "stream",
     "text": [
      "running:  43%|██████████████████████▊                              | 43.0/100 [01:15<01:57, 2.05s/B]"
     ]
    },
    {
     "name": "stdout",
     "output_type": "stream",
     "text": [
      "get plane (17384, 3)\n",
      "i[indice_inject] (17384,)\n",
      "get plane [32 31 78]\n",
      "i[indice_inject] 32\n",
      "j[indice_inject] 31\n",
      "k[indice_inject] 78\n",
      "get plane (17319, 3)\n",
      "i[indice_inject] (17319,)\n",
      "get plane [44 30 78]\n",
      "i[indice_inject] 44\n",
      "j[indice_inject] 30\n",
      "k[indice_inject] 78\n",
      "get plane (17135, 3)\n",
      "i[indice_inject] (17135,)\n",
      "get plane [23  8 78]\n",
      "i[indice_inject] 23\n",
      "j[indice_inject] 8\n",
      "k[indice_inject] 78\n",
      "get plane (17236, 3)\n",
      "i[indice_inject] (17236,)\n",
      "get plane [22 11 79]\n",
      "i[indice_inject] 22\n",
      "j[indice_inject] 11\n",
      "k[indice_inject] 79\n",
      "get plane (17110, 3)\n",
      "i[indice_inject] (17110,)\n",
      "get plane [11  3 79]\n",
      "i[indice_inject] 11\n",
      "j[indice_inject] 3\n",
      "k[indice_inject] 79\n"
     ]
    },
    {
     "name": "stderr",
     "output_type": "stream",
     "text": [
      "running:  44%|███████████████████████▎                             | 44.0/100 [01:17<01:56, 2.09s/B]"
     ]
    },
    {
     "name": "stdout",
     "output_type": "stream",
     "text": [
      "get plane (17203, 3)\n",
      "i[indice_inject] (17203,)\n",
      "get plane [ 2 30 75]\n",
      "i[indice_inject] 2\n",
      "j[indice_inject] 30\n",
      "k[indice_inject] 75\n",
      "get plane (17163, 3)\n",
      "i[indice_inject] (17163,)\n",
      "get plane [19 19 76]\n",
      "i[indice_inject] 19\n",
      "j[indice_inject] 19\n",
      "k[indice_inject] 76\n",
      "get plane (17407, 3)\n",
      "i[indice_inject] (17407,)\n",
      "get plane [43 25 50]\n",
      "i[indice_inject] 43\n",
      "j[indice_inject] 25\n",
      "k[indice_inject] 50\n",
      "get plane (17147, 3)\n",
      "i[indice_inject] (17147,)\n",
      "get plane [21 19 63]\n",
      "i[indice_inject] 21\n",
      "j[indice_inject] 19\n",
      "k[indice_inject] 63\n",
      "get plane (17236, 3)\n",
      "i[indice_inject] (17236,)\n",
      "get plane [46 19 53]\n",
      "i[indice_inject] 46\n",
      "j[indice_inject] 19\n",
      "k[indice_inject] 53\n"
     ]
    },
    {
     "name": "stderr",
     "output_type": "stream",
     "text": [
      "running:  45%|███████████████████████▊                             | 45.0/100 [01:20<01:57, 2.14s/B]"
     ]
    },
    {
     "name": "stdout",
     "output_type": "stream",
     "text": [
      "get plane (17099, 3)\n",
      "i[indice_inject] (17099,)\n",
      "get plane [ 3 13 78]\n",
      "i[indice_inject] 3\n",
      "j[indice_inject] 13\n",
      "k[indice_inject] 78\n",
      "get plane (17361, 3)\n",
      "i[indice_inject] (17361,)\n",
      "get plane [ 2 48 78]\n",
      "i[indice_inject] 2\n",
      "j[indice_inject] 48\n",
      "k[indice_inject] 78\n",
      "get plane (17323, 3)\n",
      "i[indice_inject] (17323,)\n",
      "get plane [49 19 52]\n",
      "i[indice_inject] 49\n",
      "j[indice_inject] 18\n",
      "k[indice_inject] 52\n",
      "get plane (17105, 3)\n",
      "i[indice_inject] (17105,)\n",
      "get plane [ 9 17 80]\n",
      "i[indice_inject] 9\n",
      "j[indice_inject] 17\n",
      "k[indice_inject] 80\n",
      "get plane (17500, 3)\n",
      "i[indice_inject] (17500,)\n",
      "get plane [40  4 79]\n",
      "i[indice_inject] 40\n",
      "j[indice_inject] 4\n",
      "k[indice_inject] 79\n"
     ]
    },
    {
     "name": "stderr",
     "output_type": "stream",
     "text": [
      "running:  46%|████████████████████████▍                            | 46.0/100 [01:22<01:56, 2.16s/B]"
     ]
    },
    {
     "name": "stdout",
     "output_type": "stream",
     "text": [
      "get plane (17155, 3)\n",
      "i[indice_inject] (17155,)\n",
      "get plane [32 30 77]\n",
      "i[indice_inject] 32\n",
      "j[indice_inject] 30\n",
      "k[indice_inject] 77\n",
      "get plane (17263, 3)\n",
      "i[indice_inject] (17263,)\n",
      "get plane [ 1 19 69]\n",
      "i[indice_inject] 1\n",
      "j[indice_inject] 19\n",
      "k[indice_inject] 69\n",
      "get plane (17171, 3)\n",
      "i[indice_inject] (17171,)\n",
      "get plane [47 30 57]\n",
      "i[indice_inject] 47\n",
      "j[indice_inject] 30\n",
      "k[indice_inject] 57\n",
      "get plane (17331, 3)\n",
      "i[indice_inject] (17331,)\n",
      "get plane [45  9 79]\n",
      "i[indice_inject] 45\n",
      "j[indice_inject] 9\n",
      "k[indice_inject] 79\n",
      "get plane (17401, 3)\n",
      "i[indice_inject] (17401,)\n",
      "get plane [36  2 79]\n",
      "i[indice_inject] 36\n",
      "j[indice_inject] 2\n",
      "k[indice_inject] 79\n"
     ]
    },
    {
     "name": "stderr",
     "output_type": "stream",
     "text": [
      "running:  47%|████████████████████████▉                            | 47.0/100 [01:24<01:57, 2.21s/B]"
     ]
    },
    {
     "name": "stdout",
     "output_type": "stream",
     "text": [
      "get plane (17316, 3)\n",
      "i[indice_inject] (17316,)\n",
      "get plane [16 33 56]\n",
      "i[indice_inject] 19\n",
      "j[indice_inject] 38\n",
      "k[indice_inject] 54\n",
      "get plane (17242, 3)\n",
      "i[indice_inject] (17242,)\n",
      "get plane [22 15 78]\n",
      "i[indice_inject] 22\n",
      "j[indice_inject] 15\n",
      "k[indice_inject] 78\n",
      "get plane (17249, 3)\n",
      "i[indice_inject] (17249,)\n",
      "get plane [22 15 77]\n",
      "i[indice_inject] 22\n",
      "j[indice_inject] 15\n",
      "k[indice_inject] 77\n",
      "get plane (17399, 3)\n",
      "i[indice_inject] (17399,)\n",
      "get plane [21 19 56]\n",
      "i[indice_inject] 21\n",
      "j[indice_inject] 19\n",
      "k[indice_inject] 56\n",
      "get plane (17283, 3)\n",
      "i[indice_inject] (17283,)\n",
      "get plane [11 19 53]\n",
      "i[indice_inject] 11\n",
      "j[indice_inject] 19\n",
      "k[indice_inject] 53\n"
     ]
    },
    {
     "name": "stderr",
     "output_type": "stream",
     "text": [
      "running:  48%|█████████████████████████▍                           | 48.0/100 [01:27<01:55, 2.22s/B]"
     ]
    },
    {
     "name": "stdout",
     "output_type": "stream",
     "text": [
      "get plane (17142, 3)\n",
      "i[indice_inject] (17142,)\n",
      "get plane [33 19 50]\n",
      "i[indice_inject] 33\n",
      "j[indice_inject] 19\n",
      "k[indice_inject] 50\n",
      "get plane (17428, 3)\n",
      "i[indice_inject] (17428,)\n",
      "get plane [19 13 76]\n",
      "i[indice_inject] 19\n",
      "j[indice_inject] 13\n",
      "k[indice_inject] 76\n",
      "get plane (17283, 3)\n",
      "i[indice_inject] (17283,)\n",
      "get plane [35 19 51]\n",
      "i[indice_inject] 35\n",
      "j[indice_inject] 19\n",
      "k[indice_inject] 51\n",
      "get plane (17299, 3)\n",
      "i[indice_inject] (17299,)\n",
      "get plane [36 19 51]\n",
      "i[indice_inject] 36\n",
      "j[indice_inject] 19\n",
      "k[indice_inject] 51\n",
      "get plane (17417, 3)\n",
      "i[indice_inject] (17417,)\n",
      "get plane [16 13 78]\n",
      "i[indice_inject] 16\n",
      "j[indice_inject] 13\n",
      "k[indice_inject] 78\n"
     ]
    },
    {
     "name": "stderr",
     "output_type": "stream",
     "text": [
      "running:  49%|█████████████████████████▉                           | 49.0/100 [01:29<01:54, 2.24s/B]"
     ]
    },
    {
     "name": "stdout",
     "output_type": "stream",
     "text": [
      "get plane (17442, 3)\n",
      "i[indice_inject] (17442,)\n",
      "get plane [35 30 78]\n",
      "i[indice_inject] 35\n",
      "j[indice_inject] 30\n",
      "k[indice_inject] 78\n",
      "get plane (17399, 3)\n",
      "i[indice_inject] (17399,)\n",
      "get plane [46 33 57]\n",
      "i[indice_inject] 47\n",
      "j[indice_inject] 34\n",
      "k[indice_inject] 58\n",
      "get plane (17603, 3)\n",
      "i[indice_inject] (17603,)\n",
      "get plane [11 33 78]\n",
      "i[indice_inject] 11\n",
      "j[indice_inject] 33\n",
      "k[indice_inject] 78\n",
      "get plane (17382, 3)\n",
      "i[indice_inject] (17382,)\n",
      "get plane [ 2 30 55]\n",
      "i[indice_inject] 2\n",
      "j[indice_inject] 30\n",
      "k[indice_inject] 55\n",
      "get plane (17401, 3)\n",
      "i[indice_inject] (17401,)\n",
      "get plane [40 30 52]\n",
      "i[indice_inject] 40\n",
      "j[indice_inject] 30\n",
      "k[indice_inject] 52\n"
     ]
    },
    {
     "name": "stderr",
     "output_type": "stream",
     "text": [
      "running:  50%|██████████████████████████▌                          | 50.0/100 [01:31<01:52, 2.25s/B]"
     ]
    },
    {
     "name": "stdout",
     "output_type": "stream",
     "text": [
      "get plane (17346, 3)\n",
      "i[indice_inject] (17346,)\n",
      "get plane [41 14 79]\n",
      "i[indice_inject] 41\n",
      "j[indice_inject] 14\n",
      "k[indice_inject] 79\n",
      "get plane (16887, 3)\n",
      "i[indice_inject] (16887,)\n",
      "get plane [40 43 77]\n",
      "i[indice_inject] 40\n",
      "j[indice_inject] 43\n",
      "k[indice_inject] 77\n",
      "get plane (17341, 3)\n",
      "i[indice_inject] (17341,)\n",
      "get plane [26 15 79]\n",
      "i[indice_inject] 26\n",
      "j[indice_inject] 15\n",
      "k[indice_inject] 79\n",
      "get plane (17217, 3)\n",
      "i[indice_inject] (17217,)\n",
      "get plane [16 41 79]\n",
      "i[indice_inject] 16\n",
      "j[indice_inject] 41\n",
      "k[indice_inject] 79\n",
      "get plane (17444, 3)\n",
      "i[indice_inject] (17444,)\n",
      "get plane [ 0 48 78]\n",
      "i[indice_inject] 0\n",
      "j[indice_inject] 48\n",
      "k[indice_inject] 78\n"
     ]
    },
    {
     "name": "stderr",
     "output_type": "stream",
     "text": [
      "running:  51%|███████████████████████████                          | 51.0/100 [01:33<01:50, 2.26s/B]"
     ]
    },
    {
     "name": "stdout",
     "output_type": "stream",
     "text": [
      "get plane (17355, 3)\n",
      "i[indice_inject] (17355,)\n",
      "get plane [41 23 49]\n",
      "i[indice_inject] 41\n",
      "j[indice_inject] 23\n",
      "k[indice_inject] 49\n",
      "get plane (17269, 3)\n",
      "i[indice_inject] (17269,)\n",
      "get plane [43 47 77]\n",
      "i[indice_inject] 43\n",
      "j[indice_inject] 47\n",
      "k[indice_inject] 77\n",
      "get plane (17065, 3)\n",
      "i[indice_inject] (17065,)\n",
      "get plane [43 48 76]\n",
      "i[indice_inject] 43\n",
      "j[indice_inject] 48\n",
      "k[indice_inject] 76\n",
      "get plane (17296, 3)\n",
      "i[indice_inject] (17296,)\n",
      "get plane [ 8 17 78]\n",
      "i[indice_inject] 8\n",
      "j[indice_inject] 17\n",
      "k[indice_inject] 78\n",
      "get plane (17188, 3)\n",
      "i[indice_inject] (17188,)\n",
      "get plane [45 37 78]\n",
      "i[indice_inject] 45\n",
      "j[indice_inject] 37\n",
      "k[indice_inject] 78\n"
     ]
    },
    {
     "name": "stderr",
     "output_type": "stream",
     "text": [
      "running:  52%|███████████████████████████▌                         | 52.0/100 [01:36<01:47, 2.25s/B]"
     ]
    },
    {
     "name": "stdout",
     "output_type": "stream",
     "text": [
      "get plane (17425, 3)\n",
      "i[indice_inject] (17425,)\n",
      "get plane [ 0 30 70]\n",
      "i[indice_inject] 0\n",
      "j[indice_inject] 30\n",
      "k[indice_inject] 70\n",
      "get plane (17074, 3)\n",
      "i[indice_inject] (17074,)\n",
      "get plane [11 18 78]\n",
      "i[indice_inject] 11\n",
      "j[indice_inject] 18\n",
      "k[indice_inject] 78\n",
      "get plane (17260, 3)\n",
      "i[indice_inject] (17260,)\n",
      "get plane [43 19 54]\n",
      "i[indice_inject] 43\n",
      "j[indice_inject] 19\n",
      "k[indice_inject] 54\n",
      "get plane (17359, 3)\n",
      "i[indice_inject] (17359,)\n",
      "get plane [36 13 77]\n",
      "i[indice_inject] 36\n",
      "j[indice_inject] 13\n",
      "k[indice_inject] 77\n",
      "get plane (17194, 3)\n",
      "i[indice_inject] (17194,)\n",
      "get plane [35 19 66]\n",
      "i[indice_inject] 35\n",
      "j[indice_inject] 19\n",
      "k[indice_inject] 66\n"
     ]
    },
    {
     "name": "stderr",
     "output_type": "stream",
     "text": [
      "running:  53%|████████████████████████████                         | 53.0/100 [01:38<01:47, 2.28s/B]"
     ]
    },
    {
     "name": "stdout",
     "output_type": "stream",
     "text": [
      "get plane (17371, 3)\n",
      "i[indice_inject] (17371,)\n",
      "get plane [37 13 76]\n",
      "i[indice_inject] 37\n",
      "j[indice_inject] 13\n",
      "k[indice_inject] 76\n",
      "get plane (17238, 3)\n",
      "i[indice_inject] (17238,)\n",
      "get plane [31 29 48]\n",
      "i[indice_inject] 31\n",
      "j[indice_inject] 29\n",
      "k[indice_inject] 48\n",
      "get plane (17213, 3)\n",
      "i[indice_inject] (17213,)\n",
      "get plane [24 30 49]\n",
      "i[indice_inject] 24\n",
      "j[indice_inject] 30\n",
      "k[indice_inject] 49\n",
      "get plane (17295, 3)\n",
      "i[indice_inject] (17295,)\n",
      "get plane [ 1 17 76]\n",
      "i[indice_inject] 1\n",
      "j[indice_inject] 17\n",
      "k[indice_inject] 76\n",
      "get plane (17315, 3)\n",
      "i[indice_inject] (17315,)\n",
      "get plane [ 1 18 77]\n",
      "i[indice_inject] 1\n",
      "j[indice_inject] 18\n",
      "k[indice_inject] 77\n"
     ]
    },
    {
     "name": "stderr",
     "output_type": "stream",
     "text": [
      "running:  54%|████████████████████████████▌                        | 54.0/100 [01:40<01:46, 2.32s/B]"
     ]
    },
    {
     "name": "stdout",
     "output_type": "stream",
     "text": [
      "get plane (17404, 3)\n",
      "i[indice_inject] (17404,)\n",
      "get plane [44 17 79]\n",
      "i[indice_inject] 44\n",
      "j[indice_inject] 17\n",
      "k[indice_inject] 79\n",
      "get plane (17430, 3)\n",
      "i[indice_inject] (17430,)\n",
      "get plane [15 34 77]\n",
      "i[indice_inject] 15\n",
      "j[indice_inject] 34\n",
      "k[indice_inject] 77\n",
      "get plane (17280, 3)\n",
      "i[indice_inject] (17280,)\n",
      "get plane [16  1 77]\n",
      "i[indice_inject] 16\n",
      "j[indice_inject] 1\n",
      "k[indice_inject] 77\n",
      "get plane (17140, 3)\n",
      "i[indice_inject] (17140,)\n",
      "get plane [ 7 30 77]\n",
      "i[indice_inject] 7\n",
      "j[indice_inject] 30\n",
      "k[indice_inject] 77\n",
      "get plane (17195, 3)\n",
      "i[indice_inject] (17195,)\n",
      "get plane [34 14 56]\n",
      "i[indice_inject] 34\n",
      "j[indice_inject] 14\n",
      "k[indice_inject] 55\n"
     ]
    },
    {
     "name": "stderr",
     "output_type": "stream",
     "text": [
      "running:  55%|█████████████████████████████▏                       | 55.0/100 [01:43<01:44, 2.31s/B]"
     ]
    },
    {
     "name": "stdout",
     "output_type": "stream",
     "text": [
      "get plane (17144, 3)\n",
      "i[indice_inject] (17144,)\n",
      "get plane [40 38 76]\n",
      "i[indice_inject] 40\n",
      "j[indice_inject] 38\n",
      "k[indice_inject] 76\n",
      "get plane (17129, 3)\n",
      "i[indice_inject] (17129,)\n",
      "get plane [20 30 73]\n",
      "i[indice_inject] 20\n",
      "j[indice_inject] 30\n",
      "k[indice_inject] 73\n",
      "get plane (16968, 3)\n",
      "i[indice_inject] (16968,)\n",
      "get plane [ 6 40 77]\n",
      "i[indice_inject] 6\n",
      "j[indice_inject] 40\n",
      "k[indice_inject] 77\n",
      "get plane (16973, 3)\n",
      "i[indice_inject] (16973,)\n",
      "get plane [ 7 30 52]\n",
      "i[indice_inject] 7\n",
      "j[indice_inject] 30\n",
      "k[indice_inject] 52\n",
      "get plane (17311, 3)\n",
      "i[indice_inject] (17311,)\n",
      "get plane [ 6 30 52]\n",
      "i[indice_inject] 6\n",
      "j[indice_inject] 30\n",
      "k[indice_inject] 52\n"
     ]
    },
    {
     "name": "stderr",
     "output_type": "stream",
     "text": [
      "running:  56%|█████████████████████████████▋                       | 56.0/100 [01:45<01:42, 2.33s/B]"
     ]
    },
    {
     "name": "stdout",
     "output_type": "stream",
     "text": [
      "get plane (17065, 3)\n",
      "i[indice_inject] (17065,)\n",
      "get plane [33 19 64]\n",
      "i[indice_inject] 33\n",
      "j[indice_inject] 19\n",
      "k[indice_inject] 64\n",
      "get plane (17482, 3)\n",
      "i[indice_inject] (17482,)\n",
      "get plane [33 30 71]\n",
      "i[indice_inject] 33\n",
      "j[indice_inject] 30\n",
      "k[indice_inject] 71\n",
      "get plane (17184, 3)\n",
      "i[indice_inject] (17184,)\n",
      "get plane [25 44 79]\n",
      "i[indice_inject] 25\n",
      "j[indice_inject] 44\n",
      "k[indice_inject] 79\n",
      "get plane (17077, 3)\n",
      "i[indice_inject] (17077,)\n",
      "get plane [24 40 78]\n",
      "i[indice_inject] 24\n",
      "j[indice_inject] 40\n",
      "k[indice_inject] 78\n",
      "get plane (17447, 3)\n",
      "i[indice_inject] (17447,)\n",
      "get plane [49 27 46]\n",
      "i[indice_inject] 49\n",
      "j[indice_inject] 27\n",
      "k[indice_inject] 45\n"
     ]
    },
    {
     "name": "stderr",
     "output_type": "stream",
     "text": [
      "running:  57%|██████████████████████████████▏                      | 57.0/100 [01:47<01:40, 2.33s/B]"
     ]
    },
    {
     "name": "stdout",
     "output_type": "stream",
     "text": [
      "get plane (17034, 3)\n",
      "i[indice_inject] (17034,)\n",
      "get plane [45  8 78]\n",
      "i[indice_inject] 45\n",
      "j[indice_inject] 8\n",
      "k[indice_inject] 78\n",
      "get plane (17346, 3)\n",
      "i[indice_inject] (17346,)\n",
      "get plane [45  8 77]\n",
      "i[indice_inject] 45\n",
      "j[indice_inject] 8\n",
      "k[indice_inject] 77\n",
      "get plane (17125, 3)\n",
      "i[indice_inject] (17125,)\n",
      "get plane [45  8 77]\n",
      "i[indice_inject] 45\n",
      "j[indice_inject] 8\n",
      "k[indice_inject] 77\n",
      "get plane (17221, 3)\n",
      "i[indice_inject] (17221,)\n",
      "get plane [45  8 76]\n",
      "i[indice_inject] 45\n",
      "j[indice_inject] 8\n",
      "k[indice_inject] 76\n",
      "get plane (17354, 3)\n",
      "i[indice_inject] (17354,)\n",
      "get plane [45  9 75]\n",
      "i[indice_inject] 45\n",
      "j[indice_inject] 9\n",
      "k[indice_inject] 75\n"
     ]
    },
    {
     "name": "stderr",
     "output_type": "stream",
     "text": [
      "running:  58%|██████████████████████████████▋                      | 58.0/100 [01:50<01:38, 2.34s/B]"
     ]
    },
    {
     "name": "stdout",
     "output_type": "stream",
     "text": [
      "get plane (17202, 3)\n",
      "i[indice_inject] (17202,)\n",
      "get plane [46 10 75]\n",
      "i[indice_inject] 46\n",
      "j[indice_inject] 10\n",
      "k[indice_inject] 75\n",
      "get plane (17171, 3)\n",
      "i[indice_inject] (17171,)\n",
      "get plane [ 1 19 48]\n",
      "i[indice_inject] 1\n",
      "j[indice_inject] 19\n",
      "k[indice_inject] 48\n",
      "get plane (17279, 3)\n",
      "i[indice_inject] (17279,)\n",
      "get plane [11 33 76]\n",
      "i[indice_inject] 11\n",
      "j[indice_inject] 33\n",
      "k[indice_inject] 76\n",
      "get plane (17189, 3)\n",
      "i[indice_inject] (17189,)\n",
      "get plane [17  5 77]\n",
      "i[indice_inject] 17\n",
      "j[indice_inject] 5\n",
      "k[indice_inject] 77\n",
      "get plane (17121, 3)\n",
      "i[indice_inject] (17121,)\n",
      "get plane [47 13 75]\n",
      "i[indice_inject] 47\n",
      "j[indice_inject] 13\n",
      "k[indice_inject] 75\n"
     ]
    },
    {
     "name": "stderr",
     "output_type": "stream",
     "text": [
      "running:  59%|███████████████████████████████▎                     | 59.0/100 [01:52<01:36, 2.34s/B]"
     ]
    },
    {
     "name": "stdout",
     "output_type": "stream",
     "text": [
      "get plane (17345, 3)\n",
      "i[indice_inject] (17345,)\n",
      "get plane [ 6 48 76]\n",
      "i[indice_inject] 6\n",
      "j[indice_inject] 48\n",
      "k[indice_inject] 76\n",
      "get plane (17246, 3)\n",
      "i[indice_inject] (17246,)\n",
      "get plane [17 15 76]\n",
      "i[indice_inject] 17\n",
      "j[indice_inject] 15\n",
      "k[indice_inject] 76\n",
      "get plane (17290, 3)\n",
      "i[indice_inject] (17290,)\n",
      "get plane [10 30 49]\n",
      "i[indice_inject] 10\n",
      "j[indice_inject] 30\n",
      "k[indice_inject] 49\n",
      "get plane (17292, 3)\n",
      "i[indice_inject] (17292,)\n",
      "get plane [ 6 25 47]\n",
      "i[indice_inject] 6\n",
      "j[indice_inject] 25\n",
      "k[indice_inject] 47\n",
      "get plane (17282, 3)\n",
      "i[indice_inject] (17282,)\n",
      "get plane [26 17 76]\n",
      "i[indice_inject] 26\n",
      "j[indice_inject] 17\n",
      "k[indice_inject] 76\n"
     ]
    },
    {
     "name": "stderr",
     "output_type": "stream",
     "text": [
      "running:  60%|███████████████████████████████▊                     | 60.0/100 [01:54<01:33, 2.34s/B]"
     ]
    },
    {
     "name": "stdout",
     "output_type": "stream",
     "text": [
      "get plane (17365, 3)\n",
      "i[indice_inject] (17365,)\n",
      "get plane [14 30 53]\n",
      "i[indice_inject] 14\n",
      "j[indice_inject] 30\n",
      "k[indice_inject] 53\n",
      "get plane (17204, 3)\n",
      "i[indice_inject] (17204,)\n",
      "get plane [ 5 37 75]\n",
      "i[indice_inject] 5\n",
      "j[indice_inject] 37\n",
      "k[indice_inject] 75\n",
      "get plane (17415, 3)\n",
      "i[indice_inject] (17415,)\n",
      "get plane [ 2 18 77]\n",
      "i[indice_inject] 2\n",
      "j[indice_inject] 18\n",
      "k[indice_inject] 77\n",
      "get plane (17292, 3)\n",
      "i[indice_inject] (17292,)\n",
      "get plane [ 2 18 77]\n",
      "i[indice_inject] 2\n",
      "j[indice_inject] 18\n",
      "k[indice_inject] 77\n",
      "get plane (17224, 3)\n",
      "i[indice_inject] (17224,)\n",
      "get plane [40 16 77]\n",
      "i[indice_inject] 40\n",
      "j[indice_inject] 16\n",
      "k[indice_inject] 77\n"
     ]
    },
    {
     "name": "stderr",
     "output_type": "stream",
     "text": [
      "running:  61%|████████████████████████████████▎                    | 61.0/100 [01:57<01:32, 2.37s/B]"
     ]
    },
    {
     "name": "stdout",
     "output_type": "stream",
     "text": [
      "get plane (17232, 3)\n",
      "i[indice_inject] (17232,)\n",
      "get plane [ 7  1 76]\n",
      "i[indice_inject] 7\n",
      "j[indice_inject] 1\n",
      "k[indice_inject] 76\n",
      "get plane (17522, 3)\n",
      "i[indice_inject] (17522,)\n",
      "get plane [ 4 32 75]\n",
      "i[indice_inject] 4\n",
      "j[indice_inject] 32\n",
      "k[indice_inject] 75\n",
      "get plane (17189, 3)\n",
      "i[indice_inject] (17189,)\n",
      "get plane [24 19 61]\n",
      "i[indice_inject] 24\n",
      "j[indice_inject] 19\n",
      "k[indice_inject] 61\n",
      "get plane (17140, 3)\n",
      "i[indice_inject] (17140,)\n",
      "get plane [38 30 48]\n",
      "i[indice_inject] 38\n",
      "j[indice_inject] 30\n",
      "k[indice_inject] 48\n",
      "get plane (17285, 3)\n",
      "i[indice_inject] (17285,)\n",
      "get plane [18 30 54]\n",
      "i[indice_inject] 18\n",
      "j[indice_inject] 30\n",
      "k[indice_inject] 54\n"
     ]
    },
    {
     "name": "stderr",
     "output_type": "stream",
     "text": [
      "running:  62%|████████████████████████████████▊                    | 62.0/100 [01:59<01:31, 2.41s/B]"
     ]
    },
    {
     "name": "stdout",
     "output_type": "stream",
     "text": [
      "get plane (17075, 3)\n",
      "i[indice_inject] (17075,)\n",
      "get plane [ 6 30 48]\n",
      "i[indice_inject] 6\n",
      "j[indice_inject] 30\n",
      "k[indice_inject] 48\n",
      "get plane (17450, 3)\n",
      "i[indice_inject] (17450,)\n",
      "get plane [ 7 30 48]\n",
      "i[indice_inject] 7\n",
      "j[indice_inject] 30\n",
      "k[indice_inject] 48\n",
      "get plane (17306, 3)\n",
      "i[indice_inject] (17306,)\n",
      "get plane [33 44 77]\n",
      "i[indice_inject] 33\n",
      "j[indice_inject] 44\n",
      "k[indice_inject] 77\n",
      "get plane (17249, 3)\n",
      "i[indice_inject] (17249,)\n",
      "get plane [14 30 60]\n",
      "i[indice_inject] 14\n",
      "j[indice_inject] 30\n",
      "k[indice_inject] 60\n",
      "get plane (17405, 3)\n",
      "i[indice_inject] (17405,)\n",
      "get plane [37 33 75]\n",
      "i[indice_inject] 37\n",
      "j[indice_inject] 33\n",
      "k[indice_inject] 75\n"
     ]
    },
    {
     "name": "stderr",
     "output_type": "stream",
     "text": [
      "running:  63%|█████████████████████████████████▍                   | 63.0/100 [02:02<01:30, 2.44s/B]"
     ]
    },
    {
     "name": "stdout",
     "output_type": "stream",
     "text": [
      "get plane (17350, 3)\n",
      "i[indice_inject] (17350,)\n",
      "get plane [22 19 49]\n",
      "i[indice_inject] 22\n",
      "j[indice_inject] 19\n",
      "k[indice_inject] 49\n",
      "get plane (17234, 3)\n",
      "i[indice_inject] (17234,)\n",
      "get plane [22 19 49]\n",
      "i[indice_inject] 22\n",
      "j[indice_inject] 19\n",
      "k[indice_inject] 49\n",
      "get plane (17341, 3)\n",
      "i[indice_inject] (17341,)\n",
      "get plane [ 2 18 77]\n",
      "i[indice_inject] 2\n",
      "j[indice_inject] 18\n",
      "k[indice_inject] 77\n",
      "get plane (17131, 3)\n",
      "i[indice_inject] (17131,)\n",
      "get plane [21 14 51]\n",
      "i[indice_inject] 20\n",
      "j[indice_inject] 1\n",
      "k[indice_inject] 40\n",
      "get plane (17098, 3)\n",
      "i[indice_inject] (17098,)\n",
      "get plane [16 48 76]\n",
      "i[indice_inject] 16\n",
      "j[indice_inject] 48\n",
      "k[indice_inject] 76\n"
     ]
    },
    {
     "name": "stderr",
     "output_type": "stream",
     "text": [
      "running:  64%|█████████████████████████████████▉                   | 64.0/100 [02:04<01:29, 2.48s/B]"
     ]
    },
    {
     "name": "stdout",
     "output_type": "stream",
     "text": [
      "get plane (17231, 3)\n",
      "i[indice_inject] (17231,)\n",
      "get plane [16 48 76]\n",
      "i[indice_inject] 16\n",
      "j[indice_inject] 48\n",
      "k[indice_inject] 76\n",
      "get plane (17261, 3)\n",
      "i[indice_inject] (17261,)\n",
      "get plane [21 14 51]\n",
      "i[indice_inject] 22\n",
      "j[indice_inject] 2\n",
      "k[indice_inject] 39\n",
      "get plane (17024, 3)\n",
      "i[indice_inject] (17024,)\n",
      "get plane [43  6 76]\n",
      "i[indice_inject] 43\n",
      "j[indice_inject] 6\n",
      "k[indice_inject] 76\n",
      "get plane (17413, 3)\n",
      "i[indice_inject] (17413,)\n",
      "get plane [27 16 47]\n",
      "i[indice_inject] 24\n",
      "j[indice_inject] 3\n",
      "k[indice_inject] 39\n",
      "get plane (17345, 3)\n",
      "i[indice_inject] (17345,)\n",
      "get plane [49 19 68]\n",
      "i[indice_inject] 49\n",
      "j[indice_inject] 19\n",
      "k[indice_inject] 68\n"
     ]
    },
    {
     "name": "stderr",
     "output_type": "stream",
     "text": [
      "running:  65%|██████████████████████████████████▍                  | 65.0/100 [02:07<01:26, 2.48s/B]"
     ]
    },
    {
     "name": "stdout",
     "output_type": "stream",
     "text": [
      "get plane (17077, 3)\n",
      "i[indice_inject] (17077,)\n",
      "get plane [24 19 47]\n",
      "i[indice_inject] 24\n",
      "j[indice_inject] 19\n",
      "k[indice_inject] 47\n",
      "get plane (17254, 3)\n",
      "i[indice_inject] (17254,)\n",
      "get plane [24 19 47]\n",
      "i[indice_inject] 24\n",
      "j[indice_inject] 19\n",
      "k[indice_inject] 47\n",
      "get plane (17179, 3)\n",
      "i[indice_inject] (17179,)\n",
      "get plane [35 19 56]\n",
      "i[indice_inject] 35\n",
      "j[indice_inject] 19\n",
      "k[indice_inject] 56\n",
      "get plane (17055, 3)\n",
      "i[indice_inject] (17055,)\n",
      "get plane [12  8 76]\n",
      "i[indice_inject] 12\n",
      "j[indice_inject] 8\n",
      "k[indice_inject] 76\n",
      "get plane (17351, 3)\n",
      "i[indice_inject] (17351,)\n",
      "get plane [12  8 75]\n",
      "i[indice_inject] 12\n",
      "j[indice_inject] 8\n",
      "k[indice_inject] 75\n"
     ]
    },
    {
     "name": "stderr",
     "output_type": "stream",
     "text": [
      "running:  66%|██████████████████████████████████▉                  | 66.0/100 [02:09<01:24, 2.49s/B]"
     ]
    },
    {
     "name": "stdout",
     "output_type": "stream",
     "text": [
      "get plane (17287, 3)\n",
      "i[indice_inject] (17287,)\n",
      "get plane [11  8 74]\n",
      "i[indice_inject] 11\n",
      "j[indice_inject] 8\n",
      "k[indice_inject] 74\n",
      "get plane (17077, 3)\n",
      "i[indice_inject] (17077,)\n",
      "get plane [ 2 46 76]\n",
      "i[indice_inject] 2\n",
      "j[indice_inject] 46\n",
      "k[indice_inject] 76\n",
      "get plane (16772, 3)\n",
      "i[indice_inject] (16772,)\n",
      "get plane [ 2 18 76]\n",
      "i[indice_inject] 2\n",
      "j[indice_inject] 18\n",
      "k[indice_inject] 76\n",
      "get plane (17101, 3)\n",
      "i[indice_inject] (17101,)\n",
      "get plane [ 9  8 76]\n",
      "i[indice_inject] 9\n",
      "j[indice_inject] 8\n",
      "k[indice_inject] 76\n",
      "get plane (17172, 3)\n",
      "i[indice_inject] (17172,)\n",
      "get plane [ 0  8 76]\n",
      "i[indice_inject] 0\n",
      "j[indice_inject] 8\n",
      "k[indice_inject] 76\n"
     ]
    },
    {
     "name": "stderr",
     "output_type": "stream",
     "text": [
      "running:  67%|███████████████████████████████████▌                 | 67.0/100 [02:12<01:22, 2.50s/B]"
     ]
    },
    {
     "name": "stdout",
     "output_type": "stream",
     "text": [
      "get plane (17332, 3)\n",
      "i[indice_inject] (17332,)\n",
      "get plane [17 19 48]\n",
      "i[indice_inject] 17\n",
      "j[indice_inject] 18\n",
      "k[indice_inject] 48\n",
      "get plane (17200, 3)\n",
      "i[indice_inject] (17200,)\n",
      "get plane [40  4 76]\n",
      "i[indice_inject] 40\n",
      "j[indice_inject] 4\n",
      "k[indice_inject] 76\n",
      "get plane (16985, 3)\n",
      "i[indice_inject] (16985,)\n",
      "get plane [42 45 76]\n",
      "i[indice_inject] 42\n",
      "j[indice_inject] 45\n",
      "k[indice_inject] 76\n",
      "get plane (17010, 3)\n",
      "i[indice_inject] (17010,)\n",
      "get plane [ 9  8 76]\n",
      "i[indice_inject] 9\n",
      "j[indice_inject] 8\n",
      "k[indice_inject] 76\n",
      "get plane (16834, 3)\n",
      "i[indice_inject] (16834,)\n",
      "get plane [14 18 49]\n",
      "i[indice_inject] 14\n",
      "j[indice_inject] 18\n",
      "k[indice_inject] 49\n"
     ]
    },
    {
     "name": "stderr",
     "output_type": "stream",
     "text": [
      "running:  68%|████████████████████████████████████                 | 68.0/100 [02:15<01:20, 2.52s/B]"
     ]
    },
    {
     "name": "stdout",
     "output_type": "stream",
     "text": [
      "get plane (17168, 3)\n",
      "i[indice_inject] (17168,)\n",
      "get plane [14 18 49]\n",
      "i[indice_inject] 13\n",
      "j[indice_inject] 17\n",
      "k[indice_inject] 49\n",
      "get plane (16863, 3)\n",
      "i[indice_inject] (16863,)\n",
      "get plane [12 19 49]\n",
      "i[indice_inject] 12\n",
      "j[indice_inject] 18\n",
      "k[indice_inject] 49\n",
      "get plane (17283, 3)\n",
      "i[indice_inject] (17283,)\n",
      "get plane [11 18 50]\n",
      "i[indice_inject] 12\n",
      "j[indice_inject] 17\n",
      "k[indice_inject] 50\n",
      "get plane (17248, 3)\n",
      "i[indice_inject] (17248,)\n",
      "get plane [11 18 50]\n",
      "i[indice_inject] 11\n",
      "j[indice_inject] 17\n",
      "k[indice_inject] 50\n",
      "get plane (17130, 3)\n",
      "i[indice_inject] (17130,)\n",
      "get plane [ 9 17 76]\n",
      "i[indice_inject] 9\n",
      "j[indice_inject] 17\n",
      "k[indice_inject] 76\n"
     ]
    },
    {
     "name": "stderr",
     "output_type": "stream",
     "text": [
      "running:  69%|████████████████████████████████████▌                | 69.0/100 [02:17<01:19, 2.55s/B]"
     ]
    },
    {
     "name": "stdout",
     "output_type": "stream",
     "text": [
      "get plane (17118, 3)\n",
      "i[indice_inject] (17118,)\n",
      "get plane [45  8 76]\n",
      "i[indice_inject] 45\n",
      "j[indice_inject] 8\n",
      "k[indice_inject] 76\n",
      "get plane (17106, 3)\n",
      "i[indice_inject] (17106,)\n",
      "get plane [39 30 66]\n",
      "i[indice_inject] 39\n",
      "j[indice_inject] 30\n",
      "k[indice_inject] 66\n",
      "get plane (17154, 3)\n",
      "i[indice_inject] (17154,)\n",
      "get plane [10 16 53]\n",
      "i[indice_inject] 11\n",
      "j[indice_inject] 14\n",
      "k[indice_inject] 51\n",
      "get plane (17314, 3)\n",
      "i[indice_inject] (17314,)\n",
      "get plane [10 15 54]\n",
      "i[indice_inject] 12\n",
      "j[indice_inject] 13\n",
      "k[indice_inject] 52\n",
      "get plane (17247, 3)\n",
      "i[indice_inject] (17247,)\n",
      "get plane [48  2 76]\n",
      "i[indice_inject] 48\n",
      "j[indice_inject] 2\n",
      "k[indice_inject] 76\n"
     ]
    },
    {
     "name": "stderr",
     "output_type": "stream",
     "text": [
      "running:  70%|█████████████████████████████████████                | 70.0/100 [02:20<01:16, 2.56s/B]"
     ]
    },
    {
     "name": "stdout",
     "output_type": "stream",
     "text": [
      "get plane (17209, 3)\n",
      "i[indice_inject] (17209,)\n",
      "get plane [41 32 74]\n",
      "i[indice_inject] 41\n",
      "j[indice_inject] 32\n",
      "k[indice_inject] 74\n",
      "get plane (17165, 3)\n",
      "i[indice_inject] (17165,)\n",
      "get plane [44 33 75]\n",
      "i[indice_inject] 44\n",
      "j[indice_inject] 33\n",
      "k[indice_inject] 75\n",
      "get plane (17205, 3)\n",
      "i[indice_inject] (17205,)\n",
      "get plane [10 15 54]\n",
      "i[indice_inject] 14\n",
      "j[indice_inject] 11\n",
      "k[indice_inject] 51\n",
      "get plane (17093, 3)\n",
      "i[indice_inject] (17093,)\n",
      "get plane [20 14 51]\n",
      "i[indice_inject] 14\n",
      "j[indice_inject] 10\n",
      "k[indice_inject] 50\n",
      "get plane (17264, 3)\n",
      "i[indice_inject] (17264,)\n",
      "get plane [20 14 51]\n",
      "i[indice_inject] 14\n",
      "j[indice_inject] 10\n",
      "k[indice_inject] 51\n"
     ]
    },
    {
     "name": "stderr",
     "output_type": "stream",
     "text": [
      "running:  71%|█████████████████████████████████████▋               | 71.0/100 [02:22<01:14, 2.58s/B]"
     ]
    },
    {
     "name": "stdout",
     "output_type": "stream",
     "text": [
      "get plane (17215, 3)\n",
      "i[indice_inject] (17215,)\n",
      "get plane [ 3 38 75]\n",
      "i[indice_inject] 3\n",
      "j[indice_inject] 38\n",
      "k[indice_inject] 75\n",
      "get plane (17232, 3)\n",
      "i[indice_inject] (17232,)\n",
      "get plane [34 48 75]\n",
      "i[indice_inject] 34\n",
      "j[indice_inject] 48\n",
      "k[indice_inject] 75\n",
      "get plane (17210, 3)\n",
      "i[indice_inject] (17210,)\n",
      "get plane [41 25 44]\n",
      "i[indice_inject] 41\n",
      "j[indice_inject] 25\n",
      "k[indice_inject] 44\n",
      "get plane (17369, 3)\n",
      "i[indice_inject] (17369,)\n",
      "get plane [ 3 35 74]\n",
      "i[indice_inject] 3\n",
      "j[indice_inject] 35\n",
      "k[indice_inject] 74\n",
      "get plane (17242, 3)\n",
      "i[indice_inject] (17242,)\n",
      "get plane [41 32 75]\n",
      "i[indice_inject] 41\n",
      "j[indice_inject] 32\n",
      "k[indice_inject] 75\n"
     ]
    },
    {
     "name": "stderr",
     "output_type": "stream",
     "text": [
      "running:  72%|██████████████████████████████████████▏              | 72.0/100 [02:25<01:12, 2.59s/B]"
     ]
    },
    {
     "name": "stdout",
     "output_type": "stream",
     "text": [
      "get plane (17122, 3)\n",
      "i[indice_inject] (17122,)\n",
      "get plane [13 30 44]\n",
      "i[indice_inject] 13\n",
      "j[indice_inject] 30\n",
      "k[indice_inject] 44\n",
      "get plane (17367, 3)\n",
      "i[indice_inject] (17367,)\n",
      "get plane [ 8 20 39]\n",
      "i[indice_inject] 9\n",
      "j[indice_inject] 9\n",
      "k[indice_inject] 27\n",
      "get plane (17384, 3)\n",
      "i[indice_inject] (17384,)\n",
      "get plane [ 8 20 39]\n",
      "i[indice_inject] 10\n",
      "j[indice_inject] 9\n",
      "k[indice_inject] 27\n",
      "get plane (17285, 3)\n",
      "i[indice_inject] (17285,)\n",
      "get plane [39 44 73]\n",
      "i[indice_inject] 39\n",
      "j[indice_inject] 44\n",
      "k[indice_inject] 73\n",
      "get plane (17121, 3)\n",
      "i[indice_inject] (17121,)\n",
      "get plane [34 14 76]\n",
      "i[indice_inject] 34\n",
      "j[indice_inject] 14\n",
      "k[indice_inject] 76\n"
     ]
    },
    {
     "name": "stderr",
     "output_type": "stream",
     "text": [
      "running:  73%|██████████████████████████████████████▋              | 73.0/100 [02:28<01:09, 2.59s/B]"
     ]
    },
    {
     "name": "stdout",
     "output_type": "stream",
     "text": [
      "get plane (17065, 3)\n",
      "i[indice_inject] (17065,)\n",
      "get plane [39 32 70]\n",
      "i[indice_inject] 39\n",
      "j[indice_inject] 32\n",
      "k[indice_inject] 70\n",
      "get plane (17130, 3)\n",
      "i[indice_inject] (17130,)\n",
      "get plane [ 5 30 53]\n",
      "i[indice_inject] 5\n",
      "j[indice_inject] 30\n",
      "k[indice_inject] 53\n",
      "get plane (17338, 3)\n",
      "i[indice_inject] (17338,)\n",
      "get plane [11  9 75]\n",
      "i[indice_inject] 11\n",
      "j[indice_inject] 9\n",
      "k[indice_inject] 75\n",
      "get plane (17331, 3)\n",
      "i[indice_inject] (17331,)\n",
      "get plane [15 20 39]\n",
      "i[indice_inject] 16\n",
      "j[indice_inject] 9\n",
      "k[indice_inject] 25\n",
      "get plane (17099, 3)\n",
      "i[indice_inject] (17099,)\n",
      "get plane [48 19 59]\n",
      "i[indice_inject] 48\n",
      "j[indice_inject] 19\n",
      "k[indice_inject] 59\n"
     ]
    },
    {
     "name": "stderr",
     "output_type": "stream",
     "text": [
      "running:  74%|███████████████████████████████████████▏             | 74.0/100 [02:30<01:08, 2.62s/B]"
     ]
    },
    {
     "name": "stdout",
     "output_type": "stream",
     "text": [
      "get plane (17415, 3)\n",
      "i[indice_inject] (17415,)\n",
      "get plane [25 48 76]\n",
      "i[indice_inject] 25\n",
      "j[indice_inject] 48\n",
      "k[indice_inject] 76\n",
      "get plane (17378, 3)\n",
      "i[indice_inject] (17378,)\n",
      "get plane [39 19 54]\n",
      "i[indice_inject] 39\n",
      "j[indice_inject] 19\n",
      "k[indice_inject] 54\n",
      "get plane (17054, 3)\n",
      "i[indice_inject] (17054,)\n",
      "get plane [27 20 37]\n",
      "i[indice_inject] 20\n",
      "j[indice_inject] 10\n",
      "k[indice_inject] 23\n",
      "get plane (17183, 3)\n",
      "i[indice_inject] (17183,)\n",
      "get plane [41 19 54]\n",
      "i[indice_inject] 41\n",
      "j[indice_inject] 19\n",
      "k[indice_inject] 54\n",
      "get plane (17195, 3)\n",
      "i[indice_inject] (17195,)\n",
      "get plane [43 19 55]\n",
      "i[indice_inject] 43\n",
      "j[indice_inject] 19\n",
      "k[indice_inject] 55\n"
     ]
    },
    {
     "name": "stderr",
     "output_type": "stream",
     "text": [
      "running:  75%|███████████████████████████████████████▊             | 75.0/100 [02:33<01:05, 2.61s/B]"
     ]
    },
    {
     "name": "stdout",
     "output_type": "stream",
     "text": [
      "get plane (17247, 3)\n",
      "i[indice_inject] (17247,)\n",
      "get plane [27 20 37]\n",
      "i[indice_inject] 22\n",
      "j[indice_inject] 10\n",
      "k[indice_inject] 22\n",
      "get plane (17009, 3)\n",
      "i[indice_inject] (17009,)\n",
      "get plane [ 5 37 74]\n",
      "i[indice_inject] 5\n",
      "j[indice_inject] 37\n",
      "k[indice_inject] 74\n",
      "get plane (17147, 3)\n",
      "i[indice_inject] (17147,)\n",
      "get plane [27 20 37]\n",
      "i[indice_inject] 24\n",
      "j[indice_inject] 10\n",
      "k[indice_inject] 21\n",
      "get plane (16901, 3)\n",
      "i[indice_inject] (16901,)\n",
      "get plane [27 20 37]\n",
      "i[indice_inject] 25\n",
      "j[indice_inject] 10\n",
      "k[indice_inject] 21\n",
      "get plane (17031, 3)\n",
      "i[indice_inject] (17031,)\n",
      "get plane [20 13 51]\n",
      "i[indice_inject] 14\n",
      "j[indice_inject] 8\n",
      "k[indice_inject] 50\n"
     ]
    },
    {
     "name": "stderr",
     "output_type": "stream",
     "text": [
      "running:  76%|████████████████████████████████████████▎            | 76.0/100 [02:36<01:03, 2.63s/B]"
     ]
    },
    {
     "name": "stdout",
     "output_type": "stream",
     "text": [
      "get plane (17220, 3)\n",
      "i[indice_inject] (17220,)\n",
      "get plane [20 13 51]\n",
      "i[indice_inject] 14\n",
      "j[indice_inject] 7\n",
      "k[indice_inject] 49\n",
      "get plane (16980, 3)\n",
      "i[indice_inject] (16980,)\n",
      "get plane [20 13 51]\n",
      "i[indice_inject] 13\n",
      "j[indice_inject] 6\n",
      "k[indice_inject] 49\n",
      "get plane (17233, 3)\n",
      "i[indice_inject] (17233,)\n",
      "get plane [25 48 75]\n",
      "i[indice_inject] 25\n",
      "j[indice_inject] 48\n",
      "k[indice_inject] 75\n",
      "get plane (17091, 3)\n",
      "i[indice_inject] (17091,)\n",
      "get plane [47 11 74]\n",
      "i[indice_inject] 47\n",
      "j[indice_inject] 11\n",
      "k[indice_inject] 74\n",
      "get plane (16989, 3)\n",
      "i[indice_inject] (16989,)\n",
      "get plane [21  0 72]\n",
      "i[indice_inject] 21\n",
      "j[indice_inject] 0\n",
      "k[indice_inject] 72\n"
     ]
    },
    {
     "name": "stderr",
     "output_type": "stream",
     "text": [
      "running:  77%|████████████████████████████████████████▊            | 77.0/100 [02:38<01:01, 2.67s/B]"
     ]
    },
    {
     "name": "stdout",
     "output_type": "stream",
     "text": [
      "get plane (17294, 3)\n",
      "i[indice_inject] (17294,)\n",
      "get plane [17  0 75]\n",
      "i[indice_inject] 17\n",
      "j[indice_inject] 0\n",
      "k[indice_inject] 75\n",
      "get plane (17275, 3)\n",
      "i[indice_inject] (17275,)\n",
      "get plane [14 45 74]\n",
      "i[indice_inject] 14\n",
      "j[indice_inject] 45\n",
      "k[indice_inject] 74\n",
      "get plane (17281, 3)\n",
      "i[indice_inject] (17281,)\n",
      "get plane [ 2 18 71]\n",
      "i[indice_inject] 2\n",
      "j[indice_inject] 18\n",
      "k[indice_inject] 71\n",
      "get plane (17159, 3)\n",
      "i[indice_inject] (17159,)\n",
      "get plane [20  0 68]\n",
      "i[indice_inject] 20\n",
      "j[indice_inject] 0\n",
      "k[indice_inject] 68\n",
      "get plane (17319, 3)\n",
      "i[indice_inject] (17319,)\n",
      "get plane [48 30 73]\n",
      "i[indice_inject] 48\n",
      "j[indice_inject] 30\n",
      "k[indice_inject] 73\n"
     ]
    },
    {
     "name": "stderr",
     "output_type": "stream",
     "text": [
      "running:  78%|█████████████████████████████████████████▎           | 78.0/100 [02:41<00:58, 2.67s/B]"
     ]
    },
    {
     "name": "stdout",
     "output_type": "stream",
     "text": [
      "get plane (16753, 3)\n",
      "i[indice_inject] (16753,)\n",
      "get plane [ 2 18 74]\n",
      "i[indice_inject] 2\n",
      "j[indice_inject] 18\n",
      "k[indice_inject] 74\n",
      "get plane (17207, 3)\n",
      "i[indice_inject] (17207,)\n",
      "get plane [ 9 17 75]\n",
      "i[indice_inject] 9\n",
      "j[indice_inject] 17\n",
      "k[indice_inject] 75\n",
      "get plane (17152, 3)\n",
      "i[indice_inject] (17152,)\n",
      "get plane [ 0 28 42]\n",
      "i[indice_inject] 0\n",
      "j[indice_inject] 28\n",
      "k[indice_inject] 42\n",
      "get plane (17047, 3)\n",
      "i[indice_inject] (17047,)\n",
      "get plane [49 19 56]\n",
      "i[indice_inject] 49\n",
      "j[indice_inject] 19\n",
      "k[indice_inject] 56\n",
      "get plane (16995, 3)\n",
      "i[indice_inject] (16995,)\n",
      "get plane [48 28 41]\n",
      "i[indice_inject] 48\n",
      "j[indice_inject] 28\n",
      "k[indice_inject] 41\n"
     ]
    },
    {
     "name": "stderr",
     "output_type": "stream",
     "text": [
      "running:  79%|█████████████████████████████████████████▊           | 79.0/100 [02:44<00:56, 2.70s/B]"
     ]
    },
    {
     "name": "stdout",
     "output_type": "stream",
     "text": [
      "get plane (17042, 3)\n",
      "i[indice_inject] (17042,)\n",
      "get plane [47 18 56]\n",
      "i[indice_inject] 47\n",
      "j[indice_inject] 18\n",
      "k[indice_inject] 55\n",
      "get plane (17202, 3)\n",
      "i[indice_inject] (17202,)\n",
      "get plane [47 18 56]\n",
      "i[indice_inject] 47\n",
      "j[indice_inject] 18\n",
      "k[indice_inject] 55\n",
      "get plane (17179, 3)\n",
      "i[indice_inject] (17179,)\n",
      "get plane [ 9 17 74]\n",
      "i[indice_inject] 9\n",
      "j[indice_inject] 17\n",
      "k[indice_inject] 74\n",
      "get plane (17197, 3)\n",
      "i[indice_inject] (17197,)\n",
      "get plane [22 31 73]\n",
      "i[indice_inject] 22\n",
      "j[indice_inject] 31\n",
      "k[indice_inject] 73\n",
      "get plane (17270, 3)\n",
      "i[indice_inject] (17270,)\n",
      "get plane [43  6 74]\n",
      "i[indice_inject] 43\n",
      "j[indice_inject] 6\n",
      "k[indice_inject] 74\n"
     ]
    },
    {
     "name": "stderr",
     "output_type": "stream",
     "text": [
      "running:  80%|██████████████████████████████████████████▍          | 80.0/100 [02:46<00:54, 2.72s/B]"
     ]
    },
    {
     "name": "stdout",
     "output_type": "stream",
     "text": [
      "get plane (17127, 3)\n",
      "i[indice_inject] (17127,)\n",
      "get plane [44 16 55]\n",
      "i[indice_inject] 43\n",
      "j[indice_inject] 15\n",
      "k[indice_inject] 55\n",
      "get plane (17162, 3)\n",
      "i[indice_inject] (17162,)\n",
      "get plane [41 28 40]\n",
      "i[indice_inject] 41\n",
      "j[indice_inject] 28\n",
      "k[indice_inject] 40\n",
      "get plane (17073, 3)\n",
      "i[indice_inject] (17073,)\n",
      "get plane [41 28 40]\n",
      "i[indice_inject] 40\n",
      "j[indice_inject] 28\n",
      "k[indice_inject] 40\n",
      "get plane (17149, 3)\n",
      "i[indice_inject] (17149,)\n",
      "get plane [39 28 41]\n",
      "i[indice_inject] 39\n",
      "j[indice_inject] 28\n",
      "k[indice_inject] 40\n",
      "get plane (17316, 3)\n",
      "i[indice_inject] (17316,)\n",
      "get plane [36  3 74]\n",
      "i[indice_inject] 36\n",
      "j[indice_inject] 3\n",
      "k[indice_inject] 74\n"
     ]
    },
    {
     "name": "stderr",
     "output_type": "stream",
     "text": [
      "running:  81%|██████████████████████████████████████████▉          | 81.0/100 [02:49<00:51, 2.72s/B]"
     ]
    },
    {
     "name": "stdout",
     "output_type": "stream",
     "text": [
      "get plane (17274, 3)\n",
      "i[indice_inject] (17274,)\n",
      "get plane [12  5 72]\n",
      "i[indice_inject] 12\n",
      "j[indice_inject] 5\n",
      "k[indice_inject] 72\n",
      "get plane (16941, 3)\n",
      "i[indice_inject] (16941,)\n",
      "get plane [40 19 58]\n",
      "i[indice_inject] 40\n",
      "j[indice_inject] 19\n",
      "k[indice_inject] 58\n",
      "get plane (17311, 3)\n",
      "i[indice_inject] (17311,)\n",
      "get plane [33 39 75]\n",
      "i[indice_inject] 33\n",
      "j[indice_inject] 39\n",
      "k[indice_inject] 75\n",
      "get plane (17068, 3)\n",
      "i[indice_inject] (17068,)\n",
      "get plane [14 30 57]\n",
      "i[indice_inject] 14\n",
      "j[indice_inject] 30\n",
      "k[indice_inject] 57\n",
      "get plane (17283, 3)\n",
      "i[indice_inject] (17283,)\n",
      "get plane [46  8 64]\n",
      "i[indice_inject] 46\n",
      "j[indice_inject] 10\n",
      "k[indice_inject] 61\n"
     ]
    },
    {
     "name": "stderr",
     "output_type": "stream",
     "text": [
      "running:  82%|███████████████████████████████████████████▍         | 82.0/100 [02:52<00:49, 2.73s/B]"
     ]
    },
    {
     "name": "stdout",
     "output_type": "stream",
     "text": [
      "get plane (17427, 3)\n",
      "i[indice_inject] (17427,)\n",
      "get plane [35 32 73]\n",
      "i[indice_inject] 35\n",
      "j[indice_inject] 32\n",
      "k[indice_inject] 73\n",
      "get plane (17152, 3)\n",
      "i[indice_inject] (17152,)\n",
      "get plane [46  8 64]\n",
      "i[indice_inject] 46\n",
      "j[indice_inject] 9\n",
      "k[indice_inject] 62\n",
      "get plane (17218, 3)\n",
      "i[indice_inject] (17218,)\n",
      "get plane [13 46 73]\n",
      "i[indice_inject] 13\n",
      "j[indice_inject] 46\n",
      "k[indice_inject] 73\n",
      "get plane (17310, 3)\n",
      "i[indice_inject] (17310,)\n",
      "get plane [ 5 11 75]\n",
      "i[indice_inject] 5\n",
      "j[indice_inject] 11\n",
      "k[indice_inject] 75\n",
      "get plane (17027, 3)\n",
      "i[indice_inject] (17027,)\n",
      "get plane [46  8 64]\n",
      "i[indice_inject] 46\n",
      "j[indice_inject] 8\n",
      "k[indice_inject] 64\n",
      "get plane (17157, 3)\n",
      "i[indice_inject] (17157,)\n",
      "get plane [46  8 64]\n",
      "i[indice_inject] 46\n",
      "j[indice_inject] 8\n",
      "k[indice_inject] 64\n"
     ]
    },
    {
     "name": "stderr",
     "output_type": "stream",
     "text": [
      "running:  83%|███████████████████████████████████████████▉         | 83.0/100 [02:55<00:49, 2.92s/B]"
     ]
    },
    {
     "name": "stdout",
     "output_type": "stream",
     "text": [
      "get plane (16999, 3)\n",
      "i[indice_inject] (16999,)\n",
      "get plane [46  7 65]\n",
      "i[indice_inject] 46\n",
      "j[indice_inject] 7\n",
      "k[indice_inject] 65\n",
      "get plane (17202, 3)\n",
      "i[indice_inject] (17202,)\n",
      "get plane [28 16 73]\n",
      "i[indice_inject] 28\n",
      "j[indice_inject] 16\n",
      "k[indice_inject] 73\n",
      "get plane (16937, 3)\n",
      "i[indice_inject] (16937,)\n",
      "get plane [28 17 73]\n",
      "i[indice_inject] 28\n",
      "j[indice_inject] 17\n",
      "k[indice_inject] 73\n",
      "get plane (17218, 3)\n",
      "i[indice_inject] (17218,)\n",
      "get plane [46  7 67]\n",
      "i[indice_inject] 45\n",
      "j[indice_inject] 7\n",
      "k[indice_inject] 67\n",
      "get plane (16892, 3)\n",
      "i[indice_inject] (16892,)\n",
      "get plane [18 30 61]\n",
      "i[indice_inject] 18\n",
      "j[indice_inject] 30\n",
      "k[indice_inject] 61\n"
     ]
    },
    {
     "name": "stderr",
     "output_type": "stream",
     "text": [
      "running:  84%|████████████████████████████████████████████▌        | 84.0/100 [02:58<00:46, 2.90s/B]"
     ]
    },
    {
     "name": "stdout",
     "output_type": "stream",
     "text": [
      "get plane (16995, 3)\n",
      "i[indice_inject] (16995,)\n",
      "get plane [37 30 44]\n",
      "i[indice_inject] 37\n",
      "j[indice_inject] 30\n",
      "k[indice_inject] 44\n",
      "get plane (17222, 3)\n",
      "i[indice_inject] (17222,)\n",
      "get plane [ 7 15 73]\n",
      "i[indice_inject] 7\n",
      "j[indice_inject] 15\n",
      "k[indice_inject] 73\n",
      "get plane (17082, 3)\n",
      "i[indice_inject] (17082,)\n",
      "get plane [38  1 66]\n",
      "i[indice_inject] 38\n",
      "j[indice_inject] 1\n",
      "k[indice_inject] 66\n",
      "get plane (17242, 3)\n",
      "i[indice_inject] (17242,)\n",
      "get plane [39  2 66]\n",
      "i[indice_inject] 38\n",
      "j[indice_inject] 2\n",
      "k[indice_inject] 65\n",
      "get plane (17214, 3)\n",
      "i[indice_inject] (17214,)\n",
      "get plane [39  2 66]\n",
      "i[indice_inject] 39\n",
      "j[indice_inject] 2\n",
      "k[indice_inject] 66\n"
     ]
    },
    {
     "name": "stderr",
     "output_type": "stream",
     "text": [
      "running:  85%|█████████████████████████████████████████████        | 85.0/100 [03:01<00:43, 2.91s/B]"
     ]
    },
    {
     "name": "stdout",
     "output_type": "stream",
     "text": [
      "get plane (17192, 3)\n",
      "i[indice_inject] (17192,)\n",
      "get plane [10 14 72]\n",
      "i[indice_inject] 10\n",
      "j[indice_inject] 14\n",
      "k[indice_inject] 72\n",
      "get plane (16981, 3)\n",
      "i[indice_inject] (16981,)\n",
      "get plane [41  3 66]\n",
      "i[indice_inject] 41\n",
      "j[indice_inject] 3\n",
      "k[indice_inject] 66\n",
      "get plane (17405, 3)\n",
      "i[indice_inject] (17405,)\n",
      "get plane [12 13 71]\n",
      "i[indice_inject] 12\n",
      "j[indice_inject] 13\n",
      "k[indice_inject] 71\n",
      "get plane (17097, 3)\n",
      "i[indice_inject] (17097,)\n",
      "get plane [20 48 73]\n",
      "i[indice_inject] 20\n",
      "j[indice_inject] 48\n",
      "k[indice_inject] 73\n",
      "get plane (17231, 3)\n",
      "i[indice_inject] (17231,)\n",
      "get plane [44  3 66]\n",
      "i[indice_inject] 44\n",
      "j[indice_inject] 3\n",
      "k[indice_inject] 66\n"
     ]
    },
    {
     "name": "stderr",
     "output_type": "stream",
     "text": [
      "running:  86%|█████████████████████████████████████████████▌       | 86.0/100 [03:04<00:40, 2.88s/B]"
     ]
    },
    {
     "name": "stdout",
     "output_type": "stream",
     "text": [
      "get plane (17395, 3)\n",
      "i[indice_inject] (17395,)\n",
      "get plane [45 10 72]\n",
      "i[indice_inject] 45\n",
      "j[indice_inject] 10\n",
      "k[indice_inject] 72\n",
      "get plane (17165, 3)\n",
      "i[indice_inject] (17165,)\n",
      "get plane [46  3 67]\n",
      "i[indice_inject] 45\n",
      "j[indice_inject] 4\n",
      "k[indice_inject] 66\n",
      "get plane (17219, 3)\n",
      "i[indice_inject] (17219,)\n",
      "get plane [47  4 67]\n",
      "i[indice_inject] 46\n",
      "j[indice_inject] 4\n",
      "k[indice_inject] 66\n",
      "get plane (17125, 3)\n",
      "i[indice_inject] (17125,)\n",
      "get plane [25 49 72]\n",
      "i[indice_inject] 25\n",
      "j[indice_inject] 49\n",
      "k[indice_inject] 72\n",
      "get plane (17222, 3)\n",
      "i[indice_inject] (17222,)\n",
      "get plane [43  6 73]\n",
      "i[indice_inject] 43\n",
      "j[indice_inject] 6\n",
      "k[indice_inject] 73\n"
     ]
    },
    {
     "name": "stderr",
     "output_type": "stream",
     "text": [
      "running:  87%|██████████████████████████████████████████████       | 87.0/100 [03:07<00:37, 2.87s/B]"
     ]
    },
    {
     "name": "stdout",
     "output_type": "stream",
     "text": [
      "get plane (17071, 3)\n",
      "i[indice_inject] (17071,)\n",
      "get plane [37 43 73]\n",
      "i[indice_inject] 37\n",
      "j[indice_inject] 43\n",
      "k[indice_inject] 73\n",
      "get plane (17291, 3)\n",
      "i[indice_inject] (17291,)\n",
      "get plane [48  4 68]\n",
      "i[indice_inject] 49\n",
      "j[indice_inject] 5\n",
      "k[indice_inject] 67\n",
      "get plane (17130, 3)\n",
      "i[indice_inject] (17130,)\n",
      "get plane [33 39 73]\n",
      "i[indice_inject] 33\n",
      "j[indice_inject] 39\n",
      "k[indice_inject] 73\n",
      "get plane (17161, 3)\n",
      "i[indice_inject] (17161,)\n",
      "get plane [13 30 53]\n",
      "i[indice_inject] 13\n",
      "j[indice_inject] 30\n",
      "k[indice_inject] 53\n",
      "get plane (16987, 3)\n",
      "i[indice_inject] (16987,)\n",
      "get plane [ 9 31 56]\n",
      "i[indice_inject] 9\n",
      "j[indice_inject] 31\n",
      "k[indice_inject] 57\n"
     ]
    },
    {
     "name": "stderr",
     "output_type": "stream",
     "text": [
      "running:  88%|██████████████████████████████████████████████▋      | 88.0/100 [03:10<00:34, 2.86s/B]"
     ]
    },
    {
     "name": "stdout",
     "output_type": "stream",
     "text": [
      "get plane (17077, 3)\n",
      "i[indice_inject] (17077,)\n",
      "get plane [ 8 32 56]\n",
      "i[indice_inject] 8\n",
      "j[indice_inject] 32\n",
      "k[indice_inject] 57\n",
      "get plane (17037, 3)\n",
      "i[indice_inject] (17037,)\n",
      "get plane [32  0 71]\n",
      "i[indice_inject] 32\n",
      "j[indice_inject] 0\n",
      "k[indice_inject] 71\n",
      "get plane (16980, 3)\n",
      "i[indice_inject] (16980,)\n",
      "get plane [ 7 31 56]\n",
      "i[indice_inject] 6\n",
      "j[indice_inject] 32\n",
      "k[indice_inject] 56\n",
      "get plane (17222, 3)\n",
      "i[indice_inject] (17222,)\n",
      "get plane [18 10 72]\n",
      "i[indice_inject] 18\n",
      "j[indice_inject] 10\n",
      "k[indice_inject] 72\n",
      "get plane (17097, 3)\n",
      "i[indice_inject] (17097,)\n",
      "get plane [14 45 72]\n",
      "i[indice_inject] 14\n",
      "j[indice_inject] 45\n",
      "k[indice_inject] 72\n"
     ]
    },
    {
     "name": "stderr",
     "output_type": "stream",
     "text": [
      "running:  89%|███████████████████████████████████████████████▏     | 89.0/100 [03:12<00:31, 2.87s/B]"
     ]
    },
    {
     "name": "stdout",
     "output_type": "stream",
     "text": [
      "get plane (17212, 3)\n",
      "i[indice_inject] (17212,)\n",
      "get plane [36  0 70]\n",
      "i[indice_inject] 36\n",
      "j[indice_inject] 0\n",
      "k[indice_inject] 70\n",
      "get plane (17126, 3)\n",
      "i[indice_inject] (17126,)\n",
      "get plane [ 2 31 55]\n",
      "i[indice_inject] 2\n",
      "j[indice_inject] 31\n",
      "k[indice_inject] 56\n",
      "get plane (17223, 3)\n",
      "i[indice_inject] (17223,)\n",
      "get plane [15 46 66]\n",
      "i[indice_inject] 15\n",
      "j[indice_inject] 46\n",
      "k[indice_inject] 65\n",
      "get plane (17360, 3)\n",
      "i[indice_inject] (17360,)\n",
      "get plane [21  3 72]\n",
      "i[indice_inject] 21\n",
      "j[indice_inject] 3\n",
      "k[indice_inject] 72\n",
      "get plane (17281, 3)\n",
      "i[indice_inject] (17281,)\n",
      "get plane [40  1 68]\n",
      "i[indice_inject] 40\n",
      "j[indice_inject] 1\n",
      "k[indice_inject] 68\n"
     ]
    },
    {
     "name": "stderr",
     "output_type": "stream",
     "text": [
      "running:  90%|███████████████████████████████████████████████▋     | 90.0/100 [03:15<00:28, 2.86s/B]"
     ]
    },
    {
     "name": "stdout",
     "output_type": "stream",
     "text": [
      "get plane (17429, 3)\n",
      "i[indice_inject] (17429,)\n",
      "get plane [18 45 66]\n",
      "i[indice_inject] 17\n",
      "j[indice_inject] 46\n",
      "k[indice_inject] 64\n",
      "get plane (16873, 3)\n",
      "i[indice_inject] (16873,)\n",
      "get plane [37 43 72]\n",
      "i[indice_inject] 37\n",
      "j[indice_inject] 43\n",
      "k[indice_inject] 72\n",
      "get plane (17282, 3)\n",
      "i[indice_inject] (17282,)\n",
      "get plane [34 14 72]\n",
      "i[indice_inject] 34\n",
      "j[indice_inject] 14\n",
      "k[indice_inject] 72\n",
      "get plane (17266, 3)\n",
      "i[indice_inject] (17266,)\n",
      "get plane [22 15 71]\n",
      "i[indice_inject] 22\n",
      "j[indice_inject] 15\n",
      "k[indice_inject] 71\n",
      "get plane (17025, 3)\n",
      "i[indice_inject] (17025,)\n",
      "get plane [ 4  1 72]\n",
      "i[indice_inject] 4\n",
      "j[indice_inject] 1\n",
      "k[indice_inject] 72\n"
     ]
    },
    {
     "name": "stderr",
     "output_type": "stream",
     "text": [
      "running:  91%|████████████████████████████████████████████████▏    | 91.0/100 [03:18<00:26, 2.91s/B]"
     ]
    },
    {
     "name": "stdout",
     "output_type": "stream",
     "text": [
      "get plane (17199, 3)\n",
      "i[indice_inject] (17199,)\n",
      "get plane [25 48 72]\n",
      "i[indice_inject] 25\n",
      "j[indice_inject] 48\n",
      "k[indice_inject] 72\n",
      "get plane (17355, 3)\n",
      "i[indice_inject] (17355,)\n",
      "get plane [41 30 60]\n",
      "i[indice_inject] 41\n",
      "j[indice_inject] 30\n",
      "k[indice_inject] 60\n",
      "get plane (17384, 3)\n",
      "i[indice_inject] (17384,)\n",
      "get plane [13 30 72]\n",
      "i[indice_inject] 13\n",
      "j[indice_inject] 30\n",
      "k[indice_inject] 72\n",
      "get plane (17286, 3)\n",
      "i[indice_inject] (17286,)\n",
      "get plane [13 30 71]\n",
      "i[indice_inject] 13\n",
      "j[indice_inject] 30\n",
      "k[indice_inject] 71\n",
      "get plane (17219, 3)\n",
      "i[indice_inject] (17219,)\n",
      "get plane [44 30 60]\n",
      "i[indice_inject] 44\n",
      "j[indice_inject] 30\n",
      "k[indice_inject] 60\n"
     ]
    },
    {
     "name": "stderr",
     "output_type": "stream",
     "text": [
      "running:  92%|████████████████████████████████████████████████▊    | 92.0/100 [03:21<00:23, 2.89s/B]"
     ]
    },
    {
     "name": "stdout",
     "output_type": "stream",
     "text": [
      "get plane (17161, 3)\n",
      "i[indice_inject] (17161,)\n",
      "get plane [32 10 71]\n",
      "i[indice_inject] 32\n",
      "j[indice_inject] 10\n",
      "k[indice_inject] 71\n",
      "get plane (16970, 3)\n",
      "i[indice_inject] (16970,)\n",
      "get plane [34  3 71]\n",
      "i[indice_inject] 34\n",
      "j[indice_inject] 3\n",
      "k[indice_inject] 71\n",
      "get plane (17180, 3)\n",
      "i[indice_inject] (17180,)\n",
      "get plane [17 33 73]\n",
      "i[indice_inject] 17\n",
      "j[indice_inject] 33\n",
      "k[indice_inject] 73\n",
      "get plane (17192, 3)\n",
      "i[indice_inject] (17192,)\n",
      "get plane [17 33 72]\n",
      "i[indice_inject] 17\n",
      "j[indice_inject] 33\n",
      "k[indice_inject] 72\n",
      "get plane (16997, 3)\n",
      "i[indice_inject] (16997,)\n",
      "get plane [46 44 71]\n",
      "i[indice_inject] 46\n",
      "j[indice_inject] 44\n",
      "k[indice_inject] 71\n"
     ]
    },
    {
     "name": "stderr",
     "output_type": "stream",
     "text": [
      "running:  93%|█████████████████████████████████████████████████▎   | 93.0/100 [03:24<00:20, 2.90s/B]"
     ]
    },
    {
     "name": "stdout",
     "output_type": "stream",
     "text": [
      "get plane (17168, 3)\n",
      "i[indice_inject] (17168,)\n",
      "get plane [21  0 69]\n",
      "i[indice_inject] 21\n",
      "j[indice_inject] 0\n",
      "k[indice_inject] 69\n",
      "get plane (17116, 3)\n",
      "i[indice_inject] (17116,)\n",
      "get plane [39 20 36]\n",
      "i[indice_inject] 38\n",
      "j[indice_inject] 20\n",
      "k[indice_inject] 36\n",
      "get plane (17312, 3)\n",
      "i[indice_inject] (17312,)\n",
      "get plane [39 20 36]\n",
      "i[indice_inject] 39\n",
      "j[indice_inject] 20\n",
      "k[indice_inject] 35\n",
      "get plane (17186, 3)\n",
      "i[indice_inject] (17186,)\n",
      "get plane [18 37 71]\n",
      "i[indice_inject] 18\n",
      "j[indice_inject] 37\n",
      "k[indice_inject] 71\n",
      "get plane (17131, 3)\n",
      "i[indice_inject] (17131,)\n",
      "get plane [21  3 69]\n",
      "i[indice_inject] 21\n",
      "j[indice_inject] 3\n",
      "k[indice_inject] 69\n"
     ]
    },
    {
     "name": "stderr",
     "output_type": "stream",
     "text": [
      "running:  94%|█████████████████████████████████████████████████▊   | 94.0/100 [03:27<00:17, 2.91s/B]"
     ]
    },
    {
     "name": "stdout",
     "output_type": "stream",
     "text": [
      "get plane (16972, 3)\n",
      "i[indice_inject] (16972,)\n",
      "get plane [21  3 69]\n",
      "i[indice_inject] 21\n",
      "j[indice_inject] 3\n",
      "k[indice_inject] 69\n",
      "get plane (17236, 3)\n",
      "i[indice_inject] (17236,)\n",
      "get plane [47 43 66]\n",
      "i[indice_inject] 47\n",
      "j[indice_inject] 43\n",
      "k[indice_inject] 66\n",
      "get plane (17120, 3)\n",
      "i[indice_inject] (17120,)\n",
      "get plane [35  6 66]\n",
      "i[indice_inject] 35\n",
      "j[indice_inject] 6\n",
      "k[indice_inject] 66\n",
      "get plane (17240, 3)\n",
      "i[indice_inject] (17240,)\n",
      "get plane [46 44 65]\n",
      "i[indice_inject] 46\n",
      "j[indice_inject] 44\n",
      "k[indice_inject] 65\n",
      "get plane (17093, 3)\n",
      "i[indice_inject] (17093,)\n",
      "get plane [45 44 64]\n",
      "i[indice_inject] 45\n",
      "j[indice_inject] 44\n",
      "k[indice_inject] 64\n"
     ]
    },
    {
     "name": "stderr",
     "output_type": "stream",
     "text": [
      "running:  95%|██████████████████████████████████████████████████▎  | 95.0/100 [03:30<00:14, 2.96s/B]"
     ]
    },
    {
     "name": "stdout",
     "output_type": "stream",
     "text": [
      "get plane (17197, 3)\n",
      "i[indice_inject] (17197,)\n",
      "get plane [17  0 68]\n",
      "i[indice_inject] 17\n",
      "j[indice_inject] 0\n",
      "k[indice_inject] 68\n",
      "get plane (16728, 3)\n",
      "i[indice_inject] (16728,)\n",
      "get plane [16  1 68]\n",
      "i[indice_inject] 16\n",
      "j[indice_inject] 1\n",
      "k[indice_inject] 68\n",
      "get plane (17313, 3)\n",
      "i[indice_inject] (17313,)\n",
      "get plane [44 46 66]\n",
      "i[indice_inject] 44\n",
      "j[indice_inject] 46\n",
      "k[indice_inject] 65\n",
      "get plane (17290, 3)\n",
      "i[indice_inject] (17290,)\n",
      "get plane [43 46 65]\n",
      "i[indice_inject] 44\n",
      "j[indice_inject] 46\n",
      "k[indice_inject] 64\n",
      "get plane (17082, 3)\n",
      "i[indice_inject] (17082,)\n",
      "get plane [43 46 65]\n",
      "i[indice_inject] 43\n",
      "j[indice_inject] 45\n",
      "k[indice_inject] 65\n"
     ]
    },
    {
     "name": "stderr",
     "output_type": "stream",
     "text": [
      "running:  96%|██████████████████████████████████████████████████▉  | 96.0/100 [03:33<00:11, 2.96s/B]"
     ]
    },
    {
     "name": "stdout",
     "output_type": "stream",
     "text": [
      "get plane (17121, 3)\n",
      "i[indice_inject] (17121,)\n",
      "get plane [43 45 65]\n",
      "i[indice_inject] 42\n",
      "j[indice_inject] 45\n",
      "k[indice_inject] 65\n",
      "get plane (16762, 3)\n",
      "i[indice_inject] (16762,)\n",
      "get plane [47 11 71]\n",
      "i[indice_inject] 47\n",
      "j[indice_inject] 11\n",
      "k[indice_inject] 71\n",
      "get plane (17004, 3)\n",
      "i[indice_inject] (17004,)\n",
      "get plane [ 9 17 70]\n",
      "i[indice_inject] 9\n",
      "j[indice_inject] 17\n",
      "k[indice_inject] 70\n",
      "get plane (17090, 3)\n",
      "i[indice_inject] (17090,)\n",
      "get plane [ 5  2 70]\n",
      "i[indice_inject] 5\n",
      "j[indice_inject] 2\n",
      "k[indice_inject] 70\n",
      "get plane (16961, 3)\n",
      "i[indice_inject] (16961,)\n",
      "get plane [41 43 66]\n",
      "i[indice_inject] 41\n",
      "j[indice_inject] 43\n",
      "k[indice_inject] 66\n"
     ]
    },
    {
     "name": "stderr",
     "output_type": "stream",
     "text": [
      "running:  97%|███████████████████████████████████████████████████▍ | 97.0/100 [03:36<00:08, 2.96s/B]"
     ]
    },
    {
     "name": "stdout",
     "output_type": "stream",
     "text": [
      "get plane (17279, 3)\n",
      "i[indice_inject] (17279,)\n",
      "get plane [ 2 18 45]\n",
      "i[indice_inject] 2\n",
      "j[indice_inject] 18\n",
      "k[indice_inject] 44\n",
      "get plane (17114, 3)\n",
      "i[indice_inject] (17114,)\n",
      "get plane [41 42 65]\n",
      "i[indice_inject] 42\n",
      "j[indice_inject] 42\n",
      "k[indice_inject] 65\n",
      "get plane (17343, 3)\n",
      "i[indice_inject] (17343,)\n",
      "get plane [10  3 69]\n",
      "i[indice_inject] 10\n",
      "j[indice_inject] 3\n",
      "k[indice_inject] 69\n",
      "get plane (17193, 3)\n",
      "i[indice_inject] (17193,)\n",
      "get plane [ 5 19 46]\n",
      "i[indice_inject] 5\n",
      "j[indice_inject] 18\n",
      "k[indice_inject] 46\n",
      "get plane (17270, 3)\n",
      "i[indice_inject] (17270,)\n",
      "get plane [13 19 49]\n",
      "i[indice_inject] 13\n",
      "j[indice_inject] 19\n",
      "k[indice_inject] 49\n"
     ]
    },
    {
     "name": "stderr",
     "output_type": "stream",
     "text": [
      "running:  98%|███████████████████████████████████████████████████▉ | 98.0/100 [03:39<00:05, 2.98s/B]"
     ]
    },
    {
     "name": "stdout",
     "output_type": "stream",
     "text": [
      "get plane (17039, 3)\n",
      "i[indice_inject] (17039,)\n",
      "get plane [12 19 49]\n",
      "i[indice_inject] 12\n",
      "j[indice_inject] 19\n",
      "k[indice_inject] 49\n",
      "get plane (17439, 3)\n",
      "i[indice_inject] (17439,)\n",
      "get plane [11 19 49]\n",
      "i[indice_inject] 11\n",
      "j[indice_inject] 19\n",
      "k[indice_inject] 49\n",
      "get plane (17148, 3)\n",
      "i[indice_inject] (17148,)\n",
      "get plane [ 8 17 48]\n",
      "i[indice_inject] 7\n",
      "j[indice_inject] 17\n",
      "k[indice_inject] 49\n",
      "get plane (17221, 3)\n",
      "i[indice_inject] (17221,)\n",
      "get plane [ 8 18 48]\n",
      "i[indice_inject] 8\n",
      "j[indice_inject] 18\n",
      "k[indice_inject] 48\n",
      "get plane (17052, 3)\n",
      "i[indice_inject] (17052,)\n",
      "get plane [ 8 17 48]\n",
      "i[indice_inject] 9\n",
      "j[indice_inject] 17\n",
      "k[indice_inject] 49\n"
     ]
    },
    {
     "name": "stderr",
     "output_type": "stream",
     "text": [
      "running:  99%|████████████████████████████████████████████████████▍| 99.0/100 [03:42<00:02, 2.98s/B]"
     ]
    },
    {
     "name": "stdout",
     "output_type": "stream",
     "text": [
      "get plane (16900, 3)\n",
      "i[indice_inject] (16900,)\n",
      "get plane [ 9 18 47]\n",
      "i[indice_inject] 9\n",
      "j[indice_inject] 18\n",
      "k[indice_inject] 48\n",
      "get plane (17157, 3)\n",
      "i[indice_inject] (17157,)\n",
      "get plane [24 43 70]\n",
      "i[indice_inject] 24\n",
      "j[indice_inject] 43\n",
      "k[indice_inject] 70\n",
      "get plane (17060, 3)\n",
      "i[indice_inject] (17060,)\n",
      "get plane [13 44 67]\n",
      "i[indice_inject] 13\n",
      "j[indice_inject] 44\n",
      "k[indice_inject] 67\n",
      "get plane (17148, 3)\n",
      "i[indice_inject] (17148,)\n",
      "get plane [13 43 67]\n",
      "i[indice_inject] 13\n",
      "j[indice_inject] 43\n",
      "k[indice_inject] 67\n",
      "get plane (16858, 3)\n",
      "i[indice_inject] (16858,)\n",
      "get plane [14 44 67]\n",
      "i[indice_inject] 14\n",
      "j[indice_inject] 44\n",
      "k[indice_inject] 67\n"
     ]
    },
    {
     "name": "stderr",
     "output_type": "stream",
     "text": [
      "running: 100%|██████████████████████████████████████████████████████| 100/100 [03:45<00:00, 2.26s/B]\n"
     ]
    }
   ],
   "source": [
    "etching = testEtch.inputParticle(125,vel_type_shuffle[:,:3], vel_type_shuffle[:,-1], 5e-3, 5)"
   ]
  },
  {
   "cell_type": "code",
   "execution_count": null,
   "metadata": {},
   "outputs": [],
   "source": [
    "etching[0][50:60, 50:60, 78]"
   ]
  },
  {
   "cell_type": "code",
   "execution_count": null,
   "metadata": {},
   "outputs": [
    {
     "data": {
      "text/plain": [
       "array([[0., 0., 0., 0., 0., 2., 0., 0., 0., 0.],\n",
       "       [0., 0., 0., 0., 0., 2., 0., 0., 0., 0.],\n",
       "       [0., 0., 0., 0., 0., 3., 0., 0., 0., 0.],\n",
       "       [0., 0., 0., 0., 0., 2., 0., 0., 0., 0.],\n",
       "       [0., 0., 0., 0., 0., 1., 0., 1., 0., 0.]])"
      ]
     },
     "execution_count": 21,
     "metadata": {},
     "output_type": "execute_result"
    }
   ],
   "source": [
    "etching[0][25:30, 25,79]"
   ]
  },
  {
   "cell_type": "code",
   "execution_count": null,
   "metadata": {},
   "outputs": [
    {
     "data": {
      "text/plain": [
       "array([[0., 0., 0., 0., 0., 2., 0., 0., 0., 0.],\n",
       "       [0., 0., 0., 0., 0., 2., 0., 0., 0., 0.],\n",
       "       [0., 0., 0., 0., 0., 3., 0., 0., 0., 0.],\n",
       "       [0., 0., 0., 0., 0., 2., 0., 0., 0., 0.],\n",
       "       [0., 0., 0., 0., 0., 1., 0., 1., 0., 0.]])"
      ]
     },
     "execution_count": 22,
     "metadata": {},
     "output_type": "execute_result"
    }
   ],
   "source": [
    "etching[0][25:30, 25,79]"
   ]
  },
  {
   "cell_type": "code",
   "execution_count": 11,
   "metadata": {},
   "outputs": [
    {
     "name": "stderr",
     "output_type": "stream",
     "text": [
      "l:\\program\\Lib\\site-packages\\pyvista\\core\\utilities\\points.py:52: UserWarning: Points is not a float type. This can cause issues when transforming or applying filters. Casting to ``np.float32``. Disable this by passing ``force_float=False``.\n",
      "  warnings.warn(\n",
      "l:\\program\\Lib\\site-packages\\pyvista\\core\\filters\\data_set.py:2320: UserWarning: No vector-like data to use for orient. orient will be set to False.\n",
      "  warnings.warn(\"No vector-like data to use for orient. orient will be set to False.\")\n"
     ]
    },
    {
     "data": {
      "application/vnd.jupyter.widget-view+json": {
       "model_id": "b14d88c8c2614c8993368778822e9d67",
       "version_major": 2,
       "version_minor": 0
      },
      "text/plain": [
       "Widget(value='<iframe src=\"http://localhost:61008/index.html?ui=P_0x1a0bcd29710_1&reconnect=auto\" class=\"pyvis…"
      ]
     },
     "metadata": {},
     "output_type": "display_data"
    }
   ],
   "source": [
    "sumFilm = np.sum(etching[0], axis=-1)\n",
    "\n",
    "depo1 = torch.Tensor(np.logical_and(etching[0][:, :, :,1]!=0, etching[0][:, :, :,2]!=0)).to_sparse()\n",
    "depo1 = depo1.indices().numpy().T\n",
    "\n",
    "depo2 = torch.Tensor(etching[0][:, :, :,5]!=0).to_sparse()\n",
    "depo2 = depo2.indices().numpy().T\n",
    "\n",
    "substrute = torch.Tensor(etching[0][:, :, :,0]!=0).to_sparse()\n",
    "substrute = substrute.indices().numpy().T\n",
    "depomesh = pv.PolyData(depo1)\n",
    "depomesh[\"radius\"] = np.ones(depo1.shape[0])*0.5\n",
    "depomesh2 = pv.PolyData(depo2)\n",
    "depomesh2[\"radius\"] = np.ones(depo2.shape[0])*0.5\n",
    "geom = pv.Box()\n",
    "\n",
    "submesh = pv.PolyData(substrute)\n",
    "submesh[\"radius\"] = np.ones(substrute.shape[0])*0.5\n",
    "\n",
    "# Progress bar is a new feature on master branch\n",
    "depoglyphed = depomesh.glyph(scale=\"radius\", geom=geom) # progress_bar=True)\n",
    "depoglyphed2 = depomesh2.glyph(scale=\"radius\", geom=geom) # progress_bar=True)\n",
    "subglyphed = submesh.glyph(scale=\"radius\", geom=geom) # progress_bar=True)\n",
    "\n",
    "p = pv.Plotter()\n",
    "p.add_mesh(depoglyphed, color='red')\n",
    "p.add_mesh(depoglyphed2, color='cyan')\n",
    "p.add_mesh(subglyphed, color='dimgray')\n",
    "p.enable_eye_dome_lighting()\n",
    "p.show()"
   ]
  },
  {
   "cell_type": "code",
   "execution_count": 13,
   "metadata": {},
   "outputs": [
    {
     "name": "stderr",
     "output_type": "stream",
     "text": [
      "l:\\program\\Lib\\site-packages\\pyvista\\core\\utilities\\points.py:52: UserWarning: Points is not a float type. This can cause issues when transforming or applying filters. Casting to ``np.float32``. Disable this by passing ``force_float=False``.\n",
      "  warnings.warn(\n",
      "l:\\program\\Lib\\site-packages\\pyvista\\core\\filters\\data_set.py:2320: UserWarning: No vector-like data to use for orient. orient will be set to False.\n",
      "  warnings.warn(\"No vector-like data to use for orient. orient will be set to False.\")\n"
     ]
    },
    {
     "data": {
      "application/vnd.jupyter.widget-view+json": {
       "model_id": "65fdab755efa49eaa38ac4bc722e25cd",
       "version_major": 2,
       "version_minor": 0
      },
      "text/plain": [
       "Widget(value='<iframe src=\"http://localhost:61008/index.html?ui=P_0x1a0bd02bbd0_3&reconnect=auto\" class=\"pyvis…"
      ]
     },
     "metadata": {},
     "output_type": "display_data"
    }
   ],
   "source": [
    "sumFilm = np.sum(etching[0], axis=-1)\n",
    "\n",
    "depo1 = torch.Tensor(np.logical_and(etching[0][:, :25, :,1]!=0, etching[0][:, :25, :,2]!=0)).to_sparse()\n",
    "depo1 = depo1.indices().numpy().T\n",
    "\n",
    "depo2 = torch.Tensor(etching[0][:, :25, :,5]!=0).to_sparse()\n",
    "depo2 = depo2.indices().numpy().T\n",
    "\n",
    "substrute = torch.Tensor(etching[0][:, :25, :,0]!=0).to_sparse()\n",
    "substrute = substrute.indices().numpy().T\n",
    "depomesh = pv.PolyData(depo1)\n",
    "depomesh[\"radius\"] = np.ones(depo1.shape[0])*0.5\n",
    "depomesh2 = pv.PolyData(depo2)\n",
    "depomesh2[\"radius\"] = np.ones(depo2.shape[0])*0.5\n",
    "geom = pv.Box()\n",
    "\n",
    "submesh = pv.PolyData(substrute)\n",
    "submesh[\"radius\"] = np.ones(substrute.shape[0])*0.5\n",
    "\n",
    "# Progress bar is a new feature on master branch\n",
    "depoglyphed = depomesh.glyph(scale=\"radius\", geom=geom) # progress_bar=True)\n",
    "depoglyphed2 = depomesh2.glyph(scale=\"radius\", geom=geom) # progress_bar=True)\n",
    "subglyphed = submesh.glyph(scale=\"radius\", geom=geom) # progress_bar=True)\n",
    "\n",
    "p = pv.Plotter()\n",
    "p.add_mesh(depoglyphed, color='red')\n",
    "p.add_mesh(depoglyphed2, color='cyan')\n",
    "p.add_mesh(subglyphed, color='dimgray')\n",
    "p.enable_eye_dome_lighting()\n",
    "p.show()"
   ]
  },
  {
   "cell_type": "code",
   "execution_count": null,
   "metadata": {},
   "outputs": [
    {
     "name": "stderr",
     "output_type": "stream",
     "text": [
      "l:\\program\\Lib\\site-packages\\pyvista\\core\\utilities\\points.py:52: UserWarning: Points is not a float type. This can cause issues when transforming or applying filters. Casting to ``np.float32``. Disable this by passing ``force_float=False``.\n",
      "  warnings.warn(\n",
      "l:\\program\\Lib\\site-packages\\pyvista\\core\\filters\\data_set.py:2320: UserWarning: No vector-like data to use for orient. orient will be set to False.\n",
      "  warnings.warn(\"No vector-like data to use for orient. orient will be set to False.\")\n"
     ]
    },
    {
     "data": {
      "application/vnd.jupyter.widget-view+json": {
       "model_id": "45e139758c47417b89e217b9efed48d3",
       "version_major": 2,
       "version_minor": 0
      },
      "text/plain": [
       "Widget(value='<iframe src=\"http://localhost:52789/index.html?ui=P_0x206cdc0a4d0_5&reconnect=auto\" class=\"pyvis…"
      ]
     },
     "metadata": {},
     "output_type": "display_data"
    }
   ],
   "source": [
    "sumFilm = np.sum(etching[0], axis=-1)\n",
    "# np.logical_and(etching[0][:, :, :, 5]>0, sumFilm[:, :, :,]>0)\n",
    "depo1 = torch.Tensor(np.logical_and(etching[0][:, :, :, 5]>0, sumFilm[:, :, :,]>0)).to_sparse()\n",
    "depo1 = depo1.indices().numpy().T\n",
    "\n",
    "substrute = torch.Tensor(sumFilm[:, :, :]==5).to_sparse()\n",
    "substrute = substrute.indices().numpy().T\n",
    "depomesh = pv.PolyData(depo1)\n",
    "depomesh[\"radius\"] = np.ones(depo1.shape[0])*0.5\n",
    "geom = pv.Box()\n",
    "\n",
    "submesh = pv.PolyData(substrute)\n",
    "submesh[\"radius\"] = np.ones(substrute.shape[0])*0.5\n",
    "\n",
    "# Progress bar is a new feature on master branch\n",
    "depoglyphed = depomesh.glyph(scale=\"radius\", geom=geom) # progress_bar=True)\n",
    "subglyphed = submesh.glyph(scale=\"radius\", geom=geom) # progress_bar=True)\n",
    "\n",
    "p = pv.Plotter()\n",
    "p.add_mesh(depoglyphed, color='cyan')\n",
    "p.add_mesh(subglyphed, color='dimgray')\n",
    "p.enable_eye_dome_lighting()\n",
    "p.show()"
   ]
  },
  {
   "cell_type": "code",
   "execution_count": null,
   "metadata": {},
   "outputs": [
    {
     "name": "stderr",
     "output_type": "stream",
     "text": [
      "l:\\program\\Lib\\site-packages\\pyvista\\core\\utilities\\points.py:52: UserWarning: Points is not a float type. This can cause issues when transforming or applying filters. Casting to ``np.float32``. Disable this by passing ``force_float=False``.\n",
      "  warnings.warn(\n",
      "l:\\program\\Lib\\site-packages\\pyvista\\core\\filters\\data_set.py:2320: UserWarning: No vector-like data to use for orient. orient will be set to False.\n",
      "  warnings.warn(\"No vector-like data to use for orient. orient will be set to False.\")\n"
     ]
    },
    {
     "data": {
      "application/vnd.jupyter.widget-view+json": {
       "model_id": "59c16c04b19c4c6b96ede9b96551a752",
       "version_major": 2,
       "version_minor": 0
      },
      "text/plain": [
       "Widget(value='<iframe src=\"http://localhost:52789/index.html?ui=P_0x206cf19a4d0_2&reconnect=auto\" class=\"pyvis…"
      ]
     },
     "metadata": {},
     "output_type": "display_data"
    }
   ],
   "source": [
    "sumFilm = np.sum(etching[0], axis=-1)\n",
    "\n",
    "depo1 = torch.Tensor(etching[0][:, :, :, 1]!=0).to_sparse()\n",
    "depo1 = depo1.indices().numpy().T\n",
    "\n",
    "substrute = torch.Tensor(sumFilm[:, :, :]==5).to_sparse()\n",
    "substrute = substrute.indices().numpy().T\n",
    "depomesh = pv.PolyData(depo1)\n",
    "depomesh[\"radius\"] = np.ones(depo1.shape[0])*0.5\n",
    "geom = pv.Box()\n",
    "\n",
    "submesh = pv.PolyData(substrute)\n",
    "submesh[\"radius\"] = np.ones(substrute.shape[0])*0.5\n",
    "\n",
    "# Progress bar is a new feature on master branch\n",
    "depoglyphed = depomesh.glyph(scale=\"radius\", geom=geom) # progress_bar=True)\n",
    "subglyphed = submesh.glyph(scale=\"radius\", geom=geom) # progress_bar=True)\n",
    "\n",
    "p = pv.Plotter()\n",
    "# p.add_mesh(depoglyphed, color='cyan')\n",
    "p.add_mesh(subglyphed, color='dimgray')\n",
    "p.enable_eye_dome_lighting()\n",
    "p.show()"
   ]
  },
  {
   "cell_type": "code",
   "execution_count": null,
   "metadata": {},
   "outputs": [],
   "source": [
    "pointcloud = testEtch.get_pointcloud(sumFilm)"
   ]
  },
  {
   "cell_type": "code",
   "execution_count": null,
   "metadata": {},
   "outputs": [
    {
     "data": {
      "application/vnd.jupyter.widget-view+json": {
       "model_id": "aed88fa9397840bcad379b9f7db64922",
       "version_major": 2,
       "version_minor": 0
      },
      "text/plain": [
       "Widget(value='<iframe src=\"http://localhost:51715/index.html?ui=P_0x1f8f498a750_5&reconnect=auto\" class=\"pyvis…"
      ]
     },
     "metadata": {},
     "output_type": "display_data"
    }
   ],
   "source": [
    "point_cloud = pv.PolyData(pointcloud[:, 3:])\n",
    "vectors = pointcloud[:, :3]\n",
    "\n",
    "point_cloud['vectors'] = vectors\n",
    "arrows = point_cloud.glyph(\n",
    "    orient='vectors',\n",
    "    scale=100000,\n",
    "    factor=5,\n",
    ")\n",
    "\n",
    "# Display the arrowscyan\n",
    "\n",
    "# sphere = pv.Sphere(radius=4, center=(21, 75, 114.5))\n",
    "plotter = pv.Plotter()\n",
    "plotter.add_mesh(point_cloud, color='cyan', point_size=5.0, render_points_as_spheres=True)\n",
    "# plotter.add_mesh(sphere, show_edges=True, opacity=0.5, color=\"w\")\n",
    "plotter.add_mesh(arrows, color='lightblue')\n",
    "# # plotter.add_point_labels([point_cloud.center,], ['Center',],\n",
    "# #                          point_color='yellow', point_size=20)\n",
    "plotter.show_grid()\n",
    "plotter.show()"
   ]
  },
  {
   "cell_type": "code",
   "execution_count": null,
   "metadata": {},
   "outputs": [
    {
     "name": "stderr",
     "output_type": "stream",
     "text": [
      "l:\\program\\Lib\\site-packages\\pyvista\\core\\filters\\data_set.py:2320: UserWarning: No vector-like data to use for orient. orient will be set to False.\n",
      "  warnings.warn(\"No vector-like data to use for orient. orient will be set to False.\")\n"
     ]
    },
    {
     "data": {
      "application/vnd.jupyter.widget-view+json": {
       "model_id": "a26ff6046e8040f1a77473602ee577ea",
       "version_major": 2,
       "version_minor": 0
      },
      "text/plain": [
       "Widget(value='<iframe src=\"http://localhost:51715/index.html?ui=P_0x1f8f9cd6890_6&reconnect=auto\" class=\"pyvis…"
      ]
     },
     "metadata": {},
     "output_type": "display_data"
    }
   ],
   "source": [
    "depo1 = torch.Tensor(pointcloud[:,3:]).to_sparse()\n",
    "depo1 = depo1.indices().numpy().T\n",
    "\n",
    "\n",
    "depomesh = pv.PolyData(pointcloud[:,3:])\n",
    "depomesh[\"radius\"] = np.ones(pointcloud[:,3:].shape[0])*0.5\n",
    "geom = pv.Box()\n",
    "\n",
    "\n",
    "# Progress bar is a new feature on master branch\n",
    "depoglyphed = depomesh.glyph(scale=\"radius\", geom=geom) # progress_bar=True)\n",
    "\n",
    "p = pv.Plotter()\n",
    "p.add_mesh(depoglyphed, color='cyan')\n",
    "p.enable_eye_dome_lighting()\n",
    "p.show()"
   ]
  },
  {
   "cell_type": "code",
   "execution_count": null,
   "metadata": {},
   "outputs": [
    {
     "name": "stderr",
     "output_type": "stream",
     "text": [
      "l:\\program\\Lib\\site-packages\\pyvista\\core\\utilities\\points.py:52: UserWarning: Points is not a float type. This can cause issues when transforming or applying filters. Casting to ``np.float32``. Disable this by passing ``force_float=False``.\n",
      "  warnings.warn(\n",
      "l:\\program\\Lib\\site-packages\\pyvista\\core\\filters\\data_set.py:2320: UserWarning: No vector-like data to use for orient. orient will be set to False.\n",
      "  warnings.warn(\"No vector-like data to use for orient. orient will be set to False.\")\n"
     ]
    },
    {
     "data": {
      "application/vnd.jupyter.widget-view+json": {
       "model_id": "769d19b3d6dc4170bfebea113a80ac43",
       "version_major": 2,
       "version_minor": 0
      },
      "text/plain": [
       "Widget(value='<iframe src=\"http://localhost:50932/index.html?ui=P_0x19c0f17aa10_3&reconnect=auto\" class=\"pyvis…"
      ]
     },
     "metadata": {},
     "output_type": "display_data"
    }
   ],
   "source": [
    "sumFilm = np.sum(etching[0], axis=-1)\n",
    "\n",
    "depo1 = torch.Tensor(np.logical_and(sumFilm[:, 50:, :,]!=10, sumFilm[:, 50:, :,]!=0)).to_sparse()\n",
    "depo1 = depo1.indices().numpy().T\n",
    "\n",
    "substrute = torch.Tensor(sumFilm[:, 50:, :,]==10).to_sparse()\n",
    "substrute = substrute.indices().numpy().T\n",
    "depomesh = pv.PolyData(depo1)\n",
    "depomesh[\"radius\"] = np.ones(depo1.shape[0])*0.5\n",
    "geom = pv.Box()\n",
    "\n",
    "submesh = pv.PolyData(substrute)\n",
    "submesh[\"radius\"] = np.ones(substrute.shape[0])*0.5\n",
    "\n",
    "# Progress bar is a new feature on master branch\n",
    "depoglyphed = depomesh.glyph(scale=\"radius\", geom=geom) # progress_bar=True)\n",
    "subglyphed = submesh.glyph(scale=\"radius\", geom=geom) # progress_bar=True)\n",
    "\n",
    "p = pv.Plotter()\n",
    "p.add_mesh(depoglyphed, color='cyan')\n",
    "p.add_mesh(subglyphed, color='dimgray')\n",
    "p.enable_eye_dome_lighting()\n",
    "p.show()"
   ]
  },
  {
   "cell_type": "code",
   "execution_count": null,
   "metadata": {},
   "outputs": [
    {
     "ename": "ValueError",
     "evalue": "Empty meshes cannot be plotted. Input mesh has zero points. To allow plotting empty meshes, set `pv.global_theme.allow_empty_mesh = True`",
     "output_type": "error",
     "traceback": [
      "\u001b[1;31m---------------------------------------------------------------------------\u001b[0m",
      "\u001b[1;31mValueError\u001b[0m                                Traceback (most recent call last)",
      "Cell \u001b[1;32mIn[10], line 20\u001b[0m\n\u001b[0;32m     17\u001b[0m subglyphed \u001b[38;5;241m=\u001b[39m submesh\u001b[38;5;241m.\u001b[39mglyph(scale\u001b[38;5;241m=\u001b[39m\u001b[38;5;124m\"\u001b[39m\u001b[38;5;124mradius\u001b[39m\u001b[38;5;124m\"\u001b[39m, geom\u001b[38;5;241m=\u001b[39mgeom) \u001b[38;5;66;03m# progress_bar=True)\u001b[39;00m\n\u001b[0;32m     19\u001b[0m p \u001b[38;5;241m=\u001b[39m pv\u001b[38;5;241m.\u001b[39mPlotter()\n\u001b[1;32m---> 20\u001b[0m p\u001b[38;5;241m.\u001b[39madd_mesh(depoglyphed, color\u001b[38;5;241m=\u001b[39m\u001b[38;5;124m'\u001b[39m\u001b[38;5;124mcyan\u001b[39m\u001b[38;5;124m'\u001b[39m)\n\u001b[0;32m     21\u001b[0m p\u001b[38;5;241m.\u001b[39madd_mesh(subglyphed, color\u001b[38;5;241m=\u001b[39m\u001b[38;5;124m'\u001b[39m\u001b[38;5;124mdimgray\u001b[39m\u001b[38;5;124m'\u001b[39m)\n\u001b[0;32m     22\u001b[0m p\u001b[38;5;241m.\u001b[39menable_eye_dome_lighting()\n",
      "File \u001b[1;32ml:\\program\\Lib\\site-packages\\pyvista\\plotting\\plotter.py:3515\u001b[0m, in \u001b[0;36mBasePlotter.add_mesh\u001b[1;34m(self, mesh, color, style, scalars, clim, show_edges, edge_color, point_size, line_width, opacity, flip_scalars, lighting, n_colors, interpolate_before_map, cmap, label, reset_camera, scalar_bar_args, show_scalar_bar, multi_colors, name, texture, render_points_as_spheres, render_lines_as_tubes, smooth_shading, split_sharp_edges, ambient, diffuse, specular, specular_power, nan_color, nan_opacity, culling, rgb, categories, silhouette, use_transparency, below_color, above_color, annotations, pickable, preference, log_scale, pbr, metallic, roughness, render, user_matrix, component, emissive, copy_mesh, backface_params, show_vertices, edge_opacity, **kwargs)\u001b[0m\n\u001b[0;32m   3511\u001b[0m         \u001b[38;5;28;01mraise\u001b[39;00m \u001b[38;5;167;01mValueError\u001b[39;00m(\u001b[38;5;124m'\u001b[39m\u001b[38;5;124mRGB array must be n_points/n_cells by 3/4 in shape.\u001b[39m\u001b[38;5;124m'\u001b[39m)\n\u001b[0;32m   3513\u001b[0m \u001b[38;5;28;01mif\u001b[39;00m algo \u001b[38;5;129;01mis\u001b[39;00m \u001b[38;5;28;01mNone\u001b[39;00m \u001b[38;5;129;01mand\u001b[39;00m \u001b[38;5;129;01mnot\u001b[39;00m \u001b[38;5;28mself\u001b[39m\u001b[38;5;241m.\u001b[39mtheme\u001b[38;5;241m.\u001b[39mallow_empty_mesh \u001b[38;5;129;01mand\u001b[39;00m \u001b[38;5;129;01mnot\u001b[39;00m mesh\u001b[38;5;241m.\u001b[39mn_points:\n\u001b[0;32m   3514\u001b[0m     \u001b[38;5;66;03m# Algorithms may initialize with an empty mesh\u001b[39;00m\n\u001b[1;32m-> 3515\u001b[0m     \u001b[38;5;28;01mraise\u001b[39;00m \u001b[38;5;167;01mValueError\u001b[39;00m(\n\u001b[0;32m   3516\u001b[0m         \u001b[38;5;124m'\u001b[39m\u001b[38;5;124mEmpty meshes cannot be plotted. Input mesh has zero points. To allow plotting empty meshes, set `pv.global_theme.allow_empty_mesh = True`\u001b[39m\u001b[38;5;124m'\u001b[39m\n\u001b[0;32m   3517\u001b[0m     )\n\u001b[0;32m   3519\u001b[0m \u001b[38;5;66;03m# set main values\u001b[39;00m\n\u001b[0;32m   3520\u001b[0m \u001b[38;5;28mself\u001b[39m\u001b[38;5;241m.\u001b[39mmesh \u001b[38;5;241m=\u001b[39m mesh\n",
      "\u001b[1;31mValueError\u001b[0m: Empty meshes cannot be plotted. Input mesh has zero points. To allow plotting empty meshes, set `pv.global_theme.allow_empty_mesh = True`"
     ]
    }
   ],
   "source": [
    "sumFilm = np.sum(testEtch.film, axis=-1)\n",
    "\n",
    "depo1 = torch.Tensor(np.logical_and(sumFilm[:, :, :,]!=10, sumFilm[:, :, :,]!=0)).to_sparse()\n",
    "depo1 = depo1.indices().numpy().T\n",
    "\n",
    "substrute = torch.Tensor(sumFilm[:, :, :,]==10).to_sparse()\n",
    "substrute = substrute.indices().numpy().T\n",
    "depomesh = pv.PolyData(depo1)\n",
    "depomesh[\"radius\"] = np.ones(depo1.shape[0])*0.5\n",
    "geom = pv.Box()\n",
    "\n",
    "submesh = pv.PolyData(substrute)\n",
    "submesh[\"radius\"] = np.ones(substrute.shape[0])*0.5\n",
    "\n",
    "# Progress bar is a new feature on master branch\n",
    "depoglyphed = depomesh.glyph(scale=\"radius\", geom=geom) # progress_bar=True)\n",
    "subglyphed = submesh.glyph(scale=\"radius\", geom=geom) # progress_bar=True)\n",
    "\n",
    "p = pv.Plotter()\n",
    "p.add_mesh(depoglyphed, color='cyan')\n",
    "p.add_mesh(subglyphed, color='dimgray')\n",
    "p.enable_eye_dome_lighting()\n",
    "p.show()"
   ]
  },
  {
   "cell_type": "code",
   "execution_count": null,
   "metadata": {},
   "outputs": [
    {
     "data": {
      "text/plain": [
       "(7000000, 10)"
      ]
     },
     "execution_count": 7,
     "metadata": {},
     "output_type": "execute_result"
    }
   ],
   "source": [
    "testEtch.parcel.shape"
   ]
  },
  {
   "cell_type": "code",
   "execution_count": null,
   "metadata": {},
   "outputs": [
    {
     "data": {
      "text/plain": [
       "array([161.24791799,  84.77586652, -82.53676749,   0.80623615,\n",
       "         0.42387643,  -0.4126888 ,  68.        ,  58.        ,\n",
       "        99.        ,   1.        ])"
      ]
     },
     "execution_count": 14,
     "metadata": {},
     "output_type": "execute_result"
    }
   ],
   "source": [
    "testEtch.parcel[106]"
   ]
  },
  {
   "cell_type": "code",
   "execution_count": null,
   "metadata": {},
   "outputs": [
    {
     "name": "stdout",
     "output_type": "stream",
     "text": [
      "[ 1.29022179e+02  1.60886601e+01 -1.53281836e+02  6.41898233e-01\n",
      "  8.00382431e-02 -7.62601166e-01  6.30000000e+01  9.70000000e+01\n",
      "  9.90000000e+01  1.00000000e+00]\n"
     ]
    }
   ],
   "source": [
    "testEtch.parcel[100, :3] += testEtch.parcel[100, 3:6] \n",
    "print(testEtch.parcel[100])"
   ]
  },
  {
   "cell_type": "code",
   "execution_count": null,
   "metadata": {},
   "outputs": [
    {
     "data": {
      "text/plain": [
       "array([97, 98, 95, 98, 97, 98, 99, 99, 97, 99, 97, 99, 97, 95, 96, 97, 99,\n",
       "       96, 97, 99, 95, 95, 99, 98, 95, 98, 96, 96, 97, 99, 97, 97, 97, 95,\n",
       "       97, 97, 98, 96, 97, 98, 97, 96, 99, 97, 97, 95, 96, 99, 96, 98, 96,\n",
       "       95, 99, 99, 96, 95, 97, 97, 96, 95, 95, 98, 95, 98, 95, 96, 98, 96,\n",
       "       99, 98, 98, 97, 96, 99, 97, 96, 97, 96, 97, 98, 95, 99, 95, 99, 97,\n",
       "       97, 98, 95, 99, 95, 97, 99, 97, 97, 96, 96, 95, 96, 95, 99, 96, 98,\n",
       "       98, 95, 95, 99, 98, 97, 97, 96, 99, 98, 99, 97, 99, 95, 97, 98, 95,\n",
       "       99, 95, 98, 96, 95, 98, 96, 96, 97, 97, 96, 97, 98, 97, 96, 99, 97,\n",
       "       96, 97, 99, 99, 95, 96, 97, 98, 99, 95, 95, 97, 95, 98, 95, 99, 95,\n",
       "       96, 99, 95, 98, 95, 97, 96, 95, 96, 97, 97, 99, 97, 98, 98, 99, 98,\n",
       "       95, 97, 98, 98, 95, 97, 95, 97, 97, 99, 95, 99, 97, 98, 95, 96, 98,\n",
       "       99, 96, 99, 98, 96, 99, 95, 95, 98, 98, 99, 99, 95, 95, 98, 99, 97,\n",
       "       99, 99, 95, 98, 98, 98, 99, 97, 96, 97, 99, 96, 99, 95, 97, 96, 97,\n",
       "       99, 96, 97, 96, 96, 97, 99, 99, 95, 95, 95, 97, 98, 96, 96, 98, 95,\n",
       "       99, 98, 99, 95, 96, 99, 99, 99, 97, 96, 98, 97, 99, 97, 98, 95, 95,\n",
       "       96, 97, 98, 96, 96, 97, 97, 96, 96, 96, 98, 98, 97, 95, 99, 97, 95,\n",
       "       96, 95, 98, 97, 97, 98, 97, 98, 96, 97, 99, 97, 97, 98, 99, 97, 98,\n",
       "       98, 95, 96, 96, 99, 98, 95, 97, 96, 96, 97, 97, 98, 96, 98, 98, 98,\n",
       "       95, 99, 98, 98, 98, 96, 99, 95, 97, 95, 98, 99, 95, 95, 99, 97, 96,\n",
       "       96, 99, 97, 95, 99, 97, 96, 98, 98, 95, 95, 99, 99, 95, 98, 98, 99,\n",
       "       99, 99, 97, 99, 99, 98, 95, 97, 96, 99, 97, 97, 96, 96, 99, 95, 97,\n",
       "       96, 97, 98, 98, 98, 95, 98, 99, 99, 98, 97, 98, 96, 98, 95, 95, 95,\n",
       "       98, 97, 96, 95, 95, 98, 96, 96, 99, 96, 99, 99, 95, 95, 99, 98, 98,\n",
       "       98, 96, 97, 96, 95, 99, 99, 95, 99, 95, 96, 99, 96, 95, 95, 99, 96,\n",
       "       96, 97, 98, 95, 97, 96, 98, 96, 98, 99, 96, 95, 96, 98, 98, 98, 97,\n",
       "       95, 95, 98, 98, 97, 95, 98, 99, 96, 99, 97, 95, 95, 95, 96, 99, 96,\n",
       "       96, 99, 98, 97, 95, 97, 96, 96, 95, 96, 99, 96, 98, 95, 96, 95, 99,\n",
       "       99, 96, 97, 95, 98, 99, 97, 97, 95, 99, 97, 99, 95, 95, 98, 95, 99,\n",
       "       96, 95, 96, 98, 97, 97, 98, 95, 99, 99, 98, 96, 98, 99, 99, 95, 97,\n",
       "       99, 97, 98, 95, 96, 95, 95, 97, 99, 96, 96, 97, 95, 98, 95, 95, 98,\n",
       "       96, 96, 98, 95, 95, 99, 95, 98, 99, 98, 98, 96, 99, 99, 97, 98, 96,\n",
       "       97, 95, 96, 99, 99, 99, 99, 96, 95, 97, 96, 95, 96, 97, 96, 95, 96,\n",
       "       98, 97, 98, 96, 95, 99, 97, 95, 97, 95, 95, 97, 96, 99, 95, 99, 97,\n",
       "       96, 99, 99, 98, 96, 95, 96, 98, 95, 96, 99, 96, 99, 98, 99, 99, 98,\n",
       "       97, 98, 96, 96, 98, 99, 99, 99, 97, 98, 95, 96, 96, 95, 96, 96, 99,\n",
       "       97, 97, 98, 97, 95, 96, 98, 96, 98, 98, 97, 96, 99, 97, 96, 99, 96,\n",
       "       97, 95, 98, 96, 99, 98, 99, 96, 96, 98, 95, 99, 98, 99, 95, 99, 97,\n",
       "       99, 97, 97, 98, 97, 97, 97, 97, 98, 95, 97, 97, 98, 95, 95, 98, 95,\n",
       "       97, 98, 95, 97, 97, 96, 99, 96, 98, 98, 99, 96, 99, 95, 99, 99, 97,\n",
       "       95, 96, 97, 96, 99, 96, 96, 95, 99, 97, 99, 96, 95, 97, 99, 95, 99,\n",
       "       97, 99, 98, 96, 95, 95, 97, 95, 97, 98, 95, 98, 95, 95, 96, 98, 97,\n",
       "       95, 98, 98, 97, 96, 96, 99, 95, 98, 95, 99, 96, 97, 95, 99, 98, 96,\n",
       "       95, 96, 98, 96, 96, 96, 99, 97, 96, 95, 96, 96, 97, 98, 96, 97, 95,\n",
       "       98, 98, 97, 95, 96, 95, 98, 97, 99, 98, 96, 99, 96, 99, 95, 96, 95,\n",
       "       97, 96, 95, 98, 96, 97, 98, 96, 96, 98, 98, 97, 99, 98, 99, 95, 98,\n",
       "       96, 96, 99, 98, 95, 95, 98, 95, 98, 96, 99, 99, 97, 97, 95, 98, 97,\n",
       "       96, 99, 96, 97, 96, 99, 98, 99, 98, 99, 97, 99, 96, 97, 98, 96, 95,\n",
       "       99, 96, 95, 95, 98, 97, 99, 99, 99, 98, 96, 99, 97, 95, 98, 95, 97,\n",
       "       96, 95, 96, 98, 96, 99, 99, 99, 99, 97, 97, 95, 96, 98, 97, 98, 98,\n",
       "       99, 97, 99, 98, 98, 95, 99, 97, 99, 95, 97, 98, 96, 97, 97, 96, 98,\n",
       "       98, 97, 97, 99, 95, 95, 99, 97, 97, 96, 98, 99, 99, 99, 95, 99, 95,\n",
       "       98, 97, 96, 95, 98, 98, 98, 97, 95, 95, 96, 97, 97, 97, 98, 96, 99,\n",
       "       97, 98, 95, 95, 99, 99, 95, 95, 96, 97, 98, 96, 95, 99, 99, 97, 99,\n",
       "       99, 99, 98, 99, 95, 99, 97, 99, 96, 95, 95, 98, 99, 98, 95, 97, 96,\n",
       "       95, 97, 97, 95, 96, 95, 98, 96, 98, 95, 95, 95, 98, 95, 97, 97, 98,\n",
       "       97, 96, 96, 97, 95, 97, 98, 97, 98, 99, 98, 99, 98, 95, 96, 96, 96,\n",
       "       99, 97, 97, 95, 95, 98, 95, 97, 97, 95, 98, 97, 98, 99, 98, 98, 97,\n",
       "       99, 98, 96, 97, 98, 99, 95, 96, 97, 97, 95, 95, 95, 95, 97, 95, 95,\n",
       "       95, 97, 96, 96, 96, 97, 97, 96, 98, 97, 97, 95, 99, 95])"
      ]
     },
     "execution_count": 10,
     "metadata": {},
     "output_type": "execute_result"
    }
   ],
   "source": [
    "testEtch.parcel[10000:11000][:,8].astype(int)\n"
   ]
  },
  {
   "cell_type": "code",
   "execution_count": null,
   "metadata": {},
   "outputs": [],
   "source": []
  }
 ],
 "metadata": {
  "kernelspec": {
   "display_name": "Python 3",
   "language": "python",
   "name": "python3"
  },
  "language_info": {
   "codemirror_mode": {
    "name": "ipython",
    "version": 3
   },
   "file_extension": ".py",
   "mimetype": "text/x-python",
   "name": "python",
   "nbconvert_exporter": "python",
   "pygments_lexer": "ipython3",
   "version": "3.11.7"
  }
 },
 "nbformat": 4,
 "nbformat_minor": 2
}

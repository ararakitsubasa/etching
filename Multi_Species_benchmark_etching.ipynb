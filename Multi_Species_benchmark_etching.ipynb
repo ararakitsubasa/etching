{
 "cells": [
  {
   "cell_type": "code",
   "execution_count": 1,
   "metadata": {},
   "outputs": [],
   "source": [
    "import numpy as np\n",
    "import time as Time\n",
    "from numba import jit\n",
    "import matplotlib.pyplot as plt\n",
    "import pyvista as pv\n",
    "import torch"
   ]
  },
  {
   "cell_type": "code",
   "execution_count": 3,
   "metadata": {},
   "outputs": [],
   "source": [
    "film = np.zeros((100, 100, 100, 2))\n",
    "\n",
    "bottom = 80\n",
    "film[:, :, 0:bottom, 0] = 10 # bottom\n",
    "\n",
    "# height = 80\n",
    "\n",
    "# film[:, :40, 0:height, 0] = 10\n",
    "# film[:, 60:, 0:height, 0] = 10\n"
   ]
  },
  {
   "cell_type": "code",
   "execution_count": 4,
   "metadata": {},
   "outputs": [
    {
     "name": "stdout",
     "output_type": "stream",
     "text": [
      "(100, 100, 100)\n"
     ]
    }
   ],
   "source": [
    "sumFilm = np.sum(film, axis=-1)\n",
    "\n",
    "print(sumFilm.shape)"
   ]
  },
  {
   "cell_type": "code",
   "execution_count": 5,
   "metadata": {},
   "outputs": [
    {
     "name": "stderr",
     "output_type": "stream",
     "text": [
      "l:\\program\\Lib\\site-packages\\pyvista\\core\\utilities\\points.py:52: UserWarning: Points is not a float type. This can cause issues when transforming or applying filters. Casting to ``np.float32``. Disable this by passing ``force_float=False``.\n",
      "  warnings.warn(\n",
      "l:\\program\\Lib\\site-packages\\pyvista\\core\\filters\\data_set.py:2320: UserWarning: No vector-like data to use for orient. orient will be set to False.\n",
      "  warnings.warn(\"No vector-like data to use for orient. orient will be set to False.\")\n"
     ]
    },
    {
     "data": {
      "application/vnd.jupyter.widget-view+json": {
       "model_id": "4578e77d8d8847639c6a93104c7637ec",
       "version_major": 2,
       "version_minor": 0
      },
      "text/plain": [
       "Widget(value='<iframe src=\"http://localhost:52649/index.html?ui=P_0x248f4848090_0&reconnect=auto\" class=\"pyvis…"
      ]
     },
     "metadata": {},
     "output_type": "display_data"
    }
   ],
   "source": [
    "# depo1 = torch.Tensor(np.logical_and(film[:, :, :] !=0, film[:, :, :] < 10)).to_sparse()\n",
    "# depo1 = depo1.indices().numpy().T\n",
    "\n",
    "substrute = torch.Tensor(sumFilm[:, :, :]==10).to_sparse()\n",
    "substrute = substrute.indices().numpy().T\n",
    "# depomesh = pv.PolyData(depo1)\n",
    "# depomesh[\"radius\"] = np.ones(depo1.shape[0])*0.5\n",
    "geom = pv.Box()\n",
    "\n",
    "submesh = pv.PolyData(substrute)\n",
    "submesh[\"radius\"] = np.ones(substrute.shape[0])*0.5\n",
    "\n",
    "# Progress bar is a new feature on master branch\n",
    "# depoglyphed = depomesh.glyph(scale=\"radius\", geom=geom) # progress_bar=True)\n",
    "subglyphed = submesh.glyph(scale=\"radius\", geom=geom) # progress_bar=True)\n",
    "\n",
    "p = pv.Plotter()\n",
    "# p.add_mesh(depoglyphed, color='cyan')\n",
    "p.add_mesh(subglyphed, color='dimgray')\n",
    "p.enable_eye_dome_lighting()\n",
    "p.show()"
   ]
  },
  {
   "cell_type": "code",
   "execution_count": 6,
   "metadata": {},
   "outputs": [],
   "source": [
    "etchfilm = film"
   ]
  },
  {
   "cell_type": "code",
   "execution_count": 7,
   "metadata": {},
   "outputs": [],
   "source": [
    "import Multi_Species_SF_etching"
   ]
  },
  {
   "cell_type": "code",
   "execution_count": 17,
   "metadata": {},
   "outputs": [],
   "source": [
    "logname = 'Multi_species_benchmark_0729'\n",
    "testEtch = Multi_Species_SF_etching.etching(mirror=True,inputMethod='bunch', pressure_pa=0.001, temperature=300, chamberSize=etchfilm.shape,\n",
    "                                         depoThick=90, center_with_direction=np.array([[35,100,75]]), \n",
    "                                         range3D=np.array([[0, 70, 0, 100, 0, 150]]), InOrOut=[1], yield_hist=np.array([None]),\n",
    "                                        reaction_type=False, param = [1.6, -0.7], N = 300000, \n",
    "                                        sub_xy=[0,0], film=etchfilm, n=1, cellSize=etchfilm.shape, \n",
    "                                        celllength=1e-5, kdtreeN=5, tstep=1e-5,\n",
    "                                        substrateTop=40,posGeneratorType='benchmark', logname=logname)\n",
    "\n",
    "\n",
    "# etching = testEtch.depo_position_increase_cosVel_normal(125, int(7e6), 2e-3, 5)\n"
   ]
  },
  {
   "cell_type": "code",
   "execution_count": 18,
   "metadata": {},
   "outputs": [
    {
     "name": "stdout",
     "output_type": "stream",
     "text": [
      "[ 0.  0. -1.]\n"
     ]
    }
   ],
   "source": [
    "N = int(1e6)\n",
    "velosity_matrix = np.zeros((N, 3))\n",
    "tstep=1e-5\n",
    "celllength=1e-5\n",
    "# velosity_matrix[:, 0] = -1 * celllength /tstep\n",
    "# velosity_matrix[:, 1] = -1 * celllength /tstep\n",
    "velosity_matrix[:, 2] = -1 * celllength /tstep\n",
    "\n",
    "typeID = np.zeros(N)\n",
    "\n",
    "print(velosity_matrix[0])"
   ]
  },
  {
   "cell_type": "code",
   "execution_count": 19,
   "metadata": {},
   "outputs": [
    {
     "name": "stdout",
     "output_type": "stream",
     "text": [
      "parcel (5000, 10)\n"
     ]
    },
    {
     "name": "stderr",
     "output_type": "stream",
     "text": [
      "running:   0%|                                                            | 0.00/100 [00:00<?, ?B/s]"
     ]
    },
    {
     "name": "stdout",
     "output_type": "stream",
     "text": [
      "parcel (5000, 10)\n",
      "parcel (10000, 10)\n"
     ]
    },
    {
     "name": "stderr",
     "output_type": "stream",
     "text": [
      "running:   2%|█                                                    | 2.00/100 [00:00<00:21, 4.50B/s]"
     ]
    },
    {
     "name": "stdout",
     "output_type": "stream",
     "text": [
      "parcel (15000, 10)\n",
      "parcel (20000, 10)\n",
      "parcel (25000, 10)\n",
      "parcel (30000, 10)\n"
     ]
    },
    {
     "name": "stderr",
     "output_type": "stream",
     "text": [
      "running:   3%|█▌                                                   | 3.00/100 [00:00<00:22, 4.39B/s]"
     ]
    },
    {
     "name": "stdout",
     "output_type": "stream",
     "text": [
      "parcel (35000, 10)\n",
      "parcel (40000, 10)\n"
     ]
    },
    {
     "name": "stderr",
     "output_type": "stream",
     "text": [
      "running:   4%|██                                                   | 4.00/100 [00:00<00:21, 4.38B/s]"
     ]
    },
    {
     "name": "stdout",
     "output_type": "stream",
     "text": [
      "parcel (45000, 10)\n",
      "parcel (50000, 10)\n"
     ]
    },
    {
     "name": "stderr",
     "output_type": "stream",
     "text": [
      "running:   5%|██▋                                                  | 5.00/100 [00:01<00:21, 4.34B/s]"
     ]
    },
    {
     "name": "stdout",
     "output_type": "stream",
     "text": [
      "parcel (55000, 10)\n",
      "after react\n"
     ]
    },
    {
     "name": "stderr",
     "output_type": "stream",
     "text": [
      "running:   6%|███▏                                                 | 6.00/100 [00:01<00:27, 3.36B/s]"
     ]
    },
    {
     "name": "stdout",
     "output_type": "stream",
     "text": [
      "parcel (56561, 10)\n",
      "after react\n",
      "parcel (57577, 10)\n",
      "after react\n"
     ]
    },
    {
     "name": "stderr",
     "output_type": "stream",
     "text": [
      "running:   7%|███▋                                                 | 7.00/100 [00:02<00:36, 2.55B/s]"
     ]
    },
    {
     "name": "stdout",
     "output_type": "stream",
     "text": [
      "parcel (58002, 10)\n",
      "after react\n",
      "parcel (58223, 10)\n",
      "after react\n"
     ]
    },
    {
     "name": "stderr",
     "output_type": "stream",
     "text": [
      "running:   8%|████▏                                                | 8.00/100 [00:02<00:42, 2.14B/s]"
     ]
    },
    {
     "name": "stdout",
     "output_type": "stream",
     "text": [
      "parcel (56676, 10)\n",
      "after react\n",
      "parcel (54410, 10)\n",
      "after react\n"
     ]
    },
    {
     "name": "stderr",
     "output_type": "stream",
     "text": [
      "running:   9%|████▊                                                | 9.00/100 [00:03<00:45, 1.98B/s]"
     ]
    },
    {
     "name": "stdout",
     "output_type": "stream",
     "text": [
      "parcel (53840, 10)\n",
      "after react\n",
      "parcel (53831, 10)\n",
      "after react\n"
     ]
    },
    {
     "name": "stderr",
     "output_type": "stream",
     "text": [
      "running:  10%|█████▎                                               | 10.0/100 [00:03<00:47, 1.89B/s]"
     ]
    },
    {
     "name": "stdout",
     "output_type": "stream",
     "text": [
      "parcel (53925, 10)\n",
      "after react\n",
      "parcel (53390, 10)\n",
      "after react\n"
     ]
    },
    {
     "name": "stderr",
     "output_type": "stream",
     "text": [
      "running:  11%|█████▊                                               | 11.0/100 [00:04<00:48, 1.83B/s]"
     ]
    },
    {
     "name": "stdout",
     "output_type": "stream",
     "text": [
      "parcel (50344, 10)\n",
      "after react\n",
      "parcel (49483, 10)\n",
      "after react\n"
     ]
    },
    {
     "name": "stderr",
     "output_type": "stream",
     "text": [
      "running:  12%|██████▎                                              | 12.0/100 [00:05<00:48, 1.80B/s]"
     ]
    },
    {
     "name": "stdout",
     "output_type": "stream",
     "text": [
      "parcel (49327, 10)\n",
      "after react\n",
      "parcel (49323, 10)\n",
      "after react\n"
     ]
    },
    {
     "name": "stderr",
     "output_type": "stream",
     "text": [
      "running:  13%|██████▉                                              | 13.0/100 [00:05<00:49, 1.77B/s]"
     ]
    },
    {
     "name": "stdout",
     "output_type": "stream",
     "text": [
      "parcel (49279, 10)\n",
      "after react\n",
      "parcel (46854, 10)\n",
      "after react\n"
     ]
    },
    {
     "name": "stderr",
     "output_type": "stream",
     "text": [
      "running:  14%|███████▍                                             | 14.0/100 [00:06<00:49, 1.73B/s]"
     ]
    },
    {
     "name": "stdout",
     "output_type": "stream",
     "text": [
      "parcel (45172, 10)\n",
      "after react\n",
      "parcel (44715, 10)\n",
      "after react\n"
     ]
    },
    {
     "name": "stderr",
     "output_type": "stream",
     "text": [
      "running:  15%|███████▉                                             | 15.0/100 [00:06<00:48, 1.75B/s]"
     ]
    },
    {
     "name": "stdout",
     "output_type": "stream",
     "text": [
      "parcel (44631, 10)\n",
      "after react\n",
      "parcel (44611, 10)\n",
      "after react\n"
     ]
    },
    {
     "name": "stderr",
     "output_type": "stream",
     "text": [
      "running:  16%|████████▍                                            | 16.0/100 [00:07<00:47, 1.76B/s]"
     ]
    },
    {
     "name": "stdout",
     "output_type": "stream",
     "text": [
      "parcel (43273, 10)\n",
      "after react\n",
      "parcel (39718, 10)\n",
      "after react\n"
     ]
    },
    {
     "name": "stderr",
     "output_type": "stream",
     "text": [
      "running:  17%|█████████                                            | 17.0/100 [00:08<00:47, 1.75B/s]"
     ]
    },
    {
     "name": "stdout",
     "output_type": "stream",
     "text": [
      "parcel (38913, 10)\n",
      "after react\n",
      "parcel (38679, 10)\n",
      "after react\n"
     ]
    },
    {
     "name": "stderr",
     "output_type": "stream",
     "text": [
      "running:  18%|█████████▌                                           | 18.0/100 [00:08<00:46, 1.76B/s]"
     ]
    },
    {
     "name": "stdout",
     "output_type": "stream",
     "text": [
      "parcel (38703, 10)\n",
      "after react\n",
      "parcel (38093, 10)\n",
      "after react\n"
     ]
    },
    {
     "name": "stderr",
     "output_type": "stream",
     "text": [
      "running:  19%|██████████                                           | 19.0/100 [00:09<00:47, 1.71B/s]"
     ]
    },
    {
     "name": "stdout",
     "output_type": "stream",
     "text": [
      "parcel (35214, 10)\n",
      "after react\n",
      "parcel (34049, 10)\n",
      "after react\n"
     ]
    },
    {
     "name": "stderr",
     "output_type": "stream",
     "text": [
      "running:  20%|██████████▌                                          | 20.0/100 [00:09<00:47, 1.68B/s]"
     ]
    },
    {
     "name": "stdout",
     "output_type": "stream",
     "text": [
      "parcel (33705, 10)\n",
      "after react\n",
      "parcel (33659, 10)\n",
      "after react\n"
     ]
    },
    {
     "name": "stderr",
     "output_type": "stream",
     "text": [
      "running:  21%|███████████▏                                         | 21.0/100 [00:10<00:46, 1.69B/s]"
     ]
    },
    {
     "name": "stdout",
     "output_type": "stream",
     "text": [
      "parcel (33591, 10)\n",
      "after react\n",
      "parcel (31456, 10)\n",
      "after react\n"
     ]
    },
    {
     "name": "stderr",
     "output_type": "stream",
     "text": [
      "running:  22%|███████████▋                                         | 22.0/100 [00:10<00:45, 1.71B/s]"
     ]
    },
    {
     "name": "stdout",
     "output_type": "stream",
     "text": [
      "parcel (29405, 10)\n",
      "after react\n",
      "parcel (28877, 10)\n",
      "after react\n"
     ]
    },
    {
     "name": "stderr",
     "output_type": "stream",
     "text": [
      "running:  23%|████████████▏                                        | 23.0/100 [00:11<00:46, 1.66B/s]"
     ]
    },
    {
     "name": "stdout",
     "output_type": "stream",
     "text": [
      "parcel (28750, 10)\n",
      "after react\n",
      "parcel (28718, 10)\n",
      "after react\n"
     ]
    },
    {
     "name": "stderr",
     "output_type": "stream",
     "text": [
      "running:  24%|████████████▋                                        | 24.0/100 [00:12<00:45, 1.67B/s]"
     ]
    },
    {
     "name": "stdout",
     "output_type": "stream",
     "text": [
      "parcel (27794, 10)\n",
      "after react\n",
      "parcel (25165, 10)\n",
      "after react\n"
     ]
    },
    {
     "name": "stderr",
     "output_type": "stream",
     "text": [
      "running:  25%|█████████████▎                                       | 25.0/100 [00:12<00:44, 1.67B/s]"
     ]
    },
    {
     "name": "stdout",
     "output_type": "stream",
     "text": [
      "parcel (24227, 10)\n",
      "after react\n",
      "parcel (23878, 10)\n",
      "after react\n"
     ]
    },
    {
     "name": "stderr",
     "output_type": "stream",
     "text": [
      "running:  26%|█████████████▊                                       | 26.0/100 [00:13<00:43, 1.69B/s]"
     ]
    },
    {
     "name": "stdout",
     "output_type": "stream",
     "text": [
      "parcel (23876, 10)\n",
      "after react\n",
      "parcel (23460, 10)\n",
      "after react\n"
     ]
    },
    {
     "name": "stderr",
     "output_type": "stream",
     "text": [
      "running:  27%|██████████████▎                                      | 27.0/100 [00:13<00:43, 1.66B/s]"
     ]
    },
    {
     "name": "stdout",
     "output_type": "stream",
     "text": [
      "parcel (20959, 10)\n",
      "after react\n",
      "parcel (19372, 10)\n",
      "after react\n"
     ]
    },
    {
     "name": "stderr",
     "output_type": "stream",
     "text": [
      "running:  28%|██████████████▊                                      | 28.0/100 [00:14<00:43, 1.66B/s]"
     ]
    },
    {
     "name": "stdout",
     "output_type": "stream",
     "text": [
      "parcel (18871, 10)\n",
      "after react\n",
      "parcel (18690, 10)\n",
      "after react\n"
     ]
    },
    {
     "name": "stderr",
     "output_type": "stream",
     "text": [
      "running:  29%|███████████████▎                                     | 29.0/100 [00:15<00:42, 1.69B/s]"
     ]
    },
    {
     "name": "stdout",
     "output_type": "stream",
     "text": [
      "parcel (18684, 10)\n",
      "after react\n",
      "parcel (17121, 10)\n",
      "after react\n"
     ]
    },
    {
     "name": "stderr",
     "output_type": "stream",
     "text": [
      "running:  30%|███████████████▉                                     | 30.0/100 [00:15<00:41, 1.68B/s]"
     ]
    },
    {
     "name": "stdout",
     "output_type": "stream",
     "text": [
      "parcel (14662, 10)\n",
      "after react\n",
      "parcel (13873, 10)\n",
      "after react\n"
     ]
    },
    {
     "name": "stderr",
     "output_type": "stream",
     "text": [
      "running:  31%|████████████████▍                                    | 31.0/100 [00:16<00:40, 1.68B/s]"
     ]
    },
    {
     "name": "stdout",
     "output_type": "stream",
     "text": [
      "parcel (13690, 10)\n",
      "after react\n",
      "parcel (13678, 10)\n",
      "after react\n"
     ]
    },
    {
     "name": "stderr",
     "output_type": "stream",
     "text": [
      "running:  32%|████████████████▉                                    | 32.0/100 [00:16<00:36, 1.88B/s]"
     ]
    },
    {
     "name": "stdout",
     "output_type": "stream",
     "text": [
      "parcel (12944, 10)\n",
      "depo finish\n"
     ]
    },
    {
     "name": "stderr",
     "output_type": "stream",
     "text": [
      "\n"
     ]
    }
   ],
   "source": [
    "etching = testEtch.inputParticle(125, velosity_matrix, typeID, 2e-3, 10)"
   ]
  },
  {
   "cell_type": "code",
   "execution_count": 22,
   "metadata": {},
   "outputs": [
    {
     "data": {
      "text/plain": [
       "array([[[1.10123408, 0.        ],\n",
       "        [1.04670308, 0.        ],\n",
       "        [1.01760148, 0.        ],\n",
       "        [1.02002594, 0.        ],\n",
       "        [1.01187279, 0.        ],\n",
       "        [1.0267537 , 0.        ],\n",
       "        [1.01031516, 0.        ],\n",
       "        [1.13451735, 0.        ],\n",
       "        [1.19404016, 0.        ],\n",
       "        [1.1464183 , 0.        ]],\n",
       "\n",
       "       [[1.12379101, 0.        ],\n",
       "        [1.12708704, 0.        ],\n",
       "        [1.00761391, 0.        ],\n",
       "        [1.17921094, 0.        ],\n",
       "        [1.19435536, 0.        ],\n",
       "        [1.1840703 , 0.        ],\n",
       "        [1.19545944, 0.        ],\n",
       "        [1.00607071, 0.        ],\n",
       "        [1.01101505, 0.        ],\n",
       "        [1.00477818, 0.        ]],\n",
       "\n",
       "       [[1.01305059, 0.        ],\n",
       "        [1.16636628, 0.        ],\n",
       "        [1.17729348, 0.        ],\n",
       "        [1.05383006, 0.        ],\n",
       "        [1.18555137, 0.        ],\n",
       "        [1.00127845, 0.        ],\n",
       "        [1.18879077, 0.        ],\n",
       "        [1.00146984, 0.        ],\n",
       "        [1.00674611, 0.        ],\n",
       "        [1.00268103, 0.        ]],\n",
       "\n",
       "       [[1.02862093, 0.        ],\n",
       "        [1.19641853, 0.        ],\n",
       "        [1.04906175, 0.        ],\n",
       "        [1.0933984 , 0.        ],\n",
       "        [1.18307068, 0.        ],\n",
       "        [1.18763545, 0.        ],\n",
       "        [1.18176949, 0.        ],\n",
       "        [1.00788658, 0.        ],\n",
       "        [1.00841024, 0.        ],\n",
       "        [1.00964953, 0.        ]],\n",
       "\n",
       "       [[1.10475697, 0.        ],\n",
       "        [1.12914863, 0.        ],\n",
       "        [1.02478259, 0.        ],\n",
       "        [1.04477561, 0.        ],\n",
       "        [1.00134275, 0.        ],\n",
       "        [1.18455207, 0.        ],\n",
       "        [1.13089735, 0.        ],\n",
       "        [1.13903638, 0.        ],\n",
       "        [1.18290353, 0.        ],\n",
       "        [1.00557443, 0.        ]],\n",
       "\n",
       "       [[1.02014689, 0.        ],\n",
       "        [1.20031772, 0.        ],\n",
       "        [1.01129986, 0.        ],\n",
       "        [1.00260762, 0.        ],\n",
       "        [1.00289947, 0.        ],\n",
       "        [1.19917362, 0.        ],\n",
       "        [1.00332649, 0.        ],\n",
       "        [1.03516474, 0.        ],\n",
       "        [1.00738253, 0.        ],\n",
       "        [1.00551221, 0.        ]],\n",
       "\n",
       "       [[1.00794823, 0.        ],\n",
       "        [1.1906365 , 0.        ],\n",
       "        [1.0580106 , 0.        ],\n",
       "        [1.00534609, 0.        ],\n",
       "        [1.04710559, 0.        ],\n",
       "        [1.1799011 , 0.        ],\n",
       "        [1.08139295, 0.        ],\n",
       "        [1.10424846, 0.        ],\n",
       "        [1.09653076, 0.        ],\n",
       "        [1.10675081, 0.        ]],\n",
       "\n",
       "       [[1.00939419, 0.        ],\n",
       "        [1.00558927, 0.        ],\n",
       "        [1.09827648, 0.        ],\n",
       "        [1.10154365, 0.        ],\n",
       "        [1.15494199, 0.        ],\n",
       "        [1.09493474, 0.        ],\n",
       "        [1.10148603, 0.        ],\n",
       "        [1.10921682, 0.        ],\n",
       "        [1.17728393, 0.        ],\n",
       "        [1.1497169 , 0.        ]],\n",
       "\n",
       "       [[1.16024154, 0.        ],\n",
       "        [1.01399814, 0.        ],\n",
       "        [1.08259296, 0.        ],\n",
       "        [1.1650352 , 0.        ],\n",
       "        [1.01129954, 0.        ],\n",
       "        [1.16870278, 0.        ],\n",
       "        [1.0472524 , 0.        ],\n",
       "        [1.19047623, 0.        ],\n",
       "        [1.14079697, 0.        ],\n",
       "        [1.16848086, 0.        ]],\n",
       "\n",
       "       [[1.11592702, 0.        ],\n",
       "        [1.19515233, 0.        ],\n",
       "        [1.12909888, 0.        ],\n",
       "        [1.05814004, 0.        ],\n",
       "        [1.11662847, 0.        ],\n",
       "        [1.09405004, 0.        ],\n",
       "        [1.1847592 , 0.        ],\n",
       "        [1.2023027 , 0.        ],\n",
       "        [1.05189387, 0.        ],\n",
       "        [1.06633569, 0.        ]]])"
      ]
     },
     "execution_count": 22,
     "metadata": {},
     "output_type": "execute_result"
    }
   ],
   "source": [
    "etching[0][50:60, 50:60, 82]"
   ]
  },
  {
   "cell_type": "code",
   "execution_count": 20,
   "metadata": {},
   "outputs": [
    {
     "name": "stderr",
     "output_type": "stream",
     "text": [
      "l:\\program\\Lib\\site-packages\\pyvista\\core\\utilities\\points.py:52: UserWarning: Points is not a float type. This can cause issues when transforming or applying filters. Casting to ``np.float32``. Disable this by passing ``force_float=False``.\n",
      "  warnings.warn(\n",
      "l:\\program\\Lib\\site-packages\\pyvista\\core\\filters\\data_set.py:2320: UserWarning: No vector-like data to use for orient. orient will be set to False.\n",
      "  warnings.warn(\"No vector-like data to use for orient. orient will be set to False.\")\n"
     ]
    },
    {
     "data": {
      "application/vnd.jupyter.widget-view+json": {
       "model_id": "de1c0c3da38d489e9986a7bae5d372c7",
       "version_major": 2,
       "version_minor": 0
      },
      "text/plain": [
       "Widget(value='<iframe src=\"http://localhost:52649/index.html?ui=P_0x2488d038810_3&reconnect=auto\" class=\"pyvis…"
      ]
     },
     "metadata": {},
     "output_type": "display_data"
    }
   ],
   "source": [
    "sumFilm = np.sum(etching[0], axis=-1)\n",
    "\n",
    "depo1 = torch.Tensor(np.logical_and(sumFilm[:60, :, :,]!=10, sumFilm[:60, :, :,]!=0)).to_sparse()\n",
    "depo1 = depo1.indices().numpy().T\n",
    "\n",
    "substrute = torch.Tensor(sumFilm[:60, :, :,]==10).to_sparse()\n",
    "substrute = substrute.indices().numpy().T\n",
    "depomesh = pv.PolyData(depo1)\n",
    "depomesh[\"radius\"] = np.ones(depo1.shape[0])*0.5\n",
    "geom = pv.Box()\n",
    "\n",
    "submesh = pv.PolyData(substrute)\n",
    "submesh[\"radius\"] = np.ones(substrute.shape[0])*0.5\n",
    "\n",
    "# Progress bar is a new feature on master branch\n",
    "depoglyphed = depomesh.glyph(scale=\"radius\", geom=geom) # progress_bar=True)\n",
    "subglyphed = submesh.glyph(scale=\"radius\", geom=geom) # progress_bar=True)\n",
    "\n",
    "p = pv.Plotter()\n",
    "p.add_mesh(depoglyphed, color='cyan')\n",
    "p.add_mesh(subglyphed, color='dimgray')\n",
    "p.enable_eye_dome_lighting()\n",
    "p.show()"
   ]
  },
  {
   "cell_type": "code",
   "execution_count": 12,
   "metadata": {},
   "outputs": [
    {
     "name": "stderr",
     "output_type": "stream",
     "text": [
      "l:\\program\\Lib\\site-packages\\pyvista\\core\\utilities\\points.py:52: UserWarning: Points is not a float type. This can cause issues when transforming or applying filters. Casting to ``np.float32``. Disable this by passing ``force_float=False``.\n",
      "  warnings.warn(\n",
      "l:\\program\\Lib\\site-packages\\pyvista\\core\\filters\\data_set.py:2320: UserWarning: No vector-like data to use for orient. orient will be set to False.\n",
      "  warnings.warn(\"No vector-like data to use for orient. orient will be set to False.\")\n"
     ]
    },
    {
     "data": {
      "application/vnd.jupyter.widget-view+json": {
       "model_id": "769d19b3d6dc4170bfebea113a80ac43",
       "version_major": 2,
       "version_minor": 0
      },
      "text/plain": [
       "Widget(value='<iframe src=\"http://localhost:50932/index.html?ui=P_0x19c0f17aa10_3&reconnect=auto\" class=\"pyvis…"
      ]
     },
     "metadata": {},
     "output_type": "display_data"
    }
   ],
   "source": [
    "sumFilm = np.sum(etching[0], axis=-1)\n",
    "\n",
    "depo1 = torch.Tensor(np.logical_and(sumFilm[:, 50:, :,]!=10, sumFilm[:, 50:, :,]!=0)).to_sparse()\n",
    "depo1 = depo1.indices().numpy().T\n",
    "\n",
    "substrute = torch.Tensor(sumFilm[:, 50:, :,]==10).to_sparse()\n",
    "substrute = substrute.indices().numpy().T\n",
    "depomesh = pv.PolyData(depo1)\n",
    "depomesh[\"radius\"] = np.ones(depo1.shape[0])*0.5\n",
    "geom = pv.Box()\n",
    "\n",
    "submesh = pv.PolyData(substrute)\n",
    "submesh[\"radius\"] = np.ones(substrute.shape[0])*0.5\n",
    "\n",
    "# Progress bar is a new feature on master branch\n",
    "depoglyphed = depomesh.glyph(scale=\"radius\", geom=geom) # progress_bar=True)\n",
    "subglyphed = submesh.glyph(scale=\"radius\", geom=geom) # progress_bar=True)\n",
    "\n",
    "p = pv.Plotter()\n",
    "p.add_mesh(depoglyphed, color='cyan')\n",
    "p.add_mesh(subglyphed, color='dimgray')\n",
    "p.enable_eye_dome_lighting()\n",
    "p.show()"
   ]
  },
  {
   "cell_type": "code",
   "execution_count": 10,
   "metadata": {},
   "outputs": [
    {
     "ename": "ValueError",
     "evalue": "Empty meshes cannot be plotted. Input mesh has zero points. To allow plotting empty meshes, set `pv.global_theme.allow_empty_mesh = True`",
     "output_type": "error",
     "traceback": [
      "\u001b[1;31m---------------------------------------------------------------------------\u001b[0m",
      "\u001b[1;31mValueError\u001b[0m                                Traceback (most recent call last)",
      "Cell \u001b[1;32mIn[10], line 20\u001b[0m\n\u001b[0;32m     17\u001b[0m subglyphed \u001b[38;5;241m=\u001b[39m submesh\u001b[38;5;241m.\u001b[39mglyph(scale\u001b[38;5;241m=\u001b[39m\u001b[38;5;124m\"\u001b[39m\u001b[38;5;124mradius\u001b[39m\u001b[38;5;124m\"\u001b[39m, geom\u001b[38;5;241m=\u001b[39mgeom) \u001b[38;5;66;03m# progress_bar=True)\u001b[39;00m\n\u001b[0;32m     19\u001b[0m p \u001b[38;5;241m=\u001b[39m pv\u001b[38;5;241m.\u001b[39mPlotter()\n\u001b[1;32m---> 20\u001b[0m p\u001b[38;5;241m.\u001b[39madd_mesh(depoglyphed, color\u001b[38;5;241m=\u001b[39m\u001b[38;5;124m'\u001b[39m\u001b[38;5;124mcyan\u001b[39m\u001b[38;5;124m'\u001b[39m)\n\u001b[0;32m     21\u001b[0m p\u001b[38;5;241m.\u001b[39madd_mesh(subglyphed, color\u001b[38;5;241m=\u001b[39m\u001b[38;5;124m'\u001b[39m\u001b[38;5;124mdimgray\u001b[39m\u001b[38;5;124m'\u001b[39m)\n\u001b[0;32m     22\u001b[0m p\u001b[38;5;241m.\u001b[39menable_eye_dome_lighting()\n",
      "File \u001b[1;32ml:\\program\\Lib\\site-packages\\pyvista\\plotting\\plotter.py:3515\u001b[0m, in \u001b[0;36mBasePlotter.add_mesh\u001b[1;34m(self, mesh, color, style, scalars, clim, show_edges, edge_color, point_size, line_width, opacity, flip_scalars, lighting, n_colors, interpolate_before_map, cmap, label, reset_camera, scalar_bar_args, show_scalar_bar, multi_colors, name, texture, render_points_as_spheres, render_lines_as_tubes, smooth_shading, split_sharp_edges, ambient, diffuse, specular, specular_power, nan_color, nan_opacity, culling, rgb, categories, silhouette, use_transparency, below_color, above_color, annotations, pickable, preference, log_scale, pbr, metallic, roughness, render, user_matrix, component, emissive, copy_mesh, backface_params, show_vertices, edge_opacity, **kwargs)\u001b[0m\n\u001b[0;32m   3511\u001b[0m         \u001b[38;5;28;01mraise\u001b[39;00m \u001b[38;5;167;01mValueError\u001b[39;00m(\u001b[38;5;124m'\u001b[39m\u001b[38;5;124mRGB array must be n_points/n_cells by 3/4 in shape.\u001b[39m\u001b[38;5;124m'\u001b[39m)\n\u001b[0;32m   3513\u001b[0m \u001b[38;5;28;01mif\u001b[39;00m algo \u001b[38;5;129;01mis\u001b[39;00m \u001b[38;5;28;01mNone\u001b[39;00m \u001b[38;5;129;01mand\u001b[39;00m \u001b[38;5;129;01mnot\u001b[39;00m \u001b[38;5;28mself\u001b[39m\u001b[38;5;241m.\u001b[39mtheme\u001b[38;5;241m.\u001b[39mallow_empty_mesh \u001b[38;5;129;01mand\u001b[39;00m \u001b[38;5;129;01mnot\u001b[39;00m mesh\u001b[38;5;241m.\u001b[39mn_points:\n\u001b[0;32m   3514\u001b[0m     \u001b[38;5;66;03m# Algorithms may initialize with an empty mesh\u001b[39;00m\n\u001b[1;32m-> 3515\u001b[0m     \u001b[38;5;28;01mraise\u001b[39;00m \u001b[38;5;167;01mValueError\u001b[39;00m(\n\u001b[0;32m   3516\u001b[0m         \u001b[38;5;124m'\u001b[39m\u001b[38;5;124mEmpty meshes cannot be plotted. Input mesh has zero points. To allow plotting empty meshes, set `pv.global_theme.allow_empty_mesh = True`\u001b[39m\u001b[38;5;124m'\u001b[39m\n\u001b[0;32m   3517\u001b[0m     )\n\u001b[0;32m   3519\u001b[0m \u001b[38;5;66;03m# set main values\u001b[39;00m\n\u001b[0;32m   3520\u001b[0m \u001b[38;5;28mself\u001b[39m\u001b[38;5;241m.\u001b[39mmesh \u001b[38;5;241m=\u001b[39m mesh\n",
      "\u001b[1;31mValueError\u001b[0m: Empty meshes cannot be plotted. Input mesh has zero points. To allow plotting empty meshes, set `pv.global_theme.allow_empty_mesh = True`"
     ]
    }
   ],
   "source": [
    "sumFilm = np.sum(testEtch.film, axis=-1)\n",
    "\n",
    "depo1 = torch.Tensor(np.logical_and(sumFilm[:, :, :,]!=10, sumFilm[:, :, :,]!=0)).to_sparse()\n",
    "depo1 = depo1.indices().numpy().T\n",
    "\n",
    "substrute = torch.Tensor(sumFilm[:, :, :,]==10).to_sparse()\n",
    "substrute = substrute.indices().numpy().T\n",
    "depomesh = pv.PolyData(depo1)\n",
    "depomesh[\"radius\"] = np.ones(depo1.shape[0])*0.5\n",
    "geom = pv.Box()\n",
    "\n",
    "submesh = pv.PolyData(substrute)\n",
    "submesh[\"radius\"] = np.ones(substrute.shape[0])*0.5\n",
    "\n",
    "# Progress bar is a new feature on master branch\n",
    "depoglyphed = depomesh.glyph(scale=\"radius\", geom=geom) # progress_bar=True)\n",
    "subglyphed = submesh.glyph(scale=\"radius\", geom=geom) # progress_bar=True)\n",
    "\n",
    "p = pv.Plotter()\n",
    "p.add_mesh(depoglyphed, color='cyan')\n",
    "p.add_mesh(subglyphed, color='dimgray')\n",
    "p.enable_eye_dome_lighting()\n",
    "p.show()"
   ]
  },
  {
   "cell_type": "code",
   "execution_count": 7,
   "metadata": {},
   "outputs": [
    {
     "data": {
      "text/plain": [
       "(7000000, 10)"
      ]
     },
     "execution_count": 7,
     "metadata": {},
     "output_type": "execute_result"
    }
   ],
   "source": [
    "testEtch.parcel.shape"
   ]
  },
  {
   "cell_type": "code",
   "execution_count": 14,
   "metadata": {},
   "outputs": [
    {
     "data": {
      "text/plain": [
       "array([161.24791799,  84.77586652, -82.53676749,   0.80623615,\n",
       "         0.42387643,  -0.4126888 ,  68.        ,  58.        ,\n",
       "        99.        ,   1.        ])"
      ]
     },
     "execution_count": 14,
     "metadata": {},
     "output_type": "execute_result"
    }
   ],
   "source": [
    "testEtch.parcel[106]"
   ]
  },
  {
   "cell_type": "code",
   "execution_count": 9,
   "metadata": {},
   "outputs": [
    {
     "name": "stdout",
     "output_type": "stream",
     "text": [
      "[ 1.29022179e+02  1.60886601e+01 -1.53281836e+02  6.41898233e-01\n",
      "  8.00382431e-02 -7.62601166e-01  6.30000000e+01  9.70000000e+01\n",
      "  9.90000000e+01  1.00000000e+00]\n"
     ]
    }
   ],
   "source": [
    "testEtch.parcel[100, :3] += testEtch.parcel[100, 3:6] \n",
    "print(testEtch.parcel[100])"
   ]
  },
  {
   "cell_type": "code",
   "execution_count": 10,
   "metadata": {},
   "outputs": [
    {
     "data": {
      "text/plain": [
       "array([97, 98, 95, 98, 97, 98, 99, 99, 97, 99, 97, 99, 97, 95, 96, 97, 99,\n",
       "       96, 97, 99, 95, 95, 99, 98, 95, 98, 96, 96, 97, 99, 97, 97, 97, 95,\n",
       "       97, 97, 98, 96, 97, 98, 97, 96, 99, 97, 97, 95, 96, 99, 96, 98, 96,\n",
       "       95, 99, 99, 96, 95, 97, 97, 96, 95, 95, 98, 95, 98, 95, 96, 98, 96,\n",
       "       99, 98, 98, 97, 96, 99, 97, 96, 97, 96, 97, 98, 95, 99, 95, 99, 97,\n",
       "       97, 98, 95, 99, 95, 97, 99, 97, 97, 96, 96, 95, 96, 95, 99, 96, 98,\n",
       "       98, 95, 95, 99, 98, 97, 97, 96, 99, 98, 99, 97, 99, 95, 97, 98, 95,\n",
       "       99, 95, 98, 96, 95, 98, 96, 96, 97, 97, 96, 97, 98, 97, 96, 99, 97,\n",
       "       96, 97, 99, 99, 95, 96, 97, 98, 99, 95, 95, 97, 95, 98, 95, 99, 95,\n",
       "       96, 99, 95, 98, 95, 97, 96, 95, 96, 97, 97, 99, 97, 98, 98, 99, 98,\n",
       "       95, 97, 98, 98, 95, 97, 95, 97, 97, 99, 95, 99, 97, 98, 95, 96, 98,\n",
       "       99, 96, 99, 98, 96, 99, 95, 95, 98, 98, 99, 99, 95, 95, 98, 99, 97,\n",
       "       99, 99, 95, 98, 98, 98, 99, 97, 96, 97, 99, 96, 99, 95, 97, 96, 97,\n",
       "       99, 96, 97, 96, 96, 97, 99, 99, 95, 95, 95, 97, 98, 96, 96, 98, 95,\n",
       "       99, 98, 99, 95, 96, 99, 99, 99, 97, 96, 98, 97, 99, 97, 98, 95, 95,\n",
       "       96, 97, 98, 96, 96, 97, 97, 96, 96, 96, 98, 98, 97, 95, 99, 97, 95,\n",
       "       96, 95, 98, 97, 97, 98, 97, 98, 96, 97, 99, 97, 97, 98, 99, 97, 98,\n",
       "       98, 95, 96, 96, 99, 98, 95, 97, 96, 96, 97, 97, 98, 96, 98, 98, 98,\n",
       "       95, 99, 98, 98, 98, 96, 99, 95, 97, 95, 98, 99, 95, 95, 99, 97, 96,\n",
       "       96, 99, 97, 95, 99, 97, 96, 98, 98, 95, 95, 99, 99, 95, 98, 98, 99,\n",
       "       99, 99, 97, 99, 99, 98, 95, 97, 96, 99, 97, 97, 96, 96, 99, 95, 97,\n",
       "       96, 97, 98, 98, 98, 95, 98, 99, 99, 98, 97, 98, 96, 98, 95, 95, 95,\n",
       "       98, 97, 96, 95, 95, 98, 96, 96, 99, 96, 99, 99, 95, 95, 99, 98, 98,\n",
       "       98, 96, 97, 96, 95, 99, 99, 95, 99, 95, 96, 99, 96, 95, 95, 99, 96,\n",
       "       96, 97, 98, 95, 97, 96, 98, 96, 98, 99, 96, 95, 96, 98, 98, 98, 97,\n",
       "       95, 95, 98, 98, 97, 95, 98, 99, 96, 99, 97, 95, 95, 95, 96, 99, 96,\n",
       "       96, 99, 98, 97, 95, 97, 96, 96, 95, 96, 99, 96, 98, 95, 96, 95, 99,\n",
       "       99, 96, 97, 95, 98, 99, 97, 97, 95, 99, 97, 99, 95, 95, 98, 95, 99,\n",
       "       96, 95, 96, 98, 97, 97, 98, 95, 99, 99, 98, 96, 98, 99, 99, 95, 97,\n",
       "       99, 97, 98, 95, 96, 95, 95, 97, 99, 96, 96, 97, 95, 98, 95, 95, 98,\n",
       "       96, 96, 98, 95, 95, 99, 95, 98, 99, 98, 98, 96, 99, 99, 97, 98, 96,\n",
       "       97, 95, 96, 99, 99, 99, 99, 96, 95, 97, 96, 95, 96, 97, 96, 95, 96,\n",
       "       98, 97, 98, 96, 95, 99, 97, 95, 97, 95, 95, 97, 96, 99, 95, 99, 97,\n",
       "       96, 99, 99, 98, 96, 95, 96, 98, 95, 96, 99, 96, 99, 98, 99, 99, 98,\n",
       "       97, 98, 96, 96, 98, 99, 99, 99, 97, 98, 95, 96, 96, 95, 96, 96, 99,\n",
       "       97, 97, 98, 97, 95, 96, 98, 96, 98, 98, 97, 96, 99, 97, 96, 99, 96,\n",
       "       97, 95, 98, 96, 99, 98, 99, 96, 96, 98, 95, 99, 98, 99, 95, 99, 97,\n",
       "       99, 97, 97, 98, 97, 97, 97, 97, 98, 95, 97, 97, 98, 95, 95, 98, 95,\n",
       "       97, 98, 95, 97, 97, 96, 99, 96, 98, 98, 99, 96, 99, 95, 99, 99, 97,\n",
       "       95, 96, 97, 96, 99, 96, 96, 95, 99, 97, 99, 96, 95, 97, 99, 95, 99,\n",
       "       97, 99, 98, 96, 95, 95, 97, 95, 97, 98, 95, 98, 95, 95, 96, 98, 97,\n",
       "       95, 98, 98, 97, 96, 96, 99, 95, 98, 95, 99, 96, 97, 95, 99, 98, 96,\n",
       "       95, 96, 98, 96, 96, 96, 99, 97, 96, 95, 96, 96, 97, 98, 96, 97, 95,\n",
       "       98, 98, 97, 95, 96, 95, 98, 97, 99, 98, 96, 99, 96, 99, 95, 96, 95,\n",
       "       97, 96, 95, 98, 96, 97, 98, 96, 96, 98, 98, 97, 99, 98, 99, 95, 98,\n",
       "       96, 96, 99, 98, 95, 95, 98, 95, 98, 96, 99, 99, 97, 97, 95, 98, 97,\n",
       "       96, 99, 96, 97, 96, 99, 98, 99, 98, 99, 97, 99, 96, 97, 98, 96, 95,\n",
       "       99, 96, 95, 95, 98, 97, 99, 99, 99, 98, 96, 99, 97, 95, 98, 95, 97,\n",
       "       96, 95, 96, 98, 96, 99, 99, 99, 99, 97, 97, 95, 96, 98, 97, 98, 98,\n",
       "       99, 97, 99, 98, 98, 95, 99, 97, 99, 95, 97, 98, 96, 97, 97, 96, 98,\n",
       "       98, 97, 97, 99, 95, 95, 99, 97, 97, 96, 98, 99, 99, 99, 95, 99, 95,\n",
       "       98, 97, 96, 95, 98, 98, 98, 97, 95, 95, 96, 97, 97, 97, 98, 96, 99,\n",
       "       97, 98, 95, 95, 99, 99, 95, 95, 96, 97, 98, 96, 95, 99, 99, 97, 99,\n",
       "       99, 99, 98, 99, 95, 99, 97, 99, 96, 95, 95, 98, 99, 98, 95, 97, 96,\n",
       "       95, 97, 97, 95, 96, 95, 98, 96, 98, 95, 95, 95, 98, 95, 97, 97, 98,\n",
       "       97, 96, 96, 97, 95, 97, 98, 97, 98, 99, 98, 99, 98, 95, 96, 96, 96,\n",
       "       99, 97, 97, 95, 95, 98, 95, 97, 97, 95, 98, 97, 98, 99, 98, 98, 97,\n",
       "       99, 98, 96, 97, 98, 99, 95, 96, 97, 97, 95, 95, 95, 95, 97, 95, 95,\n",
       "       95, 97, 96, 96, 96, 97, 97, 96, 98, 97, 97, 95, 99, 95])"
      ]
     },
     "execution_count": 10,
     "metadata": {},
     "output_type": "execute_result"
    }
   ],
   "source": [
    "testEtch.parcel[10000:11000][:,8].astype(int)\n"
   ]
  },
  {
   "cell_type": "code",
   "execution_count": null,
   "metadata": {},
   "outputs": [],
   "source": []
  }
 ],
 "metadata": {
  "kernelspec": {
   "display_name": "Python 3",
   "language": "python",
   "name": "python3"
  },
  "language_info": {
   "codemirror_mode": {
    "name": "ipython",
    "version": 3
   },
   "file_extension": ".py",
   "mimetype": "text/x-python",
   "name": "python",
   "nbconvert_exporter": "python",
   "pygments_lexer": "ipython3",
   "version": "3.11.7"
  }
 },
 "nbformat": 4,
 "nbformat_minor": 2
}

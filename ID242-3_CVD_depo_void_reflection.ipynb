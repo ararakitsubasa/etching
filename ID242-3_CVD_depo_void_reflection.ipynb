{
 "cells": [
  {
   "cell_type": "code",
   "execution_count": 1,
   "metadata": {},
   "outputs": [],
   "source": [
    "import numpy as np\n",
    "import pyvista as pv"
   ]
  },
  {
   "cell_type": "code",
   "execution_count": 2,
   "metadata": {},
   "outputs": [],
   "source": [
    "import torch"
   ]
  },
  {
   "cell_type": "code",
   "execution_count": 3,
   "metadata": {},
   "outputs": [],
   "source": [
    "DXsec_Al = np.load('./DXsec_Al_1e8.npy')"
   ]
  },
  {
   "cell_type": "code",
   "execution_count": 4,
   "metadata": {},
   "outputs": [],
   "source": [
    "import Multi_Species_etching_depo"
   ]
  },
  {
   "cell_type": "code",
   "execution_count": 5,
   "metadata": {},
   "outputs": [],
   "source": [
    "def slide2D_fractionZ(film, start, end, direction, fraction, value):\n",
    "    if fraction == '+':\n",
    "        if direction == 'y':\n",
    "            slit = np.linspace(0, np.abs(end[2] - start[2]), np.abs(end[1] - start[1]))\n",
    "            fraction = np.abs(int(slit[0]-slit[1]))\n",
    "            print('y', slit)\n",
    "            print('fraction', fraction)\n",
    "            for i in range(np.abs(end[1] - start[1])):\n",
    "                if end[1] > start[1]:\n",
    "                    film[start[0]:end[0], start[1] + i, start[2]:start[2] + int(slit[i])] = value\n",
    "                    for j in range(fraction):\n",
    "                        film[start[0]:end[0], start[1] + i,start[2]+int(slit[i])+j] = 1/(fraction+1)*(fraction-j)\n",
    "                elif end[1] < start[1]:\n",
    "                    film[start[0]:end[0], start[1] - i, start[2]:start[2] + int(slit[i])] = value\n",
    "                    for j in range(fraction):\n",
    "                        film[start[0]:end[0], start[1] - i,start[2]+int(slit[i])+j] = 1/(fraction+1)*(fraction-j)\n",
    "        elif direction == 'x':\n",
    "            slit = np.linspace(0, np.abs(end[2] - start[2]), np.abs(end[0] - start[0]))\n",
    "            fraction = np.abs(int(slit[0]-slit[1]))\n",
    "            print('x', slit)\n",
    "            print('fraction', fraction)\n",
    "            for i in range(np.abs(end[2] - start[2])):\n",
    "                if end[0] > start[0]:\n",
    "                    film[start[0] + i, start[1]:end[1], start[2]:start[2] + int(slit[i])] = value\n",
    "                    for j in range(fraction):\n",
    "                        film[start[0] + i, start[1]:end[1], start[2]+int(slit[i])+j] = 1/(fraction+1)*(fraction-j)\n",
    "                elif end[0] < start[0]:\n",
    "                    film[start[0] - i, start[1]:end[1], start[2]:start[2] + int(slit[i])] = value\n",
    "                    for j in range(fraction):\n",
    "                        film[start[0] - i, start[1]:end[1], start[2]+int(slit[i])+j] = 1/(fraction+1)*(fraction-j)\n",
    "    elif fraction == '-':\n",
    "        if direction == 'y':\n",
    "            slit = np.linspace(0, np.abs(end[2] - start[2]), np.abs(end[1] - start[1]))\n",
    "            fraction = np.abs(int(slit[0]-slit[1]))\n",
    "            print('y', slit)\n",
    "            print('fraction', fraction)\n",
    "            for i in range(np.abs(end[1] - start[1])):\n",
    "                if end[1] > start[1]:\n",
    "                    film[start[0]:end[0], start[1] + i, start[2] - int(slit[i]):start[2]+1] = value\n",
    "                    for j in range(fraction):\n",
    "                        film[start[0]:end[0], start[1] + i,start[2]-int(slit[i])-j] = 1/(fraction+1)*(fraction-j)\n",
    "                elif end[1] < start[1]:\n",
    "                    film[start[0]:end[0], start[1] - i, start[2] - int(slit[i]):start[2]+1] = value\n",
    "                    for j in range(fraction):\n",
    "                        film[start[0]:end[0], start[1] - i,start[2]-int(slit[i])-j] = 1/(fraction+1)*(fraction-j)\n",
    "        elif direction == 'x':\n",
    "            slit = np.linspace(0, np.abs(end[2] - start[2]), np.abs(end[0] - start[0]))\n",
    "            fraction = np.abs(int(slit[0]-slit[1]))\n",
    "            print('x', slit)\n",
    "            print('fraction', fraction)\n",
    "            for i in range(np.abs(end[2] - start[2])):\n",
    "                if end[0] > start[0]:\n",
    "                    film[start[0] + i, start[1]:end[1], start[2] - int(slit[i]):start[2]+1] = value\n",
    "                    for j in range(fraction):\n",
    "                        film[start[0] + i, start[1]:end[1], start[2] - int(slit[i]):start[2]] = 1/(fraction+1)*(fraction-j)\n",
    "                elif end[0] < start[0]:\n",
    "                    film[start[0] - i, start[1]:end[1], start[2] - int(slit[i]):start[2]+1] = value\n",
    "                    for j in range(fraction):\n",
    "                        film[start[0] - i, start[1]:end[1], start[2] - int(slit[i]):start[2]] = 1/(fraction+1)*(fraction-j)\n",
    "    return film"
   ]
  },
  {
   "cell_type": "code",
   "execution_count": 6,
   "metadata": {},
   "outputs": [],
   "source": [
    "film = np.zeros((50, 200, 80))\n",
    "fullcell = 60\n",
    "bottom = 10\n",
    "\n",
    "# film = slide2D_fractionZ(film=film, start=[0, 129, 30], end=[50, 120, 10], direction='y', fraction='-', value=10)\n",
    "# film = slide2D_fractionZ(film=film, start=[0, 71, 30], end=[50, 80, 10], direction='y', fraction='-', value=10)\n",
    "\n",
    "film[:, 80:121, 0:31] = fullcell\n",
    "\n",
    "film[:, :, 0:bottom] = fullcell # bottom"
   ]
  },
  {
   "cell_type": "code",
   "execution_count": 1,
   "metadata": {},
   "outputs": [
    {
     "ename": "NameError",
     "evalue": "name 'np' is not defined",
     "output_type": "error",
     "traceback": [
      "\u001b[1;31m---------------------------------------------------------------------------\u001b[0m",
      "\u001b[1;31mNameError\u001b[0m                                 Traceback (most recent call last)",
      "Cell \u001b[1;32mIn[1], line 1\u001b[0m\n\u001b[1;32m----> 1\u001b[0m film \u001b[38;5;241m=\u001b[39m np\u001b[38;5;241m.\u001b[39mzeros((\u001b[38;5;241m50\u001b[39m, \u001b[38;5;241m200\u001b[39m, \u001b[38;5;241m180\u001b[39m))\n\u001b[0;32m      3\u001b[0m bottom \u001b[38;5;241m=\u001b[39m \u001b[38;5;241m10\u001b[39m\n\u001b[0;32m      5\u001b[0m film \u001b[38;5;241m=\u001b[39m slide2D_fractionZ(film\u001b[38;5;241m=\u001b[39mfilm, start\u001b[38;5;241m=\u001b[39m[\u001b[38;5;241m0\u001b[39m, \u001b[38;5;241m129\u001b[39m, \u001b[38;5;241m30\u001b[39m], end\u001b[38;5;241m=\u001b[39m[\u001b[38;5;241m50\u001b[39m, \u001b[38;5;241m120\u001b[39m, \u001b[38;5;241m10\u001b[39m], direction\u001b[38;5;241m=\u001b[39m\u001b[38;5;124m'\u001b[39m\u001b[38;5;124my\u001b[39m\u001b[38;5;124m'\u001b[39m, fraction\u001b[38;5;241m=\u001b[39m\u001b[38;5;124m'\u001b[39m\u001b[38;5;124m-\u001b[39m\u001b[38;5;124m'\u001b[39m, value\u001b[38;5;241m=\u001b[39m\u001b[38;5;241m10\u001b[39m)\n",
      "\u001b[1;31mNameError\u001b[0m: name 'np' is not defined"
     ]
    }
   ],
   "source": [
    "film = np.zeros((50, 200, 180))\n",
    "\n",
    "bottom = 10\n",
    "\n",
    "film = slide2D_fractionZ(film=film, start=[0, 129, 30], end=[50, 120, 10], direction='y', fraction='-', value=10)\n",
    "film = slide2D_fractionZ(film=film, start=[0, 71, 30], end=[50, 80, 10], direction='y', fraction='-', value=10)\n",
    "\n",
    "film[:, 80:121, 0:31] = 10\n",
    "\n",
    "film[:, :, 0:bottom] = 10 # bottom"
   ]
  },
  {
   "cell_type": "code",
   "execution_count": 7,
   "metadata": {},
   "outputs": [
    {
     "data": {
      "text/plain": [
       "24.22774531795417"
      ]
     },
     "execution_count": 7,
     "metadata": {},
     "output_type": "execute_result"
    }
   ],
   "source": [
    "np.arctan(9/20)/np.pi*180"
   ]
  },
  {
   "cell_type": "code",
   "execution_count": 8,
   "metadata": {},
   "outputs": [
    {
     "name": "stderr",
     "output_type": "stream",
     "text": [
      "c:\\Users\\urcs049\\AppData\\Local\\anaconda3\\Lib\\site-packages\\pyvista\\core\\utilities\\points.py:55: UserWarning: Points is not a float type. This can cause issues when transforming or applying filters. Casting to ``np.float32``. Disable this by passing ``force_float=False``.\n",
      "  warnings.warn(\n",
      "c:\\Users\\urcs049\\AppData\\Local\\anaconda3\\Lib\\site-packages\\pyvista\\core\\filters\\data_set.py:2386: UserWarning: No vector-like data to use for orient. orient will be set to False.\n",
      "  warnings.warn(\"No vector-like data to use for orient. orient will be set to False.\")\n"
     ]
    },
    {
     "data": {
      "application/vnd.jupyter.widget-view+json": {
       "model_id": "a1153abdebc34bafba48cc6317a7fe3d",
       "version_major": 2,
       "version_minor": 0
      },
      "text/plain": [
       "Widget(value='<iframe src=\"http://localhost:59476/index.html?ui=P_0x12745c4b6b0_0&reconnect=auto\" class=\"pyvis…"
      ]
     },
     "metadata": {},
     "output_type": "display_data"
    }
   ],
   "source": [
    "depo1 = torch.Tensor(np.logical_and(film[:, :, :] !=0, film[:, :, :] < 10)).to_sparse()\n",
    "depo1 = depo1.indices().numpy().T\n",
    "\n",
    "substrute = torch.Tensor(film[:, :, :]==fullcell).to_sparse()\n",
    "substrute = substrute.indices().numpy().T\n",
    "depomesh = pv.PolyData(depo1)\n",
    "depomesh[\"radius\"] = np.ones(depo1.shape[0])*0.5\n",
    "geom = pv.Box()\n",
    "\n",
    "submesh = pv.PolyData(substrute)\n",
    "submesh[\"radius\"] = np.ones(substrute.shape[0])*0.5\n",
    "\n",
    "# Progress bar is a new feature on master branch\n",
    "depoglyphed = depomesh.glyph(scale=\"radius\", geom=geom) # progress_bar=True)\n",
    "subglyphed = submesh.glyph(scale=\"radius\", geom=geom) # progress_bar=True)\n",
    "\n",
    "p = pv.Plotter()\n",
    "# p.add_mesh(depoglyphed, color='cyan')\n",
    "p.add_mesh(subglyphed, color='dimgray')\n",
    "p.enable_eye_dome_lighting()\n",
    "p.show_grid()\n",
    "p.show()"
   ]
  },
  {
   "cell_type": "code",
   "execution_count": 9,
   "metadata": {},
   "outputs": [],
   "source": [
    "etchfilm = np.zeros((50, 200, 80, 2))\n",
    "etchfilm[:, :, :, 0] = film"
   ]
  },
  {
   "cell_type": "code",
   "execution_count": 10,
   "metadata": {},
   "outputs": [],
   "source": [
    "N = int(1e7)"
   ]
  },
  {
   "cell_type": "code",
   "execution_count": 11,
   "metadata": {},
   "outputs": [],
   "source": [
    "logname = 'Multi_species_benchmark_0729'\n",
    "testEtch = Multi_Species_etching_depo.etching(mirror=True,inputMethod='bunch', pressure_pa=0.001, temperature=300, chamberSize=etchfilm.shape,\n",
    "                    depoThick=50, center_with_direction=np.array([[35,100,75]]), \n",
    "                    range3D=np.array([[0, 70, 0, 100, 0, 150]]), InOrOut=[1], yield_hist=np.array([None]),\n",
    "                    reaction_type=False, param = [1.6, -0.7], N = N, \n",
    "                    sub_xy=[0,0], film=etchfilm, n=1, cellSize=etchfilm.shape, \n",
    "                    celllength=1e-5, kdtreeN=5, tstep=1e-5,\n",
    "                    substrateTop=30,posGeneratorType='top',fullCell=fullcell, logname=logname)"
   ]
  },
  {
   "cell_type": "code",
   "execution_count": 12,
   "metadata": {},
   "outputs": [
    {
     "name": "stdout",
     "output_type": "stream",
     "text": [
      "inputcount 5000\n"
     ]
    },
    {
     "name": "stderr",
     "output_type": "stream",
     "text": [
      "running: 100%|██████████████████████████████████████████████████████| 100/100 [14:28<00:00, 8.69s/B]\n"
     ]
    },
    {
     "name": "stdout",
     "output_type": "stream",
     "text": [
      "inputcount 5000\n"
     ]
    },
    {
     "name": "stderr",
     "output_type": "stream",
     "text": [
      "running: 100%|██████████████████████████████████████████████████████| 100/100 [20:46<00:00, 12.5s/B]\n"
     ]
    },
    {
     "name": "stdout",
     "output_type": "stream",
     "text": [
      "inputcount 5000\n"
     ]
    },
    {
     "name": "stderr",
     "output_type": "stream",
     "text": [
      "running:  43%|██████████████████████▊                              | 43.0/100 [12:08<16:05, 16.9s/B]"
     ]
    },
    {
     "name": "stdout",
     "output_type": "stream",
     "text": [
      "depo finish\n"
     ]
    },
    {
     "name": "stderr",
     "output_type": "stream",
     "text": [
      "\n"
     ]
    }
   ],
   "source": [
    "deposit = testEtch.depo_position_increase_cosVel_normal(125, N, 2e-2, 10)"
   ]
  },
  {
   "cell_type": "code",
   "execution_count": null,
   "metadata": {},
   "outputs": [],
   "source": [
    "np.save('cvd_void_subDepo_thk110_tape115', deposit[0])"
   ]
  },
  {
   "cell_type": "code",
   "execution_count": null,
   "metadata": {},
   "outputs": [],
   "source": [
    "deposit0 = np.load('./For_etching_transport_TS60_deposit_0604_4.npy')"
   ]
  },
  {
   "cell_type": "code",
   "execution_count": 14,
   "metadata": {},
   "outputs": [
    {
     "data": {
      "text/plain": [
       "array([[60.,  0.],\n",
       "       [ 0., 60.],\n",
       "       [ 0., 60.],\n",
       "       [ 0., 60.],\n",
       "       [ 0., 54.],\n",
       "       [ 0.,  0.],\n",
       "       [ 0.,  1.],\n",
       "       [ 0., 15.],\n",
       "       [ 0.,  0.],\n",
       "       [ 0.,  0.],\n",
       "       [ 0., 32.],\n",
       "       [ 0., 17.],\n",
       "       [ 0.,  0.],\n",
       "       [ 0., 20.],\n",
       "       [ 0.,  0.],\n",
       "       [ 0.,  0.],\n",
       "       [ 0.,  0.],\n",
       "       [ 0.,  0.],\n",
       "       [ 0.,  0.],\n",
       "       [ 0.,  0.],\n",
       "       [ 0.,  0.],\n",
       "       [ 0.,  0.],\n",
       "       [ 0.,  0.],\n",
       "       [ 0.,  0.],\n",
       "       [ 0.,  0.],\n",
       "       [ 0.,  0.],\n",
       "       [ 0.,  0.],\n",
       "       [ 0.,  0.],\n",
       "       [ 0.,  0.],\n",
       "       [ 0.,  0.],\n",
       "       [ 0.,  0.],\n",
       "       [ 0.,  0.],\n",
       "       [ 0.,  0.],\n",
       "       [ 0.,  0.],\n",
       "       [ 0.,  0.],\n",
       "       [ 0.,  0.],\n",
       "       [ 0.,  0.],\n",
       "       [ 0.,  0.],\n",
       "       [ 0.,  0.],\n",
       "       [ 0.,  0.],\n",
       "       [ 0.,  0.],\n",
       "       [ 0.,  0.],\n",
       "       [ 0.,  0.],\n",
       "       [ 0.,  0.],\n",
       "       [ 0.,  0.],\n",
       "       [ 0.,  0.],\n",
       "       [ 0.,  0.],\n",
       "       [ 0.,  0.],\n",
       "       [ 0.,  0.],\n",
       "       [ 0.,  0.]])"
      ]
     },
     "execution_count": 14,
     "metadata": {},
     "output_type": "execute_result"
    }
   ],
   "source": [
    "deposit[0][20, 117, 30:]"
   ]
  },
  {
   "cell_type": "code",
   "execution_count": null,
   "metadata": {},
   "outputs": [],
   "source": []
  },
  {
   "cell_type": "code",
   "execution_count": 13,
   "metadata": {},
   "outputs": [
    {
     "name": "stderr",
     "output_type": "stream",
     "text": [
      "c:\\Users\\urcs049\\AppData\\Local\\anaconda3\\Lib\\site-packages\\pyvista\\core\\utilities\\points.py:55: UserWarning: Points is not a float type. This can cause issues when transforming or applying filters. Casting to ``np.float32``. Disable this by passing ``force_float=False``.\n",
      "  warnings.warn(\n",
      "c:\\Users\\urcs049\\AppData\\Local\\anaconda3\\Lib\\site-packages\\pyvista\\core\\filters\\data_set.py:2386: UserWarning: No vector-like data to use for orient. orient will be set to False.\n",
      "  warnings.warn(\"No vector-like data to use for orient. orient will be set to False.\")\n"
     ]
    },
    {
     "data": {
      "application/vnd.jupyter.widget-view+json": {
       "model_id": "51f384b4a40342bc8eb6221424c23baf",
       "version_major": 2,
       "version_minor": 0
      },
      "text/plain": [
       "Widget(value='<iframe src=\"http://localhost:59476/index.html?ui=P_0x1270d643e30_1&reconnect=auto\" class=\"pyvis…"
      ]
     },
     "metadata": {},
     "output_type": "display_data"
    }
   ],
   "source": [
    "sumFilm = np.sum(deposit[0], axis=-1)\n",
    "\n",
    "depo1 = torch.Tensor(np.logical_and(film[:, :, :,]!=fullcell, sumFilm[:, :, :,]!=0)).to_sparse()\n",
    "depo1 = depo1.indices().numpy().T\n",
    "\n",
    "substrute = torch.Tensor(film[:, :, :,]==fullcell).to_sparse()\n",
    "substrute = substrute.indices().numpy().T\n",
    "depomesh = pv.PolyData(depo1)\n",
    "depomesh[\"radius\"] = np.ones(depo1.shape[0])*0.5\n",
    "geom = pv.Box()\n",
    "\n",
    "submesh = pv.PolyData(substrute)\n",
    "submesh[\"radius\"] = np.ones(substrute.shape[0])*0.5\n",
    "\n",
    "# Progress bar is a new feature on master branch\n",
    "depoglyphed = depomesh.glyph(scale=\"radius\", geom=geom) # progress_bar=True)\n",
    "subglyphed = submesh.glyph(scale=\"radius\", geom=geom) # progress_bar=True)\n",
    "\n",
    "p = pv.Plotter()\n",
    "p.add_mesh(depoglyphed, color='cyan')\n",
    "p.add_mesh(subglyphed, color='dimgray')\n",
    "p.enable_eye_dome_lighting()\n",
    "p.show()"
   ]
  },
  {
   "cell_type": "code",
   "execution_count": null,
   "metadata": {},
   "outputs": [
    {
     "data": {
      "text/plain": [
       "(19230, 6)"
      ]
     },
     "execution_count": 16,
     "metadata": {},
     "output_type": "execute_result"
    }
   ],
   "source": [
    "deposit[2].shape"
   ]
  },
  {
   "cell_type": "code",
   "execution_count": 35,
   "metadata": {},
   "outputs": [
    {
     "data": {
      "application/vnd.jupyter.widget-view+json": {
       "model_id": "71b6bd05f6254bc6b6089d3adc912c4a",
       "version_major": 2,
       "version_minor": 0
      },
      "text/plain": [
       "Widget(value='<iframe src=\"http://localhost:58622/index.html?ui=P_0x1f2bc0a65a0_4&reconnect=auto\" class=\"pyvis…"
      ]
     },
     "metadata": {},
     "output_type": "display_data"
    }
   ],
   "source": [
    "point_cloud = pv.PolyData(deposit[1][:, 3:])\n",
    "vectors = deposit[1][:, :3]\n",
    "\n",
    "point_cloud['vectors'] = vectors\n",
    "arrows = point_cloud.glyph(\n",
    "    orient='vectors',\n",
    "    scale=1000,\n",
    "    factor=2,\n",
    ")\n",
    "\n",
    "# Display the arrows\n",
    "plotter = pv.Plotter()\n",
    "plotter.add_mesh(point_cloud, color='maroon', point_size=5.0, render_points_as_spheres=True)\n",
    "# plotter.add_mesh(arrows, color='lightblue')\n",
    "# plotter.add_point_labels([point_cloud.center,], ['Center',],\n",
    "#                          point_color='yellow', point_size=20)\n",
    "plotter.show_grid()\n",
    "plotter.show()"
   ]
  },
  {
   "cell_type": "code",
   "execution_count": 36,
   "metadata": {},
   "outputs": [
    {
     "data": {
      "application/vnd.jupyter.widget-view+json": {
       "model_id": "d385c0129fc84420bc2f4d739f4dabd4",
       "version_major": 2,
       "version_minor": 0
      },
      "text/plain": [
       "Widget(value='<iframe src=\"http://localhost:58622/index.html?ui=P_0x1f2bbfb2330_5&reconnect=auto\" class=\"pyvis…"
      ]
     },
     "metadata": {},
     "output_type": "display_data"
    }
   ],
   "source": [
    "point_cloud = pv.PolyData(deposit[2][:, 3:])\n",
    "vectors = deposit[2][:, :3]\n",
    "\n",
    "point_cloud['vectors'] = vectors\n",
    "arrows = point_cloud.glyph(\n",
    "    orient='vectors',\n",
    "    scale=1000,\n",
    "    factor=2,\n",
    ")\n",
    "\n",
    "# Display the arrows\n",
    "plotter = pv.Plotter()\n",
    "plotter.add_mesh(point_cloud, color='maroon', point_size=5.0, render_points_as_spheres=True)\n",
    "# plotter.add_mesh(arrows, color='lightblue')\n",
    "# plotter.add_point_labels([point_cloud.center,], ['Center',],\n",
    "#                          point_color='yellow', point_size=20)\n",
    "plotter.show_grid()\n",
    "plotter.show()"
   ]
  },
  {
   "cell_type": "code",
   "execution_count": 21,
   "metadata": {},
   "outputs": [
    {
     "data": {
      "text/plain": [
       "array([[10.,  0.],\n",
       "       [10.,  0.],\n",
       "       [10.,  0.],\n",
       "       [10.,  0.],\n",
       "       [10.,  0.],\n",
       "       [10.,  0.],\n",
       "       [10.,  0.],\n",
       "       [10.,  0.],\n",
       "       [10.,  0.],\n",
       "       [10.,  0.],\n",
       "       [10.,  0.],\n",
       "       [10.,  0.],\n",
       "       [10.,  0.],\n",
       "       [10.,  0.],\n",
       "       [10.,  0.],\n",
       "       [10.,  0.],\n",
       "       [10.,  0.],\n",
       "       [10.,  0.],\n",
       "       [10.,  0.],\n",
       "       [10.,  0.],\n",
       "       [10.,  0.],\n",
       "       [10.,  0.],\n",
       "       [10.,  0.],\n",
       "       [10.,  0.],\n",
       "       [10.,  0.],\n",
       "       [10.,  0.],\n",
       "       [10.,  0.],\n",
       "       [10.,  0.],\n",
       "       [10.,  0.],\n",
       "       [10.,  0.],\n",
       "       [10.,  0.],\n",
       "       [ 0., 10.],\n",
       "       [ 0.,  1.],\n",
       "       [ 0.,  0.],\n",
       "       [ 0.,  0.],\n",
       "       [ 0.,  0.],\n",
       "       [ 0.,  0.],\n",
       "       [ 0.,  0.],\n",
       "       [ 0.,  0.],\n",
       "       [ 0.,  0.],\n",
       "       [ 0.,  0.],\n",
       "       [ 0.,  0.],\n",
       "       [ 0.,  0.],\n",
       "       [ 0.,  0.],\n",
       "       [ 0.,  0.],\n",
       "       [ 0.,  0.],\n",
       "       [ 0.,  0.],\n",
       "       [ 0.,  0.],\n",
       "       [ 0.,  0.],\n",
       "       [ 0.,  0.],\n",
       "       [ 0.,  0.],\n",
       "       [ 0.,  0.],\n",
       "       [ 0.,  0.],\n",
       "       [ 0.,  0.],\n",
       "       [ 0.,  0.],\n",
       "       [ 0.,  0.],\n",
       "       [ 0.,  0.],\n",
       "       [ 0.,  0.],\n",
       "       [ 0.,  0.],\n",
       "       [ 0.,  0.],\n",
       "       [ 0.,  0.],\n",
       "       [ 0.,  0.],\n",
       "       [ 0.,  0.],\n",
       "       [ 0.,  0.],\n",
       "       [ 0.,  0.],\n",
       "       [ 0.,  0.],\n",
       "       [ 0.,  0.],\n",
       "       [ 0.,  0.],\n",
       "       [ 0.,  0.],\n",
       "       [ 0.,  0.],\n",
       "       [ 0.,  0.],\n",
       "       [ 0.,  0.],\n",
       "       [ 0.,  0.],\n",
       "       [ 0.,  0.],\n",
       "       [ 0.,  0.],\n",
       "       [ 0.,  0.],\n",
       "       [ 0.,  0.],\n",
       "       [ 0.,  0.],\n",
       "       [ 0.,  0.],\n",
       "       [ 0.,  0.]])"
      ]
     },
     "execution_count": 21,
     "metadata": {},
     "output_type": "execute_result"
    }
   ],
   "source": [
    "deposit[0][20, 100, :]"
   ]
  },
  {
   "cell_type": "code",
   "execution_count": null,
   "metadata": {},
   "outputs": [
    {
     "name": "stdout",
     "output_type": "stream",
     "text": [
      "[ 0. -1. -1.]\n",
      "inputcount 5000\n"
     ]
    },
    {
     "name": "stderr",
     "output_type": "stream",
     "text": [
      "running: 100%|██████████████████████████████████████████████████████| 100/100 [01:28<00:00, 1.13B/s]\n"
     ]
    }
   ],
   "source": [
    "film = np.zeros((100, 100, 100, 2))\n",
    "\n",
    "bottom = 10\n",
    "film[:, :, 0:bottom, 0] = 10 # bottom\n",
    "\n",
    "height = 80\n",
    "\n",
    "film[:, :40, 0:height, 0] = 10\n",
    "film[:, 60:, 0:height, 0] = 10\n",
    "etchfilm = film\n",
    "\n",
    "\n",
    "N = int(1e6)\n",
    "velosity_matrix = np.zeros((N, 3))\n",
    "tstep=1e-5\n",
    "celllength=1e-5\n",
    "# velosity_matrix[:, 0] = -1 * celllength /tstep\n",
    "velosity_matrix[:, 1] = -1 * celllength /tstep\n",
    "velosity_matrix[:, 2] = -1 * celllength /tstep\n",
    "\n",
    "typeID = np.zeros(N)\n",
    "\n",
    "print(velosity_matrix[0])\n",
    "\n",
    "logname = 'Multi_species_benchmark_0729'\n",
    "testEtch = Multi_Species_etching_depo.etching(mirror=True,inputMethod='bunch', pressure_pa=0.001, temperature=300, chamberSize=etchfilm.shape,\n",
    "                    depoThick=90, center_with_direction=np.array([[35,100,75]]), \n",
    "                    range3D=np.array([[0, 70, 0, 100, 0, 150]]), InOrOut=[1], yield_hist=np.array([None]),\n",
    "                    reaction_type=False, param = [1.6, -0.7], N = 300000, \n",
    "                    sub_xy=[0,0], film=etchfilm, n=1, cellSize=etchfilm.shape, \n",
    "                    celllength=1e-5, kdtreeN=5, tstep=1e-5,\n",
    "                    substrateTop=40,posGeneratorType='benchmark',fullCell=10, logname=logname)\n",
    "\n",
    "\n",
    "etching1 = testEtch.inputParticle(125, velosity_matrix, typeID, 2e-3, 20)"
   ]
  },
  {
   "cell_type": "code",
   "execution_count": null,
   "metadata": {},
   "outputs": [
    {
     "data": {
      "text/plain": [
       "array([[10.,  0.],\n",
       "       [10.,  0.],\n",
       "       [10.,  0.],\n",
       "       [10.,  0.],\n",
       "       [10.,  0.],\n",
       "       [10.,  0.],\n",
       "       [10.,  0.],\n",
       "       [10.,  0.],\n",
       "       [10.,  0.],\n",
       "       [10.,  0.],\n",
       "       [10.,  0.],\n",
       "       [10.,  0.],\n",
       "       [10.,  0.],\n",
       "       [10.,  0.],\n",
       "       [10.,  0.],\n",
       "       [10.,  0.],\n",
       "       [10.,  0.],\n",
       "       [10.,  0.],\n",
       "       [10.,  0.],\n",
       "       [10.,  0.],\n",
       "       [10.,  0.],\n",
       "       [10.,  0.],\n",
       "       [10.,  0.],\n",
       "       [10.,  0.],\n",
       "       [10.,  0.],\n",
       "       [10.,  0.],\n",
       "       [10.,  0.],\n",
       "       [10.,  0.],\n",
       "       [10.,  0.],\n",
       "       [10.,  0.],\n",
       "       [10.,  0.],\n",
       "       [10.,  0.],\n",
       "       [10.,  0.],\n",
       "       [10.,  0.],\n",
       "       [10.,  0.],\n",
       "       [10.,  0.],\n",
       "       [10.,  0.],\n",
       "       [10.,  0.],\n",
       "       [10.,  0.],\n",
       "       [10.,  0.],\n",
       "       [10.,  0.],\n",
       "       [10.,  0.],\n",
       "       [10.,  0.],\n",
       "       [10.,  0.],\n",
       "       [10.,  0.],\n",
       "       [10.,  0.],\n",
       "       [10.,  0.],\n",
       "       [10.,  0.],\n",
       "       [10.,  0.],\n",
       "       [10.,  0.],\n",
       "       [10.,  0.],\n",
       "       [10.,  0.],\n",
       "       [10.,  0.],\n",
       "       [10.,  0.],\n",
       "       [10.,  0.],\n",
       "       [10.,  0.],\n",
       "       [10.,  0.],\n",
       "       [10.,  0.],\n",
       "       [10.,  0.],\n",
       "       [10.,  0.],\n",
       "       [10.,  0.],\n",
       "       [10.,  0.],\n",
       "       [10.,  0.],\n",
       "       [10.,  0.],\n",
       "       [10.,  0.],\n",
       "       [10.,  0.],\n",
       "       [10.,  0.],\n",
       "       [10.,  0.],\n",
       "       [10.,  0.],\n",
       "       [10.,  0.],\n",
       "       [10.,  0.],\n",
       "       [10.,  0.],\n",
       "       [10.,  0.],\n",
       "       [10.,  0.],\n",
       "       [10.,  0.],\n",
       "       [10.,  0.],\n",
       "       [10.,  0.],\n",
       "       [10.,  0.],\n",
       "       [10.,  0.],\n",
       "       [10.,  0.],\n",
       "       [ 0.,  1.],\n",
       "       [ 0.,  0.],\n",
       "       [ 0.,  0.],\n",
       "       [ 0.,  0.],\n",
       "       [ 0.,  0.],\n",
       "       [ 0.,  0.],\n",
       "       [ 0.,  0.],\n",
       "       [ 0.,  0.],\n",
       "       [ 0.,  0.],\n",
       "       [ 0.,  0.],\n",
       "       [ 0.,  0.],\n",
       "       [ 0.,  0.],\n",
       "       [ 0.,  0.],\n",
       "       [ 0.,  0.],\n",
       "       [ 0.,  0.],\n",
       "       [ 0.,  0.],\n",
       "       [ 0.,  0.],\n",
       "       [ 0.,  0.],\n",
       "       [ 0.,  0.],\n",
       "       [ 0.,  0.]])"
      ]
     },
     "execution_count": 24,
     "metadata": {},
     "output_type": "execute_result"
    }
   ],
   "source": [
    "etching1[0][39, 60, :]"
   ]
  },
  {
   "cell_type": "code",
   "execution_count": null,
   "metadata": {},
   "outputs": [
    {
     "data": {
      "text/plain": [
       "array([[10.,  0.],\n",
       "       [10.,  0.],\n",
       "       [10.,  0.],\n",
       "       [10.,  0.],\n",
       "       [10.,  0.],\n",
       "       [10.,  0.],\n",
       "       [10.,  0.],\n",
       "       [10.,  0.],\n",
       "       [10.,  0.],\n",
       "       [10.,  0.],\n",
       "       [10.,  0.],\n",
       "       [10.,  0.],\n",
       "       [10.,  0.],\n",
       "       [10.,  0.],\n",
       "       [10.,  0.],\n",
       "       [10.,  0.],\n",
       "       [10.,  0.],\n",
       "       [10.,  0.],\n",
       "       [10.,  0.],\n",
       "       [10.,  0.],\n",
       "       [10.,  0.],\n",
       "       [10.,  0.],\n",
       "       [10.,  0.],\n",
       "       [10.,  0.],\n",
       "       [10.,  0.],\n",
       "       [10.,  0.],\n",
       "       [10.,  0.],\n",
       "       [10.,  0.],\n",
       "       [10.,  0.],\n",
       "       [10.,  0.],\n",
       "       [10.,  0.],\n",
       "       [10.,  0.],\n",
       "       [10.,  0.],\n",
       "       [10.,  0.],\n",
       "       [10.,  0.],\n",
       "       [10.,  0.],\n",
       "       [10.,  0.],\n",
       "       [10.,  0.],\n",
       "       [10.,  0.],\n",
       "       [10.,  0.],\n",
       "       [10.,  0.],\n",
       "       [10.,  0.],\n",
       "       [10.,  0.],\n",
       "       [10.,  0.],\n",
       "       [10.,  0.],\n",
       "       [10.,  0.],\n",
       "       [10.,  0.],\n",
       "       [10.,  0.],\n",
       "       [10.,  0.],\n",
       "       [10.,  0.],\n",
       "       [10.,  0.],\n",
       "       [10.,  0.],\n",
       "       [10.,  0.],\n",
       "       [10.,  0.],\n",
       "       [10.,  0.],\n",
       "       [10.,  0.],\n",
       "       [10.,  0.],\n",
       "       [10.,  0.],\n",
       "       [10.,  0.],\n",
       "       [10.,  0.],\n",
       "       [10.,  0.],\n",
       "       [10.,  0.],\n",
       "       [10.,  0.],\n",
       "       [10.,  0.],\n",
       "       [10.,  0.],\n",
       "       [10.,  0.],\n",
       "       [10.,  0.],\n",
       "       [10.,  0.],\n",
       "       [10.,  0.],\n",
       "       [10.,  0.],\n",
       "       [10.,  0.],\n",
       "       [10.,  0.],\n",
       "       [10.,  0.],\n",
       "       [10.,  0.],\n",
       "       [10.,  0.],\n",
       "       [10.,  0.],\n",
       "       [10.,  0.],\n",
       "       [10.,  0.],\n",
       "       [10.,  0.],\n",
       "       [10.,  0.],\n",
       "       [ 0., 10.],\n",
       "       [ 0., 10.],\n",
       "       [ 0., 10.],\n",
       "       [ 0., 10.],\n",
       "       [ 0., 10.],\n",
       "       [ 0., 10.],\n",
       "       [ 0.,  0.],\n",
       "       [ 0.,  0.],\n",
       "       [ 0.,  0.],\n",
       "       [ 0.,  0.],\n",
       "       [ 0.,  0.],\n",
       "       [ 0.,  0.],\n",
       "       [ 0.,  0.],\n",
       "       [ 0.,  0.],\n",
       "       [ 0.,  0.],\n",
       "       [ 0.,  0.],\n",
       "       [ 0.,  0.],\n",
       "       [ 0.,  0.],\n",
       "       [ 0.,  0.],\n",
       "       [ 0.,  0.]])"
      ]
     },
     "execution_count": 23,
     "metadata": {},
     "output_type": "execute_result"
    }
   ],
   "source": [
    "etching1[0][50, 60, :]"
   ]
  },
  {
   "cell_type": "code",
   "execution_count": null,
   "metadata": {},
   "outputs": [
    {
     "name": "stderr",
     "output_type": "stream",
     "text": [
      "c:\\Users\\urcs049\\AppData\\Local\\anaconda3\\Lib\\site-packages\\pyvista\\core\\utilities\\points.py:55: UserWarning: Points is not a float type. This can cause issues when transforming or applying filters. Casting to ``np.float32``. Disable this by passing ``force_float=False``.\n",
      "  warnings.warn(\n",
      "c:\\Users\\urcs049\\AppData\\Local\\anaconda3\\Lib\\site-packages\\pyvista\\core\\filters\\data_set.py:2386: UserWarning: No vector-like data to use for orient. orient will be set to False.\n",
      "  warnings.warn(\"No vector-like data to use for orient. orient will be set to False.\")\n"
     ]
    },
    {
     "data": {
      "application/vnd.jupyter.widget-view+json": {
       "model_id": "6e8f3257b07d4166b587e5689157ea1e",
       "version_major": 2,
       "version_minor": 0
      },
      "text/plain": [
       "Widget(value='<iframe src=\"http://localhost:53896/index.html?ui=P_0x2075d16a810_6&reconnect=auto\" class=\"pyvis…"
      ]
     },
     "metadata": {},
     "output_type": "display_data"
    }
   ],
   "source": [
    "sumFilm = np.sum(etching1[0], axis=-1)\n",
    "\n",
    "depo1 = torch.Tensor(np.logical_and(sumFilm[:, :, :,]!=10, sumFilm[:, :, :,]!=0)).to_sparse()\n",
    "depo1 = depo1.indices().numpy().T\n",
    "\n",
    "substrute = torch.Tensor(sumFilm[:, :, :,]==10).to_sparse()\n",
    "substrute = substrute.indices().numpy().T\n",
    "depomesh = pv.PolyData(depo1)\n",
    "depomesh[\"radius\"] = np.ones(depo1.shape[0])*0.5\n",
    "geom = pv.Box()\n",
    "\n",
    "submesh = pv.PolyData(substrute)\n",
    "submesh[\"radius\"] = np.ones(substrute.shape[0])*0.5\n",
    "\n",
    "# Progress bar is a new feature on master branch\n",
    "depoglyphed = depomesh.glyph(scale=\"radius\", geom=geom) # progress_bar=True)\n",
    "subglyphed = submesh.glyph(scale=\"radius\", geom=geom) # progress_bar=True)\n",
    "\n",
    "p = pv.Plotter()\n",
    "p.add_mesh(depoglyphed, color='cyan')\n",
    "p.add_mesh(subglyphed, color='dimgray')\n",
    "p.enable_eye_dome_lighting()\n",
    "p.show()"
   ]
  },
  {
   "cell_type": "code",
   "execution_count": null,
   "metadata": {},
   "outputs": [
    {
     "data": {
      "application/vnd.jupyter.widget-view+json": {
       "model_id": "cbeda09e70b64e8a9b6de06bc4b38a19",
       "version_major": 2,
       "version_minor": 0
      },
      "text/plain": [
       "Widget(value='<iframe src=\"http://localhost:53896/index.html?ui=P_0x2075d1b80e0_5&reconnect=auto\" class=\"pyvis…"
      ]
     },
     "metadata": {},
     "output_type": "display_data"
    }
   ],
   "source": [
    "point_cloud = pv.PolyData(etching1[1][:, 3:])\n",
    "vectors = etching1[1][:, :3]\n",
    "\n",
    "point_cloud['vectors'] = vectors\n",
    "arrows = point_cloud.glyph(\n",
    "    orient='vectors',\n",
    "    scale=1000,\n",
    "    factor=2,\n",
    ")\n",
    "\n",
    "# Display the arrows\n",
    "plotter = pv.Plotter()\n",
    "plotter.add_mesh(point_cloud, color='maroon', point_size=5.0, render_points_as_spheres=True)\n",
    "# plotter.add_mesh(arrows, color='lightblue')\n",
    "# plotter.add_point_labels([point_cloud.center,], ['Center',],\n",
    "#                          point_color='yellow', point_size=20)\n",
    "plotter.show_grid()\n",
    "plotter.show()"
   ]
  },
  {
   "cell_type": "code",
   "execution_count": 37,
   "metadata": {},
   "outputs": [
    {
     "name": "stdout",
     "output_type": "stream",
     "text": [
      "[ 0. -1. -1.]\n",
      "inputcount 5000\n"
     ]
    },
    {
     "name": "stderr",
     "output_type": "stream",
     "text": [
      "running:   0%|                                                            | 0.00/100 [00:00<?, ?B/s]"
     ]
    },
    {
     "name": "stdout",
     "output_type": "stream",
     "text": [
      "weights_max 1\n",
      "weights_min 1\n",
      "weights_max 2\n",
      "weights_min 1\n",
      "weights_max 2\n",
      "weights_min 1\n",
      "weights_max 2\n",
      "weights_min 1\n",
      "weights_max 2\n",
      "weights_min 2\n"
     ]
    },
    {
     "name": "stderr",
     "output_type": "stream",
     "text": [
      "running:   1%|▌                                                    | 1.00/100 [00:00<01:21, 1.22B/s]"
     ]
    },
    {
     "name": "stdout",
     "output_type": "stream",
     "text": [
      "weights_max 1\n",
      "weights_min 0\n",
      "weights_max 2\n",
      "weights_min 1\n",
      "weights_max 2\n",
      "weights_min 1\n",
      "weights_max 2\n",
      "weights_min 1\n",
      "weights_max 3\n",
      "weights_min 2\n",
      "weights_max 1\n",
      "weights_min 0\n",
      "weights_max 2\n",
      "weights_min 1\n",
      "weights_max 2\n",
      "weights_min 1\n",
      "weights_max 2\n",
      "weights_min 1\n",
      "weights_max 3\n",
      "weights_min 2\n"
     ]
    },
    {
     "name": "stderr",
     "output_type": "stream",
     "text": [
      "running:   2%|█                                                    | 2.00/100 [00:01<01:32, 1.06B/s]"
     ]
    },
    {
     "name": "stdout",
     "output_type": "stream",
     "text": [
      "weights_max 1\n",
      "weights_min 0\n",
      "weights_max 2\n",
      "weights_min 1\n",
      "weights_max 2\n",
      "weights_min 1\n",
      "weights_max 2\n",
      "weights_min 1\n",
      "weights_max 3\n",
      "weights_min 2\n",
      "weights_max 1\n",
      "weights_min 0\n",
      "weights_max 2\n",
      "weights_min 1\n",
      "weights_max 2\n",
      "weights_min 1\n",
      "weights_max 2\n",
      "weights_min 1\n",
      "weights_max 3\n",
      "weights_min 2\n"
     ]
    },
    {
     "name": "stderr",
     "output_type": "stream",
     "text": [
      "running:   3%|█▌                                                   | 3.00/100 [00:02<01:34, 1.03B/s]"
     ]
    },
    {
     "name": "stdout",
     "output_type": "stream",
     "text": [
      "weights_max 1\n",
      "weights_min 0\n",
      "weights_max 2\n",
      "weights_min 1\n",
      "weights_max 2\n",
      "weights_min 1\n",
      "weights_max 2\n",
      "weights_min 1\n",
      "weights_max 3\n",
      "weights_min 2\n",
      "weights_max 1\n",
      "weights_min 0\n",
      "weights_max 2\n",
      "weights_min 1\n",
      "weights_max 2\n",
      "weights_min 1\n",
      "weights_max 2\n",
      "weights_min 1\n",
      "weights_max 3\n",
      "weights_min 2\n"
     ]
    },
    {
     "name": "stderr",
     "output_type": "stream",
     "text": [
      "running:   4%|██                                                   | 4.00/100 [00:03<01:34, 1.02B/s]"
     ]
    },
    {
     "name": "stdout",
     "output_type": "stream",
     "text": [
      "weights_max 1\n",
      "weights_min 0\n",
      "weights_max 2\n",
      "weights_min 1\n",
      "weights_max 2\n",
      "weights_min 1\n",
      "weights_max 2\n",
      "weights_min 1\n",
      "weights_max 3\n",
      "weights_min 2\n",
      "weights_max 1\n",
      "weights_min 0\n",
      "weights_max 2\n",
      "weights_min 1\n",
      "weights_max 2\n",
      "weights_min 1\n",
      "weights_max 2\n",
      "weights_min 1\n",
      "weights_max 3\n",
      "weights_min 2\n"
     ]
    },
    {
     "name": "stderr",
     "output_type": "stream",
     "text": [
      "running:   5%|██▋                                                  | 5.00/100 [00:04<01:34, 1.00B/s]"
     ]
    },
    {
     "name": "stdout",
     "output_type": "stream",
     "text": [
      "weights_max 1\n",
      "weights_min 0\n",
      "weights_max 2\n",
      "weights_min 1\n",
      "weights_max 2\n",
      "weights_min 1\n",
      "weights_max 2\n",
      "weights_min 1\n",
      "weights_max 3\n",
      "weights_min 2\n",
      "weights_max 1\n",
      "weights_min 0\n",
      "weights_max 2\n",
      "weights_min 1\n",
      "weights_max 2\n",
      "weights_min 1\n",
      "weights_max 2\n",
      "weights_min 1\n",
      "weights_max 3\n",
      "weights_min 2\n"
     ]
    },
    {
     "name": "stderr",
     "output_type": "stream",
     "text": [
      "running:   6%|███▏                                                 | 6.00/100 [00:05<01:35, 1.01s/B]"
     ]
    },
    {
     "name": "stdout",
     "output_type": "stream",
     "text": [
      "weights_max 1\n",
      "weights_min 0\n",
      "weights_max 2\n",
      "weights_min 1\n",
      "weights_max 2\n",
      "weights_min 1\n",
      "weights_max 2\n",
      "weights_min 1\n",
      "weights_max 3\n",
      "weights_min 2\n",
      "weights_max 1\n",
      "weights_min 0\n",
      "weights_max 2\n",
      "weights_min 1\n",
      "weights_max 2\n",
      "weights_min 1\n",
      "weights_max 2\n",
      "weights_min 1\n",
      "weights_max 3\n",
      "weights_min 2\n"
     ]
    },
    {
     "name": "stderr",
     "output_type": "stream",
     "text": [
      "running:   7%|███▋                                                 | 7.00/100 [00:07<01:37, 1.05s/B]"
     ]
    },
    {
     "name": "stdout",
     "output_type": "stream",
     "text": [
      "weights_max 1\n",
      "weights_min 0\n",
      "weights_max 2\n",
      "weights_min 1\n",
      "weights_max 2\n",
      "weights_min 1\n",
      "weights_max 2\n",
      "weights_min 1\n",
      "weights_max 3\n",
      "weights_min 2\n",
      "weights_max 1\n",
      "weights_min 0\n",
      "weights_max 2\n",
      "weights_min 1\n",
      "weights_max 2\n",
      "weights_min 1\n",
      "weights_max 2\n",
      "weights_min 1\n",
      "weights_max 3\n",
      "weights_min 2\n"
     ]
    },
    {
     "name": "stderr",
     "output_type": "stream",
     "text": [
      "running:   8%|████▏                                                | 8.00/100 [00:08<01:44, 1.13s/B]"
     ]
    },
    {
     "name": "stdout",
     "output_type": "stream",
     "text": [
      "weights_max 1\n",
      "weights_min 0\n",
      "weights_max 2\n",
      "weights_min 1\n",
      "weights_max 2\n",
      "weights_min 1\n",
      "weights_max 2\n",
      "weights_min 1\n",
      "weights_max 3\n",
      "weights_min 2\n",
      "weights_max 1\n",
      "weights_min 0\n",
      "weights_max 2\n",
      "weights_min 1\n",
      "weights_max 2\n",
      "weights_min 1\n",
      "weights_max 2\n",
      "weights_min 1\n",
      "weights_max 3\n",
      "weights_min 2\n"
     ]
    },
    {
     "name": "stderr",
     "output_type": "stream",
     "text": [
      "running:   9%|████▊                                                | 9.00/100 [00:09<01:55, 1.26s/B]"
     ]
    },
    {
     "name": "stdout",
     "output_type": "stream",
     "text": [
      "weights_max 1\n",
      "weights_min 0\n",
      "weights_max 2\n",
      "weights_min 1\n",
      "weights_max 2\n",
      "weights_min 1\n",
      "weights_max 2\n",
      "weights_min 1\n",
      "weights_max 3\n",
      "weights_min 2\n",
      "weights_max 1\n",
      "weights_min 0\n",
      "weights_max 2\n",
      "weights_min 1\n",
      "weights_max 2\n",
      "weights_min 1\n",
      "weights_max 2\n",
      "weights_min 1\n",
      "weights_max 3\n",
      "weights_min 2\n"
     ]
    },
    {
     "name": "stderr",
     "output_type": "stream",
     "text": [
      "running:  10%|█████▎                                               | 10.0/100 [00:11<02:04, 1.38s/B]"
     ]
    },
    {
     "name": "stdout",
     "output_type": "stream",
     "text": [
      "weights_max 1\n",
      "weights_min 0\n",
      "weights_max 2\n",
      "weights_min 1\n",
      "weights_max 2\n",
      "weights_min 1\n",
      "weights_max 2\n",
      "weights_min 1\n",
      "weights_max 3\n",
      "weights_min 2\n",
      "weights_max 1\n",
      "weights_min 0\n",
      "weights_max 2\n",
      "weights_min 1\n",
      "weights_max 2\n",
      "weights_min 1\n",
      "weights_max 2\n",
      "weights_min 1\n",
      "weights_max 3\n",
      "weights_min 2\n"
     ]
    },
    {
     "name": "stderr",
     "output_type": "stream",
     "text": [
      "running:  11%|█████▊                                               | 11.0/100 [00:13<02:11, 1.48s/B]"
     ]
    },
    {
     "name": "stdout",
     "output_type": "stream",
     "text": [
      "weights_max 1\n",
      "weights_min 0\n",
      "weights_max 2\n",
      "weights_min 1\n",
      "weights_max 2\n",
      "weights_min 1\n",
      "weights_max 2\n",
      "weights_min 1\n",
      "weights_max 3\n",
      "weights_min 2\n",
      "weights_max 1\n",
      "weights_min 0\n",
      "weights_max 2\n",
      "weights_min 1\n",
      "weights_max 2\n",
      "weights_min 1\n",
      "weights_max 2\n",
      "weights_min 1\n",
      "weights_max 3\n",
      "weights_min 2\n"
     ]
    },
    {
     "name": "stderr",
     "output_type": "stream",
     "text": [
      "running:  12%|██████▎                                              | 12.0/100 [00:14<02:14, 1.53s/B]"
     ]
    },
    {
     "name": "stdout",
     "output_type": "stream",
     "text": [
      "weights_max 1\n",
      "weights_min 0\n",
      "weights_max 2\n",
      "weights_min 1\n",
      "weights_max 2\n",
      "weights_min 1\n",
      "weights_max 2\n",
      "weights_min 1\n",
      "weights_max 3\n",
      "weights_min 2\n",
      "weights_max 1\n",
      "weights_min 0\n",
      "weights_max 2\n",
      "weights_min 1\n",
      "weights_max 2\n",
      "weights_min 1\n",
      "weights_max 2\n",
      "weights_min 1\n",
      "weights_max 3\n",
      "weights_min 2\n"
     ]
    },
    {
     "name": "stderr",
     "output_type": "stream",
     "text": [
      "running:  13%|██████▉                                              | 13.0/100 [00:16<02:16, 1.57s/B]"
     ]
    },
    {
     "name": "stdout",
     "output_type": "stream",
     "text": [
      "weights_max 1\n",
      "weights_min 0\n",
      "weights_max 2\n",
      "weights_min 1\n",
      "weights_max 2\n",
      "weights_min 1\n",
      "weights_max 2\n",
      "weights_min 1\n",
      "weights_max 3\n",
      "weights_min 2\n",
      "weights_max 1\n",
      "weights_min 0\n",
      "weights_max 2\n",
      "weights_min 1\n",
      "weights_max 2\n",
      "weights_min 1\n",
      "weights_max 2\n",
      "weights_min 1\n",
      "weights_max 3\n",
      "weights_min 2\n"
     ]
    },
    {
     "name": "stderr",
     "output_type": "stream",
     "text": [
      "running:  14%|███████▍                                             | 14.0/100 [00:18<02:17, 1.60s/B]"
     ]
    },
    {
     "name": "stdout",
     "output_type": "stream",
     "text": [
      "weights_max 1\n",
      "weights_min 0\n",
      "weights_max 2\n",
      "weights_min 1\n",
      "weights_max 2\n",
      "weights_min 1\n",
      "weights_max 2\n",
      "weights_min 1\n",
      "weights_max 3\n",
      "weights_min 2\n",
      "weights_max 1\n",
      "weights_min 0\n",
      "weights_max 2\n",
      "weights_min 1\n",
      "weights_max 2\n",
      "weights_min 1\n",
      "weights_max 2\n",
      "weights_min 1\n",
      "weights_max 3\n",
      "weights_min 2\n"
     ]
    },
    {
     "name": "stderr",
     "output_type": "stream",
     "text": [
      "running:  15%|███████▉                                             | 15.0/100 [00:19<02:16, 1.61s/B]"
     ]
    },
    {
     "name": "stdout",
     "output_type": "stream",
     "text": [
      "weights_max 1\n",
      "weights_min 0\n",
      "weights_max 2\n",
      "weights_min 1\n",
      "weights_max 2\n",
      "weights_min 1\n",
      "weights_max 2\n",
      "weights_min 1\n",
      "weights_max 3\n",
      "weights_min 2\n",
      "weights_max 1\n",
      "weights_min 0\n",
      "weights_max 2\n",
      "weights_min 1\n",
      "weights_max 2\n",
      "weights_min 1\n",
      "weights_max 2\n",
      "weights_min 1\n",
      "weights_max 3\n",
      "weights_min 2\n"
     ]
    },
    {
     "name": "stderr",
     "output_type": "stream",
     "text": [
      "running:  16%|████████▍                                            | 16.0/100 [00:21<02:15, 1.61s/B]"
     ]
    },
    {
     "name": "stdout",
     "output_type": "stream",
     "text": [
      "weights_max 1\n",
      "weights_min 0\n",
      "weights_max 2\n",
      "weights_min 1\n",
      "weights_max 2\n",
      "weights_min 1\n",
      "weights_max 2\n",
      "weights_min 1\n",
      "weights_max 3\n",
      "weights_min 2\n",
      "weights_max 1\n",
      "weights_min 0\n",
      "weights_max 2\n",
      "weights_min 1\n",
      "weights_max 2\n",
      "weights_min 1\n",
      "weights_max 2\n",
      "weights_min 1\n",
      "weights_max 3\n",
      "weights_min 2\n"
     ]
    },
    {
     "name": "stderr",
     "output_type": "stream",
     "text": [
      "running:  17%|█████████                                            | 17.0/100 [00:23<02:14, 1.63s/B]"
     ]
    },
    {
     "name": "stdout",
     "output_type": "stream",
     "text": [
      "weights_max 1\n",
      "weights_min 0\n",
      "weights_max 2\n",
      "weights_min 1\n",
      "weights_max 2\n",
      "weights_min 1\n",
      "weights_max 2\n",
      "weights_min 1\n",
      "weights_max 3\n",
      "weights_min 2\n",
      "weights_max 1\n",
      "weights_min 0\n",
      "weights_max 2\n",
      "weights_min 1\n",
      "weights_max 2\n",
      "weights_min 1\n",
      "weights_max 2\n",
      "weights_min 1\n",
      "weights_max 3\n",
      "weights_min 2\n"
     ]
    },
    {
     "name": "stderr",
     "output_type": "stream",
     "text": [
      "running:  18%|█████████▌                                           | 18.0/100 [00:24<02:13, 1.63s/B]"
     ]
    },
    {
     "name": "stdout",
     "output_type": "stream",
     "text": [
      "weights_max 1\n",
      "weights_min 0\n",
      "weights_max 2\n",
      "weights_min 1\n",
      "weights_max 2\n",
      "weights_min 1\n",
      "weights_max 2\n",
      "weights_min 1\n",
      "weights_max 3\n",
      "weights_min 2\n",
      "weights_max 1\n",
      "weights_min 0\n",
      "weights_max 2\n",
      "weights_min 1\n",
      "weights_max 2\n",
      "weights_min 1\n",
      "weights_max 2\n",
      "weights_min 1\n",
      "weights_max 3\n",
      "weights_min 2\n"
     ]
    },
    {
     "name": "stderr",
     "output_type": "stream",
     "text": [
      "running:  19%|██████████                                           | 19.0/100 [00:26<02:13, 1.64s/B]"
     ]
    },
    {
     "name": "stdout",
     "output_type": "stream",
     "text": [
      "weights_max 1\n",
      "weights_min 0\n",
      "weights_max 2\n",
      "weights_min 1\n",
      "weights_max 2\n",
      "weights_min 1\n",
      "weights_max 2\n",
      "weights_min 1\n",
      "weights_max 3\n",
      "weights_min 2\n",
      "weights_max 1\n",
      "weights_min 0\n",
      "weights_max 2\n",
      "weights_min 1\n",
      "weights_max 2\n",
      "weights_min 1\n",
      "weights_max 2\n",
      "weights_min 1\n",
      "weights_max 3\n",
      "weights_min 2\n"
     ]
    },
    {
     "name": "stderr",
     "output_type": "stream",
     "text": [
      "running:  20%|██████████▌                                          | 20.0/100 [00:28<02:13, 1.67s/B]"
     ]
    },
    {
     "name": "stdout",
     "output_type": "stream",
     "text": [
      "weights_max 1\n",
      "weights_min 0\n",
      "weights_max 2\n",
      "weights_min 1\n",
      "weights_max 2\n",
      "weights_min 1\n",
      "weights_max 2\n",
      "weights_min 1\n",
      "weights_max 3\n",
      "weights_min 2\n",
      "weights_max 1\n",
      "weights_min 0\n",
      "weights_max 2\n",
      "weights_min 1\n",
      "weights_max 2\n",
      "weights_min 1\n",
      "weights_max 2\n",
      "weights_min 1\n",
      "weights_max 3\n",
      "weights_min 2\n"
     ]
    },
    {
     "name": "stderr",
     "output_type": "stream",
     "text": [
      "running:  21%|███████████▏                                         | 21.0/100 [00:29<02:13, 1.69s/B]"
     ]
    },
    {
     "name": "stdout",
     "output_type": "stream",
     "text": [
      "weights_max 1\n",
      "weights_min 0\n",
      "weights_max 2\n",
      "weights_min 1\n",
      "weights_max 2\n",
      "weights_min 1\n",
      "weights_max 2\n",
      "weights_min 1\n",
      "weights_max 3\n",
      "weights_min 2\n",
      "weights_max 1\n",
      "weights_min 0\n",
      "weights_max 2\n",
      "weights_min 1\n",
      "weights_max 2\n",
      "weights_min 1\n",
      "weights_max 2\n",
      "weights_min 1\n",
      "weights_max 3\n",
      "weights_min 2\n"
     ]
    },
    {
     "name": "stderr",
     "output_type": "stream",
     "text": [
      "running:  22%|███████████▋                                         | 22.0/100 [00:31<02:13, 1.71s/B]"
     ]
    },
    {
     "name": "stdout",
     "output_type": "stream",
     "text": [
      "weights_max 1\n",
      "weights_min 0\n",
      "weights_max 2\n",
      "weights_min 1\n",
      "weights_max 2\n",
      "weights_min 1\n",
      "weights_max 2\n",
      "weights_min 1\n",
      "weights_max 3\n",
      "weights_min 2\n",
      "weights_max 1\n",
      "weights_min 0\n",
      "weights_max 2\n",
      "weights_min 1\n",
      "weights_max 2\n",
      "weights_min 1\n",
      "weights_max 2\n",
      "weights_min 1\n",
      "weights_max 3\n",
      "weights_min 2\n"
     ]
    },
    {
     "name": "stderr",
     "output_type": "stream",
     "text": [
      "running:  23%|████████████▏                                        | 23.0/100 [00:33<02:13, 1.74s/B]"
     ]
    },
    {
     "name": "stdout",
     "output_type": "stream",
     "text": [
      "weights_max 1\n",
      "weights_min 0\n",
      "weights_max 2\n",
      "weights_min 1\n",
      "weights_max 2\n",
      "weights_min 1\n",
      "weights_max 2\n",
      "weights_min 1\n",
      "weights_max 2\n",
      "weights_min 2\n",
      "weights_max 1\n",
      "weights_min 0\n",
      "weights_max 2\n",
      "weights_min 1\n",
      "weights_max 2\n",
      "weights_min 1\n",
      "weights_max 2\n",
      "weights_min 1\n",
      "weights_max 2\n",
      "weights_min 2\n"
     ]
    },
    {
     "name": "stderr",
     "output_type": "stream",
     "text": [
      "running:  24%|████████████▋                                        | 24.0/100 [00:35<02:13, 1.76s/B]"
     ]
    },
    {
     "name": "stdout",
     "output_type": "stream",
     "text": [
      "weights_max 1\n",
      "weights_min 0\n",
      "weights_max 2\n",
      "weights_min 1\n",
      "weights_max 2\n",
      "weights_min 1\n",
      "weights_max 2\n",
      "weights_min 1\n",
      "weights_max 2\n",
      "weights_min 2\n",
      "weights_max 1\n",
      "weights_min 0\n",
      "weights_max 2\n",
      "weights_min 1\n",
      "weights_max 2\n",
      "weights_min 1\n",
      "weights_max 2\n",
      "weights_min 1\n",
      "weights_max 3\n",
      "weights_min 2\n"
     ]
    },
    {
     "name": "stderr",
     "output_type": "stream",
     "text": [
      "running:  25%|█████████████▎                                       | 25.0/100 [00:37<02:14, 1.79s/B]"
     ]
    },
    {
     "name": "stdout",
     "output_type": "stream",
     "text": [
      "weights_max 1\n",
      "weights_min 0\n",
      "weights_max 2\n",
      "weights_min 1\n",
      "weights_max 2\n",
      "weights_min 1\n",
      "weights_max 2\n",
      "weights_min 1\n",
      "weights_max 3\n",
      "weights_min 2\n",
      "weights_max 1\n",
      "weights_min 0\n",
      "weights_max 2\n",
      "weights_min 1\n",
      "weights_max 2\n",
      "weights_min 1\n",
      "weights_max 2\n",
      "weights_min 1\n",
      "weights_max 2\n",
      "weights_min 2\n"
     ]
    },
    {
     "name": "stderr",
     "output_type": "stream",
     "text": [
      "running:  26%|█████████████▊                                       | 26.0/100 [00:39<02:14, 1.82s/B]"
     ]
    },
    {
     "name": "stdout",
     "output_type": "stream",
     "text": [
      "weights_max 1\n",
      "weights_min 0\n",
      "weights_max 2\n",
      "weights_min 1\n",
      "weights_max 2\n",
      "weights_min 1\n",
      "weights_max 2\n",
      "weights_min 1\n",
      "weights_max 3\n",
      "weights_min 2\n",
      "weights_max 1\n",
      "weights_min 0\n",
      "weights_max 2\n",
      "weights_min 1\n",
      "weights_max 2\n",
      "weights_min 1\n",
      "weights_max 2\n",
      "weights_min 1\n",
      "weights_max 3\n",
      "weights_min 2\n"
     ]
    },
    {
     "name": "stderr",
     "output_type": "stream",
     "text": [
      "running:  27%|██████████████▎                                      | 27.0/100 [00:40<02:14, 1.85s/B]"
     ]
    },
    {
     "name": "stdout",
     "output_type": "stream",
     "text": [
      "weights_max 1\n",
      "weights_min 0\n",
      "weights_max 2\n",
      "weights_min 1\n",
      "weights_max 2\n",
      "weights_min 1\n",
      "weights_max 2\n",
      "weights_min 1\n",
      "weights_max 3\n",
      "weights_min 2\n",
      "weights_max 1\n",
      "weights_min 0\n",
      "weights_max 2\n",
      "weights_min 1\n",
      "weights_max 2\n",
      "weights_min 1\n",
      "weights_max 2\n",
      "weights_min 1\n",
      "weights_max 3\n",
      "weights_min 2\n"
     ]
    },
    {
     "name": "stderr",
     "output_type": "stream",
     "text": [
      "running:  28%|██████████████▊                                      | 28.0/100 [00:42<02:14, 1.87s/B]"
     ]
    },
    {
     "name": "stdout",
     "output_type": "stream",
     "text": [
      "weights_max 1\n",
      "weights_min 0\n",
      "weights_max 2\n",
      "weights_min 1\n",
      "weights_max 2\n",
      "weights_min 1\n",
      "weights_max 2\n",
      "weights_min 1\n",
      "weights_max 3\n",
      "weights_min 2\n",
      "weights_max 1\n",
      "weights_min 0\n",
      "weights_max 2\n",
      "weights_min 1\n",
      "weights_max 2\n",
      "weights_min 1\n",
      "weights_max 2\n",
      "weights_min 1\n",
      "weights_max 3\n",
      "weights_min 2\n"
     ]
    },
    {
     "name": "stderr",
     "output_type": "stream",
     "text": [
      "running:  29%|███████████████▎                                     | 29.0/100 [00:45<02:18, 1.95s/B]"
     ]
    },
    {
     "name": "stdout",
     "output_type": "stream",
     "text": [
      "weights_max 1\n",
      "weights_min 0\n",
      "weights_max 2\n",
      "weights_min 1\n",
      "weights_max 2\n",
      "weights_min 1\n",
      "weights_max 2\n",
      "weights_min 1\n",
      "weights_max 3\n",
      "weights_min 2\n",
      "weights_max 1\n",
      "weights_min 0\n",
      "weights_max 2\n",
      "weights_min 1\n",
      "weights_max 2\n",
      "weights_min 1\n",
      "weights_max 2\n",
      "weights_min 1\n",
      "weights_max 3\n",
      "weights_min 2\n"
     ]
    },
    {
     "name": "stderr",
     "output_type": "stream",
     "text": [
      "running:  30%|███████████████▉                                     | 30.0/100 [00:46<02:16, 1.95s/B]"
     ]
    },
    {
     "name": "stdout",
     "output_type": "stream",
     "text": [
      "weights_max 1\n",
      "weights_min 0\n",
      "weights_max 2\n",
      "weights_min 1\n",
      "weights_max 2\n",
      "weights_min 1\n",
      "weights_max 2\n",
      "weights_min 1\n",
      "weights_max 3\n",
      "weights_min 2\n",
      "weights_max 1\n",
      "weights_min 0\n",
      "weights_max 2\n",
      "weights_min 1\n",
      "weights_max 2\n",
      "weights_min 1\n",
      "weights_max 2\n",
      "weights_min 1\n",
      "weights_max 2\n",
      "weights_min 2\n"
     ]
    },
    {
     "name": "stderr",
     "output_type": "stream",
     "text": [
      "running:  31%|████████████████▍                                    | 31.0/100 [00:48<02:15, 1.96s/B]"
     ]
    },
    {
     "name": "stdout",
     "output_type": "stream",
     "text": [
      "weights_max 1\n",
      "weights_min 0\n",
      "weights_max 2\n",
      "weights_min 1\n",
      "weights_max 2\n",
      "weights_min 1\n",
      "weights_max 2\n",
      "weights_min 1\n",
      "weights_max 3\n",
      "weights_min 2\n",
      "weights_max 1\n",
      "weights_min 0\n",
      "weights_max 2\n",
      "weights_min 1\n",
      "weights_max 2\n",
      "weights_min 1\n",
      "weights_max 2\n",
      "weights_min 1\n",
      "weights_max 3\n",
      "weights_min 2\n"
     ]
    },
    {
     "name": "stderr",
     "output_type": "stream",
     "text": [
      "running:  32%|████████████████▉                                    | 32.0/100 [00:50<02:13, 1.97s/B]"
     ]
    },
    {
     "name": "stdout",
     "output_type": "stream",
     "text": [
      "weights_max 1\n",
      "weights_min 0\n",
      "weights_max 2\n",
      "weights_min 1\n",
      "weights_max 2\n",
      "weights_min 1\n",
      "weights_max 2\n",
      "weights_min 1\n",
      "weights_max 2\n",
      "weights_min 2\n",
      "weights_max 1\n",
      "weights_min 0\n",
      "weights_max 2\n",
      "weights_min 1\n",
      "weights_max 2\n",
      "weights_min 1\n",
      "weights_max 2\n",
      "weights_min 1\n",
      "weights_max 3\n",
      "weights_min 2\n"
     ]
    },
    {
     "name": "stderr",
     "output_type": "stream",
     "text": [
      "running:  33%|█████████████████▍                                   | 33.0/100 [00:52<02:12, 1.98s/B]"
     ]
    },
    {
     "name": "stdout",
     "output_type": "stream",
     "text": [
      "weights_max 1\n",
      "weights_min 0\n",
      "weights_max 2\n",
      "weights_min 1\n",
      "weights_max 2\n",
      "weights_min 1\n",
      "weights_max 2\n",
      "weights_min 1\n",
      "weights_max 3\n",
      "weights_min 2\n",
      "weights_max 1\n",
      "weights_min 0\n",
      "weights_max 2\n",
      "weights_min 1\n",
      "weights_max 2\n",
      "weights_min 1\n",
      "weights_max 2\n",
      "weights_min 1\n",
      "weights_max 3\n",
      "weights_min 2\n"
     ]
    },
    {
     "name": "stderr",
     "output_type": "stream",
     "text": [
      "running:  34%|██████████████████                                   | 34.0/100 [00:54<02:11, 1.99s/B]"
     ]
    },
    {
     "name": "stdout",
     "output_type": "stream",
     "text": [
      "weights_max 1\n",
      "weights_min 0\n",
      "weights_max 2\n",
      "weights_min 1\n",
      "weights_max 2\n",
      "weights_min 1\n",
      "weights_max 2\n",
      "weights_min 1\n",
      "weights_max 2\n",
      "weights_min 2\n",
      "weights_max 1\n",
      "weights_min 0\n",
      "weights_max 2\n",
      "weights_min 1\n",
      "weights_max 2\n",
      "weights_min 1\n",
      "weights_max 2\n",
      "weights_min 1\n",
      "weights_max 3\n",
      "weights_min 2\n"
     ]
    },
    {
     "name": "stderr",
     "output_type": "stream",
     "text": [
      "running:  35%|██████████████████▌                                  | 35.0/100 [00:56<02:10, 2.00s/B]"
     ]
    },
    {
     "name": "stdout",
     "output_type": "stream",
     "text": [
      "weights_max 1\n",
      "weights_min 0\n",
      "weights_max 2\n",
      "weights_min 1\n",
      "weights_max 2\n",
      "weights_min 1\n",
      "weights_max 2\n",
      "weights_min 1\n",
      "weights_max 3\n",
      "weights_min 2\n",
      "weights_max 1\n",
      "weights_min 0\n",
      "weights_max 2\n",
      "weights_min 1\n",
      "weights_max 2\n",
      "weights_min 1\n",
      "weights_max 2\n",
      "weights_min 1\n",
      "weights_max 3\n",
      "weights_min 2\n"
     ]
    },
    {
     "name": "stderr",
     "output_type": "stream",
     "text": [
      "running:  36%|███████████████████                                  | 36.0/100 [00:59<02:08, 2.00s/B]"
     ]
    },
    {
     "name": "stdout",
     "output_type": "stream",
     "text": [
      "weights_max 1\n",
      "weights_min 0\n",
      "weights_max 2\n",
      "weights_min 1\n",
      "weights_max 2\n",
      "weights_min 1\n",
      "weights_max 2\n",
      "weights_min 1\n",
      "weights_max 3\n",
      "weights_min 2\n",
      "weights_max 1\n",
      "weights_min 0\n",
      "weights_max 2\n",
      "weights_min 1\n",
      "weights_max 2\n",
      "weights_min 1\n",
      "weights_max 2\n",
      "weights_min 1\n",
      "weights_max 2\n",
      "weights_min 2\n"
     ]
    },
    {
     "name": "stderr",
     "output_type": "stream",
     "text": [
      "running:  37%|███████████████████▌                                 | 37.0/100 [01:01<02:07, 2.02s/B]"
     ]
    },
    {
     "name": "stdout",
     "output_type": "stream",
     "text": [
      "weights_max 1\n",
      "weights_min 0\n",
      "weights_max 2\n",
      "weights_min 1\n",
      "weights_max 2\n",
      "weights_min 1\n",
      "weights_max 2\n",
      "weights_min 1\n",
      "weights_max 3\n",
      "weights_min 2\n",
      "weights_max 1\n",
      "weights_min 0\n",
      "weights_max 2\n",
      "weights_min 1\n",
      "weights_max 2\n",
      "weights_min 1\n",
      "weights_max 2\n",
      "weights_min 1\n",
      "weights_max 2\n",
      "weights_min 2\n"
     ]
    },
    {
     "name": "stderr",
     "output_type": "stream",
     "text": [
      "running:  38%|████████████████████▏                                | 38.0/100 [01:03<02:05, 2.03s/B]"
     ]
    },
    {
     "name": "stdout",
     "output_type": "stream",
     "text": [
      "weights_max 1\n",
      "weights_min 0\n",
      "weights_max 2\n",
      "weights_min 1\n",
      "weights_max 2\n",
      "weights_min 1\n",
      "weights_max 2\n",
      "weights_min 1\n",
      "weights_max 2\n",
      "weights_min 2\n",
      "weights_max 1\n",
      "weights_min 0\n",
      "weights_max 2\n",
      "weights_min 1\n",
      "weights_max 2\n",
      "weights_min 1\n",
      "weights_max 2\n",
      "weights_min 1\n",
      "weights_max 2\n",
      "weights_min 2\n"
     ]
    },
    {
     "name": "stderr",
     "output_type": "stream",
     "text": [
      "running:  39%|████████████████████▋                                | 39.0/100 [01:05<02:04, 2.04s/B]"
     ]
    },
    {
     "name": "stdout",
     "output_type": "stream",
     "text": [
      "weights_max 1\n",
      "weights_min 0\n",
      "weights_max 2\n",
      "weights_min 1\n",
      "weights_max 2\n",
      "weights_min 1\n",
      "weights_max 2\n",
      "weights_min 1\n",
      "weights_max 3\n",
      "weights_min 2\n",
      "weights_max 1\n",
      "weights_min 0\n",
      "weights_max 2\n",
      "weights_min 1\n",
      "weights_max 2\n",
      "weights_min 1\n",
      "weights_max 2\n",
      "weights_min 1\n",
      "weights_max 2\n",
      "weights_min 2\n"
     ]
    },
    {
     "name": "stderr",
     "output_type": "stream",
     "text": [
      "running:  40%|█████████████████████▏                               | 40.0/100 [01:07<02:03, 2.05s/B]"
     ]
    },
    {
     "name": "stdout",
     "output_type": "stream",
     "text": [
      "weights_max 1\n",
      "weights_min 0\n",
      "weights_max 2\n",
      "weights_min 1\n",
      "weights_max 2\n",
      "weights_min 1\n",
      "weights_max 2\n",
      "weights_min 1\n",
      "weights_max 3\n",
      "weights_min 2\n",
      "weights_max 1\n",
      "weights_min 0\n",
      "weights_max 2\n",
      "weights_min 1\n",
      "weights_max 2\n",
      "weights_min 1\n",
      "weights_max 2\n",
      "weights_min 1\n",
      "weights_max 2\n",
      "weights_min 2\n"
     ]
    },
    {
     "name": "stderr",
     "output_type": "stream",
     "text": [
      "running:  41%|█████████████████████▋                               | 41.0/100 [01:09<02:02, 2.08s/B]"
     ]
    },
    {
     "name": "stdout",
     "output_type": "stream",
     "text": [
      "weights_max 1\n",
      "weights_min 0\n",
      "weights_max 2\n",
      "weights_min 1\n",
      "weights_max 2\n",
      "weights_min 1\n",
      "weights_max 2\n",
      "weights_min 1\n",
      "weights_max 2\n",
      "weights_min 2\n",
      "weights_max 1\n",
      "weights_min 0\n",
      "weights_max 2\n",
      "weights_min 1\n",
      "weights_max 2\n",
      "weights_min 1\n",
      "weights_max 2\n",
      "weights_min 1\n",
      "weights_max 3\n",
      "weights_min 2\n"
     ]
    },
    {
     "name": "stderr",
     "output_type": "stream",
     "text": [
      "running:  42%|██████████████████████▎                              | 42.0/100 [01:11<02:00, 2.09s/B]"
     ]
    },
    {
     "name": "stdout",
     "output_type": "stream",
     "text": [
      "weights_max 1\n",
      "weights_min 0\n",
      "weights_max 2\n",
      "weights_min 1\n",
      "weights_max 2\n",
      "weights_min 1\n",
      "weights_max 2\n",
      "weights_min 1\n",
      "weights_max 3\n",
      "weights_min 2\n",
      "weights_max 1\n",
      "weights_min 0\n",
      "weights_max 2\n",
      "weights_min 1\n",
      "weights_max 2\n",
      "weights_min 1\n",
      "weights_max 2\n",
      "weights_min 1\n",
      "weights_max 2\n",
      "weights_min 2\n"
     ]
    },
    {
     "name": "stderr",
     "output_type": "stream",
     "text": [
      "running:  43%|██████████████████████▊                              | 43.0/100 [01:13<01:59, 2.10s/B]"
     ]
    },
    {
     "name": "stdout",
     "output_type": "stream",
     "text": [
      "weights_max 1\n",
      "weights_min 0\n",
      "weights_max 2\n",
      "weights_min 1\n",
      "weights_max 2\n",
      "weights_min 1\n",
      "weights_max 2\n",
      "weights_min 1\n",
      "weights_max 2\n",
      "weights_min 2\n",
      "weights_max 1\n",
      "weights_min 0\n",
      "weights_max 2\n",
      "weights_min 1\n",
      "weights_max 2\n",
      "weights_min 1\n",
      "weights_max 2\n",
      "weights_min 1\n",
      "weights_max 2\n",
      "weights_min 2\n"
     ]
    },
    {
     "name": "stderr",
     "output_type": "stream",
     "text": [
      "running:  44%|███████████████████████▎                             | 44.0/100 [01:15<01:57, 2.11s/B]"
     ]
    },
    {
     "name": "stdout",
     "output_type": "stream",
     "text": [
      "weights_max 1\n",
      "weights_min 0\n",
      "weights_max 2\n",
      "weights_min 1\n",
      "weights_max 2\n",
      "weights_min 1\n",
      "weights_max 2\n",
      "weights_min 1\n",
      "weights_max 2\n",
      "weights_min 2\n",
      "weights_max 1\n",
      "weights_min 0\n",
      "weights_max 2\n",
      "weights_min 1\n",
      "weights_max 2\n",
      "weights_min 1\n",
      "weights_max 2\n",
      "weights_min 1\n",
      "weights_max 2\n",
      "weights_min 2\n"
     ]
    },
    {
     "name": "stderr",
     "output_type": "stream",
     "text": [
      "running:  45%|███████████████████████▊                             | 45.0/100 [01:17<01:56, 2.12s/B]"
     ]
    },
    {
     "name": "stdout",
     "output_type": "stream",
     "text": [
      "weights_max 1\n",
      "weights_min 0\n",
      "weights_max 2\n",
      "weights_min 1\n",
      "weights_max 2\n",
      "weights_min 1\n",
      "weights_max 2\n",
      "weights_min 1\n",
      "weights_max 2\n",
      "weights_min 2\n",
      "weights_max 1\n",
      "weights_min 0\n",
      "weights_max 2\n",
      "weights_min 1\n",
      "weights_max 2\n",
      "weights_min 1\n",
      "weights_max 2\n",
      "weights_min 1\n",
      "weights_max 2\n",
      "weights_min 2\n"
     ]
    },
    {
     "name": "stderr",
     "output_type": "stream",
     "text": [
      "running:  46%|████████████████████████▍                            | 46.0/100 [01:20<01:54, 2.12s/B]"
     ]
    },
    {
     "name": "stdout",
     "output_type": "stream",
     "text": [
      "weights_max 1\n",
      "weights_min 0\n",
      "weights_max 2\n",
      "weights_min 1\n",
      "weights_max 2\n",
      "weights_min 1\n",
      "weights_max 2\n",
      "weights_min 1\n",
      "weights_max 2\n",
      "weights_min 2\n",
      "weights_max 1\n",
      "weights_min 0\n",
      "weights_max 2\n",
      "weights_min 1\n",
      "weights_max 2\n",
      "weights_min 1\n",
      "weights_max 2\n",
      "weights_min 1\n",
      "weights_max 2\n",
      "weights_min 2\n"
     ]
    },
    {
     "name": "stderr",
     "output_type": "stream",
     "text": [
      "running:  47%|████████████████████████▉                            | 47.0/100 [01:22<01:53, 2.14s/B]"
     ]
    },
    {
     "name": "stdout",
     "output_type": "stream",
     "text": [
      "weights_max 1\n",
      "weights_min 0\n",
      "weights_max 2\n",
      "weights_min 1\n",
      "weights_max 2\n",
      "weights_min 1\n",
      "weights_max 2\n",
      "weights_min 1\n",
      "weights_max 3\n",
      "weights_min 2\n",
      "weights_max 1\n",
      "weights_min 0\n",
      "weights_max 2\n",
      "weights_min 1\n",
      "weights_max 2\n",
      "weights_min 1\n",
      "weights_max 2\n",
      "weights_min 1\n",
      "weights_max 2\n",
      "weights_min 2\n"
     ]
    },
    {
     "name": "stderr",
     "output_type": "stream",
     "text": [
      "running:  48%|█████████████████████████▍                           | 48.0/100 [01:24<01:51, 2.14s/B]"
     ]
    },
    {
     "name": "stdout",
     "output_type": "stream",
     "text": [
      "weights_max 1\n",
      "weights_min 0\n",
      "weights_max 2\n",
      "weights_min 1\n",
      "weights_max 2\n",
      "weights_min 1\n",
      "weights_max 2\n",
      "weights_min 1\n",
      "weights_max 2\n",
      "weights_min 2\n",
      "weights_max 1\n",
      "weights_min 0\n",
      "weights_max 2\n",
      "weights_min 1\n",
      "weights_max 2\n",
      "weights_min 1\n",
      "weights_max 2\n",
      "weights_min 1\n",
      "weights_max 2\n",
      "weights_min 2\n"
     ]
    },
    {
     "name": "stderr",
     "output_type": "stream",
     "text": [
      "running:  49%|█████████████████████████▉                           | 49.0/100 [01:26<01:50, 2.16s/B]"
     ]
    },
    {
     "name": "stdout",
     "output_type": "stream",
     "text": [
      "weights_max 1\n",
      "weights_min 0\n",
      "weights_max 2\n",
      "weights_min 1\n",
      "weights_max 2\n",
      "weights_min 1\n",
      "weights_max 2\n",
      "weights_min 1\n",
      "weights_max 3\n",
      "weights_min 2\n",
      "weights_max 1\n",
      "weights_min 0\n",
      "weights_max 2\n",
      "weights_min 1\n",
      "weights_max 2\n",
      "weights_min 1\n",
      "weights_max 2\n",
      "weights_min 1\n",
      "weights_max 2\n",
      "weights_min 2\n"
     ]
    },
    {
     "name": "stderr",
     "output_type": "stream",
     "text": [
      "running:  50%|██████████████████████████▌                          | 50.0/100 [01:28<01:48, 2.16s/B]"
     ]
    },
    {
     "name": "stdout",
     "output_type": "stream",
     "text": [
      "weights_max 1\n",
      "weights_min 0\n",
      "weights_max 2\n",
      "weights_min 1\n",
      "weights_max 2\n",
      "weights_min 1\n",
      "weights_max 2\n",
      "weights_min 1\n",
      "weights_max 3\n",
      "weights_min 2\n",
      "weights_max 1\n",
      "weights_min 0\n",
      "weights_max 2\n",
      "weights_min 1\n",
      "weights_max 2\n",
      "weights_min 1\n",
      "weights_max 2\n",
      "weights_min 1\n",
      "weights_max 3\n",
      "weights_min 2\n"
     ]
    },
    {
     "name": "stderr",
     "output_type": "stream",
     "text": [
      "running:  51%|███████████████████████████                          | 51.0/100 [01:30<01:46, 2.17s/B]"
     ]
    },
    {
     "name": "stdout",
     "output_type": "stream",
     "text": [
      "weights_max 1\n",
      "weights_min 0\n",
      "weights_max 2\n",
      "weights_min 1\n",
      "weights_max 2\n",
      "weights_min 1\n",
      "weights_max 2\n",
      "weights_min 1\n",
      "weights_max 2\n",
      "weights_min 2\n",
      "weights_max 1\n",
      "weights_min 0\n",
      "weights_max 2\n",
      "weights_min 1\n",
      "weights_max 2\n",
      "weights_min 1\n",
      "weights_max 2\n",
      "weights_min 1\n",
      "weights_max 3\n",
      "weights_min 2\n"
     ]
    },
    {
     "name": "stderr",
     "output_type": "stream",
     "text": [
      "running:  52%|███████████████████████████▌                         | 52.0/100 [01:33<01:45, 2.19s/B]"
     ]
    },
    {
     "name": "stdout",
     "output_type": "stream",
     "text": [
      "weights_max 1\n",
      "weights_min 0\n",
      "weights_max 2\n",
      "weights_min 1\n",
      "weights_max 2\n",
      "weights_min 1\n",
      "weights_max 2\n",
      "weights_min 1\n",
      "weights_max 2\n",
      "weights_min 2\n",
      "weights_max 1\n",
      "weights_min 0\n",
      "weights_max 2\n",
      "weights_min 1\n",
      "weights_max 2\n",
      "weights_min 1\n",
      "weights_max 2\n",
      "weights_min 1\n",
      "weights_max 2\n",
      "weights_min 2\n"
     ]
    },
    {
     "name": "stderr",
     "output_type": "stream",
     "text": [
      "running:  53%|████████████████████████████                         | 53.0/100 [01:35<01:43, 2.19s/B]"
     ]
    },
    {
     "name": "stdout",
     "output_type": "stream",
     "text": [
      "weights_max 1\n",
      "weights_min 0\n",
      "weights_max 2\n",
      "weights_min 1\n",
      "weights_max 2\n",
      "weights_min 1\n",
      "weights_max 2\n",
      "weights_min 1\n",
      "weights_max 2\n",
      "weights_min 2\n",
      "weights_max 1\n",
      "weights_min 0\n",
      "weights_max 2\n",
      "weights_min 1\n",
      "weights_max 2\n",
      "weights_min 1\n",
      "weights_max 2\n",
      "weights_min 1\n",
      "weights_max 2\n",
      "weights_min 2\n"
     ]
    },
    {
     "name": "stderr",
     "output_type": "stream",
     "text": [
      "running:  54%|████████████████████████████▌                        | 54.0/100 [01:37<01:41, 2.21s/B]"
     ]
    },
    {
     "name": "stdout",
     "output_type": "stream",
     "text": [
      "weights_max 1\n",
      "weights_min 0\n",
      "weights_max 2\n",
      "weights_min 1\n",
      "weights_max 2\n",
      "weights_min 1\n",
      "weights_max 2\n",
      "weights_min 1\n",
      "weights_max 2\n",
      "weights_min 2\n",
      "weights_max 1\n",
      "weights_min 0\n",
      "weights_max 2\n",
      "weights_min 1\n",
      "weights_max 2\n",
      "weights_min 1\n",
      "weights_max 2\n",
      "weights_min 1\n",
      "weights_max 2\n",
      "weights_min 2\n"
     ]
    },
    {
     "name": "stderr",
     "output_type": "stream",
     "text": [
      "running:  55%|█████████████████████████████▏                       | 55.0/100 [01:39<01:39, 2.20s/B]"
     ]
    },
    {
     "name": "stdout",
     "output_type": "stream",
     "text": [
      "weights_max 1\n",
      "weights_min 0\n",
      "weights_max 2\n",
      "weights_min 1\n",
      "weights_max 2\n",
      "weights_min 1\n",
      "weights_max 2\n",
      "weights_min 1\n",
      "weights_max 2\n",
      "weights_min 2\n",
      "weights_max 1\n",
      "weights_min 0\n",
      "weights_max 2\n",
      "weights_min 1\n",
      "weights_max 2\n",
      "weights_min 1\n",
      "weights_max 2\n",
      "weights_min 1\n",
      "weights_max 3\n",
      "weights_min 2\n"
     ]
    },
    {
     "name": "stderr",
     "output_type": "stream",
     "text": [
      "running:  56%|█████████████████████████████▋                       | 56.0/100 [01:41<01:37, 2.21s/B]"
     ]
    },
    {
     "name": "stdout",
     "output_type": "stream",
     "text": [
      "weights_max 1\n",
      "weights_min 0\n",
      "weights_max 2\n",
      "weights_min 1\n",
      "weights_max 2\n",
      "weights_min 1\n",
      "weights_max 2\n",
      "weights_min 1\n",
      "weights_max 2\n",
      "weights_min 2\n",
      "weights_max 1\n",
      "weights_min 1\n",
      "weights_max 2\n",
      "weights_min 1\n",
      "weights_max 2\n",
      "weights_min 1\n",
      "weights_max 2\n",
      "weights_min 1\n",
      "weights_max 2\n",
      "weights_min 2\n"
     ]
    },
    {
     "name": "stderr",
     "output_type": "stream",
     "text": [
      "running:  57%|██████████████████████████████▏                      | 57.0/100 [01:44<01:35, 2.22s/B]"
     ]
    },
    {
     "name": "stdout",
     "output_type": "stream",
     "text": [
      "weights_max 1\n",
      "weights_min 0\n",
      "weights_max 2\n",
      "weights_min 1\n",
      "weights_max 2\n",
      "weights_min 1\n",
      "weights_max 2\n",
      "weights_min 1\n",
      "weights_max 2\n",
      "weights_min 2\n",
      "weights_max 1\n",
      "weights_min 0\n",
      "weights_max 2\n",
      "weights_min 1\n",
      "weights_max 2\n",
      "weights_min 1\n",
      "weights_max 2\n",
      "weights_min 1\n",
      "weights_max 2\n",
      "weights_min 2\n"
     ]
    },
    {
     "name": "stderr",
     "output_type": "stream",
     "text": [
      "running:  58%|██████████████████████████████▋                      | 58.0/100 [01:46<01:33, 2.22s/B]"
     ]
    },
    {
     "name": "stdout",
     "output_type": "stream",
     "text": [
      "weights_max 1\n",
      "weights_min 1\n",
      "weights_max 2\n",
      "weights_min 1\n",
      "weights_max 2\n",
      "weights_min 1\n",
      "weights_max 2\n",
      "weights_min 1\n",
      "weights_max 2\n",
      "weights_min 2\n",
      "weights_max 1\n",
      "weights_min 0\n",
      "weights_max 2\n",
      "weights_min 1\n",
      "weights_max 2\n",
      "weights_min 1\n",
      "weights_max 2\n",
      "weights_min 1\n",
      "weights_max 2\n",
      "weights_min 2\n"
     ]
    },
    {
     "name": "stderr",
     "output_type": "stream",
     "text": [
      "running:  59%|███████████████████████████████▎                     | 59.0/100 [01:48<01:31, 2.24s/B]"
     ]
    },
    {
     "name": "stdout",
     "output_type": "stream",
     "text": [
      "weights_max 1\n",
      "weights_min 0\n",
      "weights_max 2\n",
      "weights_min 1\n",
      "weights_max 2\n",
      "weights_min 1\n",
      "weights_max 2\n",
      "weights_min 1\n",
      "weights_max 2\n",
      "weights_min 2\n",
      "weights_max 1\n",
      "weights_min 0\n",
      "weights_max 2\n",
      "weights_min 1\n",
      "weights_max 2\n",
      "weights_min 1\n",
      "weights_max 2\n",
      "weights_min 1\n",
      "weights_max 3\n",
      "weights_min 2\n"
     ]
    },
    {
     "name": "stderr",
     "output_type": "stream",
     "text": [
      "running:  60%|███████████████████████████████▊                     | 60.0/100 [01:50<01:29, 2.24s/B]"
     ]
    },
    {
     "name": "stdout",
     "output_type": "stream",
     "text": [
      "weights_max 1\n",
      "weights_min 0\n",
      "weights_max 2\n",
      "weights_min 1\n",
      "weights_max 2\n",
      "weights_min 1\n",
      "weights_max 2\n",
      "weights_min 1\n",
      "weights_max 3\n",
      "weights_min 2\n",
      "weights_max 1\n",
      "weights_min 0\n",
      "weights_max 2\n",
      "weights_min 1\n",
      "weights_max 2\n",
      "weights_min 1\n",
      "weights_max 2\n",
      "weights_min 1\n",
      "weights_max 2\n",
      "weights_min 2\n"
     ]
    },
    {
     "name": "stderr",
     "output_type": "stream",
     "text": [
      "running:  61%|████████████████████████████████▎                    | 61.0/100 [01:53<01:27, 2.25s/B]"
     ]
    },
    {
     "name": "stdout",
     "output_type": "stream",
     "text": [
      "weights_max 1\n",
      "weights_min 0\n",
      "weights_max 2\n",
      "weights_min 1\n",
      "weights_max 2\n",
      "weights_min 1\n",
      "weights_max 2\n",
      "weights_min 1\n",
      "weights_max 2\n",
      "weights_min 2\n",
      "weights_max 1\n",
      "weights_min 0\n",
      "weights_max 2\n",
      "weights_min 1\n",
      "weights_max 2\n",
      "weights_min 1\n",
      "weights_max 2\n",
      "weights_min 1\n",
      "weights_max 2\n",
      "weights_min 2\n"
     ]
    },
    {
     "name": "stderr",
     "output_type": "stream",
     "text": [
      "running:  62%|████████████████████████████████▊                    | 62.0/100 [01:55<01:25, 2.26s/B]"
     ]
    },
    {
     "name": "stdout",
     "output_type": "stream",
     "text": [
      "weights_max 1\n",
      "weights_min 0\n",
      "weights_max 2\n",
      "weights_min 1\n",
      "weights_max 2\n",
      "weights_min 1\n",
      "weights_max 2\n",
      "weights_min 1\n",
      "weights_max 2\n",
      "weights_min 2\n",
      "weights_max 1\n",
      "weights_min 0\n",
      "weights_max 2\n",
      "weights_min 1\n",
      "weights_max 2\n",
      "weights_min 1\n",
      "weights_max 2\n",
      "weights_min 1\n",
      "weights_max 2\n",
      "weights_min 2\n"
     ]
    },
    {
     "name": "stderr",
     "output_type": "stream",
     "text": [
      "running:  63%|█████████████████████████████████▍                   | 63.0/100 [01:57<01:23, 2.26s/B]"
     ]
    },
    {
     "name": "stdout",
     "output_type": "stream",
     "text": [
      "weights_max 1\n",
      "weights_min 0\n",
      "weights_max 2\n",
      "weights_min 1\n",
      "weights_max 2\n",
      "weights_min 1\n",
      "weights_max 2\n",
      "weights_min 1\n",
      "weights_max 2\n",
      "weights_min 2\n",
      "weights_max 1\n",
      "weights_min 0\n",
      "weights_max 2\n",
      "weights_min 1\n",
      "weights_max 2\n",
      "weights_min 1\n",
      "weights_max 2\n",
      "weights_min 1\n",
      "weights_max 3\n",
      "weights_min 2\n"
     ]
    },
    {
     "name": "stderr",
     "output_type": "stream",
     "text": [
      "running:  64%|█████████████████████████████████▉                   | 64.0/100 [02:00<01:21, 2.27s/B]"
     ]
    },
    {
     "name": "stdout",
     "output_type": "stream",
     "text": [
      "weights_max 1\n",
      "weights_min 0\n",
      "weights_max 2\n",
      "weights_min 1\n",
      "weights_max 2\n",
      "weights_min 1\n",
      "weights_max 2\n",
      "weights_min 1\n",
      "weights_max 2\n",
      "weights_min 2\n",
      "weights_max 1\n",
      "weights_min 0\n",
      "weights_max 2\n",
      "weights_min 1\n",
      "weights_max 2\n",
      "weights_min 1\n",
      "weights_max 2\n",
      "weights_min 1\n",
      "weights_max 2\n",
      "weights_min 2\n"
     ]
    },
    {
     "name": "stderr",
     "output_type": "stream",
     "text": [
      "running:  65%|██████████████████████████████████▍                  | 65.0/100 [02:02<01:19, 2.28s/B]"
     ]
    },
    {
     "name": "stdout",
     "output_type": "stream",
     "text": [
      "weights_max 1\n",
      "weights_min 0\n",
      "weights_max 2\n",
      "weights_min 1\n",
      "weights_max 2\n",
      "weights_min 1\n",
      "weights_max 2\n",
      "weights_min 1\n",
      "weights_max 2\n",
      "weights_min 2\n",
      "weights_max 1\n",
      "weights_min 1\n",
      "weights_max 2\n",
      "weights_min 1\n",
      "weights_max 2\n",
      "weights_min 1\n",
      "weights_max 2\n",
      "weights_min 1\n",
      "weights_max 2\n",
      "weights_min 2\n"
     ]
    },
    {
     "name": "stderr",
     "output_type": "stream",
     "text": [
      "running:  66%|██████████████████████████████████▉                  | 66.0/100 [02:04<01:17, 2.29s/B]"
     ]
    },
    {
     "name": "stdout",
     "output_type": "stream",
     "text": [
      "weights_max 1\n",
      "weights_min 0\n",
      "weights_max 2\n",
      "weights_min 1\n",
      "weights_max 2\n",
      "weights_min 1\n",
      "weights_max 2\n",
      "weights_min 1\n",
      "weights_max 2\n",
      "weights_min 2\n",
      "weights_max 1\n",
      "weights_min 1\n",
      "weights_max 2\n",
      "weights_min 1\n",
      "weights_max 2\n",
      "weights_min 1\n",
      "weights_max 2\n",
      "weights_min 1\n",
      "weights_max 2\n",
      "weights_min 2\n"
     ]
    },
    {
     "name": "stderr",
     "output_type": "stream",
     "text": [
      "running:  67%|███████████████████████████████████▌                 | 67.0/100 [02:07<01:15, 2.30s/B]"
     ]
    },
    {
     "name": "stdout",
     "output_type": "stream",
     "text": [
      "weights_max 1\n",
      "weights_min 1\n",
      "weights_max 2\n",
      "weights_min 1\n",
      "weights_max 2\n",
      "weights_min 1\n",
      "weights_max 2\n",
      "weights_min 1\n",
      "weights_max 3\n",
      "weights_min 2\n",
      "weights_max 1\n",
      "weights_min 1\n",
      "weights_max 2\n",
      "weights_min 1\n",
      "weights_max 2\n",
      "weights_min 1\n",
      "weights_max 2\n",
      "weights_min 1\n",
      "weights_max 2\n",
      "weights_min 2\n"
     ]
    },
    {
     "name": "stderr",
     "output_type": "stream",
     "text": [
      "running:  68%|████████████████████████████████████                 | 68.0/100 [02:09<01:13, 2.30s/B]"
     ]
    },
    {
     "name": "stdout",
     "output_type": "stream",
     "text": [
      "weights_max 1\n",
      "weights_min 1\n",
      "weights_max 2\n",
      "weights_min 1\n",
      "weights_max 2\n",
      "weights_min 1\n",
      "weights_max 2\n",
      "weights_min 1\n",
      "weights_max 2\n",
      "weights_min 2\n",
      "weights_max 1\n",
      "weights_min 0\n",
      "weights_max 2\n",
      "weights_min 1\n",
      "weights_max 2\n",
      "weights_min 1\n",
      "weights_max 2\n",
      "weights_min 1\n",
      "weights_max 2\n",
      "weights_min 2\n"
     ]
    },
    {
     "name": "stderr",
     "output_type": "stream",
     "text": [
      "running:  69%|████████████████████████████████████▌                | 69.0/100 [02:11<01:11, 2.31s/B]"
     ]
    },
    {
     "name": "stdout",
     "output_type": "stream",
     "text": [
      "weights_max 1\n",
      "weights_min 0\n",
      "weights_max 2\n",
      "weights_min 1\n",
      "weights_max 2\n",
      "weights_min 1\n",
      "weights_max 2\n",
      "weights_min 1\n",
      "weights_max 2\n",
      "weights_min 2\n",
      "weights_max 1\n",
      "weights_min 0\n",
      "weights_max 2\n",
      "weights_min 1\n",
      "weights_max 2\n",
      "weights_min 1\n",
      "weights_max 2\n",
      "weights_min 1\n",
      "weights_max 2\n",
      "weights_min 2\n"
     ]
    },
    {
     "name": "stderr",
     "output_type": "stream",
     "text": [
      "running:  70%|█████████████████████████████████████                | 70.0/100 [02:13<01:08, 2.30s/B]"
     ]
    },
    {
     "name": "stdout",
     "output_type": "stream",
     "text": [
      "weights_max 1\n",
      "weights_min 0\n",
      "weights_max 2\n",
      "weights_min 1\n",
      "weights_max 2\n",
      "weights_min 1\n",
      "weights_max 2\n",
      "weights_min 1\n",
      "weights_max 2\n",
      "weights_min 2\n",
      "weights_max 1\n",
      "weights_min 0\n",
      "weights_max 2\n",
      "weights_min 1\n",
      "weights_max 2\n",
      "weights_min 1\n",
      "weights_max 2\n",
      "weights_min 1\n",
      "weights_max 2\n",
      "weights_min 2\n"
     ]
    },
    {
     "name": "stderr",
     "output_type": "stream",
     "text": [
      "running:  71%|█████████████████████████████████████▋               | 71.0/100 [02:16<01:06, 2.31s/B]"
     ]
    },
    {
     "name": "stdout",
     "output_type": "stream",
     "text": [
      "weights_max 1\n",
      "weights_min 0\n",
      "weights_max 2\n",
      "weights_min 1\n",
      "weights_max 2\n",
      "weights_min 1\n",
      "weights_max 2\n",
      "weights_min 1\n",
      "weights_max 2\n",
      "weights_min 2\n",
      "weights_max 1\n",
      "weights_min 0\n",
      "weights_max 2\n",
      "weights_min 1\n",
      "weights_max 2\n",
      "weights_min 1\n",
      "weights_max 2\n",
      "weights_min 1\n",
      "weights_max 2\n",
      "weights_min 2\n"
     ]
    },
    {
     "name": "stderr",
     "output_type": "stream",
     "text": [
      "running:  72%|██████████████████████████████████████▏              | 72.0/100 [02:18<01:04, 2.31s/B]"
     ]
    },
    {
     "name": "stdout",
     "output_type": "stream",
     "text": [
      "weights_max 1\n",
      "weights_min 0\n",
      "weights_max 2\n",
      "weights_min 1\n",
      "weights_max 2\n",
      "weights_min 1\n",
      "weights_max 2\n",
      "weights_min 1\n",
      "weights_max 2\n",
      "weights_min 2\n",
      "weights_max 1\n",
      "weights_min 0\n",
      "weights_max 2\n",
      "weights_min 1\n",
      "weights_max 2\n",
      "weights_min 1\n",
      "weights_max 2\n",
      "weights_min 1\n",
      "weights_max 2\n",
      "weights_min 2\n"
     ]
    },
    {
     "name": "stderr",
     "output_type": "stream",
     "text": [
      "running:  73%|██████████████████████████████████████▋              | 73.0/100 [02:20<01:02, 2.31s/B]"
     ]
    },
    {
     "name": "stdout",
     "output_type": "stream",
     "text": [
      "weights_max 1\n",
      "weights_min 0\n",
      "weights_max 2\n",
      "weights_min 1\n",
      "weights_max 2\n",
      "weights_min 1\n",
      "weights_max 2\n",
      "weights_min 1\n",
      "weights_max 2\n",
      "weights_min 2\n",
      "weights_max 1\n",
      "weights_min 1\n",
      "weights_max 2\n",
      "weights_min 1\n",
      "weights_max 2\n",
      "weights_min 1\n",
      "weights_max 2\n",
      "weights_min 1\n",
      "weights_max 2\n",
      "weights_min 2\n"
     ]
    },
    {
     "name": "stderr",
     "output_type": "stream",
     "text": [
      "running:  74%|███████████████████████████████████████▏             | 74.0/100 [02:23<00:59, 2.30s/B]"
     ]
    },
    {
     "name": "stdout",
     "output_type": "stream",
     "text": [
      "weights_max 1\n",
      "weights_min 0\n",
      "weights_max 2\n",
      "weights_min 1\n",
      "weights_max 2\n",
      "weights_min 1\n",
      "weights_max 2\n",
      "weights_min 1\n",
      "weights_max 2\n",
      "weights_min 2\n",
      "weights_max 1\n",
      "weights_min 0\n",
      "weights_max 2\n",
      "weights_min 1\n",
      "weights_max 2\n",
      "weights_min 1\n",
      "weights_max 2\n",
      "weights_min 1\n",
      "weights_max 2\n",
      "weights_min 2\n"
     ]
    },
    {
     "name": "stderr",
     "output_type": "stream",
     "text": [
      "running:  75%|███████████████████████████████████████▊             | 75.0/100 [02:25<00:57, 2.31s/B]"
     ]
    },
    {
     "name": "stdout",
     "output_type": "stream",
     "text": [
      "weights_max 1\n",
      "weights_min 1\n",
      "weights_max 2\n",
      "weights_min 1\n",
      "weights_max 2\n",
      "weights_min 1\n",
      "weights_max 2\n",
      "weights_min 1\n",
      "weights_max 2\n",
      "weights_min 2\n",
      "weights_max 1\n",
      "weights_min 1\n",
      "weights_max 2\n",
      "weights_min 1\n",
      "weights_max 2\n",
      "weights_min 1\n",
      "weights_max 2\n",
      "weights_min 1\n",
      "weights_max 2\n",
      "weights_min 2\n"
     ]
    },
    {
     "name": "stderr",
     "output_type": "stream",
     "text": [
      "running:  76%|████████████████████████████████████████▎            | 76.0/100 [02:27<00:55, 2.31s/B]"
     ]
    },
    {
     "name": "stdout",
     "output_type": "stream",
     "text": [
      "weights_max 1\n",
      "weights_min 0\n",
      "weights_max 2\n",
      "weights_min 1\n",
      "weights_max 2\n",
      "weights_min 1\n",
      "weights_max 2\n",
      "weights_min 1\n",
      "weights_max 2\n",
      "weights_min 2\n",
      "weights_max 1\n",
      "weights_min 1\n",
      "weights_max 2\n",
      "weights_min 1\n",
      "weights_max 2\n",
      "weights_min 1\n",
      "weights_max 2\n",
      "weights_min 1\n",
      "weights_max 2\n",
      "weights_min 2\n"
     ]
    },
    {
     "name": "stderr",
     "output_type": "stream",
     "text": [
      "running:  77%|████████████████████████████████████████▊            | 77.0/100 [02:30<00:53, 2.31s/B]"
     ]
    },
    {
     "name": "stdout",
     "output_type": "stream",
     "text": [
      "weights_max 1\n",
      "weights_min 1\n",
      "weights_max 2\n",
      "weights_min 1\n",
      "weights_max 2\n",
      "weights_min 1\n",
      "weights_max 2\n",
      "weights_min 1\n",
      "weights_max 2\n",
      "weights_min 2\n",
      "weights_max 1\n",
      "weights_min 0\n",
      "weights_max 2\n",
      "weights_min 1\n",
      "weights_max 2\n",
      "weights_min 1\n",
      "weights_max 2\n",
      "weights_min 1\n",
      "weights_max 2\n",
      "weights_min 2\n"
     ]
    },
    {
     "name": "stderr",
     "output_type": "stream",
     "text": [
      "running:  78%|█████████████████████████████████████████▎           | 78.0/100 [02:32<00:51, 2.32s/B]"
     ]
    },
    {
     "name": "stdout",
     "output_type": "stream",
     "text": [
      "weights_max 1\n",
      "weights_min 1\n",
      "weights_max 2\n",
      "weights_min 1\n",
      "weights_max 2\n",
      "weights_min 1\n",
      "weights_max 2\n",
      "weights_min 1\n",
      "weights_max 2\n",
      "weights_min 2\n",
      "weights_max 1\n",
      "weights_min 1\n",
      "weights_max 2\n",
      "weights_min 1\n",
      "weights_max 2\n",
      "weights_min 1\n",
      "weights_max 2\n",
      "weights_min 1\n",
      "weights_max 2\n",
      "weights_min 2\n"
     ]
    },
    {
     "name": "stderr",
     "output_type": "stream",
     "text": [
      "running:  79%|█████████████████████████████████████████▊           | 79.0/100 [02:34<00:48, 2.31s/B]"
     ]
    },
    {
     "name": "stdout",
     "output_type": "stream",
     "text": [
      "weights_max 1\n",
      "weights_min 0\n",
      "weights_max 2\n",
      "weights_min 1\n",
      "weights_max 2\n",
      "weights_min 1\n",
      "weights_max 2\n",
      "weights_min 1\n",
      "weights_max 2\n",
      "weights_min 2\n",
      "weights_max 1\n",
      "weights_min 1\n",
      "weights_max 2\n",
      "weights_min 1\n",
      "weights_max 2\n",
      "weights_min 1\n",
      "weights_max 2\n",
      "weights_min 1\n",
      "weights_max 2\n",
      "weights_min 2\n"
     ]
    },
    {
     "name": "stderr",
     "output_type": "stream",
     "text": [
      "running:  80%|██████████████████████████████████████████▍          | 80.0/100 [02:37<00:46, 2.31s/B]"
     ]
    },
    {
     "name": "stdout",
     "output_type": "stream",
     "text": [
      "weights_max 1\n",
      "weights_min 0\n",
      "weights_max 2\n",
      "weights_min 1\n",
      "weights_max 2\n",
      "weights_min 1\n",
      "weights_max 2\n",
      "weights_min 1\n",
      "weights_max 2\n",
      "weights_min 2\n",
      "weights_max 1\n",
      "weights_min 0\n",
      "weights_max 2\n",
      "weights_min 1\n",
      "weights_max 2\n",
      "weights_min 1\n",
      "weights_max 2\n",
      "weights_min 1\n",
      "weights_max 2\n",
      "weights_min 2\n"
     ]
    },
    {
     "name": "stderr",
     "output_type": "stream",
     "text": [
      "running:  81%|██████████████████████████████████████████▉          | 81.0/100 [02:39<00:44, 2.33s/B]"
     ]
    },
    {
     "name": "stdout",
     "output_type": "stream",
     "text": [
      "weights_max 1\n",
      "weights_min 1\n",
      "weights_max 2\n",
      "weights_min 1\n",
      "weights_max 2\n",
      "weights_min 1\n",
      "weights_max 2\n",
      "weights_min 1\n",
      "weights_max 2\n",
      "weights_min 2\n",
      "weights_max 1\n",
      "weights_min 0\n",
      "weights_max 2\n",
      "weights_min 1\n",
      "weights_max 2\n",
      "weights_min 1\n",
      "weights_max 2\n",
      "weights_min 1\n",
      "weights_max 2\n",
      "weights_min 2\n"
     ]
    },
    {
     "name": "stderr",
     "output_type": "stream",
     "text": [
      "running:  82%|███████████████████████████████████████████▍         | 82.0/100 [02:41<00:42, 2.33s/B]"
     ]
    },
    {
     "name": "stdout",
     "output_type": "stream",
     "text": [
      "weights_max 1\n",
      "weights_min 1\n",
      "weights_max 2\n",
      "weights_min 1\n",
      "weights_max 2\n",
      "weights_min 1\n",
      "weights_max 2\n",
      "weights_min 1\n",
      "weights_max 2\n",
      "weights_min 2\n",
      "weights_max 1\n",
      "weights_min 1\n",
      "weights_max 2\n",
      "weights_min 1\n",
      "weights_max 2\n",
      "weights_min 1\n",
      "weights_max 2\n",
      "weights_min 1\n",
      "weights_max 3\n",
      "weights_min 2\n"
     ]
    },
    {
     "name": "stderr",
     "output_type": "stream",
     "text": [
      "running:  83%|███████████████████████████████████████████▉         | 83.0/100 [02:44<00:39, 2.34s/B]"
     ]
    },
    {
     "name": "stdout",
     "output_type": "stream",
     "text": [
      "weights_max 1\n",
      "weights_min 0\n",
      "weights_max 2\n",
      "weights_min 1\n",
      "weights_max 2\n",
      "weights_min 1\n",
      "weights_max 2\n",
      "weights_min 1\n",
      "weights_max 2\n",
      "weights_min 2\n",
      "weights_max 1\n",
      "weights_min 1\n",
      "weights_max 2\n",
      "weights_min 1\n",
      "weights_max 2\n",
      "weights_min 1\n",
      "weights_max 2\n",
      "weights_min 1\n",
      "weights_max 2\n",
      "weights_min 2\n"
     ]
    },
    {
     "name": "stderr",
     "output_type": "stream",
     "text": [
      "running:  84%|████████████████████████████████████████████▌        | 84.0/100 [02:46<00:37, 2.35s/B]"
     ]
    },
    {
     "name": "stdout",
     "output_type": "stream",
     "text": [
      "weights_max 1\n",
      "weights_min 0\n",
      "weights_max 2\n",
      "weights_min 1\n",
      "weights_max 2\n",
      "weights_min 1\n",
      "weights_max 2\n",
      "weights_min 1\n",
      "weights_max 2\n",
      "weights_min 2\n",
      "weights_max 1\n",
      "weights_min 1\n",
      "weights_max 2\n",
      "weights_min 1\n",
      "weights_max 2\n",
      "weights_min 1\n",
      "weights_max 2\n",
      "weights_min 1\n",
      "weights_max 2\n",
      "weights_min 2\n"
     ]
    },
    {
     "name": "stderr",
     "output_type": "stream",
     "text": [
      "running:  85%|█████████████████████████████████████████████        | 85.0/100 [02:48<00:35, 2.35s/B]"
     ]
    },
    {
     "name": "stdout",
     "output_type": "stream",
     "text": [
      "weights_max 1\n",
      "weights_min 0\n",
      "weights_max 2\n",
      "weights_min 1\n",
      "weights_max 2\n",
      "weights_min 1\n",
      "weights_max 2\n",
      "weights_min 1\n",
      "weights_max 2\n",
      "weights_min 2\n",
      "weights_max 1\n",
      "weights_min 1\n",
      "weights_max 2\n",
      "weights_min 1\n",
      "weights_max 2\n",
      "weights_min 1\n",
      "weights_max 2\n",
      "weights_min 1\n",
      "weights_max 2\n",
      "weights_min 2\n"
     ]
    },
    {
     "name": "stderr",
     "output_type": "stream",
     "text": [
      "running:  86%|█████████████████████████████████████████████▌       | 86.0/100 [02:51<00:32, 2.35s/B]"
     ]
    },
    {
     "name": "stdout",
     "output_type": "stream",
     "text": [
      "weights_max 1\n",
      "weights_min 0\n",
      "weights_max 2\n",
      "weights_min 1\n",
      "weights_max 2\n",
      "weights_min 1\n",
      "weights_max 2\n",
      "weights_min 1\n",
      "weights_max 2\n",
      "weights_min 2\n",
      "weights_max 1\n",
      "weights_min 1\n",
      "weights_max 2\n",
      "weights_min 1\n",
      "weights_max 2\n",
      "weights_min 1\n",
      "weights_max 2\n",
      "weights_min 1\n",
      "weights_max 3\n",
      "weights_min 2\n"
     ]
    },
    {
     "name": "stderr",
     "output_type": "stream",
     "text": [
      "running:  87%|██████████████████████████████████████████████       | 87.0/100 [02:53<00:30, 2.35s/B]"
     ]
    },
    {
     "name": "stdout",
     "output_type": "stream",
     "text": [
      "weights_max 1\n",
      "weights_min 1\n",
      "weights_max 2\n",
      "weights_min 1\n",
      "weights_max 2\n",
      "weights_min 1\n",
      "weights_max 2\n",
      "weights_min 1\n",
      "weights_max 2\n",
      "weights_min 2\n",
      "weights_max 1\n",
      "weights_min 0\n",
      "weights_max 2\n",
      "weights_min 1\n",
      "weights_max 2\n",
      "weights_min 1\n",
      "weights_max 2\n",
      "weights_min 1\n",
      "weights_max 2\n",
      "weights_min 2\n"
     ]
    },
    {
     "name": "stderr",
     "output_type": "stream",
     "text": [
      "running:  88%|██████████████████████████████████████████████▋      | 88.0/100 [02:55<00:28, 2.35s/B]"
     ]
    },
    {
     "name": "stdout",
     "output_type": "stream",
     "text": [
      "weights_max 1\n",
      "weights_min 1\n",
      "weights_max 2\n",
      "weights_min 1\n",
      "weights_max 2\n",
      "weights_min 1\n",
      "weights_max 2\n",
      "weights_min 1\n",
      "weights_max 2\n",
      "weights_min 2\n",
      "weights_max 1\n",
      "weights_min 1\n",
      "weights_max 2\n",
      "weights_min 1\n",
      "weights_max 2\n",
      "weights_min 1\n",
      "weights_max 2\n",
      "weights_min 1\n",
      "weights_max 2\n",
      "weights_min 2\n"
     ]
    },
    {
     "name": "stderr",
     "output_type": "stream",
     "text": [
      "running:  89%|███████████████████████████████████████████████▏     | 89.0/100 [02:58<00:25, 2.35s/B]"
     ]
    },
    {
     "name": "stdout",
     "output_type": "stream",
     "text": [
      "weights_max 1\n",
      "weights_min 0\n",
      "weights_max 2\n",
      "weights_min 1\n",
      "weights_max 2\n",
      "weights_min 1\n",
      "weights_max 2\n",
      "weights_min 1\n",
      "weights_max 2\n",
      "weights_min 2\n",
      "weights_max 1\n",
      "weights_min 1\n",
      "weights_max 2\n",
      "weights_min 1\n",
      "weights_max 2\n",
      "weights_min 1\n",
      "weights_max 2\n",
      "weights_min 1\n",
      "weights_max 2\n",
      "weights_min 2\n"
     ]
    },
    {
     "name": "stderr",
     "output_type": "stream",
     "text": [
      "running:  90%|███████████████████████████████████████████████▋     | 90.0/100 [03:00<00:23, 2.36s/B]"
     ]
    },
    {
     "name": "stdout",
     "output_type": "stream",
     "text": [
      "weights_max 1\n",
      "weights_min 1\n",
      "weights_max 2\n",
      "weights_min 1\n",
      "weights_max 2\n",
      "weights_min 1\n",
      "weights_max 2\n",
      "weights_min 1\n",
      "weights_max 2\n",
      "weights_min 2\n",
      "weights_max 1\n",
      "weights_min 1\n",
      "weights_max 2\n",
      "weights_min 1\n",
      "weights_max 2\n",
      "weights_min 1\n",
      "weights_max 2\n",
      "weights_min 1\n",
      "weights_max 2\n",
      "weights_min 2\n"
     ]
    },
    {
     "name": "stderr",
     "output_type": "stream",
     "text": [
      "running:  91%|████████████████████████████████████████████████▏    | 91.0/100 [03:02<00:21, 2.36s/B]"
     ]
    },
    {
     "name": "stdout",
     "output_type": "stream",
     "text": [
      "weights_max 1\n",
      "weights_min 1\n",
      "weights_max 2\n",
      "weights_min 1\n",
      "weights_max 2\n",
      "weights_min 1\n",
      "weights_max 2\n",
      "weights_min 1\n",
      "weights_max 2\n",
      "weights_min 2\n",
      "weights_max 1\n",
      "weights_min 1\n",
      "weights_max 2\n",
      "weights_min 1\n",
      "weights_max 2\n",
      "weights_min 1\n",
      "weights_max 2\n",
      "weights_min 1\n",
      "weights_max 2\n",
      "weights_min 2\n"
     ]
    },
    {
     "name": "stderr",
     "output_type": "stream",
     "text": [
      "running:  92%|████████████████████████████████████████████████▊    | 92.0/100 [03:05<00:18, 2.37s/B]"
     ]
    },
    {
     "name": "stdout",
     "output_type": "stream",
     "text": [
      "weights_max 1\n",
      "weights_min 0\n",
      "weights_max 2\n",
      "weights_min 1\n",
      "weights_max 2\n",
      "weights_min 1\n",
      "weights_max 2\n",
      "weights_min 1\n",
      "weights_max 2\n",
      "weights_min 2\n",
      "weights_max 1\n",
      "weights_min 1\n",
      "weights_max 2\n",
      "weights_min 1\n",
      "weights_max 2\n",
      "weights_min 1\n",
      "weights_max 2\n",
      "weights_min 1\n",
      "weights_max 2\n",
      "weights_min 2\n"
     ]
    },
    {
     "name": "stderr",
     "output_type": "stream",
     "text": [
      "running:  93%|█████████████████████████████████████████████████▎   | 93.0/100 [03:07<00:16, 2.38s/B]"
     ]
    },
    {
     "name": "stdout",
     "output_type": "stream",
     "text": [
      "weights_max 1\n",
      "weights_min 1\n",
      "weights_max 2\n",
      "weights_min 1\n",
      "weights_max 2\n",
      "weights_min 1\n",
      "weights_max 2\n",
      "weights_min 1\n",
      "weights_max 2\n",
      "weights_min 2\n",
      "weights_max 1\n",
      "weights_min 1\n",
      "weights_max 2\n",
      "weights_min 1\n",
      "weights_max 2\n",
      "weights_min 1\n",
      "weights_max 2\n",
      "weights_min 1\n",
      "weights_max 2\n",
      "weights_min 2\n"
     ]
    },
    {
     "name": "stderr",
     "output_type": "stream",
     "text": [
      "running:  94%|█████████████████████████████████████████████████▊   | 94.0/100 [03:10<00:14, 2.38s/B]"
     ]
    },
    {
     "name": "stdout",
     "output_type": "stream",
     "text": [
      "weights_max 1\n",
      "weights_min 1\n",
      "weights_max 2\n",
      "weights_min 1\n",
      "weights_max 2\n",
      "weights_min 1\n",
      "weights_max 2\n",
      "weights_min 1\n",
      "weights_max 2\n",
      "weights_min 2\n",
      "weights_max 1\n",
      "weights_min 0\n",
      "weights_max 2\n",
      "weights_min 1\n",
      "weights_max 2\n",
      "weights_min 1\n",
      "weights_max 2\n",
      "weights_min 1\n",
      "weights_max 2\n",
      "weights_min 2\n"
     ]
    },
    {
     "name": "stderr",
     "output_type": "stream",
     "text": [
      "running:  95%|██████████████████████████████████████████████████▎  | 95.0/100 [03:12<00:11, 2.38s/B]"
     ]
    },
    {
     "name": "stdout",
     "output_type": "stream",
     "text": [
      "weights_max 1\n",
      "weights_min 1\n",
      "weights_max 2\n",
      "weights_min 1\n",
      "weights_max 2\n",
      "weights_min 1\n",
      "weights_max 2\n",
      "weights_min 1\n",
      "weights_max 2\n",
      "weights_min 2\n",
      "weights_max 1\n",
      "weights_min 1\n",
      "weights_max 2\n",
      "weights_min 1\n",
      "weights_max 2\n",
      "weights_min 1\n",
      "weights_max 2\n",
      "weights_min 1\n",
      "weights_max 2\n",
      "weights_min 2\n"
     ]
    },
    {
     "name": "stderr",
     "output_type": "stream",
     "text": [
      "running:  96%|██████████████████████████████████████████████████▉  | 96.0/100 [03:14<00:09, 2.39s/B]"
     ]
    },
    {
     "name": "stdout",
     "output_type": "stream",
     "text": [
      "weights_max 1\n",
      "weights_min 0\n",
      "weights_max 2\n",
      "weights_min 1\n",
      "weights_max 2\n",
      "weights_min 1\n",
      "weights_max 2\n",
      "weights_min 1\n",
      "weights_max 2\n",
      "weights_min 2\n",
      "weights_max 1\n",
      "weights_min 1\n",
      "weights_max 2\n",
      "weights_min 1\n",
      "weights_max 2\n",
      "weights_min 1\n",
      "weights_max 2\n",
      "weights_min 1\n",
      "weights_max 2\n",
      "weights_min 2\n"
     ]
    },
    {
     "name": "stderr",
     "output_type": "stream",
     "text": [
      "running:  97%|███████████████████████████████████████████████████▍ | 97.0/100 [03:17<00:07, 2.39s/B]"
     ]
    },
    {
     "name": "stdout",
     "output_type": "stream",
     "text": [
      "weights_max 1\n",
      "weights_min 1\n",
      "weights_max 2\n",
      "weights_min 1\n",
      "weights_max 2\n",
      "weights_min 1\n",
      "weights_max 2\n",
      "weights_min 1\n",
      "weights_max 2\n",
      "weights_min 2\n",
      "weights_max 1\n",
      "weights_min 1\n",
      "weights_max 2\n",
      "weights_min 1\n",
      "weights_max 2\n",
      "weights_min 1\n",
      "weights_max 2\n",
      "weights_min 1\n",
      "weights_max 2\n",
      "weights_min 2\n"
     ]
    },
    {
     "name": "stderr",
     "output_type": "stream",
     "text": [
      "running:  98%|███████████████████████████████████████████████████▉ | 98.0/100 [03:19<00:04, 2.39s/B]"
     ]
    },
    {
     "name": "stdout",
     "output_type": "stream",
     "text": [
      "weights_max 1\n",
      "weights_min 1\n",
      "weights_max 2\n",
      "weights_min 1\n",
      "weights_max 2\n",
      "weights_min 1\n",
      "weights_max 2\n",
      "weights_min 1\n",
      "weights_max 2\n",
      "weights_min 2\n",
      "weights_max 1\n",
      "weights_min 1\n",
      "weights_max 2\n",
      "weights_min 1\n",
      "weights_max 2\n",
      "weights_min 1\n",
      "weights_max 2\n",
      "weights_min 1\n",
      "weights_max 2\n",
      "weights_min 2\n"
     ]
    },
    {
     "name": "stderr",
     "output_type": "stream",
     "text": [
      "running:  99%|████████████████████████████████████████████████████▍| 99.0/100 [03:22<00:02, 2.39s/B]"
     ]
    },
    {
     "name": "stdout",
     "output_type": "stream",
     "text": [
      "weights_max 1\n",
      "weights_min 0\n",
      "weights_max 2\n",
      "weights_min 1\n",
      "weights_max 2\n",
      "weights_min 1\n",
      "weights_max 2\n",
      "weights_min 1\n",
      "weights_max 2\n",
      "weights_min 2\n",
      "weights_max 1\n",
      "weights_min 1\n",
      "weights_max 2\n",
      "weights_min 1\n",
      "weights_max 2\n",
      "weights_min 1\n",
      "weights_max 2\n",
      "weights_min 1\n",
      "weights_max 2\n",
      "weights_min 2\n"
     ]
    },
    {
     "name": "stderr",
     "output_type": "stream",
     "text": [
      "running: 100%|██████████████████████████████████████████████████████| 100/100 [03:24<00:00, 2.05s/B]\n"
     ]
    }
   ],
   "source": [
    "film = np.zeros((100, 100, 100, 2))\n",
    "\n",
    "bottom = 10\n",
    "fullcell = 100\n",
    "film[:, :, 0:bottom, 0] = fullcell # bottom\n",
    "\n",
    "height = 80\n",
    "\n",
    "film[:, :40, 0:height, 0] = fullcell\n",
    "film[:, 60:, 0:height, 0] = fullcell\n",
    "etchfilm = film\n",
    "\n",
    "\n",
    "N = int(1e6)\n",
    "velosity_matrix = np.zeros((N, 3))\n",
    "tstep=1e-5\n",
    "celllength=1e-5\n",
    "# velosity_matrix[:, 0] = -1 * celllength /tstep\n",
    "velosity_matrix[:, 1] = -1 * celllength /tstep\n",
    "velosity_matrix[:, 2] = -1 * celllength /tstep\n",
    "\n",
    "typeID = np.zeros(N)\n",
    "\n",
    "print(velosity_matrix[0])\n",
    "\n",
    "logname = 'Multi_species_benchmark_0729'\n",
    "testEtch = Multi_Species_etching_depo.etching(mirror=True,inputMethod='bunch', pressure_pa=0.001, temperature=300, chamberSize=etchfilm.shape,\n",
    "                    depoThick=90, center_with_direction=np.array([[35,100,75]]), \n",
    "                    range3D=np.array([[0, 70, 0, 100, 0, 150]]), InOrOut=[1], yield_hist=np.array([None]),\n",
    "                    reaction_type=False, param = [1.6, -0.7], N = 300000, \n",
    "                    sub_xy=[0,0], film=etchfilm, n=1, cellSize=etchfilm.shape, \n",
    "                    celllength=1e-5, kdtreeN=5, tstep=1e-5,\n",
    "                    substrateTop=40,posGeneratorType='benchmark',fullCell=fullcell, logname=logname)\n",
    "\n",
    "\n",
    "etching1 = testEtch.inputParticle(125, velosity_matrix, typeID, 2e-3, 20)\n",
    "\n",
    "sumFilm = np.sum(etching1[0], axis=-1)"
   ]
  },
  {
   "cell_type": "code",
   "execution_count": 39,
   "metadata": {},
   "outputs": [
    {
     "name": "stderr",
     "output_type": "stream",
     "text": [
      "c:\\Users\\urcs049\\AppData\\Local\\anaconda3\\Lib\\site-packages\\pyvista\\core\\utilities\\points.py:55: UserWarning: Points is not a float type. This can cause issues when transforming or applying filters. Casting to ``np.float32``. Disable this by passing ``force_float=False``.\n",
      "  warnings.warn(\n",
      "c:\\Users\\urcs049\\AppData\\Local\\anaconda3\\Lib\\site-packages\\pyvista\\core\\filters\\data_set.py:2386: UserWarning: No vector-like data to use for orient. orient will be set to False.\n",
      "  warnings.warn(\"No vector-like data to use for orient. orient will be set to False.\")\n"
     ]
    },
    {
     "data": {
      "application/vnd.jupyter.widget-view+json": {
       "model_id": "58e91baae5f04dc4b63296f0420eb1dc",
       "version_major": 2,
       "version_minor": 0
      },
      "text/plain": [
       "Widget(value='<iframe src=\"http://localhost:54519/index.html?ui=P_0x2856e5e0440_9&reconnect=auto\" class=\"pyvis…"
      ]
     },
     "metadata": {},
     "output_type": "display_data"
    }
   ],
   "source": [
    "depo1 = torch.Tensor(np.logical_and(sumFilm[:, :, :,]!=10, sumFilm[:, :, :,]!=0)).to_sparse()\n",
    "depo1 = depo1.indices().numpy().T\n",
    "\n",
    "substrute = torch.Tensor(sumFilm[:, :, :,]==10).to_sparse()\n",
    "substrute = substrute.indices().numpy().T\n",
    "depomesh = pv.PolyData(depo1)\n",
    "depomesh[\"radius\"] = np.ones(depo1.shape[0])*0.5\n",
    "geom = pv.Box()\n",
    "\n",
    "submesh = pv.PolyData(substrute)\n",
    "submesh[\"radius\"] = np.ones(substrute.shape[0])*0.5\n",
    "\n",
    "# Progress bar is a new feature on master branch\n",
    "depoglyphed = depomesh.glyph(scale=\"radius\", geom=geom) # progress_bar=True)\n",
    "subglyphed = submesh.glyph(scale=\"radius\", geom=geom) # progress_bar=True)\n",
    "\n",
    "p = pv.Plotter()\n",
    "p.add_mesh(depoglyphed, color='cyan')\n",
    "p.add_mesh(subglyphed, color='dimgray')\n",
    "p.enable_eye_dome_lighting()\n",
    "p.show()"
   ]
  },
  {
   "cell_type": "code",
   "execution_count": 42,
   "metadata": {},
   "outputs": [
    {
     "data": {
      "text/plain": [
       "array([[100.,   0.],\n",
       "       [100.,   0.],\n",
       "       [100.,   0.],\n",
       "       [100.,   0.],\n",
       "       [100.,   0.],\n",
       "       [100.,   0.],\n",
       "       [100.,   0.],\n",
       "       [100.,   0.],\n",
       "       [100.,   0.],\n",
       "       [100.,   0.],\n",
       "       [100.,   0.],\n",
       "       [100.,   0.],\n",
       "       [100.,   0.],\n",
       "       [100.,   0.],\n",
       "       [100.,   0.],\n",
       "       [100.,   0.],\n",
       "       [100.,   0.],\n",
       "       [100.,   0.],\n",
       "       [100.,   0.],\n",
       "       [100.,   0.],\n",
       "       [100.,   0.],\n",
       "       [100.,   0.],\n",
       "       [100.,   0.],\n",
       "       [100.,   0.],\n",
       "       [100.,   0.],\n",
       "       [100.,   0.],\n",
       "       [100.,   0.],\n",
       "       [100.,   0.],\n",
       "       [100.,   0.],\n",
       "       [100.,   0.],\n",
       "       [100.,   0.],\n",
       "       [100.,   0.],\n",
       "       [100.,   0.],\n",
       "       [100.,   0.],\n",
       "       [100.,   0.],\n",
       "       [100.,   0.],\n",
       "       [100.,   0.],\n",
       "       [100.,   0.],\n",
       "       [100.,   0.],\n",
       "       [100.,   0.],\n",
       "       [100.,   0.],\n",
       "       [100.,   0.],\n",
       "       [100.,   0.],\n",
       "       [100.,   0.],\n",
       "       [100.,   0.],\n",
       "       [100.,   0.],\n",
       "       [100.,   0.],\n",
       "       [100.,   0.],\n",
       "       [100.,   0.],\n",
       "       [100.,   0.],\n",
       "       [100.,   0.],\n",
       "       [100.,   0.],\n",
       "       [100.,   0.],\n",
       "       [100.,   0.],\n",
       "       [100.,   0.],\n",
       "       [100.,   0.],\n",
       "       [100.,   0.],\n",
       "       [100.,   0.],\n",
       "       [100.,   0.],\n",
       "       [100.,   0.],\n",
       "       [100.,   0.],\n",
       "       [100.,   0.],\n",
       "       [100.,   0.],\n",
       "       [100.,   0.],\n",
       "       [100.,   0.],\n",
       "       [100.,   0.],\n",
       "       [100.,   0.],\n",
       "       [100.,   0.],\n",
       "       [100.,   0.],\n",
       "       [100.,   0.],\n",
       "       [100.,   0.],\n",
       "       [100.,   0.],\n",
       "       [100.,   0.],\n",
       "       [100.,   0.],\n",
       "       [100.,   0.],\n",
       "       [100.,   0.],\n",
       "       [100.,   0.],\n",
       "       [100.,   0.],\n",
       "       [100.,   0.],\n",
       "       [100.,   0.],\n",
       "       [  0., 101.],\n",
       "       [  0., 104.],\n",
       "       [  0., 106.],\n",
       "       [  0., 103.],\n",
       "       [  0., 101.],\n",
       "       [  0.,   0.],\n",
       "       [  0.,   0.],\n",
       "       [  0.,   0.],\n",
       "       [  0.,   0.],\n",
       "       [  0.,   0.],\n",
       "       [  0.,   0.],\n",
       "       [  0.,   0.],\n",
       "       [  0.,   0.],\n",
       "       [  0.,   0.],\n",
       "       [  0.,   0.],\n",
       "       [  0.,   0.],\n",
       "       [  0.,   0.],\n",
       "       [  0.,   0.],\n",
       "       [  0.,   0.],\n",
       "       [  0.,   0.]])"
      ]
     },
     "execution_count": 42,
     "metadata": {},
     "output_type": "execute_result"
    }
   ],
   "source": [
    "etching1[0][45, 60, :]"
   ]
  },
  {
   "cell_type": "code",
   "execution_count": 38,
   "metadata": {},
   "outputs": [
    {
     "data": {
      "application/vnd.jupyter.widget-view+json": {
       "model_id": "6c5518a2925c4e6abf25f97c5f9094f9",
       "version_major": 2,
       "version_minor": 0
      },
      "text/plain": [
       "Widget(value='<iframe src=\"http://localhost:54519/index.html?ui=P_0x285427d2a80_8&reconnect=auto\" class=\"pyvis…"
      ]
     },
     "metadata": {},
     "output_type": "display_data"
    }
   ],
   "source": [
    "    # depo1 = torch.Tensor(np.logical_and(sumFilm[:, :, :,]!=10, sumFilm[:, :, :,]!=0)).to_sparse()\n",
    "    # depo1 = depo1.indices().numpy().T\n",
    "\n",
    "    # substrute = torch.Tensor(sumFilm[:, :, :,]==10).to_sparse()\n",
    "    # substrute = substrute.indices().numpy().T\n",
    "    # depomesh = pv.PolyData(depo1)\n",
    "    # depomesh[\"radius\"] = np.ones(depo1.shape[0])*0.5\n",
    "    # geom = pv.Box()\n",
    "\n",
    "    # submesh = pv.PolyData(substrute)\n",
    "    # submesh[\"radius\"] = np.ones(substrute.shape[0])*0.5\n",
    "\n",
    "    # # Progress bar is a new feature on master branch\n",
    "    # depoglyphed = depomesh.glyph(scale=\"radius\", geom=geom) # progress_bar=True)\n",
    "    # subglyphed = submesh.glyph(scale=\"radius\", geom=geom) # progress_bar=True)\n",
    "\n",
    "    # p = pv.Plotter()\n",
    "    # p.add_mesh(depoglyphed, color='cyan')\n",
    "    # p.add_mesh(subglyphed, color='dimgray')\n",
    "    # p.enable_eye_dome_lighting()\n",
    "    # p.show()\n",
    "\n",
    "point_cloud = pv.PolyData(etching1[2][:, 3:])\n",
    "vectors = etching1[2][:, :3]\n",
    "\n",
    "point_cloud['vectors'] = vectors\n",
    "arrows = point_cloud.glyph(\n",
    "orient='vectors',\n",
    "scale=1000,\n",
    "factor=2,\n",
    ")\n",
    "\n",
    "# Display the arrows\n",
    "plotter = pv.Plotter()\n",
    "plotter.add_mesh(point_cloud, color='maroon', point_size=5.0, render_points_as_spheres=True)\n",
    "# plotter.add_mesh(arrows, color='lightblue')\n",
    "# plotter.add_point_labels([point_cloud.center,], ['Center',],\n",
    "#                          point_color='yellow', point_size=20)\n",
    "plotter.show_grid()\n",
    "plotter.show()"
   ]
  },
  {
   "cell_type": "code",
   "execution_count": null,
   "metadata": {},
   "outputs": [],
   "source": [
    "point_cloud = pv.PolyData(etching1[2][:, 3:])\n",
    "vectors = etching1[2][:, :3]\n",
    "\n",
    "point_cloud['vectors'] = vectors\n",
    "arrows = point_cloud.glyph(\n",
    "orient='vectors',\n",
    "scale=1000,\n",
    "factor=2,\n",
    ")\n",
    "\n",
    "# Display the arrows\n",
    "plotter = pv.Plotter()\n",
    "plotter.add_mesh(point_cloud, color='maroon', point_size=5.0, render_points_as_spheres=True)\n",
    "# plotter.add_mesh(arrows, color='lightblue')\n",
    "# plotter.add_point_labels([point_cloud.center,], ['Center',],\n",
    "#                          point_color='yellow', point_size=20)\n",
    "plotter.show_grid()\n",
    "plotter.show()"
   ]
  }
 ],
 "metadata": {
  "kernelspec": {
   "display_name": "base",
   "language": "python",
   "name": "python3"
  },
  "language_info": {
   "codemirror_mode": {
    "name": "ipython",
    "version": 3
   },
   "file_extension": ".py",
   "mimetype": "text/x-python",
   "name": "python",
   "nbconvert_exporter": "python",
   "pygments_lexer": "ipython3",
   "version": "3.12.5"
  }
 },
 "nbformat": 4,
 "nbformat_minor": 2
}

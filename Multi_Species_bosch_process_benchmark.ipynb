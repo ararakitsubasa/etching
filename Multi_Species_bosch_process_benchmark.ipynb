{
 "cells": [
  {
   "cell_type": "code",
   "execution_count": 1,
   "metadata": {},
   "outputs": [],
   "source": [
    "import numpy as np\n",
    "import pyvista as pv\n",
    "import torch\n",
    "import matplotlib.pyplot as plt"
   ]
  },
  {
   "cell_type": "code",
   "execution_count": 2,
   "metadata": {},
   "outputs": [],
   "source": [
    "# vertical mask\n",
    "film = np.zeros((20, 100, 160, 3))\n",
    "\n",
    "bottom = 100\n",
    "height = 104\n",
    "\n",
    "density = 10\n",
    "\n",
    "radius = 30\n",
    "\n",
    "center = 50\n",
    "\n",
    "film[:, :45, bottom:height, 2] = density\n",
    "film[:, 55:, bottom:height, 2] = density\n",
    "# film[:, :, 0:bottom, :] = 0\n",
    "film[:, :, 0:bottom, 0] = density # bottom\n",
    "# film[:, :, 0:bottom, 1] = 0 # bottom\n",
    "# film[:, :, 0:bottom, 2] = 0 # bottom"
   ]
  },
  {
   "cell_type": "code",
   "execution_count": null,
   "metadata": {},
   "outputs": [],
   "source": [
    "depo1 = torch.Tensor(film[:, :100, :, 1]>0).to_sparse()\n",
    "depo1 = depo1.indices().numpy().T\n",
    "\n",
    "substrute = torch.Tensor(film[:, :100, :,0]!=0).to_sparse()\n",
    "substrute = substrute.indices().numpy().T\n",
    "\n",
    "mask = torch.Tensor(film[:, :100, :,2]!=0).to_sparse()\n",
    "mask = mask.indices().numpy().T\n",
    "\n",
    "maskmesh = pv.PolyData(mask)\n",
    "maskmesh[\"radius\"] = np.ones(mask.shape[0])*0.5\n",
    "\n",
    "depomesh = pv.PolyData(depo1)\n",
    "depomesh[\"radius\"] = np.ones(depo1.shape[0])*0.5\n",
    "geom = pv.Box()\n",
    "\n",
    "submesh = pv.PolyData(substrute)\n",
    "submesh[\"radius\"] = np.ones(substrute.shape[0])*0.5\n",
    "\n",
    "# Progress bar is a new feature on master branch\n",
    "maskglyphed = maskmesh.glyph(scale=\"radius\", geom=geom) # progress_bar=True)\n",
    "depoglyphed = depomesh.glyph(scale=\"radius\", geom=geom) # progress_bar=True)\n",
    "subglyphed = submesh.glyph(scale=\"radius\", geom=geom) # progress_bar=True)\n",
    "\n",
    "p = pv.Plotter()\n",
    "p.add_mesh(maskglyphed, color='green')\n",
    "# p.add_mesh(depoglyphed, color='cyan')\n",
    "p.add_mesh(subglyphed, color='dimgray')\n",
    "p.enable_eye_dome_lighting()\n",
    "p.show()"
   ]
  },
  {
   "cell_type": "code",
   "execution_count": 3,
   "metadata": {},
   "outputs": [],
   "source": [
    "etchfilm = film"
   ]
  },
  {
   "cell_type": "code",
   "execution_count": null,
   "metadata": {},
   "outputs": [],
   "source": [
    "etchfilm = np.load('./bosch_data_1017_ratio08_hole/bosch_sf_step_1_c4f8.npy')"
   ]
  },
  {
   "cell_type": "code",
   "execution_count": 4,
   "metadata": {},
   "outputs": [],
   "source": [
    "import Multi_Species_bosch_etching_countByReaction_mirror_func"
   ]
  },
  {
   "cell_type": "code",
   "execution_count": 5,
   "metadata": {},
   "outputs": [],
   "source": [
    "logname = 'Multi_species_benchmark_1022_hole_ratio01'\n",
    "\n",
    "testEtch = Multi_Species_bosch_etching_countByReaction_mirror_func.etching(inputMethod='bunch', depo_or_etching='etching', \n",
    "                    etchingPoint = np.array([center, center, bottom-30]),depoPoint = np.array([center, center, bottom-30]),\n",
    "                    density=density, center_with_direction=np.array([[int(etchfilm.shape[0]/2),int(etchfilm.shape[1]/2),150]]), \n",
    "                    range3D=np.array([[0, etchfilm.shape[0], 0, etchfilm.shape[1], 0, etchfilm.shape[2]]]), InOrOut=[1], yield_hist=np.array([None]),\n",
    "                    maskTop=40, maskBottom=98, maskStep=10, maskCenter=[int(etchfilm.shape[0]/2), int(etchfilm.shape[1]/2)],backup=False, \n",
    "                    mirrorGap=5,\n",
    "                    reaction_type=False, param = [1.6, -0.7],n=1,\n",
    "                    celllength=1e-5, kdtreeN=5, filmKDTree=np.array([[2, 0], [3, 1]]),weight=-0.2, tstep=1e-5,\n",
    "                    substrateTop=bottom,posGeneratorType='top', logname=logname)"
   ]
  },
  {
   "cell_type": "code",
   "execution_count": 6,
   "metadata": {},
   "outputs": [],
   "source": [
    "react_table = np.array([[[0.1, -1, 0, 0], [1.0, 0,  0, 0], [1.0, 0, 0, 0]],\n",
    "                        [[0.8, -1, 1, 0], [0.0, 0,  0, 0], [0.0, 0, 0, 0]],\n",
    "                        [[1.0,  0, 0, 0], [1.0, 0, -2, 0], [1.0, 0, 0, 0]]])"
   ]
  },
  {
   "cell_type": "code",
   "execution_count": 7,
   "metadata": {},
   "outputs": [],
   "source": [
    "Multi_Species_bosch_etching_countByReaction_mirror_func.react_table = react_table"
   ]
  },
  {
   "cell_type": "code",
   "execution_count": 8,
   "metadata": {},
   "outputs": [
    {
     "data": {
      "text/plain": [
       "array([[[ 0.1, -1. ,  0. ,  0. ],\n",
       "        [ 1. ,  0. ,  0. ,  0. ],\n",
       "        [ 1. ,  0. ,  0. ,  0. ]],\n",
       "\n",
       "       [[ 0.8, -1. ,  1. ,  0. ],\n",
       "        [ 0. ,  0. ,  0. ,  0. ],\n",
       "        [ 0. ,  0. ,  0. ,  0. ]],\n",
       "\n",
       "       [[ 1. ,  0. ,  0. ,  0. ],\n",
       "        [ 1. ,  0. , -2. ,  0. ],\n",
       "        [ 1. ,  0. ,  0. ,  0. ]]])"
      ]
     },
     "execution_count": 8,
     "metadata": {},
     "output_type": "execute_result"
    }
   ],
   "source": [
    "Multi_Species_bosch_etching_countByReaction_mirror_func.react_table"
   ]
  },
  {
   "cell_type": "code",
   "execution_count": null,
   "metadata": {},
   "outputs": [
    {
     "name": "stdout",
     "output_type": "stream",
     "text": [
      "(30, 110, 160)\n"
     ]
    },
    {
     "name": "stderr",
     "output_type": "stream",
     "text": [
      "particle input:  93%|██████████████████████████████████████████▊   | 93.0/100 [34:31<02:35, 22.3s/B]\n"
     ]
    },
    {
     "ename": "KeyboardInterrupt",
     "evalue": "",
     "output_type": "error",
     "traceback": [
      "\u001b[1;31m---------------------------------------------------------------------------\u001b[0m",
      "\u001b[1;31mKeyboardInterrupt\u001b[0m                         Traceback (most recent call last)",
      "Cell \u001b[1;32mIn[9], line 4\u001b[0m\n\u001b[0;32m      2\u001b[0m celllength\u001b[38;5;241m=\u001b[39m\u001b[38;5;241m1e-5\u001b[39m\n\u001b[0;32m      3\u001b[0m parcel \u001b[38;5;241m=\u001b[39m np\u001b[38;5;241m.\u001b[39marray([[\u001b[38;5;241m95\u001b[39m\u001b[38;5;241m*\u001b[39mcelllength, \u001b[38;5;241m95\u001b[39m\u001b[38;5;241m*\u001b[39mcelllength, \u001b[38;5;241m159\u001b[39m\u001b[38;5;241m*\u001b[39mcelllength, \u001b[38;5;241m0\u001b[39m, \u001b[38;5;241m0\u001b[39m, \u001b[38;5;241m1\u001b[39m, \u001b[38;5;241m95\u001b[39m, \u001b[38;5;241m95\u001b[39m, \u001b[38;5;241m159\u001b[39m, \u001b[38;5;241m0\u001b[39m]])\n\u001b[1;32m----> 4\u001b[0m step1 \u001b[38;5;241m=\u001b[39m testEtch\u001b[38;5;241m.\u001b[39minputParticle(etchfilm, parcel, \u001b[38;5;124m'\u001b[39m\u001b[38;5;124mmaxwell\u001b[39m\u001b[38;5;124m'\u001b[39m, \u001b[38;5;241m0\u001b[39m, \u001b[38;5;28mint\u001b[39m(\u001b[38;5;241m4e4\u001b[39m), \u001b[38;5;28mint\u001b[39m(\u001b[38;5;241m4e6\u001b[39m), \u001b[38;5;28mint\u001b[39m(\u001b[38;5;241m1e6\u001b[39m),\u001b[38;5;241m2\u001b[39m, \u001b[38;5;241m10\u001b[39m, \u001b[38;5;241m100\u001b[39m)\n",
      "File \u001b[1;32md:\\ysy\\etching\\Multi_Species_bosch_etching_countByReaction_mirror_func.py:868\u001b[0m, in \u001b[0;36metching.inputParticle\u001b[1;34m(self, film, parcel, velGeneratorType, typeID, inputCount, runningCount, max_react_count, depo_count_type, Zgap, step)\u001b[0m\n\u001b[0;32m    866\u001b[0m \u001b[38;5;28mprint\u001b[39m(\u001b[38;5;28mself\u001b[39m\u001b[38;5;241m.\u001b[39msurface_depo_mirror\u001b[38;5;241m.\u001b[39mshape)\n\u001b[0;32m    867\u001b[0m \u001b[38;5;28mself\u001b[39m\u001b[38;5;241m.\u001b[39mlog\u001b[38;5;241m.\u001b[39minfo(\u001b[38;5;124m'\u001b[39m\u001b[38;5;124mcircle step:\u001b[39m\u001b[38;5;132;01m{}\u001b[39;00m\u001b[38;5;124m'\u001b[39m\u001b[38;5;241m.\u001b[39mformat(step))\n\u001b[1;32m--> 868\u001b[0m result \u001b[38;5;241m=\u001b[39m  \u001b[38;5;28mself\u001b[39m\u001b[38;5;241m.\u001b[39mrunEtch(velGeneratorType, typeID, inputCount,runningCount, max_react_count, Zgap, step)\n\u001b[0;32m    869\u001b[0m \u001b[38;5;66;03m# if np.any(result[0][:, :, self.depoThick]) != 0:\u001b[39;00m\n\u001b[0;32m    870\u001b[0m \u001b[38;5;66;03m#     break             \u001b[39;00m\n\u001b[0;32m    871\u001b[0m \u001b[38;5;66;03m# del self.log, self.fh \u001b[39;00m\n\u001b[0;32m    872\u001b[0m \u001b[38;5;28;01mreturn\u001b[39;00m result\n",
      "File \u001b[1;32md:\\ysy\\etching\\Multi_Species_bosch_etching_countByReaction_mirror_func.py:686\u001b[0m, in \u001b[0;36metching.runEtch\u001b[1;34m(self, velGeneratorType, typeID, inputCount, runningCount, max_react_count, emptyZ, step)\u001b[0m\n\u001b[0;32m    684\u001b[0m ti \u001b[38;5;241m+\u001b[39m\u001b[38;5;241m=\u001b[39m \u001b[38;5;241m1\u001b[39m\n\u001b[0;32m    685\u001b[0m \u001b[38;5;66;03m# print('bbf bound',self.parcel.flags.f_contiguous)\u001b[39;00m\n\u001b[1;32m--> 686\u001b[0m depo_count, ddshape, maxdd, ddi, dl1 \u001b[38;5;241m=\u001b[39m \u001b[38;5;28mself\u001b[39m\u001b[38;5;241m.\u001b[39mgetAcc_depo(tstep)\n\u001b[0;32m    687\u001b[0m \u001b[38;5;66;03m# print(self.parcel.flags.f_contiguous)\u001b[39;00m\n\u001b[0;32m    688\u001b[0m \u001b[38;5;66;03m# print('parcel', self.parcel.shape)\u001b[39;00m\n\u001b[0;32m    689\u001b[0m \u001b[38;5;66;03m# print('bf bound',self.parcel.flags.f_contiguous)\u001b[39;00m\n\u001b[0;32m    690\u001b[0m count_reaction \u001b[38;5;241m+\u001b[39m\u001b[38;5;241m=\u001b[39m depo_count\n",
      "File \u001b[1;32md:\\ysy\\etching\\Multi_Species_bosch_etching_countByReaction_mirror_func.py:592\u001b[0m, in \u001b[0;36metching.getAcc_depo\u001b[1;34m(self, tStep)\u001b[0m\n\u001b[0;32m    589\u001b[0m \u001b[38;5;28mself\u001b[39m\u001b[38;5;241m.\u001b[39mtoboundary()\n\u001b[0;32m    590\u001b[0m \u001b[38;5;66;03m# self.parcel = boundary(self.parcel, self.cellSizeX, self.cellSizeY, self.cellSizeZ, self.celllength)\u001b[39;00m\n\u001b[0;32m    591\u001b[0m \u001b[38;5;66;03m# print('af bound',self.parcel.flags.f_contiguous)\u001b[39;00m\n\u001b[1;32m--> 592\u001b[0m \u001b[38;5;28mself\u001b[39m\u001b[38;5;241m.\u001b[39mremoveFloat()\n\u001b[0;32m    593\u001b[0m \u001b[38;5;28mself\u001b[39m\u001b[38;5;241m.\u001b[39mremoveFloatPolymer()\n\u001b[0;32m    594\u001b[0m \u001b[38;5;66;03m# print(pos_cp)\u001b[39;00m\n\u001b[0;32m    595\u001b[0m \u001b[38;5;66;03m# print('bf bound',self.parcel.flags.f_contiguous)\u001b[39;00m\n",
      "File \u001b[1;32md:\\ysy\\etching\\Multi_Species_bosch_etching_countByReaction_mirror_func.py:340\u001b[0m, in \u001b[0;36metching.removeFloat\u001b[1;34m(self)\u001b[0m\n\u001b[0;32m    337\u001b[0m current_plane \u001b[38;5;241m=\u001b[39m filmC \u001b[38;5;241m!=\u001b[39m \u001b[38;5;241m0\u001b[39m\n\u001b[0;32m    339\u001b[0m \u001b[38;5;66;03m# 创建一个全是False的布尔数组来存储邻居的检查结果\u001b[39;00m\n\u001b[1;32m--> 340\u001b[0m neighbors \u001b[38;5;241m=\u001b[39m np\u001b[38;5;241m.\u001b[39mzeros_like(filmC, dtype\u001b[38;5;241m=\u001b[39m\u001b[38;5;28mbool\u001b[39m)\n\u001b[0;32m    342\u001b[0m \u001b[38;5;66;03m# 检查各个方向的邻居是否为零\u001b[39;00m\n\u001b[0;32m    343\u001b[0m neighbors[\u001b[38;5;241m1\u001b[39m:, :, :] \u001b[38;5;241m|\u001b[39m\u001b[38;5;241m=\u001b[39m filmC[:\u001b[38;5;241m-\u001b[39m\u001b[38;5;241m1\u001b[39m, :, :] \u001b[38;5;241m!=\u001b[39m \u001b[38;5;241m0\u001b[39m  \u001b[38;5;66;03m# 上面的邻居不为0\u001b[39;00m\n",
      "File \u001b[1;32mc:\\Users\\urcs049\\AppData\\Local\\anaconda3\\Lib\\site-packages\\numpy\\core\\numeric.py:63\u001b[0m, in \u001b[0;36m_zeros_like_dispatcher\u001b[1;34m(a, dtype, order, subok, shape)\u001b[0m\n\u001b[0;32m     38\u001b[0m array_function_dispatch \u001b[38;5;241m=\u001b[39m functools\u001b[38;5;241m.\u001b[39mpartial(\n\u001b[0;32m     39\u001b[0m     overrides\u001b[38;5;241m.\u001b[39marray_function_dispatch, module\u001b[38;5;241m=\u001b[39m\u001b[38;5;124m'\u001b[39m\u001b[38;5;124mnumpy\u001b[39m\u001b[38;5;124m'\u001b[39m)\n\u001b[0;32m     42\u001b[0m __all__ \u001b[38;5;241m=\u001b[39m [\n\u001b[0;32m     43\u001b[0m     \u001b[38;5;124m'\u001b[39m\u001b[38;5;124mnewaxis\u001b[39m\u001b[38;5;124m'\u001b[39m, \u001b[38;5;124m'\u001b[39m\u001b[38;5;124mndarray\u001b[39m\u001b[38;5;124m'\u001b[39m, \u001b[38;5;124m'\u001b[39m\u001b[38;5;124mflatiter\u001b[39m\u001b[38;5;124m'\u001b[39m, \u001b[38;5;124m'\u001b[39m\u001b[38;5;124mnditer\u001b[39m\u001b[38;5;124m'\u001b[39m, \u001b[38;5;124m'\u001b[39m\u001b[38;5;124mnested_iters\u001b[39m\u001b[38;5;124m'\u001b[39m, \u001b[38;5;124m'\u001b[39m\u001b[38;5;124mufunc\u001b[39m\u001b[38;5;124m'\u001b[39m,\n\u001b[0;32m     44\u001b[0m     \u001b[38;5;124m'\u001b[39m\u001b[38;5;124marange\u001b[39m\u001b[38;5;124m'\u001b[39m, \u001b[38;5;124m'\u001b[39m\u001b[38;5;124marray\u001b[39m\u001b[38;5;124m'\u001b[39m, \u001b[38;5;124m'\u001b[39m\u001b[38;5;124masarray\u001b[39m\u001b[38;5;124m'\u001b[39m, \u001b[38;5;124m'\u001b[39m\u001b[38;5;124masanyarray\u001b[39m\u001b[38;5;124m'\u001b[39m, \u001b[38;5;124m'\u001b[39m\u001b[38;5;124mascontiguousarray\u001b[39m\u001b[38;5;124m'\u001b[39m,\n\u001b[1;32m   (...)\u001b[0m\n\u001b[0;32m     59\u001b[0m     \u001b[38;5;124m'\u001b[39m\u001b[38;5;124mMAY_SHARE_EXACT\u001b[39m\u001b[38;5;124m'\u001b[39m, \u001b[38;5;124m'\u001b[39m\u001b[38;5;124m_get_promotion_state\u001b[39m\u001b[38;5;124m'\u001b[39m, \u001b[38;5;124m'\u001b[39m\u001b[38;5;124m_set_promotion_state\u001b[39m\u001b[38;5;124m'\u001b[39m,\n\u001b[0;32m     60\u001b[0m     \u001b[38;5;124m'\u001b[39m\u001b[38;5;124m_using_numpy2_behavior\u001b[39m\u001b[38;5;124m'\u001b[39m]\n\u001b[1;32m---> 63\u001b[0m \u001b[38;5;28;01mdef\u001b[39;00m \u001b[38;5;21m_zeros_like_dispatcher\u001b[39m(a, dtype\u001b[38;5;241m=\u001b[39m\u001b[38;5;28;01mNone\u001b[39;00m, order\u001b[38;5;241m=\u001b[39m\u001b[38;5;28;01mNone\u001b[39;00m, subok\u001b[38;5;241m=\u001b[39m\u001b[38;5;28;01mNone\u001b[39;00m, shape\u001b[38;5;241m=\u001b[39m\u001b[38;5;28;01mNone\u001b[39;00m):\n\u001b[0;32m     64\u001b[0m     \u001b[38;5;28;01mreturn\u001b[39;00m (a,)\n\u001b[0;32m     67\u001b[0m \u001b[38;5;129m@array_function_dispatch\u001b[39m(_zeros_like_dispatcher)\n\u001b[0;32m     68\u001b[0m \u001b[38;5;28;01mdef\u001b[39;00m \u001b[38;5;21mzeros_like\u001b[39m(a, dtype\u001b[38;5;241m=\u001b[39m\u001b[38;5;28;01mNone\u001b[39;00m, order\u001b[38;5;241m=\u001b[39m\u001b[38;5;124m'\u001b[39m\u001b[38;5;124mK\u001b[39m\u001b[38;5;124m'\u001b[39m, subok\u001b[38;5;241m=\u001b[39m\u001b[38;5;28;01mTrue\u001b[39;00m, shape\u001b[38;5;241m=\u001b[39m\u001b[38;5;28;01mNone\u001b[39;00m):\n",
      "\u001b[1;31mKeyboardInterrupt\u001b[0m: "
     ]
    }
   ],
   "source": [
    "cicle = 100\n",
    "celllength=1e-5\n",
    "parcel = np.array([[95*celllength, 95*celllength, 159*celllength, 0, 0, 1, 95, 95, 159, 0]])\n",
    "step1 = testEtch.inputParticle(etchfilm, parcel, 'maxwell', 0, int(4e4), int(4e6), int(1e5),2, 10, 100)\n",
    "# np.save('./bosch_data_1015_test/bosch_sf_step_sf01', etchfilm)"
   ]
  },
  {
   "cell_type": "code",
   "execution_count": null,
   "metadata": {},
   "outputs": [],
   "source": [
    "cicle = 100\n",
    "celllength=1e-5\n",
    "parcel = np.array([[95*celllength, 95*celllength, 159*celllength, 0, 0, 1, 95, 95, 159, 0]])\n",
    "step1 = testEtch.inputParticle(etchfilm, parcel, 'maxwell', 0, int(6e4), int(1e7), int(4e5),2, 10, 100)"
   ]
  },
  {
   "cell_type": "code",
   "execution_count": null,
   "metadata": {},
   "outputs": [],
   "source": [
    "celllength=1e-5\n",
    "parcelAr = np.array([[etchfilm.shape[0]*celllength, etchfilm.shape[0]*celllength, 199*celllength, 0, 0, 1, etchfilm.shape[0], etchfilm.shape[0], 199, 2]])\n",
    "step3 = testEtch.inputParticle(etchfilm, parcelAr, 'updown', 2, int(5e4), int(12e7), int(1e5), 4, 10, i)"
   ]
  },
  {
   "cell_type": "code",
   "execution_count": null,
   "metadata": {},
   "outputs": [],
   "source": [
    "np.save('./benchmark_etching/trench_etch_rate_09_12e5', etchfilm)"
   ]
  },
  {
   "cell_type": "code",
   "execution_count": null,
   "metadata": {},
   "outputs": [],
   "source": [
    "def attachPolymer(film):  # fast scanZ\n",
    "    filmC = film[:,:,:,0]\n",
    "    # 获取当前平面的非零元素布尔索引\n",
    "    current_plane = film[:,:,:,1] == 0 \n",
    "\n",
    "    # 创建一个全是False的布尔数组来存储邻居的检查结果\n",
    "    neighbors = np.zeros_like(filmC, dtype=bool)\n",
    "\n",
    "    # 检查各个方向的邻居是否为零\n",
    "    neighbors[1:, :, :] |= filmC[:-1, :, :] != 0  # 上面的邻居不为0\n",
    "    neighbors[:-1, :, :] |= filmC[1:, :, :] != 0  # 下面的邻居不为0\n",
    "    neighbors[:, 1:, :] |= filmC[:, :-1, :] != 0  # 左边的邻居不为0\n",
    "    neighbors[:, :-1, :] |= filmC[:, 1:, :] != 0  # 右边的邻居不为0\n",
    "    neighbors[:, :, 1:] |= filmC[:, :, :-1] != 0  # 前面的邻居不为0\n",
    "    neighbors[:, :, :-1] |= filmC[:, :, 1:] != 0  # 后面的邻居不为0\n",
    "\n",
    "    # 孤立单元格的条件是当前平面元素不为0且所有方向的邻居都为0\n",
    "    condition = current_plane & neighbors\n",
    "\n",
    "    # 将孤立的单元格设为0\n",
    "    film[condition, 1] = 10\n",
    "\n",
    "    all_film = np.logical_and(film[:,:,:,1] == 10, film[:,:,:,0] == 10)\n",
    "    film[all_film, 1] = 0\n",
    "    all_film2 = np.logical_and(film[:,:,:,1] == 10, film[:,:,:,2] == 10)\n",
    "    film[all_film2, 1] = 0\n",
    "    return film"
   ]
  },
  {
   "cell_type": "code",
   "execution_count": null,
   "metadata": {},
   "outputs": [],
   "source": [
    "def thickPolymer(film):  # fast scanZ\n",
    "    filmC = film[:,:,:,1]\n",
    "    # 获取当前平面的非零元素布尔索引\n",
    "    current_plane = film[:,:,:,0] == 10 \n",
    "\n",
    "    # 创建一个全是False的布尔数组来存储邻居的检查结果\n",
    "    neighbors = np.zeros_like(filmC, dtype=bool)\n",
    "\n",
    "    # 检查各个方向的邻居是否为零\n",
    "    neighbors[1:, :, :] |= filmC[:-1, :, :] != 0  # 上面的邻居不为0\n",
    "    neighbors[:-1, :, :] |= filmC[1:, :, :] != 0  # 下面的邻居不为0\n",
    "    neighbors[:, 1:, :] |= filmC[:, :-1, :] != 0  # 左边的邻居不为0\n",
    "    neighbors[:, :-1, :] |= filmC[:, 1:, :] != 0  # 右边的邻居不为0\n",
    "    neighbors[:, :, 1:] |= filmC[:, :, :-1] != 0  # 前面的邻居不为0\n",
    "    neighbors[:, :, :-1] |= filmC[:, :, 1:] != 0  # 后面的邻居不为0\n",
    "\n",
    "    # 孤立单元格的条件是当前平面元素不为0且所有方向的邻居都为0\n",
    "    condition = current_plane & neighbors\n",
    "\n",
    "    # 将孤立的单元格设为0\n",
    "    film[condition, 1] = 10\n",
    "\n",
    "    all_film = np.logical_and(film[:,:,:,1] == 10, film[:,:,:,0] == 10)\n",
    "    film[all_film, 0] = 0\n",
    "    return film"
   ]
  },
  {
   "cell_type": "code",
   "execution_count": null,
   "metadata": {},
   "outputs": [],
   "source": [
    "cicle = 100\n",
    "celllength=1e-5\n",
    "parcel = np.array([[etchfilm.shape[0]*celllength, etchfilm.shape[0]*celllength, 199*celllength, 0, 0, 1, etchfilm.shape[0], etchfilm.shape[0], 199, 0]])\n",
    "\n",
    "for i in range(cicle):\n",
    "    step1 = testEtch.inputParticle(etchfilm, parcel, 'maxwell', 0, int(5e4), int(12e7), int(1.2e6),2, 10, i)\n",
    "    indice_step1 = etchfilm[:, :, :, 0] >= 9\n",
    "    etchfilm[indice_step1, 0] = 10\n",
    "    depth = step1[1] \n",
    "    parcel = step1[2]\n",
    "    if depth < 50:\n",
    "        film = np.zeros((etchfilm.shape[0], etchfilm.shape[1], etchfilm.shape[2] + 50, 3))\n",
    "        film[:, :, 50:] = etchfilm\n",
    "        film[:, :, :50, 0] = 10\n",
    "        etchfilm = film\n",
    "        parcel[:, 2] += 50*celllength\n",
    "        parcel[:, 8] += 50\n",
    "    print('film:', etchfilm.shape)\n",
    "    np.save('./bosch_data_1021_ratio01_hole/bosch_sf_step_{}_sf'.format(i), etchfilm)\n",
    "    etchfilm = attachPolymer(etchfilm)\n",
    "    # etchfilm = thickPolymer(etchfilm)\n",
    "    np.save('./bosch_data_1021_ratio01_hole/bosch_sf_step_{}_c4f8'.format(i), etchfilm)\n",
    "    parcelAr = np.array([[etchfilm.shape[0]*celllength, etchfilm.shape[0]*celllength, 199*celllength, 0, 0, 1, etchfilm.shape[0], etchfilm.shape[0], 199, 0]])\n",
    "    step3 = testEtch.inputParticle(etchfilm, parcelAr, 'updown', 2, int(5e4), int(12e7), int(1e5), 4, 10, i)\n",
    "    indice_c3 = np.logical_and(etchfilm[:, :, :, 1]>9, etchfilm[:, :, :, 1]<10)\n",
    "    etchfilm[indice_c3, 1] = 10\n",
    "    indice_step2 = etchfilm[:, :, :, 0] != 10\n",
    "    etchfilm[indice_step2, 0] = 0\n",
    "    indice_c2 = etchfilm[:, :, :, 1] != 0\n",
    "    etchfilm[indice_c2, 1] = 10\n",
    "    np.save('./bosch_data_1021_ratio01_hole/bosch_sf_step_{}_Ar'.format(i), etchfilm)"
   ]
  },
  {
   "cell_type": "code",
   "execution_count": null,
   "metadata": {},
   "outputs": [],
   "source": [
    "cicle = 100\n",
    "celllength=1e-5\n",
    "parcel = np.array([[101*celllength, 101*celllength, 199*celllength, 0, 0, 1, 101, 101, 199, 0]])\n",
    "\n",
    "for i in range(cicle):\n",
    "    step1 = testEtch.inputParticle(etchfilm, parcel, 'maxwell', 0, int(3e4), int(8e6), int(4e5),2, 10, i)\n",
    "    indice_step1 = etchfilm[:, :, :, 0] >= 9\n",
    "    etchfilm[indice_step1, 0] = 10\n",
    "    depth = step1[1] \n",
    "    parcel = np.array([[101*celllength, 101*celllength, 199*celllength, 0, 0, 1, 101, 101, 199, 0]])\n",
    "    if depth < 50:\n",
    "        film = np.zeros((etchfilm.shape[0], etchfilm.shape[1], etchfilm.shape[2] + 50, 3))\n",
    "        film[:, :, 50:] = etchfilm\n",
    "        film[:, :, :50, 0] = 10\n",
    "        etchfilm = film\n",
    "        parcel[:, 2] += 50*celllength\n",
    "        parcel[:, 8] += 50\n",
    "    print('film:', etchfilm.shape)\n",
    "    np.save('./bosch_data_1021_ratio01_hole/bosch_sf_step_{}_sf'.format(i), etchfilm)\n",
    "    etchfilm = attachPolymer(etchfilm)\n",
    "    # etchfilm = thickPolymer(etchfilm)\n",
    "    np.save('./bosch_data_1021_ratio01_hole/bosch_sf_step_{}_c4f8'.format(i), etchfilm)\n",
    "    step3 = testEtch.inputParticle(etchfilm, parcel, 'updown', 2, int(3e4), int(8e6), int(6e4), 4, 10, i)\n",
    "    parcel = np.array([[101*celllength, 101*celllength, 199*celllength, 0, 0, 1, 101, 101, 199, 0]])\n",
    "    indice_c3 = np.logical_and(etchfilm[:, :, :, 1]>9, etchfilm[:, :, :, 1]<10)\n",
    "    etchfilm[indice_c3, 1] = 10\n",
    "    indice_step2 = etchfilm[:, :, :, 0] != 10\n",
    "    etchfilm[indice_step2, 0] = 0\n",
    "    indice_c2 = etchfilm[:, :, :, 1] != 0\n",
    "    etchfilm[indice_c2, 1] = 10\n",
    "    np.save('./bosch_data_1021_ratio01_hole/bosch_sf_step_{}_Ar'.format(i), etchfilm)"
   ]
  },
  {
   "cell_type": "code",
   "execution_count": null,
   "metadata": {},
   "outputs": [],
   "source": [
    "cicle = 100\n",
    "celllength=1e-5\n",
    "parcel = np.array([[95*celllength, 95*celllength, 159*celllength, 0, 0, 1, 95, 95, 159, 0]])\n",
    "\n",
    "for i in range(cicle):\n",
    "    step1 = testEtch.inputParticle(etchfilm, parcel, 'maxwell', 0, int(2e4),int(4e5),2, 10, i)\n",
    "    indice_step1 = etchfilm[:, :, :, 0] >= 9\n",
    "    etchfilm[indice_step1, 0] = 10\n",
    "    depth = step1[1] \n",
    "    parcel = np.array([[95*celllength, 95*celllength, 159*celllength, 0, 0, 1, 95, 95, 159, 0]])\n",
    "    if depth < 50:\n",
    "        film = np.zeros((100, 100, etchfilm.shape[2] + 50, 3))\n",
    "        film[:, :, 50:] = etchfilm\n",
    "        film[:, :, :50, 0] = 10\n",
    "        etchfilm = film\n",
    "        parcel[:, 2] += 50*celllength\n",
    "        parcel[:, 8] += 50\n",
    "    print('film:', etchfilm.shape)\n",
    "    np.save('./bosch_data_1013_ratio01_hole/bosch_sf_step_{}_sf'.format(i), etchfilm)\n",
    "    step2 = testEtch.inputParticle(etchfilm, parcel, 'maxwell', 1, int(2e4),int(8e4), 1, 10, i)\n",
    "    parcel = np.array([[95*celllength, 95*celllength, 159*celllength, 0, 0, 1, 95, 95, 159, 0]])\n",
    "    indice_step2 = etchfilm[:, :, :, 0] < 0\n",
    "    etchfilm[indice_step2, 0] = 0\n",
    "    indice_c2 = etchfilm[:, :, :, 1] != 0\n",
    "    etchfilm[indice_c2, 1] = 10\n",
    "    np.save('./bosch_data_1013_ratio01_hole/bosch_sf_step_{}_c4f8'.format(i), etchfilm)\n",
    "    step3 = testEtch.inputParticle(etchfilm, parcel, 'updown', 2, int(2e4),int(6e4), 4, 10, i)\n",
    "    parcel = np.array([[95*celllength, 95*celllength, 159*celllength, 0, 0, 1, 95, 95, 159, 0]])\n",
    "    indice_c3 = np.logical_and(etchfilm[:, :, :, 1]>9, etchfilm[:, :, :, 1]<10)\n",
    "    etchfilm[indice_c3, 1] = 10\n",
    "    indice_step2 = etchfilm[:, :, :, 0] != 10\n",
    "    etchfilm[indice_step2, 0] = 0\n",
    "    indice_c2 = etchfilm[:, :, :, 1] != 0\n",
    "    etchfilm[indice_c2, 1] = 10\n",
    "    np.save('./bosch_data_1013_ratio01_hole/bosch_sf_step_{}_Ar'.format(i), etchfilm)"
   ]
  },
  {
   "cell_type": "code",
   "execution_count": null,
   "metadata": {},
   "outputs": [],
   "source": [
    "np.save('./bosch_data_1001_ratio08/bosch_sf_stepTest_c4f8', etchfilm)"
   ]
  },
  {
   "cell_type": "code",
   "execution_count": null,
   "metadata": {},
   "outputs": [],
   "source": [
    "indice_c3 = np.logical_and(etching[:, :, :, 1]>9, etching[:, :, :, 1]<10)\n",
    "etching[indice_c3, 1] = 10\n",
    "\n",
    "indice_step2 = etching[:, :, :, 0] != 10\n",
    "etching[indice_step2, 0] = 0\n",
    "indice_c2 = etching[:, :, :, 1] != 0\n",
    "etching[indice_c2, 1] = 10"
   ]
  },
  {
   "cell_type": "code",
   "execution_count": null,
   "metadata": {},
   "outputs": [],
   "source": [
    "etching = np.load('./bosch_data_1015_test/bosch_sf_step_sf.npy')"
   ]
  },
  {
   "cell_type": "code",
   "execution_count": null,
   "metadata": {},
   "outputs": [],
   "source": [
    "# cyan = torch.Tensor(np.logical_and(etching[:, :50, :,1]==10, etching[:, :50, :,0]==0)).to_sparse()\n",
    "cyan = torch.Tensor(etching[:, :50, :,1]!=0).to_sparse()\n",
    "cyan = cyan.indices().numpy().T\n",
    "\n",
    "gray = torch.Tensor(etching[:, :50, :,0]!=0).to_sparse()\n",
    "gray = gray.indices().numpy().T\n",
    "\n",
    "mask = torch.Tensor(etching[:, :50, :,2]!=0).to_sparse()\n",
    "mask = mask.indices().numpy().T\n",
    "\n",
    "maskmesh = pv.PolyData(mask)\n",
    "maskmesh[\"radius\"] = np.ones(mask.shape[0])*0.5\n",
    "\n",
    "depomesh = pv.PolyData(cyan)\n",
    "depomesh[\"radius\"] = np.ones(cyan.shape[0])*0.5\n",
    "geom = pv.Box()\n",
    "\n",
    "submesh = pv.PolyData(gray)\n",
    "submesh[\"radius\"] = np.ones(gray.shape[0])*0.5\n",
    "\n",
    "# Progress bar is a new feature on master branch\n",
    "maskglyphed = maskmesh.glyph(scale=\"radius\", geom=geom) # progress_bar=True)\n",
    "depoglyphed = depomesh.glyph(scale=\"radius\", geom=geom) # progress_bar=True)\n",
    "subglyphed = submesh.glyph(scale=\"radius\", geom=geom) # progress_bar=True)\n",
    "\n",
    "p = pv.Plotter()\n",
    "p.add_mesh(maskglyphed, color='green')\n",
    "# p.add_mesh(depoglyphed, color='cyan')\n",
    "p.add_mesh(subglyphed, color='dimgray')\n",
    "p.enable_eye_dome_lighting()\n",
    "p.show()"
   ]
  },
  {
   "cell_type": "code",
   "execution_count": 10,
   "metadata": {},
   "outputs": [
    {
     "name": "stderr",
     "output_type": "stream",
     "text": [
      "c:\\Users\\urcs049\\AppData\\Local\\anaconda3\\Lib\\site-packages\\pyvista\\core\\utilities\\points.py:55: UserWarning: Points is not a float type. This can cause issues when transforming or applying filters. Casting to ``np.float32``. Disable this by passing ``force_float=False``.\n",
      "  warnings.warn(\n",
      "c:\\Users\\urcs049\\AppData\\Local\\anaconda3\\Lib\\site-packages\\pyvista\\core\\filters\\data_set.py:2386: UserWarning: No vector-like data to use for orient. orient will be set to False.\n",
      "  warnings.warn(\"No vector-like data to use for orient. orient will be set to False.\")\n"
     ]
    },
    {
     "data": {
      "application/vnd.jupyter.widget-view+json": {
       "model_id": "b6502dd98c1e4f8f98559b1fa876c094",
       "version_major": 2,
       "version_minor": 0
      },
      "text/plain": [
       "Widget(value='<iframe src=\"http://localhost:52533/index.html?ui=P_0x225544c05c0_0&reconnect=auto\" class=\"pyvis…"
      ]
     },
     "metadata": {},
     "output_type": "display_data"
    }
   ],
   "source": [
    "# cyan = torch.Tensor(np.logical_and(etchfilm[:, :, :,1]==10, etchfilm[:, :, :,0]==0)).to_sparse()\n",
    "cyan = torch.Tensor(etchfilm[:, :, :,1]!=0).to_sparse()\n",
    "cyan = cyan.indices().numpy().T\n",
    "\n",
    "gray = torch.Tensor(etchfilm[:, :, :,0]!=0).to_sparse()\n",
    "gray = gray.indices().numpy().T\n",
    "\n",
    "mask = torch.Tensor(etchfilm[:, :, :,2]!=0).to_sparse()\n",
    "mask = mask.indices().numpy().T\n",
    "\n",
    "maskmesh = pv.PolyData(mask)\n",
    "maskmesh[\"radius\"] = np.ones(mask.shape[0])*0.5\n",
    "\n",
    "depomesh = pv.PolyData(cyan)\n",
    "depomesh[\"radius\"] = np.ones(cyan.shape[0])*0.5\n",
    "geom = pv.Box()\n",
    "\n",
    "submesh = pv.PolyData(gray)\n",
    "submesh[\"radius\"] = np.ones(gray.shape[0])*0.5\n",
    "\n",
    "# Progress bar is a new feature on master branch\n",
    "maskglyphed = maskmesh.glyph(scale=\"radius\", geom=geom) # progress_bar=True)\n",
    "depoglyphed = depomesh.glyph(scale=\"radius\", geom=geom) # progress_bar=True)\n",
    "subglyphed = submesh.glyph(scale=\"radius\", geom=geom) # progress_bar=True)\n",
    "\n",
    "p = pv.Plotter()\n",
    "p.add_mesh(maskglyphed, color='green')\n",
    "# p.add_mesh(depoglyphed, color='cyan')\n",
    "p.add_mesh(subglyphed, color='dimgray')\n",
    "p.enable_eye_dome_lighting()\n",
    "p.show()"
   ]
  },
  {
   "cell_type": "code",
   "execution_count": null,
   "metadata": {},
   "outputs": [],
   "source": [
    "etchfilm = np.load('./bosch_data_1017_ratio08_hole/bosch_sf_step_13_sf.npy')"
   ]
  },
  {
   "cell_type": "code",
   "execution_count": null,
   "metadata": {},
   "outputs": [],
   "source": [
    "etchfilm = np.load('./bosch_data_1018_speedTest/bosch_sf_step_12_sf_nolimit.npy')"
   ]
  },
  {
   "cell_type": "code",
   "execution_count": null,
   "metadata": {},
   "outputs": [],
   "source": [
    "etchfilm = np.load('./bosch_data_1018_speedTest/bosch_sf_step_12_sf_nolimit_rate01.npy')"
   ]
  },
  {
   "cell_type": "code",
   "execution_count": null,
   "metadata": {},
   "outputs": [],
   "source": [
    "# cyan = torch.Tensor(np.logical_and(etchfilm[:50, :, :,1]==10, etchfilm[:50, :, :,0]==0)).to_sparse()\n",
    "cyan = torch.Tensor(etchfilm[:50, :, :,1]!=0).to_sparse()\n",
    "cyan = cyan.indices().numpy().T\n",
    "\n",
    "gray = torch.Tensor(etchfilm[:50, :, :,0]!=0).to_sparse()\n",
    "gray = gray.indices().numpy().T\n",
    "\n",
    "mask = torch.Tensor(etchfilm[:50, :, :,2]!=0).to_sparse()\n",
    "mask = mask.indices().numpy().T\n",
    "\n",
    "maskmesh = pv.PolyData(mask)\n",
    "maskmesh[\"radius\"] = np.ones(mask.shape[0])*0.5\n",
    "\n",
    "depomesh = pv.PolyData(cyan)\n",
    "depomesh[\"radius\"] = np.ones(cyan.shape[0])*0.5\n",
    "geom = pv.Box()\n",
    "\n",
    "submesh = pv.PolyData(gray)\n",
    "submesh[\"radius\"] = np.ones(gray.shape[0])*0.5\n",
    "\n",
    "# Progress bar is a new feature on master branch\n",
    "maskglyphed = maskmesh.glyph(scale=\"radius\", geom=geom) # progress_bar=True)\n",
    "depoglyphed = depomesh.glyph(scale=\"radius\", geom=geom) # progress_bar=True)\n",
    "subglyphed = submesh.glyph(scale=\"radius\", geom=geom) # progress_bar=True)\n",
    "\n",
    "p = pv.Plotter()\n",
    "p.add_mesh(maskglyphed, color='green')\n",
    "p.add_mesh(depoglyphed, color='cyan')\n",
    "p.add_mesh(subglyphed, color='dimgray')\n",
    "p.enable_eye_dome_lighting()\n",
    "p.show()"
   ]
  },
  {
   "cell_type": "code",
   "execution_count": null,
   "metadata": {},
   "outputs": [],
   "source": [
    "# cyan = torch.Tensor(np.logical_and(etchfilm[:50, :, :,1]==10, etchfilm[:50, :, :,0]==0)).to_sparse()\n",
    "cyan = torch.Tensor(etchfilm[:50, :, :,1]!=0).to_sparse()\n",
    "cyan = cyan.indices().numpy().T\n",
    "\n",
    "gray = torch.Tensor(etchfilm[:50, :, :,0]!=0).to_sparse()\n",
    "gray = gray.indices().numpy().T\n",
    "\n",
    "mask = torch.Tensor(etchfilm[:50, :, :,2]!=0).to_sparse()\n",
    "mask = mask.indices().numpy().T\n",
    "\n",
    "maskmesh = pv.PolyData(mask)\n",
    "maskmesh[\"radius\"] = np.ones(mask.shape[0])*0.5\n",
    "\n",
    "depomesh = pv.PolyData(cyan)\n",
    "depomesh[\"radius\"] = np.ones(cyan.shape[0])*0.5\n",
    "geom = pv.Box()\n",
    "\n",
    "submesh = pv.PolyData(gray)\n",
    "submesh[\"radius\"] = np.ones(gray.shape[0])*0.5\n",
    "\n",
    "# Progress bar is a new feature on master branch\n",
    "maskglyphed = maskmesh.glyph(scale=\"radius\", geom=geom) # progress_bar=True)\n",
    "depoglyphed = depomesh.glyph(scale=\"radius\", geom=geom) # progress_bar=True)\n",
    "subglyphed = submesh.glyph(scale=\"radius\", geom=geom) # progress_bar=True)\n",
    "\n",
    "p = pv.Plotter()\n",
    "p.add_mesh(maskglyphed, color='green')\n",
    "p.add_mesh(depoglyphed, color='cyan')\n",
    "p.add_mesh(subglyphed, color='dimgray')\n",
    "p.enable_eye_dome_lighting()\n",
    "p.show()"
   ]
  },
  {
   "cell_type": "code",
   "execution_count": null,
   "metadata": {},
   "outputs": [],
   "source": [
    "# cyan = torch.Tensor(np.logical_and(etchfilm[:50, :, :,1]==10, etchfilm[:50, :, :,0]==0)).to_sparse()\n",
    "cyan = torch.Tensor(etchfilm[:50, :, :,1]!=0).to_sparse()\n",
    "cyan = cyan.indices().numpy().T\n",
    "\n",
    "gray = torch.Tensor(etchfilm[:50, :, :,0]!=0).to_sparse()\n",
    "gray = gray.indices().numpy().T\n",
    "\n",
    "mask = torch.Tensor(etchfilm[:50, :, :,2]!=0).to_sparse()\n",
    "mask = mask.indices().numpy().T\n",
    "\n",
    "maskmesh = pv.PolyData(mask)\n",
    "maskmesh[\"radius\"] = np.ones(mask.shape[0])*0.5\n",
    "\n",
    "depomesh = pv.PolyData(cyan)\n",
    "depomesh[\"radius\"] = np.ones(cyan.shape[0])*0.5\n",
    "geom = pv.Box()\n",
    "\n",
    "submesh = pv.PolyData(gray)\n",
    "submesh[\"radius\"] = np.ones(gray.shape[0])*0.5\n",
    "\n",
    "# Progress bar is a new feature on master branch\n",
    "maskglyphed = maskmesh.glyph(scale=\"radius\", geom=geom) # progress_bar=True)\n",
    "depoglyphed = depomesh.glyph(scale=\"radius\", geom=geom) # progress_bar=True)\n",
    "subglyphed = submesh.glyph(scale=\"radius\", geom=geom) # progress_bar=True)\n",
    "\n",
    "p = pv.Plotter()\n",
    "p.add_mesh(maskglyphed, color='green')\n",
    "p.add_mesh(depoglyphed, color='cyan')\n",
    "p.add_mesh(subglyphed, color='dimgray')\n",
    "p.enable_eye_dome_lighting()\n",
    "p.show()"
   ]
  },
  {
   "cell_type": "code",
   "execution_count": null,
   "metadata": {},
   "outputs": [],
   "source": [
    "# cyan = torch.Tensor(np.logical_and(etching[:50, :, :,1]==10, etching[:50, :, :,0]==0)).to_sparse()\n",
    "cyan = torch.Tensor(etching[:50, :, :,1]!=0).to_sparse()\n",
    "cyan = cyan.indices().numpy().T\n",
    "\n",
    "gray = torch.Tensor(etching[:50, :, :,0]!=0).to_sparse()\n",
    "gray = gray.indices().numpy().T\n",
    "\n",
    "mask = torch.Tensor(etching[:50, :, :,2]!=0).to_sparse()\n",
    "mask = mask.indices().numpy().T\n",
    "\n",
    "maskmesh = pv.PolyData(mask)\n",
    "maskmesh[\"radius\"] = np.ones(mask.shape[0])*0.5\n",
    "\n",
    "depomesh = pv.PolyData(cyan)\n",
    "depomesh[\"radius\"] = np.ones(cyan.shape[0])*0.5\n",
    "geom = pv.Box()\n",
    "\n",
    "submesh = pv.PolyData(gray)\n",
    "submesh[\"radius\"] = np.ones(gray.shape[0])*0.5\n",
    "\n",
    "# Progress bar is a new feature on master branch\n",
    "maskglyphed = maskmesh.glyph(scale=\"radius\", geom=geom) # progress_bar=True)\n",
    "depoglyphed = depomesh.glyph(scale=\"radius\", geom=geom) # progress_bar=True)\n",
    "subglyphed = submesh.glyph(scale=\"radius\", geom=geom) # progress_bar=True)\n",
    "\n",
    "p = pv.Plotter()\n",
    "p.add_mesh(maskglyphed, color='green')\n",
    "p.add_mesh(depoglyphed, color='cyan')\n",
    "p.add_mesh(subglyphed, color='dimgray')\n",
    "p.enable_eye_dome_lighting()\n",
    "p.show()"
   ]
  },
  {
   "cell_type": "code",
   "execution_count": null,
   "metadata": {},
   "outputs": [],
   "source": []
  }
 ],
 "metadata": {
  "kernelspec": {
   "display_name": "base",
   "language": "python",
   "name": "python3"
  },
  "language_info": {
   "codemirror_mode": {
    "name": "ipython",
    "version": 3
   },
   "file_extension": ".py",
   "mimetype": "text/x-python",
   "name": "python",
   "nbconvert_exporter": "python",
   "pygments_lexer": "ipython3",
   "version": "3.12.5"
  }
 },
 "nbformat": 4,
 "nbformat_minor": 2
}

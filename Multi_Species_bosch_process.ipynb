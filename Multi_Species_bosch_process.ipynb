{
 "cells": [
  {
   "cell_type": "code",
   "execution_count": 1,
   "metadata": {},
   "outputs": [],
   "source": [
    "import numpy as np\n",
    "import time as Time\n",
    "from numba import jit\n",
    "import matplotlib.pyplot as plt\n",
    "import pyvista as pv\n",
    "import torch"
   ]
  },
  {
   "cell_type": "code",
   "execution_count": 20,
   "metadata": {},
   "outputs": [],
   "source": [
    "film = np.zeros((50, 100, 200, 2))\n",
    "\n",
    "bottom = 80\n",
    "film[:, :, 0:bottom, 0] = 10 # bottom\n",
    "\n",
    "height = 160\n",
    "\n",
    "film[:, :30, bottom:height, 1] = 10\n",
    "film[:, -30:, bottom:height, 1] = 10\n"
   ]
  },
  {
   "cell_type": "code",
   "execution_count": 13,
   "metadata": {},
   "outputs": [
    {
     "name": "stdout",
     "output_type": "stream",
     "text": [
      "(50, 50, 100)\n"
     ]
    }
   ],
   "source": [
    "sumFilm = np.sum(film, axis=-1)\n",
    "\n",
    "print(sumFilm.shape)"
   ]
  },
  {
   "cell_type": "code",
   "execution_count": 21,
   "metadata": {},
   "outputs": [
    {
     "data": {
      "application/vnd.jupyter.widget-view+json": {
       "model_id": "74e6601db89745ba99e20e8e63b71e73",
       "version_major": 2,
       "version_minor": 0
      },
      "text/plain": [
       "Widget(value='<iframe src=\"http://localhost:55142/index.html?ui=P_0x2228d3b6330_5&reconnect=auto\" class=\"pyvis…"
      ]
     },
     "metadata": {},
     "output_type": "display_data"
    }
   ],
   "source": [
    "depo1 = torch.Tensor(film[:, :, :, 1]!=0).to_sparse()\n",
    "depo1 = depo1.indices().numpy().T\n",
    "\n",
    "substrute = torch.Tensor(film[:, :, :,0]!=0).to_sparse()\n",
    "substrute = substrute.indices().numpy().T\n",
    "depomesh = pv.PolyData(depo1)\n",
    "depomesh[\"radius\"] = np.ones(depo1.shape[0])*0.5\n",
    "geom = pv.Box()\n",
    "\n",
    "submesh = pv.PolyData(substrute)\n",
    "submesh[\"radius\"] = np.ones(substrute.shape[0])*0.5\n",
    "\n",
    "# Progress bar is a new feature on master branch\n",
    "depoglyphed = depomesh.glyph(scale=\"radius\", geom=geom) # progress_bar=True)\n",
    "subglyphed = submesh.glyph(scale=\"radius\", geom=geom) # progress_bar=True)\n",
    "\n",
    "p = pv.Plotter()\n",
    "p.add_mesh(depoglyphed, color='cyan')\n",
    "p.add_mesh(subglyphed, color='dimgray')\n",
    "p.enable_eye_dome_lighting()\n",
    "p.show()"
   ]
  },
  {
   "cell_type": "code",
   "execution_count": 22,
   "metadata": {},
   "outputs": [],
   "source": [
    "etchfilm = film"
   ]
  },
  {
   "cell_type": "code",
   "execution_count": 7,
   "metadata": {},
   "outputs": [],
   "source": [
    "import Multi_Species_bosch_etching"
   ]
  },
  {
   "cell_type": "code",
   "execution_count": 8,
   "metadata": {},
   "outputs": [],
   "source": [
    "N = int(2e6)"
   ]
  },
  {
   "cell_type": "code",
   "execution_count": 9,
   "metadata": {},
   "outputs": [],
   "source": [
    "logname = 'Multi_species_benchmark_0729'\n",
    "testEtch = Multi_Species_bosch_etching.etching(mirror=True,inputMethod='bunch', pressure_pa=0.001, temperature=300, chamberSize=etchfilm.shape,\n",
    "                                         depoThick=100, center_with_direction=np.array([[35,100,75]]), \n",
    "                                         range3D=np.array([[0, 70, 0, 100, 0, 150]]), InOrOut=[1], yield_hist=np.array([None]),\n",
    "                                        reaction_type=False, param = [1.6, -0.7], N = N, \n",
    "                                        sub_xy=[0,0], film=etchfilm, n=1, cellSize=etchfilm.shape, \n",
    "                                        celllength=1e-5, kdtreeN=5, tstep=1e-5,\n",
    "                                        substrateTop=80,posGeneratorType='top', logname=logname)\n",
    "\n",
    "\n",
    "# etching = testEtch.depo_position_increase_cosVel_normal(125, int(7e6), 2e-3, 5)\n"
   ]
  },
  {
   "cell_type": "code",
   "execution_count": 10,
   "metadata": {},
   "outputs": [
    {
     "name": "stderr",
     "output_type": "stream",
     "text": [
      "running:  72%|██████████████████████████████████████▏              | 72.0/100 [12:10<04:44, 10.2s/B]"
     ]
    },
    {
     "name": "stdout",
     "output_type": "stream",
     "text": [
      "depo finish\n"
     ]
    },
    {
     "name": "stderr",
     "output_type": "stream",
     "text": [
      "\n"
     ]
    }
   ],
   "source": [
    "etching = testEtch.depo_position_increase_cosVel_normal(125, N, 1e-2, 10)"
   ]
  },
  {
   "cell_type": "code",
   "execution_count": 16,
   "metadata": {},
   "outputs": [
    {
     "data": {
      "text/plain": [
       "array([[10.        ,  0.        ],\n",
       "       [10.        ,  0.        ],\n",
       "       [10.        ,  0.        ],\n",
       "       [10.        ,  0.        ],\n",
       "       [10.        ,  0.        ],\n",
       "       [10.        ,  0.        ],\n",
       "       [10.        ,  0.        ],\n",
       "       [10.        ,  0.        ],\n",
       "       [10.        ,  0.        ],\n",
       "       [10.        ,  0.        ],\n",
       "       [10.        ,  0.        ],\n",
       "       [10.        ,  0.        ],\n",
       "       [10.        ,  0.        ],\n",
       "       [10.        ,  0.        ],\n",
       "       [10.        ,  0.        ],\n",
       "       [10.        ,  0.        ],\n",
       "       [10.        ,  0.        ],\n",
       "       [10.        ,  0.        ],\n",
       "       [10.        ,  0.        ],\n",
       "       [10.        ,  0.        ],\n",
       "       [10.        ,  0.        ],\n",
       "       [10.        ,  0.        ],\n",
       "       [10.        ,  0.        ],\n",
       "       [10.        ,  0.        ],\n",
       "       [10.        ,  0.        ],\n",
       "       [10.        ,  0.        ],\n",
       "       [10.        ,  0.        ],\n",
       "       [10.        ,  0.        ],\n",
       "       [10.        ,  0.        ],\n",
       "       [10.        ,  0.        ],\n",
       "       [10.        ,  0.        ],\n",
       "       [10.        ,  0.        ],\n",
       "       [10.        ,  0.        ],\n",
       "       [10.        ,  0.        ],\n",
       "       [10.        ,  0.        ],\n",
       "       [10.        ,  0.        ],\n",
       "       [10.        ,  0.        ],\n",
       "       [10.        ,  0.        ],\n",
       "       [10.        ,  0.        ],\n",
       "       [10.        ,  0.        ],\n",
       "       [10.        ,  0.        ],\n",
       "       [10.        ,  0.        ],\n",
       "       [10.        ,  0.        ],\n",
       "       [10.        ,  0.        ],\n",
       "       [10.        ,  0.        ],\n",
       "       [10.        ,  0.        ],\n",
       "       [10.        ,  0.        ],\n",
       "       [10.        ,  0.        ],\n",
       "       [10.        ,  0.        ],\n",
       "       [10.        ,  0.        ],\n",
       "       [10.        ,  0.        ],\n",
       "       [10.        ,  0.        ],\n",
       "       [10.        ,  0.        ],\n",
       "       [10.        ,  0.        ],\n",
       "       [10.        ,  0.        ],\n",
       "       [10.        ,  0.        ],\n",
       "       [10.        ,  0.        ],\n",
       "       [10.        ,  0.        ],\n",
       "       [10.        ,  0.        ],\n",
       "       [10.        ,  0.        ],\n",
       "       [10.        ,  0.        ],\n",
       "       [10.        ,  0.        ],\n",
       "       [10.        ,  0.        ],\n",
       "       [10.        ,  0.        ],\n",
       "       [10.        ,  0.        ],\n",
       "       [10.        ,  0.        ],\n",
       "       [10.        ,  0.        ],\n",
       "       [10.        ,  0.        ],\n",
       "       [10.        ,  0.        ],\n",
       "       [10.        ,  0.        ],\n",
       "       [10.        ,  0.        ],\n",
       "       [10.        ,  0.        ],\n",
       "       [10.        ,  0.        ],\n",
       "       [10.        ,  0.        ],\n",
       "       [10.        ,  0.        ],\n",
       "       [10.        ,  0.        ],\n",
       "       [10.        ,  0.        ],\n",
       "       [10.        ,  0.        ],\n",
       "       [ 1.02997259,  0.        ],\n",
       "       [ 1.02003775,  0.        ],\n",
       "       [ 1.01245715,  0.        ],\n",
       "       [ 1.04233452,  0.        ],\n",
       "       [ 1.02209828,  0.        ],\n",
       "       [ 1.08799596,  0.        ],\n",
       "       [ 1.0670912 ,  0.        ],\n",
       "       [ 1.01561389,  0.        ],\n",
       "       [ 1.01342373,  0.        ],\n",
       "       [ 1.00265292,  0.        ],\n",
       "       [ 1.03208893,  0.        ],\n",
       "       [ 1.0262292 ,  0.        ],\n",
       "       [ 1.03118942,  0.        ],\n",
       "       [ 1.05680455,  0.        ],\n",
       "       [ 1.08671364,  0.        ],\n",
       "       [ 1.07280976,  0.        ],\n",
       "       [ 1.00673739,  0.        ],\n",
       "       [ 1.01040869,  0.        ],\n",
       "       [ 1.0322215 ,  0.        ],\n",
       "       [ 1.07575394,  0.        ],\n",
       "       [ 0.94819062,  0.        ],\n",
       "       [ 0.        ,  0.        ],\n",
       "       [ 0.        ,  0.        ],\n",
       "       [ 0.        ,  0.        ],\n",
       "       [ 0.        ,  0.        ],\n",
       "       [ 0.        ,  0.        ],\n",
       "       [ 0.        ,  0.        ],\n",
       "       [ 0.        ,  0.        ],\n",
       "       [ 0.        ,  0.        ],\n",
       "       [ 0.        ,  0.        ],\n",
       "       [ 0.        ,  0.        ],\n",
       "       [ 0.        ,  0.        ],\n",
       "       [ 0.        ,  0.        ],\n",
       "       [ 0.        ,  0.        ],\n",
       "       [ 0.        ,  0.        ],\n",
       "       [ 0.        ,  0.        ],\n",
       "       [ 0.        ,  0.        ],\n",
       "       [ 0.        ,  0.        ],\n",
       "       [ 0.        ,  0.        ],\n",
       "       [ 0.        ,  0.        ],\n",
       "       [ 0.        ,  0.        ],\n",
       "       [ 0.        ,  0.        ],\n",
       "       [ 0.        ,  0.        ],\n",
       "       [ 0.        ,  0.        ],\n",
       "       [ 0.        ,  0.        ],\n",
       "       [ 0.        ,  0.        ],\n",
       "       [ 0.        ,  0.        ],\n",
       "       [ 0.        ,  0.        ],\n",
       "       [ 0.        ,  0.        ],\n",
       "       [ 0.        ,  0.        ],\n",
       "       [ 0.        ,  0.        ],\n",
       "       [ 0.        ,  0.        ],\n",
       "       [ 0.        ,  0.        ],\n",
       "       [ 0.        ,  0.        ],\n",
       "       [ 0.        ,  0.        ],\n",
       "       [ 0.        ,  0.        ],\n",
       "       [ 0.        ,  0.        ],\n",
       "       [ 0.        ,  0.        ],\n",
       "       [ 0.        ,  0.        ],\n",
       "       [ 0.        ,  0.        ],\n",
       "       [ 0.        ,  0.        ],\n",
       "       [ 0.        ,  0.        ],\n",
       "       [ 0.        ,  0.        ],\n",
       "       [ 0.        ,  0.        ],\n",
       "       [ 0.        ,  0.        ],\n",
       "       [ 0.        ,  0.        ],\n",
       "       [ 0.        ,  0.        ],\n",
       "       [ 0.        ,  0.        ],\n",
       "       [ 0.        ,  0.        ],\n",
       "       [ 0.        ,  0.        ],\n",
       "       [ 0.        ,  0.        ],\n",
       "       [ 0.        ,  0.        ],\n",
       "       [ 0.        ,  0.        ],\n",
       "       [ 0.        ,  0.        ],\n",
       "       [ 0.        ,  0.        ],\n",
       "       [ 0.        ,  0.        ],\n",
       "       [ 0.        ,  0.        ],\n",
       "       [ 0.        ,  0.        ],\n",
       "       [ 0.        ,  0.        ],\n",
       "       [ 0.        ,  0.        ],\n",
       "       [ 0.        ,  0.        ],\n",
       "       [ 0.        ,  0.        ],\n",
       "       [ 0.        ,  0.        ],\n",
       "       [ 0.        ,  0.        ],\n",
       "       [ 0.        ,  0.        ],\n",
       "       [ 0.        ,  0.        ],\n",
       "       [ 0.        ,  0.        ],\n",
       "       [ 0.        ,  0.        ],\n",
       "       [ 0.        ,  0.        ],\n",
       "       [ 0.        ,  0.        ],\n",
       "       [ 0.        ,  0.        ],\n",
       "       [ 0.        ,  0.        ],\n",
       "       [ 0.        ,  0.        ],\n",
       "       [ 0.        ,  0.        ],\n",
       "       [ 0.        ,  0.        ],\n",
       "       [ 0.        ,  0.        ],\n",
       "       [ 0.        ,  0.        ],\n",
       "       [ 0.        ,  0.        ],\n",
       "       [ 0.        ,  0.        ],\n",
       "       [ 0.        ,  0.        ],\n",
       "       [ 0.        ,  0.        ],\n",
       "       [ 0.        ,  0.        ]])"
      ]
     },
     "execution_count": 16,
     "metadata": {},
     "output_type": "execute_result"
    }
   ],
   "source": [
    "etchfilm[25, 100, :]"
   ]
  },
  {
   "cell_type": "code",
   "execution_count": 11,
   "metadata": {},
   "outputs": [
    {
     "name": "stderr",
     "output_type": "stream",
     "text": [
      "c:\\Users\\urcs049\\AppData\\Local\\anaconda3\\Lib\\site-packages\\pyvista\\core\\utilities\\points.py:55: UserWarning: Points is not a float type. This can cause issues when transforming or applying filters. Casting to ``np.float32``. Disable this by passing ``force_float=False``.\n",
      "  warnings.warn(\n",
      "c:\\Users\\urcs049\\AppData\\Local\\anaconda3\\Lib\\site-packages\\pyvista\\core\\filters\\data_set.py:2386: UserWarning: No vector-like data to use for orient. orient will be set to False.\n",
      "  warnings.warn(\"No vector-like data to use for orient. orient will be set to False.\")\n"
     ]
    },
    {
     "data": {
      "application/vnd.jupyter.widget-view+json": {
       "model_id": "5e2ce3fedd904375a38a19073faf79f9",
       "version_major": 2,
       "version_minor": 0
      },
      "text/plain": [
       "Widget(value='<iframe src=\"http://localhost:55142/index.html?ui=P_0x222cc0fce00_1&reconnect=auto\" class=\"pyvis…"
      ]
     },
     "metadata": {},
     "output_type": "display_data"
    }
   ],
   "source": [
    "sumFilm = np.sum(etching[0], axis=-1)\n",
    "\n",
    "depo1 = torch.Tensor(np.logical_and(sumFilm[:, :, :,]!=10, sumFilm[:, :, :,]!=0)).to_sparse()\n",
    "depo1 = depo1.indices().numpy().T\n",
    "\n",
    "substrute = torch.Tensor(sumFilm[:, :, :,]==10).to_sparse()\n",
    "substrute = substrute.indices().numpy().T\n",
    "depomesh = pv.PolyData(depo1)\n",
    "depomesh[\"radius\"] = np.ones(depo1.shape[0])*0.5\n",
    "geom = pv.Box()\n",
    "\n",
    "submesh = pv.PolyData(substrute)\n",
    "submesh[\"radius\"] = np.ones(substrute.shape[0])*0.5\n",
    "\n",
    "# Progress bar is a new feature on master branch\n",
    "depoglyphed = depomesh.glyph(scale=\"radius\", geom=geom) # progress_bar=True)\n",
    "subglyphed = submesh.glyph(scale=\"radius\", geom=geom) # progress_bar=True)\n",
    "\n",
    "p = pv.Plotter()\n",
    "p.add_mesh(depoglyphed, color='cyan')\n",
    "p.add_mesh(subglyphed, color='dimgray')\n",
    "p.enable_eye_dome_lighting()\n",
    "p.show()"
   ]
  },
  {
   "cell_type": "code",
   "execution_count": 31,
   "metadata": {},
   "outputs": [
    {
     "name": "stderr",
     "output_type": "stream",
     "text": [
      "l:\\program\\Lib\\site-packages\\pyvista\\core\\utilities\\points.py:52: UserWarning: Points is not a float type. This can cause issues when transforming or applying filters. Casting to ``np.float32``. Disable this by passing ``force_float=False``.\n",
      "  warnings.warn(\n",
      "l:\\program\\Lib\\site-packages\\pyvista\\core\\filters\\data_set.py:2320: UserWarning: No vector-like data to use for orient. orient will be set to False.\n",
      "  warnings.warn(\"No vector-like data to use for orient. orient will be set to False.\")\n"
     ]
    },
    {
     "data": {
      "application/vnd.jupyter.widget-view+json": {
       "model_id": "5411e0591ec844f9bb82648b6c85b0a3",
       "version_major": 2,
       "version_minor": 0
      },
      "text/plain": [
       "Widget(value='<iframe src=\"http://localhost:53252/index.html?ui=P_0x16c118f24d0_6&reconnect=auto\" class=\"pyvis…"
      ]
     },
     "metadata": {},
     "output_type": "display_data"
    }
   ],
   "source": [
    "sumFilm = np.sum(etching[0], axis=-1)\n",
    "\n",
    "depo1 = torch.Tensor(np.logical_and(sumFilm[:, :50, :,]!=10, sumFilm[:, :50, :,]!=0)).to_sparse()\n",
    "depo1 = depo1.indices().numpy().T\n",
    "\n",
    "substrute = torch.Tensor(sumFilm[:, :50, :,]==10).to_sparse()\n",
    "substrute = substrute.indices().numpy().T\n",
    "depomesh = pv.PolyData(depo1)\n",
    "depomesh[\"radius\"] = np.ones(depo1.shape[0])*0.5\n",
    "geom = pv.Box()\n",
    "\n",
    "submesh = pv.PolyData(substrute)\n",
    "submesh[\"radius\"] = np.ones(substrute.shape[0])*0.5\n",
    "\n",
    "# Progress bar is a new feature on master branch\n",
    "depoglyphed = depomesh.glyph(scale=\"radius\", geom=geom) # progress_bar=True)\n",
    "subglyphed = submesh.glyph(scale=\"radius\", geom=geom) # progress_bar=True)\n",
    "\n",
    "p = pv.Plotter()\n",
    "p.add_mesh(depoglyphed, color='cyan')\n",
    "p.add_mesh(subglyphed, color='dimgray')\n",
    "p.enable_eye_dome_lighting()\n",
    "p.show()"
   ]
  },
  {
   "cell_type": "code",
   "execution_count": null,
   "metadata": {},
   "outputs": [],
   "source": []
  }
 ],
 "metadata": {
  "kernelspec": {
   "display_name": "Python 3",
   "language": "python",
   "name": "python3"
  },
  "language_info": {
   "codemirror_mode": {
    "name": "ipython",
    "version": 3
   },
   "file_extension": ".py",
   "mimetype": "text/x-python",
   "name": "python",
   "nbconvert_exporter": "python",
   "pygments_lexer": "ipython3",
   "version": "3.12.5"
  }
 },
 "nbformat": 4,
 "nbformat_minor": 2
}

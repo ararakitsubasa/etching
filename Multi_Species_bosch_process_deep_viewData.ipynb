{
 "cells": [
  {
   "cell_type": "code",
   "execution_count": 2,
   "metadata": {},
   "outputs": [],
   "source": [
    "import numpy as np\n",
    "import pyvista as pv\n",
    "import torch"
   ]
  },
  {
   "cell_type": "code",
   "execution_count": 75,
   "metadata": {},
   "outputs": [],
   "source": [
    "etching = np.load('./bosch_data_1010_ratio08/bosch_sf_step_6_sf.npy')"
   ]
  },
  {
   "cell_type": "code",
   "execution_count": 18,
   "metadata": {},
   "outputs": [],
   "source": [
    "etching = np.load('./bosch_data_1007_ratio08/bosch_sf_step_40_c4f8.npy')"
   ]
  },
  {
   "cell_type": "code",
   "execution_count": 48,
   "metadata": {},
   "outputs": [],
   "source": [
    "etching = np.load('./bosch_data_1009_ratio08/bosch_sf_step_5_Ar.npy')"
   ]
  },
  {
   "cell_type": "code",
   "execution_count": 62,
   "metadata": {},
   "outputs": [],
   "source": [
    "etching = np.load('./bosch_data_1009_ratio08/bosch_sf_step_1_c4f8.npy')"
   ]
  },
  {
   "cell_type": "code",
   "execution_count": 52,
   "metadata": {},
   "outputs": [],
   "source": [
    "etching = np.load('./bosch_data_1009_ratio08/bosch_sf_step_5_sf.npy')"
   ]
  },
  {
   "cell_type": "code",
   "execution_count": 2,
   "metadata": {},
   "outputs": [],
   "source": [
    "etching = np.load('./bosch_data_1007_ratio08/bosch_mask.npy')"
   ]
  },
  {
   "cell_type": "code",
   "execution_count": 6,
   "metadata": {},
   "outputs": [],
   "source": [
    "from surface_normalize_bosch import surface_normal\n",
    "\n",
    "center_with_direction=np.array([[50,50,140]])\n",
    "range3D=np.array([[0, 100, 0, 100, 0, 800]])\n",
    "InOrOut=[1]\n",
    "yield_hist=np.array([None])\n",
    "celllength=1e-5\n",
    "\n",
    "maskTop=40\n",
    "maskBottom=98\n",
    "maskStep=10\n",
    "maskCenter=[50, 50]\n",
    "surface =  surface_normal(center_with_direction, range3D, InOrOut,celllength, yield_hist,\\\n",
    "                          maskTop, maskBottom, maskStep, maskCenter)"
   ]
  },
  {
   "cell_type": "code",
   "execution_count": 37,
   "metadata": {},
   "outputs": [],
   "source": [
    "indice_c3 = np.logical_and(etching[:, :, :, 1]>9, etching[:, :, :, 1]<10)\n",
    "etching[indice_c3, 1] = 0"
   ]
  },
  {
   "cell_type": "code",
   "execution_count": null,
   "metadata": {},
   "outputs": [],
   "source": [
    "(1.1**40)*100"
   ]
  },
  {
   "cell_type": "code",
   "execution_count": null,
   "metadata": {},
   "outputs": [],
   "source": [
    "cyan = torch.Tensor(np.logical_and(etching[:50, :, :,1]==10, etching[:50, :, :,0]==0)).to_sparse()\n",
    "# cyan = torch.Tensor(etching[:50, :, :,1]!=0).to_sparse()\n",
    "cyan = cyan.indices().numpy().T\n",
    "\n",
    "gray = torch.Tensor(etching[:50, :, :,0]!=0).to_sparse()\n",
    "gray = gray.indices().numpy().T\n",
    "\n",
    "mask = torch.Tensor(etching[:50, :, :,2]!=0).to_sparse()\n",
    "mask = mask.indices().numpy().T\n",
    "\n",
    "maskmesh = pv.PolyData(mask)\n",
    "maskmesh[\"radius\"] = np.ones(mask.shape[0])*0.5\n",
    "\n",
    "depomesh = pv.PolyData(cyan)\n",
    "depomesh[\"radius\"] = np.ones(cyan.shape[0])*0.5\n",
    "geom = pv.Box()\n",
    "\n",
    "submesh = pv.PolyData(gray)\n",
    "submesh[\"radius\"] = np.ones(gray.shape[0])*0.5\n",
    "\n",
    "# Progress bar is a new feature on master branch\n",
    "maskglyphed = maskmesh.glyph(scale=\"radius\", geom=geom) # progress_bar=True)\n",
    "depoglyphed = depomesh.glyph(scale=\"radius\", geom=geom) # progress_bar=True)\n",
    "subglyphed = submesh.glyph(scale=\"radius\", geom=geom) # progress_bar=True)\n",
    "\n",
    "p = pv.Plotter()\n",
    "p.add_mesh(maskglyphed, color='green')\n",
    "p.add_mesh(depoglyphed, color='cyan')\n",
    "p.add_mesh(subglyphed, color='dimgray')\n",
    "p.enable_eye_dome_lighting()\n",
    "p.show()"
   ]
  },
  {
   "cell_type": "code",
   "execution_count": null,
   "metadata": {},
   "outputs": [],
   "source": [
    "planes = surface.get_pointcloud(np.sum(etching, axis=-1))\n",
    "\n",
    "helf_plane = int(planes.shape[0]/2)\n",
    "\n",
    "point_cloud = pv.PolyData(planes[:helf_plane, 3:])\n",
    "vectors = planes[:helf_plane, :3]\n",
    "\n",
    "point_cloud['vectors'] = vectors\n",
    "arrows = point_cloud.glyph(\n",
    "    orient='vectors',\n",
    "    scale=10000,\n",
    "    factor=3,\n",
    ")\n",
    "\n",
    "# Display the arrowscyan\n",
    "\n",
    "\n",
    "plotter = pv.Plotter()\n",
    "plotter.add_mesh(point_cloud, color='cyan', point_size=5.0, render_points_as_spheres=True)\n",
    "# plotter.add_mesh(sphere, show_edges=True, opacity=0.5, color=\"w\")\n",
    "plotter.add_mesh(arrows, color='lightblue')\n",
    "# # plotter.add_point_labels([point_cloud.center,], ['Center',],\n",
    "# #                          point_color='yellow', point_size=20)\n",
    "plotter.show_grid()\n",
    "plotter.show()"
   ]
  },
  {
   "cell_type": "code",
   "execution_count": null,
   "metadata": {},
   "outputs": [],
   "source": [
    "print(vectors.shape)"
   ]
  },
  {
   "cell_type": "code",
   "execution_count": null,
   "metadata": {},
   "outputs": [],
   "source": [
    "print(vectors[:10])"
   ]
  },
  {
   "cell_type": "code",
   "execution_count": null,
   "metadata": {},
   "outputs": [],
   "source": [
    "print(np.linalg.norm(vectors[:10],axis=-1))"
   ]
  },
  {
   "cell_type": "code",
   "execution_count": null,
   "metadata": {},
   "outputs": [],
   "source": [
    "planes = surface.get_pointcloud(np.sum(etching, axis=-1))\n",
    "planes[:10, 3:]"
   ]
  },
  {
   "cell_type": "code",
   "execution_count": 8,
   "metadata": {},
   "outputs": [],
   "source": [
    "maskWall_indice = np.logical_and(planes[:, 5] > -102, planes[:, 5] < -158)"
   ]
  },
  {
   "cell_type": "code",
   "execution_count": null,
   "metadata": {},
   "outputs": [],
   "source": [
    "maskWall_indice.shape"
   ]
  },
  {
   "cell_type": "code",
   "execution_count": null,
   "metadata": {},
   "outputs": [],
   "source": [
    "test = planes[maskWall_indice, 3:]\n",
    "\n",
    "print(test.shape)"
   ]
  },
  {
   "cell_type": "code",
   "execution_count": null,
   "metadata": {},
   "outputs": [],
   "source": [
    "planes.shape"
   ]
  },
  {
   "cell_type": "code",
   "execution_count": null,
   "metadata": {},
   "outputs": [],
   "source": [
    "planes = surface.get_pointcloud(np.sum(etching, axis=-1))\n",
    "maskWall_indice = np.logical_and(planes[:, 5] > 102, planes[:, 5] < 158)\n",
    "test = planes[maskWall_indice, 3:]\n",
    "\n",
    "test[:, 0] -= 50\n",
    "test[:, 1] -= 50\n",
    "\n",
    "np.sqrt(test[:, 0]*test[:, 0] + test[:, 1]*test[:, 1] )\n",
    "\n",
    "vector_z = np.sqrt(test[:, 0]*test[:, 0] + test[:, 1]*test[:, 1])/10\n",
    "\n",
    "print(vector_z)\n",
    "\n",
    "new_vector = np.array([-test[:, 0], -test[:, 1], -vector_z]).T\n",
    "new_vector_norm = np.linalg.norm(new_vector, axis=-1)\n",
    "\n",
    "new_vector[:, 0] = np.divide(new_vector[:, 0], new_vector_norm)\n",
    "new_vector[:, 1] = np.divide(new_vector[:, 1], new_vector_norm)\n",
    "new_vector[:, 2] = np.divide(new_vector[:, 2], new_vector_norm)\n",
    "\n",
    "planes[maskWall_indice, :3] = new_vector\n",
    "print(test)"
   ]
  },
  {
   "cell_type": "code",
   "execution_count": null,
   "metadata": {},
   "outputs": [],
   "source": [
    "test.shape"
   ]
  },
  {
   "cell_type": "code",
   "execution_count": null,
   "metadata": {},
   "outputs": [],
   "source": [
    "planes.shape"
   ]
  },
  {
   "cell_type": "code",
   "execution_count": null,
   "metadata": {},
   "outputs": [],
   "source": [
    "np.sqrt(test[:, 0]*test[:, 0] + test[:, 1]*test[:, 1] )\n",
    "\n",
    "vector_z = np.sqrt(test[:, 0]*test[:, 0] + test[:, 1]*test[:, 1])/10\n",
    "\n",
    "print(vector_z)\n",
    "\n",
    "new_vector = np.array([-test[:, 0], -test[:, 1], -vector_z]).T\n",
    "new_vector_norm = np.linalg.norm(new_vector, axis=-1)\n",
    "\n",
    "new_vector[:, 0] = np.divide(new_vector[:, 0], new_vector_norm)\n",
    "new_vector[:, 1] = np.divide(new_vector[:, 1], new_vector_norm)\n",
    "new_vector[:, 2] = np.divide(new_vector[:, 2], new_vector_norm)\n"
   ]
  },
  {
   "cell_type": "code",
   "execution_count": null,
   "metadata": {},
   "outputs": [],
   "source": [
    "helf_plane = int(planes.shape[0])\n",
    "point_cloud = pv.PolyData(planes[:helf_plane, 3:])\n",
    "vectors = planes[:helf_plane, :3]\n",
    "\n",
    "point_cloud['vectors'] = vectors\n",
    "arrows = point_cloud.glyph(\n",
    "    orient='vectors',\n",
    "    scale=100000,\n",
    "    factor=3,\n",
    ")\n",
    "\n",
    "# Display the arrowscyan\n",
    "\n",
    "plotter = pv.Plotter()\n",
    "plotter.add_mesh(point_cloud, color='cyan', point_size=5.0, render_points_as_spheres=True)\n",
    "# plotter.add_mesh(sphere, show_edges=True, opacity=0.5, color=\"w\")\n",
    "plotter.add_mesh(arrows, color='lightblue')\n",
    "# # plotter.add_point_labels([point_cloud.center,], ['Center',],\n",
    "# #                          point_color='yellow', point_size=20)\n",
    "plotter.show_grid()\n",
    "plotter.show()"
   ]
  },
  {
   "cell_type": "code",
   "execution_count": null,
   "metadata": {},
   "outputs": [],
   "source": [
    "planes = surface.get_pointcloud(np.sum(etching, axis=-1))\n",
    "helf_plane = int(planes.shape[0]/2)\n",
    "point_cloud = pv.PolyData(planes[:helf_plane, 3:])\n",
    "vectors = planes[:helf_plane, :3]\n",
    "\n",
    "point_cloud['vectors'] = vectors\n",
    "arrows = point_cloud.glyph(\n",
    "    orient='vectors',\n",
    "    scale=100000,\n",
    "    factor=3,\n",
    ")\n",
    "\n",
    "# Display the arrowscyan\n",
    "\n",
    "plotter = pv.Plotter()\n",
    "plotter.add_mesh(point_cloud, color='cyan', point_size=5.0, render_points_as_spheres=True)\n",
    "# plotter.add_mesh(sphere, show_edges=True, opacity=0.5, color=\"w\")\n",
    "plotter.add_mesh(arrows, color='lightblue')\n",
    "# # plotter.add_point_labels([point_cloud.center,], ['Center',],\n",
    "# #                          point_color='yellow', point_size=20)\n",
    "plotter.show_grid()\n",
    "plotter.show()"
   ]
  },
  {
   "cell_type": "code",
   "execution_count": null,
   "metadata": {},
   "outputs": [],
   "source": [
    "depo1 = torch.Tensor(np.logical_and(etching[:, 50:, :,1]!=0, etching[:, 50:, :,0]==0)).to_sparse()\n",
    "depo1 = depo1.indices().numpy().T\n",
    "\n",
    "substrute = torch.Tensor(etching[:, 50:, :,0]!=0).to_sparse()\n",
    "substrute = substrute.indices().numpy().T\n",
    "\n",
    "mask = torch.Tensor(etching[:, 50:, :,2]!=0).to_sparse()\n",
    "mask = mask.indices().numpy().T\n",
    "\n",
    "maskmesh = pv.PolyData(mask)\n",
    "maskmesh[\"radius\"] = np.ones(mask.shape[0])*0.5\n",
    "\n",
    "depomesh = pv.PolyData(depo1)\n",
    "depomesh[\"radius\"] = np.ones(depo1.shape[0])*0.5\n",
    "geom = pv.Box()\n",
    "\n",
    "submesh = pv.PolyData(substrute)\n",
    "submesh[\"radius\"] = np.ones(substrute.shape[0])*0.5\n",
    "\n",
    "# Progress bar is a new feature on master branch\n",
    "maskglyphed = maskmesh.glyph(scale=\"radius\", geom=geom) # progress_bar=True)\n",
    "depoglyphed = depomesh.glyph(scale=\"radius\", geom=geom) # progress_bar=True)\n",
    "subglyphed = submesh.glyph(scale=\"radius\", geom=geom) # progress_bar=True)\n",
    "\n",
    "p = pv.Plotter()\n",
    "p.add_mesh(maskglyphed, color='green')\n",
    "p.add_mesh(depoglyphed, color='cyan')\n",
    "p.add_mesh(subglyphed, color='dimgray')\n",
    "p.enable_eye_dome_lighting()\n",
    "p.show()"
   ]
  },
  {
   "cell_type": "code",
   "execution_count": null,
   "metadata": {},
   "outputs": [],
   "source": [
    "depo1 = torch.Tensor(np.logical_and(etching[:50, :, :,1]!=0, etching[:50, :, :,0]==0)).to_sparse()\n",
    "depo1 = depo1.indices().numpy().T\n",
    "\n",
    "substrute = torch.Tensor(etching[:50, :, :,0]!=0).to_sparse()\n",
    "substrute = substrute.indices().numpy().T\n",
    "depomesh = pv.PolyData(depo1)\n",
    "depomesh[\"radius\"] = np.ones(depo1.shape[0])*0.5\n",
    "geom = pv.Box()\n",
    "\n",
    "submesh = pv.PolyData(substrute)\n",
    "submesh[\"radius\"] = np.ones(substrute.shape[0])*0.5\n",
    "\n",
    "# Progress bar is a new feature on master branch\n",
    "depoglyphed = depomesh.glyph(scale=\"radius\", geom=geom) # progress_bar=True)\n",
    "subglyphed = submesh.glyph(scale=\"radius\", geom=geom) # progress_bar=True)\n",
    "\n",
    "p = pv.Plotter()\n",
    "p.add_mesh(depoglyphed, color='cyan')\n",
    "p.add_mesh(subglyphed, color='dimgray')\n",
    "p.enable_eye_dome_lighting()\n",
    "p.show()"
   ]
  },
  {
   "cell_type": "code",
   "execution_count": null,
   "metadata": {},
   "outputs": [],
   "source": [
    "etching[50, 50, 65:85]"
   ]
  },
  {
   "cell_type": "code",
   "execution_count": 38,
   "metadata": {},
   "outputs": [],
   "source": [
    "etching = np.load('./bosch_data_1002_ratio08/bosch_sf_step_5_c4f8.npy')"
   ]
  },
  {
   "cell_type": "code",
   "execution_count": null,
   "metadata": {},
   "outputs": [],
   "source": [
    "depo1 = torch.Tensor(etching[:50, :, :,1]==10).to_sparse()\n",
    "depo1 = depo1.indices().numpy().T\n",
    "\n",
    "substrute = torch.Tensor(etching[:50, :, :,0]!=0).to_sparse()\n",
    "substrute = substrute.indices().numpy().T\n",
    "depomesh = pv.PolyData(depo1)\n",
    "depomesh[\"radius\"] = np.ones(depo1.shape[0])*0.5\n",
    "geom = pv.Box()\n",
    "\n",
    "submesh = pv.PolyData(substrute)\n",
    "submesh[\"radius\"] = np.ones(substrute.shape[0])*0.5\n",
    "\n",
    "# Progress bar is a new feature on master branch\n",
    "depoglyphed = depomesh.glyph(scale=\"radius\", geom=geom) # progress_bar=True)\n",
    "subglyphed = submesh.glyph(scale=\"radius\", geom=geom) # progress_bar=True)\n",
    "\n",
    "p = pv.Plotter()\n",
    "p.add_mesh(depoglyphed, color='cyan')\n",
    "p.add_mesh(subglyphed, color='dimgray')\n",
    "p.enable_eye_dome_lighting()\n",
    "p.show()"
   ]
  },
  {
   "cell_type": "code",
   "execution_count": null,
   "metadata": {},
   "outputs": [],
   "source": [
    "depo1 = torch.Tensor(etching[:, :, :,1]==10).to_sparse()\n",
    "depo1 = depo1.indices().numpy().T\n",
    "\n",
    "substrute = torch.Tensor(etching[:, :, :,0]!=0).to_sparse()\n",
    "substrute = substrute.indices().numpy().T\n",
    "depomesh = pv.PolyData(depo1)\n",
    "depomesh[\"radius\"] = np.ones(depo1.shape[0])*0.5\n",
    "geom = pv.Box()\n",
    "\n",
    "submesh = pv.PolyData(substrute)\n",
    "submesh[\"radius\"] = np.ones(substrute.shape[0])*0.5\n",
    "\n",
    "# Progress bar is a new feature on master branch\n",
    "depoglyphed = depomesh.glyph(scale=\"radius\", geom=geom) # progress_bar=True)\n",
    "subglyphed = submesh.glyph(scale=\"radius\", geom=geom) # progress_bar=True)\n",
    "\n",
    "p = pv.Plotter()\n",
    "p.add_mesh(depoglyphed, color='cyan')\n",
    "# p.add_mesh(subglyphed, color='dimgray')\n",
    "p.enable_eye_dome_lighting()\n",
    "p.show()"
   ]
  },
  {
   "cell_type": "code",
   "execution_count": null,
   "metadata": {},
   "outputs": [],
   "source": [
    "depo1 = torch.Tensor(np.logical_and(etching[:50, :, :,1]!=0, etching[:50, :, :,0]==0)).to_sparse()\n",
    "depo1 = depo1.indices().numpy().T\n",
    "\n",
    "substrute = torch.Tensor(etching[:50, :, :,0]!=0).to_sparse()\n",
    "substrute = substrute.indices().numpy().T\n",
    "depomesh = pv.PolyData(depo1)\n",
    "depomesh[\"radius\"] = np.ones(depo1.shape[0])*0.5\n",
    "geom = pv.Box()\n",
    "\n",
    "submesh = pv.PolyData(substrute)\n",
    "submesh[\"radius\"] = np.ones(substrute.shape[0])*0.5\n",
    "\n",
    "# Progress bar is a new feature on master branch\n",
    "depoglyphed = depomesh.glyph(scale=\"radius\", geom=geom) # progress_bar=True)\n",
    "subglyphed = submesh.glyph(scale=\"radius\", geom=geom) # progress_bar=True)\n",
    "\n",
    "p = pv.Plotter()\n",
    "p.add_mesh(depoglyphed, color='cyan')\n",
    "p.add_mesh(subglyphed, color='dimgray')\n",
    "p.enable_eye_dome_lighting()\n",
    "p.show()"
   ]
  },
  {
   "cell_type": "code",
   "execution_count": null,
   "metadata": {},
   "outputs": [],
   "source": [
    "depo1 = torch.Tensor(etching[:, :, :,1]==10).to_sparse()\n",
    "depo1 = depo1.indices().numpy().T\n",
    "\n",
    "substrute = torch.Tensor(etching[:, :, :,0]!=0).to_sparse()\n",
    "substrute = substrute.indices().numpy().T\n",
    "depomesh = pv.PolyData(depo1)\n",
    "depomesh[\"radius\"] = np.ones(depo1.shape[0])*0.5\n",
    "geom = pv.Box()\n",
    "\n",
    "submesh = pv.PolyData(substrute)\n",
    "submesh[\"radius\"] = np.ones(substrute.shape[0])*0.5\n",
    "\n",
    "# Progress bar is a new feature on master branch\n",
    "depoglyphed = depomesh.glyph(scale=\"radius\", geom=geom) # progress_bar=True)\n",
    "subglyphed = submesh.glyph(scale=\"radius\", geom=geom) # progress_bar=True)\n",
    "\n",
    "p = pv.Plotter()\n",
    "p.add_mesh(depoglyphed, color='cyan')\n",
    "# p.add_mesh(subglyphed, color='dimgray')\n",
    "p.enable_eye_dome_lighting()\n",
    "p.show()"
   ]
  },
  {
   "cell_type": "code",
   "execution_count": null,
   "metadata": {},
   "outputs": [],
   "source": [
    "depo1 = torch.Tensor(np.logical_and(etching[:50, :, :,1]!=0, etching[:50, :, :,0]==0)).to_sparse()\n",
    "depo1 = depo1.indices().numpy().T\n",
    "\n",
    "substrute = torch.Tensor(etching[:50, :, :,0]!=0).to_sparse()\n",
    "substrute = substrute.indices().numpy().T\n",
    "depomesh = pv.PolyData(depo1)\n",
    "depomesh[\"radius\"] = np.ones(depo1.shape[0])*0.5\n",
    "geom = pv.Box()\n",
    "\n",
    "submesh = pv.PolyData(substrute)\n",
    "submesh[\"radius\"] = np.ones(substrute.shape[0])*0.5\n",
    "\n",
    "# Progress bar is a new feature on master branch\n",
    "depoglyphed = depomesh.glyph(scale=\"radius\", geom=geom) # progress_bar=True)\n",
    "subglyphed = submesh.glyph(scale=\"radius\", geom=geom) # progress_bar=True)\n",
    "\n",
    "p = pv.Plotter()\n",
    "p.add_mesh(depoglyphed, color='cyan')\n",
    "# p.add_mesh(subglyphed, color='dimgray')\n",
    "p.enable_eye_dome_lighting()\n",
    "p.show()"
   ]
  },
  {
   "cell_type": "code",
   "execution_count": null,
   "metadata": {},
   "outputs": [],
   "source": [
    "depo1 = torch.Tensor(np.sum(etching[:, :, :, :], axis=-1)==0).to_sparse()\n",
    "depo1 = depo1.indices().numpy().T\n",
    "\n",
    "substrute = torch.Tensor(etching[:, :, :,0]!=0).to_sparse()\n",
    "substrute = substrute.indices().numpy().T\n",
    "\n",
    "# mask = torch.Tensor(etching[:, :, :,2]!=0).to_sparse()\n",
    "# mask = mask.indices().numpy().T\n",
    "\n",
    "# maskmesh = pv.PolyData(mask)\n",
    "# maskmesh[\"radius\"] = np.ones(mask.shape[0])*0.5\n",
    "\n",
    "depomesh = pv.PolyData(depo1)\n",
    "depomesh[\"radius\"] = np.ones(depo1.shape[0])*0.5\n",
    "geom = pv.Box()\n",
    "\n",
    "submesh = pv.PolyData(substrute)\n",
    "submesh[\"radius\"] = np.ones(substrute.shape[0])*0.5\n",
    "\n",
    "# Progress bar is a new feature on master branch\n",
    "# maskglyphed = maskmesh.glyph(scale=\"radius\", geom=geom) # progress_bar=True)\n",
    "depoglyphed = depomesh.glyph(scale=\"radius\", geom=geom) # progress_bar=True)\n",
    "subglyphed = submesh.glyph(scale=\"radius\", geom=geom) # progress_bar=True)\n",
    "\n",
    "p = pv.Plotter()\n",
    "# p.add_mesh(maskglyphed, color='green')\n",
    "p.add_mesh(depoglyphed, color='cyan')\n",
    "# p.add_mesh(subglyphed, color='dimgray')\n",
    "p.enable_eye_dome_lighting()\n",
    "p.show()"
   ]
  },
  {
   "cell_type": "code",
   "execution_count": null,
   "metadata": {},
   "outputs": [],
   "source": [
    "depo1 = torch.Tensor(np.sum(etching[:, :, bottom-250:bottom, :], axis=-1)==0).to_sparse()\n",
    "depo1 = depo1.indices().numpy().T\n",
    "\n",
    "substrute = torch.Tensor(etching[:, :, bottom-250:bottom,0]!=0).to_sparse()\n",
    "substrute = substrute.indices().numpy().T\n",
    "\n",
    "mask = torch.Tensor(etching[:, :, bottom-250:bottom,2]!=0).to_sparse()\n",
    "mask = mask.indices().numpy().T\n",
    "\n",
    "maskmesh = pv.PolyData(mask)\n",
    "maskmesh[\"radius\"] = np.ones(mask.shape[0])*0.5\n",
    "\n",
    "depomesh = pv.PolyData(depo1)\n",
    "depomesh[\"radius\"] = np.ones(depo1.shape[0])*0.5\n",
    "geom = pv.Box()\n",
    "\n",
    "submesh = pv.PolyData(substrute)\n",
    "submesh[\"radius\"] = np.ones(substrute.shape[0])*0.5\n",
    "\n",
    "# Progress bar is a new feature on master branch\n",
    "maskglyphed = maskmesh.glyph(scale=\"radius\", geom=geom) # progress_bar=True)\n",
    "depoglyphed = depomesh.glyph(scale=\"radius\", geom=geom) # progress_bar=True)\n",
    "subglyphed = submesh.glyph(scale=\"radius\", geom=geom) # progress_bar=True)\n",
    "\n",
    "p = pv.Plotter()\n",
    "# p.add_mesh(maskglyphed, color='green')\n",
    "p.add_mesh(depoglyphed, color='cyan')\n",
    "# p.add_mesh(subglyphed, color='dimgray')\n",
    "p.enable_eye_dome_lighting()\n",
    "p.show()"
   ]
  },
  {
   "cell_type": "code",
   "execution_count": null,
   "metadata": {},
   "outputs": [],
   "source": [
    "depo1 = torch.Tensor(etching[:, :, bottom-250:bottom, 1]!=0).to_sparse()\n",
    "depo1 = depo1.indices().numpy().T\n",
    "\n",
    "substrute = torch.Tensor(etching[:, :, bottom-250:bottom,0]!=0).to_sparse()\n",
    "substrute = substrute.indices().numpy().T\n",
    "\n",
    "mask = torch.Tensor(etching[:, :, bottom-250:bottom,2]!=0).to_sparse()\n",
    "mask = mask.indices().numpy().T\n",
    "\n",
    "maskmesh = pv.PolyData(mask)\n",
    "maskmesh[\"radius\"] = np.ones(mask.shape[0])*0.5\n",
    "\n",
    "depomesh = pv.PolyData(depo1)\n",
    "depomesh[\"radius\"] = np.ones(depo1.shape[0])*0.5\n",
    "geom = pv.Box()\n",
    "\n",
    "submesh = pv.PolyData(substrute)\n",
    "submesh[\"radius\"] = np.ones(substrute.shape[0])*0.5\n",
    "\n",
    "# Progress bar is a new feature on master branch\n",
    "maskglyphed = maskmesh.glyph(scale=\"radius\", geom=geom) # progress_bar=True)\n",
    "depoglyphed = depomesh.glyph(scale=\"radius\", geom=geom) # progress_bar=True)\n",
    "subglyphed = submesh.glyph(scale=\"radius\", geom=geom) # progress_bar=True)\n",
    "\n",
    "p = pv.Plotter()\n",
    "# p.add_mesh(maskglyphed, color='green')\n",
    "p.add_mesh(depoglyphed, color='cyan')\n",
    "# p.add_mesh(subglyphed, color='dimgray')\n",
    "p.enable_eye_dome_lighting()\n",
    "p.show()"
   ]
  },
  {
   "cell_type": "code",
   "execution_count": null,
   "metadata": {},
   "outputs": [],
   "source": [
    "depo1 = torch.Tensor(etching[:50, :, bottom-250:bottom+10, 1]!=0).to_sparse()\n",
    "depo1 = depo1.indices().numpy().T\n",
    "\n",
    "substrute = torch.Tensor(etching[:50, :, bottom-250:bottom+10,0]!=0).to_sparse()\n",
    "substrute = substrute.indices().numpy().T\n",
    "\n",
    "mask = torch.Tensor(etching[:50, :, bottom-250:bottom+10,2]!=0).to_sparse()\n",
    "mask = mask.indices().numpy().T\n",
    "\n",
    "maskmesh = pv.PolyData(mask)\n",
    "maskmesh[\"radius\"] = np.ones(mask.shape[0])*0.5\n",
    "\n",
    "depomesh = pv.PolyData(depo1)\n",
    "depomesh[\"radius\"] = np.ones(depo1.shape[0])*0.5\n",
    "geom = pv.Box()\n",
    "\n",
    "submesh = pv.PolyData(substrute)\n",
    "submesh[\"radius\"] = np.ones(substrute.shape[0])*0.5\n",
    "\n",
    "# Progress bar is a new feature on master branch\n",
    "maskglyphed = maskmesh.glyph(scale=\"radius\", geom=geom) # progress_bar=True)\n",
    "depoglyphed = depomesh.glyph(scale=\"radius\", geom=geom) # progress_bar=True)\n",
    "subglyphed = submesh.glyph(scale=\"radius\", geom=geom) # progress_bar=True)\n",
    "\n",
    "p = pv.Plotter()\n",
    "p.add_mesh(maskglyphed, color='green')\n",
    "p.add_mesh(depoglyphed, color='cyan')\n",
    "p.add_mesh(subglyphed, color='dimgray')\n",
    "p.enable_eye_dome_lighting()\n",
    "p.show()"
   ]
  },
  {
   "cell_type": "code",
   "execution_count": null,
   "metadata": {},
   "outputs": [],
   "source": [
    "depo1 = torch.Tensor(etching[:50, :, bottom-100:bottom+10, 1]!=0).to_sparse()\n",
    "depo1 = depo1.indices().numpy().T\n",
    "\n",
    "substrute = torch.Tensor(etching[:50, :, bottom-100:bottom+10,0]!=0).to_sparse()\n",
    "substrute = substrute.indices().numpy().T\n",
    "\n",
    "mask = torch.Tensor(etching[:50, :, bottom-100:bottom+10,2]!=0).to_sparse()\n",
    "mask = mask.indices().numpy().T\n",
    "\n",
    "maskmesh = pv.PolyData(mask)\n",
    "maskmesh[\"radius\"] = np.ones(mask.shape[0])*0.5\n",
    "\n",
    "depomesh = pv.PolyData(depo1)\n",
    "depomesh[\"radius\"] = np.ones(depo1.shape[0])*0.5\n",
    "geom = pv.Box()\n",
    "\n",
    "submesh = pv.PolyData(substrute)\n",
    "submesh[\"radius\"] = np.ones(substrute.shape[0])*0.5\n",
    "\n",
    "# Progress bar is a new feature on master branch\n",
    "maskglyphed = maskmesh.glyph(scale=\"radius\", geom=geom) # progress_bar=True)\n",
    "depoglyphed = depomesh.glyph(scale=\"radius\", geom=geom) # progress_bar=True)\n",
    "subglyphed = submesh.glyph(scale=\"radius\", geom=geom) # progress_bar=True)\n",
    "\n",
    "p = pv.Plotter()\n",
    "p.add_mesh(maskglyphed, color='green')\n",
    "p.add_mesh(depoglyphed, color='cyan')\n",
    "p.add_mesh(subglyphed, color='dimgray')\n",
    "p.enable_eye_dome_lighting()\n",
    "p.show()"
   ]
  },
  {
   "cell_type": "code",
   "execution_count": null,
   "metadata": {},
   "outputs": [],
   "source": []
  }
 ],
 "metadata": {
  "kernelspec": {
   "display_name": "base",
   "language": "python",
   "name": "python3"
  },
  "language_info": {
   "codemirror_mode": {
    "name": "ipython",
    "version": 3
   },
   "file_extension": ".py",
   "mimetype": "text/x-python",
   "name": "python",
   "nbconvert_exporter": "python",
   "pygments_lexer": "ipython3",
   "version": "3.12.5"
  }
 },
 "nbformat": 4,
 "nbformat_minor": 2
}

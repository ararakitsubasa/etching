{
 "cells": [
  {
   "cell_type": "code",
   "execution_count": 1,
   "metadata": {},
   "outputs": [],
   "source": [
    "import numpy as np\n",
    "import pyvista as pv\n",
    "import torch\n",
    "import matplotlib.pyplot as plt"
   ]
  },
  {
   "cell_type": "code",
   "execution_count": null,
   "metadata": {},
   "outputs": [],
   "source": [
    "maskUp = 1.69\n",
    "maskBottom = 2.92\n",
    "maskDeep = 5.95\n",
    "\n",
    "diameter = 60\n",
    "maskUp_sim = maskUp/maskBottom*diameter\n",
    "maskDeep_sim = maskDeep/maskBottom*diameter\n",
    "print(maskUp_sim)\n",
    "print(maskDeep_sim)"
   ]
  },
  {
   "cell_type": "code",
   "execution_count": 2,
   "metadata": {},
   "outputs": [
    {
     "name": "stdout",
     "output_type": "stream",
     "text": [
      "48.230769230769226\n",
      "64.8\n"
     ]
    }
   ],
   "source": [
    "maskUp = 2.09\n",
    "maskBottom = 2.6\n",
    "maskDeep = 2.808\n",
    "\n",
    "diameter = 60\n",
    "maskUp_sim = maskUp/maskBottom*diameter\n",
    "maskDeep_sim = maskDeep/maskBottom*diameter\n",
    "print(maskUp_sim)\n",
    "print(maskDeep_sim)"
   ]
  },
  {
   "cell_type": "code",
   "execution_count": null,
   "metadata": {},
   "outputs": [],
   "source": [
    "bottom = 100\n",
    "height = bottom + int(maskDeep_sim)\n",
    "\n",
    "print('height',height)\n",
    "for i in range(int(diameter/2 - int(maskUp_sim/2))):\n",
    "    print(diameter/2 - i)\n",
    "    print('deep', int(bottom + maskDeep_sim/(diameter/2 - maskUp_sim/2)*(i)))\n",
    "    print(int(maskDeep_sim/(diameter/2 - maskUp_sim/2)))"
   ]
  },
  {
   "cell_type": "code",
   "execution_count": 3,
   "metadata": {},
   "outputs": [],
   "source": [
    "film = np.zeros((100, 100, 200, 3))\n",
    "\n",
    "bottom = 100\n",
    "height = bottom + int(maskDeep_sim)\n",
    "\n",
    "density = 10\n",
    "\n",
    "sphere = np.ones((100, 100, 200), dtype=bool)\n",
    "\n",
    "diameter = 60\n",
    "\n",
    "center = 50\n",
    "for k in range(int(diameter/2 - int(maskUp_sim/2))):\n",
    "    # print(diameter/2 - k)\n",
    "    radius = diameter/2 - k\n",
    "    # print('deep', int(bottom + maskDeep_sim/(diameter/2 - maskUp_sim/2)*k))\n",
    "    bottom_step = int(bottom + maskDeep_sim/(diameter/2 - maskUp_sim/2)*k)\n",
    "    for i in range(sphere.shape[0]):\n",
    "        for j in range(sphere.shape[1]):\n",
    "            if np.abs(i-center)*np.abs(i-center) + np.abs(j-center)*np.abs(j-center) < radius*radius:\n",
    "                sphere[i, j, bottom_step:bottom_step+int(maskDeep_sim/(diameter/2 - maskUp_sim/2))] = 0\n",
    "\n",
    "film[sphere, 2] = density\n",
    "film[:, :, height:, :] = 0\n",
    "film[:, :, 0:bottom, 0] = density # bottom\n",
    "film[:, :, 0:bottom, 1] = 0 # bottom\n",
    "film[:, :, 0:bottom, 2] = 0 # bottom"
   ]
  },
  {
   "cell_type": "code",
   "execution_count": 2,
   "metadata": {},
   "outputs": [],
   "source": [
    "# vertical mask\n",
    "film = np.zeros((100, 100, 160, 3))\n",
    "\n",
    "bottom = 100\n",
    "height = 140\n",
    "\n",
    "density = 10\n",
    "\n",
    "sphere = np.ones((100, 100, 160), dtype=bool)\n",
    "\n",
    "radius = 30\n",
    "\n",
    "center = 50\n",
    "for i in range(sphere.shape[0]):\n",
    "    for j in range(sphere.shape[1]):\n",
    "        if np.abs(i-center)*np.abs(i-center) + np.abs(j-center)*np.abs(j-center) < radius*radius:\n",
    "            sphere[i, j, bottom:height] = 0\n",
    "\n",
    "film[sphere, 2] = density\n",
    "film[:, :, height:, :] = 0\n",
    "film[:, :, 0:bottom, 0] = density # bottom\n",
    "film[:, :, 0:bottom, 1] = 0 # bottom\n",
    "film[:, :, 0:bottom, 2] = 0 # bottom"
   ]
  },
  {
   "cell_type": "code",
   "execution_count": null,
   "metadata": {},
   "outputs": [],
   "source": [
    "depo1 = torch.Tensor(film[:, :50, :, 1]>0).to_sparse()\n",
    "depo1 = depo1.indices().numpy().T\n",
    "\n",
    "substrute = torch.Tensor(film[:, :50, :,0]!=0).to_sparse()\n",
    "substrute = substrute.indices().numpy().T\n",
    "\n",
    "mask = torch.Tensor(film[:, :50, :,2]!=0).to_sparse()\n",
    "mask = mask.indices().numpy().T\n",
    "\n",
    "maskmesh = pv.PolyData(mask)\n",
    "maskmesh[\"radius\"] = np.ones(mask.shape[0])*0.5\n",
    "\n",
    "depomesh = pv.PolyData(depo1)\n",
    "depomesh[\"radius\"] = np.ones(depo1.shape[0])*0.5\n",
    "geom = pv.Box()\n",
    "\n",
    "submesh = pv.PolyData(substrute)\n",
    "submesh[\"radius\"] = np.ones(substrute.shape[0])*0.5\n",
    "\n",
    "# Progress bar is a new feature on master branch\n",
    "maskglyphed = maskmesh.glyph(scale=\"radius\", geom=geom) # progress_bar=True)\n",
    "depoglyphed = depomesh.glyph(scale=\"radius\", geom=geom) # progress_bar=True)\n",
    "subglyphed = submesh.glyph(scale=\"radius\", geom=geom) # progress_bar=True)\n",
    "\n",
    "p = pv.Plotter()\n",
    "p.add_mesh(maskglyphed, color='green')\n",
    "# p.add_mesh(depoglyphed, color='cyan')\n",
    "p.add_mesh(subglyphed, color='dimgray')\n",
    "p.enable_eye_dome_lighting()\n",
    "p.show()"
   ]
  },
  {
   "cell_type": "code",
   "execution_count": 4,
   "metadata": {},
   "outputs": [],
   "source": [
    "etchfilm = film"
   ]
  },
  {
   "cell_type": "code",
   "execution_count": 5,
   "metadata": {},
   "outputs": [
    {
     "data": {
      "text/plain": [
       "(100, 100, 200, 3)"
      ]
     },
     "execution_count": 5,
     "metadata": {},
     "output_type": "execute_result"
    }
   ],
   "source": [
    "etchfilm.shape"
   ]
  },
  {
   "cell_type": "code",
   "execution_count": 6,
   "metadata": {},
   "outputs": [],
   "source": [
    "import Multi_Species_bosch_etching_countByReaction_mirror"
   ]
  },
  {
   "cell_type": "code",
   "execution_count": 7,
   "metadata": {},
   "outputs": [],
   "source": [
    "logname = 'Multi_species_benchmark_1021_hole_backup'\n",
    "\n",
    "testEtch = Multi_Species_bosch_etching_countByReaction_mirror.etching(inputMethod='bunch', depo_or_etching='etching', \n",
    "                etchingPoint = np.array([center, center, bottom-30]),depoPoint = np.array([center, center, bottom-30]),\n",
    "                density=density, center_with_direction=np.array([[50,50,75]]), \n",
    "                range3D=np.array([[0, 100, 0, 100, 0, 150]]), InOrOut=[1], yield_hist=np.array([None]),\n",
    "                maskTop=40, maskBottom=98, maskStep=10, maskCenter=[50, 50],backup=True, \n",
    "                mirrorGap=5,\n",
    "                reaction_type=False, param = [1.6, -0.7],n=1,\n",
    "                celllength=1e-5, kdtreeN=5, filmKDTree=np.array([[2, 0], [3, 1]]),weight=-0.2, tstep=4e-5,\n",
    "                substrateTop=bottom,posGeneratorType='top', logname=logname)"
   ]
  },
  {
   "cell_type": "code",
   "execution_count": 7,
   "metadata": {},
   "outputs": [],
   "source": [
    "react_table = np.array([[[0.8, -1, 0, 0], [0.0, 0,  0, 0], [0.0, 0, 0, 0]],\n",
    "                        [[0.8, -1, 1, 0], [0.0, 0,  0, 0], [0.0, 0, 0, 0]],\n",
    "                        [[1.0,  0, 0, 0], [1.0, 0, -2, 0], [1.0, 0, 0, 0]]])"
   ]
  },
  {
   "cell_type": "code",
   "execution_count": 8,
   "metadata": {},
   "outputs": [],
   "source": [
    "Multi_Species_bosch_etching_countByReaction_mirror.react_table = react_table"
   ]
  },
  {
   "cell_type": "code",
   "execution_count": 8,
   "metadata": {},
   "outputs": [
    {
     "name": "stdout",
     "output_type": "stream",
     "text": [
      "(110, 110, 200)\n"
     ]
    },
    {
     "name": "stderr",
     "output_type": "stream",
     "text": [
      "particle input:  99%|█████████████████████████████████████████████▌| 99.0/100 [28:47<00:17, 17.5s/B]\n"
     ]
    }
   ],
   "source": [
    "cicle = 100\n",
    "celllength=1e-5\n",
    "parcel = np.array([[51*celllength, 51*celllength, 189*celllength, 0, 0, 1, 51, 51, 189, 0]])\n",
    "step1 = testEtch.inputParticle(etchfilm, parcel, 'maxwell', 0, int(2e4), int(2e6), int(4e5),2, 10, 100)"
   ]
  },
  {
   "cell_type": "code",
   "execution_count": 10,
   "metadata": {},
   "outputs": [],
   "source": [
    "np.save('./bosch_data_1021_ratio01_hole_backTest/bosch_sf_step_0_sf', etchfilm)"
   ]
  },
  {
   "cell_type": "code",
   "execution_count": 7,
   "metadata": {},
   "outputs": [],
   "source": [
    "def attachPolymer(film):  # fast scanZ\n",
    "    filmC = film[:,:,:,0]\n",
    "    # 获取当前平面的非零元素布尔索引\n",
    "    current_plane = film[:,:,:,1] == 0 \n",
    "\n",
    "    # 创建一个全是False的布尔数组来存储邻居的检查结果\n",
    "    neighbors = np.zeros_like(filmC, dtype=bool)\n",
    "\n",
    "    # 检查各个方向的邻居是否为零\n",
    "    neighbors[1:, :, :] |= filmC[:-1, :, :] != 0  # 上面的邻居不为0\n",
    "    neighbors[:-1, :, :] |= filmC[1:, :, :] != 0  # 下面的邻居不为0\n",
    "    neighbors[:, 1:, :] |= filmC[:, :-1, :] != 0  # 左边的邻居不为0\n",
    "    neighbors[:, :-1, :] |= filmC[:, 1:, :] != 0  # 右边的邻居不为0\n",
    "    neighbors[:, :, 1:] |= filmC[:, :, :-1] != 0  # 前面的邻居不为0\n",
    "    neighbors[:, :, :-1] |= filmC[:, :, 1:] != 0  # 后面的邻居不为0\n",
    "\n",
    "    # 孤立单元格的条件是当前平面元素不为0且所有方向的邻居都为0\n",
    "    condition = current_plane & neighbors\n",
    "\n",
    "    # 将孤立的单元格设为0\n",
    "    film[condition, 1] = 10\n",
    "\n",
    "    all_film = np.logical_and(film[:,:,:,1] == 10, film[:,:,:,0] == 10)\n",
    "    film[all_film, 1] = 0\n",
    "    all_film2 = np.logical_and(film[:,:,:,1] == 10, film[:,:,:,2] == 10)\n",
    "    film[all_film2, 1] = 0\n",
    "    return film"
   ]
  },
  {
   "cell_type": "code",
   "execution_count": 9,
   "metadata": {},
   "outputs": [],
   "source": [
    "def thickPolymer(film):  # fast scanZ\n",
    "    filmC = film[:,:,:,1]\n",
    "    # 获取当前平面的非零元素布尔索引\n",
    "    current_plane = film[:,:,:,0] == 10 \n",
    "\n",
    "    # 创建一个全是False的布尔数组来存储邻居的检查结果\n",
    "    neighbors = np.zeros_like(filmC, dtype=bool)\n",
    "\n",
    "    # 检查各个方向的邻居是否为零\n",
    "    neighbors[1:, :, :] |= filmC[:-1, :, :] != 0  # 上面的邻居不为0\n",
    "    neighbors[:-1, :, :] |= filmC[1:, :, :] != 0  # 下面的邻居不为0\n",
    "    neighbors[:, 1:, :] |= filmC[:, :-1, :] != 0  # 左边的邻居不为0\n",
    "    neighbors[:, :-1, :] |= filmC[:, 1:, :] != 0  # 右边的邻居不为0\n",
    "    neighbors[:, :, 1:] |= filmC[:, :, :-1] != 0  # 前面的邻居不为0\n",
    "    neighbors[:, :, :-1] |= filmC[:, :, 1:] != 0  # 后面的邻居不为0\n",
    "\n",
    "    # 孤立单元格的条件是当前平面元素不为0且所有方向的邻居都为0\n",
    "    condition = current_plane & neighbors\n",
    "\n",
    "    # 将孤立的单元格设为0\n",
    "    film[condition, 1] = 10\n",
    "\n",
    "    all_film = np.logical_and(film[:,:,:,1] == 10, film[:,:,:,0] == 10)\n",
    "    film[all_film, 0] = 0\n",
    "    return film"
   ]
  },
  {
   "cell_type": "code",
   "execution_count": null,
   "metadata": {},
   "outputs": [],
   "source": [
    "cicle = 100\n",
    "celllength=1e-5\n",
    "parcel = np.array([[51*celllength, 51*celllength, 199*celllength, 0, 0, 1, 51, 51, 199, 0]])\n",
    "\n",
    "for i in range(cicle):\n",
    "    step1 = testEtch.inputParticle(etchfilm, parcel, 'maxwell', 0, int(2e4), int(2e6), int(4e5),2, 10, i)\n",
    "    indice_step1 = etchfilm[:, :, :, 0] >= 9\n",
    "    etchfilm[indice_step1, 0] = 10\n",
    "    depth = step1[1] \n",
    "    parcel = np.array([[51*celllength, 51*celllength, 199*celllength, 0, 0, 1, 51, 51, 199, 0]])\n",
    "    if depth < 50:\n",
    "        film = np.zeros((100, 100, etchfilm.shape[2] + 50, 3))\n",
    "        film[:, :, 50:] = etchfilm\n",
    "        film[:, :, :50, 0] = 10\n",
    "        etchfilm = film\n",
    "        parcel[:, 2] += 50*celllength\n",
    "        parcel[:, 8] += 50\n",
    "    print('film:', etchfilm.shape)\n",
    "    np.save('./bosch_data_1017_ratio01_hole/bosch_sf_step_{}_sf'.format(i), etchfilm)\n",
    "    etchfilm = attachPolymer(etchfilm)\n",
    "    # etchfilm = thickPolymer(etchfilm)\n",
    "    np.save('./bosch_data_1017_ratio01_hole/bosch_sf_step_{}_c4f8'.format(i), etchfilm)\n",
    "    step3 = testEtch.inputParticle(etchfilm, parcel, 'updown', 2, int(2e4), int(2e6), int(6e4), 4, 10, i)\n",
    "    parcel = np.array([[51*celllength, 51*celllength, 199*celllength, 0, 0, 1, 51, 51, 199, 0]])\n",
    "    indice_c3 = np.logical_and(etchfilm[:, :, :, 1]>9, etchfilm[:, :, :, 1]<10)\n",
    "    etchfilm[indice_c3, 1] = 10\n",
    "    indice_step2 = etchfilm[:, :, :, 0] != 10\n",
    "    etchfilm[indice_step2, 0] = 0\n",
    "    indice_c2 = etchfilm[:, :, :, 1] != 0\n",
    "    etchfilm[indice_c2, 1] = 10\n",
    "    np.save('./bosch_data_1017_ratio01_hole/bosch_sf_step_{}_Ar'.format(i), etchfilm)"
   ]
  },
  {
   "cell_type": "code",
   "execution_count": null,
   "metadata": {},
   "outputs": [],
   "source": [
    "cicle = 100\n",
    "celllength=1e-5\n",
    "parcel = np.array([[95*celllength, 95*celllength, 159*celllength, 0, 0, 1, 95, 95, 159, 0]])\n",
    "\n",
    "for i in range(cicle):\n",
    "    step1 = testEtch.inputParticle(etchfilm, parcel, 'maxwell', 0, int(2e4),int(4e5),2, 10, i)\n",
    "    indice_step1 = etchfilm[:, :, :, 0] >= 9\n",
    "    etchfilm[indice_step1, 0] = 10\n",
    "    depth = step1[1] \n",
    "    parcel = np.array([[95*celllength, 95*celllength, 159*celllength, 0, 0, 1, 95, 95, 159, 0]])\n",
    "    if depth < 50:\n",
    "        film = np.zeros((100, 100, etchfilm.shape[2] + 50, 3))\n",
    "        film[:, :, 50:] = etchfilm\n",
    "        film[:, :, :50, 0] = 10\n",
    "        etchfilm = film\n",
    "        parcel[:, 2] += 50*celllength\n",
    "        parcel[:, 8] += 50\n",
    "    print('film:', etchfilm.shape)\n",
    "    np.save('./bosch_data_1013_ratio01_hole/bosch_sf_step_{}_sf'.format(i), etchfilm)\n",
    "    step2 = testEtch.inputParticle(etchfilm, parcel, 'maxwell', 1, int(2e4),int(8e4), 1, 10, i)\n",
    "    parcel = np.array([[95*celllength, 95*celllength, 159*celllength, 0, 0, 1, 95, 95, 159, 0]])\n",
    "    indice_step2 = etchfilm[:, :, :, 0] < 0\n",
    "    etchfilm[indice_step2, 0] = 0\n",
    "    indice_c2 = etchfilm[:, :, :, 1] != 0\n",
    "    etchfilm[indice_c2, 1] = 10\n",
    "    np.save('./bosch_data_1013_ratio01_hole/bosch_sf_step_{}_c4f8'.format(i), etchfilm)\n",
    "    step3 = testEtch.inputParticle(etchfilm, parcel, 'updown', 2, int(2e4),int(6e4), 4, 10, i)\n",
    "    parcel = np.array([[95*celllength, 95*celllength, 159*celllength, 0, 0, 1, 95, 95, 159, 0]])\n",
    "    indice_c3 = np.logical_and(etchfilm[:, :, :, 1]>9, etchfilm[:, :, :, 1]<10)\n",
    "    etchfilm[indice_c3, 1] = 10\n",
    "    indice_step2 = etchfilm[:, :, :, 0] != 10\n",
    "    etchfilm[indice_step2, 0] = 0\n",
    "    indice_c2 = etchfilm[:, :, :, 1] != 0\n",
    "    etchfilm[indice_c2, 1] = 10\n",
    "    np.save('./bosch_data_1013_ratio01_hole/bosch_sf_step_{}_Ar'.format(i), etchfilm)"
   ]
  },
  {
   "cell_type": "code",
   "execution_count": 32,
   "metadata": {},
   "outputs": [],
   "source": [
    "np.save('./bosch_data_1001_ratio08/bosch_sf_stepTest_c4f8', etchfilm)"
   ]
  },
  {
   "cell_type": "code",
   "execution_count": 17,
   "metadata": {},
   "outputs": [],
   "source": [
    "indice_c3 = np.logical_and(etching[:, :, :, 1]>9, etching[:, :, :, 1]<10)\n",
    "etching[indice_c3, 1] = 10\n",
    "\n",
    "indice_step2 = etching[:, :, :, 0] != 10\n",
    "etching[indice_step2, 0] = 0\n",
    "indice_c2 = etching[:, :, :, 1] != 0\n",
    "etching[indice_c2, 1] = 10"
   ]
  },
  {
   "cell_type": "code",
   "execution_count": 9,
   "metadata": {},
   "outputs": [],
   "source": [
    "etching = np.load('./bosch_data_1015_test/bosch_sf_step_sf.npy')"
   ]
  },
  {
   "cell_type": "code",
   "execution_count": null,
   "metadata": {},
   "outputs": [],
   "source": [
    "# cyan = torch.Tensor(np.logical_and(etching[:, :50, :,1]==10, etching[:, :50, :,0]==0)).to_sparse()\n",
    "cyan = torch.Tensor(etching[:, :50, :,1]!=0).to_sparse()\n",
    "cyan = cyan.indices().numpy().T\n",
    "\n",
    "gray = torch.Tensor(etching[:, :50, :,0]!=0).to_sparse()\n",
    "gray = gray.indices().numpy().T\n",
    "\n",
    "mask = torch.Tensor(etching[:, :50, :,2]!=0).to_sparse()\n",
    "mask = mask.indices().numpy().T\n",
    "\n",
    "maskmesh = pv.PolyData(mask)\n",
    "maskmesh[\"radius\"] = np.ones(mask.shape[0])*0.5\n",
    "\n",
    "depomesh = pv.PolyData(cyan)\n",
    "depomesh[\"radius\"] = np.ones(cyan.shape[0])*0.5\n",
    "geom = pv.Box()\n",
    "\n",
    "submesh = pv.PolyData(gray)\n",
    "submesh[\"radius\"] = np.ones(gray.shape[0])*0.5\n",
    "\n",
    "# Progress bar is a new feature on master branch\n",
    "maskglyphed = maskmesh.glyph(scale=\"radius\", geom=geom) # progress_bar=True)\n",
    "depoglyphed = depomesh.glyph(scale=\"radius\", geom=geom) # progress_bar=True)\n",
    "subglyphed = submesh.glyph(scale=\"radius\", geom=geom) # progress_bar=True)\n",
    "\n",
    "p = pv.Plotter()\n",
    "p.add_mesh(maskglyphed, color='green')\n",
    "# p.add_mesh(depoglyphed, color='cyan')\n",
    "p.add_mesh(subglyphed, color='dimgray')\n",
    "p.enable_eye_dome_lighting()\n",
    "p.show()"
   ]
  },
  {
   "cell_type": "code",
   "execution_count": 9,
   "metadata": {},
   "outputs": [
    {
     "name": "stderr",
     "output_type": "stream",
     "text": [
      "c:\\Users\\urcs049\\AppData\\Local\\anaconda3\\Lib\\site-packages\\pyvista\\core\\utilities\\points.py:55: UserWarning: Points is not a float type. This can cause issues when transforming or applying filters. Casting to ``np.float32``. Disable this by passing ``force_float=False``.\n",
      "  warnings.warn(\n",
      "c:\\Users\\urcs049\\AppData\\Local\\anaconda3\\Lib\\site-packages\\pyvista\\core\\filters\\data_set.py:2386: UserWarning: No vector-like data to use for orient. orient will be set to False.\n",
      "  warnings.warn(\"No vector-like data to use for orient. orient will be set to False.\")\n"
     ]
    },
    {
     "data": {
      "application/vnd.jupyter.widget-view+json": {
       "model_id": "fcc12ca4eb924f09b6922ad8e00b400c",
       "version_major": 2,
       "version_minor": 0
      },
      "text/plain": [
       "Widget(value='<iframe src=\"http://localhost:61552/index.html?ui=P_0x266aa821fa0_0&reconnect=auto\" class=\"pyvis…"
      ]
     },
     "metadata": {},
     "output_type": "display_data"
    }
   ],
   "source": [
    "# cyan = torch.Tensor(np.logical_and(etchfilm[:, :50, :,1]==10, etchfilm[:, :50, :,0]==0)).to_sparse()\n",
    "cyan = torch.Tensor(etchfilm[:, :50, :,1]!=0).to_sparse()\n",
    "cyan = cyan.indices().numpy().T\n",
    "\n",
    "gray = torch.Tensor(etchfilm[:, :50, :,0]!=0).to_sparse()\n",
    "gray = gray.indices().numpy().T\n",
    "\n",
    "mask = torch.Tensor(etchfilm[:, :50, :,2]!=0).to_sparse()\n",
    "mask = mask.indices().numpy().T\n",
    "\n",
    "maskmesh = pv.PolyData(mask)\n",
    "maskmesh[\"radius\"] = np.ones(mask.shape[0])*0.5\n",
    "\n",
    "depomesh = pv.PolyData(cyan)\n",
    "depomesh[\"radius\"] = np.ones(cyan.shape[0])*0.5\n",
    "geom = pv.Box()\n",
    "\n",
    "submesh = pv.PolyData(gray)\n",
    "submesh[\"radius\"] = np.ones(gray.shape[0])*0.5\n",
    "\n",
    "# Progress bar is a new feature on master branch\n",
    "maskglyphed = maskmesh.glyph(scale=\"radius\", geom=geom) # progress_bar=True)\n",
    "depoglyphed = depomesh.glyph(scale=\"radius\", geom=geom) # progress_bar=True)\n",
    "subglyphed = submesh.glyph(scale=\"radius\", geom=geom) # progress_bar=True)\n",
    "\n",
    "p = pv.Plotter()\n",
    "p.add_mesh(maskglyphed, color='green')\n",
    "# p.add_mesh(depoglyphed, color='cyan')\n",
    "p.add_mesh(subglyphed, color='dimgray')\n",
    "p.enable_eye_dome_lighting()\n",
    "p.show()"
   ]
  },
  {
   "cell_type": "code",
   "execution_count": null,
   "metadata": {},
   "outputs": [],
   "source": [
    "# cyan = torch.Tensor(np.logical_and(etchfilm[:50, :, :,1]==10, etchfilm[:50, :, :,0]==0)).to_sparse()\n",
    "cyan = torch.Tensor(etchfilm[:50, :, :,1]!=0).to_sparse()\n",
    "cyan = cyan.indices().numpy().T\n",
    "\n",
    "gray = torch.Tensor(etchfilm[:50, :, :,0]!=0).to_sparse()\n",
    "gray = gray.indices().numpy().T\n",
    "\n",
    "mask = torch.Tensor(etchfilm[:50, :, :,2]!=0).to_sparse()\n",
    "mask = mask.indices().numpy().T\n",
    "\n",
    "maskmesh = pv.PolyData(mask)\n",
    "maskmesh[\"radius\"] = np.ones(mask.shape[0])*0.5\n",
    "\n",
    "depomesh = pv.PolyData(cyan)\n",
    "depomesh[\"radius\"] = np.ones(cyan.shape[0])*0.5\n",
    "geom = pv.Box()\n",
    "\n",
    "submesh = pv.PolyData(gray)\n",
    "submesh[\"radius\"] = np.ones(gray.shape[0])*0.5\n",
    "\n",
    "# Progress bar is a new feature on master branch\n",
    "maskglyphed = maskmesh.glyph(scale=\"radius\", geom=geom) # progress_bar=True)\n",
    "depoglyphed = depomesh.glyph(scale=\"radius\", geom=geom) # progress_bar=True)\n",
    "subglyphed = submesh.glyph(scale=\"radius\", geom=geom) # progress_bar=True)\n",
    "\n",
    "p = pv.Plotter()\n",
    "p.add_mesh(maskglyphed, color='green')\n",
    "# p.add_mesh(depoglyphed, color='cyan')\n",
    "p.add_mesh(subglyphed, color='dimgray')\n",
    "p.enable_eye_dome_lighting()\n",
    "p.show()"
   ]
  },
  {
   "cell_type": "code",
   "execution_count": null,
   "metadata": {},
   "outputs": [],
   "source": [
    "# cyan = torch.Tensor(np.logical_and(etching[:50, :, :,1]==10, etching[:50, :, :,0]==0)).to_sparse()\n",
    "cyan = torch.Tensor(etching[:50, :, :,1]!=0).to_sparse()\n",
    "cyan = cyan.indices().numpy().T\n",
    "\n",
    "gray = torch.Tensor(etching[:50, :, :,0]!=0).to_sparse()\n",
    "gray = gray.indices().numpy().T\n",
    "\n",
    "mask = torch.Tensor(etching[:50, :, :,2]!=0).to_sparse()\n",
    "mask = mask.indices().numpy().T\n",
    "\n",
    "maskmesh = pv.PolyData(mask)\n",
    "maskmesh[\"radius\"] = np.ones(mask.shape[0])*0.5\n",
    "\n",
    "depomesh = pv.PolyData(cyan)\n",
    "depomesh[\"radius\"] = np.ones(cyan.shape[0])*0.5\n",
    "geom = pv.Box()\n",
    "\n",
    "submesh = pv.PolyData(gray)\n",
    "submesh[\"radius\"] = np.ones(gray.shape[0])*0.5\n",
    "\n",
    "# Progress bar is a new feature on master branch\n",
    "maskglyphed = maskmesh.glyph(scale=\"radius\", geom=geom) # progress_bar=True)\n",
    "depoglyphed = depomesh.glyph(scale=\"radius\", geom=geom) # progress_bar=True)\n",
    "subglyphed = submesh.glyph(scale=\"radius\", geom=geom) # progress_bar=True)\n",
    "\n",
    "p = pv.Plotter()\n",
    "p.add_mesh(maskglyphed, color='green')\n",
    "p.add_mesh(depoglyphed, color='cyan')\n",
    "p.add_mesh(subglyphed, color='dimgray')\n",
    "p.enable_eye_dome_lighting()\n",
    "p.show()"
   ]
  },
  {
   "cell_type": "code",
   "execution_count": null,
   "metadata": {},
   "outputs": [],
   "source": []
  }
 ],
 "metadata": {
  "kernelspec": {
   "display_name": "base",
   "language": "python",
   "name": "python3"
  },
  "language_info": {
   "codemirror_mode": {
    "name": "ipython",
    "version": 3
   },
   "file_extension": ".py",
   "mimetype": "text/x-python",
   "name": "python",
   "nbconvert_exporter": "python",
   "pygments_lexer": "ipython3",
   "version": "3.12.5"
  }
 },
 "nbformat": 4,
 "nbformat_minor": 2
}

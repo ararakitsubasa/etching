{
 "cells": [
  {
   "cell_type": "code",
   "execution_count": 1,
   "metadata": {},
   "outputs": [],
   "source": [
    "import numpy as np"
   ]
  },
  {
   "cell_type": "code",
   "execution_count": 25,
   "metadata": {},
   "outputs": [],
   "source": [
    "# particle data struction np.array([posX, posY, posZ, velX, velY, velZ, i, j, k, typeID])\n",
    "class test:\n",
    "    def __init__(self, parcel):\n",
    "        self.parcel = parcel\n",
    "\n",
    "    def boundary(self):\n",
    "        cellSizeX = 10\n",
    "        cellSizeY = 10\n",
    "        cellSizeZ = 10\n",
    "        symmetry = True\n",
    "        celllength = 1\n",
    "\n",
    "        if symmetry == True:\n",
    "            indiceXMax = self.parcel[:, 6] >= cellSizeX\n",
    "            indiceXMin = self.parcel[:, 6] < 0\n",
    "\n",
    "            # 使用布尔索引进行调整\n",
    "            self.parcel[indiceXMax, 6] -= cellSizeX\n",
    "            self.parcel[indiceXMax, 0] -= celllength * cellSizeX\n",
    "\n",
    "            self.parcel[indiceXMin, 6] += cellSizeX\n",
    "            self.parcel[indiceXMin, 0] += celllength * cellSizeX\n",
    "\n",
    "            # 检查并调整 j_cp 和对应的 pos_cp\n",
    "            indiceYMax = self.parcel[:, 7] >= cellSizeY\n",
    "            indiceYMin = self.parcel[:, 7] < 0\n",
    "\n",
    "            # 使用布尔索引进行调整\n",
    "            self.parcel[indiceYMax, 7] -= cellSizeY\n",
    "            self.parcel[indiceYMax, 1] -= celllength * cellSizeY\n",
    "\n",
    "            self.parcel[indiceYMin, 7] += cellSizeY\n",
    "            self.parcel[indiceYMin, 1] += celllength * cellSizeY\n",
    "        \n",
    "        indices = np.logical_or(self.parcel[:, 6] >= cellSizeX, self.parcel[:, 6] < 0)\n",
    "        indices |= np.logical_or(self.parcel[:, 7] >= cellSizeY, self.parcel[:, 7] < 0)\n",
    "        indices |= np.logical_or(self.parcel[:, 8] >= cellSizeZ, self.parcel[:, 8] < 0)\n",
    "\n",
    "        if np.any(indices):\n",
    "            self.parcel = self.parcel[~indices]\n",
    "\n",
    "    def run(self):\n",
    "        self.boundary()\n"
   ]
  },
  {
   "cell_type": "code",
   "execution_count": 26,
   "metadata": {},
   "outputs": [
    {
     "name": "stdout",
     "output_type": "stream",
     "text": [
      "[[ 0  1  2  3  4  5  6  7  8]\n",
      " [ 9 10 11 12 13 14 15 16  8]\n",
      " [18 19 20 21 22 23 24 25 26]\n",
      " [27 28 29 30 31 32 33 34 35]\n",
      " [36 37 38 39 40 41 42 43 44]]\n"
     ]
    }
   ],
   "source": [
    "partcell = np.arange(45).reshape((5, 9))\n",
    "partcell[1, 8] = 8\n",
    "print(partcell)"
   ]
  },
  {
   "cell_type": "code",
   "execution_count": 27,
   "metadata": {},
   "outputs": [],
   "source": [
    "test2 = test(partcell)"
   ]
  },
  {
   "cell_type": "code",
   "execution_count": 28,
   "metadata": {},
   "outputs": [
    {
     "name": "stdout",
     "output_type": "stream",
     "text": [
      "[[ 0  1  2  3  4  5  6  7  8]\n",
      " [-1  0 11 12 13 14  5  6  8]]\n"
     ]
    }
   ],
   "source": [
    "test2.run()\n",
    "print(test2.parcel)"
   ]
  },
  {
   "cell_type": "code",
   "execution_count": null,
   "metadata": {},
   "outputs": [],
   "source": []
  }
 ],
 "metadata": {
  "kernelspec": {
   "display_name": "Python 3",
   "language": "python",
   "name": "python3"
  },
  "language_info": {
   "codemirror_mode": {
    "name": "ipython",
    "version": 3
   },
   "file_extension": ".py",
   "mimetype": "text/x-python",
   "name": "python",
   "nbconvert_exporter": "python",
   "pygments_lexer": "ipython3",
   "version": "3.11.7"
  }
 },
 "nbformat": 4,
 "nbformat_minor": 2
}

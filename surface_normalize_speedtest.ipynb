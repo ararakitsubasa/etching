{
 "cells": [
  {
   "cell_type": "code",
   "execution_count": 1,
   "metadata": {},
   "outputs": [],
   "source": [
    "import numpy as np\n",
    "import pyvista as pv\n",
    "import torch"
   ]
  },
  {
   "cell_type": "code",
   "execution_count": 2,
   "metadata": {},
   "outputs": [],
   "source": [
    "import cProfile\n",
    "import pstats"
   ]
  },
  {
   "cell_type": "code",
   "execution_count": 3,
   "metadata": {},
   "outputs": [],
   "source": [
    "from surface_normalize_bosch import surface_normal\n",
    "\n",
    "center_with_direction=np.array([[50,50,140]])\n",
    "range3D=np.array([[0, 100, 0, 100, 0, 800]])\n",
    "InOrOut=[1]\n",
    "yield_hist=np.array([None])\n",
    "celllength=1e-5\n",
    "\n",
    "maskTop=40\n",
    "maskBottom=98\n",
    "maskStep=10\n",
    "maskCenter=[50, 50]\n",
    "tstep = 1e-5\n",
    "surface =  surface_normal(center_with_direction, range3D, InOrOut,celllength,tstep, yield_hist,\\\n",
    "                          maskTop, maskBottom, maskStep, maskCenter)"
   ]
  },
  {
   "cell_type": "code",
   "execution_count": 5,
   "metadata": {},
   "outputs": [],
   "source": [
    "etching2 = np.load('./bosch_data_1010_ratio08_trench_condition5_300wide/bosch_sf_step_0_sf.npy')"
   ]
  },
  {
   "cell_type": "code",
   "execution_count": 4,
   "metadata": {},
   "outputs": [],
   "source": [
    "etching = np.load('./bosch_data_1010_ratio08_trench_condition5_300wide/bosch_sf_step_20_sf.npy')"
   ]
  },
  {
   "cell_type": "code",
   "execution_count": null,
   "metadata": {},
   "outputs": [],
   "source": [
    "planes = surface.get_pointcloud(np.sum(etching, axis=-1))"
   ]
  },
  {
   "cell_type": "code",
   "execution_count": null,
   "metadata": {},
   "outputs": [],
   "source": [
    "planes = surface.get_pointcloud(np.sum(etching2, axis=-1))\n",
    "\n",
    "helf_plane = int(planes.shape[0]/2)\n",
    "\n",
    "point_cloud = pv.PolyData(planes[:helf_plane, 3:])\n",
    "vectors = planes[:helf_plane, :3]\n",
    "\n",
    "point_cloud['vectors'] = vectors\n",
    "arrows = point_cloud.glyph(\n",
    "    orient='vectors',\n",
    "    scale=10000,\n",
    "    factor=3,\n",
    ")\n",
    "\n",
    "# Display the arrowscyan\n",
    "\n",
    "\n",
    "plotter = pv.Plotter()\n",
    "plotter.add_mesh(point_cloud, color='cyan', point_size=5.0, render_points_as_spheres=True)\n",
    "# plotter.add_mesh(sphere, show_edges=True, opacity=0.5, color=\"w\")\n",
    "plotter.add_mesh(arrows, color='lightblue')\n",
    "# # plotter.add_point_labels([point_cloud.center,], ['Center',],\n",
    "# #                          point_color='yellow', point_size=20)\n",
    "plotter.show_grid()\n",
    "plotter.show()"
   ]
  },
  {
   "cell_type": "code",
   "execution_count": null,
   "metadata": {},
   "outputs": [],
   "source": [
    "# 1. 使用 cProfile 生成性能分析文件\n",
    "# def test_function():\n",
    "#     result = 0\n",
    "#     for i in range(100):\n",
    "#         result += i\n",
    "#         print(result)\n",
    "#         planes = surface.get_pointcloud(np.sum(etching, axis=-1))\n",
    "#     return result\n",
    "\n",
    "cProfile.run('surface.get_pointcloud(np.sum(etching, axis=-1))', 'output_profile')\n",
    "\n",
    "# 2. 使用 pstats 加载并分析性能数据\n",
    "p = pstats.Stats('output_profile')\n",
    "\n",
    "# 3. 清理显示路径、排序并打印结果\n",
    "p.strip_dirs().sort_stats('cumulative').print_stats(10)\n"
   ]
  },
  {
   "cell_type": "code",
   "execution_count": 19,
   "metadata": {},
   "outputs": [],
   "source": [
    "def run_profile():\n",
    "    \n",
    "    # 创建 cProfile 分析器实例\n",
    "    profiler = cProfile.Profile()\n",
    "    \n",
    "    # 运行多次\n",
    "    for _ in range(100):  # 假设运行5次\n",
    "        profiler.enable()  # 开始分析\n",
    "        surface.get_pointcloud(np.sum(etching, axis=-1))  # 运行测试函数\n",
    "        profiler.disable()  # 结束分析\n",
    "    \n",
    "    # 将性能分析数据保存到文件中\n",
    "    profiler.dump_stats('output_profile')\n",
    "    \n",
    "    # 使用 pstats 加载分析数据\n",
    "    p = pstats.Stats('output_profile')\n",
    "    p.strip_dirs().sort_stats('cumulative').print_stats(10)"
   ]
  },
  {
   "cell_type": "code",
   "execution_count": null,
   "metadata": {},
   "outputs": [],
   "source": [
    "run_profile()"
   ]
  },
  {
   "cell_type": "code",
   "execution_count": 21,
   "metadata": {},
   "outputs": [],
   "source": [
    "def run_profile2():\n",
    "    \n",
    "    # 创建 cProfile 分析器实例\n",
    "    profiler = cProfile.Profile()\n",
    "    \n",
    "    # 运行多次\n",
    "    for _ in range(100):  # 假设运行5次\n",
    "        profiler.enable()  # 开始分析\n",
    "        surface.get_pointcloud(np.sum(etching2, axis=-1))  # 运行测试函数\n",
    "        profiler.disable()  # 结束分析\n",
    "    \n",
    "    # 将性能分析数据保存到文件中\n",
    "    profiler.dump_stats('output_profile')\n",
    "    \n",
    "    # 使用 pstats 加载分析数据\n",
    "    p = pstats.Stats('output_profile')\n",
    "    p.strip_dirs().sort_stats('cumulative').print_stats(10)"
   ]
  },
  {
   "cell_type": "code",
   "execution_count": null,
   "metadata": {},
   "outputs": [],
   "source": [
    "etching2.shape"
   ]
  },
  {
   "cell_type": "code",
   "execution_count": null,
   "metadata": {},
   "outputs": [],
   "source": [
    "# 创建随机数组\n",
    "a = np.random.randint(1, 10, size=10)\n",
    "print(\"初始数组:\", a)\n",
    "\n",
    "# 循环直到所有值都为 1\n",
    "while np.any(a > 1):  # 如果数组中还有大于 1 的值，就继续循环\n",
    "    a[a > 1] -= 1     # 找出大于 5 的元素并减 1\n",
    "    print(\"当前数组:\", a)"
   ]
  },
  {
   "cell_type": "code",
   "execution_count": null,
   "metadata": {},
   "outputs": [],
   "source": [
    "etching.shape"
   ]
  },
  {
   "cell_type": "code",
   "execution_count": null,
   "metadata": {},
   "outputs": [],
   "source": [
    "run_profile2()"
   ]
  },
  {
   "cell_type": "code",
   "execution_count": null,
   "metadata": {},
   "outputs": [],
   "source": []
  }
 ],
 "metadata": {
  "kernelspec": {
   "display_name": "base",
   "language": "python",
   "name": "python3"
  },
  "language_info": {
   "codemirror_mode": {
    "name": "ipython",
    "version": 3
   },
   "file_extension": ".py",
   "mimetype": "text/x-python",
   "name": "python",
   "nbconvert_exporter": "python",
   "pygments_lexer": "ipython3",
   "version": "3.12.5"
  }
 },
 "nbformat": 4,
 "nbformat_minor": 2
}

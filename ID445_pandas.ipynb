{
 "cells": [
  {
   "cell_type": "code",
   "execution_count": 97,
   "metadata": {},
   "outputs": [],
   "source": [
    "import pandas as pd\n",
    "import numpy as np\n",
    "import matplotlib.pyplot as plt\n",
    "from scipy import interpolate\n",
    "from scipy.spatial.transform import Rotation as R"
   ]
  },
  {
   "cell_type": "code",
   "execution_count": 6,
   "metadata": {},
   "outputs": [],
   "source": [
    "table = pd.read_csv('./ID445/angle_distribution.csv', encoding='utf-8')"
   ]
  },
  {
   "cell_type": "code",
   "execution_count": 8,
   "metadata": {},
   "outputs": [],
   "source": [
    "flux = pd.read_excel('./ID445/flux.xlsx', sheet_name=0)"
   ]
  },
  {
   "cell_type": "code",
   "execution_count": null,
   "metadata": {},
   "outputs": [],
   "source": [
    "flux"
   ]
  },
  {
   "cell_type": "code",
   "execution_count": null,
   "metadata": {},
   "outputs": [],
   "source": [
    "table"
   ]
  },
  {
   "cell_type": "code",
   "execution_count": 24,
   "metadata": {},
   "outputs": [],
   "source": [
    "table_numpy = table.to_numpy()"
   ]
  },
  {
   "cell_type": "code",
   "execution_count": 14,
   "metadata": {},
   "outputs": [],
   "source": [
    "flux_numpy = flux.to_numpy()"
   ]
  },
  {
   "cell_type": "code",
   "execution_count": null,
   "metadata": {},
   "outputs": [],
   "source": [
    "flux_numpy[:,1]"
   ]
  },
  {
   "cell_type": "code",
   "execution_count": null,
   "metadata": {},
   "outputs": [],
   "source": [
    "flux_numpy[:,1]/np.sum(flux_numpy[:, 1])"
   ]
  },
  {
   "cell_type": "code",
   "execution_count": null,
   "metadata": {},
   "outputs": [],
   "source": [
    "np.sum(flux_numpy[:,1]/np.sum(flux_numpy[:, 1]))"
   ]
  },
  {
   "cell_type": "code",
   "execution_count": null,
   "metadata": {},
   "outputs": [],
   "source": [
    "table_numpy.shape"
   ]
  },
  {
   "cell_type": "code",
   "execution_count": 91,
   "metadata": {},
   "outputs": [],
   "source": [
    "table_numpy_extend = np.zeros((32, 14))\n",
    "table_numpy_extend[1:-1,:] = table_numpy\n",
    "table_numpy_extend[-1,0] = 90"
   ]
  },
  {
   "cell_type": "code",
   "execution_count": null,
   "metadata": {},
   "outputs": [],
   "source": [
    "table_numpy_extend[:, 0]"
   ]
  },
  {
   "cell_type": "code",
   "execution_count": null,
   "metadata": {},
   "outputs": [],
   "source": [
    "table_numpy[0, 1:]"
   ]
  },
  {
   "cell_type": "code",
   "execution_count": null,
   "metadata": {},
   "outputs": [],
   "source": [
    "np.sum(table_numpy[:, 1:], axis=0)"
   ]
  },
  {
   "cell_type": "code",
   "execution_count": null,
   "metadata": {},
   "outputs": [],
   "source": [
    "table_numpy[:, 1]"
   ]
  },
  {
   "cell_type": "code",
   "execution_count": null,
   "metadata": {},
   "outputs": [],
   "source": [
    "fig, ax = plt.subplots(figsize=(8,6))\n",
    "\n",
    "ax.plot(table_numpy_extend[:, 0]*np.pi/180, table_numpy_extend[:, 1],'red', label = 'n1')\n",
    "ax.plot(table_numpy_extend[:, 0]*np.pi/180, table_numpy_extend[:, 2], 'blue', label = 'n2')\n",
    "\n",
    "ax.legend()\n",
    "plt.show()"
   ]
  },
  {
   "cell_type": "code",
   "execution_count": 81,
   "metadata": {},
   "outputs": [],
   "source": [
    "xnew = np.arange(0.2, np.pi-0.1, 0.001)"
   ]
  },
  {
   "cell_type": "code",
   "execution_count": null,
   "metadata": {},
   "outputs": [],
   "source": [
    "erosion_func = interpolate.interp1d(table_numpy_extend[:, 0]*np.pi/180, table_numpy_extend[:, 1], kind='quadratic')\n",
    "# erosion_func = interpolate.interp1d(table_numpy_extend[:, 1], table_numpy_extend[:, 0]*np.pi/180, kind='quadratic')\n",
    "xnew = np.arange(0, np.pi/2, 0.001)\n",
    "ynew = erosion_func(xnew)   # use interpolation function returned by `interp1d`\n",
    "plt.plot(table_numpy_extend[:, 0]*np.pi/180, table_numpy_extend[:, 1],'o', xnew, ynew, '-')\n",
    "plt.title('Erosion profile along wafer radius')\n",
    "plt.xlabel('r[m]')\n",
    "plt.ylabel('Erosion depth')\n",
    "plt.show()"
   ]
  },
  {
   "cell_type": "code",
   "execution_count": null,
   "metadata": {},
   "outputs": [],
   "source": [
    "fig, ax = plt.subplots(figsize=(8,6))\n",
    "flux_array = flux_numpy[:,1]/np.sum(flux_numpy[:, 1])\n",
    "\n",
    "ax.plot(np.arange(flux_array.shape[0]), flux_array)\n",
    "\n",
    "plt.show()"
   ]
  },
  {
   "cell_type": "code",
   "execution_count": null,
   "metadata": {},
   "outputs": [],
   "source": [
    "np.sum(table_numpy, axis=0)"
   ]
  },
  {
   "cell_type": "code",
   "execution_count": null,
   "metadata": {},
   "outputs": [],
   "source": [
    "table_numpy[:, 0]"
   ]
  },
  {
   "cell_type": "code",
   "execution_count": null,
   "metadata": {},
   "outputs": [],
   "source": [
    "table_numpy[:, 0] - 1.5"
   ]
  },
  {
   "cell_type": "code",
   "execution_count": 192,
   "metadata": {},
   "outputs": [],
   "source": [
    "rotate_angle = np.array([25, 20, -10, -15, -10, -10, -10, 0, 0, 0, 0, 0, 0])"
   ]
  },
  {
   "cell_type": "code",
   "execution_count": null,
   "metadata": {},
   "outputs": [],
   "source": [
    "rotate_angle.shape"
   ]
  },
  {
   "cell_type": "code",
   "execution_count": 212,
   "metadata": {},
   "outputs": [],
   "source": [
    "nozzle_1 = np.array([277-43-2, 49.5, 120-6])\n",
    "nozzle_2 = np.array([277-80-2, 49.5, 120-6])\n",
    "nozzle_3 = np.array([277-134-2, 49.5, 120-6])\n",
    "nozzle_4 = np.array([277-158-2, 49.5, 120-6])\n",
    "\n",
    "nozzle_5 = np.array([277-184-2, 49.5, 120-6])\n",
    "nozzle_8 = np.array([277-184-2, 49.5-17, 120-6])\n",
    "nozzle_11 = np.array([277-184-2, 49.5+17, 120-6])\n",
    "\n",
    "nozzle_6 = np.array([277-207-2, 49.5, 120-6])\n",
    "nozzle_9 = np.array([277-207-2, 49.5-17, 120-6])\n",
    "nozzle_12 = np.array([277-207-2, 49.5+17, 120-6])\n",
    "\n",
    "nozzle_7 = np.array([277-228-2, 49.5, 120-6])\n",
    "nozzle_10 = np.array([277-228-2, 49.5-17, 120-6])\n",
    "nozzle_13 = np.array([277-228-2, 49.5+17, 120-6])"
   ]
  },
  {
   "cell_type": "code",
   "execution_count": 213,
   "metadata": {},
   "outputs": [],
   "source": [
    "nozzles = np.array([nozzle_1, nozzle_2, nozzle_3, nozzle_4, nozzle_5, nozzle_6, nozzle_7, nozzle_8, \\\n",
    "                    nozzle_9, nozzle_10, nozzle_11, nozzle_12, nozzle_13])"
   ]
  },
  {
   "cell_type": "code",
   "execution_count": null,
   "metadata": {},
   "outputs": [],
   "source": [
    "print(nozzles)"
   ]
  },
  {
   "cell_type": "code",
   "execution_count": null,
   "metadata": {},
   "outputs": [],
   "source": [
    "print(nozzles[0])"
   ]
  },
  {
   "cell_type": "code",
   "execution_count": null,
   "metadata": {},
   "outputs": [],
   "source": [
    "nozzles.shape"
   ]
  },
  {
   "cell_type": "code",
   "execution_count": null,
   "metadata": {},
   "outputs": [],
   "source": [
    "N = int(1e7)\n",
    "\n",
    "flux_array = flux_numpy[:,1]/np.sum(flux_numpy[:, 1])\n",
    "\n",
    "print(flux_array)"
   ]
  },
  {
   "cell_type": "code",
   "execution_count": null,
   "metadata": {},
   "outputs": [],
   "source": [
    "print(flux_array.shape)"
   ]
  },
  {
   "cell_type": "code",
   "execution_count": null,
   "metadata": {},
   "outputs": [],
   "source": [
    "1614372008"
   ]
  },
  {
   "cell_type": "code",
   "execution_count": null,
   "metadata": {},
   "outputs": [],
   "source": [
    "table_numpy_ratio = table_numpy/np.sum(table_numpy, axis=0)\n",
    "\n",
    "np.sum(table_numpy_ratio[:, 2])"
   ]
  },
  {
   "cell_type": "code",
   "execution_count": null,
   "metadata": {},
   "outputs": [],
   "source": [
    "N = int(1e7)\n",
    "\n",
    "flux_array = flux_numpy[:,1]/np.sum(flux_numpy[:, 1])\n",
    "\n",
    "table_numpy_ratio = table_numpy/np.sum(table_numpy, axis=0)\n",
    "\n",
    "# print(table_numpy_ratio)\n",
    "# samples_vel = np.zeros(1)\n",
    "# samples_pos = np.zeros((1, 3))\n",
    "\n",
    "vel_pos = np.zeros((1, 6))\n",
    "for j in range(nozzles.shape[0]):\n",
    "    print(j)\n",
    "    samples_vel = np.zeros(1)\n",
    "    # samples_pos = np.zeros((1, 3))\n",
    "    for i in range(table_numpy.shape[0]):\n",
    "        sample_bin = np.random.rand(int(table_numpy_ratio[i, j + 1]* N * flux_array[j]))*3*np.pi/180 + (table_numpy[i, 0] - 1.5)*np.pi/180\n",
    "        samples_vel = np.concatenate((samples_vel, sample_bin))\n",
    "\n",
    "        print('sample_bin:', sample_bin.shape)\n",
    "        print('samples_vel:', samples_vel.shape)\n",
    "        # rotate\n",
    "    samples_vel = samples_vel[1:]\n",
    "    # samples_pos = samples_pos[1:]\n",
    "    phi = np.random.rand(samples_vel.shape[0])*np.pi*2\n",
    "\n",
    "    vz = -np.cos(samples_vel)\n",
    "    vx = np.sin(samples_vel)*np.cos(phi)\n",
    "    vy = np.sin(samples_vel)*np.sin(phi)\n",
    "\n",
    "\n",
    "    vel_matrix = np.array([vx, vy, vz]).T\n",
    "\n",
    "    y = -rotate_angle[j]*np.pi/180\n",
    "\n",
    "    ry = R.from_matrix([[np.cos(y),  0,  np.sin(y)],\n",
    "                        [0,          1,          0],\n",
    "                        [-np.sin(y), 0,  np.cos(y)]])\n",
    "\n",
    "    vel_matrix_rotate = ry.apply(vel_matrix)\n",
    "        # rotate end\n",
    "    print('samples_vel----------beforepos:', samples_vel.shape)\n",
    "    sample_pos_bin = np.ones((samples_vel.shape[0], 3))*nozzles[j]\n",
    "\n",
    "        # print(vel_matrix_rotate.shape)\n",
    "    print('sample_pos_bin',sample_pos_bin.shape)\n",
    "    vel_pos_sample = np.concatenate((vel_matrix_rotate, sample_pos_bin), axis=1)  \n",
    "    print('vel_pos_sample',vel_pos_sample.shape)\n",
    "\n",
    "    vel_pos = np.concatenate((vel_pos, vel_pos_sample))      \n",
    "\n",
    "# samples_vel = samples_vel[1:]\n",
    "# samples_pos = samples_pos[1:]\n",
    "\n",
    "print(vel_pos.shape)\n",
    "\n",
    "# phi = np.random.rand(samples_vel.shape[0])*np.pi*2\n",
    "\n",
    "# vz = -np.cos(samples_vel)\n",
    "# vx = np.sin(samples_vel)*np.cos(phi)\n",
    "# vy = np.sin(samples_vel)*np.sin(phi)\n",
    "\n",
    "\n",
    "# vel_matrix = np.array([vx, vy, vz]).T\n",
    "\n",
    "# y = -20*np.pi/180\n",
    "\n",
    "# ry = R.from_matrix([[np.cos(y),  0,  np.sin(y)],\n",
    "#                     [0,          1,          0],\n",
    "#                     [-np.sin(y), 0,  np.cos(y)]])\n",
    "\n",
    "# vel_matrix_rotate = ry.apply(vel_matrix)\n",
    "# print(vel_matrix.shape)\n",
    "\n",
    "# np.random.shuffle(vel_matrix)"
   ]
  },
  {
   "cell_type": "code",
   "execution_count": null,
   "metadata": {},
   "outputs": [],
   "source": [
    "vel_pos[:10]"
   ]
  },
  {
   "cell_type": "code",
   "execution_count": null,
   "metadata": {},
   "outputs": [],
   "source": [
    "fig, ax = plt.subplots(figsize=(8,6))\n",
    "\n",
    "ax.hist(vel_pos[:,1], bins=200)\n",
    "\n",
    "plt.show()"
   ]
  },
  {
   "cell_type": "code",
   "execution_count": null,
   "metadata": {},
   "outputs": [],
   "source": [
    "left = np.sum(vel_pos[:,1] > 0)\n",
    "print(left/vel_pos.shape[0])"
   ]
  },
  {
   "cell_type": "code",
   "execution_count": null,
   "metadata": {},
   "outputs": [],
   "source": [
    "vel_pos[1:].shape"
   ]
  },
  {
   "cell_type": "code",
   "execution_count": 223,
   "metadata": {},
   "outputs": [],
   "source": [
    "np.save('vel_pos_ID445', vel_pos[1:])"
   ]
  },
  {
   "cell_type": "code",
   "execution_count": null,
   "metadata": {},
   "outputs": [],
   "source": [
    "fig, ax = plt.subplots(figsize=(8,6))\n",
    "\n",
    "ax.hist(sample_n1, bins=200)\n",
    "\n",
    "plt.show()"
   ]
  },
  {
   "cell_type": "code",
   "execution_count": null,
   "metadata": {},
   "outputs": [],
   "source": [
    "ax = plt.figure().add_subplot(projection='3d')\n",
    "\n",
    "show = 300\n",
    "# ax.quiver(origin[:,0], origin[:,1], origin[:,2], vtest[:,0], vtest[:,1], vtest[:,2],length=vNorm[0], color='red')\n",
    "ax.quiver(np.zeros(show),np.zeros(show), np.zeros(show), \\\n",
    "          vel_matrix[:show, 0], vel_matrix[:show, 1], vel_matrix[:show, 2],length=10, color='blue')\n",
    "\n",
    "ax.set_xlim(-10, 10)\n",
    "ax.set_ylim(-10, 10)\n",
    "ax.set_zlim(-10, 10)\n",
    "ax.set_xlabel('x')\n",
    "ax.set_ylabel('y')\n",
    "ax.set_zlabel('z')\n",
    "ax.view_init(elev=0, azim=90, roll=0)\n",
    "plt.show()"
   ]
  },
  {
   "cell_type": "code",
   "execution_count": null,
   "metadata": {},
   "outputs": [],
   "source": [
    "ax = plt.figure().add_subplot(projection='3d')\n",
    "\n",
    "show = 500\n",
    "# ax.quiver(origin[:,0], origin[:,1], origin[:,2], vtest[:,0], vtest[:,1], vtest[:,2],length=vNorm[0], color='red')\n",
    "ax.quiver(np.zeros(show),np.zeros(show), np.zeros(show), \\\n",
    "          vel_matrix[:show, 0], vel_matrix[:show, 1], vel_matrix[:show, 2],length=10, color='blue')\n",
    "\n",
    "ax.set_xlim(-10, 10)\n",
    "ax.set_ylim(-10, 10)\n",
    "ax.set_zlim(-10, 10)\n",
    "ax.set_xlabel('x')\n",
    "ax.set_ylabel('y')\n",
    "ax.set_zlabel('z')\n",
    "ax.view_init(elev=90, azim=0, roll=0)\n",
    "plt.show()"
   ]
  },
  {
   "cell_type": "code",
   "execution_count": 140,
   "metadata": {},
   "outputs": [],
   "source": [
    "y = -20*np.pi/180\n",
    "\n",
    "ry = R.from_matrix([[np.cos(y),  0,  np.sin(y)],\n",
    "                    [0,          1,          0],\n",
    "                    [-np.sin(y), 0,  np.cos(y)]])\n",
    "\n",
    "vel_matrix_rotate = ry.apply(vel_matrix)\n",
    "\n"
   ]
  },
  {
   "cell_type": "code",
   "execution_count": null,
   "metadata": {},
   "outputs": [],
   "source": [
    "ax = plt.figure().add_subplot(projection='3d')\n",
    "\n",
    "show = 300\n",
    "# ax.quiver(origin[:,0], origin[:,1], origin[:,2], vtest[:,0], vtest[:,1], vtest[:,2],length=vNorm[0], color='red')\n",
    "ax.quiver(np.zeros(show),np.zeros(show), np.zeros(show), \\\n",
    "          vel_matrix_rotate[:show, 0], vel_matrix_rotate[:show, 1], vel_matrix_rotate[:show, 2],length=10, color='blue')\n",
    "\n",
    "ax.set_xlim(-10, 10)\n",
    "ax.set_ylim(-10, 10)\n",
    "ax.set_zlim(-10, 10)\n",
    "ax.set_xlabel('x')\n",
    "ax.set_ylabel('y')\n",
    "ax.set_zlabel('z')\n",
    "ax.view_init(elev=0, azim=90, roll=0)\n",
    "plt.show()"
   ]
  },
  {
   "cell_type": "code",
   "execution_count": null,
   "metadata": {},
   "outputs": [],
   "source": [
    "ax = plt.figure().add_subplot(projection='3d')\n",
    "\n",
    "show = 300\n",
    "# ax.quiver(origin[:,0], origin[:,1], origin[:,2], vtest[:,0], vtest[:,1], vtest[:,2],length=vNorm[0], color='red')\n",
    "ax.quiver(np.zeros(show),np.zeros(show), np.zeros(show), \\\n",
    "          vel_matrix_rotate[:show, 0], vel_matrix_rotate[:show, 1], vel_matrix_rotate[:show, 2],length=10, color='blue')\n",
    "\n",
    "ax.set_xlim(-10, 10)\n",
    "ax.set_ylim(-10, 10)\n",
    "ax.set_zlim(-10, 10)\n",
    "ax.set_xlabel('x')\n",
    "ax.set_ylabel('y')\n",
    "ax.set_zlabel('z')\n",
    "ax.view_init(elev=90, azim=0, roll=0)\n",
    "plt.show()"
   ]
  }
 ],
 "metadata": {
  "kernelspec": {
   "display_name": "base",
   "language": "python",
   "name": "python3"
  },
  "language_info": {
   "codemirror_mode": {
    "name": "ipython",
    "version": 3
   },
   "file_extension": ".py",
   "mimetype": "text/x-python",
   "name": "python",
   "nbconvert_exporter": "python",
   "pygments_lexer": "ipython3",
   "version": "3.12.5"
  }
 },
 "nbformat": 4,
 "nbformat_minor": 2
}

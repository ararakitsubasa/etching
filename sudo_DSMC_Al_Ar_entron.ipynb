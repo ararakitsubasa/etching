{
 "cells": [
  {
   "cell_type": "code",
   "execution_count": null,
   "metadata": {},
   "outputs": [],
   "source": [
    "import numpy as np\n",
    "import matplotlib.pyplot as plt\n",
    "import pyvista as pv\n",
    "import CollisionModule"
   ]
  },
  {
   "cell_type": "code",
   "execution_count": null,
   "metadata": {},
   "outputs": [],
   "source": [
    "import cProfile"
   ]
  },
  {
   "cell_type": "code",
   "execution_count": null,
   "metadata": {},
   "outputs": [],
   "source": [
    "import torch"
   ]
  },
  {
   "cell_type": "code",
   "execution_count": null,
   "metadata": {},
   "outputs": [],
   "source": [
    "release_pos = np.load('./release_pos_1e8_1105.npy')\n",
    "velosity_matrix = np.load('./velosity_matrix_1e8_1105.npy')\n",
    "DXsec_Al = np.load('./DXsec_Al_1e8.npy')"
   ]
  },
  {
   "cell_type": "code",
   "execution_count": null,
   "metadata": {},
   "outputs": [],
   "source": [
    "print(release_pos.shape)\n",
    "\n",
    "fig, ax = plt.subplots()\n",
    "ax.set_title(\"velosity distribution of deposited aluminum on wafer (edge)\")\n",
    "ax.hist(release_pos[:,0], bins=100,histtype='step', stacked=True, fill=False, label='pos_x')\n",
    "ax.hist(release_pos[:,1], bins=100,histtype='step', stacked=True, fill=False, label='pos_y')\n",
    "# ax.set_yscale('log')\n",
    "# ax.plot(X, hist_dist.cdf(X), label='CDF')\n",
    "ax.legend()"
   ]
  },
  {
   "cell_type": "code",
   "execution_count": null,
   "metadata": {},
   "outputs": [],
   "source": [
    "print(velosity_matrix.shape)\n",
    "\n",
    "fig, ax = plt.subplots()\n",
    "ax.set_title(\"velosity distribution of deposited aluminum on wafer (edge)\")\n",
    "ax.hist(velosity_matrix[:,0], bins=100,histtype='step', stacked=True, fill=False, label='vel_x')\n",
    "ax.hist(velosity_matrix[:,1], bins=100,histtype='step', stacked=True, fill=False, label='vel_y')\n",
    "ax.hist(velosity_matrix[:,2], bins=100,histtype='step', stacked=True, fill=False, label='vel_z')\n",
    "# ax.set_yscale('log')\n",
    "# ax.plot(X, hist_dist.cdf(X), label='CDF')\n",
    "ax.legend()"
   ]
  },
  {
   "cell_type": "code",
   "execution_count": null,
   "metadata": {},
   "outputs": [],
   "source": [
    "TS = 0.14 #200mm\n",
    "release_pos[:,2] += TS\n",
    "print(release_pos[:,0].min())\n",
    "print(release_pos[:,0].max())\n",
    "print(release_pos[:,1].min())\n",
    "print(release_pos[:,1].max())"
   ]
  },
  {
   "cell_type": "code",
   "execution_count": null,
   "metadata": {},
   "outputs": [],
   "source": [
    "logname = 'DSMC_0708_TS180_collision_ArAl_SMD'\n",
    "transport = CollisionModule.transport(boundaryType='SMD', maxMove=1, pressure_pa=0.2, timeStep= 1e-7, temperature=300, cellSize=[230, 100, 100], celllength=0.002, chamberSize=[0.23, 0.1], DXsec=DXsec_Al, logname=logname)\n",
    "transport.setXsec(energy_range=[0.1, 50, 50])"
   ]
  },
  {
   "cell_type": "code",
   "execution_count": null,
   "metadata": {},
   "outputs": [],
   "source": [
    "cProfile.run('result = transport.runE(p0=release_pos, v0=velosity_matrix, time=1e-5)')"
   ]
  },
  {
   "cell_type": "code",
   "execution_count": null,
   "metadata": {},
   "outputs": [],
   "source": [
    "result = transport.runE(p0=release_pos, v0=velosity_matrix, time=5e-4)"
   ]
  },
  {
   "cell_type": "code",
   "execution_count": null,
   "metadata": {},
   "outputs": [],
   "source": [
    "result2 = np.load('./transport_TS300_result_posvel.npy')\n",
    "result1 = np.load('./transport_TS300_result_collisionPos.npy')"
   ]
  },
  {
   "cell_type": "code",
   "execution_count": null,
   "metadata": {},
   "outputs": [],
   "source": [
    "depo_count = 0\n",
    "for i in range(len(result[1])):\n",
    "    depo_count += result[1][i].shape[0]\n",
    "\n",
    "depo_arr = np.zeros((depo_count, 6))\n",
    "pointer = 0\n",
    "for i in range(len(result[1])):\n",
    "    depo_arr[pointer:pointer + result[1][i].shape[0]] = result[1][i]\n",
    "    pointer += result[1][i].shape[0]\n"
   ]
  },
  {
   "cell_type": "code",
   "execution_count": null,
   "metadata": {},
   "outputs": [],
   "source": [
    "collison_count = 0\n",
    "for i in range(len(result[0])):\n",
    "    collison_count += result[0][i].shape[0]\n",
    "\n",
    "collison_arr = np.zeros((collison_count, 3))\n",
    "pointer = 0\n",
    "for i in range(len(result[0])):\n",
    "    collison_arr[pointer:pointer + result[0][i].shape[0]] = result[0][i]\n",
    "    pointer += result[0][i].shape[0]"
   ]
  },
  {
   "cell_type": "code",
   "execution_count": null,
   "metadata": {},
   "outputs": [],
   "source": [
    "print(depo_arr.shape)\n",
    "print(collison_arr.shape)"
   ]
  },
  {
   "cell_type": "code",
   "execution_count": null,
   "metadata": {},
   "outputs": [],
   "source": [
    "print(depo_arr.shape)\n",
    "print(collison_arr.shape)\n",
    "np.save('transport_TS60_result_posvel_02Pa_SMD_final1104', depo_arr)\n",
    "np.save('transport_TS60_result_collisionPos_02Pa_SMD_final1104', collison_arr)"
   ]
  },
  {
   "cell_type": "code",
   "execution_count": null,
   "metadata": {},
   "outputs": [],
   "source": [
    "x_erosion_np = collison_arr[:,0]\n",
    "y_erosion_np = collison_arr[:,1]\n",
    "\n",
    "xbins = np.linspace(-0.2,0.2,200)\n",
    "ybins = np.linspace(-0.1,0.1,100)\n",
    "# ybins = np.linspace(1.815, 2.415, 200)\n",
    "x_bins = np.histogram(x_erosion_np, bins=xbins)\n",
    "y_bins = np.histogram(y_erosion_np, bins=ybins)\n",
    "\n",
    "H, xedges, yedges = np.histogram2d(x_erosion_np, y_erosion_np, bins=(xbins, ybins))\n",
    "\n",
    "\n",
    "fig, ax = plt.subplots(figsize=(8,8))\n",
    "im = ax.imshow(H.T, interpolation='nearest', origin='lower',\n",
    "        extent=[xedges[0], xedges[-1], yedges[0], yedges[-1]])\n",
    "ax.set_title('Ion position, erosion area(Top view)')\n",
    "ax.set_xlabel('x')\n",
    "ax.set_ylabel('y')\n",
    "fig.colorbar(im, ax=ax, label='Events')\n",
    "plt.show()"
   ]
  },
  {
   "cell_type": "code",
   "execution_count": null,
   "metadata": {},
   "outputs": [],
   "source": [
    "x_erosion_np = collison_arr[:,0]\n",
    "z_erosion_np = collison_arr[:,2]\n",
    "\n",
    "xbins = np.linspace(-0.2,0.2,200)\n",
    "zbins = np.linspace(0,0.2,100)\n",
    "# zbins = np.linspace(1.815, 2.415, 200)\n",
    "x_bins = np.histogram(x_erosion_np, bins=xbins)\n",
    "z_bins = np.histogram(z_erosion_np, bins=zbins)\n",
    "\n",
    "H, xedges, zedges = np.histogram2d(x_erosion_np, z_erosion_np, bins=(xbins, zbins))\n",
    "\n",
    "fig, ax = plt.subplots(figsize=(8,8))\n",
    "im = ax.imshow(H.T, interpolation='nearest', origin='lower',\n",
    "        extent=[xedges[0], xedges[-1], zedges[0], zedges[-1]])\n",
    "ax.set_title('Al-Ar collision position(side view)')\n",
    "ax.set_xlabel('x')\n",
    "ax.set_ylabel('y')\n",
    "# fig.colorbar(im, ax=ax, label='Events')\n",
    "plt.show()"
   ]
  },
  {
   "cell_type": "code",
   "execution_count": null,
   "metadata": {},
   "outputs": [],
   "source": [
    "depo_pv = depo_arr\n",
    "a = np.array(depo_pv)\n",
    "print(a.shape)"
   ]
  },
  {
   "cell_type": "code",
   "execution_count": null,
   "metadata": {},
   "outputs": [],
   "source": [
    "velosity_matrix.shape"
   ]
  },
  {
   "cell_type": "code",
   "execution_count": null,
   "metadata": {},
   "outputs": [],
   "source": [
    "fig, ax = plt.subplots()\n",
    "ax.set_title(\"velosity distribution of deposited aluminum on wafer (center)\")\n",
    "ax.hist(depo_arr[:,3], bins=100,histtype='step', stacked=True, fill=False, label='vel_x')\n",
    "# ax.hist(result[2][:,4], bins=100,histtype='step', stacked=True, fill=False, label='vel_y')\n",
    "# ax.hist(result[2][:,5], bins=100,histtype='step', stacked=True, fill=False, label='vel_z')\n",
    "\n",
    "ax.hist(velosity_matrix[:,0], bins=100,histtype='step', stacked=True, fill=False, label='vel_x_2')\n",
    "# ax.hist(velosity_matrix[:,1], bins=100,histtype='step', stacked=True, fill=False, label='vel_y_2')\n",
    "# ax.hist(velosity_matrix[:,2], bins=100,histtype='step', stacked=True, fill=False, label='vel_z_2')\n",
    "# ax.set_yscale('log')\n",
    "# ax.plot(X, hist_dist.cdf(X), label='CDF')\n",
    "ax.legend()"
   ]
  },
  {
   "cell_type": "code",
   "execution_count": null,
   "metadata": {},
   "outputs": [],
   "source": [
    "fig, ax = plt.subplots()\n",
    "ax.set_title(\"velosity distribution of deposited aluminum on wafer (center)\")\n",
    "ax.hist(a[:,3], bins=100,histtype='step', stacked=True, fill=False, label='vel_x')\n",
    "ax.hist(a[:,4], bins=100,histtype='step', stacked=True, fill=False, label='vel_y')\n",
    "ax.hist(a[:,5], bins=100,histtype='step', stacked=True, fill=False, label='vel_z')\n",
    "# ax.set_yscale('log')\n",
    "# ax.plot(X, hist_dist.cdf(X), label='CDF')\n",
    "ax.legend()"
   ]
  },
  {
   "cell_type": "code",
   "execution_count": null,
   "metadata": {},
   "outputs": [],
   "source": [
    "fig, ax = plt.subplots()\n",
    "ax.set_title(\"velosity distribution of deposited aluminum on wafer (center)\")\n",
    "ax.hist(np.linalg.norm(a[:,3:],axis=1), bins=100,histtype='step', stacked=True, fill=False, label='vel_x')\n",
    "\n",
    "# ax.set_yscale('log')\n",
    "# ax.plot(X, hist_dist.cdf(X), label='CDF')\n",
    "ax.legend()"
   ]
  },
  {
   "cell_type": "code",
   "execution_count": null,
   "metadata": {},
   "outputs": [],
   "source": [
    "x_erosion_np = a[:,0]\n",
    "y_erosion_np = a[:,1]\n",
    "\n",
    "xbins = np.linspace(-0.3,0.3,300)\n",
    "ybins = np.linspace(-0.1,0.1,100)\n",
    "# ybins = np.linspace(1.815, 2.415, 200)\n",
    "x_bins = np.histogram(x_erosion_np, bins=xbins)\n",
    "y_bins = np.histogram(y_erosion_np, bins=ybins)\n",
    "\n",
    "H, xedges, yedges = np.histogram2d(x_erosion_np, y_erosion_np, bins=(xbins, ybins))\n",
    "\n",
    "\n",
    "fig, ax = plt.subplots(figsize=(8,8))\n",
    "im = ax.imshow(H.T, interpolation='nearest', origin='lower',\n",
    "        extent=[xedges[0], xedges[-1], yedges[0], yedges[-1]])\n",
    "ax.set_title('deposition position(Top view)')\n",
    "ax.set_xlabel('x')\n",
    "ax.set_ylabel('y')\n",
    "# fig.colorbar(im, ax=ax, label='Events')\n",
    "plt.show()"
   ]
  },
  {
   "cell_type": "code",
   "execution_count": null,
   "metadata": {},
   "outputs": [],
   "source": [
    "center_indices = np.logical_or(a[:,0] < -0.015, a[:,0] > 0.015)\n",
    "center_indices |= np.logical_or(a[:,1] < -0.015, a[:,1] > 0.015)\n",
    "center_indices |= np.array(a[:,2] > 0.1)\n",
    "\n",
    "if np.any(center_indices):\n",
    "    center_depo = a[~center_indices]\n",
    "\n",
    "print(center_depo.shape)"
   ]
  },
  {
   "cell_type": "code",
   "execution_count": null,
   "metadata": {},
   "outputs": [],
   "source": [
    "fig, ax = plt.subplots()\n",
    "ax.set_title(\"velosity distribution of deposited aluminum on wafer (center)\")\n",
    "ax.hist(center_depo[:,3], bins=100,histtype='step', stacked=True, fill=False, label='vel_x')\n",
    "ax.hist(center_depo[:,4], bins=100,histtype='step', stacked=True, fill=False, label='vel_y')\n",
    "ax.hist(center_depo[:,5], bins=100,histtype='step', stacked=True, fill=False, label='vel_z')\n",
    "# ax.set_yscale('log')\n",
    "# ax.set_yscale('log')\n",
    "# ax.plot(X, hist_dist.cdf(X), label='CDF')\n",
    "# ax.plot(X, hist_dist.cdf(X), label='CDF')\n",
    "ax.legend()"
   ]
  },
  {
   "cell_type": "code",
   "execution_count": null,
   "metadata": {},
   "outputs": [],
   "source": [
    "x_erosion_np = center_depo[:,0]\n",
    "y_erosion_np = center_depo[:,1]\n",
    "\n",
    "xbins = np.linspace(-0.3,0.3,300)\n",
    "ybins = np.linspace(-0.1,0.1,100)\n",
    "# ybins = np.linspace(1.815, 2.415, 200)\n",
    "x_bins = np.histogram(x_erosion_np, bins=xbins)\n",
    "y_bins = np.histogram(y_erosion_np, bins=ybins)\n",
    "\n",
    "H, xedges, yedges = np.histogram2d(x_erosion_np, y_erosion_np, bins=(xbins, ybins))\n",
    "\n",
    "\n",
    "fig, ax = plt.subplots(figsize=(8,8))\n",
    "im = ax.imshow(H.T, interpolation='nearest', origin='lower',\n",
    "        extent=[xedges[0], xedges[-1], yedges[0], yedges[-1]])\n",
    "ax.set_title('Ion position, erosion area(Top view)')\n",
    "ax.set_xlabel('x')\n",
    "ax.set_ylabel('y')\n",
    "fig.colorbar(im, ax=ax, label='Events')\n",
    "plt.show()"
   ]
  },
  {
   "cell_type": "code",
   "execution_count": null,
   "metadata": {},
   "outputs": [],
   "source": [
    "edge_indices = np.logical_or(a[:,0] < 0.165, a[:,0] > 0.195)\n",
    "edge_indices |= np.logical_or(a[:,1] < -0.015, a[:,1] > 0.015)\n",
    "edge_indices |= np.array(a[:,2] > 0.2)\n",
    "if np.any(edge_indices):\n",
    "    edge_depo = a[~edge_indices]\n",
    "\n",
    "print(edge_depo.shape)"
   ]
  },
  {
   "cell_type": "code",
   "execution_count": null,
   "metadata": {},
   "outputs": [],
   "source": [
    "fig, ax = plt.subplots()\n",
    "ax.set_title(\"velosity distribution of deposited aluminum on wafer (edge)\")\n",
    "ax.hist(edge_depo[:,3], bins=100,histtype='step', stacked=True, fill=False, label='vel_x')\n",
    "ax.hist(edge_depo[:,4], bins=100,histtype='step', stacked=True, fill=False, label='vel_y')\n",
    "ax.hist(edge_depo[:,5], bins=100,histtype='step', stacked=True, fill=False, label='vel_z')\n",
    "# ax.set_yscale('log')\n",
    "# ax.plot(X, hist_dist.cdf(X), label='CDF')\n",
    "ax.legend()"
   ]
  },
  {
   "cell_type": "code",
   "execution_count": null,
   "metadata": {},
   "outputs": [],
   "source": [
    "x_erosion_np = edge_depo[:,0]\n",
    "y_erosion_np = edge_depo[:,1]\n",
    "\n",
    "xbins = np.linspace(-0.3,0.3,300)\n",
    "ybins = np.linspace(-0.1,0.1,100)\n",
    "# ybins = np.linspace(1.815, 2.415, 200)\n",
    "x_bins = np.histogram(x_erosion_np, bins=xbins)\n",
    "y_bins = np.histogram(y_erosion_np, bins=ybins)\n",
    "\n",
    "H, xedges, yedges = np.histogram2d(x_erosion_np, y_erosion_np, bins=(xbins, ybins))\n",
    "\n",
    "\n",
    "fig, ax = plt.subplots(figsize=(8,8))\n",
    "im = ax.imshow(H.T, interpolation='nearest', origin='lower',\n",
    "        extent=[xedges[0], xedges[-1], yedges[0], yedges[-1]])\n",
    "ax.set_title('Ion position, erosion area(Top view)')\n",
    "ax.set_xlabel('x')\n",
    "ax.set_ylabel('y')\n",
    "fig.colorbar(im, ax=ax, label='Events')\n",
    "plt.show()"
   ]
  },
  {
   "cell_type": "code",
   "execution_count": null,
   "metadata": {},
   "outputs": [],
   "source": [
    "for i in range(1):\n",
    "    center_depo = np.concatenate((center_depo, center_depo), axis=0)\n",
    "\n",
    "print(center_depo.shape)"
   ]
  },
  {
   "cell_type": "code",
   "execution_count": null,
   "metadata": {},
   "outputs": [],
   "source": [
    "import depoSimulator_symmetry"
   ]
  },
  {
   "cell_type": "code",
   "execution_count": null,
   "metadata": {},
   "outputs": [],
   "source": [
    "film = np.zeros((88, 88, 120))\n",
    "\n",
    "bottom = 10\n",
    "film[:, :, 0:bottom] = 10 # bottom\n",
    "\n",
    "height = 30\n",
    "left_side = 24\n",
    "right_side = 24\n",
    "film[:, 88-right_side:, 0:height] = 10\n",
    "film[:, 0:left_side, 0:height] = 10\n",
    "film[88-right_side:, :, 0:height] = 10\n",
    "film[0:left_side, :, 0:height] = 10"
   ]
  },
  {
   "cell_type": "code",
   "execution_count": null,
   "metadata": {},
   "outputs": [],
   "source": [
    "substrute = torch.Tensor(film==10).to_sparse()\n",
    "substrute = substrute.indices().numpy().T\n",
    "# point_cloud = pv.PolyData(points)\n",
    "# point_cloud.plot(eye_dome_lighting=True)\n",
    "\n",
    "p = pv.Plotter()\n",
    "# p.add_mesh(depo3, color='yellow', point_size=5)\n",
    "p.add_mesh(substrute, color='lightblue', point_size=9)\n",
    "p.enable_eye_dome_lighting()\n",
    "p.show()"
   ]
  },
  {
   "cell_type": "code",
   "execution_count": null,
   "metadata": {},
   "outputs": [],
   "source": [
    "print(center_depo[:, 3:].shape)"
   ]
  },
  {
   "cell_type": "code",
   "execution_count": null,
   "metadata": {},
   "outputs": [],
   "source": [
    "logname = 'TS300'\n",
    "test = depoSimulator_symmetry.depo(param = [1.6, -0.7], TS = 0.3, N = center_depo.shape[0], sub_xy=[0,0], film=film, n=1, cellSize=[88, 88, 120], celllength=1, kdtreeN=5, tstep=1e-4, logname=logname)\n",
    "deposit = test.run_afterCollision(1, 125, center_depo[:, 3:], 0.5)"
   ]
  },
  {
   "cell_type": "code",
   "execution_count": null,
   "metadata": {},
   "outputs": [],
   "source": [
    "np.save('./TScompare/TS300_afterCollision_0530_v2_run1_t1e-5_p4e6', deposit)"
   ]
  },
  {
   "cell_type": "code",
   "execution_count": null,
   "metadata": {},
   "outputs": [],
   "source": [
    "depo1 = torch.Tensor(deposit[20:46, :, :]==20).to_sparse()\n",
    "depo1 = depo1.indices().numpy().T\n",
    "\n",
    "# depo2 = torch.Tensor(deposit[:100, :, :]==40).to_sparse()\n",
    "# depo2 = depo2.indices().numpy().T\n",
    "\n",
    "# depo3 = torch.Tensor(np.logical_or( deposit[:100, :, :]==60, deposit[:100, :, :]==80)).to_sparse()\n",
    "# depo3 = depo3.indices().numpy().T\n",
    "\n",
    "substrute = torch.Tensor(deposit[20:46, :, :]==10).to_sparse()\n",
    "substrute = substrute.indices().numpy().T\n",
    "# point_cloud = pv.PolyData(points)\n",
    "# point_cloud.plot(eye_dome_lighting=True)\n",
    "\n",
    "p = pv.Plotter() \n",
    "p.add_mesh(depo1, color='red', point_size=10)\n",
    "# p.add_mesh(depo2, color='green', point_size=5)\n",
    "# p.add_mesh(depo3, color='yellow', point_size=5)\n",
    "p.add_mesh(substrute, color='lightblue', point_size=10)\n",
    "p.enable_eye_dome_lighting()\n",
    "p.show()"
   ]
  },
  {
   "cell_type": "code",
   "execution_count": null,
   "metadata": {},
   "outputs": [],
   "source": [
    "depo1 = torch.Tensor(deposit[:, :, :]==20).to_sparse()\n",
    "depo1 = depo1.indices().numpy().T\n",
    "\n",
    "# depo2 = torch.Tensor(deposit[:100, :, :]==40).to_sparse()\n",
    "# depo2 = depo2.indices().numpy().T\n",
    "\n",
    "# depo3 = torch.Tensor(np.logical_or( deposit[:100, :, :]==60, deposit[:100, :, :]==80)).to_sparse()\n",
    "# depo3 = depo3.indices().numpy().T\n",
    "\n",
    "substrute = torch.Tensor(deposit[:, :, :]==10).to_sparse()\n",
    "substrute = substrute.indices().numpy().T\n",
    "# point_cloud = pv.PolyData(points)\n",
    "# point_cloud.plot(eye_dome_lighting=True)\n",
    "\n",
    "p = pv.Plotter() \n",
    "p.add_mesh(depo1, color='red', point_size=10)\n",
    "# p.add_mesh(depo2, color='green', point_size=5)\n",
    "# p.add_mesh(depo3, color='yellow', point_size=5)\n",
    "p.add_mesh(substrute, color='lightblue', point_size=10)\n",
    "p.enable_eye_dome_lighting()\n",
    "p.show()"
   ]
  },
  {
   "cell_type": "code",
   "execution_count": null,
   "metadata": {},
   "outputs": [],
   "source": [
    "fig, ax = plt.subplots()\n",
    "ax.set_title(\"velosity distribution of deposited aluminum on wafer (edge)\")\n",
    "ax.hist(edge_depo[:,3], bins=100,histtype='step', stacked=True, fill=False, label='vel_x')\n",
    "ax.hist(edge_depo[:,4], bins=100,histtype='step', stacked=True, fill=False, label='vel_y')\n",
    "ax.hist(edge_depo[:,5], bins=100,histtype='step', stacked=True, fill=False, label='vel_z')\n",
    "# ax.set_yscale('log')\n",
    "# ax.plot(X, hist_dist.cdf(X), label='CDF')\n",
    "ax.legend()"
   ]
  },
  {
   "cell_type": "code",
   "execution_count": null,
   "metadata": {},
   "outputs": [],
   "source": [
    "for i in range(3):\n",
    "    edge_depo = np.concatenate((edge_depo, edge_depo), axis=0)\n",
    "\n",
    "print(edge_depo.shape)"
   ]
  },
  {
   "cell_type": "code",
   "execution_count": null,
   "metadata": {},
   "outputs": [],
   "source": [
    "logname = 'TS300'\n",
    "test = depoSimulator_symmetry.depo(param = [1.6, -0.7], TS = 0.3, N = edge_depo.shape[0], sub_xy=[0,0], film=film, n=1, cellSize=[88, 88, 120], celllength=1, kdtreeN=5, tstep=1e-4, logname=logname)\n",
    "deposit = test.run_afterCollision(1, 125, edge_depo[:, 3:], 0.5)"
   ]
  },
  {
   "cell_type": "code",
   "execution_count": null,
   "metadata": {},
   "outputs": [],
   "source": [
    "np.save('./TScompare/TS300_afterCollision_0530_v2_run1_t1e-5_p4e6_edge', deposit)"
   ]
  },
  {
   "cell_type": "code",
   "execution_count": null,
   "metadata": {},
   "outputs": [],
   "source": [
    "depo1 = torch.Tensor(deposit[20:46, 20:68, :]==20).to_sparse()\n",
    "depo1 = depo1.indices().numpy().T\n",
    "\n",
    "# depo2 = torch.Tensor(deposit[:100, :, :]==40).to_sparse()\n",
    "# depo2 = depo2.indices().numpy().T\n",
    "\n",
    "# depo3 = torch.Tensor(np.logical_or( deposit[:100, :, :]==60, deposit[:100, :, :]==80)).to_sparse()\n",
    "# depo3 = depo3.indices().numpy().T\n",
    "\n",
    "substrute = torch.Tensor(deposit[20:46, 20:68, :]==10).to_sparse()\n",
    "substrute = substrute.indices().numpy().T\n",
    "# point_cloud = pv.PolyData(points)\n",
    "# point_cloud.plot(eye_dome_lighting=True)\n",
    "\n",
    "p = pv.Plotter() \n",
    "p.add_mesh(depo1, color='red', point_size=10)\n",
    "# p.add_mesh(depo2, color='green', point_size=5)\n",
    "# p.add_mesh(depo3, color='yellow', point_size=5)\n",
    "p.add_mesh(substrute, color='lightblue', point_size=10)\n",
    "p.enable_eye_dome_lighting()\n",
    "p.show()"
   ]
  },
  {
   "cell_type": "code",
   "execution_count": null,
   "metadata": {},
   "outputs": [],
   "source": [
    "depo1 = torch.Tensor(deposit[20:68, 20:46, :]==20).to_sparse()\n",
    "depo1 = depo1.indices().numpy().T\n",
    "\n",
    "# depo2 = torch.Tensor(deposit[:100, :, :]==40).to_sparse()\n",
    "# depo2 = depo2.indices().numpy().T\n",
    "\n",
    "# depo3 = torch.Tensor(np.logical_or( deposit[:100, :, :]==60, deposit[:100, :, :]==80)).to_sparse()\n",
    "# depo3 = depo3.indices().numpy().T\n",
    "\n",
    "substrute = torch.Tensor(deposit[20:68, 20:48, :]==10).to_sparse()\n",
    "substrute = substrute.indices().numpy().T\n",
    "# point_cloud = pv.PolyData(points)\n",
    "# point_cloud.plot(eye_dome_lighting=True)\n",
    "\n",
    "p = pv.Plotter() \n",
    "p.add_mesh(depo1, color='red', point_size=10)\n",
    "# p.add_mesh(depo2, color='green', point_size=5)\n",
    "# p.add_mesh(depo3, color='yellow', point_size=5)\n",
    "p.add_mesh(substrute, color='lightblue', point_size=10)\n",
    "p.enable_eye_dome_lighting()\n",
    "p.camera_position = 'xz'\n",
    "p.camera.azimuth = 180\n",
    "p.show()"
   ]
  },
  {
   "cell_type": "code",
   "execution_count": null,
   "metadata": {},
   "outputs": [],
   "source": [
    "depo1 = torch.Tensor(deposit[:, :, :]==20).to_sparse()\n",
    "depo1 = depo1.indices().numpy().T\n",
    "\n",
    "# depo2 = torch.Tensor(deposit[:100, :, :]==40).to_sparse()\n",
    "# depo2 = depo2.indices().numpy().T\n",
    "\n",
    "# depo3 = torch.Tensor(np.logical_or( deposit[:100, :, :]==60, deposit[:100, :, :]==80)).to_sparse()\n",
    "# depo3 = depo3.indices().numpy().T\n",
    "\n",
    "substrute = torch.Tensor(deposit[:, :, :]==10).to_sparse()\n",
    "substrute = substrute.indices().numpy().T\n",
    "# point_cloud = pv.PolyData(points)\n",
    "# point_cloud.plot(eye_dome_lighting=True)\n",
    "\n",
    "p = pv.Plotter() \n",
    "p.add_mesh(depo1, color='red', point_size=10)\n",
    "# p.add_mesh(depo2, color='green', point_size=5)\n",
    "# p.add_mesh(depo3, color='yellow', point_size=5)\n",
    "p.add_mesh(substrute, color='lightblue', point_size=10)\n",
    "p.enable_eye_dome_lighting()\n",
    "p.show()"
   ]
  },
  {
   "cell_type": "code",
   "execution_count": null,
   "metadata": {},
   "outputs": [],
   "source": []
  }
 ],
 "metadata": {
  "kernelspec": {
   "display_name": "base",
   "language": "python",
   "name": "python3"
  },
  "language_info": {
   "codemirror_mode": {
    "name": "ipython",
    "version": 3
   },
   "file_extension": ".py",
   "mimetype": "text/x-python",
   "name": "python",
   "nbconvert_exporter": "python",
   "pygments_lexer": "ipython3",
   "version": "3.12.5"
  }
 },
 "nbformat": 4,
 "nbformat_minor": 2
}

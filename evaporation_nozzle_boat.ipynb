{
 "cells": [
  {
   "cell_type": "code",
   "execution_count": 1,
   "metadata": {},
   "outputs": [],
   "source": [
    "import numpy as np\n",
    "import matplotlib.pyplot as plt\n",
    "import pyvista as pv\n",
    "import CollisionModule"
   ]
  },
  {
   "cell_type": "code",
   "execution_count": 2,
   "metadata": {},
   "outputs": [],
   "source": [
    "import torch\n",
    "from scipy import interpolate"
   ]
  },
  {
   "cell_type": "code",
   "execution_count": 3,
   "metadata": {},
   "outputs": [],
   "source": [
    "DXsec_Al = np.load('./DXsec_Al_1e8.npy')"
   ]
  },
  {
   "cell_type": "code",
   "execution_count": 4,
   "metadata": {},
   "outputs": [],
   "source": [
    "import DSMC_depoSimulator_generateWithtime"
   ]
  },
  {
   "cell_type": "code",
   "execution_count": 3,
   "metadata": {},
   "outputs": [],
   "source": [
    "# cell model construct\n",
    "\n",
    "#              - end\n",
    "#            -\n",
    "#          -\n",
    "#        -\n",
    "#      -\n",
    "#    - start\n",
    "\n",
    "# direction x, y; start (x, y, z)\n",
    "def slide2D_fractionZ(film, start, end, direction, value):\n",
    "    if direction == 'y':\n",
    "        slit = np.linspace(0, np.abs(end[2] - start[2]), np.abs(end[1] - start[1]))\n",
    "        print('y', slit)\n",
    "        for i in range(np.abs(end[1] - start[1])):\n",
    "            if end[1] > start[1]:\n",
    "                film[start[0]:end[0], start[1] + i, start[2]:start[2] + int(slit[i])] = value\n",
    "                for j in range(np.abs(int(slit[0]-slit[1]))):\n",
    "                    film[start[0]:end[0], start[1] + i,start[2]+int(slit[i])+j] = 1/(value+1)*(slit[0]-slit[1]-j)\n",
    "            elif end[1] < start[1]:\n",
    "                film[start[0]:end[0], start[1] - i, start[2]:start[2] + int(slit[i])] = value\n",
    "                for j in range(np.abs(int(slit[0]-slit[1]))):\n",
    "                    film[start[0]:end[0], start[1] - i,start[2]+int(slit[i])+j] = 1/(value+1)*(slit[0]-slit[1]-j)\n",
    "    elif direction == 'x':\n",
    "        slit = np.linspace(0, np.abs(end[2] - start[2]), np.abs(end[0] - start[0]))\n",
    "        print('x',slit)\n",
    "        for i in range(np.abs(end[0] - start[0])):\n",
    "            print(i)\n",
    "            if end[0] > start[0]:\n",
    "                film[start[0] + i, start[1]:end[1], start[2]:start[2] + int(slit[i])] = value\n",
    "                for j in range(np.abs(int(slit[0]-slit[1]))):\n",
    "                    film[start[0] + i, start[1]:end[1], start[2]+int(slit[i])+j] = 1/(value+1)*(slit[0]-slit[1]-j)\n",
    "            elif end[0] < start[0]:\n",
    "                film[start[0] - i, start[1]:end[1], start[2]:start[2] + int(slit[i])] = value\n",
    "                for j in range(np.abs(int(slit[0]-slit[1]))):\n",
    "                    film[start[0] - i, start[1]:end[1], start[2]+int(slit[i])+j] = 1/(value+1)*(slit[0]-slit[1]-j)\n",
    "    return film"
   ]
  },
  {
   "cell_type": "code",
   "execution_count": null,
   "metadata": {},
   "outputs": [],
   "source": [
    "45.2/38"
   ]
  },
  {
   "cell_type": "code",
   "execution_count": null,
   "metadata": {},
   "outputs": [],
   "source": [
    "115/96"
   ]
  },
  {
   "cell_type": "code",
   "execution_count": null,
   "metadata": {},
   "outputs": [],
   "source": [
    "2.46/45.2"
   ]
  },
  {
   "cell_type": "code",
   "execution_count": null,
   "metadata": {},
   "outputs": [],
   "source": [
    "6/115"
   ]
  },
  {
   "cell_type": "code",
   "execution_count": null,
   "metadata": {},
   "outputs": [],
   "source": [
    "13.5/38"
   ]
  },
  {
   "cell_type": "code",
   "execution_count": null,
   "metadata": {},
   "outputs": [],
   "source": [
    "34/96"
   ]
  },
  {
   "cell_type": "code",
   "execution_count": null,
   "metadata": {},
   "outputs": [],
   "source": [
    "(45.2-25.3)/45.2"
   ]
  },
  {
   "cell_type": "code",
   "execution_count": null,
   "metadata": {},
   "outputs": [],
   "source": [
    "(115-65)/115"
   ]
  },
  {
   "cell_type": "code",
   "execution_count": null,
   "metadata": {},
   "outputs": [],
   "source": [
    "115-64"
   ]
  },
  {
   "cell_type": "code",
   "execution_count": null,
   "metadata": {},
   "outputs": [],
   "source": [
    "34/38"
   ]
  },
  {
   "cell_type": "code",
   "execution_count": null,
   "metadata": {},
   "outputs": [],
   "source": [
    "86/96"
   ]
  },
  {
   "cell_type": "code",
   "execution_count": null,
   "metadata": {},
   "outputs": [],
   "source": [
    "108/34"
   ]
  },
  {
   "cell_type": "code",
   "execution_count": null,
   "metadata": {},
   "outputs": [],
   "source": [
    "273/86"
   ]
  },
  {
   "cell_type": "code",
   "execution_count": null,
   "metadata": {},
   "outputs": [],
   "source": [
    "(108-60.7869)/108"
   ]
  },
  {
   "cell_type": "code",
   "execution_count": null,
   "metadata": {},
   "outputs": [],
   "source": [
    "(273-154)/273"
   ]
  },
  {
   "cell_type": "code",
   "execution_count": null,
   "metadata": {},
   "outputs": [],
   "source": [
    "(45.2-19.1)/45.2"
   ]
  },
  {
   "cell_type": "code",
   "execution_count": null,
   "metadata": {},
   "outputs": [],
   "source": [
    "(115-49)/115"
   ]
  },
  {
   "cell_type": "code",
   "execution_count": null,
   "metadata": {},
   "outputs": [],
   "source": [
    "115-49"
   ]
  },
  {
   "cell_type": "code",
   "execution_count": 4,
   "metadata": {},
   "outputs": [],
   "source": [
    "# cell model construct\n",
    "\n",
    "#              - end\n",
    "#            -\n",
    "#          -\n",
    "#        -\n",
    "#      -\n",
    "#    - start\n",
    "\n",
    "# direction x, y; start (x, y, z)\n",
    "def slide2D_fractionX(film, start, end, direction, fraction, value):\n",
    "    if fraction == '+':\n",
    "        if direction == 'y':\n",
    "            slit = np.linspace(0, np.abs(end[0] - start[0]), np.abs(end[1] - start[1]))\n",
    "            fraction = np.abs(int(slit[0]-slit[1]))\n",
    "            print('y', slit)\n",
    "            print('fraction', fraction)\n",
    "            for i in range(np.abs(end[1] - start[1])):\n",
    "                if end[1] > start[1]:\n",
    "                    film[start[0]:start[0] + int(slit[i]), start[1] + i, start[2]:end[2]] = value\n",
    "                    for j in range(fraction):\n",
    "                        film[start[0]+int(slit[i])+j, start[1] + i,start[2]:end[2]] = 1/(fraction+1)*(fraction-j)\n",
    "                elif end[1] < start[1]:\n",
    "                    film[start[0]:start[0] + int(slit[i]), start[1] - i, start[2]:end[2]] = value\n",
    "                    for j in range(fraction):\n",
    "                        film[start[0]+int(slit[i])+j, start[1] - i,start[2]:end[2]] = 1/(fraction+1)*(fraction-j)\n",
    "        elif direction == 'z':\n",
    "            slit = np.linspace(0, np.abs(end[0] - start[0]), np.abs(end[2] - start[2]))\n",
    "            fraction = np.abs(int(slit[0]-slit[1]))\n",
    "            print('z', slit)\n",
    "            print('fraction', fraction)\n",
    "            for i in range(np.abs(end[2] - start[2])):\n",
    "                if end[2] > start[2]:\n",
    "                    film[start[0]:start[0] + int(slit[i]), start[1]:end[1], start[2] + i] = value\n",
    "                    for j in range(fraction):\n",
    "                        film[start[0]+int(slit[i])+j, start[1]:end[1], start[2] + i] = 1/(fraction+1)*(fraction-j)\n",
    "                elif end[2] < start[2]:\n",
    "                    film[start[0]:start[0] + int(slit[i]), start[1]:end[1], start[2] - i] = value\n",
    "                    for j in range(fraction):\n",
    "                        film[start[0]+int(slit[i])+j, start[1]:end[1], start[2] - i] = 1/(fraction+1)*(fraction-j)\n",
    "    elif fraction == '-':\n",
    "        if direction == 'y':\n",
    "            slit = np.linspace(0, np.abs(end[0] - start[0]), np.abs(end[1] - start[1]))\n",
    "            fraction = np.abs(int(slit[0]-slit[1]))\n",
    "            print('y', slit)\n",
    "            print('fraction', fraction)\n",
    "            for i in range(np.abs(end[1] - start[1])):\n",
    "                if end[1] > start[1]:\n",
    "                    film[start[0] - int(slit[i]):start[0], start[1] + i, start[2]:end[2]] = value\n",
    "                    for j in range(fraction):\n",
    "                        film[start[0]-int(slit[i])-j, start[1] + i,start[2]:end[2]] = 1/(fraction+1)*(fraction-j)\n",
    "                elif end[1] < start[1]:\n",
    "                    film[start[0] - int(slit[i]):start[0], start[1] - i, start[2]:end[2]] = value\n",
    "                    for j in range(fraction):\n",
    "                        film[start[0]-int(slit[i])-j, start[1] - i,start[2]:end[2]] = 1/(fraction+1)*(fraction-j)\n",
    "        elif direction == 'z':\n",
    "            slit = np.linspace(0, np.abs(end[0] - start[0]), np.abs(end[2] - start[2]))\n",
    "            fraction = np.abs(int(slit[0]-slit[1]))\n",
    "            print('z', slit)\n",
    "            print('fraction', fraction)\n",
    "            for i in range(np.abs(end[2] - start[2])):\n",
    "                if end[2] > start[2]:\n",
    "                    film[start[0] - int(slit[-i]):start[0], start[1]:end[1], start[2] + i] = value\n",
    "                    for j in range(fraction):\n",
    "                        film[start[0]-int(slit[-i])-j, start[1]:end[1], start[2] + i] = 1/(fraction+1)*(fraction-j)\n",
    "                elif end[2] < start[2]:\n",
    "                    film[start[0] - int(slit[-i]):start[0], start[1]:end[1], start[2] - i] = value\n",
    "                    for j in range(fraction):\n",
    "                        film[start[0]-int(slit[-i])-j, start[1]:end[1], start[2] - i] = 1/(fraction+1)*(fraction-j)\n",
    "    return film"
   ]
  },
  {
   "cell_type": "code",
   "execution_count": 5,
   "metadata": {},
   "outputs": [],
   "source": [
    "def slide2D_fractionZ(film, start, end, direction, fraction, value):\n",
    "    if fraction == '+':\n",
    "        if direction == 'y':\n",
    "            slit = np.linspace(0, np.abs(end[2] - start[2]), np.abs(end[1] - start[1]))\n",
    "            fraction = np.abs(int(slit[0]-slit[1]))\n",
    "            print('y', slit)\n",
    "            print('fraction', fraction)\n",
    "            for i in range(np.abs(end[1] - start[1])):\n",
    "                if end[1] > start[1]:\n",
    "                    film[start[0]:end[0], start[1] + i, start[2]:start[2] + int(slit[i])] = value\n",
    "                    for j in range(fraction):\n",
    "                        film[start[0]:end[0], start[1] + i,start[2]+int(slit[i])+j] = 1/(fraction+1)*(fraction-j)\n",
    "                elif end[1] < start[1]:\n",
    "                    film[start[0]:end[0], start[1] - i, start[2]:start[2] + int(slit[i])] = value\n",
    "                    for j in range(fraction):\n",
    "                        film[start[0]:end[0], start[1] - i,start[2]+int(slit[i])+j] = 1/(fraction+1)*(fraction-j)\n",
    "        elif direction == 'x':\n",
    "            slit = np.linspace(0, np.abs(end[2] - start[2]), np.abs(end[0] - start[0]))\n",
    "            fraction = np.abs(int(slit[0]-slit[1]))\n",
    "            print('x', slit)\n",
    "            print('fraction', fraction)\n",
    "            for i in range(np.abs(end[2] - start[2])):\n",
    "                if end[0] > start[0]:\n",
    "                    film[start[0] + i, start[1]:end[1], start[2]:start[2] + int(slit[i])] = value\n",
    "                    for j in range(fraction):\n",
    "                        film[start[0] + i, start[1]:end[1], start[2]+int(slit[i])+j] = 1/(fraction+1)*(fraction-j)\n",
    "                elif end[0] < start[0]:\n",
    "                    film[start[0] - i, start[1]:end[1], start[2]:start[2] + int(slit[i])] = value\n",
    "                    for j in range(fraction):\n",
    "                        film[start[0] - i, start[1]:end[1], start[2]+int(slit[i])+j] = 1/(fraction+1)*(fraction-j)\n",
    "    elif fraction == '-':\n",
    "        if direction == 'y':\n",
    "            slit = np.linspace(0, np.abs(end[2] - start[2]), np.abs(end[1] - start[1]))\n",
    "            fraction = np.abs(int(slit[0]-slit[1]))\n",
    "            print('y', slit)\n",
    "            print('fraction', fraction)\n",
    "            for i in range(np.abs(end[1] - start[1])):\n",
    "                if end[1] > start[1]:\n",
    "                    film[start[0]:end[0], start[1] + i, start[2] - int(slit[i]):start[2]] = value\n",
    "                    for j in range(fraction):\n",
    "                        film[start[0]:end[0], start[1] + i,start[2]-int(slit[i])-j] = 1/(fraction+1)*(fraction-j)\n",
    "                elif end[1] < start[1]:\n",
    "                    film[start[0]:end[0], start[1] - i, start[2] - int(slit[i]):start[2]] = value\n",
    "                    for j in range(fraction):\n",
    "                        film[start[0]:end[0], start[1] - i,start[2]-int(slit[i])-j] = 1/(fraction+1)*(fraction-j)\n",
    "        elif direction == 'x':\n",
    "            slit = np.linspace(0, np.abs(end[2] - start[2]), np.abs(end[0] - start[0]))\n",
    "            fraction = np.abs(int(slit[0]-slit[1]))\n",
    "            print('x', slit)\n",
    "            print('fraction', fraction)\n",
    "            for i in range(np.abs(end[2] - start[2])):\n",
    "                if end[0] > start[0]:\n",
    "                    film[start[0] + i, start[1]:end[1], start[2] - int(slit[i]):start[2]] = value\n",
    "                    for j in range(fraction):\n",
    "                        film[start[0] + i, start[1]:end[1], start[2] - int(slit[i]):start[2]] = 1/(fraction+1)*(fraction-j)\n",
    "                elif end[0] < start[0]:\n",
    "                    film[start[0] - i, start[1]:end[1], start[2] - int(slit[i]):start[2]] = value\n",
    "                    for j in range(fraction):\n",
    "                        film[start[0] - i, start[1]:end[1], start[2] - int(slit[i]):start[2]] = 1/(fraction+1)*(fraction-j)\n",
    "    return film"
   ]
  },
  {
   "cell_type": "code",
   "execution_count": 6,
   "metadata": {},
   "outputs": [],
   "source": [
    "def slide3D_fractionZ(film, start, end, direction, fraction, value):\n",
    "    if fraction == '+':\n",
    "        if direction == 'y':\n",
    "            slit = np.linspace(0, np.abs(end[2] - start[2]), np.abs(end[1] - start[1]))\n",
    "            fraction = np.abs(int(slit[0]-slit[1]))\n",
    "            # print('y', slit)\n",
    "            # print('fraction', fraction)\n",
    "            for i in range(np.abs(end[1] - start[1])):\n",
    "                if end[1] > start[1]:\n",
    "                    film[start[0], start[1] + i, start[2]:start[2] + int(slit[i])] = value\n",
    "                    for j in range(fraction):\n",
    "                        film[start[0], start[1] + i,start[2]+int(slit[i])+j] = 1/(fraction+1)*(fraction-j)\n",
    "                elif end[1] < start[1]:\n",
    "                    film[start[0], start[1] - i, start[2]:start[2] + int(slit[i])] = value\n",
    "                    for j in range(fraction):\n",
    "                        film[start[0], start[1] - i,start[2]+int(slit[i])+j] = 1/(fraction+1)*(fraction-j)\n",
    "        elif direction == 'x':\n",
    "            slit = np.linspace(0, np.abs(end[2] - start[2]), np.abs(end[0] - start[0]))\n",
    "            fraction = np.abs(int(slit[0]-slit[1]))\n",
    "            # print('x', slit)\n",
    "            # print('fraction', fraction)\n",
    "            for i in range(np.abs(end[2] - start[2])):\n",
    "                if end[0] > start[0]:\n",
    "                    film[start[0] + i, start[1]:end[1], start[2]:start[2] + int(slit[i])] = value\n",
    "                    for j in range(fraction):\n",
    "                        film[start[0] + i, start[1]:end[1], start[2]+int(slit[i])+j] = 1/(fraction+1)*(fraction-j)\n",
    "                elif end[0] < start[0]:\n",
    "                    film[start[0] - i, start[1]:end[1], start[2]:start[2] + int(slit[i])] = value\n",
    "                    for j in range(fraction):\n",
    "                        film[start[0] - i, start[1]:end[1], start[2]+int(slit[i])+j] = 1/(fraction+1)*(fraction-j)\n",
    "    elif fraction == '-':\n",
    "        if direction == 'y':\n",
    "            slit = np.linspace(0, np.abs(end[2] - start[2]), np.abs(end[1] - start[1]))\n",
    "            fraction = np.abs(int(slit[0]-slit[1]))\n",
    "            print('y', slit)\n",
    "            print('fraction', fraction)\n",
    "            for i in range(np.abs(end[1] - start[1])):\n",
    "                if end[1] > start[1]:\n",
    "                    film[start[0]:end[0], start[1] + i, start[2] - int(slit[i]):start[2]] = value\n",
    "                    for j in range(fraction):\n",
    "                        film[start[0]:end[0], start[1] + i,start[2]-int(slit[i])-j] = 1/(fraction+1)*(fraction-j)\n",
    "                elif end[1] < start[1]:\n",
    "                    film[start[0]:end[0], start[1] - i, start[2] - int(slit[i]):start[2]] = value\n",
    "                    for j in range(fraction):\n",
    "                        film[start[0]:end[0], start[1] - i,start[2]-int(slit[i])-j] = 1/(fraction+1)*(fraction-j)\n",
    "        elif direction == 'x':\n",
    "            slit = np.linspace(0, np.abs(end[2] - start[2]), np.abs(end[0] - start[0]))\n",
    "            fraction = np.abs(int(slit[0]-slit[1]))\n",
    "            print('x', slit)\n",
    "            print('fraction', fraction)\n",
    "            for i in range(np.abs(end[2] - start[2])):\n",
    "                if end[0] > start[0]:\n",
    "                    film[start[0] + i, start[1]:end[1], start[2] - int(slit[i]):start[2]] = value\n",
    "                    for j in range(fraction):\n",
    "                        film[start[0] + i, start[1]:end[1], start[2] - int(slit[i]):start[2]] = 1/(fraction+1)*(fraction-j)\n",
    "                elif end[0] < start[0]:\n",
    "                    film[start[0] - i, start[1]:end[1], start[2] - int(slit[i]):start[2]] = value\n",
    "                    for j in range(fraction):\n",
    "                        film[start[0] - i, start[1]:end[1], start[2] - int(slit[i]):start[2]] = 1/(fraction+1)*(fraction-j)\n",
    "    return film"
   ]
  },
  {
   "cell_type": "code",
   "execution_count": null,
   "metadata": {},
   "outputs": [],
   "source": [
    "film = np.zeros((277, 100, 120))\n",
    "\n",
    "bottom = 5\n",
    "film[:, :, 0:bottom] = 10 # bottom\n",
    "\n",
    "side_wall = 2\n",
    "film[:, :side_wall, :] = 10 # left\n",
    "film[:, -side_wall:, :] = 10 # right\n",
    "\n",
    "\n",
    "# #dfsdfsdfasdf\n",
    "# height = 80\n",
    "# left_side = 75\n",
    "# right_side = 75\n",
    "\n",
    "# film = slide2D_fractionZ(film=film, start=[2, 67, 5], end=[88, 98, 56], direction='y', value=10)\n",
    "# film = slide2D_fractionZ(film=film, start=[2, 32, 5], end=[88, 1, 56], direction='y', value=10)\n",
    "\n",
    "film = slide2D_fractionX(film=film, start=[275, 2, 4], end=[88, 98, 66], direction='z', fraction='-', value=10)"
   ]
  },
  {
   "cell_type": "code",
   "execution_count": null,
   "metadata": {},
   "outputs": [],
   "source": [
    "film = np.zeros((40, 20, 20))\n",
    "\n",
    "film = slide2D_fractionX(film=film, start=[0, 0, 10], end=[35, 20, 0], direction='z', fraction='+', value=10)"
   ]
  },
  {
   "cell_type": "code",
   "execution_count": null,
   "metadata": {},
   "outputs": [],
   "source": [
    "(38-13.5)/2"
   ]
  },
  {
   "cell_type": "code",
   "execution_count": null,
   "metadata": {},
   "outputs": [],
   "source": [
    "45.2-25.3"
   ]
  },
  {
   "cell_type": "code",
   "execution_count": null,
   "metadata": {},
   "outputs": [],
   "source": [
    "(45.2-25.3)/((38-13.5)/2)"
   ]
  },
  {
   "cell_type": "code",
   "execution_count": null,
   "metadata": {},
   "outputs": [],
   "source": [
    "film = np.zeros((20, 20, 40))\n",
    "\n",
    "paraStart = np.array([20, 10, 0])\n",
    "paraEnd = np.array([20, 10, 20])\n",
    "\n",
    "start = np.array([0, 15, 0])\n",
    "end = np.array([0, 0, 37])\n",
    "\n",
    "slitZ = np.linspace(end[2],  end[2] - paraEnd[2], paraEnd[0]-end[0])\n",
    "slitY = np.linspace(start[1],  start[1] - paraStart[1], paraStart[0]-start[0])\n",
    "\n",
    "print('slitZ',slitZ)\n",
    "print('slitY',slitY)\n",
    "\n",
    "for i in range(slitZ.shape[0]):\n",
    "    film = slide3D_fractionZ(film=film, start=np.array([i, int(slitY[i]), 0]), end=np.array([i, 0, int(slitZ[i])]), direction='y', fraction='+', value=10)\n",
    "# film = slide3D_fractionZ(film=film, start=[1, 10, 0], end=[20, 0, 35],paraStart=0, paraEnd=0, direction='y', fraction='+', value=10)\n",
    "# film = slide3D_fractionZ(film=film, start=[2, 9, 0], end=[20, 0, 33],paraStart=0, paraEnd=0, direction='y', fraction='+', value=10)\n",
    "# film = slide3D_fractionZ(film=film, start=[3, 8, 0], end=[20, 0, 31],paraStart=0, paraEnd=0, direction='y', fraction='+', value=10)\n",
    "# film = slide3D_fractionZ(film=film, start=[4, 7, 0], end=[20, 0, 29],paraStart=0, paraEnd=0, direction='y', fraction='+', value=10)\n",
    "# film = slide3D_fractionZ(film=film, start=[5, 6, 0], end=[20, 0, 27],paraStart=0, paraEnd=0, direction='y', fraction='+', value=10)\n",
    "# film = slide3D_fractionZ(film=film, start=[6, 5, 0], end=[20, 0, 25],paraStart=0, paraEnd=0, direction='y', fraction='+', value=10)"
   ]
  },
  {
   "cell_type": "code",
   "execution_count": null,
   "metadata": {},
   "outputs": [],
   "source": [
    "depo1 = torch.Tensor(np.logical_and(film[:, :, :] !=0, film[:, :, :] < 10)).to_sparse()\n",
    "depo1 = depo1.indices().numpy().T\n",
    "\n",
    "substrute = torch.Tensor(film[:, :, :]==10).to_sparse()\n",
    "substrute = substrute.indices().numpy().T\n",
    "depomesh = pv.PolyData(depo1)\n",
    "depomesh[\"radius\"] = np.ones(depo1.shape[0])*0.5\n",
    "geom = pv.Box()\n",
    "\n",
    "submesh = pv.PolyData(substrute)\n",
    "submesh[\"radius\"] = np.ones(substrute.shape[0])*0.5\n",
    "\n",
    "# Progress bar is a new feature on master branch\n",
    "depoglyphed = depomesh.glyph(scale=\"radius\", geom=geom) # progress_bar=True)\n",
    "subglyphed = submesh.glyph(scale=\"radius\", geom=geom) # progress_bar=True)\n",
    "\n",
    "p = pv.Plotter()\n",
    "p.add_mesh(depoglyphed, color='cyan')\n",
    "p.add_mesh(subglyphed, color='dimgray')\n",
    "p.enable_eye_dome_lighting()\n",
    "p.show_grid()\n",
    "p.show()"
   ]
  },
  {
   "cell_type": "code",
   "execution_count": null,
   "metadata": {},
   "outputs": [],
   "source": [
    "film[5, 2, :]"
   ]
  },
  {
   "cell_type": "code",
   "execution_count": null,
   "metadata": {},
   "outputs": [],
   "source": [
    "(19-8.1)/(108-60.7869)"
   ]
  },
  {
   "cell_type": "code",
   "execution_count": null,
   "metadata": {},
   "outputs": [],
   "source": [
    "(108-60.7869)/108"
   ]
  },
  {
   "cell_type": "code",
   "execution_count": null,
   "metadata": {},
   "outputs": [],
   "source": [
    "(273-153)/273"
   ]
  },
  {
   "cell_type": "code",
   "execution_count": null,
   "metadata": {},
   "outputs": [],
   "source": [
    "(48-20)/(273-153)"
   ]
  },
  {
   "cell_type": "code",
   "execution_count": null,
   "metadata": {},
   "outputs": [],
   "source": [
    "16.2/45.2"
   ]
  },
  {
   "cell_type": "code",
   "execution_count": null,
   "metadata": {},
   "outputs": [],
   "source": [
    "41/115"
   ]
  },
  {
   "cell_type": "code",
   "execution_count": null,
   "metadata": {},
   "outputs": [],
   "source": [
    "120-41"
   ]
  },
  {
   "cell_type": "code",
   "execution_count": null,
   "metadata": {},
   "outputs": [],
   "source": [
    "8.1/5.5"
   ]
  },
  {
   "cell_type": "code",
   "execution_count": null,
   "metadata": {},
   "outputs": [],
   "source": [
    "20/13"
   ]
  },
  {
   "cell_type": "code",
   "execution_count": null,
   "metadata": {},
   "outputs": [],
   "source": [
    "19.0657/45.2"
   ]
  },
  {
   "cell_type": "code",
   "execution_count": null,
   "metadata": {},
   "outputs": [],
   "source": [
    "(115-66)/115"
   ]
  },
  {
   "cell_type": "code",
   "execution_count": null,
   "metadata": {},
   "outputs": [],
   "source": [
    "(45.2-25.1117)/45.2"
   ]
  },
  {
   "cell_type": "code",
   "execution_count": null,
   "metadata": {},
   "outputs": [],
   "source": [
    "(115-64)/115"
   ]
  },
  {
   "cell_type": "code",
   "execution_count": null,
   "metadata": {},
   "outputs": [],
   "source": [
    "115-64"
   ]
  },
  {
   "cell_type": "code",
   "execution_count": null,
   "metadata": {},
   "outputs": [],
   "source": [
    "(19 - 6.3692)/19"
   ]
  },
  {
   "cell_type": "code",
   "execution_count": null,
   "metadata": {},
   "outputs": [],
   "source": [
    "(50 - 17)/50"
   ]
  },
  {
   "cell_type": "code",
   "execution_count": null,
   "metadata": {},
   "outputs": [],
   "source": [
    "50 - 17"
   ]
  },
  {
   "cell_type": "code",
   "execution_count": null,
   "metadata": {},
   "outputs": [],
   "source": [
    "(19 - 2.8934)/19"
   ]
  },
  {
   "cell_type": "code",
   "execution_count": null,
   "metadata": {},
   "outputs": [],
   "source": [
    "(50 - 8)/50"
   ]
  },
  {
   "cell_type": "code",
   "execution_count": null,
   "metadata": {},
   "outputs": [],
   "source": [
    "(108 - 17.0446)/108"
   ]
  },
  {
   "cell_type": "code",
   "execution_count": null,
   "metadata": {},
   "outputs": [],
   "source": [
    "(273 - 43)/273"
   ]
  },
  {
   "cell_type": "code",
   "execution_count": null,
   "metadata": {},
   "outputs": [],
   "source": [
    "275 - 43"
   ]
  },
  {
   "cell_type": "code",
   "execution_count": null,
   "metadata": {},
   "outputs": [],
   "source": [
    "50-33"
   ]
  },
  {
   "cell_type": "code",
   "execution_count": null,
   "metadata": {},
   "outputs": [],
   "source": [
    "(45.2 - 19.1)/45.2"
   ]
  },
  {
   "cell_type": "code",
   "execution_count": null,
   "metadata": {},
   "outputs": [],
   "source": [
    "(115 - 49)/115"
   ]
  },
  {
   "cell_type": "code",
   "execution_count": null,
   "metadata": {},
   "outputs": [],
   "source": [
    "115 - 49"
   ]
  },
  {
   "cell_type": "code",
   "execution_count": null,
   "metadata": {},
   "outputs": [],
   "source": [
    "(45.2 - 17.2)/45.2"
   ]
  },
  {
   "cell_type": "code",
   "execution_count": null,
   "metadata": {},
   "outputs": [],
   "source": [
    "(115 - 44)/115"
   ]
  },
  {
   "cell_type": "code",
   "execution_count": null,
   "metadata": {},
   "outputs": [],
   "source": [
    "115 - 44"
   ]
  },
  {
   "cell_type": "code",
   "execution_count": null,
   "metadata": {},
   "outputs": [],
   "source": [
    "(19-2.592)/19"
   ]
  },
  {
   "cell_type": "code",
   "execution_count": null,
   "metadata": {},
   "outputs": [],
   "source": [
    "(50 - 7)/50"
   ]
  },
  {
   "cell_type": "code",
   "execution_count": null,
   "metadata": {},
   "outputs": [],
   "source": [
    "(19-1.742)/19"
   ]
  },
  {
   "cell_type": "code",
   "execution_count": null,
   "metadata": {},
   "outputs": [],
   "source": [
    "(50 - 5)/50"
   ]
  },
  {
   "cell_type": "code",
   "execution_count": null,
   "metadata": {},
   "outputs": [],
   "source": [
    "film = np.zeros((277, 100, 120))\n",
    "\n",
    "bottom = 5\n",
    "film[:, :, 0:bottom] = 10 # bottom\n",
    "\n",
    "side_wall = 2\n",
    "film[:, :side_wall, :] = 10 # left\n",
    "film[:, -side_wall:, :] = 10 # right\n",
    "\n",
    "\n",
    "# #dfsdfsdfasdf\n",
    "# height = 80\n",
    "# left_side = 75\n",
    "# right_side = 75\n",
    "\n",
    "film = slide2D_fractionZ(film=film, start=[2, 67, 5], end=[88, 98, 56], direction='y', fraction='+', value=10)\n",
    "film = slide2D_fractionZ(film=film, start=[2, 32, 5], end=[88, 1, 56], direction='y', fraction='+', value=10)\n",
    "\n",
    "film = slide2D_fractionX(film=film, start=[275, 29, 0], end=[153, 1, 120], direction='y', fraction='-', value=10)\n",
    "film = slide2D_fractionX(film=film, start=[275, 70, 0], end=[153, 98, 120], direction='y', fraction='-', value=10)\n",
    "\n",
    "film = slide2D_fractionX(film=film, start=[275, 39, 0], end=[88, 1, 79], direction='y', fraction='-', value=10)\n",
    "film = slide2D_fractionX(film=film, start=[275, 60, 0], end=[88, 98, 79], direction='y', fraction='-', value=10)\n",
    "\n",
    "\n",
    "film = slide2D_fractionX(film=film, start=[275, 2, 4], end=[88, 98, 66], direction='z', fraction='-', value=10)\n",
    "\n",
    "#----------left-----------\n",
    "# -------- 3D slide------------\n",
    "paraStart = np.array([232, 42, 51])\n",
    "paraEnd = np.array([232, 17, 76])\n",
    "\n",
    "start = np.array([88, 32, 5])\n",
    "end = np.array([88, 1, 56])\n",
    "\n",
    "slideZend = np.linspace(end[2], paraEnd[2], paraEnd[0]-end[0])\n",
    "slideYstart = np.linspace(start[1], paraStart[1], paraStart[0]-start[0])\n",
    "\n",
    "slideZstart = np.linspace(start[2], paraStart[2], paraStart[0]-start[0])\n",
    "slideYend = np.linspace(end[1], paraEnd[1], paraEnd[0]-end[0])\n",
    "\n",
    "print('slideZend',slideZend)\n",
    "print('slideYstart',slideYstart)\n",
    "\n",
    "print('slideZstart',slideZstart)\n",
    "print('slideYend',slideYend)\n",
    "\n",
    "for i in range(slideZend.shape[0]):\n",
    "    film = slide3D_fractionZ(film=film, start=np.array([start[0]+i, int(slideYstart[i]), int(slideZstart[i])]), end=np.array([start[0]+i, int(slideYend[i]), int(slideZend[i])]), direction='y', fraction='+', value=10)\n",
    "\n",
    "# -------- 3D slide------------\n",
    "\n",
    "# -------- 3D slide------------\n",
    "paraStart = np.array([275, 44, 66])\n",
    "paraEnd = np.array([275, 35, 73])\n",
    "\n",
    "start = np.array([232, 42, 51])\n",
    "end = np.array([232, 17, 76])\n",
    "\n",
    "slideZend = np.linspace(end[2], paraEnd[2], paraEnd[0]-end[0])\n",
    "slideYstart = np.linspace(start[1], paraStart[1], paraStart[0]-start[0])\n",
    "\n",
    "slideZstart = np.linspace(start[2], paraStart[2], paraStart[0]-start[0])\n",
    "slideYend = np.linspace(end[1], paraEnd[1], paraEnd[0]-end[0])\n",
    "\n",
    "print('slideZend',slideZend)\n",
    "print('slideYstart',slideYstart)\n",
    "\n",
    "print('slideZstart',slideZstart)\n",
    "print('slideYend',slideYend)\n",
    "\n",
    "for i in range(slideZend.shape[0]):\n",
    "    film = slide3D_fractionZ(film=film, start=np.array([start[0]+i, int(slideYstart[i]), int(slideZstart[i])]), end=np.array([start[0]+i, int(slideYend[i]), int(slideZend[i])]), direction='y', fraction='+', value=10)\n",
    "\n",
    "# -------- 3D slide------------\n",
    "\n",
    "\n",
    "# --------right---------\n",
    "# -------- 3D slide------------\n",
    "paraStart = np.array([232, 58, 51])\n",
    "paraEnd = np.array([232, 82, 76])\n",
    "\n",
    "start = np.array([88, 67, 5])\n",
    "end = np.array([88, 98, 56])\n",
    "\n",
    "slideZend = np.linspace(end[2], paraEnd[2], paraEnd[0]-end[0])\n",
    "slideYstart = np.linspace(start[1], paraStart[1], paraStart[0]-start[0])\n",
    "\n",
    "slideZstart = np.linspace(start[2], paraStart[2], paraStart[0]-start[0])\n",
    "slideYend = np.linspace(end[1], paraEnd[1], paraEnd[0]-end[0])\n",
    "\n",
    "print('slideZend',slideZend)\n",
    "print('slideYstart',slideYstart)\n",
    "\n",
    "print('slideZstart',slideZstart)\n",
    "print('slideYend',slideYend)\n",
    "\n",
    "for i in range(slideZend.shape[0]):\n",
    "    film = slide3D_fractionZ(film=film, start=np.array([start[0]+i, int(slideYstart[i]), int(slideZstart[i])]), end=np.array([start[0]+i, int(slideYend[i]), int(slideZend[i])]), direction='y', fraction='+', value=10)\n",
    "\n",
    "# -------- 3D slide------------\n",
    "\n",
    "# -------- 3D slide------------\n",
    "paraStart = np.array([275, 56, 66])\n",
    "paraEnd = np.array([275, 65, 73])\n",
    "\n",
    "start = np.array([232, 58, 51])\n",
    "end = np.array([232, 82, 76])\n",
    "\n",
    "# paraStart = np.array([275, 44, 66])\n",
    "# paraEnd = np.array([275, 35, 73])\n",
    "\n",
    "# start = np.array([232, 42, 51])\n",
    "# end = np.array([232, 17, 76])\n",
    "\n",
    "slideZend = np.linspace(end[2], paraEnd[2], paraEnd[0]-end[0])\n",
    "slideYstart = np.linspace(start[1], paraStart[1], paraStart[0]-start[0])\n",
    "\n",
    "slideZstart = np.linspace(start[2], paraStart[2], paraStart[0]-start[0])\n",
    "slideYend = np.linspace(end[1], paraEnd[1], paraEnd[0]-end[0])\n",
    "\n",
    "print('slideZend',slideZend)\n",
    "print('slideYstart',slideYstart)\n",
    "\n",
    "print('slideZstart',slideZstart)\n",
    "print('slideYend',slideYend)\n",
    "\n",
    "for i in range(slideZend.shape[0]):\n",
    "    film = slide3D_fractionZ(film=film, start=np.array([start[0]+i, int(slideYstart[i]), int(slideZstart[i])]), end=np.array([start[0]+i, int(slideYend[i]), int(slideZend[i])]), direction='y', fraction='+', value=10)\n",
    "\n",
    "# -------- 3D slide------------\n",
    "\n",
    "\n",
    "\n",
    "film[:side_wall, :, :] = 10 # back\n",
    "film[-side_wall:, :, :] = 10 # front"
   ]
  },
  {
   "cell_type": "code",
   "execution_count": 14,
   "metadata": {},
   "outputs": [],
   "source": [
    "film = np.zeros((277, 100, 120))\n",
    "\n",
    "bottom = 5\n",
    "film[:, :, 0:bottom] = 10 # bottom\n",
    "\n",
    "side_wall = 2\n",
    "film[:, :side_wall, :] = 10 # left\n",
    "film[:, -side_wall:, :] = 10 # right\n",
    "film[:side_wall, :, :] = 10 # back\n",
    "film[-side_wall:, :, :] = 10 # front"
   ]
  },
  {
   "cell_type": "code",
   "execution_count": null,
   "metadata": {},
   "outputs": [],
   "source": [
    "depo1 = torch.Tensor(np.logical_and(film[:, :, :] !=0, film[:, :, :] < 10)).to_sparse()\n",
    "depo1 = depo1.indices().numpy().T\n",
    "\n",
    "substrute = torch.Tensor(film[:, :, :]==10).to_sparse()\n",
    "substrute = substrute.indices().numpy().T\n",
    "depomesh = pv.PolyData(depo1)\n",
    "depomesh[\"radius\"] = np.ones(depo1.shape[0])*0.5\n",
    "geom = pv.Box()\n",
    "\n",
    "submesh = pv.PolyData(substrute)\n",
    "submesh[\"radius\"] = np.ones(substrute.shape[0])*0.5\n",
    "\n",
    "# Progress bar is a new feature on master branch\n",
    "depoglyphed = depomesh.glyph(scale=\"radius\", geom=geom) # progress_bar=True)\n",
    "subglyphed = submesh.glyph(scale=\"radius\", geom=geom) # progress_bar=True)\n",
    "\n",
    "p = pv.Plotter()\n",
    "# p.add_mesh(depoglyphed, color='cyan')\n",
    "p.add_mesh(subglyphed, color='dimgray')\n",
    "p.enable_eye_dome_lighting()\n",
    "p.show_grid()\n",
    "p.show()"
   ]
  },
  {
   "cell_type": "code",
   "execution_count": null,
   "metadata": {},
   "outputs": [
    {
     "name": "stderr",
     "output_type": "stream",
     "text": [
      "Exception in callback _ProactorBasePipeTransport._call_connection_lost(None)\n",
      "handle: <Handle _ProactorBasePipeTransport._call_connection_lost(None)>\n",
      "Traceback (most recent call last):\n",
      "  File \"c:\\Users\\urcs049\\AppData\\Local\\anaconda3\\Lib\\asyncio\\events.py\", line 88, in _run\n",
      "    self._context.run(self._callback, *self._args)\n",
      "  File \"c:\\Users\\urcs049\\AppData\\Local\\anaconda3\\Lib\\asyncio\\proactor_events.py\", line 165, in _call_connection_lost\n",
      "    self._sock.shutdown(socket.SHUT_RDWR)\n",
      "ConnectionResetError: [WinError 10054] An existing connection was forcibly closed by the remote host\n"
     ]
    }
   ],
   "source": [
    "5440928/2957583"
   ]
  },
  {
   "cell_type": "code",
   "execution_count": 16,
   "metadata": {},
   "outputs": [],
   "source": [
    "np.save('ID445_boat_simple', film)"
   ]
  },
  {
   "cell_type": "code",
   "execution_count": null,
   "metadata": {},
   "outputs": [],
   "source": [
    "depo1 = torch.Tensor(np.logical_and(film[:, :, :] !=0, film[:, :, :] < 10)).to_sparse()\n",
    "depo1 = depo1.indices().numpy().T\n",
    "\n",
    "substrute = torch.Tensor(film[:, :, :]==10).to_sparse()\n",
    "substrute = substrute.indices().numpy().T\n",
    "depomesh = pv.PolyData(depo1)\n",
    "depomesh[\"radius\"] = np.ones(depo1.shape[0])*0.5\n",
    "geom = pv.Box()\n",
    "\n",
    "submesh = pv.PolyData(substrute)\n",
    "submesh[\"radius\"] = np.ones(substrute.shape[0])*0.5\n",
    "\n",
    "# Progress bar is a new feature on master branch\n",
    "depoglyphed = depomesh.glyph(scale=\"radius\", geom=geom) # progress_bar=True)\n",
    "subglyphed = submesh.glyph(scale=\"radius\", geom=geom) # progress_bar=True)\n",
    "\n",
    "p = pv.Plotter()\n",
    "p.add_mesh(depoglyphed, color='cyan')\n",
    "p.add_mesh(subglyphed, color='dimgray')\n",
    "p.enable_eye_dome_lighting()\n",
    "p.show_grid()\n",
    "p.show()"
   ]
  },
  {
   "cell_type": "code",
   "execution_count": null,
   "metadata": {},
   "outputs": [],
   "source": [
    "depo1 = torch.Tensor(np.logical_and(film[:, :50, :] !=0, film[:, :50, :] < 10)).to_sparse()\n",
    "depo1 = depo1.indices().numpy().T\n",
    "\n",
    "substrute = torch.Tensor(film[:, :50, :]==10).to_sparse()\n",
    "substrute = substrute.indices().numpy().T\n",
    "depomesh = pv.PolyData(depo1)\n",
    "depomesh[\"radius\"] = np.ones(depo1.shape[0])*0.5\n",
    "geom = pv.Box()\n",
    "\n",
    "submesh = pv.PolyData(substrute)\n",
    "submesh[\"radius\"] = np.ones(substrute.shape[0])*0.5\n",
    "\n",
    "# Progress bar is a new feature on master branch\n",
    "depoglyphed = depomesh.glyph(scale=\"radius\", geom=geom) # progress_bar=True)\n",
    "subglyphed = submesh.glyph(scale=\"radius\", geom=geom) # progress_bar=True)\n",
    "\n",
    "p = pv.Plotter()\n",
    "p.add_mesh(depoglyphed, color='cyan')\n",
    "p.add_mesh(subglyphed, color='dimgray')\n",
    "p.enable_eye_dome_lighting()\n",
    "p.show_grid()\n",
    "p.show()"
   ]
  },
  {
   "cell_type": "code",
   "execution_count": null,
   "metadata": {},
   "outputs": [],
   "source": [
    "2.462/45.2"
   ]
  },
  {
   "cell_type": "code",
   "execution_count": null,
   "metadata": {},
   "outputs": [],
   "source": [
    "6/115"
   ]
  },
  {
   "cell_type": "code",
   "execution_count": null,
   "metadata": {},
   "outputs": [],
   "source": [
    "17.0446/108"
   ]
  },
  {
   "cell_type": "code",
   "execution_count": null,
   "metadata": {},
   "outputs": [],
   "source": [
    "43/272"
   ]
  },
  {
   "cell_type": "code",
   "execution_count": null,
   "metadata": {},
   "outputs": [],
   "source": [
    "(27.9233+35.52)/2/108"
   ]
  },
  {
   "cell_type": "code",
   "execution_count": null,
   "metadata": {},
   "outputs": [],
   "source": [
    "80/272"
   ]
  },
  {
   "cell_type": "code",
   "execution_count": null,
   "metadata": {},
   "outputs": [],
   "source": [
    "(48.4007+57.9357)/2/108"
   ]
  },
  {
   "cell_type": "code",
   "execution_count": null,
   "metadata": {},
   "outputs": [],
   "source": [
    "134/272"
   ]
  },
  {
   "cell_type": "code",
   "execution_count": null,
   "metadata": {},
   "outputs": [],
   "source": [
    "(58.4706+67.0673)/2/108"
   ]
  },
  {
   "cell_type": "code",
   "execution_count": null,
   "metadata": {},
   "outputs": [],
   "source": [
    "158/272"
   ]
  },
  {
   "cell_type": "code",
   "execution_count": null,
   "metadata": {},
   "outputs": [],
   "source": [
    "(67.6362+78.5445)/2/108"
   ]
  },
  {
   "cell_type": "code",
   "execution_count": null,
   "metadata": {},
   "outputs": [],
   "source": [
    "184/272"
   ]
  },
  {
   "cell_type": "code",
   "execution_count": null,
   "metadata": {},
   "outputs": [],
   "source": [
    "(95.5445+78.5445)/2/108"
   ]
  },
  {
   "cell_type": "code",
   "execution_count": null,
   "metadata": {},
   "outputs": [],
   "source": [
    "219/272"
   ]
  },
  {
   "cell_type": "code",
   "execution_count": null,
   "metadata": {},
   "outputs": [],
   "source": [
    "(82.0445)/108"
   ]
  },
  {
   "cell_type": "code",
   "execution_count": null,
   "metadata": {},
   "outputs": [],
   "source": [
    "207/272"
   ]
  },
  {
   "cell_type": "code",
   "execution_count": null,
   "metadata": {},
   "outputs": [],
   "source": [
    "(95.5445 - 5) /108"
   ]
  },
  {
   "cell_type": "code",
   "execution_count": null,
   "metadata": {},
   "outputs": [],
   "source": [
    "228/272"
   ]
  },
  {
   "cell_type": "code",
   "execution_count": null,
   "metadata": {},
   "outputs": [],
   "source": [
    "9.5/38"
   ]
  },
  {
   "cell_type": "code",
   "execution_count": null,
   "metadata": {},
   "outputs": [],
   "source": [
    "25/100"
   ]
  },
  {
   "cell_type": "code",
   "execution_count": null,
   "metadata": {},
   "outputs": [],
   "source": [
    "0.25/3*2"
   ]
  },
  {
   "cell_type": "code",
   "execution_count": 636,
   "metadata": {},
   "outputs": [],
   "source": [
    "nozzle_1 = np.array([277-43-2, 50, 120-6])\n",
    "nozzle_2 = np.array([277-80-2, 50, 120-6])\n",
    "nozzle_3 = np.array([277-134-2, 50, 120-6])\n",
    "nozzle_4 = np.array([277-158-2, 50, 120-6])\n",
    "\n",
    "nozzle_5 = np.array([277-184-2, 50, 120-6])\n",
    "nozzle_8 = np.array([277-184-2, 50-17, 120-6])\n",
    "nozzle_11 = np.array([277-184-2, 50+17, 120-6])\n",
    "\n",
    "nozzle_6 = np.array([277-207-2, 50, 120-6])\n",
    "nozzle_9 = np.array([277-207-2, 50-17, 120-6])\n",
    "nozzle_12 = np.array([277-207-2, 50+17, 120-6])\n",
    "\n",
    "nozzle_7 = np.array([277-228-2, 50, 120-6])\n",
    "nozzle_10 = np.array([277-228-2, 50-17, 120-6])\n",
    "nozzle_13 = np.array([277-228-2, 50+17, 120-6])\n"
   ]
  },
  {
   "cell_type": "code",
   "execution_count": null,
   "metadata": {},
   "outputs": [],
   "source": [
    "depo1 = torch.Tensor(np.logical_and(film[:, :, :] !=0, film[:, :, :] < 10)).to_sparse()\n",
    "depo1 = depo1.indices().numpy().T\n",
    "\n",
    "substrute = torch.Tensor(film[:, :, :]==10).to_sparse()\n",
    "substrute = substrute.indices().numpy().T\n",
    "depomesh = pv.PolyData(depo1)\n",
    "depomesh[\"radius\"] = np.ones(depo1.shape[0])*0.5\n",
    "geom = pv.Box()\n",
    "\n",
    "submesh = pv.PolyData(substrute)\n",
    "submesh[\"radius\"] = np.ones(substrute.shape[0])*0.5\n",
    "\n",
    "# Progress bar is a new feature on master branch\n",
    "depoglyphed = depomesh.glyph(scale=\"radius\", geom=geom) # progress_bar=True)\n",
    "subglyphed = submesh.glyph(scale=\"radius\", geom=geom) # progress_bar=True)\n",
    "\n",
    "\n",
    "sphere1 = pv.Sphere(radius=4, center=nozzle_1)\n",
    "sphere2 = pv.Sphere(radius=4, center=nozzle_2)\n",
    "sphere3 = pv.Sphere(radius=4, center=nozzle_3)\n",
    "sphere4 = pv.Sphere(radius=4, center=nozzle_4)\n",
    "sphere5 = pv.Sphere(radius=4, center=nozzle_5)\n",
    "sphere6 = pv.Sphere(radius=4, center=nozzle_6)\n",
    "sphere7 = pv.Sphere(radius=4, center=nozzle_7)\n",
    "sphere8 = pv.Sphere(radius=4, center=nozzle_8)\n",
    "sphere9 = pv.Sphere(radius=4, center=nozzle_9)\n",
    "sphere10 = pv.Sphere(radius=4, center=nozzle_10)\n",
    "sphere11 = pv.Sphere(radius=4, center=nozzle_11)\n",
    "sphere12 = pv.Sphere(radius=4, center=nozzle_12)\n",
    "sphere13 = pv.Sphere(radius=4, center=nozzle_13)\n",
    "\n",
    "p = pv.Plotter()\n",
    "\n",
    "p.add_mesh(sphere1, show_edges=True, opacity=0.5, color=\"w\")\n",
    "p.add_mesh(sphere2, show_edges=True, opacity=0.5, color=\"w\")\n",
    "p.add_mesh(sphere3, show_edges=True, opacity=0.5, color=\"w\")\n",
    "p.add_mesh(sphere4, show_edges=True, opacity=0.5, color=\"w\")\n",
    "p.add_mesh(sphere5, show_edges=True, opacity=0.5, color=\"w\")\n",
    "p.add_mesh(sphere6, show_edges=True, opacity=0.5, color=\"w\")\n",
    "p.add_mesh(sphere7, show_edges=True, opacity=0.5, color=\"w\")\n",
    "p.add_mesh(sphere8, show_edges=True, opacity=0.5, color=\"w\")\n",
    "p.add_mesh(sphere9, show_edges=True, opacity=0.5, color=\"w\")\n",
    "p.add_mesh(sphere10, show_edges=True, opacity=0.5, color=\"w\")\n",
    "p.add_mesh(sphere11, show_edges=True, opacity=0.5, color=\"w\")\n",
    "p.add_mesh(sphere12, show_edges=True, opacity=0.5, color=\"w\")\n",
    "p.add_mesh(sphere13, show_edges=True, opacity=0.5, color=\"w\")\n",
    "\n",
    "p.add_mesh(depoglyphed, color='cyan')\n",
    "p.add_mesh(subglyphed, color='dimgray')\n",
    "p.enable_eye_dome_lighting()\n",
    "p.show_grid()\n",
    "p.show()"
   ]
  },
  {
   "cell_type": "code",
   "execution_count": 638,
   "metadata": {},
   "outputs": [],
   "source": [
    "np.save('ID445_boat', film)"
   ]
  },
  {
   "cell_type": "code",
   "execution_count": null,
   "metadata": {},
   "outputs": [],
   "source": []
  },
  {
   "cell_type": "code",
   "execution_count": null,
   "metadata": {},
   "outputs": [],
   "source": []
  },
  {
   "cell_type": "code",
   "execution_count": null,
   "metadata": {},
   "outputs": [],
   "source": [
    "import DSMC_depoSimulator_generateWithtime_nozzle"
   ]
  },
  {
   "cell_type": "code",
   "execution_count": null,
   "metadata": {},
   "outputs": [],
   "source": [
    "logname = 'DSMCTS60_trenchDepo_0827'\n",
    "test = DSMC_depoSimulator_generateWithtime_nozzle.depo(mirror=True,collision=False,velNormalize=True,pressure_pa=0.2, temperature=300, chamberSize=film.shape, DXsec=DXsec_Al,\n",
    "                               param = [1.6, -0.7], TS = 0.3, N = int(1e6), \n",
    "                               sub_xy=[0,0], film=film, n=1, cellSize=film.shape, \n",
    "                               celllength=1e-5, kdtreeN=5, tstep=1e-5, thickness=110,substrateTop=80,posGeneratorType='gen1', logname=logname)\n",
    "\n",
    "deposit = test.depo_position_increase_cosVel(125,  int(1e6), 2e-2, 0.3, 5)"
   ]
  },
  {
   "cell_type": "code",
   "execution_count": 68,
   "metadata": {},
   "outputs": [],
   "source": [
    "np.save('cvd_void_subDepo_thk110', deposit[0])"
   ]
  }
 ],
 "metadata": {
  "kernelspec": {
   "display_name": "base",
   "language": "python",
   "name": "python3"
  },
  "language_info": {
   "codemirror_mode": {
    "name": "ipython",
    "version": 3
   },
   "file_extension": ".py",
   "mimetype": "text/x-python",
   "name": "python",
   "nbconvert_exporter": "python",
   "pygments_lexer": "ipython3",
   "version": "3.12.5"
  }
 },
 "nbformat": 4,
 "nbformat_minor": 2
}

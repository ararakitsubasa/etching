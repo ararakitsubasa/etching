{
 "cells": [
  {
   "cell_type": "code",
   "execution_count": 1,
   "metadata": {},
   "outputs": [],
   "source": [
    "import numpy as np\n",
    "import matplotlib.pyplot as plt\n",
    "import pyvista as pv\n",
    "import CollisionModule"
   ]
  },
  {
   "cell_type": "code",
   "execution_count": 2,
   "metadata": {},
   "outputs": [],
   "source": [
    "import torch\n",
    "from scipy import interpolate"
   ]
  },
  {
   "cell_type": "code",
   "execution_count": 3,
   "metadata": {},
   "outputs": [],
   "source": [
    "DXsec_Al = np.load('./DXsec_Al_1e8.npy')"
   ]
  },
  {
   "cell_type": "code",
   "execution_count": 4,
   "metadata": {},
   "outputs": [],
   "source": [
    "import DSMC_depoSimulator_generateWithtime"
   ]
  },
  {
   "cell_type": "code",
   "execution_count": 143,
   "metadata": {},
   "outputs": [],
   "source": [
    "# cell model construct\n",
    "\n",
    "#              - end\n",
    "#            -\n",
    "#          -\n",
    "#        -\n",
    "#      -\n",
    "#    - start\n",
    "\n",
    "# direction x, y; start (x, y, z)\n",
    "def slide2D_fractionZ(film, start, end, direction, value):\n",
    "    if direction == 'y':\n",
    "        slit = np.linspace(0, np.abs(end[2] - start[2]), np.abs(end[1] - start[1]))\n",
    "        print('y', slit)\n",
    "        for i in range(np.abs(end[1] - start[1])):\n",
    "            if end[1] > start[1]:\n",
    "                film[start[0]:end[0], start[1] + i, start[2]:start[2] + int(slit[i])] = value\n",
    "                for j in range(np.abs(int(slit[0]-slit[1]))):\n",
    "                    film[start[0]:end[0], start[1] + i,start[2]+int(slit[i])+j] = 1/(value+1)*(slit[0]-slit[1]-j)\n",
    "            elif end[1] < start[1]:\n",
    "                film[start[0]:end[0], start[1] - i, start[2]:start[2] + int(slit[i])] = value\n",
    "                for j in range(np.abs(int(slit[0]-slit[1]))):\n",
    "                    film[start[0]:end[0], start[1] - i,start[2]+int(slit[i])+j] = 1/(value+1)*(slit[0]-slit[1]-j)\n",
    "    elif direction == 'x':\n",
    "        slit = np.linspace(0, np.abs(end[2] - start[2]), np.abs(end[0] - start[0]))\n",
    "        print('x',slit)\n",
    "        for i in range(np.abs(end[0] - start[0])):\n",
    "            print(i)\n",
    "            if end[0] > start[0]:\n",
    "                film[start[0] + i, start[1]:end[1], start[2]:start[2] + int(slit[i])] = value\n",
    "                for j in range(np.abs(int(slit[0]-slit[1]))):\n",
    "                    film[start[0] + i, start[1]:end[1], start[2]+int(slit[i])+j] = 1/(value+1)*(slit[0]-slit[1]-j)\n",
    "            elif end[0] < start[0]:\n",
    "                film[start[0] - i, start[1]:end[1], start[2]:start[2] + int(slit[i])] = value\n",
    "                for j in range(np.abs(int(slit[0]-slit[1]))):\n",
    "                    film[start[0] - i, start[1]:end[1], start[2]+int(slit[i])+j] = 1/(value+1)*(slit[0]-slit[1]-j)\n",
    "    return film"
   ]
  },
  {
   "cell_type": "code",
   "execution_count": 52,
   "metadata": {},
   "outputs": [
    {
     "data": {
      "text/plain": [
       "1.1894736842105265"
      ]
     },
     "execution_count": 52,
     "metadata": {},
     "output_type": "execute_result"
    }
   ],
   "source": [
    "45.2/38"
   ]
  },
  {
   "cell_type": "code",
   "execution_count": 75,
   "metadata": {},
   "outputs": [
    {
     "data": {
      "text/plain": [
       "1.1979166666666667"
      ]
     },
     "execution_count": 75,
     "metadata": {},
     "output_type": "execute_result"
    }
   ],
   "source": [
    "115/96"
   ]
  },
  {
   "cell_type": "code",
   "execution_count": 66,
   "metadata": {},
   "outputs": [
    {
     "data": {
      "text/plain": [
       "0.05442477876106194"
      ]
     },
     "execution_count": 66,
     "metadata": {},
     "output_type": "execute_result"
    }
   ],
   "source": [
    "2.46/45.2"
   ]
  },
  {
   "cell_type": "code",
   "execution_count": 68,
   "metadata": {},
   "outputs": [
    {
     "data": {
      "text/plain": [
       "0.05217391304347826"
      ]
     },
     "execution_count": 68,
     "metadata": {},
     "output_type": "execute_result"
    }
   ],
   "source": [
    "6/115"
   ]
  },
  {
   "cell_type": "code",
   "execution_count": 78,
   "metadata": {},
   "outputs": [
    {
     "data": {
      "text/plain": [
       "0.35526315789473684"
      ]
     },
     "execution_count": 78,
     "metadata": {},
     "output_type": "execute_result"
    }
   ],
   "source": [
    "13.5/38"
   ]
  },
  {
   "cell_type": "code",
   "execution_count": 79,
   "metadata": {},
   "outputs": [
    {
     "data": {
      "text/plain": [
       "0.3541666666666667"
      ]
     },
     "execution_count": 79,
     "metadata": {},
     "output_type": "execute_result"
    }
   ],
   "source": [
    "34/96"
   ]
  },
  {
   "cell_type": "code",
   "execution_count": 82,
   "metadata": {},
   "outputs": [
    {
     "data": {
      "text/plain": [
       "0.44026548672566373"
      ]
     },
     "execution_count": 82,
     "metadata": {},
     "output_type": "execute_result"
    }
   ],
   "source": [
    "(45.2-25.3)/45.2"
   ]
  },
  {
   "cell_type": "code",
   "execution_count": 91,
   "metadata": {},
   "outputs": [
    {
     "data": {
      "text/plain": [
       "0.43478260869565216"
      ]
     },
     "execution_count": 91,
     "metadata": {},
     "output_type": "execute_result"
    }
   ],
   "source": [
    "(115-65)/115"
   ]
  },
  {
   "cell_type": "code",
   "execution_count": 90,
   "metadata": {},
   "outputs": [
    {
     "data": {
      "text/plain": [
       "51"
      ]
     },
     "execution_count": 90,
     "metadata": {},
     "output_type": "execute_result"
    }
   ],
   "source": [
    "115-64"
   ]
  },
  {
   "cell_type": "code",
   "execution_count": 94,
   "metadata": {},
   "outputs": [
    {
     "data": {
      "text/plain": [
       "0.8947368421052632"
      ]
     },
     "execution_count": 94,
     "metadata": {},
     "output_type": "execute_result"
    }
   ],
   "source": [
    "34/38"
   ]
  },
  {
   "cell_type": "code",
   "execution_count": 97,
   "metadata": {},
   "outputs": [
    {
     "data": {
      "text/plain": [
       "0.8958333333333334"
      ]
     },
     "execution_count": 97,
     "metadata": {},
     "output_type": "execute_result"
    }
   ],
   "source": [
    "86/96"
   ]
  },
  {
   "cell_type": "code",
   "execution_count": 100,
   "metadata": {},
   "outputs": [
    {
     "data": {
      "text/plain": [
       "3.176470588235294"
      ]
     },
     "execution_count": 100,
     "metadata": {},
     "output_type": "execute_result"
    }
   ],
   "source": [
    "108/34"
   ]
  },
  {
   "cell_type": "code",
   "execution_count": 107,
   "metadata": {},
   "outputs": [
    {
     "data": {
      "text/plain": [
       "3.1744186046511627"
      ]
     },
     "execution_count": 107,
     "metadata": {},
     "output_type": "execute_result"
    }
   ],
   "source": [
    "273/86"
   ]
  },
  {
   "cell_type": "code",
   "execution_count": 111,
   "metadata": {},
   "outputs": [
    {
     "data": {
      "text/plain": [
       "0.4371583333333333"
      ]
     },
     "execution_count": 111,
     "metadata": {},
     "output_type": "execute_result"
    }
   ],
   "source": [
    "(108-60.7869)/108"
   ]
  },
  {
   "cell_type": "code",
   "execution_count": 120,
   "metadata": {},
   "outputs": [
    {
     "data": {
      "text/plain": [
       "0.4358974358974359"
      ]
     },
     "execution_count": 120,
     "metadata": {},
     "output_type": "execute_result"
    }
   ],
   "source": [
    "(273-154)/273"
   ]
  },
  {
   "cell_type": "code",
   "execution_count": 122,
   "metadata": {},
   "outputs": [
    {
     "data": {
      "text/plain": [
       "0.577433628318584"
      ]
     },
     "execution_count": 122,
     "metadata": {},
     "output_type": "execute_result"
    }
   ],
   "source": [
    "(45.2-19.1)/45.2"
   ]
  },
  {
   "cell_type": "code",
   "execution_count": 128,
   "metadata": {},
   "outputs": [
    {
     "data": {
      "text/plain": [
       "0.5739130434782609"
      ]
     },
     "execution_count": 128,
     "metadata": {},
     "output_type": "execute_result"
    }
   ],
   "source": [
    "(115-49)/115"
   ]
  },
  {
   "cell_type": "code",
   "execution_count": 129,
   "metadata": {},
   "outputs": [
    {
     "data": {
      "text/plain": [
       "66"
      ]
     },
     "execution_count": 129,
     "metadata": {},
     "output_type": "execute_result"
    }
   ],
   "source": [
    "115-49"
   ]
  },
  {
   "cell_type": "code",
   "execution_count": 251,
   "metadata": {},
   "outputs": [],
   "source": [
    "# cell model construct\n",
    "\n",
    "#              - end\n",
    "#            -\n",
    "#          -\n",
    "#        -\n",
    "#      -\n",
    "#    - start\n",
    "\n",
    "# direction x, y; start (x, y, z)\n",
    "def slide2D_fractionX(film, start, end, direction, fraction, value):\n",
    "    if fraction == '+':\n",
    "        if direction == 'y':\n",
    "            slit = np.linspace(0, np.abs(end[0] - start[0]), np.abs(end[1] - start[1]))\n",
    "            fraction = np.abs(int(slit[0]-slit[1]))\n",
    "            print('y', slit)\n",
    "            print('fraction', fraction)\n",
    "            for i in range(np.abs(end[1] - start[1])):\n",
    "                if end[1] > start[1]:\n",
    "                    film[start[0]:start[0] + int(slit[i]), start[1] + i, start[2]:end[2]] = value\n",
    "                    for j in range(fraction):\n",
    "                        film[start[0]+int(slit[i])+j, start[1] + i,start[2]:end[2]] = 1/(fraction+1)*(fraction-j)\n",
    "                elif end[1] < start[1]:\n",
    "                    film[start[0]:start[0] + int(slit[i]), start[1] - i, start[2]:end[2]] = value\n",
    "                    for j in range(fraction):\n",
    "                        film[start[0]+int(slit[i])+j, start[1] - i,start[2]:end[2]] = 1/(fraction+1)*(fraction-j)\n",
    "        elif direction == 'z':\n",
    "            slit = np.linspace(0, np.abs(end[0] - start[0]), np.abs(end[2] - start[2]))\n",
    "            fraction = np.abs(int(slit[0]-slit[1]))\n",
    "            print('z', slit)\n",
    "            print('fraction', fraction)\n",
    "            for i in range(np.abs(end[2] - start[2])):\n",
    "                if end[2] > start[2]:\n",
    "                    film[start[0]:start[0] + int(slit[i]), start[1]:end[1], start[2] + i] = value\n",
    "                    for j in range(fraction):\n",
    "                        film[start[0]+int(slit[i])+j, start[1]:end[1], start[2] + i] = 1/(fraction+1)*(fraction-j)\n",
    "                elif end[2] < start[2]:\n",
    "                    film[start[0]:start[0] + int(slit[i]), start[1]:end[1], start[2] - i] = value\n",
    "                    for j in range(fraction):\n",
    "                        film[start[0]+int(slit[i])+j, start[1]:end[1], start[2] - i] = 1/(fraction+1)*(fraction-j)\n",
    "    elif fraction == '-':\n",
    "        if direction == 'y':\n",
    "            slit = np.linspace(0, np.abs(end[0] - start[0]), np.abs(end[1] - start[1]))\n",
    "            fraction = np.abs(int(slit[0]-slit[1]))\n",
    "            print('y', slit)\n",
    "            print('fraction', fraction)\n",
    "            for i in range(np.abs(end[1] - start[1])):\n",
    "                if end[1] > start[1]:\n",
    "                    film[start[0] - int(slit[i]):start[0], start[1] + i, start[2]:end[2]] = value\n",
    "                    for j in range(fraction):\n",
    "                        film[start[0]-int(slit[i])-j, start[1] + i,start[2]:end[2]] = 1/(fraction+1)*(fraction-j)\n",
    "                elif end[1] < start[1]:\n",
    "                    film[start[0] - int(slit[i]):start[0], start[1] - i, start[2]:end[2]] = value\n",
    "                    for j in range(fraction):\n",
    "                        film[start[0]-int(slit[i])-j, start[1] - i,start[2]:end[2]] = 1/(fraction+1)*(fraction-j)\n",
    "        elif direction == 'z':\n",
    "            slit = np.linspace(0, np.abs(end[0] - start[0]), np.abs(end[2] - start[2]))\n",
    "            fraction = np.abs(int(slit[0]-slit[1]))\n",
    "            print('z', slit)\n",
    "            print('fraction', fraction)\n",
    "            for i in range(np.abs(end[2] - start[2])):\n",
    "                if end[2] > start[2]:\n",
    "                    film[start[0] - int(slit[-i]):start[0], start[1]:end[1], start[2] + i] = value\n",
    "                    for j in range(fraction):\n",
    "                        film[start[0]-int(slit[-i])-j, start[1]:end[1], start[2] + i] = 1/(fraction+1)*(fraction-j)\n",
    "                elif end[2] < start[2]:\n",
    "                    film[start[0] - int(slit[-i]):start[0], start[1]:end[1], start[2] - i] = value\n",
    "                    for j in range(fraction):\n",
    "                        film[start[0]-int(slit[-i])-j, start[1]:end[1], start[2] - i] = 1/(fraction+1)*(fraction-j)\n",
    "    return film"
   ]
  },
  {
   "cell_type": "code",
   "execution_count": null,
   "metadata": {},
   "outputs": [],
   "source": [
    "# direction x, y; start (x, y, z)\n",
    "def slide2D_fractionZ(film, start, end, direction, value):\n",
    "    if direction == 'y':\n",
    "        slit = np.linspace(0, np.abs(end[2] - start[2]), np.abs(end[1] - start[1]))\n",
    "        print('y', slit)\n",
    "        for i in range(np.abs(end[1] - start[1])):\n",
    "            if end[1] > start[1]:\n",
    "                film[start[0]:end[0], start[1] + i, start[2]:start[2] + int(slit[i])] = value\n",
    "                for j in range(np.abs(int(slit[0]-slit[1]))):\n",
    "                    film[start[0]:end[0], start[1] + i,start[2]+int(slit[i])+j] = 1/(value+1)*(slit[0]-slit[1]-j)\n",
    "            elif end[1] < start[1]:\n",
    "                film[start[0]:end[0], start[1] - i, start[2]:start[2] + int(slit[i])] = value\n",
    "                for j in range(np.abs(int(slit[0]-slit[1]))):\n",
    "                    film[start[0]:end[0], start[1] - i,start[2]+int(slit[i])+j] = 1/(value+1)*(slit[0]-slit[1]-j)\n",
    "    elif direction == 'x':\n",
    "        slit = np.linspace(0, np.abs(end[2] - start[2]), np.abs(end[0] - start[0]))\n",
    "        print('x',slit)\n",
    "        for i in range(np.abs(end[0] - start[0])):\n",
    "            print(i)\n",
    "            if end[0] > start[0]:\n",
    "                film[start[0] + i, start[1]:end[1], start[2]:start[2] + int(slit[i])] = value\n",
    "                for j in range(np.abs(int(slit[0]-slit[1]))):\n",
    "                    film[start[0] + i, start[1]:end[1], start[2]+int(slit[i])+j] = 1/(value+1)*(slit[0]-slit[1]-j)\n",
    "            elif end[0] < start[0]:\n",
    "                film[start[0] - i, start[1]:end[1], start[2]:start[2] + int(slit[i])] = value\n",
    "                for j in range(np.abs(int(slit[0]-slit[1]))):\n",
    "                    film[start[0] - i, start[1]:end[1], start[2]+int(slit[i])+j] = 1/(value+1)*(slit[0]-slit[1]-j)\n",
    "    return film"
   ]
  },
  {
   "cell_type": "code",
   "execution_count": 255,
   "metadata": {},
   "outputs": [],
   "source": [
    "def slide2D_fractionZ(film, start, end, direction, fraction, value):\n",
    "    if fraction == '+':\n",
    "        if direction == 'y':\n",
    "            slit = np.linspace(0, np.abs(end[2] - start[2]), np.abs(end[1] - start[1]))\n",
    "            fraction = np.abs(int(slit[0]-slit[1]))\n",
    "            print('y', slit)\n",
    "            print('fraction', fraction)\n",
    "            for i in range(np.abs(end[1] - start[1])):\n",
    "                if end[1] > start[1]:\n",
    "                    film[start[0]:end[0], start[1] + i, start[2]:start[2] + int(slit[i])] = value\n",
    "                    for j in range(fraction):\n",
    "                        film[start[0]:end[0], start[1] + i,start[2]+int(slit[i])+j] = 1/(fraction+1)*(fraction-j)\n",
    "                elif end[1] < start[1]:\n",
    "                    film[start[0]:end[0], start[1] - i, start[2]:start[2] + int(slit[i])] = value\n",
    "                    for j in range(fraction):\n",
    "                        film[start[0]:end[0], start[1] - i,start[2]+int(slit[i])+j] = 1/(fraction+1)*(fraction-j)\n",
    "        elif direction == 'x':\n",
    "            slit = np.linspace(0, np.abs(end[2] - start[2]), np.abs(end[0] - start[0]))\n",
    "            fraction = np.abs(int(slit[0]-slit[1]))\n",
    "            print('x', slit)\n",
    "            print('fraction', fraction)\n",
    "            for i in range(np.abs(end[2] - start[2])):\n",
    "                if end[0] > start[0]:\n",
    "                    film[start[0] + i, start[1]:end[1], start[2]:start[2] + int(slit[i])] = value\n",
    "                    for j in range(fraction):\n",
    "                        film[start[0] + i, start[1]:end[1], start[2]+int(slit[i])+j] = 1/(fraction+1)*(fraction-j)\n",
    "                elif end[0] < start[0]:\n",
    "                    film[start[0] - i, start[1]:end[1], start[2]:start[2] + int(slit[i])] = value\n",
    "                    for j in range(fraction):\n",
    "                        film[start[0] - i, start[1]:end[1], start[2]+int(slit[i])+j] = 1/(fraction+1)*(fraction-j)\n",
    "    elif fraction == '-':\n",
    "        if direction == 'y':\n",
    "            slit = np.linspace(0, np.abs(end[2] - start[2]), np.abs(end[1] - start[1]))\n",
    "            fraction = np.abs(int(slit[0]-slit[1]))\n",
    "            print('y', slit)\n",
    "            print('fraction', fraction)\n",
    "            for i in range(np.abs(end[1] - start[1])):\n",
    "                if end[1] > start[1]:\n",
    "                    film[start[0]:end[0], start[1] + i, start[2] - int(slit[i]):start[2]] = value\n",
    "                    for j in range(fraction):\n",
    "                        film[start[0]:end[0], start[1] + i,start[2]-int(slit[i])-j] = 1/(fraction+1)*(fraction-j)\n",
    "                elif end[1] < start[1]:\n",
    "                    film[start[0]:end[0], start[1] - i, start[2] - int(slit[i]):start[2]] = value\n",
    "                    for j in range(fraction):\n",
    "                        film[start[0]:end[0], start[1] - i,start[2]-int(slit[i])-j] = 1/(fraction+1)*(fraction-j)\n",
    "        elif direction == 'x':\n",
    "            slit = np.linspace(0, np.abs(end[2] - start[2]), np.abs(end[0] - start[0]))\n",
    "            fraction = np.abs(int(slit[0]-slit[1]))\n",
    "            print('x', slit)\n",
    "            print('fraction', fraction)\n",
    "            for i in range(np.abs(end[2] - start[2])):\n",
    "                if end[0] > start[0]:\n",
    "                    film[start[0] + i, start[1]:end[1], start[2] - int(slit[i]):start[2]] = value\n",
    "                    for j in range(fraction):\n",
    "                        film[start[0] + i, start[1]:end[1], start[2] - int(slit[i]):start[2]] = 1/(fraction+1)*(fraction-j)\n",
    "                elif end[0] < start[0]:\n",
    "                    film[start[0] - i, start[1]:end[1], start[2] - int(slit[i]):start[2]] = value\n",
    "                    for j in range(fraction):\n",
    "                        film[start[0] - i, start[1]:end[1], start[2] - int(slit[i]):start[2]] = 1/(fraction+1)*(fraction-j)\n",
    "    return film"
   ]
  },
  {
   "cell_type": "code",
   "execution_count": 241,
   "metadata": {},
   "outputs": [
    {
     "name": "stdout",
     "output_type": "stream",
     "text": [
      "z [  0.           3.06557377   6.13114754   9.19672131  12.26229508\n",
      "  15.32786885  18.39344262  21.45901639  24.52459016  27.59016393\n",
      "  30.6557377   33.72131148  36.78688525  39.85245902  42.91803279\n",
      "  45.98360656  49.04918033  52.1147541   55.18032787  58.24590164\n",
      "  61.31147541  64.37704918  67.44262295  70.50819672  73.57377049\n",
      "  76.63934426  79.70491803  82.7704918   85.83606557  88.90163934\n",
      "  91.96721311  95.03278689  98.09836066 101.16393443 104.2295082\n",
      " 107.29508197 110.36065574 113.42622951 116.49180328 119.55737705\n",
      " 122.62295082 125.68852459 128.75409836 131.81967213 134.8852459\n",
      " 137.95081967 141.01639344 144.08196721 147.14754098 150.21311475\n",
      " 153.27868852 156.3442623  159.40983607 162.47540984 165.54098361\n",
      " 168.60655738 171.67213115 174.73770492 177.80327869 180.86885246\n",
      " 183.93442623 187.        ]\n"
     ]
    }
   ],
   "source": [
    "film = np.zeros((277, 100, 120))\n",
    "\n",
    "bottom = 5\n",
    "film[:, :, 0:bottom] = 10 # bottom\n",
    "\n",
    "side_wall = 2\n",
    "film[:, :side_wall, :] = 10 # left\n",
    "film[:, -side_wall:, :] = 10 # right\n",
    "\n",
    "\n",
    "# #dfsdfsdfasdf\n",
    "# height = 80\n",
    "# left_side = 75\n",
    "# right_side = 75\n",
    "\n",
    "# film = slide2D_fractionZ(film=film, start=[2, 67, 5], end=[88, 98, 56], direction='y', value=10)\n",
    "# film = slide2D_fractionZ(film=film, start=[2, 32, 5], end=[88, 1, 56], direction='y', value=10)\n",
    "\n",
    "film = slide2D_fractionX(film=film, start=[275, 2, 4], end=[88, 98, 66], direction='z', fraction='-', value=10)"
   ]
  },
  {
   "cell_type": "code",
   "execution_count": 252,
   "metadata": {},
   "outputs": [
    {
     "name": "stdout",
     "output_type": "stream",
     "text": [
      "z [ 0.          3.88888889  7.77777778 11.66666667 15.55555556 19.44444444\n",
      " 23.33333333 27.22222222 31.11111111 35.        ]\n",
      "fraction 3\n"
     ]
    }
   ],
   "source": [
    "film = np.zeros((40, 20, 20))\n",
    "\n",
    "film = slide2D_fractionX(film=film, start=[0, 0, 10], end=[35, 20, 0], direction='z', fraction='+', value=10)"
   ]
  },
  {
   "cell_type": "code",
   "execution_count": 275,
   "metadata": {},
   "outputs": [
    {
     "name": "stdout",
     "output_type": "stream",
     "text": [
      "y [ 0.          3.88888889  7.77777778 11.66666667 15.55555556 19.44444444\n",
      " 23.33333333 27.22222222 31.11111111 35.        ]\n",
      "fraction 3\n"
     ]
    }
   ],
   "source": [
    "film = np.zeros((20, 20, 40))\n",
    "\n",
    "film = slide2D_fractionZ(film=film, start=[0, 10, 35], end=[20, 0, 0], direction='y', fraction='-', value=10)"
   ]
  },
  {
   "cell_type": "code",
   "execution_count": 276,
   "metadata": {},
   "outputs": [
    {
     "name": "stderr",
     "output_type": "stream",
     "text": [
      "c:\\Users\\urcs049\\AppData\\Local\\anaconda3\\Lib\\site-packages\\pyvista\\core\\utilities\\points.py:55: UserWarning: Points is not a float type. This can cause issues when transforming or applying filters. Casting to ``np.float32``. Disable this by passing ``force_float=False``.\n",
      "  warnings.warn(\n",
      "c:\\Users\\urcs049\\AppData\\Local\\anaconda3\\Lib\\site-packages\\pyvista\\core\\filters\\data_set.py:2386: UserWarning: No vector-like data to use for orient. orient will be set to False.\n",
      "  warnings.warn(\"No vector-like data to use for orient. orient will be set to False.\")\n"
     ]
    },
    {
     "data": {
      "application/vnd.jupyter.widget-view+json": {
       "model_id": "3a7d9e97628246219dffabc321f448c2",
       "version_major": 2,
       "version_minor": 0
      },
      "text/plain": [
       "Widget(value='<iframe src=\"http://localhost:53499/index.html?ui=P_0x1cede38b4d0_72&reconnect=auto\" class=\"pyvi…"
      ]
     },
     "metadata": {},
     "output_type": "display_data"
    }
   ],
   "source": [
    "depo1 = torch.Tensor(np.logical_and(film[:, :, :] !=0, film[:, :, :] < 10)).to_sparse()\n",
    "depo1 = depo1.indices().numpy().T\n",
    "\n",
    "substrute = torch.Tensor(film[:, :, :]==10).to_sparse()\n",
    "substrute = substrute.indices().numpy().T\n",
    "depomesh = pv.PolyData(depo1)\n",
    "depomesh[\"radius\"] = np.ones(depo1.shape[0])*0.5\n",
    "geom = pv.Box()\n",
    "\n",
    "submesh = pv.PolyData(substrute)\n",
    "submesh[\"radius\"] = np.ones(substrute.shape[0])*0.5\n",
    "\n",
    "# Progress bar is a new feature on master branch\n",
    "depoglyphed = depomesh.glyph(scale=\"radius\", geom=geom) # progress_bar=True)\n",
    "subglyphed = submesh.glyph(scale=\"radius\", geom=geom) # progress_bar=True)\n",
    "\n",
    "p = pv.Plotter()\n",
    "p.add_mesh(depoglyphed, color='cyan')\n",
    "p.add_mesh(subglyphed, color='dimgray')\n",
    "p.enable_eye_dome_lighting()\n",
    "p.show_grid()\n",
    "p.show()"
   ]
  },
  {
   "cell_type": "code",
   "execution_count": 277,
   "metadata": {},
   "outputs": [
    {
     "data": {
      "text/plain": [
       "array([ 0.  ,  0.  ,  0.25,  0.5 ,  0.75, 10.  , 10.  , 10.  , 10.  ,\n",
       "       10.  , 10.  , 10.  , 10.  , 10.  , 10.  , 10.  , 10.  , 10.  ,\n",
       "       10.  , 10.  , 10.  , 10.  , 10.  , 10.  , 10.  , 10.  , 10.  ,\n",
       "       10.  , 10.  , 10.  , 10.  , 10.  , 10.  , 10.  , 10.  ,  0.  ,\n",
       "        0.  ,  0.  ,  0.  ,  0.  ])"
      ]
     },
     "execution_count": 277,
     "metadata": {},
     "output_type": "execute_result"
    }
   ],
   "source": [
    "film[5, 2, :]"
   ]
  },
  {
   "cell_type": "code",
   "execution_count": 184,
   "metadata": {},
   "outputs": [
    {
     "name": "stderr",
     "output_type": "stream",
     "text": [
      "c:\\Users\\urcs049\\AppData\\Local\\anaconda3\\Lib\\site-packages\\pyvista\\core\\utilities\\points.py:55: UserWarning: Points is not a float type. This can cause issues when transforming or applying filters. Casting to ``np.float32``. Disable this by passing ``force_float=False``.\n",
      "  warnings.warn(\n",
      "c:\\Users\\urcs049\\AppData\\Local\\anaconda3\\Lib\\site-packages\\pyvista\\core\\filters\\data_set.py:2386: UserWarning: No vector-like data to use for orient. orient will be set to False.\n",
      "  warnings.warn(\"No vector-like data to use for orient. orient will be set to False.\")\n"
     ]
    },
    {
     "data": {
      "application/vnd.jupyter.widget-view+json": {
       "model_id": "c6890b1c3300404db5131a2187c3e011",
       "version_major": 2,
       "version_minor": 0
      },
      "text/plain": [
       "Widget(value='<iframe src=\"http://localhost:53499/index.html?ui=P_0x1cc543abaa0_46&reconnect=auto\" class=\"pyvi…"
      ]
     },
     "metadata": {},
     "output_type": "display_data"
    }
   ],
   "source": [
    "depo1 = torch.Tensor(np.logical_and(film[:, :50, :] !=0, film[:, :50, :] < 10)).to_sparse()\n",
    "depo1 = depo1.indices().numpy().T\n",
    "\n",
    "substrute = torch.Tensor(film[:, :50, :]==10).to_sparse()\n",
    "substrute = substrute.indices().numpy().T\n",
    "depomesh = pv.PolyData(depo1)\n",
    "depomesh[\"radius\"] = np.ones(depo1.shape[0])*0.5\n",
    "geom = pv.Box()\n",
    "\n",
    "submesh = pv.PolyData(substrute)\n",
    "submesh[\"radius\"] = np.ones(substrute.shape[0])*0.5\n",
    "\n",
    "# Progress bar is a new feature on master branch\n",
    "depoglyphed = depomesh.glyph(scale=\"radius\", geom=geom) # progress_bar=True)\n",
    "subglyphed = submesh.glyph(scale=\"radius\", geom=geom) # progress_bar=True)\n",
    "\n",
    "p = pv.Plotter()\n",
    "p.add_mesh(depoglyphed, color='cyan')\n",
    "p.add_mesh(subglyphed, color='dimgray')\n",
    "p.enable_eye_dome_lighting()\n",
    "p.show_grid()\n",
    "p.show()"
   ]
  },
  {
   "cell_type": "code",
   "execution_count": 284,
   "metadata": {},
   "outputs": [
    {
     "data": {
      "text/plain": [
       "0.23086812770184548"
      ]
     },
     "execution_count": 284,
     "metadata": {},
     "output_type": "execute_result"
    }
   ],
   "source": [
    "(19-8.1)/(108-60.7869)"
   ]
  },
  {
   "cell_type": "code",
   "execution_count": 285,
   "metadata": {},
   "outputs": [
    {
     "data": {
      "text/plain": [
       "0.4371583333333333"
      ]
     },
     "execution_count": 285,
     "metadata": {},
     "output_type": "execute_result"
    }
   ],
   "source": [
    "(108-60.7869)/108"
   ]
  },
  {
   "cell_type": "code",
   "execution_count": 289,
   "metadata": {},
   "outputs": [
    {
     "data": {
      "text/plain": [
       "0.43956043956043955"
      ]
     },
     "execution_count": 289,
     "metadata": {},
     "output_type": "execute_result"
    }
   ],
   "source": [
    "(273-153)/273"
   ]
  },
  {
   "cell_type": "code",
   "execution_count": 293,
   "metadata": {},
   "outputs": [
    {
     "data": {
      "text/plain": [
       "0.23333333333333334"
      ]
     },
     "execution_count": 293,
     "metadata": {},
     "output_type": "execute_result"
    }
   ],
   "source": [
    "(48-20)/(273-153)"
   ]
  },
  {
   "cell_type": "code",
   "execution_count": 302,
   "metadata": {},
   "outputs": [
    {
     "data": {
      "text/plain": [
       "0.35840707964601765"
      ]
     },
     "execution_count": 302,
     "metadata": {},
     "output_type": "execute_result"
    }
   ],
   "source": [
    "16.2/45.2"
   ]
  },
  {
   "cell_type": "code",
   "execution_count": 307,
   "metadata": {},
   "outputs": [
    {
     "data": {
      "text/plain": [
       "0.3565217391304348"
      ]
     },
     "execution_count": 307,
     "metadata": {},
     "output_type": "execute_result"
    }
   ],
   "source": [
    "41/115"
   ]
  },
  {
   "cell_type": "code",
   "execution_count": 308,
   "metadata": {},
   "outputs": [
    {
     "data": {
      "text/plain": [
       "79"
      ]
     },
     "execution_count": 308,
     "metadata": {},
     "output_type": "execute_result"
    }
   ],
   "source": [
    "120-41"
   ]
  },
  {
   "cell_type": "code",
   "execution_count": 309,
   "metadata": {},
   "outputs": [
    {
     "data": {
      "text/plain": [
       "1.4727272727272727"
      ]
     },
     "execution_count": 309,
     "metadata": {},
     "output_type": "execute_result"
    }
   ],
   "source": [
    "8.1/5.5"
   ]
  },
  {
   "cell_type": "code",
   "execution_count": 315,
   "metadata": {},
   "outputs": [
    {
     "data": {
      "text/plain": [
       "1.5384615384615385"
      ]
     },
     "execution_count": 315,
     "metadata": {},
     "output_type": "execute_result"
    }
   ],
   "source": [
    "20/13"
   ]
  },
  {
   "cell_type": "code",
   "execution_count": 316,
   "metadata": {},
   "outputs": [
    {
     "name": "stdout",
     "output_type": "stream",
     "text": [
      "y [ 0.   1.7  3.4  5.1  6.8  8.5 10.2 11.9 13.6 15.3 17.  18.7 20.4 22.1\n",
      " 23.8 25.5 27.2 28.9 30.6 32.3 34.  35.7 37.4 39.1 40.8 42.5 44.2 45.9\n",
      " 47.6 49.3 51. ]\n",
      "fraction 1\n",
      "y [ 0.   1.7  3.4  5.1  6.8  8.5 10.2 11.9 13.6 15.3 17.  18.7 20.4 22.1\n",
      " 23.8 25.5 27.2 28.9 30.6 32.3 34.  35.7 37.4 39.1 40.8 42.5 44.2 45.9\n",
      " 47.6 49.3 51. ]\n",
      "fraction 1\n",
      "y [  0.           4.51851852   9.03703704  13.55555556  18.07407407\n",
      "  22.59259259  27.11111111  31.62962963  36.14814815  40.66666667\n",
      "  45.18518519  49.7037037   54.22222222  58.74074074  63.25925926\n",
      "  67.77777778  72.2962963   76.81481481  81.33333333  85.85185185\n",
      "  90.37037037  94.88888889  99.40740741 103.92592593 108.44444444\n",
      " 112.96296296 117.48148148 122.        ]\n",
      "fraction 4\n",
      "y [  0.           4.51851852   9.03703704  13.55555556  18.07407407\n",
      "  22.59259259  27.11111111  31.62962963  36.14814815  40.66666667\n",
      "  45.18518519  49.7037037   54.22222222  58.74074074  63.25925926\n",
      "  67.77777778  72.2962963   76.81481481  81.33333333  85.85185185\n",
      "  90.37037037  94.88888889  99.40740741 103.92592593 108.44444444\n",
      " 112.96296296 117.48148148 122.        ]\n",
      "fraction 4\n",
      "y [  0.           5.66666667  11.33333333  17.          22.66666667\n",
      "  28.33333333  34.          39.66666667  45.33333333  51.\n",
      "  56.66666667  62.33333333  68.          73.66666667  79.33333333\n",
      "  85.          90.66666667  96.33333333 102.         107.66666667\n",
      " 113.33333333 119.         124.66666667 130.33333333 136.\n",
      " 141.66666667 147.33333333 153.         158.66666667 164.33333333\n",
      " 170.         175.66666667 181.33333333 187.        ]\n",
      "fraction 5\n",
      "y [  0.           5.66666667  11.33333333  17.          22.66666667\n",
      "  28.33333333  34.          39.66666667  45.33333333  51.\n",
      "  56.66666667  62.33333333  68.          73.66666667  79.33333333\n",
      "  85.          90.66666667  96.33333333 102.         107.66666667\n",
      " 113.33333333 119.         124.66666667 130.33333333 136.\n",
      " 141.66666667 147.33333333 153.         158.66666667 164.33333333\n",
      " 170.         175.66666667 181.33333333 187.        ]\n",
      "fraction 5\n",
      "z [  0.           3.06557377   6.13114754   9.19672131  12.26229508\n",
      "  15.32786885  18.39344262  21.45901639  24.52459016  27.59016393\n",
      "  30.6557377   33.72131148  36.78688525  39.85245902  42.91803279\n",
      "  45.98360656  49.04918033  52.1147541   55.18032787  58.24590164\n",
      "  61.31147541  64.37704918  67.44262295  70.50819672  73.57377049\n",
      "  76.63934426  79.70491803  82.7704918   85.83606557  88.90163934\n",
      "  91.96721311  95.03278689  98.09836066 101.16393443 104.2295082\n",
      " 107.29508197 110.36065574 113.42622951 116.49180328 119.55737705\n",
      " 122.62295082 125.68852459 128.75409836 131.81967213 134.8852459\n",
      " 137.95081967 141.01639344 144.08196721 147.14754098 150.21311475\n",
      " 153.27868852 156.3442623  159.40983607 162.47540984 165.54098361\n",
      " 168.60655738 171.67213115 174.73770492 177.80327869 180.86885246\n",
      " 183.93442623 187.        ]\n",
      "fraction 3\n"
     ]
    }
   ],
   "source": [
    "film = np.zeros((277, 100, 120))\n",
    "\n",
    "bottom = 5\n",
    "film[:, :, 0:bottom] = 10 # bottom\n",
    "\n",
    "side_wall = 2\n",
    "film[:, :side_wall, :] = 10 # left\n",
    "film[:, -side_wall:, :] = 10 # right\n",
    "\n",
    "\n",
    "# #dfsdfsdfasdf\n",
    "# height = 80\n",
    "# left_side = 75\n",
    "# right_side = 75\n",
    "\n",
    "film = slide2D_fractionZ(film=film, start=[2, 67, 5], end=[88, 98, 56], direction='y', fraction='+', value=10)\n",
    "film = slide2D_fractionZ(film=film, start=[2, 32, 5], end=[88, 1, 56], direction='y', fraction='+', value=10)\n",
    "\n",
    "film = slide2D_fractionX(film=film, start=[275, 29, 0], end=[153, 1, 120], direction='y', fraction='-', value=10)\n",
    "film = slide2D_fractionX(film=film, start=[275, 70, 0], end=[153, 98, 120], direction='y', fraction='-', value=10)\n",
    "\n",
    "film = slide2D_fractionX(film=film, start=[275, 35, 0], end=[88, 1, 79], direction='y', fraction='-', value=10)\n",
    "film = slide2D_fractionX(film=film, start=[275, 64, 0], end=[88, 98, 79], direction='y', fraction='-', value=10)\n",
    "\n",
    "\n",
    "film = slide2D_fractionX(film=film, start=[275, 2, 4], end=[88, 98, 66], direction='z', fraction='-', value=10)\n",
    "\n",
    "\n",
    "film[:side_wall, :, :] = 10 # back\n",
    "film[-side_wall:, :, :] = 10 # front"
   ]
  },
  {
   "cell_type": "code",
   "execution_count": 317,
   "metadata": {},
   "outputs": [
    {
     "name": "stderr",
     "output_type": "stream",
     "text": [
      "c:\\Users\\urcs049\\AppData\\Local\\anaconda3\\Lib\\site-packages\\pyvista\\core\\utilities\\points.py:55: UserWarning: Points is not a float type. This can cause issues when transforming or applying filters. Casting to ``np.float32``. Disable this by passing ``force_float=False``.\n",
      "  warnings.warn(\n",
      "c:\\Users\\urcs049\\AppData\\Local\\anaconda3\\Lib\\site-packages\\pyvista\\core\\filters\\data_set.py:2386: UserWarning: No vector-like data to use for orient. orient will be set to False.\n",
      "  warnings.warn(\"No vector-like data to use for orient. orient will be set to False.\")\n"
     ]
    },
    {
     "data": {
      "application/vnd.jupyter.widget-view+json": {
       "model_id": "dfa29b0da05d4df39f7c7923d34846f3",
       "version_major": 2,
       "version_minor": 0
      },
      "text/plain": [
       "Widget(value='<iframe src=\"http://localhost:53499/index.html?ui=P_0x1d18b9960f0_81&reconnect=auto\" class=\"pyvi…"
      ]
     },
     "metadata": {},
     "output_type": "display_data"
    }
   ],
   "source": [
    "depo1 = torch.Tensor(np.logical_and(film[:, :, :] !=0, film[:, :, :] < 10)).to_sparse()\n",
    "depo1 = depo1.indices().numpy().T\n",
    "\n",
    "substrute = torch.Tensor(film[:, :, :]==10).to_sparse()\n",
    "substrute = substrute.indices().numpy().T\n",
    "depomesh = pv.PolyData(depo1)\n",
    "depomesh[\"radius\"] = np.ones(depo1.shape[0])*0.5\n",
    "geom = pv.Box()\n",
    "\n",
    "submesh = pv.PolyData(substrute)\n",
    "submesh[\"radius\"] = np.ones(substrute.shape[0])*0.5\n",
    "\n",
    "# Progress bar is a new feature on master branch\n",
    "depoglyphed = depomesh.glyph(scale=\"radius\", geom=geom) # progress_bar=True)\n",
    "subglyphed = submesh.glyph(scale=\"radius\", geom=geom) # progress_bar=True)\n",
    "\n",
    "p = pv.Plotter()\n",
    "p.add_mesh(depoglyphed, color='cyan')\n",
    "p.add_mesh(subglyphed, color='dimgray')\n",
    "p.enable_eye_dome_lighting()\n",
    "p.show_grid()\n",
    "p.show()"
   ]
  },
  {
   "cell_type": "code",
   "execution_count": 301,
   "metadata": {},
   "outputs": [
    {
     "name": "stderr",
     "output_type": "stream",
     "text": [
      "c:\\Users\\urcs049\\AppData\\Local\\anaconda3\\Lib\\site-packages\\pyvista\\core\\utilities\\points.py:55: UserWarning: Points is not a float type. This can cause issues when transforming or applying filters. Casting to ``np.float32``. Disable this by passing ``force_float=False``.\n",
      "  warnings.warn(\n",
      "c:\\Users\\urcs049\\AppData\\Local\\anaconda3\\Lib\\site-packages\\pyvista\\core\\filters\\data_set.py:2386: UserWarning: No vector-like data to use for orient. orient will be set to False.\n",
      "  warnings.warn(\"No vector-like data to use for orient. orient will be set to False.\")\n"
     ]
    },
    {
     "data": {
      "application/vnd.jupyter.widget-view+json": {
       "model_id": "c7c31a4d4e1646a9aa904678117d809b",
       "version_major": 2,
       "version_minor": 0
      },
      "text/plain": [
       "Widget(value='<iframe src=\"http://localhost:53499/index.html?ui=P_0x1d18b996d80_80&reconnect=auto\" class=\"pyvi…"
      ]
     },
     "metadata": {},
     "output_type": "display_data"
    },
    {
     "name": "stderr",
     "output_type": "stream",
     "text": [
      "Task exception was never retrieved\n",
      "future: <Task finished name='Task-27471' coro=<WebSocketWriter.ping() done, defined at c:\\Users\\urcs049\\AppData\\Local\\anaconda3\\Lib\\site-packages\\aiohttp\\http_websocket.py:711> exception=ConnectionResetError('Cannot write to closing transport')>\n",
      "Traceback (most recent call last):\n",
      "  File \"c:\\Users\\urcs049\\AppData\\Local\\anaconda3\\Lib\\asyncio\\tasks.py\", line 314, in __step_run_and_handle_result\n",
      "    result = coro.send(None)\n",
      "             ^^^^^^^^^^^^^^^\n",
      "  File \"c:\\Users\\urcs049\\AppData\\Local\\anaconda3\\Lib\\site-packages\\aiohttp\\http_websocket.py\", line 715, in ping\n",
      "    await self._send_frame(message, WSMsgType.PING)\n",
      "  File \"c:\\Users\\urcs049\\AppData\\Local\\anaconda3\\Lib\\site-packages\\aiohttp\\http_websocket.py\", line 682, in _send_frame\n",
      "    self._write(header + message)\n",
      "  File \"c:\\Users\\urcs049\\AppData\\Local\\anaconda3\\Lib\\site-packages\\aiohttp\\http_websocket.py\", line 702, in _write\n",
      "    raise ConnectionResetError(\"Cannot write to closing transport\")\n",
      "ConnectionResetError: Cannot write to closing transport\n"
     ]
    }
   ],
   "source": [
    "depo1 = torch.Tensor(np.logical_and(film[:, :50, :] !=0, film[:, :50, :] < 10)).to_sparse()\n",
    "depo1 = depo1.indices().numpy().T\n",
    "\n",
    "substrute = torch.Tensor(film[:, :50, :]==10).to_sparse()\n",
    "substrute = substrute.indices().numpy().T\n",
    "depomesh = pv.PolyData(depo1)\n",
    "depomesh[\"radius\"] = np.ones(depo1.shape[0])*0.5\n",
    "geom = pv.Box()\n",
    "\n",
    "submesh = pv.PolyData(substrute)\n",
    "submesh[\"radius\"] = np.ones(substrute.shape[0])*0.5\n",
    "\n",
    "# Progress bar is a new feature on master branch\n",
    "depoglyphed = depomesh.glyph(scale=\"radius\", geom=geom) # progress_bar=True)\n",
    "subglyphed = submesh.glyph(scale=\"radius\", geom=geom) # progress_bar=True)\n",
    "\n",
    "p = pv.Plotter()\n",
    "p.add_mesh(depoglyphed, color='cyan')\n",
    "p.add_mesh(subglyphed, color='dimgray')\n",
    "p.enable_eye_dome_lighting()\n",
    "p.show_grid()\n",
    "p.show()"
   ]
  },
  {
   "cell_type": "code",
   "execution_count": 66,
   "metadata": {},
   "outputs": [
    {
     "name": "stderr",
     "output_type": "stream",
     "text": [
      "d:\\ysy\\etching\\Collision.py:31: RuntimeWarning: divide by zero encountered in divide\n",
      "  diVr = d_refi * np.sqrt(((kb*Tref)/(eVr*self.q))**(wi-1/2)*gamma(5/2 - wi))\n",
      "running:  36%|███████████████████                                  | 36.0/100 [07:31<13:22, 12.5s/B]"
     ]
    },
    {
     "name": "stdout",
     "output_type": "stream",
     "text": [
      "depo finish\n"
     ]
    },
    {
     "name": "stderr",
     "output_type": "stream",
     "text": [
      "\n"
     ]
    }
   ],
   "source": [
    "logname = 'DSMCTS60_trenchDepo_0827'\n",
    "test = DSMC_depoSimulator_generateWithtime.depo(mirror=True,collision=False,velNormalize=True,pressure_pa=0.2, temperature=300, chamberSize=film.shape, DXsec=DXsec_Al,\n",
    "                               param = [1.6, -0.7], TS = 0.3, N = int(1e6), \n",
    "                               sub_xy=[0,0], film=film, n=1, cellSize=film.shape, \n",
    "                               celllength=1e-5, kdtreeN=5, tstep=1e-5, thickness=110,substrateTop=80,posGeneratorType='gen1', logname=logname)\n",
    "\n",
    "deposit = test.depo_position_increase_cosVel(125,  int(1e6), 2e-2, 0.3, 5)"
   ]
  },
  {
   "cell_type": "code",
   "execution_count": 68,
   "metadata": {},
   "outputs": [],
   "source": [
    "np.save('cvd_void_subDepo_thk110', deposit[0])"
   ]
  },
  {
   "cell_type": "code",
   "execution_count": 4,
   "metadata": {},
   "outputs": [],
   "source": [
    "deposit0 = np.load('./For_etching_transport_TS60_deposit_0604_4.npy')"
   ]
  },
  {
   "cell_type": "code",
   "execution_count": 67,
   "metadata": {},
   "outputs": [
    {
     "name": "stderr",
     "output_type": "stream",
     "text": [
      "c:\\Users\\urcs049\\AppData\\Local\\anaconda3\\Lib\\site-packages\\pyvista\\core\\utilities\\points.py:55: UserWarning: Points is not a float type. This can cause issues when transforming or applying filters. Casting to ``np.float32``. Disable this by passing ``force_float=False``.\n",
      "  warnings.warn(\n",
      "c:\\Users\\urcs049\\AppData\\Local\\anaconda3\\Lib\\site-packages\\pyvista\\core\\filters\\data_set.py:2386: UserWarning: No vector-like data to use for orient. orient will be set to False.\n",
      "  warnings.warn(\"No vector-like data to use for orient. orient will be set to False.\")\n"
     ]
    },
    {
     "data": {
      "application/vnd.jupyter.widget-view+json": {
       "model_id": "81cbca7c0ca149d8a01bd9669d440d89",
       "version_major": 2,
       "version_minor": 0
      },
      "text/plain": [
       "Widget(value='<iframe src=\"http://localhost:59837/index.html?ui=P_0x2ae6d79fad0_22&reconnect=auto\" class=\"pyvi…"
      ]
     },
     "metadata": {},
     "output_type": "display_data"
    }
   ],
   "source": [
    "depo1 = torch.Tensor(deposit[0][:, :, :]==20).to_sparse()\n",
    "depo1 = depo1.indices().numpy().T\n",
    "\n",
    "substrute = torch.Tensor(deposit[0][:, :, :]==10).to_sparse()\n",
    "substrute = substrute.indices().numpy().T\n",
    "depomesh = pv.PolyData(depo1)\n",
    "depomesh[\"radius\"] = np.ones(depo1.shape[0])*0.5\n",
    "geom = pv.Box()\n",
    "\n",
    "submesh = pv.PolyData(substrute)\n",
    "submesh[\"radius\"] = np.ones(substrute.shape[0])*0.5\n",
    "\n",
    "# Progress bar is a new feature on master branch\n",
    "depoglyphed = depomesh.glyph(scale=\"radius\", geom=geom) # progress_bar=True)\n",
    "subglyphed = submesh.glyph(scale=\"radius\", geom=geom) # progress_bar=True)\n",
    "\n",
    "p = pv.Plotter()\n",
    "p.add_mesh(depoglyphed, color='cyan')\n",
    "p.add_mesh(subglyphed, color='dimgray')\n",
    "p.enable_eye_dome_lighting()\n",
    "p.show_grid()\n",
    "p.show()"
   ]
  },
  {
   "cell_type": "code",
   "execution_count": 12,
   "metadata": {},
   "outputs": [],
   "source": [
    "deposit0 = np.load('./For_etching_transport_TS60_deposit_0624_SMD.npy')"
   ]
  },
  {
   "cell_type": "code",
   "execution_count": 13,
   "metadata": {},
   "outputs": [
    {
     "data": {
      "text/plain": [
       "(50, 200, 180)"
      ]
     },
     "execution_count": 13,
     "metadata": {},
     "output_type": "execute_result"
    }
   ],
   "source": [
    "deposit0.shape"
   ]
  },
  {
   "cell_type": "code",
   "execution_count": 14,
   "metadata": {},
   "outputs": [],
   "source": [
    "# deposit0 = deposit0[:, :, :]\n",
    "# deposit0 = deposit[0][:, :, :]\n",
    "etchfilm = np.zeros((deposit0.shape))\n",
    "\n",
    "\n",
    "deposit_etch_10 = deposit0 == 10\n",
    "b = np.where(deposit_etch_10 == True)\n",
    "deposit_etch_20 = deposit0 == 20\n",
    "c = np.where(deposit_etch_20 == True)\n",
    "\n",
    "etchfilm[b] = -50\n",
    "etchfilm[c] = -10"
   ]
  },
  {
   "cell_type": "code",
   "execution_count": 7,
   "metadata": {},
   "outputs": [
    {
     "data": {
      "text/plain": [
       "(50, 200, 180)"
      ]
     },
     "execution_count": 7,
     "metadata": {},
     "output_type": "execute_result"
    }
   ],
   "source": [
    "etchfilm.shape"
   ]
  },
  {
   "cell_type": "code",
   "execution_count": 8,
   "metadata": {},
   "outputs": [],
   "source": [
    "import DSMC_etchingSimulator_linearInput"
   ]
  },
  {
   "cell_type": "code",
   "execution_count": 27,
   "metadata": {},
   "outputs": [
    {
     "data": {
      "image/png": "[encoded data removed]",
      "text/plain": [
       "<Figure size 640x480 with 1 Axes>"
      ]
     },
     "metadata": {},
     "output_type": "display_data"
    }
   ],
   "source": [
    "yield_hist = np.array([[1.0, 1.01, 1.05,  1.2,  1.4,  1.5, 1.07, 0.65, 0.28, 0.08,  0, \\\n",
    "                        0.08, 0.28,0.65,  1.07, 1.5, 1.4, 1.2, 1.05, 1.01, 1.0 ], \\\n",
    "                        [  0,  5,   10,   20,   30,   40,   50,   60,   70,   80, 90, \\\n",
    "                          100, 110, 120, 130, 140, 150, 160, 170, 175, 180]])\n",
    "yield_hist[1] *= np.pi/180\n",
    "yield_func = interpolate.interp1d(yield_hist[1], yield_hist[0], kind='quadratic')\n",
    "\n",
    "xnew = np.arange(0, np.pi, 0.01)\n",
    "# xnew = np.array([])\n",
    "ynew = yield_func(xnew)   # use interpolation function returned by `interp1d`\n",
    "plt.plot(yield_hist[1], yield_hist[0], 'o', xnew, ynew, '-')\n",
    "plt.show()"
   ]
  },
  {
   "cell_type": "code",
   "execution_count": 43,
   "metadata": {},
   "outputs": [
    {
     "data": {
      "image/png": "[encoded data removed]",
      "text/plain": [
       "<Figure size 640x480 with 1 Axes>"
      ]
     },
     "metadata": {},
     "output_type": "display_data"
    }
   ],
   "source": [
    "yield_hist = np.array([[0.1, 0.1, 0.15,  1.2,  1.2,  0.40, 0.2, 0.08, 0.04, 0.02,  0, \\\n",
    "                        0.02, 0.04, 0.08, 0.2, 0.40, 1.2, 1.2, 0.15, 0.1, 0.1], \\\n",
    "                        [  0,  5,   10,   20,   30,   40,   50,   60,   70,   80, 90, \\\n",
    "                         100, 110, 120, 130, 140, 150, 160, 170, 175, 180]])\n",
    "yield_hist[1] *= np.pi/180\n",
    "yield_func = interpolate.interp1d(yield_hist[1], yield_hist[0], kind='quadratic')\n",
    "\n",
    "xnew = np.arange(0, np.pi, 0.01)\n",
    "# xnew = np.array([])\n",
    "ynew = yield_func(xnew)   # use interpolation function returned by `interp1d`\n",
    "plt.plot(yield_hist[1], yield_hist[0], 'o', xnew, ynew, '-')\n",
    "plt.show()"
   ]
  },
  {
   "cell_type": "code",
   "execution_count": 9,
   "metadata": {},
   "outputs": [
    {
     "data": {
      "image/png": "[encoded data removed]",
      "text/plain": [
       "<Figure size 640x480 with 1 Axes>"
      ]
     },
     "metadata": {},
     "output_type": "display_data"
    }
   ],
   "source": [
    "yield_hist = np.array([[0.05, 0.05, 0.11,  0.15, 0.3,  1.2,  1.40, 1.2, 0.28, 0.04, 0.02,  0, \\\n",
    "                        0.02, 0.04, 0.28, 1.2, 1.40, 1.2, 0.3,  0.15, 0.11, 0.05, 0.05], \\\n",
    "                        [  0,  5,   10,   20, 25,  30,   40,   50,   60,   70,   80, 90, \\\n",
    "                         100, 110, 120, 130, 140, 150, 155, 160, 170, 175, 180]])\n",
    "yield_hist[1] *= np.pi/180\n",
    "yield_func = interpolate.interp1d(yield_hist[1], yield_hist[0], kind='quadratic')\n",
    "\n",
    "xnew = np.arange(0, np.pi, 0.01)\n",
    "# xnew = np.array([])\n",
    "ynew = yield_func(xnew)   # use interpolation function returned by `interp1d`\n",
    "plt.plot(yield_hist[1], yield_hist[0], 'o', xnew, ynew, '-')\n",
    "plt.show()"
   ]
  },
  {
   "cell_type": "code",
   "execution_count": 25,
   "metadata": {},
   "outputs": [
    {
     "name": "stdout",
     "output_type": "stream",
     "text": [
      "(2, 23)\n"
     ]
    },
    {
     "data": {
      "image/png": "[encoded data removed]",
      "text/plain": [
       "<Figure size 640x480 with 1 Axes>"
      ]
     },
     "metadata": {},
     "output_type": "display_data"
    }
   ],
   "source": [
    "yield_hist = np.array([[0.05, 0.05, 0.11,  0.15, 0.3,  1.2,  1.40, 1.2, 0.28, 0.04, 0.02,  0, \\\n",
    "                        0.02, 0.04, 0.28, 1.2, 1.40, 1.2, 0.3,  0.15, 0.11, 0.05, 0.05], \\\n",
    "                        [  0,  5,   10,   20, 25,  30,   40,   50,   60,   70,   80, 90, \\\n",
    "                         100, 110, 120, 130, 140, 150, 155, 160, 170, 175, 180]])\n",
    "\n",
    "print(yield_hist.shape)\n",
    "yield_hist[1] *= np.pi/180\n",
    "yield_func = interpolate.interp1d(yield_hist[1], yield_hist[0], kind='quadratic')\n",
    "\n",
    "xnew = np.arange(0, np.pi/2, 0.01)\n",
    "# xnew = np.array([])\n",
    "ynew = yield_func(xnew)   # use interpolation function returned by `interp1d`\n",
    "plt.plot(yield_hist[1][:12]/(np.pi/180), yield_hist[0][:12], 'o', xnew/(np.pi/180), ynew, '-')\n",
    "plt.title('sputter yield')\n",
    "plt.show()"
   ]
  },
  {
   "cell_type": "code",
   "execution_count": 15,
   "metadata": {},
   "outputs": [
    {
     "name": "stderr",
     "output_type": "stream",
     "text": [
      "l:\\ysy\\etching\\Collision.py:31: RuntimeWarning: divide by zero encountered in divide\n",
      "  diVr = d_refi * np.sqrt(((kb*Tref)/(eVr*self.q))**(wi-1/2)*gamma(5/2 - wi))\n",
      "running: 100%|██████████████████████████████████████████████████████| 100/100 [15:17<00:00, 9.17s/B]\n"
     ]
    }
   ],
   "source": [
    "logname = 'DSMCTS60_etching_0624'\n",
    "testEtch = DSMC_etchingSimulator_linearInput.etching(mirror=True, pressure_pa=0.001, temperature=300, chamberSize=etchfilm.shape, DXsec=DXsec_Al,\n",
    "                                         center_with_direction=np.array([[35,100,75]]), \n",
    "                                         range3D=np.array([[0, 70, 0, 100, 0, 150]]), InOrOut=[1], yield_hist=yield_hist,\n",
    "                                        param = [1.6, -0.7], TS = 0.3, N = 500000, \n",
    "                                        sub_xy=[0,0], film=etchfilm, n=101, cellSize=etchfilm.shape, \n",
    "                                        celllength=1e-5, kdtreeN=5, tstep=1e-8,\n",
    "                                        thickness=124,substrateTop=80,posGeneratorType='top', logname=logname)\n",
    "etching = testEtch.depo_position_increase_cosVel(125,  500000, 1e-5, 0.5, 10)"
   ]
  },
  {
   "cell_type": "code",
   "execution_count": 16,
   "metadata": {},
   "outputs": [
    {
     "name": "stderr",
     "output_type": "stream",
     "text": [
      "l:\\program\\Lib\\site-packages\\pyvista\\core\\utilities\\points.py:52: UserWarning: Points is not a float type. This can cause issues when transforming or applying filters. Casting to ``np.float32``. Disable this by passing ``force_float=False``.\n",
      "  warnings.warn(\n",
      "l:\\program\\Lib\\site-packages\\pyvista\\core\\filters\\data_set.py:2320: UserWarning: No vector-like data to use for orient. orient will be set to False.\n",
      "  warnings.warn(\"No vector-like data to use for orient. orient will be set to False.\")\n"
     ]
    },
    {
     "data": {
      "application/vnd.jupyter.widget-view+json": {
       "model_id": "a9f2e12620cb48d48e2e9f72ed73b5ad",
       "version_major": 2,
       "version_minor": 0
      },
      "text/plain": [
       "Widget(value='<iframe src=\"http://localhost:55777/index.html?ui=P_0x1a9882c0bd0_1&reconnect=auto\" class=\"pyvis…"
      ]
     },
     "metadata": {},
     "output_type": "display_data"
    }
   ],
   "source": [
    "etched = torch.Tensor(deposit0[:, :, :]==20).to_sparse()\n",
    "etched = etched.indices().numpy().T\n",
    "\n",
    "substrute = torch.Tensor(etching[0][:, :, :]==-10).to_sparse()\n",
    "substrute = substrute.indices().numpy().T\n",
    "\n",
    "trench = torch.Tensor(etching[0][:, :, :]==-50).to_sparse()\n",
    "trench = trench.indices().numpy().T\n",
    "\n",
    "depomesh = pv.PolyData(etched)\n",
    "depomesh[\"radius\"] = np.ones(etched.shape[0])*0.5\n",
    "geom = pv.Box()\n",
    "\n",
    "submesh = pv.PolyData(substrute)\n",
    "submesh[\"radius\"] = np.ones(substrute.shape[0])*0.5\n",
    "\n",
    "trenchmesh = pv.PolyData(trench)\n",
    "trenchmesh[\"radius\"] = np.ones(trench.shape[0])*0.5\n",
    "\n",
    "# Progress bar is a new feature on master branch\n",
    "depoglyphed = depomesh.glyph(scale=\"radius\", geom=geom) # progress_bar=True)\n",
    "subglyphed = submesh.glyph(scale=\"radius\", geom=geom) # progress_bar=True)\n",
    "trenchglyphed = trenchmesh.glyph(scale=\"radius\", geom=geom) # progress_bar=True)\n",
    "\n",
    "p = pv.Plotter()\n",
    "p.add_mesh(depoglyphed, color='pink')\n",
    "p.add_mesh(subglyphed, color='cyan')\n",
    "p.add_mesh(trenchglyphed, color='dimgray')\n",
    "p.enable_eye_dome_lighting()\n",
    "p.show()"
   ]
  },
  {
   "cell_type": "code",
   "execution_count": 17,
   "metadata": {},
   "outputs": [
    {
     "name": "stderr",
     "output_type": "stream",
     "text": [
      "l:\\program\\Lib\\site-packages\\pyvista\\core\\utilities\\points.py:52: UserWarning: Points is not a float type. This can cause issues when transforming or applying filters. Casting to ``np.float32``. Disable this by passing ``force_float=False``.\n",
      "  warnings.warn(\n",
      "l:\\program\\Lib\\site-packages\\pyvista\\core\\filters\\data_set.py:2320: UserWarning: No vector-like data to use for orient. orient will be set to False.\n",
      "  warnings.warn(\"No vector-like data to use for orient. orient will be set to False.\")\n"
     ]
    },
    {
     "data": {
      "application/vnd.jupyter.widget-view+json": {
       "model_id": "8f05c697aa6047368b5133f49c5a84e0",
       "version_major": 2,
       "version_minor": 0
      },
      "text/plain": [
       "Widget(value='<iframe src=\"http://localhost:55777/index.html?ui=P_0x1a988236d10_2&reconnect=auto\" class=\"pyvis…"
      ]
     },
     "metadata": {},
     "output_type": "display_data"
    }
   ],
   "source": [
    "# etched = torch.Tensor(deposit0[:, :, :]==20).to_sparse()\n",
    "# etched = etched.indices().numpy().T\n",
    "\n",
    "substrute = torch.Tensor(etching[0][:, :, :]==-10).to_sparse()\n",
    "substrute = substrute.indices().numpy().T\n",
    "\n",
    "trench = torch.Tensor(etching[0][:, :, :]==-50).to_sparse()\n",
    "trench = trench.indices().numpy().T\n",
    "\n",
    "# depomesh = pv.PolyData(etched)\n",
    "# depomesh[\"radius\"] = np.ones(etched.shape[0])*0.5\n",
    "geom = pv.Box()\n",
    "\n",
    "submesh = pv.PolyData(substrute)\n",
    "submesh[\"radius\"] = np.ones(substrute.shape[0])*0.5\n",
    "\n",
    "trenchmesh = pv.PolyData(trench)\n",
    "trenchmesh[\"radius\"] = np.ones(trench.shape[0])*0.5\n",
    "\n",
    "# Progress bar is a new feature on master branch\n",
    "# depoglyphed = depomesh.glyph(scale=\"radius\", geom=geom) # progress_bar=True)\n",
    "subglyphed = submesh.glyph(scale=\"radius\", geom=geom) # progress_bar=True)\n",
    "trenchglyphed = trenchmesh.glyph(scale=\"radius\", geom=geom) # progress_bar=True)\n",
    "\n",
    "p = pv.Plotter()\n",
    "# p.add_mesh(depoglyphed, color='pink')\n",
    "p.add_mesh(subglyphed, color='cyan')\n",
    "p.add_mesh(trenchglyphed, color='dimgray')\n",
    "p.enable_eye_dome_lighting()\n",
    "p.show()"
   ]
  },
  {
   "cell_type": "code",
   "execution_count": 30,
   "metadata": {},
   "outputs": [],
   "source": [
    "np.save('./TScompare/TS60_DSMC_etching_0624_SMD', etching[0])"
   ]
  },
  {
   "cell_type": "code",
   "execution_count": 40,
   "metadata": {},
   "outputs": [
    {
     "name": "stdout",
     "output_type": "stream",
     "text": [
      "(23388, 6)\n"
     ]
    }
   ],
   "source": [
    "edge_indices = np.logical_or(a[:,0] < 0.165, a[:,0] > 0.195)\n",
    "edge_indices |= np.logical_or(a[:,1] < -0.015, a[:,1] > 0.015)\n",
    "edge_indices |= np.array(a[:,2] > 0.2)\n",
    "if np.any(edge_indices):\n",
    "    edge_depo = a[~edge_indices]\n",
    "\n",
    "print(edge_depo.shape)"
   ]
  },
  {
   "cell_type": "code",
   "execution_count": 41,
   "metadata": {},
   "outputs": [
    {
     "name": "stdout",
     "output_type": "stream",
     "text": [
      "(1496832, 6)\n"
     ]
    }
   ],
   "source": [
    "for i in range(6):\n",
    "    edge_depo = np.concatenate((edge_depo, edge_depo), axis=0)\n",
    "\n",
    "print(edge_depo.shape)"
   ]
  },
  {
   "cell_type": "code",
   "execution_count": 56,
   "metadata": {},
   "outputs": [
    {
     "data": {
      "text/plain": [
       "<matplotlib.legend.Legend at 0x1aa4482e510>"
      ]
     },
     "execution_count": 56,
     "metadata": {},
     "output_type": "execute_result"
    },
    {
     "data": {
      "image/png": "[encoded data removed]",
      "text/plain": [
       "<Figure size 640x480 with 1 Axes>"
      ]
     },
     "metadata": {},
     "output_type": "display_data"
    }
   ],
   "source": [
    "fig, ax = plt.subplots()\n",
    "ax.set_title(\"velosity distribution of deposited aluminum on wafer (edge)\")\n",
    "ax.hist(edge_depo[:,3], bins=100,histtype='step', stacked=True, fill=False, label='vel_x')\n",
    "ax.hist(edge_depo[:,4], bins=100,histtype='step', stacked=True, fill=False, label='vel_y')\n",
    "ax.hist(edge_depo[:,5], bins=100,histtype='step', stacked=True, fill=False, label='vel_z')\n",
    "# ax.set_yscale('log')\n",
    "# ax.plot(X, hist_dist.cdf(X), label='CDF')\n",
    "ax.legend()"
   ]
  },
  {
   "cell_type": "code",
   "execution_count": 58,
   "metadata": {},
   "outputs": [],
   "source": [
    "edge_depo2 = np.zeros_like(edge_depo)\n",
    "edge_depo2[:,3] = edge_depo[:,4]\n",
    "edge_depo2[:,4] = edge_depo[:,3]\n",
    "edge_depo2[:,5] = edge_depo[:,5]"
   ]
  },
  {
   "cell_type": "code",
   "execution_count": 59,
   "metadata": {},
   "outputs": [
    {
     "data": {
      "text/plain": [
       "<matplotlib.legend.Legend at 0x1aa62ea6790>"
      ]
     },
     "execution_count": 59,
     "metadata": {},
     "output_type": "execute_result"
    },
    {
     "data": {
      "image/png": "[encoded data removed]",
      "text/plain": [
       "<Figure size 640x480 with 1 Axes>"
      ]
     },
     "metadata": {},
     "output_type": "display_data"
    }
   ],
   "source": [
    "fig, ax = plt.subplots()\n",
    "ax.set_title(\"velosity distribution of deposited aluminum on wafer (edge)\")\n",
    "ax.hist(edge_depo2[:,3], bins=100,histtype='step', stacked=True, fill=False, label='vel_x')\n",
    "ax.hist(edge_depo2[:,4], bins=100,histtype='step', stacked=True, fill=False, label='vel_y')\n",
    "ax.hist(edge_depo2[:,5], bins=100,histtype='step', stacked=True, fill=False, label='vel_z')\n",
    "# ax.set_yscale('log')\n",
    "# ax.plot(X, hist_dist.cdf(X), label='CDF')\n",
    "ax.legend()"
   ]
  },
  {
   "cell_type": "code",
   "execution_count": 48,
   "metadata": {},
   "outputs": [],
   "source": [
    "np.random.shuffle(edge_depo)"
   ]
  },
  {
   "cell_type": "code",
   "execution_count": 49,
   "metadata": {},
   "outputs": [
    {
     "data": {
      "text/plain": [
       "(1496832, 6)"
      ]
     },
     "execution_count": 49,
     "metadata": {},
     "output_type": "execute_result"
    }
   ],
   "source": [
    "edge_depo.shape"
   ]
  },
  {
   "cell_type": "code",
   "execution_count": 61,
   "metadata": {},
   "outputs": [
    {
     "name": "stderr",
     "output_type": "stream",
     "text": [
      "l:\\ysy\\etching\\Collision.py:31: RuntimeWarning: divide by zero encountered in divide\n",
      "  diVr = d_refi * np.sqrt(((kb*Tref)/(eVr*self.q))**(wi-1/2)*gamma(5/2 - wi))\n",
      "running:   0%|                                                            | 0.00/100 [00:00<?, ?B/s]"
     ]
    },
    {
     "name": "stderr",
     "output_type": "stream",
     "text": [
      "running:  91%|██████████████████████████████████████████████▍    | 91.0/100 [1:07:15<06:39, 44.3s/B]"
     ]
    },
    {
     "name": "stdout",
     "output_type": "stream",
     "text": [
      "depo finish\n"
     ]
    },
    {
     "name": "stderr",
     "output_type": "stream",
     "text": [
      "\n"
     ]
    }
   ],
   "source": [
    "logname = 'DSMCTS60_trenchDepo_0624_edge'\n",
    "test = DSMC_depoSimulator_generateWithtime.depo(mirror=True,pressure_pa=0.2, temperature=300, chamberSize=film.shape, DXsec=DXsec_Al,\n",
    "                               param = [1.6, -0.7], TS = 0.3, N = edge_depo2.shape[0], \n",
    "                               sub_xy=[0,0], film=film, n=1, cellSize=film.shape, \n",
    "                               celllength=1e-5, kdtreeN=5, tstep=5e-10, thickness=117,substrateTop=80,posGeneratorType='gen1', logname=logname)\n",
    "\n",
    "deposit = test.depo_position_increase(125,  edge_depo2[:, 3:], 2e-6, 0.3, 30)"
   ]
  },
  {
   "cell_type": "code",
   "execution_count": 63,
   "metadata": {},
   "outputs": [],
   "source": [
    "np.save('./TScompare/TS60_DSMC_edge_SMD_0624', deposit[0])"
   ]
  },
  {
   "cell_type": "code",
   "execution_count": 62,
   "metadata": {},
   "outputs": [
    {
     "name": "stderr",
     "output_type": "stream",
     "text": [
      "l:\\program\\Lib\\site-packages\\pyvista\\core\\utilities\\points.py:52: UserWarning: Points is not a float type. This can cause issues when transforming or applying filters. Casting to ``np.float32``. Disable this by passing ``force_float=False``.\n",
      "  warnings.warn(\n",
      "l:\\program\\Lib\\site-packages\\pyvista\\core\\filters\\data_set.py:2320: UserWarning: No vector-like data to use for orient. orient will be set to False.\n",
      "  warnings.warn(\"No vector-like data to use for orient. orient will be set to False.\")\n"
     ]
    },
    {
     "data": {
      "application/vnd.jupyter.widget-view+json": {
       "model_id": "7ca3f6c87dbc4c63aa5e6f9c63f44e68",
       "version_major": 2,
       "version_minor": 0
      },
      "text/plain": [
       "Widget(value='<iframe src=\"http://localhost:55777/index.html?ui=P_0x1aa62deb790_9&reconnect=auto\" class=\"pyvis…"
      ]
     },
     "metadata": {},
     "output_type": "display_data"
    }
   ],
   "source": [
    "depo1 = torch.Tensor(deposit[0][:, :, :]==20).to_sparse()\n",
    "depo1 = depo1.indices().numpy().T\n",
    "\n",
    "substrute = torch.Tensor(deposit[0][:, :, :]==10).to_sparse()\n",
    "substrute = substrute.indices().numpy().T\n",
    "depomesh = pv.PolyData(depo1)\n",
    "depomesh[\"radius\"] = np.ones(depo1.shape[0])*0.5\n",
    "geom = pv.Box()\n",
    "\n",
    "submesh = pv.PolyData(substrute)\n",
    "submesh[\"radius\"] = np.ones(substrute.shape[0])*0.5\n",
    "\n",
    "# Progress bar is a new feature on master branch\n",
    "depoglyphed = depomesh.glyph(scale=\"radius\", geom=geom) # progress_bar=True)\n",
    "subglyphed = submesh.glyph(scale=\"radius\", geom=geom) # progress_bar=True)\n",
    "\n",
    "p = pv.Plotter()\n",
    "p.add_mesh(depoglyphed, color='cyan')\n",
    "p.add_mesh(subglyphed, color='dimgray')\n",
    "p.enable_eye_dome_lighting()\n",
    "p.show_grid()\n",
    "p.show()"
   ]
  },
  {
   "cell_type": "code",
   "execution_count": null,
   "metadata": {},
   "outputs": [],
   "source": []
  }
 ],
 "metadata": {
  "kernelspec": {
   "display_name": "base",
   "language": "python",
   "name": "python3"
  },
  "language_info": {
   "codemirror_mode": {
    "name": "ipython",
    "version": 3
   },
   "file_extension": ".py",
   "mimetype": "text/x-python",
   "name": "python",
   "nbconvert_exporter": "python",
   "pygments_lexer": "ipython3",
   "version": "3.12.5"
  }
 },
 "nbformat": 4,
 "nbformat_minor": 2
}

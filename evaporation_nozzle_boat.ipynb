{
 "cells": [
  {
   "cell_type": "code",
   "execution_count": 1,
   "metadata": {},
   "outputs": [],
   "source": [
    "import numpy as np\n",
    "import matplotlib.pyplot as plt\n",
    "import pyvista as pv\n",
    "import CollisionModule"
   ]
  },
  {
   "cell_type": "code",
   "execution_count": 2,
   "metadata": {},
   "outputs": [],
   "source": [
    "import torch\n",
    "from scipy import interpolate"
   ]
  },
  {
   "cell_type": "code",
   "execution_count": 3,
   "metadata": {},
   "outputs": [],
   "source": [
    "DXsec_Al = np.load('./DXsec_Al_1e8.npy')"
   ]
  },
  {
   "cell_type": "code",
   "execution_count": 4,
   "metadata": {},
   "outputs": [],
   "source": [
    "import DSMC_depoSimulator_generateWithtime"
   ]
  },
  {
   "cell_type": "code",
   "execution_count": 143,
   "metadata": {},
   "outputs": [],
   "source": [
    "# cell model construct\n",
    "\n",
    "#              - end\n",
    "#            -\n",
    "#          -\n",
    "#        -\n",
    "#      -\n",
    "#    - start\n",
    "\n",
    "# direction x, y; start (x, y, z)\n",
    "def slide2D_fractionZ(film, start, end, direction, value):\n",
    "    if direction == 'y':\n",
    "        slit = np.linspace(0, np.abs(end[2] - start[2]), np.abs(end[1] - start[1]))\n",
    "        print('y', slit)\n",
    "        for i in range(np.abs(end[1] - start[1])):\n",
    "            if end[1] > start[1]:\n",
    "                film[start[0]:end[0], start[1] + i, start[2]:start[2] + int(slit[i])] = value\n",
    "                for j in range(np.abs(int(slit[0]-slit[1]))):\n",
    "                    film[start[0]:end[0], start[1] + i,start[2]+int(slit[i])+j] = 1/(value+1)*(slit[0]-slit[1]-j)\n",
    "            elif end[1] < start[1]:\n",
    "                film[start[0]:end[0], start[1] - i, start[2]:start[2] + int(slit[i])] = value\n",
    "                for j in range(np.abs(int(slit[0]-slit[1]))):\n",
    "                    film[start[0]:end[0], start[1] - i,start[2]+int(slit[i])+j] = 1/(value+1)*(slit[0]-slit[1]-j)\n",
    "    elif direction == 'x':\n",
    "        slit = np.linspace(0, np.abs(end[2] - start[2]), np.abs(end[0] - start[0]))\n",
    "        print('x',slit)\n",
    "        for i in range(np.abs(end[0] - start[0])):\n",
    "            print(i)\n",
    "            if end[0] > start[0]:\n",
    "                film[start[0] + i, start[1]:end[1], start[2]:start[2] + int(slit[i])] = value\n",
    "                for j in range(np.abs(int(slit[0]-slit[1]))):\n",
    "                    film[start[0] + i, start[1]:end[1], start[2]+int(slit[i])+j] = 1/(value+1)*(slit[0]-slit[1]-j)\n",
    "            elif end[0] < start[0]:\n",
    "                film[start[0] - i, start[1]:end[1], start[2]:start[2] + int(slit[i])] = value\n",
    "                for j in range(np.abs(int(slit[0]-slit[1]))):\n",
    "                    film[start[0] - i, start[1]:end[1], start[2]+int(slit[i])+j] = 1/(value+1)*(slit[0]-slit[1]-j)\n",
    "    return film"
   ]
  },
  {
   "cell_type": "code",
   "execution_count": 52,
   "metadata": {},
   "outputs": [
    {
     "data": {
      "text/plain": [
       "1.1894736842105265"
      ]
     },
     "execution_count": 52,
     "metadata": {},
     "output_type": "execute_result"
    }
   ],
   "source": [
    "45.2/38"
   ]
  },
  {
   "cell_type": "code",
   "execution_count": 75,
   "metadata": {},
   "outputs": [
    {
     "data": {
      "text/plain": [
       "1.1979166666666667"
      ]
     },
     "execution_count": 75,
     "metadata": {},
     "output_type": "execute_result"
    }
   ],
   "source": [
    "115/96"
   ]
  },
  {
   "cell_type": "code",
   "execution_count": 66,
   "metadata": {},
   "outputs": [
    {
     "data": {
      "text/plain": [
       "0.05442477876106194"
      ]
     },
     "execution_count": 66,
     "metadata": {},
     "output_type": "execute_result"
    }
   ],
   "source": [
    "2.46/45.2"
   ]
  },
  {
   "cell_type": "code",
   "execution_count": 68,
   "metadata": {},
   "outputs": [
    {
     "data": {
      "text/plain": [
       "0.05217391304347826"
      ]
     },
     "execution_count": 68,
     "metadata": {},
     "output_type": "execute_result"
    }
   ],
   "source": [
    "6/115"
   ]
  },
  {
   "cell_type": "code",
   "execution_count": 78,
   "metadata": {},
   "outputs": [
    {
     "data": {
      "text/plain": [
       "0.35526315789473684"
      ]
     },
     "execution_count": 78,
     "metadata": {},
     "output_type": "execute_result"
    }
   ],
   "source": [
    "13.5/38"
   ]
  },
  {
   "cell_type": "code",
   "execution_count": 79,
   "metadata": {},
   "outputs": [
    {
     "data": {
      "text/plain": [
       "0.3541666666666667"
      ]
     },
     "execution_count": 79,
     "metadata": {},
     "output_type": "execute_result"
    }
   ],
   "source": [
    "34/96"
   ]
  },
  {
   "cell_type": "code",
   "execution_count": 82,
   "metadata": {},
   "outputs": [
    {
     "data": {
      "text/plain": [
       "0.44026548672566373"
      ]
     },
     "execution_count": 82,
     "metadata": {},
     "output_type": "execute_result"
    }
   ],
   "source": [
    "(45.2-25.3)/45.2"
   ]
  },
  {
   "cell_type": "code",
   "execution_count": 91,
   "metadata": {},
   "outputs": [
    {
     "data": {
      "text/plain": [
       "0.43478260869565216"
      ]
     },
     "execution_count": 91,
     "metadata": {},
     "output_type": "execute_result"
    }
   ],
   "source": [
    "(115-65)/115"
   ]
  },
  {
   "cell_type": "code",
   "execution_count": 90,
   "metadata": {},
   "outputs": [
    {
     "data": {
      "text/plain": [
       "51"
      ]
     },
     "execution_count": 90,
     "metadata": {},
     "output_type": "execute_result"
    }
   ],
   "source": [
    "115-64"
   ]
  },
  {
   "cell_type": "code",
   "execution_count": 94,
   "metadata": {},
   "outputs": [
    {
     "data": {
      "text/plain": [
       "0.8947368421052632"
      ]
     },
     "execution_count": 94,
     "metadata": {},
     "output_type": "execute_result"
    }
   ],
   "source": [
    "34/38"
   ]
  },
  {
   "cell_type": "code",
   "execution_count": 97,
   "metadata": {},
   "outputs": [
    {
     "data": {
      "text/plain": [
       "0.8958333333333334"
      ]
     },
     "execution_count": 97,
     "metadata": {},
     "output_type": "execute_result"
    }
   ],
   "source": [
    "86/96"
   ]
  },
  {
   "cell_type": "code",
   "execution_count": 100,
   "metadata": {},
   "outputs": [
    {
     "data": {
      "text/plain": [
       "3.176470588235294"
      ]
     },
     "execution_count": 100,
     "metadata": {},
     "output_type": "execute_result"
    }
   ],
   "source": [
    "108/34"
   ]
  },
  {
   "cell_type": "code",
   "execution_count": 107,
   "metadata": {},
   "outputs": [
    {
     "data": {
      "text/plain": [
       "3.1744186046511627"
      ]
     },
     "execution_count": 107,
     "metadata": {},
     "output_type": "execute_result"
    }
   ],
   "source": [
    "273/86"
   ]
  },
  {
   "cell_type": "code",
   "execution_count": 111,
   "metadata": {},
   "outputs": [
    {
     "data": {
      "text/plain": [
       "0.4371583333333333"
      ]
     },
     "execution_count": 111,
     "metadata": {},
     "output_type": "execute_result"
    }
   ],
   "source": [
    "(108-60.7869)/108"
   ]
  },
  {
   "cell_type": "code",
   "execution_count": 120,
   "metadata": {},
   "outputs": [
    {
     "data": {
      "text/plain": [
       "0.4358974358974359"
      ]
     },
     "execution_count": 120,
     "metadata": {},
     "output_type": "execute_result"
    }
   ],
   "source": [
    "(273-154)/273"
   ]
  },
  {
   "cell_type": "code",
   "execution_count": 122,
   "metadata": {},
   "outputs": [
    {
     "data": {
      "text/plain": [
       "0.577433628318584"
      ]
     },
     "execution_count": 122,
     "metadata": {},
     "output_type": "execute_result"
    }
   ],
   "source": [
    "(45.2-19.1)/45.2"
   ]
  },
  {
   "cell_type": "code",
   "execution_count": 128,
   "metadata": {},
   "outputs": [
    {
     "data": {
      "text/plain": [
       "0.5739130434782609"
      ]
     },
     "execution_count": 128,
     "metadata": {},
     "output_type": "execute_result"
    }
   ],
   "source": [
    "(115-49)/115"
   ]
  },
  {
   "cell_type": "code",
   "execution_count": 129,
   "metadata": {},
   "outputs": [
    {
     "data": {
      "text/plain": [
       "66"
      ]
     },
     "execution_count": 129,
     "metadata": {},
     "output_type": "execute_result"
    }
   ],
   "source": [
    "115-49"
   ]
  },
  {
   "cell_type": "code",
   "execution_count": 251,
   "metadata": {},
   "outputs": [],
   "source": [
    "# cell model construct\n",
    "\n",
    "#              - end\n",
    "#            -\n",
    "#          -\n",
    "#        -\n",
    "#      -\n",
    "#    - start\n",
    "\n",
    "# direction x, y; start (x, y, z)\n",
    "def slide2D_fractionX(film, start, end, direction, fraction, value):\n",
    "    if fraction == '+':\n",
    "        if direction == 'y':\n",
    "            slit = np.linspace(0, np.abs(end[0] - start[0]), np.abs(end[1] - start[1]))\n",
    "            fraction = np.abs(int(slit[0]-slit[1]))\n",
    "            print('y', slit)\n",
    "            print('fraction', fraction)\n",
    "            for i in range(np.abs(end[1] - start[1])):\n",
    "                if end[1] > start[1]:\n",
    "                    film[start[0]:start[0] + int(slit[i]), start[1] + i, start[2]:end[2]] = value\n",
    "                    for j in range(fraction):\n",
    "                        film[start[0]+int(slit[i])+j, start[1] + i,start[2]:end[2]] = 1/(fraction+1)*(fraction-j)\n",
    "                elif end[1] < start[1]:\n",
    "                    film[start[0]:start[0] + int(slit[i]), start[1] - i, start[2]:end[2]] = value\n",
    "                    for j in range(fraction):\n",
    "                        film[start[0]+int(slit[i])+j, start[1] - i,start[2]:end[2]] = 1/(fraction+1)*(fraction-j)\n",
    "        elif direction == 'z':\n",
    "            slit = np.linspace(0, np.abs(end[0] - start[0]), np.abs(end[2] - start[2]))\n",
    "            fraction = np.abs(int(slit[0]-slit[1]))\n",
    "            print('z', slit)\n",
    "            print('fraction', fraction)\n",
    "            for i in range(np.abs(end[2] - start[2])):\n",
    "                if end[2] > start[2]:\n",
    "                    film[start[0]:start[0] + int(slit[i]), start[1]:end[1], start[2] + i] = value\n",
    "                    for j in range(fraction):\n",
    "                        film[start[0]+int(slit[i])+j, start[1]:end[1], start[2] + i] = 1/(fraction+1)*(fraction-j)\n",
    "                elif end[2] < start[2]:\n",
    "                    film[start[0]:start[0] + int(slit[i]), start[1]:end[1], start[2] - i] = value\n",
    "                    for j in range(fraction):\n",
    "                        film[start[0]+int(slit[i])+j, start[1]:end[1], start[2] - i] = 1/(fraction+1)*(fraction-j)\n",
    "    elif fraction == '-':\n",
    "        if direction == 'y':\n",
    "            slit = np.linspace(0, np.abs(end[0] - start[0]), np.abs(end[1] - start[1]))\n",
    "            fraction = np.abs(int(slit[0]-slit[1]))\n",
    "            print('y', slit)\n",
    "            print('fraction', fraction)\n",
    "            for i in range(np.abs(end[1] - start[1])):\n",
    "                if end[1] > start[1]:\n",
    "                    film[start[0] - int(slit[i]):start[0], start[1] + i, start[2]:end[2]] = value\n",
    "                    for j in range(fraction):\n",
    "                        film[start[0]-int(slit[i])-j, start[1] + i,start[2]:end[2]] = 1/(fraction+1)*(fraction-j)\n",
    "                elif end[1] < start[1]:\n",
    "                    film[start[0] - int(slit[i]):start[0], start[1] - i, start[2]:end[2]] = value\n",
    "                    for j in range(fraction):\n",
    "                        film[start[0]-int(slit[i])-j, start[1] - i,start[2]:end[2]] = 1/(fraction+1)*(fraction-j)\n",
    "        elif direction == 'z':\n",
    "            slit = np.linspace(0, np.abs(end[0] - start[0]), np.abs(end[2] - start[2]))\n",
    "            fraction = np.abs(int(slit[0]-slit[1]))\n",
    "            print('z', slit)\n",
    "            print('fraction', fraction)\n",
    "            for i in range(np.abs(end[2] - start[2])):\n",
    "                if end[2] > start[2]:\n",
    "                    film[start[0] - int(slit[-i]):start[0], start[1]:end[1], start[2] + i] = value\n",
    "                    for j in range(fraction):\n",
    "                        film[start[0]-int(slit[-i])-j, start[1]:end[1], start[2] + i] = 1/(fraction+1)*(fraction-j)\n",
    "                elif end[2] < start[2]:\n",
    "                    film[start[0] - int(slit[-i]):start[0], start[1]:end[1], start[2] - i] = value\n",
    "                    for j in range(fraction):\n",
    "                        film[start[0]-int(slit[-i])-j, start[1]:end[1], start[2] - i] = 1/(fraction+1)*(fraction-j)\n",
    "    return film"
   ]
  },
  {
   "cell_type": "code",
   "execution_count": 255,
   "metadata": {},
   "outputs": [],
   "source": [
    "def slide2D_fractionZ(film, start, end, direction, fraction, value):\n",
    "    if fraction == '+':\n",
    "        if direction == 'y':\n",
    "            slit = np.linspace(0, np.abs(end[2] - start[2]), np.abs(end[1] - start[1]))\n",
    "            fraction = np.abs(int(slit[0]-slit[1]))\n",
    "            print('y', slit)\n",
    "            print('fraction', fraction)\n",
    "            for i in range(np.abs(end[1] - start[1])):\n",
    "                if end[1] > start[1]:\n",
    "                    film[start[0]:end[0], start[1] + i, start[2]:start[2] + int(slit[i])] = value\n",
    "                    for j in range(fraction):\n",
    "                        film[start[0]:end[0], start[1] + i,start[2]+int(slit[i])+j] = 1/(fraction+1)*(fraction-j)\n",
    "                elif end[1] < start[1]:\n",
    "                    film[start[0]:end[0], start[1] - i, start[2]:start[2] + int(slit[i])] = value\n",
    "                    for j in range(fraction):\n",
    "                        film[start[0]:end[0], start[1] - i,start[2]+int(slit[i])+j] = 1/(fraction+1)*(fraction-j)\n",
    "        elif direction == 'x':\n",
    "            slit = np.linspace(0, np.abs(end[2] - start[2]), np.abs(end[0] - start[0]))\n",
    "            fraction = np.abs(int(slit[0]-slit[1]))\n",
    "            print('x', slit)\n",
    "            print('fraction', fraction)\n",
    "            for i in range(np.abs(end[2] - start[2])):\n",
    "                if end[0] > start[0]:\n",
    "                    film[start[0] + i, start[1]:end[1], start[2]:start[2] + int(slit[i])] = value\n",
    "                    for j in range(fraction):\n",
    "                        film[start[0] + i, start[1]:end[1], start[2]+int(slit[i])+j] = 1/(fraction+1)*(fraction-j)\n",
    "                elif end[0] < start[0]:\n",
    "                    film[start[0] - i, start[1]:end[1], start[2]:start[2] + int(slit[i])] = value\n",
    "                    for j in range(fraction):\n",
    "                        film[start[0] - i, start[1]:end[1], start[2]+int(slit[i])+j] = 1/(fraction+1)*(fraction-j)\n",
    "    elif fraction == '-':\n",
    "        if direction == 'y':\n",
    "            slit = np.linspace(0, np.abs(end[2] - start[2]), np.abs(end[1] - start[1]))\n",
    "            fraction = np.abs(int(slit[0]-slit[1]))\n",
    "            print('y', slit)\n",
    "            print('fraction', fraction)\n",
    "            for i in range(np.abs(end[1] - start[1])):\n",
    "                if end[1] > start[1]:\n",
    "                    film[start[0]:end[0], start[1] + i, start[2] - int(slit[i]):start[2]] = value\n",
    "                    for j in range(fraction):\n",
    "                        film[start[0]:end[0], start[1] + i,start[2]-int(slit[i])-j] = 1/(fraction+1)*(fraction-j)\n",
    "                elif end[1] < start[1]:\n",
    "                    film[start[0]:end[0], start[1] - i, start[2] - int(slit[i]):start[2]] = value\n",
    "                    for j in range(fraction):\n",
    "                        film[start[0]:end[0], start[1] - i,start[2]-int(slit[i])-j] = 1/(fraction+1)*(fraction-j)\n",
    "        elif direction == 'x':\n",
    "            slit = np.linspace(0, np.abs(end[2] - start[2]), np.abs(end[0] - start[0]))\n",
    "            fraction = np.abs(int(slit[0]-slit[1]))\n",
    "            print('x', slit)\n",
    "            print('fraction', fraction)\n",
    "            for i in range(np.abs(end[2] - start[2])):\n",
    "                if end[0] > start[0]:\n",
    "                    film[start[0] + i, start[1]:end[1], start[2] - int(slit[i]):start[2]] = value\n",
    "                    for j in range(fraction):\n",
    "                        film[start[0] + i, start[1]:end[1], start[2] - int(slit[i]):start[2]] = 1/(fraction+1)*(fraction-j)\n",
    "                elif end[0] < start[0]:\n",
    "                    film[start[0] - i, start[1]:end[1], start[2] - int(slit[i]):start[2]] = value\n",
    "                    for j in range(fraction):\n",
    "                        film[start[0] - i, start[1]:end[1], start[2] - int(slit[i]):start[2]] = 1/(fraction+1)*(fraction-j)\n",
    "    return film"
   ]
  },
  {
   "cell_type": "code",
   "execution_count": 504,
   "metadata": {},
   "outputs": [],
   "source": [
    "def slide3D_fractionZ(film, start, end, direction, fraction, value):\n",
    "    if fraction == '+':\n",
    "        if direction == 'y':\n",
    "            slit = np.linspace(0, np.abs(end[2] - start[2]), np.abs(end[1] - start[1]))\n",
    "            fraction = np.abs(int(slit[0]-slit[1]))\n",
    "            # print('y', slit)\n",
    "            # print('fraction', fraction)\n",
    "            for i in range(np.abs(end[1] - start[1])):\n",
    "                if end[1] > start[1]:\n",
    "                    film[start[0], start[1] + i, start[2]:start[2] + int(slit[i])] = value\n",
    "                    for j in range(fraction):\n",
    "                        film[start[0], start[1] + i,start[2]+int(slit[i])+j] = 1/(fraction+1)*(fraction-j)\n",
    "                elif end[1] < start[1]:\n",
    "                    film[start[0], start[1] - i, start[2]:start[2] + int(slit[i])] = value\n",
    "                    for j in range(fraction):\n",
    "                        film[start[0], start[1] - i,start[2]+int(slit[i])+j] = 1/(fraction+1)*(fraction-j)\n",
    "        elif direction == 'x':\n",
    "            slit = np.linspace(0, np.abs(end[2] - start[2]), np.abs(end[0] - start[0]))\n",
    "            fraction = np.abs(int(slit[0]-slit[1]))\n",
    "            # print('x', slit)\n",
    "            # print('fraction', fraction)\n",
    "            for i in range(np.abs(end[2] - start[2])):\n",
    "                if end[0] > start[0]:\n",
    "                    film[start[0] + i, start[1]:end[1], start[2]:start[2] + int(slit[i])] = value\n",
    "                    for j in range(fraction):\n",
    "                        film[start[0] + i, start[1]:end[1], start[2]+int(slit[i])+j] = 1/(fraction+1)*(fraction-j)\n",
    "                elif end[0] < start[0]:\n",
    "                    film[start[0] - i, start[1]:end[1], start[2]:start[2] + int(slit[i])] = value\n",
    "                    for j in range(fraction):\n",
    "                        film[start[0] - i, start[1]:end[1], start[2]+int(slit[i])+j] = 1/(fraction+1)*(fraction-j)\n",
    "    elif fraction == '-':\n",
    "        if direction == 'y':\n",
    "            slit = np.linspace(0, np.abs(end[2] - start[2]), np.abs(end[1] - start[1]))\n",
    "            fraction = np.abs(int(slit[0]-slit[1]))\n",
    "            print('y', slit)\n",
    "            print('fraction', fraction)\n",
    "            for i in range(np.abs(end[1] - start[1])):\n",
    "                if end[1] > start[1]:\n",
    "                    film[start[0]:end[0], start[1] + i, start[2] - int(slit[i]):start[2]] = value\n",
    "                    for j in range(fraction):\n",
    "                        film[start[0]:end[0], start[1] + i,start[2]-int(slit[i])-j] = 1/(fraction+1)*(fraction-j)\n",
    "                elif end[1] < start[1]:\n",
    "                    film[start[0]:end[0], start[1] - i, start[2] - int(slit[i]):start[2]] = value\n",
    "                    for j in range(fraction):\n",
    "                        film[start[0]:end[0], start[1] - i,start[2]-int(slit[i])-j] = 1/(fraction+1)*(fraction-j)\n",
    "        elif direction == 'x':\n",
    "            slit = np.linspace(0, np.abs(end[2] - start[2]), np.abs(end[0] - start[0]))\n",
    "            fraction = np.abs(int(slit[0]-slit[1]))\n",
    "            print('x', slit)\n",
    "            print('fraction', fraction)\n",
    "            for i in range(np.abs(end[2] - start[2])):\n",
    "                if end[0] > start[0]:\n",
    "                    film[start[0] + i, start[1]:end[1], start[2] - int(slit[i]):start[2]] = value\n",
    "                    for j in range(fraction):\n",
    "                        film[start[0] + i, start[1]:end[1], start[2] - int(slit[i]):start[2]] = 1/(fraction+1)*(fraction-j)\n",
    "                elif end[0] < start[0]:\n",
    "                    film[start[0] - i, start[1]:end[1], start[2] - int(slit[i]):start[2]] = value\n",
    "                    for j in range(fraction):\n",
    "                        film[start[0] - i, start[1]:end[1], start[2] - int(slit[i]):start[2]] = 1/(fraction+1)*(fraction-j)\n",
    "    return film"
   ]
  },
  {
   "cell_type": "code",
   "execution_count": 241,
   "metadata": {},
   "outputs": [
    {
     "name": "stdout",
     "output_type": "stream",
     "text": [
      "z [  0.           3.06557377   6.13114754   9.19672131  12.26229508\n",
      "  15.32786885  18.39344262  21.45901639  24.52459016  27.59016393\n",
      "  30.6557377   33.72131148  36.78688525  39.85245902  42.91803279\n",
      "  45.98360656  49.04918033  52.1147541   55.18032787  58.24590164\n",
      "  61.31147541  64.37704918  67.44262295  70.50819672  73.57377049\n",
      "  76.63934426  79.70491803  82.7704918   85.83606557  88.90163934\n",
      "  91.96721311  95.03278689  98.09836066 101.16393443 104.2295082\n",
      " 107.29508197 110.36065574 113.42622951 116.49180328 119.55737705\n",
      " 122.62295082 125.68852459 128.75409836 131.81967213 134.8852459\n",
      " 137.95081967 141.01639344 144.08196721 147.14754098 150.21311475\n",
      " 153.27868852 156.3442623  159.40983607 162.47540984 165.54098361\n",
      " 168.60655738 171.67213115 174.73770492 177.80327869 180.86885246\n",
      " 183.93442623 187.        ]\n"
     ]
    }
   ],
   "source": [
    "film = np.zeros((277, 100, 120))\n",
    "\n",
    "bottom = 5\n",
    "film[:, :, 0:bottom] = 10 # bottom\n",
    "\n",
    "side_wall = 2\n",
    "film[:, :side_wall, :] = 10 # left\n",
    "film[:, -side_wall:, :] = 10 # right\n",
    "\n",
    "\n",
    "# #dfsdfsdfasdf\n",
    "# height = 80\n",
    "# left_side = 75\n",
    "# right_side = 75\n",
    "\n",
    "# film = slide2D_fractionZ(film=film, start=[2, 67, 5], end=[88, 98, 56], direction='y', value=10)\n",
    "# film = slide2D_fractionZ(film=film, start=[2, 32, 5], end=[88, 1, 56], direction='y', value=10)\n",
    "\n",
    "film = slide2D_fractionX(film=film, start=[275, 2, 4], end=[88, 98, 66], direction='z', fraction='-', value=10)"
   ]
  },
  {
   "cell_type": "code",
   "execution_count": 252,
   "metadata": {},
   "outputs": [
    {
     "name": "stdout",
     "output_type": "stream",
     "text": [
      "z [ 0.          3.88888889  7.77777778 11.66666667 15.55555556 19.44444444\n",
      " 23.33333333 27.22222222 31.11111111 35.        ]\n",
      "fraction 3\n"
     ]
    }
   ],
   "source": [
    "film = np.zeros((40, 20, 20))\n",
    "\n",
    "film = slide2D_fractionX(film=film, start=[0, 0, 10], end=[35, 20, 0], direction='z', fraction='+', value=10)"
   ]
  },
  {
   "cell_type": "code",
   "execution_count": 365,
   "metadata": {},
   "outputs": [
    {
     "data": {
      "text/plain": [
       "12.25"
      ]
     },
     "execution_count": 365,
     "metadata": {},
     "output_type": "execute_result"
    }
   ],
   "source": [
    "(38-13.5)/2"
   ]
  },
  {
   "cell_type": "code",
   "execution_count": 366,
   "metadata": {},
   "outputs": [
    {
     "data": {
      "text/plain": [
       "19.900000000000002"
      ]
     },
     "execution_count": 366,
     "metadata": {},
     "output_type": "execute_result"
    }
   ],
   "source": [
    "45.2-25.3"
   ]
  },
  {
   "cell_type": "code",
   "execution_count": 367,
   "metadata": {},
   "outputs": [
    {
     "data": {
      "text/plain": [
       "1.6244897959183675"
      ]
     },
     "execution_count": 367,
     "metadata": {},
     "output_type": "execute_result"
    }
   ],
   "source": [
    "(45.2-25.3)/((38-13.5)/2)"
   ]
  },
  {
   "cell_type": "code",
   "execution_count": 375,
   "metadata": {},
   "outputs": [
    {
     "name": "stdout",
     "output_type": "stream",
     "text": [
      "slitZ [37.         35.94736842 34.89473684 33.84210526 32.78947368 31.73684211\n",
      " 30.68421053 29.63157895 28.57894737 27.52631579 26.47368421 25.42105263\n",
      " 24.36842105 23.31578947 22.26315789 21.21052632 20.15789474 19.10526316\n",
      " 18.05263158 17.        ]\n",
      "slitY [15.         14.47368421 13.94736842 13.42105263 12.89473684 12.36842105\n",
      " 11.84210526 11.31578947 10.78947368 10.26315789  9.73684211  9.21052632\n",
      "  8.68421053  8.15789474  7.63157895  7.10526316  6.57894737  6.05263158\n",
      "  5.52631579  5.        ]\n",
      "y [ 0.          2.64285714  5.28571429  7.92857143 10.57142857 13.21428571\n",
      " 15.85714286 18.5        21.14285714 23.78571429 26.42857143 29.07142857\n",
      " 31.71428571 34.35714286 37.        ]\n",
      "fraction 2\n",
      "y [ 0.          2.69230769  5.38461538  8.07692308 10.76923077 13.46153846\n",
      " 16.15384615 18.84615385 21.53846154 24.23076923 26.92307692 29.61538462\n",
      " 32.30769231 35.        ]\n",
      "fraction 2\n",
      "y [ 0.          2.83333333  5.66666667  8.5        11.33333333 14.16666667\n",
      " 17.         19.83333333 22.66666667 25.5        28.33333333 31.16666667\n",
      " 34.        ]\n",
      "fraction 2\n",
      "y [ 0.    2.75  5.5   8.25 11.   13.75 16.5  19.25 22.   24.75 27.5  30.25\n",
      " 33.  ]\n",
      "fraction 2\n",
      "y [ 0.          2.90909091  5.81818182  8.72727273 11.63636364 14.54545455\n",
      " 17.45454545 20.36363636 23.27272727 26.18181818 29.09090909 32.        ]\n",
      "fraction 2\n",
      "y [ 0.          2.81818182  5.63636364  8.45454545 11.27272727 14.09090909\n",
      " 16.90909091 19.72727273 22.54545455 25.36363636 28.18181818 31.        ]\n",
      "fraction 2\n",
      "y [ 0.  3.  6.  9. 12. 15. 18. 21. 24. 27. 30.]\n",
      "fraction 3\n",
      "y [ 0.   2.9  5.8  8.7 11.6 14.5 17.4 20.3 23.2 26.1 29. ]\n",
      "fraction 2\n",
      "y [ 0.          3.11111111  6.22222222  9.33333333 12.44444444 15.55555556\n",
      " 18.66666667 21.77777778 24.88888889 28.        ]\n",
      "fraction 3\n",
      "y [ 0.  3.  6.  9. 12. 15. 18. 21. 24. 27.]\n",
      "fraction 3\n",
      "y [ 0.    3.25  6.5   9.75 13.   16.25 19.5  22.75 26.  ]\n",
      "fraction 3\n",
      "y [ 0.     3.125  6.25   9.375 12.5   15.625 18.75  21.875 25.   ]\n",
      "fraction 3\n",
      "y [ 0.          3.42857143  6.85714286 10.28571429 13.71428571 17.14285714\n",
      " 20.57142857 24.        ]\n",
      "fraction 3\n",
      "y [ 0.          3.28571429  6.57142857  9.85714286 13.14285714 16.42857143\n",
      " 19.71428571 23.        ]\n",
      "fraction 3\n",
      "y [ 0.          3.66666667  7.33333333 11.         14.66666667 18.33333333\n",
      " 22.        ]\n",
      "fraction 3\n",
      "y [ 0.   3.5  7.  10.5 14.  17.5 21. ]\n",
      "fraction 3\n",
      "y [ 0.  4.  8. 12. 16. 20.]\n",
      "fraction 4\n",
      "y [ 0.   3.8  7.6 11.4 15.2 19. ]\n",
      "fraction 3\n",
      "y [ 0.   4.5  9.  13.5 18. ]\n",
      "fraction 4\n",
      "y [ 0.    4.25  8.5  12.75 17.  ]\n",
      "fraction 4\n"
     ]
    }
   ],
   "source": [
    "film = np.zeros((20, 20, 40))\n",
    "\n",
    "paraStart = np.array([20, 10, 0])\n",
    "paraEnd = np.array([20, 10, 20])\n",
    "\n",
    "start = np.array([0, 15, 0])\n",
    "end = np.array([0, 0, 37])\n",
    "\n",
    "slitZ = np.linspace(end[2],  end[2] - paraEnd[2], paraEnd[0]-end[0])\n",
    "slitY = np.linspace(start[1],  start[1] - paraStart[1], paraStart[0]-start[0])\n",
    "\n",
    "print('slitZ',slitZ)\n",
    "print('slitY',slitY)\n",
    "\n",
    "for i in range(slitZ.shape[0]):\n",
    "    film = slide3D_fractionZ(film=film, start=np.array([i, int(slitY[i]), 0]), end=np.array([i, 0, int(slitZ[i])]), direction='y', fraction='+', value=10)\n",
    "# film = slide3D_fractionZ(film=film, start=[1, 10, 0], end=[20, 0, 35],paraStart=0, paraEnd=0, direction='y', fraction='+', value=10)\n",
    "# film = slide3D_fractionZ(film=film, start=[2, 9, 0], end=[20, 0, 33],paraStart=0, paraEnd=0, direction='y', fraction='+', value=10)\n",
    "# film = slide3D_fractionZ(film=film, start=[3, 8, 0], end=[20, 0, 31],paraStart=0, paraEnd=0, direction='y', fraction='+', value=10)\n",
    "# film = slide3D_fractionZ(film=film, start=[4, 7, 0], end=[20, 0, 29],paraStart=0, paraEnd=0, direction='y', fraction='+', value=10)\n",
    "# film = slide3D_fractionZ(film=film, start=[5, 6, 0], end=[20, 0, 27],paraStart=0, paraEnd=0, direction='y', fraction='+', value=10)\n",
    "# film = slide3D_fractionZ(film=film, start=[6, 5, 0], end=[20, 0, 25],paraStart=0, paraEnd=0, direction='y', fraction='+', value=10)"
   ]
  },
  {
   "cell_type": "code",
   "execution_count": 376,
   "metadata": {},
   "outputs": [
    {
     "name": "stderr",
     "output_type": "stream",
     "text": [
      "c:\\Users\\urcs049\\AppData\\Local\\anaconda3\\Lib\\site-packages\\pyvista\\core\\utilities\\points.py:55: UserWarning: Points is not a float type. This can cause issues when transforming or applying filters. Casting to ``np.float32``. Disable this by passing ``force_float=False``.\n",
      "  warnings.warn(\n",
      "c:\\Users\\urcs049\\AppData\\Local\\anaconda3\\Lib\\site-packages\\pyvista\\core\\filters\\data_set.py:2386: UserWarning: No vector-like data to use for orient. orient will be set to False.\n",
      "  warnings.warn(\"No vector-like data to use for orient. orient will be set to False.\")\n"
     ]
    },
    {
     "data": {
      "application/vnd.jupyter.widget-view+json": {
       "model_id": "41df4c2ad07f4dc786157aa47f84545e",
       "version_major": 2,
       "version_minor": 0
      },
      "text/plain": [
       "Widget(value='<iframe src=\"http://localhost:53499/index.html?ui=P_0x1d5125f95b0_103&reconnect=auto\" class=\"pyv…"
      ]
     },
     "metadata": {},
     "output_type": "display_data"
    }
   ],
   "source": [
    "depo1 = torch.Tensor(np.logical_and(film[:, :, :] !=0, film[:, :, :] < 10)).to_sparse()\n",
    "depo1 = depo1.indices().numpy().T\n",
    "\n",
    "substrute = torch.Tensor(film[:, :, :]==10).to_sparse()\n",
    "substrute = substrute.indices().numpy().T\n",
    "depomesh = pv.PolyData(depo1)\n",
    "depomesh[\"radius\"] = np.ones(depo1.shape[0])*0.5\n",
    "geom = pv.Box()\n",
    "\n",
    "submesh = pv.PolyData(substrute)\n",
    "submesh[\"radius\"] = np.ones(substrute.shape[0])*0.5\n",
    "\n",
    "# Progress bar is a new feature on master branch\n",
    "depoglyphed = depomesh.glyph(scale=\"radius\", geom=geom) # progress_bar=True)\n",
    "subglyphed = submesh.glyph(scale=\"radius\", geom=geom) # progress_bar=True)\n",
    "\n",
    "p = pv.Plotter()\n",
    "p.add_mesh(depoglyphed, color='cyan')\n",
    "p.add_mesh(subglyphed, color='dimgray')\n",
    "p.enable_eye_dome_lighting()\n",
    "p.show_grid()\n",
    "p.show()"
   ]
  },
  {
   "cell_type": "code",
   "execution_count": 377,
   "metadata": {},
   "outputs": [
    {
     "data": {
      "text/plain": [
       "array([10.        , 10.        , 10.        , 10.        , 10.        ,\n",
       "       10.        , 10.        , 10.        , 10.        , 10.        ,\n",
       "       10.        , 10.        , 10.        , 10.        , 10.        ,\n",
       "       10.        , 10.        , 10.        , 10.        , 10.        ,\n",
       "       10.        , 10.        , 10.        , 10.        , 10.        ,\n",
       "       10.        , 10.        , 10.        ,  0.66666667,  0.33333333,\n",
       "        0.        ,  0.        ,  0.        ,  0.        ,  0.        ,\n",
       "        0.        ,  0.        ,  0.        ,  0.        ,  0.        ])"
      ]
     },
     "execution_count": 377,
     "metadata": {},
     "output_type": "execute_result"
    }
   ],
   "source": [
    "film[5, 2, :]"
   ]
  },
  {
   "cell_type": "code",
   "execution_count": 284,
   "metadata": {},
   "outputs": [
    {
     "data": {
      "text/plain": [
       "0.23086812770184548"
      ]
     },
     "execution_count": 284,
     "metadata": {},
     "output_type": "execute_result"
    }
   ],
   "source": [
    "(19-8.1)/(108-60.7869)"
   ]
  },
  {
   "cell_type": "code",
   "execution_count": 285,
   "metadata": {},
   "outputs": [
    {
     "data": {
      "text/plain": [
       "0.4371583333333333"
      ]
     },
     "execution_count": 285,
     "metadata": {},
     "output_type": "execute_result"
    }
   ],
   "source": [
    "(108-60.7869)/108"
   ]
  },
  {
   "cell_type": "code",
   "execution_count": 289,
   "metadata": {},
   "outputs": [
    {
     "data": {
      "text/plain": [
       "0.43956043956043955"
      ]
     },
     "execution_count": 289,
     "metadata": {},
     "output_type": "execute_result"
    }
   ],
   "source": [
    "(273-153)/273"
   ]
  },
  {
   "cell_type": "code",
   "execution_count": 293,
   "metadata": {},
   "outputs": [
    {
     "data": {
      "text/plain": [
       "0.23333333333333334"
      ]
     },
     "execution_count": 293,
     "metadata": {},
     "output_type": "execute_result"
    }
   ],
   "source": [
    "(48-20)/(273-153)"
   ]
  },
  {
   "cell_type": "code",
   "execution_count": 302,
   "metadata": {},
   "outputs": [
    {
     "data": {
      "text/plain": [
       "0.35840707964601765"
      ]
     },
     "execution_count": 302,
     "metadata": {},
     "output_type": "execute_result"
    }
   ],
   "source": [
    "16.2/45.2"
   ]
  },
  {
   "cell_type": "code",
   "execution_count": 307,
   "metadata": {},
   "outputs": [
    {
     "data": {
      "text/plain": [
       "0.3565217391304348"
      ]
     },
     "execution_count": 307,
     "metadata": {},
     "output_type": "execute_result"
    }
   ],
   "source": [
    "41/115"
   ]
  },
  {
   "cell_type": "code",
   "execution_count": 308,
   "metadata": {},
   "outputs": [
    {
     "data": {
      "text/plain": [
       "79"
      ]
     },
     "execution_count": 308,
     "metadata": {},
     "output_type": "execute_result"
    }
   ],
   "source": [
    "120-41"
   ]
  },
  {
   "cell_type": "code",
   "execution_count": 309,
   "metadata": {},
   "outputs": [
    {
     "data": {
      "text/plain": [
       "1.4727272727272727"
      ]
     },
     "execution_count": 309,
     "metadata": {},
     "output_type": "execute_result"
    }
   ],
   "source": [
    "8.1/5.5"
   ]
  },
  {
   "cell_type": "code",
   "execution_count": 315,
   "metadata": {},
   "outputs": [
    {
     "data": {
      "text/plain": [
       "1.5384615384615385"
      ]
     },
     "execution_count": 315,
     "metadata": {},
     "output_type": "execute_result"
    }
   ],
   "source": [
    "20/13"
   ]
  },
  {
   "cell_type": "code",
   "execution_count": 378,
   "metadata": {},
   "outputs": [
    {
     "data": {
      "text/plain": [
       "0.4218075221238938"
      ]
     },
     "execution_count": 378,
     "metadata": {},
     "output_type": "execute_result"
    }
   ],
   "source": [
    "19.0657/45.2"
   ]
  },
  {
   "cell_type": "code",
   "execution_count": 448,
   "metadata": {},
   "outputs": [
    {
     "data": {
      "text/plain": [
       "0.4260869565217391"
      ]
     },
     "execution_count": 448,
     "metadata": {},
     "output_type": "execute_result"
    }
   ],
   "source": [
    "(115-66)/115"
   ]
  },
  {
   "cell_type": "code",
   "execution_count": 387,
   "metadata": {},
   "outputs": [
    {
     "data": {
      "text/plain": [
       "0.4444314159292036"
      ]
     },
     "execution_count": 387,
     "metadata": {},
     "output_type": "execute_result"
    }
   ],
   "source": [
    "(45.2-25.1117)/45.2"
   ]
  },
  {
   "cell_type": "code",
   "execution_count": 391,
   "metadata": {},
   "outputs": [
    {
     "data": {
      "text/plain": [
       "0.4434782608695652"
      ]
     },
     "execution_count": 391,
     "metadata": {},
     "output_type": "execute_result"
    }
   ],
   "source": [
    "(115-64)/115"
   ]
  },
  {
   "cell_type": "code",
   "execution_count": 475,
   "metadata": {},
   "outputs": [
    {
     "data": {
      "text/plain": [
       "51"
      ]
     },
     "execution_count": 475,
     "metadata": {},
     "output_type": "execute_result"
    }
   ],
   "source": [
    "115-64"
   ]
  },
  {
   "cell_type": "code",
   "execution_count": 392,
   "metadata": {},
   "outputs": [
    {
     "data": {
      "text/plain": [
       "0.6647789473684211"
      ]
     },
     "execution_count": 392,
     "metadata": {},
     "output_type": "execute_result"
    }
   ],
   "source": [
    "(19 - 6.3692)/19"
   ]
  },
  {
   "cell_type": "code",
   "execution_count": 402,
   "metadata": {},
   "outputs": [
    {
     "data": {
      "text/plain": [
       "0.66"
      ]
     },
     "execution_count": 402,
     "metadata": {},
     "output_type": "execute_result"
    }
   ],
   "source": [
    "(50 - 17)/50"
   ]
  },
  {
   "cell_type": "code",
   "execution_count": 403,
   "metadata": {},
   "outputs": [
    {
     "data": {
      "text/plain": [
       "33"
      ]
     },
     "execution_count": 403,
     "metadata": {},
     "output_type": "execute_result"
    }
   ],
   "source": [
    "50 - 17"
   ]
  },
  {
   "cell_type": "code",
   "execution_count": 404,
   "metadata": {},
   "outputs": [
    {
     "data": {
      "text/plain": [
       "0.8477157894736842"
      ]
     },
     "execution_count": 404,
     "metadata": {},
     "output_type": "execute_result"
    }
   ],
   "source": [
    "(19 - 2.8934)/19"
   ]
  },
  {
   "cell_type": "code",
   "execution_count": 409,
   "metadata": {},
   "outputs": [
    {
     "data": {
      "text/plain": [
       "0.84"
      ]
     },
     "execution_count": 409,
     "metadata": {},
     "output_type": "execute_result"
    }
   ],
   "source": [
    "(50 - 8)/50"
   ]
  },
  {
   "cell_type": "code",
   "execution_count": 411,
   "metadata": {},
   "outputs": [
    {
     "data": {
      "text/plain": [
       "0.8421796296296296"
      ]
     },
     "execution_count": 411,
     "metadata": {},
     "output_type": "execute_result"
    }
   ],
   "source": [
    "(108 - 17.0446)/108"
   ]
  },
  {
   "cell_type": "code",
   "execution_count": 419,
   "metadata": {},
   "outputs": [
    {
     "data": {
      "text/plain": [
       "0.8424908424908425"
      ]
     },
     "execution_count": 419,
     "metadata": {},
     "output_type": "execute_result"
    }
   ],
   "source": [
    "(273 - 43)/273"
   ]
  },
  {
   "cell_type": "code",
   "execution_count": 421,
   "metadata": {},
   "outputs": [
    {
     "data": {
      "text/plain": [
       "232"
      ]
     },
     "execution_count": 421,
     "metadata": {},
     "output_type": "execute_result"
    }
   ],
   "source": [
    "275 - 43"
   ]
  },
  {
   "cell_type": "code",
   "execution_count": 425,
   "metadata": {},
   "outputs": [
    {
     "data": {
      "text/plain": [
       "17"
      ]
     },
     "execution_count": 425,
     "metadata": {},
     "output_type": "execute_result"
    }
   ],
   "source": [
    "50-33"
   ]
  },
  {
   "cell_type": "code",
   "execution_count": 476,
   "metadata": {},
   "outputs": [
    {
     "data": {
      "text/plain": [
       "0.577433628318584"
      ]
     },
     "execution_count": 476,
     "metadata": {},
     "output_type": "execute_result"
    }
   ],
   "source": [
    "(45.2 - 19.1)/45.2"
   ]
  },
  {
   "cell_type": "code",
   "execution_count": 480,
   "metadata": {},
   "outputs": [
    {
     "data": {
      "text/plain": [
       "0.5739130434782609"
      ]
     },
     "execution_count": 480,
     "metadata": {},
     "output_type": "execute_result"
    }
   ],
   "source": [
    "(115 - 49)/115"
   ]
  },
  {
   "cell_type": "code",
   "execution_count": 481,
   "metadata": {},
   "outputs": [
    {
     "data": {
      "text/plain": [
       "66"
      ]
     },
     "execution_count": 481,
     "metadata": {},
     "output_type": "execute_result"
    }
   ],
   "source": [
    "115 - 49"
   ]
  },
  {
   "cell_type": "code",
   "execution_count": 482,
   "metadata": {},
   "outputs": [
    {
     "data": {
      "text/plain": [
       "0.6194690265486726"
      ]
     },
     "execution_count": 482,
     "metadata": {},
     "output_type": "execute_result"
    }
   ],
   "source": [
    "(45.2 - 17.2)/45.2"
   ]
  },
  {
   "cell_type": "code",
   "execution_count": 490,
   "metadata": {},
   "outputs": [
    {
     "data": {
      "text/plain": [
       "0.6173913043478261"
      ]
     },
     "execution_count": 490,
     "metadata": {},
     "output_type": "execute_result"
    }
   ],
   "source": [
    "(115 - 44)/115"
   ]
  },
  {
   "cell_type": "code",
   "execution_count": 491,
   "metadata": {},
   "outputs": [
    {
     "data": {
      "text/plain": [
       "71"
      ]
     },
     "execution_count": 491,
     "metadata": {},
     "output_type": "execute_result"
    }
   ],
   "source": [
    "115 - 44"
   ]
  },
  {
   "cell_type": "code",
   "execution_count": 492,
   "metadata": {},
   "outputs": [
    {
     "data": {
      "text/plain": [
       "0.8635789473684211"
      ]
     },
     "execution_count": 492,
     "metadata": {},
     "output_type": "execute_result"
    }
   ],
   "source": [
    "(19-2.592)/19"
   ]
  },
  {
   "cell_type": "code",
   "execution_count": 517,
   "metadata": {},
   "outputs": [
    {
     "data": {
      "text/plain": [
       "0.86"
      ]
     },
     "execution_count": 517,
     "metadata": {},
     "output_type": "execute_result"
    }
   ],
   "source": [
    "(50 - 7)/50"
   ]
  },
  {
   "cell_type": "code",
   "execution_count": 496,
   "metadata": {},
   "outputs": [
    {
     "data": {
      "text/plain": [
       "0.9083157894736842"
      ]
     },
     "execution_count": 496,
     "metadata": {},
     "output_type": "execute_result"
    }
   ],
   "source": [
    "(19-1.742)/19"
   ]
  },
  {
   "cell_type": "code",
   "execution_count": 519,
   "metadata": {},
   "outputs": [
    {
     "data": {
      "text/plain": [
       "0.9"
      ]
     },
     "execution_count": 519,
     "metadata": {},
     "output_type": "execute_result"
    }
   ],
   "source": [
    "(50 - 5)/50"
   ]
  },
  {
   "cell_type": "code",
   "execution_count": 554,
   "metadata": {},
   "outputs": [
    {
     "name": "stdout",
     "output_type": "stream",
     "text": [
      "y [ 0.   1.7  3.4  5.1  6.8  8.5 10.2 11.9 13.6 15.3 17.  18.7 20.4 22.1\n",
      " 23.8 25.5 27.2 28.9 30.6 32.3 34.  35.7 37.4 39.1 40.8 42.5 44.2 45.9\n",
      " 47.6 49.3 51. ]\n",
      "fraction 1\n",
      "y [ 0.   1.7  3.4  5.1  6.8  8.5 10.2 11.9 13.6 15.3 17.  18.7 20.4 22.1\n",
      " 23.8 25.5 27.2 28.9 30.6 32.3 34.  35.7 37.4 39.1 40.8 42.5 44.2 45.9\n",
      " 47.6 49.3 51. ]\n",
      "fraction 1\n",
      "y [  0.           4.51851852   9.03703704  13.55555556  18.07407407\n",
      "  22.59259259  27.11111111  31.62962963  36.14814815  40.66666667\n",
      "  45.18518519  49.7037037   54.22222222  58.74074074  63.25925926\n",
      "  67.77777778  72.2962963   76.81481481  81.33333333  85.85185185\n",
      "  90.37037037  94.88888889  99.40740741 103.92592593 108.44444444\n",
      " 112.96296296 117.48148148 122.        ]\n",
      "fraction 4\n",
      "y [  0.           4.51851852   9.03703704  13.55555556  18.07407407\n",
      "  22.59259259  27.11111111  31.62962963  36.14814815  40.66666667\n",
      "  45.18518519  49.7037037   54.22222222  58.74074074  63.25925926\n",
      "  67.77777778  72.2962963   76.81481481  81.33333333  85.85185185\n",
      "  90.37037037  94.88888889  99.40740741 103.92592593 108.44444444\n",
      " 112.96296296 117.48148148 122.        ]\n",
      "fraction 4\n",
      "y [  0.           5.05405405  10.10810811  15.16216216  20.21621622\n",
      "  25.27027027  30.32432432  35.37837838  40.43243243  45.48648649\n",
      "  50.54054054  55.59459459  60.64864865  65.7027027   70.75675676\n",
      "  75.81081081  80.86486486  85.91891892  90.97297297  96.02702703\n",
      " 101.08108108 106.13513514 111.18918919 116.24324324 121.2972973\n",
      " 126.35135135 131.40540541 136.45945946 141.51351351 146.56756757\n",
      " 151.62162162 156.67567568 161.72972973 166.78378378 171.83783784\n",
      " 176.89189189 181.94594595 187.        ]\n",
      "fraction 5\n",
      "y [  0.           5.05405405  10.10810811  15.16216216  20.21621622\n",
      "  25.27027027  30.32432432  35.37837838  40.43243243  45.48648649\n",
      "  50.54054054  55.59459459  60.64864865  65.7027027   70.75675676\n",
      "  75.81081081  80.86486486  85.91891892  90.97297297  96.02702703\n",
      " 101.08108108 106.13513514 111.18918919 116.24324324 121.2972973\n",
      " 126.35135135 131.40540541 136.45945946 141.51351351 146.56756757\n",
      " 151.62162162 156.67567568 161.72972973 166.78378378 171.83783784\n",
      " 176.89189189 181.94594595 187.        ]\n",
      "fraction 5\n",
      "z [  0.           3.06557377   6.13114754   9.19672131  12.26229508\n",
      "  15.32786885  18.39344262  21.45901639  24.52459016  27.59016393\n",
      "  30.6557377   33.72131148  36.78688525  39.85245902  42.91803279\n",
      "  45.98360656  49.04918033  52.1147541   55.18032787  58.24590164\n",
      "  61.31147541  64.37704918  67.44262295  70.50819672  73.57377049\n",
      "  76.63934426  79.70491803  82.7704918   85.83606557  88.90163934\n",
      "  91.96721311  95.03278689  98.09836066 101.16393443 104.2295082\n",
      " 107.29508197 110.36065574 113.42622951 116.49180328 119.55737705\n",
      " 122.62295082 125.68852459 128.75409836 131.81967213 134.8852459\n",
      " 137.95081967 141.01639344 144.08196721 147.14754098 150.21311475\n",
      " 153.27868852 156.3442623  159.40983607 162.47540984 165.54098361\n",
      " 168.60655738 171.67213115 174.73770492 177.80327869 180.86885246\n",
      " 183.93442623 187.        ]\n",
      "fraction 3\n",
      "slideZend [56.         56.13986014 56.27972028 56.41958042 56.55944056 56.6993007\n",
      " 56.83916084 56.97902098 57.11888112 57.25874126 57.3986014  57.53846154\n",
      " 57.67832168 57.81818182 57.95804196 58.0979021  58.23776224 58.37762238\n",
      " 58.51748252 58.65734266 58.7972028  58.93706294 59.07692308 59.21678322\n",
      " 59.35664336 59.4965035  59.63636364 59.77622378 59.91608392 60.05594406\n",
      " 60.1958042  60.33566434 60.47552448 60.61538462 60.75524476 60.8951049\n",
      " 61.03496503 61.17482517 61.31468531 61.45454545 61.59440559 61.73426573\n",
      " 61.87412587 62.01398601 62.15384615 62.29370629 62.43356643 62.57342657\n",
      " 62.71328671 62.85314685 62.99300699 63.13286713 63.27272727 63.41258741\n",
      " 63.55244755 63.69230769 63.83216783 63.97202797 64.11188811 64.25174825\n",
      " 64.39160839 64.53146853 64.67132867 64.81118881 64.95104895 65.09090909\n",
      " 65.23076923 65.37062937 65.51048951 65.65034965 65.79020979 65.93006993\n",
      " 66.06993007 66.20979021 66.34965035 66.48951049 66.62937063 66.76923077\n",
      " 66.90909091 67.04895105 67.18881119 67.32867133 67.46853147 67.60839161\n",
      " 67.74825175 67.88811189 68.02797203 68.16783217 68.30769231 68.44755245\n",
      " 68.58741259 68.72727273 68.86713287 69.00699301 69.14685315 69.28671329\n",
      " 69.42657343 69.56643357 69.70629371 69.84615385 69.98601399 70.12587413\n",
      " 70.26573427 70.40559441 70.54545455 70.68531469 70.82517483 70.96503497\n",
      " 71.1048951  71.24475524 71.38461538 71.52447552 71.66433566 71.8041958\n",
      " 71.94405594 72.08391608 72.22377622 72.36363636 72.5034965  72.64335664\n",
      " 72.78321678 72.92307692 73.06293706 73.2027972  73.34265734 73.48251748\n",
      " 73.62237762 73.76223776 73.9020979  74.04195804 74.18181818 74.32167832\n",
      " 74.46153846 74.6013986  74.74125874 74.88111888 75.02097902 75.16083916\n",
      " 75.3006993  75.44055944 75.58041958 75.72027972 75.86013986 76.        ]\n",
      "slideYstart [32.         32.06993007 32.13986014 32.20979021 32.27972028 32.34965035\n",
      " 32.41958042 32.48951049 32.55944056 32.62937063 32.6993007  32.76923077\n",
      " 32.83916084 32.90909091 32.97902098 33.04895105 33.11888112 33.18881119\n",
      " 33.25874126 33.32867133 33.3986014  33.46853147 33.53846154 33.60839161\n",
      " 33.67832168 33.74825175 33.81818182 33.88811189 33.95804196 34.02797203\n",
      " 34.0979021  34.16783217 34.23776224 34.30769231 34.37762238 34.44755245\n",
      " 34.51748252 34.58741259 34.65734266 34.72727273 34.7972028  34.86713287\n",
      " 34.93706294 35.00699301 35.07692308 35.14685315 35.21678322 35.28671329\n",
      " 35.35664336 35.42657343 35.4965035  35.56643357 35.63636364 35.70629371\n",
      " 35.77622378 35.84615385 35.91608392 35.98601399 36.05594406 36.12587413\n",
      " 36.1958042  36.26573427 36.33566434 36.40559441 36.47552448 36.54545455\n",
      " 36.61538462 36.68531469 36.75524476 36.82517483 36.8951049  36.96503497\n",
      " 37.03496503 37.1048951  37.17482517 37.24475524 37.31468531 37.38461538\n",
      " 37.45454545 37.52447552 37.59440559 37.66433566 37.73426573 37.8041958\n",
      " 37.87412587 37.94405594 38.01398601 38.08391608 38.15384615 38.22377622\n",
      " 38.29370629 38.36363636 38.43356643 38.5034965  38.57342657 38.64335664\n",
      " 38.71328671 38.78321678 38.85314685 38.92307692 38.99300699 39.06293706\n",
      " 39.13286713 39.2027972  39.27272727 39.34265734 39.41258741 39.48251748\n",
      " 39.55244755 39.62237762 39.69230769 39.76223776 39.83216783 39.9020979\n",
      " 39.97202797 40.04195804 40.11188811 40.18181818 40.25174825 40.32167832\n",
      " 40.39160839 40.46153846 40.53146853 40.6013986  40.67132867 40.74125874\n",
      " 40.81118881 40.88111888 40.95104895 41.02097902 41.09090909 41.16083916\n",
      " 41.23076923 41.3006993  41.37062937 41.44055944 41.51048951 41.58041958\n",
      " 41.65034965 41.72027972 41.79020979 41.86013986 41.93006993 42.        ]\n",
      "slideZstart [ 5.          5.32167832  5.64335664  5.96503497  6.28671329  6.60839161\n",
      "  6.93006993  7.25174825  7.57342657  7.8951049   8.21678322  8.53846154\n",
      "  8.86013986  9.18181818  9.5034965   9.82517483 10.14685315 10.46853147\n",
      " 10.79020979 11.11188811 11.43356643 11.75524476 12.07692308 12.3986014\n",
      " 12.72027972 13.04195804 13.36363636 13.68531469 14.00699301 14.32867133\n",
      " 14.65034965 14.97202797 15.29370629 15.61538462 15.93706294 16.25874126\n",
      " 16.58041958 16.9020979  17.22377622 17.54545455 17.86713287 18.18881119\n",
      " 18.51048951 18.83216783 19.15384615 19.47552448 19.7972028  20.11888112\n",
      " 20.44055944 20.76223776 21.08391608 21.40559441 21.72727273 22.04895105\n",
      " 22.37062937 22.69230769 23.01398601 23.33566434 23.65734266 23.97902098\n",
      " 24.3006993  24.62237762 24.94405594 25.26573427 25.58741259 25.90909091\n",
      " 26.23076923 26.55244755 26.87412587 27.1958042  27.51748252 27.83916084\n",
      " 28.16083916 28.48251748 28.8041958  29.12587413 29.44755245 29.76923077\n",
      " 30.09090909 30.41258741 30.73426573 31.05594406 31.37762238 31.6993007\n",
      " 32.02097902 32.34265734 32.66433566 32.98601399 33.30769231 33.62937063\n",
      " 33.95104895 34.27272727 34.59440559 34.91608392 35.23776224 35.55944056\n",
      " 35.88111888 36.2027972  36.52447552 36.84615385 37.16783217 37.48951049\n",
      " 37.81118881 38.13286713 38.45454545 38.77622378 39.0979021  39.41958042\n",
      " 39.74125874 40.06293706 40.38461538 40.70629371 41.02797203 41.34965035\n",
      " 41.67132867 41.99300699 42.31468531 42.63636364 42.95804196 43.27972028\n",
      " 43.6013986  43.92307692 44.24475524 44.56643357 44.88811189 45.20979021\n",
      " 45.53146853 45.85314685 46.17482517 46.4965035  46.81818182 47.13986014\n",
      " 47.46153846 47.78321678 48.1048951  48.42657343 48.74825175 49.06993007\n",
      " 49.39160839 49.71328671 50.03496503 50.35664336 50.67832168 51.        ]\n",
      "slideYend [ 1.          1.11188811  1.22377622  1.33566434  1.44755245  1.55944056\n",
      "  1.67132867  1.78321678  1.8951049   2.00699301  2.11888112  2.23076923\n",
      "  2.34265734  2.45454545  2.56643357  2.67832168  2.79020979  2.9020979\n",
      "  3.01398601  3.12587413  3.23776224  3.34965035  3.46153846  3.57342657\n",
      "  3.68531469  3.7972028   3.90909091  4.02097902  4.13286713  4.24475524\n",
      "  4.35664336  4.46853147  4.58041958  4.69230769  4.8041958   4.91608392\n",
      "  5.02797203  5.13986014  5.25174825  5.36363636  5.47552448  5.58741259\n",
      "  5.6993007   5.81118881  5.92307692  6.03496503  6.14685315  6.25874126\n",
      "  6.37062937  6.48251748  6.59440559  6.70629371  6.81818182  6.93006993\n",
      "  7.04195804  7.15384615  7.26573427  7.37762238  7.48951049  7.6013986\n",
      "  7.71328671  7.82517483  7.93706294  8.04895105  8.16083916  8.27272727\n",
      "  8.38461538  8.4965035   8.60839161  8.72027972  8.83216783  8.94405594\n",
      "  9.05594406  9.16783217  9.27972028  9.39160839  9.5034965   9.61538462\n",
      "  9.72727273  9.83916084  9.95104895 10.06293706 10.17482517 10.28671329\n",
      " 10.3986014  10.51048951 10.62237762 10.73426573 10.84615385 10.95804196\n",
      " 11.06993007 11.18181818 11.29370629 11.40559441 11.51748252 11.62937063\n",
      " 11.74125874 11.85314685 11.96503497 12.07692308 12.18881119 12.3006993\n",
      " 12.41258741 12.52447552 12.63636364 12.74825175 12.86013986 12.97202797\n",
      " 13.08391608 13.1958042  13.30769231 13.41958042 13.53146853 13.64335664\n",
      " 13.75524476 13.86713287 13.97902098 14.09090909 14.2027972  14.31468531\n",
      " 14.42657343 14.53846154 14.65034965 14.76223776 14.87412587 14.98601399\n",
      " 15.0979021  15.20979021 15.32167832 15.43356643 15.54545455 15.65734266\n",
      " 15.76923077 15.88111888 15.99300699 16.1048951  16.21678322 16.32867133\n",
      " 16.44055944 16.55244755 16.66433566 16.77622378 16.88811189 17.        ]\n",
      "slideZend [76.         75.92857143 75.85714286 75.78571429 75.71428571 75.64285714\n",
      " 75.57142857 75.5        75.42857143 75.35714286 75.28571429 75.21428571\n",
      " 75.14285714 75.07142857 75.         74.92857143 74.85714286 74.78571429\n",
      " 74.71428571 74.64285714 74.57142857 74.5        74.42857143 74.35714286\n",
      " 74.28571429 74.21428571 74.14285714 74.07142857 74.         73.92857143\n",
      " 73.85714286 73.78571429 73.71428571 73.64285714 73.57142857 73.5\n",
      " 73.42857143 73.35714286 73.28571429 73.21428571 73.14285714 73.07142857\n",
      " 73.        ]\n",
      "slideYstart [42.         42.04761905 42.0952381  42.14285714 42.19047619 42.23809524\n",
      " 42.28571429 42.33333333 42.38095238 42.42857143 42.47619048 42.52380952\n",
      " 42.57142857 42.61904762 42.66666667 42.71428571 42.76190476 42.80952381\n",
      " 42.85714286 42.9047619  42.95238095 43.         43.04761905 43.0952381\n",
      " 43.14285714 43.19047619 43.23809524 43.28571429 43.33333333 43.38095238\n",
      " 43.42857143 43.47619048 43.52380952 43.57142857 43.61904762 43.66666667\n",
      " 43.71428571 43.76190476 43.80952381 43.85714286 43.9047619  43.95238095\n",
      " 44.        ]\n",
      "slideZstart [51.         51.35714286 51.71428571 52.07142857 52.42857143 52.78571429\n",
      " 53.14285714 53.5        53.85714286 54.21428571 54.57142857 54.92857143\n",
      " 55.28571429 55.64285714 56.         56.35714286 56.71428571 57.07142857\n",
      " 57.42857143 57.78571429 58.14285714 58.5        58.85714286 59.21428571\n",
      " 59.57142857 59.92857143 60.28571429 60.64285714 61.         61.35714286\n",
      " 61.71428571 62.07142857 62.42857143 62.78571429 63.14285714 63.5\n",
      " 63.85714286 64.21428571 64.57142857 64.92857143 65.28571429 65.64285714\n",
      " 66.        ]\n",
      "slideYend [17.         17.42857143 17.85714286 18.28571429 18.71428571 19.14285714\n",
      " 19.57142857 20.         20.42857143 20.85714286 21.28571429 21.71428571\n",
      " 22.14285714 22.57142857 23.         23.42857143 23.85714286 24.28571429\n",
      " 24.71428571 25.14285714 25.57142857 26.         26.42857143 26.85714286\n",
      " 27.28571429 27.71428571 28.14285714 28.57142857 29.         29.42857143\n",
      " 29.85714286 30.28571429 30.71428571 31.14285714 31.57142857 32.\n",
      " 32.42857143 32.85714286 33.28571429 33.71428571 34.14285714 34.57142857\n",
      " 35.        ]\n",
      "slideZend [56.         56.13986014 56.27972028 56.41958042 56.55944056 56.6993007\n",
      " 56.83916084 56.97902098 57.11888112 57.25874126 57.3986014  57.53846154\n",
      " 57.67832168 57.81818182 57.95804196 58.0979021  58.23776224 58.37762238\n",
      " 58.51748252 58.65734266 58.7972028  58.93706294 59.07692308 59.21678322\n",
      " 59.35664336 59.4965035  59.63636364 59.77622378 59.91608392 60.05594406\n",
      " 60.1958042  60.33566434 60.47552448 60.61538462 60.75524476 60.8951049\n",
      " 61.03496503 61.17482517 61.31468531 61.45454545 61.59440559 61.73426573\n",
      " 61.87412587 62.01398601 62.15384615 62.29370629 62.43356643 62.57342657\n",
      " 62.71328671 62.85314685 62.99300699 63.13286713 63.27272727 63.41258741\n",
      " 63.55244755 63.69230769 63.83216783 63.97202797 64.11188811 64.25174825\n",
      " 64.39160839 64.53146853 64.67132867 64.81118881 64.95104895 65.09090909\n",
      " 65.23076923 65.37062937 65.51048951 65.65034965 65.79020979 65.93006993\n",
      " 66.06993007 66.20979021 66.34965035 66.48951049 66.62937063 66.76923077\n",
      " 66.90909091 67.04895105 67.18881119 67.32867133 67.46853147 67.60839161\n",
      " 67.74825175 67.88811189 68.02797203 68.16783217 68.30769231 68.44755245\n",
      " 68.58741259 68.72727273 68.86713287 69.00699301 69.14685315 69.28671329\n",
      " 69.42657343 69.56643357 69.70629371 69.84615385 69.98601399 70.12587413\n",
      " 70.26573427 70.40559441 70.54545455 70.68531469 70.82517483 70.96503497\n",
      " 71.1048951  71.24475524 71.38461538 71.52447552 71.66433566 71.8041958\n",
      " 71.94405594 72.08391608 72.22377622 72.36363636 72.5034965  72.64335664\n",
      " 72.78321678 72.92307692 73.06293706 73.2027972  73.34265734 73.48251748\n",
      " 73.62237762 73.76223776 73.9020979  74.04195804 74.18181818 74.32167832\n",
      " 74.46153846 74.6013986  74.74125874 74.88111888 75.02097902 75.16083916\n",
      " 75.3006993  75.44055944 75.58041958 75.72027972 75.86013986 76.        ]\n",
      "slideYstart [67.         66.93706294 66.87412587 66.81118881 66.74825175 66.68531469\n",
      " 66.62237762 66.55944056 66.4965035  66.43356643 66.37062937 66.30769231\n",
      " 66.24475524 66.18181818 66.11888112 66.05594406 65.99300699 65.93006993\n",
      " 65.86713287 65.8041958  65.74125874 65.67832168 65.61538462 65.55244755\n",
      " 65.48951049 65.42657343 65.36363636 65.3006993  65.23776224 65.17482517\n",
      " 65.11188811 65.04895105 64.98601399 64.92307692 64.86013986 64.7972028\n",
      " 64.73426573 64.67132867 64.60839161 64.54545455 64.48251748 64.41958042\n",
      " 64.35664336 64.29370629 64.23076923 64.16783217 64.1048951  64.04195804\n",
      " 63.97902098 63.91608392 63.85314685 63.79020979 63.72727273 63.66433566\n",
      " 63.6013986  63.53846154 63.47552448 63.41258741 63.34965035 63.28671329\n",
      " 63.22377622 63.16083916 63.0979021  63.03496503 62.97202797 62.90909091\n",
      " 62.84615385 62.78321678 62.72027972 62.65734266 62.59440559 62.53146853\n",
      " 62.46853147 62.40559441 62.34265734 62.27972028 62.21678322 62.15384615\n",
      " 62.09090909 62.02797203 61.96503497 61.9020979  61.83916084 61.77622378\n",
      " 61.71328671 61.65034965 61.58741259 61.52447552 61.46153846 61.3986014\n",
      " 61.33566434 61.27272727 61.20979021 61.14685315 61.08391608 61.02097902\n",
      " 60.95804196 60.8951049  60.83216783 60.76923077 60.70629371 60.64335664\n",
      " 60.58041958 60.51748252 60.45454545 60.39160839 60.32867133 60.26573427\n",
      " 60.2027972  60.13986014 60.07692308 60.01398601 59.95104895 59.88811189\n",
      " 59.82517483 59.76223776 59.6993007  59.63636364 59.57342657 59.51048951\n",
      " 59.44755245 59.38461538 59.32167832 59.25874126 59.1958042  59.13286713\n",
      " 59.06993007 59.00699301 58.94405594 58.88111888 58.81818182 58.75524476\n",
      " 58.69230769 58.62937063 58.56643357 58.5034965  58.44055944 58.37762238\n",
      " 58.31468531 58.25174825 58.18881119 58.12587413 58.06293706 58.        ]\n",
      "slideZstart [ 5.          5.32167832  5.64335664  5.96503497  6.28671329  6.60839161\n",
      "  6.93006993  7.25174825  7.57342657  7.8951049   8.21678322  8.53846154\n",
      "  8.86013986  9.18181818  9.5034965   9.82517483 10.14685315 10.46853147\n",
      " 10.79020979 11.11188811 11.43356643 11.75524476 12.07692308 12.3986014\n",
      " 12.72027972 13.04195804 13.36363636 13.68531469 14.00699301 14.32867133\n",
      " 14.65034965 14.97202797 15.29370629 15.61538462 15.93706294 16.25874126\n",
      " 16.58041958 16.9020979  17.22377622 17.54545455 17.86713287 18.18881119\n",
      " 18.51048951 18.83216783 19.15384615 19.47552448 19.7972028  20.11888112\n",
      " 20.44055944 20.76223776 21.08391608 21.40559441 21.72727273 22.04895105\n",
      " 22.37062937 22.69230769 23.01398601 23.33566434 23.65734266 23.97902098\n",
      " 24.3006993  24.62237762 24.94405594 25.26573427 25.58741259 25.90909091\n",
      " 26.23076923 26.55244755 26.87412587 27.1958042  27.51748252 27.83916084\n",
      " 28.16083916 28.48251748 28.8041958  29.12587413 29.44755245 29.76923077\n",
      " 30.09090909 30.41258741 30.73426573 31.05594406 31.37762238 31.6993007\n",
      " 32.02097902 32.34265734 32.66433566 32.98601399 33.30769231 33.62937063\n",
      " 33.95104895 34.27272727 34.59440559 34.91608392 35.23776224 35.55944056\n",
      " 35.88111888 36.2027972  36.52447552 36.84615385 37.16783217 37.48951049\n",
      " 37.81118881 38.13286713 38.45454545 38.77622378 39.0979021  39.41958042\n",
      " 39.74125874 40.06293706 40.38461538 40.70629371 41.02797203 41.34965035\n",
      " 41.67132867 41.99300699 42.31468531 42.63636364 42.95804196 43.27972028\n",
      " 43.6013986  43.92307692 44.24475524 44.56643357 44.88811189 45.20979021\n",
      " 45.53146853 45.85314685 46.17482517 46.4965035  46.81818182 47.13986014\n",
      " 47.46153846 47.78321678 48.1048951  48.42657343 48.74825175 49.06993007\n",
      " 49.39160839 49.71328671 50.03496503 50.35664336 50.67832168 51.        ]\n",
      "slideYend [98.         97.88811189 97.77622378 97.66433566 97.55244755 97.44055944\n",
      " 97.32867133 97.21678322 97.1048951  96.99300699 96.88111888 96.76923077\n",
      " 96.65734266 96.54545455 96.43356643 96.32167832 96.20979021 96.0979021\n",
      " 95.98601399 95.87412587 95.76223776 95.65034965 95.53846154 95.42657343\n",
      " 95.31468531 95.2027972  95.09090909 94.97902098 94.86713287 94.75524476\n",
      " 94.64335664 94.53146853 94.41958042 94.30769231 94.1958042  94.08391608\n",
      " 93.97202797 93.86013986 93.74825175 93.63636364 93.52447552 93.41258741\n",
      " 93.3006993  93.18881119 93.07692308 92.96503497 92.85314685 92.74125874\n",
      " 92.62937063 92.51748252 92.40559441 92.29370629 92.18181818 92.06993007\n",
      " 91.95804196 91.84615385 91.73426573 91.62237762 91.51048951 91.3986014\n",
      " 91.28671329 91.17482517 91.06293706 90.95104895 90.83916084 90.72727273\n",
      " 90.61538462 90.5034965  90.39160839 90.27972028 90.16783217 90.05594406\n",
      " 89.94405594 89.83216783 89.72027972 89.60839161 89.4965035  89.38461538\n",
      " 89.27272727 89.16083916 89.04895105 88.93706294 88.82517483 88.71328671\n",
      " 88.6013986  88.48951049 88.37762238 88.26573427 88.15384615 88.04195804\n",
      " 87.93006993 87.81818182 87.70629371 87.59440559 87.48251748 87.37062937\n",
      " 87.25874126 87.14685315 87.03496503 86.92307692 86.81118881 86.6993007\n",
      " 86.58741259 86.47552448 86.36363636 86.25174825 86.13986014 86.02797203\n",
      " 85.91608392 85.8041958  85.69230769 85.58041958 85.46853147 85.35664336\n",
      " 85.24475524 85.13286713 85.02097902 84.90909091 84.7972028  84.68531469\n",
      " 84.57342657 84.46153846 84.34965035 84.23776224 84.12587413 84.01398601\n",
      " 83.9020979  83.79020979 83.67832168 83.56643357 83.45454545 83.34265734\n",
      " 83.23076923 83.11888112 83.00699301 82.8951049  82.78321678 82.67132867\n",
      " 82.55944056 82.44755245 82.33566434 82.22377622 82.11188811 82.        ]\n",
      "slideZend [76.         75.92857143 75.85714286 75.78571429 75.71428571 75.64285714\n",
      " 75.57142857 75.5        75.42857143 75.35714286 75.28571429 75.21428571\n",
      " 75.14285714 75.07142857 75.         74.92857143 74.85714286 74.78571429\n",
      " 74.71428571 74.64285714 74.57142857 74.5        74.42857143 74.35714286\n",
      " 74.28571429 74.21428571 74.14285714 74.07142857 74.         73.92857143\n",
      " 73.85714286 73.78571429 73.71428571 73.64285714 73.57142857 73.5\n",
      " 73.42857143 73.35714286 73.28571429 73.21428571 73.14285714 73.07142857\n",
      " 73.        ]\n",
      "slideYstart [58.         57.95238095 57.9047619  57.85714286 57.80952381 57.76190476\n",
      " 57.71428571 57.66666667 57.61904762 57.57142857 57.52380952 57.47619048\n",
      " 57.42857143 57.38095238 57.33333333 57.28571429 57.23809524 57.19047619\n",
      " 57.14285714 57.0952381  57.04761905 57.         56.95238095 56.9047619\n",
      " 56.85714286 56.80952381 56.76190476 56.71428571 56.66666667 56.61904762\n",
      " 56.57142857 56.52380952 56.47619048 56.42857143 56.38095238 56.33333333\n",
      " 56.28571429 56.23809524 56.19047619 56.14285714 56.0952381  56.04761905\n",
      " 56.        ]\n",
      "slideZstart [51.         51.35714286 51.71428571 52.07142857 52.42857143 52.78571429\n",
      " 53.14285714 53.5        53.85714286 54.21428571 54.57142857 54.92857143\n",
      " 55.28571429 55.64285714 56.         56.35714286 56.71428571 57.07142857\n",
      " 57.42857143 57.78571429 58.14285714 58.5        58.85714286 59.21428571\n",
      " 59.57142857 59.92857143 60.28571429 60.64285714 61.         61.35714286\n",
      " 61.71428571 62.07142857 62.42857143 62.78571429 63.14285714 63.5\n",
      " 63.85714286 64.21428571 64.57142857 64.92857143 65.28571429 65.64285714\n",
      " 66.        ]\n",
      "slideYend [82.         81.5952381  81.19047619 80.78571429 80.38095238 79.97619048\n",
      " 79.57142857 79.16666667 78.76190476 78.35714286 77.95238095 77.54761905\n",
      " 77.14285714 76.73809524 76.33333333 75.92857143 75.52380952 75.11904762\n",
      " 74.71428571 74.30952381 73.9047619  73.5        73.0952381  72.69047619\n",
      " 72.28571429 71.88095238 71.47619048 71.07142857 70.66666667 70.26190476\n",
      " 69.85714286 69.45238095 69.04761905 68.64285714 68.23809524 67.83333333\n",
      " 67.42857143 67.02380952 66.61904762 66.21428571 65.80952381 65.4047619\n",
      " 65.        ]\n"
     ]
    }
   ],
   "source": [
    "film = np.zeros((277, 100, 120))\n",
    "\n",
    "bottom = 5\n",
    "film[:, :, 0:bottom] = 10 # bottom\n",
    "\n",
    "side_wall = 2\n",
    "film[:, :side_wall, :] = 10 # left\n",
    "film[:, -side_wall:, :] = 10 # right\n",
    "\n",
    "\n",
    "# #dfsdfsdfasdf\n",
    "# height = 80\n",
    "# left_side = 75\n",
    "# right_side = 75\n",
    "\n",
    "film = slide2D_fractionZ(film=film, start=[2, 67, 5], end=[88, 98, 56], direction='y', fraction='+', value=10)\n",
    "film = slide2D_fractionZ(film=film, start=[2, 32, 5], end=[88, 1, 56], direction='y', fraction='+', value=10)\n",
    "\n",
    "film = slide2D_fractionX(film=film, start=[275, 29, 0], end=[153, 1, 120], direction='y', fraction='-', value=10)\n",
    "film = slide2D_fractionX(film=film, start=[275, 70, 0], end=[153, 98, 120], direction='y', fraction='-', value=10)\n",
    "\n",
    "film = slide2D_fractionX(film=film, start=[275, 39, 0], end=[88, 1, 79], direction='y', fraction='-', value=10)\n",
    "film = slide2D_fractionX(film=film, start=[275, 60, 0], end=[88, 98, 79], direction='y', fraction='-', value=10)\n",
    "\n",
    "\n",
    "film = slide2D_fractionX(film=film, start=[275, 2, 4], end=[88, 98, 66], direction='z', fraction='-', value=10)\n",
    "\n",
    "#----------left-----------\n",
    "# -------- 3D slide------------\n",
    "paraStart = np.array([232, 42, 51])\n",
    "paraEnd = np.array([232, 17, 76])\n",
    "\n",
    "start = np.array([88, 32, 5])\n",
    "end = np.array([88, 1, 56])\n",
    "\n",
    "slideZend = np.linspace(end[2], paraEnd[2], paraEnd[0]-end[0])\n",
    "slideYstart = np.linspace(start[1], paraStart[1], paraStart[0]-start[0])\n",
    "\n",
    "slideZstart = np.linspace(start[2], paraStart[2], paraStart[0]-start[0])\n",
    "slideYend = np.linspace(end[1], paraEnd[1], paraEnd[0]-end[0])\n",
    "\n",
    "print('slideZend',slideZend)\n",
    "print('slideYstart',slideYstart)\n",
    "\n",
    "print('slideZstart',slideZstart)\n",
    "print('slideYend',slideYend)\n",
    "\n",
    "for i in range(slideZend.shape[0]):\n",
    "    film = slide3D_fractionZ(film=film, start=np.array([start[0]+i, int(slideYstart[i]), int(slideZstart[i])]), end=np.array([start[0]+i, int(slideYend[i]), int(slideZend[i])]), direction='y', fraction='+', value=10)\n",
    "\n",
    "# -------- 3D slide------------\n",
    "\n",
    "# -------- 3D slide------------\n",
    "paraStart = np.array([275, 44, 66])\n",
    "paraEnd = np.array([275, 35, 73])\n",
    "\n",
    "start = np.array([232, 42, 51])\n",
    "end = np.array([232, 17, 76])\n",
    "\n",
    "slideZend = np.linspace(end[2], paraEnd[2], paraEnd[0]-end[0])\n",
    "slideYstart = np.linspace(start[1], paraStart[1], paraStart[0]-start[0])\n",
    "\n",
    "slideZstart = np.linspace(start[2], paraStart[2], paraStart[0]-start[0])\n",
    "slideYend = np.linspace(end[1], paraEnd[1], paraEnd[0]-end[0])\n",
    "\n",
    "print('slideZend',slideZend)\n",
    "print('slideYstart',slideYstart)\n",
    "\n",
    "print('slideZstart',slideZstart)\n",
    "print('slideYend',slideYend)\n",
    "\n",
    "for i in range(slideZend.shape[0]):\n",
    "    film = slide3D_fractionZ(film=film, start=np.array([start[0]+i, int(slideYstart[i]), int(slideZstart[i])]), end=np.array([start[0]+i, int(slideYend[i]), int(slideZend[i])]), direction='y', fraction='+', value=10)\n",
    "\n",
    "# -------- 3D slide------------\n",
    "\n",
    "\n",
    "# --------right---------\n",
    "# -------- 3D slide------------\n",
    "paraStart = np.array([232, 58, 51])\n",
    "paraEnd = np.array([232, 82, 76])\n",
    "\n",
    "start = np.array([88, 67, 5])\n",
    "end = np.array([88, 98, 56])\n",
    "\n",
    "slideZend = np.linspace(end[2], paraEnd[2], paraEnd[0]-end[0])\n",
    "slideYstart = np.linspace(start[1], paraStart[1], paraStart[0]-start[0])\n",
    "\n",
    "slideZstart = np.linspace(start[2], paraStart[2], paraStart[0]-start[0])\n",
    "slideYend = np.linspace(end[1], paraEnd[1], paraEnd[0]-end[0])\n",
    "\n",
    "print('slideZend',slideZend)\n",
    "print('slideYstart',slideYstart)\n",
    "\n",
    "print('slideZstart',slideZstart)\n",
    "print('slideYend',slideYend)\n",
    "\n",
    "for i in range(slideZend.shape[0]):\n",
    "    film = slide3D_fractionZ(film=film, start=np.array([start[0]+i, int(slideYstart[i]), int(slideZstart[i])]), end=np.array([start[0]+i, int(slideYend[i]), int(slideZend[i])]), direction='y', fraction='+', value=10)\n",
    "\n",
    "# -------- 3D slide------------\n",
    "\n",
    "# -------- 3D slide------------\n",
    "paraStart = np.array([275, 56, 66])\n",
    "paraEnd = np.array([275, 65, 73])\n",
    "\n",
    "start = np.array([232, 58, 51])\n",
    "end = np.array([232, 82, 76])\n",
    "\n",
    "# paraStart = np.array([275, 44, 66])\n",
    "# paraEnd = np.array([275, 35, 73])\n",
    "\n",
    "# start = np.array([232, 42, 51])\n",
    "# end = np.array([232, 17, 76])\n",
    "\n",
    "slideZend = np.linspace(end[2], paraEnd[2], paraEnd[0]-end[0])\n",
    "slideYstart = np.linspace(start[1], paraStart[1], paraStart[0]-start[0])\n",
    "\n",
    "slideZstart = np.linspace(start[2], paraStart[2], paraStart[0]-start[0])\n",
    "slideYend = np.linspace(end[1], paraEnd[1], paraEnd[0]-end[0])\n",
    "\n",
    "print('slideZend',slideZend)\n",
    "print('slideYstart',slideYstart)\n",
    "\n",
    "print('slideZstart',slideZstart)\n",
    "print('slideYend',slideYend)\n",
    "\n",
    "for i in range(slideZend.shape[0]):\n",
    "    film = slide3D_fractionZ(film=film, start=np.array([start[0]+i, int(slideYstart[i]), int(slideZstart[i])]), end=np.array([start[0]+i, int(slideYend[i]), int(slideZend[i])]), direction='y', fraction='+', value=10)\n",
    "\n",
    "# -------- 3D slide------------\n",
    "\n",
    "\n",
    "\n",
    "film[:side_wall, :, :] = 10 # back\n",
    "film[-side_wall:, :, :] = 10 # front"
   ]
  },
  {
   "cell_type": "code",
   "execution_count": 555,
   "metadata": {},
   "outputs": [
    {
     "name": "stderr",
     "output_type": "stream",
     "text": [
      "c:\\Users\\urcs049\\AppData\\Local\\anaconda3\\Lib\\site-packages\\pyvista\\core\\utilities\\points.py:55: UserWarning: Points is not a float type. This can cause issues when transforming or applying filters. Casting to ``np.float32``. Disable this by passing ``force_float=False``.\n",
      "  warnings.warn(\n",
      "c:\\Users\\urcs049\\AppData\\Local\\anaconda3\\Lib\\site-packages\\pyvista\\core\\filters\\data_set.py:2386: UserWarning: No vector-like data to use for orient. orient will be set to False.\n",
      "  warnings.warn(\"No vector-like data to use for orient. orient will be set to False.\")\n"
     ]
    },
    {
     "data": {
      "application/vnd.jupyter.widget-view+json": {
       "model_id": "b126aefcc59949d49f1fef8e16c27e68",
       "version_major": 2,
       "version_minor": 0
      },
      "text/plain": [
       "Widget(value='<iframe src=\"http://localhost:53499/index.html?ui=P_0x1ccd4a7d670_150&reconnect=auto\" class=\"pyv…"
      ]
     },
     "metadata": {},
     "output_type": "display_data"
    }
   ],
   "source": [
    "depo1 = torch.Tensor(np.logical_and(film[:, :, :] !=0, film[:, :, :] < 10)).to_sparse()\n",
    "depo1 = depo1.indices().numpy().T\n",
    "\n",
    "substrute = torch.Tensor(film[:, :, :]==10).to_sparse()\n",
    "substrute = substrute.indices().numpy().T\n",
    "depomesh = pv.PolyData(depo1)\n",
    "depomesh[\"radius\"] = np.ones(depo1.shape[0])*0.5\n",
    "geom = pv.Box()\n",
    "\n",
    "submesh = pv.PolyData(substrute)\n",
    "submesh[\"radius\"] = np.ones(substrute.shape[0])*0.5\n",
    "\n",
    "# Progress bar is a new feature on master branch\n",
    "depoglyphed = depomesh.glyph(scale=\"radius\", geom=geom) # progress_bar=True)\n",
    "subglyphed = submesh.glyph(scale=\"radius\", geom=geom) # progress_bar=True)\n",
    "\n",
    "p = pv.Plotter()\n",
    "p.add_mesh(depoglyphed, color='cyan')\n",
    "p.add_mesh(subglyphed, color='dimgray')\n",
    "p.enable_eye_dome_lighting()\n",
    "p.show_grid()\n",
    "p.show()"
   ]
  },
  {
   "cell_type": "code",
   "execution_count": 551,
   "metadata": {},
   "outputs": [
    {
     "name": "stderr",
     "output_type": "stream",
     "text": [
      "c:\\Users\\urcs049\\AppData\\Local\\anaconda3\\Lib\\site-packages\\pyvista\\core\\utilities\\points.py:55: UserWarning: Points is not a float type. This can cause issues when transforming or applying filters. Casting to ``np.float32``. Disable this by passing ``force_float=False``.\n",
      "  warnings.warn(\n",
      "c:\\Users\\urcs049\\AppData\\Local\\anaconda3\\Lib\\site-packages\\pyvista\\core\\filters\\data_set.py:2386: UserWarning: No vector-like data to use for orient. orient will be set to False.\n",
      "  warnings.warn(\"No vector-like data to use for orient. orient will be set to False.\")\n"
     ]
    },
    {
     "data": {
      "application/vnd.jupyter.widget-view+json": {
       "model_id": "e428824c21e248a7b90f57fa543236c8",
       "version_major": 2,
       "version_minor": 0
      },
      "text/plain": [
       "Widget(value='<iframe src=\"http://localhost:53499/index.html?ui=P_0x1ccd4a7f050_148&reconnect=auto\" class=\"pyv…"
      ]
     },
     "metadata": {},
     "output_type": "display_data"
    }
   ],
   "source": [
    "depo1 = torch.Tensor(np.logical_and(film[:, :50, :] !=0, film[:, :50, :] < 10)).to_sparse()\n",
    "depo1 = depo1.indices().numpy().T\n",
    "\n",
    "substrute = torch.Tensor(film[:, :50, :]==10).to_sparse()\n",
    "substrute = substrute.indices().numpy().T\n",
    "depomesh = pv.PolyData(depo1)\n",
    "depomesh[\"radius\"] = np.ones(depo1.shape[0])*0.5\n",
    "geom = pv.Box()\n",
    "\n",
    "submesh = pv.PolyData(substrute)\n",
    "submesh[\"radius\"] = np.ones(substrute.shape[0])*0.5\n",
    "\n",
    "# Progress bar is a new feature on master branch\n",
    "depoglyphed = depomesh.glyph(scale=\"radius\", geom=geom) # progress_bar=True)\n",
    "subglyphed = submesh.glyph(scale=\"radius\", geom=geom) # progress_bar=True)\n",
    "\n",
    "p = pv.Plotter()\n",
    "p.add_mesh(depoglyphed, color='cyan')\n",
    "p.add_mesh(subglyphed, color='dimgray')\n",
    "p.enable_eye_dome_lighting()\n",
    "p.show_grid()\n",
    "p.show()"
   ]
  },
  {
   "cell_type": "code",
   "execution_count": 568,
   "metadata": {},
   "outputs": [
    {
     "data": {
      "text/plain": [
       "0.05446902654867257"
      ]
     },
     "execution_count": 568,
     "metadata": {},
     "output_type": "execute_result"
    }
   ],
   "source": [
    "2.462/45.2"
   ]
  },
  {
   "cell_type": "code",
   "execution_count": 570,
   "metadata": {},
   "outputs": [
    {
     "data": {
      "text/plain": [
       "0.05217391304347826"
      ]
     },
     "execution_count": 570,
     "metadata": {},
     "output_type": "execute_result"
    }
   ],
   "source": [
    "6/115"
   ]
  },
  {
   "cell_type": "code",
   "execution_count": 577,
   "metadata": {},
   "outputs": [
    {
     "data": {
      "text/plain": [
       "0.15782037037037036"
      ]
     },
     "execution_count": 577,
     "metadata": {},
     "output_type": "execute_result"
    }
   ],
   "source": [
    "17.0446/108"
   ]
  },
  {
   "cell_type": "code",
   "execution_count": 580,
   "metadata": {},
   "outputs": [
    {
     "data": {
      "text/plain": [
       "0.15808823529411764"
      ]
     },
     "execution_count": 580,
     "metadata": {},
     "output_type": "execute_result"
    }
   ],
   "source": [
    "43/272"
   ]
  },
  {
   "cell_type": "code",
   "execution_count": 582,
   "metadata": {},
   "outputs": [
    {
     "data": {
      "text/plain": [
       "0.2937189814814815"
      ]
     },
     "execution_count": 582,
     "metadata": {},
     "output_type": "execute_result"
    }
   ],
   "source": [
    "(27.9233+35.52)/2/108"
   ]
  },
  {
   "cell_type": "code",
   "execution_count": 585,
   "metadata": {},
   "outputs": [
    {
     "data": {
      "text/plain": [
       "0.29411764705882354"
      ]
     },
     "execution_count": 585,
     "metadata": {},
     "output_type": "execute_result"
    }
   ],
   "source": [
    "80/272"
   ]
  },
  {
   "cell_type": "code",
   "execution_count": 586,
   "metadata": {},
   "outputs": [
    {
     "data": {
      "text/plain": [
       "0.49229814814814815"
      ]
     },
     "execution_count": 586,
     "metadata": {},
     "output_type": "execute_result"
    }
   ],
   "source": [
    "(48.4007+57.9357)/2/108"
   ]
  },
  {
   "cell_type": "code",
   "execution_count": 596,
   "metadata": {},
   "outputs": [
    {
     "data": {
      "text/plain": [
       "0.49264705882352944"
      ]
     },
     "execution_count": 596,
     "metadata": {},
     "output_type": "execute_result"
    }
   ],
   "source": [
    "134/272"
   ]
  },
  {
   "cell_type": "code",
   "execution_count": 597,
   "metadata": {},
   "outputs": [
    {
     "data": {
      "text/plain": [
       "0.5811939814814815"
      ]
     },
     "execution_count": 597,
     "metadata": {},
     "output_type": "execute_result"
    }
   ],
   "source": [
    "(58.4706+67.0673)/2/108"
   ]
  },
  {
   "cell_type": "code",
   "execution_count": 600,
   "metadata": {},
   "outputs": [
    {
     "data": {
      "text/plain": [
       "0.5808823529411765"
      ]
     },
     "execution_count": 600,
     "metadata": {},
     "output_type": "execute_result"
    }
   ],
   "source": [
    "158/272"
   ]
  },
  {
   "cell_type": "code",
   "execution_count": 602,
   "metadata": {},
   "outputs": [
    {
     "data": {
      "text/plain": [
       "0.6767625"
      ]
     },
     "execution_count": 602,
     "metadata": {},
     "output_type": "execute_result"
    }
   ],
   "source": [
    "(67.6362+78.5445)/2/108"
   ]
  },
  {
   "cell_type": "code",
   "execution_count": 607,
   "metadata": {},
   "outputs": [
    {
     "data": {
      "text/plain": [
       "0.6764705882352942"
      ]
     },
     "execution_count": 607,
     "metadata": {},
     "output_type": "execute_result"
    }
   ],
   "source": [
    "184/272"
   ]
  },
  {
   "cell_type": "code",
   "execution_count": 608,
   "metadata": {},
   "outputs": [
    {
     "data": {
      "text/plain": [
       "0.8059675925925925"
      ]
     },
     "execution_count": 608,
     "metadata": {},
     "output_type": "execute_result"
    }
   ],
   "source": [
    "(95.5445+78.5445)/2/108"
   ]
  },
  {
   "cell_type": "code",
   "execution_count": 610,
   "metadata": {},
   "outputs": [
    {
     "data": {
      "text/plain": [
       "0.8051470588235294"
      ]
     },
     "execution_count": 610,
     "metadata": {},
     "output_type": "execute_result"
    }
   ],
   "source": [
    "219/272"
   ]
  },
  {
   "cell_type": "code",
   "execution_count": 613,
   "metadata": {},
   "outputs": [
    {
     "data": {
      "text/plain": [
       "0.7596712962962963"
      ]
     },
     "execution_count": 613,
     "metadata": {},
     "output_type": "execute_result"
    }
   ],
   "source": [
    "(82.0445)/108"
   ]
  },
  {
   "cell_type": "code",
   "execution_count": 619,
   "metadata": {},
   "outputs": [
    {
     "data": {
      "text/plain": [
       "0.7610294117647058"
      ]
     },
     "execution_count": 619,
     "metadata": {},
     "output_type": "execute_result"
    }
   ],
   "source": [
    "207/272"
   ]
  },
  {
   "cell_type": "code",
   "execution_count": 622,
   "metadata": {},
   "outputs": [
    {
     "data": {
      "text/plain": [
       "0.838375"
      ]
     },
     "execution_count": 622,
     "metadata": {},
     "output_type": "execute_result"
    }
   ],
   "source": [
    "(95.5445 - 5) /108"
   ]
  },
  {
   "cell_type": "code",
   "execution_count": 626,
   "metadata": {},
   "outputs": [
    {
     "data": {
      "text/plain": [
       "0.8382352941176471"
      ]
     },
     "execution_count": 626,
     "metadata": {},
     "output_type": "execute_result"
    }
   ],
   "source": [
    "228/272"
   ]
  },
  {
   "cell_type": "code",
   "execution_count": 628,
   "metadata": {},
   "outputs": [
    {
     "data": {
      "text/plain": [
       "0.25"
      ]
     },
     "execution_count": 628,
     "metadata": {},
     "output_type": "execute_result"
    }
   ],
   "source": [
    "9.5/38"
   ]
  },
  {
   "cell_type": "code",
   "execution_count": 632,
   "metadata": {},
   "outputs": [
    {
     "data": {
      "text/plain": [
       "0.25"
      ]
     },
     "execution_count": 632,
     "metadata": {},
     "output_type": "execute_result"
    }
   ],
   "source": [
    "25/100"
   ]
  },
  {
   "cell_type": "code",
   "execution_count": 634,
   "metadata": {},
   "outputs": [
    {
     "data": {
      "text/plain": [
       "0.16666666666666666"
      ]
     },
     "execution_count": 634,
     "metadata": {},
     "output_type": "execute_result"
    }
   ],
   "source": [
    "0.25/3*2"
   ]
  },
  {
   "cell_type": "code",
   "execution_count": 636,
   "metadata": {},
   "outputs": [],
   "source": [
    "nozzle_1 = np.array([277-43-2, 50, 120-6])\n",
    "nozzle_2 = np.array([277-80-2, 50, 120-6])\n",
    "nozzle_3 = np.array([277-134-2, 50, 120-6])\n",
    "nozzle_4 = np.array([277-158-2, 50, 120-6])\n",
    "\n",
    "nozzle_5 = np.array([277-184-2, 50, 120-6])\n",
    "nozzle_8 = np.array([277-184-2, 50-17, 120-6])\n",
    "nozzle_11 = np.array([277-184-2, 50+17, 120-6])\n",
    "\n",
    "nozzle_6 = np.array([277-207-2, 50, 120-6])\n",
    "nozzle_9 = np.array([277-207-2, 50-17, 120-6])\n",
    "nozzle_12 = np.array([277-207-2, 50+17, 120-6])\n",
    "\n",
    "nozzle_7 = np.array([277-228-2, 50, 120-6])\n",
    "nozzle_10 = np.array([277-228-2, 50-17, 120-6])\n",
    "nozzle_13 = np.array([277-228-2, 50+17, 120-6])\n"
   ]
  },
  {
   "cell_type": "code",
   "execution_count": 637,
   "metadata": {},
   "outputs": [
    {
     "data": {
      "application/vnd.jupyter.widget-view+json": {
       "model_id": "d30bbcb4b91944c08d05e34264482727",
       "version_major": 2,
       "version_minor": 0
      },
      "text/plain": [
       "Widget(value='<iframe src=\"http://localhost:53499/index.html?ui=P_0x1cd4e3103e0_151&reconnect=auto\" class=\"pyv…"
      ]
     },
     "metadata": {},
     "output_type": "display_data"
    }
   ],
   "source": [
    "depo1 = torch.Tensor(np.logical_and(film[:, :, :] !=0, film[:, :, :] < 10)).to_sparse()\n",
    "depo1 = depo1.indices().numpy().T\n",
    "\n",
    "substrute = torch.Tensor(film[:, :, :]==10).to_sparse()\n",
    "substrute = substrute.indices().numpy().T\n",
    "depomesh = pv.PolyData(depo1)\n",
    "depomesh[\"radius\"] = np.ones(depo1.shape[0])*0.5\n",
    "geom = pv.Box()\n",
    "\n",
    "submesh = pv.PolyData(substrute)\n",
    "submesh[\"radius\"] = np.ones(substrute.shape[0])*0.5\n",
    "\n",
    "# Progress bar is a new feature on master branch\n",
    "depoglyphed = depomesh.glyph(scale=\"radius\", geom=geom) # progress_bar=True)\n",
    "subglyphed = submesh.glyph(scale=\"radius\", geom=geom) # progress_bar=True)\n",
    "\n",
    "\n",
    "sphere1 = pv.Sphere(radius=4, center=nozzle_1)\n",
    "sphere2 = pv.Sphere(radius=4, center=nozzle_2)\n",
    "sphere3 = pv.Sphere(radius=4, center=nozzle_3)\n",
    "sphere4 = pv.Sphere(radius=4, center=nozzle_4)\n",
    "sphere5 = pv.Sphere(radius=4, center=nozzle_5)\n",
    "sphere6 = pv.Sphere(radius=4, center=nozzle_6)\n",
    "sphere7 = pv.Sphere(radius=4, center=nozzle_7)\n",
    "sphere8 = pv.Sphere(radius=4, center=nozzle_8)\n",
    "sphere9 = pv.Sphere(radius=4, center=nozzle_9)\n",
    "sphere10 = pv.Sphere(radius=4, center=nozzle_10)\n",
    "sphere11 = pv.Sphere(radius=4, center=nozzle_11)\n",
    "sphere12 = pv.Sphere(radius=4, center=nozzle_12)\n",
    "sphere13 = pv.Sphere(radius=4, center=nozzle_13)\n",
    "\n",
    "p = pv.Plotter()\n",
    "\n",
    "p.add_mesh(sphere1, show_edges=True, opacity=0.5, color=\"w\")\n",
    "p.add_mesh(sphere2, show_edges=True, opacity=0.5, color=\"w\")\n",
    "p.add_mesh(sphere3, show_edges=True, opacity=0.5, color=\"w\")\n",
    "p.add_mesh(sphere4, show_edges=True, opacity=0.5, color=\"w\")\n",
    "p.add_mesh(sphere5, show_edges=True, opacity=0.5, color=\"w\")\n",
    "p.add_mesh(sphere6, show_edges=True, opacity=0.5, color=\"w\")\n",
    "p.add_mesh(sphere7, show_edges=True, opacity=0.5, color=\"w\")\n",
    "p.add_mesh(sphere8, show_edges=True, opacity=0.5, color=\"w\")\n",
    "p.add_mesh(sphere9, show_edges=True, opacity=0.5, color=\"w\")\n",
    "p.add_mesh(sphere10, show_edges=True, opacity=0.5, color=\"w\")\n",
    "p.add_mesh(sphere11, show_edges=True, opacity=0.5, color=\"w\")\n",
    "p.add_mesh(sphere12, show_edges=True, opacity=0.5, color=\"w\")\n",
    "p.add_mesh(sphere13, show_edges=True, opacity=0.5, color=\"w\")\n",
    "\n",
    "p.add_mesh(depoglyphed, color='cyan')\n",
    "p.add_mesh(subglyphed, color='dimgray')\n",
    "p.enable_eye_dome_lighting()\n",
    "p.show_grid()\n",
    "p.show()"
   ]
  },
  {
   "cell_type": "code",
   "execution_count": 638,
   "metadata": {},
   "outputs": [],
   "source": [
    "np.save('ID445_boat', film)"
   ]
  },
  {
   "cell_type": "code",
   "execution_count": null,
   "metadata": {},
   "outputs": [],
   "source": []
  },
  {
   "cell_type": "code",
   "execution_count": null,
   "metadata": {},
   "outputs": [],
   "source": []
  },
  {
   "cell_type": "code",
   "execution_count": null,
   "metadata": {},
   "outputs": [],
   "source": [
    "import DSMC_depoSimulator_generateWithtime_nozzle"
   ]
  },
  {
   "cell_type": "code",
   "execution_count": 66,
   "metadata": {},
   "outputs": [
    {
     "name": "stderr",
     "output_type": "stream",
     "text": [
      "d:\\ysy\\etching\\Collision.py:31: RuntimeWarning: divide by zero encountered in divide\n",
      "  diVr = d_refi * np.sqrt(((kb*Tref)/(eVr*self.q))**(wi-1/2)*gamma(5/2 - wi))\n",
      "running:  36%|███████████████████                                  | 36.0/100 [07:31<13:22, 12.5s/B]"
     ]
    },
    {
     "name": "stdout",
     "output_type": "stream",
     "text": [
      "depo finish\n"
     ]
    },
    {
     "name": "stderr",
     "output_type": "stream",
     "text": [
      "\n"
     ]
    }
   ],
   "source": [
    "logname = 'DSMCTS60_trenchDepo_0827'\n",
    "test = DSMC_depoSimulator_generateWithtime_nozzle.depo(mirror=True,collision=False,velNormalize=True,pressure_pa=0.2, temperature=300, chamberSize=film.shape, DXsec=DXsec_Al,\n",
    "                               param = [1.6, -0.7], TS = 0.3, N = int(1e6), \n",
    "                               sub_xy=[0,0], film=film, n=1, cellSize=film.shape, \n",
    "                               celllength=1e-5, kdtreeN=5, tstep=1e-5, thickness=110,substrateTop=80,posGeneratorType='gen1', logname=logname)\n",
    "\n",
    "deposit = test.depo_position_increase_cosVel(125,  int(1e6), 2e-2, 0.3, 5)"
   ]
  },
  {
   "cell_type": "code",
   "execution_count": 68,
   "metadata": {},
   "outputs": [],
   "source": [
    "np.save('cvd_void_subDepo_thk110', deposit[0])"
   ]
  }
 ],
 "metadata": {
  "kernelspec": {
   "display_name": "base",
   "language": "python",
   "name": "python3"
  },
  "language_info": {
   "codemirror_mode": {
    "name": "ipython",
    "version": 3
   },
   "file_extension": ".py",
   "mimetype": "text/x-python",
   "name": "python",
   "nbconvert_exporter": "python",
   "pygments_lexer": "ipython3",
   "version": "3.12.5"
  }
 },
 "nbformat": 4,
 "nbformat_minor": 2
}

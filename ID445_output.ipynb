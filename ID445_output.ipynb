{
 "cells": [
  {
   "cell_type": "code",
   "execution_count": 1,
   "metadata": {},
   "outputs": [],
   "source": [
    "import numpy as np\n",
    "import pyvista as pv\n",
    "import torch"
   ]
  },
  {
   "cell_type": "code",
   "execution_count": 2,
   "metadata": {},
   "outputs": [],
   "source": [
    "import DSMC_depoSimulator_generateWithtime_nozzle"
   ]
  },
  {
   "cell_type": "code",
   "execution_count": 3,
   "metadata": {},
   "outputs": [],
   "source": [
    "film = np.load('ID445_boat.npy')"
   ]
  },
  {
   "cell_type": "code",
   "execution_count": 4,
   "metadata": {},
   "outputs": [
    {
     "name": "stdout",
     "output_type": "stream",
     "text": [
      "(277, 100, 120)\n"
     ]
    }
   ],
   "source": [
    "print(film.shape)"
   ]
  },
  {
   "cell_type": "code",
   "execution_count": 5,
   "metadata": {},
   "outputs": [],
   "source": [
    "nozzle_1 = np.array([277-43-2, 49.5, 120-6])\n",
    "nozzle_2 = np.array([277-80-2, 49.5, 120-6])\n",
    "nozzle_3 = np.array([277-134-2, 49.5, 120-6])\n",
    "nozzle_4 = np.array([277-158-2, 49.5, 120-6])\n",
    "\n",
    "nozzle_5 = np.array([277-184-2, 49.5, 120-6])\n",
    "nozzle_8 = np.array([277-184-2, 49.5-17, 120-6])\n",
    "nozzle_11 = np.array([277-184-2, 49.5+17, 120-6])\n",
    "\n",
    "nozzle_6 = np.array([277-207-2, 49.5, 120-6])\n",
    "nozzle_9 = np.array([277-207-2, 49.5-17, 120-6])\n",
    "nozzle_12 = np.array([277-207-2, 49.5+17, 120-6])\n",
    "\n",
    "nozzle_7 = np.array([277-228-2, 49.5, 120-6])\n",
    "nozzle_10 = np.array([277-228-2, 49.5-17, 120-6])\n",
    "nozzle_13 = np.array([277-228-2, 49.5+17, 120-6])"
   ]
  },
  {
   "cell_type": "code",
   "execution_count": 6,
   "metadata": {},
   "outputs": [
    {
     "name": "stderr",
     "output_type": "stream",
     "text": [
      "c:\\Users\\urcs049\\AppData\\Local\\anaconda3\\Lib\\site-packages\\pyvista\\core\\utilities\\points.py:55: UserWarning: Points is not a float type. This can cause issues when transforming or applying filters. Casting to ``np.float32``. Disable this by passing ``force_float=False``.\n",
      "  warnings.warn(\n",
      "c:\\Users\\urcs049\\AppData\\Local\\anaconda3\\Lib\\site-packages\\pyvista\\core\\filters\\data_set.py:2386: UserWarning: No vector-like data to use for orient. orient will be set to False.\n",
      "  warnings.warn(\"No vector-like data to use for orient. orient will be set to False.\")\n"
     ]
    },
    {
     "data": {
      "application/vnd.jupyter.widget-view+json": {
       "model_id": "833c7bdce9a14408bbca51d154128009",
       "version_major": 2,
       "version_minor": 0
      },
      "text/plain": [
       "Widget(value='<iframe src=\"http://localhost:49222/index.html?ui=P_0x2ad6fd01fa0_0&reconnect=auto\" class=\"pyvis…"
      ]
     },
     "metadata": {},
     "output_type": "display_data"
    }
   ],
   "source": [
    "depo1 = torch.Tensor(np.logical_and(film[:, :, :] !=0, film[:, :, :] < 10)).to_sparse()\n",
    "depo1 = depo1.indices().numpy().T\n",
    "\n",
    "substrute = torch.Tensor(film[:, :, :]==10).to_sparse()\n",
    "substrute = substrute.indices().numpy().T\n",
    "depomesh = pv.PolyData(depo1)\n",
    "depomesh[\"radius\"] = np.ones(depo1.shape[0])*0.5\n",
    "geom = pv.Box()\n",
    "\n",
    "submesh = pv.PolyData(substrute)\n",
    "submesh[\"radius\"] = np.ones(substrute.shape[0])*0.5\n",
    "\n",
    "# Progress bar is a new feature on master branch\n",
    "depoglyphed = depomesh.glyph(scale=\"radius\", geom=geom) # progress_bar=True)\n",
    "subglyphed = submesh.glyph(scale=\"radius\", geom=geom) # progress_bar=True)\n",
    "\n",
    "\n",
    "sphere1 = pv.Sphere(radius=4, center=nozzle_1)\n",
    "sphere2 = pv.Sphere(radius=4, center=nozzle_2)\n",
    "sphere3 = pv.Sphere(radius=4, center=nozzle_3)\n",
    "sphere4 = pv.Sphere(radius=4, center=nozzle_4)\n",
    "sphere5 = pv.Sphere(radius=4, center=nozzle_5)\n",
    "sphere6 = pv.Sphere(radius=4, center=nozzle_6)\n",
    "sphere7 = pv.Sphere(radius=4, center=nozzle_7)\n",
    "sphere8 = pv.Sphere(radius=4, center=nozzle_8)\n",
    "sphere9 = pv.Sphere(radius=4, center=nozzle_9)\n",
    "sphere10 = pv.Sphere(radius=4, center=nozzle_10)\n",
    "sphere11 = pv.Sphere(radius=4, center=nozzle_11)\n",
    "sphere12 = pv.Sphere(radius=4, center=nozzle_12)\n",
    "sphere13 = pv.Sphere(radius=4, center=nozzle_13)\n",
    "\n",
    "p = pv.Plotter()\n",
    "\n",
    "p.add_mesh(sphere1, show_edges=True, opacity=0.5, color=\"w\")\n",
    "p.add_mesh(sphere2, show_edges=True, opacity=0.5, color=\"w\")\n",
    "p.add_mesh(sphere3, show_edges=True, opacity=0.5, color=\"w\")\n",
    "p.add_mesh(sphere4, show_edges=True, opacity=0.5, color=\"w\")\n",
    "p.add_mesh(sphere5, show_edges=True, opacity=0.5, color=\"w\")\n",
    "p.add_mesh(sphere6, show_edges=True, opacity=0.5, color=\"w\")\n",
    "p.add_mesh(sphere7, show_edges=True, opacity=0.5, color=\"w\")\n",
    "p.add_mesh(sphere8, show_edges=True, opacity=0.5, color=\"w\")\n",
    "p.add_mesh(sphere9, show_edges=True, opacity=0.5, color=\"w\")\n",
    "p.add_mesh(sphere10, show_edges=True, opacity=0.5, color=\"w\")\n",
    "p.add_mesh(sphere11, show_edges=True, opacity=0.5, color=\"w\")\n",
    "p.add_mesh(sphere12, show_edges=True, opacity=0.5, color=\"w\")\n",
    "p.add_mesh(sphere13, show_edges=True, opacity=0.5, color=\"w\")\n",
    "\n",
    "p.add_mesh(depoglyphed, color='cyan')\n",
    "p.add_mesh(subglyphed, color='dimgray')\n",
    "p.enable_eye_dome_lighting()\n",
    "p.show_grid()\n",
    "p.show()"
   ]
  },
  {
   "cell_type": "code",
   "execution_count": 7,
   "metadata": {},
   "outputs": [],
   "source": [
    "vel_pos = np.load('vel_pos_ID445.npy')"
   ]
  },
  {
   "cell_type": "code",
   "execution_count": 8,
   "metadata": {},
   "outputs": [
    {
     "name": "stdout",
     "output_type": "stream",
     "text": [
      "(9999798, 6)\n"
     ]
    }
   ],
   "source": [
    "print(vel_pos.shape)"
   ]
  },
  {
   "cell_type": "code",
   "execution_count": 9,
   "metadata": {},
   "outputs": [],
   "source": [
    "DXsec_Al = np.load('./DXsec_Al_1e8.npy')"
   ]
  },
  {
   "cell_type": "code",
   "execution_count": 10,
   "metadata": {},
   "outputs": [
    {
     "name": "stdout",
     "output_type": "stream",
     "text": [
      "[[ 4.18260187e-01 -1.58574574e-02 -9.08188833e-01  2.32000000e+02\n",
      "   4.95000000e+01  1.14000000e+02]\n",
      " [ 4.22323876e-01  5.76101491e-04 -9.06444820e-01  2.32000000e+02\n",
      "   4.95000000e+01  1.14000000e+02]\n",
      " [ 4.45726375e-01 -3.38497323e-02 -8.94529035e-01  2.32000000e+02\n",
      "   4.95000000e+01  1.14000000e+02]\n",
      " [ 4.21395113e-01 -4.99137147e-04 -9.06877009e-01  2.32000000e+02\n",
      "   4.95000000e+01  1.14000000e+02]\n",
      " [ 4.22472357e-01 -7.82458313e-05 -9.06375806e-01  2.32000000e+02\n",
      "   4.95000000e+01  1.14000000e+02]\n",
      " [ 4.15013728e-01 -2.13841777e-02 -9.09563809e-01  2.32000000e+02\n",
      "   4.95000000e+01  1.14000000e+02]\n",
      " [ 4.08406898e-01  2.30702376e-02 -9.12508394e-01  2.32000000e+02\n",
      "   4.95000000e+01  1.14000000e+02]\n",
      " [ 4.38422950e-01 -2.14844384e-02 -8.98511957e-01  2.32000000e+02\n",
      "   4.95000000e+01  1.14000000e+02]\n",
      " [ 4.29468044e-01 -2.75610409e-02 -9.02661392e-01  2.32000000e+02\n",
      "   4.95000000e+01  1.14000000e+02]\n",
      " [ 4.30486890e-01  6.75329632e-03 -9.02571565e-01  2.32000000e+02\n",
      "   4.95000000e+01  1.14000000e+02]]\n"
     ]
    }
   ],
   "source": [
    "print(vel_pos[:10])"
   ]
  },
  {
   "cell_type": "code",
   "execution_count": 11,
   "metadata": {},
   "outputs": [],
   "source": [
    "np.random.shuffle(vel_pos)"
   ]
  },
  {
   "cell_type": "code",
   "execution_count": 12,
   "metadata": {},
   "outputs": [
    {
     "data": {
      "text/plain": [
       "0.44247787610619466"
      ]
     },
     "execution_count": 12,
     "metadata": {},
     "output_type": "execute_result"
    }
   ],
   "source": [
    "20/45.2"
   ]
  },
  {
   "cell_type": "code",
   "execution_count": 13,
   "metadata": {},
   "outputs": [
    {
     "data": {
      "text/plain": [
       "0.4166666666666667"
      ]
     },
     "execution_count": 13,
     "metadata": {},
     "output_type": "execute_result"
    }
   ],
   "source": [
    "50/120"
   ]
  },
  {
   "cell_type": "code",
   "execution_count": 14,
   "metadata": {},
   "outputs": [
    {
     "name": "stderr",
     "output_type": "stream",
     "text": [
      "d:\\ysy\\etching\\Collision.py:31: RuntimeWarning: divide by zero encountered in divide\n",
      "  diVr = d_refi * np.sqrt(((kb*Tref)/(eVr*self.q))**(wi-1/2)*gamma(5/2 - wi))\n"
     ]
    },
    {
     "name": "stdout",
     "output_type": "stream",
     "text": [
      "p1 shape (1999, 3)\n"
     ]
    },
    {
     "name": "stderr",
     "output_type": "stream",
     "text": [
      "running:  47%|████████████████████████▉                            | 47.0/100 [24:01<27:05, 30.7s/B]"
     ]
    },
    {
     "name": "stdout",
     "output_type": "stream",
     "text": [
      "depo finish\n"
     ]
    },
    {
     "name": "stderr",
     "output_type": "stream",
     "text": [
      "\n"
     ]
    }
   ],
   "source": [
    "logname = 'ID445_0903'\n",
    "test = DSMC_depoSimulator_generateWithtime_nozzle.depo(mirror=True,collision=False,velNormalize=True,pressure_pa=0.2, temperature=300, chamberSize=film.shape, DXsec=DXsec_Al,\n",
    "                               param = [1.6, -0.7], TS = 0.3, N = int(1e6), \n",
    "                               sub_xy=[0,0], film=film, n=1, cellSize=film.shape, \n",
    "                               celllength=1e-5, kdtreeN=5, tstep=1e-5, thickness=50,substrateTop=5,posGeneratorType='gen1', logname=logname)\n",
    "\n",
    "deposit = test.depo_nozzle_vel_pos_fromDSMC(125, 1, 5e-2, 0.3, vel_pos)"
   ]
  },
  {
   "cell_type": "code",
   "execution_count": 16,
   "metadata": {},
   "outputs": [],
   "source": [
    "np.save('ID445_output', deposit[0])"
   ]
  },
  {
   "cell_type": "code",
   "execution_count": 15,
   "metadata": {},
   "outputs": [
    {
     "name": "stderr",
     "output_type": "stream",
     "text": [
      "c:\\Users\\urcs049\\AppData\\Local\\anaconda3\\Lib\\site-packages\\pyvista\\core\\utilities\\points.py:55: UserWarning: Points is not a float type. This can cause issues when transforming or applying filters. Casting to ``np.float32``. Disable this by passing ``force_float=False``.\n",
      "  warnings.warn(\n",
      "c:\\Users\\urcs049\\AppData\\Local\\anaconda3\\Lib\\site-packages\\pyvista\\core\\filters\\data_set.py:2386: UserWarning: No vector-like data to use for orient. orient will be set to False.\n",
      "  warnings.warn(\"No vector-like data to use for orient. orient will be set to False.\")\n"
     ]
    },
    {
     "data": {
      "application/vnd.jupyter.widget-view+json": {
       "model_id": "39dc5d329e9541f9a26b49d67b158644",
       "version_major": 2,
       "version_minor": 0
      },
      "text/plain": [
       "Widget(value='<iframe src=\"http://localhost:49222/index.html?ui=P_0x2ad6fdb51f0_1&reconnect=auto\" class=\"pyvis…"
      ]
     },
     "metadata": {},
     "output_type": "display_data"
    }
   ],
   "source": [
    "depo1 = torch.Tensor(np.logical_and(deposit[0][:, :, :] ==20, deposit[0][:, :, :] != 10)).to_sparse()\n",
    "depo1 = depo1.indices().numpy().T\n",
    "\n",
    "substrute = torch.Tensor(deposit[0][:, :, :]==10).to_sparse()\n",
    "substrute = substrute.indices().numpy().T\n",
    "depomesh = pv.PolyData(depo1)\n",
    "depomesh[\"radius\"] = np.ones(depo1.shape[0])*0.5\n",
    "geom = pv.Box()\n",
    "\n",
    "submesh = pv.PolyData(substrute)\n",
    "submesh[\"radius\"] = np.ones(substrute.shape[0])*0.5\n",
    "\n",
    "# Progress bar is a new feature on master branch\n",
    "depoglyphed = depomesh.glyph(scale=\"radius\", geom=geom) # progress_bar=True)\n",
    "subglyphed = submesh.glyph(scale=\"radius\", geom=geom) # progress_bar=True)\n",
    "\n",
    "p = pv.Plotter()\n",
    "p.add_mesh(depoglyphed, color='cyan')\n",
    "p.add_mesh(subglyphed, color='dimgray')\n",
    "p.enable_eye_dome_lighting()\n",
    "p.show_grid()\n",
    "p.show()"
   ]
  },
  {
   "cell_type": "code",
   "execution_count": 17,
   "metadata": {},
   "outputs": [
    {
     "name": "stderr",
     "output_type": "stream",
     "text": [
      "c:\\Users\\urcs049\\AppData\\Local\\anaconda3\\Lib\\site-packages\\pyvista\\core\\utilities\\points.py:55: UserWarning: Points is not a float type. This can cause issues when transforming or applying filters. Casting to ``np.float32``. Disable this by passing ``force_float=False``.\n",
      "  warnings.warn(\n",
      "c:\\Users\\urcs049\\AppData\\Local\\anaconda3\\Lib\\site-packages\\pyvista\\core\\filters\\data_set.py:2386: UserWarning: No vector-like data to use for orient. orient will be set to False.\n",
      "  warnings.warn(\"No vector-like data to use for orient. orient will be set to False.\")\n"
     ]
    },
    {
     "data": {
      "application/vnd.jupyter.widget-view+json": {
       "model_id": "316b9d39a45f468293639c3ca2b19601",
       "version_major": 2,
       "version_minor": 0
      },
      "text/plain": [
       "Widget(value='<iframe src=\"http://localhost:65100/index.html?ui=P_0x20c12e38320_3&reconnect=auto\" class=\"pyvis…"
      ]
     },
     "metadata": {},
     "output_type": "display_data"
    }
   ],
   "source": [
    "depo1 = torch.Tensor(np.logical_and(deposit[0][:, 50:, :] ==20, deposit[0][:, 50:, :] != 10)).to_sparse()\n",
    "depo1 = depo1.indices().numpy().T\n",
    "\n",
    "substrute = torch.Tensor(deposit[0][:, 50:, :]==10).to_sparse()\n",
    "substrute = substrute.indices().numpy().T\n",
    "depomesh = pv.PolyData(depo1)\n",
    "depomesh[\"radius\"] = np.ones(depo1.shape[0])*0.5\n",
    "geom = pv.Box()\n",
    "\n",
    "submesh = pv.PolyData(substrute)\n",
    "submesh[\"radius\"] = np.ones(substrute.shape[0])*0.5\n",
    "\n",
    "# Progress bar is a new feature on master branch\n",
    "depoglyphed = depomesh.glyph(scale=\"radius\", geom=geom) # progress_bar=True)\n",
    "subglyphed = submesh.glyph(scale=\"radius\", geom=geom) # progress_bar=True)\n",
    "\n",
    "p = pv.Plotter()\n",
    "p.add_mesh(depoglyphed, color='cyan')\n",
    "p.add_mesh(subglyphed, color='dimgray')\n",
    "p.enable_eye_dome_lighting()\n",
    "p.show_grid()\n",
    "p.show()"
   ]
  },
  {
   "cell_type": "code",
   "execution_count": 16,
   "metadata": {},
   "outputs": [
    {
     "name": "stderr",
     "output_type": "stream",
     "text": [
      "c:\\Users\\urcs049\\AppData\\Local\\anaconda3\\Lib\\site-packages\\pyvista\\core\\utilities\\points.py:55: UserWarning: Points is not a float type. This can cause issues when transforming or applying filters. Casting to ``np.float32``. Disable this by passing ``force_float=False``.\n",
      "  warnings.warn(\n",
      "c:\\Users\\urcs049\\AppData\\Local\\anaconda3\\Lib\\site-packages\\pyvista\\core\\filters\\data_set.py:2386: UserWarning: No vector-like data to use for orient. orient will be set to False.\n",
      "  warnings.warn(\"No vector-like data to use for orient. orient will be set to False.\")\n"
     ]
    },
    {
     "data": {
      "application/vnd.jupyter.widget-view+json": {
       "model_id": "90981462bfba4264a40026d8569b1bf1",
       "version_major": 2,
       "version_minor": 0
      },
      "text/plain": [
       "Widget(value='<iframe src=\"http://localhost:65100/index.html?ui=P_0x20c12e3b3b0_2&reconnect=auto\" class=\"pyvis…"
      ]
     },
     "metadata": {},
     "output_type": "display_data"
    }
   ],
   "source": [
    "depo1 = torch.Tensor(np.logical_and(deposit[0][:60, :, :] ==20, deposit[0][:60, :, :] != 10)).to_sparse()\n",
    "depo1 = depo1.indices().numpy().T\n",
    "\n",
    "substrute = torch.Tensor(deposit[0][:60, :, :]==10).to_sparse()\n",
    "substrute = substrute.indices().numpy().T\n",
    "depomesh = pv.PolyData(depo1)\n",
    "depomesh[\"radius\"] = np.ones(depo1.shape[0])*0.5\n",
    "geom = pv.Box()\n",
    "\n",
    "submesh = pv.PolyData(substrute)\n",
    "submesh[\"radius\"] = np.ones(substrute.shape[0])*0.5\n",
    "\n",
    "# Progress bar is a new feature on master branch\n",
    "depoglyphed = depomesh.glyph(scale=\"radius\", geom=geom) # progress_bar=True)\n",
    "subglyphed = submesh.glyph(scale=\"radius\", geom=geom) # progress_bar=True)\n",
    "\n",
    "p = pv.Plotter()\n",
    "p.add_mesh(depoglyphed, color='cyan')\n",
    "p.add_mesh(subglyphed, color='dimgray')\n",
    "p.enable_eye_dome_lighting()\n",
    "p.show_grid()\n",
    "p.show()"
   ]
  },
  {
   "cell_type": "code",
   "execution_count": null,
   "metadata": {},
   "outputs": [],
   "source": []
  }
 ],
 "metadata": {
  "kernelspec": {
   "display_name": "base",
   "language": "python",
   "name": "python3"
  },
  "language_info": {
   "codemirror_mode": {
    "name": "ipython",
    "version": 3
   },
   "file_extension": ".py",
   "mimetype": "text/x-python",
   "name": "python",
   "nbconvert_exporter": "python",
   "pygments_lexer": "ipython3",
   "version": "3.12.5"
  }
 },
 "nbformat": 4,
 "nbformat_minor": 2
}

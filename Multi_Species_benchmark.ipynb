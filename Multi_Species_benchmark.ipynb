{
 "cells": [
  {
   "cell_type": "code",
   "execution_count": null,
   "metadata": {},
   "outputs": [],
   "source": [
    "import numpy as np\n",
    "import time as Time\n",
    "from numba import jit\n",
    "import matplotlib.pyplot as plt\n",
    "import pyvista as pv\n",
    "import torch"
   ]
  },
  {
   "cell_type": "code",
   "execution_count": null,
   "metadata": {},
   "outputs": [],
   "source": [
    "film = np.zeros((100, 100, 100, 2))\n",
    "\n",
    "bottom = 10\n",
    "film[:, :, 0:bottom, 0] = 10 # bottom\n",
    "\n",
    "height = 80\n",
    "\n",
    "film[:, :40, 0:height, 0] = 10\n",
    "film[:, 60:, 0:height, 0] = 10\n"
   ]
  },
  {
   "cell_type": "code",
   "execution_count": null,
   "metadata": {},
   "outputs": [],
   "source": [
    "deposit0 = np.load('./cvd_void_sub_thk80.npy')\n",
    "\n",
    "\n",
    "depo1 = torch.Tensor(deposit0[:, :, :]==20).to_sparse()\n",
    "depo1 = depo1.indices().numpy().T\n",
    "\n",
    "substrute = torch.Tensor(deposit0[:, :, :]==10).to_sparse()\n",
    "substrute = substrute.indices().numpy().T\n",
    "depomesh = pv.PolyData(depo1)\n",
    "depomesh[\"radius\"] = np.ones(depo1.shape[0])*0.5\n",
    "geom = pv.Box()\n",
    "\n",
    "submesh = pv.PolyData(substrute)\n",
    "submesh[\"radius\"] = np.ones(substrute.shape[0])*0.5\n",
    "\n",
    "# Progress bar is a new feature on master branch\n",
    "depoglyphed = depomesh.glyph(scale=\"radius\", geom=geom) # progress_bar=True)\n",
    "subglyphed = submesh.glyph(scale=\"radius\", geom=geom) # progress_bar=True)\n",
    "\n",
    "p = pv.Plotter()\n",
    "p.add_mesh(depoglyphed, color='cyan')\n",
    "p.add_mesh(subglyphed, color='dimgray')\n",
    "p.enable_eye_dome_lighting()\n",
    "p.show_grid()\n",
    "p.show()"
   ]
  },
  {
   "cell_type": "code",
   "execution_count": null,
   "metadata": {},
   "outputs": [],
   "source": [
    "depo1 = torch.Tensor(deposit0[:, 62:139, :]==20).to_sparse()\n",
    "depo1 = depo1.indices().numpy().T\n",
    "\n",
    "substrute = torch.Tensor(deposit0[:, 62:139, :]==10).to_sparse()\n",
    "substrute = substrute.indices().numpy().T\n",
    "depomesh = pv.PolyData(depo1)\n",
    "depomesh[\"radius\"] = np.ones(depo1.shape[0])*0.5\n",
    "geom = pv.Box()\n",
    "\n",
    "submesh = pv.PolyData(substrute)\n",
    "submesh[\"radius\"] = np.ones(substrute.shape[0])*0.5\n",
    "\n",
    "# Progress bar is a new feature on master branch\n",
    "depoglyphed = depomesh.glyph(scale=\"radius\", geom=geom) # progress_bar=True)\n",
    "subglyphed = submesh.glyph(scale=\"radius\", geom=geom) # progress_bar=True)\n",
    "\n",
    "p = pv.Plotter()\n",
    "p.add_mesh(depoglyphed, color='dimgray')\n",
    "p.add_mesh(subglyphed, color='dimgray')\n",
    "p.enable_eye_dome_lighting()\n",
    "p.show_grid()\n",
    "p.show()"
   ]
  },
  {
   "cell_type": "code",
   "execution_count": null,
   "metadata": {},
   "outputs": [],
   "source": [
    "film = np.zeros((50, 200, 180, 2))\n",
    "\n",
    "bottom = 23\n",
    "film[:, :, 0:bottom, 0] = 10 # bottom\n",
    "\n",
    "film[:, 62:139, :, 0] = deposit0[:, 62:139, :] # bottom\n",
    "\n",
    "# height = 80\n",
    "\n",
    "# film[:, :40, 0:height, 0] = 10\n",
    "# film[:, 60:, 0:height, 0] = 10"
   ]
  },
  {
   "cell_type": "code",
   "execution_count": null,
   "metadata": {},
   "outputs": [],
   "source": [
    "film[25, 80, :]"
   ]
  },
  {
   "cell_type": "code",
   "execution_count": null,
   "metadata": {},
   "outputs": [],
   "source": [
    "film20 = np.array(film == 20)\n",
    "film[film20] = 10"
   ]
  },
  {
   "cell_type": "code",
   "execution_count": null,
   "metadata": {},
   "outputs": [],
   "source": [
    "sumFilm = np.sum(film, axis=-1)\n",
    "\n",
    "print(sumFilm.shape)"
   ]
  },
  {
   "cell_type": "code",
   "execution_count": null,
   "metadata": {},
   "outputs": [],
   "source": [
    "depo1 = torch.Tensor(np.logical_and(sumFilm[:, :, :] !=0, sumFilm[:, :, :] < 10)).to_sparse()\n",
    "depo1 = depo1.indices().numpy().T\n",
    "\n",
    "substrute = torch.Tensor(sumFilm[:, :, :]==10).to_sparse()\n",
    "substrute = substrute.indices().numpy().T\n",
    "depomesh = pv.PolyData(depo1)\n",
    "depomesh[\"radius\"] = np.ones(depo1.shape[0])*0.5\n",
    "geom = pv.Box()\n",
    "\n",
    "submesh = pv.PolyData(substrute)\n",
    "submesh[\"radius\"] = np.ones(substrute.shape[0])*0.5\n",
    "\n",
    "# Progress bar is a new feature on master branch\n",
    "depoglyphed = depomesh.glyph(scale=\"radius\", geom=geom) # progress_bar=True)\n",
    "subglyphed = submesh.glyph(scale=\"radius\", geom=geom) # progress_bar=True)\n",
    "\n",
    "p = pv.Plotter()\n",
    "# p.add_mesh(depoglyphed, color='cyan')\n",
    "p.add_mesh(subglyphed, color='dimgray')\n",
    "p.enable_eye_dome_lighting()\n",
    "p.show()"
   ]
  },
  {
   "cell_type": "code",
   "execution_count": null,
   "metadata": {},
   "outputs": [],
   "source": [
    "def slide2D_fractionZ(film, start, end, direction, fraction, value):\n",
    "    if fraction == '+':\n",
    "        if direction == 'y':\n",
    "            slit = np.linspace(0, np.abs(end[2] - start[2]), np.abs(end[1] - start[1]))\n",
    "            fraction = np.abs(int(slit[0]-slit[1]))\n",
    "            print('y', slit)\n",
    "            print('fraction', fraction)\n",
    "            for i in range(np.abs(end[1] - start[1])):\n",
    "                if end[1] > start[1]:\n",
    "                    film[start[0]:end[0], start[1] + i, start[2]:start[2] + int(slit[i])] = value\n",
    "                    for j in range(fraction):\n",
    "                        film[start[0]:end[0], start[1] + i,start[2]+int(slit[i])+j] = 1/(fraction+1)*(fraction-j)\n",
    "                elif end[1] < start[1]:\n",
    "                    film[start[0]:end[0], start[1] - i, start[2]:start[2] + int(slit[i])] = value\n",
    "                    for j in range(fraction):\n",
    "                        film[start[0]:end[0], start[1] - i,start[2]+int(slit[i])+j] = 1/(fraction+1)*(fraction-j)\n",
    "        elif direction == 'x':\n",
    "            slit = np.linspace(0, np.abs(end[2] - start[2]), np.abs(end[0] - start[0]))\n",
    "            fraction = np.abs(int(slit[0]-slit[1]))\n",
    "            print('x', slit)\n",
    "            print('fraction', fraction)\n",
    "            for i in range(np.abs(end[2] - start[2])):\n",
    "                if end[0] > start[0]:\n",
    "                    film[start[0] + i, start[1]:end[1], start[2]:start[2] + int(slit[i])] = value\n",
    "                    for j in range(fraction):\n",
    "                        film[start[0] + i, start[1]:end[1], start[2]+int(slit[i])+j] = 1/(fraction+1)*(fraction-j)\n",
    "                elif end[0] < start[0]:\n",
    "                    film[start[0] - i, start[1]:end[1], start[2]:start[2] + int(slit[i])] = value\n",
    "                    for j in range(fraction):\n",
    "                        film[start[0] - i, start[1]:end[1], start[2]+int(slit[i])+j] = 1/(fraction+1)*(fraction-j)\n",
    "    elif fraction == '-':\n",
    "        if direction == 'y':\n",
    "            slit = np.linspace(0, np.abs(end[2] - start[2]), np.abs(end[1] - start[1]))\n",
    "            fraction = np.abs(int(slit[0]-slit[1]))\n",
    "            print('y', slit)\n",
    "            print('fraction', fraction)\n",
    "            for i in range(np.abs(end[1] - start[1])):\n",
    "                if end[1] > start[1]:\n",
    "                    film[start[0]:end[0], start[1] + i, start[2] - int(slit[i]):start[2]+1] = value\n",
    "                    for j in range(fraction):\n",
    "                        film[start[0]:end[0], start[1] + i,start[2]-int(slit[i])-j] = 1/(fraction+1)*(fraction-j)\n",
    "                elif end[1] < start[1]:\n",
    "                    film[start[0]:end[0], start[1] - i, start[2] - int(slit[i]):start[2]+1] = value\n",
    "                    for j in range(fraction):\n",
    "                        film[start[0]:end[0], start[1] - i,start[2]-int(slit[i])-j] = 1/(fraction+1)*(fraction-j)\n",
    "        elif direction == 'x':\n",
    "            slit = np.linspace(0, np.abs(end[2] - start[2]), np.abs(end[0] - start[0]))\n",
    "            fraction = np.abs(int(slit[0]-slit[1]))\n",
    "            print('x', slit)\n",
    "            print('fraction', fraction)\n",
    "            for i in range(np.abs(end[2] - start[2])):\n",
    "                if end[0] > start[0]:\n",
    "                    film[start[0] + i, start[1]:end[1], start[2] - int(slit[i]):start[2]+1] = value\n",
    "                    for j in range(fraction):\n",
    "                        film[start[0] + i, start[1]:end[1], start[2] - int(slit[i]):start[2]] = 1/(fraction+1)*(fraction-j)\n",
    "                elif end[0] < start[0]:\n",
    "                    film[start[0] - i, start[1]:end[1], start[2] - int(slit[i]):start[2]+1] = value\n",
    "                    for j in range(fraction):\n",
    "                        film[start[0] - i, start[1]:end[1], start[2] - int(slit[i]):start[2]] = 1/(fraction+1)*(fraction-j)\n",
    "    return film"
   ]
  },
  {
   "cell_type": "code",
   "execution_count": null,
   "metadata": {},
   "outputs": [],
   "source": [
    "film = np.zeros((50, 200, 180, 2))\n",
    "\n",
    "bottom = 10\n",
    "film[:, :, 0:bottom, 0] = 10 # bottom\n",
    "\n",
    "height = 30\n",
    "left_side = 75\n",
    "right_side = 75\n",
    "film[:, left_side:200-left_side, 0:height, 0] = 10"
   ]
  },
  {
   "cell_type": "code",
   "execution_count": null,
   "metadata": {},
   "outputs": [],
   "source": [
    "film = np.zeros((50, 200, 180))\n",
    "\n",
    "bottom = 10\n",
    "\n",
    "film = slide2D_fractionZ(film=film, start=[0, 129, 30], end=[50, 120, 10], direction='y', fraction='-', value=10)\n",
    "film = slide2D_fractionZ(film=film, start=[0, 71, 30], end=[50, 80, 10], direction='y', fraction='-', value=10)\n",
    "\n",
    "film[:, 80:121, 0:31] = 10\n",
    "\n",
    "film[:, :, 0:bottom] = 10 # bottom"
   ]
  },
  {
   "cell_type": "code",
   "execution_count": null,
   "metadata": {},
   "outputs": [],
   "source": [
    "film2 = np.zeros((50, 200, 180, 2))\n",
    "film2[:, :, :, 0] = film"
   ]
  },
  {
   "cell_type": "code",
   "execution_count": null,
   "metadata": {},
   "outputs": [],
   "source": [
    "# sumFilm = np.sum(film2, axis=-1)\n",
    "sumFilm = np.sum(film, axis=-1)\n",
    "print(sumFilm.shape)"
   ]
  },
  {
   "cell_type": "code",
   "execution_count": null,
   "metadata": {},
   "outputs": [],
   "source": [
    "depo1 = torch.Tensor(np.logical_and(sumFilm[:, :, :] !=0, sumFilm[:, :, :] < 10)).to_sparse()\n",
    "depo1 = depo1.indices().numpy().T\n",
    "\n",
    "substrute = torch.Tensor(sumFilm[:, :, :]==10).to_sparse()\n",
    "substrute = substrute.indices().numpy().T\n",
    "depomesh = pv.PolyData(depo1)\n",
    "depomesh[\"radius\"] = np.ones(depo1.shape[0])*0.5\n",
    "geom = pv.Box()\n",
    "\n",
    "submesh = pv.PolyData(substrute)\n",
    "submesh[\"radius\"] = np.ones(substrute.shape[0])*0.5\n",
    "\n",
    "# Progress bar is a new feature on master branch\n",
    "depoglyphed = depomesh.glyph(scale=\"radius\", geom=geom) # progress_bar=True)\n",
    "subglyphed = submesh.glyph(scale=\"radius\", geom=geom) # progress_bar=True)\n",
    "\n",
    "p = pv.Plotter()\n",
    "# p.add_mesh(depoglyphed, color='cyan')\n",
    "p.add_mesh(subglyphed, color='dimgray')\n",
    "p.enable_eye_dome_lighting()\n",
    "p.show()"
   ]
  },
  {
   "cell_type": "code",
   "execution_count": null,
   "metadata": {},
   "outputs": [],
   "source": [
    "etchfilm = film"
   ]
  },
  {
   "cell_type": "code",
   "execution_count": null,
   "metadata": {},
   "outputs": [],
   "source": [
    "import Multi_Species_Cu_Si_noAr"
   ]
  },
  {
   "cell_type": "code",
   "execution_count": null,
   "metadata": {},
   "outputs": [],
   "source": [
    "N = int(2e6)"
   ]
  },
  {
   "cell_type": "code",
   "execution_count": null,
   "metadata": {},
   "outputs": [],
   "source": [
    "logname = 'Multi_species_benchmark_0729'\n",
    "testEtch = Multi_Species_Cu_Si_noAr.etching(mirror=True,inputMethod='bunch', pressure_pa=0.001, temperature=300, chamberSize=etchfilm.shape,\n",
    "                                         depoThick=110, center_with_direction=np.array([[35,100,75]]), \n",
    "                                         range3D=np.array([[0, 70, 0, 100, 0, 150]]), InOrOut=[1], yield_hist=np.array([None]),\n",
    "                                        reaction_type=False, param = [1.6, -0.7], N = N, \n",
    "                                        sub_xy=[0,0], film=etchfilm, n=1, cellSize=etchfilm.shape, \n",
    "                                        celllength=1e-5, kdtreeN=5, tstep=1e-5,\n",
    "                                        substrateTop=80,posGeneratorType='top', logname=logname)\n",
    "\n",
    "\n",
    "# etching = testEtch.depo_position_increase_cosVel_normal(125, int(7e6), 2e-3, 5)\n"
   ]
  },
  {
   "cell_type": "code",
   "execution_count": null,
   "metadata": {},
   "outputs": [],
   "source": [
    "etching = testEtch.depo_position_increase_cosVel_normal(125, N, 1e-2, 10)"
   ]
  },
  {
   "cell_type": "code",
   "execution_count": null,
   "metadata": {},
   "outputs": [],
   "source": [
    "etchfilm[25, 100, :]"
   ]
  },
  {
   "cell_type": "code",
   "execution_count": null,
   "metadata": {},
   "outputs": [],
   "source": [
    "sumFilm = np.sum(etching[0], axis=-1)\n",
    "\n",
    "depo1 = torch.Tensor(np.logical_and(sumFilm[:, :, :,]!=10, sumFilm[:, :, :,]!=0)).to_sparse()\n",
    "depo1 = depo1.indices().numpy().T\n",
    "\n",
    "substrute = torch.Tensor(sumFilm[:, :, :,]==10).to_sparse()\n",
    "substrute = substrute.indices().numpy().T\n",
    "depomesh = pv.PolyData(depo1)\n",
    "depomesh[\"radius\"] = np.ones(depo1.shape[0])*0.5\n",
    "geom = pv.Box()\n",
    "\n",
    "submesh = pv.PolyData(substrute)\n",
    "submesh[\"radius\"] = np.ones(substrute.shape[0])*0.5\n",
    "\n",
    "# Progress bar is a new feature on master branch\n",
    "depoglyphed = depomesh.glyph(scale=\"radius\", geom=geom) # progress_bar=True)\n",
    "subglyphed = submesh.glyph(scale=\"radius\", geom=geom) # progress_bar=True)\n",
    "\n",
    "p = pv.Plotter()\n",
    "p.add_mesh(depoglyphed, color='cyan')\n",
    "p.add_mesh(subglyphed, color='dimgray')\n",
    "p.enable_eye_dome_lighting()\n",
    "p.show()"
   ]
  },
  {
   "cell_type": "code",
   "execution_count": null,
   "metadata": {},
   "outputs": [],
   "source": [
    "sumFilm = np.sum(etching[0], axis=-1)\n",
    "\n",
    "depo1 = torch.Tensor(np.logical_and(sumFilm[:, :50, :,]!=10, sumFilm[:, :50, :,]!=0)).to_sparse()\n",
    "depo1 = depo1.indices().numpy().T\n",
    "\n",
    "substrute = torch.Tensor(sumFilm[:, :50, :,]==10).to_sparse()\n",
    "substrute = substrute.indices().numpy().T\n",
    "depomesh = pv.PolyData(depo1)\n",
    "depomesh[\"radius\"] = np.ones(depo1.shape[0])*0.5\n",
    "geom = pv.Box()\n",
    "\n",
    "submesh = pv.PolyData(substrute)\n",
    "submesh[\"radius\"] = np.ones(substrute.shape[0])*0.5\n",
    "\n",
    "# Progress bar is a new feature on master branch\n",
    "depoglyphed = depomesh.glyph(scale=\"radius\", geom=geom) # progress_bar=True)\n",
    "subglyphed = submesh.glyph(scale=\"radius\", geom=geom) # progress_bar=True)\n",
    "\n",
    "p = pv.Plotter()\n",
    "p.add_mesh(depoglyphed, color='cyan')\n",
    "p.add_mesh(subglyphed, color='dimgray')\n",
    "p.enable_eye_dome_lighting()\n",
    "p.show()"
   ]
  },
  {
   "cell_type": "code",
   "execution_count": null,
   "metadata": {},
   "outputs": [],
   "source": []
  }
 ],
 "metadata": {
  "kernelspec": {
   "display_name": "base",
   "language": "python",
   "name": "python3"
  },
  "language_info": {
   "codemirror_mode": {
    "name": "ipython",
    "version": 3
   },
   "file_extension": ".py",
   "mimetype": "text/x-python",
   "name": "python",
   "nbconvert_exporter": "python",
   "pygments_lexer": "ipython3",
   "version": "3.12.5"
  }
 },
 "nbformat": 4,
 "nbformat_minor": 2
}

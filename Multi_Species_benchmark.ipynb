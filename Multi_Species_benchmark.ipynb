{
 "cells": [
  {
   "cell_type": "code",
   "execution_count": 1,
   "metadata": {},
   "outputs": [],
   "source": [
    "import numpy as np\n",
    "import time as Time\n",
    "from numba import jit\n",
    "import matplotlib.pyplot as plt\n",
    "import pyvista as pv\n",
    "import torch"
   ]
  },
  {
   "cell_type": "code",
   "execution_count": 19,
   "metadata": {},
   "outputs": [],
   "source": [
    "film = np.zeros((100, 100, 100, 2))\n",
    "\n",
    "bottom = 10\n",
    "film[:, :, 0:bottom, 0] = 10 # bottom\n",
    "\n",
    "height = 80\n",
    "\n",
    "film[:, :40, 0:height, 0] = 10\n",
    "film[:, 60:, 0:height, 0] = 10\n"
   ]
  },
  {
   "cell_type": "code",
   "execution_count": 20,
   "metadata": {},
   "outputs": [
    {
     "name": "stdout",
     "output_type": "stream",
     "text": [
      "(100, 100, 100)\n"
     ]
    }
   ],
   "source": [
    "sumFilm = np.sum(film, axis=-1)\n",
    "\n",
    "print(sumFilm.shape)"
   ]
  },
  {
   "cell_type": "code",
   "execution_count": 4,
   "metadata": {},
   "outputs": [
    {
     "name": "stderr",
     "output_type": "stream",
     "text": [
      "l:\\program\\Lib\\site-packages\\pyvista\\core\\utilities\\points.py:52: UserWarning: Points is not a float type. This can cause issues when transforming or applying filters. Casting to ``np.float32``. Disable this by passing ``force_float=False``.\n",
      "  warnings.warn(\n",
      "l:\\program\\Lib\\site-packages\\pyvista\\core\\filters\\data_set.py:2320: UserWarning: No vector-like data to use for orient. orient will be set to False.\n",
      "  warnings.warn(\"No vector-like data to use for orient. orient will be set to False.\")\n"
     ]
    },
    {
     "data": {
      "application/vnd.jupyter.widget-view+json": {
       "model_id": "b49478eebc974740801bd77a12038ea9",
       "version_major": 2,
       "version_minor": 0
      },
      "text/plain": [
       "Widget(value='<iframe src=\"http://localhost:61931/index.html?ui=P_0x150b909c8d0_0&reconnect=auto\" class=\"pyvis…"
      ]
     },
     "metadata": {},
     "output_type": "display_data"
    }
   ],
   "source": [
    "# depo1 = torch.Tensor(np.logical_and(film[:, :, :] !=0, film[:, :, :] < 10)).to_sparse()\n",
    "# depo1 = depo1.indices().numpy().T\n",
    "\n",
    "substrute = torch.Tensor(sumFilm[:, :, :]==10).to_sparse()\n",
    "substrute = substrute.indices().numpy().T\n",
    "# depomesh = pv.PolyData(depo1)\n",
    "# depomesh[\"radius\"] = np.ones(depo1.shape[0])*0.5\n",
    "geom = pv.Box()\n",
    "\n",
    "submesh = pv.PolyData(substrute)\n",
    "submesh[\"radius\"] = np.ones(substrute.shape[0])*0.5\n",
    "\n",
    "# Progress bar is a new feature on master branch\n",
    "# depoglyphed = depomesh.glyph(scale=\"radius\", geom=geom) # progress_bar=True)\n",
    "subglyphed = submesh.glyph(scale=\"radius\", geom=geom) # progress_bar=True)\n",
    "\n",
    "p = pv.Plotter()\n",
    "# p.add_mesh(depoglyphed, color='cyan')\n",
    "p.add_mesh(subglyphed, color='dimgray')\n",
    "p.enable_eye_dome_lighting()\n",
    "p.show()"
   ]
  },
  {
   "cell_type": "code",
   "execution_count": 24,
   "metadata": {},
   "outputs": [],
   "source": [
    "etchfilm = film"
   ]
  },
  {
   "cell_type": "code",
   "execution_count": 5,
   "metadata": {},
   "outputs": [],
   "source": [
    "import Multi_Species_Cu_Si_noAr"
   ]
  },
  {
   "cell_type": "code",
   "execution_count": 25,
   "metadata": {},
   "outputs": [],
   "source": [
    "logname = 'Multi_species_benchmark_0729'\n",
    "testEtch = Multi_Species_Cu_Si_noAr.etching(mirror=True,inputMethod='bunch', pressure_pa=0.001, temperature=300, chamberSize=etchfilm.shape,\n",
    "                                         depoThick=90, center_with_direction=np.array([[35,100,75]]), \n",
    "                                         range3D=np.array([[0, 70, 0, 100, 0, 150]]), InOrOut=[1], yield_hist=np.array([None]),\n",
    "                                        reaction_type=False, param = [1.6, -0.7], N = 300000, \n",
    "                                        sub_xy=[0,0], film=etchfilm, n=1, cellSize=etchfilm.shape, \n",
    "                                        celllength=1e-5, kdtreeN=5, tstep=1e-5,\n",
    "                                        substrateTop=40,posGeneratorType='benchmark', logname=logname)\n",
    "\n",
    "\n",
    "# etching = testEtch.depo_position_increase_cosVel_normal(125, int(7e6), 2e-3, 5)\n"
   ]
  },
  {
   "cell_type": "code",
   "execution_count": 26,
   "metadata": {},
   "outputs": [
    {
     "name": "stdout",
     "output_type": "stream",
     "text": [
      "[ 0. -1. -1.]\n"
     ]
    }
   ],
   "source": [
    "N = int(1e5)\n",
    "velosity_matrix = np.zeros((N, 3))\n",
    "tstep=1e-5\n",
    "celllength=1e-5\n",
    "# velosity_matrix[:, 0] = -1 * celllength /tstep\n",
    "velosity_matrix[:, 1] = -1 * celllength /tstep\n",
    "velosity_matrix[:, 2] = -1 * celllength /tstep\n",
    "\n",
    "typeID = np.zeros(N)\n",
    "\n",
    "print(velosity_matrix[0])"
   ]
  },
  {
   "cell_type": "code",
   "execution_count": 27,
   "metadata": {},
   "outputs": [
    {
     "name": "stdout",
     "output_type": "stream",
     "text": [
      "parcel (500, 10)\n"
     ]
    },
    {
     "name": "stderr",
     "output_type": "stream",
     "text": [
      "running:   0%|                                                            | 0.00/100 [00:00<?, ?B/s]"
     ]
    },
    {
     "name": "stdout",
     "output_type": "stream",
     "text": [
      "parcel (500, 10)\n"
     ]
    },
    {
     "name": "stderr",
     "output_type": "stream",
     "text": [
      "running:   1%|▌                                                    | 1.00/100 [00:00<00:24, 4.08B/s]"
     ]
    },
    {
     "name": "stdout",
     "output_type": "stream",
     "text": [
      "parcel (1000, 10)\n",
      "parcel (1500, 10)\n"
     ]
    },
    {
     "name": "stderr",
     "output_type": "stream",
     "text": [
      "running:   2%|█                                                    | 2.00/100 [00:00<00:35, 2.78B/s]"
     ]
    },
    {
     "name": "stdout",
     "output_type": "stream",
     "text": [
      "parcel (2000, 10)\n",
      "parcel (2500, 10)\n"
     ]
    },
    {
     "name": "stderr",
     "output_type": "stream",
     "text": [
      "running:   3%|█▌                                                   | 3.00/100 [00:01<00:39, 2.46B/s]"
     ]
    },
    {
     "name": "stdout",
     "output_type": "stream",
     "text": [
      "parcel (3000, 10)\n",
      "parcel (3500, 10)\n"
     ]
    },
    {
     "name": "stderr",
     "output_type": "stream",
     "text": [
      "running:   4%|██                                                   | 4.00/100 [00:01<00:40, 2.38B/s]"
     ]
    },
    {
     "name": "stdout",
     "output_type": "stream",
     "text": [
      "parcel (4000, 10)\n",
      "parcel (4500, 10)\n"
     ]
    },
    {
     "name": "stderr",
     "output_type": "stream",
     "text": [
      "running:   5%|██▋                                                  | 5.00/100 [00:01<00:39, 2.41B/s]"
     ]
    },
    {
     "name": "stdout",
     "output_type": "stream",
     "text": [
      "parcel (5000, 10)\n",
      "parcel (5500, 10)\n",
      "after react\n"
     ]
    },
    {
     "name": "stderr",
     "output_type": "stream",
     "text": [
      "running:   6%|███▏                                                 | 6.00/100 [00:02<00:47, 1.97B/s]"
     ]
    },
    {
     "name": "stdout",
     "output_type": "stream",
     "text": [
      "parcel (5644, 10)\n",
      "after react\n",
      "parcel (5742, 10)\n",
      "after react\n"
     ]
    },
    {
     "name": "stderr",
     "output_type": "stream",
     "text": [
      "running:   7%|███▋                                                 | 7.00/100 [00:03<01:02, 1.49B/s]"
     ]
    },
    {
     "name": "stdout",
     "output_type": "stream",
     "text": [
      "parcel (5789, 10)\n",
      "after react\n",
      "parcel (5780, 10)\n",
      "after react\n"
     ]
    },
    {
     "name": "stderr",
     "output_type": "stream",
     "text": [
      "running:   8%|████▏                                                | 8.00/100 [00:04<01:11, 1.29B/s]"
     ]
    },
    {
     "name": "stdout",
     "output_type": "stream",
     "text": [
      "parcel (5816, 10)\n",
      "after react\n",
      "parcel (5836, 10)\n",
      "after react\n"
     ]
    },
    {
     "name": "stderr",
     "output_type": "stream",
     "text": [
      "running:   9%|████▊                                                | 9.00/100 [00:05<01:15, 1.20B/s]"
     ]
    },
    {
     "name": "stdout",
     "output_type": "stream",
     "text": [
      "parcel (5837, 10)\n",
      "after react\n",
      "parcel (5851, 10)\n",
      "after react\n"
     ]
    },
    {
     "name": "stderr",
     "output_type": "stream",
     "text": [
      "running:  10%|█████▎                                               | 10.0/100 [00:06<01:19, 1.13B/s]"
     ]
    },
    {
     "name": "stdout",
     "output_type": "stream",
     "text": [
      "parcel (5873, 10)\n",
      "after react\n",
      "parcel (5508, 10)\n",
      "after react\n"
     ]
    },
    {
     "name": "stderr",
     "output_type": "stream",
     "text": [
      "running:  11%|█████▊                                               | 11.0/100 [00:07<01:21, 1.09B/s]"
     ]
    },
    {
     "name": "stdout",
     "output_type": "stream",
     "text": [
      "parcel (5426, 10)\n",
      "after react\n",
      "parcel (5394, 10)\n",
      "after react\n"
     ]
    },
    {
     "name": "stderr",
     "output_type": "stream",
     "text": [
      "running:  12%|██████▎                                              | 12.0/100 [00:08<01:20, 1.09B/s]"
     ]
    },
    {
     "name": "stdout",
     "output_type": "stream",
     "text": [
      "parcel (5394, 10)\n",
      "after react\n",
      "parcel (5406, 10)\n",
      "after react\n"
     ]
    },
    {
     "name": "stderr",
     "output_type": "stream",
     "text": [
      "running:  13%|██████▉                                              | 13.0/100 [00:09<01:20, 1.08B/s]"
     ]
    },
    {
     "name": "stdout",
     "output_type": "stream",
     "text": [
      "parcel (5424, 10)\n",
      "after react\n",
      "parcel (5430, 10)\n",
      "after react\n"
     ]
    },
    {
     "name": "stderr",
     "output_type": "stream",
     "text": [
      "running:  14%|███████▍                                             | 14.0/100 [00:10<01:19, 1.08B/s]"
     ]
    },
    {
     "name": "stdout",
     "output_type": "stream",
     "text": [
      "parcel (5431, 10)\n",
      "after react\n",
      "parcel (5443, 10)\n",
      "after react\n"
     ]
    },
    {
     "name": "stderr",
     "output_type": "stream",
     "text": [
      "running:  15%|███████▉                                             | 15.0/100 [00:11<01:19, 1.07B/s]"
     ]
    },
    {
     "name": "stdout",
     "output_type": "stream",
     "text": [
      "parcel (5434, 10)\n",
      "after react\n",
      "parcel (5432, 10)\n",
      "after react\n"
     ]
    },
    {
     "name": "stderr",
     "output_type": "stream",
     "text": [
      "running:  16%|████████▍                                            | 16.0/100 [00:12<01:19, 1.05B/s]"
     ]
    },
    {
     "name": "stdout",
     "output_type": "stream",
     "text": [
      "parcel (5437, 10)\n",
      "after react\n",
      "parcel (5436, 10)\n",
      "after react\n"
     ]
    },
    {
     "name": "stderr",
     "output_type": "stream",
     "text": [
      "running:  17%|█████████                                            | 17.0/100 [00:13<01:19, 1.04B/s]"
     ]
    },
    {
     "name": "stdout",
     "output_type": "stream",
     "text": [
      "parcel (5436, 10)\n",
      "after react\n",
      "parcel (5080, 10)\n",
      "after react\n"
     ]
    },
    {
     "name": "stderr",
     "output_type": "stream",
     "text": [
      "running:  18%|█████████▌                                           | 18.0/100 [00:14<01:18, 1.05B/s]"
     ]
    },
    {
     "name": "stdout",
     "output_type": "stream",
     "text": [
      "parcel (4965, 10)\n",
      "after react\n",
      "parcel (4949, 10)\n",
      "after react\n"
     ]
    },
    {
     "name": "stderr",
     "output_type": "stream",
     "text": [
      "running:  19%|██████████                                           | 19.0/100 [00:15<01:17, 1.04B/s]"
     ]
    },
    {
     "name": "stdout",
     "output_type": "stream",
     "text": [
      "parcel (4939, 10)\n",
      "after react\n",
      "parcel (4941, 10)\n",
      "after react\n"
     ]
    },
    {
     "name": "stderr",
     "output_type": "stream",
     "text": [
      "running:  20%|██████████▌                                          | 20.0/100 [00:16<01:16, 1.04B/s]"
     ]
    },
    {
     "name": "stdout",
     "output_type": "stream",
     "text": [
      "parcel (4921, 10)\n",
      "after react\n",
      "parcel (4919, 10)\n",
      "after react\n"
     ]
    },
    {
     "name": "stderr",
     "output_type": "stream",
     "text": [
      "running:  21%|███████████▏                                         | 21.0/100 [00:17<01:16, 1.03B/s]"
     ]
    },
    {
     "name": "stdout",
     "output_type": "stream",
     "text": [
      "parcel (4929, 10)\n",
      "after react\n",
      "parcel (4925, 10)\n",
      "after react\n"
     ]
    },
    {
     "name": "stderr",
     "output_type": "stream",
     "text": [
      "running:  22%|███████████▋                                         | 22.0/100 [00:18<01:15, 1.03B/s]"
     ]
    },
    {
     "name": "stdout",
     "output_type": "stream",
     "text": [
      "parcel (4920, 10)\n",
      "after react\n",
      "parcel (4913, 10)\n",
      "after react\n"
     ]
    },
    {
     "name": "stderr",
     "output_type": "stream",
     "text": [
      "running:  23%|████████████▏                                        | 23.0/100 [00:19<01:16, 1.01B/s]"
     ]
    },
    {
     "name": "stdout",
     "output_type": "stream",
     "text": [
      "parcel (4913, 10)\n",
      "after react\n",
      "parcel (4910, 10)\n",
      "after react\n"
     ]
    },
    {
     "name": "stderr",
     "output_type": "stream",
     "text": [
      "running:  24%|████████████▋                                        | 24.0/100 [00:20<01:15, 1.00B/s]"
     ]
    },
    {
     "name": "stdout",
     "output_type": "stream",
     "text": [
      "parcel (4912, 10)\n",
      "after react\n",
      "parcel (4907, 10)\n",
      "after react\n"
     ]
    },
    {
     "name": "stderr",
     "output_type": "stream",
     "text": [
      "running:  25%|█████████████▎                                       | 25.0/100 [00:21<01:14, 1.01B/s]"
     ]
    },
    {
     "name": "stdout",
     "output_type": "stream",
     "text": [
      "parcel (4913, 10)\n",
      "after react\n",
      "parcel (4896, 10)\n",
      "after react\n"
     ]
    },
    {
     "name": "stderr",
     "output_type": "stream",
     "text": [
      "running:  26%|█████████████▊                                       | 26.0/100 [00:22<01:12, 1.03B/s]"
     ]
    },
    {
     "name": "stdout",
     "output_type": "stream",
     "text": [
      "parcel (4898, 10)\n",
      "after react\n",
      "parcel (4912, 10)\n",
      "after react\n"
     ]
    },
    {
     "name": "stderr",
     "output_type": "stream",
     "text": [
      "running:  27%|██████████████▎                                      | 27.0/100 [00:23<01:10, 1.03B/s]"
     ]
    },
    {
     "name": "stdout",
     "output_type": "stream",
     "text": [
      "parcel (4893, 10)\n",
      "after react\n",
      "parcel (4896, 10)\n",
      "after react\n"
     ]
    },
    {
     "name": "stderr",
     "output_type": "stream",
     "text": [
      "running:  28%|██████████████▊                                      | 28.0/100 [00:24<01:08, 1.05B/s]"
     ]
    },
    {
     "name": "stdout",
     "output_type": "stream",
     "text": [
      "parcel (4557, 10)\n",
      "after react\n",
      "parcel (4461, 10)\n",
      "after react\n"
     ]
    },
    {
     "name": "stderr",
     "output_type": "stream",
     "text": [
      "running:  29%|███████████████▎                                     | 29.0/100 [00:25<01:09, 1.03B/s]"
     ]
    },
    {
     "name": "stdout",
     "output_type": "stream",
     "text": [
      "parcel (4417, 10)\n",
      "after react\n",
      "parcel (4412, 10)\n",
      "after react\n"
     ]
    },
    {
     "name": "stderr",
     "output_type": "stream",
     "text": [
      "running:  30%|███████████████▉                                     | 30.0/100 [00:26<01:07, 1.03B/s]"
     ]
    },
    {
     "name": "stdout",
     "output_type": "stream",
     "text": [
      "parcel (4420, 10)\n",
      "after react\n",
      "parcel (4415, 10)\n",
      "after react\n"
     ]
    },
    {
     "name": "stderr",
     "output_type": "stream",
     "text": [
      "running:  31%|████████████████▍                                    | 31.0/100 [00:26<01:07, 1.02B/s]"
     ]
    },
    {
     "name": "stdout",
     "output_type": "stream",
     "text": [
      "parcel (4409, 10)\n",
      "after react\n",
      "parcel (4422, 10)\n",
      "after react\n"
     ]
    },
    {
     "name": "stderr",
     "output_type": "stream",
     "text": [
      "running:  32%|████████████████▉                                    | 32.0/100 [00:28<01:07, 1.01B/s]"
     ]
    },
    {
     "name": "stdout",
     "output_type": "stream",
     "text": [
      "parcel (4433, 10)\n",
      "after react\n",
      "parcel (4431, 10)\n",
      "after react\n"
     ]
    },
    {
     "name": "stderr",
     "output_type": "stream",
     "text": [
      "running:  33%|█████████████████▍                                   | 33.0/100 [00:28<01:05, 1.03B/s]"
     ]
    },
    {
     "name": "stdout",
     "output_type": "stream",
     "text": [
      "parcel (4419, 10)\n",
      "after react\n",
      "parcel (4433, 10)\n",
      "after react\n"
     ]
    },
    {
     "name": "stderr",
     "output_type": "stream",
     "text": [
      "running:  34%|██████████████████                                   | 34.0/100 [00:29<01:03, 1.04B/s]"
     ]
    },
    {
     "name": "stdout",
     "output_type": "stream",
     "text": [
      "parcel (4428, 10)\n",
      "after react\n",
      "parcel (4434, 10)\n",
      "after react\n"
     ]
    },
    {
     "name": "stderr",
     "output_type": "stream",
     "text": [
      "running:  35%|██████████████████▌                                  | 35.0/100 [00:30<01:02, 1.04B/s]"
     ]
    },
    {
     "name": "stdout",
     "output_type": "stream",
     "text": [
      "parcel (4447, 10)\n",
      "after react\n",
      "parcel (4431, 10)\n",
      "after react\n"
     ]
    },
    {
     "name": "stderr",
     "output_type": "stream",
     "text": [
      "running:  36%|███████████████████                                  | 36.0/100 [00:31<01:01, 1.04B/s]"
     ]
    },
    {
     "name": "stdout",
     "output_type": "stream",
     "text": [
      "parcel (4420, 10)\n",
      "after react\n",
      "parcel (4413, 10)\n",
      "after react\n"
     ]
    },
    {
     "name": "stderr",
     "output_type": "stream",
     "text": [
      "running:  37%|███████████████████▌                                 | 37.0/100 [00:32<01:00, 1.04B/s]"
     ]
    },
    {
     "name": "stdout",
     "output_type": "stream",
     "text": [
      "parcel (4413, 10)\n",
      "after react\n",
      "parcel (4423, 10)\n",
      "after react\n"
     ]
    },
    {
     "name": "stderr",
     "output_type": "stream",
     "text": [
      "running:  38%|████████████████████▏                                | 38.0/100 [00:33<01:00, 1.02B/s]"
     ]
    },
    {
     "name": "stdout",
     "output_type": "stream",
     "text": [
      "parcel (4064, 10)\n",
      "after react\n",
      "parcel (3963, 10)\n",
      "after react\n"
     ]
    },
    {
     "name": "stderr",
     "output_type": "stream",
     "text": [
      "running:  39%|████████████████████▋                                | 39.0/100 [00:34<00:59, 1.03B/s]"
     ]
    },
    {
     "name": "stdout",
     "output_type": "stream",
     "text": [
      "parcel (3944, 10)\n",
      "after react\n",
      "parcel (3945, 10)\n",
      "after react\n"
     ]
    },
    {
     "name": "stderr",
     "output_type": "stream",
     "text": [
      "running:  40%|█████████████████████▏                               | 40.0/100 [00:35<00:58, 1.03B/s]"
     ]
    },
    {
     "name": "stdout",
     "output_type": "stream",
     "text": [
      "parcel (3945, 10)\n",
      "after react\n",
      "parcel (3939, 10)\n",
      "after react\n"
     ]
    },
    {
     "name": "stderr",
     "output_type": "stream",
     "text": [
      "running:  41%|█████████████████████▋                               | 41.0/100 [00:36<00:57, 1.02B/s]"
     ]
    },
    {
     "name": "stdout",
     "output_type": "stream",
     "text": [
      "parcel (3930, 10)\n",
      "after react\n",
      "parcel (3942, 10)\n",
      "after react\n"
     ]
    },
    {
     "name": "stderr",
     "output_type": "stream",
     "text": [
      "running:  42%|██████████████████████▎                              | 42.0/100 [00:37<00:56, 1.03B/s]"
     ]
    },
    {
     "name": "stdout",
     "output_type": "stream",
     "text": [
      "parcel (3935, 10)\n",
      "after react\n",
      "parcel (3925, 10)\n",
      "after react\n"
     ]
    },
    {
     "name": "stderr",
     "output_type": "stream",
     "text": [
      "running:  43%|██████████████████████▊                              | 43.0/100 [00:38<00:56, 1.01B/s]"
     ]
    },
    {
     "name": "stdout",
     "output_type": "stream",
     "text": [
      "parcel (3924, 10)\n",
      "after react\n",
      "parcel (3929, 10)\n",
      "after react\n"
     ]
    },
    {
     "name": "stderr",
     "output_type": "stream",
     "text": [
      "running:  44%|███████████████████████▎                             | 44.0/100 [00:39<00:55, 1.01B/s]"
     ]
    },
    {
     "name": "stdout",
     "output_type": "stream",
     "text": [
      "parcel (3930, 10)\n",
      "after react\n",
      "parcel (3928, 10)\n",
      "after react\n"
     ]
    },
    {
     "name": "stderr",
     "output_type": "stream",
     "text": [
      "running:  45%|███████████████████████▊                             | 45.0/100 [00:40<00:54, 1.01B/s]"
     ]
    },
    {
     "name": "stdout",
     "output_type": "stream",
     "text": [
      "parcel (3937, 10)\n",
      "after react\n",
      "parcel (3931, 10)\n",
      "after react\n"
     ]
    },
    {
     "name": "stderr",
     "output_type": "stream",
     "text": [
      "running:  46%|████████████████████████▍                            | 46.0/100 [00:41<00:54, 1.01s/B]"
     ]
    },
    {
     "name": "stdout",
     "output_type": "stream",
     "text": [
      "parcel (3917, 10)\n",
      "after react\n",
      "parcel (3901, 10)\n",
      "after react\n"
     ]
    },
    {
     "name": "stderr",
     "output_type": "stream",
     "text": [
      "running:  47%|████████████████████████▉                            | 47.0/100 [00:42<00:52, 1.00B/s]"
     ]
    },
    {
     "name": "stdout",
     "output_type": "stream",
     "text": [
      "parcel (3907, 10)\n",
      "after react\n",
      "parcel (3545, 10)\n",
      "after react\n"
     ]
    },
    {
     "name": "stderr",
     "output_type": "stream",
     "text": [
      "running:  48%|█████████████████████████▍                           | 48.0/100 [00:43<00:51, 1.01B/s]"
     ]
    },
    {
     "name": "stdout",
     "output_type": "stream",
     "text": [
      "parcel (3448, 10)\n",
      "after react\n",
      "parcel (3426, 10)\n",
      "after react\n"
     ]
    },
    {
     "name": "stderr",
     "output_type": "stream",
     "text": [
      "running:  49%|█████████████████████████▉                           | 49.0/100 [00:44<00:50, 1.02B/s]"
     ]
    },
    {
     "name": "stdout",
     "output_type": "stream",
     "text": [
      "parcel (3415, 10)\n",
      "after react\n",
      "parcel (3416, 10)\n",
      "after react\n"
     ]
    },
    {
     "name": "stderr",
     "output_type": "stream",
     "text": [
      "running:  50%|██████████████████████████▌                          | 50.0/100 [00:45<00:49, 1.01B/s]"
     ]
    },
    {
     "name": "stdout",
     "output_type": "stream",
     "text": [
      "parcel (3421, 10)\n",
      "after react\n",
      "parcel (3416, 10)\n",
      "after react\n"
     ]
    },
    {
     "name": "stderr",
     "output_type": "stream",
     "text": [
      "running:  51%|███████████████████████████                          | 51.0/100 [00:46<00:48, 1.02B/s]"
     ]
    },
    {
     "name": "stdout",
     "output_type": "stream",
     "text": [
      "parcel (3412, 10)\n",
      "after react\n",
      "parcel (3407, 10)\n",
      "after react\n"
     ]
    },
    {
     "name": "stderr",
     "output_type": "stream",
     "text": [
      "running:  52%|███████████████████████████▌                         | 52.0/100 [00:47<00:46, 1.02B/s]"
     ]
    },
    {
     "name": "stdout",
     "output_type": "stream",
     "text": [
      "parcel (3406, 10)\n",
      "after react\n",
      "parcel (3412, 10)\n",
      "after react\n"
     ]
    },
    {
     "name": "stderr",
     "output_type": "stream",
     "text": [
      "running:  53%|████████████████████████████                         | 53.0/100 [00:48<00:47, 1.01s/B]"
     ]
    },
    {
     "name": "stdout",
     "output_type": "stream",
     "text": [
      "parcel (3422, 10)\n",
      "after react\n",
      "parcel (3429, 10)\n",
      "after react\n"
     ]
    },
    {
     "name": "stderr",
     "output_type": "stream",
     "text": [
      "running:  54%|████████████████████████████▌                        | 54.0/100 [00:49<00:46, 1.01s/B]"
     ]
    },
    {
     "name": "stdout",
     "output_type": "stream",
     "text": [
      "parcel (3426, 10)\n",
      "after react\n",
      "parcel (3412, 10)\n",
      "after react\n"
     ]
    },
    {
     "name": "stderr",
     "output_type": "stream",
     "text": [
      "running:  55%|█████████████████████████████▏                       | 55.0/100 [00:50<00:44, 1.01B/s]"
     ]
    },
    {
     "name": "stdout",
     "output_type": "stream",
     "text": [
      "parcel (3424, 10)\n",
      "after react\n",
      "parcel (3419, 10)\n",
      "after react\n"
     ]
    },
    {
     "name": "stderr",
     "output_type": "stream",
     "text": [
      "running:  56%|█████████████████████████████▋                       | 56.0/100 [00:51<00:42, 1.03B/s]"
     ]
    },
    {
     "name": "stdout",
     "output_type": "stream",
     "text": [
      "parcel (3431, 10)\n",
      "after react\n",
      "parcel (3433, 10)\n",
      "after react\n"
     ]
    },
    {
     "name": "stderr",
     "output_type": "stream",
     "text": [
      "running:  57%|██████████████████████████████▏                      | 57.0/100 [00:52<00:42, 1.02B/s]"
     ]
    },
    {
     "name": "stdout",
     "output_type": "stream",
     "text": [
      "parcel (3426, 10)\n",
      "after react\n",
      "parcel (3409, 10)\n",
      "after react\n"
     ]
    },
    {
     "name": "stderr",
     "output_type": "stream",
     "text": [
      "running:  58%|██████████████████████████████▋                      | 58.0/100 [00:53<00:40, 1.04B/s]"
     ]
    },
    {
     "name": "stdout",
     "output_type": "stream",
     "text": [
      "parcel (3421, 10)\n",
      "after react\n",
      "parcel (3413, 10)\n",
      "after react\n"
     ]
    },
    {
     "name": "stderr",
     "output_type": "stream",
     "text": [
      "running:  59%|███████████████████████████████▎                     | 59.0/100 [00:54<00:39, 1.03B/s]"
     ]
    },
    {
     "name": "stdout",
     "output_type": "stream",
     "text": [
      "parcel (3408, 10)\n",
      "after react\n",
      "parcel (3410, 10)\n",
      "after react\n"
     ]
    },
    {
     "name": "stderr",
     "output_type": "stream",
     "text": [
      "running:  60%|███████████████████████████████▊                     | 60.0/100 [00:55<00:38, 1.04B/s]"
     ]
    },
    {
     "name": "stdout",
     "output_type": "stream",
     "text": [
      "parcel (3399, 10)\n",
      "after react\n",
      "parcel (3056, 10)\n",
      "after react\n"
     ]
    },
    {
     "name": "stderr",
     "output_type": "stream",
     "text": [
      "running:  61%|████████████████████████████████▎                    | 61.0/100 [00:56<00:37, 1.03B/s]"
     ]
    },
    {
     "name": "stdout",
     "output_type": "stream",
     "text": [
      "parcel (2935, 10)\n",
      "after react\n",
      "parcel (2914, 10)\n",
      "after react\n"
     ]
    },
    {
     "name": "stderr",
     "output_type": "stream",
     "text": [
      "running:  62%|████████████████████████████████▊                    | 62.0/100 [00:57<00:36, 1.03B/s]"
     ]
    },
    {
     "name": "stdout",
     "output_type": "stream",
     "text": [
      "parcel (2903, 10)\n",
      "after react\n",
      "parcel (2900, 10)\n",
      "after react\n"
     ]
    },
    {
     "name": "stderr",
     "output_type": "stream",
     "text": [
      "running:  63%|█████████████████████████████████▍                   | 63.0/100 [00:58<00:35, 1.05B/s]"
     ]
    },
    {
     "name": "stdout",
     "output_type": "stream",
     "text": [
      "parcel (2898, 10)\n",
      "after react\n",
      "parcel (2909, 10)\n",
      "after react\n"
     ]
    },
    {
     "name": "stderr",
     "output_type": "stream",
     "text": [
      "running:  64%|█████████████████████████████████▉                   | 64.0/100 [00:59<00:34, 1.04B/s]"
     ]
    },
    {
     "name": "stdout",
     "output_type": "stream",
     "text": [
      "parcel (2908, 10)\n",
      "after react\n",
      "parcel (2908, 10)\n",
      "after react\n"
     ]
    },
    {
     "name": "stderr",
     "output_type": "stream",
     "text": [
      "running:  65%|██████████████████████████████████▍                  | 65.0/100 [01:00<00:33, 1.03B/s]"
     ]
    },
    {
     "name": "stdout",
     "output_type": "stream",
     "text": [
      "parcel (2912, 10)\n",
      "after react\n",
      "parcel (2909, 10)\n",
      "after react\n"
     ]
    },
    {
     "name": "stderr",
     "output_type": "stream",
     "text": [
      "running:  66%|██████████████████████████████████▉                  | 66.0/100 [01:01<00:33, 1.02B/s]"
     ]
    },
    {
     "name": "stdout",
     "output_type": "stream",
     "text": [
      "parcel (2918, 10)\n",
      "after react\n",
      "parcel (2925, 10)\n",
      "after react\n"
     ]
    },
    {
     "name": "stderr",
     "output_type": "stream",
     "text": [
      "running:  67%|███████████████████████████████████▌                 | 67.0/100 [01:02<00:32, 1.02B/s]"
     ]
    },
    {
     "name": "stdout",
     "output_type": "stream",
     "text": [
      "parcel (2912, 10)\n",
      "after react\n",
      "parcel (2918, 10)\n",
      "after react\n"
     ]
    },
    {
     "name": "stderr",
     "output_type": "stream",
     "text": [
      "running:  68%|████████████████████████████████████                 | 68.0/100 [01:03<00:31, 1.02B/s]"
     ]
    },
    {
     "name": "stdout",
     "output_type": "stream",
     "text": [
      "parcel (2915, 10)\n",
      "after react\n",
      "parcel (2924, 10)\n",
      "after react\n"
     ]
    },
    {
     "name": "stderr",
     "output_type": "stream",
     "text": [
      "running:  69%|████████████████████████████████████▌                | 69.0/100 [01:04<00:30, 1.00B/s]"
     ]
    },
    {
     "name": "stdout",
     "output_type": "stream",
     "text": [
      "parcel (2916, 10)\n",
      "after react\n",
      "parcel (2916, 10)\n",
      "after react\n"
     ]
    },
    {
     "name": "stderr",
     "output_type": "stream",
     "text": [
      "running:  70%|█████████████████████████████████████                | 70.0/100 [01:05<00:29, 1.03B/s]"
     ]
    },
    {
     "name": "stdout",
     "output_type": "stream",
     "text": [
      "parcel (2925, 10)\n",
      "after react\n",
      "parcel (2915, 10)\n",
      "after react\n"
     ]
    },
    {
     "name": "stderr",
     "output_type": "stream",
     "text": [
      "running:  71%|█████████████████████████████████████▋               | 71.0/100 [01:06<00:29, 1.01s/B]"
     ]
    },
    {
     "name": "stdout",
     "output_type": "stream",
     "text": [
      "parcel (2900, 10)\n",
      "after react\n",
      "parcel (2897, 10)\n",
      "after react\n"
     ]
    },
    {
     "name": "stderr",
     "output_type": "stream",
     "text": [
      "running:  72%|██████████████████████████████████████▏              | 72.0/100 [01:07<00:27, 1.00B/s]"
     ]
    },
    {
     "name": "stdout",
     "output_type": "stream",
     "text": [
      "parcel (2534, 10)\n",
      "after react\n",
      "parcel (2438, 10)\n",
      "after react\n"
     ]
    },
    {
     "name": "stderr",
     "output_type": "stream",
     "text": [
      "running:  73%|██████████████████████████████████████▋              | 73.0/100 [01:08<00:27, 1.00s/B]"
     ]
    },
    {
     "name": "stdout",
     "output_type": "stream",
     "text": [
      "parcel (2431, 10)\n",
      "after react\n",
      "parcel (2416, 10)\n",
      "after react\n"
     ]
    },
    {
     "name": "stderr",
     "output_type": "stream",
     "text": [
      "running:  74%|███████████████████████████████████████▏             | 74.0/100 [01:09<00:26, 1.01s/B]"
     ]
    },
    {
     "name": "stdout",
     "output_type": "stream",
     "text": [
      "parcel (2415, 10)\n",
      "after react\n",
      "parcel (2422, 10)\n",
      "after react\n"
     ]
    },
    {
     "name": "stderr",
     "output_type": "stream",
     "text": [
      "running:  75%|███████████████████████████████████████▊             | 75.0/100 [01:10<00:25, 1.02s/B]"
     ]
    },
    {
     "name": "stdout",
     "output_type": "stream",
     "text": [
      "parcel (2415, 10)\n",
      "after react\n",
      "parcel (2419, 10)\n",
      "after react\n"
     ]
    },
    {
     "name": "stderr",
     "output_type": "stream",
     "text": [
      "running:  76%|████████████████████████████████████████▎            | 76.0/100 [01:11<00:24, 1.02s/B]"
     ]
    },
    {
     "name": "stdout",
     "output_type": "stream",
     "text": [
      "parcel (2427, 10)\n",
      "after react\n",
      "parcel (2425, 10)\n",
      "after react\n"
     ]
    },
    {
     "name": "stderr",
     "output_type": "stream",
     "text": [
      "running:  77%|████████████████████████████████████████▊            | 77.0/100 [01:12<00:23, 1.03s/B]"
     ]
    },
    {
     "name": "stdout",
     "output_type": "stream",
     "text": [
      "parcel (2432, 10)\n",
      "after react\n",
      "parcel (2421, 10)\n",
      "after react\n"
     ]
    },
    {
     "name": "stderr",
     "output_type": "stream",
     "text": [
      "running:  78%|█████████████████████████████████████████▎           | 78.0/100 [01:13<00:22, 1.04s/B]"
     ]
    },
    {
     "name": "stdout",
     "output_type": "stream",
     "text": [
      "parcel (2419, 10)\n",
      "after react\n",
      "parcel (2426, 10)\n",
      "after react\n"
     ]
    },
    {
     "name": "stderr",
     "output_type": "stream",
     "text": [
      "running:  79%|█████████████████████████████████████████▊           | 79.0/100 [01:14<00:21, 1.04s/B]"
     ]
    },
    {
     "name": "stdout",
     "output_type": "stream",
     "text": [
      "parcel (2435, 10)\n",
      "after react\n",
      "parcel (2437, 10)\n",
      "after react\n"
     ]
    },
    {
     "name": "stderr",
     "output_type": "stream",
     "text": [
      "running:  80%|██████████████████████████████████████████▍          | 80.0/100 [01:15<00:20, 1.03s/B]"
     ]
    },
    {
     "name": "stdout",
     "output_type": "stream",
     "text": [
      "parcel (2405, 10)\n",
      "after react\n",
      "parcel (2410, 10)\n",
      "after react\n"
     ]
    },
    {
     "name": "stderr",
     "output_type": "stream",
     "text": [
      "running:  81%|██████████████████████████████████████████▉          | 81.0/100 [01:16<00:19, 1.04s/B]"
     ]
    },
    {
     "name": "stdout",
     "output_type": "stream",
     "text": [
      "parcel (2389, 10)\n",
      "after react\n",
      "parcel (2395, 10)\n",
      "after react\n"
     ]
    },
    {
     "name": "stderr",
     "output_type": "stream",
     "text": [
      "running:  82%|███████████████████████████████████████████▍         | 82.0/100 [01:17<00:18, 1.01s/B]"
     ]
    },
    {
     "name": "stdout",
     "output_type": "stream",
     "text": [
      "parcel (2394, 10)\n",
      "after react\n",
      "parcel (2402, 10)\n",
      "after react\n"
     ]
    },
    {
     "name": "stderr",
     "output_type": "stream",
     "text": [
      "running:  83%|███████████████████████████████████████████▉         | 83.0/100 [01:18<00:16, 1.01B/s]"
     ]
    },
    {
     "name": "stdout",
     "output_type": "stream",
     "text": [
      "parcel (2385, 10)\n",
      "after react\n",
      "parcel (2377, 10)\n",
      "after react\n"
     ]
    },
    {
     "name": "stderr",
     "output_type": "stream",
     "text": [
      "running:  84%|████████████████████████████████████████████▌        | 84.0/100 [01:19<00:15, 1.02B/s]"
     ]
    },
    {
     "name": "stdout",
     "output_type": "stream",
     "text": [
      "parcel (2009, 10)\n",
      "after react\n",
      "parcel (1927, 10)\n",
      "after react\n"
     ]
    },
    {
     "name": "stderr",
     "output_type": "stream",
     "text": [
      "running:  85%|█████████████████████████████████████████████        | 85.0/100 [01:20<00:14, 1.04B/s]"
     ]
    },
    {
     "name": "stdout",
     "output_type": "stream",
     "text": [
      "parcel (1883, 10)\n",
      "after react\n",
      "parcel (1879, 10)\n",
      "after react\n"
     ]
    },
    {
     "name": "stderr",
     "output_type": "stream",
     "text": [
      "running:  86%|█████████████████████████████████████████████▌       | 86.0/100 [01:21<00:13, 1.03B/s]"
     ]
    },
    {
     "name": "stdout",
     "output_type": "stream",
     "text": [
      "parcel (1900, 10)\n",
      "after react\n",
      "parcel (1896, 10)\n",
      "after react\n"
     ]
    },
    {
     "name": "stderr",
     "output_type": "stream",
     "text": [
      "running:  87%|██████████████████████████████████████████████       | 87.0/100 [01:22<00:12, 1.01B/s]"
     ]
    },
    {
     "name": "stdout",
     "output_type": "stream",
     "text": [
      "parcel (1905, 10)\n",
      "after react\n",
      "parcel (1912, 10)\n",
      "after react\n"
     ]
    },
    {
     "name": "stderr",
     "output_type": "stream",
     "text": [
      "running:  88%|██████████████████████████████████████████████▋      | 88.0/100 [01:23<00:11, 1.00B/s]"
     ]
    },
    {
     "name": "stdout",
     "output_type": "stream",
     "text": [
      "parcel (1913, 10)\n",
      "after react\n",
      "parcel (1924, 10)\n",
      "after react\n"
     ]
    },
    {
     "name": "stderr",
     "output_type": "stream",
     "text": [
      "running:  89%|███████████████████████████████████████████████▏     | 89.0/100 [01:24<00:11, 1.03s/B]"
     ]
    },
    {
     "name": "stdout",
     "output_type": "stream",
     "text": [
      "parcel (1929, 10)\n",
      "after react\n",
      "parcel (1925, 10)\n",
      "after react\n"
     ]
    },
    {
     "name": "stderr",
     "output_type": "stream",
     "text": [
      "running:  90%|███████████████████████████████████████████████▋     | 90.0/100 [01:25<00:10, 1.01s/B]"
     ]
    },
    {
     "name": "stdout",
     "output_type": "stream",
     "text": [
      "parcel (1932, 10)\n",
      "after react\n",
      "parcel (1921, 10)\n",
      "after react\n"
     ]
    },
    {
     "name": "stderr",
     "output_type": "stream",
     "text": [
      "running:  91%|████████████████████████████████████████████████▏    | 91.0/100 [01:26<00:09, 1.01s/B]"
     ]
    },
    {
     "name": "stdout",
     "output_type": "stream",
     "text": [
      "parcel (1922, 10)\n",
      "after react\n",
      "parcel (1918, 10)\n",
      "after react\n"
     ]
    },
    {
     "name": "stderr",
     "output_type": "stream",
     "text": [
      "running:  92%|████████████████████████████████████████████████▊    | 92.0/100 [01:27<00:08, 1.03s/B]"
     ]
    },
    {
     "name": "stdout",
     "output_type": "stream",
     "text": [
      "parcel (1908, 10)\n",
      "after react\n",
      "parcel (1913, 10)\n",
      "after react\n"
     ]
    },
    {
     "name": "stderr",
     "output_type": "stream",
     "text": [
      "running:  93%|█████████████████████████████████████████████████▎   | 93.0/100 [01:28<00:07, 1.02s/B]"
     ]
    },
    {
     "name": "stdout",
     "output_type": "stream",
     "text": [
      "parcel (1921, 10)\n",
      "after react\n",
      "parcel (1912, 10)\n",
      "after react\n"
     ]
    },
    {
     "name": "stderr",
     "output_type": "stream",
     "text": [
      "running:  94%|█████████████████████████████████████████████████▊   | 94.0/100 [01:29<00:05, 1.01B/s]"
     ]
    },
    {
     "name": "stdout",
     "output_type": "stream",
     "text": [
      "parcel (1905, 10)\n",
      "after react\n",
      "parcel (1918, 10)\n",
      "after react\n"
     ]
    },
    {
     "name": "stderr",
     "output_type": "stream",
     "text": [
      "running:  95%|██████████████████████████████████████████████████▎  | 95.0/100 [01:30<00:04, 1.01B/s]"
     ]
    },
    {
     "name": "stdout",
     "output_type": "stream",
     "text": [
      "parcel (1912, 10)\n",
      "after react\n",
      "parcel (1906, 10)\n",
      "after react\n"
     ]
    },
    {
     "name": "stderr",
     "output_type": "stream",
     "text": [
      "running:  96%|██████████████████████████████████████████████████▉  | 96.0/100 [01:31<00:04, 1.01s/B]"
     ]
    },
    {
     "name": "stdout",
     "output_type": "stream",
     "text": [
      "parcel (1550, 10)\n",
      "after react\n",
      "parcel (1443, 10)\n",
      "after react\n"
     ]
    },
    {
     "name": "stderr",
     "output_type": "stream",
     "text": [
      "running:  97%|███████████████████████████████████████████████████▍ | 97.0/100 [01:32<00:03, 1.02s/B]"
     ]
    },
    {
     "name": "stdout",
     "output_type": "stream",
     "text": [
      "parcel (1422, 10)\n",
      "after react\n",
      "parcel (1422, 10)\n",
      "after react\n"
     ]
    },
    {
     "name": "stderr",
     "output_type": "stream",
     "text": [
      "running:  98%|███████████████████████████████████████████████████▉ | 98.0/100 [01:33<00:02, 1.05s/B]"
     ]
    },
    {
     "name": "stdout",
     "output_type": "stream",
     "text": [
      "parcel (1423, 10)\n",
      "after react\n",
      "parcel (1429, 10)\n",
      "after react\n"
     ]
    },
    {
     "name": "stderr",
     "output_type": "stream",
     "text": [
      "running:  99%|████████████████████████████████████████████████████▍| 99.0/100 [01:34<00:01, 1.03s/B]"
     ]
    },
    {
     "name": "stdout",
     "output_type": "stream",
     "text": [
      "parcel (1421, 10)\n",
      "after react\n",
      "parcel (1429, 10)\n",
      "after react\n"
     ]
    },
    {
     "name": "stderr",
     "output_type": "stream",
     "text": [
      "running: 100%|██████████████████████████████████████████████████████| 100/100 [01:35<00:00, 1.06s/B]"
     ]
    },
    {
     "name": "stdout",
     "output_type": "stream",
     "text": [
      "parcel (1434, 10)\n"
     ]
    },
    {
     "name": "stderr",
     "output_type": "stream",
     "text": [
      "running: 100%|██████████████████████████████████████████████████████| 100/100 [01:35<00:00, 1.04B/s]\n"
     ]
    }
   ],
   "source": [
    "etching = testEtch.inputParticle(125, velosity_matrix, typeID, 2e-3, 20)"
   ]
  },
  {
   "cell_type": "code",
   "execution_count": 30,
   "metadata": {},
   "outputs": [
    {
     "name": "stderr",
     "output_type": "stream",
     "text": [
      "l:\\program\\Lib\\site-packages\\pyvista\\core\\utilities\\points.py:52: UserWarning: Points is not a float type. This can cause issues when transforming or applying filters. Casting to ``np.float32``. Disable this by passing ``force_float=False``.\n",
      "  warnings.warn(\n",
      "l:\\program\\Lib\\site-packages\\pyvista\\core\\filters\\data_set.py:2320: UserWarning: No vector-like data to use for orient. orient will be set to False.\n",
      "  warnings.warn(\"No vector-like data to use for orient. orient will be set to False.\")\n"
     ]
    },
    {
     "data": {
      "application/vnd.jupyter.widget-view+json": {
       "model_id": "33850b2aeef94f33883bf9611df72170",
       "version_major": 2,
       "version_minor": 0
      },
      "text/plain": [
       "Widget(value='<iframe src=\"http://localhost:53252/index.html?ui=P_0x16c141fa4d0_5&reconnect=auto\" class=\"pyvis…"
      ]
     },
     "metadata": {},
     "output_type": "display_data"
    }
   ],
   "source": [
    "sumFilm = np.sum(etching[0], axis=-1)\n",
    "\n",
    "depo1 = torch.Tensor(np.logical_and(sumFilm[50:, :, :,]!=10, sumFilm[50:, :, :,]!=0)).to_sparse()\n",
    "depo1 = depo1.indices().numpy().T\n",
    "\n",
    "substrute = torch.Tensor(sumFilm[50:, :, :,]==10).to_sparse()\n",
    "substrute = substrute.indices().numpy().T\n",
    "depomesh = pv.PolyData(depo1)\n",
    "depomesh[\"radius\"] = np.ones(depo1.shape[0])*0.5\n",
    "geom = pv.Box()\n",
    "\n",
    "submesh = pv.PolyData(substrute)\n",
    "submesh[\"radius\"] = np.ones(substrute.shape[0])*0.5\n",
    "\n",
    "# Progress bar is a new feature on master branch\n",
    "depoglyphed = depomesh.glyph(scale=\"radius\", geom=geom) # progress_bar=True)\n",
    "subglyphed = submesh.glyph(scale=\"radius\", geom=geom) # progress_bar=True)\n",
    "\n",
    "p = pv.Plotter()\n",
    "p.add_mesh(depoglyphed, color='cyan')\n",
    "p.add_mesh(subglyphed, color='dimgray')\n",
    "p.enable_eye_dome_lighting()\n",
    "p.show()"
   ]
  },
  {
   "cell_type": "code",
   "execution_count": 31,
   "metadata": {},
   "outputs": [
    {
     "name": "stderr",
     "output_type": "stream",
     "text": [
      "l:\\program\\Lib\\site-packages\\pyvista\\core\\utilities\\points.py:52: UserWarning: Points is not a float type. This can cause issues when transforming or applying filters. Casting to ``np.float32``. Disable this by passing ``force_float=False``.\n",
      "  warnings.warn(\n",
      "l:\\program\\Lib\\site-packages\\pyvista\\core\\filters\\data_set.py:2320: UserWarning: No vector-like data to use for orient. orient will be set to False.\n",
      "  warnings.warn(\"No vector-like data to use for orient. orient will be set to False.\")\n"
     ]
    },
    {
     "data": {
      "application/vnd.jupyter.widget-view+json": {
       "model_id": "5411e0591ec844f9bb82648b6c85b0a3",
       "version_major": 2,
       "version_minor": 0
      },
      "text/plain": [
       "Widget(value='<iframe src=\"http://localhost:53252/index.html?ui=P_0x16c118f24d0_6&reconnect=auto\" class=\"pyvis…"
      ]
     },
     "metadata": {},
     "output_type": "display_data"
    }
   ],
   "source": [
    "sumFilm = np.sum(etching[0], axis=-1)\n",
    "\n",
    "depo1 = torch.Tensor(np.logical_and(sumFilm[:, :50, :,]!=10, sumFilm[:, :50, :,]!=0)).to_sparse()\n",
    "depo1 = depo1.indices().numpy().T\n",
    "\n",
    "substrute = torch.Tensor(sumFilm[:, :50, :,]==10).to_sparse()\n",
    "substrute = substrute.indices().numpy().T\n",
    "depomesh = pv.PolyData(depo1)\n",
    "depomesh[\"radius\"] = np.ones(depo1.shape[0])*0.5\n",
    "geom = pv.Box()\n",
    "\n",
    "submesh = pv.PolyData(substrute)\n",
    "submesh[\"radius\"] = np.ones(substrute.shape[0])*0.5\n",
    "\n",
    "# Progress bar is a new feature on master branch\n",
    "depoglyphed = depomesh.glyph(scale=\"radius\", geom=geom) # progress_bar=True)\n",
    "subglyphed = submesh.glyph(scale=\"radius\", geom=geom) # progress_bar=True)\n",
    "\n",
    "p = pv.Plotter()\n",
    "p.add_mesh(depoglyphed, color='cyan')\n",
    "p.add_mesh(subglyphed, color='dimgray')\n",
    "p.enable_eye_dome_lighting()\n",
    "p.show()"
   ]
  },
  {
   "cell_type": "code",
   "execution_count": null,
   "metadata": {},
   "outputs": [],
   "source": []
  }
 ],
 "metadata": {
  "kernelspec": {
   "display_name": "Python 3",
   "language": "python",
   "name": "python3"
  },
  "language_info": {
   "codemirror_mode": {
    "name": "ipython",
    "version": 3
   },
   "file_extension": ".py",
   "mimetype": "text/x-python",
   "name": "python",
   "nbconvert_exporter": "python",
   "pygments_lexer": "ipython3",
   "version": "3.11.7"
  }
 },
 "nbformat": 4,
 "nbformat_minor": 2
}

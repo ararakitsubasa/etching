{
 "cells": [
  {
   "cell_type": "code",
   "execution_count": 1,
   "metadata": {},
   "outputs": [],
   "source": [
    "import numpy as np\n",
    "import time as Time\n",
    "from numba import jit\n",
    "import matplotlib.pyplot as plt\n",
    "import pyvista as pv\n",
    "import torch"
   ]
  },
  {
   "cell_type": "code",
   "execution_count": 2,
   "metadata": {},
   "outputs": [],
   "source": [
    "film = np.zeros((100, 100, 100, 2))\n",
    "\n",
    "bottom = 10\n",
    "film[:, :, 0:bottom, 0] = 10 # bottom\n",
    "\n",
    "height = 80\n",
    "\n",
    "film[:, :40, 0:height, 0] = 10\n",
    "film[:, 60:, 0:height, 0] = 10\n"
   ]
  },
  {
   "cell_type": "code",
   "execution_count": 3,
   "metadata": {},
   "outputs": [
    {
     "name": "stdout",
     "output_type": "stream",
     "text": [
      "(100, 100, 100)\n"
     ]
    }
   ],
   "source": [
    "sumFilm = np.sum(film, axis=-1)\n",
    "\n",
    "print(sumFilm.shape)"
   ]
  },
  {
   "cell_type": "code",
   "execution_count": 4,
   "metadata": {},
   "outputs": [
    {
     "name": "stderr",
     "output_type": "stream",
     "text": [
      "c:\\Users\\urcs049\\AppData\\Local\\anaconda3\\Lib\\site-packages\\pyvista\\core\\utilities\\points.py:55: UserWarning: Points is not a float type. This can cause issues when transforming or applying filters. Casting to ``np.float32``. Disable this by passing ``force_float=False``.\n",
      "  warnings.warn(\n",
      "c:\\Users\\urcs049\\AppData\\Local\\anaconda3\\Lib\\site-packages\\pyvista\\core\\filters\\data_set.py:2386: UserWarning: No vector-like data to use for orient. orient will be set to False.\n",
      "  warnings.warn(\"No vector-like data to use for orient. orient will be set to False.\")\n"
     ]
    },
    {
     "data": {
      "application/vnd.jupyter.widget-view+json": {
       "model_id": "9d75a39403a348fa88c857382b08bf5e",
       "version_major": 2,
       "version_minor": 0
      },
      "text/plain": [
       "Widget(value='<iframe src=\"http://localhost:57806/index.html?ui=P_0x1d4e013e120_0&reconnect=auto\" class=\"pyvis…"
      ]
     },
     "metadata": {},
     "output_type": "display_data"
    }
   ],
   "source": [
    "# depo1 = torch.Tensor(np.logical_and(film[:, :, :] !=0, film[:, :, :] < 10)).to_sparse()\n",
    "# depo1 = depo1.indices().numpy().T\n",
    "\n",
    "substrute = torch.Tensor(sumFilm[:, :, :]==10).to_sparse()\n",
    "substrute = substrute.indices().numpy().T\n",
    "# depomesh = pv.PolyData(depo1)\n",
    "# depomesh[\"radius\"] = np.ones(depo1.shape[0])*0.5\n",
    "geom = pv.Box()\n",
    "\n",
    "submesh = pv.PolyData(substrute)\n",
    "submesh[\"radius\"] = np.ones(substrute.shape[0])*0.5\n",
    "\n",
    "# Progress bar is a new feature on master branch\n",
    "# depoglyphed = depomesh.glyph(scale=\"radius\", geom=geom) # progress_bar=True)\n",
    "subglyphed = submesh.glyph(scale=\"radius\", geom=geom) # progress_bar=True)\n",
    "\n",
    "p = pv.Plotter()\n",
    "# p.add_mesh(depoglyphed, color='cyan')\n",
    "p.add_mesh(subglyphed, color='dimgray')\n",
    "p.enable_eye_dome_lighting()\n",
    "p.show()"
   ]
  },
  {
   "cell_type": "code",
   "execution_count": 5,
   "metadata": {},
   "outputs": [],
   "source": [
    "etchfilm = film"
   ]
  },
  {
   "cell_type": "code",
   "execution_count": 6,
   "metadata": {},
   "outputs": [],
   "source": [
    "import Multi_Species_Cu_Si_noAr"
   ]
  },
  {
   "cell_type": "code",
   "execution_count": 7,
   "metadata": {},
   "outputs": [],
   "source": [
    "logname = 'Multi_species_benchmark_0729'\n",
    "testEtch = Multi_Species_Cu_Si_noAr.etching(mirror=True,inputMethod='bunch', pressure_pa=0.001, temperature=300, chamberSize=etchfilm.shape,\n",
    "                                         depoThick=90, center_with_direction=np.array([[35,100,75]]), \n",
    "                                         range3D=np.array([[0, 70, 0, 100, 0, 150]]), InOrOut=[1], yield_hist=np.array([None]),\n",
    "                                        reaction_type=False, param = [1.6, -0.7], N = 300000, \n",
    "                                        sub_xy=[0,0], film=etchfilm, n=1, cellSize=etchfilm.shape, \n",
    "                                        celllength=1e-5, kdtreeN=5, tstep=1e-5,\n",
    "                                        substrateTop=40,posGeneratorType='benchmark', logname=logname)\n",
    "\n",
    "\n",
    "# etching = testEtch.depo_position_increase_cosVel_normal(125, int(7e6), 2e-3, 5)\n"
   ]
  },
  {
   "cell_type": "code",
   "execution_count": 8,
   "metadata": {},
   "outputs": [
    {
     "name": "stdout",
     "output_type": "stream",
     "text": [
      "[ 0. -1. -1.]\n"
     ]
    }
   ],
   "source": [
    "N = int(1e5)\n",
    "velosity_matrix = np.zeros((N, 3))\n",
    "tstep=1e-5\n",
    "celllength=1e-5\n",
    "# velosity_matrix[:, 0] = -1 * celllength /tstep\n",
    "velosity_matrix[:, 1] = -1 * celllength /tstep\n",
    "velosity_matrix[:, 2] = -1 * celllength /tstep\n",
    "\n",
    "typeID = np.zeros(N)\n",
    "\n",
    "print(velosity_matrix[0])"
   ]
  },
  {
   "cell_type": "code",
   "execution_count": 9,
   "metadata": {},
   "outputs": [
    {
     "name": "stdout",
     "output_type": "stream",
     "text": [
      "parcel (500, 10)\n"
     ]
    },
    {
     "name": "stderr",
     "output_type": "stream",
     "text": [
      "running:   0%|                                                            | 0.00/100 [00:00<?, ?B/s]"
     ]
    },
    {
     "name": "stdout",
     "output_type": "stream",
     "text": [
      "parcel (500, 10)\n"
     ]
    },
    {
     "name": "stderr",
     "output_type": "stream",
     "text": [
      "running:   1%|▌                                                    | 1.00/100 [00:00<00:18, 5.40B/s]"
     ]
    },
    {
     "name": "stdout",
     "output_type": "stream",
     "text": [
      "parcel (1000, 10)\n",
      "parcel (1500, 10)\n"
     ]
    },
    {
     "name": "stderr",
     "output_type": "stream",
     "text": [
      "running:   2%|█                                                    | 2.00/100 [00:00<00:26, 3.76B/s]"
     ]
    },
    {
     "name": "stdout",
     "output_type": "stream",
     "text": [
      "parcel (2000, 10)\n",
      "parcel (2500, 10)\n"
     ]
    },
    {
     "name": "stderr",
     "output_type": "stream",
     "text": [
      "running:   3%|█▌                                                   | 3.00/100 [00:00<00:28, 3.41B/s]"
     ]
    },
    {
     "name": "stdout",
     "output_type": "stream",
     "text": [
      "parcel (3000, 10)\n",
      "parcel (3500, 10)\n"
     ]
    },
    {
     "name": "stderr",
     "output_type": "stream",
     "text": [
      "running:   4%|██                                                   | 4.00/100 [00:01<00:29, 3.27B/s]"
     ]
    },
    {
     "name": "stdout",
     "output_type": "stream",
     "text": [
      "parcel (4000, 10)\n",
      "parcel (4500, 10)\n"
     ]
    },
    {
     "name": "stderr",
     "output_type": "stream",
     "text": [
      "running:   5%|██▋                                                  | 5.00/100 [00:01<00:29, 3.17B/s]"
     ]
    },
    {
     "name": "stdout",
     "output_type": "stream",
     "text": [
      "parcel (5000, 10)\n",
      "parcel (5500, 10)\n"
     ]
    },
    {
     "name": "stderr",
     "output_type": "stream",
     "text": [
      "running:   6%|███▏                                                 | 6.00/100 [00:01<00:30, 3.10B/s]"
     ]
    },
    {
     "name": "stdout",
     "output_type": "stream",
     "text": [
      "parcel (6000, 10)\n",
      "parcel (6500, 10)\n"
     ]
    },
    {
     "name": "stderr",
     "output_type": "stream",
     "text": [
      "running:   7%|███▋                                                 | 7.00/100 [00:02<00:30, 3.08B/s]"
     ]
    },
    {
     "name": "stdout",
     "output_type": "stream",
     "text": [
      "parcel (7000, 10)\n",
      "parcel (7500, 10)\n"
     ]
    },
    {
     "name": "stderr",
     "output_type": "stream",
     "text": [
      "running:   8%|████▏                                                | 8.00/100 [00:05<02:03, 1.34s/B]"
     ]
    },
    {
     "name": "stdout",
     "output_type": "stream",
     "text": [
      "parcel (7992, 10)\n",
      "parcel (8459, 10)\n"
     ]
    },
    {
     "name": "stderr",
     "output_type": "stream",
     "text": [
      "running:   9%|████▊                                                | 9.00/100 [00:06<01:43, 1.13s/B]"
     ]
    },
    {
     "name": "stdout",
     "output_type": "stream",
     "text": [
      "parcel (8911, 10)\n",
      "parcel (9349, 10)\n"
     ]
    },
    {
     "name": "stderr",
     "output_type": "stream",
     "text": [
      "running:  10%|█████▎                                               | 10.0/100 [00:07<01:29, 1.01B/s]"
     ]
    },
    {
     "name": "stdout",
     "output_type": "stream",
     "text": [
      "parcel (9762, 10)\n",
      "parcel (10163, 10)\n"
     ]
    },
    {
     "name": "stderr",
     "output_type": "stream",
     "text": [
      "running:  11%|█████▊                                               | 11.0/100 [00:07<01:19, 1.12B/s]"
     ]
    },
    {
     "name": "stdout",
     "output_type": "stream",
     "text": [
      "parcel (10554, 10)\n",
      "parcel (10909, 10)\n"
     ]
    },
    {
     "name": "stderr",
     "output_type": "stream",
     "text": [
      "running:  12%|██████▎                                              | 12.0/100 [00:08<01:12, 1.21B/s]"
     ]
    },
    {
     "name": "stdout",
     "output_type": "stream",
     "text": [
      "parcel (11262, 10)\n",
      "parcel (11586, 10)\n"
     ]
    },
    {
     "name": "stderr",
     "output_type": "stream",
     "text": [
      "running:  13%|██████▉                                              | 13.0/100 [00:09<01:07, 1.28B/s]"
     ]
    },
    {
     "name": "stdout",
     "output_type": "stream",
     "text": [
      "parcel (11882, 10)\n",
      "parcel (12173, 10)\n"
     ]
    },
    {
     "name": "stderr",
     "output_type": "stream",
     "text": [
      "running:  14%|███████▍                                             | 14.0/100 [00:09<01:04, 1.34B/s]"
     ]
    },
    {
     "name": "stdout",
     "output_type": "stream",
     "text": [
      "parcel (12466, 10)\n",
      "parcel (12730, 10)\n"
     ]
    },
    {
     "name": "stderr",
     "output_type": "stream",
     "text": [
      "running:  15%|███████▉                                             | 15.0/100 [00:10<01:01, 1.37B/s]"
     ]
    },
    {
     "name": "stdout",
     "output_type": "stream",
     "text": [
      "parcel (13026, 10)\n",
      "parcel (13287, 10)\n"
     ]
    },
    {
     "name": "stderr",
     "output_type": "stream",
     "text": [
      "running:  16%|████████▍                                            | 16.0/100 [00:11<00:59, 1.41B/s]"
     ]
    },
    {
     "name": "stdout",
     "output_type": "stream",
     "text": [
      "parcel (13565, 10)\n",
      "parcel (13785, 10)\n"
     ]
    },
    {
     "name": "stderr",
     "output_type": "stream",
     "text": [
      "running:  17%|█████████                                            | 17.0/100 [00:11<00:58, 1.43B/s]"
     ]
    },
    {
     "name": "stdout",
     "output_type": "stream",
     "text": [
      "parcel (14010, 10)\n",
      "parcel (14259, 10)\n"
     ]
    },
    {
     "name": "stderr",
     "output_type": "stream",
     "text": [
      "running:  18%|█████████▌                                           | 18.0/100 [00:12<00:56, 1.44B/s]"
     ]
    },
    {
     "name": "stdout",
     "output_type": "stream",
     "text": [
      "parcel (14478, 10)\n",
      "parcel (14694, 10)\n"
     ]
    },
    {
     "name": "stderr",
     "output_type": "stream",
     "text": [
      "running:  19%|██████████                                           | 19.0/100 [00:13<00:55, 1.45B/s]"
     ]
    },
    {
     "name": "stdout",
     "output_type": "stream",
     "text": [
      "parcel (14894, 10)\n",
      "parcel (15112, 10)\n"
     ]
    },
    {
     "name": "stderr",
     "output_type": "stream",
     "text": [
      "running:  20%|██████████▌                                          | 20.0/100 [00:13<00:54, 1.46B/s]"
     ]
    },
    {
     "name": "stdout",
     "output_type": "stream",
     "text": [
      "parcel (15302, 10)\n",
      "parcel (15501, 10)\n"
     ]
    },
    {
     "name": "stderr",
     "output_type": "stream",
     "text": [
      "running:  21%|███████████▏                                         | 21.0/100 [00:14<00:53, 1.47B/s]"
     ]
    },
    {
     "name": "stdout",
     "output_type": "stream",
     "text": [
      "parcel (15698, 10)\n",
      "parcel (15899, 10)\n"
     ]
    },
    {
     "name": "stderr",
     "output_type": "stream",
     "text": [
      "running:  22%|███████████▋                                         | 22.0/100 [00:15<00:53, 1.47B/s]"
     ]
    },
    {
     "name": "stdout",
     "output_type": "stream",
     "text": [
      "parcel (16084, 10)\n",
      "parcel (16222, 10)\n"
     ]
    },
    {
     "name": "stderr",
     "output_type": "stream",
     "text": [
      "running:  23%|████████████▏                                        | 23.0/100 [00:15<00:52, 1.47B/s]"
     ]
    },
    {
     "name": "stdout",
     "output_type": "stream",
     "text": [
      "parcel (16380, 10)\n",
      "parcel (16558, 10)\n"
     ]
    },
    {
     "name": "stderr",
     "output_type": "stream",
     "text": [
      "running:  24%|████████████▋                                        | 24.0/100 [00:16<00:51, 1.48B/s]"
     ]
    },
    {
     "name": "stdout",
     "output_type": "stream",
     "text": [
      "parcel (16718, 10)\n",
      "parcel (16868, 10)\n"
     ]
    },
    {
     "name": "stderr",
     "output_type": "stream",
     "text": [
      "running:  25%|█████████████▎                                       | 25.0/100 [00:17<00:50, 1.48B/s]"
     ]
    },
    {
     "name": "stdout",
     "output_type": "stream",
     "text": [
      "parcel (17030, 10)\n",
      "parcel (17167, 10)\n"
     ]
    },
    {
     "name": "stderr",
     "output_type": "stream",
     "text": [
      "running:  26%|█████████████▊                                       | 26.0/100 [00:17<00:50, 1.48B/s]"
     ]
    },
    {
     "name": "stdout",
     "output_type": "stream",
     "text": [
      "parcel (17322, 10)\n",
      "parcel (17474, 10)\n"
     ]
    },
    {
     "name": "stderr",
     "output_type": "stream",
     "text": [
      "running:  27%|██████████████▎                                      | 27.0/100 [00:18<00:49, 1.48B/s]"
     ]
    },
    {
     "name": "stdout",
     "output_type": "stream",
     "text": [
      "parcel (17592, 10)\n",
      "parcel (17716, 10)\n"
     ]
    },
    {
     "name": "stderr",
     "output_type": "stream",
     "text": [
      "running:  28%|██████████████▊                                      | 28.0/100 [00:19<00:48, 1.48B/s]"
     ]
    },
    {
     "name": "stdout",
     "output_type": "stream",
     "text": [
      "parcel (17830, 10)\n",
      "parcel (17948, 10)\n"
     ]
    },
    {
     "name": "stderr",
     "output_type": "stream",
     "text": [
      "running:  29%|███████████████▎                                     | 29.0/100 [00:19<00:47, 1.48B/s]"
     ]
    },
    {
     "name": "stdout",
     "output_type": "stream",
     "text": [
      "parcel (18101, 10)\n",
      "parcel (18211, 10)\n"
     ]
    },
    {
     "name": "stderr",
     "output_type": "stream",
     "text": [
      "running:  30%|███████████████▉                                     | 30.0/100 [00:20<00:47, 1.48B/s]"
     ]
    },
    {
     "name": "stdout",
     "output_type": "stream",
     "text": [
      "parcel (18360, 10)\n",
      "parcel (18494, 10)\n"
     ]
    },
    {
     "name": "stderr",
     "output_type": "stream",
     "text": [
      "running:  31%|████████████████▍                                    | 31.0/100 [00:21<00:46, 1.48B/s]"
     ]
    },
    {
     "name": "stdout",
     "output_type": "stream",
     "text": [
      "parcel (18603, 10)\n",
      "parcel (18698, 10)\n"
     ]
    },
    {
     "name": "stderr",
     "output_type": "stream",
     "text": [
      "running:  32%|████████████████▉                                    | 32.0/100 [00:21<00:45, 1.48B/s]"
     ]
    },
    {
     "name": "stdout",
     "output_type": "stream",
     "text": [
      "parcel (18810, 10)\n",
      "parcel (18897, 10)\n"
     ]
    },
    {
     "name": "stderr",
     "output_type": "stream",
     "text": [
      "running:  33%|█████████████████▍                                   | 33.0/100 [00:22<00:45, 1.48B/s]"
     ]
    },
    {
     "name": "stdout",
     "output_type": "stream",
     "text": [
      "parcel (19016, 10)\n",
      "parcel (19145, 10)\n"
     ]
    },
    {
     "name": "stderr",
     "output_type": "stream",
     "text": [
      "running:  34%|██████████████████                                   | 34.0/100 [00:23<00:44, 1.48B/s]"
     ]
    },
    {
     "name": "stdout",
     "output_type": "stream",
     "text": [
      "parcel (19241, 10)\n",
      "parcel (19316, 10)\n"
     ]
    },
    {
     "name": "stderr",
     "output_type": "stream",
     "text": [
      "running:  35%|██████████████████▌                                  | 35.0/100 [00:23<00:43, 1.48B/s]"
     ]
    },
    {
     "name": "stdout",
     "output_type": "stream",
     "text": [
      "parcel (19431, 10)\n",
      "parcel (19515, 10)\n"
     ]
    },
    {
     "name": "stderr",
     "output_type": "stream",
     "text": [
      "running:  36%|███████████████████                                  | 36.0/100 [00:24<00:43, 1.48B/s]"
     ]
    },
    {
     "name": "stdout",
     "output_type": "stream",
     "text": [
      "parcel (19652, 10)\n",
      "parcel (19732, 10)\n"
     ]
    },
    {
     "name": "stderr",
     "output_type": "stream",
     "text": [
      "running:  37%|███████████████████▌                                 | 37.0/100 [00:25<00:42, 1.47B/s]"
     ]
    },
    {
     "name": "stdout",
     "output_type": "stream",
     "text": [
      "parcel (19805, 10)\n",
      "parcel (19888, 10)\n"
     ]
    },
    {
     "name": "stderr",
     "output_type": "stream",
     "text": [
      "running:  38%|████████████████████▏                                | 38.0/100 [00:25<00:41, 1.48B/s]"
     ]
    },
    {
     "name": "stdout",
     "output_type": "stream",
     "text": [
      "parcel (19986, 10)\n",
      "parcel (20068, 10)\n"
     ]
    },
    {
     "name": "stderr",
     "output_type": "stream",
     "text": [
      "running:  39%|████████████████████▋                                | 39.0/100 [00:26<00:41, 1.48B/s]"
     ]
    },
    {
     "name": "stdout",
     "output_type": "stream",
     "text": [
      "parcel (20149, 10)\n",
      "parcel (20279, 10)\n"
     ]
    },
    {
     "name": "stderr",
     "output_type": "stream",
     "text": [
      "running:  40%|█████████████████████▏                               | 40.0/100 [00:27<00:40, 1.49B/s]"
     ]
    },
    {
     "name": "stdout",
     "output_type": "stream",
     "text": [
      "parcel (20382, 10)\n",
      "parcel (20480, 10)\n"
     ]
    },
    {
     "name": "stderr",
     "output_type": "stream",
     "text": [
      "running:  41%|█████████████████████▋                               | 41.0/100 [00:27<00:39, 1.48B/s]"
     ]
    },
    {
     "name": "stdout",
     "output_type": "stream",
     "text": [
      "parcel (20538, 10)\n",
      "parcel (20640, 10)\n"
     ]
    },
    {
     "name": "stderr",
     "output_type": "stream",
     "text": [
      "running:  42%|██████████████████████▎                              | 42.0/100 [00:28<00:39, 1.48B/s]"
     ]
    },
    {
     "name": "stdout",
     "output_type": "stream",
     "text": [
      "parcel (20727, 10)\n",
      "parcel (20808, 10)\n"
     ]
    },
    {
     "name": "stderr",
     "output_type": "stream",
     "text": [
      "running:  43%|██████████████████████▊                              | 43.0/100 [00:29<00:38, 1.48B/s]"
     ]
    },
    {
     "name": "stdout",
     "output_type": "stream",
     "text": [
      "parcel (20878, 10)\n",
      "parcel (20953, 10)\n"
     ]
    },
    {
     "name": "stderr",
     "output_type": "stream",
     "text": [
      "running:  44%|███████████████████████▎                             | 44.0/100 [00:29<00:37, 1.48B/s]"
     ]
    },
    {
     "name": "stdout",
     "output_type": "stream",
     "text": [
      "parcel (20990, 10)\n",
      "parcel (21036, 10)\n"
     ]
    },
    {
     "name": "stderr",
     "output_type": "stream",
     "text": [
      "running:  45%|███████████████████████▊                             | 45.0/100 [00:30<00:37, 1.47B/s]"
     ]
    },
    {
     "name": "stdout",
     "output_type": "stream",
     "text": [
      "parcel (21090, 10)\n",
      "parcel (21133, 10)\n"
     ]
    },
    {
     "name": "stderr",
     "output_type": "stream",
     "text": [
      "running:  46%|████████████████████████▍                            | 46.0/100 [00:31<00:36, 1.48B/s]"
     ]
    },
    {
     "name": "stdout",
     "output_type": "stream",
     "text": [
      "parcel (21167, 10)\n",
      "parcel (21190, 10)\n"
     ]
    },
    {
     "name": "stderr",
     "output_type": "stream",
     "text": [
      "running:  47%|████████████████████████▉                            | 47.0/100 [00:32<00:35, 1.48B/s]"
     ]
    },
    {
     "name": "stdout",
     "output_type": "stream",
     "text": [
      "parcel (21243, 10)\n",
      "parcel (21332, 10)\n"
     ]
    },
    {
     "name": "stderr",
     "output_type": "stream",
     "text": [
      "running:  48%|█████████████████████████▍                           | 48.0/100 [00:32<00:35, 1.47B/s]"
     ]
    },
    {
     "name": "stdout",
     "output_type": "stream",
     "text": [
      "parcel (21401, 10)\n",
      "parcel (21415, 10)\n"
     ]
    },
    {
     "name": "stderr",
     "output_type": "stream",
     "text": [
      "running:  49%|█████████████████████████▉                           | 49.0/100 [00:33<00:34, 1.47B/s]"
     ]
    },
    {
     "name": "stdout",
     "output_type": "stream",
     "text": [
      "parcel (21433, 10)\n",
      "parcel (21438, 10)\n"
     ]
    },
    {
     "name": "stderr",
     "output_type": "stream",
     "text": [
      "running:  50%|██████████████████████████▌                          | 50.0/100 [00:34<00:34, 1.47B/s]"
     ]
    },
    {
     "name": "stdout",
     "output_type": "stream",
     "text": [
      "parcel (21502, 10)\n",
      "parcel (21525, 10)\n"
     ]
    },
    {
     "name": "stderr",
     "output_type": "stream",
     "text": [
      "running:  51%|███████████████████████████                          | 51.0/100 [00:34<00:33, 1.47B/s]"
     ]
    },
    {
     "name": "stdout",
     "output_type": "stream",
     "text": [
      "parcel (21570, 10)\n",
      "parcel (21597, 10)\n"
     ]
    },
    {
     "name": "stderr",
     "output_type": "stream",
     "text": [
      "running:  52%|███████████████████████████▌                         | 52.0/100 [00:35<00:32, 1.48B/s]"
     ]
    },
    {
     "name": "stdout",
     "output_type": "stream",
     "text": [
      "parcel (21615, 10)\n",
      "parcel (21624, 10)\n"
     ]
    },
    {
     "name": "stderr",
     "output_type": "stream",
     "text": [
      "running:  53%|████████████████████████████                         | 53.0/100 [00:36<00:31, 1.47B/s]"
     ]
    },
    {
     "name": "stdout",
     "output_type": "stream",
     "text": [
      "parcel (21674, 10)\n",
      "parcel (21676, 10)\n"
     ]
    },
    {
     "name": "stderr",
     "output_type": "stream",
     "text": [
      "running:  54%|████████████████████████████▌                        | 54.0/100 [00:36<00:31, 1.48B/s]"
     ]
    },
    {
     "name": "stdout",
     "output_type": "stream",
     "text": [
      "parcel (21709, 10)\n",
      "parcel (21739, 10)\n"
     ]
    },
    {
     "name": "stderr",
     "output_type": "stream",
     "text": [
      "running:  55%|█████████████████████████████▏                       | 55.0/100 [00:37<00:30, 1.47B/s]"
     ]
    },
    {
     "name": "stdout",
     "output_type": "stream",
     "text": [
      "parcel (21737, 10)\n",
      "parcel (21789, 10)\n"
     ]
    },
    {
     "name": "stderr",
     "output_type": "stream",
     "text": [
      "running:  56%|█████████████████████████████▋                       | 56.0/100 [00:38<00:29, 1.48B/s]"
     ]
    },
    {
     "name": "stdout",
     "output_type": "stream",
     "text": [
      "parcel (21812, 10)\n",
      "parcel (21830, 10)\n"
     ]
    },
    {
     "name": "stderr",
     "output_type": "stream",
     "text": [
      "running:  57%|██████████████████████████████▏                      | 57.0/100 [00:38<00:29, 1.48B/s]"
     ]
    },
    {
     "name": "stdout",
     "output_type": "stream",
     "text": [
      "parcel (21825, 10)\n",
      "parcel (21835, 10)\n"
     ]
    },
    {
     "name": "stderr",
     "output_type": "stream",
     "text": [
      "running:  58%|██████████████████████████████▋                      | 58.0/100 [00:39<00:28, 1.48B/s]"
     ]
    },
    {
     "name": "stdout",
     "output_type": "stream",
     "text": [
      "parcel (21849, 10)\n",
      "parcel (21886, 10)\n"
     ]
    },
    {
     "name": "stderr",
     "output_type": "stream",
     "text": [
      "running:  59%|███████████████████████████████▎                     | 59.0/100 [00:40<00:27, 1.48B/s]"
     ]
    },
    {
     "name": "stdout",
     "output_type": "stream",
     "text": [
      "parcel (21930, 10)\n",
      "parcel (21942, 10)\n"
     ]
    },
    {
     "name": "stderr",
     "output_type": "stream",
     "text": [
      "running:  60%|███████████████████████████████▊                     | 60.0/100 [00:40<00:27, 1.48B/s]"
     ]
    },
    {
     "name": "stdout",
     "output_type": "stream",
     "text": [
      "parcel (21973, 10)\n",
      "parcel (21978, 10)\n"
     ]
    },
    {
     "name": "stderr",
     "output_type": "stream",
     "text": [
      "running:  61%|████████████████████████████████▎                    | 61.0/100 [00:41<00:26, 1.48B/s]"
     ]
    },
    {
     "name": "stdout",
     "output_type": "stream",
     "text": [
      "parcel (21968, 10)\n",
      "parcel (21988, 10)\n"
     ]
    },
    {
     "name": "stderr",
     "output_type": "stream",
     "text": [
      "running:  62%|████████████████████████████████▊                    | 62.0/100 [00:42<00:25, 1.49B/s]"
     ]
    },
    {
     "name": "stdout",
     "output_type": "stream",
     "text": [
      "parcel (22041, 10)\n",
      "parcel (22038, 10)\n"
     ]
    },
    {
     "name": "stderr",
     "output_type": "stream",
     "text": [
      "running:  63%|█████████████████████████████████▍                   | 63.0/100 [00:42<00:24, 1.49B/s]"
     ]
    },
    {
     "name": "stdout",
     "output_type": "stream",
     "text": [
      "parcel (22054, 10)\n",
      "parcel (22046, 10)\n"
     ]
    },
    {
     "name": "stderr",
     "output_type": "stream",
     "text": [
      "running:  64%|█████████████████████████████████▉                   | 64.0/100 [00:43<00:24, 1.48B/s]"
     ]
    },
    {
     "name": "stdout",
     "output_type": "stream",
     "text": [
      "parcel (22112, 10)\n",
      "parcel (22146, 10)\n"
     ]
    },
    {
     "name": "stderr",
     "output_type": "stream",
     "text": [
      "running:  65%|██████████████████████████████████▍                  | 65.0/100 [00:44<00:23, 1.48B/s]"
     ]
    },
    {
     "name": "stdout",
     "output_type": "stream",
     "text": [
      "parcel (22169, 10)\n",
      "parcel (22215, 10)\n"
     ]
    },
    {
     "name": "stderr",
     "output_type": "stream",
     "text": [
      "running:  66%|██████████████████████████████████▉                  | 66.0/100 [00:44<00:22, 1.48B/s]"
     ]
    },
    {
     "name": "stdout",
     "output_type": "stream",
     "text": [
      "parcel (22211, 10)\n",
      "parcel (22202, 10)\n"
     ]
    },
    {
     "name": "stderr",
     "output_type": "stream",
     "text": [
      "running:  67%|███████████████████████████████████▌                 | 67.0/100 [00:45<00:22, 1.48B/s]"
     ]
    },
    {
     "name": "stdout",
     "output_type": "stream",
     "text": [
      "parcel (22193, 10)\n",
      "parcel (22246, 10)\n"
     ]
    },
    {
     "name": "stderr",
     "output_type": "stream",
     "text": [
      "running:  68%|████████████████████████████████████                 | 68.0/100 [00:46<00:21, 1.49B/s]"
     ]
    },
    {
     "name": "stdout",
     "output_type": "stream",
     "text": [
      "parcel (22261, 10)\n",
      "parcel (22221, 10)\n"
     ]
    },
    {
     "name": "stderr",
     "output_type": "stream",
     "text": [
      "running:  69%|████████████████████████████████████▌                | 69.0/100 [00:46<00:20, 1.49B/s]"
     ]
    },
    {
     "name": "stdout",
     "output_type": "stream",
     "text": [
      "parcel (22217, 10)\n",
      "parcel (22200, 10)\n"
     ]
    },
    {
     "name": "stderr",
     "output_type": "stream",
     "text": [
      "running:  70%|█████████████████████████████████████                | 70.0/100 [00:47<00:20, 1.49B/s]"
     ]
    },
    {
     "name": "stdout",
     "output_type": "stream",
     "text": [
      "parcel (22234, 10)\n",
      "parcel (22234, 10)\n"
     ]
    },
    {
     "name": "stderr",
     "output_type": "stream",
     "text": [
      "running:  71%|█████████████████████████████████████▋               | 71.0/100 [00:48<00:19, 1.49B/s]"
     ]
    },
    {
     "name": "stdout",
     "output_type": "stream",
     "text": [
      "parcel (22246, 10)\n",
      "parcel (22298, 10)\n"
     ]
    },
    {
     "name": "stderr",
     "output_type": "stream",
     "text": [
      "running:  72%|██████████████████████████████████████▏              | 72.0/100 [00:48<00:18, 1.49B/s]"
     ]
    },
    {
     "name": "stdout",
     "output_type": "stream",
     "text": [
      "parcel (22281, 10)\n",
      "parcel (22297, 10)\n"
     ]
    },
    {
     "name": "stderr",
     "output_type": "stream",
     "text": [
      "running:  73%|██████████████████████████████████████▋              | 73.0/100 [00:49<00:18, 1.49B/s]"
     ]
    },
    {
     "name": "stdout",
     "output_type": "stream",
     "text": [
      "parcel (22303, 10)\n",
      "parcel (22296, 10)\n"
     ]
    },
    {
     "name": "stderr",
     "output_type": "stream",
     "text": [
      "running:  74%|███████████████████████████████████████▏             | 74.0/100 [00:50<00:17, 1.48B/s]"
     ]
    },
    {
     "name": "stdout",
     "output_type": "stream",
     "text": [
      "parcel (22276, 10)\n",
      "parcel (22313, 10)\n"
     ]
    },
    {
     "name": "stderr",
     "output_type": "stream",
     "text": [
      "running:  75%|███████████████████████████████████████▊             | 75.0/100 [00:50<00:16, 1.48B/s]"
     ]
    },
    {
     "name": "stdout",
     "output_type": "stream",
     "text": [
      "parcel (22381, 10)\n",
      "parcel (22351, 10)\n"
     ]
    },
    {
     "name": "stderr",
     "output_type": "stream",
     "text": [
      "running:  76%|████████████████████████████████████████▎            | 76.0/100 [00:51<00:16, 1.48B/s]"
     ]
    },
    {
     "name": "stdout",
     "output_type": "stream",
     "text": [
      "parcel (22364, 10)\n",
      "parcel (22322, 10)\n"
     ]
    },
    {
     "name": "stderr",
     "output_type": "stream",
     "text": [
      "running:  77%|████████████████████████████████████████▊            | 77.0/100 [00:52<00:15, 1.48B/s]"
     ]
    },
    {
     "name": "stdout",
     "output_type": "stream",
     "text": [
      "parcel (22340, 10)\n",
      "parcel (22318, 10)\n"
     ]
    },
    {
     "name": "stderr",
     "output_type": "stream",
     "text": [
      "running:  78%|█████████████████████████████████████████▎           | 78.0/100 [00:52<00:14, 1.48B/s]"
     ]
    },
    {
     "name": "stdout",
     "output_type": "stream",
     "text": [
      "parcel (22321, 10)\n",
      "parcel (22345, 10)\n"
     ]
    },
    {
     "name": "stderr",
     "output_type": "stream",
     "text": [
      "running:  79%|█████████████████████████████████████████▊           | 79.0/100 [00:53<00:14, 1.47B/s]"
     ]
    },
    {
     "name": "stdout",
     "output_type": "stream",
     "text": [
      "parcel (22366, 10)\n",
      "parcel (22381, 10)\n"
     ]
    },
    {
     "name": "stderr",
     "output_type": "stream",
     "text": [
      "running:  80%|██████████████████████████████████████████▍          | 80.0/100 [00:54<00:13, 1.47B/s]"
     ]
    },
    {
     "name": "stdout",
     "output_type": "stream",
     "text": [
      "parcel (22377, 10)\n",
      "parcel (22411, 10)\n"
     ]
    },
    {
     "name": "stderr",
     "output_type": "stream",
     "text": [
      "running:  81%|██████████████████████████████████████████▉          | 81.0/100 [00:55<00:12, 1.47B/s]"
     ]
    },
    {
     "name": "stdout",
     "output_type": "stream",
     "text": [
      "parcel (22430, 10)\n",
      "parcel (22440, 10)\n"
     ]
    },
    {
     "name": "stderr",
     "output_type": "stream",
     "text": [
      "running:  82%|███████████████████████████████████████████▍         | 82.0/100 [00:55<00:12, 1.47B/s]"
     ]
    },
    {
     "name": "stdout",
     "output_type": "stream",
     "text": [
      "parcel (22439, 10)\n",
      "parcel (22428, 10)\n"
     ]
    },
    {
     "name": "stderr",
     "output_type": "stream",
     "text": [
      "running:  83%|███████████████████████████████████████████▉         | 83.0/100 [00:56<00:11, 1.47B/s]"
     ]
    },
    {
     "name": "stdout",
     "output_type": "stream",
     "text": [
      "parcel (22426, 10)\n",
      "parcel (22449, 10)\n"
     ]
    },
    {
     "name": "stderr",
     "output_type": "stream",
     "text": [
      "running:  84%|████████████████████████████████████████████▌        | 84.0/100 [00:57<00:10, 1.47B/s]"
     ]
    },
    {
     "name": "stdout",
     "output_type": "stream",
     "text": [
      "parcel (22504, 10)\n",
      "parcel (22486, 10)\n"
     ]
    },
    {
     "name": "stderr",
     "output_type": "stream",
     "text": [
      "running:  85%|█████████████████████████████████████████████        | 85.0/100 [00:57<00:10, 1.47B/s]"
     ]
    },
    {
     "name": "stdout",
     "output_type": "stream",
     "text": [
      "parcel (22510, 10)\n",
      "parcel (22483, 10)\n"
     ]
    },
    {
     "name": "stderr",
     "output_type": "stream",
     "text": [
      "running:  86%|█████████████████████████████████████████████▌       | 86.0/100 [00:58<00:09, 1.47B/s]"
     ]
    },
    {
     "name": "stdout",
     "output_type": "stream",
     "text": [
      "parcel (22507, 10)\n",
      "parcel (22496, 10)\n"
     ]
    },
    {
     "name": "stderr",
     "output_type": "stream",
     "text": [
      "running:  87%|██████████████████████████████████████████████       | 87.0/100 [00:59<00:08, 1.47B/s]"
     ]
    },
    {
     "name": "stdout",
     "output_type": "stream",
     "text": [
      "parcel (22491, 10)\n",
      "parcel (22505, 10)\n"
     ]
    },
    {
     "name": "stderr",
     "output_type": "stream",
     "text": [
      "running:  88%|██████████████████████████████████████████████▋      | 88.0/100 [00:59<00:08, 1.48B/s]"
     ]
    },
    {
     "name": "stdout",
     "output_type": "stream",
     "text": [
      "parcel (22498, 10)\n",
      "parcel (22517, 10)\n"
     ]
    },
    {
     "name": "stderr",
     "output_type": "stream",
     "text": [
      "running:  89%|███████████████████████████████████████████████▏     | 89.0/100 [01:00<00:07, 1.48B/s]"
     ]
    },
    {
     "name": "stdout",
     "output_type": "stream",
     "text": [
      "parcel (22526, 10)\n",
      "parcel (22531, 10)\n"
     ]
    },
    {
     "name": "stderr",
     "output_type": "stream",
     "text": [
      "running:  90%|███████████████████████████████████████████████▋     | 90.0/100 [01:01<00:06, 1.47B/s]"
     ]
    },
    {
     "name": "stdout",
     "output_type": "stream",
     "text": [
      "parcel (22506, 10)\n",
      "parcel (22497, 10)\n"
     ]
    },
    {
     "name": "stderr",
     "output_type": "stream",
     "text": [
      "running:  91%|████████████████████████████████████████████████▏    | 91.0/100 [01:01<00:06, 1.47B/s]"
     ]
    },
    {
     "name": "stdout",
     "output_type": "stream",
     "text": [
      "parcel (22536, 10)\n",
      "parcel (22544, 10)\n"
     ]
    },
    {
     "name": "stderr",
     "output_type": "stream",
     "text": [
      "running:  92%|████████████████████████████████████████████████▊    | 92.0/100 [01:02<00:05, 1.47B/s]"
     ]
    },
    {
     "name": "stdout",
     "output_type": "stream",
     "text": [
      "parcel (22586, 10)\n",
      "parcel (22646, 10)\n"
     ]
    },
    {
     "name": "stderr",
     "output_type": "stream",
     "text": [
      "running:  93%|█████████████████████████████████████████████████▎   | 93.0/100 [01:03<00:04, 1.47B/s]"
     ]
    },
    {
     "name": "stdout",
     "output_type": "stream",
     "text": [
      "parcel (22663, 10)\n",
      "parcel (22676, 10)\n"
     ]
    },
    {
     "name": "stderr",
     "output_type": "stream",
     "text": [
      "running:  94%|█████████████████████████████████████████████████▊   | 94.0/100 [01:03<00:04, 1.47B/s]"
     ]
    },
    {
     "name": "stdout",
     "output_type": "stream",
     "text": [
      "parcel (22672, 10)\n",
      "parcel (22639, 10)\n"
     ]
    },
    {
     "name": "stderr",
     "output_type": "stream",
     "text": [
      "running:  95%|██████████████████████████████████████████████████▎  | 95.0/100 [01:04<00:03, 1.47B/s]"
     ]
    },
    {
     "name": "stdout",
     "output_type": "stream",
     "text": [
      "parcel (22598, 10)\n",
      "parcel (22601, 10)\n"
     ]
    },
    {
     "name": "stderr",
     "output_type": "stream",
     "text": [
      "running:  96%|██████████████████████████████████████████████████▉  | 96.0/100 [01:05<00:02, 1.47B/s]"
     ]
    },
    {
     "name": "stdout",
     "output_type": "stream",
     "text": [
      "parcel (22621, 10)\n",
      "parcel (22642, 10)\n"
     ]
    },
    {
     "name": "stderr",
     "output_type": "stream",
     "text": [
      "running:  97%|███████████████████████████████████████████████████▍ | 97.0/100 [01:05<00:02, 1.47B/s]"
     ]
    },
    {
     "name": "stdout",
     "output_type": "stream",
     "text": [
      "parcel (22634, 10)\n",
      "parcel (22617, 10)\n"
     ]
    },
    {
     "name": "stderr",
     "output_type": "stream",
     "text": [
      "running:  98%|███████████████████████████████████████████████████▉ | 98.0/100 [01:06<00:01, 1.48B/s]"
     ]
    },
    {
     "name": "stdout",
     "output_type": "stream",
     "text": [
      "parcel (22608, 10)\n",
      "parcel (22601, 10)\n"
     ]
    },
    {
     "name": "stderr",
     "output_type": "stream",
     "text": [
      "running:  99%|████████████████████████████████████████████████████▍| 99.0/100 [01:07<00:00, 1.47B/s]"
     ]
    },
    {
     "name": "stdout",
     "output_type": "stream",
     "text": [
      "parcel (22616, 10)\n",
      "parcel (22631, 10)\n"
     ]
    },
    {
     "name": "stderr",
     "output_type": "stream",
     "text": [
      "running: 100%|██████████████████████████████████████████████████████| 100/100 [01:08<00:00, 1.47B/s]"
     ]
    },
    {
     "name": "stdout",
     "output_type": "stream",
     "text": [
      "parcel (22674, 10)\n"
     ]
    },
    {
     "name": "stderr",
     "output_type": "stream",
     "text": [
      "\n"
     ]
    }
   ],
   "source": [
    "etching = testEtch.depo_position_increase_cosVel_normal(125, N, 2e-3, 10)"
   ]
  },
  {
   "cell_type": "code",
   "execution_count": 17,
   "metadata": {},
   "outputs": [
    {
     "name": "stdout",
     "output_type": "stream",
     "text": [
      "parcel (500, 10)\n"
     ]
    },
    {
     "name": "stderr",
     "output_type": "stream",
     "text": [
      "running:   1%|▌                                                    | 1.00/100 [00:00<00:17, 5.52B/s]"
     ]
    },
    {
     "name": "stdout",
     "output_type": "stream",
     "text": [
      "parcel (500, 10)\n",
      "parcel (1000, 10)\n"
     ]
    },
    {
     "name": "stderr",
     "output_type": "stream",
     "text": [
      "running:   2%|█                                                    | 2.00/100 [00:00<00:25, 3.90B/s]"
     ]
    },
    {
     "name": "stdout",
     "output_type": "stream",
     "text": [
      "parcel (1500, 10)\n",
      "parcel (2000, 10)\n"
     ]
    },
    {
     "name": "stderr",
     "output_type": "stream",
     "text": [
      "running:   3%|█▌                                                   | 3.00/100 [00:00<00:27, 3.57B/s]"
     ]
    },
    {
     "name": "stdout",
     "output_type": "stream",
     "text": [
      "parcel (2500, 10)\n",
      "parcel (3000, 10)\n"
     ]
    },
    {
     "name": "stderr",
     "output_type": "stream",
     "text": [
      "running:   4%|██                                                   | 4.00/100 [00:01<00:28, 3.41B/s]"
     ]
    },
    {
     "name": "stdout",
     "output_type": "stream",
     "text": [
      "parcel (3500, 10)\n",
      "parcel (4000, 10)\n"
     ]
    },
    {
     "name": "stderr",
     "output_type": "stream",
     "text": [
      "running:   5%|██▋                                                  | 5.00/100 [00:01<00:28, 3.33B/s]"
     ]
    },
    {
     "name": "stdout",
     "output_type": "stream",
     "text": [
      "parcel (4500, 10)\n",
      "parcel (5000, 10)\n",
      "parcel (5500, 10)\n"
     ]
    },
    {
     "name": "stderr",
     "output_type": "stream",
     "text": [
      "running:   6%|███▏                                                 | 6.00/100 [00:05<02:19, 1.49s/B]"
     ]
    },
    {
     "name": "stdout",
     "output_type": "stream",
     "text": [
      "parcel (5648, 10)\n",
      "parcel (5741, 10)\n"
     ]
    },
    {
     "name": "stderr",
     "output_type": "stream",
     "text": [
      "running:   7%|███▋                                                 | 7.00/100 [00:05<01:53, 1.23s/B]"
     ]
    },
    {
     "name": "stdout",
     "output_type": "stream",
     "text": [
      "parcel (5788, 10)\n",
      "parcel (5788, 10)\n"
     ]
    },
    {
     "name": "stderr",
     "output_type": "stream",
     "text": [
      "running:   8%|████▏                                                | 8.00/100 [00:06<01:36, 1.05s/B]"
     ]
    },
    {
     "name": "stdout",
     "output_type": "stream",
     "text": [
      "parcel (5823, 10)\n",
      "parcel (5842, 10)\n"
     ]
    },
    {
     "name": "stderr",
     "output_type": "stream",
     "text": [
      "running:   9%|████▊                                                | 9.00/100 [00:07<01:24, 1.07B/s]"
     ]
    },
    {
     "name": "stdout",
     "output_type": "stream",
     "text": [
      "parcel (5845, 10)\n",
      "parcel (5857, 10)\n"
     ]
    },
    {
     "name": "stderr",
     "output_type": "stream",
     "text": [
      "running:  10%|█████▎                                               | 10.0/100 [00:07<01:16, 1.18B/s]"
     ]
    },
    {
     "name": "stdout",
     "output_type": "stream",
     "text": [
      "parcel (5863, 10)\n",
      "parcel (5855, 10)\n"
     ]
    },
    {
     "name": "stderr",
     "output_type": "stream",
     "text": [
      "running:  11%|█████▊                                               | 11.0/100 [00:08<01:10, 1.26B/s]"
     ]
    },
    {
     "name": "stdout",
     "output_type": "stream",
     "text": [
      "parcel (5862, 10)\n",
      "parcel (5526, 10)\n"
     ]
    },
    {
     "name": "stderr",
     "output_type": "stream",
     "text": [
      "running:  12%|██████▎                                              | 12.0/100 [00:09<01:06, 1.32B/s]"
     ]
    },
    {
     "name": "stdout",
     "output_type": "stream",
     "text": [
      "parcel (5433, 10)\n",
      "parcel (5414, 10)\n"
     ]
    },
    {
     "name": "stderr",
     "output_type": "stream",
     "text": [
      "running:  13%|██████▉                                              | 13.0/100 [00:09<01:03, 1.36B/s]"
     ]
    },
    {
     "name": "stdout",
     "output_type": "stream",
     "text": [
      "parcel (5413, 10)\n",
      "parcel (5415, 10)\n"
     ]
    },
    {
     "name": "stderr",
     "output_type": "stream",
     "text": [
      "running:  14%|███████▍                                             | 14.0/100 [00:10<01:01, 1.40B/s]"
     ]
    },
    {
     "name": "stdout",
     "output_type": "stream",
     "text": [
      "parcel (5408, 10)\n",
      "parcel (5428, 10)\n"
     ]
    },
    {
     "name": "stderr",
     "output_type": "stream",
     "text": [
      "running:  15%|███████▉                                             | 15.0/100 [00:11<00:59, 1.43B/s]"
     ]
    },
    {
     "name": "stdout",
     "output_type": "stream",
     "text": [
      "parcel (5423, 10)\n",
      "parcel (5430, 10)\n"
     ]
    },
    {
     "name": "stderr",
     "output_type": "stream",
     "text": [
      "running:  16%|████████▍                                            | 16.0/100 [00:11<00:58, 1.44B/s]"
     ]
    },
    {
     "name": "stdout",
     "output_type": "stream",
     "text": [
      "parcel (5429, 10)\n",
      "parcel (5432, 10)\n"
     ]
    },
    {
     "name": "stderr",
     "output_type": "stream",
     "text": [
      "running:  17%|█████████                                            | 17.0/100 [00:12<00:57, 1.46B/s]"
     ]
    },
    {
     "name": "stdout",
     "output_type": "stream",
     "text": [
      "parcel (5423, 10)\n",
      "parcel (5421, 10)\n"
     ]
    },
    {
     "name": "stderr",
     "output_type": "stream",
     "text": [
      "running:  18%|█████████▌                                           | 18.0/100 [00:13<00:56, 1.46B/s]"
     ]
    },
    {
     "name": "stdout",
     "output_type": "stream",
     "text": [
      "parcel (5410, 10)\n",
      "parcel (5072, 10)\n"
     ]
    },
    {
     "name": "stderr",
     "output_type": "stream",
     "text": [
      "running:  19%|██████████                                           | 19.0/100 [00:13<00:55, 1.47B/s]"
     ]
    },
    {
     "name": "stdout",
     "output_type": "stream",
     "text": [
      "parcel (4964, 10)\n",
      "parcel (4917, 10)\n"
     ]
    },
    {
     "name": "stderr",
     "output_type": "stream",
     "text": [
      "running:  20%|██████████▌                                          | 20.0/100 [00:14<00:54, 1.47B/s]"
     ]
    },
    {
     "name": "stdout",
     "output_type": "stream",
     "text": [
      "parcel (4916, 10)\n",
      "parcel (4903, 10)\n"
     ]
    },
    {
     "name": "stderr",
     "output_type": "stream",
     "text": [
      "running:  21%|███████████▏                                         | 21.0/100 [00:15<00:53, 1.48B/s]"
     ]
    },
    {
     "name": "stdout",
     "output_type": "stream",
     "text": [
      "parcel (4910, 10)\n",
      "parcel (4908, 10)\n"
     ]
    },
    {
     "name": "stderr",
     "output_type": "stream",
     "text": [
      "running:  22%|███████████▋                                         | 22.0/100 [00:15<00:52, 1.48B/s]"
     ]
    },
    {
     "name": "stdout",
     "output_type": "stream",
     "text": [
      "parcel (4908, 10)\n",
      "parcel (4907, 10)\n"
     ]
    },
    {
     "name": "stderr",
     "output_type": "stream",
     "text": [
      "running:  23%|████████████▏                                        | 23.0/100 [00:16<00:51, 1.48B/s]"
     ]
    },
    {
     "name": "stdout",
     "output_type": "stream",
     "text": [
      "parcel (4913, 10)\n",
      "parcel (4917, 10)\n"
     ]
    },
    {
     "name": "stderr",
     "output_type": "stream",
     "text": [
      "running:  24%|████████████▋                                        | 24.0/100 [00:17<00:51, 1.48B/s]"
     ]
    },
    {
     "name": "stdout",
     "output_type": "stream",
     "text": [
      "parcel (4920, 10)\n",
      "parcel (4909, 10)\n"
     ]
    },
    {
     "name": "stderr",
     "output_type": "stream",
     "text": [
      "running:  25%|█████████████▎                                       | 25.0/100 [00:18<00:50, 1.48B/s]"
     ]
    },
    {
     "name": "stdout",
     "output_type": "stream",
     "text": [
      "parcel (4922, 10)\n",
      "parcel (4903, 10)\n"
     ]
    },
    {
     "name": "stderr",
     "output_type": "stream",
     "text": [
      "running:  26%|█████████████▊                                       | 26.0/100 [00:18<00:50, 1.47B/s]"
     ]
    },
    {
     "name": "stdout",
     "output_type": "stream",
     "text": [
      "parcel (4916, 10)\n",
      "parcel (4913, 10)\n"
     ]
    },
    {
     "name": "stderr",
     "output_type": "stream",
     "text": [
      "running:  27%|██████████████▎                                      | 27.0/100 [00:19<00:49, 1.48B/s]"
     ]
    },
    {
     "name": "stdout",
     "output_type": "stream",
     "text": [
      "parcel (4912, 10)\n",
      "parcel (4914, 10)\n"
     ]
    },
    {
     "name": "stderr",
     "output_type": "stream",
     "text": [
      "running:  28%|██████████████▊                                      | 28.0/100 [00:20<00:48, 1.48B/s]"
     ]
    },
    {
     "name": "stdout",
     "output_type": "stream",
     "text": [
      "parcel (4555, 10)\n",
      "parcel (4448, 10)\n"
     ]
    },
    {
     "name": "stderr",
     "output_type": "stream",
     "text": [
      "running:  29%|███████████████▎                                     | 29.0/100 [00:20<00:48, 1.45B/s]"
     ]
    },
    {
     "name": "stdout",
     "output_type": "stream",
     "text": [
      "parcel (4438, 10)\n",
      "parcel (4416, 10)\n"
     ]
    },
    {
     "name": "stderr",
     "output_type": "stream",
     "text": [
      "running:  30%|███████████████▉                                     | 30.0/100 [00:21<00:47, 1.46B/s]"
     ]
    },
    {
     "name": "stdout",
     "output_type": "stream",
     "text": [
      "parcel (4432, 10)\n",
      "parcel (4420, 10)\n"
     ]
    },
    {
     "name": "stderr",
     "output_type": "stream",
     "text": [
      "running:  31%|████████████████▍                                    | 31.0/100 [00:22<00:46, 1.47B/s]"
     ]
    },
    {
     "name": "stdout",
     "output_type": "stream",
     "text": [
      "parcel (4423, 10)\n",
      "parcel (4435, 10)\n"
     ]
    },
    {
     "name": "stderr",
     "output_type": "stream",
     "text": [
      "running:  32%|████████████████▉                                    | 32.0/100 [00:22<00:46, 1.47B/s]"
     ]
    },
    {
     "name": "stdout",
     "output_type": "stream",
     "text": [
      "parcel (4439, 10)\n",
      "parcel (4419, 10)\n"
     ]
    },
    {
     "name": "stderr",
     "output_type": "stream",
     "text": [
      "running:  33%|█████████████████▍                                   | 33.0/100 [00:23<00:45, 1.48B/s]"
     ]
    },
    {
     "name": "stdout",
     "output_type": "stream",
     "text": [
      "parcel (4413, 10)\n",
      "parcel (4405, 10)\n"
     ]
    },
    {
     "name": "stderr",
     "output_type": "stream",
     "text": [
      "running:  34%|██████████████████                                   | 34.0/100 [00:24<00:44, 1.48B/s]"
     ]
    },
    {
     "name": "stdout",
     "output_type": "stream",
     "text": [
      "parcel (4406, 10)\n",
      "parcel (4408, 10)\n"
     ]
    },
    {
     "name": "stderr",
     "output_type": "stream",
     "text": [
      "running:  35%|██████████████████▌                                  | 35.0/100 [00:24<00:43, 1.48B/s]"
     ]
    },
    {
     "name": "stdout",
     "output_type": "stream",
     "text": [
      "parcel (4396, 10)\n",
      "parcel (4398, 10)\n"
     ]
    },
    {
     "name": "stderr",
     "output_type": "stream",
     "text": [
      "running:  36%|███████████████████                                  | 36.0/100 [00:25<00:43, 1.48B/s]"
     ]
    },
    {
     "name": "stdout",
     "output_type": "stream",
     "text": [
      "parcel (4397, 10)\n",
      "parcel (4055, 10)\n"
     ]
    },
    {
     "name": "stderr",
     "output_type": "stream",
     "text": [
      "running:  37%|███████████████████▌                                 | 37.0/100 [00:26<00:42, 1.48B/s]"
     ]
    },
    {
     "name": "stdout",
     "output_type": "stream",
     "text": [
      "parcel (3940, 10)\n",
      "parcel (3924, 10)\n"
     ]
    },
    {
     "name": "stderr",
     "output_type": "stream",
     "text": [
      "running:  38%|████████████████████▏                                | 38.0/100 [00:26<00:41, 1.48B/s]"
     ]
    },
    {
     "name": "stdout",
     "output_type": "stream",
     "text": [
      "parcel (3902, 10)\n",
      "parcel (3909, 10)\n"
     ]
    },
    {
     "name": "stderr",
     "output_type": "stream",
     "text": [
      "running:  39%|████████████████████▋                                | 39.0/100 [00:27<00:41, 1.49B/s]"
     ]
    },
    {
     "name": "stdout",
     "output_type": "stream",
     "text": [
      "parcel (3916, 10)\n",
      "parcel (3914, 10)\n"
     ]
    },
    {
     "name": "stderr",
     "output_type": "stream",
     "text": [
      "running:  40%|█████████████████████▏                               | 40.0/100 [00:28<00:40, 1.49B/s]"
     ]
    },
    {
     "name": "stdout",
     "output_type": "stream",
     "text": [
      "parcel (3918, 10)\n",
      "parcel (3927, 10)\n"
     ]
    },
    {
     "name": "stderr",
     "output_type": "stream",
     "text": [
      "running:  41%|█████████████████████▋                               | 41.0/100 [00:28<00:39, 1.49B/s]"
     ]
    },
    {
     "name": "stdout",
     "output_type": "stream",
     "text": [
      "parcel (3921, 10)\n",
      "parcel (3919, 10)\n"
     ]
    },
    {
     "name": "stderr",
     "output_type": "stream",
     "text": [
      "running:  42%|██████████████████████▎                              | 42.0/100 [00:29<00:39, 1.49B/s]"
     ]
    },
    {
     "name": "stdout",
     "output_type": "stream",
     "text": [
      "parcel (3921, 10)\n",
      "parcel (3918, 10)\n"
     ]
    },
    {
     "name": "stderr",
     "output_type": "stream",
     "text": [
      "running:  43%|██████████████████████▊                              | 43.0/100 [00:30<00:38, 1.48B/s]"
     ]
    },
    {
     "name": "stdout",
     "output_type": "stream",
     "text": [
      "parcel (3927, 10)\n",
      "parcel (3917, 10)\n"
     ]
    },
    {
     "name": "stderr",
     "output_type": "stream",
     "text": [
      "running:  44%|███████████████████████▎                             | 44.0/100 [00:30<00:37, 1.49B/s]"
     ]
    },
    {
     "name": "stdout",
     "output_type": "stream",
     "text": [
      "parcel (3916, 10)\n",
      "parcel (3915, 10)\n"
     ]
    },
    {
     "name": "stderr",
     "output_type": "stream",
     "text": [
      "running:  45%|███████████████████████▊                             | 45.0/100 [00:31<00:37, 1.49B/s]"
     ]
    },
    {
     "name": "stdout",
     "output_type": "stream",
     "text": [
      "parcel (3916, 10)\n",
      "parcel (3918, 10)\n"
     ]
    },
    {
     "name": "stderr",
     "output_type": "stream",
     "text": [
      "running:  46%|████████████████████████▍                            | 46.0/100 [00:32<00:36, 1.49B/s]"
     ]
    },
    {
     "name": "stdout",
     "output_type": "stream",
     "text": [
      "parcel (3915, 10)\n",
      "parcel (3534, 10)\n"
     ]
    },
    {
     "name": "stderr",
     "output_type": "stream",
     "text": [
      "running:  47%|████████████████████████▉                            | 47.0/100 [00:32<00:35, 1.49B/s]"
     ]
    },
    {
     "name": "stdout",
     "output_type": "stream",
     "text": [
      "parcel (3450, 10)\n",
      "parcel (3424, 10)\n"
     ]
    },
    {
     "name": "stderr",
     "output_type": "stream",
     "text": [
      "running:  48%|█████████████████████████▍                           | 48.0/100 [00:33<00:34, 1.49B/s]"
     ]
    },
    {
     "name": "stdout",
     "output_type": "stream",
     "text": [
      "parcel (3417, 10)\n",
      "parcel (3416, 10)\n"
     ]
    },
    {
     "name": "stderr",
     "output_type": "stream",
     "text": [
      "running:  49%|█████████████████████████▉                           | 49.0/100 [00:34<00:34, 1.49B/s]"
     ]
    },
    {
     "name": "stdout",
     "output_type": "stream",
     "text": [
      "parcel (3409, 10)\n",
      "parcel (3418, 10)\n"
     ]
    },
    {
     "name": "stderr",
     "output_type": "stream",
     "text": [
      "running:  50%|██████████████████████████▌                          | 50.0/100 [00:34<00:33, 1.48B/s]"
     ]
    },
    {
     "name": "stdout",
     "output_type": "stream",
     "text": [
      "parcel (3421, 10)\n",
      "parcel (3414, 10)\n"
     ]
    },
    {
     "name": "stderr",
     "output_type": "stream",
     "text": [
      "running:  51%|███████████████████████████                          | 51.0/100 [00:35<00:33, 1.47B/s]"
     ]
    },
    {
     "name": "stdout",
     "output_type": "stream",
     "text": [
      "parcel (3420, 10)\n",
      "parcel (3416, 10)\n"
     ]
    },
    {
     "name": "stderr",
     "output_type": "stream",
     "text": [
      "running:  52%|███████████████████████████▌                         | 52.0/100 [00:36<00:32, 1.48B/s]"
     ]
    },
    {
     "name": "stdout",
     "output_type": "stream",
     "text": [
      "parcel (3433, 10)\n",
      "parcel (3418, 10)\n"
     ]
    },
    {
     "name": "stderr",
     "output_type": "stream",
     "text": [
      "running:  53%|████████████████████████████                         | 53.0/100 [00:36<00:31, 1.47B/s]"
     ]
    },
    {
     "name": "stdout",
     "output_type": "stream",
     "text": [
      "parcel (3432, 10)\n",
      "parcel (3435, 10)\n"
     ]
    },
    {
     "name": "stderr",
     "output_type": "stream",
     "text": [
      "running:  54%|████████████████████████████▌                        | 54.0/100 [00:37<00:31, 1.48B/s]"
     ]
    },
    {
     "name": "stdout",
     "output_type": "stream",
     "text": [
      "parcel (3421, 10)\n",
      "parcel (3426, 10)\n"
     ]
    },
    {
     "name": "stderr",
     "output_type": "stream",
     "text": [
      "running:  55%|█████████████████████████████▏                       | 55.0/100 [00:38<00:30, 1.48B/s]"
     ]
    },
    {
     "name": "stdout",
     "output_type": "stream",
     "text": [
      "parcel (3426, 10)\n",
      "parcel (3414, 10)\n"
     ]
    },
    {
     "name": "stderr",
     "output_type": "stream",
     "text": [
      "running:  56%|█████████████████████████████▋                       | 56.0/100 [00:38<00:29, 1.47B/s]"
     ]
    },
    {
     "name": "stdout",
     "output_type": "stream",
     "text": [
      "parcel (3418, 10)\n",
      "parcel (3419, 10)\n"
     ]
    },
    {
     "name": "stderr",
     "output_type": "stream",
     "text": [
      "running:  57%|██████████████████████████████▏                      | 57.0/100 [00:39<00:29, 1.47B/s]"
     ]
    },
    {
     "name": "stdout",
     "output_type": "stream",
     "text": [
      "parcel (3417, 10)\n",
      "parcel (3409, 10)\n"
     ]
    },
    {
     "name": "stderr",
     "output_type": "stream",
     "text": [
      "running:  58%|██████████████████████████████▋                      | 58.0/100 [00:40<00:28, 1.46B/s]"
     ]
    },
    {
     "name": "stdout",
     "output_type": "stream",
     "text": [
      "parcel (3416, 10)\n",
      "parcel (3395, 10)\n"
     ]
    },
    {
     "name": "stderr",
     "output_type": "stream",
     "text": [
      "running:  59%|███████████████████████████████▎                     | 59.0/100 [00:41<00:28, 1.45B/s]"
     ]
    },
    {
     "name": "stdout",
     "output_type": "stream",
     "text": [
      "parcel (3397, 10)\n",
      "parcel (3027, 10)\n"
     ]
    },
    {
     "name": "stderr",
     "output_type": "stream",
     "text": [
      "running:  60%|███████████████████████████████▊                     | 60.0/100 [00:41<00:27, 1.46B/s]"
     ]
    },
    {
     "name": "stdout",
     "output_type": "stream",
     "text": [
      "parcel (2925, 10)\n",
      "parcel (2904, 10)\n"
     ]
    },
    {
     "name": "stderr",
     "output_type": "stream",
     "text": [
      "running:  61%|████████████████████████████████▎                    | 61.0/100 [00:42<00:26, 1.47B/s]"
     ]
    },
    {
     "name": "stdout",
     "output_type": "stream",
     "text": [
      "parcel (2905, 10)\n",
      "parcel (2895, 10)\n"
     ]
    },
    {
     "name": "stderr",
     "output_type": "stream",
     "text": [
      "running:  62%|████████████████████████████████▊                    | 62.0/100 [00:43<00:25, 1.47B/s]"
     ]
    },
    {
     "name": "stdout",
     "output_type": "stream",
     "text": [
      "parcel (2903, 10)\n",
      "parcel (2892, 10)\n"
     ]
    },
    {
     "name": "stderr",
     "output_type": "stream",
     "text": [
      "running:  63%|█████████████████████████████████▍                   | 63.0/100 [00:43<00:25, 1.47B/s]"
     ]
    },
    {
     "name": "stdout",
     "output_type": "stream",
     "text": [
      "parcel (2895, 10)\n",
      "parcel (2894, 10)\n"
     ]
    },
    {
     "name": "stderr",
     "output_type": "stream",
     "text": [
      "running:  64%|█████████████████████████████████▉                   | 64.0/100 [00:44<00:24, 1.48B/s]"
     ]
    },
    {
     "name": "stdout",
     "output_type": "stream",
     "text": [
      "parcel (2893, 10)\n",
      "parcel (2899, 10)\n"
     ]
    },
    {
     "name": "stderr",
     "output_type": "stream",
     "text": [
      "running:  65%|██████████████████████████████████▍                  | 65.0/100 [00:45<00:23, 1.47B/s]"
     ]
    },
    {
     "name": "stdout",
     "output_type": "stream",
     "text": [
      "parcel (2900, 10)\n",
      "parcel (2917, 10)\n"
     ]
    },
    {
     "name": "stderr",
     "output_type": "stream",
     "text": [
      "running:  66%|██████████████████████████████████▉                  | 66.0/100 [00:45<00:23, 1.47B/s]"
     ]
    },
    {
     "name": "stdout",
     "output_type": "stream",
     "text": [
      "parcel (2912, 10)\n",
      "parcel (2903, 10)\n"
     ]
    },
    {
     "name": "stderr",
     "output_type": "stream",
     "text": [
      "running:  67%|███████████████████████████████████▌                 | 67.0/100 [00:46<00:22, 1.47B/s]"
     ]
    },
    {
     "name": "stdout",
     "output_type": "stream",
     "text": [
      "parcel (2902, 10)\n",
      "parcel (2910, 10)\n"
     ]
    },
    {
     "name": "stderr",
     "output_type": "stream",
     "text": [
      "running:  68%|████████████████████████████████████                 | 68.0/100 [00:47<00:21, 1.47B/s]"
     ]
    },
    {
     "name": "stdout",
     "output_type": "stream",
     "text": [
      "parcel (2908, 10)\n",
      "parcel (2902, 10)\n"
     ]
    },
    {
     "name": "stderr",
     "output_type": "stream",
     "text": [
      "running:  69%|████████████████████████████████████▌                | 69.0/100 [00:47<00:21, 1.47B/s]"
     ]
    },
    {
     "name": "stdout",
     "output_type": "stream",
     "text": [
      "parcel (2894, 10)\n",
      "parcel (2894, 10)\n"
     ]
    },
    {
     "name": "stderr",
     "output_type": "stream",
     "text": [
      "running:  70%|█████████████████████████████████████                | 70.0/100 [00:48<00:20, 1.47B/s]"
     ]
    },
    {
     "name": "stdout",
     "output_type": "stream",
     "text": [
      "parcel (2890, 10)\n",
      "parcel (2537, 10)\n"
     ]
    },
    {
     "name": "stderr",
     "output_type": "stream",
     "text": [
      "running:  71%|█████████████████████████████████████▋               | 71.0/100 [00:49<00:19, 1.46B/s]"
     ]
    },
    {
     "name": "stdout",
     "output_type": "stream",
     "text": [
      "parcel (2433, 10)\n",
      "parcel (2415, 10)\n"
     ]
    },
    {
     "name": "stderr",
     "output_type": "stream",
     "text": [
      "running:  72%|██████████████████████████████████████▏              | 72.0/100 [00:49<00:19, 1.46B/s]"
     ]
    },
    {
     "name": "stdout",
     "output_type": "stream",
     "text": [
      "parcel (2403, 10)\n",
      "parcel (2411, 10)\n"
     ]
    },
    {
     "name": "stderr",
     "output_type": "stream",
     "text": [
      "running:  73%|██████████████████████████████████████▋              | 73.0/100 [00:50<00:18, 1.46B/s]"
     ]
    },
    {
     "name": "stdout",
     "output_type": "stream",
     "text": [
      "parcel (2417, 10)\n",
      "parcel (2427, 10)\n"
     ]
    },
    {
     "name": "stderr",
     "output_type": "stream",
     "text": [
      "running:  74%|███████████████████████████████████████▏             | 74.0/100 [00:51<00:18, 1.43B/s]"
     ]
    },
    {
     "name": "stdout",
     "output_type": "stream",
     "text": [
      "parcel (2418, 10)\n",
      "parcel (2425, 10)\n"
     ]
    },
    {
     "name": "stderr",
     "output_type": "stream",
     "text": [
      "running:  75%|███████████████████████████████████████▊             | 75.0/100 [00:52<00:17, 1.42B/s]"
     ]
    },
    {
     "name": "stdout",
     "output_type": "stream",
     "text": [
      "parcel (2422, 10)\n",
      "parcel (2426, 10)\n"
     ]
    },
    {
     "name": "stderr",
     "output_type": "stream",
     "text": [
      "running:  76%|████████████████████████████████████████▎            | 76.0/100 [00:52<00:16, 1.42B/s]"
     ]
    },
    {
     "name": "stdout",
     "output_type": "stream",
     "text": [
      "parcel (2428, 10)\n",
      "parcel (2424, 10)\n"
     ]
    },
    {
     "name": "stderr",
     "output_type": "stream",
     "text": [
      "running:  77%|████████████████████████████████████████▊            | 77.0/100 [00:53<00:16, 1.43B/s]"
     ]
    },
    {
     "name": "stdout",
     "output_type": "stream",
     "text": [
      "parcel (2430, 10)\n",
      "parcel (2416, 10)\n"
     ]
    },
    {
     "name": "stderr",
     "output_type": "stream",
     "text": [
      "running:  78%|█████████████████████████████████████████▎           | 78.0/100 [00:54<00:15, 1.44B/s]"
     ]
    },
    {
     "name": "stdout",
     "output_type": "stream",
     "text": [
      "parcel (2415, 10)\n",
      "parcel (2410, 10)\n"
     ]
    },
    {
     "name": "stderr",
     "output_type": "stream",
     "text": [
      "running:  79%|█████████████████████████████████████████▊           | 79.0/100 [00:54<00:14, 1.45B/s]"
     ]
    },
    {
     "name": "stdout",
     "output_type": "stream",
     "text": [
      "parcel (2411, 10)\n",
      "parcel (2417, 10)\n"
     ]
    },
    {
     "name": "stderr",
     "output_type": "stream",
     "text": [
      "running:  80%|██████████████████████████████████████████▍          | 80.0/100 [00:55<00:13, 1.45B/s]"
     ]
    },
    {
     "name": "stdout",
     "output_type": "stream",
     "text": [
      "parcel (2403, 10)\n",
      "parcel (2401, 10)\n"
     ]
    },
    {
     "name": "stderr",
     "output_type": "stream",
     "text": [
      "running:  81%|██████████████████████████████████████████▉          | 81.0/100 [00:56<00:13, 1.46B/s]"
     ]
    },
    {
     "name": "stdout",
     "output_type": "stream",
     "text": [
      "parcel (2403, 10)\n",
      "parcel (2056, 10)\n"
     ]
    },
    {
     "name": "stderr",
     "output_type": "stream",
     "text": [
      "running:  82%|███████████████████████████████████████████▍         | 82.0/100 [00:56<00:12, 1.46B/s]"
     ]
    },
    {
     "name": "stdout",
     "output_type": "stream",
     "text": [
      "parcel (1957, 10)\n",
      "parcel (1924, 10)\n"
     ]
    },
    {
     "name": "stderr",
     "output_type": "stream",
     "text": [
      "running:  83%|███████████████████████████████████████████▉         | 83.0/100 [00:57<00:11, 1.46B/s]"
     ]
    },
    {
     "name": "stdout",
     "output_type": "stream",
     "text": [
      "parcel (1916, 10)\n",
      "parcel (1911, 10)\n"
     ]
    },
    {
     "name": "stderr",
     "output_type": "stream",
     "text": [
      "running:  84%|████████████████████████████████████████████▌        | 84.0/100 [00:58<00:10, 1.46B/s]"
     ]
    },
    {
     "name": "stdout",
     "output_type": "stream",
     "text": [
      "parcel (1906, 10)\n",
      "parcel (1904, 10)\n"
     ]
    },
    {
     "name": "stderr",
     "output_type": "stream",
     "text": [
      "running:  85%|█████████████████████████████████████████████        | 85.0/100 [00:58<00:10, 1.46B/s]"
     ]
    },
    {
     "name": "stdout",
     "output_type": "stream",
     "text": [
      "parcel (1909, 10)\n",
      "parcel (1911, 10)\n"
     ]
    },
    {
     "name": "stderr",
     "output_type": "stream",
     "text": [
      "running:  86%|█████████████████████████████████████████████▌       | 86.0/100 [00:59<00:09, 1.46B/s]"
     ]
    },
    {
     "name": "stdout",
     "output_type": "stream",
     "text": [
      "parcel (1913, 10)\n",
      "parcel (1913, 10)\n"
     ]
    },
    {
     "name": "stderr",
     "output_type": "stream",
     "text": [
      "running:  87%|██████████████████████████████████████████████       | 87.0/100 [01:00<00:08, 1.46B/s]"
     ]
    },
    {
     "name": "stdout",
     "output_type": "stream",
     "text": [
      "parcel (1910, 10)\n",
      "parcel (1914, 10)\n"
     ]
    },
    {
     "name": "stderr",
     "output_type": "stream",
     "text": [
      "running:  88%|██████████████████████████████████████████████▋      | 88.0/100 [01:00<00:08, 1.46B/s]"
     ]
    },
    {
     "name": "stdout",
     "output_type": "stream",
     "text": [
      "parcel (1916, 10)\n",
      "parcel (1920, 10)\n"
     ]
    },
    {
     "name": "stderr",
     "output_type": "stream",
     "text": [
      "running:  89%|███████████████████████████████████████████████▏     | 89.0/100 [01:01<00:07, 1.46B/s]"
     ]
    },
    {
     "name": "stdout",
     "output_type": "stream",
     "text": [
      "parcel (1916, 10)\n",
      "parcel (1904, 10)\n"
     ]
    },
    {
     "name": "stderr",
     "output_type": "stream",
     "text": [
      "running:  90%|███████████████████████████████████████████████▋     | 90.0/100 [01:02<00:06, 1.46B/s]"
     ]
    },
    {
     "name": "stdout",
     "output_type": "stream",
     "text": [
      "parcel (1904, 10)\n",
      "parcel (1895, 10)\n"
     ]
    },
    {
     "name": "stderr",
     "output_type": "stream",
     "text": [
      "running:  91%|████████████████████████████████████████████████▏    | 91.0/100 [01:02<00:06, 1.46B/s]"
     ]
    },
    {
     "name": "stdout",
     "output_type": "stream",
     "text": [
      "parcel (1893, 10)\n",
      "parcel (1892, 10)\n"
     ]
    },
    {
     "name": "stderr",
     "output_type": "stream",
     "text": [
      "running:  92%|████████████████████████████████████████████████▊    | 92.0/100 [01:03<00:05, 1.46B/s]"
     ]
    },
    {
     "name": "stdout",
     "output_type": "stream",
     "text": [
      "parcel (1897, 10)\n",
      "parcel (1536, 10)\n"
     ]
    },
    {
     "name": "stderr",
     "output_type": "stream",
     "text": [
      "running:  93%|█████████████████████████████████████████████████▎   | 93.0/100 [01:04<00:04, 1.46B/s]"
     ]
    },
    {
     "name": "stdout",
     "output_type": "stream",
     "text": [
      "parcel (1418, 10)\n",
      "parcel (1398, 10)\n"
     ]
    },
    {
     "name": "stderr",
     "output_type": "stream",
     "text": [
      "running:  94%|█████████████████████████████████████████████████▊   | 94.0/100 [01:05<00:04, 1.46B/s]"
     ]
    },
    {
     "name": "stdout",
     "output_type": "stream",
     "text": [
      "parcel (1405, 10)\n",
      "parcel (1392, 10)\n"
     ]
    },
    {
     "name": "stderr",
     "output_type": "stream",
     "text": [
      "running:  95%|██████████████████████████████████████████████████▎  | 95.0/100 [01:05<00:03, 1.47B/s]"
     ]
    },
    {
     "name": "stdout",
     "output_type": "stream",
     "text": [
      "parcel (1410, 10)\n",
      "parcel (1397, 10)\n"
     ]
    },
    {
     "name": "stderr",
     "output_type": "stream",
     "text": [
      "running:  96%|██████████████████████████████████████████████████▉  | 96.0/100 [01:06<00:02, 1.46B/s]"
     ]
    },
    {
     "name": "stdout",
     "output_type": "stream",
     "text": [
      "parcel (1411, 10)\n",
      "parcel (1408, 10)\n"
     ]
    },
    {
     "name": "stderr",
     "output_type": "stream",
     "text": [
      "running:  97%|███████████████████████████████████████████████████▍ | 97.0/100 [01:07<00:02, 1.46B/s]"
     ]
    },
    {
     "name": "stdout",
     "output_type": "stream",
     "text": [
      "parcel (1407, 10)\n",
      "parcel (1412, 10)\n"
     ]
    },
    {
     "name": "stderr",
     "output_type": "stream",
     "text": [
      "running:  98%|███████████████████████████████████████████████████▉ | 98.0/100 [01:07<00:01, 1.46B/s]"
     ]
    },
    {
     "name": "stdout",
     "output_type": "stream",
     "text": [
      "parcel (1397, 10)\n",
      "parcel (1415, 10)\n"
     ]
    },
    {
     "name": "stderr",
     "output_type": "stream",
     "text": [
      "running:  99%|████████████████████████████████████████████████████▍| 99.0/100 [01:08<00:00, 1.47B/s]"
     ]
    },
    {
     "name": "stdout",
     "output_type": "stream",
     "text": [
      "parcel (1408, 10)\n",
      "parcel (1408, 10)\n"
     ]
    },
    {
     "name": "stderr",
     "output_type": "stream",
     "text": [
      "running: 100%|██████████████████████████████████████████████████████| 100/100 [01:09<00:00, 1.44B/s]"
     ]
    },
    {
     "name": "stdout",
     "output_type": "stream",
     "text": [
      "parcel (1392, 10)\n"
     ]
    },
    {
     "name": "stderr",
     "output_type": "stream",
     "text": [
      "\n"
     ]
    }
   ],
   "source": [
    "etching = testEtch.inputParticle(125, velosity_matrix, typeID, 2e-3, 20)"
   ]
  },
  {
   "cell_type": "code",
   "execution_count": 11,
   "metadata": {},
   "outputs": [
    {
     "data": {
      "text/plain": [
       "array([[0., 0.],\n",
       "       [0., 0.],\n",
       "       [0., 0.],\n",
       "       [0., 0.],\n",
       "       [0., 0.],\n",
       "       [0., 0.],\n",
       "       [0., 0.],\n",
       "       [0., 0.],\n",
       "       [0., 0.],\n",
       "       [0., 0.],\n",
       "       [0., 0.],\n",
       "       [0., 0.],\n",
       "       [0., 0.],\n",
       "       [0., 0.],\n",
       "       [0., 0.],\n",
       "       [0., 0.],\n",
       "       [0., 0.],\n",
       "       [0., 0.],\n",
       "       [0., 0.],\n",
       "       [0., 0.],\n",
       "       [0., 0.],\n",
       "       [0., 0.],\n",
       "       [0., 0.],\n",
       "       [0., 0.],\n",
       "       [0., 0.],\n",
       "       [0., 0.],\n",
       "       [0., 0.],\n",
       "       [0., 0.],\n",
       "       [0., 0.],\n",
       "       [0., 0.],\n",
       "       [0., 0.],\n",
       "       [0., 0.],\n",
       "       [0., 0.],\n",
       "       [0., 0.],\n",
       "       [0., 0.],\n",
       "       [0., 0.],\n",
       "       [0., 0.],\n",
       "       [0., 0.],\n",
       "       [0., 0.],\n",
       "       [0., 0.],\n",
       "       [0., 0.],\n",
       "       [0., 0.],\n",
       "       [0., 0.],\n",
       "       [0., 0.],\n",
       "       [0., 0.],\n",
       "       [0., 0.],\n",
       "       [0., 0.],\n",
       "       [0., 0.],\n",
       "       [0., 0.],\n",
       "       [0., 0.],\n",
       "       [0., 0.],\n",
       "       [0., 0.],\n",
       "       [0., 0.],\n",
       "       [0., 0.],\n",
       "       [0., 0.],\n",
       "       [0., 0.],\n",
       "       [0., 0.],\n",
       "       [0., 0.],\n",
       "       [0., 0.],\n",
       "       [0., 0.],\n",
       "       [0., 0.],\n",
       "       [0., 0.],\n",
       "       [0., 0.],\n",
       "       [0., 0.],\n",
       "       [0., 0.],\n",
       "       [0., 0.],\n",
       "       [0., 0.],\n",
       "       [0., 0.],\n",
       "       [0., 0.],\n",
       "       [0., 0.],\n",
       "       [0., 0.],\n",
       "       [0., 0.],\n",
       "       [0., 0.],\n",
       "       [0., 0.],\n",
       "       [0., 0.],\n",
       "       [0., 0.],\n",
       "       [0., 0.],\n",
       "       [0., 0.],\n",
       "       [0., 0.],\n",
       "       [0., 0.],\n",
       "       [0., 0.],\n",
       "       [0., 0.],\n",
       "       [0., 0.],\n",
       "       [0., 0.],\n",
       "       [0., 0.],\n",
       "       [0., 0.],\n",
       "       [0., 0.],\n",
       "       [0., 0.],\n",
       "       [0., 0.],\n",
       "       [0., 0.],\n",
       "       [0., 0.],\n",
       "       [0., 0.],\n",
       "       [0., 0.],\n",
       "       [0., 0.],\n",
       "       [0., 0.],\n",
       "       [0., 0.],\n",
       "       [0., 0.],\n",
       "       [0., 0.],\n",
       "       [0., 0.],\n",
       "       [0., 0.]])"
      ]
     },
     "execution_count": 11,
     "metadata": {},
     "output_type": "execute_result"
    }
   ],
   "source": [
    "etching[0][50, :, 80]"
   ]
  },
  {
   "cell_type": "code",
   "execution_count": 10,
   "metadata": {},
   "outputs": [
    {
     "name": "stderr",
     "output_type": "stream",
     "text": [
      "c:\\Users\\urcs049\\AppData\\Local\\anaconda3\\Lib\\site-packages\\pyvista\\core\\utilities\\points.py:55: UserWarning: Points is not a float type. This can cause issues when transforming or applying filters. Casting to ``np.float32``. Disable this by passing ``force_float=False``.\n",
      "  warnings.warn(\n",
      "c:\\Users\\urcs049\\AppData\\Local\\anaconda3\\Lib\\site-packages\\pyvista\\core\\filters\\data_set.py:2386: UserWarning: No vector-like data to use for orient. orient will be set to False.\n",
      "  warnings.warn(\"No vector-like data to use for orient. orient will be set to False.\")\n"
     ]
    },
    {
     "data": {
      "application/vnd.jupyter.widget-view+json": {
       "model_id": "1084c85dc2f44b70800e7893d95b9fff",
       "version_major": 2,
       "version_minor": 0
      },
      "text/plain": [
       "Widget(value='<iframe src=\"http://localhost:57806/index.html?ui=P_0x1d4c8e60dd0_1&reconnect=auto\" class=\"pyvis…"
      ]
     },
     "metadata": {},
     "output_type": "display_data"
    }
   ],
   "source": [
    "sumFilm = np.sum(etching[0], axis=-1)\n",
    "\n",
    "depo1 = torch.Tensor(np.logical_and(sumFilm[50:, :, :,]!=10, sumFilm[50:, :, :,]!=0)).to_sparse()\n",
    "depo1 = depo1.indices().numpy().T\n",
    "\n",
    "substrute = torch.Tensor(sumFilm[50:, :, :,]==10).to_sparse()\n",
    "substrute = substrute.indices().numpy().T\n",
    "depomesh = pv.PolyData(depo1)\n",
    "depomesh[\"radius\"] = np.ones(depo1.shape[0])*0.5\n",
    "geom = pv.Box()\n",
    "\n",
    "submesh = pv.PolyData(substrute)\n",
    "submesh[\"radius\"] = np.ones(substrute.shape[0])*0.5\n",
    "\n",
    "# Progress bar is a new feature on master branch\n",
    "depoglyphed = depomesh.glyph(scale=\"radius\", geom=geom) # progress_bar=True)\n",
    "subglyphed = submesh.glyph(scale=\"radius\", geom=geom) # progress_bar=True)\n",
    "\n",
    "p = pv.Plotter()\n",
    "p.add_mesh(depoglyphed, color='cyan')\n",
    "p.add_mesh(subglyphed, color='dimgray')\n",
    "p.enable_eye_dome_lighting()\n",
    "p.show()"
   ]
  },
  {
   "cell_type": "code",
   "execution_count": 31,
   "metadata": {},
   "outputs": [
    {
     "name": "stderr",
     "output_type": "stream",
     "text": [
      "l:\\program\\Lib\\site-packages\\pyvista\\core\\utilities\\points.py:52: UserWarning: Points is not a float type. This can cause issues when transforming or applying filters. Casting to ``np.float32``. Disable this by passing ``force_float=False``.\n",
      "  warnings.warn(\n",
      "l:\\program\\Lib\\site-packages\\pyvista\\core\\filters\\data_set.py:2320: UserWarning: No vector-like data to use for orient. orient will be set to False.\n",
      "  warnings.warn(\"No vector-like data to use for orient. orient will be set to False.\")\n"
     ]
    },
    {
     "data": {
      "application/vnd.jupyter.widget-view+json": {
       "model_id": "5411e0591ec844f9bb82648b6c85b0a3",
       "version_major": 2,
       "version_minor": 0
      },
      "text/plain": [
       "Widget(value='<iframe src=\"http://localhost:53252/index.html?ui=P_0x16c118f24d0_6&reconnect=auto\" class=\"pyvis…"
      ]
     },
     "metadata": {},
     "output_type": "display_data"
    }
   ],
   "source": [
    "sumFilm = np.sum(etching[0], axis=-1)\n",
    "\n",
    "depo1 = torch.Tensor(np.logical_and(sumFilm[:, :50, :,]!=10, sumFilm[:, :50, :,]!=0)).to_sparse()\n",
    "depo1 = depo1.indices().numpy().T\n",
    "\n",
    "substrute = torch.Tensor(sumFilm[:, :50, :,]==10).to_sparse()\n",
    "substrute = substrute.indices().numpy().T\n",
    "depomesh = pv.PolyData(depo1)\n",
    "depomesh[\"radius\"] = np.ones(depo1.shape[0])*0.5\n",
    "geom = pv.Box()\n",
    "\n",
    "submesh = pv.PolyData(substrute)\n",
    "submesh[\"radius\"] = np.ones(substrute.shape[0])*0.5\n",
    "\n",
    "# Progress bar is a new feature on master branch\n",
    "depoglyphed = depomesh.glyph(scale=\"radius\", geom=geom) # progress_bar=True)\n",
    "subglyphed = submesh.glyph(scale=\"radius\", geom=geom) # progress_bar=True)\n",
    "\n",
    "p = pv.Plotter()\n",
    "p.add_mesh(depoglyphed, color='cyan')\n",
    "p.add_mesh(subglyphed, color='dimgray')\n",
    "p.enable_eye_dome_lighting()\n",
    "p.show()"
   ]
  },
  {
   "cell_type": "code",
   "execution_count": null,
   "metadata": {},
   "outputs": [],
   "source": []
  }
 ],
 "metadata": {
  "kernelspec": {
   "display_name": "Python 3",
   "language": "python",
   "name": "python3"
  },
  "language_info": {
   "codemirror_mode": {
    "name": "ipython",
    "version": 3
   },
   "file_extension": ".py",
   "mimetype": "text/x-python",
   "name": "python",
   "nbconvert_exporter": "python",
   "pygments_lexer": "ipython3",
   "version": "3.12.5"
  }
 },
 "nbformat": 4,
 "nbformat_minor": 2
}

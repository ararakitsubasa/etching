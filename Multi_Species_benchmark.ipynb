{
 "cells": [
  {
   "cell_type": "code",
   "execution_count": 1,
   "metadata": {},
   "outputs": [],
   "source": [
    "import numpy as np\n",
    "import time as Time\n",
    "from numba import jit\n",
    "import matplotlib.pyplot as plt\n",
    "import pyvista as pv\n",
    "import torch"
   ]
  },
  {
   "cell_type": "code",
   "execution_count": 2,
   "metadata": {},
   "outputs": [],
   "source": [
    "film = np.zeros((100, 100, 100, 2))\n",
    "\n",
    "bottom = 10\n",
    "film[:, :, 0:bottom, 0] = 10 # bottom\n",
    "\n",
    "height = 80\n",
    "\n",
    "film[:, :40, 0:height, 0] = 10\n",
    "film[:, 60:, 0:height, 0] = 10\n"
   ]
  },
  {
   "cell_type": "code",
   "execution_count": 8,
   "metadata": {},
   "outputs": [
    {
     "name": "stdout",
     "output_type": "stream",
     "text": [
      "(100, 100, 100)\n"
     ]
    }
   ],
   "source": [
    "sumFilm = np.sum(film, axis=-1)\n",
    "\n",
    "print(sumFilm.shape)"
   ]
  },
  {
   "cell_type": "code",
   "execution_count": 10,
   "metadata": {},
   "outputs": [
    {
     "name": "stderr",
     "output_type": "stream",
     "text": [
      "l:\\program\\Lib\\site-packages\\pyvista\\core\\utilities\\points.py:52: UserWarning: Points is not a float type. This can cause issues when transforming or applying filters. Casting to ``np.float32``. Disable this by passing ``force_float=False``.\n",
      "  warnings.warn(\n",
      "l:\\program\\Lib\\site-packages\\pyvista\\core\\filters\\data_set.py:2320: UserWarning: No vector-like data to use for orient. orient will be set to False.\n",
      "  warnings.warn(\"No vector-like data to use for orient. orient will be set to False.\")\n"
     ]
    },
    {
     "data": {
      "application/vnd.jupyter.widget-view+json": {
       "model_id": "baf6163387d34d9e80367789c78fc161",
       "version_major": 2,
       "version_minor": 0
      },
      "text/plain": [
       "Widget(value='<iframe src=\"http://localhost:58759/index.html?ui=P_0x27eaf0a3bd0_0&reconnect=auto\" class=\"pyvis…"
      ]
     },
     "metadata": {},
     "output_type": "display_data"
    }
   ],
   "source": [
    "# depo1 = torch.Tensor(np.logical_and(film[:, :, :] !=0, film[:, :, :] < 10)).to_sparse()\n",
    "# depo1 = depo1.indices().numpy().T\n",
    "\n",
    "substrute = torch.Tensor(sumFilm[:, :, :]==10).to_sparse()\n",
    "substrute = substrute.indices().numpy().T\n",
    "# depomesh = pv.PolyData(depo1)\n",
    "# depomesh[\"radius\"] = np.ones(depo1.shape[0])*0.5\n",
    "geom = pv.Box()\n",
    "\n",
    "submesh = pv.PolyData(substrute)\n",
    "submesh[\"radius\"] = np.ones(substrute.shape[0])*0.5\n",
    "\n",
    "# Progress bar is a new feature on master branch\n",
    "# depoglyphed = depomesh.glyph(scale=\"radius\", geom=geom) # progress_bar=True)\n",
    "subglyphed = submesh.glyph(scale=\"radius\", geom=geom) # progress_bar=True)\n",
    "\n",
    "p = pv.Plotter()\n",
    "# p.add_mesh(depoglyphed, color='cyan')\n",
    "p.add_mesh(subglyphed, color='dimgray')\n",
    "p.enable_eye_dome_lighting()\n",
    "p.show()"
   ]
  },
  {
   "cell_type": "code",
   "execution_count": 3,
   "metadata": {},
   "outputs": [],
   "source": [
    "etchfilm = film"
   ]
  },
  {
   "cell_type": "code",
   "execution_count": 4,
   "metadata": {},
   "outputs": [],
   "source": [
    "import Multi_Species_Cu_Si_noAr"
   ]
  },
  {
   "cell_type": "code",
   "execution_count": 5,
   "metadata": {},
   "outputs": [],
   "source": [
    "    # def __init__(self, mirror, pressure_pa, temperature, chamberSize,depoThick, #transport\n",
    "    #              center_with_direction, range3D, InOrOut, yield_hist, #surface_normal\n",
    "    #              reaction_type, #reaction \n",
    "    #              param, N, sub_xy, film, n, cellSize, celllength, kdtreeN,\n",
    "    #              tstep, substrateTop, posGeneratorType, logname):"
   ]
  },
  {
   "cell_type": "code",
   "execution_count": 6,
   "metadata": {},
   "outputs": [
    {
     "name": "stderr",
     "output_type": "stream",
     "text": [
      "running:  38%|████████████████████▏                                | 38.0/100 [00:48<01:19, 1.29s/B]"
     ]
    },
    {
     "name": "stdout",
     "output_type": "stream",
     "text": [
      "depo finish\n"
     ]
    },
    {
     "name": "stderr",
     "output_type": "stream",
     "text": [
      "\n"
     ]
    }
   ],
   "source": [
    "logname = 'Multi_species_benchmark_0729'\n",
    "testEtch = Multi_Species_Cu_Si_noAr.etching(mirror=True, pressure_pa=0.001, temperature=300, chamberSize=etchfilm.shape,\n",
    "                                         depoThick=90, center_with_direction=np.array([[35,100,75]]), \n",
    "                                         range3D=np.array([[0, 70, 0, 100, 0, 150]]), InOrOut=[1], yield_hist=None,\n",
    "                                        reaction_type=False, param = [1.6, -0.7], N = 300000, \n",
    "                                        sub_xy=[0,0], film=etchfilm, n=1, cellSize=etchfilm.shape, \n",
    "                                        celllength=1e-5, kdtreeN=5, tstep=1e-5,\n",
    "                                        substrateTop=40,posGeneratorType='top', logname=logname)\n",
    "\n",
    "\n",
    "etching = testEtch.depo_position_increase_cosVel_normal(125, int(7e6), 2e-3, 5)\n",
    "# etching = testEtch.depo_position_increase_cosVel_NoMaxwell(125,  300000, 1e-5, 0.5, 10)"
   ]
  },
  {
   "cell_type": "code",
   "execution_count": 7,
   "metadata": {},
   "outputs": [
    {
     "name": "stderr",
     "output_type": "stream",
     "text": [
      "l:\\program\\Lib\\site-packages\\pyvista\\core\\utilities\\points.py:52: UserWarning: Points is not a float type. This can cause issues when transforming or applying filters. Casting to ``np.float32``. Disable this by passing ``force_float=False``.\n",
      "  warnings.warn(\n",
      "l:\\program\\Lib\\site-packages\\pyvista\\core\\filters\\data_set.py:2320: UserWarning: No vector-like data to use for orient. orient will be set to False.\n",
      "  warnings.warn(\"No vector-like data to use for orient. orient will be set to False.\")\n"
     ]
    },
    {
     "data": {
      "application/vnd.jupyter.widget-view+json": {
       "model_id": "d3eef9f455cb4dfd8dcbcfda443bde25",
       "version_major": 2,
       "version_minor": 0
      },
      "text/plain": [
       "Widget(value='<iframe src=\"http://localhost:59474/index.html?ui=P_0x1dfda48cc90_0&reconnect=auto\" class=\"pyvis…"
      ]
     },
     "metadata": {},
     "output_type": "display_data"
    }
   ],
   "source": [
    "sumFilm = np.sum(testEtch.film, axis=-1)\n",
    "\n",
    "depo1 = torch.Tensor(np.logical_and(sumFilm[:, :, :,]!=10, sumFilm[:, :, :,]!=0)).to_sparse()\n",
    "depo1 = depo1.indices().numpy().T\n",
    "\n",
    "substrute = torch.Tensor(sumFilm[:, :, :,]==10).to_sparse()\n",
    "substrute = substrute.indices().numpy().T\n",
    "depomesh = pv.PolyData(depo1)\n",
    "depomesh[\"radius\"] = np.ones(depo1.shape[0])*0.5\n",
    "geom = pv.Box()\n",
    "\n",
    "submesh = pv.PolyData(substrute)\n",
    "submesh[\"radius\"] = np.ones(substrute.shape[0])*0.5\n",
    "\n",
    "# Progress bar is a new feature on master branch\n",
    "depoglyphed = depomesh.glyph(scale=\"radius\", geom=geom) # progress_bar=True)\n",
    "subglyphed = submesh.glyph(scale=\"radius\", geom=geom) # progress_bar=True)\n",
    "\n",
    "p = pv.Plotter()\n",
    "p.add_mesh(depoglyphed, color='cyan')\n",
    "p.add_mesh(subglyphed, color='dimgray')\n",
    "p.enable_eye_dome_lighting()\n",
    "p.show()"
   ]
  },
  {
   "cell_type": "code",
   "execution_count": 7,
   "metadata": {},
   "outputs": [
    {
     "data": {
      "text/plain": [
       "(7000000, 10)"
      ]
     },
     "execution_count": 7,
     "metadata": {},
     "output_type": "execute_result"
    }
   ],
   "source": [
    "testEtch.parcel.shape"
   ]
  },
  {
   "cell_type": "code",
   "execution_count": 14,
   "metadata": {},
   "outputs": [
    {
     "data": {
      "text/plain": [
       "array([161.24791799,  84.77586652, -82.53676749,   0.80623615,\n",
       "         0.42387643,  -0.4126888 ,  68.        ,  58.        ,\n",
       "        99.        ,   1.        ])"
      ]
     },
     "execution_count": 14,
     "metadata": {},
     "output_type": "execute_result"
    }
   ],
   "source": [
    "testEtch.parcel[106]"
   ]
  },
  {
   "cell_type": "code",
   "execution_count": 9,
   "metadata": {},
   "outputs": [
    {
     "name": "stdout",
     "output_type": "stream",
     "text": [
      "[ 1.29022179e+02  1.60886601e+01 -1.53281836e+02  6.41898233e-01\n",
      "  8.00382431e-02 -7.62601166e-01  6.30000000e+01  9.70000000e+01\n",
      "  9.90000000e+01  1.00000000e+00]\n"
     ]
    }
   ],
   "source": [
    "testEtch.parcel[100, :3] += testEtch.parcel[100, 3:6] \n",
    "print(testEtch.parcel[100])"
   ]
  },
  {
   "cell_type": "code",
   "execution_count": 10,
   "metadata": {},
   "outputs": [
    {
     "data": {
      "text/plain": [
       "array([97, 98, 95, 98, 97, 98, 99, 99, 97, 99, 97, 99, 97, 95, 96, 97, 99,\n",
       "       96, 97, 99, 95, 95, 99, 98, 95, 98, 96, 96, 97, 99, 97, 97, 97, 95,\n",
       "       97, 97, 98, 96, 97, 98, 97, 96, 99, 97, 97, 95, 96, 99, 96, 98, 96,\n",
       "       95, 99, 99, 96, 95, 97, 97, 96, 95, 95, 98, 95, 98, 95, 96, 98, 96,\n",
       "       99, 98, 98, 97, 96, 99, 97, 96, 97, 96, 97, 98, 95, 99, 95, 99, 97,\n",
       "       97, 98, 95, 99, 95, 97, 99, 97, 97, 96, 96, 95, 96, 95, 99, 96, 98,\n",
       "       98, 95, 95, 99, 98, 97, 97, 96, 99, 98, 99, 97, 99, 95, 97, 98, 95,\n",
       "       99, 95, 98, 96, 95, 98, 96, 96, 97, 97, 96, 97, 98, 97, 96, 99, 97,\n",
       "       96, 97, 99, 99, 95, 96, 97, 98, 99, 95, 95, 97, 95, 98, 95, 99, 95,\n",
       "       96, 99, 95, 98, 95, 97, 96, 95, 96, 97, 97, 99, 97, 98, 98, 99, 98,\n",
       "       95, 97, 98, 98, 95, 97, 95, 97, 97, 99, 95, 99, 97, 98, 95, 96, 98,\n",
       "       99, 96, 99, 98, 96, 99, 95, 95, 98, 98, 99, 99, 95, 95, 98, 99, 97,\n",
       "       99, 99, 95, 98, 98, 98, 99, 97, 96, 97, 99, 96, 99, 95, 97, 96, 97,\n",
       "       99, 96, 97, 96, 96, 97, 99, 99, 95, 95, 95, 97, 98, 96, 96, 98, 95,\n",
       "       99, 98, 99, 95, 96, 99, 99, 99, 97, 96, 98, 97, 99, 97, 98, 95, 95,\n",
       "       96, 97, 98, 96, 96, 97, 97, 96, 96, 96, 98, 98, 97, 95, 99, 97, 95,\n",
       "       96, 95, 98, 97, 97, 98, 97, 98, 96, 97, 99, 97, 97, 98, 99, 97, 98,\n",
       "       98, 95, 96, 96, 99, 98, 95, 97, 96, 96, 97, 97, 98, 96, 98, 98, 98,\n",
       "       95, 99, 98, 98, 98, 96, 99, 95, 97, 95, 98, 99, 95, 95, 99, 97, 96,\n",
       "       96, 99, 97, 95, 99, 97, 96, 98, 98, 95, 95, 99, 99, 95, 98, 98, 99,\n",
       "       99, 99, 97, 99, 99, 98, 95, 97, 96, 99, 97, 97, 96, 96, 99, 95, 97,\n",
       "       96, 97, 98, 98, 98, 95, 98, 99, 99, 98, 97, 98, 96, 98, 95, 95, 95,\n",
       "       98, 97, 96, 95, 95, 98, 96, 96, 99, 96, 99, 99, 95, 95, 99, 98, 98,\n",
       "       98, 96, 97, 96, 95, 99, 99, 95, 99, 95, 96, 99, 96, 95, 95, 99, 96,\n",
       "       96, 97, 98, 95, 97, 96, 98, 96, 98, 99, 96, 95, 96, 98, 98, 98, 97,\n",
       "       95, 95, 98, 98, 97, 95, 98, 99, 96, 99, 97, 95, 95, 95, 96, 99, 96,\n",
       "       96, 99, 98, 97, 95, 97, 96, 96, 95, 96, 99, 96, 98, 95, 96, 95, 99,\n",
       "       99, 96, 97, 95, 98, 99, 97, 97, 95, 99, 97, 99, 95, 95, 98, 95, 99,\n",
       "       96, 95, 96, 98, 97, 97, 98, 95, 99, 99, 98, 96, 98, 99, 99, 95, 97,\n",
       "       99, 97, 98, 95, 96, 95, 95, 97, 99, 96, 96, 97, 95, 98, 95, 95, 98,\n",
       "       96, 96, 98, 95, 95, 99, 95, 98, 99, 98, 98, 96, 99, 99, 97, 98, 96,\n",
       "       97, 95, 96, 99, 99, 99, 99, 96, 95, 97, 96, 95, 96, 97, 96, 95, 96,\n",
       "       98, 97, 98, 96, 95, 99, 97, 95, 97, 95, 95, 97, 96, 99, 95, 99, 97,\n",
       "       96, 99, 99, 98, 96, 95, 96, 98, 95, 96, 99, 96, 99, 98, 99, 99, 98,\n",
       "       97, 98, 96, 96, 98, 99, 99, 99, 97, 98, 95, 96, 96, 95, 96, 96, 99,\n",
       "       97, 97, 98, 97, 95, 96, 98, 96, 98, 98, 97, 96, 99, 97, 96, 99, 96,\n",
       "       97, 95, 98, 96, 99, 98, 99, 96, 96, 98, 95, 99, 98, 99, 95, 99, 97,\n",
       "       99, 97, 97, 98, 97, 97, 97, 97, 98, 95, 97, 97, 98, 95, 95, 98, 95,\n",
       "       97, 98, 95, 97, 97, 96, 99, 96, 98, 98, 99, 96, 99, 95, 99, 99, 97,\n",
       "       95, 96, 97, 96, 99, 96, 96, 95, 99, 97, 99, 96, 95, 97, 99, 95, 99,\n",
       "       97, 99, 98, 96, 95, 95, 97, 95, 97, 98, 95, 98, 95, 95, 96, 98, 97,\n",
       "       95, 98, 98, 97, 96, 96, 99, 95, 98, 95, 99, 96, 97, 95, 99, 98, 96,\n",
       "       95, 96, 98, 96, 96, 96, 99, 97, 96, 95, 96, 96, 97, 98, 96, 97, 95,\n",
       "       98, 98, 97, 95, 96, 95, 98, 97, 99, 98, 96, 99, 96, 99, 95, 96, 95,\n",
       "       97, 96, 95, 98, 96, 97, 98, 96, 96, 98, 98, 97, 99, 98, 99, 95, 98,\n",
       "       96, 96, 99, 98, 95, 95, 98, 95, 98, 96, 99, 99, 97, 97, 95, 98, 97,\n",
       "       96, 99, 96, 97, 96, 99, 98, 99, 98, 99, 97, 99, 96, 97, 98, 96, 95,\n",
       "       99, 96, 95, 95, 98, 97, 99, 99, 99, 98, 96, 99, 97, 95, 98, 95, 97,\n",
       "       96, 95, 96, 98, 96, 99, 99, 99, 99, 97, 97, 95, 96, 98, 97, 98, 98,\n",
       "       99, 97, 99, 98, 98, 95, 99, 97, 99, 95, 97, 98, 96, 97, 97, 96, 98,\n",
       "       98, 97, 97, 99, 95, 95, 99, 97, 97, 96, 98, 99, 99, 99, 95, 99, 95,\n",
       "       98, 97, 96, 95, 98, 98, 98, 97, 95, 95, 96, 97, 97, 97, 98, 96, 99,\n",
       "       97, 98, 95, 95, 99, 99, 95, 95, 96, 97, 98, 96, 95, 99, 99, 97, 99,\n",
       "       99, 99, 98, 99, 95, 99, 97, 99, 96, 95, 95, 98, 99, 98, 95, 97, 96,\n",
       "       95, 97, 97, 95, 96, 95, 98, 96, 98, 95, 95, 95, 98, 95, 97, 97, 98,\n",
       "       97, 96, 96, 97, 95, 97, 98, 97, 98, 99, 98, 99, 98, 95, 96, 96, 96,\n",
       "       99, 97, 97, 95, 95, 98, 95, 97, 97, 95, 98, 97, 98, 99, 98, 98, 97,\n",
       "       99, 98, 96, 97, 98, 99, 95, 96, 97, 97, 95, 95, 95, 95, 97, 95, 95,\n",
       "       95, 97, 96, 96, 96, 97, 97, 96, 98, 97, 97, 95, 99, 95])"
      ]
     },
     "execution_count": 10,
     "metadata": {},
     "output_type": "execute_result"
    }
   ],
   "source": [
    "testEtch.parcel[10000:11000][:,8].astype(int)\n"
   ]
  },
  {
   "cell_type": "code",
   "execution_count": null,
   "metadata": {},
   "outputs": [],
   "source": []
  }
 ],
 "metadata": {
  "kernelspec": {
   "display_name": "Python 3",
   "language": "python",
   "name": "python3"
  },
  "language_info": {
   "codemirror_mode": {
    "name": "ipython",
    "version": 3
   },
   "file_extension": ".py",
   "mimetype": "text/x-python",
   "name": "python",
   "nbconvert_exporter": "python",
   "pygments_lexer": "ipython3",
   "version": "3.11.7"
  }
 },
 "nbformat": 4,
 "nbformat_minor": 2
}

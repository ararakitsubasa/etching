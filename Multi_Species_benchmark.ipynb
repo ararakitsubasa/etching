{
 "cells": [
  {
   "cell_type": "code",
   "execution_count": 1,
   "metadata": {},
   "outputs": [],
   "source": [
    "import numpy as np\n",
    "import time as Time\n",
    "from numba import jit\n",
    "import matplotlib.pyplot as plt\n",
    "import pyvista as pv\n",
    "import torch"
   ]
  },
  {
   "cell_type": "code",
   "execution_count": 2,
   "metadata": {},
   "outputs": [],
   "source": [
    "film = np.zeros((100, 100, 100))\n",
    "\n",
    "bottom = 10\n",
    "film[:, :, 0:bottom] = 10 # bottom\n",
    "\n",
    "height = 80\n",
    "\n",
    "film[:, :40, 0:height] = 10\n",
    "film[:, 60:, 0:height] = 10\n",
    "\n",
    "film[:, :, height:] = 0"
   ]
  },
  {
   "cell_type": "code",
   "execution_count": 4,
   "metadata": {},
   "outputs": [
    {
     "name": "stderr",
     "output_type": "stream",
     "text": [
      "l:\\program\\Lib\\site-packages\\pyvista\\core\\utilities\\points.py:52: UserWarning: Points is not a float type. This can cause issues when transforming or applying filters. Casting to ``np.float32``. Disable this by passing ``force_float=False``.\n",
      "  warnings.warn(\n",
      "l:\\program\\Lib\\site-packages\\pyvista\\core\\filters\\data_set.py:2320: UserWarning: No vector-like data to use for orient. orient will be set to False.\n",
      "  warnings.warn(\"No vector-like data to use for orient. orient will be set to False.\")\n"
     ]
    },
    {
     "data": {
      "application/vnd.jupyter.widget-view+json": {
       "model_id": "dddabb0606c54674954f2b0b31ef4f9c",
       "version_major": 2,
       "version_minor": 0
      },
      "text/plain": [
       "Widget(value='<iframe src=\"http://localhost:52681/index.html?ui=P_0x1d58f6ecc90_0&reconnect=auto\" class=\"pyvis…"
      ]
     },
     "metadata": {},
     "output_type": "display_data"
    }
   ],
   "source": [
    "# depo1 = torch.Tensor(np.logical_and(film[:, :, :] !=0, film[:, :, :] < 10)).to_sparse()\n",
    "# depo1 = depo1.indices().numpy().T\n",
    "\n",
    "substrute = torch.Tensor(film[:, :, :]==10).to_sparse()\n",
    "substrute = substrute.indices().numpy().T\n",
    "# depomesh = pv.PolyData(depo1)\n",
    "# depomesh[\"radius\"] = np.ones(depo1.shape[0])*0.5\n",
    "geom = pv.Box()\n",
    "\n",
    "submesh = pv.PolyData(substrute)\n",
    "submesh[\"radius\"] = np.ones(substrute.shape[0])*0.5\n",
    "\n",
    "# Progress bar is a new feature on master branch\n",
    "# depoglyphed = depomesh.glyph(scale=\"radius\", geom=geom) # progress_bar=True)\n",
    "subglyphed = submesh.glyph(scale=\"radius\", geom=geom) # progress_bar=True)\n",
    "\n",
    "p = pv.Plotter()\n",
    "# p.add_mesh(depoglyphed, color='cyan')\n",
    "p.add_mesh(subglyphed, color='dimgray')\n",
    "p.enable_eye_dome_lighting()\n",
    "p.show()"
   ]
  },
  {
   "cell_type": "code",
   "execution_count": 3,
   "metadata": {},
   "outputs": [],
   "source": [
    "etchfilm = film"
   ]
  },
  {
   "cell_type": "code",
   "execution_count": 4,
   "metadata": {},
   "outputs": [],
   "source": [
    "import Multi_Species_Cu_Si_noAr"
   ]
  },
  {
   "cell_type": "code",
   "execution_count": null,
   "metadata": {},
   "outputs": [],
   "source": [
    "    # def __init__(self, mirror, pressure_pa, temperature, chamberSize,depoThick, #transport\n",
    "    #              center_with_direction, range3D, InOrOut, yield_hist, #surface_normal\n",
    "    #              reaction_type, #reaction \n",
    "    #              param, N, sub_xy, film, n, cellSize, celllength, kdtreeN,\n",
    "    #              tstep, substrateTop, posGeneratorType, logname):"
   ]
  },
  {
   "cell_type": "code",
   "execution_count": 5,
   "metadata": {},
   "outputs": [
    {
     "name": "stderr",
     "output_type": "stream",
     "text": [
      "running:   0%|                                                            | 0.00/100 [00:00<?, ?B/s]\n"
     ]
    },
    {
     "ename": "IndexError",
     "evalue": "arrays used as indices must be of integer (or boolean) type",
     "output_type": "error",
     "traceback": [
      "\u001b[1;31m---------------------------------------------------------------------------\u001b[0m",
      "\u001b[1;31mIndexError\u001b[0m                                Traceback (most recent call last)",
      "Cell \u001b[1;32mIn[5], line 11\u001b[0m\n\u001b[0;32m      1\u001b[0m logname \u001b[38;5;241m=\u001b[39m \u001b[38;5;124m'\u001b[39m\u001b[38;5;124mMulti_species_benchmark_0729\u001b[39m\u001b[38;5;124m'\u001b[39m\n\u001b[0;32m      2\u001b[0m testEtch \u001b[38;5;241m=\u001b[39m Multi_Species_Cu_Si_noAr\u001b[38;5;241m.\u001b[39metching(mirror\u001b[38;5;241m=\u001b[39m\u001b[38;5;28;01mTrue\u001b[39;00m, pressure_pa\u001b[38;5;241m=\u001b[39m\u001b[38;5;241m0.001\u001b[39m, temperature\u001b[38;5;241m=\u001b[39m\u001b[38;5;241m300\u001b[39m, chamberSize\u001b[38;5;241m=\u001b[39metchfilm\u001b[38;5;241m.\u001b[39mshape,\n\u001b[0;32m      3\u001b[0m                                          depoThick\u001b[38;5;241m=\u001b[39m\u001b[38;5;241m50\u001b[39m, center_with_direction\u001b[38;5;241m=\u001b[39mnp\u001b[38;5;241m.\u001b[39marray([[\u001b[38;5;241m35\u001b[39m,\u001b[38;5;241m100\u001b[39m,\u001b[38;5;241m75\u001b[39m]]), \n\u001b[0;32m      4\u001b[0m                                          range3D\u001b[38;5;241m=\u001b[39mnp\u001b[38;5;241m.\u001b[39marray([[\u001b[38;5;241m0\u001b[39m, \u001b[38;5;241m70\u001b[39m, \u001b[38;5;241m0\u001b[39m, \u001b[38;5;241m100\u001b[39m, \u001b[38;5;241m0\u001b[39m, \u001b[38;5;241m150\u001b[39m]]), InOrOut\u001b[38;5;241m=\u001b[39m[\u001b[38;5;241m1\u001b[39m], yield_hist\u001b[38;5;241m=\u001b[39m\u001b[38;5;28;01mNone\u001b[39;00m,\n\u001b[1;32m   (...)\u001b[0m\n\u001b[0;32m      7\u001b[0m                                         celllength\u001b[38;5;241m=\u001b[39m\u001b[38;5;241m1e-5\u001b[39m, kdtreeN\u001b[38;5;241m=\u001b[39m\u001b[38;5;241m5\u001b[39m, tstep\u001b[38;5;241m=\u001b[39m\u001b[38;5;241m1e-5\u001b[39m,\n\u001b[0;32m      8\u001b[0m                                         substrateTop\u001b[38;5;241m=\u001b[39m\u001b[38;5;241m40\u001b[39m,posGeneratorType\u001b[38;5;241m=\u001b[39m\u001b[38;5;124m'\u001b[39m\u001b[38;5;124mtop\u001b[39m\u001b[38;5;124m'\u001b[39m, logname\u001b[38;5;241m=\u001b[39mlogname)\n\u001b[1;32m---> 11\u001b[0m etching \u001b[38;5;241m=\u001b[39m testEtch\u001b[38;5;241m.\u001b[39mdepo_position_increase_cosVel_normal(\u001b[38;5;241m125\u001b[39m, \u001b[38;5;28mint\u001b[39m(\u001b[38;5;241m7e6\u001b[39m), \u001b[38;5;241m2e-2\u001b[39m, \u001b[38;5;241m5\u001b[39m)\n",
      "File \u001b[1;32ml:\\ysy\\etching\\Multi_Species_Cu_Si_noAr.py:387\u001b[0m, in \u001b[0;36metching.depo_position_increase_cosVel_normal\u001b[1;34m(self, randomSeed, N, tmax, Zgap)\u001b[0m\n\u001b[0;32m    385\u001b[0m typeID \u001b[38;5;241m=\u001b[39m np\u001b[38;5;241m.\u001b[39mones(N)\n\u001b[0;32m    386\u001b[0m \u001b[38;5;66;03m# def runEtch(self, v0, typeID, time, emptyZ):\u001b[39;00m\n\u001b[1;32m--> 387\u001b[0m result \u001b[38;5;241m=\u001b[39m  \u001b[38;5;28mself\u001b[39m\u001b[38;5;241m.\u001b[39mrunEtch(velosity_matrix, typeID, tmax, emptyZ\u001b[38;5;241m=\u001b[39mZgap)\n\u001b[0;32m    388\u001b[0m \u001b[38;5;28;01mif\u001b[39;00m np\u001b[38;5;241m.\u001b[39many(result[\u001b[38;5;241m0\u001b[39m][:, :, \u001b[38;5;28mself\u001b[39m\u001b[38;5;241m.\u001b[39mdepoThick]) \u001b[38;5;241m!=\u001b[39m \u001b[38;5;241m0\u001b[39m:\n\u001b[0;32m    389\u001b[0m     \u001b[38;5;28;01mbreak\u001b[39;00m             \n",
      "File \u001b[1;32ml:\\ysy\\etching\\Multi_Species_Cu_Si_noAr.py:309\u001b[0m, in \u001b[0;36metching.runEtch\u001b[1;34m(self, v0, typeID, time, emptyZ)\u001b[0m\n\u001b[0;32m    307\u001b[0m i \u001b[38;5;241m=\u001b[39m \u001b[38;5;241m0\u001b[39m\n\u001b[0;32m    308\u001b[0m \u001b[38;5;28;01mwhile\u001b[39;00m t \u001b[38;5;241m<\u001b[39m tmax:\n\u001b[1;32m--> 309\u001b[0m     depo_count \u001b[38;5;241m=\u001b[39m \u001b[38;5;28mself\u001b[39m\u001b[38;5;241m.\u001b[39mgetAcc_depo(tstep, planes)\n\u001b[0;32m    311\u001b[0m     t \u001b[38;5;241m+\u001b[39m\u001b[38;5;241m=\u001b[39m tstep\n\u001b[0;32m    313\u001b[0m     p1 \u001b[38;5;241m=\u001b[39m posGenerator(inputCount, filmThickness, emptyZ)\n",
      "File \u001b[1;32ml:\\ysy\\etching\\Multi_Species_Cu_Si_noAr.py:248\u001b[0m, in \u001b[0;36metching.getAcc_depo\u001b[1;34m(self, tStep, planes)\u001b[0m\n\u001b[0;32m    246\u001b[0m \u001b[38;5;28mself\u001b[39m\u001b[38;5;241m.\u001b[39mboundary()\n\u001b[0;32m    247\u001b[0m \u001b[38;5;66;03m# print(pos_cp)\u001b[39;00m\n\u001b[1;32m--> 248\u001b[0m depo_count \u001b[38;5;241m=\u001b[39m \u001b[38;5;28mself\u001b[39m\u001b[38;5;241m.\u001b[39metching_film(planes)\n\u001b[0;32m    250\u001b[0m \u001b[38;5;66;03m# Npos2_cp = Nvel_cp * tStep_cp + pos_cp\u001b[39;00m\n\u001b[0;32m    251\u001b[0m \u001b[38;5;28mself\u001b[39m\u001b[38;5;241m.\u001b[39mparcel[:, :\u001b[38;5;241m3\u001b[39m] \u001b[38;5;241m+\u001b[39m\u001b[38;5;241m=\u001b[39m \u001b[38;5;28mself\u001b[39m\u001b[38;5;241m.\u001b[39mparcel[:, \u001b[38;5;241m3\u001b[39m:\u001b[38;5;241m6\u001b[39m] \u001b[38;5;241m*\u001b[39m tStep \n",
      "File \u001b[1;32ml:\\ysy\\etching\\Multi_Species_Cu_Si_noAr.py:157\u001b[0m, in \u001b[0;36metching.etching_film\u001b[1;34m(self, planes)\u001b[0m\n\u001b[0;32m    155\u001b[0m k \u001b[38;5;241m=\u001b[39m \u001b[38;5;28mself\u001b[39m\u001b[38;5;241m.\u001b[39mparcel[:, \u001b[38;5;241m8\u001b[39m]\n\u001b[0;32m    156\u001b[0m sumFilm \u001b[38;5;241m=\u001b[39m np\u001b[38;5;241m.\u001b[39msum(\u001b[38;5;28mself\u001b[39m\u001b[38;5;241m.\u001b[39mfilm, axis\u001b[38;5;241m=\u001b[39m\u001b[38;5;241m-\u001b[39m\u001b[38;5;241m1\u001b[39m)\n\u001b[1;32m--> 157\u001b[0m indice_inject \u001b[38;5;241m=\u001b[39m np\u001b[38;5;241m.\u001b[39marray(sumFilm[i, j, k] \u001b[38;5;241m>\u001b[39m\u001b[38;5;241m=\u001b[39m \u001b[38;5;241m1\u001b[39m) \n\u001b[0;32m    159\u001b[0m pos_1 \u001b[38;5;241m=\u001b[39m \u001b[38;5;28mself\u001b[39m\u001b[38;5;241m.\u001b[39mparcel[indice_inject, :\u001b[38;5;241m3\u001b[39m]\n\u001b[0;32m    160\u001b[0m vel_1 \u001b[38;5;241m=\u001b[39m \u001b[38;5;28mself\u001b[39m\u001b[38;5;241m.\u001b[39mparcel[indice_inject, \u001b[38;5;241m3\u001b[39m:\u001b[38;5;241m6\u001b[39m]\n",
      "\u001b[1;31mIndexError\u001b[0m: arrays used as indices must be of integer (or boolean) type"
     ]
    }
   ],
   "source": [
    "logname = 'Multi_species_benchmark_0729'\n",
    "testEtch = Multi_Species_Cu_Si_noAr.etching(mirror=True, pressure_pa=0.001, temperature=300, chamberSize=etchfilm.shape,\n",
    "                                         depoThick=50, center_with_direction=np.array([[35,100,75]]), \n",
    "                                         range3D=np.array([[0, 70, 0, 100, 0, 150]]), InOrOut=[1], yield_hist=None,\n",
    "                                        reaction_type=False, param = [1.6, -0.7], N = 300000, \n",
    "                                        sub_xy=[0,0], film=etchfilm, n=1, cellSize=etchfilm.shape, \n",
    "                                        celllength=1e-5, kdtreeN=5, tstep=1e-5,\n",
    "                                        substrateTop=40,posGeneratorType='top', logname=logname)\n",
    "\n",
    "\n",
    "etching = testEtch.depo_position_increase_cosVel_normal(125, int(7e6), 2e-2, 5)\n",
    "# etching = testEtch.depo_position_increase_cosVel_NoMaxwell(125,  300000, 1e-5, 0.5, 10)"
   ]
  },
  {
   "cell_type": "code",
   "execution_count": null,
   "metadata": {},
   "outputs": [],
   "source": []
  }
 ],
 "metadata": {
  "kernelspec": {
   "display_name": "Python 3",
   "language": "python",
   "name": "python3"
  },
  "language_info": {
   "codemirror_mode": {
    "name": "ipython",
    "version": 3
   },
   "file_extension": ".py",
   "mimetype": "text/x-python",
   "name": "python",
   "nbconvert_exporter": "python",
   "pygments_lexer": "ipython3",
   "version": "3.11.7"
  }
 },
 "nbformat": 4,
 "nbformat_minor": 2
}

{
 "cells": [
  {
   "cell_type": "code",
   "execution_count": 1,
   "metadata": {},
   "outputs": [],
   "source": [
    "import numpy as np\n",
    "import pyvista as pv\n",
    "import torch\n",
    "import matplotlib.pyplot as plt"
   ]
  },
  {
   "cell_type": "code",
   "execution_count": 2,
   "metadata": {},
   "outputs": [],
   "source": [
    "def slide2D_fractionZ(film, start, end, direction, fraction, value):\n",
    "    if fraction == '+':\n",
    "        if direction == 'y':\n",
    "            slit = np.linspace(0, np.abs(end[2] - start[2]), np.abs(end[1] - start[1]))\n",
    "            fraction = np.abs(int(slit[0]-slit[1]))\n",
    "            print('y', slit)\n",
    "            print('fraction', fraction)\n",
    "            for i in range(np.abs(end[1] - start[1])):\n",
    "                if end[1] > start[1]:\n",
    "                    film[start[0]:end[0], start[1] + i, start[2]:start[2] + int(slit[i])] = value\n",
    "                    for j in range(fraction):\n",
    "                        film[start[0]:end[0], start[1] + i,start[2]+int(slit[i])+j] = 1/(fraction+1)*(fraction-j)\n",
    "                elif end[1] < start[1]:\n",
    "                    film[start[0]:end[0], start[1] - i, start[2]:start[2] + int(slit[i])] = value\n",
    "                    for j in range(fraction):\n",
    "                        film[start[0]:end[0], start[1] - i,start[2]+int(slit[i])+j] = 1/(fraction+1)*(fraction-j)\n",
    "        elif direction == 'x':\n",
    "            slit = np.linspace(0, np.abs(end[2] - start[2]), np.abs(end[0] - start[0]))\n",
    "            fraction = np.abs(int(slit[0]-slit[1]))\n",
    "            print('x', slit)\n",
    "            print('fraction', fraction)\n",
    "            for i in range(np.abs(end[2] - start[2])):\n",
    "                if end[0] > start[0]:\n",
    "                    film[start[0] + i, start[1]:end[1], start[2]:start[2] + int(slit[i])] = value\n",
    "                    for j in range(fraction):\n",
    "                        film[start[0] + i, start[1]:end[1], start[2]+int(slit[i])+j] = 1/(fraction+1)*(fraction-j)\n",
    "                elif end[0] < start[0]:\n",
    "                    film[start[0] - i, start[1]:end[1], start[2]:start[2] + int(slit[i])] = value\n",
    "                    for j in range(fraction):\n",
    "                        film[start[0] - i, start[1]:end[1], start[2]+int(slit[i])+j] = 1/(fraction+1)*(fraction-j)\n",
    "    elif fraction == '-':\n",
    "        if direction == 'y':\n",
    "            slit = np.linspace(0, np.abs(end[2] - start[2]), np.abs(end[1] - start[1]))\n",
    "            fraction = np.abs(int(slit[0]-slit[1]))\n",
    "            print('y', slit)\n",
    "            print('fraction', fraction)\n",
    "            for i in range(np.abs(end[1] - start[1])):\n",
    "                if end[1] > start[1]:\n",
    "                    film[start[0]:end[0], start[1] + i, start[2] - int(slit[i]):start[2]+1] = value\n",
    "                    for j in range(fraction):\n",
    "                        film[start[0]:end[0], start[1] + i,start[2]-int(slit[i])-j] = 1/(fraction+1)*(fraction-j)\n",
    "                elif end[1] < start[1]:\n",
    "                    film[start[0]:end[0], start[1] - i, start[2] - int(slit[i]):start[2]+1] = value\n",
    "                    for j in range(fraction):\n",
    "                        film[start[0]:end[0], start[1] - i,start[2]-int(slit[i])-j] = 1/(fraction+1)*(fraction-j)\n",
    "        elif direction == 'x':\n",
    "            slit = np.linspace(0, np.abs(end[2] - start[2]), np.abs(end[0] - start[0]))\n",
    "            fraction = np.abs(int(slit[0]-slit[1]))\n",
    "            print('x', slit)\n",
    "            print('fraction', fraction)\n",
    "            for i in range(np.abs(end[2] - start[2])):\n",
    "                if end[0] > start[0]:\n",
    "                    film[start[0] + i, start[1]:end[1], start[2] - int(slit[i]):start[2]+1] = value\n",
    "                    for j in range(fraction):\n",
    "                        film[start[0] + i, start[1]:end[1], start[2] - int(slit[i]):start[2]] = 1/(fraction+1)*(fraction-j)\n",
    "                elif end[0] < start[0]:\n",
    "                    film[start[0] - i, start[1]:end[1], start[2] - int(slit[i]):start[2]+1] = value\n",
    "                    for j in range(fraction):\n",
    "                        film[start[0] - i, start[1]:end[1], start[2] - int(slit[i]):start[2]] = 1/(fraction+1)*(fraction-j)\n",
    "    return film"
   ]
  },
  {
   "cell_type": "code",
   "execution_count": 3,
   "metadata": {},
   "outputs": [
    {
     "name": "stdout",
     "output_type": "stream",
     "text": [
      "y [ 0. 14. 28. 42. 56. 70.]\n",
      "fraction 14\n",
      "y [ 0. 14. 28. 42. 56. 70.]\n",
      "fraction 14\n",
      "y [ 0. 14. 28. 42. 56. 70.]\n",
      "fraction 14\n",
      "y [ 0. 14. 28. 42. 56. 70.]\n",
      "fraction 14\n"
     ]
    }
   ],
   "source": [
    "film = np.zeros((70, 200, 150))\n",
    "\n",
    "bottom = 10\n",
    "# film[:, :, 0:bottom] = 10 # bottom\n",
    "\n",
    "height = 80\n",
    "left_side = 75\n",
    "right_side = 75\n",
    "film[:, left_side+6:200-left_side-6, 0:height] = 10\n",
    "film[:, :19, 0:height] = 10\n",
    "film[:, 181:, 0:height] = 10\n",
    "\n",
    "film = slide2D_fractionZ(film=film, start=[0, left_side, bottom], end=[70, left_side+6, height], direction='y', fraction='+', value=10)\n",
    "film = slide2D_fractionZ(film=film, start=[0, 200-left_side-1, bottom], end=[70, 200-left_side-6-1, height], direction='y', fraction='+', value=10)\n",
    "film = slide2D_fractionZ(film=film, start=[0, 19+6-1, bottom], end=[70, 19-1, height], direction='y', fraction='+', value=10)\n",
    "film = slide2D_fractionZ(film=film, start=[0, 181-6, bottom], end=[70, 181, height], direction='y', fraction='+', value=10)\n",
    "\n",
    "# film[:, 80:121, 0:31] = 10\n",
    "\n",
    "film[:, :, 0:bottom] = 10 # bottom\n",
    "film[:, :, height:] = 0 # bottom"
   ]
  },
  {
   "cell_type": "code",
   "execution_count": null,
   "metadata": {},
   "outputs": [],
   "source": [
    "geom = pv.Box()\n",
    "\n",
    "substrute = torch.Tensor(film==10).to_sparse()\n",
    "substrute = substrute.indices().numpy().T\n",
    "\n",
    "cyan = torch.Tensor(np.logical_and(film[:, :, :]!=10, film[:, :, :]!=0)).to_sparse()\n",
    "cyan = cyan.indices().numpy().T\n",
    "\n",
    "submesh = pv.PolyData(substrute)\n",
    "submesh[\"radius\"] = np.ones(substrute.shape[0])*0.5\n",
    "\n",
    "cyanmesh = pv.PolyData(cyan)\n",
    "cyanmesh[\"radius\"] = np.ones(cyan.shape[0])*0.5\n",
    "# Progress bar is a new feature on master branch\n",
    "cyanglyphed = cyanmesh.glyph(scale=\"radius\", geom=geom) # progress_bar=True)\n",
    "subglyphed = submesh.glyph(scale=\"radius\", geom=geom) # progress_bar=True)\n",
    "p = pv.Plotter()\n",
    "p.add_mesh(subglyphed, color='gray')\n",
    "# p.add_mesh(cyanglyphed, color='cyan')\n",
    "p.enable_eye_dome_lighting()\n",
    "p.show()\n"
   ]
  },
  {
   "cell_type": "code",
   "execution_count": null,
   "metadata": {},
   "outputs": [],
   "source": [
    "film.shape"
   ]
  },
  {
   "cell_type": "code",
   "execution_count": 4,
   "metadata": {},
   "outputs": [],
   "source": [
    "etchfilm = np.load('./test_depoFloat.npy')\n",
    "center = 100"
   ]
  },
  {
   "cell_type": "code",
   "execution_count": 5,
   "metadata": {},
   "outputs": [],
   "source": [
    "etchfilm = np.zeros((70, 200, 150, 2))\n",
    "etchfilm[:, :, :, 0] = film\n",
    "# etchfilm[:, :, :, 1] = film\n",
    "\n",
    "center = 100\n"
   ]
  },
  {
   "cell_type": "code",
   "execution_count": 5,
   "metadata": {},
   "outputs": [],
   "source": [
    "import Multi_Species_bosch_etching_countByReaction_mirror_func_redepo"
   ]
  },
  {
   "cell_type": "code",
   "execution_count": 6,
   "metadata": {},
   "outputs": [],
   "source": [
    "from scipy import interpolate"
   ]
  },
  {
   "cell_type": "code",
   "execution_count": 7,
   "metadata": {},
   "outputs": [
    {
     "data": {
      "image/png": "[encoded data removed]",
      "text/plain": [
       "<Figure size 640x480 with 1 Axes>"
      ]
     },
     "metadata": {},
     "output_type": "display_data"
    }
   ],
   "source": [
    "yield_hist = np.array([[1.0, 1.01, 1.05,  1.2,  1.4,  1.5, 1.07, 0.65, 0.28, 0.08,  0, \\\n",
    "                        0.08, 0.28,0.65,  1.07, 1.5, 1.4, 1.2, 1.05, 1.01, 1.0 ], \\\n",
    "                        [  0,  5,   10,   20,   30,   40,   50,   60,   70,   80, 90, \\\n",
    "                          100, 110, 120, 130, 140, 150, 160, 170, 175, 180]])\n",
    "yield_hist[1] *= np.pi/180\n",
    "yield_func = interpolate.interp1d(yield_hist[1], yield_hist[0], kind='quadratic')\n",
    "\n",
    "xnew = np.arange(0, np.pi/2, 0.01)\n",
    "# xnew = np.array([])\n",
    "ynew = yield_func(xnew)   # use interpolation function returned by `interp1d`\n",
    "plt.plot(yield_hist[1, :11], yield_hist[0, :11], 'o', xnew, ynew, '-')\n",
    "plt.show()"
   ]
  },
  {
   "cell_type": "code",
   "execution_count": 8,
   "metadata": {},
   "outputs": [],
   "source": [
    "logname = 'Multi_species_benchmark_1023_redepo'\n",
    "inputMethod='bunch'\n",
    "depo_or_etching='depo'\n",
    "etchingPoint = np.array([center, center, bottom-30])\n",
    "depoPoint = np.array([center, center, bottom-30])\n",
    "density = 10\n",
    "center_with_direction=np.array([[int(etchfilm.shape[0]/2),int(etchfilm.shape[1]/2),150]])\n",
    "range3D=np.array([[0, etchfilm.shape[0], 0, etchfilm.shape[1], 0, etchfilm.shape[2]]])\n",
    "InOrOut=[1]\n",
    "# yield_hist=np.array([None])\n",
    "yield_hist = yield_hist\n",
    "maskTop=40, \n",
    "maskBottom=98, \n",
    "maskStep=10, \n",
    "maskCenter=[int(etchfilm.shape[0]/2), int(etchfilm.shape[1]/2)]\n",
    "backup=False\n",
    "mirrorGap=5\n",
    "reaction_type=False\n",
    "param = [1.6, -0.7]\n",
    "n=1\n",
    "celllength=1e-5\n",
    "kdtreeN=5\n",
    "filmKDTree=np.array([[2, 0, 1], [3, 0, -1]]) # 1 for depo -1 for etching\n",
    "# filmKDTree=np.array([[2, 1], [3, 1]])\n",
    "weightDepo=0.2\n",
    "weightEtching = 0.2\n",
    "tstep=1e-5\n",
    "substrateTop=bottom\n",
    "posGeneratorType='top'\n",
    "testEtch = Multi_Species_bosch_etching_countByReaction_mirror_func_redepo.etching(\n",
    "                    inputMethod, depo_or_etching, \n",
    "                    etchingPoint,depoPoint,\n",
    "                    density, center_with_direction, \n",
    "                    range3D, InOrOut, yield_hist,\n",
    "                    maskTop, maskBottom, maskStep, maskCenter,backup, \n",
    "                    mirrorGap,\n",
    "                    reaction_type, param,n,\n",
    "                    celllength, kdtreeN, filmKDTree,weightDepo,weightEtching, tstep,\n",
    "                    substrateTop,posGeneratorType, logname)"
   ]
  },
  {
   "cell_type": "code",
   "execution_count": 9,
   "metadata": {},
   "outputs": [],
   "source": [
    "react_table = np.array([[[0.900, 0, 1], [0.900, 0, 1]],\n",
    "                        [[1.00, -1, 0], [1.00, 0, -1]]])\n",
    "\n",
    "react_type_table = np.array([[2, 0],\n",
    "                             [3, 0]])"
   ]
  },
  {
   "cell_type": "code",
   "execution_count": 10,
   "metadata": {},
   "outputs": [],
   "source": [
    "Multi_Species_bosch_etching_countByReaction_mirror_func_redepo.react_table = react_table\n",
    "Multi_Species_bosch_etching_countByReaction_mirror_func_redepo.react_type_table = react_type_table"
   ]
  },
  {
   "cell_type": "code",
   "execution_count": null,
   "metadata": {},
   "outputs": [],
   "source": [
    "cicle = 100\n",
    "celllength=1e-5\n",
    "parcel = np.array([[95*celllength, 95*celllength, 159*celllength, 0, 0, 1, 95, 95, 159, 0]])\n",
    "step1 = testEtch.inputParticle(etchfilm, parcel, 'maxwell', 0, int(5e4), int(2e7), int(5e6),2, 10, 100)\n",
    "# np.save('./bosch_data_1015_test/bosch_sf_step_sf01', etchfilm)"
   ]
  },
  {
   "cell_type": "code",
   "execution_count": 11,
   "metadata": {},
   "outputs": [
    {
     "name": "stdout",
     "output_type": "stream",
     "text": [
      "(80, 210, 150)\n"
     ]
    },
    {
     "name": "stderr",
     "output_type": "stream",
     "text": [
      "particle input:   0%|                                                     | 0.00/100 [00:00<?, ?B/s]d:\\ysy\\etching\\surface_normalize_etching_depo.py:235: RuntimeWarning: invalid value encountered in arccos\n",
      "  theta = np.arccos(dot_products)\n",
      "particle input:  13%|█████▊                                       | 13.0/100 [25:10<2:48:30, 116s/B]\n"
     ]
    }
   ],
   "source": [
    "cicle = 100\n",
    "celllength=1e-5\n",
    "parcel = np.array([[95*celllength, 95*celllength, 159*celllength, 0, 0, 1, 95, 95, 159, 0]])\n",
    "step1 = testEtch.inputParticle(etchfilm, parcel, 'updown', 1, int(5e3), int(1e5), int(1e6),2, 10, 100)"
   ]
  },
  {
   "cell_type": "code",
   "execution_count": null,
   "metadata": {},
   "outputs": [],
   "source": [
    "testEtch.parcel"
   ]
  },
  {
   "cell_type": "code",
   "execution_count": null,
   "metadata": {},
   "outputs": [],
   "source": [
    "testEtch.parcel.shape"
   ]
  },
  {
   "cell_type": "code",
   "execution_count": null,
   "metadata": {},
   "outputs": [],
   "source": [
    "testEtch.parcel[0]"
   ]
  },
  {
   "cell_type": "code",
   "execution_count": 12,
   "metadata": {},
   "outputs": [],
   "source": [
    "get0 = testEtch.parcel[testEtch.parcel[:, -1] == 0]"
   ]
  },
  {
   "cell_type": "code",
   "execution_count": null,
   "metadata": {},
   "outputs": [],
   "source": [
    "get0.shape"
   ]
  },
  {
   "cell_type": "code",
   "execution_count": null,
   "metadata": {},
   "outputs": [],
   "source": [
    "get0[0]"
   ]
  },
  {
   "cell_type": "code",
   "execution_count": null,
   "metadata": {},
   "outputs": [],
   "source": [
    "np.sum(testEtch.parcel[:, -1] == 0)"
   ]
  },
  {
   "cell_type": "code",
   "execution_count": null,
   "metadata": {},
   "outputs": [],
   "source": [
    "get0.shape"
   ]
  },
  {
   "cell_type": "code",
   "execution_count": null,
   "metadata": {},
   "outputs": [],
   "source": [
    "testEtch.planes"
   ]
  },
  {
   "cell_type": "code",
   "execution_count": 11,
   "metadata": {},
   "outputs": [],
   "source": [
    "pos1e4_data = testEtch.planes"
   ]
  },
  {
   "cell_type": "code",
   "execution_count": null,
   "metadata": {},
   "outputs": [],
   "source": [
    "etchfilm[40, 71, :,0]"
   ]
  },
  {
   "cell_type": "code",
   "execution_count": null,
   "metadata": {},
   "outputs": [],
   "source": [
    "np.any(etchfilm[:, :, :,1])"
   ]
  },
  {
   "cell_type": "code",
   "execution_count": null,
   "metadata": {},
   "outputs": [],
   "source": [
    "point_cloud = pv.PolyData(pos1e4_data[:, 3:6])\n",
    "vectors = pos1e4_data[:, :3]\n",
    "\n",
    "point_cloud['vectors'] = vectors\n",
    "arrows = point_cloud.glyph(\n",
    "    orient='vectors',\n",
    "    scale=10000,\n",
    "    factor=3,\n",
    ")\n",
    "\n",
    "# Display the arrowscyan\n",
    "\n",
    "\n",
    "plotter = pv.Plotter()\n",
    "plotter.add_mesh(point_cloud, color='cyan', point_size=5.0, render_points_as_spheres=True)\n",
    "# plotter.add_mesh(sphere, show_edges=True, opacity=0.5, color=\"w\")\n",
    "plotter.add_mesh(arrows, color='lightblue')\n",
    "# # plotter.add_point_labels([point_cloud.center,], ['Center',],\n",
    "# #                          point_color='yellow', point_size=20)\n",
    "plotter.show_grid()\n",
    "plotter.show()"
   ]
  },
  {
   "cell_type": "code",
   "execution_count": 13,
   "metadata": {},
   "outputs": [
    {
     "name": "stderr",
     "output_type": "stream",
     "text": [
      "c:\\Users\\urcs049\\AppData\\Local\\anaconda3\\Lib\\site-packages\\pyvista\\core\\utilities\\points.py:55: UserWarning: Points is not a float type. This can cause issues when transforming or applying filters. Casting to ``np.float32``. Disable this by passing ``force_float=False``.\n",
      "  warnings.warn(\n",
      "c:\\Users\\urcs049\\AppData\\Local\\anaconda3\\Lib\\site-packages\\pyvista\\core\\filters\\data_set.py:2386: UserWarning: No vector-like data to use for orient. orient will be set to False.\n",
      "  warnings.warn(\"No vector-like data to use for orient. orient will be set to False.\")\n"
     ]
    },
    {
     "data": {
      "application/vnd.jupyter.widget-view+json": {
       "model_id": "d52a322ce41e4ab8b7001fe2052475f3",
       "version_major": 2,
       "version_minor": 0
      },
      "text/plain": [
       "Widget(value='<iframe src=\"http://localhost:60508/index.html?ui=P_0x20000b9adb0_1&reconnect=auto\" class=\"pyvis…"
      ]
     },
     "metadata": {},
     "output_type": "display_data"
    }
   ],
   "source": [
    "geom = pv.Box()\n",
    "\n",
    "substrute = torch.Tensor(np.logical_and(etchfilm[:, :, :,0]>0, etchfilm[:, :, :,0]<1)).to_sparse()\n",
    "substrute = substrute.indices().numpy().T\n",
    "\n",
    "# cyan = torch.Tensor(np.logical_and(etchfilm[:, :, :,0]!=0, film[:, :, :]!=10)).to_sparse()\n",
    "cyan = torch.Tensor(etchfilm[:, :, :,0]>=9).to_sparse()\n",
    "cyan = cyan.indices().numpy().T\n",
    "\n",
    "submesh = pv.PolyData(substrute)\n",
    "submesh[\"radius\"] = np.ones(substrute.shape[0])*0.5\n",
    "\n",
    "cyanmesh = pv.PolyData(cyan)\n",
    "cyanmesh[\"radius\"] = np.ones(cyan.shape[0])*0.5\n",
    "# Progress bar is a new feature on master branch\n",
    "cyanglyphed = cyanmesh.glyph(scale=\"radius\", geom=geom) # progress_bar=True)\n",
    "subglyphed = submesh.glyph(scale=\"radius\", geom=geom) # progress_bar=True)\n",
    "p = pv.Plotter()\n",
    "p.add_mesh(subglyphed, color='gray')\n",
    "p.add_mesh(cyanglyphed, color='cyan')\n",
    "p.enable_eye_dome_lighting()\n",
    "p.show()"
   ]
  },
  {
   "cell_type": "code",
   "execution_count": null,
   "metadata": {},
   "outputs": [],
   "source": [
    "geom = pv.Box()\n",
    "\n",
    "substrute = torch.Tensor(np.logical_and(etchfilm[:, :, :,0]!=0, etchfilm[:, :, :,0]!=10)).to_sparse()\n",
    "substrute = substrute.indices().numpy().T\n",
    "\n",
    "# cyan = torch.Tensor(np.logical_and(etchfilm[:, :, :,0]!=0, film[:, :, :]!=10)).to_sparse()\n",
    "cyan = torch.Tensor(etchfilm[:, :, :,0]==10).to_sparse()\n",
    "cyan = cyan.indices().numpy().T\n",
    "\n",
    "submesh = pv.PolyData(substrute)\n",
    "submesh[\"radius\"] = np.ones(substrute.shape[0])*0.5\n",
    "\n",
    "cyanmesh = pv.PolyData(cyan)\n",
    "cyanmesh[\"radius\"] = np.ones(cyan.shape[0])*0.5\n",
    "# Progress bar is a new feature on master branch\n",
    "cyanglyphed = cyanmesh.glyph(scale=\"radius\", geom=geom) # progress_bar=True)\n",
    "subglyphed = submesh.glyph(scale=\"radius\", geom=geom) # progress_bar=True)\n",
    "p = pv.Plotter()\n",
    "p.add_mesh(subglyphed, color='gray')\n",
    "p.add_mesh(cyanglyphed, color='cyan')\n",
    "p.enable_eye_dome_lighting()\n",
    "p.show()"
   ]
  },
  {
   "cell_type": "code",
   "execution_count": null,
   "metadata": {},
   "outputs": [],
   "source": [
    "geom = pv.Box()\n",
    "\n",
    "beforeEtch = np.load('./test_depoFloat.npy')\n",
    "\n",
    "substrute = torch.Tensor(film[:, :, :]==10).to_sparse()\n",
    "substrute = substrute.indices().numpy().T\n",
    "\n",
    "red_indice = np.logical_and(beforeEtch[:, :, :,0]==10, etchfilm[:, :, :, 0]!=10)\n",
    "# red_indice |= etchfilm[:, :, :,0] != 10\n",
    "\n",
    "red = torch.Tensor(red_indice).to_sparse()\n",
    "red = red.indices().numpy().T\n",
    "\n",
    "# cyan = torch.Tensor(cyan_indice).to_sparse()\n",
    "cyan = torch.Tensor(np.logical_and(etchfilm[:, :, :,0]==10, film[:, :, :]!=10)).to_sparse()\n",
    "# cyan = torch.Tensor(etchfilm[:, :, :,0]==10).to_sparse()\n",
    "cyan = cyan.indices().numpy().T\n",
    "\n",
    "submesh = pv.PolyData(substrute)\n",
    "submesh[\"radius\"] = np.ones(substrute.shape[0])*0.5\n",
    "\n",
    "cyanmesh = pv.PolyData(cyan)\n",
    "cyanmesh[\"radius\"] = np.ones(cyan.shape[0])*0.5\n",
    "\n",
    "redmesh = pv.PolyData(red)\n",
    "redmesh[\"radius\"] = np.ones(red.shape[0])*0.5\n",
    "# Progress bar is a new feature on master branch\n",
    "cyanglyphed = cyanmesh.glyph(scale=\"radius\", geom=geom) # progress_bar=True)\n",
    "subglyphed = submesh.glyph(scale=\"radius\", geom=geom) # progress_bar=True)\n",
    "redglyphed = redmesh.glyph(scale=\"radius\", geom=geom) # progress_bar=True)\n",
    "p = pv.Plotter()\n",
    "p.add_mesh(subglyphed, color='gray', opacity=0.1)\n",
    "# p.add_mesh(cyanglyphed, color='cyan')\n",
    "p.add_mesh(redglyphed, color='red')\n",
    "p.enable_eye_dome_lighting()\n",
    "p.show()"
   ]
  },
  {
   "cell_type": "code",
   "execution_count": 15,
   "metadata": {},
   "outputs": [],
   "source": [
    "np.save('./test_depoFloat', etchfilm)"
   ]
  },
  {
   "cell_type": "code",
   "execution_count": 20,
   "metadata": {},
   "outputs": [],
   "source": [
    "deposit0 = np.load('./ID242/cvd_void_subDepo_thk100.npy')"
   ]
  },
  {
   "cell_type": "code",
   "execution_count": null,
   "metadata": {},
   "outputs": [],
   "source": [
    "deposit0[20, 50, 30:]"
   ]
  },
  {
   "cell_type": "code",
   "execution_count": 12,
   "metadata": {},
   "outputs": [],
   "source": [
    "from surface_normalize_etching_depo import surface_normal"
   ]
  },
  {
   "cell_type": "code",
   "execution_count": 15,
   "metadata": {},
   "outputs": [],
   "source": [
    "inputMethod='bunch'\n",
    "depo_or_etching='depo'\n",
    "etchingPoint = np.array([center, center, bottom-30])\n",
    "depoPoint = np.array([center, center, bottom-30])\n",
    "density = 10\n",
    "center_with_direction=np.array([[int(etchfilm.shape[0]/2),int(etchfilm.shape[1]/2),150]])\n",
    "range3D=np.array([[0, etchfilm.shape[0], 0, etchfilm.shape[1], 0, etchfilm.shape[2]]])\n",
    "InOrOut=[1]\n",
    "yield_hist=np.array([None])\n",
    "maskTop=40, \n",
    "maskBottom=98, \n",
    "maskStep=10, \n",
    "maskCenter=[int(etchfilm.shape[0]/2), int(etchfilm.shape[1]/2)]\n",
    "backup=False\n",
    "mirrorGap=5\n",
    "reaction_type=False\n",
    "param = [1.6, -0.7]\n",
    "n=1\n",
    "celllength=1e-5\n",
    "kdtreeN=5\n",
    "filmKDTree=np.array([[2, 0], [3, 0]])\n",
    "# filmKDTree=np.array([[2, 1], [3, 1]])\n",
    "weight=0.2\n",
    "tstep=1e-5\n",
    "substrateTop=bottom\n",
    "posGeneratorType='top'"
   ]
  },
  {
   "cell_type": "code",
   "execution_count": 18,
   "metadata": {},
   "outputs": [],
   "source": [
    "surface = surface_normal(center_with_direction, range3D, InOrOut,celllength, tstep, yield_hist,\\\n",
    "                        maskTop, maskBottom, maskStep, maskCenter, backup, filmDensity=10)"
   ]
  },
  {
   "cell_type": "code",
   "execution_count": null,
   "metadata": {},
   "outputs": [],
   "source": [
    "self.planes = self.get_pointcloud(sumFilm)"
   ]
  }
 ],
 "metadata": {
  "kernelspec": {
   "display_name": "base",
   "language": "python",
   "name": "python3"
  },
  "language_info": {
   "codemirror_mode": {
    "name": "ipython",
    "version": 3
   },
   "file_extension": ".py",
   "mimetype": "text/x-python",
   "name": "python",
   "nbconvert_exporter": "python",
   "pygments_lexer": "ipython3",
   "version": "3.12.5"
  }
 },
 "nbformat": 4,
 "nbformat_minor": 2
}

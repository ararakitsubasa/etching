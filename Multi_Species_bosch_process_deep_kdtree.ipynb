{
 "cells": [
  {
   "cell_type": "code",
   "execution_count": 1,
   "metadata": {},
   "outputs": [],
   "source": [
    "import numpy as np\n",
    "import pyvista as pv\n",
    "import torch\n",
    "import sys\n",
    "import matplotlib.pyplot as plt\n",
    "from scipy import interpolate"
   ]
  },
  {
   "cell_type": "code",
   "execution_count": 2,
   "metadata": {},
   "outputs": [],
   "source": [
    "film = np.zeros((100, 100, 1000, 3))\n",
    "\n",
    "bottom = 900\n",
    "height = 940\n",
    "\n",
    "density = 10\n",
    "\n",
    "sphere = np.ones((100, 100, 1000), dtype=bool)\n",
    "\n",
    "radius = 30\n",
    "\n",
    "center = 50\n",
    "for i in range(sphere.shape[0]):\n",
    "    for j in range(sphere.shape[1]):\n",
    "        if np.abs(i-center)*np.abs(i-center) + np.abs(j-center)*np.abs(j-center) < radius*radius:\n",
    "            sphere[i, j, bottom:height] = 0\n",
    "\n",
    "film[sphere, 2] = density\n",
    "film[:, :, height:, :] = 0\n",
    "film[:, :, 0:bottom, 0] = density # bottom\n",
    "film[:, :, 0:bottom, 1] = 0 # bottom\n",
    "film[:, :, 0:bottom, 2] = 0 # bottom\n",
    "# film[:, :30, bottom:height, 1] = 10\n",
    "# film[:, -30:, bottom:height, 1] = 10\n"
   ]
  },
  {
   "cell_type": "code",
   "execution_count": null,
   "metadata": {},
   "outputs": [],
   "source": [
    "depo1 = torch.Tensor(film[:50, :,:, 2]==density).to_sparse()\n",
    "depo1 = depo1.indices().numpy().T\n",
    "\n",
    "substrute = torch.Tensor(film[:50, :,:, 0]==-density).to_sparse()\n",
    "substrute = substrute.indices().numpy().T\n",
    "depomesh = pv.PolyData(depo1)\n",
    "depomesh[\"radius\"] = np.ones(depo1.shape[0])*0.5\n",
    "geom = pv.Box()\n",
    "\n",
    "submesh = pv.PolyData(substrute)\n",
    "submesh[\"radius\"] = np.ones(substrute.shape[0])*0.5\n",
    "\n",
    "# Progress bar is a new feature on master branch\n",
    "depoglyphed = depomesh.glyph(scale=\"radius\", geom=geom) # progress_bar=True)\n",
    "subglyphed = submesh.glyph(scale=\"radius\", geom=geom) # progress_bar=True)\n",
    "\n",
    "p = pv.Plotter()\n",
    "# p.add_mesh(depoglyphed, color='cyan')\n",
    "p.add_mesh(subglyphed, color='dimgray')\n",
    "p.enable_eye_dome_lighting()\n",
    "p.show()"
   ]
  },
  {
   "cell_type": "code",
   "execution_count": null,
   "metadata": {},
   "outputs": [],
   "source": [
    "x_erosion_np = testEtch.parcel[:,:3][1:,1]\n",
    "y_erosion_np = testEtch.parcel[:,:3][1:,2]\n",
    "\n",
    "xbins = np.linspace(-testEtch.parcel[:,:3][:, 1].max()/2,testEtch.parcel[:,:3][:, 1].max()*1.5,200)\n",
    "ybins = np.linspace(-testEtch.parcel[:,:3][:, 2].max()/2,testEtch.parcel[:,:3][:, 2].max()*1.5,200)\n",
    "# ybins = np.linspace(1.815, 2.415, 200)\n",
    "x_bins = np.histogram(x_erosion_np, bins=xbins)\n",
    "y_bins = np.histogram(y_erosion_np, bins=ybins)\n",
    "\n",
    "H, xedges, yedges = np.histogram2d(x_erosion_np, y_erosion_np, bins=(xbins, ybins))\n",
    "\n",
    "\n",
    "fig, ax = plt.subplots(figsize=(8,8))\n",
    "im = ax.imshow(H.T, interpolation='nearest', origin='lower',\n",
    "        extent=[xedges[0], xedges[-1], yedges[0], yedges[-1]])\n",
    "ax.set_title('collision position in trench(side view)')\n",
    "ax.set_xlabel('x')\n",
    "ax.set_ylabel('y')\n",
    "fig.colorbar(im, ax=ax, label='Events')\n",
    "plt.show()"
   ]
  },
  {
   "cell_type": "code",
   "execution_count": null,
   "metadata": {},
   "outputs": [],
   "source": [
    "x_erosion_np = testEtch.parcel[:,6:9][1:,1]\n",
    "y_erosion_np = testEtch.parcel[:,6:9][1:,2]\n",
    "\n",
    "xbins = np.linspace(-testEtch.parcel[:,6:9][:, 1].max()/2,testEtch.parcel[:,6:9][:, 1].max()*1.5,200)\n",
    "ybins = np.linspace(-testEtch.parcel[:,6:9][:, 2].max()/2,testEtch.parcel[:,6:9][:, 2].max()*1.5,200)\n",
    "# ybins = np.linspace(1.815, 2.415, 200)\n",
    "x_bins = np.histogram(x_erosion_np, bins=xbins)\n",
    "y_bins = np.histogram(y_erosion_np, bins=ybins)\n",
    "\n",
    "H, xedges, yedges = np.histogram2d(x_erosion_np, y_erosion_np, bins=(xbins, ybins))\n",
    "\n",
    "\n",
    "fig, ax = plt.subplots(figsize=(8,8))\n",
    "im = ax.imshow(H.T, interpolation='nearest', origin='lower',\n",
    "        extent=[xedges[0], xedges[-1], yedges[0], yedges[-1]])\n",
    "ax.set_title('collision position in trench(side view)')\n",
    "ax.set_xlabel('x')\n",
    "ax.set_ylabel('y')\n",
    "fig.colorbar(im, ax=ax, label='Events')\n",
    "plt.show()"
   ]
  },
  {
   "cell_type": "code",
   "execution_count": 2,
   "metadata": {},
   "outputs": [],
   "source": [
    "film = np.zeros((100, 100, 160, 3))\n",
    "\n",
    "bottom = 100\n",
    "height = 140\n",
    "\n",
    "density = 10\n",
    "\n",
    "sphere = np.ones((100, 100, 160), dtype=bool)\n",
    "\n",
    "radius = 30\n",
    "\n",
    "center = 50\n",
    "for i in range(sphere.shape[0]):\n",
    "    for j in range(sphere.shape[1]):\n",
    "        if np.abs(i-center)*np.abs(i-center) + np.abs(j-center)*np.abs(j-center) < radius*radius:\n",
    "            sphere[i, j, bottom:height] = 0\n",
    "\n",
    "film[sphere, 2] = density\n",
    "film[:, :, height:, :] = 0\n",
    "film[:, :, 0:bottom, 0] = density # bottom\n",
    "film[:, :, 0:bottom, 1] = 0 # bottom\n",
    "film[:, :, 0:bottom, 2] = 0 # bottom"
   ]
  },
  {
   "cell_type": "code",
   "execution_count": 3,
   "metadata": {},
   "outputs": [],
   "source": [
    "etchfilm = film"
   ]
  },
  {
   "cell_type": "code",
   "execution_count": 4,
   "metadata": {},
   "outputs": [],
   "source": [
    "etchfilm = np.load('./bosch_data_1001_ratio08/bosch_sf_stepTest_c4f8.npy')"
   ]
  },
  {
   "cell_type": "code",
   "execution_count": 4,
   "metadata": {},
   "outputs": [],
   "source": [
    "import Multi_Species_bosch_etching_noMirrorSymmtry"
   ]
  },
  {
   "cell_type": "code",
   "execution_count": 5,
   "metadata": {},
   "outputs": [],
   "source": [
    "logname = 'Multi_species_benchmark_0920'\n",
    "testEtch = Multi_Species_bosch_etching_noMirrorSymmtry.etching(inputMethod='bunch', depo_or_etching='etching', \n",
    "                etchingPoint = np.array([center, center, 30]),depoPoint = np.array([center, center, 30]),\n",
    "                density=density, center_with_direction=np.array([[35,100,75]]), \n",
    "                range3D=np.array([[0, 70, 0, 100, 0, 150]]), InOrOut=[1], yield_hist=np.array([None]),\n",
    "                reaction_type=False, param = [1.6, -0.7],\n",
    "                n=1,\n",
    "                celllength=1e-5, kdtreeN=5, filmKDTree=np.array([[2, 0], [3, 1]]), tstep=1e-5,\n",
    "                substrateTop=bottom,posGeneratorType='top', logname=logname)"
   ]
  },
  {
   "cell_type": "code",
   "execution_count": null,
   "metadata": {},
   "outputs": [],
   "source": [
    "step1 = testEtch.inputParticle('maxwell', 0, int(1e4),int(1e7), 10)"
   ]
  },
  {
   "cell_type": "code",
   "execution_count": 12,
   "metadata": {},
   "outputs": [],
   "source": [
    "indice_step1 = etchfilm[:, :, :, 0] >= 9\n",
    "etchfilm[indice_step1, 0] = 10"
   ]
  },
  {
   "cell_type": "code",
   "execution_count": null,
   "metadata": {},
   "outputs": [],
   "source": [
    "step2 = testEtch.inputParticle('maxwell', 1, int(1e4),int(1e7), 10)"
   ]
  },
  {
   "cell_type": "code",
   "execution_count": 14,
   "metadata": {},
   "outputs": [],
   "source": [
    "indice_step2 = etchfilm[:, :, :, 0] < 0\n",
    "etchfilm[indice_step2, 0] = 0"
   ]
  },
  {
   "cell_type": "code",
   "execution_count": null,
   "metadata": {},
   "outputs": [],
   "source": [
    "step3 = testEtch.inputParticle('updown', 2, int(1e4),int(1e7), 10)"
   ]
  },
  {
   "cell_type": "code",
   "execution_count": 7,
   "metadata": {},
   "outputs": [
    {
     "name": "stderr",
     "output_type": "stream",
     "text": [
      "running: 100%|██████████████████████████████████████████████████████| 100/100 [11:28<00:00, 6.89s/B]\n"
     ]
    },
    {
     "name": "stdout",
     "output_type": "stream",
     "text": [
      "parcel: (416095, 10)\n",
      "film: (100, 100, 160, 3)\n"
     ]
    },
    {
     "name": "stderr",
     "output_type": "stream",
     "text": [
      "running: 100%|██████████████████████████████████████████████████████| 100/100 [11:52<00:00, 7.12s/B]\n",
      "running: 100%|██████████████████████████████████████████████████████| 100/100 [06:57<00:00, 4.18s/B]\n",
      "running: 100%|██████████████████████████████████████████████████████| 100/100 [11:47<00:00, 7.08s/B]\n"
     ]
    },
    {
     "name": "stdout",
     "output_type": "stream",
     "text": [
      "parcel: (426095, 10)\n",
      "film: (100, 100, 210, 3)\n"
     ]
    },
    {
     "name": "stderr",
     "output_type": "stream",
     "text": [
      "running: 100%|██████████████████████████████████████████████████████| 100/100 [17:07<00:00, 10.3s/B]\n",
      "running: 100%|██████████████████████████████████████████████████████| 100/100 [12:40<00:00, 7.60s/B]\n",
      "running: 100%|██████████████████████████████████████████████████████| 100/100 [16:34<00:00, 9.94s/B]\n"
     ]
    },
    {
     "name": "stdout",
     "output_type": "stream",
     "text": [
      "parcel: (430640, 10)\n",
      "film: (100, 100, 210, 3)\n"
     ]
    },
    {
     "name": "stderr",
     "output_type": "stream",
     "text": [
      "running: 100%|██████████████████████████████████████████████████████| 100/100 [17:22<00:00, 10.4s/B]\n",
      "running: 100%|██████████████████████████████████████████████████████| 100/100 [13:41<00:00, 8.22s/B]\n",
      "running: 100%|██████████████████████████████████████████████████████| 100/100 [16:47<00:00, 10.1s/B]\n"
     ]
    },
    {
     "name": "stdout",
     "output_type": "stream",
     "text": [
      "parcel: (433815, 10)\n",
      "film: (100, 100, 210, 3)\n"
     ]
    },
    {
     "name": "stderr",
     "output_type": "stream",
     "text": [
      "running: 100%|██████████████████████████████████████████████████████| 100/100 [17:29<00:00, 10.5s/B]\n",
      "running: 100%|██████████████████████████████████████████████████████| 100/100 [14:33<00:00, 8.73s/B]\n",
      "running: 100%|██████████████████████████████████████████████████████| 100/100 [17:02<00:00, 10.2s/B]\n"
     ]
    },
    {
     "name": "stdout",
     "output_type": "stream",
     "text": [
      "parcel: (436749, 10)\n",
      "film: (100, 100, 210, 3)\n"
     ]
    },
    {
     "name": "stderr",
     "output_type": "stream",
     "text": [
      "running: 100%|██████████████████████████████████████████████████████| 100/100 [17:32<00:00, 10.5s/B]\n",
      "running: 100%|██████████████████████████████████████████████████████| 100/100 [14:56<00:00, 8.97s/B]\n",
      "running: 100%|██████████████████████████████████████████████████████| 100/100 [17:05<00:00, 10.3s/B]\n"
     ]
    },
    {
     "name": "stdout",
     "output_type": "stream",
     "text": [
      "parcel: (438404, 10)\n",
      "film: (100, 100, 260, 3)\n"
     ]
    },
    {
     "name": "stderr",
     "output_type": "stream",
     "text": [
      "running: 100%|██████████████████████████████████████████████████████| 100/100 [22:34<00:00, 13.5s/B]\n",
      "running: 100%|██████████████████████████████████████████████████████| 100/100 [18:50<00:00, 11.3s/B]\n",
      "running: 100%|██████████████████████████████████████████████████████| 100/100 [21:40<00:00, 13.0s/B]\n"
     ]
    },
    {
     "name": "stdout",
     "output_type": "stream",
     "text": [
      "parcel: (439413, 10)\n",
      "film: (100, 100, 260, 3)\n"
     ]
    },
    {
     "name": "stderr",
     "output_type": "stream",
     "text": [
      "running: 100%|██████████████████████████████████████████████████████| 100/100 [22:28<00:00, 13.5s/B]\n",
      "running:  50%|██████████████████████████▌                          | 50.0/100 [12:10<12:10, 14.6s/B]\n"
     ]
    },
    {
     "ename": "KeyboardInterrupt",
     "evalue": "",
     "output_type": "error",
     "traceback": [
      "\u001b[1;31m---------------------------------------------------------------------------\u001b[0m",
      "\u001b[1;31mKeyboardInterrupt\u001b[0m                         Traceback (most recent call last)",
      "Cell \u001b[1;32mIn[7], line 28\u001b[0m\n\u001b[0;32m     26\u001b[0m etchfilm[indice_c2, \u001b[38;5;241m1\u001b[39m] \u001b[38;5;241m=\u001b[39m \u001b[38;5;241m10\u001b[39m\n\u001b[0;32m     27\u001b[0m np\u001b[38;5;241m.\u001b[39msave(\u001b[38;5;124m'\u001b[39m\u001b[38;5;124m./bosch_data_1003_ratio08/bosch_sf_step_\u001b[39m\u001b[38;5;132;01m{}\u001b[39;00m\u001b[38;5;124m_c4f8\u001b[39m\u001b[38;5;124m'\u001b[39m\u001b[38;5;241m.\u001b[39mformat(i), etchfilm)\n\u001b[1;32m---> 28\u001b[0m step3 \u001b[38;5;241m=\u001b[39m testEtch\u001b[38;5;241m.\u001b[39minputParticle(etchfilm, parcel, \u001b[38;5;124m'\u001b[39m\u001b[38;5;124mupdown\u001b[39m\u001b[38;5;124m'\u001b[39m, \u001b[38;5;241m2\u001b[39m, \u001b[38;5;28mint\u001b[39m(\u001b[38;5;241m1e4\u001b[39m),\u001b[38;5;28mint\u001b[39m(\u001b[38;5;241m1e7\u001b[39m), \u001b[38;5;241m10\u001b[39m)\n\u001b[0;32m     29\u001b[0m parcel \u001b[38;5;241m=\u001b[39m step3[\u001b[38;5;241m2\u001b[39m]\n\u001b[0;32m     30\u001b[0m indice_c3 \u001b[38;5;241m=\u001b[39m etchfilm[:, :, :, \u001b[38;5;241m1\u001b[39m] \u001b[38;5;241m!=\u001b[39m \u001b[38;5;241m0\u001b[39m\n",
      "File \u001b[1;32md:\\ysy\\etching\\Multi_Species_bosch_etching_noMirrorSymmtry.py:574\u001b[0m, in \u001b[0;36metching.inputParticle\u001b[1;34m(self, film, parcel, velGeneratorType, typeID, inputCount, max_react_count, Zgap)\u001b[0m\n\u001b[0;32m    572\u001b[0m \u001b[38;5;28mself\u001b[39m\u001b[38;5;241m.\u001b[39mcellSizeY \u001b[38;5;241m=\u001b[39m \u001b[38;5;28mself\u001b[39m\u001b[38;5;241m.\u001b[39mfilm\u001b[38;5;241m.\u001b[39mshape[\u001b[38;5;241m1\u001b[39m]\n\u001b[0;32m    573\u001b[0m \u001b[38;5;28mself\u001b[39m\u001b[38;5;241m.\u001b[39mcellSizeZ \u001b[38;5;241m=\u001b[39m \u001b[38;5;28mself\u001b[39m\u001b[38;5;241m.\u001b[39mfilm\u001b[38;5;241m.\u001b[39mshape[\u001b[38;5;241m2\u001b[39m]\n\u001b[1;32m--> 574\u001b[0m result \u001b[38;5;241m=\u001b[39m  \u001b[38;5;28mself\u001b[39m\u001b[38;5;241m.\u001b[39mrunEtch(velGeneratorType, typeID, inputCount, max_react_count, emptyZ\u001b[38;5;241m=\u001b[39mZgap)\n\u001b[0;32m    575\u001b[0m \u001b[38;5;66;03m# if np.any(result[0][:, :, self.depoThick]) != 0:\u001b[39;00m\n\u001b[0;32m    576\u001b[0m \u001b[38;5;66;03m#     break             \u001b[39;00m\n\u001b[0;32m    577\u001b[0m \u001b[38;5;66;03m# del self.log, self.fh \u001b[39;00m\n\u001b[0;32m    578\u001b[0m \u001b[38;5;28;01mreturn\u001b[39;00m result\n",
      "File \u001b[1;32md:\\ysy\\etching\\Multi_Species_bosch_etching_noMirrorSymmtry.py:442\u001b[0m, in \u001b[0;36metching.runEtch\u001b[1;34m(self, velGeneratorType, typeID, inputCount, max_react_count, emptyZ)\u001b[0m\n\u001b[0;32m    439\u001b[0m     typeIDIn[:] \u001b[38;5;241m=\u001b[39m typeID\n\u001b[0;32m    440\u001b[0m     \u001b[38;5;28mself\u001b[39m\u001b[38;5;241m.\u001b[39mParcelgen(p1, v1, typeIDIn)\n\u001b[1;32m--> 442\u001b[0m planes \u001b[38;5;241m=\u001b[39m \u001b[38;5;28mself\u001b[39m\u001b[38;5;241m.\u001b[39mget_pointcloud(np\u001b[38;5;241m.\u001b[39msum(\u001b[38;5;28mself\u001b[39m\u001b[38;5;241m.\u001b[39mfilm, axis\u001b[38;5;241m=\u001b[39m\u001b[38;5;241m-\u001b[39m\u001b[38;5;241m1\u001b[39m))\n\u001b[0;32m    444\u001b[0m \u001b[38;5;28;01mif\u001b[39;00m \u001b[38;5;28mint\u001b[39m(inputAll\u001b[38;5;241m/\u001b[39mmax_react_count\u001b[38;5;241m*\u001b[39m\u001b[38;5;241m100\u001b[39m) \u001b[38;5;241m>\u001b[39m i:\n\u001b[0;32m    445\u001b[0m     Time\u001b[38;5;241m.\u001b[39msleep(\u001b[38;5;241m0.01\u001b[39m)\n",
      "File \u001b[1;32md:\\ysy\\etching\\surface_normalize_sf.py:128\u001b[0m, in \u001b[0;36msurface_normal.get_pointcloud\u001b[1;34m(self, film)\u001b[0m\n\u001b[0;32m    125\u001b[0m cov \u001b[38;5;241m=\u001b[39m np\u001b[38;5;241m.\u001b[39meinsum(\u001b[38;5;124m'\u001b[39m\u001b[38;5;124m...ij,...ik->...jk\u001b[39m\u001b[38;5;124m'\u001b[39m, c, c)\n\u001b[0;32m    127\u001b[0m \u001b[38;5;66;03m# 单值分解 (SVD)\u001b[39;00m\n\u001b[1;32m--> 128\u001b[0m u, s, vh \u001b[38;5;241m=\u001b[39m np\u001b[38;5;241m.\u001b[39mlinalg\u001b[38;5;241m.\u001b[39msvd(cov)\n\u001b[0;32m    130\u001b[0m \u001b[38;5;66;03m# 选择最小特征值对应的特征向量\u001b[39;00m\n\u001b[0;32m    131\u001b[0m minevindex \u001b[38;5;241m=\u001b[39m np\u001b[38;5;241m.\u001b[39margmin(s, axis\u001b[38;5;241m=\u001b[39m\u001b[38;5;241m1\u001b[39m)\n",
      "File \u001b[1;32mc:\\Users\\urcs049\\AppData\\Local\\anaconda3\\Lib\\site-packages\\numpy\\linalg\\linalg.py:1681\u001b[0m, in \u001b[0;36msvd\u001b[1;34m(a, full_matrices, compute_uv, hermitian)\u001b[0m\n\u001b[0;32m   1678\u001b[0m         gufunc \u001b[38;5;241m=\u001b[39m _umath_linalg\u001b[38;5;241m.\u001b[39msvd_n_s\n\u001b[0;32m   1680\u001b[0m signature \u001b[38;5;241m=\u001b[39m \u001b[38;5;124m'\u001b[39m\u001b[38;5;124mD->DdD\u001b[39m\u001b[38;5;124m'\u001b[39m \u001b[38;5;28;01mif\u001b[39;00m isComplexType(t) \u001b[38;5;28;01melse\u001b[39;00m \u001b[38;5;124m'\u001b[39m\u001b[38;5;124md->ddd\u001b[39m\u001b[38;5;124m'\u001b[39m\n\u001b[1;32m-> 1681\u001b[0m u, s, vh \u001b[38;5;241m=\u001b[39m gufunc(a, signature\u001b[38;5;241m=\u001b[39msignature, extobj\u001b[38;5;241m=\u001b[39mextobj)\n\u001b[0;32m   1682\u001b[0m u \u001b[38;5;241m=\u001b[39m u\u001b[38;5;241m.\u001b[39mastype(result_t, copy\u001b[38;5;241m=\u001b[39m\u001b[38;5;28;01mFalse\u001b[39;00m)\n\u001b[0;32m   1683\u001b[0m s \u001b[38;5;241m=\u001b[39m s\u001b[38;5;241m.\u001b[39mastype(_realType(result_t), copy\u001b[38;5;241m=\u001b[39m\u001b[38;5;28;01mFalse\u001b[39;00m)\n",
      "\u001b[1;31mKeyboardInterrupt\u001b[0m: "
     ]
    }
   ],
   "source": [
    "cicle = 100\n",
    "celllength=1e-5\n",
    "parcel = np.array([[95*celllength, 95*celllength, 159*celllength, 0, 0, 1, 95, 95, 159, 0]])\n",
    "\n",
    "for i in range(cicle):\n",
    "    step1 = testEtch.inputParticle(etchfilm, parcel, 'maxwell', 0, int(1e4),int(1e7), 10)\n",
    "    indice_step1 = etchfilm[:, :, :, 0] >= 9\n",
    "    etchfilm[indice_step1, 0] = 10\n",
    "    depth = step1[1] \n",
    "    parcel = step1[2]\n",
    "    print('parcel:', parcel.shape)\n",
    "    if depth < 50:\n",
    "        film = np.zeros((100, 100, etchfilm.shape[2] + 50, 3))\n",
    "        film[:, :, 50:] = etchfilm\n",
    "        film[:, :, :50, 0] = 10\n",
    "        etchfilm = film\n",
    "        parcel[:, 2] += 50*celllength\n",
    "        parcel[:, 8] += 50\n",
    "    print('film:', etchfilm.shape)\n",
    "    np.save('./bosch_data_1003_ratio08/bosch_sf_step_{}_sf'.format(i), etchfilm)\n",
    "    step2 = testEtch.inputParticle(etchfilm, parcel, 'maxwell', 1, int(1e4),int(1e7), 10)\n",
    "    parcel = step2[2]\n",
    "    indice_step2 = etchfilm[:, :, :, 0] < 0\n",
    "    etchfilm[indice_step2, 0] = 0\n",
    "    indice_c2 = etchfilm[:, :, :, 1] != 0\n",
    "    etchfilm[indice_c2, 1] = 10\n",
    "    np.save('./bosch_data_1003_ratio08/bosch_sf_step_{}_c4f8'.format(i), etchfilm)\n",
    "    step3 = testEtch.inputParticle(etchfilm, parcel, 'updown', 2, int(1e4),int(1e7), 10)\n",
    "    parcel = step3[2]\n",
    "    indice_c3 = etchfilm[:, :, :, 1] != 0\n",
    "    etchfilm[indice_c3, 1] = 10\n",
    "    np.save('./bosch_data_1003_ratio08/bosch_sf_step_{}_Ar'.format(i), etchfilm)"
   ]
  },
  {
   "cell_type": "code",
   "execution_count": 32,
   "metadata": {},
   "outputs": [],
   "source": [
    "np.save('./bosch_data_1001_ratio08/bosch_sf_stepTest_c4f8', etchfilm)"
   ]
  },
  {
   "cell_type": "code",
   "execution_count": null,
   "metadata": {},
   "outputs": [],
   "source": [
    "etchfilm[50, 50, 55:75]"
   ]
  },
  {
   "cell_type": "code",
   "execution_count": null,
   "metadata": {},
   "outputs": [],
   "source": [
    "etchfilm[50, 50, 55:75]"
   ]
  },
  {
   "cell_type": "code",
   "execution_count": 10,
   "metadata": {},
   "outputs": [],
   "source": [
    "indice_c4 = etchfilm[:, :, :, 1] != 0\n",
    "etchfilm[indice_c4, 1] = 10"
   ]
  },
  {
   "cell_type": "code",
   "execution_count": 20,
   "metadata": {},
   "outputs": [],
   "source": [
    "indice_c4 = etchfilm[:, :, :, 0] < 1\n",
    "etchfilm[indice_c4, 0] = 0"
   ]
  },
  {
   "cell_type": "code",
   "execution_count": null,
   "metadata": {},
   "outputs": [],
   "source": [
    "step3 = testEtch.inputParticle('updown', 2, int(2e4),int(3e6), 10)"
   ]
  },
  {
   "cell_type": "code",
   "execution_count": null,
   "metadata": {},
   "outputs": [],
   "source": [
    "etchfilm.shape"
   ]
  },
  {
   "cell_type": "code",
   "execution_count": null,
   "metadata": {},
   "outputs": [],
   "source": [
    "depo1 = torch.Tensor(etchfilm[:50, :, :, 1]>0).to_sparse()\n",
    "depo1 = depo1.indices().numpy().T\n",
    "\n",
    "substrute = torch.Tensor(etchfilm[:50, :, :,0]!=0).to_sparse()\n",
    "substrute = substrute.indices().numpy().T\n",
    "\n",
    "mask = torch.Tensor(etchfilm[:50, :, :,2]!=0).to_sparse()\n",
    "mask = mask.indices().numpy().T\n",
    "\n",
    "maskmesh = pv.PolyData(mask)\n",
    "maskmesh[\"radius\"] = np.ones(mask.shape[0])*0.5\n",
    "\n",
    "depomesh = pv.PolyData(depo1)\n",
    "depomesh[\"radius\"] = np.ones(depo1.shape[0])*0.5\n",
    "geom = pv.Box()\n",
    "\n",
    "submesh = pv.PolyData(substrute)\n",
    "submesh[\"radius\"] = np.ones(substrute.shape[0])*0.5\n",
    "\n",
    "# Progress bar is a new feature on master branch\n",
    "maskglyphed = maskmesh.glyph(scale=\"radius\", geom=geom) # progress_bar=True)\n",
    "depoglyphed = depomesh.glyph(scale=\"radius\", geom=geom) # progress_bar=True)\n",
    "subglyphed = submesh.glyph(scale=\"radius\", geom=geom) # progress_bar=True)\n",
    "\n",
    "p = pv.Plotter()\n",
    "p.add_mesh(maskglyphed, color='green')\n",
    "p.add_mesh(depoglyphed, color='cyan')\n",
    "p.add_mesh(subglyphed, color='dimgray')\n",
    "p.enable_eye_dome_lighting()\n",
    "p.show()"
   ]
  },
  {
   "cell_type": "code",
   "execution_count": null,
   "metadata": {},
   "outputs": [],
   "source": [
    "cicle = 100\n",
    "\n",
    "for i in range(cicle):\n",
    "    step1 = testEtch.inputParticle('maxwell', 0, int(7e4),int(5e7), 10)\n",
    "    depth = bottom - step1[1] \n",
    "    np.save('./bosch_data_1001_ratio08/bosch_sf_step_{}_sf'.format(i), etchfilm)\n",
    "    step2 = testEtch.inputParticle('maxwell', 1, int(3e4),int(2e7), 10)\n",
    "    indice_c4 = etchfilm[:, :, :, 1] >= 10\n",
    "    etchfilm[indice_c4, 1] = 10\n",
    "    np.save('./bosch_data_1001_ratio08/bosch_sf_step_{}_c4f8'.format(i), etchfilm)\n",
    "    step3 = testEtch.inputParticle('updown', 2, int(2e4),int(4e6)+int(depth/(3e6/2e4)*3e6), 10)\n",
    "    np.save('./bosch_data_1001_ratio08/bosch_sf_step_{}_Ar'.format(i), etchfilm)"
   ]
  },
  {
   "cell_type": "code",
   "execution_count": 13,
   "metadata": {},
   "outputs": [],
   "source": [
    "np.save('bosch_sf_step11', etchfilm)"
   ]
  },
  {
   "cell_type": "code",
   "execution_count": 24,
   "metadata": {},
   "outputs": [],
   "source": [
    "etching = np.load('./bosch_data/bosch_sf_step_0_sf.npy')"
   ]
  },
  {
   "cell_type": "code",
   "execution_count": 29,
   "metadata": {},
   "outputs": [],
   "source": [
    "etching = np.load('./bosch_data/bosch_sf_step_0_c4f8.npy')"
   ]
  },
  {
   "cell_type": "code",
   "execution_count": 27,
   "metadata": {},
   "outputs": [],
   "source": [
    "etching = np.load('./bosch_data/bosch_sf_step_0_Ar.npy')"
   ]
  },
  {
   "cell_type": "code",
   "execution_count": null,
   "metadata": {},
   "outputs": [],
   "source": [
    "depo1 = torch.Tensor(etching[:, :, bottom-50:, 1]!=0).to_sparse()\n",
    "depo1 = depo1.indices().numpy().T\n",
    "\n",
    "substrute = torch.Tensor(etching[:, :, bottom-50:,0]!=0).to_sparse()\n",
    "substrute = substrute.indices().numpy().T\n",
    "depomesh = pv.PolyData(depo1)\n",
    "depomesh[\"radius\"] = np.ones(depo1.shape[0])*0.5\n",
    "geom = pv.Box()\n",
    "\n",
    "submesh = pv.PolyData(substrute)\n",
    "submesh[\"radius\"] = np.ones(substrute.shape[0])*0.5\n",
    "\n",
    "# Progress bar is a new feature on master branch\n",
    "depoglyphed = depomesh.glyph(scale=\"radius\", geom=geom) # progress_bar=True)\n",
    "subglyphed = submesh.glyph(scale=\"radius\", geom=geom) # progress_bar=True)\n",
    "\n",
    "p = pv.Plotter()\n",
    "p.add_mesh(depoglyphed, color='cyan')\n",
    "p.add_mesh(subglyphed, color='dimgray')\n",
    "p.enable_eye_dome_lighting()\n",
    "p.show()"
   ]
  },
  {
   "cell_type": "code",
   "execution_count": null,
   "metadata": {},
   "outputs": [],
   "source": [
    "depo1 = torch.Tensor(etching[:, :50, bottom-200:bottom+50, 1]!=0).to_sparse()\n",
    "depo1 = depo1.indices().numpy().T\n",
    "\n",
    "substrute = torch.Tensor(etching[:, :50, bottom-200:bottom+50,0]!=0).to_sparse()\n",
    "substrute = substrute.indices().numpy().T\n",
    "depomesh = pv.PolyData(depo1)\n",
    "depomesh[\"radius\"] = np.ones(depo1.shape[0])*0.5\n",
    "geom = pv.Box()\n",
    "\n",
    "submesh = pv.PolyData(substrute)\n",
    "submesh[\"radius\"] = np.ones(substrute.shape[0])*0.5\n",
    "\n",
    "# Progress bar is a new feature on master branch\n",
    "depoglyphed = depomesh.glyph(scale=\"radius\", geom=geom) # progress_bar=True)\n",
    "subglyphed = submesh.glyph(scale=\"radius\", geom=geom) # progress_bar=True)\n",
    "\n",
    "p = pv.Plotter()\n",
    "p.add_mesh(depoglyphed, color='cyan')\n",
    "p.add_mesh(subglyphed, color='dimgray')\n",
    "p.enable_eye_dome_lighting()\n",
    "p.show()"
   ]
  },
  {
   "cell_type": "code",
   "execution_count": null,
   "metadata": {},
   "outputs": [],
   "source": [
    "depo1 = torch.Tensor(etching[:, :, bottom-400:bottom-200, 1]!=0).to_sparse()\n",
    "depo1 = depo1.indices().numpy().T\n",
    "\n",
    "substrute = torch.Tensor(etching[:, :, bottom-400:bottom-200,0]!=0).to_sparse()\n",
    "substrute = substrute.indices().numpy().T\n",
    "depomesh = pv.PolyData(depo1)\n",
    "depomesh[\"radius\"] = np.ones(depo1.shape[0])*0.5\n",
    "geom = pv.Box()\n",
    "\n",
    "submesh = pv.PolyData(substrute)\n",
    "submesh[\"radius\"] = np.ones(substrute.shape[0])*0.5\n",
    "\n",
    "# Progress bar is a new feature on master branch\n",
    "depoglyphed = depomesh.glyph(scale=\"radius\", geom=geom) # progress_bar=True)\n",
    "subglyphed = submesh.glyph(scale=\"radius\", geom=geom) # progress_bar=True)\n",
    "\n",
    "p = pv.Plotter()\n",
    "p.add_mesh(depoglyphed, color='cyan')\n",
    "p.add_mesh(subglyphed, color='dimgray')\n",
    "p.enable_eye_dome_lighting()\n",
    "p.show()"
   ]
  },
  {
   "cell_type": "code",
   "execution_count": null,
   "metadata": {},
   "outputs": [],
   "source": [
    "depo1 = torch.Tensor(etching[:, :75, bottom-400:bottom-200, 1]!=0).to_sparse()\n",
    "depo1 = depo1.indices().numpy().T\n",
    "\n",
    "substrute = torch.Tensor(etching[:, :75, bottom-400:bottom-200,0]!=0).to_sparse()\n",
    "substrute = substrute.indices().numpy().T\n",
    "depomesh = pv.PolyData(depo1)\n",
    "depomesh[\"radius\"] = np.ones(depo1.shape[0])*0.5\n",
    "geom = pv.Box()\n",
    "\n",
    "submesh = pv.PolyData(substrute)\n",
    "submesh[\"radius\"] = np.ones(substrute.shape[0])*0.5\n",
    "\n",
    "# Progress bar is a new feature on master branch\n",
    "depoglyphed = depomesh.glyph(scale=\"radius\", geom=geom) # progress_bar=True)\n",
    "subglyphed = submesh.glyph(scale=\"radius\", geom=geom) # progress_bar=True)\n",
    "\n",
    "p = pv.Plotter()\n",
    "p.add_mesh(depoglyphed, color='cyan')\n",
    "p.add_mesh(subglyphed, color='dimgray')\n",
    "p.enable_eye_dome_lighting()\n",
    "p.show()"
   ]
  },
  {
   "cell_type": "code",
   "execution_count": null,
   "metadata": {},
   "outputs": [],
   "source": []
  }
 ],
 "metadata": {
  "kernelspec": {
   "display_name": "Python 3",
   "language": "python",
   "name": "python3"
  },
  "language_info": {
   "codemirror_mode": {
    "name": "ipython",
    "version": 3
   },
   "file_extension": ".py",
   "mimetype": "text/x-python",
   "name": "python",
   "nbconvert_exporter": "python",
   "pygments_lexer": "ipython3",
   "version": "3.12.5"
  }
 },
 "nbformat": 4,
 "nbformat_minor": 2
}

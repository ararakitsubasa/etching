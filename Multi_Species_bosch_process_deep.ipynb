{
 "cells": [
  {
   "cell_type": "code",
   "execution_count": 1,
   "metadata": {},
   "outputs": [],
   "source": [
    "import numpy as np\n",
    "import pyvista as pv\n",
    "import torch\n",
    "import sys"
   ]
  },
  {
   "cell_type": "code",
   "execution_count": 2,
   "metadata": {},
   "outputs": [],
   "source": [
    "# 定义字节到 MB 和 GB 的转换函数\n",
    "def convert_size(size_bytes):\n",
    "    if size_bytes == 0:\n",
    "        return \"0B\"\n",
    "    size_name = (\"B\", \"KB\", \"MB\", \"GB\", \"TB\")\n",
    "    i = int((size_bytes).bit_length() // 10)  # 根据大小选择合适的单位\n",
    "    p = 1024 ** i\n",
    "    size = round(size_bytes / p, 2)\n",
    "    return f\"{size} {size_name[i]}\""
   ]
  },
  {
   "cell_type": "code",
   "execution_count": 2,
   "metadata": {},
   "outputs": [],
   "source": [
    "film = np.zeros((100, 100, 1000, 3))\n",
    "\n",
    "bottom = 900\n",
    "height = 940\n",
    "\n",
    "density = 10\n",
    "\n",
    "sphere = np.ones((100, 100, 1000), dtype=bool)\n",
    "\n",
    "radius = 30\n",
    "\n",
    "center = 50\n",
    "for i in range(sphere.shape[0]):\n",
    "    for j in range(sphere.shape[1]):\n",
    "        if np.abs(i-center)*np.abs(i-center) + np.abs(j-center)*np.abs(j-center) < radius*radius:\n",
    "            sphere[i, j, bottom:height] = 0\n",
    "\n",
    "film[sphere, 2] = density\n",
    "film[:, :, height:, :] = 0\n",
    "film[:, :, 0:bottom, 0] = density # bottom\n",
    "film[:, :, 0:bottom, 1] = 0 # bottom\n",
    "film[:, :, 0:bottom, 2] = 0 # bottom\n",
    "# film[:, :30, bottom:height, 1] = 10\n",
    "# film[:, -30:, bottom:height, 1] = 10\n"
   ]
  },
  {
   "cell_type": "code",
   "execution_count": null,
   "metadata": {},
   "outputs": [],
   "source": [
    "depo1 = torch.Tensor(film[:50, :, bottom-200:bottom+50, 2]!=0).to_sparse()\n",
    "depo1 = depo1.indices().numpy().T\n",
    "\n",
    "substrute = torch.Tensor(film[:50, :, bottom-200:bottom+50,0]!=0).to_sparse()\n",
    "substrute = substrute.indices().numpy().T\n",
    "depomesh = pv.PolyData(depo1)\n",
    "depomesh[\"radius\"] = np.ones(depo1.shape[0])*0.5\n",
    "geom = pv.Box()\n",
    "\n",
    "submesh = pv.PolyData(substrute)\n",
    "submesh[\"radius\"] = np.ones(substrute.shape[0])*0.5\n",
    "\n",
    "# Progress bar is a new feature on master branch\n",
    "depoglyphed = depomesh.glyph(scale=\"radius\", geom=geom) # progress_bar=True)\n",
    "subglyphed = submesh.glyph(scale=\"radius\", geom=geom) # progress_bar=True)\n",
    "\n",
    "p = pv.Plotter()\n",
    "p.add_mesh(depoglyphed, color='cyan')\n",
    "p.add_mesh(subglyphed, color='dimgray')\n",
    "p.enable_eye_dome_lighting()\n",
    "p.show()"
   ]
  },
  {
   "cell_type": "code",
   "execution_count": 8,
   "metadata": {},
   "outputs": [],
   "source": [
    "film = np.zeros((100, 100, 200, 3))\n",
    "\n",
    "bottom = 100\n",
    "height = 140\n",
    "\n",
    "density = 10\n",
    "\n",
    "sphere = np.ones((100, 100, 200), dtype=bool)\n",
    "\n",
    "radius = 30\n",
    "\n",
    "center = 50\n",
    "for i in range(sphere.shape[0]):\n",
    "    for j in range(sphere.shape[1]):\n",
    "        if np.abs(i-center)*np.abs(i-center) + np.abs(j-center)*np.abs(j-center) < radius*radius:\n",
    "            sphere[i, j, bottom:height] = 0\n",
    "\n",
    "film[sphere, 2] = density\n",
    "film[:, :, height:, :] = 0\n",
    "film[:, :, 0:bottom, 0] = density # bottom\n",
    "film[:, :, 0:bottom, 1] = 0 # bottom\n",
    "film[:, :, 0:bottom, 2] = 0 # bottom"
   ]
  },
  {
   "cell_type": "code",
   "execution_count": null,
   "metadata": {},
   "outputs": [],
   "source": [
    "size_in_bytes = sys.getsizeof(film)  # 获取对象大小\n",
    "print(f\"Size of variable: {convert_size(size_in_bytes)}\")"
   ]
  },
  {
   "cell_type": "code",
   "execution_count": 3,
   "metadata": {},
   "outputs": [],
   "source": [
    "etchfilm = film"
   ]
  },
  {
   "cell_type": "code",
   "execution_count": 12,
   "metadata": {},
   "outputs": [],
   "source": [
    "etchfilm = np.load('./bosch_data_0924/bosch_sf_step_0_c4f8.npy')"
   ]
  },
  {
   "cell_type": "code",
   "execution_count": 4,
   "metadata": {},
   "outputs": [],
   "source": [
    "import Multi_Species_bosch_etching_noMirrorSymmtry"
   ]
  },
  {
   "cell_type": "code",
   "execution_count": 5,
   "metadata": {},
   "outputs": [],
   "source": [
    "logname = 'Multi_species_benchmark_0920'\n",
    "testEtch = Multi_Species_bosch_etching_noMirrorSymmtry.etching(inputMethod='bunch', depo_or_etching='etching', \n",
    "                etchingPoint = np.array([center, center, 37]),depoPoint = np.array([center, center, 37]),\n",
    "                density=density, center_with_direction=np.array([[35,100,75]]), \n",
    "                range3D=np.array([[0, 70, 0, 100, 0, 150]]), InOrOut=[1], yield_hist=np.array([None]),\n",
    "                reaction_type=False, param = [1.6, -0.7],\n",
    "                sub_xy=[0,0], film=etchfilm, n=1, cellSize=etchfilm.shape, \n",
    "                celllength=1e-5, kdtreeN=5, tstep=1e-5,\n",
    "                substrateTop=bottom,posGeneratorType='top', logname=logname)"
   ]
  },
  {
   "cell_type": "code",
   "execution_count": 14,
   "metadata": {},
   "outputs": [],
   "source": [
    "# cicle = 100\n",
    "\n",
    "# for i in range(cicle):\n",
    "#     step1 = testEtch.inputParticle('maxwell', 0, int(2e4),int(4e7), 10)\n",
    "#     depth = bottom - step1[1] \n",
    "#     np.save('./bosch_data_0921/bosch_sf_step_{}_sf'.format(i), etchfilm)\n",
    "#     step2 = testEtch.inputParticle('maxwell', 1, int(2e4),int(1e7), 10)\n",
    "#     indice_c4 = etchfilm[:, :, :, 1] >= 10\n",
    "#     etchfilm[indice_c4, 1] = 10\n",
    "#     np.save('./bosch_data_0921/bosch_sf_step_{}_c4f8'.format(i), etchfilm)\n",
    "#     step3 = testEtch.inputParticle('updown', 2, int(2e4),int(4e6)+int(depth/(4e6/2e4)*4e6), 10)\n",
    "#     np.save('./bosch_data_0921/bosch_sf_step_{}_Ar'.format(i), etchfilm)"
   ]
  },
  {
   "cell_type": "code",
   "execution_count": null,
   "metadata": {},
   "outputs": [],
   "source": [
    "step3 = testEtch.inputParticle('updown', 2, int(2e4),int(3e6), 10)"
   ]
  },
  {
   "cell_type": "code",
   "execution_count": null,
   "metadata": {},
   "outputs": [],
   "source": [
    "depo1 = torch.Tensor(etchfilm[:50, :, bottom-100:bottom+10, 1]!=0).to_sparse()\n",
    "depo1 = depo1.indices().numpy().T\n",
    "\n",
    "substrute = torch.Tensor(etchfilm[:50, :, bottom-100:bottom+10,0]!=0).to_sparse()\n",
    "substrute = substrute.indices().numpy().T\n",
    "\n",
    "mask = torch.Tensor(etchfilm[:50, :, bottom-100:bottom+10,2]!=0).to_sparse()\n",
    "mask = mask.indices().numpy().T\n",
    "\n",
    "maskmesh = pv.PolyData(mask)\n",
    "maskmesh[\"radius\"] = np.ones(mask.shape[0])*0.5\n",
    "\n",
    "depomesh = pv.PolyData(depo1)\n",
    "depomesh[\"radius\"] = np.ones(depo1.shape[0])*0.5\n",
    "geom = pv.Box()\n",
    "\n",
    "submesh = pv.PolyData(substrute)\n",
    "submesh[\"radius\"] = np.ones(substrute.shape[0])*0.5\n",
    "\n",
    "# Progress bar is a new feature on master branch\n",
    "maskglyphed = maskmesh.glyph(scale=\"radius\", geom=geom) # progress_bar=True)\n",
    "depoglyphed = depomesh.glyph(scale=\"radius\", geom=geom) # progress_bar=True)\n",
    "subglyphed = submesh.glyph(scale=\"radius\", geom=geom) # progress_bar=True)\n",
    "\n",
    "p = pv.Plotter()\n",
    "p.add_mesh(maskglyphed, color='green')\n",
    "p.add_mesh(depoglyphed, color='cyan')\n",
    "p.add_mesh(subglyphed, color='dimgray')\n",
    "p.enable_eye_dome_lighting()\n",
    "p.show()"
   ]
  },
  {
   "cell_type": "code",
   "execution_count": 6,
   "metadata": {},
   "outputs": [
    {
     "name": "stderr",
     "output_type": "stream",
     "text": [
      "running: 100%|██████████████████████████████████████████████████████| 100/100 [36:59<00:00, 22.2s/B]\n",
      "running: 100%|██████████████████████████████████████████████████████| 100/100 [23:15<00:00, 14.0s/B]\n",
      "running: 100%|██████████████████████████████████████████████████████| 100/100 [05:48<00:00, 3.49s/B]\n",
      "running: 100%|██████████████████████████████████████████████████████| 100/100 [40:18<00:00, 24.2s/B]\n",
      "running: 100%|██████████████████████████████████████████████████████| 100/100 [26:13<00:00, 15.7s/B]\n",
      "running: 100%|██████████████████████████████████████████████████████| 100/100 [07:46<00:00, 4.66s/B]\n",
      "running: 100%|██████████████████████████████████████████████████████| 100/100 [44:26<00:00, 26.7s/B]\n",
      "running: 100%|██████████████████████████████████████████████████████| 100/100 [29:09<00:00, 17.5s/B]\n",
      "running: 100%|██████████████████████████████████████████████████████| 100/100 [09:46<00:00, 5.86s/B]\n",
      "running: 100%|██████████████████████████████████████████████████████| 100/100 [47:31<00:00, 28.5s/B]\n",
      "running: 100%|██████████████████████████████████████████████████████| 100/100 [31:40<00:00, 19.0s/B]\n",
      "running: 100%|██████████████████████████████████████████████████████| 100/100 [12:19<00:00, 7.40s/B]\n",
      "running: 100%|██████████████████████████████████████████████████████| 100/100 [49:19<00:00, 29.6s/B]\n",
      "running: 100%|██████████████████████████████████████████████████████| 100/100 [34:02<00:00, 20.4s/B]\n",
      "running: 100%|██████████████████████████████████████████████████████| 100/100 [13:25<00:00, 8.05s/B]\n",
      "running: 100%|██████████████████████████████████████████████████████| 100/100 [51:32<00:00, 30.9s/B]\n",
      "running: 100%|██████████████████████████████████████████████████████| 100/100 [35:44<00:00, 21.4s/B]\n",
      "running: 100%|██████████████████████████████████████████████████████| 100/100 [14:45<00:00, 8.86s/B]\n",
      "running: 100%|██████████████████████████████████████████████████████| 100/100 [53:25<00:00, 32.1s/B]\n",
      "running: 100%|██████████████████████████████████████████████████████| 100/100 [37:44<00:00, 22.6s/B]\n",
      "running: 100%|██████████████████████████████████████████████████████| 100/100 [16:36<00:00, 9.96s/B]\n",
      "running: 100%|██████████████████████████████████████████████████████| 100/100 [55:18<00:00, 33.2s/B]\n",
      "running: 100%|██████████████████████████████████████████████████████| 100/100 [39:54<00:00, 23.9s/B]\n",
      "running: 100%|██████████████████████████████████████████████████████| 100/100 [18:37<00:00, 11.2s/B]\n",
      "running: 100%|██████████████████████████████████████████████████████| 100/100 [57:16<00:00, 34.4s/B]\n",
      "running: 100%|██████████████████████████████████████████████████████| 100/100 [41:38<00:00, 25.0s/B]\n",
      "running: 100%|██████████████████████████████████████████████████████| 100/100 [19:56<00:00, 12.0s/B]\n",
      "running: 100%|██████████████████████████████████████████████████████| 100/100 [59:13<00:00, 35.5s/B]\n",
      "running: 100%|██████████████████████████████████████████████████████| 100/100 [43:10<00:00, 25.9s/B]\n",
      "running: 100%|██████████████████████████████████████████████████████| 100/100 [22:21<00:00, 13.4s/B]\n",
      "running: 100%|████████████████████████████████████████████████████| 100/100 [1:01:08<00:00, 36.7s/B]\n",
      "running: 100%|██████████████████████████████████████████████████████| 100/100 [45:32<00:00, 27.3s/B]\n",
      "running: 100%|██████████████████████████████████████████████████████| 100/100 [27:48<00:00, 16.7s/B]\n",
      "running: 100%|████████████████████████████████████████████████████| 100/100 [1:03:30<00:00, 38.1s/B]\n",
      "running: 100%|██████████████████████████████████████████████████████| 100/100 [47:22<00:00, 28.4s/B]\n",
      "running: 100%|██████████████████████████████████████████████████████| 100/100 [29:15<00:00, 17.6s/B]\n",
      "running: 100%|████████████████████████████████████████████████████| 100/100 [1:05:44<00:00, 39.4s/B]\n",
      "running: 100%|██████████████████████████████████████████████████████| 100/100 [49:08<00:00, 29.5s/B]\n",
      "running: 100%|██████████████████████████████████████████████████████| 100/100 [30:29<00:00, 18.3s/B]\n",
      "running: 100%|████████████████████████████████████████████████████| 100/100 [1:07:30<00:00, 40.5s/B]\n",
      "running: 100%|██████████████████████████████████████████████████████| 100/100 [51:16<00:00, 30.8s/B]\n",
      "running: 100%|██████████████████████████████████████████████████████| 100/100 [31:45<00:00, 19.1s/B]\n",
      "running: 100%|████████████████████████████████████████████████████| 100/100 [1:09:25<00:00, 41.7s/B]\n",
      "running: 100%|██████████████████████████████████████████████████████| 100/100 [52:17<00:00, 31.4s/B]\n",
      "running: 100%|██████████████████████████████████████████████████████| 100/100 [34:49<00:00, 20.9s/B]\n",
      "running: 100%|████████████████████████████████████████████████████| 100/100 [1:11:23<00:00, 42.8s/B]\n",
      "running: 100%|██████████████████████████████████████████████████████| 100/100 [54:26<00:00, 32.7s/B]\n",
      "running: 100%|██████████████████████████████████████████████████████| 100/100 [36:30<00:00, 21.9s/B]\n",
      "running: 100%|████████████████████████████████████████████████████| 100/100 [1:13:11<00:00, 43.9s/B]\n",
      "running: 100%|██████████████████████████████████████████████████████| 100/100 [56:04<00:00, 33.6s/B]\n",
      "running: 100%|██████████████████████████████████████████████████████| 100/100 [37:37<00:00, 22.6s/B]\n",
      "running: 100%|████████████████████████████████████████████████████| 100/100 [1:15:10<00:00, 45.1s/B]\n",
      "running: 100%|██████████████████████████████████████████████████████| 100/100 [57:54<00:00, 34.7s/B]\n",
      "running: 100%|██████████████████████████████████████████████████████| 100/100 [44:17<00:00, 26.6s/B]\n",
      "running: 100%|████████████████████████████████████████████████████| 100/100 [1:17:01<00:00, 46.2s/B]\n",
      "running: 100%|██████████████████████████████████████████████████████| 100/100 [59:58<00:00, 36.0s/B]\n",
      "running: 100%|██████████████████████████████████████████████████████| 100/100 [45:46<00:00, 27.5s/B]\n",
      "running: 100%|████████████████████████████████████████████████████| 100/100 [1:19:09<00:00, 47.5s/B]\n",
      "running: 100%|████████████████████████████████████████████████████| 100/100 [1:01:54<00:00, 37.1s/B]\n",
      "running: 100%|██████████████████████████████████████████████████████| 100/100 [47:14<00:00, 28.3s/B]\n",
      "running: 100%|████████████████████████████████████████████████████| 100/100 [1:20:46<00:00, 48.5s/B]\n",
      "running: 100%|████████████████████████████████████████████████████| 100/100 [1:04:04<00:00, 38.4s/B]\n",
      "running: 100%|██████████████████████████████████████████████████████| 100/100 [48:52<00:00, 29.3s/B]\n",
      "running: 100%|████████████████████████████████████████████████████| 100/100 [1:22:48<00:00, 49.7s/B]\n",
      "running: 100%|████████████████████████████████████████████████████| 100/100 [1:04:54<00:00, 38.9s/B]\n",
      "running: 100%|██████████████████████████████████████████████████████| 100/100 [50:02<00:00, 30.0s/B]\n",
      "running: 100%|████████████████████████████████████████████████████| 100/100 [1:24:25<00:00, 50.7s/B]\n",
      "running: 100%|████████████████████████████████████████████████████| 100/100 [1:06:39<00:00, 40.0s/B]\n",
      "running: 100%|██████████████████████████████████████████████████████| 100/100 [51:16<00:00, 30.8s/B]\n",
      "running: 100%|████████████████████████████████████████████████████| 100/100 [1:26:13<00:00, 51.7s/B]\n",
      "running: 100%|████████████████████████████████████████████████████| 100/100 [1:08:47<00:00, 41.3s/B]\n",
      "running: 100%|██████████████████████████████████████████████████████| 100/100 [54:39<00:00, 32.8s/B]\n",
      "running: 100%|████████████████████████████████████████████████████| 100/100 [1:28:12<00:00, 52.9s/B]\n",
      "running: 100%|████████████████████████████████████████████████████| 100/100 [1:10:22<00:00, 42.2s/B]\n",
      "running: 100%|██████████████████████████████████████████████████████| 100/100 [56:17<00:00, 33.8s/B]\n",
      "running: 100%|████████████████████████████████████████████████████| 100/100 [1:30:20<00:00, 54.2s/B]\n",
      "running: 100%|████████████████████████████████████████████████████| 100/100 [1:12:07<00:00, 43.3s/B]\n",
      "running: 100%|██████████████████████████████████████████████████████| 100/100 [58:14<00:00, 34.9s/B]\n",
      "running: 100%|████████████████████████████████████████████████████| 100/100 [1:32:03<00:00, 55.2s/B]\n",
      "running: 100%|████████████████████████████████████████████████████| 100/100 [1:14:00<00:00, 44.4s/B]\n",
      "running: 100%|████████████████████████████████████████████████████| 100/100 [1:00:16<00:00, 36.2s/B]\n",
      "running: 100%|████████████████████████████████████████████████████| 100/100 [1:34:18<00:00, 56.6s/B]\n",
      "running: 100%|████████████████████████████████████████████████████| 100/100 [1:15:30<00:00, 45.3s/B]\n",
      "running: 100%|████████████████████████████████████████████████████| 100/100 [1:03:31<00:00, 38.1s/B]\n",
      "running: 100%|████████████████████████████████████████████████████| 100/100 [1:35:45<00:00, 57.5s/B]\n",
      "running: 100%|████████████████████████████████████████████████████| 100/100 [1:17:23<00:00, 46.4s/B]\n",
      "running: 100%|████████████████████████████████████████████████████| 100/100 [1:04:57<00:00, 39.0s/B]\n",
      "running: 100%|████████████████████████████████████████████████████| 100/100 [1:37:22<00:00, 58.4s/B]\n",
      "running: 100%|████████████████████████████████████████████████████| 100/100 [1:19:07<00:00, 47.5s/B]\n",
      "running: 100%|████████████████████████████████████████████████████| 100/100 [1:07:44<00:00, 40.6s/B]\n",
      "running: 100%|████████████████████████████████████████████████████| 100/100 [1:39:19<00:00, 59.6s/B]\n",
      "running: 100%|████████████████████████████████████████████████████| 100/100 [1:20:30<00:00, 48.3s/B]\n",
      "running: 100%|████████████████████████████████████████████████████| 100/100 [1:09:32<00:00, 41.7s/B]\n",
      "running: 100%|████████████████████████████████████████████████████| 100/100 [1:41:18<00:00, 60.8s/B]\n",
      "running: 100%|████████████████████████████████████████████████████| 100/100 [1:22:18<00:00, 49.4s/B]\n",
      "running: 100%|████████████████████████████████████████████████████| 100/100 [1:13:47<00:00, 44.3s/B]\n",
      "running:  47%|████████████████████████▉                            | 47.0/100 [46:32<52:28, 59.4s/B]\n"
     ]
    },
    {
     "ename": "KeyboardInterrupt",
     "evalue": "",
     "output_type": "error",
     "traceback": [
      "\u001b[1;31m---------------------------------------------------------------------------\u001b[0m",
      "\u001b[1;31mKeyboardInterrupt\u001b[0m                         Traceback (most recent call last)",
      "Cell \u001b[1;32mIn[6], line 4\u001b[0m\n\u001b[0;32m      1\u001b[0m cicle \u001b[38;5;241m=\u001b[39m \u001b[38;5;241m100\u001b[39m\n\u001b[0;32m      3\u001b[0m \u001b[38;5;28;01mfor\u001b[39;00m i \u001b[38;5;129;01min\u001b[39;00m \u001b[38;5;28mrange\u001b[39m(cicle):\n\u001b[1;32m----> 4\u001b[0m     step1 \u001b[38;5;241m=\u001b[39m testEtch\u001b[38;5;241m.\u001b[39minputParticle(\u001b[38;5;124m'\u001b[39m\u001b[38;5;124mmaxwell\u001b[39m\u001b[38;5;124m'\u001b[39m, \u001b[38;5;241m0\u001b[39m, \u001b[38;5;28mint\u001b[39m(\u001b[38;5;241m7e4\u001b[39m),\u001b[38;5;28mint\u001b[39m(\u001b[38;5;241m5e7\u001b[39m), \u001b[38;5;241m10\u001b[39m)\n\u001b[0;32m      5\u001b[0m     depth \u001b[38;5;241m=\u001b[39m bottom \u001b[38;5;241m-\u001b[39m step1[\u001b[38;5;241m1\u001b[39m] \n\u001b[0;32m      6\u001b[0m     np\u001b[38;5;241m.\u001b[39msave(\u001b[38;5;124m'\u001b[39m\u001b[38;5;124m./bosch_data_0926_ratio08/bosch_sf_step_\u001b[39m\u001b[38;5;132;01m{}\u001b[39;00m\u001b[38;5;124m_sf\u001b[39m\u001b[38;5;124m'\u001b[39m\u001b[38;5;241m.\u001b[39mformat(i), etchfilm)\n",
      "File \u001b[1;32md:\\ysy\\etching\\Multi_Species_bosch_etching_noMirrorSymmtry.py:655\u001b[0m, in \u001b[0;36metching.inputParticle\u001b[1;34m(self, velGeneratorType, typeID, inputCount, max_react_count, Zgap)\u001b[0m\n\u001b[0;32m    653\u001b[0m \u001b[38;5;28;01mdef\u001b[39;00m \u001b[38;5;21minputParticle\u001b[39m(\u001b[38;5;28mself\u001b[39m, velGeneratorType, typeID, inputCount, max_react_count, Zgap):\n\u001b[1;32m--> 655\u001b[0m     result \u001b[38;5;241m=\u001b[39m  \u001b[38;5;28mself\u001b[39m\u001b[38;5;241m.\u001b[39mrunEtch(velGeneratorType, typeID, inputCount, max_react_count, emptyZ\u001b[38;5;241m=\u001b[39mZgap)\n\u001b[0;32m    656\u001b[0m     \u001b[38;5;66;03m# if np.any(result[0][:, :, self.depoThick]) != 0:\u001b[39;00m\n\u001b[0;32m    657\u001b[0m     \u001b[38;5;66;03m#     break             \u001b[39;00m\n\u001b[0;32m    658\u001b[0m     \u001b[38;5;66;03m# del self.log, self.fh \u001b[39;00m\n\u001b[0;32m    659\u001b[0m     \u001b[38;5;28;01mreturn\u001b[39;00m result\n",
      "File \u001b[1;32md:\\ysy\\etching\\Multi_Species_bosch_etching_noMirrorSymmtry.py:511\u001b[0m, in \u001b[0;36metching.runEtch\u001b[1;34m(self, velGeneratorType, typeID, inputCount, max_react_count, emptyZ)\u001b[0m\n\u001b[0;32m    509\u001b[0m i \u001b[38;5;241m=\u001b[39m \u001b[38;5;241m0\u001b[39m\n\u001b[0;32m    510\u001b[0m \u001b[38;5;28;01mwhile\u001b[39;00m inputAll \u001b[38;5;241m<\u001b[39m max_react_count:\n\u001b[1;32m--> 511\u001b[0m     depo_count \u001b[38;5;241m=\u001b[39m \u001b[38;5;28mself\u001b[39m\u001b[38;5;241m.\u001b[39mgetAcc_depo(tstep, planes)\n\u001b[0;32m    512\u001b[0m     \u001b[38;5;66;03m# print('parcel', self.parcel.shape)\u001b[39;00m\n\u001b[0;32m    513\u001b[0m     count_reaction \u001b[38;5;241m+\u001b[39m\u001b[38;5;241m=\u001b[39m depo_count\n",
      "File \u001b[1;32md:\\ysy\\etching\\Multi_Species_bosch_etching_noMirrorSymmtry.py:436\u001b[0m, in \u001b[0;36metching.getAcc_depo\u001b[1;34m(self, tStep, planes)\u001b[0m\n\u001b[0;32m    413\u001b[0m depo_count \u001b[38;5;241m=\u001b[39m \u001b[38;5;28mself\u001b[39m\u001b[38;5;241m.\u001b[39metching_film(planes)\n\u001b[0;32m    415\u001b[0m \u001b[38;5;66;03m# self.parcel[:, :3] += self.parcel[:, 3:6] * tStep \u001b[39;00m\n\u001b[0;32m    416\u001b[0m \u001b[38;5;66;03m# i = np.floor((self.parcel[:, 0]/self.celllength) + 0.5).astype(int)\u001b[39;00m\n\u001b[0;32m    417\u001b[0m \u001b[38;5;66;03m# j = np.floor((self.parcel[:, 1]/self.celllength) + 0.5).astype(int)\u001b[39;00m\n\u001b[1;32m   (...)\u001b[0m\n\u001b[0;32m    434\u001b[0m \n\u001b[0;32m    435\u001b[0m \u001b[38;5;66;03m# cuda\u001b[39;00m\n\u001b[1;32m--> 436\u001b[0m parcel_tensor \u001b[38;5;241m=\u001b[39m torch\u001b[38;5;241m.\u001b[39mtensor(\u001b[38;5;28mself\u001b[39m\u001b[38;5;241m.\u001b[39mparcel, device\u001b[38;5;241m=\u001b[39m\u001b[38;5;124m'\u001b[39m\u001b[38;5;124mcuda\u001b[39m\u001b[38;5;124m'\u001b[39m)  \u001b[38;5;66;03m# 将数据转换为PyTorch张量\u001b[39;00m\n\u001b[0;32m    437\u001b[0m celllength_tensor \u001b[38;5;241m=\u001b[39m torch\u001b[38;5;241m.\u001b[39mtensor(\u001b[38;5;28mself\u001b[39m\u001b[38;5;241m.\u001b[39mcelllength, device\u001b[38;5;241m=\u001b[39m\u001b[38;5;124m'\u001b[39m\u001b[38;5;124mcuda\u001b[39m\u001b[38;5;124m'\u001b[39m)\n\u001b[0;32m    439\u001b[0m parcel_tensor[:, :\u001b[38;5;241m3\u001b[39m] \u001b[38;5;241m+\u001b[39m\u001b[38;5;241m=\u001b[39m parcel_tensor[:, \u001b[38;5;241m3\u001b[39m:\u001b[38;5;241m6\u001b[39m] \u001b[38;5;241m*\u001b[39m tStep\n",
      "\u001b[1;31mKeyboardInterrupt\u001b[0m: "
     ]
    }
   ],
   "source": [
    "cicle = 100\n",
    "\n",
    "for i in range(cicle):\n",
    "    step1 = testEtch.inputParticle('maxwell', 0, int(7e4),int(5e7), 10)\n",
    "    depth = bottom - step1[1] \n",
    "    np.save('./bosch_data_0926_ratio08/bosch_sf_step_{}_sf'.format(i), etchfilm)\n",
    "    step2 = testEtch.inputParticle('maxwell', 1, int(3e4),int(2e7), 10)\n",
    "    indice_c4 = etchfilm[:, :, :, 1] >= 10\n",
    "    etchfilm[indice_c4, 1] = 10\n",
    "    np.save('./bosch_data_0926_ratio08/bosch_sf_step_{}_c4f8'.format(i), etchfilm)\n",
    "    step3 = testEtch.inputParticle('updown', 2, int(2e4),int(4e6)+int(depth/(3e6/2e4)*3e6), 10)\n",
    "    np.save('./bosch_data_0926_ratio08/bosch_sf_step_{}_Ar'.format(i), etchfilm)"
   ]
  },
  {
   "cell_type": "code",
   "execution_count": 13,
   "metadata": {},
   "outputs": [],
   "source": [
    "np.save('bosch_sf_step11', etchfilm)"
   ]
  },
  {
   "cell_type": "code",
   "execution_count": 24,
   "metadata": {},
   "outputs": [],
   "source": [
    "etching = np.load('./bosch_data/bosch_sf_step_0_sf.npy')"
   ]
  },
  {
   "cell_type": "code",
   "execution_count": 29,
   "metadata": {},
   "outputs": [],
   "source": [
    "etching = np.load('./bosch_data/bosch_sf_step_0_c4f8.npy')"
   ]
  },
  {
   "cell_type": "code",
   "execution_count": 27,
   "metadata": {},
   "outputs": [],
   "source": [
    "etching = np.load('./bosch_data/bosch_sf_step_0_Ar.npy')"
   ]
  },
  {
   "cell_type": "code",
   "execution_count": null,
   "metadata": {},
   "outputs": [],
   "source": [
    "depo1 = torch.Tensor(etching[:, :, bottom-50:, 1]!=0).to_sparse()\n",
    "depo1 = depo1.indices().numpy().T\n",
    "\n",
    "substrute = torch.Tensor(etching[:, :, bottom-50:,0]!=0).to_sparse()\n",
    "substrute = substrute.indices().numpy().T\n",
    "depomesh = pv.PolyData(depo1)\n",
    "depomesh[\"radius\"] = np.ones(depo1.shape[0])*0.5\n",
    "geom = pv.Box()\n",
    "\n",
    "submesh = pv.PolyData(substrute)\n",
    "submesh[\"radius\"] = np.ones(substrute.shape[0])*0.5\n",
    "\n",
    "# Progress bar is a new feature on master branch\n",
    "depoglyphed = depomesh.glyph(scale=\"radius\", geom=geom) # progress_bar=True)\n",
    "subglyphed = submesh.glyph(scale=\"radius\", geom=geom) # progress_bar=True)\n",
    "\n",
    "p = pv.Plotter()\n",
    "p.add_mesh(depoglyphed, color='cyan')\n",
    "p.add_mesh(subglyphed, color='dimgray')\n",
    "p.enable_eye_dome_lighting()\n",
    "p.show()"
   ]
  },
  {
   "cell_type": "code",
   "execution_count": null,
   "metadata": {},
   "outputs": [],
   "source": [
    "depo1 = torch.Tensor(etching[:, :50, bottom-200:bottom+50, 1]!=0).to_sparse()\n",
    "depo1 = depo1.indices().numpy().T\n",
    "\n",
    "substrute = torch.Tensor(etching[:, :50, bottom-200:bottom+50,0]!=0).to_sparse()\n",
    "substrute = substrute.indices().numpy().T\n",
    "depomesh = pv.PolyData(depo1)\n",
    "depomesh[\"radius\"] = np.ones(depo1.shape[0])*0.5\n",
    "geom = pv.Box()\n",
    "\n",
    "submesh = pv.PolyData(substrute)\n",
    "submesh[\"radius\"] = np.ones(substrute.shape[0])*0.5\n",
    "\n",
    "# Progress bar is a new feature on master branch\n",
    "depoglyphed = depomesh.glyph(scale=\"radius\", geom=geom) # progress_bar=True)\n",
    "subglyphed = submesh.glyph(scale=\"radius\", geom=geom) # progress_bar=True)\n",
    "\n",
    "p = pv.Plotter()\n",
    "p.add_mesh(depoglyphed, color='cyan')\n",
    "p.add_mesh(subglyphed, color='dimgray')\n",
    "p.enable_eye_dome_lighting()\n",
    "p.show()"
   ]
  },
  {
   "cell_type": "code",
   "execution_count": null,
   "metadata": {},
   "outputs": [],
   "source": [
    "depo1 = torch.Tensor(etching[:, :, bottom-400:bottom-200, 1]!=0).to_sparse()\n",
    "depo1 = depo1.indices().numpy().T\n",
    "\n",
    "substrute = torch.Tensor(etching[:, :, bottom-400:bottom-200,0]!=0).to_sparse()\n",
    "substrute = substrute.indices().numpy().T\n",
    "depomesh = pv.PolyData(depo1)\n",
    "depomesh[\"radius\"] = np.ones(depo1.shape[0])*0.5\n",
    "geom = pv.Box()\n",
    "\n",
    "submesh = pv.PolyData(substrute)\n",
    "submesh[\"radius\"] = np.ones(substrute.shape[0])*0.5\n",
    "\n",
    "# Progress bar is a new feature on master branch\n",
    "depoglyphed = depomesh.glyph(scale=\"radius\", geom=geom) # progress_bar=True)\n",
    "subglyphed = submesh.glyph(scale=\"radius\", geom=geom) # progress_bar=True)\n",
    "\n",
    "p = pv.Plotter()\n",
    "p.add_mesh(depoglyphed, color='cyan')\n",
    "p.add_mesh(subglyphed, color='dimgray')\n",
    "p.enable_eye_dome_lighting()\n",
    "p.show()"
   ]
  },
  {
   "cell_type": "code",
   "execution_count": null,
   "metadata": {},
   "outputs": [],
   "source": [
    "depo1 = torch.Tensor(etching[:, :75, bottom-400:bottom-200, 1]!=0).to_sparse()\n",
    "depo1 = depo1.indices().numpy().T\n",
    "\n",
    "substrute = torch.Tensor(etching[:, :75, bottom-400:bottom-200,0]!=0).to_sparse()\n",
    "substrute = substrute.indices().numpy().T\n",
    "depomesh = pv.PolyData(depo1)\n",
    "depomesh[\"radius\"] = np.ones(depo1.shape[0])*0.5\n",
    "geom = pv.Box()\n",
    "\n",
    "submesh = pv.PolyData(substrute)\n",
    "submesh[\"radius\"] = np.ones(substrute.shape[0])*0.5\n",
    "\n",
    "# Progress bar is a new feature on master branch\n",
    "depoglyphed = depomesh.glyph(scale=\"radius\", geom=geom) # progress_bar=True)\n",
    "subglyphed = submesh.glyph(scale=\"radius\", geom=geom) # progress_bar=True)\n",
    "\n",
    "p = pv.Plotter()\n",
    "p.add_mesh(depoglyphed, color='cyan')\n",
    "p.add_mesh(subglyphed, color='dimgray')\n",
    "p.enable_eye_dome_lighting()\n",
    "p.show()"
   ]
  },
  {
   "cell_type": "code",
   "execution_count": null,
   "metadata": {},
   "outputs": [],
   "source": []
  }
 ],
 "metadata": {
  "kernelspec": {
   "display_name": "Python 3",
   "language": "python",
   "name": "python3"
  },
  "language_info": {
   "codemirror_mode": {
    "name": "ipython",
    "version": 3
   },
   "file_extension": ".py",
   "mimetype": "text/x-python",
   "name": "python",
   "nbconvert_exporter": "python",
   "pygments_lexer": "ipython3",
   "version": "3.12.5"
  }
 },
 "nbformat": 4,
 "nbformat_minor": 2
}

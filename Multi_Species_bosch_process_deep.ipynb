{
 "cells": [
  {
   "cell_type": "code",
   "execution_count": 1,
   "metadata": {},
   "outputs": [],
   "source": [
    "import numpy as np\n",
    "import pyvista as pv\n",
    "import torch\n",
    "import sys"
   ]
  },
  {
   "cell_type": "code",
   "execution_count": 4,
   "metadata": {},
   "outputs": [],
   "source": [
    "# 定义字节到 MB 和 GB 的转换函数\n",
    "def convert_size(size_bytes):\n",
    "    if size_bytes == 0:\n",
    "        return \"0B\"\n",
    "    size_name = (\"B\", \"KB\", \"MB\", \"GB\", \"TB\")\n",
    "    i = int((size_bytes).bit_length() // 10)  # 根据大小选择合适的单位\n",
    "    p = 1024 ** i\n",
    "    size = round(size_bytes / p, 2)\n",
    "    return f\"{size} {size_name[i]}\""
   ]
  },
  {
   "cell_type": "code",
   "execution_count": 3,
   "metadata": {},
   "outputs": [],
   "source": [
    "film = np.zeros((100, 100, 2000, 2))\n",
    "\n",
    "bottom = 1860\n",
    "height = 1960\n",
    "\n",
    "density = 10\n",
    "\n",
    "sphere = np.ones((100, 100, 2000), dtype=bool)\n",
    "\n",
    "radius = 30\n",
    "\n",
    "center = 50\n",
    "for i in range(sphere.shape[0]):\n",
    "    for j in range(sphere.shape[1]):\n",
    "        if np.abs(i-center)*np.abs(i-center) + np.abs(j-center)*np.abs(j-center) < radius*radius:\n",
    "            sphere[i, j, bottom:height] = 0\n",
    "\n",
    "film[sphere, 1] = density\n",
    "film[:, :, height:, :] = 0\n",
    "film[:, :, 0:bottom, 0] = density # bottom\n",
    "film[:, :, 0:bottom, 1] = 0 # bottom\n",
    "# film[:, :30, bottom:height, 1] = 10\n",
    "# film[:, -30:, bottom:height, 1] = 10\n"
   ]
  },
  {
   "cell_type": "code",
   "execution_count": 11,
   "metadata": {},
   "outputs": [],
   "source": [
    "film = np.zeros((100, 100, 200, 2))\n",
    "\n",
    "bottom = 100\n",
    "height = 140\n",
    "\n",
    "density = 10\n",
    "\n",
    "sphere = np.ones((100, 100, 200), dtype=bool)\n",
    "\n",
    "radius = 30\n",
    "\n",
    "center = 50\n",
    "for i in range(sphere.shape[0]):\n",
    "    for j in range(sphere.shape[1]):\n",
    "        if np.abs(i-center)*np.abs(i-center) + np.abs(j-center)*np.abs(j-center) < radius*radius:\n",
    "            sphere[i, j, bottom:height] = 0\n",
    "\n",
    "film[sphere, 1] = density\n",
    "film[:, :, height:, :] = 0\n",
    "film[:, :, 0:bottom, 0] = density # bottom\n",
    "film[:, :, 0:bottom, 1] = 0 # bottom"
   ]
  },
  {
   "cell_type": "code",
   "execution_count": 12,
   "metadata": {},
   "outputs": [
    {
     "name": "stdout",
     "output_type": "stream",
     "text": [
      "Size of variable: 30.52 MB\n"
     ]
    }
   ],
   "source": [
    "size_in_bytes = sys.getsizeof(film)  # 获取对象大小\n",
    "print(f\"Size of variable: {convert_size(size_in_bytes)}\")"
   ]
  },
  {
   "cell_type": "code",
   "execution_count": 13,
   "metadata": {},
   "outputs": [],
   "source": [
    "etchfilm = film"
   ]
  },
  {
   "cell_type": "code",
   "execution_count": 8,
   "metadata": {},
   "outputs": [],
   "source": [
    "import Multi_Species_bosch_etching_noMirrorSymmtry"
   ]
  },
  {
   "cell_type": "code",
   "execution_count": 14,
   "metadata": {},
   "outputs": [],
   "source": [
    "logname = 'Multi_species_benchmark_0919'\n",
    "testEtch = Multi_Species_bosch_etching_noMirrorSymmtry.etching(inputMethod='bunch', depo_or_etching='etching', \n",
    "                etchingPoint = np.array([center, center, 37]),depoPoint = np.array([center, center, 37]),\n",
    "                density=density, center_with_direction=np.array([[35,100,75]]), \n",
    "                range3D=np.array([[0, 70, 0, 100, 0, 150]]), InOrOut=[1], yield_hist=np.array([None]),\n",
    "                reaction_type=False, param = [1.6, -0.7],\n",
    "                sub_xy=[0,0], film=etchfilm, n=1, cellSize=etchfilm.shape, \n",
    "                celllength=1e-5, kdtreeN=5, tstep=1e-5,\n",
    "                substrateTop=bottom,posGeneratorType='top', logname=logname)"
   ]
  },
  {
   "cell_type": "code",
   "execution_count": 15,
   "metadata": {},
   "outputs": [
    {
     "name": "stderr",
     "output_type": "stream",
     "text": [
      "running: 100%|██████████████████████████████████████████████████████| 100/100 [30:48<00:00, 18.5s/B]\n",
      "running: 100%|██████████████████████████████████████████████████████| 100/100 [05:25<00:00, 3.25s/B]\n",
      "running:  40%|█████████████████████▏                               | 40.0/100 [00:18<00:28, 2.14B/s]\n",
      "running:  21%|███████████▏                                         | 21.0/100 [05:51<22:00, 16.7s/B]\n"
     ]
    },
    {
     "ename": "KeyboardInterrupt",
     "evalue": "",
     "output_type": "error",
     "traceback": [
      "\u001b[1;31m---------------------------------------------------------------------------\u001b[0m",
      "\u001b[1;31mKeyboardInterrupt\u001b[0m                         Traceback (most recent call last)",
      "Cell \u001b[1;32mIn[15], line 4\u001b[0m\n\u001b[0;32m      1\u001b[0m cicle \u001b[38;5;241m=\u001b[39m \u001b[38;5;241m10\u001b[39m\n\u001b[0;32m      3\u001b[0m \u001b[38;5;28;01mfor\u001b[39;00m i \u001b[38;5;129;01min\u001b[39;00m \u001b[38;5;28mrange\u001b[39m(cicle):\n\u001b[1;32m----> 4\u001b[0m     step1 \u001b[38;5;241m=\u001b[39m testEtch\u001b[38;5;241m.\u001b[39minputParticle(\u001b[38;5;124m'\u001b[39m\u001b[38;5;124mmaxwell\u001b[39m\u001b[38;5;124m'\u001b[39m, \u001b[38;5;241m0\u001b[39m, \u001b[38;5;28mint\u001b[39m(\u001b[38;5;241m2e4\u001b[39m),\u001b[38;5;28mint\u001b[39m(\u001b[38;5;241m3e7\u001b[39m), \u001b[38;5;241m10\u001b[39m)\n\u001b[0;32m      5\u001b[0m     np\u001b[38;5;241m.\u001b[39msave(\u001b[38;5;124m'\u001b[39m\u001b[38;5;124m./bosch_data_0919/bosch_sf_step_\u001b[39m\u001b[38;5;132;01m{}\u001b[39;00m\u001b[38;5;124m_sf\u001b[39m\u001b[38;5;124m'\u001b[39m\u001b[38;5;241m.\u001b[39mformat(i), etchfilm)\n\u001b[0;32m      6\u001b[0m     step2 \u001b[38;5;241m=\u001b[39m testEtch\u001b[38;5;241m.\u001b[39minputParticle(\u001b[38;5;124m'\u001b[39m\u001b[38;5;124mmaxwell\u001b[39m\u001b[38;5;124m'\u001b[39m, \u001b[38;5;241m1\u001b[39m, \u001b[38;5;28mint\u001b[39m(\u001b[38;5;241m5e4\u001b[39m),\u001b[38;5;28mint\u001b[39m(\u001b[38;5;241m1e7\u001b[39m), \u001b[38;5;241m10\u001b[39m)\n",
      "File \u001b[1;32md:\\ysy\\etching\\Multi_Species_bosch_etching_noMirrorSymmtry.py:588\u001b[0m, in \u001b[0;36metching.inputParticle\u001b[1;34m(self, velGeneratorType, typeID, inputCount, max_react_count, Zgap)\u001b[0m\n\u001b[0;32m    586\u001b[0m \u001b[38;5;28;01mdef\u001b[39;00m \u001b[38;5;21minputParticle\u001b[39m(\u001b[38;5;28mself\u001b[39m, velGeneratorType, typeID, inputCount, max_react_count, Zgap):\n\u001b[1;32m--> 588\u001b[0m     result \u001b[38;5;241m=\u001b[39m  \u001b[38;5;28mself\u001b[39m\u001b[38;5;241m.\u001b[39mrunEtch(velGeneratorType, typeID, inputCount, max_react_count, emptyZ\u001b[38;5;241m=\u001b[39mZgap)\n\u001b[0;32m    589\u001b[0m     \u001b[38;5;66;03m# if np.any(result[0][:, :, self.depoThick]) != 0:\u001b[39;00m\n\u001b[0;32m    590\u001b[0m     \u001b[38;5;66;03m#     break             \u001b[39;00m\n\u001b[0;32m    591\u001b[0m     \u001b[38;5;66;03m# del self.log, self.fh \u001b[39;00m\n\u001b[0;32m    592\u001b[0m     \u001b[38;5;28;01mreturn\u001b[39;00m result\n",
      "File \u001b[1;32md:\\ysy\\etching\\Multi_Species_bosch_etching_noMirrorSymmtry.py:444\u001b[0m, in \u001b[0;36metching.runEtch\u001b[1;34m(self, velGeneratorType, typeID, inputCount, max_react_count, emptyZ)\u001b[0m\n\u001b[0;32m    442\u001b[0m i \u001b[38;5;241m=\u001b[39m \u001b[38;5;241m0\u001b[39m\n\u001b[0;32m    443\u001b[0m \u001b[38;5;28;01mwhile\u001b[39;00m inputAll \u001b[38;5;241m<\u001b[39m max_react_count:\n\u001b[1;32m--> 444\u001b[0m     depo_count \u001b[38;5;241m=\u001b[39m \u001b[38;5;28mself\u001b[39m\u001b[38;5;241m.\u001b[39mgetAcc_depo(tstep, planes)\n\u001b[0;32m    445\u001b[0m     \u001b[38;5;66;03m# print('parcel', self.parcel.shape)\u001b[39;00m\n\u001b[0;32m    446\u001b[0m     count_reaction \u001b[38;5;241m+\u001b[39m\u001b[38;5;241m=\u001b[39m depo_count\n",
      "File \u001b[1;32md:\\ysy\\etching\\Multi_Species_bosch_etching_noMirrorSymmtry.py:361\u001b[0m, in \u001b[0;36metching.getAcc_depo\u001b[1;34m(self, tStep, planes)\u001b[0m\n\u001b[0;32m    358\u001b[0m depo_count \u001b[38;5;241m=\u001b[39m \u001b[38;5;28mself\u001b[39m\u001b[38;5;241m.\u001b[39metching_film(planes)\n\u001b[0;32m    360\u001b[0m \u001b[38;5;28mself\u001b[39m\u001b[38;5;241m.\u001b[39mparcel[:, :\u001b[38;5;241m3\u001b[39m] \u001b[38;5;241m+\u001b[39m\u001b[38;5;241m=\u001b[39m \u001b[38;5;28mself\u001b[39m\u001b[38;5;241m.\u001b[39mparcel[:, \u001b[38;5;241m3\u001b[39m:\u001b[38;5;241m6\u001b[39m] \u001b[38;5;241m*\u001b[39m tStep \n\u001b[1;32m--> 361\u001b[0m i \u001b[38;5;241m=\u001b[39m np\u001b[38;5;241m.\u001b[39mfloor((\u001b[38;5;28mself\u001b[39m\u001b[38;5;241m.\u001b[39mparcel[:, \u001b[38;5;241m0\u001b[39m]\u001b[38;5;241m/\u001b[39m\u001b[38;5;28mself\u001b[39m\u001b[38;5;241m.\u001b[39mcelllength) \u001b[38;5;241m+\u001b[39m \u001b[38;5;241m0.5\u001b[39m)\u001b[38;5;241m.\u001b[39mastype(\u001b[38;5;28mint\u001b[39m)\n\u001b[0;32m    362\u001b[0m j \u001b[38;5;241m=\u001b[39m np\u001b[38;5;241m.\u001b[39mfloor((\u001b[38;5;28mself\u001b[39m\u001b[38;5;241m.\u001b[39mparcel[:, \u001b[38;5;241m1\u001b[39m]\u001b[38;5;241m/\u001b[39m\u001b[38;5;28mself\u001b[39m\u001b[38;5;241m.\u001b[39mcelllength) \u001b[38;5;241m+\u001b[39m \u001b[38;5;241m0.5\u001b[39m)\u001b[38;5;241m.\u001b[39mastype(\u001b[38;5;28mint\u001b[39m)\n\u001b[0;32m    363\u001b[0m k \u001b[38;5;241m=\u001b[39m np\u001b[38;5;241m.\u001b[39mfloor((\u001b[38;5;28mself\u001b[39m\u001b[38;5;241m.\u001b[39mparcel[:, \u001b[38;5;241m2\u001b[39m]\u001b[38;5;241m/\u001b[39m\u001b[38;5;28mself\u001b[39m\u001b[38;5;241m.\u001b[39mcelllength) \u001b[38;5;241m+\u001b[39m \u001b[38;5;241m0.5\u001b[39m)\u001b[38;5;241m.\u001b[39mastype(\u001b[38;5;28mint\u001b[39m)\n",
      "\u001b[1;31mKeyboardInterrupt\u001b[0m: "
     ]
    }
   ],
   "source": [
    "cicle = 10\n",
    "\n",
    "for i in range(cicle):\n",
    "    step1 = testEtch.inputParticle('maxwell', 0, int(2e4),int(3e7), 10)\n",
    "    np.save('./bosch_data_0919/bosch_sf_step_{}_sf'.format(i), etchfilm)\n",
    "    step2 = testEtch.inputParticle('maxwell', 1, int(2e4),int(1e7), 10)\n",
    "    indice_c4 = etchfilm[:, :, :, 1] >= 10\n",
    "    etchfilm[indice_c4, 1] = 10\n",
    "    np.save('./bosch_data_0919/bosch_sf_step_{}_c4f8'.format(i), etchfilm)\n",
    "    step3 = testEtch.inputParticle('updown', 2, int(2e4),int(1e7), 10)\n",
    "    np.save('./bosch_data_0919/bosch_sf_step_{}_Ar'.format(i), etchfilm)"
   ]
  },
  {
   "cell_type": "code",
   "execution_count": 13,
   "metadata": {},
   "outputs": [],
   "source": [
    "np.save('bosch_sf_step11', etchfilm)"
   ]
  },
  {
   "cell_type": "code",
   "execution_count": 24,
   "metadata": {},
   "outputs": [],
   "source": [
    "etching = np.load('./bosch_data/bosch_sf_step_0_sf.npy')"
   ]
  },
  {
   "cell_type": "code",
   "execution_count": 29,
   "metadata": {},
   "outputs": [],
   "source": [
    "etching = np.load('./bosch_data/bosch_sf_step_0_c4f8.npy')"
   ]
  },
  {
   "cell_type": "code",
   "execution_count": 27,
   "metadata": {},
   "outputs": [],
   "source": [
    "etching = np.load('./bosch_data/bosch_sf_step_0_Ar.npy')"
   ]
  },
  {
   "cell_type": "code",
   "execution_count": 25,
   "metadata": {},
   "outputs": [
    {
     "name": "stderr",
     "output_type": "stream",
     "text": [
      "c:\\Users\\urcs049\\AppData\\Local\\anaconda3\\Lib\\site-packages\\pyvista\\core\\utilities\\points.py:55: UserWarning: Points is not a float type. This can cause issues when transforming or applying filters. Casting to ``np.float32``. Disable this by passing ``force_float=False``.\n",
      "  warnings.warn(\n",
      "c:\\Users\\urcs049\\AppData\\Local\\anaconda3\\Lib\\site-packages\\pyvista\\core\\filters\\data_set.py:2386: UserWarning: No vector-like data to use for orient. orient will be set to False.\n",
      "  warnings.warn(\"No vector-like data to use for orient. orient will be set to False.\")\n"
     ]
    },
    {
     "data": {
      "application/vnd.jupyter.widget-view+json": {
       "model_id": "c49ae16e6c034abfaa986e691f47f87d",
       "version_major": 2,
       "version_minor": 0
      },
      "text/plain": [
       "Widget(value='<iframe src=\"http://localhost:49836/index.html?ui=P_0x1e5a0fc0e60_12&reconnect=auto\" class=\"pyvi…"
      ]
     },
     "metadata": {},
     "output_type": "display_data"
    }
   ],
   "source": [
    "depo1 = torch.Tensor(etching[:, :, bottom-50:, 1]!=0).to_sparse()\n",
    "depo1 = depo1.indices().numpy().T\n",
    "\n",
    "substrute = torch.Tensor(etching[:, :, bottom-50:,0]!=0).to_sparse()\n",
    "substrute = substrute.indices().numpy().T\n",
    "depomesh = pv.PolyData(depo1)\n",
    "depomesh[\"radius\"] = np.ones(depo1.shape[0])*0.5\n",
    "geom = pv.Box()\n",
    "\n",
    "submesh = pv.PolyData(substrute)\n",
    "submesh[\"radius\"] = np.ones(substrute.shape[0])*0.5\n",
    "\n",
    "# Progress bar is a new feature on master branch\n",
    "depoglyphed = depomesh.glyph(scale=\"radius\", geom=geom) # progress_bar=True)\n",
    "subglyphed = submesh.glyph(scale=\"radius\", geom=geom) # progress_bar=True)\n",
    "\n",
    "p = pv.Plotter()\n",
    "p.add_mesh(depoglyphed, color='cyan')\n",
    "p.add_mesh(subglyphed, color='dimgray')\n",
    "p.enable_eye_dome_lighting()\n",
    "p.show()"
   ]
  },
  {
   "cell_type": "code",
   "execution_count": 30,
   "metadata": {},
   "outputs": [
    {
     "name": "stderr",
     "output_type": "stream",
     "text": [
      "c:\\Users\\urcs049\\AppData\\Local\\anaconda3\\Lib\\site-packages\\pyvista\\core\\utilities\\points.py:55: UserWarning: Points is not a float type. This can cause issues when transforming or applying filters. Casting to ``np.float32``. Disable this by passing ``force_float=False``.\n",
      "  warnings.warn(\n",
      "c:\\Users\\urcs049\\AppData\\Local\\anaconda3\\Lib\\site-packages\\pyvista\\core\\filters\\data_set.py:2386: UserWarning: No vector-like data to use for orient. orient will be set to False.\n",
      "  warnings.warn(\"No vector-like data to use for orient. orient will be set to False.\")\n"
     ]
    },
    {
     "data": {
      "application/vnd.jupyter.widget-view+json": {
       "model_id": "6bb32072f8e14d88bc5fd5ae02b3b6e7",
       "version_major": 2,
       "version_minor": 0
      },
      "text/plain": [
       "Widget(value='<iframe src=\"http://localhost:49836/index.html?ui=P_0x1e525d87440_15&reconnect=auto\" class=\"pyvi…"
      ]
     },
     "metadata": {},
     "output_type": "display_data"
    }
   ],
   "source": [
    "depo1 = torch.Tensor(etching[:, :50, bottom-200:bottom+50, 1]!=0).to_sparse()\n",
    "depo1 = depo1.indices().numpy().T\n",
    "\n",
    "substrute = torch.Tensor(etching[:, :50, bottom-200:bottom+50,0]!=0).to_sparse()\n",
    "substrute = substrute.indices().numpy().T\n",
    "depomesh = pv.PolyData(depo1)\n",
    "depomesh[\"radius\"] = np.ones(depo1.shape[0])*0.5\n",
    "geom = pv.Box()\n",
    "\n",
    "submesh = pv.PolyData(substrute)\n",
    "submesh[\"radius\"] = np.ones(substrute.shape[0])*0.5\n",
    "\n",
    "# Progress bar is a new feature on master branch\n",
    "depoglyphed = depomesh.glyph(scale=\"radius\", geom=geom) # progress_bar=True)\n",
    "subglyphed = submesh.glyph(scale=\"radius\", geom=geom) # progress_bar=True)\n",
    "\n",
    "p = pv.Plotter()\n",
    "p.add_mesh(depoglyphed, color='cyan')\n",
    "p.add_mesh(subglyphed, color='dimgray')\n",
    "p.enable_eye_dome_lighting()\n",
    "p.show()"
   ]
  },
  {
   "cell_type": "code",
   "execution_count": 13,
   "metadata": {},
   "outputs": [
    {
     "name": "stderr",
     "output_type": "stream",
     "text": [
      "c:\\Users\\urcs049\\AppData\\Local\\anaconda3\\Lib\\site-packages\\pyvista\\core\\utilities\\points.py:55: UserWarning: Points is not a float type. This can cause issues when transforming or applying filters. Casting to ``np.float32``. Disable this by passing ``force_float=False``.\n",
      "  warnings.warn(\n",
      "c:\\Users\\urcs049\\AppData\\Local\\anaconda3\\Lib\\site-packages\\pyvista\\core\\filters\\data_set.py:2386: UserWarning: No vector-like data to use for orient. orient will be set to False.\n",
      "  warnings.warn(\"No vector-like data to use for orient. orient will be set to False.\")\n"
     ]
    },
    {
     "data": {
      "application/vnd.jupyter.widget-view+json": {
       "model_id": "8ed12dbb125a4813a5b5b148c9b91b28",
       "version_major": 2,
       "version_minor": 0
      },
      "text/plain": [
       "Widget(value='<iframe src=\"http://localhost:49836/index.html?ui=P_0x1e506ac6660_3&reconnect=auto\" class=\"pyvis…"
      ]
     },
     "metadata": {},
     "output_type": "display_data"
    }
   ],
   "source": [
    "depo1 = torch.Tensor(etching[:, :, bottom-400:bottom-200, 1]!=0).to_sparse()\n",
    "depo1 = depo1.indices().numpy().T\n",
    "\n",
    "substrute = torch.Tensor(etching[:, :, bottom-400:bottom-200,0]!=0).to_sparse()\n",
    "substrute = substrute.indices().numpy().T\n",
    "depomesh = pv.PolyData(depo1)\n",
    "depomesh[\"radius\"] = np.ones(depo1.shape[0])*0.5\n",
    "geom = pv.Box()\n",
    "\n",
    "submesh = pv.PolyData(substrute)\n",
    "submesh[\"radius\"] = np.ones(substrute.shape[0])*0.5\n",
    "\n",
    "# Progress bar is a new feature on master branch\n",
    "depoglyphed = depomesh.glyph(scale=\"radius\", geom=geom) # progress_bar=True)\n",
    "subglyphed = submesh.glyph(scale=\"radius\", geom=geom) # progress_bar=True)\n",
    "\n",
    "p = pv.Plotter()\n",
    "p.add_mesh(depoglyphed, color='cyan')\n",
    "p.add_mesh(subglyphed, color='dimgray')\n",
    "p.enable_eye_dome_lighting()\n",
    "p.show()"
   ]
  },
  {
   "cell_type": "code",
   "execution_count": 14,
   "metadata": {},
   "outputs": [
    {
     "name": "stderr",
     "output_type": "stream",
     "text": [
      "c:\\Users\\urcs049\\AppData\\Local\\anaconda3\\Lib\\site-packages\\pyvista\\core\\utilities\\points.py:55: UserWarning: Points is not a float type. This can cause issues when transforming or applying filters. Casting to ``np.float32``. Disable this by passing ``force_float=False``.\n",
      "  warnings.warn(\n",
      "c:\\Users\\urcs049\\AppData\\Local\\anaconda3\\Lib\\site-packages\\pyvista\\core\\filters\\data_set.py:2386: UserWarning: No vector-like data to use for orient. orient will be set to False.\n",
      "  warnings.warn(\"No vector-like data to use for orient. orient will be set to False.\")\n"
     ]
    },
    {
     "data": {
      "application/vnd.jupyter.widget-view+json": {
       "model_id": "2caf291e300249869292bde7495bd52a",
       "version_major": 2,
       "version_minor": 0
      },
      "text/plain": [
       "Widget(value='<iframe src=\"http://localhost:49836/index.html?ui=P_0x1e5032db890_4&reconnect=auto\" class=\"pyvis…"
      ]
     },
     "metadata": {},
     "output_type": "display_data"
    }
   ],
   "source": [
    "depo1 = torch.Tensor(etching[:, :75, bottom-400:bottom-200, 1]!=0).to_sparse()\n",
    "depo1 = depo1.indices().numpy().T\n",
    "\n",
    "substrute = torch.Tensor(etching[:, :75, bottom-400:bottom-200,0]!=0).to_sparse()\n",
    "substrute = substrute.indices().numpy().T\n",
    "depomesh = pv.PolyData(depo1)\n",
    "depomesh[\"radius\"] = np.ones(depo1.shape[0])*0.5\n",
    "geom = pv.Box()\n",
    "\n",
    "submesh = pv.PolyData(substrute)\n",
    "submesh[\"radius\"] = np.ones(substrute.shape[0])*0.5\n",
    "\n",
    "# Progress bar is a new feature on master branch\n",
    "depoglyphed = depomesh.glyph(scale=\"radius\", geom=geom) # progress_bar=True)\n",
    "subglyphed = submesh.glyph(scale=\"radius\", geom=geom) # progress_bar=True)\n",
    "\n",
    "p = pv.Plotter()\n",
    "p.add_mesh(depoglyphed, color='cyan')\n",
    "p.add_mesh(subglyphed, color='dimgray')\n",
    "p.enable_eye_dome_lighting()\n",
    "p.show()"
   ]
  },
  {
   "cell_type": "code",
   "execution_count": null,
   "metadata": {},
   "outputs": [],
   "source": []
  }
 ],
 "metadata": {
  "kernelspec": {
   "display_name": "Python 3",
   "language": "python",
   "name": "python3"
  },
  "language_info": {
   "codemirror_mode": {
    "name": "ipython",
    "version": 3
   },
   "file_extension": ".py",
   "mimetype": "text/x-python",
   "name": "python",
   "nbconvert_exporter": "python",
   "pygments_lexer": "ipython3",
   "version": "3.12.5"
  }
 },
 "nbformat": 4,
 "nbformat_minor": 2
}

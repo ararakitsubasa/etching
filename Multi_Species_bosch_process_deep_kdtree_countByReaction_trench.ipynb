{
 "cells": [
  {
   "cell_type": "code",
   "execution_count": 1,
   "metadata": {},
   "outputs": [],
   "source": [
    "import numpy as np\n",
    "import pyvista as pv\n",
    "import torch\n",
    "import matplotlib.pyplot as plt"
   ]
  },
  {
   "cell_type": "code",
   "execution_count": null,
   "metadata": {},
   "outputs": [],
   "source": [
    "maskUp = 1.69\n",
    "maskBottom = 2.92\n",
    "maskDeep = 5.95\n",
    "\n",
    "diameter = 60\n",
    "maskUp_sim = maskUp/maskBottom*diameter\n",
    "maskDeep_sim = maskDeep/maskBottom*diameter\n",
    "print(maskUp_sim)\n",
    "print(maskDeep_sim)"
   ]
  },
  {
   "cell_type": "code",
   "execution_count": null,
   "metadata": {},
   "outputs": [],
   "source": [
    "maskUp = 2.09\n",
    "maskBottom = 2.6\n",
    "maskDeep = 2.808\n",
    "\n",
    "diameter = 60\n",
    "maskUp_sim = maskUp/maskBottom*diameter\n",
    "maskDeep_sim = maskDeep/maskBottom*diameter\n",
    "print(maskUp_sim)\n",
    "print(maskDeep_sim)"
   ]
  },
  {
   "cell_type": "code",
   "execution_count": null,
   "metadata": {},
   "outputs": [],
   "source": [
    "bottom = 100\n",
    "height = bottom + int(maskDeep_sim)\n",
    "\n",
    "print('height',height)\n",
    "for i in range(int(diameter/2 - int(maskUp_sim/2))):\n",
    "    print(diameter/2 - i)\n",
    "    print('deep', int(bottom + maskDeep_sim/(diameter/2 - maskUp_sim/2)*(i)))\n",
    "    print(int(maskDeep_sim/(diameter/2 - maskUp_sim/2)))"
   ]
  },
  {
   "cell_type": "code",
   "execution_count": 2,
   "metadata": {},
   "outputs": [],
   "source": [
    "def slide2D_fractionZ(film, start, end, direction, fraction, value):\n",
    "    if fraction == '+':\n",
    "        if direction == 'y':\n",
    "            slit = np.linspace(0, np.abs(end[2] - start[2]), np.abs(end[1] - start[1]))\n",
    "            fraction = np.abs(int(slit[0]-slit[1]))\n",
    "            print('y', slit)\n",
    "            print('fraction', fraction)\n",
    "            for i in range(np.abs(end[1] - start[1])):\n",
    "                if end[1] > start[1]:\n",
    "                    film[start[0]:end[0], start[1] + i, start[2]:start[2] + int(slit[i])] = value\n",
    "                    for j in range(fraction):\n",
    "                        film[start[0]:end[0], start[1] + i,start[2]+int(slit[i])+j] = 1/(fraction+1)*(fraction-j)\n",
    "                elif end[1] < start[1]:\n",
    "                    film[start[0]:end[0], start[1] - i, start[2]:start[2] + int(slit[i])] = value\n",
    "                    for j in range(fraction):\n",
    "                        film[start[0]:end[0], start[1] - i,start[2]+int(slit[i])+j] = 1/(fraction+1)*(fraction-j)\n",
    "        elif direction == 'x':\n",
    "            slit = np.linspace(0, np.abs(end[2] - start[2]), np.abs(end[0] - start[0]))\n",
    "            fraction = np.abs(int(slit[0]-slit[1]))\n",
    "            print('x', slit)\n",
    "            print('fraction', fraction)\n",
    "            for i in range(np.abs(end[2] - start[2])):\n",
    "                if end[0] > start[0]:\n",
    "                    film[start[0] + i, start[1]:end[1], start[2]:start[2] + int(slit[i])] = value\n",
    "                    for j in range(fraction):\n",
    "                        film[start[0] + i, start[1]:end[1], start[2]+int(slit[i])+j] = 1/(fraction+1)*(fraction-j)\n",
    "                elif end[0] < start[0]:\n",
    "                    film[start[0] - i, start[1]:end[1], start[2]:start[2] + int(slit[i])] = value\n",
    "                    for j in range(fraction):\n",
    "                        film[start[0] - i, start[1]:end[1], start[2]+int(slit[i])+j] = 1/(fraction+1)*(fraction-j)\n",
    "    elif fraction == '-':\n",
    "        if direction == 'y':\n",
    "            slit = np.linspace(0, np.abs(end[2] - start[2]), np.abs(end[1] - start[1]))\n",
    "            fraction = np.abs(int(slit[0]-slit[1]))\n",
    "            print('y', slit)\n",
    "            print('fraction', fraction)\n",
    "            for i in range(np.abs(end[1] - start[1])):\n",
    "                if end[1] > start[1]:\n",
    "                    film[start[0]:end[0], start[1] + i, start[2] - int(slit[i]):start[2]+1] = value\n",
    "                    for j in range(fraction):\n",
    "                        film[start[0]:end[0], start[1] + i,start[2]-int(slit[i])-j] = 1/(fraction+1)*(fraction-j)\n",
    "                elif end[1] < start[1]:\n",
    "                    film[start[0]:end[0], start[1] - i, start[2] - int(slit[i]):start[2]+1] = value\n",
    "                    for j in range(fraction):\n",
    "                        film[start[0]:end[0], start[1] - i,start[2]-int(slit[i])-j] = 1/(fraction+1)*(fraction-j)\n",
    "        elif direction == 'x':\n",
    "            slit = np.linspace(0, np.abs(end[2] - start[2]), np.abs(end[0] - start[0]))\n",
    "            fraction = np.abs(int(slit[0]-slit[1]))\n",
    "            print('x', slit)\n",
    "            print('fraction', fraction)\n",
    "            for i in range(np.abs(end[2] - start[2])):\n",
    "                if end[0] > start[0]:\n",
    "                    film[start[0] + i, start[1]:end[1], start[2] - int(slit[i]):start[2]+1] = value\n",
    "                    for j in range(fraction):\n",
    "                        film[start[0] + i, start[1]:end[1], start[2] - int(slit[i]):start[2]] = 1/(fraction+1)*(fraction-j)\n",
    "                elif end[0] < start[0]:\n",
    "                    film[start[0] - i, start[1]:end[1], start[2] - int(slit[i]):start[2]+1] = value\n",
    "                    for j in range(fraction):\n",
    "                        film[start[0] - i, start[1]:end[1], start[2] - int(slit[i]):start[2]] = 1/(fraction+1)*(fraction-j)\n",
    "    return film"
   ]
  },
  {
   "cell_type": "code",
   "execution_count": null,
   "metadata": {},
   "outputs": [],
   "source": [
    "maskUp = 2.09\n",
    "maskBottom = 2.6\n",
    "maskDeep = 2.808\n",
    "\n",
    "diameter = 120\n",
    "maskUp_sim = maskUp/maskBottom*diameter\n",
    "maskDeep_sim = maskDeep/maskBottom*diameter\n",
    "print(maskUp_sim)\n",
    "print(maskDeep_sim)"
   ]
  },
  {
   "cell_type": "code",
   "execution_count": null,
   "metadata": {},
   "outputs": [],
   "source": [
    "maskUp = 2.09\n",
    "maskBottom = 2.6\n",
    "maskDeep = 2.808\n",
    "\n",
    "diameter = 240\n",
    "maskUp_sim = maskUp/maskBottom*diameter\n",
    "maskDeep_sim = maskDeep/maskBottom*diameter\n",
    "print(maskUp_sim)\n",
    "print(maskDeep_sim)"
   ]
  },
  {
   "cell_type": "code",
   "execution_count": null,
   "metadata": {},
   "outputs": [],
   "source": [
    "trench_thick = 15\n",
    "film = np.zeros((trench_thick, 300, 340, 3))\n",
    "center = 150\n",
    "density = 10\n",
    "bottom = 51\n",
    "ladder = np.zeros((trench_thick, 300, 340))\n",
    "ladder = slide2D_fractionZ(film=ladder, start=[0, 54, bottom+int(maskDeep_sim)], end=[trench_thick, 30, bottom-1], direction='y', fraction='-', value=10)\n",
    "ladder = slide2D_fractionZ(film=ladder, start=[0, 246, bottom+int(maskDeep_sim)], end=[trench_thick, 270, bottom-1], direction='y', fraction='-', value=10)\n",
    "\n",
    "# film[:, 80:121, 0:31] = 10\n",
    "film[:, :, :, 2] = ladder\n",
    "film[:, :31, bottom:bottom+int(maskDeep_sim)+1, 2] = 10\n",
    "film[:, -30::, bottom:bottom+int(maskDeep_sim)+1, 2] = 10\n",
    "film[:, :, 0:bottom, 0] = 10 # bottom\n",
    "film[:, :, 0:bottom, 2] = 0 # bottom"
   ]
  },
  {
   "cell_type": "code",
   "execution_count": 3,
   "metadata": {},
   "outputs": [
    {
     "name": "stdout",
     "output_type": "stream",
     "text": [
      "y [  0.  10.  20.  30.  40.  50.  60.  70.  80.  90. 100. 110. 120. 130.]\n",
      "fraction 10\n",
      "y [  0.  10.  20.  30.  40.  50.  60.  70.  80.  90. 100. 110. 120. 130.]\n",
      "fraction 10\n"
     ]
    }
   ],
   "source": [
    "trench_thick = 20\n",
    "film = np.zeros((trench_thick, 200, 200, 3))\n",
    "center = 100\n",
    "density = 10\n",
    "bottom = 51\n",
    "ladder = np.zeros((trench_thick, 200, 200))\n",
    "ladder = slide2D_fractionZ(film=ladder, start=[0, 54, 180], end=[trench_thick, 40, bottom-1], direction='y', fraction='-', value=10)\n",
    "ladder = slide2D_fractionZ(film=ladder, start=[0, 146, 180], end=[trench_thick, 160, bottom-1], direction='y', fraction='-', value=10)\n",
    "\n",
    "# film[:, 80:121, 0:31] = 10\n",
    "film[:, :, :, 2] = ladder\n",
    "film[:, :41, bottom:181, 2] = 10\n",
    "film[:, -40::, bottom:181, 2] = 10\n",
    "film[:, :, 0:bottom, 0] = 10 # bottom\n",
    "film[:, :, 0:bottom, 2] = 0 # bottom"
   ]
  },
  {
   "cell_type": "code",
   "execution_count": null,
   "metadata": {},
   "outputs": [],
   "source": [
    "depo1 = torch.Tensor(np.logical_and(ladder[:, :, :] !=0, ladder[:, :, :] < 10)).to_sparse()\n",
    "depo1 = depo1.indices().numpy().T\n",
    "\n",
    "substrute = torch.Tensor(ladder[:, :, :]==10).to_sparse()\n",
    "substrute = substrute.indices().numpy().T\n",
    "depomesh = pv.PolyData(depo1)\n",
    "depomesh[\"radius\"] = np.ones(depo1.shape[0])*0.5\n",
    "geom = pv.Box()\n",
    "\n",
    "submesh = pv.PolyData(substrute)\n",
    "submesh[\"radius\"] = np.ones(substrute.shape[0])*0.5\n",
    "\n",
    "# Progress bar is a new feature on master branch\n",
    "depoglyphed = depomesh.glyph(scale=\"radius\", geom=geom) # progress_bar=True)\n",
    "subglyphed = submesh.glyph(scale=\"radius\", geom=geom) # progress_bar=True)\n",
    "\n",
    "p = pv.Plotter()\n",
    "p.add_mesh(depoglyphed, color='cyan')\n",
    "p.add_mesh(subglyphed, color='dimgray')\n",
    "p.enable_eye_dome_lighting()\n",
    "p.show_grid()\n",
    "p.show()"
   ]
  },
  {
   "cell_type": "code",
   "execution_count": null,
   "metadata": {},
   "outputs": [],
   "source": [
    "depo1 = torch.Tensor(film[:, :, :, 1]>0).to_sparse()\n",
    "depo1 = depo1.indices().numpy().T\n",
    "\n",
    "substrute = torch.Tensor(film[:, :, :,0]!=0).to_sparse()\n",
    "substrute = substrute.indices().numpy().T\n",
    "\n",
    "mask = torch.Tensor(film[:, :, :,2]==10).to_sparse()\n",
    "mask = mask.indices().numpy().T\n",
    "\n",
    "maskmesh = pv.PolyData(mask)\n",
    "maskmesh[\"radius\"] = np.ones(mask.shape[0])*0.5\n",
    "\n",
    "depomesh = pv.PolyData(depo1)\n",
    "depomesh[\"radius\"] = np.ones(depo1.shape[0])*0.5\n",
    "geom = pv.Box()\n",
    "\n",
    "submesh = pv.PolyData(substrute)\n",
    "submesh[\"radius\"] = np.ones(substrute.shape[0])*0.5\n",
    "\n",
    "# Progress bar is a new feature on master branch\n",
    "maskglyphed = maskmesh.glyph(scale=\"radius\", geom=geom) # progress_bar=True)\n",
    "depoglyphed = depomesh.glyph(scale=\"radius\", geom=geom) # progress_bar=True)\n",
    "subglyphed = submesh.glyph(scale=\"radius\", geom=geom) # progress_bar=True)\n",
    "\n",
    "p = pv.Plotter()\n",
    "p.add_mesh(maskglyphed, color='green')\n",
    "# p.add_mesh(depoglyphed, color='cyan')\n",
    "p.add_mesh(subglyphed, color='dimgray')\n",
    "p.enable_eye_dome_lighting()\n",
    "p.show()"
   ]
  },
  {
   "cell_type": "code",
   "execution_count": 4,
   "metadata": {},
   "outputs": [],
   "source": [
    "etchfilm = film"
   ]
  },
  {
   "cell_type": "code",
   "execution_count": 5,
   "metadata": {},
   "outputs": [],
   "source": [
    "import Multi_Species_bosch_etching_countByReaction_mirror"
   ]
  },
  {
   "cell_type": "code",
   "execution_count": 6,
   "metadata": {},
   "outputs": [],
   "source": [
    "logname = 'Multi_species_benchmark_1011_trench_test2'\n",
    "\n",
    "testEtch = Multi_Species_bosch_etching_countByReaction_mirror.etching(inputMethod='bunch', depo_or_etching='etching', \n",
    "                etchingPoint = np.array([center, center, bottom-30]),depoPoint = np.array([center, center, bottom-30]),\n",
    "                density=density, center_with_direction=np.array([[center,center,75]]), \n",
    "                range3D=np.array([[0, 300, 0, 300, 0, 300]]), InOrOut=[1], yield_hist=np.array([None]),\n",
    "                maskTop=40, maskBottom=98, maskStep=10, maskCenter=[center,center],mirrorGap=5,\n",
    "                reaction_type=False, param = [1.6, -0.7],n=1,\n",
    "                celllength=1e-5, kdtreeN=5, filmKDTree=np.array([[2, 0], [3, 1]]), tstep=1e-5,\n",
    "                substrateTop=bottom,posGeneratorType='top', logname=logname)"
   ]
  },
  {
   "cell_type": "code",
   "execution_count": 7,
   "metadata": {},
   "outputs": [],
   "source": [
    "etching = np.load('./bosch_data_1009_ratio08/bosch_sf_step_3_c4f8.npy')"
   ]
  },
  {
   "cell_type": "code",
   "execution_count": 8,
   "metadata": {},
   "outputs": [],
   "source": [
    "indice_c3 = np.logical_and(etching[:, :, :, 1]>9, etching[:, :, :, 1]<10)\n",
    "etching[indice_c3, 1] = 10\n",
    "\n",
    "indice_step2 = etching[:, :, :, 0] != 10\n",
    "etching[indice_step2, 0] = 0\n",
    "indice_c2 = etching[:, :, :, 1] != 0\n",
    "etching[indice_c2, 1] = 10"
   ]
  },
  {
   "cell_type": "code",
   "execution_count": null,
   "metadata": {},
   "outputs": [],
   "source": [
    "1e-4 == 0.0001"
   ]
  },
  {
   "cell_type": "code",
   "execution_count": 8,
   "metadata": {},
   "outputs": [],
   "source": [
    "np.save('./bosch_data_1011_ratio08_trench_condition5_300wide/bosch_sf_test2', etchfilm)"
   ]
  },
  {
   "cell_type": "code",
   "execution_count": 7,
   "metadata": {},
   "outputs": [
    {
     "name": "stderr",
     "output_type": "stream",
     "text": [
      "particle input:  20%|█████████▏                                    | 20.0/100 [01:12<04:49, 3.62s/B]\n"
     ]
    },
    {
     "ename": "KeyboardInterrupt",
     "evalue": "",
     "output_type": "error",
     "traceback": [
      "\u001b[1;31m---------------------------------------------------------------------------\u001b[0m",
      "\u001b[1;31mKeyboardInterrupt\u001b[0m                         Traceback (most recent call last)",
      "Cell \u001b[1;32mIn[7], line 4\u001b[0m\n\u001b[0;32m      2\u001b[0m celllength\u001b[38;5;241m=\u001b[39m\u001b[38;5;241m1e-5\u001b[39m\n\u001b[0;32m      3\u001b[0m parcel \u001b[38;5;241m=\u001b[39m np\u001b[38;5;241m.\u001b[39marray([[center\u001b[38;5;241m*\u001b[39mcelllength, center\u001b[38;5;241m*\u001b[39mcelllength, \u001b[38;5;241m159\u001b[39m\u001b[38;5;241m*\u001b[39mcelllength, \u001b[38;5;241m0\u001b[39m, \u001b[38;5;241m0\u001b[39m, \u001b[38;5;241m1\u001b[39m, center, center, \u001b[38;5;241m159\u001b[39m, \u001b[38;5;241m0\u001b[39m]])\n\u001b[1;32m----> 4\u001b[0m step1 \u001b[38;5;241m=\u001b[39m testEtch\u001b[38;5;241m.\u001b[39minputParticle(etchfilm, parcel, \u001b[38;5;124m'\u001b[39m\u001b[38;5;124mmaxwell\u001b[39m\u001b[38;5;124m'\u001b[39m, \u001b[38;5;241m0\u001b[39m, \u001b[38;5;28mint\u001b[39m(\u001b[38;5;241m1e4\u001b[39m),\u001b[38;5;28mint\u001b[39m(\u001b[38;5;241m4.2e5\u001b[39m),\u001b[38;5;241m2\u001b[39m, \u001b[38;5;241m10\u001b[39m, \u001b[38;5;241m0\u001b[39m)\n\u001b[0;32m      5\u001b[0m np\u001b[38;5;241m.\u001b[39msave(\u001b[38;5;124m'\u001b[39m\u001b[38;5;124m./bosch_data_1011_ratio08_trench_condition5_300wide/bosch_sf_test2\u001b[39m\u001b[38;5;124m'\u001b[39m, etchfilm)\n",
      "File \u001b[1;32md:\\ysy\\etching\\Multi_Species_bosch_etching_countByReaction_mirror.py:641\u001b[0m, in \u001b[0;36metching.inputParticle\u001b[1;34m(self, film, parcel, velGeneratorType, typeID, inputCount, max_react_count, depo_count_type, Zgap, step)\u001b[0m\n\u001b[0;32m    639\u001b[0m \u001b[38;5;28mself\u001b[39m\u001b[38;5;241m.\u001b[39msurface_depo_mirror \u001b[38;5;241m=\u001b[39m np\u001b[38;5;241m.\u001b[39mzeros((\u001b[38;5;28mself\u001b[39m\u001b[38;5;241m.\u001b[39mcellSizeX\u001b[38;5;241m+\u001b[39m\u001b[38;5;28mint\u001b[39m(\u001b[38;5;28mself\u001b[39m\u001b[38;5;241m.\u001b[39mmirrorGap\u001b[38;5;241m*\u001b[39m\u001b[38;5;241m2\u001b[39m), \u001b[38;5;28mself\u001b[39m\u001b[38;5;241m.\u001b[39mcellSizeY\u001b[38;5;241m+\u001b[39m\u001b[38;5;28mint\u001b[39m(\u001b[38;5;28mself\u001b[39m\u001b[38;5;241m.\u001b[39mmirrorGap\u001b[38;5;241m*\u001b[39m\u001b[38;5;241m2\u001b[39m), \u001b[38;5;28mself\u001b[39m\u001b[38;5;241m.\u001b[39mcellSizeZ))\n\u001b[0;32m    640\u001b[0m \u001b[38;5;28mself\u001b[39m\u001b[38;5;241m.\u001b[39mlog\u001b[38;5;241m.\u001b[39minfo(\u001b[38;5;124m'\u001b[39m\u001b[38;5;124mcircle step:\u001b[39m\u001b[38;5;132;01m{}\u001b[39;00m\u001b[38;5;124m'\u001b[39m\u001b[38;5;241m.\u001b[39mformat(step))\n\u001b[1;32m--> 641\u001b[0m result \u001b[38;5;241m=\u001b[39m  \u001b[38;5;28mself\u001b[39m\u001b[38;5;241m.\u001b[39mrunEtch(velGeneratorType, typeID, inputCount, max_react_count, Zgap, step)\n\u001b[0;32m    642\u001b[0m \u001b[38;5;66;03m# if np.any(result[0][:, :, self.depoThick]) != 0:\u001b[39;00m\n\u001b[0;32m    643\u001b[0m \u001b[38;5;66;03m#     break             \u001b[39;00m\n\u001b[0;32m    644\u001b[0m \u001b[38;5;66;03m# del self.log, self.fh \u001b[39;00m\n\u001b[0;32m    645\u001b[0m \u001b[38;5;28;01mreturn\u001b[39;00m result\n",
      "File \u001b[1;32md:\\ysy\\etching\\Multi_Species_bosch_etching_countByReaction_mirror.py:463\u001b[0m, in \u001b[0;36metching.runEtch\u001b[1;34m(self, velGeneratorType, typeID, inputCount, max_react_count, emptyZ, step)\u001b[0m\n\u001b[0;32m    457\u001b[0m previous_percentage \u001b[38;5;241m=\u001b[39m \u001b[38;5;241m0\u001b[39m  \u001b[38;5;66;03m# 记录上一次的百分比\u001b[39;00m\n\u001b[0;32m    458\u001b[0m \u001b[38;5;28;01mwhile\u001b[39;00m \u001b[38;5;28mself\u001b[39m\u001b[38;5;241m.\u001b[39mparcel\u001b[38;5;241m.\u001b[39mshape[\u001b[38;5;241m0\u001b[39m] \u001b[38;5;241m>\u001b[39m \u001b[38;5;241m500\u001b[39m:\n\u001b[0;32m    459\u001b[0m     \u001b[38;5;66;03m# if t < 200*self.timeStep:\u001b[39;00m\n\u001b[0;32m    460\u001b[0m     \u001b[38;5;66;03m#     tstep = 2 * self.timeStep\u001b[39;00m\n\u001b[0;32m    461\u001b[0m     \u001b[38;5;66;03m# else:\u001b[39;00m\n\u001b[0;32m    462\u001b[0m     \u001b[38;5;66;03m#     tstep = self.timeStep\u001b[39;00m\n\u001b[1;32m--> 463\u001b[0m     depo_count, ddshape, maxdd, ddi, dl1 \u001b[38;5;241m=\u001b[39m \u001b[38;5;28mself\u001b[39m\u001b[38;5;241m.\u001b[39mgetAcc_depo(tstep, planes)\n\u001b[0;32m    464\u001b[0m     \u001b[38;5;66;03m# print('parcel', self.parcel.shape)\u001b[39;00m\n\u001b[0;32m    465\u001b[0m     count_reaction \u001b[38;5;241m+\u001b[39m\u001b[38;5;241m=\u001b[39m depo_count\n",
      "File \u001b[1;32md:\\ysy\\etching\\Multi_Species_bosch_etching_countByReaction_mirror.py:360\u001b[0m, in \u001b[0;36metching.getAcc_depo\u001b[1;34m(self, tStep, planes)\u001b[0m\n\u001b[0;32m    358\u001b[0m \u001b[38;5;28mself\u001b[39m\u001b[38;5;241m.\u001b[39mremoveFloat()\n\u001b[0;32m    359\u001b[0m \u001b[38;5;66;03m# print(pos_cp)\u001b[39;00m\n\u001b[1;32m--> 360\u001b[0m depo_count, ddshape, maxdd, ddi, dl1 \u001b[38;5;241m=\u001b[39m \u001b[38;5;28mself\u001b[39m\u001b[38;5;241m.\u001b[39metching_film(planes)\n\u001b[0;32m    362\u001b[0m \u001b[38;5;66;03m# self.parcel[:, :3] += self.parcel[:, 3:6] * tStep \u001b[39;00m\n\u001b[0;32m    363\u001b[0m \u001b[38;5;66;03m# i = np.floor((self.parcel[:, 0]/self.celllength) + 0.5).astype(int)\u001b[39;00m\n\u001b[0;32m    364\u001b[0m \u001b[38;5;66;03m# j = np.floor((self.parcel[:, 1]/self.celllength) + 0.5).astype(int)\u001b[39;00m\n\u001b[1;32m   (...)\u001b[0m\n\u001b[0;32m    369\u001b[0m \n\u001b[0;32m    370\u001b[0m \u001b[38;5;66;03m# 预计算 1/self.celllength，避免重复计算\u001b[39;00m\n\u001b[0;32m    371\u001b[0m inv_celllength \u001b[38;5;241m=\u001b[39m \u001b[38;5;241m1.0\u001b[39m \u001b[38;5;241m/\u001b[39m \u001b[38;5;28mself\u001b[39m\u001b[38;5;241m.\u001b[39mcelllength\n",
      "File \u001b[1;32md:\\ysy\\etching\\Multi_Species_bosch_etching_countByReaction_mirror.py:305\u001b[0m, in \u001b[0;36metching.etching_film\u001b[1;34m(self, planes)\u001b[0m\n\u001b[0;32m    302\u001b[0m \u001b[38;5;28mself\u001b[39m\u001b[38;5;241m.\u001b[39msurface_depo_mirror[\u001b[38;5;241m-\u001b[39m\u001b[38;5;28mself\u001b[39m\u001b[38;5;241m.\u001b[39mmirrorGap:, \u001b[38;5;241m-\u001b[39m\u001b[38;5;28mself\u001b[39m\u001b[38;5;241m.\u001b[39mmirrorGap:, :] \u001b[38;5;241m=\u001b[39m surface_depo[:\u001b[38;5;28mself\u001b[39m\u001b[38;5;241m.\u001b[39mmirrorGap, :\u001b[38;5;28mself\u001b[39m\u001b[38;5;241m.\u001b[39mmirrorGap, :]\n\u001b[0;32m    303\u001b[0m \u001b[38;5;66;03m# mirror end\u001b[39;00m\n\u001b[1;32m--> 305\u001b[0m surface_tree \u001b[38;5;241m=\u001b[39m KDTree(np\u001b[38;5;241m.\u001b[39margwhere(\u001b[38;5;28mself\u001b[39m\u001b[38;5;241m.\u001b[39msurface_depo_mirror \u001b[38;5;241m==\u001b[39m \u001b[38;5;28;01mTrue\u001b[39;00m)\u001b[38;5;241m*\u001b[39m\u001b[38;5;28mself\u001b[39m\u001b[38;5;241m.\u001b[39mcelllength)\n\u001b[0;32m    307\u001b[0m to_depo \u001b[38;5;241m=\u001b[39m np\u001b[38;5;241m.\u001b[39mwhere(depo_parcel \u001b[38;5;241m==\u001b[39m \u001b[38;5;28mtype\u001b[39m[\u001b[38;5;241m0\u001b[39m])[\u001b[38;5;241m0\u001b[39m] \u001b[38;5;66;03m#etching\u001b[39;00m\n\u001b[0;32m    308\u001b[0m pos_1[:, \u001b[38;5;241m0\u001b[39m] \u001b[38;5;241m+\u001b[39m\u001b[38;5;241m=\u001b[39m \u001b[38;5;28mself\u001b[39m\u001b[38;5;241m.\u001b[39mmirrorGap\u001b[38;5;241m*\u001b[39m\u001b[38;5;28mself\u001b[39m\u001b[38;5;241m.\u001b[39mcelllength\n",
      "File \u001b[1;32mc:\\Users\\urcs049\\AppData\\Local\\anaconda3\\Lib\\site-packages\\numpy\\core\\numeric.py:608\u001b[0m, in \u001b[0;36margwhere\u001b[1;34m(a)\u001b[0m\n\u001b[0;32m    606\u001b[0m     \u001b[38;5;66;03m# then remove the added dimension\u001b[39;00m\n\u001b[0;32m    607\u001b[0m     \u001b[38;5;28;01mreturn\u001b[39;00m argwhere(a)[:,:\u001b[38;5;241m0\u001b[39m]\n\u001b[1;32m--> 608\u001b[0m \u001b[38;5;28;01mreturn\u001b[39;00m transpose(nonzero(a))\n",
      "File \u001b[1;32mc:\\Users\\urcs049\\AppData\\Local\\anaconda3\\Lib\\site-packages\\numpy\\core\\fromnumeric.py:1973\u001b[0m, in \u001b[0;36mnonzero\u001b[1;34m(a)\u001b[0m\n\u001b[0;32m   1881\u001b[0m \u001b[38;5;129m@array_function_dispatch\u001b[39m(_nonzero_dispatcher)\n\u001b[0;32m   1882\u001b[0m \u001b[38;5;28;01mdef\u001b[39;00m \u001b[38;5;21mnonzero\u001b[39m(a):\n\u001b[0;32m   1883\u001b[0m \u001b[38;5;250m    \u001b[39m\u001b[38;5;124;03m\"\"\"\u001b[39;00m\n\u001b[0;32m   1884\u001b[0m \u001b[38;5;124;03m    Return the indices of the elements that are non-zero.\u001b[39;00m\n\u001b[0;32m   1885\u001b[0m \n\u001b[1;32m   (...)\u001b[0m\n\u001b[0;32m   1971\u001b[0m \n\u001b[0;32m   1972\u001b[0m \u001b[38;5;124;03m    \"\"\"\u001b[39;00m\n\u001b[1;32m-> 1973\u001b[0m     \u001b[38;5;28;01mreturn\u001b[39;00m _wrapfunc(a, \u001b[38;5;124m'\u001b[39m\u001b[38;5;124mnonzero\u001b[39m\u001b[38;5;124m'\u001b[39m)\n",
      "File \u001b[1;32mc:\\Users\\urcs049\\AppData\\Local\\anaconda3\\Lib\\site-packages\\numpy\\core\\fromnumeric.py:59\u001b[0m, in \u001b[0;36m_wrapfunc\u001b[1;34m(obj, method, *args, **kwds)\u001b[0m\n\u001b[0;32m     56\u001b[0m     \u001b[38;5;28;01mreturn\u001b[39;00m _wrapit(obj, method, \u001b[38;5;241m*\u001b[39margs, \u001b[38;5;241m*\u001b[39m\u001b[38;5;241m*\u001b[39mkwds)\n\u001b[0;32m     58\u001b[0m \u001b[38;5;28;01mtry\u001b[39;00m:\n\u001b[1;32m---> 59\u001b[0m     \u001b[38;5;28;01mreturn\u001b[39;00m bound(\u001b[38;5;241m*\u001b[39margs, \u001b[38;5;241m*\u001b[39m\u001b[38;5;241m*\u001b[39mkwds)\n\u001b[0;32m     60\u001b[0m \u001b[38;5;28;01mexcept\u001b[39;00m \u001b[38;5;167;01mTypeError\u001b[39;00m:\n\u001b[0;32m     61\u001b[0m     \u001b[38;5;66;03m# A TypeError occurs if the object does have such a method in its\u001b[39;00m\n\u001b[0;32m     62\u001b[0m     \u001b[38;5;66;03m# class, but its signature is not identical to that of NumPy's. This\u001b[39;00m\n\u001b[1;32m   (...)\u001b[0m\n\u001b[0;32m     66\u001b[0m     \u001b[38;5;66;03m# Call _wrapit from within the except clause to ensure a potential\u001b[39;00m\n\u001b[0;32m     67\u001b[0m     \u001b[38;5;66;03m# exception has a traceback chain.\u001b[39;00m\n\u001b[0;32m     68\u001b[0m     \u001b[38;5;28;01mreturn\u001b[39;00m _wrapit(obj, method, \u001b[38;5;241m*\u001b[39margs, \u001b[38;5;241m*\u001b[39m\u001b[38;5;241m*\u001b[39mkwds)\n",
      "\u001b[1;31mKeyboardInterrupt\u001b[0m: "
     ]
    }
   ],
   "source": [
    "cicle = 100\n",
    "celllength=1e-5\n",
    "parcel = np.array([[center*celllength, center*celllength, 159*celllength, 0, 0, 1, center, center, 159, 0]])\n",
    "step1 = testEtch.inputParticle(etchfilm, parcel, 'maxwell', 0, int(1e4),int(4.2e5),2, 10, 0)\n",
    "np.save('./bosch_data_1011_ratio08_trench_condition5_300wide/bosch_sf_test2', etchfilm)"
   ]
  },
  {
   "cell_type": "code",
   "execution_count": null,
   "metadata": {},
   "outputs": [],
   "source": [
    "cicle = 100\n",
    "celllength=1e-5\n",
    "parcel = np.array([[center*celllength, center*celllength, 159*celllength, 0, 0, 1, center, center, 159, 0]])\n",
    "\n",
    "for i in range(cicle):\n",
    "    step1 = testEtch.inputParticle(etchfilm, parcel, 'maxwell', 0, int(2e4),int(4.2e5),2, 10, i)\n",
    "    indice_step1 = etchfilm[:, :, :, 0] >= 9\n",
    "    etchfilm[indice_step1, 0] = 10\n",
    "    depth = step1[1] \n",
    "    parcel = np.array([[center*celllength, center*celllength, 159*celllength, 0, 0, 1, center, center, 159, 0]])\n",
    "    if depth < 50:\n",
    "        film = np.zeros((trench_thick, int(center*2), etchfilm.shape[2] + 50, 3))\n",
    "        film[:, :, 50:] = etchfilm\n",
    "        film[:, :, :50, 0] = 10\n",
    "        etchfilm = film\n",
    "        parcel[:, 2] += 50*celllength\n",
    "        parcel[:, 8] += 50\n",
    "    print('film:', etchfilm.shape)\n",
    "    np.save('./bosch_data_1011_ratio08_trench_condition5_300wide/bosch_sf_step_{}_sf'.format(i), etchfilm)\n",
    "    step2 = testEtch.inputParticle(etchfilm, parcel, 'maxwell', 1, int(2e4),int(7e4), 1, 10, i)\n",
    "    parcel = np.array([[center*celllength, center*celllength, 159*celllength, 0, 0, 1, center, center, 159, 0]])\n",
    "    indice_step2 = etchfilm[:, :, :, 0] < 0\n",
    "    etchfilm[indice_step2, 0] = 0\n",
    "    indice_c2 = etchfilm[:, :, :, 1] != 0\n",
    "    etchfilm[indice_c2, 1] = 10\n",
    "    np.save('./bosch_data_1011_ratio08_trench_condition5_300wide/bosch_sf_step_{}_c4f8'.format(i), etchfilm)\n",
    "    step3 = testEtch.inputParticle(etchfilm, parcel, 'updown', 2, int(2e4),int(1e5), 4, 10, i)\n",
    "    parcel = np.array([[center*celllength, center*celllength, 159*celllength, 0, 0, 1, center, center, 159, 0]])\n",
    "    indice_c3 = np.logical_and(etchfilm[:, :, :, 1]>9, etchfilm[:, :, :, 1]<10)\n",
    "    etchfilm[indice_c3, 1] = 10\n",
    "    indice_step2 = etchfilm[:, :, :, 0] != 10\n",
    "    etchfilm[indice_step2, 0] = 0\n",
    "    indice_c2 = etchfilm[:, :, :, 1] != 0\n",
    "    etchfilm[indice_c2, 1] = 10\n",
    "    np.save('./bosch_data_1011_ratio08_trench_condition5_300wide/bosch_sf_step_{}_Ar'.format(i), etchfilm)"
   ]
  },
  {
   "cell_type": "code",
   "execution_count": 32,
   "metadata": {},
   "outputs": [],
   "source": [
    "np.save('./bosch_data_1001_ratio08/bosch_sf_stepTest_c4f8', etchfilm)"
   ]
  },
  {
   "cell_type": "code",
   "execution_count": 17,
   "metadata": {},
   "outputs": [],
   "source": [
    "indice_c3 = np.logical_and(etching[:, :, :, 1]>9, etching[:, :, :, 1]<10)\n",
    "etching[indice_c3, 1] = 10\n",
    "\n",
    "indice_step2 = etching[:, :, :, 0] != 10\n",
    "etching[indice_step2, 0] = 0\n",
    "indice_c2 = etching[:, :, :, 1] != 0\n",
    "etching[indice_c2, 1] = 10"
   ]
  },
  {
   "cell_type": "code",
   "execution_count": null,
   "metadata": {},
   "outputs": [],
   "source": [
    "depo1 = torch.Tensor(etchfilm[:, :, :, 1]>0).to_sparse()\n",
    "depo1 = depo1.indices().numpy().T\n",
    "\n",
    "substrute = torch.Tensor(etchfilm[:, :, :,0]!=0).to_sparse()\n",
    "substrute = substrute.indices().numpy().T\n",
    "\n",
    "mask = torch.Tensor(etchfilm[:, :, :,2]==10).to_sparse()\n",
    "mask = mask.indices().numpy().T\n",
    "\n",
    "maskmesh = pv.PolyData(mask)\n",
    "maskmesh[\"radius\"] = np.ones(mask.shape[0])*0.5\n",
    "\n",
    "depomesh = pv.PolyData(depo1)\n",
    "depomesh[\"radius\"] = np.ones(depo1.shape[0])*0.5\n",
    "geom = pv.Box()\n",
    "\n",
    "submesh = pv.PolyData(substrute)\n",
    "submesh[\"radius\"] = np.ones(substrute.shape[0])*0.5\n",
    "\n",
    "# Progress bar is a new feature on master branch\n",
    "maskglyphed = maskmesh.glyph(scale=\"radius\", geom=geom) # progress_bar=True)\n",
    "depoglyphed = depomesh.glyph(scale=\"radius\", geom=geom) # progress_bar=True)\n",
    "subglyphed = submesh.glyph(scale=\"radius\", geom=geom) # progress_bar=True)\n",
    "\n",
    "p = pv.Plotter()\n",
    "p.add_mesh(maskglyphed, color='green')\n",
    "# p.add_mesh(depoglyphed, color='cyan')\n",
    "p.add_mesh(subglyphed, color='dimgray')\n",
    "p.enable_eye_dome_lighting()\n",
    "p.show()"
   ]
  },
  {
   "cell_type": "code",
   "execution_count": null,
   "metadata": {},
   "outputs": [],
   "source": [
    "# cyan = torch.Tensor(np.logical_and(etching[:50, :, :,1]==10, etching[:50, :, :,0]==0)).to_sparse()\n",
    "cyan = torch.Tensor(etching[:50, :, :,1]!=0).to_sparse()\n",
    "cyan = cyan.indices().numpy().T\n",
    "\n",
    "gray = torch.Tensor(etching[:50, :, :,0]!=0).to_sparse()\n",
    "gray = gray.indices().numpy().T\n",
    "\n",
    "mask = torch.Tensor(etching[:50, :, :,2]!=0).to_sparse()\n",
    "mask = mask.indices().numpy().T\n",
    "\n",
    "maskmesh = pv.PolyData(mask)\n",
    "maskmesh[\"radius\"] = np.ones(mask.shape[0])*0.5\n",
    "\n",
    "depomesh = pv.PolyData(cyan)\n",
    "depomesh[\"radius\"] = np.ones(cyan.shape[0])*0.5\n",
    "geom = pv.Box()\n",
    "\n",
    "submesh = pv.PolyData(gray)\n",
    "submesh[\"radius\"] = np.ones(gray.shape[0])*0.5\n",
    "\n",
    "# Progress bar is a new feature on master branch\n",
    "maskglyphed = maskmesh.glyph(scale=\"radius\", geom=geom) # progress_bar=True)\n",
    "depoglyphed = depomesh.glyph(scale=\"radius\", geom=geom) # progress_bar=True)\n",
    "subglyphed = submesh.glyph(scale=\"radius\", geom=geom) # progress_bar=True)\n",
    "\n",
    "p = pv.Plotter()\n",
    "p.add_mesh(maskglyphed, color='green')\n",
    "p.add_mesh(depoglyphed, color='cyan')\n",
    "p.add_mesh(subglyphed, color='dimgray')\n",
    "p.enable_eye_dome_lighting()\n",
    "p.show()"
   ]
  },
  {
   "cell_type": "code",
   "execution_count": null,
   "metadata": {},
   "outputs": [],
   "source": [
    "# cyan = torch.Tensor(np.logical_and(etching[:50, :, :,1]==10, etching[:50, :, :,0]==0)).to_sparse()\n",
    "cyan = torch.Tensor(etching[:50, :, :,1]!=0).to_sparse()\n",
    "cyan = cyan.indices().numpy().T\n",
    "\n",
    "gray = torch.Tensor(etching[:50, :, :,0]!=0).to_sparse()\n",
    "gray = gray.indices().numpy().T\n",
    "\n",
    "mask = torch.Tensor(etching[:50, :, :,2]!=0).to_sparse()\n",
    "mask = mask.indices().numpy().T\n",
    "\n",
    "maskmesh = pv.PolyData(mask)\n",
    "maskmesh[\"radius\"] = np.ones(mask.shape[0])*0.5\n",
    "\n",
    "depomesh = pv.PolyData(cyan)\n",
    "depomesh[\"radius\"] = np.ones(cyan.shape[0])*0.5\n",
    "geom = pv.Box()\n",
    "\n",
    "submesh = pv.PolyData(gray)\n",
    "submesh[\"radius\"] = np.ones(gray.shape[0])*0.5\n",
    "\n",
    "# Progress bar is a new feature on master branch\n",
    "maskglyphed = maskmesh.glyph(scale=\"radius\", geom=geom) # progress_bar=True)\n",
    "depoglyphed = depomesh.glyph(scale=\"radius\", geom=geom) # progress_bar=True)\n",
    "subglyphed = submesh.glyph(scale=\"radius\", geom=geom) # progress_bar=True)\n",
    "\n",
    "p = pv.Plotter()\n",
    "p.add_mesh(maskglyphed, color='green')\n",
    "p.add_mesh(depoglyphed, color='cyan')\n",
    "p.add_mesh(subglyphed, color='dimgray')\n",
    "p.enable_eye_dome_lighting()\n",
    "p.show()"
   ]
  },
  {
   "cell_type": "code",
   "execution_count": null,
   "metadata": {},
   "outputs": [],
   "source": []
  }
 ],
 "metadata": {
  "kernelspec": {
   "display_name": "base",
   "language": "python",
   "name": "python3"
  },
  "language_info": {
   "codemirror_mode": {
    "name": "ipython",
    "version": 3
   },
   "file_extension": ".py",
   "mimetype": "text/x-python",
   "name": "python",
   "nbconvert_exporter": "python",
   "pygments_lexer": "ipython3",
   "version": "3.12.5"
  }
 },
 "nbformat": 4,
 "nbformat_minor": 2
}

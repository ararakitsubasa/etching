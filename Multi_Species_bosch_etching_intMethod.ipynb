{
 "cells": [
  {
   "cell_type": "code",
   "execution_count": null,
   "metadata": {},
   "outputs": [],
   "source": [
    "import numpy as np\n",
    "import time as Time\n",
    "from numba import jit\n",
    "import matplotlib.pyplot as plt\n",
    "import pyvista as pv\n",
    "import torch"
   ]
  },
  {
   "cell_type": "code",
   "execution_count": null,
   "metadata": {},
   "outputs": [],
   "source": [
    "maskUp = 2.09\n",
    "maskBottom = 2.6\n",
    "maskDeep = 2.808\n",
    "\n",
    "diameter = 60\n",
    "maskUp_sim = maskUp/maskBottom*diameter\n",
    "maskDeep_sim = maskDeep/maskBottom*diameter\n",
    "print(maskUp_sim)\n",
    "print(maskDeep_sim)\n",
    "\n",
    "bottom = 100\n",
    "height = bottom + int(maskDeep_sim)\n",
    "\n",
    "\n",
    "# vertical mask\n",
    "film = np.zeros((100, 100, 160, 3))\n",
    "\n",
    "bottom = 100\n",
    "height = 140\n",
    "\n",
    "density = 10\n",
    "\n",
    "sphere = np.ones((100, 100, 160), dtype=bool)\n",
    "\n",
    "radius = 30\n",
    "\n",
    "center = 50\n",
    "for i in range(sphere.shape[0]):\n",
    "    for j in range(sphere.shape[1]):\n",
    "        if np.abs(i-center)*np.abs(i-center) + np.abs(j-center)*np.abs(j-center) < radius*radius:\n",
    "            sphere[i, j, bottom:height] = 0\n",
    "\n",
    "film[sphere, 2] = density\n",
    "film[:, :, height:, :] = 0\n",
    "film[:, :, 0:bottom, 0] = density # bottom\n",
    "film[:, :, 0:bottom, 1] = 0 # bottom\n",
    "film[:, :, 0:bottom, 2] = 0 # bottom"
   ]
  },
  {
   "cell_type": "code",
   "execution_count": null,
   "metadata": {},
   "outputs": [],
   "source": [
    "maskUp = 2.09\n",
    "maskBottom = 2.6\n",
    "maskDeep = 2.808\n",
    "\n",
    "diameter = 260\n",
    "maskUp_sim = maskUp/maskBottom*diameter\n",
    "maskDeep_sim = maskDeep/maskBottom*diameter\n",
    "print(maskUp_sim)\n",
    "print(maskDeep_sim)\n",
    "\n",
    "film = np.zeros((300, 300, 400, 3))\n",
    "\n",
    "bottom = 100\n",
    "height = bottom + int(maskDeep_sim)\n",
    "\n",
    "density = 10\n",
    "\n",
    "sphere = np.ones((300, 300, 400), dtype=bool)\n",
    "\n",
    "# diameter = 120\n",
    "\n",
    "center = 150\n",
    "for k in range(int(diameter/2 - int(maskUp_sim/2))):\n",
    "    # print(diameter/2 - k)\n",
    "    radius = diameter/2 - k\n",
    "    # print('deep', int(bottom + maskDeep_sim/(diameter/2 - maskUp_sim/2)*k))\n",
    "    bottom_step = int(bottom + maskDeep_sim/(diameter/2 - maskUp_sim/2)*k)\n",
    "    for i in range(sphere.shape[0]):\n",
    "        for j in range(sphere.shape[1]):\n",
    "            if np.abs(i-center)*np.abs(i-center) + np.abs(j-center)*np.abs(j-center) < radius*radius:\n",
    "                sphere[i, j, bottom_step:bottom_step+int(maskDeep_sim/(diameter/2 - maskUp_sim/2))] = 0\n",
    "\n",
    "film[sphere, 2] = density\n",
    "film[:, :, height:, :] = 0\n",
    "film[:, :, 0:bottom, 0] = density # bottom\n",
    "film[:, :, 0:bottom, 1] = 0 # bottom\n",
    "film[:, :, 0:bottom, 2] = 0 # bottom"
   ]
  },
  {
   "cell_type": "code",
   "execution_count": null,
   "metadata": {},
   "outputs": [],
   "source": [
    "depo1 = torch.Tensor(film[:, :center, :, 1]>0).to_sparse()\n",
    "depo1 = depo1.indices().numpy().T\n",
    "\n",
    "substrute = torch.Tensor(film[:, :center, :,0]!=0).to_sparse()\n",
    "substrute = substrute.indices().numpy().T\n",
    "\n",
    "mask = torch.Tensor(film[:, :center, :,2]!=0).to_sparse()\n",
    "mask = mask.indices().numpy().T\n",
    "\n",
    "maskmesh = pv.PolyData(mask)\n",
    "maskmesh[\"radius\"] = np.ones(mask.shape[0])*0.5\n",
    "\n",
    "depomesh = pv.PolyData(depo1)\n",
    "depomesh[\"radius\"] = np.ones(depo1.shape[0])*0.5\n",
    "geom = pv.Box()\n",
    "\n",
    "submesh = pv.PolyData(substrute)\n",
    "submesh[\"radius\"] = np.ones(substrute.shape[0])*0.5\n",
    "\n",
    "# Progress bar is a new feature on master branch\n",
    "maskglyphed = maskmesh.glyph(scale=\"radius\", geom=geom) # progress_bar=True)\n",
    "depoglyphed = depomesh.glyph(scale=\"radius\", geom=geom) # progress_bar=True)\n",
    "subglyphed = submesh.glyph(scale=\"radius\", geom=geom) # progress_bar=True)\n",
    "\n",
    "p = pv.Plotter()\n",
    "p.add_mesh(maskglyphed, color='green')\n",
    "# p.add_mesh(depoglyphed, color='cyan')\n",
    "p.add_mesh(subglyphed, color='dimgray')\n",
    "p.enable_eye_dome_lighting()\n",
    "p.show()"
   ]
  },
  {
   "cell_type": "code",
   "execution_count": null,
   "metadata": {},
   "outputs": [],
   "source": []
  },
  {
   "cell_type": "code",
   "execution_count": null,
   "metadata": {},
   "outputs": [],
   "source": [
    "sumFilm = np.sum(film, axis=-1)\n",
    "\n",
    "print(sumFilm.shape)"
   ]
  },
  {
   "cell_type": "code",
   "execution_count": null,
   "metadata": {},
   "outputs": [],
   "source": [
    "# film = np.sum(etching[0], axis=-1)\n",
    "\n",
    "depo1 = torch.Tensor(film[:, :, :, 5]!=0).to_sparse()\n",
    "depo1 = depo1.indices().numpy().T\n",
    "\n",
    "substrute = torch.Tensor(film[:, :, :,0]!=0).to_sparse()\n",
    "substrute = substrute.indices().numpy().T\n",
    "depomesh = pv.PolyData(depo1)\n",
    "depomesh[\"radius\"] = np.ones(depo1.shape[0])*0.5\n",
    "geom = pv.Box()\n",
    "\n",
    "submesh = pv.PolyData(substrute)\n",
    "submesh[\"radius\"] = np.ones(substrute.shape[0])*0.5\n",
    "\n",
    "# Progress bar is a new feature on master branch\n",
    "depoglyphed = depomesh.glyph(scale=\"radius\", geom=geom) # progress_bar=True)\n",
    "subglyphed = submesh.glyph(scale=\"radius\", geom=geom) # progress_bar=True)\n",
    "\n",
    "p = pv.Plotter()\n",
    "# p.add_mesh(depoglyphed, color='cyan')\n",
    "p.add_mesh(subglyphed, color='dimgray')\n",
    "p.enable_eye_dome_lighting()\n",
    "p.show()"
   ]
  },
  {
   "cell_type": "code",
   "execution_count": null,
   "metadata": {},
   "outputs": [],
   "source": [
    "etchfilm = film"
   ]
  },
  {
   "cell_type": "code",
   "execution_count": null,
   "metadata": {},
   "outputs": [],
   "source": [
    "import Multi_Species_SF_etching"
   ]
  },
  {
   "cell_type": "code",
   "execution_count": null,
   "metadata": {},
   "outputs": [],
   "source": [
    "logname = 'Multi_species_benchmark_0729'\n",
    "testEtch = Multi_Species_SF_etching.etching(mirror=True,inputMethod='bunch', pressure_pa=0.001, temperature=300, chamberSize=etchfilm.shape,\n",
    "                                         depoThick=120, center_with_direction=np.array([[etchfilm.shape[0]/2,center,75]]), \n",
    "                                         range3D=np.array([[0, etchfilm.shape[0], 0, etchfilm.shape[1], 0, etchfilm.shape[2]]]), InOrOut=[1], yield_hist=np.array([None]),\n",
    "                                        reaction_type=False, param = [1.6, -0.7], N = 300000, \n",
    "                                        sub_xy=[0,0], film=etchfilm, n=1, cellSize=etchfilm.shape, \n",
    "                                        celllength=1e-5, kdtreeN=5, tstep=1e-5,\n",
    "                                        substrateTop=40,posGeneratorType='top', logname=logname)\n",
    "\n",
    "\n",
    "# etching = testEtch.depo_position_increase_cosVel_normal(125, int(7e6), 2e-3, 5)\n"
   ]
  },
  {
   "cell_type": "code",
   "execution_count": null,
   "metadata": {},
   "outputs": [],
   "source": [
    "react_table = np.array([[[0.1, -1, 0, 0], [1.0, 0,  0, 0], [0.0, 0, 0, 0]],\n",
    "                        [[0.8, -1, 1, 0], [0.0, 0,  0, 0], [0.0, 0, 0, 0]],\n",
    "                        [[1.0,  0, 0, 0], [1.0, 0, -2, 0], [1.0, 0, 0, 0]]])"
   ]
  },
  {
   "cell_type": "code",
   "execution_count": null,
   "metadata": {},
   "outputs": [],
   "source": [
    "Multi_Species_SF_etching.react_table = react_table"
   ]
  },
  {
   "cell_type": "code",
   "execution_count": null,
   "metadata": {},
   "outputs": [],
   "source": [
    "Multi_Species_SF_etching.react_table"
   ]
  },
  {
   "cell_type": "code",
   "execution_count": null,
   "metadata": {},
   "outputs": [],
   "source": [
    "T = 300\n",
    "Cm = (2*1.380649e-23*T/(27*1.66e-27) )**0.5 # (2kT/m)**0.5 27 for the Al\n",
    "\n",
    "def max_velocity_u( random1, random2):\n",
    "    return Cm*np.sqrt(-np.log(random1))*(np.cos(2*np.pi*random2))\n",
    "\n",
    "def max_velocity_w( random1, random2):\n",
    "    return Cm*np.sqrt(-np.log(random1))*(np.sin(2*np.pi*random2))\n",
    "\n",
    "def max_velocity_v( random3):\n",
    "    return -Cm*np.sqrt(-np.log(random3))"
   ]
  },
  {
   "cell_type": "code",
   "execution_count": null,
   "metadata": {},
   "outputs": [],
   "source": [
    "def velGenerator_benchmark_normal(IN):\n",
    "    velosity_matrix = np.zeros((IN, 3))\n",
    "    velosity_matrix[:, 0] = np.random.randn(IN)*0.01 - 0.005\n",
    "    velosity_matrix[:, 1] = -np.sqrt(2)/2\n",
    "    velosity_matrix[:, 2] = -np.sqrt(2)/2\n",
    "    energy = np.linalg.norm(velosity_matrix, axis=1)\n",
    "    velosity_matrix[:,0] = np.divide(velosity_matrix[:,0], energy)\n",
    "    velosity_matrix[:,1] = np.divide(velosity_matrix[:,1], energy)\n",
    "    velosity_matrix[:,2] = np.divide(velosity_matrix[:,2], energy)\n",
    "    return velosity_matrix"
   ]
  },
  {
   "cell_type": "code",
   "execution_count": null,
   "metadata": {},
   "outputs": [],
   "source": [
    "# F+ benchmark\n",
    "\n",
    "N = int(1e7)\n",
    "\n",
    "velosity_matrix = velGenerator_benchmark_normal(N)\n",
    "\n",
    "typeID = np.zeros(N)\n",
    "\n",
    "vel_type_shuffle = np.zeros((N, 4))\n",
    "vel_type_shuffle[:, :3] = velosity_matrix\n",
    "vel_type_shuffle[:, -1] = typeID\n",
    "\n",
    "np.random.shuffle(vel_type_shuffle)\n",
    "# print(typeID[:10])\n",
    "# print(velosity_matrix[0])\n",
    "print(vel_type_shuffle[:10])"
   ]
  },
  {
   "cell_type": "code",
   "execution_count": null,
   "metadata": {},
   "outputs": [],
   "source": [
    "# O2\n",
    "\n",
    "N = int(1e7)\n",
    "velosity_matrix = np.zeros((N, 3))\n",
    "# tstep=1e-5\n",
    "# celllength=1e-5\n",
    "# velosity_matrix[:, 0] = -1 * celllength /tstep\n",
    "# velosity_matrix[:, 1] = -1 * celllength /tstep\n",
    "Random1 = np.random.rand(N)\n",
    "Random2 = np.random.rand(N)\n",
    "Random3 = np.random.rand(N)\n",
    "velosity_matrix = np.array([max_velocity_u(Random1, Random2), \\\n",
    "                            max_velocity_w(Random1, Random2), \\\n",
    "                                max_velocity_v(Random3)]).T\n",
    "\n",
    "energy = np.linalg.norm(velosity_matrix, axis=1)\n",
    "velosity_matrix[:,0] = np.divide(velosity_matrix[:,0], energy)\n",
    "velosity_matrix[:,1] = np.divide(velosity_matrix[:,1], energy)\n",
    "velosity_matrix[:,2] = np.divide(velosity_matrix[:,2], energy)\n",
    "\n",
    "# velosity_matrix[:, 2] = -1 * celllength /tstep\n",
    "\n",
    "typeID = np.zeros(N)\n",
    "# FO_ratio = int(N/4)\n",
    "# typeID[-FO_ratio:] = 1\n",
    "\n",
    "# ion_ration = int(N/8)\n",
    "# typeID[-ion_ration:] = 2\n",
    "# velosity_matrix[-ion_ration:, 0] = np.random.rand(ion_ration)*0.001\n",
    "# velosity_matrix[-ion_ration:, 1] = np.random.rand(ion_ration)*0.001\n",
    "# velosity_matrix[-ion_ration:, 2] = -1 \n",
    "\n",
    "vel_type_shuffle = np.zeros((N, 4))\n",
    "vel_type_shuffle[:, :3] = velosity_matrix\n",
    "vel_type_shuffle[:, -1] = typeID\n",
    "\n",
    "np.random.shuffle(vel_type_shuffle)\n",
    "# print(typeID[:10])\n",
    "# print(velosity_matrix[0])\n",
    "print(vel_type_shuffle[:10])"
   ]
  },
  {
   "cell_type": "code",
   "execution_count": null,
   "metadata": {},
   "outputs": [],
   "source": [
    "# F+ Ar+ \n",
    "N = int(1e7)\n",
    "velosity_matrix = np.zeros((N, 3))\n",
    "\n",
    "typeID = np.zeros(N)\n",
    "\n",
    "ion_ration = int(N/8)\n",
    "typeID[-ion_ration:] = 2\n",
    "velosity_matrix[:, 0] = np.random.rand(N)*0.001\n",
    "velosity_matrix[:, 1] = np.random.rand(N)*0.001\n",
    "velosity_matrix[:, 2] = -1 \n",
    "\n",
    "vel_type_shuffle = np.zeros((N, 4))\n",
    "vel_type_shuffle[:, :3] = velosity_matrix\n",
    "vel_type_shuffle[:, -1] = typeID\n",
    "\n",
    "np.random.shuffle(vel_type_shuffle)\n",
    "# print(typeID[:10])\n",
    "# print(velosity_matrix[0])\n",
    "print(vel_type_shuffle[:10])"
   ]
  },
  {
   "cell_type": "code",
   "execution_count": null,
   "metadata": {},
   "outputs": [],
   "source": [
    "etching = testEtch.inputParticle(125,vel_type_shuffle,int(1e4),int(1e5),int(4e6),-1, 5)"
   ]
  },
  {
   "cell_type": "code",
   "execution_count": null,
   "metadata": {},
   "outputs": [],
   "source": [
    "etching = testEtch.inputParticle(125,vel_type_shuffle,int(1e3),int(4e6),int(1e6),-1, 5)"
   ]
  },
  {
   "cell_type": "code",
   "execution_count": null,
   "metadata": {},
   "outputs": [],
   "source": [
    "# step1 = testEtch.inputParticle(etchfilm, parcel, 'maxwell', 0, int(4e4), int(4e6), int(12e5),2, 10, 100)\n",
    "etching = testEtch.inputParticle(125,vel_type_shuffle,int(1e4),int(5e5),int(1e6),-1, 5)"
   ]
  },
  {
   "cell_type": "code",
   "execution_count": null,
   "metadata": {},
   "outputs": [],
   "source": [
    "testEtch.indice_inject"
   ]
  },
  {
   "cell_type": "code",
   "execution_count": null,
   "metadata": {},
   "outputs": [],
   "source": [
    "testEtch.indice_inject.shape"
   ]
  },
  {
   "cell_type": "code",
   "execution_count": null,
   "metadata": {},
   "outputs": [],
   "source": [
    "testEtch.planes.shape"
   ]
  },
  {
   "cell_type": "code",
   "execution_count": null,
   "metadata": {},
   "outputs": [],
   "source": [
    "np.save('./benchmark_etching/trench_method2_etch_rate_01_12e5', etchfilm)"
   ]
  },
  {
   "cell_type": "code",
   "execution_count": null,
   "metadata": {},
   "outputs": [],
   "source": [
    "etchfilm.shape"
   ]
  },
  {
   "cell_type": "code",
   "execution_count": null,
   "metadata": {},
   "outputs": [],
   "source": [
    "geom = pv.Box()\n",
    "\n",
    "substrute = torch.Tensor(etchfilm[:, :center, :,0]==density).to_sparse()\n",
    "# substrute = torch.Tensor(np.logical_and(etchfilm[:, :, :,0]!=density, etchfilm[:, :, :,0]!=0)).to_sparse()\n",
    "substrute = substrute.indices().numpy().T\n",
    "\n",
    "# cyan = torch.Tensor(np.logical_and(etchfilm[:, :, :,0]>=9, film[:, :, :]==0)).to_sparse()\n",
    "cyan = torch.Tensor(etchfilm[:, :center, :,2]==density).to_sparse()\n",
    "cyan = cyan.indices().numpy().T\n",
    "\n",
    "submesh = pv.PolyData(substrute)\n",
    "submesh[\"radius\"] = np.ones(substrute.shape[0])*0.5\n",
    "\n",
    "cyanmesh = pv.PolyData(cyan)\n",
    "cyanmesh[\"radius\"] = np.ones(cyan.shape[0])*0.5\n",
    "# Progress bar is a new feature on master branch\n",
    "cyanglyphed = cyanmesh.glyph(scale=\"radius\", geom=geom) # progress_bar=True)\n",
    "subglyphed = submesh.glyph(scale=\"radius\", geom=geom) # progress_bar=True)\n",
    "p = pv.Plotter()\n",
    "p.add_mesh(subglyphed, color='gray')\n",
    "p.add_mesh(cyanglyphed, color='cyan')\n",
    "p.enable_eye_dome_lighting()\n",
    "p.show()"
   ]
  },
  {
   "cell_type": "code",
   "execution_count": null,
   "metadata": {},
   "outputs": [],
   "source": [
    "geom = pv.Box()\n",
    "\n",
    "substrute = torch.Tensor(np.logical_and(etchfilm[:, :, :,0]!=density, etchfilm[:, :, :,0]!=0)).to_sparse()\n",
    "substrute = substrute.indices().numpy().T\n",
    "\n",
    "# cyan = torch.Tensor(np.logical_and(etchfilm[:, :, :,0]>=9, film[:, :, :]==0)).to_sparse()\n",
    "cyan = torch.Tensor(etchfilm[:, :, :,0]==density).to_sparse()\n",
    "cyan = cyan.indices().numpy().T\n",
    "\n",
    "submesh = pv.PolyData(substrute)\n",
    "submesh[\"radius\"] = np.ones(substrute.shape[0])*0.5\n",
    "\n",
    "cyanmesh = pv.PolyData(cyan)\n",
    "cyanmesh[\"radius\"] = np.ones(cyan.shape[0])*0.5\n",
    "# Progress bar is a new feature on master branch\n",
    "cyanglyphed = cyanmesh.glyph(scale=\"radius\", geom=geom) # progress_bar=True)\n",
    "subglyphed = submesh.glyph(scale=\"radius\", geom=geom) # progress_bar=True)\n",
    "p = pv.Plotter()\n",
    "p.add_mesh(subglyphed, color='gray')\n",
    "p.add_mesh(cyanglyphed, color='cyan')\n",
    "p.enable_eye_dome_lighting()\n",
    "p.show()"
   ]
  },
  {
   "cell_type": "code",
   "execution_count": null,
   "metadata": {},
   "outputs": [],
   "source": [
    "sumFilm = np.sum(etchfilm, axis=-1)\n",
    "\n",
    "depo1 = torch.Tensor(np.logical_and(etchfilm[:, :, :,1]!=0, etchfilm[:, :, :,2]!=0)).to_sparse()\n",
    "depo1 = depo1.indices().numpy().T\n",
    "\n",
    "depo2 = torch.Tensor(etchfilm[:, :, :,5]!=0).to_sparse()\n",
    "depo2 = depo2.indices().numpy().T\n",
    "\n",
    "substrute = torch.Tensor(etchfilm[:, :, :,0]!=0).to_sparse()\n",
    "substrute = substrute.indices().numpy().T\n",
    "depomesh = pv.PolyData(depo1)\n",
    "depomesh[\"radius\"] = np.ones(depo1.shape[0])*0.5\n",
    "depomesh2 = pv.PolyData(depo2)\n",
    "depomesh2[\"radius\"] = np.ones(depo2.shape[0])*0.5\n",
    "geom = pv.Box()\n",
    "\n",
    "submesh = pv.PolyData(substrute)\n",
    "submesh[\"radius\"] = np.ones(substrute.shape[0])*0.5\n",
    "\n",
    "# Progress bar is a new feature on master branch\n",
    "depoglyphed = depomesh.glyph(scale=\"radius\", geom=geom) # progress_bar=True)\n",
    "depoglyphed2 = depomesh2.glyph(scale=\"radius\", geom=geom) # progress_bar=True)\n",
    "subglyphed = submesh.glyph(scale=\"radius\", geom=geom) # progress_bar=True)\n",
    "\n",
    "p = pv.Plotter()\n",
    "p.add_mesh(depoglyphed, color='red')\n",
    "# p.add_mesh(depoglyphed2, color='cyan')\n",
    "p.add_mesh(subglyphed, color='dimgray')\n",
    "p.enable_eye_dome_lighting()\n",
    "p.show()"
   ]
  },
  {
   "cell_type": "code",
   "execution_count": null,
   "metadata": {},
   "outputs": [],
   "source": [
    "0.6**4"
   ]
  },
  {
   "cell_type": "code",
   "execution_count": null,
   "metadata": {},
   "outputs": [],
   "source": [
    "sumFilm = np.sum(etching[0], axis=-1)\n",
    "\n",
    "depo1 = torch.Tensor(np.logical_and(etching[0][:25, :, :,1]!=0, etching[0][:25, :, :,2]!=0)).to_sparse()\n",
    "depo1 = depo1.indices().numpy().T\n",
    "\n",
    "depo2 = torch.Tensor(etching[0][:25, :, :,5]!=0).to_sparse()\n",
    "depo2 = depo2.indices().numpy().T\n",
    "\n",
    "substrute = torch.Tensor(etching[0][:25, :, :,0]!=0).to_sparse()\n",
    "substrute = substrute.indices().numpy().T\n",
    "depomesh = pv.PolyData(depo1)\n",
    "depomesh[\"radius\"] = np.ones(depo1.shape[0])*0.5\n",
    "depomesh2 = pv.PolyData(depo2)\n",
    "depomesh2[\"radius\"] = np.ones(depo2.shape[0])*0.5\n",
    "geom = pv.Box()\n",
    "\n",
    "submesh = pv.PolyData(substrute)\n",
    "submesh[\"radius\"] = np.ones(substrute.shape[0])*0.5\n",
    "\n",
    "# Progress bar is a new feature on master branch\n",
    "depoglyphed = depomesh.glyph(scale=\"radius\", geom=geom) # progress_bar=True)\n",
    "depoglyphed2 = depomesh2.glyph(scale=\"radius\", geom=geom) # progress_bar=True)\n",
    "subglyphed = submesh.glyph(scale=\"radius\", geom=geom) # progress_bar=True)\n",
    "\n",
    "p = pv.Plotter()\n",
    "p.add_mesh(depoglyphed, color='red')\n",
    "p.add_mesh(depoglyphed2, color='cyan')\n",
    "p.add_mesh(subglyphed, color='dimgray')\n",
    "p.enable_eye_dome_lighting()\n",
    "p.show()"
   ]
  },
  {
   "cell_type": "code",
   "execution_count": null,
   "metadata": {},
   "outputs": [],
   "source": [
    "def removeFloat(film):  # fast scanZ\n",
    "    \n",
    "    # 获取当前平面的非零元素布尔索引\n",
    "    current_plane = film != 0\n",
    "\n",
    "    # 创建一个全是False的布尔数组来存储邻居的检查结果\n",
    "    neighbors = np.zeros_like(film, dtype=bool)\n",
    "\n",
    "    # 检查各个方向的邻居是否为零\n",
    "    neighbors[1:, :, :] |= film[:-1, :, :] != 0  # 上面的邻居不为0\n",
    "    neighbors[:-1, :, :] |= film[1:, :, :] != 0  # 下面的邻居不为0\n",
    "    neighbors[:, 1:, :] |= film[:, :-1, :] != 0  # 左边的邻居不为0\n",
    "    neighbors[:, :-1, :] |= film[:, 1:, :] != 0  # 右边的邻居不为0\n",
    "    neighbors[:, :, 1:] |= film[:, :, :-1] != 0  # 前面的邻居不为0\n",
    "    neighbors[:, :, :-1] |= film[:, :, 1:] != 0  # 后面的邻居不为0\n",
    "\n",
    "    # 孤立单元格的条件是当前平面元素不为0且所有方向的邻居都为0\n",
    "    condition = current_plane & ~neighbors\n",
    "\n",
    "    # 将孤立的单元格设为0\n",
    "    film[condition] = 0\n",
    "    \n",
    "    return film\n"
   ]
  },
  {
   "cell_type": "code",
   "execution_count": null,
   "metadata": {},
   "outputs": [],
   "source": [
    "testRemove = removeFloat(sumFilm)"
   ]
  },
  {
   "cell_type": "code",
   "execution_count": null,
   "metadata": {},
   "outputs": [],
   "source": [
    "depo1 = torch.Tensor(testRemove != 0).to_sparse()\n",
    "depo1 = depo1.indices().numpy().T\n",
    "depomesh = pv.PolyData(depo1)\n",
    "depomesh[\"radius\"] = np.ones(depo1.shape[0])*0.5\n",
    "depoglyphed = depomesh.glyph(scale=\"radius\", geom=geom) # progress_bar=True)\n",
    "p = pv.Plotter()\n",
    "p.add_mesh(depoglyphed, color='red')\n",
    "p.enable_eye_dome_lighting()\n",
    "p.show()"
   ]
  },
  {
   "cell_type": "code",
   "execution_count": null,
   "metadata": {},
   "outputs": [],
   "source": [
    "sumFilm = np.sum(etching[0], axis=-1)\n",
    "\n",
    "depo1 = torch.Tensor(np.logical_and(etching[0][:, :25, :,1]!=0, etching[0][:, :25, :,2]!=0)).to_sparse()\n",
    "depo1 = depo1.indices().numpy().T\n",
    "\n",
    "depo2 = torch.Tensor(etching[0][:, :25, :,5]!=0).to_sparse()\n",
    "depo2 = depo2.indices().numpy().T\n",
    "\n",
    "substrute = torch.Tensor(etching[0][:, :25, :,0]!=0).to_sparse()\n",
    "substrute = substrute.indices().numpy().T\n",
    "depomesh = pv.PolyData(depo1)\n",
    "depomesh[\"radius\"] = np.ones(depo1.shape[0])*0.5\n",
    "depomesh2 = pv.PolyData(depo2)\n",
    "depomesh2[\"radius\"] = np.ones(depo2.shape[0])*0.5\n",
    "geom = pv.Box()\n",
    "\n",
    "submesh = pv.PolyData(substrute)\n",
    "submesh[\"radius\"] = np.ones(substrute.shape[0])*0.5\n",
    "\n",
    "# Progress bar is a new feature on master branch\n",
    "depoglyphed = depomesh.glyph(scale=\"radius\", geom=geom) # progress_bar=True)\n",
    "depoglyphed2 = depomesh2.glyph(scale=\"radius\", geom=geom) # progress_bar=True)\n",
    "subglyphed = submesh.glyph(scale=\"radius\", geom=geom) # progress_bar=True)\n",
    "\n",
    "p = pv.Plotter()\n",
    "p.add_mesh(depoglyphed, color='red')\n",
    "p.add_mesh(depoglyphed2, color='cyan')\n",
    "p.add_mesh(subglyphed, color='dimgray')\n",
    "p.enable_eye_dome_lighting()\n",
    "p.show()"
   ]
  },
  {
   "cell_type": "code",
   "execution_count": null,
   "metadata": {},
   "outputs": [],
   "source": [
    "sumFilm = np.sum(etching[0], axis=-1)\n",
    "# np.logical_and(etching[0][:, :, :, 5]>0, sumFilm[:, :, :,]>0)\n",
    "depo1 = torch.Tensor(np.logical_and(etching[0][:, :, :, 5]>0, sumFilm[:, :, :,]>0)).to_sparse()\n",
    "depo1 = depo1.indices().numpy().T\n",
    "\n",
    "substrute = torch.Tensor(sumFilm[:, :, :]==5).to_sparse()\n",
    "substrute = substrute.indices().numpy().T\n",
    "depomesh = pv.PolyData(depo1)\n",
    "depomesh[\"radius\"] = np.ones(depo1.shape[0])*0.5\n",
    "geom = pv.Box()\n",
    "\n",
    "submesh = pv.PolyData(substrute)\n",
    "submesh[\"radius\"] = np.ones(substrute.shape[0])*0.5\n",
    "\n",
    "# Progress bar is a new feature on master branch\n",
    "depoglyphed = depomesh.glyph(scale=\"radius\", geom=geom) # progress_bar=True)\n",
    "subglyphed = submesh.glyph(scale=\"radius\", geom=geom) # progress_bar=True)\n",
    "\n",
    "p = pv.Plotter()\n",
    "p.add_mesh(depoglyphed, color='cyan')\n",
    "p.add_mesh(subglyphed, color='dimgray')\n",
    "p.enable_eye_dome_lighting()\n",
    "p.show()"
   ]
  },
  {
   "cell_type": "code",
   "execution_count": null,
   "metadata": {},
   "outputs": [],
   "source": [
    "sumFilm = np.sum(etching[0], axis=-1)\n",
    "\n",
    "depo1 = torch.Tensor(etching[0][:, :, :, 1]!=0).to_sparse()\n",
    "depo1 = depo1.indices().numpy().T\n",
    "\n",
    "substrute = torch.Tensor(sumFilm[:, :, :]==5).to_sparse()\n",
    "substrute = substrute.indices().numpy().T\n",
    "depomesh = pv.PolyData(depo1)\n",
    "depomesh[\"radius\"] = np.ones(depo1.shape[0])*0.5\n",
    "geom = pv.Box()\n",
    "\n",
    "submesh = pv.PolyData(substrute)\n",
    "submesh[\"radius\"] = np.ones(substrute.shape[0])*0.5\n",
    "\n",
    "# Progress bar is a new feature on master branch\n",
    "depoglyphed = depomesh.glyph(scale=\"radius\", geom=geom) # progress_bar=True)\n",
    "subglyphed = submesh.glyph(scale=\"radius\", geom=geom) # progress_bar=True)\n",
    "\n",
    "p = pv.Plotter()\n",
    "# p.add_mesh(depoglyphed, color='cyan')\n",
    "p.add_mesh(subglyphed, color='dimgray')\n",
    "p.enable_eye_dome_lighting()\n",
    "p.show()"
   ]
  },
  {
   "cell_type": "code",
   "execution_count": null,
   "metadata": {},
   "outputs": [],
   "source": [
    "pointcloud = testEtch.get_pointcloud(sumFilm)"
   ]
  },
  {
   "cell_type": "code",
   "execution_count": null,
   "metadata": {},
   "outputs": [],
   "source": [
    "point_cloud = pv.PolyData(pointcloud[:, 3:])\n",
    "vectors = pointcloud[:, :3]\n",
    "\n",
    "point_cloud['vectors'] = vectors\n",
    "arrows = point_cloud.glyph(\n",
    "    orient='vectors',\n",
    "    scale=100000,\n",
    "    factor=5,\n",
    ")\n",
    "\n",
    "# Display the arrowscyan\n",
    "\n",
    "# sphere = pv.Sphere(radius=4, center=(21, 75, 114.5))\n",
    "plotter = pv.Plotter()\n",
    "plotter.add_mesh(point_cloud, color='cyan', point_size=5.0, render_points_as_spheres=True)\n",
    "# plotter.add_mesh(sphere, show_edges=True, opacity=0.5, color=\"w\")\n",
    "plotter.add_mesh(arrows, color='lightblue')\n",
    "# # plotter.add_point_labels([point_cloud.center,], ['Center',],\n",
    "# #                          point_color='yellow', point_size=20)\n",
    "plotter.show_grid()\n",
    "plotter.show()"
   ]
  },
  {
   "cell_type": "code",
   "execution_count": null,
   "metadata": {},
   "outputs": [],
   "source": [
    "depo1 = torch.Tensor(pointcloud[:,3:]).to_sparse()\n",
    "depo1 = depo1.indices().numpy().T\n",
    "\n",
    "\n",
    "depomesh = pv.PolyData(pointcloud[:,3:])\n",
    "depomesh[\"radius\"] = np.ones(pointcloud[:,3:].shape[0])*0.5\n",
    "geom = pv.Box()\n",
    "\n",
    "\n",
    "# Progress bar is a new feature on master branch\n",
    "depoglyphed = depomesh.glyph(scale=\"radius\", geom=geom) # progress_bar=True)\n",
    "\n",
    "p = pv.Plotter()\n",
    "p.add_mesh(depoglyphed, color='cyan')\n",
    "p.enable_eye_dome_lighting()\n",
    "p.show()"
   ]
  },
  {
   "cell_type": "code",
   "execution_count": null,
   "metadata": {},
   "outputs": [],
   "source": [
    "sumFilm = np.sum(etching[0], axis=-1)\n",
    "\n",
    "depo1 = torch.Tensor(np.logical_and(sumFilm[:, 50:, :,]!=10, sumFilm[:, 50:, :,]!=0)).to_sparse()\n",
    "depo1 = depo1.indices().numpy().T\n",
    "\n",
    "substrute = torch.Tensor(sumFilm[:, 50:, :,]==10).to_sparse()\n",
    "substrute = substrute.indices().numpy().T\n",
    "depomesh = pv.PolyData(depo1)\n",
    "depomesh[\"radius\"] = np.ones(depo1.shape[0])*0.5\n",
    "geom = pv.Box()\n",
    "\n",
    "submesh = pv.PolyData(substrute)\n",
    "submesh[\"radius\"] = np.ones(substrute.shape[0])*0.5\n",
    "\n",
    "# Progress bar is a new feature on master branch\n",
    "depoglyphed = depomesh.glyph(scale=\"radius\", geom=geom) # progress_bar=True)\n",
    "subglyphed = submesh.glyph(scale=\"radius\", geom=geom) # progress_bar=True)\n",
    "\n",
    "p = pv.Plotter()\n",
    "p.add_mesh(depoglyphed, color='cyan')\n",
    "p.add_mesh(subglyphed, color='dimgray')\n",
    "p.enable_eye_dome_lighting()\n",
    "p.show()"
   ]
  },
  {
   "cell_type": "code",
   "execution_count": null,
   "metadata": {},
   "outputs": [],
   "source": [
    "sumFilm = np.sum(testEtch.film, axis=-1)\n",
    "\n",
    "depo1 = torch.Tensor(np.logical_and(sumFilm[:, :, :,]!=10, sumFilm[:, :, :,]!=0)).to_sparse()\n",
    "depo1 = depo1.indices().numpy().T\n",
    "\n",
    "substrute = torch.Tensor(sumFilm[:, :, :,]==10).to_sparse()\n",
    "substrute = substrute.indices().numpy().T\n",
    "depomesh = pv.PolyData(depo1)\n",
    "depomesh[\"radius\"] = np.ones(depo1.shape[0])*0.5\n",
    "geom = pv.Box()\n",
    "\n",
    "submesh = pv.PolyData(substrute)\n",
    "submesh[\"radius\"] = np.ones(substrute.shape[0])*0.5\n",
    "\n",
    "# Progress bar is a new feature on master branch\n",
    "depoglyphed = depomesh.glyph(scale=\"radius\", geom=geom) # progress_bar=True)\n",
    "subglyphed = submesh.glyph(scale=\"radius\", geom=geom) # progress_bar=True)\n",
    "\n",
    "p = pv.Plotter()\n",
    "p.add_mesh(depoglyphed, color='cyan')\n",
    "p.add_mesh(subglyphed, color='dimgray')\n",
    "p.enable_eye_dome_lighting()\n",
    "p.show()"
   ]
  },
  {
   "cell_type": "code",
   "execution_count": null,
   "metadata": {},
   "outputs": [],
   "source": [
    "testEtch.parcel.shape"
   ]
  },
  {
   "cell_type": "code",
   "execution_count": null,
   "metadata": {},
   "outputs": [],
   "source": [
    "testEtch.parcel[106]"
   ]
  },
  {
   "cell_type": "code",
   "execution_count": null,
   "metadata": {},
   "outputs": [],
   "source": [
    "testEtch.parcel[100, :3] += testEtch.parcel[100, 3:6] \n",
    "print(testEtch.parcel[100])"
   ]
  },
  {
   "cell_type": "code",
   "execution_count": null,
   "metadata": {},
   "outputs": [],
   "source": [
    "testEtch.parcel[10000:11000][:,8].astype(int)\n"
   ]
  },
  {
   "cell_type": "code",
   "execution_count": null,
   "metadata": {},
   "outputs": [],
   "source": []
  }
 ],
 "metadata": {
  "kernelspec": {
   "display_name": "base",
   "language": "python",
   "name": "python3"
  },
  "language_info": {
   "codemirror_mode": {
    "name": "ipython",
    "version": 3
   },
   "file_extension": ".py",
   "mimetype": "text/x-python",
   "name": "python",
   "nbconvert_exporter": "python",
   "pygments_lexer": "ipython3",
   "version": "3.12.5"
  }
 },
 "nbformat": 4,
 "nbformat_minor": 2
}

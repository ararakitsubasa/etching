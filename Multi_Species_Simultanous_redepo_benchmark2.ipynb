{
 "cells": [
  {
   "cell_type": "code",
   "execution_count": null,
   "metadata": {},
   "outputs": [],
   "source": [
    "import numpy as np\n",
    "import pyvista as pv\n",
    "import torch\n",
    "import matplotlib.pyplot as plt\n",
    "import os\n",
    "os.environ[\"KMP_DUPLICATE_LIB_OK\"] = \"TRUE\""
   ]
  },
  {
   "cell_type": "code",
   "execution_count": null,
   "metadata": {},
   "outputs": [],
   "source": [
    "film = np.zeros((70, 100, 150))\n",
    "\n",
    "bottom = 40\n",
    "# film[:, :, 0:bottom] = 10 # bottom\n",
    "\n",
    "height = 80\n",
    "# left_side = 75\n",
    "# right_side = 75\n",
    "# film[:, left_side+6:200-left_side-6, 0:height] = 10\n",
    "film[:, :45, 0:height] = 10\n",
    "film[:, 55:, 0:height] = 10\n",
    "\n",
    "# film = slide2D_fractionZ(film=film, start=[0, left_side, bottom], end=[70, left_side+6, height], direction='y', fraction='+', value=10)\n",
    "# film = slide2D_fractionZ(film=film, start=[0, 200-left_side-1, bottom], end=[70, 200-left_side-6-1, height], direction='y', fraction='+', value=10)\n",
    "# film = slide2D_fractionZ(film=film, start=[0, 19+6-1, bottom], end=[70, 19-1, height], direction='y', fraction='+', value=10)\n",
    "# film = slide2D_fractionZ(film=film, start=[0, 181-6, bottom], end=[70, 181, height], direction='y', fraction='+', value=10)\n",
    "\n",
    "# film[:, 80:121, 0:31] = 10\n",
    "\n",
    "film[:, :, 0:bottom] = 10 # bottom\n",
    "film[:, :, height:] = 0 # bottom"
   ]
  },
  {
   "cell_type": "code",
   "execution_count": null,
   "metadata": {},
   "outputs": [],
   "source": [
    "geom = pv.Box()\n",
    "\n",
    "substrute = torch.Tensor(film==10).to_sparse()\n",
    "substrute = substrute.indices().numpy().T\n",
    "\n",
    "cyan = torch.Tensor(np.logical_and(film[:, :, :]!=10, film[:, :, :]!=0)).to_sparse()\n",
    "cyan = cyan.indices().numpy().T\n",
    "\n",
    "submesh = pv.PolyData(substrute)\n",
    "submesh[\"radius\"] = np.ones(substrute.shape[0])*0.5\n",
    "\n",
    "cyanmesh = pv.PolyData(cyan)\n",
    "cyanmesh[\"radius\"] = np.ones(cyan.shape[0])*0.5\n",
    "# Progress bar is a new feature on master branch\n",
    "cyanglyphed = cyanmesh.glyph(scale=\"radius\", geom=geom) # progress_bar=True)\n",
    "subglyphed = submesh.glyph(scale=\"radius\", geom=geom) # progress_bar=True)\n",
    "p = pv.Plotter()\n",
    "p.add_mesh(subglyphed, color='gray')\n",
    "# p.add_mesh(cyanglyphed, color='cyan')\n",
    "p.enable_eye_dome_lighting()\n",
    "p.show()\n"
   ]
  },
  {
   "cell_type": "code",
   "execution_count": null,
   "metadata": {},
   "outputs": [],
   "source": [
    "etchfilm = np.zeros((70, 100, 150, 2))\n",
    "etchfilm[:, :, :, 0] = film\n",
    "# etchfilm[:, :, :, 1] = film\n",
    "\n",
    "center = 50"
   ]
  },
  {
   "cell_type": "code",
   "execution_count": null,
   "metadata": {},
   "outputs": [],
   "source": [
    "import Multi_Species_bosch_etching_countByReaction_mirror_func_redepo"
   ]
  },
  {
   "cell_type": "code",
   "execution_count": null,
   "metadata": {},
   "outputs": [],
   "source": [
    "from scipy import interpolate"
   ]
  },
  {
   "cell_type": "code",
   "execution_count": null,
   "metadata": {},
   "outputs": [],
   "source": [
    "gamma0 = 1\n",
    "gammaMax = 0.5\n",
    "thetaMax = np.pi/5\n",
    "f = -np.log(gammaMax/gamma0)/(np.log(np.cos(gammaMax)) + 1 - np.cos(thetaMax))\n",
    "s = f*np.cos(thetaMax)\n",
    "\n",
    "theta = np.arange(0, np.pi/2, 0.01)\n",
    "sputterYield = gamma0*np.cos(theta)**(-f)*np.exp(-s*(1/np.cos(theta) - 1))\n",
    "\n",
    "yield_hist = np.zeros((2, theta.shape[0]))\n",
    "\n",
    "yield_hist[0, :] = sputterYield\n",
    "yield_hist[1, :] = theta\n",
    "\n",
    "plt.plot(yield_hist[1, :], yield_hist[0, :], '-')\n",
    "plt.show()"
   ]
  },
  {
   "cell_type": "code",
   "execution_count": null,
   "metadata": {},
   "outputs": [],
   "source": [
    "yield_hist = np.array([[1.0, 1.01, 1.05,  1.2,  1.4,  1.5, 1.07, 0.65, 0.28, 0.08,  0, \\\n",
    "                        0.08, 0.28,0.65,  1.07, 1.5, 1.4, 1.2, 1.05, 1.01, 1.0 ], \\\n",
    "                        [  0,  5,   10,   20,   30,   40,   50,   60,   70,   80, 90, \\\n",
    "                          100, 110, 120, 130, 140, 150, 160, 170, 175, 180]])\n",
    "yield_hist[1] *= np.pi/180\n",
    "yield_func = interpolate.interp1d(yield_hist[1], yield_hist[0], kind='quadratic')\n",
    "\n",
    "xnew = np.arange(0, np.pi/2, 0.01)\n",
    "# xnew = np.array([])\n",
    "ynew = yield_func(xnew)   # use interpolation function returned by `interp1d`\n",
    "plt.plot(yield_hist[1, :11], yield_hist[0, :11], 'o', xnew, ynew, '-')\n",
    "plt.show()"
   ]
  },
  {
   "cell_type": "code",
   "execution_count": null,
   "metadata": {},
   "outputs": [],
   "source": [
    "logname = 'Multi_species_benchmark_1023_redepo'\n",
    "inputMethod='bunch'\n",
    "\n",
    "etchingPoint = np.array([center, center, bottom-30])\n",
    "depoPoint = np.array([center, center, bottom-30])\n",
    "density = 10\n",
    "center_with_direction=np.array([[int(etchfilm.shape[0]/2),int(etchfilm.shape[1]/2),150]])\n",
    "range3D=np.array([[0, etchfilm.shape[0], 0, etchfilm.shape[1], 0, etchfilm.shape[2]]])\n",
    "InOrOut=[1]\n",
    "# yield_hist=np.array([None])\n",
    "yield_hist = yield_hist\n",
    "maskTop=40, \n",
    "maskBottom=98, \n",
    "maskStep=10, \n",
    "maskCenter=[int(etchfilm.shape[0]/2), int(etchfilm.shape[1]/2)]\n",
    "backup=False\n",
    "mirrorGap=5\n",
    "offset_distence = 0.8\n",
    "reaction_type=False\n",
    "param = [1.6, -0.7]\n",
    "n=1\n",
    "celllength=1e-5\n",
    "kdtreeN=2\n",
    "filmKDTree=np.array([[2, 0, 1], [3, 0, -1]]) # 1 for depo -1 for etching\n",
    "# filmKDTree=np.array([[2, 1], [3, 1]])\n",
    "weightDepo=0.2\n",
    "weightEtching = 0.2\n",
    "tstep=1e-5\n",
    "substrateTop=bottom\n",
    "posGeneratorType='top'\n",
    "testEtch = Multi_Species_bosch_etching_countByReaction_mirror_func_redepo.etching(\n",
    "                    inputMethod,\n",
    "                    etchingPoint,depoPoint,\n",
    "                    density, center_with_direction, \n",
    "                    range3D, InOrOut, yield_hist,\n",
    "                    maskTop, maskBottom, maskStep, maskCenter,backup, \n",
    "                    mirrorGap, offset_distence,\n",
    "                    reaction_type, param,n,\n",
    "                    celllength, kdtreeN, filmKDTree,weightDepo,weightEtching, tstep,\n",
    "                    substrateTop,posGeneratorType, logname)"
   ]
  },
  {
   "cell_type": "code",
   "execution_count": null,
   "metadata": {},
   "outputs": [],
   "source": [
    "react_table = np.array([[[0.0, 0, 1], [0.0, 0, 1]],\n",
    "                        [[0.0, -1, 0], [1.0, 0, -1]]])\n",
    "\n",
    "react_type_table = np.array([[2, 0],\n",
    "                             [3, 0]])"
   ]
  },
  {
   "cell_type": "code",
   "execution_count": null,
   "metadata": {},
   "outputs": [],
   "source": [
    "Multi_Species_bosch_etching_countByReaction_mirror_func_redepo.react_table = react_table\n",
    "Multi_Species_bosch_etching_countByReaction_mirror_func_redepo.react_type_table = react_type_table"
   ]
  },
  {
   "cell_type": "code",
   "execution_count": null,
   "metadata": {},
   "outputs": [],
   "source": [
    "# F+ Ar+ \n",
    "N = int(1e7)\n",
    "velosity_matrix = np.zeros((N, 3))\n",
    "\n",
    "velosity_matrix[:, 0] = 0\n",
    "velosity_matrix[:, 1] = 0\n",
    "velosity_matrix[:, 2] = -1 \n"
   ]
  },
  {
   "cell_type": "code",
   "execution_count": null,
   "metadata": {},
   "outputs": [],
   "source": [
    "cicle = 100\n",
    "celllength=1e-5\n",
    "parcel = np.array([[95*celllength, 95*celllength, 159*celllength, 0, 0, 1, 95, 95, 159, 0.2, 0]])\n",
    "step1 = testEtch.inputParticle(etchfilm, parcel,'etching', 'input',velosity_matrix, 1, int(1e4), int(1e5), int(1e6),2, 10, 100)"
   ]
  },
  {
   "cell_type": "code",
   "execution_count": null,
   "metadata": {},
   "outputs": [],
   "source": [
    "pos1e4_data = testEtch.planes\n",
    "point_cloud = pv.PolyData(pos1e4_data[:, 3:6])\n",
    "vectors = pos1e4_data[:, :3]\n",
    "\n",
    "point_cloud['vectors'] = vectors\n",
    "arrows = point_cloud.glyph(\n",
    "    orient='vectors',\n",
    "    scale=10000,\n",
    "    factor=3,\n",
    ")\n",
    "\n",
    "# Display the arrowscyan\n",
    "\n",
    "\n",
    "plotter = pv.Plotter()\n",
    "plotter.add_mesh(point_cloud, color='cyan', point_size=5.0, render_points_as_spheres=True)\n",
    "# plotter.add_mesh(sphere, show_edges=True, opacity=0.5, color=\"w\")\n",
    "plotter.add_mesh(arrows, color='lightblue')\n",
    "# # plotter.add_point_labels([point_cloud.center,], ['Center',],\n",
    "# #                          point_color='yellow', point_size=20)\n",
    "plotter.show_grid()\n",
    "plotter.show()"
   ]
  },
  {
   "cell_type": "code",
   "execution_count": null,
   "metadata": {},
   "outputs": [],
   "source": [
    "from surface_normalize_etching_depo import surface_normal"
   ]
  },
  {
   "cell_type": "code",
   "execution_count": null,
   "metadata": {},
   "outputs": [],
   "source": [
    "surface = surface_normal(center_with_direction, range3D, InOrOut,celllength, tstep, yield_hist,\\\n",
    "                        maskTop, maskBottom, maskStep, maskCenter, backup, density, mirrorGap, offset_distence = 0.8)"
   ]
  },
  {
   "cell_type": "code",
   "execution_count": null,
   "metadata": {},
   "outputs": [],
   "source": [
    "etchfilm = np.load('./test_point.npy')"
   ]
  },
  {
   "cell_type": "code",
   "execution_count": null,
   "metadata": {},
   "outputs": [],
   "source": [
    "etchfilm.shape"
   ]
  },
  {
   "cell_type": "code",
   "execution_count": null,
   "metadata": {},
   "outputs": [],
   "source": [
    "def update_surface_mirror(surface_etching):\n",
    "    cellSizeX = surface_etching.shape[0]\n",
    "    cellSizeY = surface_etching.shape[1]\n",
    "    cellSizeZ = surface_etching.shape[2]\n",
    "    mirrorGap = 5\n",
    "    surface_etching_mirror = np.zeros((cellSizeX+int(mirrorGap*2), cellSizeY+int(mirrorGap*2), cellSizeZ))\n",
    "\n",
    "    surface_etching_mirror[mirrorGap:mirrorGap+cellSizeX, mirrorGap:mirrorGap+cellSizeY, :] = surface_etching\n",
    "    surface_etching_mirror[:mirrorGap, mirrorGap:mirrorGap+cellSizeY, :] = surface_etching[-mirrorGap:, :, :]\n",
    "    surface_etching_mirror[-mirrorGap:, mirrorGap:mirrorGap+cellSizeY, :] = surface_etching[:mirrorGap, :, :]\n",
    "    surface_etching_mirror[mirrorGap:mirrorGap+cellSizeX, :mirrorGap, :] = surface_etching[:, -mirrorGap:, :]\n",
    "    surface_etching_mirror[mirrorGap:mirrorGap+cellSizeX:, -mirrorGap:, :] = surface_etching[:, :mirrorGap, :]\n",
    "    surface_etching_mirror[:mirrorGap, :mirrorGap, :] = surface_etching[-mirrorGap:, -mirrorGap:, :]\n",
    "    surface_etching_mirror[:mirrorGap, -mirrorGap:, :] = surface_etching[-mirrorGap:, :mirrorGap, :]\n",
    "    surface_etching_mirror[-mirrorGap:, :mirrorGap, :] = surface_etching[:mirrorGap, -mirrorGap:, :]\n",
    "    surface_etching_mirror[-mirrorGap:, -mirrorGap:, :] = surface_etching[:mirrorGap, :mirrorGap, :]\n",
    "\n",
    "    return surface_etching_mirror"
   ]
  },
  {
   "cell_type": "code",
   "execution_count": null,
   "metadata": {},
   "outputs": [],
   "source": [
    "sumFilm = np.sum(etchfilm, axis=-1)\n",
    "\n",
    "print(sumFilm.shape)"
   ]
  },
  {
   "cell_type": "code",
   "execution_count": null,
   "metadata": {},
   "outputs": [],
   "source": [
    "sumFilm = np.sum(etchfilm, axis=-1)\n",
    "sumFilm_mirror = update_surface_mirror(sumFilm)"
   ]
  },
  {
   "cell_type": "code",
   "execution_count": null,
   "metadata": {},
   "outputs": [],
   "source": [
    "sumFilm_mirror.shape"
   ]
  },
  {
   "cell_type": "code",
   "execution_count": null,
   "metadata": {},
   "outputs": [],
   "source": [
    "etchfilm = np.load('./sputter_etching_paper_depo_1113_redepo_fail.npy')"
   ]
  },
  {
   "cell_type": "code",
   "execution_count": null,
   "metadata": {},
   "outputs": [],
   "source": [
    "sumFilm = film\n",
    "sumFilm_mirror = update_surface_mirror(sumFilm)\n",
    "pos1e4_data = surface.get_pointcloud(sumFilm_mirror)\n",
    "point_cloud = pv.PolyData(pos1e4_data[:, 3:6])\n",
    "vectors = pos1e4_data[:, :3]\n",
    "\n",
    "point_cloud['vectors'] = vectors\n",
    "arrows = point_cloud.glyph(\n",
    "    orient='vectors',\n",
    "    scale=10000,\n",
    "    factor=3,\n",
    ")\n",
    "\n",
    "# Display the arrowscyan\n",
    "\n",
    "\n",
    "plotter = pv.Plotter()\n",
    "plotter.add_mesh(point_cloud, color='cyan', point_size=5.0, render_points_as_spheres=True)\n",
    "# plotter.add_mesh(sphere, show_edges=True, opacity=0.5, color=\"w\")\n",
    "plotter.add_mesh(arrows, color='lightblue')\n",
    "# # plotter.add_point_labels([point_cloud.center,], ['Center',],\n",
    "# #                          point_color='yellow', point_size=20)\n",
    "plotter.show_grid()\n",
    "plotter.show()"
   ]
  },
  {
   "cell_type": "code",
   "execution_count": null,
   "metadata": {},
   "outputs": [],
   "source": [
    "sumFilm = np.sum(etchfilm, axis=-1)\n",
    "sumFilm_mirror = update_surface_mirror(sumFilm)\n",
    "pos1e4_data = surface.get_pointcloud(sumFilm_mirror)\n",
    "point_cloud = pv.PolyData(pos1e4_data[:, 3:6])\n",
    "vectors = pos1e4_data[:, :3]\n",
    "\n",
    "point_cloud['vectors'] = vectors\n",
    "arrows = point_cloud.glyph(\n",
    "    orient='vectors',\n",
    "    scale=10000,\n",
    "    factor=3,\n",
    ")\n",
    "\n",
    "# Display the arrowscyan\n",
    "\n",
    "\n",
    "plotter = pv.Plotter()\n",
    "plotter.add_mesh(point_cloud, color='cyan', point_size=5.0, render_points_as_spheres=True)\n",
    "# plotter.add_mesh(sphere, show_edges=True, opacity=0.5, color=\"w\")\n",
    "plotter.add_mesh(arrows, color='lightblue')\n",
    "# # plotter.add_point_labels([point_cloud.center,], ['Center',],\n",
    "# #                          point_color='yellow', point_size=20)\n",
    "plotter.show_grid()\n",
    "plotter.show()"
   ]
  },
  {
   "cell_type": "code",
   "execution_count": null,
   "metadata": {},
   "outputs": [],
   "source": [
    "sumFilm = np.sum(etchfilm, axis=-1)\n",
    "sumFilm_mirror = update_surface_mirror(sumFilm)\n",
    "pos1e4_data = surface.get_pointcloud(sumFilm_mirror,1.2)\n",
    "point_cloud = pv.PolyData(pos1e4_data[:, 3:6])\n",
    "vectors = pos1e4_data[:, :3]\n",
    "\n",
    "point_cloud['vectors'] = vectors\n",
    "arrows = point_cloud.glyph(\n",
    "    orient='vectors',\n",
    "    scale=10000,\n",
    "    factor=3,\n",
    ")\n",
    "\n",
    "# Display the arrowscyan\n",
    "\n",
    "\n",
    "plotter = pv.Plotter()\n",
    "plotter.add_mesh(point_cloud, color='cyan', point_size=5.0, render_points_as_spheres=True)\n",
    "# plotter.add_mesh(sphere, show_edges=True, opacity=0.5, color=\"w\")\n",
    "plotter.add_mesh(arrows, color='lightblue')\n",
    "# # plotter.add_point_labels([point_cloud.center,], ['Center',],\n",
    "# #                          point_color='yellow', point_size=20)\n",
    "plotter.show_grid()\n",
    "plotter.show()"
   ]
  },
  {
   "cell_type": "code",
   "execution_count": null,
   "metadata": {},
   "outputs": [],
   "source": [
    "sumFilm = np.sum(etchfilm, axis=-1)\n",
    "sumFilm_mirror = update_surface_mirror(sumFilm)\n",
    "pos1e4_data = surface.get_pointcloud(sumFilm_mirror,1.0)\n",
    "point_cloud = pv.PolyData(pos1e4_data[:, 3:6])\n",
    "vectors = pos1e4_data[:, :3]\n",
    "\n",
    "point_cloud['vectors'] = vectors\n",
    "arrows = point_cloud.glyph(\n",
    "    orient='vectors',\n",
    "    scale=10000,\n",
    "    factor=3,\n",
    ")\n",
    "\n",
    "# Display the arrowscyan\n",
    "\n",
    "\n",
    "plotter = pv.Plotter()\n",
    "plotter.add_mesh(point_cloud, color='cyan', point_size=5.0, render_points_as_spheres=True)\n",
    "# plotter.add_mesh(sphere, show_edges=True, opacity=0.5, color=\"w\")\n",
    "plotter.add_mesh(arrows, color='lightblue')\n",
    "# # plotter.add_point_labels([point_cloud.center,], ['Center',],\n",
    "# #                          point_color='yellow', point_size=20)\n",
    "plotter.show_grid()\n",
    "plotter.show()"
   ]
  },
  {
   "cell_type": "code",
   "execution_count": null,
   "metadata": {},
   "outputs": [],
   "source": [
    "sumFilm = np.sum(etchfilm, axis=-1)\n",
    "sumFilm_mirror = update_surface_mirror(sumFilm)\n",
    "pos1e4_data = surface.get_pointcloud(sumFilm_mirror)\n",
    "point_cloud = pv.PolyData(pos1e4_data[:, 3:6])\n",
    "vectors = pos1e4_data[:, :3]\n",
    "\n",
    "point_cloud['vectors'] = vectors\n",
    "arrows = point_cloud.glyph(\n",
    "    orient='vectors',\n",
    "    scale=10000,\n",
    "    factor=3,\n",
    ")\n",
    "\n",
    "# Display the arrowscyan\n",
    "\n",
    "\n",
    "plotter = pv.Plotter()\n",
    "plotter.add_mesh(point_cloud, color='cyan', point_size=5.0, render_points_as_spheres=True)\n",
    "# plotter.add_mesh(sphere, show_edges=True, opacity=0.5, color=\"w\")\n",
    "plotter.add_mesh(arrows, color='lightblue')\n",
    "# # plotter.add_point_labels([point_cloud.center,], ['Center',],\n",
    "# #                          point_color='yellow', point_size=20)\n",
    "plotter.show_grid()\n",
    "plotter.show()"
   ]
  },
  {
   "cell_type": "code",
   "execution_count": null,
   "metadata": {},
   "outputs": [],
   "source": [
    "pos1e4_data.shape"
   ]
  },
  {
   "cell_type": "code",
   "execution_count": null,
   "metadata": {},
   "outputs": [],
   "source": [
    "import surface_normalize_sf"
   ]
  },
  {
   "cell_type": "code",
   "execution_count": null,
   "metadata": {},
   "outputs": [],
   "source": [
    "surface2 = surface_normalize_sf.surface_normal(center_with_direction, range3D, InOrOut,celllength, yield_hist)"
   ]
  },
  {
   "cell_type": "code",
   "execution_count": null,
   "metadata": {},
   "outputs": [],
   "source": [
    "sumFilm = np.sum(etchfilm, axis=-1)\n",
    "\n",
    "pos1e4_data = surface2.get_pointcloud(sumFilm)\n",
    "\n",
    "print(pos1e4_data[0].shape)"
   ]
  },
  {
   "cell_type": "code",
   "execution_count": null,
   "metadata": {},
   "outputs": [],
   "source": [
    "etchfilm.shape"
   ]
  },
  {
   "cell_type": "code",
   "execution_count": null,
   "metadata": {},
   "outputs": [],
   "source": [
    "sumFilm = np.sum(etchfilm, axis=-1)\n",
    "\n",
    "pos1e4_data = surface2.get_pointcloud(sumFilm)\n",
    "point_cloud = pv.PolyData(pos1e4_data[0][:, 3:6])\n",
    "vectors = pos1e4_data[0][:, :3]\n",
    "\n",
    "point_cloud['vectors'] = vectors\n",
    "arrows = point_cloud.glyph(\n",
    "    orient='vectors',\n",
    "    scale=10000,\n",
    "    factor=3,\n",
    ")\n",
    "\n",
    "# Display the arrowscyan\n",
    "\n",
    "\n",
    "plotter = pv.Plotter()\n",
    "plotter.add_mesh(point_cloud, color='cyan', point_size=5.0, render_points_as_spheres=True)\n",
    "# plotter.add_mesh(sphere, show_edges=True, opacity=0.5, color=\"w\")\n",
    "plotter.add_mesh(arrows, color='lightblue')\n",
    "# # plotter.add_point_labels([point_cloud.center,], ['Center',],\n",
    "# #                          point_color='yellow', point_size=20)\n",
    "plotter.show_grid()\n",
    "plotter.show()"
   ]
  },
  {
   "cell_type": "code",
   "execution_count": null,
   "metadata": {},
   "outputs": [],
   "source": [
    "normal_all = surface.normal_all"
   ]
  },
  {
   "cell_type": "code",
   "execution_count": null,
   "metadata": {},
   "outputs": [],
   "source": [
    "normal_all.shape"
   ]
  },
  {
   "cell_type": "code",
   "execution_count": null,
   "metadata": {},
   "outputs": [],
   "source": [
    "a = np.array([0, 0, 1])\n",
    "b = np.array([1, 0, 0])\n",
    "\n",
    "c = np.dot(a, b)\n",
    "print(np.linalg.norm(a, axis=0))\n",
    "theta = np.arccos(c/(np.linalg.norm(a, axis=0)*np.linalg.norm(b, axis=0)))\n",
    "cos = c/(np.linalg.norm(a, axis=0)*np.linalg.norm(b, axis=0))\n",
    "print(c)\n",
    "print(cos)\n",
    "\n",
    "project = b*cos\n",
    "print(project)\n",
    "print(b - project)"
   ]
  },
  {
   "cell_type": "code",
   "execution_count": null,
   "metadata": {},
   "outputs": [],
   "source": [
    "a = np.array([0, 0, 1])\n",
    "b = np.array([0, 1, 1])\n",
    "\n",
    "c = np.dot(a, b)\n",
    "print(np.linalg.norm(a, axis=0))\n",
    "theta = np.arccos(c/(np.linalg.norm(a, axis=0)*np.linalg.norm(b, axis=0)))\n",
    "cos = c/(np.linalg.norm(a, axis=0)*np.linalg.norm(b, axis=0))\n",
    "print(c)\n",
    "print(cos)\n",
    "\n",
    "project = b*cos\n",
    "print(project)\n",
    "print(b - project)"
   ]
  },
  {
   "cell_type": "code",
   "execution_count": null,
   "metadata": {},
   "outputs": [],
   "source": [
    "a = np.array([[0, 0, 1],\n",
    "              [0, 0, 1]])\n",
    "b = np.array([[1, 0, 0],\n",
    "              [0, 1, 1]])\n",
    "\n",
    "c = np.einsum('ij,ij->i', a, b)\n",
    "cos = c/(np.linalg.norm(a, axis=1)*np.linalg.norm(b, axis=1))\n",
    "print(c)\n",
    "print(cos)\n",
    "\n",
    "project = np.einsum('ij,i->ij', b, cos)\n",
    "print(project)\n",
    "print(b - project)\n",
    "# print(c)"
   ]
  },
  {
   "cell_type": "code",
   "execution_count": null,
   "metadata": {},
   "outputs": [],
   "source": [
    "a = np.array([0, 0, 1])\n",
    "b = np.array([1, 0, 0])\n",
    "c = np.inner(a, b)\n",
    "\n",
    "print(c)"
   ]
  },
  {
   "cell_type": "code",
   "execution_count": null,
   "metadata": {},
   "outputs": [],
   "source": [
    "def DiffusionReflect(vel, normal):\n",
    "    mass = 27*1.66e-27\n",
    "    Ut = vel - vel@normal*normal\n",
    "    tw1 = Ut/np.linalg.norm(Ut)\n",
    "    tw2 = np.cross(tw1, normal)\n",
    "    # U = np.sqrt(kB*T/particleMass[i])*(np.random.randn()*tw1 + np.random.randn()*tw2 - np.sqrt(-2*np.log((1-np.random.rand())))*normal)\n",
    "    U = np.random.randn()*tw1 + np.random.randn()*tw2 - np.sqrt(-2*np.log((1-np.random.rand())))*normal\n",
    "    UN = U / np.linalg.norm(U)\n",
    "        # UN[i] = U\n",
    "    return UN"
   ]
  },
  {
   "cell_type": "code",
   "execution_count": null,
   "metadata": {},
   "outputs": [],
   "source": []
  },
  {
   "cell_type": "code",
   "execution_count": null,
   "metadata": {},
   "outputs": [],
   "source": [
    "gamma0 = 1\n",
    "gammaMax = 0.5\n",
    "thetaMax = np.pi/5\n",
    "f = -np.log(gammaMax/gamma0)/(np.log(np.cos(gammaMax)) + 1 - np.cos(thetaMax))\n",
    "s = f*np.cos(thetaMax)\n",
    "\n",
    "theta = np.arange(0, np.pi/2, 0.01)\n",
    "sputterYield = gamma0*np.cos(theta)**(-f)*np.exp(-s*(1/np.cos(theta) - 1))\n",
    "\n",
    "plt.plot(theta, sputterYield, '-')\n",
    "plt.show()"
   ]
  },
  {
   "cell_type": "code",
   "execution_count": null,
   "metadata": {},
   "outputs": [],
   "source": [
    "geom = pv.Box()\n",
    "\n",
    "substrute = torch.Tensor(np.logical_and(etchfilm[:, :, :,0]>0, etchfilm[:, :, :,0]<1)).to_sparse()\n",
    "substrute = substrute.indices().numpy().T\n",
    "\n",
    "# cyan = torch.Tensor(np.logical_and(etchfilm[:, :, :,0]!=0, film[:, :, :]!=10)).to_sparse()\n",
    "cyan = torch.Tensor(etchfilm[:, :, :,0]>=9).to_sparse()\n",
    "cyan = cyan.indices().numpy().T\n",
    "\n",
    "submesh = pv.PolyData(substrute)\n",
    "submesh[\"radius\"] = np.ones(substrute.shape[0])*0.5\n",
    "\n",
    "cyanmesh = pv.PolyData(cyan)\n",
    "cyanmesh[\"radius\"] = np.ones(cyan.shape[0])*0.5\n",
    "# Progress bar is a new feature on master branch\n",
    "cyanglyphed = cyanmesh.glyph(scale=\"radius\", geom=geom) # progress_bar=True)\n",
    "subglyphed = submesh.glyph(scale=\"radius\", geom=geom) # progress_bar=True)\n",
    "p = pv.Plotter()\n",
    "# p.add_mesh(subglyphed, color='gray')\n",
    "p.add_mesh(cyanglyphed, color='cyan')\n",
    "p.enable_eye_dome_lighting()\n",
    "p.show()"
   ]
  },
  {
   "cell_type": "code",
   "execution_count": null,
   "metadata": {},
   "outputs": [],
   "source": [
    "etchfilm.shape"
   ]
  },
  {
   "cell_type": "code",
   "execution_count": null,
   "metadata": {},
   "outputs": [],
   "source": [
    "geom = pv.Box()\n",
    "\n",
    "substrute = torch.Tensor(np.logical_and(etchfilm[:, :, :,0]>=9, film[:, :, :]==10)).to_sparse()\n",
    "substrute = substrute.indices().numpy().T\n",
    "\n",
    "cyan = torch.Tensor(np.logical_and(etchfilm[:, :, :,0]>=9, film[:, :, :]==0)).to_sparse()\n",
    "# cyan = torch.Tensor(etchfilm[:, :, :,0]>=9).to_sparse()\n",
    "cyan = cyan.indices().numpy().T\n",
    "\n",
    "submesh = pv.PolyData(substrute)\n",
    "submesh[\"radius\"] = np.ones(substrute.shape[0])*0.5\n",
    "\n",
    "cyanmesh = pv.PolyData(cyan)\n",
    "cyanmesh[\"radius\"] = np.ones(cyan.shape[0])*0.5\n",
    "# Progress bar is a new feature on master branch\n",
    "cyanglyphed = cyanmesh.glyph(scale=\"radius\", geom=geom) # progress_bar=True)\n",
    "subglyphed = submesh.glyph(scale=\"radius\", geom=geom) # progress_bar=True)\n",
    "p = pv.Plotter()\n",
    "p.add_mesh(subglyphed, color='gray')\n",
    "p.add_mesh(cyanglyphed, color='cyan')\n",
    "p.enable_eye_dome_lighting()\n",
    "p.show()"
   ]
  },
  {
   "cell_type": "code",
   "execution_count": null,
   "metadata": {},
   "outputs": [],
   "source": [
    "np.save('redepo_benchmark4', etchfilm)"
   ]
  },
  {
   "cell_type": "code",
   "execution_count": null,
   "metadata": {},
   "outputs": [],
   "source": [
    "etchfilm =np.load('redepo_benchmark1.npz')"
   ]
  },
  {
   "cell_type": "code",
   "execution_count": null,
   "metadata": {},
   "outputs": [],
   "source": [
    "etchfilm = etchfilm['arr_0']"
   ]
  },
  {
   "cell_type": "code",
   "execution_count": null,
   "metadata": {},
   "outputs": [],
   "source": [
    "geom = pv.Box()\n",
    "\n",
    "substrute = torch.Tensor(np.logical_and(etchfilm[:, :, :,0]>0, etchfilm[:, :, :,0]<1)).to_sparse()\n",
    "substrute = substrute.indices().numpy().T\n",
    "\n",
    "# cyan = torch.Tensor(np.logical_and(etchfilm[:, :, :,0]!=0, film[:, :, :]!=10)).to_sparse()\n",
    "cyan = torch.Tensor(etchfilm[:, :, :,0]>=9).to_sparse()\n",
    "cyan = cyan.indices().numpy().T\n",
    "\n",
    "submesh = pv.PolyData(substrute)\n",
    "submesh[\"radius\"] = np.ones(substrute.shape[0])*0.5\n",
    "\n",
    "cyanmesh = pv.PolyData(cyan)\n",
    "cyanmesh[\"radius\"] = np.ones(cyan.shape[0])*0.5\n",
    "# Progress bar is a new feature on master branch\n",
    "cyanglyphed = cyanmesh.glyph(scale=\"radius\", geom=geom) # progress_bar=True)\n",
    "subglyphed = submesh.glyph(scale=\"radius\", geom=geom) # progress_bar=True)0\n",
    "p = pv.Plotter()\n",
    "p.add_mesh(subglyphed, color='gray')\n",
    "p.add_mesh(cyanglyphed, color='cyan')\n",
    "p.enable_eye_dome_lighting()\n",
    "p.show()"
   ]
  },
  {
   "cell_type": "code",
   "execution_count": null,
   "metadata": {},
   "outputs": [],
   "source": [
    "def Rn_coeffcient(c1, c2, c3, c4, alpha):\n",
    "    return c1 + c2*np.tanh(c3*alpha - c4)"
   ]
  },
  {
   "cell_type": "code",
   "execution_count": null,
   "metadata": {},
   "outputs": [],
   "source": [
    "rn = Rn_coeffcient(0.9423, 0.9434, 2.342, 3.026, np.pi/2)\n",
    "\n",
    "print(rn)"
   ]
  },
  {
   "cell_type": "code",
   "execution_count": null,
   "metadata": {},
   "outputs": [],
   "source": [
    "# xnew = np.arange(0, np.pi/2, 0.01)\n",
    "xnew = np.arange(0, np.pi/2, 0.1)\n",
    "# xnew = np.array([])\n",
    "ynew = [Rn_coeffcient(0.9423, 0.9434, 2.342, 3.026, i) for i in xnew]  # use interpolation function returned by `interp1d`\n",
    "ynew /= ynew[-1]\n",
    "plt.plot(xnew, ynew, '-')\n",
    "plt.show()"
   ]
  },
  {
   "cell_type": "code",
   "execution_count": null,
   "metadata": {},
   "outputs": [],
   "source": [
    "rn_func = interpolate.interp1d(xnew, ynew, kind='quadratic')\n",
    "rn_prob = rn_func(1.2)\n",
    "print(rn_prob)"
   ]
  },
  {
   "cell_type": "code",
   "execution_count": null,
   "metadata": {},
   "outputs": [],
   "source": []
  }
 ],
 "metadata": {
  "kernelspec": {
   "display_name": "base",
   "language": "python",
   "name": "python3"
  },
  "language_info": {
   "codemirror_mode": {
    "name": "ipython",
    "version": 3
   },
   "file_extension": ".py",
   "mimetype": "text/x-python",
   "name": "python",
   "nbconvert_exporter": "python",
   "pygments_lexer": "ipython3",
   "version": "3.12.5"
  }
 },
 "nbformat": 4,
 "nbformat_minor": 2
}

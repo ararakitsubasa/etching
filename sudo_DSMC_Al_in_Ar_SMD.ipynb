{
 "cells": [
  {
   "cell_type": "code",
   "execution_count": null,
   "metadata": {},
   "outputs": [],
   "source": [
    "import numpy as np\n",
    "import matplotlib.pyplot as plt\n",
    "import torch\n",
    "import pyvista as pv\n",
    "import pandas as pd\n",
    "from scipy import interpolate\n",
    "import CollisionModule"
   ]
  },
  {
   "cell_type": "code",
   "execution_count": null,
   "metadata": {},
   "outputs": [],
   "source": [
    "mu, mu2,  sigma = -0.03,0.03, 0.010 # mean and standard deviation\n",
    "\n",
    "N = int(1e7)\n",
    "s = np.random.normal(mu, sigma, N)\n",
    "s2 = np.random.normal(mu2, sigma, N)\n",
    "\n",
    "print(s.shape)\n",
    "s = np.concatenate((s, s2))\n",
    "plt.hist(s, 200, density=True)\n",
    "\n",
    "plt.show()"
   ]
  },
  {
   "cell_type": "code",
   "execution_count": null,
   "metadata": {},
   "outputs": [],
   "source": [
    "gen_dist_x = s\n",
    "gen_dist_y = np.random.uniform(-0.1, 0.1, N*2)\n",
    "\n",
    "xbins = np.linspace(-0.1,0.1,200)\n",
    "ybins = np.linspace(-0.1,0.1,200)\n",
    "# ybins = np.linspace(1.815, 2.415, 200)\n",
    "x_bins = np.histogram(gen_dist_x, bins=xbins)\n",
    "y_bins = np.histogram(gen_dist_y, bins=ybins)\n",
    "\n",
    "H, xedges, yedges = np.histogram2d(gen_dist_x, gen_dist_y, bins=(xbins, ybins))\n",
    "\n",
    "\n",
    "fig, ax = plt.subplots(figsize=(8,8))\n",
    "im = ax.imshow(H.T, interpolation='nearest', origin='lower',\n",
    "        extent=[xedges[0], xedges[-1], yedges[0], yedges[-1]])\n",
    "ax.set_title('Position of released Al particles on target ')\n",
    "ax.set_xlabel('x[m]')\n",
    "ax.set_ylabel('y[m]')\n",
    "fig.colorbar(im, ax=ax, label='Events')\n",
    "plt.show()"
   ]
  },
  {
   "cell_type": "code",
   "execution_count": null,
   "metadata": {},
   "outputs": [],
   "source": [
    "np.save('velosity_matrix_2e7_SMD_4000K', velosity_matrix)"
   ]
  },
  {
   "cell_type": "code",
   "execution_count": null,
   "metadata": {},
   "outputs": [],
   "source": [
    "np.save('release_pos_2e7_SMD_3',release_pos)\n",
    "np.save('velosity_matrix_2e7_SMD_3', velosity_matrix)"
   ]
  },
  {
   "cell_type": "code",
   "execution_count": null,
   "metadata": {},
   "outputs": [],
   "source": [
    "def rfunc(x, n, beta): #Release factor function\n",
    "    # print(\"-------rfunc------\")\n",
    "    # print(x)\n",
    "    # n = 1.6\n",
    "    # beta = -0.7\n",
    "    y = np.cos(x) ** n * (1 + beta * np.cos(x) ** 2)# * (n ** 2 + 4 * n + 3) / (n * beta + n + beta + 3) /2 / pi\n",
    "    return y"
   ]
  },
  {
   "cell_type": "code",
   "execution_count": null,
   "metadata": {},
   "outputs": [],
   "source": [
    "def rfunc2(x, n, beta): #Release factor function\n",
    "    # print(\"-------rfunc------\")\n",
    "    # print(x)\n",
    "    # n = 1.6\n",
    "    # beta = -0.7\n",
    "    y = np.cos(x) ** n * (1 + beta * np.cos(x) ** 2) * (n ** 2 + 4 * n + 3) / (n * beta + n + beta + 3) /2 / np.pi\n",
    "    return y"
   ]
  },
  {
   "cell_type": "code",
   "execution_count": null,
   "metadata": {},
   "outputs": [],
   "source": [
    "theta_bins_size = 100\n",
    "theta_bins = np.linspace(-np.pi/2, np.pi/2, theta_bins_size)\n",
    "theta_hist_x = theta_bins + np.pi/((theta_bins_size-1)*2)\n",
    "theta_hist_x = theta_hist_x[:-1]\n",
    "\n",
    "theta_hist_y = rfunc2(theta_hist_x, 1.6, -0.7)\n",
    "\n",
    "fig, ax = plt.subplots(1, 1)\n",
    "\n",
    "ax.plot(theta_hist_x, theta_hist_y)"
   ]
  },
  {
   "cell_type": "code",
   "execution_count": null,
   "metadata": {},
   "outputs": [],
   "source": [
    "theta_sample = np.array([])\n",
    "theta_bins = np.linspace(-np.pi/2, np.pi/2, theta_bins_size)\n",
    "theta_hist_x = theta_bins + np.pi/((theta_bins_size-1)*2)\n",
    "theta_hist_x = theta_hist_x[:-1]\n",
    "\n",
    "for i in range(theta_bins.shape[0] - 1):\n",
    "    theta_sample = np.concatenate(( theta_sample, np.random.uniform(theta_bins[i], theta_bins[i+1],\\\n",
    "                                 int(rfunc2(theta_hist_x[i], 1.6, -0.7)/np.sum(rfunc2(theta_hist_x, 1.6, -0.7))*1e7))))\n",
    "\n",
    "plt.hist(theta_sample, bins=100)"
   ]
  },
  {
   "cell_type": "code",
   "execution_count": null,
   "metadata": {},
   "outputs": [],
   "source": [
    "theta_sample = np.array([])\n",
    "theta_hist_y *= 1.1e6\n",
    "for i in range(theta_bins.shape[0] - 1):\n",
    "    theta_sample = np.concatenate(( theta_sample, np.random.uniform(theta_bins[i], theta_bins[i+1], int(theta_hist_y[i]))))\n",
    "\n",
    "plt.hist(theta_sample, bins=100)"
   ]
  },
  {
   "cell_type": "code",
   "execution_count": null,
   "metadata": {},
   "outputs": [],
   "source": [
    "theta_sample.shape"
   ]
  },
  {
   "cell_type": "code",
   "execution_count": null,
   "metadata": {},
   "outputs": [],
   "source": [
    "np.random.shuffle(theta_sample)\n",
    "plt.hist(theta_sample[:int(gen_dist_x.shape[0])], bins=100)"
   ]
  },
  {
   "cell_type": "code",
   "execution_count": null,
   "metadata": {},
   "outputs": [],
   "source": [
    "def Energy_theta_func(C, enery, theta):\n",
    "    U = 3.36 #binding\n",
    "    m = 0.212\n",
    "    Alpha = 0.14\n",
    "    n = 0.5\n",
    "    A = 13\n",
    "    # m_t = 44.803928e-27\n",
    "    # m_i = 66.335e-27\n",
    "    m_t = 27\n",
    "    m_i = 40\n",
    "    q = 2 - m_t/(4*m_i)\n",
    "    Q = 0.55\n",
    "    E_inc = 500 # eVsb Vsb self bias\n",
    "    if theta < np.pi/4 or theta >= -np.pi/4:\n",
    "        return C * enery/(enery + U)**(3-2*m)*(1 - ((U + enery)/(U + Alpha*E_inc))**n)*np.exp(-A*((m_i/m_t)*((U + enery * np.cos(theta)**q)/E_inc))**Q)\n",
    "    else:\n",
    "        return C * enery/(enery + U)**(3-2*m)*(1 - ((U + enery)/(U + Alpha*E_inc))**n)*np.exp(-A*((m_i/m_t)*((U + enery * (1-np.sin(theta*2)/2)**q)/E_inc))**Q)"
   ]
  },
  {
   "cell_type": "code",
   "execution_count": null,
   "metadata": {},
   "outputs": [],
   "source": [
    "theta = 0.15*np.pi\n",
    "enery = np.linspace(0, 100, 100)\n",
    "\n",
    "fig, ax = plt.subplots(1,1)\n",
    "ax.plot(enery, Energy_theta_func(10, enery, theta))\n",
    "# ax.set_yscale('log')"
   ]
  },
  {
   "cell_type": "code",
   "execution_count": null,
   "metadata": {},
   "outputs": [],
   "source": [
    "enery_bins = np.linspace(0, 50, 100)\n",
    "\n",
    "energy_theta_tuple = []\n",
    "for j in range(theta_hist_x.shape[0]):\n",
    "    print(j)\n",
    "    enery_sample = np.array([])\n",
    "    for i in range(enery_bins.shape[0] - 1):\n",
    "        enery_sample = np.concatenate(( enery_sample, \\\n",
    "                                    np.random.uniform(enery_bins[i], enery_bins[i+1], \\\n",
    "                                    int(Energy_theta_func(10, enery_bins[i], theta_hist_x[j])/np.sum(Energy_theta_func(10, enery_bins, theta_hist_x[j]))*1e6))))\n",
    "    energy_theta_tuple.append(enery_sample)\n",
    "\n",
    "for i in range(len(energy_theta_tuple)):\n",
    "    np.random.shuffle(energy_theta_tuple[i])"
   ]
  },
  {
   "cell_type": "code",
   "execution_count": null,
   "metadata": {},
   "outputs": [],
   "source": [
    "fig, ax = plt.subplots()\n",
    "ax.set_title(\"Energy distribution of sputtered aluminum\")\n",
    "ax.hist(energy_theta_tuple[0],density=True, bins=100,histtype='step', stacked=True, fill=False, label='0degree')\n",
    "ax.hist(energy_theta_tuple[25],density=True, bins=100,histtype='step', stacked=True, fill=False, label='45degree')\n",
    "ax.set_yscale('log')\n",
    "# ax.plot(X, hist_dist.cdf(X), label='CDF')\n",
    "ax.legend()"
   ]
  },
  {
   "cell_type": "code",
   "execution_count": null,
   "metadata": {},
   "outputs": [],
   "source": [
    "fig, ax = plt.subplots()\n",
    "ax.set_title(\"Energy distribution of sputtered aluminum\")\n",
    "ax.hist(energy_theta_tuple[0],density=True, bins=100,histtype='step', stacked=True, fill=False, label='90degree')\n",
    "ax.hist(energy_theta_tuple[25],density=True, bins=100,histtype='step', stacked=True, fill=False, label='45degree')\n",
    "ax.hist(energy_theta_tuple[50],density=True, bins=100,histtype='step', stacked=True, fill=False, label='0degree')\n",
    "ax.hist(energy_theta_tuple[98],density=True, bins=100,histtype='step', stacked=True, fill=False, label='-90degree')\n",
    "# ax.set_yscale('log')\n",
    "# ax.plot(X, hist_dist.cdf(X), label='CDF')\n",
    "ax.legend()"
   ]
  },
  {
   "cell_type": "code",
   "execution_count": null,
   "metadata": {},
   "outputs": [],
   "source": [
    "test_sample = theta_sample[:int(gen_dist_x.shape[0])]\n",
    "theta_hist_sample = np.histogram(test_sample, bins=99)\n",
    "\n",
    "energy_sample = np.array([])\n",
    "energymin = []\n",
    "for i in range(99):\n",
    "    energy_theta_sample = energy_theta_tuple[i][:theta_hist_sample[0][i] ]\n",
    "    # print(energy_theta_sample.shape)\n",
    "    # print(theta_hist_sample[0][i])\n",
    "    if energy_theta_sample.shape[0] != theta_hist_sample[0][i]:\n",
    "        print('wrong')\n",
    "    energy_sample = np.concatenate((energy_sample, energy_theta_sample))\n",
    "    # print(np.average(energy_theta_sample))\n",
    "    energymin.append(np.average(energy_theta_sample))\n",
    "\n",
    "print(energy_sample.shape)\n",
    "print(gen_dist_x.shape[0])"
   ]
  },
  {
   "cell_type": "code",
   "execution_count": null,
   "metadata": {},
   "outputs": [],
   "source": [
    "fig, ax = plt.subplots(1,1)\n",
    "ax.plot(theta_bins[1:], energymin)"
   ]
  },
  {
   "cell_type": "code",
   "execution_count": null,
   "metadata": {},
   "outputs": [],
   "source": [
    "theta_hist_sample[0]"
   ]
  },
  {
   "cell_type": "code",
   "execution_count": null,
   "metadata": {},
   "outputs": [],
   "source": [
    "ev = 1.602176634e-19\n",
    "velosity_norm_energy = np.sqrt((energy_sample*ev)*2/44.803928e-27)\n",
    "\n",
    "test_sample_sort = np.sort(test_sample)\n",
    "\n",
    "theta = test_sample\n",
    "phi = np.random.rand(gen_dist_x.shape[0])*2*np.pi\n",
    "print(phi.shape)\n",
    "print(theta.shape)\n",
    "# vel_x = np.cos(phi)*np.sin(theta)*velosity_norm_energy\n",
    "# vel_y = np.sin(phi)*np.sin(theta)*velosity_norm_energy\n",
    "random2 = np.random.rand(gen_dist_x.shape[0])\n",
    "vel_x = np.sin(theta)*(np.cos(2*np.pi*random2))\n",
    "vel_y = np.sin(theta)*(np.sin(2*np.pi*random2))\n",
    "\n",
    "vel_z = np.cos(theta)\n",
    "\n",
    "velosity_matrix = np.array([vel_x, vel_y, -vel_z]).T\n",
    "\n",
    "rng = np.random.default_rng()\n",
    "velosity_matrix = rng.permuted(velosity_matrix, axis=0)\n",
    "\n",
    "fig, ax = plt.subplots()\n",
    "ax.set_title(\"velosity distribution of deposited aluminum on wafer (center)\")\n",
    "ax.hist(velosity_matrix[:,0], bins=100,histtype='step', stacked=True, fill=False, label='vel_x')\n",
    "ax.hist(velosity_matrix[:,1], bins=100,histtype='step', stacked=True, fill=False, label='vel_y')\n",
    "ax.hist(velosity_matrix[:,2], bins=100,histtype='step', stacked=True, fill=False, label='vel_z')\n",
    "# ax.set_yscale('log')\n",
    "# ax.plot(X, hist_dist.cdf(X), label='CDF')\n",
    "ax.legend()"
   ]
  },
  {
   "cell_type": "code",
   "execution_count": null,
   "metadata": {},
   "outputs": [],
   "source": [
    "fig, ax = plt.subplots()\n",
    "ax.set_title(\"velosity distribution of deposited aluminum on wafer (center)\")\n",
    "ax.hist(energy_sample, bins=100,histtype='step', stacked=True, fill=False, label='e')\n",
    "\n",
    "# ax.set_yscale('log')\n",
    "# ax.plot(X, hist_dist.cdf(X), label='CDF')\n",
    "ax.legend()"
   ]
  },
  {
   "cell_type": "code",
   "execution_count": null,
   "metadata": {},
   "outputs": [],
   "source": [
    "fig, ax = plt.subplots()\n",
    "ax.set_title(\"velosity distribution of deposited aluminum on wafer (center)\")\n",
    "ax.hist(theta_sample, bins=100,histtype='step', stacked=True, fill=False, label='e')\n",
    "\n",
    "# ax.set_yscale('log')\n",
    "# ax.plot(X, hist_dist.cdf(X), label='CDF')\n",
    "ax.legend()"
   ]
  },
  {
   "cell_type": "code",
   "execution_count": null,
   "metadata": {},
   "outputs": [],
   "source": [
    "1.66e-27*27"
   ]
  },
  {
   "cell_type": "code",
   "execution_count": null,
   "metadata": {},
   "outputs": [],
   "source": [
    "ev = 1.602176634e-19\n",
    "velosity_norm_energy = np.sqrt((energy_sample*ev)*2/4.4803928e-26)\n",
    "\n",
    "test_sample_sort = np.sort(test_sample)\n",
    "\n",
    "theta = test_sample\n",
    "phi = np.random.rand(gen_dist_x.shape[0])*2*np.pi\n",
    "print(phi.shape)\n",
    "print(theta.shape)\n",
    "# vel_x = np.cos(phi)*np.sin(theta)*velosity_norm_energy\n",
    "# vel_y = np.sin(phi)*np.sin(theta)*velosity_norm_energy\n",
    "random2 = np.random.rand(gen_dist_x.shape[0])\n",
    "vel_x = np.sin(theta)*(np.cos(2*np.pi*random2))*velosity_norm_energy\n",
    "vel_y = np.sin(theta)*(np.sin(2*np.pi*random2))*velosity_norm_energy\n",
    "\n",
    "vel_z = np.cos(theta)*velosity_norm_energy\n",
    "\n",
    "velosity_matrix = np.array([vel_x, vel_y, -vel_z]).T\n",
    "\n",
    "rng = np.random.default_rng()\n",
    "velosity_matrix = rng.permuted(velosity_matrix, axis=0)\n",
    "\n",
    "fig, ax = plt.subplots()\n",
    "ax.set_title(\"velosity distribution of deposited aluminum on wafer (center)\")\n",
    "ax.hist(velosity_matrix[:,0], bins=100,histtype='step', stacked=True, fill=False, label='vel_x')\n",
    "ax.hist(velosity_matrix[:,1], bins=100,histtype='step', stacked=True, fill=False, label='vel_y')\n",
    "ax.hist(velosity_matrix[:,2], bins=100,histtype='step', stacked=True, fill=False, label='vel_z')\n",
    "# ax.set_yscale('log')\n",
    "# ax.plot(X, hist_dist.cdf(X), label='CDF')\n",
    "ax.legend()"
   ]
  },
  {
   "cell_type": "code",
   "execution_count": null,
   "metadata": {},
   "outputs": [],
   "source": [
    "release_pos = np.array([gen_dist_x, gen_dist_y, np.zeros_like(gen_dist_x)]).T\n",
    "\n",
    "print(release_pos.shape)\n",
    "print(velosity_matrix.shape)"
   ]
  },
  {
   "cell_type": "code",
   "execution_count": null,
   "metadata": {},
   "outputs": [],
   "source": [
    "np.save('release_pos_2e7_SMD_2',release_pos)\n",
    "np.save('velosity_matrix_2e7_SMD_2', velosity_matrix)"
   ]
  },
  {
   "cell_type": "code",
   "execution_count": null,
   "metadata": {},
   "outputs": [],
   "source": [
    "ev = 1.602176634e-19\n",
    "velosity_norm_energy = np.sqrt((energy_sample*ev)*2/44.803928e-27)\n",
    "\n",
    "test_sample_sort = np.sort(test_sample)\n",
    "\n",
    "theta = test_sample\n",
    "phi = np.random.rand(gen_dist_x.shape[0])*2*np.pi\n",
    "print(phi.shape)\n",
    "print(theta.shape)\n",
    "# vel_x = np.cos(phi)*np.sin(theta)*velosity_norm_energy\n",
    "# vel_y = np.sin(phi)*np.sin(theta)*velosity_norm_energy\n",
    "random2 = np.random.rand(gen_dist_x.shape[0])\n",
    "vel_x = np.sin(theta)*(np.cos(2*np.pi*random2))*velosity_norm_energy\n",
    "vel_y = np.sin(theta)*(np.sin(2*np.pi*random2))*velosity_norm_energy\n",
    "\n",
    "vel_z = np.cos(theta)*velosity_norm_energy\n",
    "\n",
    "velosity_matrix = np.array([vel_x, vel_y, -vel_z]).T\n",
    "\n",
    "rng = np.random.default_rng()\n",
    "velosity_matrix = rng.permuted(velosity_matrix, axis=0)\n",
    "\n",
    "fig, ax = plt.subplots()\n",
    "ax.set_title(\"velosity distribution of deposited aluminum on wafer (center)\")\n",
    "ax.hist(velosity_matrix[:,0], bins=100,histtype='step', stacked=True, fill=False, label='vel_x')\n",
    "ax.hist(velosity_matrix[:,1], bins=100,histtype='step', stacked=True, fill=False, label='vel_y')\n",
    "ax.hist(velosity_matrix[:,2], bins=100,histtype='step', stacked=True, fill=False, label='vel_z')\n",
    "# ax.set_yscale('log')\n",
    "# ax.plot(X, hist_dist.cdf(X), label='CDF')\n",
    "ax.legend()"
   ]
  },
  {
   "cell_type": "code",
   "execution_count": null,
   "metadata": {},
   "outputs": [],
   "source": [
    "ev = 1.602176634e-19\n",
    "velosity_norm_energy = np.sqrt((energy_sample*ev)*2/44.803928e-27)\n",
    "\n",
    "test_sample_sort = np.sort(test_sample)\n",
    "\n",
    "theta = test_sample\n",
    "phi = np.random.rand(gen_dist_x.shape[0])*2*np.pi\n",
    "# vel_x = np.cos(phi)*np.sin(theta)*velosity_norm_energy\n",
    "# vel_y = np.sin(phi)*np.sin(theta)*velosity_norm_energy\n",
    "random2 = np.random.rand(gen_dist_x.shape[0])\n",
    "vel_x = np.sin(theta)*(np.cos(2*np.pi*random2))*velosity_norm_energy\n",
    "vel_y = np.sin(theta)*(np.sin(2*np.pi*random2))*velosity_norm_energy\n",
    "\n",
    "vel_z = np.cos(theta)*velosity_norm_energy\n",
    "\n",
    "velosity_matrix = np.array([vel_x, vel_y, -vel_z]).T\n",
    "\n",
    "rng = np.random.default_rng()\n",
    "velosity_matrix = rng.permuted(velosity_matrix, axis=0)\n",
    "\n",
    "fig, ax = plt.subplots()\n",
    "ax.set_title(\"velosity distribution of deposited aluminum on wafer (center)\")\n",
    "ax.hist(velosity_matrix[:,0], bins=100,histtype='step', stacked=True, fill=False, label='vel_x')\n",
    "ax.hist(velosity_matrix[:,1], bins=100,histtype='step', stacked=True, fill=False, label='vel_y')\n",
    "ax.hist(velosity_matrix[:,2], bins=100,histtype='step', stacked=True, fill=False, label='vel_z')\n",
    "# ax.set_yscale('log')\n",
    "# ax.plot(X, hist_dist.cdf(X), label='CDF')\n",
    "ax.legend()"
   ]
  },
  {
   "cell_type": "code",
   "execution_count": null,
   "metadata": {},
   "outputs": [],
   "source": [
    "fig, ax = plt.subplots()\n",
    "ax.set_title(\"velosity distribution of deposited aluminum on wafer (center)\")\n",
    "ax.hist(velosity_norm_energy, bins=100,histtype='step', stacked=True, fill=False, label='vel_x')\n",
    "\n",
    "# ax.plot(X, hist_dist.cdf(X), label='CDF')\n",
    "ax.legend()"
   ]
  },
  {
   "cell_type": "code",
   "execution_count": null,
   "metadata": {},
   "outputs": [],
   "source": [
    "from scipy.stats import rv_continuous\n",
    "from scipy.stats.sampling import NumericalInversePolynomial\n",
    "from scipy.special import gamma, factorial"
   ]
  },
  {
   "cell_type": "code",
   "execution_count": null,
   "metadata": {},
   "outputs": [],
   "source": [
    "def diVr_func(d_refi, eVr, wi):\n",
    "    kb = 1.380649e-23\n",
    "    Tref = 650\n",
    "    ev = 1.60217663e-19\n",
    "    diVr = d_refi * np.sqrt(((kb*Tref)/(eVr*ev))**(wi-1/2)*gamma(5/2 - wi))\n",
    "    return diVr"
   ]
  },
  {
   "cell_type": "code",
   "execution_count": null,
   "metadata": {},
   "outputs": [],
   "source": [
    "def DXsec(d_refi, eVr, wi, chi):\n",
    "    if chi == 0:\n",
    "        return 0\n",
    "    if chi != 0:\n",
    "        return diVr_func(d_refi, eVr, wi)**2/(np.pi * np.sin(chi))*(1 - chi/np.pi)"
   ]
  },
  {
   "cell_type": "code",
   "execution_count": null,
   "metadata": {},
   "outputs": [],
   "source": [
    "def TotXsec(d_refi, eVr, wi):\n",
    "    return np.pi * diVr_func(d_refi, eVr, wi)**2"
   ]
  },
  {
   "cell_type": "code",
   "execution_count": null,
   "metadata": {},
   "outputs": [],
   "source": [
    "def DXsec(d_refi, eVr, wi, chi):\n",
    "    return diVr_func(d_refi, eVr, wi)**2/(np.pi * np.sin(chi))*(1 - chi/np.pi)"
   ]
  },
  {
   "cell_type": "code",
   "execution_count": null,
   "metadata": {},
   "outputs": [],
   "source": [
    "enery = np.linspace(1, 100, 100)\n",
    "\n",
    "fig, ax = plt.subplots(1,1)\n",
    "ax.plot(enery, TotXsec((4.614 + 4.151)/2*1e-10, enery, 0.721))"
   ]
  },
  {
   "cell_type": "code",
   "execution_count": null,
   "metadata": {},
   "outputs": [],
   "source": [
    "enery = np.linspace(0, 100, 100)\n",
    "\n",
    "fig, ax = plt.subplots(1,1)\n",
    "ax.plot(enery, TotXsec((4.614 + 4.151)/2*1e-10, enery, 0.721))"
   ]
  },
  {
   "cell_type": "code",
   "execution_count": null,
   "metadata": {},
   "outputs": [],
   "source": [
    "chiX = np.linspace(0.000001, np.pi*0.999999999, 100)\n",
    "\n",
    "fig, ax = plt.subplots(1,1)\n",
    "ax.plot(chiX, DXsec((4.614 + 4.151)/2*1e-8, 100, 0.721, chiX), label='100eV')\n",
    "ax.plot(chiX, DXsec((4.614 + 4.151)/2*1e-8, 10, 0.721, chiX), label='10eV')\n",
    "ax.plot(chiX, DXsec((4.614 + 4.151)/2*1e-8, 1, 0.721, chiX), label='1eV')\n",
    "ax.plot(chiX, DXsec((4.614 + 4.151)/2*1e-8, 0.1, 0.721, chiX), label='0.1eV')\n",
    "ax.plot(chiX, DXsec((4.614 + 4.151)/2*1e-8, 0.01, 0.721, chiX), label='0.01eV')\n",
    "ax.set_xlabel('$\\chi(rad)$')\n",
    "ax.set_xlim(0, np.pi)\n",
    "ax.set_ylim(1e-17, 1e-13)\n",
    "ax.set_ylabel('$\\sigma(cm^2 /rad)$')\n",
    "ax.set_yscale('log')\n",
    "ax.legend()"
   ]
  },
  {
   "cell_type": "code",
   "execution_count": null,
   "metadata": {},
   "outputs": [],
   "source": [
    "chiX = np.linspace(0.01, np.pi*0.999999999, 100)\n",
    "\n",
    "fig, ax = plt.subplots(1,1)\n",
    "ax.plot(chiX, DXsec((4.614 + 4.151)/2*1e-8, 100, 0.721, chiX), label='100eV')\n",
    "ax.plot(chiX, DXsec((4.614 + 4.151)/2*1e-8, 10, 0.721, chiX), label='10eV')\n",
    "ax.plot(chiX, DXsec((4.614 + 4.151)/2*1e-8, 1, 0.721, chiX), label='1eV')\n",
    "ax.plot(chiX, DXsec((4.614 + 4.151)/2*1e-8, 0.1, 0.721, chiX), label='0.1eV')\n",
    "ax.plot(chiX, DXsec((4.614 + 4.151)/2*1e-8, 0.01, 0.721, chiX), label='0.01eV')\n",
    "ax.set_xlabel('$\\chi(rad)$')\n",
    "ax.set_xlim(0, np.pi)\n",
    "# ax.set_ylim(1e-17, 1e-13)\n",
    "ax.set_ylabel('$\\sigma(cm^2 /rad)$')\n",
    "# ax.set_yscale('log')\n",
    "ax.legend()"
   ]
  },
  {
   "cell_type": "code",
   "execution_count": null,
   "metadata": {},
   "outputs": [],
   "source": [
    "DX100 = DXsec((4.614 + 4.151)/2*1e-8, 100, 0.721, chiX)\n",
    "\n",
    "DX100_sample = np.array([])\n",
    "for i in range(chiX.shape[0] - 1):\n",
    "    DX100_sample = np.concatenate(( DX100_sample, np.random.uniform(chiX[i], chiX[i+1], int(DX100[i]/np.sum(DX100)*1e6))))\n"
   ]
  },
  {
   "cell_type": "code",
   "execution_count": null,
   "metadata": {},
   "outputs": [],
   "source": [
    "DX100_sample.sum()"
   ]
  },
  {
   "cell_type": "code",
   "execution_count": null,
   "metadata": {},
   "outputs": [],
   "source": [
    "plt.hist(DX100_sample, bins= 100, histtype='step', stacked=True, fill=False, label='rvs50')\n",
    "plt.legend()"
   ]
  },
  {
   "cell_type": "code",
   "execution_count": null,
   "metadata": {},
   "outputs": [],
   "source": [
    "energy = np.linspace(0.1, 50, 50)\n",
    "chiX = np.linspace(0.01, np.pi*0.999999999, 100)\n",
    "\n",
    "DX_tuple = []\n",
    "for j in range(energy.shape[0]):\n",
    "    print(j)\n",
    "    DX_sample = np.array([])\n",
    "    DX_sample = np.array([])\n",
    "    for i in range(chiX.shape[0] - 1):\n",
    "        DX_sample = np.concatenate(( DX_sample, \\\n",
    "                                    np.random.uniform(chiX[i], chiX[i+1], \\\n",
    "                                    int(DXsec((4.614 + 4.151)/2*1e-8, energy[j], 0.721, chiX[i])*1e19))))\n",
    "    DX_tuple.append(DX_sample)\n",
    "\n",
    "for i in range(len(DX_tuple)):\n",
    "    np.random.shuffle(DX_tuple[i])"
   ]
  },
  {
   "cell_type": "code",
   "execution_count": null,
   "metadata": {},
   "outputs": [],
   "source": [
    "plt.hist(DX_tuple[20], bins= 100, histtype='step', stacked=True, fill=False, label='rvs10')\n",
    "plt.hist(DX_tuple[0], bins= 100, histtype='step', stacked=True, fill=False, label='rvs50')\n",
    "plt.legend()"
   ]
  },
  {
   "cell_type": "code",
   "execution_count": null,
   "metadata": {},
   "outputs": [],
   "source": [
    "class DCS_gen_50(rv_continuous):\n",
    "    \"Dcs distribution\"\n",
    "    def _pdf(self, x):\n",
    "       return DXsec((4.614 + 4.151)/2*1e-10, 0.01, 0.7205, x)\n",
    "    \n",
    "\n",
    "class DCS_gen_100(rv_continuous):\n",
    "    \"Dcs distribution\"\n",
    "    def _pdf(self, x):\n",
    "       return DXsec((4.614 + 4.151)/2*1e-10, 1000, 0.7205, x)\n",
    "    \n",
    "urng = np.random.default_rng()\n",
    "\n",
    "dist50 =DCS_gen_50()\n",
    "rng50 = NumericalInversePolynomial(dist50, domain=[0.01, np.pi], random_state=urng)\n",
    "rvs50 = rng50.rvs(size=10000000)\n",
    "\n",
    "dist100 =DCS_gen_100()\n",
    "rng100 = NumericalInversePolynomial(dist100, domain=[0.01, np.pi], random_state=urng)\n",
    "rvs100 = rng100.rvs(size=10000000)\n",
    "print(rvs100)\n",
    "plt.hist(rvs100, bins= 100, histtype='step', stacked=True, fill=False, label='rvs100')\n",
    "plt.hist(rvs50, bins= 100, histtype='step', stacked=True, fill=False, label='rvs50')\n",
    "plt.legend()"
   ]
  },
  {
   "cell_type": "code",
   "execution_count": null,
   "metadata": {},
   "outputs": [],
   "source": [
    "print(rvs50.shape)"
   ]
  },
  {
   "cell_type": "code",
   "execution_count": null,
   "metadata": {},
   "outputs": [],
   "source": [
    "transport = CollisionModule.transport(pressure_pa=0.3, timeStep= 1e-9, temperature=300, cellSize=[240, 240, 150], celllength=2, chamberSize=[0.24, 0.24], DXsec=rvs50)"
   ]
  },
  {
   "cell_type": "code",
   "execution_count": null,
   "metadata": {},
   "outputs": [],
   "source": [
    "release_pos = np.array([gen_dist_x, gen_dist_y, np.zeros_like(gen_dist_x)]).T\n",
    "\n",
    "print(release_pos.shape)\n",
    "print(velosity_matrix.shape)"
   ]
  },
  {
   "cell_type": "code",
   "execution_count": null,
   "metadata": {},
   "outputs": [],
   "source": [
    "fig, ax = plt.subplots()\n",
    "ax.set_title(\"velosity distribution of deposited aluminum on wafer (center)\")\n",
    "ax.hist(velosity_matrix[:,0], bins=100,histtype='step', stacked=True, fill=False, label='vel_x')\n",
    "ax.hist(velosity_matrix[:,1], bins=100,histtype='step', stacked=True, fill=False, label='vel_y')\n",
    "ax.hist(velosity_matrix[:,2], bins=100,histtype='step', stacked=True, fill=False, label='vel_z')\n",
    "# ax.set_yscale('log')\n",
    "# ax.plot(X, hist_dist.cdf(X), label='CDF')\n",
    "ax.legend()"
   ]
  },
  {
   "cell_type": "code",
   "execution_count": null,
   "metadata": {},
   "outputs": [],
   "source": [
    "np.save('DXsec_Al_1e8_0618', rvs100)"
   ]
  },
  {
   "cell_type": "code",
   "execution_count": null,
   "metadata": {},
   "outputs": [],
   "source": [
    "np.save('release_pos_1e8',release_pos)\n",
    "np.save('velosity_matrix_1e8', velosity_matrix)\n",
    "np.save('DXsec_Al_1e8', rvs50)"
   ]
  },
  {
   "cell_type": "code",
   "execution_count": null,
   "metadata": {},
   "outputs": [],
   "source": [
    "transport.runE(p0=release_pos, v0=velosity_matrix, time=1e-7)"
   ]
  },
  {
   "cell_type": "code",
   "execution_count": null,
   "metadata": {},
   "outputs": [],
   "source": []
  }
 ],
 "metadata": {
  "kernelspec": {
   "display_name": "base",
   "language": "python",
   "name": "python3"
  },
  "language_info": {
   "codemirror_mode": {
    "name": "ipython",
    "version": 3
   },
   "file_extension": ".py",
   "mimetype": "text/x-python",
   "name": "python",
   "nbconvert_exporter": "python",
   "pygments_lexer": "ipython3",
   "version": "3.12.5"
  }
 },
 "nbformat": 4,
 "nbformat_minor": 2
}

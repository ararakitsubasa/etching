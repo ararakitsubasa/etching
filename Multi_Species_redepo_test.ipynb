{
 "cells": [
  {
   "cell_type": "code",
   "execution_count": 122,
   "metadata": {},
   "outputs": [],
   "source": [
    "import numpy as np\n",
    "import pyvista as pv\n",
    "import torch\n",
    "from numba import jit, prange\n",
    "from scipy.spatial import cKDTree"
   ]
  },
  {
   "cell_type": "code",
   "execution_count": 2,
   "metadata": {},
   "outputs": [],
   "source": [
    "etching = np.load('./bosch_data_1012_ratio08_trench_condition5_300wide/bosch_sf_step_12_sf.npy')"
   ]
  },
  {
   "cell_type": "code",
   "execution_count": 123,
   "metadata": {},
   "outputs": [],
   "source": [
    "etching = np.load('./test_depoFloat.npy')"
   ]
  },
  {
   "cell_type": "code",
   "execution_count": null,
   "metadata": {},
   "outputs": [],
   "source": [
    "# cyan = torch.Tensor(np.logical_and(etching[:50, :, :,1]==10, etching[:50, :, :,0]==0)).to_sparse()\n",
    "cyan = torch.Tensor(etching[:50, :, :,1]==10).to_sparse()\n",
    "cyan = cyan.indices().numpy().T\n",
    "\n",
    "gray = torch.Tensor(etching[:50, :, :,0]!=0).to_sparse()\n",
    "gray = gray.indices().numpy().T\n",
    "\n",
    "mask = torch.Tensor(etching[:50, :, :,2]!=0).to_sparse()\n",
    "mask = mask.indices().numpy().T\n",
    "\n",
    "maskmesh = pv.PolyData(mask)\n",
    "maskmesh[\"radius\"] = np.ones(mask.shape[0])*0.5\n",
    "\n",
    "depomesh = pv.PolyData(cyan)\n",
    "depomesh[\"radius\"] = np.ones(cyan.shape[0])*0.5\n",
    "geom = pv.Box()\n",
    "\n",
    "submesh = pv.PolyData(gray)\n",
    "submesh[\"radius\"] = np.ones(gray.shape[0])*0.5\n",
    "\n",
    "# Progress bar is a new feature on master branch\n",
    "maskglyphed = maskmesh.glyph(scale=\"radius\", geom=geom) # progress_bar=True)\n",
    "depoglyphed = depomesh.glyph(scale=\"radius\", geom=geom) # progress_bar=True)\n",
    "subglyphed = submesh.glyph(scale=\"radius\", geom=geom) # progress_bar=True)\n",
    "\n",
    "p = pv.Plotter()\n",
    "p.add_mesh(maskglyphed, color='green')\n",
    "p.add_mesh(depoglyphed, color='cyan')\n",
    "p.add_mesh(subglyphed, color='dimgray')\n",
    "p.enable_eye_dome_lighting()\n",
    "p.show()"
   ]
  },
  {
   "cell_type": "code",
   "execution_count": 4,
   "metadata": {},
   "outputs": [],
   "source": [
    "def removeFloat(film):  # fast scanZ\n",
    "    filmC = film[:,:,:,0]\n",
    "    # 获取当前平面的非零元素布尔索引\n",
    "    current_plane = film[:,:,:,1] != 0\n",
    "\n",
    "    # 创建一个全是False的布尔数组来存储邻居的检查结果\n",
    "    neighbors = np.zeros_like(filmC, dtype=bool)\n",
    "\n",
    "    # 检查各个方向的邻居是否为零\n",
    "    neighbors[1:, :, :] |= filmC[:-1, :, :] != 0  # 上面的邻居不为0\n",
    "    neighbors[:-1, :, :] |= filmC[1:, :, :] != 0  # 下面的邻居不为0\n",
    "    neighbors[:, 1:, :] |= filmC[:, :-1, :] != 0  # 左边的邻居不为0\n",
    "    neighbors[:, :-1, :] |= filmC[:, 1:, :] != 0  # 右边的邻居不为0\n",
    "    neighbors[:, :, 1:] |= filmC[:, :, :-1] != 0  # 前面的邻居不为0\n",
    "    neighbors[:, :, :-1] |= filmC[:, :, 1:] != 0  # 后面的邻居不为0\n",
    "\n",
    "    # 孤立单元格的条件是当前平面元素不为0且所有方向的邻居都为0\n",
    "    condition = current_plane & ~neighbors\n",
    "\n",
    "    # 将孤立的单元格设为0\n",
    "    film[condition, :] = 0\n",
    "\n",
    "    return film"
   ]
  },
  {
   "cell_type": "code",
   "execution_count": null,
   "metadata": {},
   "outputs": [],
   "source": [
    "    # def scanZ(self, film): # fast scanZ\n",
    "    #     film = torch.Tensor(film)\n",
    "    #     xshape, yshape, zshape = film.shape\n",
    "    #     self.zshape = zshape\n",
    "    #     # 初始化一个全零的表面稀疏张量\n",
    "    #     surface_sparse = torch.zeros((xshape, yshape, zshape))\n",
    "        \n",
    "    #     # 获取当前平面与前后平面的布尔索引\n",
    "    #     current_plane = film != 0\n",
    "\n",
    "    #     # 获取周围邻居的布尔索引\n",
    "    #     neighbors = torch.zeros_like(film, dtype=torch.bool)\n",
    "        \n",
    "    #     neighbors[1:, :, :] |= film[:-1, :, :] == 0  # 上面\n",
    "    #     neighbors[:-1, :, :] |= film[1:, :, :] == 0  # 下面\n",
    "    #     neighbors[:, 1:, :] |= film[:, :-1, :] == 0  # 左边\n",
    "    #     neighbors[:, :-1, :] |= film[:, 1:, :] == 0  # 右边\n",
    "    #     neighbors[:, :, 1:] |= film[:, :, :-1] == 0  # 前面\n",
    "    #     neighbors[:, :, :-1] |= film[:, :, 1:] == 0  # 后面\n",
    "        \n",
    "    #     # 获取满足条件的索引\n",
    "    #     condition = current_plane & neighbors\n",
    "        \n",
    "    #     # 更新表面稀疏张量\n",
    "    #     surface_sparse[condition] = 1\n",
    "        \n",
    "    #     return surface_sparse.to_sparse()"
   ]
  },
  {
   "cell_type": "code",
   "execution_count": 29,
   "metadata": {},
   "outputs": [],
   "source": [
    "def getFloat_pointcloud(film):  # fast scanZ\n",
    "    sumFilm = np.sum(film, axis=-1)\n",
    "    sumFilm = torch.Tensor(sumFilm)\n",
    "    film = torch.Tensor(film)\n",
    "    filmC = film[:,:,:,0]\n",
    "    # 获取当前平面的非零元素布尔索引\n",
    "    current_plane = film[:,:,:,1] != 0\n",
    "    # 初始化一个全零的表面稀疏张量\n",
    "    surface_sparse = torch.zeros_like(sumFilm)\n",
    "    # 创建一个全是False的布尔数组来存储邻居的检查结果\n",
    "    neighbors = torch.zeros_like(filmC, dtype=torch.bool)\n",
    "\n",
    "    # 检查各个方向的邻居是否为零\n",
    "    neighbors[1:, :, :] |= filmC[:-1, :, :] != 0  # 上面的邻居不为0\n",
    "    neighbors[:-1, :, :] |= filmC[1:, :, :] != 0  # 下面的邻居不为0\n",
    "    neighbors[:, 1:, :] |= filmC[:, :-1, :] != 0  # 左边的邻居不为0\n",
    "    neighbors[:, :-1, :] |= filmC[:, 1:, :] != 0  # 右边的邻居不为0\n",
    "    neighbors[:, :, 1:] |= filmC[:, :, :-1] != 0  # 前面的邻居不为0\n",
    "    neighbors[:, :, :-1] |= filmC[:, :, 1:] != 0  # 后面的邻居不为0\n",
    "\n",
    "    # 孤立单元格的条件是当前平面元素不为0且所有方向的邻居都为0\n",
    "    condition = current_plane & ~neighbors\n",
    "\n",
    "    surface_sparse[condition] = 1\n",
    "\n",
    "    points = surface_sparse.to_sparse().indices().T\n",
    "    return points"
   ]
  },
  {
   "cell_type": "code",
   "execution_count": null,
   "metadata": {},
   "outputs": [],
   "source": [
    "def removeFloat(film):  # fast scanZ\n",
    "    filmC = film[:,:,:,0]\n",
    "    # 获取当前平面的非零元素布尔索引\n",
    "    current_plane = film[:,:,:,1] != 0\n",
    "\n",
    "    # 创建一个全是False的布尔数组来存储邻居的检查结果\n",
    "    neighbors = np.zeros_like(filmC, dtype=bool)\n",
    "\n",
    "    # 检查各个方向的邻居是否为零\n",
    "    neighbors[1:, :, :] |= filmC[:-1, :, :] != 0  # 上面的邻居不为0\n",
    "    neighbors[:-1, :, :] |= filmC[1:, :, :] != 0  # 下面的邻居不为0\n",
    "    neighbors[:, 1:, :] |= filmC[:, :-1, :] != 0  # 左边的邻居不为0\n",
    "    neighbors[:, :-1, :] |= filmC[:, 1:, :] != 0  # 右边的邻居不为0\n",
    "    neighbors[:, :, 1:] |= filmC[:, :, :-1] != 0  # 前面的邻居不为0\n",
    "    neighbors[:, :, :-1] |= filmC[:, :, 1:] != 0  # 后面的邻居不为0\n",
    "\n",
    "    # 孤立单元格的条件是当前平面元素不为0且所有方向的邻居都为0\n",
    "    condition = current_plane & ~neighbors\n",
    "\n",
    "    # 将孤立的单元格设为0\n",
    "    film[condition, :] = 0\n",
    "\n",
    "    return film"
   ]
  },
  {
   "cell_type": "code",
   "execution_count": null,
   "metadata": {},
   "outputs": [],
   "source": [
    "def getFloat_pointcloud(film):  # fast scanZ\n",
    "    sumFilm = np.sum(film, axis=-1)\n",
    "    sumFilm = torch.Tensor(sumFilm)\n",
    "    film = torch.Tensor(film)\n",
    "    filmC = film[:,:,:,0]\n",
    "    # 获取当前平面的非零元素布尔索引\n",
    "    current_plane = film[:,:,:,1] != 0\n",
    "    # 初始化一个全零的表面稀疏张量\n",
    "    surface_sparse = torch.zeros_like(sumFilm)\n",
    "    # 创建一个全是False的布尔数组来存储邻居的检查结果\n",
    "    neighbors = torch.zeros_like(filmC, dtype=torch.bool)\n",
    "\n",
    "    # 检查各个方向的邻居是否为零\n",
    "    neighbors[1:, :, :] |= filmC[:-1, :, :] != 0  # 上面的邻居不为0\n",
    "    neighbors[:-1, :, :] |= filmC[1:, :, :] != 0  # 下面的邻居不为0\n",
    "    neighbors[:, 1:, :] |= filmC[:, :-1, :] != 0  # 左边的邻居不为0\n",
    "    neighbors[:, :-1, :] |= filmC[:, 1:, :] != 0  # 右边的邻居不为0\n",
    "    neighbors[:, :, 1:] |= filmC[:, :, :-1] != 0  # 前面的邻居不为0\n",
    "    neighbors[:, :, :-1] |= filmC[:, :, 1:] != 0  # 后面的邻居不为0\n",
    "\n",
    "    # 孤立单元格的条件是当前平面元素不为0且所有方向的邻居都为0\n",
    "    condition = current_plane & ~neighbors\n",
    "\n",
    "    surface_sparse[condition] = 1\n",
    "\n",
    "    points = surface_sparse.to_sparse().indices().T\n",
    "    return points"
   ]
  },
  {
   "cell_type": "code",
   "execution_count": null,
   "metadata": {},
   "outputs": [],
   "source": [
    "geom = pv.Box()\n",
    "etching = np.load('./test_depoFloat.npy')\n",
    "# substrute = torch.Tensor(film[:, :, :]==10).to_sparse()\n",
    "# substrute = substrute.indices().numpy().T\n",
    "\n",
    "cyan = torch.Tensor(np.array(etching[:, :, :,0]!=0)).to_sparse()\n",
    "cyan = cyan.indices().numpy().T\n",
    "\n",
    "# submesh = pv.PolyData(substrute)\n",
    "# submesh[\"radius\"] = np.ones(substrute.shape[0])*0.5\n",
    "\n",
    "cyanmesh = pv.PolyData(cyan)\n",
    "cyanmesh[\"radius\"] = np.ones(cyan.shape[0])*0.5\n",
    "# Progress bar is a new feature on master branch\n",
    "cyanglyphed = cyanmesh.glyph(scale=\"radius\", geom=geom) # progress_bar=True)\n",
    "# subglyphed = submesh.glyph(scale=\"radius\", geom=geom) # progress_bar=True)\n",
    "p = pv.Plotter()\n",
    "# p.add_mesh(subglyphed, color='gray')\n",
    "p.add_mesh(cyanglyphed, color='cyan')\n",
    "p.enable_eye_dome_lighting()\n",
    "p.show()"
   ]
  },
  {
   "cell_type": "code",
   "execution_count": 168,
   "metadata": {},
   "outputs": [],
   "source": [
    "def scanDepoFloat(film): # fast scanZ\n",
    "    film = torch.Tensor(film)\n",
    "    sumFilm = torch.sum(film, axis=-1)\n",
    "    # sumFilm = torch.Tensor(sumFilm)\n",
    "\n",
    "    filmC = film[:,:,:,0]\n",
    "    # 初始化一个全零的表面稀疏张量\n",
    "    surface_sparse = torch.zeros_like(sumFilm)\n",
    "    surface_Float = torch.zeros_like(sumFilm)\n",
    "\n",
    "    # 获取当前平面与前后平面的布尔索引\n",
    "    current_plane = sumFilm == 0\n",
    "    current_Float = torch.logical_and(film[:,:,:,0] > 0, film[:,:,:,0] < 1)\n",
    "    # print(current_Float)\n",
    "    # 获取周围邻居的布尔索引\n",
    "    neighbors_plane = torch.zeros_like(filmC, dtype=torch.bool)\n",
    "    \n",
    "    neighbors_plane[1:, :, :] |= filmC[:-1, :, :] >= 9  # 上面\n",
    "    neighbors_plane[:-1, :, :] |= filmC[1:, :, :] >= 9  # 下面\n",
    "    neighbors_plane[:, 1:, :] |= filmC[:, :-1, :] >= 9  # 左边\n",
    "    neighbors_plane[:, :-1, :] |= filmC[:, 1:, :] >= 9  # 右边\n",
    "    neighbors_plane[:, :, 1:] |= filmC[:, :, :-1] >= 9  # 前面\n",
    "    neighbors_plane[:, :, :-1] |= filmC[:, :, 1:] >= 9  # 后面\n",
    "\n",
    "    # 获取周围邻居的布尔索引\n",
    "    neighbors_float = torch.zeros_like(filmC, dtype=torch.bool)\n",
    "    \n",
    "    neighbors_float[1:, :, :] |= filmC[:-1, :, :] == 0  # 上面\n",
    "    neighbors_float[:-1, :, :] |= filmC[1:, :, :] == 0  # 下面\n",
    "    neighbors_float[:, 1:, :] |= filmC[:, :-1, :] == 0  # 左边\n",
    "    neighbors_float[:, :-1, :] |= filmC[:, 1:, :] == 0  # 右边\n",
    "    neighbors_float[:, :, 1:] |= filmC[:, :, :-1] == 0  # 前面\n",
    "    neighbors_float[:, :, :-1] |= filmC[:, :, 1:] == 0  # 后面\n",
    "    \n",
    "    # 获取满足条件的索引\n",
    "    condition = current_plane & neighbors_plane\n",
    "    condition_float = current_Float & neighbors_float\n",
    "    # 更新表面稀疏张量\n",
    "    surface_sparse[condition] = 1\n",
    "    surface_Float[condition_float] = 1\n",
    "\n",
    "    points = surface_Float.to_sparse().indices().T\n",
    "\n",
    "    return surface_sparse.numpy(), points"
   ]
  },
  {
   "cell_type": "code",
   "execution_count": null,
   "metadata": {},
   "outputs": [],
   "source": [
    "float_point = scanDepoFloat(etching)[1]\n",
    "float_point.shape"
   ]
  },
  {
   "cell_type": "code",
   "execution_count": null,
   "metadata": {},
   "outputs": [],
   "source": [
    "float_point = scanDepoFloat(etching)[1]\n",
    "\n",
    "point_cloud = pv.PolyData(float_point.numpy())\n",
    "vectors = np.ones((float_point.shape[0], 3))\n",
    "\n",
    "point_cloud['vectors'] = vectors\n",
    "arrows = point_cloud.glyph(\n",
    "    orient='vectors',\n",
    "    scale=10000,\n",
    "    factor=3,\n",
    ")\n",
    "\n",
    "# Display the arrowscyan\n",
    "\n",
    "\n",
    "plotter = pv.Plotter()\n",
    "plotter.add_mesh(point_cloud, color='cyan', point_size=5.0, render_points_as_spheres=True)\n",
    "# plotter.add_mesh(sphere, show_edges=True, opacity=0.5, color=\"w\")\n",
    "plotter.add_mesh(arrows, color='lightblue')\n",
    "# # plotter.add_point_labels([point_cloud.center,], ['Center',],\n",
    "# #                          point_color='yellow', point_size=20)\n",
    "plotter.show_grid()\n",
    "plotter.show()"
   ]
  },
  {
   "cell_type": "code",
   "execution_count": 185,
   "metadata": {},
   "outputs": [],
   "source": [
    "def depoFloat(film):\n",
    "    plane_point, Float_point = scanDepoFloat(film)\n",
    "    # Float_point = getFloat_pointcloud(film)\n",
    "    print(Float_point.shape)\n",
    "    plane_tree = cKDTree(np.argwhere(plane_point == 1))\n",
    "    # Float_point = getFloat_pointcloud(film)\n",
    "\n",
    "    dd, ii = plane_tree.query(Float_point, k=1, workers=1)\n",
    "    surface_indice = np.argwhere(plane_point)\n",
    "    i1 = surface_indice[ii][:,0] #[particle, order, xyz]\n",
    "    j1 = surface_indice[ii][:,1]\n",
    "    k1 = surface_indice[ii][:,2]\n",
    "\n",
    "    Float_point = Float_point.numpy()\n",
    "    film[i1, j1, k1, 0] += film[Float_point[:, 0],Float_point[:, 1],Float_point[:, 2],0]\n",
    "    # film[i1, j1, k1, 0]  = 10\n",
    "    film[Float_point[:, 0],Float_point[:, 1],Float_point[:, 2],0] = 0\n",
    "\n",
    "    return film"
   ]
  },
  {
   "cell_type": "code",
   "execution_count": null,
   "metadata": {},
   "outputs": [],
   "source": [
    "etching[40, 100, 80:,0]"
   ]
  },
  {
   "cell_type": "code",
   "execution_count": null,
   "metadata": {},
   "outputs": [],
   "source": [
    "etchingB[40, 100, 80:,0]"
   ]
  },
  {
   "cell_type": "code",
   "execution_count": null,
   "metadata": {},
   "outputs": [],
   "source": [
    "etching = np.load('./test_depoFloat.npy')\n",
    "etchingB = depoFloat(etching)"
   ]
  },
  {
   "cell_type": "code",
   "execution_count": null,
   "metadata": {},
   "outputs": [],
   "source": [
    "geom = pv.Box()\n",
    "\n",
    "substrute = torch.Tensor(np.logical_and(etchingB[:, :, :,0]>0, etchingB[:, :, :,0]<2)).to_sparse()\n",
    "substrute = substrute.indices().numpy().T\n",
    "\n",
    "cyan = torch.Tensor(np.array(etchingB[:, :, :,0]>=9)).to_sparse()\n",
    "cyan = cyan.indices().numpy().T\n",
    "\n",
    "submesh = pv.PolyData(substrute)\n",
    "submesh[\"radius\"] = np.ones(substrute.shape[0])*0.5\n",
    "\n",
    "cyanmesh = pv.PolyData(cyan)\n",
    "cyanmesh[\"radius\"] = np.ones(cyan.shape[0])*0.5\n",
    "# Progress bar is a new feature on master branch\n",
    "cyanglyphed = cyanmesh.glyph(scale=\"radius\", geom=geom) # progress_bar=True)\n",
    "subglyphed = submesh.glyph(scale=\"radius\", geom=geom) # progress_bar=True)\n",
    "p = pv.Plotter()\n",
    "p.add_mesh(subglyphed, color='gray')\n",
    "p.add_mesh(cyanglyphed, color='cyan')\n",
    "p.enable_eye_dome_lighting()\n",
    "p.show()"
   ]
  },
  {
   "cell_type": "code",
   "execution_count": null,
   "metadata": {},
   "outputs": [],
   "source": [
    "def depoFloat(film):\n",
    "    plane_point = scanZ(film)\n",
    "    Float_point = getFloat_pointcloud(film)\n",
    "    \n",
    "    plane_tree = cKDTree(np.argwhere(plane_point == 1))\n",
    "    # Float_point = getFloat_pointcloud(film)\n",
    "\n",
    "    dd, ii = plane_tree.query(Float_point, k=1, workers=1)\n",
    "    surface_indice = np.argwhere(plane_point)\n",
    "    i1 = surface_indice[ii][:,0] #[particle, order, xyz]\n",
    "    j1 = surface_indice[ii][:,1]\n",
    "    k1 = surface_indice[ii][:,2]\n",
    "\n",
    "    Float_point = Float_point.numpy()\n",
    "    film[i1, j1, k1, 1] += 20\n",
    "    film[Float_point[:, 0],Float_point[:, 1],Float_point[:, 2],1] = 30\n",
    "\n",
    "    return film"
   ]
  },
  {
   "cell_type": "code",
   "execution_count": null,
   "metadata": {},
   "outputs": [],
   "source": [
    "etching = np.load('./bosch_data_1012_ratio08_trench_condition5_300wide/bosch_sf_step_12_sf.npy')\n",
    "plane_point = scanZ(etching)\n",
    "# print(plane_point.shape)\n",
    "\n",
    "\n",
    "plane_tree = cKDTree(np.argwhere(plane_point == 1))\n",
    "Float_point = getFloat_pointcloud(etching)\n",
    "print(Float_point.shape)\n",
    "# indice_all = np.zeros_like(pos.shape[0], dtype=np.bool_)\n",
    "dd, ii = plane_tree.query(Float_point, k=1, workers=1)\n",
    "surface_indice = np.argwhere(plane_point)\n",
    "i1 = surface_indice[ii][:,0] #[particle, order, xyz]\n",
    "j1 = surface_indice[ii][:,1]\n",
    "k1 = surface_indice[ii][:,2]\n",
    "print(ii.shape)\n",
    "print('ii', ii)\n",
    "print(surface_indice.shape)\n",
    "# print(np.max(ii))\n",
    "print(Float_point.shape)\n",
    "print(etching.shape)\n",
    "Float_point = Float_point.numpy()\n",
    "print('Float_point',Float_point.shape)\n",
    "print(surface_indice[ii].shape)\n",
    "print(etching[i1, j1, k1, 1].shape)\n",
    "# etching[i1, j1, k1, 1] += Float_point[:, 1]\n",
    "# print(ii)\n",
    "# etching[]"
   ]
  },
  {
   "cell_type": "code",
   "execution_count": 110,
   "metadata": {},
   "outputs": [],
   "source": [
    "def depoFloat(film):\n",
    "    plane_point = scanZ(film)\n",
    "\n",
    "    plane_tree = cKDTree(np.argwhere(plane_point == 1))\n",
    "    Float_point = getFloat_pointcloud(film)\n",
    "\n",
    "    dd, ii = plane_tree.query(Float_point, k=1, workers=1)\n",
    "    surface_indice = np.argwhere(plane_point)\n",
    "    i1 = surface_indice[ii][:,0] #[particle, order, xyz]\n",
    "    j1 = surface_indice[ii][:,1]\n",
    "    k1 = surface_indice[ii][:,2]\n",
    "\n",
    "    Float_point = Float_point.numpy()\n",
    "    film[i1, j1, k1, 1] += 20\n",
    "    film[Float_point[:, 0],Float_point[:, 1],Float_point[:, 2],1] = 30\n",
    "\n",
    "    return film"
   ]
  },
  {
   "cell_type": "code",
   "execution_count": 120,
   "metadata": {},
   "outputs": [],
   "source": [
    "etching = np.load('./bosch_data_1012_ratio08_trench_condition5_300wide/bosch_sf_step_12_sf.npy')\n",
    "etching = depoFloat(etching)"
   ]
  },
  {
   "cell_type": "code",
   "execution_count": null,
   "metadata": {},
   "outputs": [],
   "source": [
    "# cyan = torch.Tensor(np.logical_and(etching[:, :, :,1]==10, etching[:, :, :,0]==0)).to_sparse()\n",
    "cyan = torch.Tensor(etching[:, :, :,1]==20).to_sparse()\n",
    "cyan = cyan.indices().numpy().T\n",
    "\n",
    "gray = torch.Tensor(etching[:, :, :,0]!=0).to_sparse()\n",
    "gray = gray.indices().numpy().T\n",
    "\n",
    "mask = torch.Tensor(etching[:, :, :,1]==30).to_sparse()\n",
    "mask = mask.indices().numpy().T\n",
    "\n",
    "maskmesh = pv.PolyData(mask)\n",
    "maskmesh[\"radius\"] = np.ones(mask.shape[0])*0.5\n",
    "\n",
    "depomesh = pv.PolyData(cyan)\n",
    "depomesh[\"radius\"] = np.ones(cyan.shape[0])*0.5\n",
    "geom = pv.Box()\n",
    "\n",
    "submesh = pv.PolyData(gray)\n",
    "submesh[\"radius\"] = np.ones(gray.shape[0])*0.5\n",
    "\n",
    "# Progress bar is a new feature on master branch\n",
    "maskglyphed = maskmesh.glyph(scale=\"radius\", geom=geom) # progress_bar=True)\n",
    "depoglyphed = depomesh.glyph(scale=\"radius\", geom=geom) # progress_bar=True)\n",
    "subglyphed = submesh.glyph(scale=\"radius\", geom=geom) # progress_bar=True)\n",
    "\n",
    "p = pv.Plotter()\n",
    "p.add_mesh(maskglyphed, color='green')\n",
    "p.add_mesh(depoglyphed, color='cyan')\n",
    "p.add_mesh(subglyphed, color='dimgray')\n",
    "p.enable_eye_dome_lighting()\n",
    "p.show()"
   ]
  },
  {
   "cell_type": "code",
   "execution_count": 5,
   "metadata": {},
   "outputs": [],
   "source": [
    "etching = removeFloat(etching)"
   ]
  },
  {
   "cell_type": "code",
   "execution_count": 80,
   "metadata": {},
   "outputs": [],
   "source": [
    "etchingB = np.copy(etching)"
   ]
  },
  {
   "cell_type": "code",
   "execution_count": 98,
   "metadata": {},
   "outputs": [],
   "source": [
    "etching[i1, j1, k1, 1] += 10"
   ]
  },
  {
   "cell_type": "code",
   "execution_count": 101,
   "metadata": {},
   "outputs": [],
   "source": [
    "etching[Float_point[:, 0],Float_point[:, 1],Float_point[:, 2],1] = 0"
   ]
  },
  {
   "cell_type": "code",
   "execution_count": null,
   "metadata": {},
   "outputs": [],
   "source": [
    "np.allclose(etching, etchingB)"
   ]
  },
  {
   "cell_type": "code",
   "execution_count": null,
   "metadata": {},
   "outputs": [],
   "source": [
    "etching.shape"
   ]
  },
  {
   "cell_type": "code",
   "execution_count": null,
   "metadata": {},
   "outputs": [],
   "source": [
    "etchingB.shape"
   ]
  },
  {
   "cell_type": "code",
   "execution_count": null,
   "metadata": {},
   "outputs": [],
   "source": [
    "np.allclose(etching[:, 1], etchingB[:, 1])"
   ]
  },
  {
   "cell_type": "code",
   "execution_count": null,
   "metadata": {},
   "outputs": [],
   "source": [
    "np.allclose(etching[:, 0], etchingB[:, 0])"
   ]
  },
  {
   "cell_type": "code",
   "execution_count": null,
   "metadata": {},
   "outputs": [],
   "source": [
    "np.allclose(etching[:, 2], etchingB[:, 2])"
   ]
  },
  {
   "cell_type": "code",
   "execution_count": null,
   "metadata": {},
   "outputs": [],
   "source": [
    "# cyan = torch.Tensor(np.logical_and(etching[:, :, :,1]!=10, etching[:, :, :,1]!=0)).to_sparse()\n",
    "# cyan = torch.Tensor(etching[:, 1] != etchingB[:, 1]).to_sparse()\n",
    "cyan = torch.Tensor(etching[:, :, :,1]==10).to_sparse()\n",
    "cyan = cyan.indices().numpy().T\n",
    "\n",
    "gray = torch.Tensor(etching[:, :, :,0]!=0).to_sparse()\n",
    "gray = gray.indices().numpy().T\n",
    "\n",
    "mask = torch.Tensor(etching[:, :, :,2]!=0).to_sparse()\n",
    "mask = mask.indices().numpy().T\n",
    "\n",
    "maskmesh = pv.PolyData(mask)\n",
    "maskmesh[\"radius\"] = np.ones(mask.shape[0])*0.5\n",
    "\n",
    "depomesh = pv.PolyData(cyan)\n",
    "depomesh[\"radius\"] = np.ones(cyan.shape[0])*0.5\n",
    "geom = pv.Box()\n",
    "\n",
    "submesh = pv.PolyData(gray)\n",
    "submesh[\"radius\"] = np.ones(gray.shape[0])*0.5\n",
    "\n",
    "# Progress bar is a new feature on master branch\n",
    "maskglyphed = maskmesh.glyph(scale=\"radius\", geom=geom) # progress_bar=True)\n",
    "depoglyphed = depomesh.glyph(scale=\"radius\", geom=geom) # progress_bar=True)\n",
    "subglyphed = submesh.glyph(scale=\"radius\", geom=geom) # progress_bar=True)\n",
    "\n",
    "p = pv.Plotter()\n",
    "p.add_mesh(maskglyphed, color='green')\n",
    "p.add_mesh(depoglyphed, color='cyan')\n",
    "p.add_mesh(subglyphed, color='dimgray')\n",
    "p.enable_eye_dome_lighting()\n",
    "p.show()"
   ]
  },
  {
   "cell_type": "code",
   "execution_count": null,
   "metadata": {},
   "outputs": [],
   "source": []
  }
 ],
 "metadata": {
  "kernelspec": {
   "display_name": "base",
   "language": "python",
   "name": "python3"
  },
  "language_info": {
   "codemirror_mode": {
    "name": "ipython",
    "version": 3
   },
   "file_extension": ".py",
   "mimetype": "text/x-python",
   "name": "python",
   "nbconvert_exporter": "python",
   "pygments_lexer": "ipython3",
   "version": "3.12.5"
  }
 },
 "nbformat": 4,
 "nbformat_minor": 2
}

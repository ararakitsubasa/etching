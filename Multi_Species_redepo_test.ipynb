{
 "cells": [
  {
   "cell_type": "code",
   "execution_count": 7,
   "metadata": {},
   "outputs": [],
   "source": [
    "import numpy as np\n",
    "import pyvista as pv\n",
    "import torch\n",
    "from numba import jit, prange\n",
    "from scipy.spatial import cKDTree"
   ]
  },
  {
   "cell_type": "code",
   "execution_count": 2,
   "metadata": {},
   "outputs": [],
   "source": [
    "etching = np.load('./bosch_data_1012_ratio08_trench_condition5_300wide/bosch_sf_step_12_sf.npy')"
   ]
  },
  {
   "cell_type": "code",
   "execution_count": 3,
   "metadata": {},
   "outputs": [
    {
     "name": "stderr",
     "output_type": "stream",
     "text": [
      "c:\\Users\\urcs049\\AppData\\Local\\anaconda3\\Lib\\site-packages\\pyvista\\core\\utilities\\points.py:55: UserWarning: Points is not a float type. This can cause issues when transforming or applying filters. Casting to ``np.float32``. Disable this by passing ``force_float=False``.\n",
      "  warnings.warn(\n",
      "c:\\Users\\urcs049\\AppData\\Local\\anaconda3\\Lib\\site-packages\\pyvista\\core\\filters\\data_set.py:2386: UserWarning: No vector-like data to use for orient. orient will be set to False.\n",
      "  warnings.warn(\"No vector-like data to use for orient. orient will be set to False.\")\n"
     ]
    },
    {
     "data": {
      "application/vnd.jupyter.widget-view+json": {
       "model_id": "7a04985f5f28495a9fea7835a004f4c0",
       "version_major": 2,
       "version_minor": 0
      },
      "text/plain": [
       "Widget(value='<iframe src=\"http://localhost:61109/index.html?ui=P_0x18930c2a3c0_0&reconnect=auto\" class=\"pyvis…"
      ]
     },
     "metadata": {},
     "output_type": "display_data"
    }
   ],
   "source": [
    "# cyan = torch.Tensor(np.logical_and(etching[:50, :, :,1]==10, etching[:50, :, :,0]==0)).to_sparse()\n",
    "cyan = torch.Tensor(etching[:50, :, :,1]==10).to_sparse()\n",
    "cyan = cyan.indices().numpy().T\n",
    "\n",
    "gray = torch.Tensor(etching[:50, :, :,0]!=0).to_sparse()\n",
    "gray = gray.indices().numpy().T\n",
    "\n",
    "mask = torch.Tensor(etching[:50, :, :,2]!=0).to_sparse()\n",
    "mask = mask.indices().numpy().T\n",
    "\n",
    "maskmesh = pv.PolyData(mask)\n",
    "maskmesh[\"radius\"] = np.ones(mask.shape[0])*0.5\n",
    "\n",
    "depomesh = pv.PolyData(cyan)\n",
    "depomesh[\"radius\"] = np.ones(cyan.shape[0])*0.5\n",
    "geom = pv.Box()\n",
    "\n",
    "submesh = pv.PolyData(gray)\n",
    "submesh[\"radius\"] = np.ones(gray.shape[0])*0.5\n",
    "\n",
    "# Progress bar is a new feature on master branch\n",
    "maskglyphed = maskmesh.glyph(scale=\"radius\", geom=geom) # progress_bar=True)\n",
    "depoglyphed = depomesh.glyph(scale=\"radius\", geom=geom) # progress_bar=True)\n",
    "subglyphed = submesh.glyph(scale=\"radius\", geom=geom) # progress_bar=True)\n",
    "\n",
    "p = pv.Plotter()\n",
    "p.add_mesh(maskglyphed, color='green')\n",
    "p.add_mesh(depoglyphed, color='cyan')\n",
    "p.add_mesh(subglyphed, color='dimgray')\n",
    "p.enable_eye_dome_lighting()\n",
    "p.show()"
   ]
  },
  {
   "cell_type": "code",
   "execution_count": 4,
   "metadata": {},
   "outputs": [],
   "source": [
    "def removeFloat(film):  # fast scanZ\n",
    "    filmC = film[:,:,:,0]\n",
    "    # 获取当前平面的非零元素布尔索引\n",
    "    current_plane = film[:,:,:,1] != 0\n",
    "\n",
    "    # 创建一个全是False的布尔数组来存储邻居的检查结果\n",
    "    neighbors = np.zeros_like(filmC, dtype=bool)\n",
    "\n",
    "    # 检查各个方向的邻居是否为零\n",
    "    neighbors[1:, :, :] |= filmC[:-1, :, :] != 0  # 上面的邻居不为0\n",
    "    neighbors[:-1, :, :] |= filmC[1:, :, :] != 0  # 下面的邻居不为0\n",
    "    neighbors[:, 1:, :] |= filmC[:, :-1, :] != 0  # 左边的邻居不为0\n",
    "    neighbors[:, :-1, :] |= filmC[:, 1:, :] != 0  # 右边的邻居不为0\n",
    "    neighbors[:, :, 1:] |= filmC[:, :, :-1] != 0  # 前面的邻居不为0\n",
    "    neighbors[:, :, :-1] |= filmC[:, :, 1:] != 0  # 后面的邻居不为0\n",
    "\n",
    "    # 孤立单元格的条件是当前平面元素不为0且所有方向的邻居都为0\n",
    "    condition = current_plane & ~neighbors\n",
    "\n",
    "    # 将孤立的单元格设为0\n",
    "    film[condition, :] = 0\n",
    "\n",
    "    return film"
   ]
  },
  {
   "cell_type": "code",
   "execution_count": null,
   "metadata": {},
   "outputs": [],
   "source": [
    "    # def scanZ(self, film): # fast scanZ\n",
    "    #     film = torch.Tensor(film)\n",
    "    #     xshape, yshape, zshape = film.shape\n",
    "    #     self.zshape = zshape\n",
    "    #     # 初始化一个全零的表面稀疏张量\n",
    "    #     surface_sparse = torch.zeros((xshape, yshape, zshape))\n",
    "        \n",
    "    #     # 获取当前平面与前后平面的布尔索引\n",
    "    #     current_plane = film != 0\n",
    "\n",
    "    #     # 获取周围邻居的布尔索引\n",
    "    #     neighbors = torch.zeros_like(film, dtype=torch.bool)\n",
    "        \n",
    "    #     neighbors[1:, :, :] |= film[:-1, :, :] == 0  # 上面\n",
    "    #     neighbors[:-1, :, :] |= film[1:, :, :] == 0  # 下面\n",
    "    #     neighbors[:, 1:, :] |= film[:, :-1, :] == 0  # 左边\n",
    "    #     neighbors[:, :-1, :] |= film[:, 1:, :] == 0  # 右边\n",
    "    #     neighbors[:, :, 1:] |= film[:, :, :-1] == 0  # 前面\n",
    "    #     neighbors[:, :, :-1] |= film[:, :, 1:] == 0  # 后面\n",
    "        \n",
    "    #     # 获取满足条件的索引\n",
    "    #     condition = current_plane & neighbors\n",
    "        \n",
    "    #     # 更新表面稀疏张量\n",
    "    #     surface_sparse[condition] = 1\n",
    "        \n",
    "    #     return surface_sparse.to_sparse()"
   ]
  },
  {
   "cell_type": "code",
   "execution_count": 29,
   "metadata": {},
   "outputs": [],
   "source": [
    "def getFloat_pointcloud(film):  # fast scanZ\n",
    "    sumFilm = np.sum(film, axis=-1)\n",
    "    sumFilm = torch.Tensor(sumFilm)\n",
    "    film = torch.Tensor(film)\n",
    "    filmC = film[:,:,:,0]\n",
    "    # 获取当前平面的非零元素布尔索引\n",
    "    current_plane = film[:,:,:,1] != 0\n",
    "    # 初始化一个全零的表面稀疏张量\n",
    "    surface_sparse = torch.zeros_like(sumFilm)\n",
    "    # 创建一个全是False的布尔数组来存储邻居的检查结果\n",
    "    neighbors = torch.zeros_like(filmC, dtype=torch.bool)\n",
    "\n",
    "    # 检查各个方向的邻居是否为零\n",
    "    neighbors[1:, :, :] |= filmC[:-1, :, :] != 0  # 上面的邻居不为0\n",
    "    neighbors[:-1, :, :] |= filmC[1:, :, :] != 0  # 下面的邻居不为0\n",
    "    neighbors[:, 1:, :] |= filmC[:, :-1, :] != 0  # 左边的邻居不为0\n",
    "    neighbors[:, :-1, :] |= filmC[:, 1:, :] != 0  # 右边的邻居不为0\n",
    "    neighbors[:, :, 1:] |= filmC[:, :, :-1] != 0  # 前面的邻居不为0\n",
    "    neighbors[:, :, :-1] |= filmC[:, :, 1:] != 0  # 后面的邻居不为0\n",
    "\n",
    "    # 孤立单元格的条件是当前平面元素不为0且所有方向的邻居都为0\n",
    "    condition = current_plane & ~neighbors\n",
    "\n",
    "    surface_sparse[condition] = 1\n",
    "\n",
    "    points = surface_sparse.to_sparse().indices().T\n",
    "    return points"
   ]
  },
  {
   "cell_type": "code",
   "execution_count": null,
   "metadata": {},
   "outputs": [],
   "source": [
    "def removeFloat(film):  # fast scanZ\n",
    "    filmC = film[:,:,:,0]\n",
    "    # 获取当前平面的非零元素布尔索引\n",
    "    current_plane = film[:,:,:,1] != 0\n",
    "\n",
    "    # 创建一个全是False的布尔数组来存储邻居的检查结果\n",
    "    neighbors = np.zeros_like(filmC, dtype=bool)\n",
    "\n",
    "    # 检查各个方向的邻居是否为零\n",
    "    neighbors[1:, :, :] |= filmC[:-1, :, :] != 0  # 上面的邻居不为0\n",
    "    neighbors[:-1, :, :] |= filmC[1:, :, :] != 0  # 下面的邻居不为0\n",
    "    neighbors[:, 1:, :] |= filmC[:, :-1, :] != 0  # 左边的邻居不为0\n",
    "    neighbors[:, :-1, :] |= filmC[:, 1:, :] != 0  # 右边的邻居不为0\n",
    "    neighbors[:, :, 1:] |= filmC[:, :, :-1] != 0  # 前面的邻居不为0\n",
    "    neighbors[:, :, :-1] |= filmC[:, :, 1:] != 0  # 后面的邻居不为0\n",
    "\n",
    "    # 孤立单元格的条件是当前平面元素不为0且所有方向的邻居都为0\n",
    "    condition = current_plane & ~neighbors\n",
    "\n",
    "    # 将孤立的单元格设为0\n",
    "    film[condition, :] = 0\n",
    "\n",
    "    return film"
   ]
  },
  {
   "cell_type": "code",
   "execution_count": 96,
   "metadata": {},
   "outputs": [],
   "source": [
    "def scanZ(film): # fast scanZ\n",
    "    xshape, yshape, zshape, layer = film.shape\n",
    "    filmC = film[:,:,:,0]\n",
    "    # 初始化一个全零的表面稀疏张量\n",
    "    surface_sparse = np.zeros((xshape, yshape, zshape))\n",
    "    \n",
    "    # 获取当前平面与前后平面的布尔索引\n",
    "    current_plane = np.sum(film, axis=-1) == 0\n",
    "\n",
    "    # 获取周围邻居的布尔索引\n",
    "    neighbors = np.zeros_like(filmC, dtype=np.bool_)\n",
    "    \n",
    "    neighbors[1:, :, :] |= filmC[:-1, :, :] != 0  # 上面\n",
    "    neighbors[:-1, :, :] |= filmC[1:, :, :] != 0  # 下面\n",
    "    neighbors[:, 1:, :] |= filmC[:, :-1, :] != 0  # 左边\n",
    "    neighbors[:, :-1, :] |= filmC[:, 1:, :] != 0  # 右边\n",
    "    neighbors[:, :, 1:] |= filmC[:, :, :-1] != 0  # 前面\n",
    "    neighbors[:, :, :-1] |= filmC[:, :, 1:] != 0  # 后面\n",
    "    \n",
    "    # 获取满足条件的索引\n",
    "    condition = current_plane & neighbors\n",
    "    \n",
    "    # 更新表面稀疏张量\n",
    "    surface_sparse[condition] = 1\n",
    "    \n",
    "    return surface_sparse"
   ]
  },
  {
   "cell_type": "code",
   "execution_count": 97,
   "metadata": {},
   "outputs": [
    {
     "name": "stdout",
     "output_type": "stream",
     "text": [
      "torch.Size([6207, 3])\n",
      "(6207,)\n",
      "ii [2069 2069 2069 ... 4423 4423 4423]\n",
      "(4438, 3)\n",
      "torch.Size([6207, 3])\n",
      "(15, 300, 690, 3)\n",
      "Float_point (6207, 3)\n",
      "(6207, 3)\n",
      "(6207,)\n"
     ]
    }
   ],
   "source": [
    "etching = np.load('./bosch_data_1012_ratio08_trench_condition5_300wide/bosch_sf_step_12_sf.npy')\n",
    "plane_point = scanZ(etching)\n",
    "# print(plane_point.shape)\n",
    "\n",
    "\n",
    "plane_tree = cKDTree(np.argwhere(plane_point == 1))\n",
    "Float_point = getFloat_pointcloud(etching)\n",
    "print(Float_point.shape)\n",
    "# indice_all = np.zeros_like(pos.shape[0], dtype=np.bool_)\n",
    "dd, ii = plane_tree.query(Float_point, k=1, workers=1)\n",
    "surface_indice = np.argwhere(plane_point)\n",
    "i1 = surface_indice[ii][:,0] #[particle, order, xyz]\n",
    "j1 = surface_indice[ii][:,1]\n",
    "k1 = surface_indice[ii][:,2]\n",
    "print(ii.shape)\n",
    "print('ii', ii)\n",
    "print(surface_indice.shape)\n",
    "# print(np.max(ii))\n",
    "print(Float_point.shape)\n",
    "print(etching.shape)\n",
    "Float_point = Float_point.numpy()\n",
    "print('Float_point',Float_point.shape)\n",
    "print(surface_indice[ii].shape)\n",
    "print(etching[i1, j1, k1, 1].shape)\n",
    "# etching[i1, j1, k1, 1] += Float_point[:, 1]\n",
    "# print(ii)\n",
    "# etching[]"
   ]
  },
  {
   "cell_type": "code",
   "execution_count": 110,
   "metadata": {},
   "outputs": [],
   "source": [
    "def depoFloat(film):\n",
    "    plane_point = scanZ(film)\n",
    "\n",
    "    plane_tree = cKDTree(np.argwhere(plane_point == 1))\n",
    "    Float_point = getFloat_pointcloud(film)\n",
    "\n",
    "    dd, ii = plane_tree.query(Float_point, k=1, workers=1)\n",
    "    surface_indice = np.argwhere(plane_point)\n",
    "    i1 = surface_indice[ii][:,0] #[particle, order, xyz]\n",
    "    j1 = surface_indice[ii][:,1]\n",
    "    k1 = surface_indice[ii][:,2]\n",
    "\n",
    "    Float_point = Float_point.numpy()\n",
    "    film[i1, j1, k1, 1] += 20\n",
    "    film[Float_point[:, 0],Float_point[:, 1],Float_point[:, 2],1] = 30\n",
    "\n",
    "    return film"
   ]
  },
  {
   "cell_type": "code",
   "execution_count": 111,
   "metadata": {},
   "outputs": [],
   "source": [
    "etching = np.load('./bosch_data_1012_ratio08_trench_condition5_300wide/bosch_sf_step_12_sf.npy')\n",
    "etching = depoFloat(etching)"
   ]
  },
  {
   "cell_type": "code",
   "execution_count": 112,
   "metadata": {},
   "outputs": [
    {
     "name": "stderr",
     "output_type": "stream",
     "text": [
      "c:\\Users\\urcs049\\AppData\\Local\\anaconda3\\Lib\\site-packages\\pyvista\\core\\utilities\\points.py:55: UserWarning: Points is not a float type. This can cause issues when transforming or applying filters. Casting to ``np.float32``. Disable this by passing ``force_float=False``.\n",
      "  warnings.warn(\n",
      "c:\\Users\\urcs049\\AppData\\Local\\anaconda3\\Lib\\site-packages\\pyvista\\core\\filters\\data_set.py:2386: UserWarning: No vector-like data to use for orient. orient will be set to False.\n",
      "  warnings.warn(\"No vector-like data to use for orient. orient will be set to False.\")\n"
     ]
    },
    {
     "data": {
      "application/vnd.jupyter.widget-view+json": {
       "model_id": "16890bd8531a40ddb6f825841d999dec",
       "version_major": 2,
       "version_minor": 0
      },
      "text/plain": [
       "Widget(value='<iframe src=\"http://localhost:61109/index.html?ui=P_0x189c0ba8b90_18&reconnect=auto\" class=\"pyvi…"
      ]
     },
     "metadata": {},
     "output_type": "display_data"
    },
    {
     "name": "stderr",
     "output_type": "stream",
     "text": [
      "Exception in callback _ProactorBasePipeTransport._call_connection_lost(None)\n",
      "handle: <Handle _ProactorBasePipeTransport._call_connection_lost(None)>\n",
      "Traceback (most recent call last):\n",
      "  File \"c:\\Users\\urcs049\\AppData\\Local\\anaconda3\\Lib\\asyncio\\events.py\", line 88, in _run\n",
      "    self._context.run(self._callback, *self._args)\n",
      "  File \"c:\\Users\\urcs049\\AppData\\Local\\anaconda3\\Lib\\asyncio\\proactor_events.py\", line 165, in _call_connection_lost\n",
      "    self._sock.shutdown(socket.SHUT_RDWR)\n",
      "ConnectionResetError: [WinError 10054] An existing connection was forcibly closed by the remote host\n"
     ]
    }
   ],
   "source": [
    "# cyan = torch.Tensor(np.logical_and(etching[:, :, :,1]==10, etching[:, :, :,0]==0)).to_sparse()\n",
    "cyan = torch.Tensor(etching[:, :, :,1]==20).to_sparse()\n",
    "cyan = cyan.indices().numpy().T\n",
    "\n",
    "gray = torch.Tensor(etching[:, :, :,0]!=0).to_sparse()\n",
    "gray = gray.indices().numpy().T\n",
    "\n",
    "mask = torch.Tensor(etching[:, :, :,1]==30).to_sparse()\n",
    "mask = mask.indices().numpy().T\n",
    "\n",
    "maskmesh = pv.PolyData(mask)\n",
    "maskmesh[\"radius\"] = np.ones(mask.shape[0])*0.5\n",
    "\n",
    "depomesh = pv.PolyData(cyan)\n",
    "depomesh[\"radius\"] = np.ones(cyan.shape[0])*0.5\n",
    "geom = pv.Box()\n",
    "\n",
    "submesh = pv.PolyData(gray)\n",
    "submesh[\"radius\"] = np.ones(gray.shape[0])*0.5\n",
    "\n",
    "# Progress bar is a new feature on master branch\n",
    "maskglyphed = maskmesh.glyph(scale=\"radius\", geom=geom) # progress_bar=True)\n",
    "depoglyphed = depomesh.glyph(scale=\"radius\", geom=geom) # progress_bar=True)\n",
    "subglyphed = submesh.glyph(scale=\"radius\", geom=geom) # progress_bar=True)\n",
    "\n",
    "p = pv.Plotter()\n",
    "p.add_mesh(maskglyphed, color='green')\n",
    "p.add_mesh(depoglyphed, color='cyan')\n",
    "p.add_mesh(subglyphed, color='dimgray')\n",
    "p.enable_eye_dome_lighting()\n",
    "p.show()"
   ]
  },
  {
   "cell_type": "code",
   "execution_count": 5,
   "metadata": {},
   "outputs": [],
   "source": [
    "etching = removeFloat(etching)"
   ]
  },
  {
   "cell_type": "code",
   "execution_count": 80,
   "metadata": {},
   "outputs": [],
   "source": [
    "etchingB = np.copy(etching)"
   ]
  },
  {
   "cell_type": "code",
   "execution_count": 98,
   "metadata": {},
   "outputs": [],
   "source": [
    "etching[i1, j1, k1, 1] += 10"
   ]
  },
  {
   "cell_type": "code",
   "execution_count": 101,
   "metadata": {},
   "outputs": [],
   "source": [
    "etching[Float_point[:, 0],Float_point[:, 1],Float_point[:, 2],1] = 0"
   ]
  },
  {
   "cell_type": "code",
   "execution_count": 87,
   "metadata": {},
   "outputs": [
    {
     "data": {
      "text/plain": [
       "False"
      ]
     },
     "execution_count": 87,
     "metadata": {},
     "output_type": "execute_result"
    }
   ],
   "source": [
    "np.allclose(etching, etchingB)"
   ]
  },
  {
   "cell_type": "code",
   "execution_count": 88,
   "metadata": {},
   "outputs": [
    {
     "data": {
      "text/plain": [
       "(15, 300, 690, 3)"
      ]
     },
     "execution_count": 88,
     "metadata": {},
     "output_type": "execute_result"
    }
   ],
   "source": [
    "etching.shape"
   ]
  },
  {
   "cell_type": "code",
   "execution_count": 89,
   "metadata": {},
   "outputs": [
    {
     "data": {
      "text/plain": [
       "(15, 300, 690, 3)"
      ]
     },
     "execution_count": 89,
     "metadata": {},
     "output_type": "execute_result"
    }
   ],
   "source": [
    "etchingB.shape"
   ]
  },
  {
   "cell_type": "code",
   "execution_count": 86,
   "metadata": {},
   "outputs": [
    {
     "data": {
      "text/plain": [
       "True"
      ]
     },
     "execution_count": 86,
     "metadata": {},
     "output_type": "execute_result"
    }
   ],
   "source": [
    "np.allclose(etching[:, 1], etchingB[:, 1])"
   ]
  },
  {
   "cell_type": "code",
   "execution_count": 84,
   "metadata": {},
   "outputs": [
    {
     "data": {
      "text/plain": [
       "True"
      ]
     },
     "execution_count": 84,
     "metadata": {},
     "output_type": "execute_result"
    }
   ],
   "source": [
    "np.allclose(etching[:, 0], etchingB[:, 0])"
   ]
  },
  {
   "cell_type": "code",
   "execution_count": 85,
   "metadata": {},
   "outputs": [
    {
     "data": {
      "text/plain": [
       "True"
      ]
     },
     "execution_count": 85,
     "metadata": {},
     "output_type": "execute_result"
    }
   ],
   "source": [
    "np.allclose(etching[:, 2], etchingB[:, 2])"
   ]
  },
  {
   "cell_type": "code",
   "execution_count": 102,
   "metadata": {},
   "outputs": [
    {
     "name": "stderr",
     "output_type": "stream",
     "text": [
      "c:\\Users\\urcs049\\AppData\\Local\\anaconda3\\Lib\\site-packages\\pyvista\\core\\utilities\\points.py:55: UserWarning: Points is not a float type. This can cause issues when transforming or applying filters. Casting to ``np.float32``. Disable this by passing ``force_float=False``.\n",
      "  warnings.warn(\n",
      "c:\\Users\\urcs049\\AppData\\Local\\anaconda3\\Lib\\site-packages\\pyvista\\core\\filters\\data_set.py:2386: UserWarning: No vector-like data to use for orient. orient will be set to False.\n",
      "  warnings.warn(\"No vector-like data to use for orient. orient will be set to False.\")\n"
     ]
    },
    {
     "data": {
      "application/vnd.jupyter.widget-view+json": {
       "model_id": "9aa2421bc0b448e5b93bb6c3b0b8d8d1",
       "version_major": 2,
       "version_minor": 0
      },
      "text/plain": [
       "Widget(value='<iframe src=\"http://localhost:61109/index.html?ui=P_0x1899e8f61e0_15&reconnect=auto\" class=\"pyvi…"
      ]
     },
     "metadata": {},
     "output_type": "display_data"
    }
   ],
   "source": [
    "# cyan = torch.Tensor(np.logical_and(etching[:, :, :,1]!=10, etching[:, :, :,1]!=0)).to_sparse()\n",
    "# cyan = torch.Tensor(etching[:, 1] != etchingB[:, 1]).to_sparse()\n",
    "cyan = torch.Tensor(etching[:, :, :,1]==10).to_sparse()\n",
    "cyan = cyan.indices().numpy().T\n",
    "\n",
    "gray = torch.Tensor(etching[:, :, :,0]!=0).to_sparse()\n",
    "gray = gray.indices().numpy().T\n",
    "\n",
    "mask = torch.Tensor(etching[:, :, :,2]!=0).to_sparse()\n",
    "mask = mask.indices().numpy().T\n",
    "\n",
    "maskmesh = pv.PolyData(mask)\n",
    "maskmesh[\"radius\"] = np.ones(mask.shape[0])*0.5\n",
    "\n",
    "depomesh = pv.PolyData(cyan)\n",
    "depomesh[\"radius\"] = np.ones(cyan.shape[0])*0.5\n",
    "geom = pv.Box()\n",
    "\n",
    "submesh = pv.PolyData(gray)\n",
    "submesh[\"radius\"] = np.ones(gray.shape[0])*0.5\n",
    "\n",
    "# Progress bar is a new feature on master branch\n",
    "maskglyphed = maskmesh.glyph(scale=\"radius\", geom=geom) # progress_bar=True)\n",
    "depoglyphed = depomesh.glyph(scale=\"radius\", geom=geom) # progress_bar=True)\n",
    "subglyphed = submesh.glyph(scale=\"radius\", geom=geom) # progress_bar=True)\n",
    "\n",
    "p = pv.Plotter()\n",
    "p.add_mesh(maskglyphed, color='green')\n",
    "p.add_mesh(depoglyphed, color='cyan')\n",
    "p.add_mesh(subglyphed, color='dimgray')\n",
    "p.enable_eye_dome_lighting()\n",
    "p.show()"
   ]
  },
  {
   "cell_type": "code",
   "execution_count": null,
   "metadata": {},
   "outputs": [],
   "source": []
  }
 ],
 "metadata": {
  "kernelspec": {
   "display_name": "base",
   "language": "python",
   "name": "python3"
  },
  "language_info": {
   "codemirror_mode": {
    "name": "ipython",
    "version": 3
   },
   "file_extension": ".py",
   "mimetype": "text/x-python",
   "name": "python",
   "nbconvert_exporter": "python",
   "pygments_lexer": "ipython3",
   "version": "3.12.5"
  }
 },
 "nbformat": 4,
 "nbformat_minor": 2
}

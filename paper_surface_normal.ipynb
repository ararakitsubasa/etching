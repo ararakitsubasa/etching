{
 "cells": [
  {
   "cell_type": "code",
   "execution_count": 1,
   "metadata": {},
   "outputs": [
    {
     "name": "stderr",
     "output_type": "stream",
     "text": [
      "l:\\program\\Lib\\site-packages\\paramiko\\transport.py:219: CryptographyDeprecationWarning: Blowfish has been deprecated and will be removed in a future release\n",
      "  \"class\": algorithms.Blowfish,\n"
     ]
    }
   ],
   "source": [
    "import numpy as np\n",
    "import torch\n",
    "from scipy.spatial import KDTree\n",
    "import matplotlib.pyplot as plt\n",
    "import math\n",
    "from math import pi\n",
    "import pyvista as pv\n",
    "from scipy import interpolate\n",
    "import surface_normalize\n",
    "from pyvista import examples"
   ]
  },
  {
   "cell_type": "code",
   "execution_count": 2,
   "metadata": {},
   "outputs": [],
   "source": [
    "etching = np.load('./Data/For_etching_transport_TS60_deposit_0618_linear_paper_NoDSMC2_empty2.npy')"
   ]
  },
  {
   "cell_type": "code",
   "execution_count": 4,
   "metadata": {},
   "outputs": [],
   "source": [
    "indice = np.logical_and(etching != -10, etching != -50)\n",
    "etching[indice] = 0"
   ]
  },
  {
   "cell_type": "code",
   "execution_count": 3,
   "metadata": {},
   "outputs": [
    {
     "data": {
      "image/png": "[encoded data removed]",
      "text/plain": [
       "<Figure size 640x480 with 1 Axes>"
      ]
     },
     "metadata": {},
     "output_type": "display_data"
    }
   ],
   "source": [
    "yield_hist = np.array([[0.3, 0.3, 0.45,  1.5,  1.5,  0.6, 0.3, 0.08, 0.04, 0.02,  0, \\\n",
    "                        0.02, 0.04, 0.08, 0.3, 0.6, 1.5, 1.5, 0.45, 0.3, 0.3], \\\n",
    "                        [  0,  5,   10,   20,   30,   40,   50,   60,   70,   80, 90, \\\n",
    "                         100, 110, 120, 130, 140, 150, 160, 170, 175, 180]])\n",
    "yield_hist[1] *= np.pi/180\n",
    "yield_func = interpolate.interp1d(yield_hist[1], yield_hist[0], kind='quadratic')\n",
    "\n",
    "xnew = np.arange(0, np.pi, 0.01)\n",
    "# xnew = np.array([])\n",
    "ynew = yield_func(xnew)   # use interpolation function returned by `interp1d`\n",
    "plt.plot(yield_hist[1], yield_hist[0], 'o', xnew, ynew, '-')\n",
    "plt.show()"
   ]
  },
  {
   "cell_type": "code",
   "execution_count": 4,
   "metadata": {},
   "outputs": [],
   "source": [
    "testpy = surface_normalize.surface_normal(center_with_direction=np.array([[50,50,10]]),range3D=np.array([[0, 100, 0, 100, 0, 150]]), InOrOut=[1],celllength=1e-9,  yield_hist=yield_hist)"
   ]
  },
  {
   "cell_type": "code",
   "execution_count": 7,
   "metadata": {},
   "outputs": [],
   "source": [
    "getdata = testpy.get_pointcloud(etching[:50, :, :])"
   ]
  },
  {
   "cell_type": "code",
   "execution_count": 8,
   "metadata": {},
   "outputs": [
    {
     "data": {
      "application/vnd.jupyter.widget-view+json": {
       "model_id": "1919ceef26f34db48e2860883ea60acb",
       "version_major": 2,
       "version_minor": 0
      },
      "text/plain": [
       "Widget(value='<iframe src=\"http://localhost:58104/index.html?ui=P_0x229cd4aa4d0_1&reconnect=auto\" class=\"pyvis…"
      ]
     },
     "metadata": {},
     "output_type": "display_data"
    }
   ],
   "source": [
    "point_cloud = pv.PolyData(getdata[:, 3:])\n",
    "vectors = getdata[:, :3]\n",
    "\n",
    "point_cloud['vectors'] = vectors\n",
    "arrows = point_cloud.glyph(\n",
    "    orient='vectors',\n",
    "    scale=1000,\n",
    "    factor=2,\n",
    ")\n",
    "\n",
    "# Display the arrows\n",
    "plotter = pv.Plotter()\n",
    "plotter.add_mesh(point_cloud, color='maroon', point_size=5.0, render_points_as_spheres=True)\n",
    "plotter.add_mesh(arrows, color='lightblue')\n",
    "# plotter.add_point_labels([point_cloud.center,], ['Center',],\n",
    "#                          point_color='yellow', point_size=20)\n",
    "plotter.show_grid()\n",
    "plotter.show()"
   ]
  },
  {
   "cell_type": "code",
   "execution_count": 13,
   "metadata": {},
   "outputs": [
    {
     "data": {
      "text/plain": [
       "array([[-3.44659995e-01, -6.42385897e-01,  6.84507010e-01,\n",
       "         0.00000000e+00,  0.00000000e+00,  1.12000000e+02],\n",
       "       [-3.76215071e-01, -6.69187645e-01,  6.40819878e-01,\n",
       "         0.00000000e+00,  1.00000000e+00,  1.12000000e+02],\n",
       "       [-7.39096847e-02, -7.64938246e-01,  6.39849074e-01,\n",
       "         0.00000000e+00,  2.00000000e+00,  1.13000000e+02],\n",
       "       ...,\n",
       "       [-8.31223499e-02, -1.94027789e-01,  9.77468103e-01,\n",
       "         4.20000000e+01,  1.97000000e+02,  1.18000000e+02],\n",
       "       [ 6.34441316e-02, -1.92419890e-01,  9.79259633e-01,\n",
       "         4.20000000e+01,  1.98000000e+02,  1.19000000e+02],\n",
       "       [ 2.24986097e-02, -2.31830301e-01,  9.72496028e-01,\n",
       "         4.20000000e+01,  1.99000000e+02,  1.19000000e+02]])"
      ]
     },
     "execution_count": 13,
     "metadata": {},
     "output_type": "execute_result"
    }
   ],
   "source": [
    "getdata"
   ]
  },
  {
   "cell_type": "code",
   "execution_count": 14,
   "metadata": {},
   "outputs": [],
   "source": [
    "surface_tree = KDTree(getdata[:, 3:])\n",
    "dd, ii = surface_tree.query(getdata[12200, 3:], k=18, workers=5)\n",
    "\n",
    "\n",
    "knn_pts = getdata[:, 3:][ii]"
   ]
  },
  {
   "cell_type": "code",
   "execution_count": 15,
   "metadata": {},
   "outputs": [
    {
     "name": "stdout",
     "output_type": "stream",
     "text": [
      "[[ 20. 183. 117.]\n",
      " [ 21. 183. 117.]\n",
      " [ 19. 183. 117.]\n",
      " [ 20. 184. 117.]\n",
      " [ 21. 184. 117.]\n",
      " [ 19. 182. 117.]\n",
      " [ 21. 182. 117.]\n",
      " [ 20. 182. 116.]\n",
      " [ 19. 184. 117.]\n",
      " [ 22. 183. 117.]\n",
      " [ 18. 183. 117.]\n",
      " [ 20. 185. 117.]\n",
      " [ 22. 182. 117.]\n",
      " [ 18. 184. 117.]\n",
      " [ 21. 185. 117.]\n",
      " [ 20. 181. 116.]\n",
      " [ 18. 182. 117.]\n",
      " [ 22. 184. 117.]]\n"
     ]
    }
   ],
   "source": [
    "print(knn_pts)"
   ]
  },
  {
   "cell_type": "code",
   "execution_count": 25,
   "metadata": {},
   "outputs": [],
   "source": [
    "choicePoint = np.logical_or(getdata[:, 5] < 100,  getdata[:, 5] > 110)\n",
    "choicePoint |= np.logical_or(getdata[:, 3] < 20,  getdata[:, 3] > 30)\n",
    "choicePoint |= np.logical_or(getdata[:, 4] < 50,  getdata[:, 4] > 80)\n",
    "\n",
    "choicePoint_in = getdata[:, 3:][~choicePoint]"
   ]
  },
  {
   "cell_type": "code",
   "execution_count": 26,
   "metadata": {},
   "outputs": [
    {
     "data": {
      "text/plain": [
       "(125, 3)"
      ]
     },
     "execution_count": 26,
     "metadata": {},
     "output_type": "execute_result"
    }
   ],
   "source": [
    "choicePoint_in.shape"
   ]
  },
  {
   "cell_type": "code",
   "execution_count": 27,
   "metadata": {},
   "outputs": [
    {
     "data": {
      "text/plain": [
       "(25173, 6)"
      ]
     },
     "execution_count": 27,
     "metadata": {},
     "output_type": "execute_result"
    }
   ],
   "source": [
    "getdata.shape"
   ]
  },
  {
   "cell_type": "code",
   "execution_count": 32,
   "metadata": {},
   "outputs": [
    {
     "data": {
      "application/vnd.jupyter.widget-view+json": {
       "model_id": "81c5a56520134981a36122ed2e888438",
       "version_major": 2,
       "version_minor": 0
      },
      "text/plain": [
       "Widget(value='<iframe src=\"http://localhost:65377/index.html?ui=P_0x14600cc78d0_9&reconnect=auto\" class=\"pyvis…"
      ]
     },
     "metadata": {},
     "output_type": "display_data"
    }
   ],
   "source": [
    "surface_tree = KDTree(getdata[:, 3:])\n",
    "dd, ii = surface_tree.query(choicePoint_in[100], k=18, workers=5)\n",
    "\n",
    "knn_pts = getdata[:, 3:][ii]\n",
    "\n",
    "point_cloud = pv.PolyData(getdata[:, 3:])\n",
    "nighbhood = pv.PolyData(knn_pts)\n",
    "center = pv.PolyData(choicePoint_in[100])\n",
    "vectors = getdata[:, :3]\n",
    "\n",
    "point_cloud['vectors'] = vectors\n",
    "arrows = point_cloud.glyph(\n",
    "    orient='vectors',\n",
    "    scale=100000,\n",
    "    factor=5,\n",
    ")\n",
    "\n",
    "# Display the arrowscyan\n",
    "\n",
    "sphere = pv.Sphere(radius=3, center=choicePoint_in[100])\n",
    "plotter = pv.Plotter()\n",
    "plotter.add_mesh(point_cloud, color='cyan', point_size=5.0, render_points_as_spheres=True)\n",
    "plotter.add_mesh(sphere, show_edges=True, opacity=0.1, color=\"w\")\n",
    "plotter.add_mesh(nighbhood, color='red', point_size=8.0, render_points_as_spheres=True)\n",
    "plotter.add_mesh(center, color='yellow', point_size=10.0, render_points_as_spheres=True)\n",
    "# plotter.add_mesh(arrows, color='lightblue')\n",
    "# # plotter.add_point_labels([point_cloud.center,], ['Center',],\n",
    "# #                          point_color='yellow', point_size=20)\n",
    "# plotter.show_grid()\n",
    "plotter.show()"
   ]
  },
  {
   "cell_type": "code",
   "execution_count": 39,
   "metadata": {},
   "outputs": [
    {
     "data": {
      "application/vnd.jupyter.widget-view+json": {
       "model_id": "3c4f2a9785604ede94e6297ad29eb0e7",
       "version_major": 2,
       "version_minor": 0
      },
      "text/plain": [
       "Widget(value='<iframe src=\"http://localhost:63139/index.html?ui=P_0x1c1c5d76e90_17&reconnect=auto\" class=\"pyvi…"
      ]
     },
     "metadata": {},
     "output_type": "display_data"
    }
   ],
   "source": [
    "point_cloud = pv.PolyData(getdata[:, 3:])\n",
    "vectors = getdata[:, :3]\n",
    "\n",
    "point_cloud['vectors'] = vectors\n",
    "arrows = point_cloud.glyph(\n",
    "    orient='vectors',\n",
    "    scale=100000,\n",
    "    factor=5,\n",
    ")\n",
    "\n",
    "# Display the arrowscyan\n",
    "\n",
    "sphere = pv.Sphere(radius=4, center=(21, 75, 114.5))\n",
    "plotter = pv.Plotter()\n",
    "plotter.add_mesh(point_cloud, color='cyan', point_size=5.0, render_points_as_spheres=True)\n",
    "plotter.add_mesh(sphere, show_edges=True, opacity=0.5, color=\"w\")\n",
    "# plotter.add_mesh(arrows, color='lightblue')\n",
    "# # plotter.add_point_labels([point_cloud.center,], ['Center',],\n",
    "# #                          point_color='yellow', point_size=20)\n",
    "plotter.show_grid()\n",
    "plotter.show()"
   ]
  },
  {
   "cell_type": "code",
   "execution_count": 42,
   "metadata": {},
   "outputs": [
    {
     "name": "stderr",
     "output_type": "stream",
     "text": [
      "l:\\program\\Lib\\site-packages\\pyvista\\core\\utilities\\points.py:52: UserWarning: Points is not a float type. This can cause issues when transforming or applying filters. Casting to ``np.float32``. Disable this by passing ``force_float=False``.\n",
      "  warnings.warn(\n",
      "l:\\program\\Lib\\site-packages\\pyvista\\core\\filters\\data_set.py:2320: UserWarning: No vector-like data to use for orient. orient will be set to False.\n",
      "  warnings.warn(\"No vector-like data to use for orient. orient will be set to False.\")\n"
     ]
    },
    {
     "data": {
      "application/vnd.jupyter.widget-view+json": {
       "model_id": "bd5206ee88204fdb90e59138040df65a",
       "version_major": 2,
       "version_minor": 0
      },
      "text/plain": [
       "Widget(value='<iframe src=\"http://localhost:63139/index.html?ui=P_0x1c1e1514110_19&reconnect=auto\" class=\"pyvi…"
      ]
     },
     "metadata": {},
     "output_type": "display_data"
    }
   ],
   "source": [
    "substrute = torch.Tensor(etching[:, :, :]==-10).to_sparse()\n",
    "substrute = substrute.indices().numpy().T\n",
    "\n",
    "trench = torch.Tensor(etching[:, :, :]==-50).to_sparse()\n",
    "trench = trench.indices().numpy().T\n",
    "\n",
    "# depomesh = pv.PolyData(etched)\n",
    "# depomesh[\"radius\"] = np.ones(etched.shape[0])*0.5\n",
    "geom = pv.Box()\n",
    "\n",
    "submesh = pv.PolyData(substrute)\n",
    "submesh[\"radius\"] = np.ones(substrute.shape[0])*0.5\n",
    "\n",
    "trenchmesh = pv.PolyData(trench)\n",
    "trenchmesh[\"radius\"] = np.ones(trench.shape[0])*0.5\n",
    "\n",
    "# Progress bar is a new feature on master branch\n",
    "# depoglyphed = depomesh.glyph(scale=\"radius\", geom=geom) # progress_bar=True)\n",
    "subglyphed = submesh.glyph(scale=\"radius\", geom=geom) # progress_bar=True)\n",
    "trenchglyphed = trenchmesh.glyph(scale=\"radius\", geom=geom) # progress_bar=True)\n",
    "sphere = pv.Sphere(radius=4, center=(21, 75, 114.5))\n",
    "p = pv.Plotter()\n",
    "p.add_mesh(sphere, show_edges=True, opacity=0.5, color=\"w\")\n",
    "# p.add_mesh(depoglyphed, color='pink')\n",
    "p.add_mesh(subglyphed, color='cyan')\n",
    "p.add_mesh(trenchglyphed, color='dimgray')\n",
    "p.enable_eye_dome_lighting()\n",
    "p.show_grid()\n",
    "p.show()"
   ]
  },
  {
   "cell_type": "code",
   "execution_count": null,
   "metadata": {},
   "outputs": [],
   "source": [
    "point_cloud = pv.PolyData(getdata[:, 3:])\n",
    "vectors = getdata[:, :3]\n",
    "\n",
    "point_cloud['vectors'] = vectors\n",
    "arrows = point_cloud.glyph(\n",
    "    orient='vectors',\n",
    "    scale=100000,\n",
    "    factor=5,\n",
    ")\n",
    "\n",
    "# Display the arrowscyan\n",
    "\n",
    "sphere = pv.Sphere(radius=4, center=(21, 75, 114.5))\n",
    "plotter = pv.Plotter()\n",
    "plotter.add_mesh(point_cloud, color='cyan', point_size=5.0, render_points_as_spheres=True)\n",
    "plotter.add_mesh(sphere, show_edges=True, opacity=0.5, color=\"w\")\n",
    "# plotter.add_mesh(arrows, color='lightblue')\n",
    "# # plotter.add_point_labels([point_cloud.center,], ['Center',],\n",
    "# #                          point_color='yellow', point_size=20)\n",
    "plotter.show_grid()\n",
    "plotter.show()"
   ]
  },
  {
   "cell_type": "code",
   "execution_count": 21,
   "metadata": {},
   "outputs": [],
   "source": [
    "film = np.zeros((100, 100, 100))\n",
    "\n",
    "bottom = 20\n",
    "film[:, :, :bottom] = 10 # bottom\n",
    "\n",
    "filmSurface  = np.random.randn(100, 100)*2 + 10\n",
    "\n",
    "for i in range(film.shape[0]):\n",
    "    for j in range(film.shape[1]):\n",
    "        film[i, j, :bottom+int(filmSurface[i, j])] = 10"
   ]
  },
  {
   "cell_type": "code",
   "execution_count": 22,
   "metadata": {},
   "outputs": [
    {
     "name": "stderr",
     "output_type": "stream",
     "text": [
      "l:\\program\\Lib\\site-packages\\pyvista\\core\\utilities\\points.py:52: UserWarning: Points is not a float type. This can cause issues when transforming or applying filters. Casting to ``np.float32``. Disable this by passing ``force_float=False``.\n",
      "  warnings.warn(\n",
      "l:\\program\\Lib\\site-packages\\pyvista\\core\\filters\\data_set.py:2320: UserWarning: No vector-like data to use for orient. orient will be set to False.\n",
      "  warnings.warn(\"No vector-like data to use for orient. orient will be set to False.\")\n"
     ]
    },
    {
     "data": {
      "application/vnd.jupyter.widget-view+json": {
       "model_id": "afef664380da47eeb0c388b14fe51e8e",
       "version_major": 2,
       "version_minor": 0
      },
      "text/plain": [
       "Widget(value='<iframe src=\"http://localhost:63139/index.html?ui=P_0x1c1bbceea90_9&reconnect=auto\" class=\"pyvis…"
      ]
     },
     "metadata": {},
     "output_type": "display_data"
    }
   ],
   "source": [
    "substrute = torch.Tensor(film==10).to_sparse()\n",
    "substrute = substrute.indices().numpy().T\n",
    "\n",
    "geom = pv.Box()\n",
    "\n",
    "submesh = pv.PolyData(substrute)\n",
    "submesh[\"radius\"] = np.ones(substrute.shape[0])*0.5\n",
    "\n",
    "# Progress bar is a new feature on master branch\n",
    "subglyphed = submesh.glyph(scale=\"radius\", geom=geom) # progress_bar=True)\n",
    "\n",
    "p = pv.Plotter()\n",
    "p.add_mesh(subglyphed, color='gray')\n",
    "p.enable_eye_dome_lighting()\n",
    "p.show()\n"
   ]
  },
  {
   "cell_type": "code",
   "execution_count": 33,
   "metadata": {},
   "outputs": [],
   "source": [
    "freq = [0.689, 0.562, 0.683]\n",
    "noise = pv.perlin_noise(1, freq, (0, 0, 0))\n",
    "sampled = pv.sample_function(noise, bounds=(-10, 10, -10, 10, -10, 10), dim=(500, 500, 1))"
   ]
  },
  {
   "cell_type": "code",
   "execution_count": 34,
   "metadata": {},
   "outputs": [],
   "source": [
    "mesh = sampled.warp_by_scalar('scalars')\n",
    "mesh = mesh.extract_surface()\n",
    "\n",
    "# clean and smooth a little to reduce Perlin noise artifacts\n",
    "mesh = mesh.smooth(n_iter=100, inplace=False, relaxation_factor=1)\n",
    "\n",
    "# This makes the \"water\" level look flat.\n",
    "z = mesh.points[:, 2]\n",
    "diff = z.max() - z.min()\n",
    "\n",
    "# water level at 70%  (change this to change the water level)\n",
    "water_percent = 0.7\n",
    "water_level = z.max() - water_percent * diff\n",
    "mesh.points[z < water_level, 2] = water_level"
   ]
  },
  {
   "cell_type": "code",
   "execution_count": null,
   "metadata": {},
   "outputs": [],
   "source": [
    "geom = pv.Box()\n",
    "\n",
    "submesh = pv.PolyData(substrute)\n",
    "submesh[\"radius\"] = np.ones(substrute.shape[0])*0.5\n",
    "\n",
    "# Progress bar is a new feature on master branch\n",
    "subglyphed = submesh.glyph(scale=\"radius\", geom=geom) # progress_bar=True)"
   ]
  },
  {
   "cell_type": "code",
   "execution_count": 35,
   "metadata": {},
   "outputs": [
    {
     "data": {
      "application/vnd.jupyter.widget-view+json": {
       "model_id": "634ee79b2ec54beeacef9e1867fcb466",
       "version_major": 2,
       "version_minor": 0
      },
      "text/plain": [
       "Widget(value='<iframe src=\"http://localhost:63139/index.html?ui=P_0x1c1b0e2c9d0_13&reconnect=auto\" class=\"pyvi…"
      ]
     },
     "metadata": {},
     "output_type": "display_data"
    }
   ],
   "source": [
    "# make the water blue\n",
    "rng = z.max() - z.min()\n",
    "clim = (z.max() - rng * 1.65, z.max())\n",
    "\n",
    "pl = pv.Plotter()\n",
    "pl.add_mesh(\n",
    "    mesh,\n",
    "    scalars=z,\n",
    "    cmap='gist_earth',\n",
    "    n_colors=10,\n",
    "    show_scalar_bar=False,\n",
    "    smooth_shading=True,\n",
    "    clim=clim,\n",
    ")\n",
    "pl.show()"
   ]
  },
  {
   "cell_type": "code",
   "execution_count": null,
   "metadata": {},
   "outputs": [],
   "source": [
    "filmSample = np.a\n",
    "\n",
    "surfaceSample = testpy.get_pointcloud(filmSample)"
   ]
  },
  {
   "cell_type": "code",
   "execution_count": null,
   "metadata": {},
   "outputs": [],
   "source": [
    "point_cloud = pv.PolyData(surfaceSample[:, 3:])\n",
    "vectors = surfaceSample[:, :3]\n",
    "\n",
    "point_cloud['vectors'] = vectors\n",
    "arrows = point_cloud.glyph(\n",
    "    orient='vectors',\n",
    "    scale=100000,\n",
    "    factor=5,\n",
    ")\n",
    "\n",
    "# Display the arrowscyan\n",
    "\n",
    "sphere = pv.Sphere(radius=10, center=(21, 75, 110))\n",
    "plotter = pv.Plotter()\n",
    "plotter.add_mesh(point_cloud, color='cyan', point_size=5.0, render_points_as_spheres=True)\n",
    "plotter.add_mesh(sphere, show_edges=True, opacity=0.5, color=\"w\")\n",
    "# plotter.add_mesh(arrows, color='lightblue')\n",
    "# # plotter.add_point_labels([point_cloud.center,], ['Center',],\n",
    "# #                          point_color='yellow', point_size=20)\n",
    "plotter.show_grid()\n",
    "plotter.show()"
   ]
  }
 ],
 "metadata": {
  "kernelspec": {
   "display_name": "Python 3",
   "language": "python",
   "name": "python3"
  },
  "language_info": {
   "codemirror_mode": {
    "name": "ipython",
    "version": 3
   },
   "file_extension": ".py",
   "mimetype": "text/x-python",
   "name": "python",
   "nbconvert_exporter": "python",
   "pygments_lexer": "ipython3",
   "version": "3.11.7"
  }
 },
 "nbformat": 4,
 "nbformat_minor": 2
}

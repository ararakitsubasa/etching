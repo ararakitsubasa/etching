{
 "cells": [
  {
   "cell_type": "code",
   "execution_count": 1,
   "metadata": {},
   "outputs": [],
   "source": [
    "import torch\n",
    "import pyvista as pv\n",
    "import numpy as np\n",
    "import matplotlib.pyplot as plt"
   ]
  },
  {
   "cell_type": "code",
   "execution_count": 2,
   "metadata": {},
   "outputs": [],
   "source": [
    "deposit = np.load('./TS60_afterCollision_0529_v2_run1_t1e-5_p4e6.npy')"
   ]
  },
  {
   "cell_type": "code",
   "execution_count": 3,
   "metadata": {},
   "outputs": [
    {
     "name": "stderr",
     "output_type": "stream",
     "text": [
      "l:\\program\\Lib\\site-packages\\pyvista\\core\\utilities\\points.py:52: UserWarning: Points is not a float type. This can cause issues when transforming or applying filters. Casting to ``np.float32``. Disable this by passing ``force_float=False``.\n",
      "  warnings.warn(\n"
     ]
    },
    {
     "data": {
      "application/vnd.jupyter.widget-view+json": {
       "model_id": "47be13458d8341f6ba7d45bdeb87334a",
       "version_major": 2,
       "version_minor": 0
      },
      "text/plain": [
       "Widget(value='<iframe src=\"http://localhost:50123/index.html?ui=P_0x146c9f93710_0&reconnect=auto\" class=\"pyvis…"
      ]
     },
     "metadata": {},
     "output_type": "display_data"
    }
   ],
   "source": [
    "depo1 = torch.Tensor(deposit[10:50, 10:90, :]==20).to_sparse()\n",
    "depo1 = depo1.indices().numpy().T\n",
    "\n",
    "# depo2 = torch.Tensor(deposit[:100, :, :]==40).to_sparse()\n",
    "# depo2 = depo2.indices().numpy().T\n",
    "\n",
    "# depo3 = torch.Tensor(np.logical_or( deposit[:100, :, :]==60, deposit[:100, :, :]==80)).to_sparse()\n",
    "# depo3 = depo3.indices().numpy().T\n",
    "\n",
    "substrute = torch.Tensor(deposit[10:50, 10:90, :]==10).to_sparse()\n",
    "substrute = substrute.indices().numpy().T\n",
    "# point_cloud = pv.PolyData(points)\n",
    "# point_cloud.plot(eye_dome_lighting=True)\n",
    "\n",
    "p = pv.Plotter() \n",
    "p.add_mesh(depo1, color='red', point_size=6)\n",
    "# p.add_mesh(depo2, color='green', point_size=5)\n",
    "# p.add_mesh(depo3, color='yellow', point_size=5)\n",
    "p.add_mesh(substrute, color='lightblue', point_size=6)\n",
    "p.enable_eye_dome_lighting()\n",
    "p.show()"
   ]
  },
  {
   "cell_type": "code",
   "execution_count": 11,
   "metadata": {},
   "outputs": [
    {
     "name": "stderr",
     "output_type": "stream",
     "text": [
      "l:\\program\\Lib\\site-packages\\pyvista\\core\\utilities\\points.py:52: UserWarning: Points is not a float type. This can cause issues when transforming or applying filters. Casting to ``np.float32``. Disable this by passing ``force_float=False``.\n",
      "  warnings.warn(\n",
      "l:\\program\\Lib\\site-packages\\pyvista\\core\\filters\\data_set.py:2320: UserWarning: No vector-like data to use for orient. orient will be set to False.\n",
      "  warnings.warn(\"No vector-like data to use for orient. orient will be set to False.\")\n"
     ]
    },
    {
     "data": {
      "application/vnd.jupyter.widget-view+json": {
       "model_id": "b08be3e2b92d4f72ad2c7bcf837abc73",
       "version_major": 2,
       "version_minor": 0
      },
      "text/plain": [
       "Widget(value='<iframe src=\"http://localhost:50476/index.html?ui=P_0x28c29b66090_7&reconnect=auto\" class=\"pyvis…"
      ]
     },
     "metadata": {},
     "output_type": "display_data"
    }
   ],
   "source": [
    "depo1 = torch.Tensor(deposit[15:46, 15:73, :]==20).to_sparse()\n",
    "depo1 = depo1.indices().numpy().T\n",
    "\n",
    "\n",
    "substrute = torch.Tensor(deposit[15:46, 15:73, :]==10).to_sparse()\n",
    "substrute = substrute.indices().numpy().T\n",
    "\n",
    "depomesh = pv.PolyData(depo1)\n",
    "depomesh[\"radius\"] = np.ones(depo1.shape[0])*0.5\n",
    "geom = pv.Box()\n",
    "\n",
    "submesh = pv.PolyData(substrute)\n",
    "submesh[\"radius\"] = np.ones(substrute.shape[0])*0.5\n",
    "\n",
    "# Progress bar is a new feature on master branch\n",
    "depoglyphed = depomesh.glyph(scale=\"radius\", geom=geom) # progress_bar=True)\n",
    "subglyphed = submesh.glyph(scale=\"radius\", geom=geom) # progress_bar=True)\n",
    "\n",
    "p = pv.Plotter()\n",
    "p.add_mesh(depoglyphed, color='cyan')\n",
    "p.add_mesh(subglyphed, color='dimgray')\n",
    "p.enable_eye_dome_lighting()\n",
    "p.show()"
   ]
  },
  {
   "cell_type": "code",
   "execution_count": null,
   "metadata": {},
   "outputs": [],
   "source": []
  }
 ],
 "metadata": {
  "kernelspec": {
   "display_name": "Python 3",
   "language": "python",
   "name": "python3"
  },
  "language_info": {
   "codemirror_mode": {
    "name": "ipython",
    "version": 3
   },
   "file_extension": ".py",
   "mimetype": "text/x-python",
   "name": "python",
   "nbconvert_exporter": "python",
   "pygments_lexer": "ipython3",
   "version": "3.11.7"
  }
 },
 "nbformat": 4,
 "nbformat_minor": 2
}

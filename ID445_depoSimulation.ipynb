{
 "cells": [
  {
   "cell_type": "code",
   "execution_count": 1,
   "metadata": {},
   "outputs": [],
   "source": [
    "import numpy as np\n",
    "import pyvista as pv\n",
    "import torch"
   ]
  },
  {
   "cell_type": "code",
   "execution_count": 29,
   "metadata": {},
   "outputs": [],
   "source": [
    "film = np.load('ID445_boat.npy')"
   ]
  },
  {
   "cell_type": "code",
   "execution_count": 12,
   "metadata": {},
   "outputs": [],
   "source": [
    "film = np.load('ID445_boat_simple.npy')"
   ]
  },
  {
   "cell_type": "code",
   "execution_count": 14,
   "metadata": {},
   "outputs": [],
   "source": [
    "def scanZ(film): # fast scanZ\n",
    "    film = torch.Tensor(film)\n",
    "    xshape, yshape, zshape = film.shape\n",
    "    # 初始化一个全零的表面稀疏张量\n",
    "    surface_sparse = torch.zeros((xshape, yshape, zshape))\n",
    "    \n",
    "    # 获取当前平面与前后平面的布尔索引\n",
    "    current_plane = film != 0\n",
    "\n",
    "    # 获取周围邻居的布尔索引\n",
    "    neighbors = torch.zeros_like(film, dtype=torch.bool)\n",
    "    \n",
    "    neighbors[1:, :, :] |= film[:-1, :, :] == 0  # 上面\n",
    "    neighbors[:-1, :, :] |= film[1:, :, :] == 0  # 下面\n",
    "    neighbors[:, 1:, :] |= film[:, :-1, :] == 0  # 左边\n",
    "    neighbors[:, :-1, :] |= film[:, 1:, :] == 0  # 右边\n",
    "    neighbors[:, :, 1:] |= film[:, :, :-1] == 0  # 前面\n",
    "    neighbors[:, :, :-1] |= film[:, :, 1:] == 0  # 后面\n",
    "    \n",
    "    # 获取满足条件的索引\n",
    "    condition = current_plane & neighbors\n",
    "    \n",
    "    # 更新表面稀疏张量\n",
    "    surface_sparse[condition] = 1\n",
    "    \n",
    "    return surface_sparse"
   ]
  },
  {
   "cell_type": "code",
   "execution_count": 30,
   "metadata": {},
   "outputs": [],
   "source": [
    "surface = scanZ(film)"
   ]
  },
  {
   "cell_type": "code",
   "execution_count": 5,
   "metadata": {},
   "outputs": [],
   "source": [
    "nozzle_1 = np.array([277-43-2, 50, 120-6])\n",
    "nozzle_2 = np.array([277-80-2, 50, 120-6])\n",
    "nozzle_3 = np.array([277-134-2, 50, 120-6])\n",
    "nozzle_4 = np.array([277-158-2, 50, 120-6])\n",
    "\n",
    "nozzle_5 = np.array([277-184-2, 50, 120-6])\n",
    "nozzle_8 = np.array([277-184-2, 50-17, 120-6])\n",
    "nozzle_11 = np.array([277-184-2, 50+17, 120-6])\n",
    "\n",
    "nozzle_6 = np.array([277-207-2, 50, 120-6])\n",
    "nozzle_9 = np.array([277-207-2, 50-17, 120-6])\n",
    "nozzle_12 = np.array([277-207-2, 50+17, 120-6])\n",
    "\n",
    "nozzle_7 = np.array([277-228-2, 50, 120-6])\n",
    "nozzle_10 = np.array([277-228-2, 50-17, 120-6])\n",
    "nozzle_13 = np.array([277-228-2, 50+17, 120-6])"
   ]
  },
  {
   "cell_type": "code",
   "execution_count": 6,
   "metadata": {},
   "outputs": [
    {
     "name": "stderr",
     "output_type": "stream",
     "text": [
      "c:\\Users\\urcs049\\AppData\\Local\\anaconda3\\Lib\\site-packages\\pyvista\\core\\utilities\\points.py:55: UserWarning: Points is not a float type. This can cause issues when transforming or applying filters. Casting to ``np.float32``. Disable this by passing ``force_float=False``.\n",
      "  warnings.warn(\n",
      "c:\\Users\\urcs049\\AppData\\Local\\anaconda3\\Lib\\site-packages\\pyvista\\core\\filters\\data_set.py:2386: UserWarning: No vector-like data to use for orient. orient will be set to False.\n",
      "  warnings.warn(\"No vector-like data to use for orient. orient will be set to False.\")\n"
     ]
    },
    {
     "data": {
      "application/vnd.jupyter.widget-view+json": {
       "model_id": "4592678f70634543a49e4e5328b87dcb",
       "version_major": 2,
       "version_minor": 0
      },
      "text/plain": [
       "Widget(value='<iframe src=\"http://localhost:57897/index.html?ui=P_0x246dd138440_0&reconnect=auto\" class=\"pyvis…"
      ]
     },
     "metadata": {},
     "output_type": "display_data"
    }
   ],
   "source": [
    "depo1 = torch.Tensor(np.logical_and(surface[:, :, :] !=0, surface[:, :, :] < 10)).to_sparse()\n",
    "depo1 = depo1.indices().numpy().T\n",
    "\n",
    "substrute = torch.Tensor(surface[:, :, :]==10).to_sparse()\n",
    "substrute = substrute.indices().numpy().T\n",
    "depomesh = pv.PolyData(depo1)\n",
    "depomesh[\"radius\"] = np.ones(depo1.shape[0])*0.5\n",
    "geom = pv.Box()\n",
    "\n",
    "submesh = pv.PolyData(substrute)\n",
    "submesh[\"radius\"] = np.ones(substrute.shape[0])*0.5\n",
    "\n",
    "# Progress bar is a new feature on master branch\n",
    "depoglyphed = depomesh.glyph(scale=\"radius\", geom=geom) # progress_bar=True)\n",
    "subglyphed = submesh.glyph(scale=\"radius\", geom=geom) # progress_bar=True)\n",
    "\n",
    "\n",
    "sphere1 = pv.Sphere(radius=4, center=nozzle_1)\n",
    "sphere2 = pv.Sphere(radius=4, center=nozzle_2)\n",
    "sphere3 = pv.Sphere(radius=4, center=nozzle_3)\n",
    "sphere4 = pv.Sphere(radius=4, center=nozzle_4)\n",
    "sphere5 = pv.Sphere(radius=4, center=nozzle_5)\n",
    "sphere6 = pv.Sphere(radius=4, center=nozzle_6)\n",
    "sphere7 = pv.Sphere(radius=4, center=nozzle_7)\n",
    "sphere8 = pv.Sphere(radius=4, center=nozzle_8)\n",
    "sphere9 = pv.Sphere(radius=4, center=nozzle_9)\n",
    "sphere10 = pv.Sphere(radius=4, center=nozzle_10)\n",
    "sphere11 = pv.Sphere(radius=4, center=nozzle_11)\n",
    "sphere12 = pv.Sphere(radius=4, center=nozzle_12)\n",
    "sphere13 = pv.Sphere(radius=4, center=nozzle_13)\n",
    "\n",
    "p = pv.Plotter()\n",
    "\n",
    "p.add_mesh(sphere1, show_edges=True, opacity=0.5, color=\"w\")\n",
    "p.add_mesh(sphere2, show_edges=True, opacity=0.5, color=\"w\")\n",
    "p.add_mesh(sphere3, show_edges=True, opacity=0.5, color=\"w\")\n",
    "p.add_mesh(sphere4, show_edges=True, opacity=0.5, color=\"w\")\n",
    "p.add_mesh(sphere5, show_edges=True, opacity=0.5, color=\"w\")\n",
    "p.add_mesh(sphere6, show_edges=True, opacity=0.5, color=\"w\")\n",
    "p.add_mesh(sphere7, show_edges=True, opacity=0.5, color=\"w\")\n",
    "p.add_mesh(sphere8, show_edges=True, opacity=0.5, color=\"w\")\n",
    "p.add_mesh(sphere9, show_edges=True, opacity=0.5, color=\"w\")\n",
    "p.add_mesh(sphere10, show_edges=True, opacity=0.5, color=\"w\")\n",
    "p.add_mesh(sphere11, show_edges=True, opacity=0.5, color=\"w\")\n",
    "p.add_mesh(sphere12, show_edges=True, opacity=0.5, color=\"w\")\n",
    "p.add_mesh(sphere13, show_edges=True, opacity=0.5, color=\"w\")\n",
    "\n",
    "p.add_mesh(depoglyphed, color='cyan', opacity=0.1)\n",
    "# p.add_mesh(subglyphed, color='dimgray')\n",
    "p.enable_eye_dome_lighting()\n",
    "p.show_grid()\n",
    "p.show()"
   ]
  },
  {
   "cell_type": "code",
   "execution_count": 3,
   "metadata": {},
   "outputs": [],
   "source": [
    "nozzle_1 = np.array([277-43-2, 50, 120-6])\n",
    "nozzle_2 = np.array([277-80-2, 50, 120-6])\n",
    "nozzle_3 = np.array([277-134-2, 50, 120-6])\n",
    "nozzle_4 = np.array([277-158-2, 50, 120-6])\n",
    "\n",
    "nozzle_5 = np.array([277-184-2, 50, 120-6])\n",
    "nozzle_8 = np.array([277-184-2, 50-17, 120-6])\n",
    "nozzle_11 = np.array([277-184-2, 50+17, 120-6])\n",
    "\n",
    "nozzle_6 = np.array([277-207-2, 50, 120-6])\n",
    "nozzle_9 = np.array([277-207-2, 50-17, 120-6])\n",
    "nozzle_12 = np.array([277-207-2, 50+17, 120-6])\n",
    "\n",
    "nozzle_7 = np.array([277-228-2, 50, 120-6])\n",
    "nozzle_10 = np.array([277-228-2, 50-17, 120-6])\n",
    "nozzle_13 = np.array([277-228-2, 50+17, 120-6])"
   ]
  },
  {
   "cell_type": "code",
   "execution_count": null,
   "metadata": {},
   "outputs": [],
   "source": [
    "277-158-2"
   ]
  },
  {
   "cell_type": "code",
   "execution_count": null,
   "metadata": {},
   "outputs": [],
   "source": [
    "277-184-2"
   ]
  },
  {
   "cell_type": "code",
   "execution_count": null,
   "metadata": {},
   "outputs": [],
   "source": [
    "depo1 = torch.Tensor(np.logical_and(film[:, :, :] !=0, film[:, :, :] < 10)).to_sparse()\n",
    "depo1 = depo1.indices().numpy().T\n",
    "\n",
    "substrute = torch.Tensor(film[:, :, :]==10).to_sparse()\n",
    "substrute = substrute.indices().numpy().T\n",
    "depomesh = pv.PolyData(depo1)\n",
    "depomesh[\"radius\"] = np.ones(depo1.shape[0])*0.5\n",
    "geom = pv.Box()\n",
    "\n",
    "submesh = pv.PolyData(substrute)\n",
    "submesh[\"radius\"] = np.ones(substrute.shape[0])*0.5\n",
    "\n",
    "# Progress bar is a new feature on master branch\n",
    "depoglyphed = depomesh.glyph(scale=\"radius\", geom=geom) # progress_bar=True)\n",
    "subglyphed = submesh.glyph(scale=\"radius\", geom=geom) # progress_bar=True)\n",
    "\n",
    "\n",
    "sphere1 = pv.Sphere(radius=4, center=nozzle_1)\n",
    "sphere2 = pv.Sphere(radius=4, center=nozzle_2)\n",
    "sphere3 = pv.Sphere(radius=4, center=nozzle_3)\n",
    "sphere4 = pv.Sphere(radius=4, center=nozzle_4)\n",
    "sphere5 = pv.Sphere(radius=4, center=nozzle_5)\n",
    "sphere6 = pv.Sphere(radius=4, center=nozzle_6)\n",
    "sphere7 = pv.Sphere(radius=4, center=nozzle_7)\n",
    "sphere8 = pv.Sphere(radius=4, center=nozzle_8)\n",
    "sphere9 = pv.Sphere(radius=4, center=nozzle_9)\n",
    "sphere10 = pv.Sphere(radius=4, center=nozzle_10)\n",
    "sphere11 = pv.Sphere(radius=4, center=nozzle_11)\n",
    "sphere12 = pv.Sphere(radius=4, center=nozzle_12)\n",
    "sphere13 = pv.Sphere(radius=4, center=nozzle_13)\n",
    "\n",
    "p = pv.Plotter()\n",
    "\n",
    "p.add_mesh(sphere1, show_edges=True, opacity=0.5, color=\"w\")\n",
    "p.add_mesh(sphere2, show_edges=True, opacity=0.5, color=\"w\")\n",
    "p.add_mesh(sphere3, show_edges=True, opacity=0.5, color=\"w\")\n",
    "p.add_mesh(sphere4, show_edges=True, opacity=0.5, color=\"w\")\n",
    "p.add_mesh(sphere5, show_edges=True, opacity=0.5, color=\"w\")\n",
    "p.add_mesh(sphere6, show_edges=True, opacity=0.5, color=\"w\")\n",
    "p.add_mesh(sphere7, show_edges=True, opacity=0.5, color=\"w\")\n",
    "p.add_mesh(sphere8, show_edges=True, opacity=0.5, color=\"w\")\n",
    "p.add_mesh(sphere9, show_edges=True, opacity=0.5, color=\"w\")\n",
    "p.add_mesh(sphere10, show_edges=True, opacity=0.5, color=\"w\")\n",
    "p.add_mesh(sphere11, show_edges=True, opacity=0.5, color=\"w\")\n",
    "p.add_mesh(sphere12, show_edges=True, opacity=0.5, color=\"w\")\n",
    "p.add_mesh(sphere13, show_edges=True, opacity=0.5, color=\"w\")\n",
    "\n",
    "p.add_mesh(depoglyphed, color='cyan')\n",
    "p.add_mesh(subglyphed, color='dimgray')\n",
    "p.enable_eye_dome_lighting()\n",
    "p.show_grid()\n",
    "p.show()"
   ]
  },
  {
   "cell_type": "code",
   "execution_count": 5,
   "metadata": {},
   "outputs": [],
   "source": [
    "deposit = np.load('ID445_output.npy')"
   ]
  },
  {
   "cell_type": "code",
   "execution_count": 31,
   "metadata": {},
   "outputs": [],
   "source": [
    "deposit = np.load('ID445_output_1024.npy')"
   ]
  },
  {
   "cell_type": "code",
   "execution_count": 10,
   "metadata": {},
   "outputs": [],
   "source": [
    "deposit = np.load('ID445_output_1024_2.npy')"
   ]
  },
  {
   "cell_type": "code",
   "execution_count": 17,
   "metadata": {},
   "outputs": [
    {
     "data": {
      "text/plain": [
       "(277, 100, 120)"
      ]
     },
     "execution_count": 17,
     "metadata": {},
     "output_type": "execute_result"
    }
   ],
   "source": [
    "deposit.shape"
   ]
  },
  {
   "cell_type": "code",
   "execution_count": null,
   "metadata": {},
   "outputs": [],
   "source": [
    "59292"
   ]
  },
  {
   "cell_type": "code",
   "execution_count": 34,
   "metadata": {},
   "outputs": [
    {
     "data": {
      "text/plain": [
       "51430"
      ]
     },
     "execution_count": 34,
     "metadata": {},
     "output_type": "execute_result"
    }
   ],
   "source": [
    "25680+25750"
   ]
  },
  {
   "cell_type": "code",
   "execution_count": 33,
   "metadata": {},
   "outputs": [
    {
     "name": "stderr",
     "output_type": "stream",
     "text": [
      "c:\\Users\\urcs049\\AppData\\Local\\anaconda3\\Lib\\site-packages\\pyvista\\core\\utilities\\points.py:55: UserWarning: Points is not a float type. This can cause issues when transforming or applying filters. Casting to ``np.float32``. Disable this by passing ``force_float=False``.\n",
      "  warnings.warn(\n",
      "c:\\Users\\urcs049\\AppData\\Local\\anaconda3\\Lib\\site-packages\\pyvista\\core\\filters\\data_set.py:2386: UserWarning: No vector-like data to use for orient. orient will be set to False.\n",
      "  warnings.warn(\"No vector-like data to use for orient. orient will be set to False.\")\n"
     ]
    },
    {
     "data": {
      "application/vnd.jupyter.widget-view+json": {
       "model_id": "94093eb6aa464c10a8a262afd121a025",
       "version_major": 2,
       "version_minor": 0
      },
      "text/plain": [
       "Widget(value='<iframe src=\"http://localhost:57897/index.html?ui=P_0x247b4a6bb30_18&reconnect=auto\" class=\"pyvi…"
      ]
     },
     "metadata": {},
     "output_type": "display_data"
    }
   ],
   "source": [
    "# depo1 = torch.Tensor(np.logical_and(deposit[:, :50, :] ==20, deposit[:, :50, :] != 10)).to_sparse()\n",
    "depo1 = torch.Tensor(np.logical_and(surface[:, :50, :] !=0, surface[:, :50, :] < 10)).to_sparse()\n",
    "depo1 = depo1.indices().numpy().T\n",
    "\n",
    "# substrute = torch.Tensor(deposit[:, :50, :]==10).to_sparse()\n",
    "substrute = torch.Tensor(np.logical_and(deposit[:, :50, :] ==20, deposit[:, :50, :] != 10)).to_sparse()\n",
    "substrute = substrute.indices().numpy().T\n",
    "depomesh = pv.PolyData(depo1)\n",
    "depomesh[\"radius\"] = np.ones(depo1.shape[0])*0.5\n",
    "geom = pv.Box()\n",
    "\n",
    "submesh = pv.PolyData(substrute)\n",
    "submesh[\"radius\"] = np.ones(substrute.shape[0])*0.5\n",
    "\n",
    "# Progress bar is a new feature on master branch\n",
    "depoglyphed = depomesh.glyph(scale=\"radius\", geom=geom) # progress_bar=True)\n",
    "subglyphed = submesh.glyph(scale=\"radius\", geom=geom) # progress_bar=True)\n",
    "\n",
    "\n",
    "p = pv.Plotter()\n",
    "\n",
    "sphere1 = pv.Sphere(radius=4, center=nozzle_1)\n",
    "sphere2 = pv.Sphere(radius=4, center=nozzle_2)\n",
    "sphere3 = pv.Sphere(radius=4, center=nozzle_3)\n",
    "sphere4 = pv.Sphere(radius=4, center=nozzle_4)\n",
    "sphere5 = pv.Sphere(radius=4, center=nozzle_5)\n",
    "sphere6 = pv.Sphere(radius=4, center=nozzle_6)\n",
    "sphere7 = pv.Sphere(radius=4, center=nozzle_7)\n",
    "sphere8 = pv.Sphere(radius=4, center=nozzle_8)\n",
    "sphere9 = pv.Sphere(radius=4, center=nozzle_9)\n",
    "sphere10 = pv.Sphere(radius=4, center=nozzle_10)\n",
    "sphere11 = pv.Sphere(radius=4, center=nozzle_11)\n",
    "sphere12 = pv.Sphere(radius=4, center=nozzle_12)\n",
    "sphere13 = pv.Sphere(radius=4, center=nozzle_13)\n",
    "\n",
    "# p = pv.Plotter()\n",
    "\n",
    "p.add_mesh(sphere1, show_edges=True, opacity=0.5, color=\"w\")\n",
    "p.add_mesh(sphere2, show_edges=True, opacity=0.5, color=\"w\")\n",
    "p.add_mesh(sphere3, show_edges=True, opacity=0.5, color=\"w\")\n",
    "p.add_mesh(sphere4, show_edges=True, opacity=0.5, color=\"w\")\n",
    "p.add_mesh(sphere5, show_edges=True, opacity=0.5, color=\"w\")\n",
    "p.add_mesh(sphere6, show_edges=True, opacity=0.5, color=\"w\")\n",
    "p.add_mesh(sphere7, show_edges=True, opacity=0.5, color=\"w\")\n",
    "p.add_mesh(sphere8, show_edges=True, opacity=0.5, color=\"w\")\n",
    "p.add_mesh(sphere9, show_edges=True, opacity=0.5, color=\"w\")\n",
    "p.add_mesh(sphere10, show_edges=True, opacity=0.5, color=\"w\")\n",
    "p.add_mesh(sphere11, show_edges=True, opacity=0.5, color=\"w\")\n",
    "p.add_mesh(sphere12, show_edges=True, opacity=0.5, color=\"w\")\n",
    "p.add_mesh(sphere13, show_edges=True, opacity=0.5, color=\"w\")\n",
    "\n",
    "p.add_mesh(depoglyphed, color='dimgray')\n",
    "p.add_mesh(subglyphed, color='cyan')\n",
    "p.enable_eye_dome_lighting()\n",
    "p.show_grid()\n",
    "p.camera_position = 'xz'\n",
    "p.camera.elevation = 180\n",
    "# p.camera.azimuth = 180\n",
    "p.show()"
   ]
  },
  {
   "cell_type": "code",
   "execution_count": null,
   "metadata": {},
   "outputs": [],
   "source": [
    "depo1 = torch.Tensor(np.logical_and(deposit[:, 50:, :] ==20, deposit[:, 50:, :] != 10)).to_sparse()\n",
    "depo1 = depo1.indices().numpy().T\n",
    "\n",
    "substrute = torch.Tensor(deposit[:, 50:, :]==10).to_sparse()\n",
    "substrute = substrute.indices().numpy().T\n",
    "depomesh = pv.PolyData(depo1)\n",
    "depomesh[\"radius\"] = np.ones(depo1.shape[0])*0.5\n",
    "geom = pv.Box()\n",
    "\n",
    "submesh = pv.PolyData(substrute)\n",
    "submesh[\"radius\"] = np.ones(substrute.shape[0])*0.5\n",
    "\n",
    "# Progress bar is a new feature on master branch\n",
    "depoglyphed = depomesh.glyph(scale=\"radius\", geom=geom) # progress_bar=True)\n",
    "subglyphed = submesh.glyph(scale=\"radius\", geom=geom) # progress_bar=True)\n",
    "\n",
    "p = pv.Plotter()\n",
    "p.add_mesh(depoglyphed, color='cyan')\n",
    "p.add_mesh(subglyphed, color='dimgray')\n",
    "p.enable_eye_dome_lighting()\n",
    "p.show_grid()\n",
    "p.show()"
   ]
  },
  {
   "cell_type": "code",
   "execution_count": null,
   "metadata": {},
   "outputs": [],
   "source": [
    "depo1 = torch.Tensor(np.logical_and(deposit[:60, :, :] ==20, deposit[:60, :, :] != 10)).to_sparse()\n",
    "depo1 = depo1.indices().numpy().T\n",
    "\n",
    "substrute = torch.Tensor(deposit[:60, :, :]==10).to_sparse()\n",
    "substrute = substrute.indices().numpy().T\n",
    "depomesh = pv.PolyData(depo1)\n",
    "depomesh[\"radius\"] = np.ones(depo1.shape[0])*0.5\n",
    "geom = pv.Box()\n",
    "\n",
    "submesh = pv.PolyData(substrute)\n",
    "submesh[\"radius\"] = np.ones(substrute.shape[0])*0.5\n",
    "\n",
    "# Progress bar is a new feature on master branch\n",
    "depoglyphed = depomesh.glyph(scale=\"radius\", geom=geom) # progress_bar=True)\n",
    "subglyphed = submesh.glyph(scale=\"radius\", geom=geom) # progress_bar=True)\n",
    "\n",
    "p = pv.Plotter()\n",
    "p.add_mesh(depoglyphed, color='cyan')\n",
    "p.add_mesh(subglyphed, color='dimgray')\n",
    "p.enable_eye_dome_lighting()\n",
    "p.show_grid()\n",
    "p.show()"
   ]
  },
  {
   "cell_type": "code",
   "execution_count": null,
   "metadata": {},
   "outputs": [],
   "source": []
  }
 ],
 "metadata": {
  "kernelspec": {
   "display_name": "base",
   "language": "python",
   "name": "python3"
  },
  "language_info": {
   "codemirror_mode": {
    "name": "ipython",
    "version": 3
   },
   "file_extension": ".py",
   "mimetype": "text/x-python",
   "name": "python",
   "nbconvert_exporter": "python",
   "pygments_lexer": "ipython3",
   "version": "3.12.5"
  }
 },
 "nbformat": 4,
 "nbformat_minor": 2
}

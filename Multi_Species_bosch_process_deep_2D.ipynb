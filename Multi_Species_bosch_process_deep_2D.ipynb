{
 "cells": [
  {
   "cell_type": "code",
   "execution_count": 1,
   "metadata": {},
   "outputs": [],
   "source": [
    "import numpy as np\n",
    "import pyvista as pv\n",
    "import torch\n",
    "import sys"
   ]
  },
  {
   "cell_type": "code",
   "execution_count": 2,
   "metadata": {},
   "outputs": [],
   "source": [
    "film = np.zeros((400, 1000, 3))\n",
    "\n",
    "bottom = 900\n",
    "height = 940\n",
    "\n",
    "density = 10\n",
    "\n",
    "center = 200\n",
    "\n",
    "film[:, 0:bottom, 0] = density # bottom\n",
    "film[:100, bottom:height, 2] = density # bottom\n",
    "film[-100:, bottom:height, 2] = density # bottom"
   ]
  },
  {
   "cell_type": "code",
   "execution_count": 2,
   "metadata": {},
   "outputs": [],
   "source": [
    "film = np.zeros((100, 200, 3))\n",
    "\n",
    "bottom = 100\n",
    "height = 140\n",
    "\n",
    "density = 10\n",
    "\n",
    "center = 50\n",
    "\n",
    "film[:, 0:bottom, 0] = density # bottom\n",
    "film[:20, bottom:height, 2] = density # bottom\n",
    "film[-20:, bottom:height, 2] = density # bottom"
   ]
  },
  {
   "cell_type": "code",
   "execution_count": 4,
   "metadata": {},
   "outputs": [],
   "source": [
    "film3D = np.zeros((1, 100, 200, 3))\n",
    "film3D[0] = film"
   ]
  },
  {
   "cell_type": "code",
   "execution_count": null,
   "metadata": {},
   "outputs": [],
   "source": [
    "depo1 = torch.Tensor(film3D[:, :,:, 2]!=0).to_sparse()\n",
    "depo1 = depo1.indices().numpy().T\n",
    "\n",
    "substrute = torch.Tensor(film3D[:,:, :, 0]!=0).to_sparse()\n",
    "substrute = substrute.indices().numpy().T\n",
    "depomesh = pv.PolyData(depo1)\n",
    "depomesh[\"radius\"] = np.ones(depo1.shape[0])*0.5\n",
    "geom = pv.Box()\n",
    "\n",
    "submesh = pv.PolyData(substrute)\n",
    "submesh[\"radius\"] = np.ones(substrute.shape[0])*0.5\n",
    "\n",
    "# Progress bar is a new feature on master branch\n",
    "depoglyphed = depomesh.glyph(scale=\"radius\", geom=geom) # progress_bar=True)\n",
    "subglyphed = submesh.glyph(scale=\"radius\", geom=geom) # progress_bar=True)\n",
    "\n",
    "p = pv.Plotter()\n",
    "p.add_mesh(depoglyphed, color='cyan')\n",
    "p.add_mesh(subglyphed, color='dimgray')\n",
    "p.enable_eye_dome_lighting()\n",
    "p.show()"
   ]
  },
  {
   "cell_type": "code",
   "execution_count": 8,
   "metadata": {},
   "outputs": [],
   "source": [
    "film = np.zeros((100, 100, 200, 3))\n",
    "\n",
    "bottom = 100\n",
    "height = 140\n",
    "\n",
    "density = 10\n",
    "\n",
    "sphere = np.ones((100, 100, 200), dtype=bool)\n",
    "\n",
    "radius = 30\n",
    "\n",
    "center = 50\n",
    "for i in range(sphere.shape[0]):\n",
    "    for j in range(sphere.shape[1]):\n",
    "        if np.abs(i-center)*np.abs(i-center) + np.abs(j-center)*np.abs(j-center) < radius*radius:\n",
    "            sphere[i, j, bottom:height] = 0\n",
    "\n",
    "film[sphere, 2] = density\n",
    "film[:, :, height:, :] = 0\n",
    "film[:, :, 0:bottom, 0] = density # bottom\n",
    "film[:, :, 0:bottom, 1] = 0 # bottom\n",
    "film[:, :, 0:bottom, 2] = 0 # bottom"
   ]
  },
  {
   "cell_type": "code",
   "execution_count": 3,
   "metadata": {},
   "outputs": [],
   "source": [
    "etchfilm = film"
   ]
  },
  {
   "cell_type": "code",
   "execution_count": 4,
   "metadata": {},
   "outputs": [],
   "source": [
    "import Multi_Species_bosch_etching_noMirrorSymmtry_2D"
   ]
  },
  {
   "cell_type": "code",
   "execution_count": 5,
   "metadata": {},
   "outputs": [],
   "source": [
    "logname = 'Multi_species_benchmark_0924'\n",
    "testEtch = Multi_Species_bosch_etching_noMirrorSymmtry_2D.etching(inputMethod='bunch', depo_or_etching='etching', \n",
    "                etchingPoint = np.array([center, center, 37]),depoPoint = np.array([center, center, 37]),\n",
    "                density=density, center_with_direction=np.array([[35,100,75]]), \n",
    "                range3D=np.array([[0, 70, 0, 100, 0, 150]]), InOrOut=[1], yield_hist=np.array([None]),\n",
    "                reaction_type=False, param = [1.6, -0.7],\n",
    "                sub_xy=[0,0], film=etchfilm, n=1, cellSize=etchfilm.shape, \n",
    "                celllength=1e-5, kdtreeN=5, tstep=1e-5,\n",
    "                substrateTop=bottom,posGeneratorType='top', logname=logname)"
   ]
  },
  {
   "cell_type": "code",
   "execution_count": 6,
   "metadata": {},
   "outputs": [
    {
     "name": "stderr",
     "output_type": "stream",
     "text": [
      "running: 100%|██████████████████████████████████████████████████████| 100/100 [08:05<00:00, 4.86s/B]\n",
      "running:  73%|██████████████████████████████████████▋              | 73.0/100 [01:08<00:25, 1.07B/s]\n"
     ]
    },
    {
     "ename": "KeyboardInterrupt",
     "evalue": "",
     "output_type": "error",
     "traceback": [
      "\u001b[1;31m---------------------------------------------------------------------------\u001b[0m",
      "\u001b[1;31mKeyboardInterrupt\u001b[0m                         Traceback (most recent call last)",
      "Cell \u001b[1;32mIn[6], line 6\u001b[0m\n\u001b[0;32m      4\u001b[0m step1 \u001b[38;5;241m=\u001b[39m testEtch\u001b[38;5;241m.\u001b[39minputParticle(\u001b[38;5;124m'\u001b[39m\u001b[38;5;124mmaxwell\u001b[39m\u001b[38;5;124m'\u001b[39m,  \u001b[38;5;241m0\u001b[39m, \u001b[38;5;28mint\u001b[39m(\u001b[38;5;241m2e4\u001b[39m),\u001b[38;5;28mint\u001b[39m(\u001b[38;5;241m2e7\u001b[39m),\u001b[38;5;241m1e-2\u001b[39m, \u001b[38;5;241m10\u001b[39m)\n\u001b[0;32m      5\u001b[0m np\u001b[38;5;241m.\u001b[39msave(\u001b[38;5;124m'\u001b[39m\u001b[38;5;124m./bosch_data_2D_0924/bosch_sf_step_\u001b[39m\u001b[38;5;132;01m{}\u001b[39;00m\u001b[38;5;124m_sf\u001b[39m\u001b[38;5;124m'\u001b[39m\u001b[38;5;241m.\u001b[39mformat(i), etchfilm)\n\u001b[1;32m----> 6\u001b[0m step2 \u001b[38;5;241m=\u001b[39m testEtch\u001b[38;5;241m.\u001b[39minputParticle(\u001b[38;5;124m'\u001b[39m\u001b[38;5;124mmaxwell\u001b[39m\u001b[38;5;124m'\u001b[39m, \u001b[38;5;241m1\u001b[39m, \u001b[38;5;28mint\u001b[39m(\u001b[38;5;241m1e4\u001b[39m),\u001b[38;5;28mint\u001b[39m(\u001b[38;5;241m5e6\u001b[39m),\u001b[38;5;241m4e-3\u001b[39m, \u001b[38;5;241m10\u001b[39m)\n\u001b[0;32m      7\u001b[0m indice_c4 \u001b[38;5;241m=\u001b[39m etchfilm[:, :, \u001b[38;5;241m1\u001b[39m] \u001b[38;5;241m>\u001b[39m\u001b[38;5;241m=\u001b[39m \u001b[38;5;241m10\u001b[39m\n\u001b[0;32m      8\u001b[0m etchfilm[indice_c4, \u001b[38;5;241m1\u001b[39m] \u001b[38;5;241m=\u001b[39m \u001b[38;5;241m10\u001b[39m\n",
      "File \u001b[1;32md:\\ysy\\etching\\Multi_Species_bosch_etching_noMirrorSymmtry_2D.py:631\u001b[0m, in \u001b[0;36metching.inputParticle\u001b[1;34m(self, velGeneratorType, typeID, inputCount, max_react_count, tmax, Zgap)\u001b[0m\n\u001b[0;32m    629\u001b[0m \u001b[38;5;28;01mdef\u001b[39;00m \u001b[38;5;21minputParticle\u001b[39m(\u001b[38;5;28mself\u001b[39m, velGeneratorType, typeID, inputCount, max_react_count, tmax, Zgap):\n\u001b[1;32m--> 631\u001b[0m     result \u001b[38;5;241m=\u001b[39m  \u001b[38;5;28mself\u001b[39m\u001b[38;5;241m.\u001b[39mrunEtch(velGeneratorType, typeID, inputCount, max_react_count,tmax, emptyZ\u001b[38;5;241m=\u001b[39mZgap)\n\u001b[0;32m    632\u001b[0m     \u001b[38;5;66;03m# if np.any(result[0][:, :, self.depoThick]) != 0:\u001b[39;00m\n\u001b[0;32m    633\u001b[0m     \u001b[38;5;66;03m#     break             \u001b[39;00m\n\u001b[0;32m    634\u001b[0m     \u001b[38;5;66;03m# del self.log, self.fh \u001b[39;00m\n\u001b[0;32m    635\u001b[0m     \u001b[38;5;28;01mreturn\u001b[39;00m result\n",
      "File \u001b[1;32md:\\ysy\\etching\\Multi_Species_bosch_etching_noMirrorSymmtry_2D.py:493\u001b[0m, in \u001b[0;36metching.runEtch\u001b[1;34m(self, velGeneratorType, typeID, inputCount, max_react_count, time, emptyZ)\u001b[0m\n\u001b[0;32m    491\u001b[0m \u001b[38;5;66;03m# while inputAll < max_react_count:\u001b[39;00m\n\u001b[0;32m    492\u001b[0m \u001b[38;5;28;01mwhile\u001b[39;00m t \u001b[38;5;241m<\u001b[39m tmax:\n\u001b[1;32m--> 493\u001b[0m     depo_count \u001b[38;5;241m=\u001b[39m \u001b[38;5;28mself\u001b[39m\u001b[38;5;241m.\u001b[39mgetAcc_depo(tstep, planes)\n\u001b[0;32m    494\u001b[0m     \u001b[38;5;66;03m# print('parcel', self.parcel.shape)\u001b[39;00m\n\u001b[0;32m    495\u001b[0m     count_reaction \u001b[38;5;241m+\u001b[39m\u001b[38;5;241m=\u001b[39m depo_count\n",
      "File \u001b[1;32md:\\ysy\\etching\\Multi_Species_bosch_etching_noMirrorSymmtry_2D.py:398\u001b[0m, in \u001b[0;36metching.getAcc_depo\u001b[1;34m(self, tStep, planes)\u001b[0m\n\u001b[0;32m    395\u001b[0m depo_count \u001b[38;5;241m=\u001b[39m \u001b[38;5;28mself\u001b[39m\u001b[38;5;241m.\u001b[39metching_film(planes)\n\u001b[0;32m    397\u001b[0m \u001b[38;5;28mself\u001b[39m\u001b[38;5;241m.\u001b[39mparcel[:, :\u001b[38;5;241m2\u001b[39m] \u001b[38;5;241m+\u001b[39m\u001b[38;5;241m=\u001b[39m \u001b[38;5;28mself\u001b[39m\u001b[38;5;241m.\u001b[39mparcel[:, \u001b[38;5;241m2\u001b[39m:\u001b[38;5;241m4\u001b[39m] \u001b[38;5;241m*\u001b[39m tStep \n\u001b[1;32m--> 398\u001b[0m i \u001b[38;5;241m=\u001b[39m np\u001b[38;5;241m.\u001b[39mfloor((\u001b[38;5;28mself\u001b[39m\u001b[38;5;241m.\u001b[39mparcel[:, \u001b[38;5;241m0\u001b[39m]\u001b[38;5;241m/\u001b[39m\u001b[38;5;28mself\u001b[39m\u001b[38;5;241m.\u001b[39mcelllength) \u001b[38;5;241m+\u001b[39m \u001b[38;5;241m0.5\u001b[39m)\u001b[38;5;241m.\u001b[39mastype(\u001b[38;5;28mint\u001b[39m)\n\u001b[0;32m    399\u001b[0m j \u001b[38;5;241m=\u001b[39m np\u001b[38;5;241m.\u001b[39mfloor((\u001b[38;5;28mself\u001b[39m\u001b[38;5;241m.\u001b[39mparcel[:, \u001b[38;5;241m1\u001b[39m]\u001b[38;5;241m/\u001b[39m\u001b[38;5;28mself\u001b[39m\u001b[38;5;241m.\u001b[39mcelllength) \u001b[38;5;241m+\u001b[39m \u001b[38;5;241m0.5\u001b[39m)\u001b[38;5;241m.\u001b[39mastype(\u001b[38;5;28mint\u001b[39m)\n\u001b[0;32m    400\u001b[0m \u001b[38;5;66;03m# k = np.floor((self.parcel[:, 2]/self.celllength) + 0.5).astype(int)\u001b[39;00m\n",
      "\u001b[1;31mKeyboardInterrupt\u001b[0m: "
     ]
    }
   ],
   "source": [
    "cicle = 100\n",
    "\n",
    "for i in range(cicle):\n",
    "    step1 = testEtch.inputParticle('maxwell',  0, int(2e4),int(2e7),1e-2, 10)\n",
    "    np.save('./bosch_data_2D_0924/bosch_sf_step_{}_sf'.format(i), etchfilm)\n",
    "    step2 = testEtch.inputParticle('maxwell', 1, int(1e4),int(5e6),4e-3, 10)\n",
    "    indice_c4 = etchfilm[:, :, 1] >= 10\n",
    "    etchfilm[indice_c4, 1] = 10\n",
    "    np.save('./bosch_data_2D_0924/bosch_sf_step_{}_c4f8'.format(i), etchfilm)\n",
    "    step3 = testEtch.inputParticle('updown', 2, int(8e3),int(5e5),2e-3, 10)\n",
    "    np.save('./bosch_data_2D_0924/bosch_sf_step_{}_Ar'.format(i), etchfilm)"
   ]
  },
  {
   "cell_type": "code",
   "execution_count": null,
   "metadata": {},
   "outputs": [],
   "source": [
    "step1 = testEtch.inputParticle('maxwell', 0, int(2e4),int(2e7),1e-2, 10)"
   ]
  },
  {
   "cell_type": "code",
   "execution_count": null,
   "metadata": {},
   "outputs": [],
   "source": [
    "step2 = testEtch.inputParticle('maxwell', 1, int(1e4),int(5e6),5e-3, 10)"
   ]
  },
  {
   "cell_type": "code",
   "execution_count": null,
   "metadata": {},
   "outputs": [],
   "source": [
    "step3 = testEtch.inputParticle('updown', 2, int(1e4),int(5e5),5e-3, 10)"
   ]
  },
  {
   "cell_type": "code",
   "execution_count": 16,
   "metadata": {},
   "outputs": [],
   "source": [
    "np.save('./bosch_data_2D_0924/bosch_sf_step_test', etchfilm)"
   ]
  },
  {
   "cell_type": "code",
   "execution_count": 25,
   "metadata": {},
   "outputs": [],
   "source": [
    "etchfilm = np.load('./bosch_data_2D_0924/bosch_sf_step_test.npy')"
   ]
  },
  {
   "cell_type": "code",
   "execution_count": null,
   "metadata": {},
   "outputs": [],
   "source": [
    "etchfilm[200, bottom-100:bottom]"
   ]
  },
  {
   "cell_type": "code",
   "execution_count": 30,
   "metadata": {},
   "outputs": [],
   "source": [
    "film3D = np.zeros((1, 400, 1000, 3))\n",
    "film3D[0] = etchfilm"
   ]
  },
  {
   "cell_type": "code",
   "execution_count": null,
   "metadata": {},
   "outputs": [],
   "source": [
    "depo1 = torch.Tensor(film3D[:, :,:, 1]!=0).to_sparse()\n",
    "depo1 = depo1.indices().numpy().T\n",
    "\n",
    "substrute = torch.Tensor(film3D[:,:, :, 0]!=0).to_sparse()\n",
    "substrute = substrute.indices().numpy().T\n",
    "\n",
    "mask = torch.Tensor(film3D[:,:, :, 2]!=0).to_sparse()\n",
    "mask = mask.indices().numpy().T\n",
    "\n",
    "maskmesh = pv.PolyData(mask)\n",
    "maskmesh[\"radius\"] = np.ones(mask.shape[0])*0.5\n",
    "\n",
    "depomesh = pv.PolyData(depo1)\n",
    "depomesh[\"radius\"] = np.ones(depo1.shape[0])*0.5\n",
    "geom = pv.Box()\n",
    "\n",
    "submesh = pv.PolyData(substrute)\n",
    "submesh[\"radius\"] = np.ones(substrute.shape[0])*0.5\n",
    "\n",
    "# Progress bar is a new feature on master branch\n",
    "maskglyphed = maskmesh.glyph(scale=\"radius\", geom=geom) # progress_bar=True)\n",
    "depoglyphed = depomesh.glyph(scale=\"radius\", geom=geom) # progress_bar=True)\n",
    "subglyphed = submesh.glyph(scale=\"radius\", geom=geom) # progress_bar=True)\n",
    "\n",
    "p = pv.Plotter()\n",
    "p.add_mesh(maskglyphed, color='green')\n",
    "p.add_mesh(depoglyphed, color='cyan')\n",
    "p.add_mesh(subglyphed, color='dimgray')\n",
    "p.enable_eye_dome_lighting()\n",
    "p.show()"
   ]
  },
  {
   "cell_type": "code",
   "execution_count": null,
   "metadata": {},
   "outputs": [],
   "source": [
    "cicle = 100\n",
    "\n",
    "for i in range(cicle):\n",
    "    step1 = testEtch.inputParticle('maxwell', 0, int(7e4),int(6e7), 10)\n",
    "    depth = bottom - step1[1] \n",
    "    np.save('./bosch_data_0924/bosch_sf_step_{}_sf'.format(i), etchfilm)\n",
    "    step2 = testEtch.inputParticle('maxwell', 1, int(3e4),int(2e7), 10)\n",
    "    indice_c4 = etchfilm[:, :, :, 1] >= 10\n",
    "    etchfilm[indice_c4, 1] = 10\n",
    "    np.save('./bosch_data_0924/bosch_sf_step_{}_c4f8'.format(i), etchfilm)\n",
    "    step3 = testEtch.inputParticle('updown', 2, int(2e4),int(4e6)+int(depth/(3e6/2e4)*3e6), 10)\n",
    "    np.save('./bosch_data_0924/bosch_sf_step_{}_Ar'.format(i), etchfilm)"
   ]
  },
  {
   "cell_type": "code",
   "execution_count": 13,
   "metadata": {},
   "outputs": [],
   "source": [
    "np.save('bosch_sf_step11', etchfilm)"
   ]
  },
  {
   "cell_type": "code",
   "execution_count": 24,
   "metadata": {},
   "outputs": [],
   "source": [
    "etching = np.load('./bosch_data/bosch_sf_step_0_sf.npy')"
   ]
  },
  {
   "cell_type": "code",
   "execution_count": 29,
   "metadata": {},
   "outputs": [],
   "source": [
    "etching = np.load('./bosch_data/bosch_sf_step_0_c4f8.npy')"
   ]
  },
  {
   "cell_type": "code",
   "execution_count": 27,
   "metadata": {},
   "outputs": [],
   "source": [
    "etching = np.load('./bosch_data/bosch_sf_step_0_Ar.npy')"
   ]
  },
  {
   "cell_type": "code",
   "execution_count": null,
   "metadata": {},
   "outputs": [],
   "source": [
    "depo1 = torch.Tensor(etching[:, :, bottom-50:, 1]!=0).to_sparse()\n",
    "depo1 = depo1.indices().numpy().T\n",
    "\n",
    "substrute = torch.Tensor(etching[:, :, bottom-50:,0]!=0).to_sparse()\n",
    "substrute = substrute.indices().numpy().T\n",
    "depomesh = pv.PolyData(depo1)\n",
    "depomesh[\"radius\"] = np.ones(depo1.shape[0])*0.5\n",
    "geom = pv.Box()\n",
    "\n",
    "submesh = pv.PolyData(substrute)\n",
    "submesh[\"radius\"] = np.ones(substrute.shape[0])*0.5\n",
    "\n",
    "# Progress bar is a new feature on master branch\n",
    "depoglyphed = depomesh.glyph(scale=\"radius\", geom=geom) # progress_bar=True)\n",
    "subglyphed = submesh.glyph(scale=\"radius\", geom=geom) # progress_bar=True)\n",
    "\n",
    "p = pv.Plotter()\n",
    "p.add_mesh(depoglyphed, color='cyan')\n",
    "p.add_mesh(subglyphed, color='dimgray')\n",
    "p.enable_eye_dome_lighting()\n",
    "p.show()"
   ]
  },
  {
   "cell_type": "code",
   "execution_count": null,
   "metadata": {},
   "outputs": [],
   "source": [
    "depo1 = torch.Tensor(etching[:, :50, bottom-200:bottom+50, 1]!=0).to_sparse()\n",
    "depo1 = depo1.indices().numpy().T\n",
    "\n",
    "substrute = torch.Tensor(etching[:, :50, bottom-200:bottom+50,0]!=0).to_sparse()\n",
    "substrute = substrute.indices().numpy().T\n",
    "depomesh = pv.PolyData(depo1)\n",
    "depomesh[\"radius\"] = np.ones(depo1.shape[0])*0.5\n",
    "geom = pv.Box()\n",
    "\n",
    "submesh = pv.PolyData(substrute)\n",
    "submesh[\"radius\"] = np.ones(substrute.shape[0])*0.5\n",
    "\n",
    "# Progress bar is a new feature on master branch\n",
    "depoglyphed = depomesh.glyph(scale=\"radius\", geom=geom) # progress_bar=True)\n",
    "subglyphed = submesh.glyph(scale=\"radius\", geom=geom) # progress_bar=True)\n",
    "\n",
    "p = pv.Plotter()\n",
    "p.add_mesh(depoglyphed, color='cyan')\n",
    "p.add_mesh(subglyphed, color='dimgray')\n",
    "p.enable_eye_dome_lighting()\n",
    "p.show()"
   ]
  },
  {
   "cell_type": "code",
   "execution_count": null,
   "metadata": {},
   "outputs": [],
   "source": [
    "depo1 = torch.Tensor(etching[:, :, bottom-400:bottom-200, 1]!=0).to_sparse()\n",
    "depo1 = depo1.indices().numpy().T\n",
    "\n",
    "substrute = torch.Tensor(etching[:, :, bottom-400:bottom-200,0]!=0).to_sparse()\n",
    "substrute = substrute.indices().numpy().T\n",
    "depomesh = pv.PolyData(depo1)\n",
    "depomesh[\"radius\"] = np.ones(depo1.shape[0])*0.5\n",
    "geom = pv.Box()\n",
    "\n",
    "submesh = pv.PolyData(substrute)\n",
    "submesh[\"radius\"] = np.ones(substrute.shape[0])*0.5\n",
    "\n",
    "# Progress bar is a new feature on master branch\n",
    "depoglyphed = depomesh.glyph(scale=\"radius\", geom=geom) # progress_bar=True)\n",
    "subglyphed = submesh.glyph(scale=\"radius\", geom=geom) # progress_bar=True)\n",
    "\n",
    "p = pv.Plotter()\n",
    "p.add_mesh(depoglyphed, color='cyan')\n",
    "p.add_mesh(subglyphed, color='dimgray')\n",
    "p.enable_eye_dome_lighting()\n",
    "p.show()"
   ]
  },
  {
   "cell_type": "code",
   "execution_count": null,
   "metadata": {},
   "outputs": [],
   "source": [
    "depo1 = torch.Tensor(etching[:, :75, bottom-400:bottom-200, 1]!=0).to_sparse()\n",
    "depo1 = depo1.indices().numpy().T\n",
    "\n",
    "substrute = torch.Tensor(etching[:, :75, bottom-400:bottom-200,0]!=0).to_sparse()\n",
    "substrute = substrute.indices().numpy().T\n",
    "depomesh = pv.PolyData(depo1)\n",
    "depomesh[\"radius\"] = np.ones(depo1.shape[0])*0.5\n",
    "geom = pv.Box()\n",
    "\n",
    "submesh = pv.PolyData(substrute)\n",
    "submesh[\"radius\"] = np.ones(substrute.shape[0])*0.5\n",
    "\n",
    "# Progress bar is a new feature on master branch\n",
    "depoglyphed = depomesh.glyph(scale=\"radius\", geom=geom) # progress_bar=True)\n",
    "subglyphed = submesh.glyph(scale=\"radius\", geom=geom) # progress_bar=True)\n",
    "\n",
    "p = pv.Plotter()\n",
    "p.add_mesh(depoglyphed, color='cyan')\n",
    "p.add_mesh(subglyphed, color='dimgray')\n",
    "p.enable_eye_dome_lighting()\n",
    "p.show()"
   ]
  },
  {
   "cell_type": "code",
   "execution_count": null,
   "metadata": {},
   "outputs": [],
   "source": []
  }
 ],
 "metadata": {
  "kernelspec": {
   "display_name": "Python 3",
   "language": "python",
   "name": "python3"
  },
  "language_info": {
   "codemirror_mode": {
    "name": "ipython",
    "version": 3
   },
   "file_extension": ".py",
   "mimetype": "text/x-python",
   "name": "python",
   "nbconvert_exporter": "python",
   "pygments_lexer": "ipython3",
   "version": "3.12.5"
  }
 },
 "nbformat": 4,
 "nbformat_minor": 2
}

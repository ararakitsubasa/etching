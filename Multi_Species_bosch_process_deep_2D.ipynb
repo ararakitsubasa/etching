{
 "cells": [
  {
   "cell_type": "code",
   "execution_count": 1,
   "metadata": {},
   "outputs": [],
   "source": [
    "import numpy as np\n",
    "import pyvista as pv\n",
    "import torch\n",
    "import sys"
   ]
  },
  {
   "cell_type": "code",
   "execution_count": 3,
   "metadata": {},
   "outputs": [],
   "source": [
    "# 定义字节到 MB 和 GB 的转换函数\n",
    "def convert_size(size_bytes):\n",
    "    if size_bytes == 0:\n",
    "        return \"0B\"\n",
    "    size_name = (\"B\", \"KB\", \"MB\", \"GB\", \"TB\")\n",
    "    i = int((size_bytes).bit_length() // 10)  # 根据大小选择合适的单位\n",
    "    p = 1024 ** i\n",
    "    size = round(size_bytes / p, 2)\n",
    "    return f\"{size} {size_name[i]}\""
   ]
  },
  {
   "cell_type": "code",
   "execution_count": 2,
   "metadata": {},
   "outputs": [],
   "source": [
    "film = np.zeros((100, 1000, 3))\n",
    "\n",
    "bottom = 900\n",
    "height = 940\n",
    "\n",
    "density = 10\n",
    "\n",
    "center = 50\n",
    "\n",
    "film[:, 0:bottom, 0] = density # bottom\n",
    "film[:20, bottom:height, 2] = density # bottom\n",
    "film[-20:, bottom:height, 2] = density # bottom"
   ]
  },
  {
   "cell_type": "code",
   "execution_count": 2,
   "metadata": {},
   "outputs": [],
   "source": [
    "film = np.zeros((100, 200, 3))\n",
    "\n",
    "bottom = 100\n",
    "height = 140\n",
    "\n",
    "density = 10\n",
    "\n",
    "center = 50\n",
    "\n",
    "film[:, 0:bottom, 0] = density # bottom\n",
    "film[:20, bottom:height, 2] = density # bottom\n",
    "film[-20:, bottom:height, 2] = density # bottom"
   ]
  },
  {
   "cell_type": "code",
   "execution_count": 3,
   "metadata": {},
   "outputs": [],
   "source": [
    "film3D = np.zeros((1, 100, 200, 3))\n",
    "film3D[0] = film"
   ]
  },
  {
   "cell_type": "code",
   "execution_count": 4,
   "metadata": {},
   "outputs": [
    {
     "name": "stderr",
     "output_type": "stream",
     "text": [
      "c:\\Users\\urcs049\\AppData\\Local\\anaconda3\\Lib\\site-packages\\pyvista\\core\\utilities\\points.py:55: UserWarning: Points is not a float type. This can cause issues when transforming or applying filters. Casting to ``np.float32``. Disable this by passing ``force_float=False``.\n",
      "  warnings.warn(\n",
      "c:\\Users\\urcs049\\AppData\\Local\\anaconda3\\Lib\\site-packages\\pyvista\\core\\filters\\data_set.py:2386: UserWarning: No vector-like data to use for orient. orient will be set to False.\n",
      "  warnings.warn(\"No vector-like data to use for orient. orient will be set to False.\")\n"
     ]
    },
    {
     "data": {
      "application/vnd.jupyter.widget-view+json": {
       "model_id": "4673a6f2b0f547e1bef94acf270cb42b",
       "version_major": 2,
       "version_minor": 0
      },
      "text/plain": [
       "Widget(value='<iframe src=\"http://localhost:55132/index.html?ui=P_0x26fee4be540_0&reconnect=auto\" class=\"pyvis…"
      ]
     },
     "metadata": {},
     "output_type": "display_data"
    }
   ],
   "source": [
    "depo1 = torch.Tensor(film3D[:, :,:, 2]!=0).to_sparse()\n",
    "depo1 = depo1.indices().numpy().T\n",
    "\n",
    "substrute = torch.Tensor(film3D[:,:, :, 0]!=0).to_sparse()\n",
    "substrute = substrute.indices().numpy().T\n",
    "depomesh = pv.PolyData(depo1)\n",
    "depomesh[\"radius\"] = np.ones(depo1.shape[0])*0.5\n",
    "geom = pv.Box()\n",
    "\n",
    "submesh = pv.PolyData(substrute)\n",
    "submesh[\"radius\"] = np.ones(substrute.shape[0])*0.5\n",
    "\n",
    "# Progress bar is a new feature on master branch\n",
    "depoglyphed = depomesh.glyph(scale=\"radius\", geom=geom) # progress_bar=True)\n",
    "subglyphed = submesh.glyph(scale=\"radius\", geom=geom) # progress_bar=True)\n",
    "\n",
    "p = pv.Plotter()\n",
    "p.add_mesh(depoglyphed, color='cyan')\n",
    "p.add_mesh(subglyphed, color='dimgray')\n",
    "p.enable_eye_dome_lighting()\n",
    "p.show()"
   ]
  },
  {
   "cell_type": "code",
   "execution_count": 8,
   "metadata": {},
   "outputs": [],
   "source": [
    "film = np.zeros((100, 100, 200, 3))\n",
    "\n",
    "bottom = 100\n",
    "height = 140\n",
    "\n",
    "density = 10\n",
    "\n",
    "sphere = np.ones((100, 100, 200), dtype=bool)\n",
    "\n",
    "radius = 30\n",
    "\n",
    "center = 50\n",
    "for i in range(sphere.shape[0]):\n",
    "    for j in range(sphere.shape[1]):\n",
    "        if np.abs(i-center)*np.abs(i-center) + np.abs(j-center)*np.abs(j-center) < radius*radius:\n",
    "            sphere[i, j, bottom:height] = 0\n",
    "\n",
    "film[sphere, 2] = density\n",
    "film[:, :, height:, :] = 0\n",
    "film[:, :, 0:bottom, 0] = density # bottom\n",
    "film[:, :, 0:bottom, 1] = 0 # bottom\n",
    "film[:, :, 0:bottom, 2] = 0 # bottom"
   ]
  },
  {
   "cell_type": "code",
   "execution_count": 12,
   "metadata": {},
   "outputs": [
    {
     "name": "stdout",
     "output_type": "stream",
     "text": [
      "Size of variable: 2.29 MB\n"
     ]
    }
   ],
   "source": [
    "size_in_bytes = sys.getsizeof(film)  # 获取对象大小\n",
    "print(f\"Size of variable: {convert_size(size_in_bytes)}\")"
   ]
  },
  {
   "cell_type": "code",
   "execution_count": 5,
   "metadata": {},
   "outputs": [],
   "source": [
    "etchfilm = film"
   ]
  },
  {
   "cell_type": "code",
   "execution_count": 6,
   "metadata": {},
   "outputs": [],
   "source": [
    "import Multi_Species_bosch_etching_noMirrorSymmtry_2D"
   ]
  },
  {
   "cell_type": "code",
   "execution_count": 7,
   "metadata": {},
   "outputs": [],
   "source": [
    "logname = 'Multi_species_benchmark_0924'\n",
    "testEtch = Multi_Species_bosch_etching_noMirrorSymmtry_2D.etching(inputMethod='bunch', depo_or_etching='etching', \n",
    "                etchingPoint = np.array([center, center, 37]),depoPoint = np.array([center, center, 37]),\n",
    "                density=density, center_with_direction=np.array([[35,100,75]]), \n",
    "                range3D=np.array([[0, 70, 0, 100, 0, 150]]), InOrOut=[1], yield_hist=np.array([None]),\n",
    "                reaction_type=False, param = [1.6, -0.7],\n",
    "                sub_xy=[0,0], film=etchfilm, n=1, cellSize=etchfilm.shape, \n",
    "                celllength=1e-5, kdtreeN=5, tstep=1e-5,\n",
    "                substrateTop=bottom,posGeneratorType='top', logname=logname)"
   ]
  },
  {
   "cell_type": "code",
   "execution_count": 8,
   "metadata": {},
   "outputs": [],
   "source": [
    "# cicle = 100\n",
    "\n",
    "# for i in range(cicle):\n",
    "#     step1 = testEtch.inputParticle('maxwell', 0, int(2e4),int(4e7), 10)\n",
    "#     depth = bottom - step1[1] \n",
    "#     np.save('./bosch_data_0921/bosch_sf_step_{}_sf'.format(i), etchfilm)\n",
    "#     step2 = testEtch.inputParticle('maxwell', 1, int(2e4),int(1e7), 10)\n",
    "#     indice_c4 = etchfilm[:, :, :, 1] >= 10\n",
    "#     etchfilm[indice_c4, 1] = 10\n",
    "#     np.save('./bosch_data_0921/bosch_sf_step_{}_c4f8'.format(i), etchfilm)\n",
    "#     step3 = testEtch.inputParticle('updown', 2, int(2e4),int(4e6)+int(depth/(4e6/2e4)*4e6), 10)\n",
    "#     np.save('./bosch_data_0921/bosch_sf_step_{}_Ar'.format(i), etchfilm)"
   ]
  },
  {
   "cell_type": "code",
   "execution_count": 9,
   "metadata": {},
   "outputs": [
    {
     "name": "stderr",
     "output_type": "stream",
     "text": [
      "running:   7%|███▋                                                 | 7.00/100 [01:28<19:37, 12.7s/B]\n"
     ]
    },
    {
     "ename": "KeyboardInterrupt",
     "evalue": "",
     "output_type": "error",
     "traceback": [
      "\u001b[1;31m---------------------------------------------------------------------------\u001b[0m",
      "\u001b[1;31mKeyboardInterrupt\u001b[0m                         Traceback (most recent call last)",
      "Cell \u001b[1;32mIn[9], line 1\u001b[0m\n\u001b[1;32m----> 1\u001b[0m step1 \u001b[38;5;241m=\u001b[39m testEtch\u001b[38;5;241m.\u001b[39minputParticle(\u001b[38;5;124m'\u001b[39m\u001b[38;5;124mmaxwell\u001b[39m\u001b[38;5;124m'\u001b[39m, \u001b[38;5;241m0\u001b[39m, \u001b[38;5;28mint\u001b[39m(\u001b[38;5;241m7e4\u001b[39m),\u001b[38;5;28mint\u001b[39m(\u001b[38;5;241m6e7\u001b[39m), \u001b[38;5;241m10\u001b[39m)\n",
      "File \u001b[1;32md:\\ysy\\etching\\Multi_Species_bosch_etching_noMirrorSymmtry_2D.py:634\u001b[0m, in \u001b[0;36metching.inputParticle\u001b[1;34m(self, velGeneratorType, typeID, inputCount, max_react_count, Zgap)\u001b[0m\n\u001b[0;32m    632\u001b[0m \u001b[38;5;28;01mdef\u001b[39;00m \u001b[38;5;21minputParticle\u001b[39m(\u001b[38;5;28mself\u001b[39m, velGeneratorType, typeID, inputCount, max_react_count, Zgap):\n\u001b[1;32m--> 634\u001b[0m     result \u001b[38;5;241m=\u001b[39m  \u001b[38;5;28mself\u001b[39m\u001b[38;5;241m.\u001b[39mrunEtch(velGeneratorType, typeID, inputCount, max_react_count, emptyZ\u001b[38;5;241m=\u001b[39mZgap)\n\u001b[0;32m    635\u001b[0m     \u001b[38;5;66;03m# if np.any(result[0][:, :, self.depoThick]) != 0:\u001b[39;00m\n\u001b[0;32m    636\u001b[0m     \u001b[38;5;66;03m#     break             \u001b[39;00m\n\u001b[0;32m    637\u001b[0m     \u001b[38;5;66;03m# del self.log, self.fh \u001b[39;00m\n\u001b[0;32m    638\u001b[0m     \u001b[38;5;28;01mreturn\u001b[39;00m result\n",
      "File \u001b[1;32md:\\ysy\\etching\\Multi_Species_bosch_etching_noMirrorSymmtry_2D.py:496\u001b[0m, in \u001b[0;36metching.runEtch\u001b[1;34m(self, velGeneratorType, typeID, inputCount, max_react_count, emptyZ)\u001b[0m\n\u001b[0;32m    494\u001b[0m i \u001b[38;5;241m=\u001b[39m \u001b[38;5;241m0\u001b[39m\n\u001b[0;32m    495\u001b[0m \u001b[38;5;28;01mwhile\u001b[39;00m inputAll \u001b[38;5;241m<\u001b[39m max_react_count:\n\u001b[1;32m--> 496\u001b[0m     depo_count \u001b[38;5;241m=\u001b[39m \u001b[38;5;28mself\u001b[39m\u001b[38;5;241m.\u001b[39mgetAcc_depo(tstep, planes)\n\u001b[0;32m    497\u001b[0m     \u001b[38;5;66;03m# print('parcel', self.parcel.shape)\u001b[39;00m\n\u001b[0;32m    498\u001b[0m     count_reaction \u001b[38;5;241m+\u001b[39m\u001b[38;5;241m=\u001b[39m depo_count\n",
      "File \u001b[1;32md:\\ysy\\etching\\Multi_Species_bosch_etching_noMirrorSymmtry_2D.py:422\u001b[0m, in \u001b[0;36metching.getAcc_depo\u001b[1;34m(self, tStep, planes)\u001b[0m\n\u001b[0;32m    399\u001b[0m depo_count \u001b[38;5;241m=\u001b[39m \u001b[38;5;28mself\u001b[39m\u001b[38;5;241m.\u001b[39metching_film(planes)\n\u001b[0;32m    401\u001b[0m \u001b[38;5;66;03m# self.parcel[:, :3] += self.parcel[:, 3:6] * tStep \u001b[39;00m\n\u001b[0;32m    402\u001b[0m \u001b[38;5;66;03m# i = np.floor((self.parcel[:, 0]/self.celllength) + 0.5).astype(int)\u001b[39;00m\n\u001b[0;32m    403\u001b[0m \u001b[38;5;66;03m# j = np.floor((self.parcel[:, 1]/self.celllength) + 0.5).astype(int)\u001b[39;00m\n\u001b[1;32m   (...)\u001b[0m\n\u001b[0;32m    420\u001b[0m \n\u001b[0;32m    421\u001b[0m \u001b[38;5;66;03m# cuda\u001b[39;00m\n\u001b[1;32m--> 422\u001b[0m parcel_tensor \u001b[38;5;241m=\u001b[39m torch\u001b[38;5;241m.\u001b[39mtensor(\u001b[38;5;28mself\u001b[39m\u001b[38;5;241m.\u001b[39mparcel, device\u001b[38;5;241m=\u001b[39m\u001b[38;5;124m'\u001b[39m\u001b[38;5;124mcuda\u001b[39m\u001b[38;5;124m'\u001b[39m)  \u001b[38;5;66;03m# 将数据转换为PyTorch张量\u001b[39;00m\n\u001b[0;32m    423\u001b[0m celllength_tensor \u001b[38;5;241m=\u001b[39m torch\u001b[38;5;241m.\u001b[39mtensor(\u001b[38;5;28mself\u001b[39m\u001b[38;5;241m.\u001b[39mcelllength, device\u001b[38;5;241m=\u001b[39m\u001b[38;5;124m'\u001b[39m\u001b[38;5;124mcuda\u001b[39m\u001b[38;5;124m'\u001b[39m)\n\u001b[0;32m    425\u001b[0m parcel_tensor[:, :\u001b[38;5;241m2\u001b[39m] \u001b[38;5;241m+\u001b[39m\u001b[38;5;241m=\u001b[39m parcel_tensor[:, \u001b[38;5;241m2\u001b[39m:\u001b[38;5;241m4\u001b[39m] \u001b[38;5;241m*\u001b[39m tStep\n",
      "\u001b[1;31mKeyboardInterrupt\u001b[0m: "
     ]
    }
   ],
   "source": [
    "step1 = testEtch.inputParticle('maxwell', 0, int(7e4),int(6e7), 10)"
   ]
  },
  {
   "cell_type": "code",
   "execution_count": null,
   "metadata": {},
   "outputs": [],
   "source": [
    "step3 = testEtch.inputParticle('updown', 2, int(2e4),int(3e6), 10)"
   ]
  },
  {
   "cell_type": "code",
   "execution_count": 8,
   "metadata": {},
   "outputs": [],
   "source": [
    "film3D = np.zeros((1, 100, 1000, 3))\n",
    "film3D[0] = etchfilm"
   ]
  },
  {
   "cell_type": "code",
   "execution_count": 9,
   "metadata": {},
   "outputs": [
    {
     "name": "stderr",
     "output_type": "stream",
     "text": [
      "c:\\Users\\urcs049\\AppData\\Local\\anaconda3\\Lib\\site-packages\\pyvista\\core\\utilities\\points.py:55: UserWarning: Points is not a float type. This can cause issues when transforming or applying filters. Casting to ``np.float32``. Disable this by passing ``force_float=False``.\n",
      "  warnings.warn(\n",
      "c:\\Users\\urcs049\\AppData\\Local\\anaconda3\\Lib\\site-packages\\pyvista\\core\\filters\\data_set.py:2386: UserWarning: No vector-like data to use for orient. orient will be set to False.\n",
      "  warnings.warn(\"No vector-like data to use for orient. orient will be set to False.\")\n"
     ]
    },
    {
     "data": {
      "application/vnd.jupyter.widget-view+json": {
       "model_id": "5201db8fcdba4401a97bf5047d965c85",
       "version_major": 2,
       "version_minor": 0
      },
      "text/plain": [
       "Widget(value='<iframe src=\"http://localhost:54977/index.html?ui=P_0x231093570e0_0&reconnect=auto\" class=\"pyvis…"
      ]
     },
     "metadata": {},
     "output_type": "display_data"
    }
   ],
   "source": [
    "depo1 = torch.Tensor(film3D[:, :,:, 2]!=0).to_sparse()\n",
    "depo1 = depo1.indices().numpy().T\n",
    "\n",
    "substrute = torch.Tensor(film3D[:,:, :, 0]!=0).to_sparse()\n",
    "substrute = substrute.indices().numpy().T\n",
    "depomesh = pv.PolyData(depo1)\n",
    "depomesh[\"radius\"] = np.ones(depo1.shape[0])*0.5\n",
    "geom = pv.Box()\n",
    "\n",
    "submesh = pv.PolyData(substrute)\n",
    "submesh[\"radius\"] = np.ones(substrute.shape[0])*0.5\n",
    "\n",
    "# Progress bar is a new feature on master branch\n",
    "depoglyphed = depomesh.glyph(scale=\"radius\", geom=geom) # progress_bar=True)\n",
    "subglyphed = submesh.glyph(scale=\"radius\", geom=geom) # progress_bar=True)\n",
    "\n",
    "p = pv.Plotter()\n",
    "p.add_mesh(depoglyphed, color='cyan')\n",
    "p.add_mesh(subglyphed, color='dimgray')\n",
    "p.enable_eye_dome_lighting()\n",
    "p.show()"
   ]
  },
  {
   "cell_type": "code",
   "execution_count": 6,
   "metadata": {},
   "outputs": [
    {
     "name": "stderr",
     "output_type": "stream",
     "text": [
      "running: 100%|██████████████████████████████████████████████████████| 100/100 [44:32<00:00, 26.7s/B]\n",
      "running: 100%|██████████████████████████████████████████████████████| 100/100 [22:23<00:00, 13.4s/B]\n",
      "running: 100%|██████████████████████████████████████████████████████| 100/100 [04:15<00:00, 2.56s/B]\n",
      "running:  39%|████████████████████▋                                | 39.0/100 [15:35<24:22, 24.0s/B]\n"
     ]
    },
    {
     "ename": "KeyboardInterrupt",
     "evalue": "",
     "output_type": "error",
     "traceback": [
      "\u001b[1;31m---------------------------------------------------------------------------\u001b[0m",
      "\u001b[1;31mKeyboardInterrupt\u001b[0m                         Traceback (most recent call last)",
      "Cell \u001b[1;32mIn[6], line 4\u001b[0m\n\u001b[0;32m      1\u001b[0m cicle \u001b[38;5;241m=\u001b[39m \u001b[38;5;241m100\u001b[39m\n\u001b[0;32m      3\u001b[0m \u001b[38;5;28;01mfor\u001b[39;00m i \u001b[38;5;129;01min\u001b[39;00m \u001b[38;5;28mrange\u001b[39m(cicle):\n\u001b[1;32m----> 4\u001b[0m     step1 \u001b[38;5;241m=\u001b[39m testEtch\u001b[38;5;241m.\u001b[39minputParticle(\u001b[38;5;124m'\u001b[39m\u001b[38;5;124mmaxwell\u001b[39m\u001b[38;5;124m'\u001b[39m, \u001b[38;5;241m0\u001b[39m, \u001b[38;5;28mint\u001b[39m(\u001b[38;5;241m7e4\u001b[39m),\u001b[38;5;28mint\u001b[39m(\u001b[38;5;241m6e7\u001b[39m), \u001b[38;5;241m10\u001b[39m)\n\u001b[0;32m      5\u001b[0m     depth \u001b[38;5;241m=\u001b[39m bottom \u001b[38;5;241m-\u001b[39m step1[\u001b[38;5;241m1\u001b[39m] \n\u001b[0;32m      6\u001b[0m     np\u001b[38;5;241m.\u001b[39msave(\u001b[38;5;124m'\u001b[39m\u001b[38;5;124m./bosch_data_0924/bosch_sf_step_\u001b[39m\u001b[38;5;132;01m{}\u001b[39;00m\u001b[38;5;124m_sf\u001b[39m\u001b[38;5;124m'\u001b[39m\u001b[38;5;241m.\u001b[39mformat(i), etchfilm)\n",
      "File \u001b[1;32md:\\ysy\\etching\\Multi_Species_bosch_etching_noMirrorSymmtry.py:655\u001b[0m, in \u001b[0;36metching.inputParticle\u001b[1;34m(self, velGeneratorType, typeID, inputCount, max_react_count, Zgap)\u001b[0m\n\u001b[0;32m    653\u001b[0m \u001b[38;5;28;01mdef\u001b[39;00m \u001b[38;5;21minputParticle\u001b[39m(\u001b[38;5;28mself\u001b[39m, velGeneratorType, typeID, inputCount, max_react_count, Zgap):\n\u001b[1;32m--> 655\u001b[0m     result \u001b[38;5;241m=\u001b[39m  \u001b[38;5;28mself\u001b[39m\u001b[38;5;241m.\u001b[39mrunEtch(velGeneratorType, typeID, inputCount, max_react_count, emptyZ\u001b[38;5;241m=\u001b[39mZgap)\n\u001b[0;32m    656\u001b[0m     \u001b[38;5;66;03m# if np.any(result[0][:, :, self.depoThick]) != 0:\u001b[39;00m\n\u001b[0;32m    657\u001b[0m     \u001b[38;5;66;03m#     break             \u001b[39;00m\n\u001b[0;32m    658\u001b[0m     \u001b[38;5;66;03m# del self.log, self.fh \u001b[39;00m\n\u001b[0;32m    659\u001b[0m     \u001b[38;5;28;01mreturn\u001b[39;00m result\n",
      "File \u001b[1;32md:\\ysy\\etching\\Multi_Species_bosch_etching_noMirrorSymmtry.py:511\u001b[0m, in \u001b[0;36metching.runEtch\u001b[1;34m(self, velGeneratorType, typeID, inputCount, max_react_count, emptyZ)\u001b[0m\n\u001b[0;32m    509\u001b[0m i \u001b[38;5;241m=\u001b[39m \u001b[38;5;241m0\u001b[39m\n\u001b[0;32m    510\u001b[0m \u001b[38;5;28;01mwhile\u001b[39;00m inputAll \u001b[38;5;241m<\u001b[39m max_react_count:\n\u001b[1;32m--> 511\u001b[0m     depo_count \u001b[38;5;241m=\u001b[39m \u001b[38;5;28mself\u001b[39m\u001b[38;5;241m.\u001b[39mgetAcc_depo(tstep, planes)\n\u001b[0;32m    512\u001b[0m     \u001b[38;5;66;03m# print('parcel', self.parcel.shape)\u001b[39;00m\n\u001b[0;32m    513\u001b[0m     count_reaction \u001b[38;5;241m+\u001b[39m\u001b[38;5;241m=\u001b[39m depo_count\n",
      "File \u001b[1;32md:\\ysy\\etching\\Multi_Species_bosch_etching_noMirrorSymmtry.py:445\u001b[0m, in \u001b[0;36metching.getAcc_depo\u001b[1;34m(self, tStep, planes)\u001b[0m\n\u001b[0;32m    442\u001b[0m ijk \u001b[38;5;241m=\u001b[39m torch\u001b[38;5;241m.\u001b[39mfloor(parcel_div_celllength)\u001b[38;5;241m.\u001b[39mto(torch\u001b[38;5;241m.\u001b[39mint32)\n\u001b[0;32m    444\u001b[0m parcel_tensor[:, \u001b[38;5;241m6\u001b[39m:\u001b[38;5;241m9\u001b[39m] \u001b[38;5;241m=\u001b[39m ijk\n\u001b[1;32m--> 445\u001b[0m \u001b[38;5;28mself\u001b[39m\u001b[38;5;241m.\u001b[39mparcel \u001b[38;5;241m=\u001b[39m parcel_tensor\u001b[38;5;241m.\u001b[39mcpu()\u001b[38;5;241m.\u001b[39mnumpy()\n\u001b[0;32m    447\u001b[0m \u001b[38;5;28;01mreturn\u001b[39;00m depo_count\n",
      "\u001b[1;31mKeyboardInterrupt\u001b[0m: "
     ]
    }
   ],
   "source": [
    "cicle = 100\n",
    "\n",
    "for i in range(cicle):\n",
    "    step1 = testEtch.inputParticle('maxwell', 0, int(7e4),int(6e7), 10)\n",
    "    depth = bottom - step1[1] \n",
    "    np.save('./bosch_data_0924/bosch_sf_step_{}_sf'.format(i), etchfilm)\n",
    "    step2 = testEtch.inputParticle('maxwell', 1, int(3e4),int(2e7), 10)\n",
    "    indice_c4 = etchfilm[:, :, :, 1] >= 10\n",
    "    etchfilm[indice_c4, 1] = 10\n",
    "    np.save('./bosch_data_0924/bosch_sf_step_{}_c4f8'.format(i), etchfilm)\n",
    "    step3 = testEtch.inputParticle('updown', 2, int(2e4),int(4e6)+int(depth/(3e6/2e4)*3e6), 10)\n",
    "    np.save('./bosch_data_0924/bosch_sf_step_{}_Ar'.format(i), etchfilm)"
   ]
  },
  {
   "cell_type": "code",
   "execution_count": 13,
   "metadata": {},
   "outputs": [],
   "source": [
    "np.save('bosch_sf_step11', etchfilm)"
   ]
  },
  {
   "cell_type": "code",
   "execution_count": 24,
   "metadata": {},
   "outputs": [],
   "source": [
    "etching = np.load('./bosch_data/bosch_sf_step_0_sf.npy')"
   ]
  },
  {
   "cell_type": "code",
   "execution_count": 29,
   "metadata": {},
   "outputs": [],
   "source": [
    "etching = np.load('./bosch_data/bosch_sf_step_0_c4f8.npy')"
   ]
  },
  {
   "cell_type": "code",
   "execution_count": 27,
   "metadata": {},
   "outputs": [],
   "source": [
    "etching = np.load('./bosch_data/bosch_sf_step_0_Ar.npy')"
   ]
  },
  {
   "cell_type": "code",
   "execution_count": null,
   "metadata": {},
   "outputs": [],
   "source": [
    "depo1 = torch.Tensor(etching[:, :, bottom-50:, 1]!=0).to_sparse()\n",
    "depo1 = depo1.indices().numpy().T\n",
    "\n",
    "substrute = torch.Tensor(etching[:, :, bottom-50:,0]!=0).to_sparse()\n",
    "substrute = substrute.indices().numpy().T\n",
    "depomesh = pv.PolyData(depo1)\n",
    "depomesh[\"radius\"] = np.ones(depo1.shape[0])*0.5\n",
    "geom = pv.Box()\n",
    "\n",
    "submesh = pv.PolyData(substrute)\n",
    "submesh[\"radius\"] = np.ones(substrute.shape[0])*0.5\n",
    "\n",
    "# Progress bar is a new feature on master branch\n",
    "depoglyphed = depomesh.glyph(scale=\"radius\", geom=geom) # progress_bar=True)\n",
    "subglyphed = submesh.glyph(scale=\"radius\", geom=geom) # progress_bar=True)\n",
    "\n",
    "p = pv.Plotter()\n",
    "p.add_mesh(depoglyphed, color='cyan')\n",
    "p.add_mesh(subglyphed, color='dimgray')\n",
    "p.enable_eye_dome_lighting()\n",
    "p.show()"
   ]
  },
  {
   "cell_type": "code",
   "execution_count": null,
   "metadata": {},
   "outputs": [],
   "source": [
    "depo1 = torch.Tensor(etching[:, :50, bottom-200:bottom+50, 1]!=0).to_sparse()\n",
    "depo1 = depo1.indices().numpy().T\n",
    "\n",
    "substrute = torch.Tensor(etching[:, :50, bottom-200:bottom+50,0]!=0).to_sparse()\n",
    "substrute = substrute.indices().numpy().T\n",
    "depomesh = pv.PolyData(depo1)\n",
    "depomesh[\"radius\"] = np.ones(depo1.shape[0])*0.5\n",
    "geom = pv.Box()\n",
    "\n",
    "submesh = pv.PolyData(substrute)\n",
    "submesh[\"radius\"] = np.ones(substrute.shape[0])*0.5\n",
    "\n",
    "# Progress bar is a new feature on master branch\n",
    "depoglyphed = depomesh.glyph(scale=\"radius\", geom=geom) # progress_bar=True)\n",
    "subglyphed = submesh.glyph(scale=\"radius\", geom=geom) # progress_bar=True)\n",
    "\n",
    "p = pv.Plotter()\n",
    "p.add_mesh(depoglyphed, color='cyan')\n",
    "p.add_mesh(subglyphed, color='dimgray')\n",
    "p.enable_eye_dome_lighting()\n",
    "p.show()"
   ]
  },
  {
   "cell_type": "code",
   "execution_count": null,
   "metadata": {},
   "outputs": [],
   "source": [
    "depo1 = torch.Tensor(etching[:, :, bottom-400:bottom-200, 1]!=0).to_sparse()\n",
    "depo1 = depo1.indices().numpy().T\n",
    "\n",
    "substrute = torch.Tensor(etching[:, :, bottom-400:bottom-200,0]!=0).to_sparse()\n",
    "substrute = substrute.indices().numpy().T\n",
    "depomesh = pv.PolyData(depo1)\n",
    "depomesh[\"radius\"] = np.ones(depo1.shape[0])*0.5\n",
    "geom = pv.Box()\n",
    "\n",
    "submesh = pv.PolyData(substrute)\n",
    "submesh[\"radius\"] = np.ones(substrute.shape[0])*0.5\n",
    "\n",
    "# Progress bar is a new feature on master branch\n",
    "depoglyphed = depomesh.glyph(scale=\"radius\", geom=geom) # progress_bar=True)\n",
    "subglyphed = submesh.glyph(scale=\"radius\", geom=geom) # progress_bar=True)\n",
    "\n",
    "p = pv.Plotter()\n",
    "p.add_mesh(depoglyphed, color='cyan')\n",
    "p.add_mesh(subglyphed, color='dimgray')\n",
    "p.enable_eye_dome_lighting()\n",
    "p.show()"
   ]
  },
  {
   "cell_type": "code",
   "execution_count": null,
   "metadata": {},
   "outputs": [],
   "source": [
    "depo1 = torch.Tensor(etching[:, :75, bottom-400:bottom-200, 1]!=0).to_sparse()\n",
    "depo1 = depo1.indices().numpy().T\n",
    "\n",
    "substrute = torch.Tensor(etching[:, :75, bottom-400:bottom-200,0]!=0).to_sparse()\n",
    "substrute = substrute.indices().numpy().T\n",
    "depomesh = pv.PolyData(depo1)\n",
    "depomesh[\"radius\"] = np.ones(depo1.shape[0])*0.5\n",
    "geom = pv.Box()\n",
    "\n",
    "submesh = pv.PolyData(substrute)\n",
    "submesh[\"radius\"] = np.ones(substrute.shape[0])*0.5\n",
    "\n",
    "# Progress bar is a new feature on master branch\n",
    "depoglyphed = depomesh.glyph(scale=\"radius\", geom=geom) # progress_bar=True)\n",
    "subglyphed = submesh.glyph(scale=\"radius\", geom=geom) # progress_bar=True)\n",
    "\n",
    "p = pv.Plotter()\n",
    "p.add_mesh(depoglyphed, color='cyan')\n",
    "p.add_mesh(subglyphed, color='dimgray')\n",
    "p.enable_eye_dome_lighting()\n",
    "p.show()"
   ]
  },
  {
   "cell_type": "code",
   "execution_count": null,
   "metadata": {},
   "outputs": [],
   "source": []
  }
 ],
 "metadata": {
  "kernelspec": {
   "display_name": "Python 3",
   "language": "python",
   "name": "python3"
  },
  "language_info": {
   "codemirror_mode": {
    "name": "ipython",
    "version": 3
   },
   "file_extension": ".py",
   "mimetype": "text/x-python",
   "name": "python",
   "nbconvert_exporter": "python",
   "pygments_lexer": "ipython3",
   "version": "3.12.5"
  }
 },
 "nbformat": 4,
 "nbformat_minor": 2
}

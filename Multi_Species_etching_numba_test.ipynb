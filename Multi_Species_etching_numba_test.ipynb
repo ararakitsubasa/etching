{
 "cells": [
  {
   "cell_type": "code",
   "execution_count": 1,
   "metadata": {},
   "outputs": [],
   "source": [
    "from numba import jit\n",
    "import numpy as np\n",
    "import time\n",
    "import timeit\n",
    "import matplotlib.pyplot as plt"
   ]
  },
  {
   "cell_type": "code",
   "execution_count": 2,
   "metadata": {},
   "outputs": [
    {
     "data": {
      "text/plain": [
       "array([ 1.,  0., -1.])"
      ]
     },
     "execution_count": 2,
     "metadata": {},
     "output_type": "execute_result"
    }
   ],
   "source": [
    "@jit(nopython=True)\n",
    "def SpecularReflect(vel, normal):\n",
    "    NewVwl =  vel - 2*vel@normal*normal\n",
    "    return NewVwl\n",
    "\n",
    "\n",
    "vel = np.array([-1, 0, -1], dtype=float)\n",
    "\n",
    "theta = np.array([-1, 0, 0], dtype=float)\n",
    "\n",
    "# theta = np.random.rand(3)\n",
    "# vel = np.random.rand(3)\n",
    "SpecularReflect(vel, theta)"
   ]
  },
  {
   "cell_type": "code",
   "execution_count": 64,
   "metadata": {},
   "outputs": [
    {
     "name": "stdout",
     "output_type": "stream",
     "text": [
      "[[0.5 0.5]\n",
      " [0.5 0.5]\n",
      " [0.5 0.5]\n",
      " [0.5 0.5]\n",
      " [0.5 0.5]\n",
      " [0.5 0.5]\n",
      " [0.5 0.5]\n",
      " [0.5 0.5]\n",
      " [0.5 0.5]\n",
      " [0.5 0.5]]\n",
      "[[1. 1. 1. 1. 1. 1. 1. 1. 1. 0.]\n",
      " [1. 1. 1. 1. 1. 1. 1. 1. 1. 0.]\n",
      " [1. 1. 1. 1. 1. 1. 1. 1. 1. 0.]\n",
      " [1. 1. 1. 1. 1. 1. 1. 1. 1. 0.]\n",
      " [1. 1. 1. 1. 1. 1. 1. 1. 1. 0.]\n",
      " [1. 1. 1. 1. 1. 1. 1. 1. 1. 1.]\n",
      " [1. 1. 1. 1. 1. 1. 1. 1. 1. 1.]\n",
      " [1. 1. 1. 1. 1. 1. 1. 1. 1. 1.]\n",
      " [1. 1. 1. 1. 1. 1. 1. 1. 1. 1.]\n",
      " [1. 1. 1. 1. 1. 1. 1. 1. 1. 1.]]\n",
      "-------------\n",
      "[[0.5  0.5 ]\n",
      " [0.5  0.5 ]\n",
      " [0.5  0.5 ]\n",
      " [0.5  0.5 ]\n",
      " [0.5  0.5 ]\n",
      " [0.49 0.5 ]\n",
      " [0.5  0.5 ]\n",
      " [0.5  0.5 ]\n",
      " [0.5  0.5 ]\n",
      " [0.5  0.5 ]]\n",
      "---------------\n",
      "reactList [ 0.  0. -1.  0.  0.  0. -1. -1. -1. -1.]\n",
      "depoparcel [ 1.  1.  0.  1.  1. -1.  0.  0.  0.  0.]\n",
      "parcel [0. 0. 0. 0. 0. 1. 1. 1. 1. 1.]\n"
     ]
    }
   ],
   "source": [
    "react_table = np.array([[[0.700, 0, 1], [0.300, 0, 1]],\n",
    "                        [[0.200, -1, 0], [0.075, 0, -1]]])\n",
    "\n",
    "@jit(nopython=True)\n",
    "def SpecularReflect(vel, normal):\n",
    "    return vel - 2*vel@normal*normal\n",
    "\n",
    "# etching act on film, depo need output\n",
    "@jit(nopython=True)\n",
    "def reaction_yield(parcel, film, theta):\n",
    "    num_parcels = parcel.shape[0]\n",
    "    num_reactions = react_table.shape[1]\n",
    "    choice = np.random.rand(parcel.shape[0], react_table.shape[1])\n",
    "    reactList = np.ones(parcel.shape[0])*-1\n",
    "    for i in range(num_parcels):\n",
    "        for j in range(num_reactions):\n",
    "            if film[i, j] <= 0:\n",
    "                choice[i, j] = 1\n",
    "    depo_parcel = np.zeros(parcel.shape[0])\n",
    "    for i in range(parcel.shape[0]):\n",
    "        acceptList = np.zeros(react_table.shape[1], dtype=np.bool_)\n",
    "        for j in range(film.shape[1]):\n",
    "            react_rate = react_table[int(parcel[i, -1]), j, 0]\n",
    "            if react_rate > choice[i, j]:\n",
    "                acceptList[j] = True\n",
    "        react_choice_indices = np.where(acceptList)[0]\n",
    "        if react_choice_indices.size > 0:\n",
    "            react_choice = np.random.choice(react_choice_indices)\n",
    "            reactList[i] = react_choice\n",
    "            if np.sum(react_table[int(parcel[i, -1]), react_choice, 1:]) > 0:\n",
    "                depo_parcel[i] = 1\n",
    "            if np.sum(react_table[int(parcel[i, -1]), react_choice, 1:]) < 0:\n",
    "                depo_parcel[i] = -1\n",
    "    for i in range(parcel.shape[0]):\n",
    "        if depo_parcel[i] == -1:\n",
    "            film[i, :] += 0.01 * react_table[int(parcel[i, -1]), int(reactList[i]), 1:]\n",
    "        if reactList[i] == -1:\n",
    "            parcel[i,3:6] = SpecularReflect(parcel[i,3:6], theta[i])\n",
    "\n",
    "    return film, parcel, reactList, depo_parcel\n",
    "\n",
    "\n",
    "film = np.zeros((10, 2))\n",
    "\n",
    "film[:, 0] = 0.5\n",
    "film[:, 1] = 0.5\n",
    "print(film)\n",
    "# parcel = np.random.choice(2, size=10)\n",
    "# particle data struction np.array([posX, posY, posZ, velX, velY, velZ, i, j, k, typeID])\n",
    "# parcel = np.ones(10, dtype=int)\n",
    "parcel = np.ones((10, 10))\n",
    "parcel[:5, -1] = 0\n",
    "print(parcel)\n",
    "# test1 = UnitTest(parcel, film)\n",
    "# print(test1.testReact())\n",
    "theta = np.random.rand(30).reshape(10,3)\n",
    "film, parcel, reactList, depo_parcel = reaction_yield(parcel, film, theta)\n",
    "\n",
    "print('-------------')\n",
    "print(film)\n",
    "\n",
    "print('---------------')\n",
    "print('reactList',reactList)\n",
    "print('depoparcel', depo_parcel)\n",
    "print('parcel', parcel[:, -1])"
   ]
  },
  {
   "cell_type": "code",
   "execution_count": 57,
   "metadata": {},
   "outputs": [
    {
     "data": {
      "text/plain": [
       "(array([0, 1, 2, 3, 4, 5, 6, 7], dtype=int64),)"
      ]
     },
     "execution_count": 57,
     "metadata": {},
     "output_type": "execute_result"
    }
   ],
   "source": [
    "np.where(reactList != -1)"
   ]
  },
  {
   "cell_type": "code",
   "execution_count": 44,
   "metadata": {},
   "outputs": [
    {
     "name": "stdout",
     "output_type": "stream",
     "text": [
      "[[0.5 0.5]\n",
      " [0.5 0.5]\n",
      " [0.5 0.5]\n",
      " [0.5 0.5]\n",
      " [0.5 0.5]\n",
      " [0.5 0.5]\n",
      " [0.5 0.5]\n",
      " [0.5 0.5]\n",
      " [0.5 0.5]\n",
      " [0.5 0.5]]\n",
      "[0 0 0 0 0 1 1 1 1 1]\n",
      "react_choice_indices [0]\n",
      "react_choice_indices []\n",
      "react_choice_indices [0]\n",
      "react_choice_indices [1]\n",
      "react_choice_indices []\n",
      "react_choice_indices []\n",
      "react_choice_indices []\n",
      "react_choice_indices [0]\n",
      "react_choice_indices [0]\n",
      "react_choice_indices []\n",
      "-------------\n",
      "[[0.5  0.5 ]\n",
      " [0.5  0.5 ]\n",
      " [0.5  0.5 ]\n",
      " [0.5  0.5 ]\n",
      " [0.5  0.5 ]\n",
      " [0.5  0.5 ]\n",
      " [0.5  0.5 ]\n",
      " [0.49 0.5 ]\n",
      " [0.49 0.5 ]\n",
      " [0.5  0.5 ]]\n",
      "---------------\n",
      "reactList [ 0. -1.  0.  1. -1. -1. -1.  0.  0. -1.]\n",
      "depoparcel [ 1.  0.  1.  1.  0.  0.  0. -1. -1.  0.]\n"
     ]
    }
   ],
   "source": [
    "react_table = np.array([[[0.700, 0, 1], [0.300, 0, 1]],\n",
    "                        [[0.200, -1, 0], [0.075, 0, -1]]])\n",
    "\n",
    "# etching act on film, depo need output\n",
    "@jit(nopython=True)\n",
    "def reaction_yield(parcel, film):\n",
    "    num_parcels = parcel.shape[0]\n",
    "    num_reactions = react_table.shape[1]\n",
    "    choice = np.random.rand(parcel.shape[0], react_table.shape[1])\n",
    "    # print('choice', choice)\n",
    "    reactList = np.ones(parcel.shape[0])*-1\n",
    "    indiceFilm = film == 0\n",
    "    # print(indiceFilm.shape)\n",
    "    # choice[indiceFilm] = 0\n",
    "\n",
    "    for i in range(num_parcels):\n",
    "        for j in range(num_reactions):\n",
    "            if film[i, j] <= 0:\n",
    "                choice[i, j] = 1\n",
    "\n",
    "    # print('choice', choice)   \n",
    "\n",
    "    depo_parcel = np.zeros(parcel.shape[0])\n",
    "    for i in range(parcel.shape[0]):\n",
    "        acceptList = np.zeros(react_table.shape[1], dtype=np.bool_)\n",
    "        for j in range(film.shape[1]):\n",
    "            react_rate = react_table[parcel[i], j, 0]\n",
    "            if react_rate > choice[i, j]:\n",
    "                acceptList[j] = True\n",
    "        # print( 'react_table',react_table[parcel[i], :, 0])\n",
    "        # # print(choice[i])\n",
    "        # print('accept',acceptList)  \n",
    "        # react_choice_indices = np.random.choice(int(np.sum(acceptList)))\n",
    "        react_choice_indices = np.where(acceptList)[0]\n",
    "        print( 'react_choice_indices', react_choice_indices)\n",
    "        if react_choice_indices.size > 0:\n",
    "            react_choice = np.random.choice(react_choice_indices)\n",
    "            reactList[i] = react_choice\n",
    "            # film[i, react_choice] -= 0.01      # left\n",
    "            # print('react type', react_table[parcel[i], react_choice, 1:])\n",
    "            if np.sum(react_table[parcel[i], react_choice, 1:]) > 0:\n",
    "                depo_parcel[i] = 1\n",
    "            if np.sum(react_table[parcel[i], react_choice, 1:]) < 0:\n",
    "                depo_parcel[i] = -1\n",
    "\n",
    "\n",
    "            etching_pick = np.where(depo_parcel == -1)\n",
    "            # film[i, :] += 0.01*react_table[parcel[i], react_choice, 1:]   # right\n",
    "    for i in range(parcel.shape[0]):\n",
    "        if depo_parcel[i] == -1:\n",
    "            film[i, :] += 0.01 * react_table[parcel[i], int(reactList[i]), 1:]\n",
    "    # film[etching_pick, :] += 0.01*react_table[parcel[etching_pick], react_choice, 1:]\n",
    "            # react_gen = react_table[parcel[i], react_choice, 1]\n",
    "            # if react_gen > 0:\n",
    "            #     film[i, int(react_gen)-1] += 0.01\n",
    "            # else:\n",
    "            #     parcelGen[i] = -react_gen\n",
    "                \n",
    "    return film, reactList, depo_parcel\n",
    "\n",
    "\n",
    "film = np.zeros((10, 2))\n",
    "\n",
    "film[:, 0] = 0.5\n",
    "film[:, 1] = 0.5\n",
    "print(film)\n",
    "# parcel = np.random.choice(2, size=10)\n",
    "parcel = np.ones(10, dtype=int)\n",
    "parcel[:5] = 0\n",
    "print(parcel)\n",
    "# test1 = UnitTest(parcel, film)\n",
    "# print(test1.testReact())\n",
    "film, reactList, depo_parcel = reaction_yield(parcel, film)\n",
    "\n",
    "print('-------------')\n",
    "print(film)\n",
    "\n",
    "print('---------------')\n",
    "print('reactList',reactList)\n",
    "\n",
    "print('depoparcel', depo_parcel)"
   ]
  },
  {
   "cell_type": "code",
   "execution_count": 10,
   "metadata": {},
   "outputs": [
    {
     "name": "stdout",
     "output_type": "stream",
     "text": [
      "(array([0, 1]), 1, 1.0)\n"
     ]
    }
   ],
   "source": [
    "# 定义反应表和初始的 film 元素\n",
    "react_table = np.array([[[0.700, 0, 1], [0.300, 0, 1]],\n",
    "                        [[0.200, -1, 0], [0.075, 0, -1]]])\n",
    "# film_elemnt = np.array([1, 0], dtype=float)\n",
    "film_elemnt = np.array([10, 20], dtype=float)\n",
    "def reaction(gas, film):\n",
    "    # 计算总长度\n",
    "    total_length = int(film.sum())\n",
    "\n",
    "    # 预分配反应类型和反应速率\n",
    "    reaction_type = np.empty(total_length, dtype=int)\n",
    "    reaction_rate = np.empty(total_length, dtype=float)\n",
    "\n",
    "    # 填充反应类型和反应速率\n",
    "    current_index = 0\n",
    "    for i in range(film.shape[0]):\n",
    "        length = int(film[i])\n",
    "        reaction_type[current_index:current_index + length] = i\n",
    "        reaction_rate[current_index:current_index + length] = react_table[gas, i, 0]\n",
    "        current_index += length\n",
    "\n",
    "    # 生成随机数列以确定反应发生的概率\n",
    "    reaction_list = np.random.rand(total_length)\n",
    "\n",
    "    # 筛选出发生反应的粒子\n",
    "    reaction_indices = np.where(reaction_rate > reaction_list)[0]\n",
    "    \n",
    "    # 如果有反应发生，随机选择一个反应\n",
    "    if reaction_indices.size > 0:\n",
    "        reaction_choice = np.random.choice(reaction_indices, 1)\n",
    "        reaction_particle = reaction_type[reaction_choice][0]\n",
    "        # print(reaction_particle)\n",
    "        # 更新 film 元素的状态\n",
    "        filmAddtion = np.array(react_table[gas, reaction_particle, 1:], dtype=int)\n",
    "        return filmAddtion, reaction_particle, np.sum(react_table[gas, reaction_particle, 1:]) # film, react_type, etchingDepo \n",
    "    else:\n",
    "        return np.zeros_like(film), -1, 0\n",
    "    \n",
    "\n",
    "print(reaction(0, film_elemnt))"
   ]
  },
  {
   "cell_type": "code",
   "execution_count": 424,
   "metadata": {},
   "outputs": [
    {
     "name": "stdout",
     "output_type": "stream",
     "text": [
      "[[1. 0.]\n",
      " [1. 0.]\n",
      " [1. 0.]\n",
      " [1. 0.]\n",
      " [1. 0.]\n",
      " [0. 1.]\n",
      " [0. 1.]\n",
      " [0. 1.]\n",
      " [0. 1.]\n",
      " [0. 1.]]\n",
      "[2 0 2 1 1 0 2 1 0 0]\n",
      "(10, 2)\n",
      "(10, 2)\n",
      "[[0.87371415 1.        ]\n",
      " [0.73144343 1.        ]\n",
      " [0.39864057 1.        ]\n",
      " [0.64276348 1.        ]\n",
      " [0.0105777  1.        ]\n",
      " [1.         0.70438947]\n",
      " [1.         0.04220356]\n",
      " [1.         0.20144074]\n",
      " [1.         0.89120776]\n",
      " [1.         0.03815122]]\n",
      "[0.7 0.3]\n",
      "[0.87371415 1.        ]\n",
      "[ True False]\n",
      "[0.7 0.3]\n",
      "[0.73144343 1.        ]\n",
      "[False False]\n",
      "[0.7 0.3]\n",
      "[0.39864057 1.        ]\n",
      "[ True False]\n",
      "[0.2   0.075]\n",
      "[0.64276348 1.        ]\n",
      "[False False]\n",
      "[0.2   0.075]\n",
      "[0.0105777 1.       ]\n",
      "[ True False]\n",
      "[0.7 0.3]\n",
      "[1.         0.70438947]\n",
      "[False False]\n",
      "[0.7 0.3]\n",
      "[1.         0.04220356]\n",
      "[ True False]\n",
      "[0.2   0.075]\n",
      "[1.         0.20144074]\n",
      "[False False]\n",
      "[0.7 0.3]\n",
      "[1.         0.89120776]\n",
      "[False False]\n",
      "[0.7 0.3]\n",
      "[1.         0.03815122]\n",
      "[False  True]\n",
      "-------------\n",
      "[[ 0.99  0.  ]\n",
      " [ 1.    0.  ]\n",
      " [ 0.99  0.  ]\n",
      " [ 1.    0.  ]\n",
      " [ 0.99  0.  ]\n",
      " [ 0.    1.  ]\n",
      " [-0.01  1.  ]\n",
      " [ 0.    1.  ]\n",
      " [ 0.    1.  ]\n",
      " [ 0.    0.99]]\n",
      "-------------\n",
      "[-0.  0. -0.  0.  1.  0. -0.  0.  0. -0.]\n",
      "---------------\n",
      "[0. 0. 0. 0. 0. 0. 0. 0. 0. 1.]\n"
     ]
    }
   ],
   "source": [
    "#react_t g[Cu]   s  [1,     2]\n",
    "#react_t g[Cu] g\\s  [Si,   Cu]\n",
    "            #  Cu    0.7,  0.3   \n",
    "            #  Ar    0.2   0.075\n",
    "react_table = np.array([[[0.7, 1, 2], [0.3, 0, 2]],\n",
    "                        [[0.2, -1, 0], [0.075, 0, -1]]])\n",
    "\n",
    "\n",
    "@jit(nopython=True)\n",
    "def reaction(parcel, film):\n",
    "    num_parcels = parcel.shape[0]\n",
    "    num_reactions = react_table.shape[1]\n",
    "    choice = np.random.rand(num_parcels, num_reactions)\n",
    "    print(choice.shape)\n",
    "    indiceFilm = film == 0\n",
    "    print(indiceFilm.shape)\n",
    "    # choice[indiceFilm] = 0\n",
    "\n",
    "    # Indicate if the film is zero\n",
    "    for i in range(num_parcels):\n",
    "        for j in range(num_reactions):\n",
    "            if film[i, j] == 0:\n",
    "                choice[i, j] = 1\n",
    "\n",
    "\n",
    "    print(choice)\n",
    "    parcelGen = np.zeros(num_parcels)\n",
    "    reactList = np.zeros(num_parcels)\n",
    "\n",
    "    for i in range(num_parcels):\n",
    "        acceptList = react_table[parcel[i], :, 0]/choice[i] > 1\n",
    "        print(react_table[parcel[i], :, 0])\n",
    "        print(choice[i])\n",
    "        print(acceptList)\n",
    "        react_choice_indices = np.where(acceptList)[0]\n",
    "        # print(react_choice_indices)\n",
    "        if react_choice_indices.size > 0:\n",
    "            react_choice = np.random.choice(react_choice_indices)\n",
    "            reactList[i] = react_choice\n",
    "            film[i, react_choice] -= 0.01\n",
    "            react_gen = react_table[parcel[i], react_choice, 1]\n",
    "            if react_gen > 0:\n",
    "                film[i, int(react_gen) - 1] += 0.01\n",
    "            else:\n",
    "                parcelGen[i] = -react_gen\n",
    "    \n",
    "    return film, parcelGen, reactList\n",
    "\n",
    "class UnitTest:\n",
    "    def __init__(self, parcel, film):\n",
    "        self.parcel = parcel\n",
    "        self.film = film\n",
    "    \n",
    "    def testReact(self):\n",
    "        film, parcelGen, reactList = reaction(self.parcel, self.film)\n",
    "        return film, parcelGen, reactList\n",
    "\n",
    "film = np.zeros((10, 2))\n",
    "\n",
    "film[:5, 0] = 1\n",
    "film[5:, 1] = 1\n",
    "print(film)\n",
    "parcel = np.random.choice(3, size=10)\n",
    "print(parcel)\n",
    "# test1 = UnitTest(parcel, film)\n",
    "# print(test1.testReact())\n",
    "film, parcelGen, reactList = reaction(parcel, film)\n",
    "\n",
    "print('-------------')\n",
    "print(film)\n",
    "print('-------------')\n",
    "print(parcelGen)\n",
    "print('---------------')\n",
    "print(reactList)"
   ]
  },
  {
   "cell_type": "code",
   "execution_count": 423,
   "metadata": {},
   "outputs": [
    {
     "data": {
      "text/plain": [
       "False"
      ]
     },
     "execution_count": 423,
     "metadata": {},
     "output_type": "execute_result"
    }
   ],
   "source": [
    "0.7 > 0.7196888 "
   ]
  },
  {
   "cell_type": "code",
   "execution_count": 397,
   "metadata": {},
   "outputs": [
    {
     "name": "stdout",
     "output_type": "stream",
     "text": [
      "[[1. 0.]\n",
      " [1. 0.]\n",
      " [1. 0.]\n",
      " [1. 0.]\n",
      " [1. 0.]\n",
      " [0. 1.]\n",
      " [0. 1.]\n",
      " [0. 1.]\n",
      " [0. 1.]\n",
      " [0. 1.]]\n"
     ]
    },
    {
     "data": {
      "text/plain": [
       "array([[False,  True],\n",
       "       [False,  True],\n",
       "       [False,  True],\n",
       "       [False,  True],\n",
       "       [False,  True],\n",
       "       [ True, False],\n",
       "       [ True, False],\n",
       "       [ True, False],\n",
       "       [ True, False],\n",
       "       [ True, False]])"
      ]
     },
     "execution_count": 397,
     "metadata": {},
     "output_type": "execute_result"
    }
   ],
   "source": [
    "@jit(nopython=True)\n",
    "def testnumba1():\n",
    "    film = np.zeros((10, 2))\n",
    "\n",
    "    film[:5, 0] = 1\n",
    "    film[5:, 1] = 1\n",
    "    print(film)\n",
    "\n",
    "    indiceFilm = film == 0\n",
    "    return indiceFilm\n",
    "\n",
    "testnumba1()"
   ]
  },
  {
   "cell_type": "code",
   "execution_count": 29,
   "metadata": {},
   "outputs": [
    {
     "name": "stdout",
     "output_type": "stream",
     "text": [
      "(3, 10, 2)\n"
     ]
    }
   ],
   "source": [
    "react_table3 = np.array([[[0.5, 2], [0.5, 3], [0.5, 4], [0.9, -4], [0.5, 7], [0.0, 0], [0.5, 8], [0.0, 0], [0.6, 10], [0.0, 0]],\n",
    "                        [[0.5, 5], [0.0, 0], [0.0, 0], [0.0, 0], [0.5, 6], [0.0, 0], [0.0, 0], [0.0, 0], [0.0, 0], [0.0, 0]],\n",
    "                        [[0.27, -1], [0.27, -2], [0.27, -3], [0.27, -4], [0.27, -5], [0.27, -6], [0.27, -7], [0.27, -8], [0.27, -9], [0.27, -10]]])\n",
    "\n",
    "\n",
    "print(react_table3.shape)\n",
    "\n",
    "react_table = np.zeros((3, 10, 11))\n",
    "\n",
    "for i in range(react_table3.shape[0]):\n",
    "    for j in range(react_table3.shape[1]):\n",
    "        for k in range(react_table3.shape[2]):\n",
    "            react_table[i, j, 0] = react_table3[i, j, 0]\n",
    "            react_table[i, j, j+1] = -1\n",
    "            react_chem =  int(np.abs(react_table3[i, j, 1]))\n",
    "            if react_table3[i, j, 1] > 0:\n",
    "                react_plus_min = 1\n",
    "            elif react_table3[i, j, 1] < 0:\n",
    "                react_plus_min = -1\n",
    "            elif react_table3[i, j, 1] == 0:\n",
    "                react_plus_min = 0\n",
    "            react_table[i, j, react_chem] = react_plus_min"
   ]
  },
  {
   "cell_type": "code",
   "execution_count": 35,
   "metadata": {},
   "outputs": [],
   "source": [
    "react_table[0, 3, 4] = -2"
   ]
  },
  {
   "cell_type": "code",
   "execution_count": 37,
   "metadata": {},
   "outputs": [
    {
     "data": {
      "text/plain": [
       "array([ 0.5,  0. ,  0. , -1. ,  1. ,  0. ,  0. ,  0. ,  0. ,  0. ,  0. ])"
      ]
     },
     "execution_count": 37,
     "metadata": {},
     "output_type": "execute_result"
    }
   ],
   "source": [
    "react_table[0, 2]"
   ]
  },
  {
   "cell_type": "code",
   "execution_count": 39,
   "metadata": {},
   "outputs": [
    {
     "data": {
      "text/plain": [
       "array([ 0.27,  0.  ,  0.  ,  0.  , -1.  ,  0.  ,  0.  ,  0.  ,  0.  ,\n",
       "        0.  ,  0.  ])"
      ]
     },
     "execution_count": 39,
     "metadata": {},
     "output_type": "execute_result"
    }
   ],
   "source": [
    "react_table[2, 3]"
   ]
  },
  {
   "cell_type": "code",
   "execution_count": 7,
   "metadata": {},
   "outputs": [],
   "source": [
    "#solid = film[i, j, k, 10][Si, SiF1, SiF2, SiF3, SiO SiO2, SiOF, SiOF2, SiO2F, SiO2F2]\n",
    "#react_t g[Cu] s  [1,         2]\n",
    "#react_t g[Cu] s  [Cu,       Si]\n",
    "\n",
    "# react_table = np.array([[[0.700, 0, 1], [0.300, 0, 1]],\n",
    "#                         [[0.200, -1, 0], [0.075, 0, -1]]])\n",
    "\n",
    "#solid = film[i, j, k, 10][Si, SiF1, SiF2, SiF3, SiO SiO2, SiOF, SiOF2, SiO2F, SiO2F2]\n",
    "#react_t g[F, O, ion] s  [1,          2,           3,          4,       5 ,   6,    7,    8,   9,  10]\n",
    "#react_t g[F, O, ion] s  [Si,       SiF1,       SiF2,       SiF3,      SiO, SiO2, SiOF, SiOF2, SiO2F,SiO2F2]\n",
    "\n",
    "react_table = np.array([[[0.01, 2], [0.01, 3], [0.01, 4], [0.01, -4], [0.05, 7], [0.00, 0], [0.05, 8], [0.00, 0], [0.06, 10], [0.00, 0]],\n",
    "                        [[0.05, 5], [0.00, 0], [0.00, 0], [0.00, 0], [0.05, 6], [0.00, 0], [0.00, 0], [0.00, 0], [0.00, 0], [0.00, 0]],\n",
    "                        [[0.27, -1], [0.27, -2], [0.27, -3], [0.27, -4], [0.27, -5], [0.27, -6], [0.27, -7], [0.27, -8], [0.27, -9], [0.27, -10]]])\n"
   ]
  },
  {
   "cell_type": "code",
   "execution_count": 452,
   "metadata": {},
   "outputs": [
    {
     "name": "stdout",
     "output_type": "stream",
     "text": [
      "[2 2 1 0 1 1 0 1 2 1]\n",
      "[[ 0.    0.    0.    0.    0.    0.    0.    0.    0.    0.  ]\n",
      " [ 0.    0.    0.    0.   -0.01  0.    0.    0.    0.    0.  ]\n",
      " [ 0.    0.    0.    0.    0.    0.    0.    0.    0.    0.  ]\n",
      " [ 0.    0.    0.    0.    0.    0.    0.    0.    0.    0.  ]\n",
      " [ 0.    0.    0.    0.    0.    0.    0.    0.    0.    0.  ]\n",
      " [ 0.    0.    0.    0.    0.    0.    0.    0.    0.    0.  ]\n",
      " [ 0.    0.    0.    0.   -0.01  0.    0.01  0.    0.    0.  ]\n",
      " [ 0.    0.    0.    0.    0.    0.    0.    0.    0.    0.  ]\n",
      " [ 0.    0.    0.    0.    0.    0.    0.   -0.01  0.    0.  ]\n",
      " [ 0.    0.    0.    0.    0.    0.    0.    0.    0.    0.  ]]\n",
      "-------------\n",
      "[0. 5. 0. 0. 0. 0. 0. 0. 8. 0.]\n",
      "---------------\n",
      "[0. 4. 0. 0. 0. 0. 4. 0. 7. 0.]\n"
     ]
    }
   ],
   "source": [
    "#solid = film[i, j, k, 10][Si, SiF1, SiF2, SiF3, SiO SiO2, SiOF, SiOF2, SiO2F, SiO2F2]\n",
    "#react_t g[F, O, ion] s  [1,          2,           3,          4,       5 ,   6,    7,    8,   9,  10]\n",
    "#react_t g[F, O, ion] s  [Si,       SiF1,       SiF2,       SiF3,      SiO, SiO2, SiOF, SiOF2, SiO2F,SiO2F2]\n",
    "\n",
    "react_table = np.array([[[0.01, 2], [0.01, 3], [0.01, 4], [0.01, -4], [0.05, 7], [0.00, 0], [0.05, 8], [0.00, 0], [0.06, 10], [0.00, 0]],\n",
    "                        [[0.05, 5], [0.00, 0], [0.00, 0], [0.00, 0], [0.05, 6], [0.00, 0], [0.00, 0], [0.00, 0], [0.00, 0], [0.00, 0]],\n",
    "                        [[0.27, -1], [0.27, -2], [0.27, -3], [0.27, -4], [0.27, -5], [0.27, -6], [0.27, -7], [0.27, -8], [0.27, -9], [0.27, -10]]])\n",
    "\n",
    "@jit(nopython=True)\n",
    "def reaction(parcel, film):\n",
    "    choice = np.random.rand(parcel.shape[0], react_table.shape[1])\n",
    "    parcelGen = np.zeros(parcel.shape[0])\n",
    "    reactList = np.zeros(parcel.shape[0])\n",
    "    for i in range(parcel.shape[0]):\n",
    "        acceptList = np.zeros(react_table.shape[1], dtype=np.bool_)\n",
    "        \n",
    "        for j in range(film.shape[1]):\n",
    "            react_rate = react_table[parcel[i], j, 0]\n",
    "            if react_rate > choice[i, j]:\n",
    "                acceptList[j] = True\n",
    "        \n",
    "        # react_choice_indices = np.random.choice(int(np.sum(acceptList)))\n",
    "        react_choice_indices = np.where(acceptList)[0]\n",
    "        # print(react_choice_indices)\n",
    "        if react_choice_indices.size > 0:\n",
    "            react_choice = np.random.choice(react_choice_indices)\n",
    "            reactList[i] = react_choice\n",
    "            film[i, react_choice] -= 0.01\n",
    "            react_gen = react_table[parcel[i], react_choice, 1]\n",
    "            if react_gen > 0:\n",
    "                film[i, int(react_gen)-1] += 0.01\n",
    "            else:\n",
    "                parcelGen[i] = -react_gen\n",
    "                \n",
    "    return film, parcelGen, reactList\n",
    "\n",
    "\n",
    "\n",
    "class UnitTest:\n",
    "    def __init__(self, parcel, film):\n",
    "        self.parcel = parcel\n",
    "        self.film = film\n",
    "    \n",
    "    def testReact(self):\n",
    "        film, parcelGen, reactList = reaction(self.parcel, self.film)\n",
    "        return film, parcelGen, reactList\n",
    "\n",
    "\n",
    "film = np.zeros((10, 10))\n",
    "parcel = np.random.choice(3, size=10)\n",
    "print(parcel)\n",
    "# test1 = UnitTest(parcel, film)\n",
    "# print(test1.testReact())\n",
    "film, parcelGen, reactList = reaction(parcel, film)\n",
    "print(film)\n",
    "print('-------------')\n",
    "print(parcelGen)\n",
    "print('---------------')\n",
    "print(reactList)"
   ]
  },
  {
   "cell_type": "code",
   "execution_count": 124,
   "metadata": {},
   "outputs": [
    {
     "name": "stdout",
     "output_type": "stream",
     "text": [
      "Numba time: 1.360035 seconds\n"
     ]
    }
   ],
   "source": [
    "film = np.zeros((1000, 10))\n",
    "parcel = np.random.choice(3, size=1000)\n",
    "\n",
    "test1 = UnitTest(parcel, film)\n",
    "test1.testReact()\n",
    "numba_time = timeit.timeit(lambda: test1.testReact(), number=100)\n",
    "print(f\"Numba time: {numba_time:.6f} seconds\")"
   ]
  },
  {
   "cell_type": "code",
   "execution_count": 147,
   "metadata": {},
   "outputs": [
    {
     "name": "stdout",
     "output_type": "stream",
     "text": [
      "Numba time: 0.320966 seconds\n"
     ]
    }
   ],
   "source": [
    "film = np.zeros((100, 10))\n",
    "parcel = np.random.choice(3, size=100)\n",
    "\n",
    "test1 = UnitTest(parcel, film)\n",
    "test1.testReact()\n",
    "numba_time = timeit.timeit(lambda: test1.testReact(), number=10000)\n",
    "print(f\"Numba time: {numba_time:.6f} seconds\")\n"
   ]
  },
  {
   "cell_type": "code",
   "execution_count": 385,
   "metadata": {},
   "outputs": [
    {
     "name": "stdout",
     "output_type": "stream",
     "text": [
      "[0 2 2 1 1 1 2 0 2 1]\n",
      "[[ 0.    0.    0.    0.    0.    0.    0.    0.    0.    0.  ]\n",
      " [ 0.    0.    0.   -0.01  0.    0.    0.    0.    0.    0.  ]\n",
      " [ 0.    0.    0.    0.    0.    0.    0.   -0.01  0.    0.  ]\n",
      " [ 0.    0.    0.    0.    0.    0.    0.    0.    0.    0.  ]\n",
      " [ 0.    0.    0.    0.    0.    0.    0.    0.    0.    0.  ]\n",
      " [ 0.    0.    0.    0.    0.    0.    0.    0.    0.    0.  ]\n",
      " [ 0.    0.   -0.01  0.    0.    0.    0.    0.    0.    0.  ]\n",
      " [ 0.    0.    0.    0.    0.    0.    0.    0.    0.    0.  ]\n",
      " [ 0.    0.    0.   -0.01  0.    0.    0.    0.    0.    0.  ]\n",
      " [ 0.    0.    0.    0.    0.    0.    0.    0.    0.    0.  ]]\n",
      "-------------\n",
      "[0. 4. 8. 0. 0. 0. 3. 0. 4. 0.]\n",
      "---------------\n",
      "[0. 3. 7. 0. 0. 0. 2. 0. 3. 0.]\n"
     ]
    }
   ],
   "source": [
    "react_table = np.array([[[0.01, 2], [0.01, 3], [0.01, 4], [0.01, -4], [0.05, 7], [0.00, 0], [0.05, 8], [0.00, 0], [0.06, 10], [0.00, 0]],\n",
    "                        [[0.05, 5], [0.00, 0], [0.00, 0], [0.00, 0], [0.05, 6], [0.00, 0], [0.00, 0], [0.00, 0], [0.00, 0], [0.00, 0]],\n",
    "                        [[0.27, -1], [0.27, -2], [0.27, -3], [0.27, -4], [0.27, -5], [0.27, -6], [0.27, -7], [0.27, -8], [0.27, -9], [0.27, -10]]])\n",
    "\n",
    "@jit(nopython=True)\n",
    "def reaction(parcel, film):\n",
    "    num_parcels = parcel.shape[0]\n",
    "    num_reactions = react_table.shape[1]\n",
    "    choice = np.random.rand(num_parcels, num_reactions)\n",
    "    parcelGen = np.zeros(num_parcels)\n",
    "    reactList = np.zeros(num_parcels)\n",
    "\n",
    "    for i in range(num_parcels):\n",
    "        acceptList = react_table[parcel[i], :, 0] > choice[i]\n",
    "        react_choice_indices = np.where(acceptList)[0]\n",
    "        # print(react_choice_indices)\n",
    "        if react_choice_indices.size > 0:\n",
    "            react_choice = np.random.choice(react_choice_indices)\n",
    "            reactList[i] = react_choice\n",
    "            film[i, react_choice] -= 0.01\n",
    "            react_gen = react_table[parcel[i], react_choice, 1]\n",
    "            if react_gen > 0:\n",
    "                film[i, int(react_gen) - 1] += 0.01\n",
    "            else:\n",
    "                parcelGen[i] = -react_gen\n",
    "    \n",
    "    return film, parcelGen, reactList\n",
    "\n",
    "class UnitTest:\n",
    "    def __init__(self, parcel, film):\n",
    "        self.parcel = parcel\n",
    "        self.film = film\n",
    "    \n",
    "    def testReact(self):\n",
    "        film, parcelGen, reactList = reaction(self.parcel, self.film)\n",
    "        return film, parcelGen, reactList\n",
    "\n",
    "film = np.zeros((10, 10))\n",
    "parcel = np.random.choice(3, size=10)\n",
    "print(parcel)\n",
    "# test1 = UnitTest(parcel, film)\n",
    "# print(test1.testReact())\n",
    "film, parcelGen, reactList = reaction(parcel, film)\n",
    "print(film)\n",
    "print('-------------')\n",
    "print(parcelGen)\n",
    "print('---------------')\n",
    "print(reactList)\n"
   ]
  },
  {
   "cell_type": "code",
   "execution_count": 140,
   "metadata": {},
   "outputs": [
    {
     "name": "stdout",
     "output_type": "stream",
     "text": [
      "Numba time: 0.345110 seconds\n"
     ]
    }
   ],
   "source": [
    "film = np.zeros((100, 10))\n",
    "parcel = np.random.choice(3, size=100)\n",
    "\n",
    "test1 = UnitTest(parcel, film)\n",
    "test1.testReact()\n",
    "numba_time = timeit.timeit(lambda: test1.testReact(), number=10000)\n",
    "print(f\"Numba time: {numba_time:.6f} seconds\")\n"
   ]
  },
  {
   "cell_type": "code",
   "execution_count": 134,
   "metadata": {},
   "outputs": [
    {
     "name": "stdout",
     "output_type": "stream",
     "text": [
      "Performance time: 0.005934 seconds\n"
     ]
    }
   ],
   "source": [
    "def test_performance():\n",
    "    film = np.zeros((10, 10))\n",
    "    parcel = np.random.choice(3, size=10)\n",
    "    test1 = UnitTest(parcel, film)\n",
    "    \n",
    "    # 测试反应函数的性能\n",
    "    performance_time = timeit.timeit(lambda: test1.testReact(), number=1000)\n",
    "    print(f\"Performance time: {performance_time:.6f} seconds\")\n",
    "\n",
    "test_performance()"
   ]
  },
  {
   "cell_type": "code",
   "execution_count": 108,
   "metadata": {},
   "outputs": [
    {
     "name": "stdout",
     "output_type": "stream",
     "text": [
      "Numba time: 0.002657 seconds\n"
     ]
    }
   ],
   "source": [
    "film = np.zeros((100, 10))\n",
    "parcel = np.random.choice(3, size=100)\n",
    "\n",
    "test1 = UnitTest(parcel, film)\n",
    "test1.testReact()\n",
    "numba_time = timeit.timeit(lambda: test1.testReact(), number=100)\n",
    "print(f\"Numba time: {numba_time:.6f} seconds\")"
   ]
  },
  {
   "cell_type": "code",
   "execution_count": 110,
   "metadata": {},
   "outputs": [
    {
     "name": "stdout",
     "output_type": "stream",
     "text": [
      "Numba time: 0.109467 seconds\n"
     ]
    }
   ],
   "source": [
    "film = np.zeros((100, 10))\n",
    "parcel = np.random.choice(3, size=100)\n",
    "\n",
    "test1 = UnitTest(parcel, film)\n",
    "test1.testReact()\n",
    "numba_time = timeit.timeit(lambda: test1.testReact(), number=100)\n",
    "print(f\"Numba time: {numba_time:.6f} seconds\")"
   ]
  },
  {
   "cell_type": "code",
   "execution_count": 71,
   "metadata": {},
   "outputs": [],
   "source": [
    "def diffDeflection(ur):\n",
    "    kB = 1.380649e-23\n",
    "    Al_m = 44.803928e-27\n",
    "    N_A = 6.02214076*10**23\n",
    "    Ar_m = 39.938/(N_A*1000)\n",
    "    Tw = 300\n",
    "\n",
    "    return Al_m/(kB*Tw)*ur*np.exp(-Al_m*ur*ur/(2*kB*Tw))"
   ]
  },
  {
   "cell_type": "code",
   "execution_count": 72,
   "metadata": {},
   "outputs": [
    {
     "data": {
      "text/plain": [
       "[<matplotlib.lines.Line2D at 0x23b7525dfd0>]"
      ]
     },
     "execution_count": 72,
     "metadata": {},
     "output_type": "execute_result"
    },
    {
     "data": {
      "image/png": "[encoded data removed]",
      "text/plain": [
       "<Figure size 640x480 with 1 Axes>"
      ]
     },
     "metadata": {},
     "output_type": "display_data"
    }
   ],
   "source": [
    "x = np.linspace(0, 1000, 1000)\n",
    "y = diffDeflection(x)\n",
    "\n",
    "fig, ax = plt.subplots(1, 1)\n",
    "\n",
    "ax.plot(x, y)"
   ]
  },
  {
   "cell_type": "code",
   "execution_count": 154,
   "metadata": {},
   "outputs": [],
   "source": [
    "def yield_func( theta):\n",
    "    yield_hist = np.array([0, 10, 90, 100])\n",
    "    sputterY = np.zeros_like(theta)\n",
    "    indice = np.logical_and(theta > yield_hist[0], theta < yield_hist[1])\n",
    "    indice |= np.logical_and(theta > yield_hist[2], theta < yield_hist[3])\n",
    "    sputterY[indice] = 1\n",
    "    return sputterY\n"
   ]
  },
  {
   "cell_type": "code",
   "execution_count": 155,
   "metadata": {},
   "outputs": [
    {
     "data": {
      "text/plain": [
       "array([0, 1, 1, 1, 1, 1, 1, 1, 1, 1, 0, 0, 0, 0, 0, 0, 0, 0, 0, 0, 0, 0,\n",
       "       0, 0, 0, 0, 0, 0, 0, 0, 0, 0, 0, 0, 0, 0, 0, 0, 0, 0, 0, 0, 0, 0,\n",
       "       0, 0, 0, 0, 0, 0, 0, 0, 0, 0, 0, 0, 0, 0, 0, 0, 0, 0, 0, 0, 0, 0,\n",
       "       0, 0, 0, 0, 0, 0, 0, 0, 0, 0, 0, 0, 0, 0, 0, 0, 0, 0, 0, 0, 0, 0,\n",
       "       0, 0, 0, 1, 1, 1, 1, 1, 1, 1, 1, 1])"
      ]
     },
     "execution_count": 155,
     "metadata": {},
     "output_type": "execute_result"
    }
   ],
   "source": [
    "yield_func(np.arange(100))"
   ]
  },
  {
   "cell_type": "code",
   "execution_count": 250,
   "metadata": {},
   "outputs": [
    {
     "name": "stdout",
     "output_type": "stream",
     "text": [
      "1.0\n",
      "[0.09950372 0.         0.99503719]\n",
      "-1.8905706613989797\n",
      "[1.37623762 1.         1.76237624]\n"
     ]
    }
   ],
   "source": [
    "vel = np.array([1, 1, -2])\n",
    "\n",
    "normal = np.array([0.1, 0, 1])\n",
    "normal = normal/np.linalg.norm(normal)\n",
    "print(np.linalg.norm(normal))\n",
    "print(normal)\n",
    "print(vel@normal)\n",
    "\n",
    "velp = vel - 2*vel@normal*normal\n",
    "\n",
    "print(velp)"
   ]
  },
  {
   "cell_type": "code",
   "execution_count": 258,
   "metadata": {},
   "outputs": [
    {
     "data": {
      "image/png": "[encoded data removed]",
      "text/plain": [
       "<Figure size 640x480 with 1 Axes>"
      ]
     },
     "metadata": {},
     "output_type": "display_data"
    }
   ],
   "source": [
    "ax = plt.figure().add_subplot(projection='3d')\n",
    "\n",
    "# Make the grid\n",
    "origin = np.zeros(3)\n",
    "# Make the direction data for the arrows\n",
    "\n",
    "ax.quiver(-vel[0],       -vel[1],    -vel[2], vel[0],       vel[1],    vel[2], color='red')\n",
    "ax.quiver(origin[0], origin[1], origin[2], normal[0], normal[1], normal[2], color='blue')\n",
    "ax.quiver(origin[0], origin[1], origin[2], velp[0], velp[1], velp[2], color='green')\n",
    "ax.set_xlim(-2, 2)\n",
    "ax.set_ylim(-2, 2)\n",
    "ax.set_zlim(-2, 2)\n",
    "ax.set_xlabel('x')\n",
    "ax.set_ylabel('y')\n",
    "ax.set_zlabel('z')\n",
    "ax.view_init(elev=30, azim=50, roll=0)\n",
    "plt.show()"
   ]
  },
  {
   "cell_type": "code",
   "execution_count": 314,
   "metadata": {},
   "outputs": [
    {
     "ename": "ValueError",
     "evalue": "matmul: Input operand 1 has a mismatch in its core dimension 0, with gufunc signature (n?,k),(k,m?)->(n?,m?) (size 10 is different from 3)",
     "output_type": "error",
     "traceback": [
      "\u001b[1;31m---------------------------------------------------------------------------\u001b[0m",
      "\u001b[1;31mValueError\u001b[0m                                Traceback (most recent call last)",
      "Cell \u001b[1;32mIn[314], line 11\u001b[0m\n\u001b[0;32m      9\u001b[0m     velN[i] \u001b[38;5;241m=\u001b[39m vel\n\u001b[0;32m     10\u001b[0m     normalN[i] \u001b[38;5;241m=\u001b[39m normal\n\u001b[1;32m---> 11\u001b[0m velp \u001b[38;5;241m=\u001b[39m velN \u001b[38;5;241m-\u001b[39m \u001b[38;5;241m2\u001b[39m\u001b[38;5;241m*\u001b[39mvelN\u001b[38;5;129m@normalN\u001b[39m\u001b[38;5;241m*\u001b[39mnormalN\n\u001b[0;32m     13\u001b[0m Ut \u001b[38;5;241m=\u001b[39m velN \u001b[38;5;241m-\u001b[39m velN\u001b[38;5;129m@normal\u001b[39m\u001b[38;5;241m*\u001b[39mnormal\n\u001b[0;32m     15\u001b[0m tw1 \u001b[38;5;241m=\u001b[39m Ut\u001b[38;5;241m/\u001b[39mnp\u001b[38;5;241m.\u001b[39mlinalg\u001b[38;5;241m.\u001b[39mnorm(Ut)\n",
      "\u001b[1;31mValueError\u001b[0m: matmul: Input operand 1 has a mismatch in its core dimension 0, with gufunc signature (n?,k),(k,m?)->(n?,m?) (size 10 is different from 3)"
     ]
    }
   ],
   "source": [
    "N = 10\n",
    "vel = np.array([1, 0, -2])\n",
    "velN = np.zeros((N, 3))\n",
    "\n",
    "normal = np.array([0.4, 0, 1])\n",
    "normal = normal/np.linalg.norm(normal)\n",
    "normalN = np.zeros((N, 3))\n",
    "for i in range(N):\n",
    "    velN[i] = vel\n",
    "    normalN[i] = normal\n",
    "velp = velN - 2*velN@normalN*normalN\n",
    "\n",
    "Ut = velN - velN@normal*normal\n",
    "\n",
    "tw1 = Ut/np.linalg.norm(Ut)\n",
    "print(tw1)\n",
    "print(np.linalg.norm(tw1))\n",
    "tw2 = np.cross(tw1, normal)\n",
    "\n",
    "print(tw2)"
   ]
  },
  {
   "cell_type": "code",
   "execution_count": 309,
   "metadata": {},
   "outputs": [
    {
     "ename": "ValueError",
     "evalue": "shapes (10,) and (3,) not aligned: 10 (dim 0) != 3 (dim 0)",
     "output_type": "error",
     "traceback": [
      "\u001b[1;31m---------------------------------------------------------------------------\u001b[0m",
      "\u001b[1;31mValueError\u001b[0m                                Traceback (most recent call last)",
      "Cell \u001b[1;32mIn[309], line 5\u001b[0m\n\u001b[0;32m      3\u001b[0m T \u001b[38;5;241m=\u001b[39m \u001b[38;5;241m100\u001b[39m\n\u001b[0;32m      4\u001b[0m N \u001b[38;5;241m=\u001b[39m \u001b[38;5;241m10\u001b[39m\n\u001b[1;32m----> 5\u001b[0m np\u001b[38;5;241m.\u001b[39mdot(np\u001b[38;5;241m.\u001b[39mrandom\u001b[38;5;241m.\u001b[39mrandn(N), tw1)\n",
      "\u001b[1;31mValueError\u001b[0m: shapes (10,) and (3,) not aligned: 10 (dim 0) != 3 (dim 0)"
     ]
    }
   ],
   "source": [
    "kB = 1.380649e-23\n",
    "Al_m = 44.803928e-27\n",
    "T = 100\n",
    "N = 10\n",
    "np.dot(np.random.randn(N), tw1)"
   ]
  },
  {
   "cell_type": "code",
   "execution_count": 306,
   "metadata": {},
   "outputs": [
    {
     "ename": "ValueError",
     "evalue": "operands could not be broadcast together with shapes (10,) (3,) ",
     "output_type": "error",
     "traceback": [
      "\u001b[1;31m---------------------------------------------------------------------------\u001b[0m",
      "\u001b[1;31mValueError\u001b[0m                                Traceback (most recent call last)",
      "Cell \u001b[1;32mIn[306], line 5\u001b[0m\n\u001b[0;32m      3\u001b[0m T \u001b[38;5;241m=\u001b[39m \u001b[38;5;241m100\u001b[39m\n\u001b[0;32m      4\u001b[0m N \u001b[38;5;241m=\u001b[39m \u001b[38;5;241m10\u001b[39m\n\u001b[1;32m----> 5\u001b[0m U \u001b[38;5;241m=\u001b[39m np\u001b[38;5;241m.\u001b[39msqrt(kB\u001b[38;5;241m*\u001b[39mT\u001b[38;5;241m/\u001b[39mAl_m)\u001b[38;5;241m*\u001b[39m(np\u001b[38;5;241m.\u001b[39mrandom\u001b[38;5;241m.\u001b[39mrandn(N)\u001b[38;5;241m*\u001b[39mtw1 \u001b[38;5;241m+\u001b[39m np\u001b[38;5;241m.\u001b[39mrandom\u001b[38;5;241m.\u001b[39mrandn(N)\u001b[38;5;241m*\u001b[39mtw2 \u001b[38;5;241m-\u001b[39m np\u001b[38;5;241m.\u001b[39msqrt(\u001b[38;5;241m-\u001b[39m\u001b[38;5;241m2\u001b[39m\u001b[38;5;241m*\u001b[39mnp\u001b[38;5;241m.\u001b[39mlog((\u001b[38;5;241m1\u001b[39m\u001b[38;5;241m-\u001b[39mnp\u001b[38;5;241m.\u001b[39mrandom\u001b[38;5;241m.\u001b[39mrand(N))))\u001b[38;5;241m*\u001b[39mnormal)\n",
      "\u001b[1;31mValueError\u001b[0m: operands could not be broadcast together with shapes (10,) (3,) "
     ]
    }
   ],
   "source": [
    "kB = 1.380649e-23\n",
    "Al_m = 44.803928e-27\n",
    "T = 100\n",
    "N = 10\n",
    "U = np.sqrt(kB*T/Al_m)*(np.random.randn(N)*tw1 + np.random.randn(N)*tw2 - np.sqrt(-2*np.log((1-np.random.rand(N))))*normal)"
   ]
  },
  {
   "cell_type": "code",
   "execution_count": 305,
   "metadata": {},
   "outputs": [
    {
     "name": "stdout",
     "output_type": "stream",
     "text": [
      "[ -10.85392311  -94.05416338 -391.7431983 ]\n"
     ]
    }
   ],
   "source": [
    "print(U)"
   ]
  },
  {
   "cell_type": "code",
   "execution_count": 296,
   "metadata": {},
   "outputs": [
    {
     "data": {
      "text/plain": [
       "array([-1.92983475, -0.63181178,  0.4142361 , -0.74856157, -1.01294495,\n",
       "       -0.52180346, -0.44314008, -0.05644121,  1.09828999,  0.42828418])"
      ]
     },
     "execution_count": 296,
     "metadata": {},
     "output_type": "execute_result"
    }
   ],
   "source": [
    "np.random.randn(10)"
   ]
  },
  {
   "cell_type": "code",
   "execution_count": 73,
   "metadata": {},
   "outputs": [
    {
     "name": "stdout",
     "output_type": "stream",
     "text": [
      "[-0.92847669  0.         -0.37139068]\n",
      "0.9999999999999999\n",
      "[0. 1. 0.]\n"
     ]
    }
   ],
   "source": [
    "N = 10\n",
    "vel = np.array([-1, 0, -2])\n",
    "\n",
    "\n",
    "normal = np.array([-0.4, 0, 1])\n",
    "normal = normal/np.linalg.norm(normal)\n",
    "normalN = np.zeros((N, 3))\n",
    "\n",
    "velp = vel - 2*vel@normal*normal\n",
    "\n",
    "Ut = vel - vel@normal*normal\n",
    "\n",
    "tw1 = Ut/np.linalg.norm(Ut)\n",
    "print(tw1)\n",
    "print(np.linalg.norm(tw1))\n",
    "tw2 = np.cross(tw1, normal)\n",
    "\n",
    "print(tw2)\n",
    "\n",
    "kB = 1.380649e-23\n",
    "Al_m = 44.803928e-27\n",
    "T = 100\n",
    "N = 10\n",
    "U = np.sqrt(kB*T/Al_m)*(np.random.randn()*tw1 + np.random.randn()*tw2 - np.sqrt(-2*np.log((1-np.random.rand())))*normal)"
   ]
  },
  {
   "cell_type": "code",
   "execution_count": 74,
   "metadata": {},
   "outputs": [
    {
     "name": "stdout",
     "output_type": "stream",
     "text": [
      "[[ 0.42009611  0.51276861 -0.74872398]\n",
      " [ 0.90655071  0.09795881 -0.41057262]\n",
      " [-0.3589007   0.50370205 -0.78579548]\n",
      " [ 0.10382744  0.44009351 -0.89192912]\n",
      " [ 0.07339323 -0.59918126 -0.79724228]\n",
      " [-0.31165199 -0.74938776 -0.58420118]\n",
      " [ 0.86089583 -0.10936691 -0.49688756]\n",
      " [-0.68846388  0.07052226 -0.72183385]\n",
      " [-0.08285499  0.91925966 -0.38483337]\n",
      " [ 0.34077769  0.91879027 -0.19923607]\n",
      " [ 0.36670057 -0.14831184 -0.91844123]\n",
      " [ 0.32395329 -0.79995106 -0.5051065 ]\n",
      " [-0.49728915 -0.33567787 -0.80001492]\n",
      " [-0.81408031 -0.01822639 -0.58046623]\n",
      " [ 0.69791812  0.59998719 -0.39105712]\n",
      " [ 0.07085323 -0.31303684 -0.94709438]\n",
      " [-0.29515464 -0.8171351  -0.49515044]\n",
      " [ 0.23980001 -0.70511956 -0.66730979]\n",
      " [ 0.93351457 -0.14121979 -0.32955654]\n",
      " [ 0.11610953 -0.92421451 -0.36379406]\n",
      " [ 0.0956667   0.952176   -0.29018744]\n",
      " [ 0.06849976  0.94772279 -0.31165575]\n",
      " [ 0.68139322 -0.72722893 -0.08271257]\n",
      " [ 0.54559886  0.18165674 -0.81812146]\n",
      " [-0.18679889  0.57140686 -0.79912475]\n",
      " [ 0.94483191  0.21563085 -0.24656845]\n",
      " [-0.18027595  0.20340417 -0.96235509]\n",
      " [ 0.34318249  0.8119469  -0.47219488]\n",
      " [ 0.71963578 -0.2390706  -0.65189691]\n",
      " [ 0.21582457  0.70337605 -0.67726057]\n",
      " [ 0.62413022  0.16944579 -0.76272511]\n",
      " [-0.2168318  -0.34186398 -0.91439214]\n",
      " [ 0.50143803  0.8124489  -0.29746711]\n",
      " [ 0.86486222  0.4707105  -0.17448484]\n",
      " [ 0.63948032  0.74842016  0.17587549]\n",
      " [-0.2682244  -0.57246315 -0.77481715]\n",
      " [ 0.44501659  0.30392986 -0.8423698 ]\n",
      " [ 0.52182255  0.77386414 -0.35893666]\n",
      " [ 0.74221713 -0.47243948 -0.47530482]\n",
      " [-0.19807427 -0.57466234 -0.79405906]\n",
      " [ 0.9325648  -0.30822522 -0.18793644]\n",
      " [ 0.68669034  0.15109037 -0.7110753 ]\n",
      " [ 0.77371455 -0.21293368 -0.59667834]\n",
      " [ 0.41444296 -0.60847505 -0.67675338]\n",
      " [ 0.23830757  0.39303012 -0.88810857]\n",
      " [ 0.85764456 -0.48185257  0.17962155]\n",
      " [ 0.31102165 -0.36166977 -0.87889732]\n",
      " [ 0.69479568 -0.71905109  0.01498302]\n",
      " [-0.71746361 -0.30499359 -0.62627859]\n",
      " [ 0.22929012  0.31503417 -0.92096662]]\n",
      "[1. 1. 1. 1. 1. 1. 1. 1. 1. 1. 1. 1. 1. 1. 1. 1. 1. 1. 1. 1. 1. 1. 1. 1.\n",
      " 1. 1. 1. 1. 1. 1. 1. 1. 1. 1. 1. 1. 1. 1. 1. 1. 1. 1. 1. 1. 1. 1. 1. 1.\n",
      " 1. 1.]\n"
     ]
    }
   ],
   "source": [
    "N = 50\n",
    "\n",
    "UN = np.zeros((N, 3))\n",
    "for i in range(N):\n",
    "    U = np.sqrt(kB*T/Al_m)*(np.random.randn()*tw1 + np.random.randn()*tw2 - np.sqrt(-2*np.log((1-np.random.rand())))*normal)\n",
    "    UN[i] = U\n",
    "\n",
    "\n",
    "UN = np.divide(UN.T, np.linalg.norm(UN, axis=1)).T\n",
    "print(UN)\n",
    "\n",
    "print(np.linalg.norm(UN, axis=1))"
   ]
  },
  {
   "cell_type": "code",
   "execution_count": null,
   "metadata": {},
   "outputs": [],
   "source": [
    "@jit(nopython=True)\n",
    "def reemission(vel, normal, particleMass):\n",
    "    UN = np.zeros((vel.shape[0], 3))\n",
    "    for i in range(vel.shape[0]):\n",
    "        Ut = vel[i] - vel[i]@normal[i]*normal[i]\n",
    "        tw1 = Ut/np.linalg.norm(Ut)\n",
    "        tw2 = np.cross(tw1, normal)\n",
    "        U = np.sqrt(kB*T/particleMass[i])*(np.random.randn()*tw1 + np.random.randn()*tw2 - np.sqrt(-2*np.log((1-np.random.rand())))*normal)\n",
    "        UN[i] = U\n",
    "    return -UN\n"
   ]
  },
  {
   "cell_type": "code",
   "execution_count": 75,
   "metadata": {},
   "outputs": [
    {
     "name": "stdout",
     "output_type": "stream",
     "text": [
      "[-0.92847669  0.         -0.37139068]\n",
      "0.9999999999999999\n",
      "[[ 0.70542148  0.02099035 -0.7084772 ]\n",
      " [-0.15370104 -0.75754178 -0.63443395]\n",
      " [ 0.63711509 -0.43325715 -0.63747361]\n",
      " [-0.09263928  0.36070465 -0.92806795]\n",
      " [ 0.77620888 -0.62351056 -0.09345778]\n",
      " [ 0.17626045  0.45940123 -0.87056462]\n",
      " [ 0.50153755 -0.16780975 -0.84870488]\n",
      " [ 0.42178224  0.38523645 -0.82078781]\n",
      " [-0.21048511  0.3856953  -0.8982957 ]\n",
      " [ 0.75150877 -0.27487635 -0.59973125]\n",
      " [ 0.8818241   0.38806739 -0.2679365 ]\n",
      " [ 0.95468534 -0.21369822 -0.20714482]\n",
      " [-0.1346893   0.90618085 -0.40086788]\n",
      " [ 0.55551425 -0.68997688 -0.46404292]\n",
      " [ 0.81635274  0.23063207 -0.52950642]\n",
      " [-0.50939435  0.27729317 -0.81463236]\n",
      " [ 0.43959434  0.61667888 -0.65304209]\n",
      " [ 0.19933383 -0.60423722 -0.77146834]\n",
      " [ 0.01234327 -0.06264659 -0.99795944]\n",
      " [-0.01356644 -0.27506546 -0.96132978]\n",
      " [-0.17108861 -0.60926065 -0.77429332]\n",
      " [ 0.99513679  0.05751461  0.07996772]\n",
      " [ 0.62115513 -0.07140189 -0.78042814]\n",
      " [-0.17157808 -0.12853901 -0.97674904]\n",
      " [-0.58169343 -0.56569307 -0.58448619]\n",
      " [ 0.66799321 -0.62537497 -0.40334999]\n",
      " [-0.26308205  0.74343233 -0.61489528]\n",
      " [ 0.66465709  0.26248702 -0.69952235]\n",
      " [ 0.33217078  0.75036633 -0.5715006 ]\n",
      " [ 0.74664156 -0.49923077 -0.43965329]\n",
      " [-0.63874993 -0.05421037 -0.76750228]\n",
      " [ 0.82605009  0.3573249  -0.43584421]\n",
      " [ 0.72909753 -0.4790464  -0.48880603]\n",
      " [ 0.30357768 -0.95057874  0.06512028]\n",
      " [ 0.97939948 -0.04431129 -0.19701056]\n",
      " [ 0.94274457  0.33303685  0.01786453]\n",
      " [ 0.07549957 -0.90388064 -0.4210696 ]\n",
      " [ 0.3090276  -0.59049537 -0.74553147]\n",
      " [ 0.64033706  0.7334591  -0.22804868]\n",
      " [ 0.23670959  0.01095208 -0.97151872]\n",
      " [ 0.24138001  0.88164945 -0.40549961]\n",
      " [ 0.31546822 -0.33058517 -0.88949045]\n",
      " [ 0.47382221 -0.8081829  -0.34976122]\n",
      " [-0.50357784 -0.76967868 -0.39243355]\n",
      " [ 0.94196744  0.06615577  0.32912119]\n",
      " [ 0.09026915  0.20261104 -0.97508987]\n",
      " [ 0.05831346  0.18756604 -0.98051952]\n",
      " [ 0.4053499   0.75116008 -0.52100864]\n",
      " [ 0.84533127  0.51246828 -0.15096789]\n",
      " [ 0.42368795  0.82874573 -0.36560776]\n",
      " [ 0.15041083 -0.49422359 -0.85622405]\n",
      " [ 0.51719235 -0.20931526 -0.82987903]\n",
      " [-0.71630774 -0.03599093 -0.6968557 ]\n",
      " [ 0.3073887   0.34974644 -0.88498001]\n",
      " [ 0.31707384  0.54647654 -0.77513068]\n",
      " [-0.26037573  0.635821   -0.72659213]\n",
      " [ 0.67836828  0.59514565 -0.43083424]\n",
      " [-0.31249274 -0.43681565 -0.84352852]\n",
      " [-0.05156554 -0.04410475 -0.99769523]\n",
      " [ 0.72102166 -0.22403152 -0.6556963 ]\n",
      " [ 0.58976894 -0.45894362 -0.66448728]\n",
      " [ 0.51220165  0.3105426  -0.80075762]\n",
      " [ 0.97753304 -0.16204106  0.13480302]\n",
      " [ 0.24106468  0.691904   -0.68055615]\n",
      " [-0.01828298  0.8991794  -0.43719806]\n",
      " [ 0.53076431 -0.37676237 -0.75917018]\n",
      " [ 0.79795791  0.60262733  0.01017237]\n",
      " [ 0.63842365 -0.11207158 -0.76148224]\n",
      " [-0.18325413  0.30289432 -0.93523952]\n",
      " [ 0.84133565 -0.54048874 -0.0051229 ]\n",
      " [-0.51633677  0.65082073 -0.55662259]\n",
      " [ 0.55515276  0.37962295 -0.74006204]\n",
      " [-0.27900206 -0.44068994 -0.8532    ]\n",
      " [ 0.22513177 -0.94064351 -0.25397928]\n",
      " [-0.19674014  0.57308287 -0.79553086]\n",
      " [ 0.94769547  0.07225644 -0.31088954]\n",
      " [ 0.27721258  0.25694601 -0.9258142 ]\n",
      " [-0.28795974  0.82562948 -0.48519599]\n",
      " [ 0.54535363  0.62430779 -0.55931136]\n",
      " [ 0.14094598 -0.15143373 -0.97836703]\n",
      " [ 0.81167934  0.21968831 -0.54121502]\n",
      " [-0.31027889 -0.57581548 -0.75641493]\n",
      " [ 0.77540723  0.51877656 -0.36002016]\n",
      " [ 0.76859613  0.62018234 -0.15695175]\n",
      " [ 0.11499685  0.21302741 -0.97025514]\n",
      " [ 0.16527391  0.83379395 -0.52675628]\n",
      " [-0.23580253  0.33125745 -0.91360039]\n",
      " [-0.27045256  0.93160668 -0.24282588]\n",
      " [ 0.46574282 -0.09481833 -0.87982561]\n",
      " [ 0.64715584  0.75325492 -0.11745786]\n",
      " [ 0.06599625 -0.22468999 -0.97219283]\n",
      " [ 0.50081919  0.64543146 -0.57671342]\n",
      " [-0.72389088  0.1543189  -0.67243414]\n",
      " [-0.2526073  -0.37044873 -0.89384411]\n",
      " [ 0.33227533 -0.83977734 -0.42937993]\n",
      " [ 0.88922926  0.27043466 -0.36896668]\n",
      " [ 0.27458209  0.82936723 -0.48657443]\n",
      " [ 0.86089879 -0.50876603  0.00322323]\n",
      " [ 0.70258976  0.13795212 -0.69809515]\n",
      " [ 0.58226021 -0.51262601 -0.6310211 ]]\n"
     ]
    }
   ],
   "source": [
    "N = 100\n",
    "kB = 1.38e-23  # Boltzmann constant in J/K\n",
    "T = 300  # Temperature in K\n",
    "Al_m = 26.98e-3 / 6.022e23  # Mass of aluminum atom in kg\n",
    "\n",
    "vel = np.array([-1, 0, -2])\n",
    "\n",
    "normal = np.array([-0.4, 0, 1])\n",
    "normal = normal / np.linalg.norm(normal)\n",
    "\n",
    "velp = vel - 2 * vel @ normal * normal\n",
    "\n",
    "Ut = vel - vel @ normal * normal\n",
    "\n",
    "tw1 = Ut / np.linalg.norm(Ut)\n",
    "print(tw1)\n",
    "print(np.linalg.norm(tw1))\n",
    "tw2 = np.cross(tw1, normal)\n",
    "\n",
    "# 向量化随机数生成\n",
    "randn_tw1 = np.random.randn(N)[:, np.newaxis]\n",
    "randn_tw2 = np.random.randn(N)[:, np.newaxis]\n",
    "rand_log = np.sqrt(-2 * np.log(1 - np.random.rand(N)))[:, np.newaxis]\n",
    "\n",
    "# 计算U\n",
    "U = np.sqrt(kB * T / Al_m) * (randn_tw1 * tw1 + randn_tw2 * tw2 - rand_log * normal)\n",
    "\n",
    "# 归一化U\n",
    "UN = U / np.linalg.norm(U, axis=1)[:, np.newaxis]\n",
    "\n",
    "print(UN)\n"
   ]
  },
  {
   "cell_type": "code",
   "execution_count": 89,
   "metadata": {},
   "outputs": [],
   "source": [
    "@jit(nopython=True)\n",
    "def reemission(vel, normal):\n",
    "    mass = 27 * 1.66e-27\n",
    "    UN = np.zeros((vel.shape[0], 3))\n",
    "    \n",
    "    for i in range(vel.shape[0]):\n",
    "        # 计算 Ut\n",
    "        dot_product = vel[i, 0] * normal[i, 0] + vel[i, 1] * normal[i, 1] + vel[i, 2] * normal[i, 2]\n",
    "        Ut = vel[i] - dot_product * normal[i]\n",
    "        \n",
    "        # 手动计算 Ut 的范数\n",
    "        norm_Ut = np.sqrt(Ut[0]**2 + Ut[1]**2 + Ut[2]**2)\n",
    "        \n",
    "        # 计算 tw1 和 tw2\n",
    "        tw1 = Ut / norm_Ut\n",
    "        tw2 = np.cross(tw1, normal[i])\n",
    "        \n",
    "        # 计算新的速度向量 U\n",
    "        U = np.sqrt(kB * T / mass) * (np.random.randn() * tw1 + np.random.randn() * tw2 - np.sqrt(-2 * np.log(1 - np.random.rand())) * normal[i])\n",
    "        \n",
    "        # 归一化后的 U\n",
    "        UN[i] = U / np.sqrt(U[0]**2 + U[1]**2 + U[2]**2)\n",
    "        \n",
    "    return -UN\n",
    "\n",
    "\n",
    "\n",
    "vel = np.array([-1, 0, -2])\n",
    "\n",
    "normal = np.array([-0.4, 0, 1])\n",
    "normal = normal / np.linalg.norm(normal)\n",
    "\n",
    "vel_matrix = np.zeros((N, 3))\n",
    "vel_matrix[:] = vel\n",
    "normal_matrix = np.zeros((N, 3))\n",
    "normal_matrix[:] = normal\n",
    "\n",
    "UN = reemission(vel_matrix, normal_matrix)"
   ]
  },
  {
   "cell_type": "code",
   "execution_count": 90,
   "metadata": {},
   "outputs": [
    {
     "data": {
      "image/png": "[encoded data removed]",
      "text/plain": [
       "<Figure size 640x480 with 1 Axes>"
      ]
     },
     "metadata": {},
     "output_type": "display_data"
    }
   ],
   "source": [
    "ax = plt.figure().add_subplot(projection='3d')\n",
    "\n",
    "# Make the grid\n",
    "origin = np.zeros((N, 3))\n",
    "# Make the direction data for the arrows\n",
    "\n",
    "\n",
    "ax.quiver(origin[:, 0], origin[:, 1], origin[:, 2], -UN[:, 0], -UN[:,1], -UN[:,2], color='black')\n",
    "ax.set_xlim(-1, 1)\n",
    "ax.set_ylim(-1, 1)\n",
    "ax.set_zlim(-1, 1)\n",
    "ax.set_xlabel('x')\n",
    "ax.set_ylabel('y')\n",
    "ax.set_zlabel('z')\n",
    "ax.view_init(elev=0, azim=90, roll=0)\n",
    "plt.show()"
   ]
  },
  {
   "cell_type": "code",
   "execution_count": 91,
   "metadata": {},
   "outputs": [
    {
     "data": {
      "image/png": "[encoded data removed]",
      "text/plain": [
       "<Figure size 640x480 with 1 Axes>"
      ]
     },
     "metadata": {},
     "output_type": "display_data"
    }
   ],
   "source": [
    "ax = plt.figure().add_subplot(projection='3d')\n",
    "\n",
    "# Make the grid\n",
    "origin = np.zeros((N, 3))\n",
    "# Make the direction data for the arrows\n",
    "\n",
    "\n",
    "ax.quiver(origin[:, 0], origin[:, 1], origin[:, 2], -UN[:, 0], -UN[:,1], -UN[:,2], color='black')\n",
    "ax.set_xlim(-1, 1)\n",
    "ax.set_ylim(-1, 1)\n",
    "ax.set_zlim(-1, 1)\n",
    "ax.set_xlabel('x')\n",
    "ax.set_ylabel('y')\n",
    "ax.set_zlabel('z')\n",
    "ax.view_init(elev=90, azim=90, roll=0)\n",
    "plt.show()"
   ]
  },
  {
   "cell_type": "code",
   "execution_count": 365,
   "metadata": {},
   "outputs": [
    {
     "data": {
      "image/png": "[encoded data removed]",
      "text/plain": [
       "<Figure size 640x480 with 1 Axes>"
      ]
     },
     "metadata": {},
     "output_type": "display_data"
    }
   ],
   "source": [
    "ax = plt.figure().add_subplot(projection='3d')\n",
    "\n",
    "# Make the grid\n",
    "origin = np.zeros(3)\n",
    "# Make the direction data for the arrows\n",
    "\n",
    "ax.quiver(-vel[0],       -vel[1],    -vel[2], vel[0],       vel[1],    vel[2], color='red')\n",
    "ax.quiver(origin[0], origin[1], origin[2], normal[0], normal[1], normal[2], color='blue')\n",
    "ax.quiver(origin[0], origin[1], origin[2], velp[0], velp[1], velp[2], color='black')\n",
    "ax.quiver(origin[0], origin[1], origin[2], tw1[0], tw1[1], tw1[2], color='green')\n",
    "ax.quiver(origin[0], origin[1], origin[2], tw2[0], tw2[1], tw2[2], color='cyan')\n",
    "ax.set_xlim(-2, 2)\n",
    "ax.set_ylim(-2, 2)\n",
    "ax.set_zlim(-2, 2)\n",
    "ax.set_xlabel('x')\n",
    "ax.set_ylabel('y')\n",
    "ax.set_zlabel('z')\n",
    "ax.view_init(elev=0, azim=90, roll=0)\n",
    "plt.show()"
   ]
  },
  {
   "cell_type": "code",
   "execution_count": null,
   "metadata": {},
   "outputs": [],
   "source": []
  }
 ],
 "metadata": {
  "kernelspec": {
   "display_name": "Python 3",
   "language": "python",
   "name": "python3"
  },
  "language_info": {
   "codemirror_mode": {
    "name": "ipython",
    "version": 3
   },
   "file_extension": ".py",
   "mimetype": "text/x-python",
   "name": "python",
   "nbconvert_exporter": "python",
   "pygments_lexer": "ipython3",
   "version": "3.11.7"
  }
 },
 "nbformat": 4,
 "nbformat_minor": 2
}

{
 "cells": [
  {
   "cell_type": "code",
   "execution_count": 1,
   "metadata": {},
   "outputs": [],
   "source": [
    "from numba import jit\n",
    "import numpy as np\n",
    "import time\n",
    "import timeit"
   ]
  },
  {
   "cell_type": "code",
   "execution_count": 29,
   "metadata": {},
   "outputs": [
    {
     "name": "stdout",
     "output_type": "stream",
     "text": [
      "Original time: 7.910119 seconds\n"
     ]
    },
    {
     "name": "stderr",
     "output_type": "stream",
     "text": [
      "C:\\Users\\URCS049\\AppData\\Local\\Temp\\ipykernel_25320\\582554447.py:19: RuntimeWarning: overflow encountered in scalar power\n",
      "  result[i, j] = data[i, j] ** 2 + data[i, j] ** 0.5\n"
     ]
    },
    {
     "name": "stdout",
     "output_type": "stream",
     "text": [
      "Numba time: 8.217910 seconds\n"
     ]
    }
   ],
   "source": [
    "class CalculatorOriginal:\n",
    "    def __init__(self, data):\n",
    "        self.data = data\n",
    "\n",
    "    def complex_calculation(self):\n",
    "        result = np.zeros_like(self.data)\n",
    "        for i in range(self.data.shape[0]):\n",
    "            for j in range(self.data.shape[1]):\n",
    "                result[i, j] = self.data[i, j] ** 2 + self.data[i, j] ** 0.5\n",
    "        self.data = result\n",
    "\n",
    "# -----------------------------------------\n",
    "\n",
    "# @jit(nopython=True)\n",
    "def accelerated_calculation(data):\n",
    "    result = np.zeros_like(data)\n",
    "    for i in range(data.shape[0]):\n",
    "        for j in range(data.shape[1]):\n",
    "            result[i, j] = data[i, j] ** 2 + data[i, j] ** 0.5\n",
    "    return result\n",
    "\n",
    "\n",
    "class CalculatorNumba:\n",
    "    def __init__(self, data):\n",
    "        self.data = data\n",
    "\n",
    "    def complex_calculation(self):\n",
    "        self.data = accelerated_calculation(self.data)\n",
    "\n",
    "# ------------------------------------------\n",
    "\n",
    "if __name__ == \"__main__\":\n",
    "    data = np.random.rand(1000, 1000)\n",
    "    \n",
    "    # 测试原始计算的时间\n",
    "    calc_original = CalculatorOriginal(data)\n",
    "    original_time = timeit.timeit(lambda: calc_original.complex_calculation(), number=10)\n",
    "    print(f\"Original time: {original_time:.6f} seconds\")\n",
    "\n",
    "    # 测试使用 Numba 加速后的计算时间\n",
    "    calc_numba = CalculatorNumba(data)\n",
    "    # 预编译 JIT 函数\n",
    "    calc_numba.complex_calculation()\n",
    "    numba_time = timeit.timeit(lambda: calc_numba.complex_calculation(), number=10)\n",
    "    print(f\"Numba time: {numba_time:.6f} seconds\")\n"
   ]
  },
  {
   "cell_type": "code",
   "execution_count": 22,
   "metadata": {},
   "outputs": [
    {
     "name": "stdout",
     "output_type": "stream",
     "text": [
      "[[0.49600595 0.93845428 0.67427997 ... 0.92974211 0.77377456 0.59132995]\n",
      " [0.73673203 0.45491564 0.90079759 ... 0.48826791 0.38112829 0.08280017]\n",
      " [0.35565839 0.36445795 0.32208784 ... 0.24490739 0.48128493 0.40338843]\n",
      " ...\n",
      " [0.78058735 0.83822773 0.95321117 ... 0.10289345 0.46654866 0.43741672]\n",
      " [0.02174867 0.06566292 0.47144549 ... 0.18416633 0.51289828 0.00516904]\n",
      " [0.1974296  0.41479221 0.83625938 ... 0.47119455 0.99842886 0.47629849]]\n",
      "[[0.95029879 1.84943493 1.27579899 ... 1.82865174 1.47837164 1.11865092]\n",
      " [1.40110505 0.88142258 1.76053987 ... 0.93716725 0.76261465 0.29460605]\n",
      " [0.72286391 0.73653313 0.67126841 ... 0.55486082 0.92538221 0.79785089]\n",
      " ...\n",
      " [1.49282516 1.6181735  1.88493686 ... 0.33135716 0.90071132 0.85270825]\n",
      " [0.14794729 0.26055938 0.90887972 ... 0.46306328 0.97923382 0.07192276]\n",
      " [0.48330896 0.81609622 1.61380194 ... 0.90846043 1.99607431 0.91700406]]\n"
     ]
    }
   ],
   "source": [
    "class CalculatorOriginal:\n",
    "    def __init__(self, data):\n",
    "        self.data = data\n",
    "\n",
    "    def complex_calculation(self):\n",
    "        result = np.zeros_like(self.data)\n",
    "        for i in range(self.data.shape[0]):\n",
    "            for j in range(self.data.shape[1]):\n",
    "                result[i, j] = self.data[i, j] ** 2 + self.data[i, j] ** 0.5\n",
    "        self.data = result\n",
    "    \n",
    "data = np.random.rand(1000, 1000)\n",
    "print(data)\n",
    "calc_test = CalculatorOriginal(data)\n",
    "\n",
    "calc_test.complex_calculation()\n",
    "\n",
    "print(calc_test.data)"
   ]
  },
  {
   "cell_type": "code",
   "execution_count": 28,
   "metadata": {},
   "outputs": [
    {
     "name": "stdout",
     "output_type": "stream",
     "text": [
      "[[0.3481128  0.22401601 0.89867827 ... 0.06410288 0.80008317 0.39460969]\n",
      " [0.20401002 0.94399547 0.64140701 ... 0.33866375 0.1658476  0.37811758]\n",
      " [0.42334751 0.98716634 0.60013323 ... 0.61540784 0.39354528 0.78173449]\n",
      " ...\n",
      " [0.63614205 0.05211516 0.91310775 ... 0.51643384 0.72436372 0.98040531]\n",
      " [0.2765018  0.55115241 0.45819389 ... 0.85824487 0.4893406  0.03324239]\n",
      " [0.99200591 0.3397119  0.10288137 ... 0.59271878 0.25298864 0.83874021]]\n",
      "[[0.71119337 0.52348647 1.75560905 ... 0.25729465 1.53460677 0.78389647]\n",
      " [0.49329477 1.86272174 1.21228185 ... 0.69664137 0.43474933 0.75788557]\n",
      " [0.82987473 1.96805983 1.13484256 ... 1.16320616 0.78220976 1.49526631]\n",
      " ...\n",
      " [1.20226185 0.23100344 1.78933247 ... 0.98533723 1.3757984  1.95134876]\n",
      " [0.60228763 1.04616538 0.88684185 ... 1.66299933 0.93898307 0.18343002]\n",
      " [1.98007067 0.69825227 0.33133584 ... 1.12119787 0.56698302 1.61931274]]\n"
     ]
    }
   ],
   "source": [
    "# @jit(nopython=True)\n",
    "def accelerated_calculation(data):\n",
    "    result = np.zeros_like(data)\n",
    "    for i in range(data.shape[0]):\n",
    "        for j in range(data.shape[1]):\n",
    "            result[i, j] = data[i, j] ** 2 + data[i, j] ** 0.5\n",
    "    return result\n",
    "\n",
    "\n",
    "class CalculatorNumba:\n",
    "    def __init__(self, data):\n",
    "        self.data = data\n",
    "\n",
    "    def complex_calculation(self):\n",
    "        self.data = accelerated_calculation(self.data)\n",
    "    \n",
    "\n",
    "data = np.random.rand(1000, 1000)\n",
    "print(data)\n",
    "calc_numba = CalculatorNumba(data)\n",
    "calc_numba.complex_calculation()\n",
    "print(calc_numba.data)\n"
   ]
  },
  {
   "cell_type": "code",
   "execution_count": 16,
   "metadata": {},
   "outputs": [
    {
     "name": "stdout",
     "output_type": "stream",
     "text": [
      "[[0.35108772 1.0358058  0.50899431 ... 0.03080953 0.75513784 0.67405761]\n",
      " [0.83468077 0.39748036 1.09309834 ... 0.30329604 0.24848152 0.90484444]\n",
      " [0.3996413  0.64402225 0.27637836 ... 0.32156606 1.68078456 0.70090865]\n",
      " ...\n",
      " [1.72321202 0.299277   1.18207055 ... 1.55479121 0.25904014 1.02581539]\n",
      " [1.33791085 0.83892304 1.56279648 ... 0.39879325 0.64645942 0.23097269]\n",
      " [1.94571996 0.30554907 0.88471321 ... 0.5859012  1.78947215 1.21880108]]\n"
     ]
    }
   ],
   "source": [
    "@jit(nopython=True)\n",
    "def accelerated_calculation(data):\n",
    "    result = np.zeros_like(data)\n",
    "    for i in range(data.shape[0]):\n",
    "        for j in range(data.shape[1]):\n",
    "            result[i, j] = data[i, j] ** 2 + data[i, j] ** 0.5\n",
    "    return result\n",
    "\n",
    "class Calculator:\n",
    "    def __init__(self, data):\n",
    "        self.data = data\n",
    "\n",
    "    def complex_calculation(self):\n",
    "        return accelerated_calculation(self.data)\n",
    "\n",
    "if __name__ == \"__main__\":\n",
    "    data = np.random.rand(1000, 1000)\n",
    "    calc = Calculator(data)\n",
    "    result = calc.complex_calculation()\n",
    "    print(result)\n"
   ]
  },
  {
   "cell_type": "code",
   "execution_count": 30,
   "metadata": {},
   "outputs": [
    {
     "name": "stdout",
     "output_type": "stream",
     "text": [
      "(3, 10, 2)\n"
     ]
    }
   ],
   "source": [
    "react_table = np.array([[[0.01,2], [0.01,3], [0.01,4], [0.01,-4], [0.05,7], [0.00,0], [0.05,8], [0.00,0],[0.06,10],[0.00,0]],\n",
    "                        [[0.05,5], [0.00,0], [0.00,0], [0.00, 0], [0.05,6], [0.00,0], [0.00,0], [0.00,0], [0.00,0],[0.00,0]],\n",
    "                        [[0.27,-1], [0.27,-2], [0.27,-3], [0.27,-4], [0.27,-5], [0.27,-6], [0.27,-7], [0.27,-8], [0.27,-9], [0.27,-10]]])\n",
    "\n",
    "print(react_table.shape)"
   ]
  },
  {
   "cell_type": "code",
   "execution_count": 31,
   "metadata": {},
   "outputs": [
    {
     "name": "stdout",
     "output_type": "stream",
     "text": [
      "3\n"
     ]
    }
   ],
   "source": [
    "print(np.random.choice(5))"
   ]
  },
  {
   "cell_type": "code",
   "execution_count": 37,
   "metadata": {},
   "outputs": [],
   "source": [
    "react_table = np.array([[[0.01,2], [0.01,3], [0.01,4], [0.01,-4], [0.05,7], [0.00,0], [0.05,8], [0.00,0],[0.06,10],[0.00,0]],\n",
    "                        [[0.05,5], [0.00,0], [0.00,0], [0.00, 0], [0.05,6], [0.00,0], [0.00,0], [0.00,0], [0.00,0],[0.00,0]],\n",
    "                        [[0.27,-1], [0.27,-2], [0.27,-3], [0.27,-4], [0.27,-5], [0.27,-6], [0.27,-7], [0.27,-8], [0.27,-9], [0.27,-10]]])\n",
    "\n",
    "\n",
    "@jit(nopython=True)\n",
    "def reaction(parcel, film):\n",
    "    # parcel(x, y, z, vel, cell, id) , film[in, filmType]\n",
    "    choice = np.random.rand((parcel.shape[0], react_table.shape[1]))\n",
    "    parcelGen = np.zeros(parcel.shape[0])\n",
    "    for i in range(parcel.shape[0]):\n",
    "        acceptList = np.zeros(react_table.shape[1])\n",
    "        for j in range(film.shape[1]):\n",
    "            react_rate = react_table[parcel[i], film[i, j], 0]\n",
    "            if react_rate > choice[i, j]:\n",
    "                acceptList[j] = True\n",
    "            else:\n",
    "                acceptList[j] = False\n",
    "            react_choice = np.random.choice(np.sum(acceptList))\n",
    "            film[i, react_choice] -= 0.01\n",
    "            react_gen = react_table[parcel[i, -1], react_choice, 1]\n",
    "            if react_gen > 0:\n",
    "                film[i, react_gen] += 0.01\n",
    "            else:\n",
    "                parcelGen[i] = -react_gen\n",
    "    return film, parcelGen\n",
    "\n"
   ]
  },
  {
   "cell_type": "code",
   "execution_count": 38,
   "metadata": {},
   "outputs": [],
   "source": [
    "class unitTest:\n",
    "    def __init__(self, parcel, film):\n",
    "        self.parcel = parcel\n",
    "        self.film = film\n",
    "    \n",
    "    def testReact(self):\n",
    "        return reaction(self.parcel, self.film)\n",
    "    \n"
   ]
  },
  {
   "cell_type": "code",
   "execution_count": 40,
   "metadata": {},
   "outputs": [
    {
     "name": "stdout",
     "output_type": "stream",
     "text": [
      "(3, 10, 2)\n"
     ]
    }
   ],
   "source": [
    "print(react_table.shape)"
   ]
  },
  {
   "cell_type": "code",
   "execution_count": 41,
   "metadata": {},
   "outputs": [
    {
     "name": "stdout",
     "output_type": "stream",
     "text": [
      "[1 0 0 0 2 1 2 2 0 1]\n"
     ]
    }
   ],
   "source": [
    "film = np.zeros((10, 10))\n",
    "parcel = np.random.choice(3, size=10)\n",
    "print(parcel)"
   ]
  },
  {
   "cell_type": "code",
   "execution_count": 43,
   "metadata": {},
   "outputs": [
    {
     "ename": "TypingError",
     "evalue": "Failed in nopython mode pipeline (step: nopython frontend)\n\u001b[1m\u001b[1m\u001b[1mNo implementation of function Function(<built-in method rand of numpy.random.mtrand.RandomState object at 0x00000242FF8CAC40>) found for signature:\n \n >>> rand(UniTuple(int64 x 2))\n \nThere are 2 candidate implementations:\n\u001b[1m  - Of which 2 did not match due to:\n  Overload in function 'rand': File: numba\\cpython\\randomimpl.py: Line 1882.\n    With argument(s): '(UniTuple(int64 x 2))':\u001b[0m\n\u001b[1m   Rejected as the implementation raised a specific error:\n     TypingError: Failed in nopython mode pipeline (step: nopython frontend)\n   \u001b[1m\u001b[1m\u001b[1mNo implementation of function Function(<built-in method random of numpy.random.mtrand.RandomState object at 0x00000242FF8CAC40>) found for signature:\n    \n    >>> random(StarArgUniTuple(UniTuple(int64 x 2) x 1))\n    \n   There are 4 candidate implementations:\n   \u001b[1m      - Of which 2 did not match due to:\n         Overload in function 'random_impl0': File: numba\\cpython\\randomimpl.py: Line 241.\n           With argument(s): '(StarArgUniTuple(UniTuple(int64 x 2) x 1))':\u001b[0m\n   \u001b[1m       Rejected as the implementation raised a specific error:\n            TypingError: \u001b[1mtoo many positional arguments\u001b[0m\u001b[0m\n     raised from l:\\program\\Lib\\site-packages\\numba\\core\\typing\\templates.py:784\n   \u001b[1m      - Of which 2 did not match due to:\n         Overload of function 'random': File: numba\\cpython\\randomimpl.py: Line 255.\n           With argument(s): '(StarArgUniTuple(UniTuple(int64 x 2) x 1))':\u001b[0m\n   \u001b[1m       No match.\u001b[0m\n   \u001b[0m\n   \u001b[0m\u001b[1mDuring: resolving callee type: Function(<built-in method random of numpy.random.mtrand.RandomState object at 0x00000242FF8CAC40>)\u001b[0m\n   \u001b[0m\u001b[1mDuring: typing of call at l:\\program\\Lib\\site-packages\\numba\\cpython\\randomimpl.py (1892)\n   \u001b[0m\n   \u001b[1m\n   File \"..\\..\\program\\Lib\\site-packages\\numba\\cpython\\randomimpl.py\", line 1892:\u001b[0m\n   \u001b[1m        def rand_impl(*size):\n   \u001b[1m            return np.random.random(size)\n   \u001b[0m            \u001b[1m^\u001b[0m\u001b[0m\n\u001b[0m\n  raised from l:\\program\\Lib\\site-packages\\numba\\core\\typeinfer.py:1091\n\u001b[0m\n\u001b[0m\u001b[1mDuring: resolving callee type: Function(<built-in method rand of numpy.random.mtrand.RandomState object at 0x00000242FF8CAC40>)\u001b[0m\n\u001b[0m\u001b[1mDuring: typing of call at C:\\Users\\URCS049\\AppData\\Local\\Temp\\ipykernel_25320\\219837210.py (9)\n\u001b[0m\n\u001b[1m\nFile \"C:\\Users\\URCS049\\AppData\\Local\\Temp\\ipykernel_25320\\219837210.py\", line 9:\u001b[0m\n\u001b[1mdef reaction(parcel, film):\n    <source elided>\n    # parcel(x, y, z, vel, cell, id) , film[in, filmType]\n\u001b[1m    choice = np.random.rand((parcel.shape[0], react_table.shape[1]))\n\u001b[0m    \u001b[1m^\u001b[0m\u001b[0m\n",
     "output_type": "error",
     "traceback": [
      "\u001b[1;31m---------------------------------------------------------------------------\u001b[0m",
      "\u001b[1;31mTypingError\u001b[0m                               Traceback (most recent call last)",
      "Cell \u001b[1;32mIn[43], line 3\u001b[0m\n\u001b[0;32m      1\u001b[0m test1 \u001b[38;5;241m=\u001b[39m unitTest(parcel, film)\n\u001b[1;32m----> 3\u001b[0m \u001b[38;5;28mprint\u001b[39m(test1\u001b[38;5;241m.\u001b[39mtestReact())\n",
      "Cell \u001b[1;32mIn[38], line 7\u001b[0m, in \u001b[0;36munitTest.testReact\u001b[1;34m(self)\u001b[0m\n\u001b[0;32m      6\u001b[0m \u001b[38;5;28;01mdef\u001b[39;00m \u001b[38;5;21mtestReact\u001b[39m(\u001b[38;5;28mself\u001b[39m):\n\u001b[1;32m----> 7\u001b[0m     \u001b[38;5;28;01mreturn\u001b[39;00m reaction(\u001b[38;5;28mself\u001b[39m\u001b[38;5;241m.\u001b[39mparcel, \u001b[38;5;28mself\u001b[39m\u001b[38;5;241m.\u001b[39mfilm)\n",
      "File \u001b[1;32ml:\\program\\Lib\\site-packages\\numba\\core\\dispatcher.py:468\u001b[0m, in \u001b[0;36m_DispatcherBase._compile_for_args\u001b[1;34m(self, *args, **kws)\u001b[0m\n\u001b[0;32m    464\u001b[0m         msg \u001b[38;5;241m=\u001b[39m (\u001b[38;5;124mf\u001b[39m\u001b[38;5;124m\"\u001b[39m\u001b[38;5;132;01m{\u001b[39;00m\u001b[38;5;28mstr\u001b[39m(e)\u001b[38;5;241m.\u001b[39mrstrip()\u001b[38;5;132;01m}\u001b[39;00m\u001b[38;5;124m \u001b[39m\u001b[38;5;130;01m\\n\u001b[39;00m\u001b[38;5;130;01m\\n\u001b[39;00m\u001b[38;5;124mThis error may have been caused \u001b[39m\u001b[38;5;124m\"\u001b[39m\n\u001b[0;32m    465\u001b[0m                \u001b[38;5;124mf\u001b[39m\u001b[38;5;124m\"\u001b[39m\u001b[38;5;124mby the following argument(s):\u001b[39m\u001b[38;5;130;01m\\n\u001b[39;00m\u001b[38;5;132;01m{\u001b[39;00margs_str\u001b[38;5;132;01m}\u001b[39;00m\u001b[38;5;130;01m\\n\u001b[39;00m\u001b[38;5;124m\"\u001b[39m)\n\u001b[0;32m    466\u001b[0m         e\u001b[38;5;241m.\u001b[39mpatch_message(msg)\n\u001b[1;32m--> 468\u001b[0m     error_rewrite(e, \u001b[38;5;124m'\u001b[39m\u001b[38;5;124mtyping\u001b[39m\u001b[38;5;124m'\u001b[39m)\n\u001b[0;32m    469\u001b[0m \u001b[38;5;28;01mexcept\u001b[39;00m errors\u001b[38;5;241m.\u001b[39mUnsupportedError \u001b[38;5;28;01mas\u001b[39;00m e:\n\u001b[0;32m    470\u001b[0m     \u001b[38;5;66;03m# Something unsupported is present in the user code, add help info\u001b[39;00m\n\u001b[0;32m    471\u001b[0m     error_rewrite(e, \u001b[38;5;124m'\u001b[39m\u001b[38;5;124munsupported_error\u001b[39m\u001b[38;5;124m'\u001b[39m)\n",
      "File \u001b[1;32ml:\\program\\Lib\\site-packages\\numba\\core\\dispatcher.py:409\u001b[0m, in \u001b[0;36m_DispatcherBase._compile_for_args.<locals>.error_rewrite\u001b[1;34m(e, issue_type)\u001b[0m\n\u001b[0;32m    407\u001b[0m     \u001b[38;5;28;01mraise\u001b[39;00m e\n\u001b[0;32m    408\u001b[0m \u001b[38;5;28;01melse\u001b[39;00m:\n\u001b[1;32m--> 409\u001b[0m     \u001b[38;5;28;01mraise\u001b[39;00m e\u001b[38;5;241m.\u001b[39mwith_traceback(\u001b[38;5;28;01mNone\u001b[39;00m)\n",
      "\u001b[1;31mTypingError\u001b[0m: Failed in nopython mode pipeline (step: nopython frontend)\n\u001b[1m\u001b[1m\u001b[1mNo implementation of function Function(<built-in method rand of numpy.random.mtrand.RandomState object at 0x00000242FF8CAC40>) found for signature:\n \n >>> rand(UniTuple(int64 x 2))\n \nThere are 2 candidate implementations:\n\u001b[1m  - Of which 2 did not match due to:\n  Overload in function 'rand': File: numba\\cpython\\randomimpl.py: Line 1882.\n    With argument(s): '(UniTuple(int64 x 2))':\u001b[0m\n\u001b[1m   Rejected as the implementation raised a specific error:\n     TypingError: Failed in nopython mode pipeline (step: nopython frontend)\n   \u001b[1m\u001b[1m\u001b[1mNo implementation of function Function(<built-in method random of numpy.random.mtrand.RandomState object at 0x00000242FF8CAC40>) found for signature:\n    \n    >>> random(StarArgUniTuple(UniTuple(int64 x 2) x 1))\n    \n   There are 4 candidate implementations:\n   \u001b[1m      - Of which 2 did not match due to:\n         Overload in function 'random_impl0': File: numba\\cpython\\randomimpl.py: Line 241.\n           With argument(s): '(StarArgUniTuple(UniTuple(int64 x 2) x 1))':\u001b[0m\n   \u001b[1m       Rejected as the implementation raised a specific error:\n            TypingError: \u001b[1mtoo many positional arguments\u001b[0m\u001b[0m\n     raised from l:\\program\\Lib\\site-packages\\numba\\core\\typing\\templates.py:784\n   \u001b[1m      - Of which 2 did not match due to:\n         Overload of function 'random': File: numba\\cpython\\randomimpl.py: Line 255.\n           With argument(s): '(StarArgUniTuple(UniTuple(int64 x 2) x 1))':\u001b[0m\n   \u001b[1m       No match.\u001b[0m\n   \u001b[0m\n   \u001b[0m\u001b[1mDuring: resolving callee type: Function(<built-in method random of numpy.random.mtrand.RandomState object at 0x00000242FF8CAC40>)\u001b[0m\n   \u001b[0m\u001b[1mDuring: typing of call at l:\\program\\Lib\\site-packages\\numba\\cpython\\randomimpl.py (1892)\n   \u001b[0m\n   \u001b[1m\n   File \"..\\..\\program\\Lib\\site-packages\\numba\\cpython\\randomimpl.py\", line 1892:\u001b[0m\n   \u001b[1m        def rand_impl(*size):\n   \u001b[1m            return np.random.random(size)\n   \u001b[0m            \u001b[1m^\u001b[0m\u001b[0m\n\u001b[0m\n  raised from l:\\program\\Lib\\site-packages\\numba\\core\\typeinfer.py:1091\n\u001b[0m\n\u001b[0m\u001b[1mDuring: resolving callee type: Function(<built-in method rand of numpy.random.mtrand.RandomState object at 0x00000242FF8CAC40>)\u001b[0m\n\u001b[0m\u001b[1mDuring: typing of call at C:\\Users\\URCS049\\AppData\\Local\\Temp\\ipykernel_25320\\219837210.py (9)\n\u001b[0m\n\u001b[1m\nFile \"C:\\Users\\URCS049\\AppData\\Local\\Temp\\ipykernel_25320\\219837210.py\", line 9:\u001b[0m\n\u001b[1mdef reaction(parcel, film):\n    <source elided>\n    # parcel(x, y, z, vel, cell, id) , film[in, filmType]\n\u001b[1m    choice = np.random.rand((parcel.shape[0], react_table.shape[1]))\n\u001b[0m    \u001b[1m^\u001b[0m\u001b[0m\n"
     ]
    }
   ],
   "source": [
    "test1 = unitTest(parcel, film)\n",
    "\n",
    "print(test1.testReact())"
   ]
  },
  {
   "cell_type": "code",
   "execution_count": 52,
   "metadata": {},
   "outputs": [
    {
     "name": "stdout",
     "output_type": "stream",
     "text": [
      "0.0\n"
     ]
    }
   ],
   "source": [
    "react_table = np.array([[[0.01,2], [0.01,3], [0.01,4], [0.01,-4], [0.05,7], [0.00,0], [0.05,8], [0.00,0],[0.06,10],[0.00,0]],\n",
    "                        [[0.05,5], [0.00,0], [0.00,0], [0.00, 0], [0.05,6], [0.00,0], [0.00,0], [0.00,0], [0.00,0],[0.00,0]],\n",
    "                        [[0.27,-1], [0.27,-2], [0.27,-3], [0.27,-4], [0.27,-5], [0.27,-6], [0.27,-7], [0.27,-8], [0.27,-9], [0.27,-10]]])\n",
    "\n",
    "\n",
    "print(react_table[1, 5, 1])"
   ]
  },
  {
   "cell_type": "code",
   "execution_count": 54,
   "metadata": {},
   "outputs": [
    {
     "name": "stdout",
     "output_type": "stream",
     "text": [
      "0.0\n"
     ]
    }
   ],
   "source": [
    "film = np.zeros((10, 10))\n",
    "\n",
    "print(film[1,1])"
   ]
  },
  {
   "cell_type": "code",
   "execution_count": 67,
   "metadata": {},
   "outputs": [
    {
     "ename": "ValueError",
     "evalue": "empty range for randrange()",
     "output_type": "error",
     "traceback": [
      "\u001b[1;31m---------------------------------------------------------------------------\u001b[0m",
      "\u001b[1;31mValueError\u001b[0m                                Traceback (most recent call last)",
      "Cell \u001b[1;32mIn[67], line 44\u001b[0m\n\u001b[0;32m     40\u001b[0m parcel \u001b[38;5;241m=\u001b[39m np\u001b[38;5;241m.\u001b[39mrandom\u001b[38;5;241m.\u001b[39mchoice(\u001b[38;5;241m3\u001b[39m, size\u001b[38;5;241m=\u001b[39m\u001b[38;5;241m10\u001b[39m)\n\u001b[0;32m     42\u001b[0m test1 \u001b[38;5;241m=\u001b[39m unitTest(parcel, film)\n\u001b[1;32m---> 44\u001b[0m \u001b[38;5;28mprint\u001b[39m(test1\u001b[38;5;241m.\u001b[39mtestReact())\n",
      "Cell \u001b[1;32mIn[67], line 35\u001b[0m, in \u001b[0;36munitTest.testReact\u001b[1;34m(self)\u001b[0m\n\u001b[0;32m     34\u001b[0m \u001b[38;5;28;01mdef\u001b[39;00m \u001b[38;5;21mtestReact\u001b[39m(\u001b[38;5;28mself\u001b[39m):\n\u001b[1;32m---> 35\u001b[0m     film, parcelGen \u001b[38;5;241m=\u001b[39m  reaction(\u001b[38;5;28mself\u001b[39m\u001b[38;5;241m.\u001b[39mparcel, \u001b[38;5;28mself\u001b[39m\u001b[38;5;241m.\u001b[39mfilm)\n\u001b[0;32m     36\u001b[0m     \u001b[38;5;28;01mreturn\u001b[39;00m film, parcelGen\n",
      "\u001b[1;31mValueError\u001b[0m: empty range for randrange()"
     ]
    }
   ],
   "source": [
    "react_table = np.array([[[0.01,2], [0.01,3], [0.01,4], [0.01,-4], [0.05,7], [0.00,0], [0.05,8], [0.00,0],[0.06,10],[0.00,0]],\n",
    "                        [[0.05,5], [0.00,0], [0.00,0], [0.00, 0], [0.05,6], [0.00,0], [0.00,0], [0.00,0], [0.00,0],[0.00,0]],\n",
    "                        [[0.27,-1], [0.27,-2], [0.27,-3], [0.27,-4], [0.27,-5], [0.27,-6], [0.27,-7], [0.27,-8], [0.27,-9], [0.27,-10]]])\n",
    "\n",
    "\n",
    "@jit(nopython=True)\n",
    "def reaction(parcel, film):\n",
    "\n",
    "    # parcel(x, y, z, vel, cell, id) , film[in, filmType]\n",
    "    choice = np.random.rand(parcel.shape[0], react_table.shape[1])\n",
    "    parcelGen = np.zeros(parcel.shape[0])\n",
    "    for i in range(parcel.shape[0]):\n",
    "        acceptList = np.zeros(react_table.shape[1], dtype=np.bool_)\n",
    "        for j in range(film.shape[1]):\n",
    "            react_rate = react_table[int(parcel[i]), int(film[i, j]), 0]\n",
    "            if react_rate > choice[i, j]:\n",
    "                acceptList[j] = True\n",
    "            else:\n",
    "                acceptList[j] = False\n",
    "        react_choice = np.random.choice(int(np.sum(acceptList)))\n",
    "        film[i, react_choice] -= 0.01\n",
    "        react_gen = react_table[int(parcel[i]), react_choice, 1]\n",
    "        if react_gen > 0:\n",
    "            film[i, int(react_gen)] += 0.01\n",
    "        else:\n",
    "            parcelGen[i] = -react_gen\n",
    "    return film, parcelGen\n",
    "\n",
    "class unitTest:\n",
    "    def __init__(self, parcel, film):\n",
    "        self.parcel = parcel\n",
    "        self.film = film\n",
    "    \n",
    "    def testReact(self):\n",
    "        film, parcelGen =  reaction(self.parcel, self.film)\n",
    "        return film, parcelGen\n",
    "    \n",
    "\n",
    "film = np.zeros((10, 10))\n",
    "parcel = np.random.choice(3, size=10)\n",
    "\n",
    "test1 = unitTest(parcel, film)\n",
    "\n",
    "print(test1.testReact())"
   ]
  },
  {
   "cell_type": "code",
   "execution_count": 73,
   "metadata": {},
   "outputs": [
    {
     "name": "stdout",
     "output_type": "stream",
     "text": [
      "[2 2 1 0 2 1 1 2 1 0]\n",
      "[0 4]\n",
      "[0 1]\n",
      "[]\n",
      "[]\n",
      "[0 1 2]\n",
      "[]\n",
      "[]\n",
      "[0 2 3 4 7]\n",
      "[]\n",
      "[]\n",
      "(array([[-0.01,  0.  ,  0.  ,  0.  ,  0.  ,  0.  ,  0.  ,  0.  ,  0.  ,\n",
      "         0.  ],\n",
      "       [-0.01,  0.  ,  0.  ,  0.  ,  0.  ,  0.  ,  0.  ,  0.  ,  0.  ,\n",
      "         0.  ],\n",
      "       [ 0.  ,  0.  ,  0.  ,  0.  ,  0.  ,  0.  ,  0.  ,  0.  ,  0.  ,\n",
      "         0.  ],\n",
      "       [ 0.  ,  0.  ,  0.  ,  0.  ,  0.  ,  0.  ,  0.  ,  0.  ,  0.  ,\n",
      "         0.  ],\n",
      "       [ 0.  , -0.01,  0.  ,  0.  ,  0.  ,  0.  ,  0.  ,  0.  ,  0.  ,\n",
      "         0.  ],\n",
      "       [ 0.  ,  0.  ,  0.  ,  0.  ,  0.  ,  0.  ,  0.  ,  0.  ,  0.  ,\n",
      "         0.  ],\n",
      "       [ 0.  ,  0.  ,  0.  ,  0.  ,  0.  ,  0.  ,  0.  ,  0.  ,  0.  ,\n",
      "         0.  ],\n",
      "       [ 0.  ,  0.  ,  0.  , -0.01,  0.  ,  0.  ,  0.  ,  0.  ,  0.  ,\n",
      "         0.  ],\n",
      "       [ 0.  ,  0.  ,  0.  ,  0.  ,  0.  ,  0.  ,  0.  ,  0.  ,  0.  ,\n",
      "         0.  ],\n",
      "       [ 0.  ,  0.  ,  0.  ,  0.  ,  0.  ,  0.  ,  0.  ,  0.  ,  0.  ,\n",
      "         0.  ]]), array([1., 1., 0., 0., 2., 0., 0., 4., 0., 0.]), array([0., 0., 0., 0., 1., 0., 0., 3., 0., 0.]))\n"
     ]
    }
   ],
   "source": [
    "react_table = np.array([[[0.01, 2], [0.01, 3], [0.01, 4], [0.01, -4], [0.05, 7], [0.00, 0], [0.05, 8], [0.00, 0], [0.06, 10], [0.00, 0]],\n",
    "                        [[0.05, 5], [0.00, 0], [0.00, 0], [0.00, 0], [0.05, 6], [0.00, 0], [0.00, 0], [0.00, 0], [0.00, 0], [0.00, 0]],\n",
    "                        [[0.27, -1], [0.27, -2], [0.27, -3], [0.27, -4], [0.27, -5], [0.27, -6], [0.27, -7], [0.27, -8], [0.27, -9], [0.27, -10]]])\n",
    "\n",
    "@jit(nopython=True)\n",
    "def reaction(parcel, film):\n",
    "    choice = np.random.rand(parcel.shape[0], react_table.shape[1])\n",
    "    parcelGen = np.zeros(parcel.shape[0])\n",
    "    reactList = np.zeros(parcel.shape[0])\n",
    "    for i in range(parcel.shape[0]):\n",
    "        acceptList = np.zeros(react_table.shape[1], dtype=np.bool_)\n",
    "        \n",
    "        for j in range(film.shape[1]):\n",
    "            react_rate = react_table[parcel[i], j, 0]\n",
    "            if react_rate > choice[i, j]:\n",
    "                acceptList[j] = True\n",
    "        \n",
    "        # react_choice_indices = np.random.choice(int(np.sum(acceptList)))\n",
    "        react_choice_indices = np.where(acceptList)[0]\n",
    "        print(react_choice_indices)\n",
    "        if react_choice_indices.size > 0:\n",
    "            react_choice = np.random.choice(react_choice_indices)\n",
    "            reactList[i] = react_choice\n",
    "            film[i, react_choice] -= 0.01\n",
    "            react_gen = react_table[parcel[i], react_choice, 1]\n",
    "            if react_gen > 0:\n",
    "                film[i, int(react_gen)] += 0.01\n",
    "            else:\n",
    "                parcelGen[i] = -react_gen\n",
    "                \n",
    "    return film, parcelGen, reactList\n",
    "\n",
    "class UnitTest:\n",
    "    def __init__(self, parcel, film):\n",
    "        self.parcel = parcel\n",
    "        self.film = film\n",
    "    \n",
    "    def testReact(self):\n",
    "        film, parcelGen, reactList = reaction(self.parcel, self.film)\n",
    "        return film, parcelGen, reactList\n",
    "\n",
    "film = np.zeros((10, 10))\n",
    "parcel = np.random.choice(3, size=10)\n",
    "\n",
    "print(parcel)\n",
    "# test1 = UnitTest(parcel, film)\n",
    "# print(test1.testReact())\n",
    "\n",
    "print(reaction(parcel, film))\n"
   ]
  },
  {
   "cell_type": "code",
   "execution_count": 65,
   "metadata": {},
   "outputs": [
    {
     "name": "stdout",
     "output_type": "stream",
     "text": [
      "[0 2 2 1 1 1 1 2 2 2]\n",
      "(array([[ 0.  ,  0.  ,  0.  ,  0.  ,  0.  ,  0.  , -0.01,  0.  ,  0.01,\n",
      "         0.  ],\n",
      "       [ 0.  ,  0.  ,  0.  ,  0.  ,  0.  ,  0.  ,  0.  ,  0.  , -0.01,\n",
      "         0.  ],\n",
      "       [ 0.  ,  0.  ,  0.  ,  0.  , -0.01,  0.  ,  0.  ,  0.  ,  0.  ,\n",
      "         0.  ],\n",
      "       [ 0.  ,  0.  ,  0.  ,  0.  ,  0.  ,  0.  ,  0.  ,  0.  ,  0.  ,\n",
      "         0.  ],\n",
      "       [ 0.  ,  0.  ,  0.  ,  0.  ,  0.  ,  0.  ,  0.  ,  0.  ,  0.  ,\n",
      "         0.  ],\n",
      "       [ 0.  ,  0.  ,  0.  ,  0.  ,  0.  ,  0.  ,  0.  ,  0.  ,  0.  ,\n",
      "         0.  ],\n",
      "       [ 0.  ,  0.  ,  0.  ,  0.  ,  0.  ,  0.  ,  0.  ,  0.  ,  0.  ,\n",
      "         0.  ],\n",
      "       [ 0.  ,  0.  ,  0.  ,  0.  ,  0.  , -0.01,  0.  ,  0.  ,  0.  ,\n",
      "         0.  ],\n",
      "       [ 0.  ,  0.  ,  0.  ,  0.  , -0.01,  0.  ,  0.  ,  0.  ,  0.  ,\n",
      "         0.  ],\n",
      "       [ 0.  ,  0.  ,  0.  , -0.01,  0.  ,  0.  ,  0.  ,  0.  ,  0.  ,\n",
      "         0.  ]]), array([0., 9., 5., 0., 0., 0., 0., 6., 5., 4.]))\n"
     ]
    }
   ],
   "source": [
    "film = np.zeros((10, 10))\n",
    "parcel = np.random.choice(3, size=10)\n",
    "print(parcel)\n",
    "test1 = UnitTest(parcel, film)\n",
    "print(test1.testReact())\n"
   ]
  },
  {
   "cell_type": "code",
   "execution_count": null,
   "metadata": {},
   "outputs": [],
   "source": []
  }
 ],
 "metadata": {
  "kernelspec": {
   "display_name": "Python 3",
   "language": "python",
   "name": "python3"
  },
  "language_info": {
   "codemirror_mode": {
    "name": "ipython",
    "version": 3
   },
   "file_extension": ".py",
   "mimetype": "text/x-python",
   "name": "python",
   "nbconvert_exporter": "python",
   "pygments_lexer": "ipython3",
   "version": "3.11.7"
  }
 },
 "nbformat": 4,
 "nbformat_minor": 2
}

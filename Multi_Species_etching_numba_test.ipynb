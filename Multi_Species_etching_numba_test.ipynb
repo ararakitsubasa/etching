{
 "cells": [
  {
   "cell_type": "code",
   "execution_count": 149,
   "metadata": {},
   "outputs": [],
   "source": [
    "from numba import jit\n",
    "import numpy as np\n",
    "import time\n",
    "import timeit\n",
    "import matplotlib.pyplot as plt"
   ]
  },
  {
   "cell_type": "code",
   "execution_count": 141,
   "metadata": {},
   "outputs": [
    {
     "name": "stdout",
     "output_type": "stream",
     "text": [
      "[0 1 0 0 2 1 2 2 2 0]\n",
      "[[ 0.    0.    0.    0.    0.    0.    0.    0.    0.    0.  ]\n",
      " [ 0.    0.    0.    0.    0.    0.    0.    0.    0.    0.  ]\n",
      " [ 0.    0.    0.    0.    0.    0.    0.    0.    0.    0.  ]\n",
      " [ 0.    0.    0.    0.    0.    0.    0.    0.    0.    0.  ]\n",
      " [ 0.    0.    0.   -0.01  0.    0.    0.    0.    0.    0.  ]\n",
      " [-0.01  0.    0.    0.    0.01  0.    0.    0.    0.    0.  ]\n",
      " [ 0.    0.    0.    0.    0.    0.    0.    0.    0.   -0.01]\n",
      " [ 0.    0.    0.    0.    0.   -0.01  0.    0.    0.    0.  ]\n",
      " [ 0.    0.    0.    0.    0.    0.   -0.01  0.    0.    0.  ]\n",
      " [ 0.    0.    0.    0.    0.    0.    0.    0.    0.    0.  ]]\n",
      "-------------\n",
      "[ 0.  0.  0.  0.  4.  0. 10.  6.  7.  0.]\n",
      "---------------\n",
      "[0. 0. 0. 0. 3. 0. 9. 5. 6. 0.]\n"
     ]
    }
   ],
   "source": [
    "#solid = film[i, j, k, 10][Si, SiF1, SiF2, SiF3, SiO SiO2, SiOF, SiOF2, SiO2F, SiO2F2]\n",
    "#react_t g[F, O, ion] s  [1,          2,           3,          4,       5 ,   6,    7,    8,   9,  10]\n",
    "#react_t g[F, O, ion] s  [Si,       SiF1,       SiF2,       SiF3,      SiO, SiO2, SiOF, SiOF2, SiO2F,SiO2F2]\n",
    "\n",
    "react_table = np.array([[[0.01, 2], [0.01, 3], [0.01, 4], [0.01, -4], [0.05, 7], [0.00, 0], [0.05, 8], [0.00, 0], [0.06, 10], [0.00, 0]],\n",
    "                        [[0.05, 5], [0.00, 0], [0.00, 0], [0.00, 0], [0.05, 6], [0.00, 0], [0.00, 0], [0.00, 0], [0.00, 0], [0.00, 0]],\n",
    "                        [[0.27, -1], [0.27, -2], [0.27, -3], [0.27, -4], [0.27, -5], [0.27, -6], [0.27, -7], [0.27, -8], [0.27, -9], [0.27, -10]]])\n",
    "\n",
    "@jit(nopython=True)\n",
    "def reaction(parcel, film):\n",
    "    choice = np.random.rand(parcel.shape[0], react_table.shape[1])\n",
    "    parcelGen = np.zeros(parcel.shape[0])\n",
    "    reactList = np.zeros(parcel.shape[0])\n",
    "    for i in range(parcel.shape[0]):\n",
    "        acceptList = np.zeros(react_table.shape[1], dtype=np.bool_)\n",
    "        \n",
    "        for j in range(film.shape[1]):\n",
    "            react_rate = react_table[parcel[i], j, 0]\n",
    "            if react_rate > choice[i, j]:\n",
    "                acceptList[j] = True\n",
    "        \n",
    "        # react_choice_indices = np.random.choice(int(np.sum(acceptList)))\n",
    "        react_choice_indices = np.where(acceptList)[0]\n",
    "        # print(react_choice_indices)\n",
    "        if react_choice_indices.size > 0:\n",
    "            react_choice = np.random.choice(react_choice_indices)\n",
    "            reactList[i] = react_choice\n",
    "            film[i, react_choice] -= 0.01\n",
    "            react_gen = react_table[parcel[i], react_choice, 1]\n",
    "            if react_gen > 0:\n",
    "                film[i, int(react_gen)-1] += 0.01\n",
    "            else:\n",
    "                parcelGen[i] = -react_gen\n",
    "                \n",
    "    return film, parcelGen, reactList\n",
    "\n",
    "\n",
    "\n",
    "class UnitTest:\n",
    "    def __init__(self, parcel, film):\n",
    "        self.parcel = parcel\n",
    "        self.film = film\n",
    "    \n",
    "    def testReact(self):\n",
    "        film, parcelGen, reactList = reaction(self.parcel, self.film)\n",
    "        return film, parcelGen, reactList\n",
    "\n",
    "\n",
    "film = np.zeros((10, 10))\n",
    "parcel = np.random.choice(3, size=10)\n",
    "print(parcel)\n",
    "# test1 = UnitTest(parcel, film)\n",
    "# print(test1.testReact())\n",
    "film, parcelGen, reactList = reaction(parcel, film)\n",
    "print(film)\n",
    "print('-------------')\n",
    "print(parcelGen)\n",
    "print('---------------')\n",
    "print(reactList)"
   ]
  },
  {
   "cell_type": "code",
   "execution_count": 124,
   "metadata": {},
   "outputs": [
    {
     "name": "stdout",
     "output_type": "stream",
     "text": [
      "Numba time: 1.360035 seconds\n"
     ]
    }
   ],
   "source": [
    "film = np.zeros((1000, 10))\n",
    "parcel = np.random.choice(3, size=1000)\n",
    "\n",
    "test1 = UnitTest(parcel, film)\n",
    "test1.testReact()\n",
    "numba_time = timeit.timeit(lambda: test1.testReact(), number=100)\n",
    "print(f\"Numba time: {numba_time:.6f} seconds\")"
   ]
  },
  {
   "cell_type": "code",
   "execution_count": 147,
   "metadata": {},
   "outputs": [
    {
     "name": "stdout",
     "output_type": "stream",
     "text": [
      "Numba time: 0.320966 seconds\n"
     ]
    }
   ],
   "source": [
    "film = np.zeros((100, 10))\n",
    "parcel = np.random.choice(3, size=100)\n",
    "\n",
    "test1 = UnitTest(parcel, film)\n",
    "test1.testReact()\n",
    "numba_time = timeit.timeit(lambda: test1.testReact(), number=10000)\n",
    "print(f\"Numba time: {numba_time:.6f} seconds\")\n"
   ]
  },
  {
   "cell_type": "code",
   "execution_count": 131,
   "metadata": {},
   "outputs": [
    {
     "name": "stdout",
     "output_type": "stream",
     "text": [
      "[2 2 2 2 2 0 2 2 2 0]\n",
      "[[ 0.    0.    0.    0.    0.    0.    0.    0.    0.   -0.01]\n",
      " [ 0.    0.    0.    0.   -0.01  0.    0.    0.    0.    0.  ]\n",
      " [ 0.    0.    0.    0.    0.    0.    0.   -0.01  0.    0.  ]\n",
      " [ 0.   -0.01  0.    0.    0.    0.    0.    0.    0.    0.  ]\n",
      " [ 0.    0.    0.    0.    0.    0.    0.    0.    0.   -0.01]\n",
      " [ 0.    0.    0.    0.    0.    0.    0.    0.    0.    0.  ]\n",
      " [ 0.    0.    0.    0.    0.    0.   -0.01  0.    0.    0.  ]\n",
      " [ 0.    0.    0.    0.   -0.01  0.    0.    0.    0.    0.  ]\n",
      " [ 0.    0.    0.    0.    0.   -0.01  0.    0.    0.    0.  ]\n",
      " [ 0.    0.    0.    0.    0.    0.    0.    0.    0.    0.  ]]\n",
      "-------------\n",
      "[10.  5.  8.  2. 10.  0.  7.  5.  6.  0.]\n",
      "---------------\n",
      "[9. 4. 7. 1. 9. 0. 6. 4. 5. 0.]\n"
     ]
    }
   ],
   "source": [
    "react_table = np.array([[[0.01, 2], [0.01, 3], [0.01, 4], [0.01, -4], [0.05, 7], [0.00, 0], [0.05, 8], [0.00, 0], [0.06, 10], [0.00, 0]],\n",
    "                        [[0.05, 5], [0.00, 0], [0.00, 0], [0.00, 0], [0.05, 6], [0.00, 0], [0.00, 0], [0.00, 0], [0.00, 0], [0.00, 0]],\n",
    "                        [[0.27, -1], [0.27, -2], [0.27, -3], [0.27, -4], [0.27, -5], [0.27, -6], [0.27, -7], [0.27, -8], [0.27, -9], [0.27, -10]]])\n",
    "\n",
    "@jit(nopython=True)\n",
    "def reaction(parcel, film):\n",
    "    num_parcels = parcel.shape[0]\n",
    "    num_reactions = react_table.shape[1]\n",
    "    choice = np.random.rand(num_parcels, num_reactions)\n",
    "    parcelGen = np.zeros(num_parcels)\n",
    "    reactList = np.zeros(num_parcels)\n",
    "\n",
    "    for i in range(num_parcels):\n",
    "        acceptList = react_table[parcel[i], :, 0] > choice[i]\n",
    "        react_choice_indices = np.where(acceptList)[0]\n",
    "        # print(react_choice_indices)\n",
    "        if react_choice_indices.size > 0:\n",
    "            react_choice = np.random.choice(react_choice_indices)\n",
    "            reactList[i] = react_choice\n",
    "            film[i, react_choice] -= 0.01\n",
    "            react_gen = react_table[parcel[i], react_choice, 1]\n",
    "            if react_gen > 0:\n",
    "                film[i, int(react_gen) - 1] += 0.01\n",
    "            else:\n",
    "                parcelGen[i] = -react_gen\n",
    "    \n",
    "    return film, parcelGen, reactList\n",
    "\n",
    "class UnitTest:\n",
    "    def __init__(self, parcel, film):\n",
    "        self.parcel = parcel\n",
    "        self.film = film\n",
    "    \n",
    "    def testReact(self):\n",
    "        film, parcelGen, reactList = reaction(self.parcel, self.film)\n",
    "        return film, parcelGen, reactList\n",
    "\n",
    "film = np.zeros((10, 10))\n",
    "parcel = np.random.choice(3, size=10)\n",
    "print(parcel)\n",
    "# test1 = UnitTest(parcel, film)\n",
    "# print(test1.testReact())\n",
    "film, parcelGen, reactList = reaction(parcel, film)\n",
    "print(film)\n",
    "print('-------------')\n",
    "print(parcelGen)\n",
    "print('---------------')\n",
    "print(reactList)\n"
   ]
  },
  {
   "cell_type": "code",
   "execution_count": 140,
   "metadata": {},
   "outputs": [
    {
     "name": "stdout",
     "output_type": "stream",
     "text": [
      "Numba time: 0.345110 seconds\n"
     ]
    }
   ],
   "source": [
    "film = np.zeros((100, 10))\n",
    "parcel = np.random.choice(3, size=100)\n",
    "\n",
    "test1 = UnitTest(parcel, film)\n",
    "test1.testReact()\n",
    "numba_time = timeit.timeit(lambda: test1.testReact(), number=10000)\n",
    "print(f\"Numba time: {numba_time:.6f} seconds\")\n"
   ]
  },
  {
   "cell_type": "code",
   "execution_count": 134,
   "metadata": {},
   "outputs": [
    {
     "name": "stdout",
     "output_type": "stream",
     "text": [
      "Performance time: 0.005934 seconds\n"
     ]
    }
   ],
   "source": [
    "def test_performance():\n",
    "    film = np.zeros((10, 10))\n",
    "    parcel = np.random.choice(3, size=10)\n",
    "    test1 = UnitTest(parcel, film)\n",
    "    \n",
    "    # 测试反应函数的性能\n",
    "    performance_time = timeit.timeit(lambda: test1.testReact(), number=1000)\n",
    "    print(f\"Performance time: {performance_time:.6f} seconds\")\n",
    "\n",
    "test_performance()"
   ]
  },
  {
   "cell_type": "code",
   "execution_count": 108,
   "metadata": {},
   "outputs": [
    {
     "name": "stdout",
     "output_type": "stream",
     "text": [
      "Numba time: 0.002657 seconds\n"
     ]
    }
   ],
   "source": [
    "film = np.zeros((100, 10))\n",
    "parcel = np.random.choice(3, size=100)\n",
    "\n",
    "test1 = UnitTest(parcel, film)\n",
    "test1.testReact()\n",
    "numba_time = timeit.timeit(lambda: test1.testReact(), number=100)\n",
    "print(f\"Numba time: {numba_time:.6f} seconds\")"
   ]
  },
  {
   "cell_type": "code",
   "execution_count": 110,
   "metadata": {},
   "outputs": [
    {
     "name": "stdout",
     "output_type": "stream",
     "text": [
      "Numba time: 0.109467 seconds\n"
     ]
    }
   ],
   "source": [
    "film = np.zeros((100, 10))\n",
    "parcel = np.random.choice(3, size=100)\n",
    "\n",
    "test1 = UnitTest(parcel, film)\n",
    "test1.testReact()\n",
    "numba_time = timeit.timeit(lambda: test1.testReact(), number=100)\n",
    "print(f\"Numba time: {numba_time:.6f} seconds\")"
   ]
  },
  {
   "cell_type": "code",
   "execution_count": 148,
   "metadata": {},
   "outputs": [],
   "source": [
    "def diffDeflection(ur):\n",
    "    kB = 1.380649e-23\n",
    "    Al_m = 44.803928e-27\n",
    "    N_A = 6.02214076*10**23\n",
    "    Ar_m = 39.938/(N_A*1000)\n",
    "    Tw = 300\n",
    "\n",
    "    return Al_m/(kB*Tw)*ur*np.exp(-Al_m*ur*ur/(2*kB*Tw))"
   ]
  },
  {
   "cell_type": "code",
   "execution_count": 151,
   "metadata": {},
   "outputs": [
    {
     "data": {
      "text/plain": [
       "[<matplotlib.lines.Line2D at 0x24289025510>]"
      ]
     },
     "execution_count": 151,
     "metadata": {},
     "output_type": "execute_result"
    },
    {
     "data": {
      "image/png": "[encoded data removed]",
      "text/plain": [
       "<Figure size 640x480 with 1 Axes>"
      ]
     },
     "metadata": {},
     "output_type": "display_data"
    }
   ],
   "source": [
    "x = np.linspace(0, 1000, 1000)\n",
    "y = diffDeflection(x)\n",
    "\n",
    "fig, ax = plt.subplots(1, 1)\n",
    "\n",
    "ax.plot(x, y)"
   ]
  },
  {
   "cell_type": "code",
   "execution_count": 154,
   "metadata": {},
   "outputs": [],
   "source": [
    "def yield_func( theta):\n",
    "    yield_hist = np.array([0, 10, 90, 100])\n",
    "    sputterY = np.zeros_like(theta)\n",
    "    indice = np.logical_and(theta > yield_hist[0], theta < yield_hist[1])\n",
    "    indice |= np.logical_and(theta > yield_hist[2], theta < yield_hist[3])\n",
    "    sputterY[indice] = 1\n",
    "    return sputterY\n"
   ]
  },
  {
   "cell_type": "code",
   "execution_count": 155,
   "metadata": {},
   "outputs": [
    {
     "data": {
      "text/plain": [
       "array([0, 1, 1, 1, 1, 1, 1, 1, 1, 1, 0, 0, 0, 0, 0, 0, 0, 0, 0, 0, 0, 0,\n",
       "       0, 0, 0, 0, 0, 0, 0, 0, 0, 0, 0, 0, 0, 0, 0, 0, 0, 0, 0, 0, 0, 0,\n",
       "       0, 0, 0, 0, 0, 0, 0, 0, 0, 0, 0, 0, 0, 0, 0, 0, 0, 0, 0, 0, 0, 0,\n",
       "       0, 0, 0, 0, 0, 0, 0, 0, 0, 0, 0, 0, 0, 0, 0, 0, 0, 0, 0, 0, 0, 0,\n",
       "       0, 0, 0, 1, 1, 1, 1, 1, 1, 1, 1, 1])"
      ]
     },
     "execution_count": 155,
     "metadata": {},
     "output_type": "execute_result"
    }
   ],
   "source": [
    "yield_func(np.arange(100))"
   ]
  },
  {
   "cell_type": "code",
   "execution_count": null,
   "metadata": {},
   "outputs": [],
   "source": []
  }
 ],
 "metadata": {
  "kernelspec": {
   "display_name": "Python 3",
   "language": "python",
   "name": "python3"
  },
  "language_info": {
   "codemirror_mode": {
    "name": "ipython",
    "version": 3
   },
   "file_extension": ".py",
   "mimetype": "text/x-python",
   "name": "python",
   "nbconvert_exporter": "python",
   "pygments_lexer": "ipython3",
   "version": "3.11.7"
  }
 },
 "nbformat": 4,
 "nbformat_minor": 2
}

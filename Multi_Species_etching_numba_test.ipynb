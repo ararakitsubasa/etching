{
 "cells": [
  {
   "cell_type": "code",
   "execution_count": 1,
   "metadata": {},
   "outputs": [],
   "source": [
    "from numba import jit\n",
    "import numpy as np\n",
    "import time\n",
    "import timeit\n",
    "import matplotlib.pyplot as plt"
   ]
  },
  {
   "cell_type": "code",
   "execution_count": 70,
   "metadata": {},
   "outputs": [
    {
     "data": {
      "text/plain": [
       "array([ 1.,  0., -1.])"
      ]
     },
     "execution_count": 70,
     "metadata": {},
     "output_type": "execute_result"
    }
   ],
   "source": [
    "@jit(nopython=True)\n",
    "def SpecularReflect(vel, normal):\n",
    "    NewVwl =  vel - 2*vel@normal*normal\n",
    "    return NewVwl\n",
    "\n",
    "\n",
    "vel = np.array([-1, 0, -1], dtype=float)\n",
    "\n",
    "theta = np.array([-1, 0, 0], dtype=float)\n",
    "\n",
    "# theta = np.random.rand(3)\n",
    "# vel = np.random.rand(3)\n",
    "SpecularReflect(vel, theta)"
   ]
  },
  {
   "cell_type": "code",
   "execution_count": 64,
   "metadata": {},
   "outputs": [
    {
     "name": "stdout",
     "output_type": "stream",
     "text": [
      "[[0.5 0.5]\n",
      " [0.5 0.5]\n",
      " [0.5 0.5]\n",
      " [0.5 0.5]\n",
      " [0.5 0.5]\n",
      " [0.5 0.5]\n",
      " [0.5 0.5]\n",
      " [0.5 0.5]\n",
      " [0.5 0.5]\n",
      " [0.5 0.5]]\n",
      "[[1. 1. 1. 1. 1. 1. 1. 1. 1. 0.]\n",
      " [1. 1. 1. 1. 1. 1. 1. 1. 1. 0.]\n",
      " [1. 1. 1. 1. 1. 1. 1. 1. 1. 0.]\n",
      " [1. 1. 1. 1. 1. 1. 1. 1. 1. 0.]\n",
      " [1. 1. 1. 1. 1. 1. 1. 1. 1. 0.]\n",
      " [1. 1. 1. 1. 1. 1. 1. 1. 1. 1.]\n",
      " [1. 1. 1. 1. 1. 1. 1. 1. 1. 1.]\n",
      " [1. 1. 1. 1. 1. 1. 1. 1. 1. 1.]\n",
      " [1. 1. 1. 1. 1. 1. 1. 1. 1. 1.]\n",
      " [1. 1. 1. 1. 1. 1. 1. 1. 1. 1.]]\n",
      "-------------\n",
      "[[0.5  0.5 ]\n",
      " [0.5  0.5 ]\n",
      " [0.5  0.5 ]\n",
      " [0.5  0.5 ]\n",
      " [0.5  0.5 ]\n",
      " [0.49 0.5 ]\n",
      " [0.5  0.5 ]\n",
      " [0.5  0.5 ]\n",
      " [0.5  0.5 ]\n",
      " [0.5  0.5 ]]\n",
      "---------------\n",
      "reactList [ 0.  0. -1.  0.  0.  0. -1. -1. -1. -1.]\n",
      "depoparcel [ 1.  1.  0.  1.  1. -1.  0.  0.  0.  0.]\n",
      "parcel [0. 0. 0. 0. 0. 1. 1. 1. 1. 1.]\n"
     ]
    }
   ],
   "source": [
    "react_table = np.array([[[0.700, 0, 1], [0.300, 0, 1]],\n",
    "                        [[0.200, -1, 0], [0.075, 0, -1]]])\n",
    "\n",
    "@jit(nopython=True)\n",
    "def SpecularReflect(vel, normal):\n",
    "    return vel - 2*vel@normal*normal\n",
    "\n",
    "# etching act on film, depo need output\n",
    "@jit(nopython=True)\n",
    "def reaction_yield(parcel, film, theta):\n",
    "    num_parcels = parcel.shape[0]\n",
    "    num_reactions = react_table.shape[1]\n",
    "    choice = np.random.rand(parcel.shape[0], react_table.shape[1])\n",
    "    reactList = np.ones(parcel.shape[0])*-1\n",
    "    for i in range(num_parcels):\n",
    "        for j in range(num_reactions):\n",
    "            if film[i, j] <= 0:\n",
    "                choice[i, j] = 1\n",
    "    depo_parcel = np.zeros(parcel.shape[0])\n",
    "    for i in range(parcel.shape[0]):\n",
    "        acceptList = np.zeros(react_table.shape[1], dtype=np.bool_)\n",
    "        for j in range(film.shape[1]):\n",
    "            react_rate = react_table[int(parcel[i, -1]), j, 0]\n",
    "            if react_rate > choice[i, j]:\n",
    "                acceptList[j] = True\n",
    "        react_choice_indices = np.where(acceptList)[0]\n",
    "        if react_choice_indices.size > 0:\n",
    "            react_choice = np.random.choice(react_choice_indices)\n",
    "            reactList[i] = react_choice\n",
    "            if np.sum(react_table[int(parcel[i, -1]), react_choice, 1:]) > 0:\n",
    "                depo_parcel[i] = 1\n",
    "            if np.sum(react_table[int(parcel[i, -1]), react_choice, 1:]) < 0:\n",
    "                depo_parcel[i] = -1\n",
    "    for i in range(parcel.shape[0]):\n",
    "        if depo_parcel[i] == -1:\n",
    "            film[i, :] += 0.01 * react_table[int(parcel[i, -1]), int(reactList[i]), 1:]\n",
    "        if reactList[i] == -1:\n",
    "            parcel[i,3:6] = SpecularReflect(parcel[i,3:6], theta[i])\n",
    "\n",
    "    return film, parcel, reactList, depo_parcel\n",
    "\n",
    "\n",
    "film = np.zeros((10, 2))\n",
    "\n",
    "film[:, 0] = 0.5\n",
    "film[:, 1] = 0.5\n",
    "print(film)\n",
    "# parcel = np.random.choice(2, size=10)\n",
    "# particle data struction np.array([posX, posY, posZ, velX, velY, velZ, i, j, k, typeID])\n",
    "# parcel = np.ones(10, dtype=int)\n",
    "parcel = np.ones((10, 10))\n",
    "parcel[:5, -1] = 0\n",
    "print(parcel)\n",
    "# test1 = UnitTest(parcel, film)\n",
    "# print(test1.testReact())\n",
    "theta = np.random.rand(30).reshape(10,3)\n",
    "film, parcel, reactList, depo_parcel = reaction_yield(parcel, film, theta)\n",
    "\n",
    "print('-------------')\n",
    "print(film)\n",
    "\n",
    "print('---------------')\n",
    "print('reactList',reactList)\n",
    "print('depoparcel', depo_parcel)\n",
    "print('parcel', parcel[:, -1])"
   ]
  },
  {
   "cell_type": "code",
   "execution_count": 57,
   "metadata": {},
   "outputs": [
    {
     "data": {
      "text/plain": [
       "(array([0, 1, 2, 3, 4, 5, 6, 7], dtype=int64),)"
      ]
     },
     "execution_count": 57,
     "metadata": {},
     "output_type": "execute_result"
    }
   ],
   "source": [
    "np.where(reactList != -1)"
   ]
  },
  {
   "cell_type": "code",
   "execution_count": 44,
   "metadata": {},
   "outputs": [
    {
     "name": "stdout",
     "output_type": "stream",
     "text": [
      "[[0.5 0.5]\n",
      " [0.5 0.5]\n",
      " [0.5 0.5]\n",
      " [0.5 0.5]\n",
      " [0.5 0.5]\n",
      " [0.5 0.5]\n",
      " [0.5 0.5]\n",
      " [0.5 0.5]\n",
      " [0.5 0.5]\n",
      " [0.5 0.5]]\n",
      "[0 0 0 0 0 1 1 1 1 1]\n",
      "react_choice_indices [0]\n",
      "react_choice_indices []\n",
      "react_choice_indices [0]\n",
      "react_choice_indices [1]\n",
      "react_choice_indices []\n",
      "react_choice_indices []\n",
      "react_choice_indices []\n",
      "react_choice_indices [0]\n",
      "react_choice_indices [0]\n",
      "react_choice_indices []\n",
      "-------------\n",
      "[[0.5  0.5 ]\n",
      " [0.5  0.5 ]\n",
      " [0.5  0.5 ]\n",
      " [0.5  0.5 ]\n",
      " [0.5  0.5 ]\n",
      " [0.5  0.5 ]\n",
      " [0.5  0.5 ]\n",
      " [0.49 0.5 ]\n",
      " [0.49 0.5 ]\n",
      " [0.5  0.5 ]]\n",
      "---------------\n",
      "reactList [ 0. -1.  0.  1. -1. -1. -1.  0.  0. -1.]\n",
      "depoparcel [ 1.  0.  1.  1.  0.  0.  0. -1. -1.  0.]\n"
     ]
    }
   ],
   "source": [
    "react_table = np.array([[[0.700, 0, 1], [0.300, 0, 1]],\n",
    "                        [[0.200, -1, 0], [0.075, 0, -1]]])\n",
    "\n",
    "# etching act on film, depo need output\n",
    "@jit(nopython=True)\n",
    "def reaction_yield(parcel, film):\n",
    "    num_parcels = parcel.shape[0]\n",
    "    num_reactions = react_table.shape[1]\n",
    "    choice = np.random.rand(parcel.shape[0], react_table.shape[1])\n",
    "    # print('choice', choice)\n",
    "    reactList = np.ones(parcel.shape[0])*-1\n",
    "    indiceFilm = film == 0\n",
    "    # print(indiceFilm.shape)\n",
    "    # choice[indiceFilm] = 0\n",
    "\n",
    "    for i in range(num_parcels):\n",
    "        for j in range(num_reactions):\n",
    "            if film[i, j] <= 0:\n",
    "                choice[i, j] = 1\n",
    "\n",
    "    # print('choice', choice)   \n",
    "\n",
    "    depo_parcel = np.zeros(parcel.shape[0])\n",
    "    for i in range(parcel.shape[0]):\n",
    "        acceptList = np.zeros(react_table.shape[1], dtype=np.bool_)\n",
    "        for j in range(film.shape[1]):\n",
    "            react_rate = react_table[parcel[i], j, 0]\n",
    "            if react_rate > choice[i, j]:\n",
    "                acceptList[j] = True\n",
    "        # print( 'react_table',react_table[parcel[i], :, 0])\n",
    "        # # print(choice[i])\n",
    "        # print('accept',acceptList)  \n",
    "        # react_choice_indices = np.random.choice(int(np.sum(acceptList)))\n",
    "        react_choice_indices = np.where(acceptList)[0]\n",
    "        print( 'react_choice_indices', react_choice_indices)\n",
    "        if react_choice_indices.size > 0:\n",
    "            react_choice = np.random.choice(react_choice_indices)\n",
    "            reactList[i] = react_choice\n",
    "            # film[i, react_choice] -= 0.01      # left\n",
    "            # print('react type', react_table[parcel[i], react_choice, 1:])\n",
    "            if np.sum(react_table[parcel[i], react_choice, 1:]) > 0:\n",
    "                depo_parcel[i] = 1\n",
    "            if np.sum(react_table[parcel[i], react_choice, 1:]) < 0:\n",
    "                depo_parcel[i] = -1\n",
    "\n",
    "\n",
    "            etching_pick = np.where(depo_parcel == -1)\n",
    "            # film[i, :] += 0.01*react_table[parcel[i], react_choice, 1:]   # right\n",
    "    for i in range(parcel.shape[0]):\n",
    "        if depo_parcel[i] == -1:\n",
    "            film[i, :] += 0.01 * react_table[parcel[i], int(reactList[i]), 1:]\n",
    "    # film[etching_pick, :] += 0.01*react_table[parcel[etching_pick], react_choice, 1:]\n",
    "            # react_gen = react_table[parcel[i], react_choice, 1]\n",
    "            # if react_gen > 0:\n",
    "            #     film[i, int(react_gen)-1] += 0.01\n",
    "            # else:\n",
    "            #     parcelGen[i] = -react_gen\n",
    "                \n",
    "    return film, reactList, depo_parcel\n",
    "\n",
    "\n",
    "film = np.zeros((10, 2))\n",
    "\n",
    "film[:, 0] = 0.5\n",
    "film[:, 1] = 0.5\n",
    "print(film)\n",
    "# parcel = np.random.choice(2, size=10)\n",
    "parcel = np.ones(10, dtype=int)\n",
    "parcel[:5] = 0\n",
    "print(parcel)\n",
    "# test1 = UnitTest(parcel, film)\n",
    "# print(test1.testReact())\n",
    "film, reactList, depo_parcel = reaction_yield(parcel, film)\n",
    "\n",
    "print('-------------')\n",
    "print(film)\n",
    "\n",
    "print('---------------')\n",
    "print('reactList',reactList)\n",
    "\n",
    "print('depoparcel', depo_parcel)"
   ]
  },
  {
   "cell_type": "code",
   "execution_count": 10,
   "metadata": {},
   "outputs": [
    {
     "name": "stdout",
     "output_type": "stream",
     "text": [
      "(array([0, 1]), 1, 1.0)\n"
     ]
    }
   ],
   "source": [
    "# 定义反应表和初始的 film 元素\n",
    "react_table = np.array([[[0.700, 0, 1], [0.300, 0, 1]],\n",
    "                        [[0.200, -1, 0], [0.075, 0, -1]]])\n",
    "# film_elemnt = np.array([1, 0], dtype=float)\n",
    "film_elemnt = np.array([10, 20], dtype=float)\n",
    "def reaction(gas, film):\n",
    "    # 计算总长度\n",
    "    total_length = int(film.sum())\n",
    "\n",
    "    # 预分配反应类型和反应速率\n",
    "    reaction_type = np.empty(total_length, dtype=int)\n",
    "    reaction_rate = np.empty(total_length, dtype=float)\n",
    "\n",
    "    # 填充反应类型和反应速率\n",
    "    current_index = 0\n",
    "    for i in range(film.shape[0]):\n",
    "        length = int(film[i])\n",
    "        reaction_type[current_index:current_index + length] = i\n",
    "        reaction_rate[current_index:current_index + length] = react_table[gas, i, 0]\n",
    "        current_index += length\n",
    "\n",
    "    # 生成随机数列以确定反应发生的概率\n",
    "    reaction_list = np.random.rand(total_length)\n",
    "\n",
    "    # 筛选出发生反应的粒子\n",
    "    reaction_indices = np.where(reaction_rate > reaction_list)[0]\n",
    "    \n",
    "    # 如果有反应发生，随机选择一个反应\n",
    "    if reaction_indices.size > 0:\n",
    "        reaction_choice = np.random.choice(reaction_indices, 1)\n",
    "        reaction_particle = reaction_type[reaction_choice][0]\n",
    "        # print(reaction_particle)\n",
    "        # 更新 film 元素的状态\n",
    "        filmAddtion = np.array(react_table[gas, reaction_particle, 1:], dtype=int)\n",
    "        return filmAddtion, reaction_particle, np.sum(react_table[gas, reaction_particle, 1:]) # film, react_type, etchingDepo \n",
    "    else:\n",
    "        return np.zeros_like(film), -1, 0\n",
    "    \n",
    "\n",
    "print(reaction(0, film_elemnt))"
   ]
  },
  {
   "cell_type": "code",
   "execution_count": 424,
   "metadata": {},
   "outputs": [
    {
     "name": "stdout",
     "output_type": "stream",
     "text": [
      "[[1. 0.]\n",
      " [1. 0.]\n",
      " [1. 0.]\n",
      " [1. 0.]\n",
      " [1. 0.]\n",
      " [0. 1.]\n",
      " [0. 1.]\n",
      " [0. 1.]\n",
      " [0. 1.]\n",
      " [0. 1.]]\n",
      "[2 0 2 1 1 0 2 1 0 0]\n",
      "(10, 2)\n",
      "(10, 2)\n",
      "[[0.87371415 1.        ]\n",
      " [0.73144343 1.        ]\n",
      " [0.39864057 1.        ]\n",
      " [0.64276348 1.        ]\n",
      " [0.0105777  1.        ]\n",
      " [1.         0.70438947]\n",
      " [1.         0.04220356]\n",
      " [1.         0.20144074]\n",
      " [1.         0.89120776]\n",
      " [1.         0.03815122]]\n",
      "[0.7 0.3]\n",
      "[0.87371415 1.        ]\n",
      "[ True False]\n",
      "[0.7 0.3]\n",
      "[0.73144343 1.        ]\n",
      "[False False]\n",
      "[0.7 0.3]\n",
      "[0.39864057 1.        ]\n",
      "[ True False]\n",
      "[0.2   0.075]\n",
      "[0.64276348 1.        ]\n",
      "[False False]\n",
      "[0.2   0.075]\n",
      "[0.0105777 1.       ]\n",
      "[ True False]\n",
      "[0.7 0.3]\n",
      "[1.         0.70438947]\n",
      "[False False]\n",
      "[0.7 0.3]\n",
      "[1.         0.04220356]\n",
      "[ True False]\n",
      "[0.2   0.075]\n",
      "[1.         0.20144074]\n",
      "[False False]\n",
      "[0.7 0.3]\n",
      "[1.         0.89120776]\n",
      "[False False]\n",
      "[0.7 0.3]\n",
      "[1.         0.03815122]\n",
      "[False  True]\n",
      "-------------\n",
      "[[ 0.99  0.  ]\n",
      " [ 1.    0.  ]\n",
      " [ 0.99  0.  ]\n",
      " [ 1.    0.  ]\n",
      " [ 0.99  0.  ]\n",
      " [ 0.    1.  ]\n",
      " [-0.01  1.  ]\n",
      " [ 0.    1.  ]\n",
      " [ 0.    1.  ]\n",
      " [ 0.    0.99]]\n",
      "-------------\n",
      "[-0.  0. -0.  0.  1.  0. -0.  0.  0. -0.]\n",
      "---------------\n",
      "[0. 0. 0. 0. 0. 0. 0. 0. 0. 1.]\n"
     ]
    }
   ],
   "source": [
    "#react_t g[Cu]   s  [1,     2]\n",
    "#react_t g[Cu] g\\s  [Si,   Cu]\n",
    "            #  Cu    0.7,  0.3   \n",
    "            #  Ar    0.2   0.075\n",
    "react_table = np.array([[[0.7, 1, 2], [0.3, 0, 2]],\n",
    "                        [[0.2, -1, 0], [0.075, 0, -1]]])\n",
    "\n",
    "\n",
    "@jit(nopython=True)\n",
    "def reaction(parcel, film):\n",
    "    num_parcels = parcel.shape[0]\n",
    "    num_reactions = react_table.shape[1]\n",
    "    choice = np.random.rand(num_parcels, num_reactions)\n",
    "    print(choice.shape)\n",
    "    indiceFilm = film == 0\n",
    "    print(indiceFilm.shape)\n",
    "    # choice[indiceFilm] = 0\n",
    "\n",
    "    # Indicate if the film is zero\n",
    "    for i in range(num_parcels):\n",
    "        for j in range(num_reactions):\n",
    "            if film[i, j] == 0:\n",
    "                choice[i, j] = 1\n",
    "\n",
    "\n",
    "    print(choice)\n",
    "    parcelGen = np.zeros(num_parcels)\n",
    "    reactList = np.zeros(num_parcels)\n",
    "\n",
    "    for i in range(num_parcels):\n",
    "        acceptList = react_table[parcel[i], :, 0]/choice[i] > 1\n",
    "        print(react_table[parcel[i], :, 0])\n",
    "        print(choice[i])\n",
    "        print(acceptList)\n",
    "        react_choice_indices = np.where(acceptList)[0]\n",
    "        # print(react_choice_indices)\n",
    "        if react_choice_indices.size > 0:\n",
    "            react_choice = np.random.choice(react_choice_indices)\n",
    "            reactList[i] = react_choice\n",
    "            film[i, react_choice] -= 0.01\n",
    "            react_gen = react_table[parcel[i], react_choice, 1]\n",
    "            if react_gen > 0:\n",
    "                film[i, int(react_gen) - 1] += 0.01\n",
    "            else:\n",
    "                parcelGen[i] = -react_gen\n",
    "    \n",
    "    return film, parcelGen, reactList\n",
    "\n",
    "class UnitTest:\n",
    "    def __init__(self, parcel, film):\n",
    "        self.parcel = parcel\n",
    "        self.film = film\n",
    "    \n",
    "    def testReact(self):\n",
    "        film, parcelGen, reactList = reaction(self.parcel, self.film)\n",
    "        return film, parcelGen, reactList\n",
    "\n",
    "film = np.zeros((10, 2))\n",
    "\n",
    "film[:5, 0] = 1\n",
    "film[5:, 1] = 1\n",
    "print(film)\n",
    "parcel = np.random.choice(3, size=10)\n",
    "print(parcel)\n",
    "# test1 = UnitTest(parcel, film)\n",
    "# print(test1.testReact())\n",
    "film, parcelGen, reactList = reaction(parcel, film)\n",
    "\n",
    "print('-------------')\n",
    "print(film)\n",
    "print('-------------')\n",
    "print(parcelGen)\n",
    "print('---------------')\n",
    "print(reactList)"
   ]
  },
  {
   "cell_type": "code",
   "execution_count": 423,
   "metadata": {},
   "outputs": [
    {
     "data": {
      "text/plain": [
       "False"
      ]
     },
     "execution_count": 423,
     "metadata": {},
     "output_type": "execute_result"
    }
   ],
   "source": [
    "0.7 > 0.7196888 "
   ]
  },
  {
   "cell_type": "code",
   "execution_count": 397,
   "metadata": {},
   "outputs": [
    {
     "name": "stdout",
     "output_type": "stream",
     "text": [
      "[[1. 0.]\n",
      " [1. 0.]\n",
      " [1. 0.]\n",
      " [1. 0.]\n",
      " [1. 0.]\n",
      " [0. 1.]\n",
      " [0. 1.]\n",
      " [0. 1.]\n",
      " [0. 1.]\n",
      " [0. 1.]]\n"
     ]
    },
    {
     "data": {
      "text/plain": [
       "array([[False,  True],\n",
       "       [False,  True],\n",
       "       [False,  True],\n",
       "       [False,  True],\n",
       "       [False,  True],\n",
       "       [ True, False],\n",
       "       [ True, False],\n",
       "       [ True, False],\n",
       "       [ True, False],\n",
       "       [ True, False]])"
      ]
     },
     "execution_count": 397,
     "metadata": {},
     "output_type": "execute_result"
    }
   ],
   "source": [
    "@jit(nopython=True)\n",
    "def testnumba1():\n",
    "    film = np.zeros((10, 2))\n",
    "\n",
    "    film[:5, 0] = 1\n",
    "    film[5:, 1] = 1\n",
    "    print(film)\n",
    "\n",
    "    indiceFilm = film == 0\n",
    "    return indiceFilm\n",
    "\n",
    "testnumba1()"
   ]
  },
  {
   "cell_type": "code",
   "execution_count": 386,
   "metadata": {},
   "outputs": [
    {
     "name": "stdout",
     "output_type": "stream",
     "text": [
      "(3, 10, 2)\n"
     ]
    }
   ],
   "source": [
    "react_table = np.array([[[0.01, 2], [0.01, 3], [0.01, 4], [0.01, -4], [0.05, 7], [0.00, 0], [0.05, 8], [0.00, 0], [0.06, 10], [0.00, 0]],\n",
    "                        [[0.05, 5], [0.00, 0], [0.00, 0], [0.00, 0], [0.05, 6], [0.00, 0], [0.00, 0], [0.00, 0], [0.00, 0], [0.00, 0]],\n",
    "                        [[0.27, -1], [0.27, -2], [0.27, -3], [0.27, -4], [0.27, -5], [0.27, -6], [0.27, -7], [0.27, -8], [0.27, -9], [0.27, -10]]])\n",
    "\n",
    "\n",
    "print(react_table.shape)"
   ]
  },
  {
   "cell_type": "code",
   "execution_count": 452,
   "metadata": {},
   "outputs": [
    {
     "name": "stdout",
     "output_type": "stream",
     "text": [
      "[2 2 1 0 1 1 0 1 2 1]\n",
      "[[ 0.    0.    0.    0.    0.    0.    0.    0.    0.    0.  ]\n",
      " [ 0.    0.    0.    0.   -0.01  0.    0.    0.    0.    0.  ]\n",
      " [ 0.    0.    0.    0.    0.    0.    0.    0.    0.    0.  ]\n",
      " [ 0.    0.    0.    0.    0.    0.    0.    0.    0.    0.  ]\n",
      " [ 0.    0.    0.    0.    0.    0.    0.    0.    0.    0.  ]\n",
      " [ 0.    0.    0.    0.    0.    0.    0.    0.    0.    0.  ]\n",
      " [ 0.    0.    0.    0.   -0.01  0.    0.01  0.    0.    0.  ]\n",
      " [ 0.    0.    0.    0.    0.    0.    0.    0.    0.    0.  ]\n",
      " [ 0.    0.    0.    0.    0.    0.    0.   -0.01  0.    0.  ]\n",
      " [ 0.    0.    0.    0.    0.    0.    0.    0.    0.    0.  ]]\n",
      "-------------\n",
      "[0. 5. 0. 0. 0. 0. 0. 0. 8. 0.]\n",
      "---------------\n",
      "[0. 4. 0. 0. 0. 0. 4. 0. 7. 0.]\n"
     ]
    }
   ],
   "source": [
    "#solid = film[i, j, k, 10][Si, SiF1, SiF2, SiF3, SiO SiO2, SiOF, SiOF2, SiO2F, SiO2F2]\n",
    "#react_t g[F, O, ion] s  [1,          2,           3,          4,       5 ,   6,    7,    8,   9,  10]\n",
    "#react_t g[F, O, ion] s  [Si,       SiF1,       SiF2,       SiF3,      SiO, SiO2, SiOF, SiOF2, SiO2F,SiO2F2]\n",
    "\n",
    "react_table = np.array([[[0.01, 2], [0.01, 3], [0.01, 4], [0.01, -4], [0.05, 7], [0.00, 0], [0.05, 8], [0.00, 0], [0.06, 10], [0.00, 0]],\n",
    "                        [[0.05, 5], [0.00, 0], [0.00, 0], [0.00, 0], [0.05, 6], [0.00, 0], [0.00, 0], [0.00, 0], [0.00, 0], [0.00, 0]],\n",
    "                        [[0.27, -1], [0.27, -2], [0.27, -3], [0.27, -4], [0.27, -5], [0.27, -6], [0.27, -7], [0.27, -8], [0.27, -9], [0.27, -10]]])\n",
    "\n",
    "@jit(nopython=True)\n",
    "def reaction(parcel, film):\n",
    "    choice = np.random.rand(parcel.shape[0], react_table.shape[1])\n",
    "    parcelGen = np.zeros(parcel.shape[0])\n",
    "    reactList = np.zeros(parcel.shape[0])\n",
    "    for i in range(parcel.shape[0]):\n",
    "        acceptList = np.zeros(react_table.shape[1], dtype=np.bool_)\n",
    "        \n",
    "        for j in range(film.shape[1]):\n",
    "            react_rate = react_table[parcel[i], j, 0]\n",
    "            if react_rate > choice[i, j]:\n",
    "                acceptList[j] = True\n",
    "        \n",
    "        # react_choice_indices = np.random.choice(int(np.sum(acceptList)))\n",
    "        react_choice_indices = np.where(acceptList)[0]\n",
    "        # print(react_choice_indices)\n",
    "        if react_choice_indices.size > 0:\n",
    "            react_choice = np.random.choice(react_choice_indices)\n",
    "            reactList[i] = react_choice\n",
    "            film[i, react_choice] -= 0.01\n",
    "            react_gen = react_table[parcel[i], react_choice, 1]\n",
    "            if react_gen > 0:\n",
    "                film[i, int(react_gen)-1] += 0.01\n",
    "            else:\n",
    "                parcelGen[i] = -react_gen\n",
    "                \n",
    "    return film, parcelGen, reactList\n",
    "\n",
    "\n",
    "\n",
    "class UnitTest:\n",
    "    def __init__(self, parcel, film):\n",
    "        self.parcel = parcel\n",
    "        self.film = film\n",
    "    \n",
    "    def testReact(self):\n",
    "        film, parcelGen, reactList = reaction(self.parcel, self.film)\n",
    "        return film, parcelGen, reactList\n",
    "\n",
    "\n",
    "film = np.zeros((10, 10))\n",
    "parcel = np.random.choice(3, size=10)\n",
    "print(parcel)\n",
    "# test1 = UnitTest(parcel, film)\n",
    "# print(test1.testReact())\n",
    "film, parcelGen, reactList = reaction(parcel, film)\n",
    "print(film)\n",
    "print('-------------')\n",
    "print(parcelGen)\n",
    "print('---------------')\n",
    "print(reactList)"
   ]
  },
  {
   "cell_type": "code",
   "execution_count": 124,
   "metadata": {},
   "outputs": [
    {
     "name": "stdout",
     "output_type": "stream",
     "text": [
      "Numba time: 1.360035 seconds\n"
     ]
    }
   ],
   "source": [
    "film = np.zeros((1000, 10))\n",
    "parcel = np.random.choice(3, size=1000)\n",
    "\n",
    "test1 = UnitTest(parcel, film)\n",
    "test1.testReact()\n",
    "numba_time = timeit.timeit(lambda: test1.testReact(), number=100)\n",
    "print(f\"Numba time: {numba_time:.6f} seconds\")"
   ]
  },
  {
   "cell_type": "code",
   "execution_count": 147,
   "metadata": {},
   "outputs": [
    {
     "name": "stdout",
     "output_type": "stream",
     "text": [
      "Numba time: 0.320966 seconds\n"
     ]
    }
   ],
   "source": [
    "film = np.zeros((100, 10))\n",
    "parcel = np.random.choice(3, size=100)\n",
    "\n",
    "test1 = UnitTest(parcel, film)\n",
    "test1.testReact()\n",
    "numba_time = timeit.timeit(lambda: test1.testReact(), number=10000)\n",
    "print(f\"Numba time: {numba_time:.6f} seconds\")\n"
   ]
  },
  {
   "cell_type": "code",
   "execution_count": 385,
   "metadata": {},
   "outputs": [
    {
     "name": "stdout",
     "output_type": "stream",
     "text": [
      "[0 2 2 1 1 1 2 0 2 1]\n",
      "[[ 0.    0.    0.    0.    0.    0.    0.    0.    0.    0.  ]\n",
      " [ 0.    0.    0.   -0.01  0.    0.    0.    0.    0.    0.  ]\n",
      " [ 0.    0.    0.    0.    0.    0.    0.   -0.01  0.    0.  ]\n",
      " [ 0.    0.    0.    0.    0.    0.    0.    0.    0.    0.  ]\n",
      " [ 0.    0.    0.    0.    0.    0.    0.    0.    0.    0.  ]\n",
      " [ 0.    0.    0.    0.    0.    0.    0.    0.    0.    0.  ]\n",
      " [ 0.    0.   -0.01  0.    0.    0.    0.    0.    0.    0.  ]\n",
      " [ 0.    0.    0.    0.    0.    0.    0.    0.    0.    0.  ]\n",
      " [ 0.    0.    0.   -0.01  0.    0.    0.    0.    0.    0.  ]\n",
      " [ 0.    0.    0.    0.    0.    0.    0.    0.    0.    0.  ]]\n",
      "-------------\n",
      "[0. 4. 8. 0. 0. 0. 3. 0. 4. 0.]\n",
      "---------------\n",
      "[0. 3. 7. 0. 0. 0. 2. 0. 3. 0.]\n"
     ]
    }
   ],
   "source": [
    "react_table = np.array([[[0.01, 2], [0.01, 3], [0.01, 4], [0.01, -4], [0.05, 7], [0.00, 0], [0.05, 8], [0.00, 0], [0.06, 10], [0.00, 0]],\n",
    "                        [[0.05, 5], [0.00, 0], [0.00, 0], [0.00, 0], [0.05, 6], [0.00, 0], [0.00, 0], [0.00, 0], [0.00, 0], [0.00, 0]],\n",
    "                        [[0.27, -1], [0.27, -2], [0.27, -3], [0.27, -4], [0.27, -5], [0.27, -6], [0.27, -7], [0.27, -8], [0.27, -9], [0.27, -10]]])\n",
    "\n",
    "@jit(nopython=True)\n",
    "def reaction(parcel, film):\n",
    "    num_parcels = parcel.shape[0]\n",
    "    num_reactions = react_table.shape[1]\n",
    "    choice = np.random.rand(num_parcels, num_reactions)\n",
    "    parcelGen = np.zeros(num_parcels)\n",
    "    reactList = np.zeros(num_parcels)\n",
    "\n",
    "    for i in range(num_parcels):\n",
    "        acceptList = react_table[parcel[i], :, 0] > choice[i]\n",
    "        react_choice_indices = np.where(acceptList)[0]\n",
    "        # print(react_choice_indices)\n",
    "        if react_choice_indices.size > 0:\n",
    "            react_choice = np.random.choice(react_choice_indices)\n",
    "            reactList[i] = react_choice\n",
    "            film[i, react_choice] -= 0.01\n",
    "            react_gen = react_table[parcel[i], react_choice, 1]\n",
    "            if react_gen > 0:\n",
    "                film[i, int(react_gen) - 1] += 0.01\n",
    "            else:\n",
    "                parcelGen[i] = -react_gen\n",
    "    \n",
    "    return film, parcelGen, reactList\n",
    "\n",
    "class UnitTest:\n",
    "    def __init__(self, parcel, film):\n",
    "        self.parcel = parcel\n",
    "        self.film = film\n",
    "    \n",
    "    def testReact(self):\n",
    "        film, parcelGen, reactList = reaction(self.parcel, self.film)\n",
    "        return film, parcelGen, reactList\n",
    "\n",
    "film = np.zeros((10, 10))\n",
    "parcel = np.random.choice(3, size=10)\n",
    "print(parcel)\n",
    "# test1 = UnitTest(parcel, film)\n",
    "# print(test1.testReact())\n",
    "film, parcelGen, reactList = reaction(parcel, film)\n",
    "print(film)\n",
    "print('-------------')\n",
    "print(parcelGen)\n",
    "print('---------------')\n",
    "print(reactList)\n"
   ]
  },
  {
   "cell_type": "code",
   "execution_count": 140,
   "metadata": {},
   "outputs": [
    {
     "name": "stdout",
     "output_type": "stream",
     "text": [
      "Numba time: 0.345110 seconds\n"
     ]
    }
   ],
   "source": [
    "film = np.zeros((100, 10))\n",
    "parcel = np.random.choice(3, size=100)\n",
    "\n",
    "test1 = UnitTest(parcel, film)\n",
    "test1.testReact()\n",
    "numba_time = timeit.timeit(lambda: test1.testReact(), number=10000)\n",
    "print(f\"Numba time: {numba_time:.6f} seconds\")\n"
   ]
  },
  {
   "cell_type": "code",
   "execution_count": 134,
   "metadata": {},
   "outputs": [
    {
     "name": "stdout",
     "output_type": "stream",
     "text": [
      "Performance time: 0.005934 seconds\n"
     ]
    }
   ],
   "source": [
    "def test_performance():\n",
    "    film = np.zeros((10, 10))\n",
    "    parcel = np.random.choice(3, size=10)\n",
    "    test1 = UnitTest(parcel, film)\n",
    "    \n",
    "    # 测试反应函数的性能\n",
    "    performance_time = timeit.timeit(lambda: test1.testReact(), number=1000)\n",
    "    print(f\"Performance time: {performance_time:.6f} seconds\")\n",
    "\n",
    "test_performance()"
   ]
  },
  {
   "cell_type": "code",
   "execution_count": 108,
   "metadata": {},
   "outputs": [
    {
     "name": "stdout",
     "output_type": "stream",
     "text": [
      "Numba time: 0.002657 seconds\n"
     ]
    }
   ],
   "source": [
    "film = np.zeros((100, 10))\n",
    "parcel = np.random.choice(3, size=100)\n",
    "\n",
    "test1 = UnitTest(parcel, film)\n",
    "test1.testReact()\n",
    "numba_time = timeit.timeit(lambda: test1.testReact(), number=100)\n",
    "print(f\"Numba time: {numba_time:.6f} seconds\")"
   ]
  },
  {
   "cell_type": "code",
   "execution_count": 110,
   "metadata": {},
   "outputs": [
    {
     "name": "stdout",
     "output_type": "stream",
     "text": [
      "Numba time: 0.109467 seconds\n"
     ]
    }
   ],
   "source": [
    "film = np.zeros((100, 10))\n",
    "parcel = np.random.choice(3, size=100)\n",
    "\n",
    "test1 = UnitTest(parcel, film)\n",
    "test1.testReact()\n",
    "numba_time = timeit.timeit(lambda: test1.testReact(), number=100)\n",
    "print(f\"Numba time: {numba_time:.6f} seconds\")"
   ]
  },
  {
   "cell_type": "code",
   "execution_count": 148,
   "metadata": {},
   "outputs": [],
   "source": [
    "def diffDeflection(ur):\n",
    "    kB = 1.380649e-23\n",
    "    Al_m = 44.803928e-27\n",
    "    N_A = 6.02214076*10**23\n",
    "    Ar_m = 39.938/(N_A*1000)\n",
    "    Tw = 300\n",
    "\n",
    "    return Al_m/(kB*Tw)*ur*np.exp(-Al_m*ur*ur/(2*kB*Tw))"
   ]
  },
  {
   "cell_type": "code",
   "execution_count": 151,
   "metadata": {},
   "outputs": [
    {
     "data": {
      "text/plain": [
       "[<matplotlib.lines.Line2D at 0x24289025510>]"
      ]
     },
     "execution_count": 151,
     "metadata": {},
     "output_type": "execute_result"
    },
    {
     "data": {
      "image/png": "[encoded data removed]",
      "text/plain": [
       "<Figure size 640x480 with 1 Axes>"
      ]
     },
     "metadata": {},
     "output_type": "display_data"
    }
   ],
   "source": [
    "x = np.linspace(0, 1000, 1000)\n",
    "y = diffDeflection(x)\n",
    "\n",
    "fig, ax = plt.subplots(1, 1)\n",
    "\n",
    "ax.plot(x, y)"
   ]
  },
  {
   "cell_type": "code",
   "execution_count": 154,
   "metadata": {},
   "outputs": [],
   "source": [
    "def yield_func( theta):\n",
    "    yield_hist = np.array([0, 10, 90, 100])\n",
    "    sputterY = np.zeros_like(theta)\n",
    "    indice = np.logical_and(theta > yield_hist[0], theta < yield_hist[1])\n",
    "    indice |= np.logical_and(theta > yield_hist[2], theta < yield_hist[3])\n",
    "    sputterY[indice] = 1\n",
    "    return sputterY\n"
   ]
  },
  {
   "cell_type": "code",
   "execution_count": 155,
   "metadata": {},
   "outputs": [
    {
     "data": {
      "text/plain": [
       "array([0, 1, 1, 1, 1, 1, 1, 1, 1, 1, 0, 0, 0, 0, 0, 0, 0, 0, 0, 0, 0, 0,\n",
       "       0, 0, 0, 0, 0, 0, 0, 0, 0, 0, 0, 0, 0, 0, 0, 0, 0, 0, 0, 0, 0, 0,\n",
       "       0, 0, 0, 0, 0, 0, 0, 0, 0, 0, 0, 0, 0, 0, 0, 0, 0, 0, 0, 0, 0, 0,\n",
       "       0, 0, 0, 0, 0, 0, 0, 0, 0, 0, 0, 0, 0, 0, 0, 0, 0, 0, 0, 0, 0, 0,\n",
       "       0, 0, 0, 1, 1, 1, 1, 1, 1, 1, 1, 1])"
      ]
     },
     "execution_count": 155,
     "metadata": {},
     "output_type": "execute_result"
    }
   ],
   "source": [
    "yield_func(np.arange(100))"
   ]
  },
  {
   "cell_type": "code",
   "execution_count": 250,
   "metadata": {},
   "outputs": [
    {
     "name": "stdout",
     "output_type": "stream",
     "text": [
      "1.0\n",
      "[0.09950372 0.         0.99503719]\n",
      "-1.8905706613989797\n",
      "[1.37623762 1.         1.76237624]\n"
     ]
    }
   ],
   "source": [
    "vel = np.array([1, 1, -2])\n",
    "\n",
    "normal = np.array([0.1, 0, 1])\n",
    "normal = normal/np.linalg.norm(normal)\n",
    "print(np.linalg.norm(normal))\n",
    "print(normal)\n",
    "print(vel@normal)\n",
    "\n",
    "velp = vel - 2*vel@normal*normal\n",
    "\n",
    "print(velp)"
   ]
  },
  {
   "cell_type": "code",
   "execution_count": 258,
   "metadata": {},
   "outputs": [
    {
     "data": {
      "image/png": "[encoded data removed]",
      "text/plain": [
       "<Figure size 640x480 with 1 Axes>"
      ]
     },
     "metadata": {},
     "output_type": "display_data"
    }
   ],
   "source": [
    "ax = plt.figure().add_subplot(projection='3d')\n",
    "\n",
    "# Make the grid\n",
    "origin = np.zeros(3)\n",
    "# Make the direction data for the arrows\n",
    "\n",
    "ax.quiver(-vel[0],       -vel[1],    -vel[2], vel[0],       vel[1],    vel[2], color='red')\n",
    "ax.quiver(origin[0], origin[1], origin[2], normal[0], normal[1], normal[2], color='blue')\n",
    "ax.quiver(origin[0], origin[1], origin[2], velp[0], velp[1], velp[2], color='green')\n",
    "ax.set_xlim(-2, 2)\n",
    "ax.set_ylim(-2, 2)\n",
    "ax.set_zlim(-2, 2)\n",
    "ax.set_xlabel('x')\n",
    "ax.set_ylabel('y')\n",
    "ax.set_zlabel('z')\n",
    "ax.view_init(elev=30, azim=50, roll=0)\n",
    "plt.show()"
   ]
  },
  {
   "cell_type": "code",
   "execution_count": 314,
   "metadata": {},
   "outputs": [
    {
     "ename": "ValueError",
     "evalue": "matmul: Input operand 1 has a mismatch in its core dimension 0, with gufunc signature (n?,k),(k,m?)->(n?,m?) (size 10 is different from 3)",
     "output_type": "error",
     "traceback": [
      "\u001b[1;31m---------------------------------------------------------------------------\u001b[0m",
      "\u001b[1;31mValueError\u001b[0m                                Traceback (most recent call last)",
      "Cell \u001b[1;32mIn[314], line 11\u001b[0m\n\u001b[0;32m      9\u001b[0m     velN[i] \u001b[38;5;241m=\u001b[39m vel\n\u001b[0;32m     10\u001b[0m     normalN[i] \u001b[38;5;241m=\u001b[39m normal\n\u001b[1;32m---> 11\u001b[0m velp \u001b[38;5;241m=\u001b[39m velN \u001b[38;5;241m-\u001b[39m \u001b[38;5;241m2\u001b[39m\u001b[38;5;241m*\u001b[39mvelN\u001b[38;5;129m@normalN\u001b[39m\u001b[38;5;241m*\u001b[39mnormalN\n\u001b[0;32m     13\u001b[0m Ut \u001b[38;5;241m=\u001b[39m velN \u001b[38;5;241m-\u001b[39m velN\u001b[38;5;129m@normal\u001b[39m\u001b[38;5;241m*\u001b[39mnormal\n\u001b[0;32m     15\u001b[0m tw1 \u001b[38;5;241m=\u001b[39m Ut\u001b[38;5;241m/\u001b[39mnp\u001b[38;5;241m.\u001b[39mlinalg\u001b[38;5;241m.\u001b[39mnorm(Ut)\n",
      "\u001b[1;31mValueError\u001b[0m: matmul: Input operand 1 has a mismatch in its core dimension 0, with gufunc signature (n?,k),(k,m?)->(n?,m?) (size 10 is different from 3)"
     ]
    }
   ],
   "source": [
    "N = 10\n",
    "vel = np.array([1, 0, -2])\n",
    "velN = np.zeros((N, 3))\n",
    "\n",
    "normal = np.array([0.4, 0, 1])\n",
    "normal = normal/np.linalg.norm(normal)\n",
    "normalN = np.zeros((N, 3))\n",
    "for i in range(N):\n",
    "    velN[i] = vel\n",
    "    normalN[i] = normal\n",
    "velp = velN - 2*velN@normalN*normalN\n",
    "\n",
    "Ut = velN - velN@normal*normal\n",
    "\n",
    "tw1 = Ut/np.linalg.norm(Ut)\n",
    "print(tw1)\n",
    "print(np.linalg.norm(tw1))\n",
    "tw2 = np.cross(tw1, normal)\n",
    "\n",
    "print(tw2)"
   ]
  },
  {
   "cell_type": "code",
   "execution_count": 309,
   "metadata": {},
   "outputs": [
    {
     "ename": "ValueError",
     "evalue": "shapes (10,) and (3,) not aligned: 10 (dim 0) != 3 (dim 0)",
     "output_type": "error",
     "traceback": [
      "\u001b[1;31m---------------------------------------------------------------------------\u001b[0m",
      "\u001b[1;31mValueError\u001b[0m                                Traceback (most recent call last)",
      "Cell \u001b[1;32mIn[309], line 5\u001b[0m\n\u001b[0;32m      3\u001b[0m T \u001b[38;5;241m=\u001b[39m \u001b[38;5;241m100\u001b[39m\n\u001b[0;32m      4\u001b[0m N \u001b[38;5;241m=\u001b[39m \u001b[38;5;241m10\u001b[39m\n\u001b[1;32m----> 5\u001b[0m np\u001b[38;5;241m.\u001b[39mdot(np\u001b[38;5;241m.\u001b[39mrandom\u001b[38;5;241m.\u001b[39mrandn(N), tw1)\n",
      "\u001b[1;31mValueError\u001b[0m: shapes (10,) and (3,) not aligned: 10 (dim 0) != 3 (dim 0)"
     ]
    }
   ],
   "source": [
    "kB = 1.380649e-23\n",
    "Al_m = 44.803928e-27\n",
    "T = 100\n",
    "N = 10\n",
    "np.dot(np.random.randn(N), tw1)"
   ]
  },
  {
   "cell_type": "code",
   "execution_count": 306,
   "metadata": {},
   "outputs": [
    {
     "ename": "ValueError",
     "evalue": "operands could not be broadcast together with shapes (10,) (3,) ",
     "output_type": "error",
     "traceback": [
      "\u001b[1;31m---------------------------------------------------------------------------\u001b[0m",
      "\u001b[1;31mValueError\u001b[0m                                Traceback (most recent call last)",
      "Cell \u001b[1;32mIn[306], line 5\u001b[0m\n\u001b[0;32m      3\u001b[0m T \u001b[38;5;241m=\u001b[39m \u001b[38;5;241m100\u001b[39m\n\u001b[0;32m      4\u001b[0m N \u001b[38;5;241m=\u001b[39m \u001b[38;5;241m10\u001b[39m\n\u001b[1;32m----> 5\u001b[0m U \u001b[38;5;241m=\u001b[39m np\u001b[38;5;241m.\u001b[39msqrt(kB\u001b[38;5;241m*\u001b[39mT\u001b[38;5;241m/\u001b[39mAl_m)\u001b[38;5;241m*\u001b[39m(np\u001b[38;5;241m.\u001b[39mrandom\u001b[38;5;241m.\u001b[39mrandn(N)\u001b[38;5;241m*\u001b[39mtw1 \u001b[38;5;241m+\u001b[39m np\u001b[38;5;241m.\u001b[39mrandom\u001b[38;5;241m.\u001b[39mrandn(N)\u001b[38;5;241m*\u001b[39mtw2 \u001b[38;5;241m-\u001b[39m np\u001b[38;5;241m.\u001b[39msqrt(\u001b[38;5;241m-\u001b[39m\u001b[38;5;241m2\u001b[39m\u001b[38;5;241m*\u001b[39mnp\u001b[38;5;241m.\u001b[39mlog((\u001b[38;5;241m1\u001b[39m\u001b[38;5;241m-\u001b[39mnp\u001b[38;5;241m.\u001b[39mrandom\u001b[38;5;241m.\u001b[39mrand(N))))\u001b[38;5;241m*\u001b[39mnormal)\n",
      "\u001b[1;31mValueError\u001b[0m: operands could not be broadcast together with shapes (10,) (3,) "
     ]
    }
   ],
   "source": [
    "kB = 1.380649e-23\n",
    "Al_m = 44.803928e-27\n",
    "T = 100\n",
    "N = 10\n",
    "U = np.sqrt(kB*T/Al_m)*(np.random.randn(N)*tw1 + np.random.randn(N)*tw2 - np.sqrt(-2*np.log((1-np.random.rand(N))))*normal)"
   ]
  },
  {
   "cell_type": "code",
   "execution_count": 305,
   "metadata": {},
   "outputs": [
    {
     "name": "stdout",
     "output_type": "stream",
     "text": [
      "[ -10.85392311  -94.05416338 -391.7431983 ]\n"
     ]
    }
   ],
   "source": [
    "print(U)"
   ]
  },
  {
   "cell_type": "code",
   "execution_count": 296,
   "metadata": {},
   "outputs": [
    {
     "data": {
      "text/plain": [
       "array([-1.92983475, -0.63181178,  0.4142361 , -0.74856157, -1.01294495,\n",
       "       -0.52180346, -0.44314008, -0.05644121,  1.09828999,  0.42828418])"
      ]
     },
     "execution_count": 296,
     "metadata": {},
     "output_type": "execute_result"
    }
   ],
   "source": [
    "np.random.randn(10)"
   ]
  },
  {
   "cell_type": "code",
   "execution_count": 362,
   "metadata": {},
   "outputs": [
    {
     "name": "stdout",
     "output_type": "stream",
     "text": [
      "[-0.92847669  0.         -0.37139068]\n",
      "0.9999999999999999\n",
      "[0. 1. 0.]\n"
     ]
    }
   ],
   "source": [
    "N = 10\n",
    "vel = np.array([-1, 0, -2])\n",
    "\n",
    "\n",
    "normal = np.array([-0.4, 0, 1])\n",
    "normal = normal/np.linalg.norm(normal)\n",
    "normalN = np.zeros((N, 3))\n",
    "\n",
    "velp = vel - 2*vel@normal*normal\n",
    "\n",
    "Ut = vel - vel@normal*normal\n",
    "\n",
    "tw1 = Ut/np.linalg.norm(Ut)\n",
    "print(tw1)\n",
    "print(np.linalg.norm(tw1))\n",
    "tw2 = np.cross(tw1, normal)\n",
    "\n",
    "print(tw2)\n",
    "\n",
    "kB = 1.380649e-23\n",
    "Al_m = 44.803928e-27\n",
    "T = 100\n",
    "N = 10\n",
    "U = np.sqrt(kB*T/Al_m)*(np.random.randn()*tw1 + np.random.randn()*tw2 - np.sqrt(-2*np.log((1-np.random.rand())))*normal)"
   ]
  },
  {
   "cell_type": "code",
   "execution_count": 363,
   "metadata": {},
   "outputs": [
    {
     "name": "stdout",
     "output_type": "stream",
     "text": [
      "[[ 0.80035962 -0.5973781   0.05063479]\n",
      " [ 0.44808491  0.02338931 -0.89368498]\n",
      " [ 0.78421062 -0.52546474 -0.33000077]\n",
      " [ 0.30724906  0.26551431 -0.91383815]\n",
      " [-0.16702636  0.51591197 -0.84020059]\n",
      " [ 0.45541675 -0.04184518 -0.88929442]\n",
      " [ 0.31413364 -0.43057686 -0.8461227 ]\n",
      " [ 0.37259192 -0.55682363 -0.74237639]\n",
      " [ 0.28976604  0.52508719 -0.80019941]\n",
      " [ 0.5063082   0.42434317 -0.75072291]\n",
      " [ 0.03548862 -0.24882107 -0.96789908]\n",
      " [ 0.8236368  -0.04905932 -0.56499169]\n",
      " [ 0.25813817 -0.64628938 -0.71810496]\n",
      " [ 0.97684929 -0.21385027  0.00578989]\n",
      " [-0.57163717  0.43075306 -0.69834286]\n",
      " [ 0.6037405  -0.57240311 -0.5548442 ]\n",
      " [ 0.8793797  -0.20015925 -0.43200418]\n",
      " [ 0.28546029 -0.78422599 -0.55091017]\n",
      " [ 0.7004111  -0.67737382  0.22491999]\n",
      " [ 0.41273743  0.90900049 -0.05801654]\n",
      " [ 0.19644558  0.35773491 -0.91292654]\n",
      " [-0.2262381  -0.89754679 -0.37845221]\n",
      " [ 0.95888012 -0.08945778 -0.26934404]\n",
      " [ 0.71394684  0.38514656 -0.5847581 ]\n",
      " [-0.04945082  0.48484877 -0.87319888]\n",
      " [ 0.06922318  0.24230629 -0.96772714]\n",
      " [ 0.18246418  0.49282531 -0.85078202]\n",
      " [ 0.15199572 -0.47161645 -0.86860534]\n",
      " [-0.37174006  0.44401443 -0.81526714]\n",
      " [ 0.41560554 -0.01399621 -0.90943726]\n",
      " [-0.00507115 -0.70383488 -0.71034551]\n",
      " [ 0.20736249 -0.83763408 -0.50534141]\n",
      " [-0.20320545 -0.50821542 -0.83691375]\n",
      " [ 0.12943568  0.64987228 -0.74894087]\n",
      " [ 0.51030203  0.18298324 -0.8403029 ]\n",
      " [-0.46117561  0.44863544 -0.76553465]\n",
      " [ 0.82413531  0.00716444 -0.56634765]\n",
      " [-0.27878192 -0.32501055 -0.90368622]\n",
      " [-0.65148123  0.34915314 -0.67354606]\n",
      " [-0.56947846  0.02908227 -0.82149164]\n",
      " [ 0.54596607 -0.54504599 -0.63627504]\n",
      " [ 0.9611067   0.27015228 -0.05737292]\n",
      " [ 0.27406377  0.68582177 -0.67419399]\n",
      " [-0.06711717  0.5634154  -0.823443  ]\n",
      " [ 0.01548552  0.64084167 -0.76751687]\n",
      " [-0.19983936 -0.62105669 -0.75786068]\n",
      " [ 0.46791831  0.6503433  -0.59841963]\n",
      " [-0.42042143 -0.08188436 -0.90362645]\n",
      " [-0.41609039 -0.84184484 -0.34375288]\n",
      " [ 0.52224972  0.40543766 -0.75025031]]\n",
      "[1. 1. 1. 1. 1. 1. 1. 1. 1. 1. 1. 1. 1. 1. 1. 1. 1. 1. 1. 1. 1. 1. 1. 1.\n",
      " 1. 1. 1. 1. 1. 1. 1. 1. 1. 1. 1. 1. 1. 1. 1. 1. 1. 1. 1. 1. 1. 1. 1. 1.\n",
      " 1. 1.]\n"
     ]
    }
   ],
   "source": [
    "N = 50\n",
    "\n",
    "UN = np.zeros((N, 3))\n",
    "for i in range(N):\n",
    "    U = np.sqrt(kB*T/Al_m)*(np.random.randn()*tw1 + np.random.randn()*tw2 - np.sqrt(-2*np.log((1-np.random.rand())))*normal)\n",
    "    UN[i] = U\n",
    "\n",
    "\n",
    "UN = np.divide(UN.T, np.linalg.norm(UN, axis=1)).T\n",
    "print(UN)\n",
    "\n",
    "print(np.linalg.norm(UN, axis=1))"
   ]
  },
  {
   "cell_type": "code",
   "execution_count": 368,
   "metadata": {},
   "outputs": [
    {
     "name": "stdout",
     "output_type": "stream",
     "text": [
      "[-0.92847669  0.         -0.37139068]\n",
      "0.9999999999999999\n",
      "[[ 0.32914895  0.54219389 -0.77310203]\n",
      " [ 0.38211344 -0.33014324 -0.86313079]\n",
      " [-0.16604593 -0.71337309 -0.6808286 ]\n",
      " [ 0.932748   -0.31528962 -0.17485317]\n",
      " [-0.10677062  0.45481406 -0.884163  ]\n",
      " [-0.27532328 -0.23095456 -0.93319723]\n",
      " [ 0.79996302  0.56995855 -0.18763373]\n",
      " [ 0.03316141  0.77972559 -0.62524261]\n",
      " [ 0.66441546  0.38309082 -0.6417114 ]\n",
      " [ 0.88886787 -0.4527272  -0.07037034]\n",
      " [-0.19275984  0.58021686 -0.79132297]\n",
      " [ 0.10609862 -0.3648761  -0.92499109]\n",
      " [-0.4397784   0.03683361 -0.89735068]\n",
      " [-0.02556558 -0.81291918 -0.5818151 ]\n",
      " [ 0.5921936  -0.48228665 -0.64552794]\n",
      " [ 0.10870355  0.8452049  -0.52327068]\n",
      " [ 0.29959178  0.64250865 -0.70528533]\n",
      " [ 0.7614093  -0.64306114 -0.0820259 ]\n",
      " [-0.14095527 -0.87384915 -0.46531631]\n",
      " [-0.01174183  0.06455857 -0.99784484]\n",
      " [-0.23127756  0.38151296 -0.89496288]\n",
      " [-0.65856374  0.03892989 -0.75151731]\n",
      " [ 0.4894729  -0.06114187 -0.86987238]\n",
      " [-0.33087293 -0.04276585 -0.94270578]\n",
      " [ 0.47006632 -0.80287636 -0.36664316]\n",
      " [ 0.95672708 -0.27099153  0.10600418]\n",
      " [ 0.72432688 -0.51591931 -0.45735964]\n",
      " [ 0.55355333 -0.68436402 -0.47457834]\n",
      " [ 0.99321483 -0.0428861  -0.10809755]\n",
      " [ 0.85839865  0.13982123 -0.49356031]\n",
      " [-0.16363178 -0.39472833 -0.90410961]\n",
      " [-0.00321484  0.69988994 -0.71424347]\n",
      " [ 0.55213999  0.16519122 -0.81722291]\n",
      " [ 0.63388458  0.31023195 -0.70848181]\n",
      " [ 0.08727504  0.0408476  -0.99534644]\n",
      " [ 0.02978927  0.78942023 -0.61312993]\n",
      " [-0.75583458  0.30200317 -0.58095454]\n",
      " [ 0.57128592 -0.44016412 -0.69273945]\n",
      " [ 0.67607195 -0.71764843 -0.16705523]\n",
      " [ 0.60412429 -0.04354634 -0.79569941]\n",
      " [ 0.44076435  0.1489274  -0.88518214]\n",
      " [ 0.39117614 -0.05048877 -0.91892987]\n",
      " [ 0.0632791   0.23796931 -0.96920914]\n",
      " [ 0.99635402 -0.04550143 -0.07216842]\n",
      " [ 0.1765525  -0.25427347 -0.95088076]\n",
      " [ 0.50295647  0.78770966 -0.35573626]\n",
      " [ 0.49436217  0.29549389 -0.8174897 ]\n",
      " [ 0.10223624  0.12466637 -0.98691745]\n",
      " [ 0.65947033 -0.6142344  -0.43337626]\n",
      " [-0.2099588   0.57025305 -0.79418434]\n",
      " [-0.31229761 -0.76052578 -0.56927212]\n",
      " [ 0.54254778 -0.5506976  -0.63432962]\n",
      " [ 0.2100685   0.37276712 -0.903834  ]\n",
      " [-0.70948288 -0.44609093 -0.54556111]\n",
      " [ 0.25019527  0.95257256 -0.17322772]\n",
      " [ 0.97483797 -0.2048783  -0.08783974]\n",
      " [-0.28844557 -0.25733526 -0.9222677 ]\n",
      " [-0.81119302 -0.13715563 -0.56846655]\n",
      " [-0.65561356  0.05630803 -0.7529942 ]\n",
      " [ 0.23487966 -0.26001709 -0.93660166]\n",
      " [ 0.18013657 -0.94405648 -0.27623935]\n",
      " [ 0.48493404  0.24199476 -0.84040318]\n",
      " [-0.51667268  0.02193575 -0.85590196]\n",
      " [ 0.85466537  0.22412102 -0.4683128 ]\n",
      " [ 0.44457004 -0.89573827  0.00323041]\n",
      " [-0.3482285   0.63244235 -0.69192022]\n",
      " [ 0.7030937  -0.61587682 -0.35546448]\n",
      " [ 0.10566103 -0.09087518 -0.99024111]\n",
      " [ 0.03355589  0.67327469 -0.73863062]\n",
      " [ 0.76270956  0.47262515 -0.44147434]\n",
      " [ 0.56920861 -0.49777905 -0.65438336]\n",
      " [ 0.07606199  0.75924239 -0.64634786]\n",
      " [ 0.68122601  0.57155565 -0.45744426]\n",
      " [-0.05842422 -0.57402684 -0.81674953]\n",
      " [ 0.09958781 -0.38418733 -0.91786838]\n",
      " [ 0.21396631 -0.04496096 -0.97580579]\n",
      " [ 0.43047167  0.11820222 -0.89483092]\n",
      " [ 0.95504407  0.03489242 -0.29440338]\n",
      " [-0.59602016  0.72074917 -0.35394999]\n",
      " [ 0.31761653 -0.94186823 -0.1095627 ]\n",
      " [ 0.99579468 -0.08364949 -0.03735923]\n",
      " [-0.72591367 -0.3194004  -0.60912456]\n",
      " [ 0.41971445 -0.63057286 -0.65285347]\n",
      " [ 0.60599693 -0.33778121 -0.72018857]\n",
      " [-0.36191372 -0.4686915  -0.80582054]\n",
      " [ 0.27694322 -0.8229115  -0.49610394]\n",
      " [ 0.60899828 -0.7827105  -0.12839539]\n",
      " [ 0.55224152  0.68584956 -0.47396168]\n",
      " [-0.61993365  0.09870078 -0.77842175]\n",
      " [-0.43554536 -0.41726704 -0.79761423]\n",
      " [-0.24578109  0.47472801 -0.84511832]\n",
      " [ 0.39006161 -0.77551442 -0.49641648]\n",
      " [-0.00609642 -0.74277875 -0.6695092 ]\n",
      " [ 0.75475243  0.6551733   0.03311681]\n",
      " [-0.10325263 -0.90491383 -0.41287994]\n",
      " [ 0.08079314 -0.79973849 -0.59488723]\n",
      " [ 0.89030029 -0.40619181  0.20584849]\n",
      " [ 0.60665405 -0.32172564 -0.72695494]\n",
      " [ 0.80906215  0.19156432 -0.55562717]\n",
      " [-0.54300829  0.14737295 -0.82669415]]\n"
     ]
    }
   ],
   "source": [
    "N = 100\n",
    "kB = 1.38e-23  # Boltzmann constant in J/K\n",
    "T = 300  # Temperature in K\n",
    "Al_m = 26.98e-3 / 6.022e23  # Mass of aluminum atom in kg\n",
    "\n",
    "vel = np.array([-1, 0, -2])\n",
    "\n",
    "normal = np.array([-0.4, 0, 1])\n",
    "normal = normal / np.linalg.norm(normal)\n",
    "\n",
    "velp = vel - 2 * vel @ normal * normal\n",
    "\n",
    "Ut = vel - vel @ normal * normal\n",
    "\n",
    "tw1 = Ut / np.linalg.norm(Ut)\n",
    "print(tw1)\n",
    "print(np.linalg.norm(tw1))\n",
    "tw2 = np.cross(tw1, normal)\n",
    "\n",
    "# 向量化随机数生成\n",
    "randn_tw1 = np.random.randn(N)[:, np.newaxis]\n",
    "randn_tw2 = np.random.randn(N)[:, np.newaxis]\n",
    "rand_log = np.sqrt(-2 * np.log(1 - np.random.rand(N)))[:, np.newaxis]\n",
    "\n",
    "# 计算U\n",
    "U = np.sqrt(kB * T / Al_m) * (randn_tw1 * tw1 + randn_tw2 * tw2 - rand_log * normal)\n",
    "\n",
    "# 归一化U\n",
    "UN = U / np.linalg.norm(U, axis=1)[:, np.newaxis]\n",
    "\n",
    "print(UN)\n"
   ]
  },
  {
   "cell_type": "code",
   "execution_count": 369,
   "metadata": {},
   "outputs": [
    {
     "data": {
      "image/png": "[encoded data removed]",
      "text/plain": [
       "<Figure size 640x480 with 1 Axes>"
      ]
     },
     "metadata": {},
     "output_type": "display_data"
    }
   ],
   "source": [
    "ax = plt.figure().add_subplot(projection='3d')\n",
    "\n",
    "# Make the grid\n",
    "origin = np.zeros((N, 3))\n",
    "# Make the direction data for the arrows\n",
    "\n",
    "\n",
    "ax.quiver(origin[:, 0], origin[:, 1], origin[:, 2], -UN[:, 0], -UN[:,1], -UN[:,2], color='black')\n",
    "ax.set_xlim(-1, 1)\n",
    "ax.set_ylim(-1, 1)\n",
    "ax.set_zlim(-1, 1)\n",
    "ax.set_xlabel('x')\n",
    "ax.set_ylabel('y')\n",
    "ax.set_zlabel('z')\n",
    "ax.view_init(elev=0, azim=90, roll=0)\n",
    "plt.show()"
   ]
  },
  {
   "cell_type": "code",
   "execution_count": 365,
   "metadata": {},
   "outputs": [
    {
     "data": {
      "image/png": "[encoded data removed]",
      "text/plain": [
       "<Figure size 640x480 with 1 Axes>"
      ]
     },
     "metadata": {},
     "output_type": "display_data"
    }
   ],
   "source": [
    "ax = plt.figure().add_subplot(projection='3d')\n",
    "\n",
    "# Make the grid\n",
    "origin = np.zeros(3)\n",
    "# Make the direction data for the arrows\n",
    "\n",
    "ax.quiver(-vel[0],       -vel[1],    -vel[2], vel[0],       vel[1],    vel[2], color='red')\n",
    "ax.quiver(origin[0], origin[1], origin[2], normal[0], normal[1], normal[2], color='blue')\n",
    "ax.quiver(origin[0], origin[1], origin[2], velp[0], velp[1], velp[2], color='black')\n",
    "ax.quiver(origin[0], origin[1], origin[2], tw1[0], tw1[1], tw1[2], color='green')\n",
    "ax.quiver(origin[0], origin[1], origin[2], tw2[0], tw2[1], tw2[2], color='cyan')\n",
    "ax.set_xlim(-2, 2)\n",
    "ax.set_ylim(-2, 2)\n",
    "ax.set_zlim(-2, 2)\n",
    "ax.set_xlabel('x')\n",
    "ax.set_ylabel('y')\n",
    "ax.set_zlabel('z')\n",
    "ax.view_init(elev=0, azim=90, roll=0)\n",
    "plt.show()"
   ]
  },
  {
   "cell_type": "code",
   "execution_count": null,
   "metadata": {},
   "outputs": [],
   "source": []
  }
 ],
 "metadata": {
  "kernelspec": {
   "display_name": "Python 3",
   "language": "python",
   "name": "python3"
  },
  "language_info": {
   "codemirror_mode": {
    "name": "ipython",
    "version": 3
   },
   "file_extension": ".py",
   "mimetype": "text/x-python",
   "name": "python",
   "nbconvert_exporter": "python",
   "pygments_lexer": "ipython3",
   "version": "3.11.7"
  }
 },
 "nbformat": 4,
 "nbformat_minor": 2
}

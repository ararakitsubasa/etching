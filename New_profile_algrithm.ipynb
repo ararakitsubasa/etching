{
 "cells": [
  {
   "cell_type": "code",
   "execution_count": 9,
   "metadata": {},
   "outputs": [],
   "source": [
    "import numpy as np\n",
    "from numba import jit\n",
    "from scipy.spatial import KDTree\n",
    "import matplotlib.pyplot as plt\n",
    "import pyvista as pv\n",
    "from scipy import interpolate\n",
    "import surface_normalize"
   ]
  },
  {
   "cell_type": "code",
   "execution_count": 21,
   "metadata": {},
   "outputs": [],
   "source": [
    "etching = np.load('./Data/For_etching_transport_TS60_deposit_0618_linear_paper_NoDSMC2_empty2.npy')"
   ]
  },
  {
   "cell_type": "code",
   "execution_count": 22,
   "metadata": {},
   "outputs": [
    {
     "data": {
      "image/png": "[encoded data removed]",
      "text/plain": [
       "<Figure size 640x480 with 1 Axes>"
      ]
     },
     "metadata": {},
     "output_type": "display_data"
    }
   ],
   "source": [
    "yield_hist = np.array([[0.3, 0.3, 0.45,  1.5,  1.5,  0.6, 0.3, 0.08, 0.04, 0.02,  0, \\\n",
    "                        0.02, 0.04, 0.08, 0.3, 0.6, 1.5, 1.5, 0.45, 0.3, 0.3], \\\n",
    "                        [  0,  5,   10,   20,   30,   40,   50,   60,   70,   80, 90, \\\n",
    "                         100, 110, 120, 130, 140, 150, 160, 170, 175, 180]])\n",
    "yield_hist[1] *= np.pi/180\n",
    "yield_func = interpolate.interp1d(yield_hist[1], yield_hist[0], kind='quadratic')\n",
    "\n",
    "xnew = np.arange(0, np.pi, 0.01)\n",
    "# xnew = np.array([])\n",
    "ynew = yield_func(xnew)   # use interpolation function returned by `interp1d`\n",
    "plt.plot(yield_hist[1], yield_hist[0], 'o', xnew, ynew, '-')\n",
    "plt.show()"
   ]
  },
  {
   "cell_type": "code",
   "execution_count": 23,
   "metadata": {},
   "outputs": [],
   "source": [
    "testpy = surface_normalize.surface_normal(center_with_direction=np.array([[50,50,10]]),range3D=np.array([[0, 100, 0, 100, 0, 150]]), InOrOut=[1],celllength=1e-9,  yield_hist=yield_hist)"
   ]
  },
  {
   "cell_type": "code",
   "execution_count": 35,
   "metadata": {},
   "outputs": [],
   "source": [
    "getdata = testpy.get_pointcloud(etching[:, :, :])"
   ]
  },
  {
   "cell_type": "code",
   "execution_count": 6,
   "metadata": {},
   "outputs": [
    {
     "data": {
      "application/vnd.jupyter.widget-view+json": {
       "model_id": "995a23700ec24ec18cbba1b79a09c3ca",
       "version_major": 2,
       "version_minor": 0
      },
      "text/plain": [
       "Widget(value='<iframe src=\"http://localhost:53729/index.html?ui=P_0x22e255fee10_0&reconnect=auto\" class=\"pyvis…"
      ]
     },
     "metadata": {},
     "output_type": "display_data"
    }
   ],
   "source": [
    "point_cloud = pv.PolyData(getdata[:, 3:])\n",
    "vectors = getdata[:, :3]\n",
    "\n",
    "point_cloud['vectors'] = vectors\n",
    "arrows = point_cloud.glyph(\n",
    "    orient='vectors',\n",
    "    scale=1000,\n",
    "    factor=2,\n",
    ")\n",
    "\n",
    "# Display the arrows\n",
    "plotter = pv.Plotter()\n",
    "plotter.add_mesh(point_cloud, color='maroon', point_size=5.0, render_points_as_spheres=True)\n",
    "plotter.add_mesh(arrows, color='lightblue')\n",
    "# plotter.add_point_labels([point_cloud.center,], ['Center',],\n",
    "#                          point_color='yellow', point_size=20)\n",
    "plotter.show_grid()\n",
    "plotter.show()"
   ]
  },
  {
   "cell_type": "code",
   "execution_count": 12,
   "metadata": {},
   "outputs": [
    {
     "name": "stdout",
     "output_type": "stream",
     "text": [
      "(20530, 6)\n",
      "[ 2.96875426e-02 -9.05025869e-01  4.24319250e-01  4.90000000e+01\n",
      "  3.10000000e+01  4.00000000e+01]\n"
     ]
    }
   ],
   "source": [
    "print(getdata.shape)\n",
    "\n",
    "print(getdata[10000])"
   ]
  },
  {
   "cell_type": "code",
   "execution_count": 149,
   "metadata": {},
   "outputs": [],
   "source": [
    "\n",
    "# @jit(nopython=True)\n",
    "def ray_point_cloud_intersection_vectorized(ray_origin, ray_direction, point_cloud):\n",
    "    # 将光线方向标准化（单位向量）\n",
    "    ray_direction = ray_direction / np.linalg.norm(ray_direction)\n",
    "\n",
    "    # 计算从光线起点到每个点的向量\n",
    "    point_vectors = point_cloud - ray_origin\n",
    "\n",
    "    # 计算点向量在光线方向上的投影长度\n",
    "    t = np.dot(point_vectors, ray_direction)\n",
    "\n",
    "    # 计算光线上投影点的坐标\n",
    "    projections = ray_origin + np.outer(t, ray_direction)\n",
    "\n",
    "    # 计算当前点到投影点的距离\n",
    "    distances = np.linalg.norm(point_cloud - projections, axis=1)\n",
    "\n",
    "    indice = np.where(distances < 0.5)[0]\n",
    "    # 如果没有点满足条件，则返回空结果\n",
    "    if indice.size == 0:\n",
    "        return None\n",
    "    near_point = point_cloud[indice]\n",
    "\n",
    "    distances_near_point = np.linalg.norm(ray_origin - near_point, axis=1)\n",
    "    # 找到最小距离和最近点\n",
    "    min_index = np.argmin(distances_near_point)\n",
    "    closest_point = point_cloud[indice[min_index]]\n",
    "    # min_distance = distance_in[min_index]\n",
    "\n",
    "    return closest_point\n"
   ]
  },
  {
   "cell_type": "code",
   "execution_count": 150,
   "metadata": {},
   "outputs": [],
   "source": [
    "ray_origin = np.array([10.3, 10.1, 160])\n",
    "ray_direction = np.array([0, 0, -10])\n",
    "\n",
    "closest_point = ray_point_cloud_intersection_vectorized(ray_origin, ray_direction, getdata[:, 3:])"
   ]
  },
  {
   "cell_type": "code",
   "execution_count": 151,
   "metadata": {},
   "outputs": [
    {
     "data": {
      "text/plain": [
       "array([ 10.,  10., 129.])"
      ]
     },
     "execution_count": 151,
     "metadata": {},
     "output_type": "execute_result"
    }
   ],
   "source": [
    "closest_point"
   ]
  },
  {
   "cell_type": "code",
   "execution_count": 154,
   "metadata": {},
   "outputs": [
    {
     "name": "stdout",
     "output_type": "stream",
     "text": [
      "(100, 100, 160)\n"
     ]
    }
   ],
   "source": [
    "print(etching.shape)"
   ]
  },
  {
   "cell_type": "code",
   "execution_count": 232,
   "metadata": {},
   "outputs": [
    {
     "name": "stdout",
     "output_type": "stream",
     "text": [
      "Hit face: 3\n"
     ]
    }
   ],
   "source": [
    "def find_intersection_face(ray_origin, ray_direction, box_center, box_half_size):\n",
    "    # 计算立方体的最小角和最大角\n",
    "    min_corner = box_center - box_half_size\n",
    "    max_corner = box_center + box_half_size\n",
    "\n",
    "    # 初始化记录相交时间的数组和相交面的数组\n",
    "    t_near = -np.inf\n",
    "    t_far = np.inf\n",
    "    hit_normal = np.array([0, 0, 0])\n",
    "\n",
    "    # 遍历三个轴（x, y, z）\n",
    "    for i in range(3):\n",
    "        if ray_direction[i] != 0:\n",
    "            # 计算 t1 和 t2\n",
    "            t1 = (min_corner[i] - ray_origin[i]) / ray_direction[i]\n",
    "            t2 = (max_corner[i] - ray_origin[i]) / ray_direction[i]\n",
    "            \n",
    "            # 交换 t1 和 t2，如果 t1 > t2\n",
    "            if t1 > t2:\n",
    "                t1, t2 = t2, t1\n",
    "            \n",
    "            # 更新 t_near 和 t_far\n",
    "            if t1 > t_near:\n",
    "                t_near = t1\n",
    "                hit_normal = np.array([0, 0, 0])\n",
    "                hit_normal[i] = -1 if ray_direction[i] > 0 else 1\n",
    "            \n",
    "            if t2 < t_far:\n",
    "                t_far = t2\n",
    "\n",
    "            # 检查是否存在相交\n",
    "            if t_near > t_far or t_far < 0:\n",
    "                return None, None  # 不相交\n",
    "\n",
    "    # 确定哪个面被击中\n",
    "    if np.array_equal(hit_normal, [-1, 0, 0]):\n",
    "        return 0  #\"Left\"\n",
    "    elif np.array_equal(hit_normal, [1, 0, 0]):\n",
    "        return 1  #\"Right\"\n",
    "    elif np.array_equal(hit_normal, [0, -1, 0]):\n",
    "        return 2  #\"Front\"\n",
    "    elif np.array_equal(hit_normal, [0, 1, 0]):\n",
    "        return 3  #\"Back\"\n",
    "    elif np.array_equal(hit_normal, [0, 0, -1]):\n",
    "        return 4  #\"Bottom\"\n",
    "    elif np.array_equal(hit_normal, [0, 0, 1]):\n",
    "        return 5  #\"Top\"\n",
    "    return None\n",
    "\n",
    "\n",
    "# 示例使用\n",
    "ray_origin = np.array([5, 5.1, 5])\n",
    "ray_direction = np.array([-1, -1, -1])\n",
    "box_center = np.array([0, 0, 0])\n",
    "box_half_size = np.array([1, 1, 1])\n",
    "\n",
    "hit_face = find_intersection_face(ray_origin, ray_direction, box_center, box_half_size)\n",
    "print(f\"Hit face: {hit_face}\")"
   ]
  },
  {
   "cell_type": "code",
   "execution_count": null,
   "metadata": {},
   "outputs": [],
   "source": []
  },
  {
   "cell_type": "code",
   "execution_count": 231,
   "metadata": {},
   "outputs": [
    {
     "name": "stdout",
     "output_type": "stream",
     "text": [
      "Hit face: Back, t_near: 4.1\n"
     ]
    }
   ],
   "source": [
    "# import numpy as np\n",
    "\n",
    "def find_intersection_face(ray_origin, ray_direction, box_center, box_half_size):\n",
    "    # 计算立方体的最小角和最大角\n",
    "    min_corner = box_center - box_half_size\n",
    "    max_corner = box_center + box_half_size\n",
    "\n",
    "    # 初始化记录相交时间的数组和相交面的数组\n",
    "    t_near = -np.inf\n",
    "    t_far = np.inf\n",
    "    hit_normal = np.array([0, 0, 0])\n",
    "\n",
    "    # 遍历三个轴（x, y, z）\n",
    "    for i in range(3):\n",
    "        if ray_direction[i] != 0:\n",
    "            # 计算 t1 和 t2\n",
    "            t1 = (min_corner[i] - ray_origin[i]) / ray_direction[i]\n",
    "            t2 = (max_corner[i] - ray_origin[i]) / ray_direction[i]\n",
    "            \n",
    "            # 交换 t1 和 t2，如果 t1 > t2\n",
    "            if t1 > t2:\n",
    "                t1, t2 = t2, t1\n",
    "            \n",
    "            # 更新 t_near 和 t_far\n",
    "            if t1 > t_near:\n",
    "                t_near = t1\n",
    "                hit_normal = np.array([0, 0, 0])\n",
    "                hit_normal[i] = -1 if ray_direction[i] > 0 else 1\n",
    "            \n",
    "            if t2 < t_far:\n",
    "                t_far = t2\n",
    "\n",
    "            # 检查是否存在相交\n",
    "            if t_near > t_far or t_far < 0:\n",
    "                return None, None  # 不相交\n",
    "\n",
    "    # 确定哪个面被击中\n",
    "    hit_face = determine_face(hit_normal)\n",
    "\n",
    "    return hit_face, t_near\n",
    "\n",
    "def determine_face(hit_normal):\n",
    "    # 根据 hit_normal 的方向确定被击中的面\n",
    "    if np.array_equal(hit_normal, [-1, 0, 0]):\n",
    "        return \"Left\"\n",
    "    elif np.array_equal(hit_normal, [1, 0, 0]):\n",
    "        return \"Right\"\n",
    "    elif np.array_equal(hit_normal, [0, -1, 0]):\n",
    "        return \"Front\"\n",
    "    elif np.array_equal(hit_normal, [0, 1, 0]):\n",
    "        return \"Back\"\n",
    "    elif np.array_equal(hit_normal, [0, 0, -1]):\n",
    "        return \"Bottom\"\n",
    "    elif np.array_equal(hit_normal, [0, 0, 1]):\n",
    "        return \"Top\"\n",
    "    return None\n",
    "\n",
    "# 示例使用\n",
    "ray_origin = np.array([5, 5.1, 5])\n",
    "ray_direction = np.array([-1, -1, -1])\n",
    "box_center = np.array([0, 0, 0])\n",
    "box_half_size = np.array([1, 1, 1])\n",
    "\n",
    "hit_face, t_near = find_intersection_face(ray_origin, ray_direction, box_center, box_half_size)\n",
    "print(f\"Hit face: {hit_face}, t_near: {t_near}\")\n"
   ]
  },
  {
   "cell_type": "code",
   "execution_count": 220,
   "metadata": {},
   "outputs": [
    {
     "name": "stdout",
     "output_type": "stream",
     "text": [
      "Hit face: Back, t_near: 9.0\n"
     ]
    }
   ],
   "source": [
    "# 示例使用\n",
    "ray_origin = np.array([0, 10, 0])\n",
    "ray_direction = np.array([0.0001, -1, 0.001])\n",
    "box_center = np.array([0, 0, 0])\n",
    "box_half_size = np.array([1, 1, 1])\n",
    "\n",
    "hit_face, t_near = find_intersection_face(ray_origin, ray_direction, box_center, box_half_size)\n",
    "print(f\"Hit face: {hit_face}, t_near: {t_near}\")"
   ]
  },
  {
   "cell_type": "code",
   "execution_count": 155,
   "metadata": {},
   "outputs": [
    {
     "name": "stdout",
     "output_type": "stream",
     "text": [
      "0.0\n"
     ]
    }
   ],
   "source": [
    "print(etching[closest_point[0].astype(int),closest_point[1].astype(int), closest_point[2].astype(int)])"
   ]
  },
  {
   "cell_type": "code",
   "execution_count": 139,
   "metadata": {},
   "outputs": [],
   "source": [
    "getdata = testpy.get_pointcloud(etching[:, :, :])"
   ]
  },
  {
   "cell_type": "code",
   "execution_count": null,
   "metadata": {},
   "outputs": [],
   "source": [
    "film_elemnt = np.array([10, 20])"
   ]
  },
  {
   "cell_type": "code",
   "execution_count": 156,
   "metadata": {},
   "outputs": [
    {
     "data": {
      "text/plain": [
       "array([1, 2, 3, 5, 4, 5, 6])"
      ]
     },
     "execution_count": 156,
     "metadata": {},
     "output_type": "execute_result"
    }
   ],
   "source": [
    "a = np.array((1,2,3,5))\n",
    "b = np.array((4,5,6))\n",
    "np.hstack((a,b))"
   ]
  },
  {
   "cell_type": "code",
   "execution_count": 185,
   "metadata": {},
   "outputs": [
    {
     "name": "stdout",
     "output_type": "stream",
     "text": [
      "[10. 21.]\n"
     ]
    }
   ],
   "source": [
    "react_table = np.array([[[0.700, 0, 1], [0.300, 0, 1]],\n",
    "                        [[0.200, -1, 0], [0.075, 0, -1]]])\n",
    "\n",
    "film_elemnt = np.array([10, 20], dtype=float)\n",
    "\n",
    "def reaction(gas, film):\n",
    "    # 计算总长度\n",
    "    total_length = int(film.sum())\n",
    "    \n",
    "    # 预分配数组\n",
    "    reaction_type = np.empty(total_length, dtype=float)\n",
    "    reaction_rate = np.empty(total_length, dtype=float)\n",
    "    \n",
    "    # 填充数组\n",
    "    current_index = 0\n",
    "    for i in range(film.shape[0]):\n",
    "        length = int(film[i])\n",
    "        reaction_type[current_index:current_index+length] = i\n",
    "        reaction_rate[current_index:current_index+length] = react_table[gas,i,0]\n",
    "        current_index += length\n",
    "    \n",
    "    reaction_list = np.random.rand(int(film.sum()))\n",
    "\n",
    "    reaction_selection = reaction_rate > reaction_list\n",
    "    reaction_choice = np.random.choice(np.where(reaction_selection == True)[0], 1)\n",
    "    reaction_particle = reaction_type[reaction_choice].astype(int)\n",
    "\n",
    "    film += react_table[gas, reaction_particle, 1:][0]\n",
    "\n",
    "    return film\n",
    "\n",
    "print(reaction(0, film_elemnt))"
   ]
  },
  {
   "cell_type": "code",
   "execution_count": 243,
   "metadata": {},
   "outputs": [
    {
     "name": "stdout",
     "output_type": "stream",
     "text": [
      "(array([1., 0.]), -1, 0)\n"
     ]
    }
   ],
   "source": [
    "# import numpy as np\n",
    "\n",
    "# 定义反应表和初始的 film 元素\n",
    "react_table = np.array([[[0.700, 0, 1], [0.300, 0, 1]],\n",
    "                        [[0.200, -1, 0], [0.075, 0, -1]]])\n",
    "film_elemnt = np.array([1, 0], dtype=float)\n",
    "\n",
    "def reaction(gas, film):\n",
    "    # 计算总长度\n",
    "    total_length = int(film.sum())\n",
    "\n",
    "    # 预分配反应类型和反应速率\n",
    "    reaction_type = np.empty(total_length, dtype=int)\n",
    "    reaction_rate = np.empty(total_length, dtype=float)\n",
    "\n",
    "    # 填充反应类型和反应速率\n",
    "    current_index = 0\n",
    "    for i in range(film.shape[0]):\n",
    "        length = int(film[i])\n",
    "        reaction_type[current_index:current_index + length] = i\n",
    "        reaction_rate[current_index:current_index + length] = react_table[gas, i, 0]\n",
    "        current_index += length\n",
    "\n",
    "    # 生成随机数列以确定反应发生的概率\n",
    "    reaction_list = np.random.rand(total_length)\n",
    "\n",
    "    # 筛选出发生反应的粒子\n",
    "    reaction_indices = np.where(reaction_rate > reaction_list)[0]\n",
    "    \n",
    "    # 如果有反应发生，随机选择一个反应\n",
    "    if reaction_indices.size > 0:\n",
    "        reaction_choice = np.random.choice(reaction_indices, 1)\n",
    "        reaction_particle = reaction_type[reaction_choice][0]\n",
    "        # print(reaction_particle)\n",
    "        # 更新 film 元素的状态\n",
    "        film += react_table[gas, reaction_particle, 1:]\n",
    "        return film, reaction_particle, np.sum(react_table[gas, reaction_particle, 1:]) # film, react_type, etchingDepo \n",
    "    else:\n",
    "        return film, -1, 0\n",
    "\n",
    "\n",
    "# 调用函数并输出结果\n",
    "print(reaction(1, film_elemnt))\n"
   ]
  },
  {
   "cell_type": "code",
   "execution_count": 198,
   "metadata": {},
   "outputs": [
    {
     "name": "stdout",
     "output_type": "stream",
     "text": [
      "(10, 10, 10)\n"
     ]
    }
   ],
   "source": [
    "film = np.ones((10, 10, 10, 3))\n",
    "\n",
    "sumfilm = np.sum(film, axis=-1)\n",
    "print(sumfilm.shape)"
   ]
  },
  {
   "cell_type": "code",
   "execution_count": null,
   "metadata": {},
   "outputs": [],
   "source": [
    "    # # 确定哪个面被击中\n",
    "    # if np.array_equal(hit_normal, [-1, 0, 0]):\n",
    "    #     return 0  #\"Left\"\n",
    "    # elif np.array_equal(hit_normal, [1, 0, 0]):\n",
    "    #     return 1  #\"Right\"\n",
    "    # elif np.array_equal(hit_normal, [0, -1, 0]):\n",
    "    #     return 2  #\"Front\"\n",
    "    # elif np.array_equal(hit_normal, [0, 1, 0]):\n",
    "    #     return 3  #\"Back\"\n",
    "    # elif np.array_equal(hit_normal, [0, 0, -1]):\n",
    "    #     return 4  #\"Bottom\"\n",
    "    # elif np.array_equal(hit_normal, [0, 0, 1]):\n",
    "    #     return 5  #\"Top\"\n",
    "    # return None\n",
    "ray_origin = np.array([10.3, 10.1, 160])\n",
    "ray_direction = np.array([0, 0, -10])\n",
    "\n",
    "closest_point = ray_point_cloud_intersection_vectorized(ray_origin, ray_direction, getdata[:, 3:])\n",
    "\n",
    "\n",
    "def surface_addition(film, react_point, react, flux):\n",
    "    film[react_point[0], react_point[1], react_point[2], flux] += react[2]\n",
    "    film[react_point[0], react_point[1], react_point[2], 6:] += react[0]\n",
    "    return film"
   ]
  },
  {
   "cell_type": "code",
   "execution_count": 246,
   "metadata": {},
   "outputs": [
    {
     "name": "stdout",
     "output_type": "stream",
     "text": [
      "[0 1 2 3 4 5]\n",
      "[6 7 8 9]\n"
     ]
    }
   ],
   "source": [
    "a = np.arange(10)\n",
    "\n",
    "print(a[:6])\n",
    "print(a[6:])"
   ]
  },
  {
   "cell_type": "code",
   "execution_count": 289,
   "metadata": {},
   "outputs": [
    {
     "name": "stdout",
     "output_type": "stream",
     "text": [
      "[False False False  True]\n",
      "0.9403378234442834\n",
      "3\n",
      "get\n",
      "3\n",
      "0.9403378234442834\n"
     ]
    }
   ],
   "source": [
    "a = np.array([0.0, 0.33, 0.5, 0.7, 1.0])\n",
    "b = np.random.rand()\n",
    "\n",
    "# 创建布尔掩码，找出满足条件的区间\n",
    "mask = (b > a[:-1]) & (b <= a[1:])\n",
    "print(mask)\n",
    "print(b)\n",
    "# 找到第一个满足条件的区间索引\n",
    "indices = np.where(mask)[0]\n",
    "print(indices[0])\n",
    "if indices.size > 0:\n",
    "    index = indices[0]\n",
    "    print('get')\n",
    "    print(index)\n",
    "    print(b)\n",
    "else:\n",
    "    print('b is not in any interval')\n"
   ]
  },
  {
   "cell_type": "code",
   "execution_count": 278,
   "metadata": {},
   "outputs": [
    {
     "name": "stdout",
     "output_type": "stream",
     "text": [
      "(array([], dtype=int64), array([], dtype=int64))\n",
      "[]\n",
      "0\n",
      "[]\n"
     ]
    }
   ],
   "source": [
    "a = np.array([[0.0, 0.33, 0.5, 0.7, 1.0], [0.0, 0.33, 0.5, 0.7, 1.2]])\n",
    "\n",
    "print(np.where(a > 1.4))\n",
    "\n",
    "b = np.where(a > 1.4)\n",
    "print(b[0])\n",
    "print(b[0].size)\n",
    "\n",
    "print(a[b])"
   ]
  },
  {
   "cell_type": "code",
   "execution_count": 280,
   "metadata": {},
   "outputs": [
    {
     "name": "stdout",
     "output_type": "stream",
     "text": [
      "[10 18 29 34 26]\n"
     ]
    }
   ],
   "source": [
    "a = np.array([10, 30, 34, 40, 33])\n",
    "b = np.array([0, 12, 5, 6, 7])\n",
    "c = a-b\n",
    "print(c)"
   ]
  },
  {
   "cell_type": "code",
   "execution_count": 286,
   "metadata": {},
   "outputs": [
    {
     "name": "stdout",
     "output_type": "stream",
     "text": [
      "73\n",
      "随机抽取数量 b: [ 0 28 21  4 20]\n",
      "剩余的 a 数组: [10  2 13 36 13]\n"
     ]
    }
   ],
   "source": [
    "# 原始数组 a\n",
    "a = np.array([10, 30, 34, 40, 33])\n",
    "\n",
    "# 总抽取数量 N\n",
    "N = int(np.sum(a)/2)\n",
    "print(N)\n",
    "\n",
    "# 初始化 b 数组\n",
    "b = np.zeros_like(a)\n",
    "\n",
    "# 计算总和\n",
    "total_sum = a.sum()\n",
    "\n",
    "if total_sum < N:\n",
    "    raise ValueError(\"N exceeds the total number of available elements in a.\")\n",
    "\n",
    "# 随机抽取元素\n",
    "remaining_to_draw = N\n",
    "while remaining_to_draw > 0:\n",
    "    # 随机选择一个位置\n",
    "    idx = np.random.choice(np.where(a > 0)[0])\n",
    "    # 在选择的位置随机抽取数量，最大为a[idx]和remaining_to_draw之间的最小值\n",
    "    draw = np.random.randint(0, min(a[idx], remaining_to_draw) + 1)\n",
    "    # 更新 b 和 a\n",
    "    b[idx] += draw\n",
    "    a[idx] -= draw\n",
    "    remaining_to_draw -= draw\n",
    "\n",
    "print(\"随机抽取数量 b:\", b)\n",
    "print(\"剩余的 a 数组:\", a)\n"
   ]
  },
  {
   "cell_type": "code",
   "execution_count": 344,
   "metadata": {},
   "outputs": [
    {
     "name": "stdout",
     "output_type": "stream",
     "text": [
      "5\n",
      "[0 0 0 0 0 0 0 0 0 0 1 1 1 1 1 1 1 1 1 1 1 1 1 1 1 1 1 1 1 1 1 1 1 1 1 1 1\n",
      " 1 1 1 2 2 2 2 2 2 2 2 2 2 2 2 2 2 2 2 2 2 2 2 2 2 2 2 2 2 2 2 2 2 2 2 2 2\n",
      " 3 3 3 3 3 3 3 3 3 3 3 3 3 3 3 3 3 3 3 3 3 3 3 3 3 3 3 3 3 3 3 3 3 3 3 3 3\n",
      " 3 3 3 4 4 4 4 4 4 4 4 4 4 4 4 4 4 4 4 4 4 4 4 4 4 4 4 4 4 4 4 4 4 4 4 4]\n",
      "随机抽取数量 b: [5 7 8 7 3]\n",
      "剩余的 a 数组: [ 5 23 26 33 30]\n"
     ]
    }
   ],
   "source": [
    "a = np.array([10, 30, 34, 40, 33])\n",
    "print(a.size)\n",
    "# 总抽取数量 N\n",
    "N = 30\n",
    "\n",
    "# 初始化 b 数组\n",
    "b = np.zeros_like(a)\n",
    "\n",
    "# 计算总和\n",
    "total_sum = a.sum()\n",
    "\n",
    "if total_sum < N:\n",
    "    raise ValueError(\"N exceeds the total number of available elements in a.\")\n",
    "\n",
    "# 随机选择抽取的顺序\n",
    "indices = np.repeat(np.arange(a.size), a)\n",
    "print(indices)\n",
    "np.random.shuffle(indices)\n",
    "\n",
    "# 选择前 N 个，统计各类别的抽取数量\n",
    "unique, counts = np.unique(indices[:N], return_counts=True)\n",
    "\n",
    "# 更新 b 和 a\n",
    "b[unique] += counts\n",
    "a[unique] -= counts\n",
    "\n",
    "print(\"随机抽取数量 b:\", b)\n",
    "print(\"剩余的 a 数组:\", a)"
   ]
  },
  {
   "cell_type": "code",
   "execution_count": null,
   "metadata": {},
   "outputs": [],
   "source": [
    "    # # 确定哪个面被击中\n",
    "    # if np.array_equal(hit_normal, [-1, 0, 0]):\n",
    "    #     return 0  #\"Left\"\n",
    "    # elif np.array_equal(hit_normal, [1, 0, 0]):\n",
    "    #     return 1  #\"Right\"\n",
    "    # elif np.array_equal(hit_normal, [0, -1, 0]):\n",
    "    #     return 2  #\"Front\"\n",
    "    # elif np.array_equal(hit_normal, [0, 1, 0]):\n",
    "    #     return 3  #\"Back\"\n",
    "    # elif np.array_equal(hit_normal, [0, 0, -1]):\n",
    "    #     return 4  #\"Bottom\"\n",
    "    # elif np.array_equal(hit_normal, [0, 0, 1]):\n",
    "    #     return 5  #\"Top\"\n",
    "    # return None\n",
    "\n",
    "indices = np.repeat(np.arange(a.size), a)\n",
    "print(indices)\n",
    "np.random.shuffle(indices)\n",
    "\n",
    "# 选择前 N 个，统计各类别的抽取数量\n",
    "unique, counts = np.unique(indices[:N], return_counts=True)\n",
    "\n",
    "# 更新 b 和 a\n",
    "b[unique] += counts\n",
    "a[unique] -= counts"
   ]
  },
  {
   "cell_type": "code",
   "execution_count": 578,
   "metadata": {},
   "outputs": [],
   "source": [
    "def pickParticles(film, inCell, outFlow):\n",
    "    # print(film[inCell[0], inCell[1], inCell[2],6:])\n",
    "    # print(film[inCell[0], inCell[1], inCell[2],6:][0].size)\n",
    "    indices = np.repeat(np.arange(film[inCell[0], inCell[1], inCell[2],6:][0].size), film[inCell[0], inCell[1], inCell[2],6:][0])\n",
    "    np.random.shuffle(indices)\n",
    "    # 选择前 N 个，统计各类别的抽取数量\n",
    "    print(indices)\n",
    "    unique, counts = np.unique(indices[:outFlow[0]], return_counts=True) # np.unique(indices[:N+1], return_counts=True)\n",
    "    print(counts)\n",
    "    print(unique)\n",
    "    print('----unique----')\n",
    "    film[inCell[0], inCell[1], inCell[2], unique+6] -= counts\n",
    "    return film, unique, counts"
   ]
  },
  {
   "cell_type": "code",
   "execution_count": 594,
   "metadata": {},
   "outputs": [],
   "source": [
    "def enclose_overflow(film, i, j, k):\n",
    "    if np.sum(film[i-1, j, k, 6:]) > 30:\n",
    "        if (np.sum(film[i-1-1, j, k, 6:]) > 0) & (np.sum(film[i-1, j-1, k, 6:]) > 0) & (np.sum(film[i-1, j+1, k, 6:]) > 0) \\\n",
    "            & (np.sum(film[i-1, j, k-1, 6:]) > 0) & (np.sum(film[i-1, j, k+1, 6:]) > 0):\n",
    "            inCell = np.array([i-1, j, k])\n",
    "            overflow = np.sum(film[i-1, j, k, 6:]) - 30\n",
    "            film, unique, counts = pickParticles(film, inCell, overflow)\n",
    "            film[i, j, k][unique+6] += counts\n",
    "    elif np.sum(film[i+1, j, k, 6:]) > 30:\n",
    "        if (np.sum(film[i+1+1, j, k, 6:]) > 0) & (np.sum(film[i+1, j-1, k, 6:]) > 0) & (np.sum(film[i+1, j+1, k, 6:]) > 0) \\\n",
    "            & (np.sum(film[i+1, j, k-1, 6:]) > 0) & (np.sum(film[i+1, j, k+1, 6:]) > 0):\n",
    "            inCell = np.array([i+1, j, k])\n",
    "            overflow = np.sum(film[i+1, j, k]) - 30\n",
    "            film, unique, counts = pickParticles(film, inCell, overflow)\n",
    "            film[i, j, k][unique+6] += counts\n",
    "    elif np.sum(film[i, j-1, k, 6:]) > 30:\n",
    "        if (np.sum(film[i-1, j-1, k, 6:]) > 0) & (np.sum(film[i, j-1-1, k, 6:]) > 0) & (np.sum(film[i+1, j, k, 6:]) > 0) \\\n",
    "            & (np.sum(film[i, j-1, k-1, 6:]) > 0) & (np.sum(film[i, j-1, k+1, 6:]) > 0):\n",
    "            inCell = np.array([i, j-1, k])\n",
    "            overflow = np.sum(film[i, j-1, k]) - 30\n",
    "            film, unique, counts = pickParticles(film, inCell, overflow)\n",
    "            film[i, j, k][unique+6] += counts\n",
    "    elif np.sum(film[i, j+1, k, 6:]) > 30:\n",
    "        if (np.sum(film[i-1, j+1, k, 6:]) > 0) & (np.sum(film[i+1, j+1, k, 6:]) > 0) & (np.sum(film[i, j+1+1, k, 6:]) > 0) \\\n",
    "            & (np.sum(film[i, j+1, k-1, 6:]) > 0) & (np.sum(film[i, j+1, k+1, 6:]) > 0):\n",
    "            inCell = np.array([i, j+1, k])\n",
    "            overflow = np.sum(film[i, j+1, k]) - 30\n",
    "            film, unique, counts = pickParticles(film, inCell, overflow)\n",
    "            film[i, j+1, k][unique+6] += counts\n",
    "    elif np.sum(film[i, j, k-1, 6:]) > 30:\n",
    "        if (np.sum(film[i-1, j, k-1, 6:]) > 0) & (np.sum(film[i+1, j, k-1, 6:]) > 0) & (np.sum(film[i, j+1, k-1, 6:]) > 0) \\\n",
    "            & (np.sum(film[i, j, k-1-1, 6:]) > 0) & (np.sum(film[i, j-1, k, 6:]) > 0):\n",
    "            inCell = np.array([i, j, k-1])\n",
    "            overflow = np.sum(film[i, j, k-1]) - 30\n",
    "            film, unique, counts = pickParticles(film, inCell, overflow)\n",
    "            film[i, j, k-1][unique+6] += counts\n",
    "    elif np.sum(film[i, j, k+1, 6:]) > 30:\n",
    "        if (np.sum(film[i-1, j, k+1, 6:]) > 0) & (np.sum(film[i+1, j, k+1, 6:]) > 0) & (np.sum(film[i, j+1, k+1, 6:]) > 0) \\\n",
    "            & (np.sum(film[i, j-1, k, 6:]) > 0) & (np.sum(film[i, j, k+1+1, 6:]) > 0):\n",
    "            inCell = np.array([i, j, k+1])\n",
    "            overflow = np.sum(film[i, j, k+1]) - 30\n",
    "            film, unique, counts = pickParticles(film, inCell, overflow)\n",
    "            film[i, j, k+1][unique+6] += counts\n",
    "    return film"
   ]
  },
  {
   "cell_type": "code",
   "execution_count": 595,
   "metadata": {},
   "outputs": [
    {
     "name": "stdout",
     "output_type": "stream",
     "text": [
      "[ 10  40  74 114 147]\n",
      "[0.         0.06802721 0.27210884 0.50340136 0.7755102  1.        ]\n"
     ]
    }
   ],
   "source": [
    "a = np.array([10, 30, 34, 40, 33])\n",
    "b = np.zeros(a.shape[0] + 1)\n",
    "asum = np.sum(a)\n",
    "\n",
    "print(np.cumsum(a))\n",
    "# 使用累积和计算 b 的值\n",
    "b[1:] = np.cumsum(a) / asum\n",
    "\n",
    "print(b)"
   ]
  },
  {
   "cell_type": "code",
   "execution_count": 606,
   "metadata": {},
   "outputs": [],
   "source": [
    "# film([x,y,z] Left Right Front Back Bottom Top, type1, type2, ...)\n",
    "\n",
    "def surface_advancement(film, type):\n",
    "    N = int(30)\n",
    "    sumfilm = np.sum(film[:, :, :, 6:], axis=-1, dtype=int)\n",
    "    print(sumfilm[:, :, 2])\n",
    "    if type == 1:\n",
    "        upperCell = np.where(sumfilm > 2*N)\n",
    "        # lowerCell = np.where(sumfilm < N/5)\n",
    "        # upperCell = sumfilm > 2*N\n",
    "        # lowerCell = sumfilm < N/5\n",
    "        print(upperCell)\n",
    "        # print(lowerCell)\n",
    "        if upperCell[0].size == 0:\n",
    "            return film\n",
    "        else:\n",
    "            outFlowParticles = sumfilm[upperCell] - N\n",
    "            flux = film[upperCell[0], upperCell[1], upperCell[2], :6][0]\n",
    "            print(flux)\n",
    "            print('----flux----')\n",
    "            flux_rate = np.zeros(flux.shape[0] + 1)\n",
    "            flux_rate[1:] = np.cumsum(flux)/np.sum(flux)\n",
    "            flow_random = np.random.rand()\n",
    "            mask = (flow_random > flux_rate[:-1]) & (flow_random <= flux_rate[1:])\n",
    "            print(mask)\n",
    "            flow_choice = np.where(mask)[0]\n",
    "            print(flow_choice)\n",
    "            # indices = np.repeat(np.arange(film[upperCell][6:].size), film[upperCell][6:])\n",
    "            # np.random.shuffle(indices)\n",
    "            # # 选择前 N 个，统计各类别的抽取数量\n",
    "            # unique, counts = np.unique(indices[:N+1], return_counts=True)\n",
    "            # film[upperCell[0], upperCell[1], upperCell[2]][unique+6]     -= counts\n",
    "            film, unique, counts = pickParticles(film, upperCell, outFlowParticles)\n",
    "            if flow_choice == 0:\n",
    "                film[upperCell[0] - 1, upperCell[1], upperCell[2],unique+6] += counts\n",
    "                film = enclose_overflow(film, upperCell[0] - 1, upperCell[1], upperCell[2])\n",
    "            elif flow_choice == 1:\n",
    "                film[upperCell[0] + 1, upperCell[1], upperCell[2],unique+6] += counts\n",
    "                film = enclose_overflow(film, upperCell[0] + 1, upperCell[1], upperCell[2])\n",
    "            elif flow_choice == 2:\n",
    "                film[upperCell[0], upperCell[1] - 1, upperCell[2],unique+6] += counts\n",
    "                film = enclose_overflow(film, upperCell[0], upperCell[1] - 1, upperCell[2])\n",
    "            elif flow_choice == 3:\n",
    "                film[upperCell[0], upperCell[1] + 1, upperCell[2],unique+6] += counts\n",
    "                film = enclose_overflow(film, upperCell[0], upperCell[1] + 1, upperCell[2])\n",
    "            elif flow_choice == 4:\n",
    "                film[upperCell[0], upperCell[1], upperCell[2] - 1,unique+6] += counts\n",
    "                film = enclose_overflow(film, upperCell[0], upperCell[1], upperCell[2] - 1)\n",
    "            elif flow_choice == 5:\n",
    "                film[upperCell[0], upperCell[1], upperCell[2] + 1,unique+6] += counts\n",
    "                film = enclose_overflow(film, upperCell[0], upperCell[1], upperCell[2] + 1)\n",
    "            else:\n",
    "                print('error flow')\n",
    "        return film\n",
    "    elif type == -1:\n",
    "        # lowerCell = np.where(sumfilm > 2*N)\n",
    "        lowerCell = np.where(sumfilm < N/5)\n",
    "        # lowerCell = sumfilm > 2*N\n",
    "        # lowerCell = sumfilm < N/5\n",
    "        print(lowerCell)\n",
    "        # print(lowerCell)\n",
    "        if lowerCell.size == 0:\n",
    "            return film\n",
    "        else:\n",
    "            outFlowParticles = sumfilm[lowerCell]\n",
    "            flux = film[lowerCell][:6]\n",
    "            flux_min = np.min(flux)\n",
    "            flux -= flux_min\n",
    "            flux_rate = np.cumsum(flux)/np.sum(flux)\n",
    "            flow_random = np.random.rand()\n",
    "            mask = (flow_random > flux_rate[:-1]) & (flow_random <= flux_rate[1:])\n",
    "            flow_choice = np.where(mask)[0]\n",
    "            counts = film[lowerCell][6:]\n",
    "            if flow_choice == 0:\n",
    "                film[lowerCell[0] - 1, lowerCell[1], lowerCell[2],unique+6] += counts\n",
    "                film = enclose_overflow(film, lowerCell[0] - 1, lowerCell[1], lowerCell[2])\n",
    "            elif flow_choice == 1:\n",
    "                film[lowerCell[0] + 1, lowerCell[1], lowerCell[2],unique+6] += counts\n",
    "                film = enclose_overflow(film, lowerCell[0] + 1, lowerCell[1], lowerCell[2])\n",
    "            elif flow_choice == 2:\n",
    "                film[lowerCell[0], lowerCell[1] - 1, lowerCell[2],unique+6] += counts\n",
    "                film = enclose_overflow(film, lowerCell[0], lowerCell[1] - 1, lowerCell[2])\n",
    "            elif flow_choice == 3:\n",
    "                film[lowerCell[0], lowerCell[1] + 1, lowerCell[2],unique+6] += counts\n",
    "                film = enclose_overflow(film, lowerCell[0], lowerCell[1] + 1, lowerCell[2])\n",
    "            elif flow_choice == 4:\n",
    "                film[lowerCell[0], lowerCell[1], lowerCell[2] - 1,unique+6] += counts\n",
    "                film = enclose_overflow(film, lowerCell[0], lowerCell[1], lowerCell[2] - 1)\n",
    "            elif flow_choice == 5:\n",
    "                film[lowerCell[0], lowerCell[1], lowerCell[2] + 1,unique+6] += counts\n",
    "                film = enclose_overflow(film, lowerCell[0], lowerCell[1], lowerCell[2] + 1)\n",
    "            else:\n",
    "                print('error flow')\n",
    "        return film   \n",
    "\n",
    "            "
   ]
  },
  {
   "cell_type": "code",
   "execution_count": 607,
   "metadata": {},
   "outputs": [
    {
     "name": "stdout",
     "output_type": "stream",
     "text": [
      "[[[[ 0  0  0 ...  1 11  2]\n",
      "   [ 0  0  0 ...  8 14  7]\n",
      "   [ 0  0  0 ... 13 11  7]\n",
      "   [ 0  0  0 ... 10  7  1]]\n",
      "\n",
      "  [[ 0  0  0 ...  7  4  2]\n",
      "   [ 0  0  0 ...  4 10 13]\n",
      "   [ 0  0  0 ...  6  9 10]\n",
      "   [ 0  0  0 ...  5 13  7]]\n",
      "\n",
      "  [[ 0  0  0 ... 11  5  1]\n",
      "   [ 0  0  0 ...  1  4  5]\n",
      "   [ 0  0  0 ... 15  1  1]\n",
      "   [ 0  0  0 ...  5  4  2]]\n",
      "\n",
      "  [[ 0  0  0 ...  9 11 15]\n",
      "   [ 0  0  0 ...  7  5 11]\n",
      "   [ 0  0  0 ... 12  4  4]\n",
      "   [ 0  0  0 ... 13 11  6]]\n",
      "\n",
      "  [[ 0  0  0 ...  5  7  4]\n",
      "   [ 0  0  0 ... 12 12  9]\n",
      "   [ 0  0  0 ...  5 13  1]\n",
      "   [ 0  0  0 ...  8  3  3]]\n",
      "\n",
      "  [[ 0  0  0 ...  8  1  7]\n",
      "   [ 0  0  0 ...  2 12  7]\n",
      "   [ 0  0  0 ...  5  6  7]\n",
      "   [ 0  0  0 ...  7 12  7]]]\n",
      "\n",
      "\n",
      " [[[ 0  0  0 ...  9 11 15]\n",
      "   [ 0  0  0 ...  6 13 13]\n",
      "   [ 0  0  0 ...  9 15  3]\n",
      "   [ 0  0  0 ... 11  9  1]]\n",
      "\n",
      "  [[ 0  0  0 ... 11  4  8]\n",
      "   [ 0  0  0 ... 15  7 12]\n",
      "   [ 0  0  0 ...  6 15  5]\n",
      "   [ 0  0  0 ... 13  1 10]]\n",
      "\n",
      "  [[ 0  0  0 ...  1 13  3]\n",
      "   [ 0  0  0 ... 15  3 12]\n",
      "   [ 0  0  0 ... 13 13 13]\n",
      "   [ 0  0  0 ...  5  8  5]]\n",
      "\n",
      "  [[ 0  0  0 ... 14 12  9]\n",
      "   [ 0  0  0 ...  3 10 12]\n",
      "   [ 0  0  0 ... 13  8  7]\n",
      "   [ 0  0  0 ...  5  6 11]]\n",
      "\n",
      "  [[ 0  0  0 ... 13  6  7]\n",
      "   [ 0  0  0 ... 14  5  8]\n",
      "   [ 0  0  0 ... 14  3  6]\n",
      "   [ 0  0  0 ...  5  6 10]]\n",
      "\n",
      "  [[ 0  0  0 ...  8 13  7]\n",
      "   [ 0  0  0 ...  3 11  6]\n",
      "   [ 0  0  0 ...  3  5  4]\n",
      "   [ 0  0  0 ...  3  8  5]]]\n",
      "\n",
      "\n",
      " [[[ 0  0  0 ...  3 15  5]\n",
      "   [ 0  0  0 ...  8  4  9]\n",
      "   [ 0  0  0 ...  4 11 14]\n",
      "   [ 0  0  0 ...  9  3 14]]\n",
      "\n",
      "  [[ 0  0  0 ...  6  8  6]\n",
      "   [ 0  0  0 ...  7 10  6]\n",
      "   [ 0  0  0 ...  2  3 10]\n",
      "   [ 0  0  0 ...  1  4  2]]\n",
      "\n",
      "  [[ 0  0  0 ...  4  3 15]\n",
      "   [ 0  0  0 ...  9 14  5]\n",
      "   [ 0  0  0 ... 13 10  9]\n",
      "   [ 0  0  0 ...  2  1 15]]\n",
      "\n",
      "  [[ 0  0  0 ... 14 12  9]\n",
      "   [ 0  0  0 ...  5  2  8]\n",
      "   [ 0  0  0 ...  2  8 10]\n",
      "   [ 0  0  0 ...  2  4  5]]\n",
      "\n",
      "  [[ 0  0  0 ...  6 11  2]\n",
      "   [ 0  0  0 ...  1  8 15]\n",
      "   [ 0  0  0 ...  7 11 11]\n",
      "   [ 0  0  0 ... 10 15  6]]\n",
      "\n",
      "  [[ 0  0  0 ... 10  8  8]\n",
      "   [ 0  0  0 ...  9  9  1]\n",
      "   [ 0  0  0 ... 11 14 10]\n",
      "   [ 0  0  0 ...  2  4  1]]]\n",
      "\n",
      "\n",
      " [[[ 0  0  0 ... 13  4  3]\n",
      "   [ 0  0  0 ... 15  2 14]\n",
      "   [ 0  0  0 ...  4  6  7]\n",
      "   [ 0  0  0 ... 11 11 15]]\n",
      "\n",
      "  [[ 0  0  0 ...  1  8  9]\n",
      "   [ 0  0  0 ... 10  2 10]\n",
      "   [ 0  0  0 ...  2  4 10]\n",
      "   [ 0  0  0 ... 13 10 11]]\n",
      "\n",
      "  [[ 0  0  0 ...  7  2  1]\n",
      "   [ 0  0  0 ...  7 13 13]\n",
      "   [ 0  0  0 ... 10  7  9]\n",
      "   [ 0  0  0 ...  9  5  2]]\n",
      "\n",
      "  [[ 0  0  0 ...  9  2  3]\n",
      "   [ 0  0  0 ... 14  6  7]\n",
      "   [ 0  0  0 ...  6 11  1]\n",
      "   [ 0  0  0 ...  2  8  6]]\n",
      "\n",
      "  [[ 0  0  0 ... 13  7 10]\n",
      "   [ 0  0  0 ... 11  9  2]\n",
      "   [ 0  0  0 ...  3  5 14]\n",
      "   [ 0  0  0 ... 11 14 15]]\n",
      "\n",
      "  [[ 0  0  0 ... 11  4  4]\n",
      "   [ 0  0  0 ...  9  2 13]\n",
      "   [ 0  0  0 ...  5 11 10]\n",
      "   [ 0  0  0 ...  9  1 10]]]\n",
      "\n",
      "\n",
      " [[[ 0  0  0 ... 10 14  7]\n",
      "   [ 0  0  0 ...  2  9  7]\n",
      "   [ 0  0  0 ...  4 12 14]\n",
      "   [ 0  0  0 ... 15  4 14]]\n",
      "\n",
      "  [[ 0  0  0 ...  9  5 12]\n",
      "   [ 0  0  0 ... 11  2 13]\n",
      "   [ 0  0  0 ... 14  9 15]\n",
      "   [ 0  0  0 ... 10  8  5]]\n",
      "\n",
      "  [[ 0  0  0 ...  4  6 10]\n",
      "   [ 0  0  0 ...  5  6  2]\n",
      "   [ 0  0  0 ... 10  4  4]\n",
      "   [ 0  0  0 ...  6 13  6]]\n",
      "\n",
      "  [[ 0  0  0 ...  2  2  5]\n",
      "   [ 0  0  0 ...  2 11 15]\n",
      "   [ 0  0  0 ...  6  3 13]\n",
      "   [ 0  0  0 ...  3  9  4]]\n",
      "\n",
      "  [[ 0  0  0 ... 15  5 14]\n",
      "   [ 0  0  0 ...  7  8  5]\n",
      "   [ 0  0  0 ...  5  2  5]\n",
      "   [ 0  0  0 ...  1  3  2]]\n",
      "\n",
      "  [[ 0  0  0 ...  6 10  8]\n",
      "   [ 0  0  0 ...  7 12  7]\n",
      "   [ 0  0  0 ...  9  9  2]\n",
      "   [ 0  0  0 ...  8 15  1]]]\n",
      "\n",
      "\n",
      " [[[ 0  0  0 ...  4 14  9]\n",
      "   [ 0  0  0 ...  5  8  9]\n",
      "   [ 0  0  0 ...  6 14 15]\n",
      "   [ 0  0  0 ...  8  4  5]]\n",
      "\n",
      "  [[ 0  0  0 ...  7  1  5]\n",
      "   [ 0  0  0 ... 13  8 14]\n",
      "   [ 0  0  0 ... 11 13  8]\n",
      "   [ 0  0  0 ... 11 12 11]]\n",
      "\n",
      "  [[ 0  0  0 ... 14  6  2]\n",
      "   [ 0  0  0 ...  5 13  1]\n",
      "   [ 0  0  0 ... 11  6  7]\n",
      "   [ 0  0  0 ... 11  4  6]]\n",
      "\n",
      "  [[ 0  0  0 ...  9 10 14]\n",
      "   [ 0  0  0 ...  7  7  3]\n",
      "   [ 0  0  0 ... 13 13  8]\n",
      "   [ 0  0  0 ...  5 10  3]]\n",
      "\n",
      "  [[ 0  0  0 ...  5  5 15]\n",
      "   [ 0  0  0 ... 15 13 10]\n",
      "   [ 0  0  0 ... 13  3  9]\n",
      "   [ 0  0  0 ... 13  7  8]]\n",
      "\n",
      "  [[ 0  0  0 ... 13  8 14]\n",
      "   [ 0  0  0 ... 13  7  6]\n",
      "   [ 0  0  0 ... 15  6  9]\n",
      "   [ 0  0  0 ...  8  8 14]]]]\n"
     ]
    }
   ],
   "source": [
    "testfilm = np.zeros((6, 6, 4, 10), dtype=int)\n",
    "\n",
    "a = np.random.randint(1, 16, size=(6, 6, 4, 4))\n",
    "\n",
    "testfilm[:, :, :, 6:] = a\n",
    "print(testfilm)"
   ]
  },
  {
   "cell_type": "code",
   "execution_count": 608,
   "metadata": {},
   "outputs": [
    {
     "name": "stdout",
     "output_type": "stream",
     "text": [
      "[[[24 39 34 27]\n",
      "  [21 30 33 31]\n",
      "  [22 17 23 20]\n",
      "  [37 29 25 34]\n",
      "  [25 47 29 26]\n",
      "  [25 33 28 28]]\n",
      "\n",
      " [[37 35 34 29]\n",
      "  [26 45 36 31]\n",
      "  [24 34 42 20]\n",
      "  [38 26 35 35]\n",
      "  [38 37 35 31]\n",
      "  [40 23 20 21]]\n",
      "\n",
      " [[30 30 36 29]\n",
      "  [33 26 20 21]\n",
      "  [24 30 39 30]\n",
      "  [41 26 30 12]\n",
      "  [20 27 40 40]\n",
      "  [29 26 41 15]]\n",
      "\n",
      " [[23 34 22 41]\n",
      "  [28 31 19 39]\n",
      "  [22 44 30 29]\n",
      "  [29 31 33 29]\n",
      "  [31 29 29 49]\n",
      "  [33 29 29 23]]\n",
      "\n",
      " [[44 28 42 40]\n",
      "  [37 32 53 37]\n",
      "  [35 20 27 32]\n",
      "  [23 34 34 28]\n",
      "  [49 23 24  8]\n",
      "  [26 28 31 29]]\n",
      "\n",
      " [[40 24 43 26]\n",
      "  [17 47 39 45]\n",
      "  [26 20 33 25]\n",
      "  [35 30 44 29]\n",
      "  [35 50 39 41]\n",
      "  [47 41 37 43]]]\n"
     ]
    }
   ],
   "source": [
    "print(np.sum(testfilm, axis=-1))"
   ]
  },
  {
   "cell_type": "code",
   "execution_count": 609,
   "metadata": {},
   "outputs": [],
   "source": [
    "testfilm[:, :, 3, :] = 0"
   ]
  },
  {
   "cell_type": "code",
   "execution_count": 610,
   "metadata": {},
   "outputs": [
    {
     "name": "stdout",
     "output_type": "stream",
     "text": [
      "131\n",
      "[ 0 40  0  0  0  0 10  6 15 60]\n"
     ]
    }
   ],
   "source": [
    "testfilm[1, 1, 2, -1] = 60\n",
    "testfilm[1, 1, 2, 1] = 40\n",
    "print(np.sum(testfilm[1, 1, 2], axis=-1))\n",
    "print(testfilm[1, 1, 2])"
   ]
  },
  {
   "cell_type": "code",
   "execution_count": 611,
   "metadata": {},
   "outputs": [
    {
     "name": "stdout",
     "output_type": "stream",
     "text": [
      "[[0 0 0 0 0 0]\n",
      " [0 0 0 0 0 0]\n",
      " [0 0 0 0 0 0]\n",
      " [0 0 0 0 0 0]\n",
      " [0 0 0 0 0 0]\n",
      " [0 0 0 0 0 0]]\n",
      "[[34 33 23 25 29 28]\n",
      " [34 91 42 35 35 20]\n",
      " [36 20 39 30 40 41]\n",
      " [22 19 30 33 29 29]\n",
      " [42 53 27 34 24 31]\n",
      " [43 39 33 44 39 37]]\n",
      "[[39 30 17 29 47 33]\n",
      " [35 45 34 26 37 23]\n",
      " [30 26 30 26 27 26]\n",
      " [34 31 44 31 29 29]\n",
      " [28 32 20 34 23 28]\n",
      " [24 47 20 30 50 41]]\n",
      "[[24 21 22 37 25 25]\n",
      " [37 26 24 38 38 40]\n",
      " [30 33 24 41 20 29]\n",
      " [23 28 22 29 31 33]\n",
      " [44 37 35 23 49 26]\n",
      " [40 17 26 35 35 47]]\n"
     ]
    }
   ],
   "source": [
    "print(np.sum(testfilm[:, :, 3, 6:], axis=-1))\n",
    "print(np.sum(testfilm[:, :, 2, 6:], axis=-1))\n",
    "print(np.sum(testfilm[:, :, 1, 6:], axis=-1))\n",
    "print(np.sum(testfilm[:, :, 0, 6:], axis=-1))"
   ]
  },
  {
   "cell_type": "code",
   "execution_count": 612,
   "metadata": {},
   "outputs": [
    {
     "name": "stdout",
     "output_type": "stream",
     "text": [
      "[[34 33 23 25 29 28]\n",
      " [34 91 42 35 35 20]\n",
      " [36 20 39 30 40 41]\n",
      " [22 19 30 33 29 29]\n",
      " [42 53 27 34 24 31]\n",
      " [43 39 33 44 39 37]]\n",
      "(array([1], dtype=int64), array([1], dtype=int64), array([2], dtype=int64))\n",
      "[ 0 40  0  0  0  0]\n",
      "----flux----\n",
      "[False  True False False False False]\n",
      "[1]\n",
      "[3 3 0 3 3 3 3 2 3 3 3 3 1 3 3 3 2 2 3 2 0 2 3 1 2 0 3 3 3 3 3 3 3 3 3 3 1\n",
      " 2 3 0 3 3 3 2 3 1 3 3 2 3 3 0 1 0 0 2 3 3 2 3 3 3 3 3 1 3 0 3 3 3 3 3 3 0\n",
      " 3 3 3 3 3 3 3 3 2 0 3 2 2 3 3 2 3]\n",
      "[ 7  5 11 38]\n",
      "[0 1 2 3]\n",
      "----unique----\n"
     ]
    }
   ],
   "source": [
    "\n",
    "filmin = surface_advancement(testfilm, 1)"
   ]
  },
  {
   "cell_type": "code",
   "execution_count": 613,
   "metadata": {},
   "outputs": [
    {
     "name": "stdout",
     "output_type": "stream",
     "text": [
      "[[0 0 0 0 0 0]\n",
      " [0 0 0 0 0 0]\n",
      " [0 0 0 0 0 0]\n",
      " [0 0 0 0 0 0]\n",
      " [0 0 0 0 0 0]\n",
      " [0 0 0 0 0 0]]\n",
      "[[34 33 23 25 29 28]\n",
      " [34 30 42 35 35 20]\n",
      " [36 81 39 30 40 41]\n",
      " [22 19 30 33 29 29]\n",
      " [42 53 27 34 24 31]\n",
      " [43 39 33 44 39 37]]\n",
      "[[39 30 17 29 47 33]\n",
      " [35 45 34 26 37 23]\n",
      " [30 26 30 26 27 26]\n",
      " [34 31 44 31 29 29]\n",
      " [28 32 20 34 23 28]\n",
      " [24 47 20 30 50 41]]\n",
      "[[24 21 22 37 25 25]\n",
      " [37 26 24 38 38 40]\n",
      " [30 33 24 41 20 29]\n",
      " [23 28 22 29 31 33]\n",
      " [44 37 35 23 49 26]\n",
      " [40 17 26 35 35 47]]\n"
     ]
    }
   ],
   "source": [
    "print(np.sum(filmin[:, :, 3, 6:], axis=-1))\n",
    "print(np.sum(filmin[:, :, 2, 6:], axis=-1))\n",
    "print(np.sum(filmin[:, :, 1, 6:], axis=-1))\n",
    "print(np.sum(filmin[:, :, 0, 6:], axis=-1))"
   ]
  },
  {
   "cell_type": "code",
   "execution_count": 614,
   "metadata": {},
   "outputs": [
    {
     "data": {
      "text/plain": [
       "array([ 0, 40,  0,  0,  0,  0,  3,  1,  4, 22])"
      ]
     },
     "execution_count": 614,
     "metadata": {},
     "output_type": "execute_result"
    }
   ],
   "source": [
    "filmin[1, 1, 2]"
   ]
  },
  {
   "cell_type": "code",
   "execution_count": 615,
   "metadata": {},
   "outputs": [
    {
     "data": {
      "text/plain": [
       "array([ 0,  0,  0,  0,  0,  0, 12,  7, 14, 48])"
      ]
     },
     "execution_count": 615,
     "metadata": {},
     "output_type": "execute_result"
    }
   ],
   "source": [
    "filmin[2, 1, 2]"
   ]
  },
  {
   "cell_type": "code",
   "execution_count": 415,
   "metadata": {},
   "outputs": [
    {
     "name": "stdout",
     "output_type": "stream",
     "text": [
      "[2 4 0 0 3 2 2 1 4 4 3 4 1 1 4 2 2 2 3 3 2 4 4 2 4 2 3 1 3 1]\n",
      "Updated film: [[[[ 0.  0.  0.  0.  0.]\n",
      "   [ 0.  0.  0.  0.  0.]\n",
      "   [ 0.  0.  0.  0.  0.]]\n",
      "\n",
      "  [[ 0.  0.  0.  0.  0.]\n",
      "   [ 0.  0.  0.  0.  0.]\n",
      "   [ 0.  0.  0.  0.  0.]]\n",
      "\n",
      "  [[ 0.  0.  0.  0.  0.]\n",
      "   [ 0.  0.  0.  0.  0.]\n",
      "   [ 0.  0.  0.  0.  0.]]]\n",
      "\n",
      "\n",
      " [[[ 0.  0.  0.  0.  0.]\n",
      "   [ 0.  0.  0.  0.  0.]\n",
      "   [ 0.  0.  0.  0.  0.]]\n",
      "\n",
      "  [[ 0.  0.  0.  0.  0.]\n",
      "   [ 8. 25. 25. 34. 25.]\n",
      "   [ 0.  0.  0.  0.  0.]]\n",
      "\n",
      "  [[ 0.  0.  0.  0.  0.]\n",
      "   [ 0.  0.  0.  0.  0.]\n",
      "   [ 0.  0.  0.  0.  0.]]]\n",
      "\n",
      "\n",
      " [[[ 0.  0.  0.  0.  0.]\n",
      "   [ 0.  0.  0.  0.  0.]\n",
      "   [ 0.  0.  0.  0.  0.]]\n",
      "\n",
      "  [[ 0.  0.  0.  0.  0.]\n",
      "   [ 0.  0.  0.  0.  0.]\n",
      "   [ 0.  0.  0.  0.  0.]]\n",
      "\n",
      "  [[ 0.  0.  0.  0.  0.]\n",
      "   [ 0.  0.  0.  0.  0.]\n",
      "   [ 0.  0.  0.  0.  0.]]]]\n",
      "Unique indices: [0 1 2 3 4]\n",
      "Counts: [2 5 9 6 8]\n"
     ]
    }
   ],
   "source": [
    "import numpy as np\n",
    "\n",
    "def pickParticles(film, inCell, outFlow):\n",
    "    a = film[inCell[0], inCell[1], inCell[2]]\n",
    "    total_sum = a.sum()\n",
    "\n",
    "    if total_sum < outFlow:\n",
    "        raise ValueError(\"outFlow exceeds the total number of available elements in a.\")\n",
    "\n",
    "    # 创建一个表示元素类别的数组\n",
    "    indices = np.repeat(np.arange(a.size), a.astype(int))\n",
    "    np.random.shuffle(indices)\n",
    "\n",
    "    # 选择前 outFlow 个元素\n",
    "    chosen_indices = indices[:outFlow]\n",
    "    print(chosen_indices)\n",
    "    unique, counts = np.unique(chosen_indices, return_counts=True)\n",
    "\n",
    "    # 更新 film 数组\n",
    "    film[inCell[0], inCell[1], inCell[2]][unique] -= counts\n",
    "\n",
    "    return film, unique, counts\n",
    "\n",
    "# 示例数据\n",
    "a = np.array([10, 30, 34, 40, 33])\n",
    "film = np.zeros((3, 3, 3, a.size))\n",
    "film[1, 1, 1] = a\n",
    "\n",
    "# 定义参数\n",
    "inCell = (1, 1, 1)\n",
    "outFlow = 30\n",
    "\n",
    "# 调用函数\n",
    "film, unique, counts = pickParticles(film, inCell, outFlow)\n",
    "\n",
    "print(\"Updated film:\", film)\n",
    "print(\"Unique indices:\", unique)\n",
    "print(\"Counts:\", counts)\n"
   ]
  },
  {
   "cell_type": "code",
   "execution_count": null,
   "metadata": {},
   "outputs": [],
   "source": []
  }
 ],
 "metadata": {
  "kernelspec": {
   "display_name": "Python 3",
   "language": "python",
   "name": "python3"
  },
  "language_info": {
   "codemirror_mode": {
    "name": "ipython",
    "version": 3
   },
   "file_extension": ".py",
   "mimetype": "text/x-python",
   "name": "python",
   "nbconvert_exporter": "python",
   "pygments_lexer": "ipython3",
   "version": "3.11.7"
  }
 },
 "nbformat": 4,
 "nbformat_minor": 2
}

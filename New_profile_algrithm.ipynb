{
 "cells": [
  {
   "cell_type": "code",
   "execution_count": 1,
   "metadata": {},
   "outputs": [],
   "source": [
    "import numpy as np\n",
    "from numba import jit\n",
    "from scipy.spatial import KDTree\n",
    "import matplotlib.pyplot as plt\n",
    "import pyvista as pv\n",
    "from scipy import interpolate\n",
    "import surface_normalize_ver2"
   ]
  },
  {
   "cell_type": "code",
   "execution_count": 2,
   "metadata": {},
   "outputs": [],
   "source": [
    "import torch\n",
    "\n",
    "def ray_point_cloud_intersection_torch(ray_origin, ray_direction, point_cloud, threshold=0.5):\n",
    "    # 将数据转移到GPU\n",
    "    ray_origin = torch.tensor(ray_origin, device='cuda')\n",
    "    ray_direction = torch.tensor(ray_direction, device='cuda')\n",
    "    point_cloud = torch.tensor(point_cloud, device='cuda')\n",
    "    \n",
    "    # 将光线方向标准化（单位向量）\n",
    "    ray_direction = ray_direction / torch.norm(ray_direction)\n",
    "\n",
    "    # 计算从光线起点到每个点的向量\n",
    "    point_vectors = point_cloud - ray_origin\n",
    "\n",
    "    # 计算点向量在光线方向上的投影长度\n",
    "    t = torch.matmul(point_vectors, ray_direction)\n",
    "\n",
    "    # 计算光线上投影点的坐标\n",
    "    projections = ray_origin + torch.outer(t, ray_direction)\n",
    "\n",
    "    # 计算当前点到投影点的距离\n",
    "    distances = torch.norm(point_cloud - projections, dim=1)\n",
    "\n",
    "    # 找到距离小于阈值的点\n",
    "    indice = torch.where(distances < threshold)[0]\n",
    "    \n",
    "    if indice.numel() == 0:\n",
    "        return None\n",
    "    \n",
    "    near_point = point_cloud[indice]\n",
    "    distances_near_point = torch.norm(ray_origin - near_point, dim=1)\n",
    "\n",
    "    # 找到最小距离和最近点\n",
    "    min_index = torch.argmin(distances_near_point)\n",
    "    closest_point = near_point[min_index]\n",
    "\n",
    "    # 将结果从GPU传回到CPU\n",
    "    return closest_point.cpu().numpy().astype(int)"
   ]
  },
  {
   "cell_type": "code",
   "execution_count": 3,
   "metadata": {},
   "outputs": [],
   "source": [
    "def ray_point_cloud_intersection_vectorized(ray_origin, ray_direction, point_cloud):\n",
    "    # 将光线方向标准化（单位向量）\n",
    "    ray_direction = ray_direction / np.linalg.norm(ray_direction)\n",
    "\n",
    "    # 计算从光线起点到每个点的向量\n",
    "    point_vectors = point_cloud - ray_origin\n",
    "\n",
    "    # 计算点向量在光线方向上的投影长度\n",
    "    t = np.dot(point_vectors, ray_direction)\n",
    "\n",
    "    # 计算光线上投影点的坐标\n",
    "    projections = ray_origin + np.outer(t, ray_direction)\n",
    "\n",
    "    # 计算当前点到投影点的距离\n",
    "    distances = np.linalg.norm(point_cloud - projections, axis=1)\n",
    "\n",
    "    indice = np.where(distances < 0.5)[0]\n",
    "    # 如果没有点满足条件，则返回空结果\n",
    "    if indice.size == 0:\n",
    "        return None\n",
    "    near_point = point_cloud[indice]\n",
    "\n",
    "    distances_near_point = np.linalg.norm(ray_origin - near_point, axis=1)\n",
    "    # 找到最小距离和最近点\n",
    "    min_index = np.argmin(distances_near_point)\n",
    "    closest_point = point_cloud[indice[min_index]]\n",
    "    # min_distance = distance_in[min_index]\n",
    "    return closest_point.astype(int)"
   ]
  },
  {
   "cell_type": "code",
   "execution_count": 5,
   "metadata": {},
   "outputs": [],
   "source": [
    "def scanZ2(film): # fast scanZ with NumPy\n",
    "    # 将film的最后四个通道求和\n",
    "    film_sum = np.sum(film[1:-1,1:-1,1:-1,6:], axis=-1)\n",
    "    \n",
    "    # 获取film的形状\n",
    "    xshape, yshape, zshape = film_sum.shape\n",
    "    \n",
    "    # 初始化一个全零的表面稀疏数组\n",
    "    surface_sparse = np.zeros((xshape, yshape, zshape), dtype=bool)\n",
    "    \n",
    "    # 当前平面的布尔索引\n",
    "    current_plane = film_sum != 0\n",
    "    \n",
    "    # 获取周围邻居的布尔索引\n",
    "    neighbors = np.zeros_like(film_sum, dtype=bool)\n",
    "    \n",
    "    neighbors[1:, :, :] |= film_sum[:-1, :, :] == 0  # 上面\n",
    "    neighbors[:-1, :, :] |= film_sum[1:, :, :] == 0  # 下面\n",
    "    neighbors[:, 1:, :] |= film_sum[:, :-1, :] == 0  # 左边\n",
    "    neighbors[:, :-1, :] |= film_sum[:, 1:, :] == 0  # 右边\n",
    "    neighbors[:, :, 1:] |= film_sum[:, :, :-1] == 0  # 前面\n",
    "    neighbors[:, :, :-1] |= film_sum[:, :, 1:] == 0  # 后面\n",
    "    \n",
    "    # 获取满足条件的索引\n",
    "    condition = current_plane & neighbors\n",
    "    \n",
    "    # 更新表面稀疏数组\n",
    "    surface_sparse[condition] = True\n",
    "    \n",
    "    # 找到所有非零元素的索引，表示表面点的坐标\n",
    "    surface = np.argwhere(surface_sparse)\n",
    "    \n",
    "    return surface + 1"
   ]
  },
  {
   "cell_type": "code",
   "execution_count": 7,
   "metadata": {},
   "outputs": [
    {
     "name": "stdout",
     "output_type": "stream",
     "text": [
      "2.2.2+cpu\n",
      "False\n"
     ]
    }
   ],
   "source": [
    "import torch\n",
    "print(torch.__version__)\n",
    "print(torch.cuda.is_available())"
   ]
  },
  {
   "cell_type": "code",
   "execution_count": 6,
   "metadata": {},
   "outputs": [
    {
     "name": "stdout",
     "output_type": "stream",
     "text": [
      "Without Numba: 0.001721 seconds (average over 10 runs)\n"
     ]
    },
    {
     "ename": "AssertionError",
     "evalue": "Torch not compiled with CUDA enabled",
     "output_type": "error",
     "traceback": [
      "\u001b[1;31m---------------------------------------------------------------------------\u001b[0m",
      "\u001b[1;31mAssertionError\u001b[0m                            Traceback (most recent call last)",
      "Cell \u001b[1;32mIn[6], line 37\u001b[0m\n\u001b[0;32m     35\u001b[0m start_time \u001b[38;5;241m=\u001b[39m time\u001b[38;5;241m.\u001b[39mtime()\n\u001b[0;32m     36\u001b[0m \u001b[38;5;28;01mfor\u001b[39;00m _ \u001b[38;5;129;01min\u001b[39;00m \u001b[38;5;28mrange\u001b[39m(n_runs):\n\u001b[1;32m---> 37\u001b[0m     film_sum_fast \u001b[38;5;241m=\u001b[39m ray_point_cloud_intersection_torch(ray_origin, ray_direction, surface, threshold\u001b[38;5;241m=\u001b[39m\u001b[38;5;241m0.5\u001b[39m)\n\u001b[0;32m     38\u001b[0m fast_duration \u001b[38;5;241m=\u001b[39m (time\u001b[38;5;241m.\u001b[39mtime() \u001b[38;5;241m-\u001b[39m start_time) \u001b[38;5;241m/\u001b[39m n_runs\n\u001b[0;32m     39\u001b[0m \u001b[38;5;28mprint\u001b[39m(\u001b[38;5;124mf\u001b[39m\u001b[38;5;124m\"\u001b[39m\u001b[38;5;124mWith Numba: \u001b[39m\u001b[38;5;132;01m{\u001b[39;00mfast_duration\u001b[38;5;132;01m:\u001b[39;00m\u001b[38;5;124m.6f\u001b[39m\u001b[38;5;132;01m}\u001b[39;00m\u001b[38;5;124m seconds (average over \u001b[39m\u001b[38;5;132;01m{\u001b[39;00mn_runs\u001b[38;5;132;01m}\u001b[39;00m\u001b[38;5;124m runs)\u001b[39m\u001b[38;5;124m\"\u001b[39m)\n",
      "Cell \u001b[1;32mIn[2], line 5\u001b[0m, in \u001b[0;36mray_point_cloud_intersection_torch\u001b[1;34m(ray_origin, ray_direction, point_cloud, threshold)\u001b[0m\n\u001b[0;32m      3\u001b[0m \u001b[38;5;28;01mdef\u001b[39;00m \u001b[38;5;21mray_point_cloud_intersection_torch\u001b[39m(ray_origin, ray_direction, point_cloud, threshold\u001b[38;5;241m=\u001b[39m\u001b[38;5;241m0.5\u001b[39m):\n\u001b[0;32m      4\u001b[0m     \u001b[38;5;66;03m# 将数据转移到GPU\u001b[39;00m\n\u001b[1;32m----> 5\u001b[0m     ray_origin \u001b[38;5;241m=\u001b[39m torch\u001b[38;5;241m.\u001b[39mtensor(ray_origin, device\u001b[38;5;241m=\u001b[39m\u001b[38;5;124m'\u001b[39m\u001b[38;5;124mcuda\u001b[39m\u001b[38;5;124m'\u001b[39m)\n\u001b[0;32m      6\u001b[0m     ray_direction \u001b[38;5;241m=\u001b[39m torch\u001b[38;5;241m.\u001b[39mtensor(ray_direction, device\u001b[38;5;241m=\u001b[39m\u001b[38;5;124m'\u001b[39m\u001b[38;5;124mcuda\u001b[39m\u001b[38;5;124m'\u001b[39m)\n\u001b[0;32m      7\u001b[0m     point_cloud \u001b[38;5;241m=\u001b[39m torch\u001b[38;5;241m.\u001b[39mtensor(point_cloud, device\u001b[38;5;241m=\u001b[39m\u001b[38;5;124m'\u001b[39m\u001b[38;5;124mcuda\u001b[39m\u001b[38;5;124m'\u001b[39m)\n",
      "File \u001b[1;32ml:\\program\\Lib\\site-packages\\torch\\cuda\\__init__.py:293\u001b[0m, in \u001b[0;36m_lazy_init\u001b[1;34m()\u001b[0m\n\u001b[0;32m    288\u001b[0m     \u001b[38;5;28;01mraise\u001b[39;00m \u001b[38;5;167;01mRuntimeError\u001b[39;00m(\n\u001b[0;32m    289\u001b[0m         \u001b[38;5;124m\"\u001b[39m\u001b[38;5;124mCannot re-initialize CUDA in forked subprocess. To use CUDA with \u001b[39m\u001b[38;5;124m\"\u001b[39m\n\u001b[0;32m    290\u001b[0m         \u001b[38;5;124m\"\u001b[39m\u001b[38;5;124mmultiprocessing, you must use the \u001b[39m\u001b[38;5;124m'\u001b[39m\u001b[38;5;124mspawn\u001b[39m\u001b[38;5;124m'\u001b[39m\u001b[38;5;124m start method\u001b[39m\u001b[38;5;124m\"\u001b[39m\n\u001b[0;32m    291\u001b[0m     )\n\u001b[0;32m    292\u001b[0m \u001b[38;5;28;01mif\u001b[39;00m \u001b[38;5;129;01mnot\u001b[39;00m \u001b[38;5;28mhasattr\u001b[39m(torch\u001b[38;5;241m.\u001b[39m_C, \u001b[38;5;124m\"\u001b[39m\u001b[38;5;124m_cuda_getDeviceCount\u001b[39m\u001b[38;5;124m\"\u001b[39m):\n\u001b[1;32m--> 293\u001b[0m     \u001b[38;5;28;01mraise\u001b[39;00m \u001b[38;5;167;01mAssertionError\u001b[39;00m(\u001b[38;5;124m\"\u001b[39m\u001b[38;5;124mTorch not compiled with CUDA enabled\u001b[39m\u001b[38;5;124m\"\u001b[39m)\n\u001b[0;32m    294\u001b[0m \u001b[38;5;28;01mif\u001b[39;00m _cudart \u001b[38;5;129;01mis\u001b[39;00m \u001b[38;5;28;01mNone\u001b[39;00m:\n\u001b[0;32m    295\u001b[0m     \u001b[38;5;28;01mraise\u001b[39;00m \u001b[38;5;167;01mAssertionError\u001b[39;00m(\n\u001b[0;32m    296\u001b[0m         \u001b[38;5;124m\"\u001b[39m\u001b[38;5;124mlibcudart functions unavailable. It looks like you have a broken build?\u001b[39m\u001b[38;5;124m\"\u001b[39m\n\u001b[0;32m    297\u001b[0m     )\n",
      "\u001b[1;31mAssertionError\u001b[0m: Torch not compiled with CUDA enabled"
     ]
    }
   ],
   "source": [
    "import time\n",
    "film = np.zeros((100, 100, 160, 8), dtype=int)\n",
    "\n",
    "bottom = 10\n",
    "film[:, :, 0:bottom, 6] = 30 # bottom\n",
    "\n",
    "height = 40\n",
    "\n",
    "# film[:, :19, 0:height] = 10\n",
    "# film[:, 81:, 0:height] = 10\n",
    "# film[:19, :, 0:height] = 10\n",
    "# film[81:, :, 0:height] = 10\n",
    "\n",
    "film[:, :17, 0:height, 6] = 30\n",
    "film[:, 83:, 0:height, 6] = 30\n",
    "film[:17, :, 0:height, 6] = 30\n",
    "film[83:, :, 0:height, 6] = 30\n",
    "ray_origin = np.array([10.3, 10.1, 160])\n",
    "ray_direction = np.array([0, 0, -10])\n",
    "surface = scanZ2(film)\n",
    "closest_point = ray_point_cloud_intersection_vectorized(ray_origin, ray_direction, surface)\n",
    "\n",
    "\n",
    "# 运行次数\n",
    "n_runs = 10\n",
    "\n",
    "# 测试未使用 Numba 的耗时\n",
    "start_time = time.time()\n",
    "for _ in range(n_runs):\n",
    "    film_sum_slow = ray_point_cloud_intersection_vectorized(ray_origin, ray_direction, surface)\n",
    "slow_duration = (time.time() - start_time) / n_runs\n",
    "print(f\"Without Numba: {slow_duration:.6f} seconds (average over {n_runs} runs)\")\n",
    "\n",
    "# 测试使用 Numba 的耗时\n",
    "start_time = time.time()\n",
    "for _ in range(n_runs):\n",
    "    film_sum_fast = ray_point_cloud_intersection_torch(ray_origin, ray_direction, surface, threshold=0.5)\n",
    "fast_duration = (time.time() - start_time) / n_runs\n",
    "print(f\"With Numba: {fast_duration:.6f} seconds (average over {n_runs} runs)\")\n",
    "\n",
    "# 确认两者计算结果是否相同\n",
    "assert np.array_equal(film_sum_slow, film_sum_fast), \"Results do not match!\"\n",
    "\n",
    "# 打印加速倍数\n",
    "print(f\"Numba speedup: {slow_duration / fast_duration:.2f}x\")"
   ]
  },
  {
   "cell_type": "code",
   "execution_count": 2,
   "metadata": {},
   "outputs": [],
   "source": [
    "etching = np.load('./Data/For_etching_transport_TS60_deposit_0618_linear_paper_NoDSMC2_empty2.npy')"
   ]
  },
  {
   "cell_type": "code",
   "execution_count": 4,
   "metadata": {},
   "outputs": [],
   "source": [
    "testpy = surface_normalize_ver2.surface_normal(center_with_direction=np.array([[50,50,10]]),range3D=np.array([[0, 100, 0, 100, 0, 150]]), InOrOut=[1],celllength=1e-9,  yield_hist=None)"
   ]
  },
  {
   "cell_type": "code",
   "execution_count": 5,
   "metadata": {},
   "outputs": [],
   "source": [
    "film = np.zeros((20, 20, 20, 8), dtype=int)\n",
    "\n",
    "film[:, :, :8, 6] = 30\n",
    "\n",
    "box_half_size = 0.5\n",
    "surface = testpy.get_pointcloud(film)"
   ]
  },
  {
   "cell_type": "code",
   "execution_count": 6,
   "metadata": {},
   "outputs": [
    {
     "name": "stderr",
     "output_type": "stream",
     "text": [
      "l:\\program\\Lib\\site-packages\\pyvista\\core\\filters\\data_set.py:2320: UserWarning: No vector-like data to use for orient. orient will be set to False.\n",
      "  warnings.warn(\"No vector-like data to use for orient. orient will be set to False.\")\n"
     ]
    },
    {
     "data": {
      "application/vnd.jupyter.widget-view+json": {
       "model_id": "75881c643d214d26ae13211fdafd8c06",
       "version_major": 2,
       "version_minor": 0
      },
      "text/plain": [
       "Widget(value='<iframe src=\"http://localhost:61897/index.html?ui=P_0x20b98d6af90_0&reconnect=auto\" class=\"pyvis…"
      ]
     },
     "metadata": {},
     "output_type": "display_data"
    }
   ],
   "source": [
    "submesh = pv.PolyData(surface[50:60, 3:])\n",
    "submesh[\"radius\"] = np.ones(surface[50:60, 3:].shape[0])*0.5\n",
    "\n",
    "depomesh = pv.PolyData(surface[:, 3:])\n",
    "depomesh[\"radius\"] = np.ones(surface[:, 3:].shape[0])*0.5\n",
    "geom = pv.Box()\n",
    "\n",
    "\n",
    "# Progress bar is a new feature on master branch\n",
    "subglyphed = submesh.glyph(scale=\"radius\", geom=geom) # progress_bar=True)\n",
    "depoglyphed = depomesh.glyph(scale=\"radius\", geom=geom) # progress_bar=True)\n",
    "\n",
    "p = pv.Plotter()\n",
    "p.add_mesh(depoglyphed, color='cyan')\n",
    "p.add_mesh(subglyphed, color='dimgray')\n",
    "p.enable_eye_dome_lighting()\n",
    "p.show()"
   ]
  },
  {
   "cell_type": "code",
   "execution_count": 9,
   "metadata": {},
   "outputs": [],
   "source": [
    "getdata = testpy.get_pointcloud(etching[:, :, :])"
   ]
  },
  {
   "cell_type": "code",
   "execution_count": 6,
   "metadata": {},
   "outputs": [
    {
     "data": {
      "application/vnd.jupyter.widget-view+json": {
       "model_id": "995a23700ec24ec18cbba1b79a09c3ca",
       "version_major": 2,
       "version_minor": 0
      },
      "text/plain": [
       "Widget(value='<iframe src=\"http://localhost:53729/index.html?ui=P_0x22e255fee10_0&reconnect=auto\" class=\"pyvis…"
      ]
     },
     "metadata": {},
     "output_type": "display_data"
    }
   ],
   "source": [
    "point_cloud = pv.PolyData(getdata[:, 3:])\n",
    "vectors = getdata[:, :3]\n",
    "\n",
    "point_cloud['vectors'] = vectors\n",
    "arrows = point_cloud.glyph(\n",
    "    orient='vectors',\n",
    "    scale=1000,\n",
    "    factor=2,\n",
    ")\n",
    "\n",
    "# Display the arrows\n",
    "plotter = pv.Plotter()\n",
    "plotter.add_mesh(point_cloud, color='maroon', point_size=5.0, render_points_as_spheres=True)\n",
    "plotter.add_mesh(arrows, color='lightblue')\n",
    "# plotter.add_point_labels([point_cloud.center,], ['Center',],\n",
    "#                          point_color='yellow', point_size=20)\n",
    "plotter.show_grid()\n",
    "plotter.show()"
   ]
  },
  {
   "cell_type": "code",
   "execution_count": 12,
   "metadata": {},
   "outputs": [
    {
     "name": "stdout",
     "output_type": "stream",
     "text": [
      "(20530, 6)\n",
      "[ 2.96875426e-02 -9.05025869e-01  4.24319250e-01  4.90000000e+01\n",
      "  3.10000000e+01  4.00000000e+01]\n"
     ]
    }
   ],
   "source": [
    "print(getdata.shape)\n",
    "\n",
    "print(getdata[10000])"
   ]
  },
  {
   "cell_type": "code",
   "execution_count": 4,
   "metadata": {},
   "outputs": [],
   "source": [
    "\n",
    "# @jit(nopython=True)\n",
    "def ray_point_cloud_intersection_vectorized(ray_origin, ray_direction, point_cloud):\n",
    "    # 将光线方向标准化（单位向量）\n",
    "    ray_direction = ray_direction / np.linalg.norm(ray_direction)\n",
    "\n",
    "    # 计算从光线起点到每个点的向量\n",
    "    point_vectors = point_cloud - ray_origin\n",
    "\n",
    "    # 计算点向量在光线方向上的投影长度\n",
    "    t = np.dot(point_vectors, ray_direction)\n",
    "\n",
    "    # 计算光线上投影点的坐标\n",
    "    projections = ray_origin + np.outer(t, ray_direction)\n",
    "\n",
    "    # 计算当前点到投影点的距离\n",
    "    distances = np.linalg.norm(point_cloud - projections, axis=1)\n",
    "\n",
    "    indice = np.where(distances < 0.5)[0]\n",
    "    # 如果没有点满足条件，则返回空结果\n",
    "    if indice.size == 0:\n",
    "        return None\n",
    "    near_point = point_cloud[indice]\n",
    "\n",
    "    distances_near_point = np.linalg.norm(ray_origin - near_point, axis=1)\n",
    "    # 找到最小距离和最近点\n",
    "    min_index = np.argmin(distances_near_point)\n",
    "    closest_point = point_cloud[indice[min_index]]\n",
    "    # min_distance = distance_in[min_index]\n",
    "    return closest_point.astype(int)\n"
   ]
  },
  {
   "cell_type": "code",
   "execution_count": 15,
   "metadata": {},
   "outputs": [],
   "source": [
    "from joblib import Parallel, delayed\n",
    "\n",
    "def ray_point_cloud_intersection_parallel(ray_origin, ray_direction, point_cloud, n_jobs=-1, threshold=0.5):\n",
    "    ray_direction = ray_direction / np.linalg.norm(ray_direction)\n",
    "    \n",
    "    def process_batch(batch):\n",
    "        point_vectors = batch - ray_origin\n",
    "        t = np.dot(point_vectors, ray_direction)\n",
    "        projections = ray_origin + t[:, None] * ray_direction\n",
    "        distances = np.linalg.norm(batch - projections, axis=1)\n",
    "        valid_indices = np.where(distances < threshold)[0]\n",
    "        \n",
    "        if valid_indices.size == 0:\n",
    "            return None, np.inf\n",
    "        \n",
    "        valid_points = batch[valid_indices]\n",
    "        distances_to_origin = np.linalg.norm(ray_origin - valid_points, axis=1)\n",
    "        min_index = np.argmin(distances_to_origin)\n",
    "        \n",
    "        return valid_points[min_index], distances_to_origin[min_index]\n",
    "    \n",
    "    results = Parallel(n_jobs=n_jobs)(delayed(process_batch)(point_cloud[i:i + 1000]) for i in range(0, len(point_cloud), 1000))\n",
    "    \n",
    "    closest_point, min_distance = min(results, key=lambda x: x[1])\n",
    "    return closest_point.astype(int) if min_distance != np.inf else None\n"
   ]
  },
  {
   "cell_type": "code",
   "execution_count": 7,
   "metadata": {},
   "outputs": [
    {
     "name": "stdout",
     "output_type": "stream",
     "text": [
      "Looking in indexes: https://download.pytorch.org/whl/cu118\n",
      "Requirement already satisfied: torch in l:\\program\\lib\\site-packages (2.2.2)\n",
      "Requirement already satisfied: torchvision in l:\\program\\lib\\site-packages (0.17.2)\n",
      "Requirement already satisfied: torchaudio in l:\\program\\lib\\site-packages (2.2.2)\n",
      "Requirement already satisfied: filelock in l:\\program\\lib\\site-packages (from torch) (3.13.1)\n",
      "Requirement already satisfied: typing-extensions>=4.8.0 in l:\\program\\lib\\site-packages (from torch) (4.9.0)\n",
      "Requirement already satisfied: sympy in l:\\program\\lib\\site-packages (from torch) (1.12)\n",
      "Requirement already satisfied: networkx in l:\\program\\lib\\site-packages (from torch) (3.1)\n",
      "Requirement already satisfied: jinja2 in l:\\program\\lib\\site-packages (from torch) (3.1.3)\n",
      "Requirement already satisfied: fsspec in l:\\program\\lib\\site-packages (from torch) (2023.10.0)\n",
      "Requirement already satisfied: numpy in l:\\program\\lib\\site-packages (from torchvision) (1.26.4)\n",
      "Requirement already satisfied: pillow!=8.3.*,>=5.3.0 in l:\\program\\lib\\site-packages (from torchvision) (10.2.0)\n",
      "Requirement already satisfied: MarkupSafe>=2.0 in l:\\program\\lib\\site-packages (from jinja2->torch) (2.1.3)\n",
      "Requirement already satisfied: mpmath>=0.19 in l:\\program\\lib\\site-packages (from sympy->torch) (1.3.0)\n",
      "Note: you may need to restart the kernel to use updated packages.\n"
     ]
    }
   ],
   "source": [
    "%pip install torch torchvision torchaudio --index-url https://download.pytorch.org/whl/cu118\n"
   ]
  },
  {
   "cell_type": "code",
   "execution_count": 18,
   "metadata": {},
   "outputs": [],
   "source": [
    "ray_origin = np.array([10.3, 10.1, 160])\n",
    "ray_direction = np.array([0, 0, -10])\n",
    "\n",
    "closest_point = ray_point_cloud_intersection_vectorized(ray_origin, ray_direction, getdata[:, 3:])"
   ]
  },
  {
   "cell_type": "code",
   "execution_count": 19,
   "metadata": {},
   "outputs": [
    {
     "data": {
      "text/plain": [
       "array([ 10,  10, 129])"
      ]
     },
     "execution_count": 19,
     "metadata": {},
     "output_type": "execute_result"
    }
   ],
   "source": [
    "closest_point"
   ]
  },
  {
   "cell_type": "code",
   "execution_count": 16,
   "metadata": {},
   "outputs": [],
   "source": [
    "closest_point = ray_point_cloud_intersection_parallel(ray_origin, ray_direction, getdata[:, 3:])"
   ]
  },
  {
   "cell_type": "code",
   "execution_count": 17,
   "metadata": {},
   "outputs": [
    {
     "name": "stdout",
     "output_type": "stream",
     "text": [
      "[ 10  10 129]\n"
     ]
    }
   ],
   "source": [
    "print(closest_point)"
   ]
  },
  {
   "cell_type": "code",
   "execution_count": 232,
   "metadata": {},
   "outputs": [
    {
     "name": "stdout",
     "output_type": "stream",
     "text": [
      "Hit face: 3\n"
     ]
    }
   ],
   "source": [
    "def find_intersection_face(ray_origin, ray_direction, box_center, box_half_size):\n",
    "    # 计算立方体的最小角和最大角\n",
    "    min_corner = box_center - box_half_size\n",
    "    max_corner = box_center + box_half_size\n",
    "\n",
    "    # 初始化记录相交时间的数组和相交面的数组\n",
    "    t_near = -np.inf\n",
    "    t_far = np.inf\n",
    "    hit_normal = np.array([0, 0, 0])\n",
    "\n",
    "    # 遍历三个轴（x, y, z）\n",
    "    for i in range(3):\n",
    "        if ray_direction[i] != 0:\n",
    "            # 计算 t1 和 t2\n",
    "            t1 = (min_corner[i] - ray_origin[i]) / ray_direction[i]\n",
    "            t2 = (max_corner[i] - ray_origin[i]) / ray_direction[i]\n",
    "            \n",
    "            # 交换 t1 和 t2，如果 t1 > t2\n",
    "            if t1 > t2:\n",
    "                t1, t2 = t2, t1\n",
    "            \n",
    "            # 更新 t_near 和 t_far\n",
    "            if t1 > t_near:\n",
    "                t_near = t1\n",
    "                hit_normal = np.array([0, 0, 0])\n",
    "                hit_normal[i] = -1 if ray_direction[i] > 0 else 1\n",
    "            \n",
    "            if t2 < t_far:\n",
    "                t_far = t2\n",
    "\n",
    "            # 检查是否存在相交\n",
    "            if t_near > t_far or t_far < 0:\n",
    "                return None, None  # 不相交\n",
    "\n",
    "    # 确定哪个面被击中\n",
    "    if np.array_equal(hit_normal, [-1, 0, 0]):\n",
    "        return 0  #\"Left\"\n",
    "    elif np.array_equal(hit_normal, [1, 0, 0]):\n",
    "        return 1  #\"Right\"\n",
    "    elif np.array_equal(hit_normal, [0, -1, 0]):\n",
    "        return 2  #\"Front\"\n",
    "    elif np.array_equal(hit_normal, [0, 1, 0]):\n",
    "        return 3  #\"Back\"\n",
    "    elif np.array_equal(hit_normal, [0, 0, -1]):\n",
    "        return 4  #\"Bottom\"\n",
    "    elif np.array_equal(hit_normal, [0, 0, 1]):\n",
    "        return 5  #\"Top\"\n",
    "    return None\n",
    "\n",
    "\n",
    "# 示例使用\n",
    "ray_origin = np.array([5, 5.1, 5])\n",
    "ray_direction = np.array([-1, -1, -1])\n",
    "box_center = np.array([0, 0, 0])\n",
    "box_half_size = np.array([1, 1, 1])\n",
    "\n",
    "hit_face = find_intersection_face(ray_origin, ray_direction, box_center, box_half_size)\n",
    "print(f\"Hit face: {hit_face}\")"
   ]
  },
  {
   "cell_type": "code",
   "execution_count": null,
   "metadata": {},
   "outputs": [],
   "source": []
  },
  {
   "cell_type": "code",
   "execution_count": 231,
   "metadata": {},
   "outputs": [
    {
     "name": "stdout",
     "output_type": "stream",
     "text": [
      "Hit face: Back, t_near: 4.1\n"
     ]
    }
   ],
   "source": [
    "# import numpy as np\n",
    "\n",
    "def find_intersection_face(ray_origin, ray_direction, box_center, box_half_size):\n",
    "    # 计算立方体的最小角和最大角\n",
    "    min_corner = box_center - box_half_size\n",
    "    max_corner = box_center + box_half_size\n",
    "\n",
    "    # 初始化记录相交时间的数组和相交面的数组\n",
    "    t_near = -np.inf\n",
    "    t_far = np.inf\n",
    "    hit_normal = np.array([0, 0, 0])\n",
    "\n",
    "    # 遍历三个轴（x, y, z）\n",
    "    for i in range(3):\n",
    "        if ray_direction[i] != 0:\n",
    "            # 计算 t1 和 t2\n",
    "            t1 = (min_corner[i] - ray_origin[i]) / ray_direction[i]\n",
    "            t2 = (max_corner[i] - ray_origin[i]) / ray_direction[i]\n",
    "            \n",
    "            # 交换 t1 和 t2，如果 t1 > t2\n",
    "            if t1 > t2:\n",
    "                t1, t2 = t2, t1\n",
    "            \n",
    "            # 更新 t_near 和 t_far\n",
    "            if t1 > t_near:\n",
    "                t_near = t1\n",
    "                hit_normal = np.array([0, 0, 0])\n",
    "                hit_normal[i] = -1 if ray_direction[i] > 0 else 1\n",
    "            \n",
    "            if t2 < t_far:\n",
    "                t_far = t2\n",
    "\n",
    "            # 检查是否存在相交\n",
    "            if t_near > t_far or t_far < 0:\n",
    "                return None, None  # 不相交\n",
    "\n",
    "    # 确定哪个面被击中\n",
    "    hit_face = determine_face(hit_normal)\n",
    "\n",
    "    return hit_face, t_near\n",
    "\n",
    "def determine_face(hit_normal):\n",
    "    # 根据 hit_normal 的方向确定被击中的面\n",
    "    if np.array_equal(hit_normal, [-1, 0, 0]):\n",
    "        return \"Left\"\n",
    "    elif np.array_equal(hit_normal, [1, 0, 0]):\n",
    "        return \"Right\"\n",
    "    elif np.array_equal(hit_normal, [0, -1, 0]):\n",
    "        return \"Front\"\n",
    "    elif np.array_equal(hit_normal, [0, 1, 0]):\n",
    "        return \"Back\"\n",
    "    elif np.array_equal(hit_normal, [0, 0, -1]):\n",
    "        return \"Bottom\"\n",
    "    elif np.array_equal(hit_normal, [0, 0, 1]):\n",
    "        return \"Top\"\n",
    "    return None\n",
    "\n",
    "# 示例使用\n",
    "ray_origin = np.array([5, 5.1, 5])\n",
    "ray_direction = np.array([-1, -1, -1])\n",
    "box_center = np.array([0, 0, 0])\n",
    "box_half_size = np.array([1, 1, 1])\n",
    "\n",
    "hit_face, t_near = find_intersection_face(ray_origin, ray_direction, box_center, box_half_size)\n",
    "print(f\"Hit face: {hit_face}, t_near: {t_near}\")\n"
   ]
  },
  {
   "cell_type": "code",
   "execution_count": 220,
   "metadata": {},
   "outputs": [
    {
     "name": "stdout",
     "output_type": "stream",
     "text": [
      "Hit face: Back, t_near: 9.0\n"
     ]
    }
   ],
   "source": [
    "# 示例使用\n",
    "ray_origin = np.array([0, 10, 0])\n",
    "ray_direction = np.array([0.0001, -1, 0.001])\n",
    "box_center = np.array([0, 0, 0])\n",
    "box_half_size = np.array([1, 1, 1])\n",
    "\n",
    "hit_face, t_near = find_intersection_face(ray_origin, ray_direction, box_center, box_half_size)\n",
    "print(f\"Hit face: {hit_face}, t_near: {t_near}\")"
   ]
  },
  {
   "cell_type": "code",
   "execution_count": 155,
   "metadata": {},
   "outputs": [
    {
     "name": "stdout",
     "output_type": "stream",
     "text": [
      "0.0\n"
     ]
    }
   ],
   "source": [
    "print(etching[closest_point[0].astype(int),closest_point[1].astype(int), closest_point[2].astype(int)])"
   ]
  },
  {
   "cell_type": "code",
   "execution_count": 139,
   "metadata": {},
   "outputs": [],
   "source": [
    "getdata = testpy.get_pointcloud(etching[:, :, :])"
   ]
  },
  {
   "cell_type": "code",
   "execution_count": null,
   "metadata": {},
   "outputs": [],
   "source": [
    "film_elemnt = np.array([10, 20])"
   ]
  },
  {
   "cell_type": "code",
   "execution_count": 156,
   "metadata": {},
   "outputs": [
    {
     "data": {
      "text/plain": [
       "array([1, 2, 3, 5, 4, 5, 6])"
      ]
     },
     "execution_count": 156,
     "metadata": {},
     "output_type": "execute_result"
    }
   ],
   "source": [
    "a = np.array((1,2,3,5))\n",
    "b = np.array((4,5,6))\n",
    "np.hstack((a,b))"
   ]
  },
  {
   "cell_type": "code",
   "execution_count": 185,
   "metadata": {},
   "outputs": [
    {
     "name": "stdout",
     "output_type": "stream",
     "text": [
      "[10. 21.]\n"
     ]
    }
   ],
   "source": [
    "react_table = np.array([[[0.700, 0, 1], [0.300, 0, 1]],\n",
    "                        [[0.200, -1, 0], [0.075, 0, -1]]])\n",
    "\n",
    "film_elemnt = np.array([10, 20], dtype=float)\n",
    "\n",
    "def reaction(gas, film):\n",
    "    # 计算总长度\n",
    "    total_length = int(film.sum())\n",
    "    \n",
    "    # 预分配数组\n",
    "    reaction_type = np.empty(total_length, dtype=float)\n",
    "    reaction_rate = np.empty(total_length, dtype=float)\n",
    "    \n",
    "    # 填充数组\n",
    "    current_index = 0\n",
    "    for i in range(film.shape[0]):\n",
    "        length = int(film[i])\n",
    "        reaction_type[current_index:current_index+length] = i\n",
    "        reaction_rate[current_index:current_index+length] = react_table[gas,i,0]\n",
    "        current_index += length\n",
    "    \n",
    "    reaction_list = np.random.rand(int(film.sum()))\n",
    "\n",
    "    reaction_selection = reaction_rate > reaction_list\n",
    "    reaction_choice = np.random.choice(np.where(reaction_selection == True)[0], 1)\n",
    "    reaction_particle = reaction_type[reaction_choice].astype(int)\n",
    "\n",
    "    film += react_table[gas, reaction_particle, 1:][0]\n",
    "\n",
    "    return film\n",
    "\n",
    "print(reaction(0, film_elemnt))"
   ]
  },
  {
   "cell_type": "code",
   "execution_count": 641,
   "metadata": {},
   "outputs": [
    {
     "ename": "IndexError",
     "evalue": "only integers, slices (`:`), ellipsis (`...`), numpy.newaxis (`None`) and integer or boolean arrays are valid indices",
     "output_type": "error",
     "traceback": [
      "\u001b[1;31m---------------------------------------------------------------------------\u001b[0m",
      "\u001b[1;31mIndexError\u001b[0m                                Traceback (most recent call last)",
      "Cell \u001b[1;32mIn[641], line 43\u001b[0m\n\u001b[0;32m     39\u001b[0m         \u001b[38;5;28;01mreturn\u001b[39;00m film, \u001b[38;5;241m-\u001b[39m\u001b[38;5;241m1\u001b[39m, \u001b[38;5;241m0\u001b[39m\n\u001b[0;32m     42\u001b[0m \u001b[38;5;66;03m# 调用函数并输出结果\u001b[39;00m\n\u001b[1;32m---> 43\u001b[0m \u001b[38;5;28mprint\u001b[39m(reaction(\u001b[38;5;241m1.0\u001b[39m, film_elemnt))\n",
      "Cell \u001b[1;32mIn[641], line 21\u001b[0m, in \u001b[0;36mreaction\u001b[1;34m(gas, film)\u001b[0m\n\u001b[0;32m     19\u001b[0m     length \u001b[38;5;241m=\u001b[39m \u001b[38;5;28mint\u001b[39m(film[i])\n\u001b[0;32m     20\u001b[0m     reaction_type[current_index:current_index \u001b[38;5;241m+\u001b[39m length] \u001b[38;5;241m=\u001b[39m i\n\u001b[1;32m---> 21\u001b[0m     reaction_rate[current_index:current_index \u001b[38;5;241m+\u001b[39m length] \u001b[38;5;241m=\u001b[39m react_table[gas, i, \u001b[38;5;241m0\u001b[39m]\n\u001b[0;32m     22\u001b[0m     current_index \u001b[38;5;241m+\u001b[39m\u001b[38;5;241m=\u001b[39m length\n\u001b[0;32m     24\u001b[0m \u001b[38;5;66;03m# 生成随机数列以确定反应发生的概率\u001b[39;00m\n",
      "\u001b[1;31mIndexError\u001b[0m: only integers, slices (`:`), ellipsis (`...`), numpy.newaxis (`None`) and integer or boolean arrays are valid indices"
     ]
    }
   ],
   "source": [
    "# import numpy as np\n",
    "\n",
    "# 定义反应表和初始的 film 元素\n",
    "react_table = np.array([[[0.700, 0, 1], [0.300, 0, 1]],\n",
    "                        [[0.200, -1, 0], [0.075, 0, -1]]])\n",
    "film_elemnt = np.array([0.0, 1], dtype=float)\n",
    "\n",
    "def reaction(gas, film):\n",
    "    # 计算总长度\n",
    "    total_length = int(film.sum())\n",
    "\n",
    "    # 预分配反应类型和反应速率\n",
    "    reaction_type = np.empty(total_length, dtype=int)\n",
    "    reaction_rate = np.empty(total_length, dtype=float)\n",
    "\n",
    "    # 填充反应类型和反应速率\n",
    "    current_index = 0\n",
    "    for i in range(film.shape[0]):\n",
    "        length = int(film[i])\n",
    "        reaction_type[current_index:current_index + length] = i\n",
    "        reaction_rate[current_index:current_index + length] = react_table[gas, i, 0]\n",
    "        current_index += length\n",
    "\n",
    "    # 生成随机数列以确定反应发生的概率\n",
    "    reaction_list = np.random.rand(total_length)\n",
    "\n",
    "    # 筛选出发生反应的粒子\n",
    "    reaction_indices = np.where(reaction_rate > reaction_list)[0]\n",
    "    \n",
    "    # 如果有反应发生，随机选择一个反应\n",
    "    if reaction_indices.size > 0:\n",
    "        reaction_choice = np.random.choice(reaction_indices, 1)\n",
    "        reaction_particle = reaction_type[reaction_choice][0]\n",
    "        # print(reaction_particle)\n",
    "        # 更新 film 元素的状态\n",
    "        film += react_table[gas, reaction_particle, 1:]\n",
    "        return film, reaction_particle, np.sum(react_table[gas, reaction_particle, 1:]) # film, react_type, etchingDepo \n",
    "    else:\n",
    "        return film, -1, 0\n",
    "\n",
    "\n",
    "# 调用函数并输出结果\n",
    "print(reaction(1.0, film_elemnt))\n"
   ]
  },
  {
   "cell_type": "code",
   "execution_count": 638,
   "metadata": {},
   "outputs": [
    {
     "name": "stdout",
     "output_type": "stream",
     "text": [
      "(10, 10, 10)\n"
     ]
    }
   ],
   "source": [
    "film = np.ones((10, 10, 10, 3))\n",
    "\n",
    "sumfilm = np.sum(film, axis=-1)\n",
    "print(sumfilm.shape)"
   ]
  },
  {
   "cell_type": "code",
   "execution_count": null,
   "metadata": {},
   "outputs": [],
   "source": [
    "    # # 确定哪个面被击中\n",
    "    # if np.array_equal(hit_normal, [-1, 0, 0]):\n",
    "    #     return 0  #\"Left\"\n",
    "    # elif np.array_equal(hit_normal, [1, 0, 0]):\n",
    "    #     return 1  #\"Right\"\n",
    "    # elif np.array_equal(hit_normal, [0, -1, 0]):\n",
    "    #     return 2  #\"Front\"\n",
    "    # elif np.array_equal(hit_normal, [0, 1, 0]):\n",
    "    #     return 3  #\"Back\"\n",
    "    # elif np.array_equal(hit_normal, [0, 0, -1]):\n",
    "    #     return 4  #\"Bottom\"\n",
    "    # elif np.array_equal(hit_normal, [0, 0, 1]):\n",
    "    #     return 5  #\"Top\"\n",
    "    # return None\n",
    "ray_origin = np.array([10.3, 10.1, 160])\n",
    "ray_direction = np.array([0, 0, -10])\n",
    "\n",
    "closest_point = ray_point_cloud_intersection_vectorized(ray_origin, ray_direction, getdata[:, 3:])\n",
    "\n",
    "\n",
    "def surface_addition(film, react_point, react, flux):\n",
    "    film[react_point[0], react_point[1], react_point[2], flux] += react[2]\n",
    "    film[react_point[0], react_point[1], react_point[2], 6:] += react[0]\n",
    "    return film"
   ]
  },
  {
   "cell_type": "code",
   "execution_count": 246,
   "metadata": {},
   "outputs": [
    {
     "name": "stdout",
     "output_type": "stream",
     "text": [
      "[0 1 2 3 4 5]\n",
      "[6 7 8 9]\n"
     ]
    }
   ],
   "source": [
    "a = np.arange(10)\n",
    "\n",
    "print(a[:6])\n",
    "print(a[6:])"
   ]
  },
  {
   "cell_type": "code",
   "execution_count": 2,
   "metadata": {},
   "outputs": [
    {
     "name": "stdout",
     "output_type": "stream",
     "text": [
      "[False False  True False]\n",
      "0.5796342470165731\n",
      "2\n",
      "get\n",
      "2\n",
      "0.5796342470165731\n"
     ]
    }
   ],
   "source": [
    "a = np.array([0.0, 0.33, 0.5, 0.7, 1.0])\n",
    "b = np.random.rand()\n",
    "\n",
    "# 创建布尔掩码，找出满足条件的区间\n",
    "mask = (b > a[:-1]) & (b <= a[1:])\n",
    "print(mask)\n",
    "print(b)\n",
    "# 找到第一个满足条件的区间索引\n",
    "indices = np.where(mask)[0]\n",
    "print(indices[0])\n",
    "if indices.size > 0:\n",
    "    index = indices[0]\n",
    "    print('get')\n",
    "    print(index)\n",
    "    print(b)\n",
    "else:\n",
    "    print('b is not in any interval')\n"
   ]
  },
  {
   "cell_type": "code",
   "execution_count": 278,
   "metadata": {},
   "outputs": [
    {
     "name": "stdout",
     "output_type": "stream",
     "text": [
      "(array([], dtype=int64), array([], dtype=int64))\n",
      "[]\n",
      "0\n",
      "[]\n"
     ]
    }
   ],
   "source": [
    "a = np.array([[0.0, 0.33, 0.5, 0.7, 1.0], [0.0, 0.33, 0.5, 0.7, 1.2]])\n",
    "\n",
    "print(np.where(a > 1.4))\n",
    "\n",
    "b = np.where(a > 1.4)\n",
    "print(b[0])\n",
    "print(b[0].size)\n",
    "\n",
    "print(a[b])"
   ]
  },
  {
   "cell_type": "code",
   "execution_count": 280,
   "metadata": {},
   "outputs": [
    {
     "name": "stdout",
     "output_type": "stream",
     "text": [
      "[10 18 29 34 26]\n"
     ]
    }
   ],
   "source": [
    "a = np.array([10, 30, 34, 40, 33])\n",
    "b = np.array([0, 12, 5, 6, 7])\n",
    "c = a-b\n",
    "print(c)"
   ]
  },
  {
   "cell_type": "code",
   "execution_count": 286,
   "metadata": {},
   "outputs": [
    {
     "name": "stdout",
     "output_type": "stream",
     "text": [
      "73\n",
      "随机抽取数量 b: [ 0 28 21  4 20]\n",
      "剩余的 a 数组: [10  2 13 36 13]\n"
     ]
    }
   ],
   "source": [
    "# 原始数组 a\n",
    "a = np.array([10, 30, 34, 40, 33])\n",
    "\n",
    "# 总抽取数量 N\n",
    "N = int(np.sum(a)/2)\n",
    "print(N)\n",
    "\n",
    "# 初始化 b 数组\n",
    "b = np.zeros_like(a)\n",
    "\n",
    "# 计算总和\n",
    "total_sum = a.sum()\n",
    "\n",
    "if total_sum < N:\n",
    "    raise ValueError(\"N exceeds the total number of available elements in a.\")\n",
    "\n",
    "# 随机抽取元素\n",
    "remaining_to_draw = N\n",
    "while remaining_to_draw > 0:\n",
    "    # 随机选择一个位置\n",
    "    idx = np.random.choice(np.where(a > 0)[0])\n",
    "    # 在选择的位置随机抽取数量，最大为a[idx]和remaining_to_draw之间的最小值\n",
    "    draw = np.random.randint(0, min(a[idx], remaining_to_draw) + 1)\n",
    "    # 更新 b 和 a\n",
    "    b[idx] += draw\n",
    "    a[idx] -= draw\n",
    "    remaining_to_draw -= draw\n",
    "\n",
    "print(\"随机抽取数量 b:\", b)\n",
    "print(\"剩余的 a 数组:\", a)\n"
   ]
  },
  {
   "cell_type": "code",
   "execution_count": 649,
   "metadata": {},
   "outputs": [
    {
     "name": "stdout",
     "output_type": "stream",
     "text": [
      "[0 1 2 3 4]\n",
      "随机抽取数量 b: [ 2  5  5 11  7]\n",
      "剩余的 a 数组: [ 8 25 29 29 26]\n"
     ]
    }
   ],
   "source": [
    "a = np.array([10, 30, 34, 40, 33])\n",
    "# print(a.size)\n",
    "# 总抽取数量 N\n",
    "N = 30\n",
    "\n",
    "# 初始化 b 数组\n",
    "b = np.zeros_like(a)\n",
    "\n",
    "# 计算总和\n",
    "total_sum = a.sum()\n",
    "\n",
    "if total_sum < N:\n",
    "    raise ValueError(\"N exceeds the total number of available elements in a.\")\n",
    "\n",
    "# 随机选择抽取的顺序\n",
    "indices = np.repeat(np.arange(a.size), a)\n",
    "# print(indices)\n",
    "np.random.shuffle(indices)\n",
    "\n",
    "# 选择前 N 个，统计各类别的抽取数量\n",
    "unique, counts = np.unique(indices[:N], return_counts=True)\n",
    "print(unique)\n",
    "# 更新 b 和 a\n",
    "b[unique] += counts\n",
    "a[unique] -= counts\n",
    "\n",
    "print(\"随机抽取数量 b:\", b)\n",
    "print(\"剩余的 a 数组:\", a)"
   ]
  },
  {
   "cell_type": "code",
   "execution_count": null,
   "metadata": {},
   "outputs": [],
   "source": [
    "    # # 确定哪个面被击中\n",
    "    # if np.array_equal(hit_normal, [-1, 0, 0]):\n",
    "    #     return 0  #\"Left\"\n",
    "    # elif np.array_equal(hit_normal, [1, 0, 0]):\n",
    "    #     return 1  #\"Right\"\n",
    "    # elif np.array_equal(hit_normal, [0, -1, 0]):\n",
    "    #     return 2  #\"Front\"\n",
    "    # elif np.array_equal(hit_normal, [0, 1, 0]):\n",
    "    #     return 3  #\"Back\"\n",
    "    # elif np.array_equal(hit_normal, [0, 0, -1]):\n",
    "    #     return 4  #\"Bottom\"\n",
    "    # elif np.array_equal(hit_normal, [0, 0, 1]):\n",
    "    #     return 5  #\"Top\"\n",
    "    # return None\n",
    "\n",
    "indices = np.repeat(np.arange(a.size), a)\n",
    "print(indices)\n",
    "np.random.shuffle(indices)\n",
    "\n",
    "# 选择前 N 个，统计各类别的抽取数量\n",
    "unique, counts = np.unique(indices[:N], return_counts=True)\n",
    "\n",
    "# 更新 b 和 a\n",
    "b[unique] += counts\n",
    "a[unique] -= counts"
   ]
  },
  {
   "cell_type": "code",
   "execution_count": 578,
   "metadata": {},
   "outputs": [],
   "source": [
    "def pickParticles(film, inCell, outFlow):\n",
    "    # print(film[inCell[0], inCell[1], inCell[2],6:])\n",
    "    # print(film[inCell[0], inCell[1], inCell[2],6:][0].size)\n",
    "    indices = np.repeat(np.arange(film[inCell[0], inCell[1], inCell[2],6:][0].size), film[inCell[0], inCell[1], inCell[2],6:][0])\n",
    "    np.random.shuffle(indices)\n",
    "    # 选择前 N 个，统计各类别的抽取数量\n",
    "    print(indices)\n",
    "    unique, counts = np.unique(indices[:outFlow[0]], return_counts=True) # np.unique(indices[:N+1], return_counts=True)\n",
    "    print(counts)\n",
    "    print(unique)\n",
    "    print('----unique----')\n",
    "    film[inCell[0], inCell[1], inCell[2], unique+6] -= counts\n",
    "    return film, unique, counts"
   ]
  },
  {
   "cell_type": "code",
   "execution_count": 617,
   "metadata": {},
   "outputs": [],
   "source": [
    "def enclose_overflow(film, i, j, k):\n",
    "    if np.sum(film[i-1, j, k, 6:]) > 30:\n",
    "        if (np.sum(film[i-1-1, j, k, 6:]) > 0) & (np.sum(film[i-1, j-1, k, 6:]) > 0) & (np.sum(film[i-1, j+1, k, 6:]) > 0) \\\n",
    "            & (np.sum(film[i-1, j, k-1, 6:]) > 0) & (np.sum(film[i-1, j, k+1, 6:]) > 0):\n",
    "            inCell = np.array([i-1, j, k])\n",
    "            overflow = np.sum(film[i-1, j, k, 6:]) - 30\n",
    "            film, unique, counts = pickParticles(film, inCell, overflow)\n",
    "            film[i, j, k][unique+6] += counts\n",
    "    elif np.sum(film[i+1, j, k, 6:]) > 30:\n",
    "        if (np.sum(film[i+1+1, j, k, 6:]) > 0) & (np.sum(film[i+1, j-1, k, 6:]) > 0) & (np.sum(film[i+1, j+1, k, 6:]) > 0) \\\n",
    "            & (np.sum(film[i+1, j, k-1, 6:]) > 0) & (np.sum(film[i+1, j, k+1, 6:]) > 0):\n",
    "            inCell = np.array([i+1, j, k])\n",
    "            overflow = np.sum(film[i+1, j, k]) - 30\n",
    "            film, unique, counts = pickParticles(film, inCell, overflow)\n",
    "            film[i, j, k][unique+6] += counts\n",
    "    elif np.sum(film[i, j-1, k, 6:]) > 30:\n",
    "        if (np.sum(film[i-1, j-1, k, 6:]) > 0) & (np.sum(film[i, j-1-1, k, 6:]) > 0) & (np.sum(film[i+1, j, k, 6:]) > 0) \\\n",
    "            & (np.sum(film[i, j-1, k-1, 6:]) > 0) & (np.sum(film[i, j-1, k+1, 6:]) > 0):\n",
    "            inCell = np.array([i, j-1, k])\n",
    "            overflow = np.sum(film[i, j-1, k]) - 30\n",
    "            film, unique, counts = pickParticles(film, inCell, overflow)\n",
    "            film[i, j, k][unique+6] += counts\n",
    "    elif np.sum(film[i, j+1, k, 6:]) > 30:\n",
    "        if (np.sum(film[i-1, j+1, k, 6:]) > 0) & (np.sum(film[i+1, j+1, k, 6:]) > 0) & (np.sum(film[i, j+1+1, k, 6:]) > 0) \\\n",
    "            & (np.sum(film[i, j+1, k-1, 6:]) > 0) & (np.sum(film[i, j+1, k+1, 6:]) > 0):\n",
    "            inCell = np.array([i, j+1, k])\n",
    "            overflow = np.sum(film[i, j+1, k]) - 30\n",
    "            film, unique, counts = pickParticles(film, inCell, overflow)\n",
    "            film[i, j, k][unique+6] += counts\n",
    "    elif np.sum(film[i, j, k-1, 6:]) > 30:\n",
    "        if (np.sum(film[i-1, j, k-1, 6:]) > 0) & (np.sum(film[i+1, j, k-1, 6:]) > 0) & (np.sum(film[i, j+1, k-1, 6:]) > 0) \\\n",
    "            & (np.sum(film[i, j, k-1-1, 6:]) > 0) & (np.sum(film[i, j-1, k, 6:]) > 0):\n",
    "            inCell = np.array([i, j, k-1])\n",
    "            overflow = np.sum(film[i, j, k-1]) - 30\n",
    "            film, unique, counts = pickParticles(film, inCell, overflow)\n",
    "            film[i, j, k][unique+6] += counts\n",
    "    elif np.sum(film[i, j, k+1, 6:]) > 30:\n",
    "        if (np.sum(film[i-1, j, k+1, 6:]) > 0) & (np.sum(film[i+1, j, k+1, 6:]) > 0) & (np.sum(film[i, j+1, k+1, 6:]) > 0) \\\n",
    "            & (np.sum(film[i, j-1, k, 6:]) > 0) & (np.sum(film[i, j, k+1+1, 6:]) > 0):\n",
    "            inCell = np.array([i, j, k+1])\n",
    "            overflow = np.sum(film[i, j, k+1]) - 30\n",
    "            film, unique, counts = pickParticles(film, inCell, overflow)\n",
    "            film[i, j, k][unique+6] += counts\n",
    "\n",
    "    # less than 30\n",
    "    elif np.sum(film[i-1, j, k, 6:]) < 30:\n",
    "        if (np.sum(film[i-1-1, j, k, 6:]) > 0) & (np.sum(film[i-1, j-1, k, 6:]) > 0) & (np.sum(film[i-1, j+1, k, 6:]) > 0) \\\n",
    "            & (np.sum(film[i-1, j, k-1, 6:]) > 0) & (np.sum(film[i-1, j, k+1, 6:]) > 0):\n",
    "            inCell = np.array([i, j, k])\n",
    "            overflow = 30 - np.sum(film[i-1, j, k, 6:])\n",
    "            film, unique, counts = pickParticles(film, inCell, overflow)\n",
    "            film[i-1, j, k][unique+6] += counts\n",
    "    elif np.sum(film[i+1, j, k, 6:]) < 30:\n",
    "        if (np.sum(film[i+1+1, j, k, 6:]) > 0) & (np.sum(film[i+1, j-1, k, 6:]) > 0) & (np.sum(film[i+1, j+1, k, 6:]) > 0) \\\n",
    "            & (np.sum(film[i+1, j, k-1, 6:]) > 0) & (np.sum(film[i+1, j, k+1, 6:]) > 0):\n",
    "            inCell = np.array([i, j, k])\n",
    "            overflow = 30 - np.sum(film[i+1, j, k])\n",
    "            film, unique, counts = pickParticles(film, inCell, overflow)\n",
    "            film[i+1, j, k][unique+6] += counts\n",
    "    elif np.sum(film[i, j-1, k, 6:]) < 30:\n",
    "        if (np.sum(film[i-1, j-1, k, 6:]) > 0) & (np.sum(film[i, j-1-1, k, 6:]) > 0) & (np.sum(film[i+1, j, k, 6:]) > 0) \\\n",
    "            & (np.sum(film[i, j-1, k-1, 6:]) > 0) & (np.sum(film[i, j-1, k+1, 6:]) > 0):\n",
    "            inCell = np.array([i, j, k])\n",
    "            overflow = 30 - np.sum(film[i, j-1, k])\n",
    "            film, unique, counts = pickParticles(film, inCell, overflow)\n",
    "            film[i, j-1, k][unique+6] += counts\n",
    "    elif np.sum(film[i, j+1, k, 6:]) < 30:\n",
    "        if (np.sum(film[i-1, j+1, k, 6:]) > 0) & (np.sum(film[i+1, j+1, k, 6:]) > 0) & (np.sum(film[i, j+1+1, k, 6:]) > 0) \\\n",
    "            & (np.sum(film[i, j+1, k-1, 6:]) > 0) & (np.sum(film[i, j+1, k+1, 6:]) > 0):\n",
    "            inCell = np.array([i, j, k])\n",
    "            overflow = 30 - np.sum(film[i, j+1, k])\n",
    "            film, unique, counts = pickParticles(film, inCell, overflow)\n",
    "            film[i, j+1, k][unique+6] += counts\n",
    "    elif np.sum(film[i, j, k-1, 6:]) < 30:\n",
    "        if (np.sum(film[i-1, j, k-1, 6:]) > 0) & (np.sum(film[i+1, j, k-1, 6:]) > 0) & (np.sum(film[i, j+1, k-1, 6:]) > 0) \\\n",
    "            & (np.sum(film[i, j, k-1-1, 6:]) > 0) & (np.sum(film[i, j-1, k, 6:]) > 0):\n",
    "            inCell = np.array([i, j, k])\n",
    "            overflow = 30 - np.sum(film[i, j, k-1])\n",
    "            film, unique, counts = pickParticles(film, inCell, overflow)\n",
    "            film[i, j, k-1][unique+6] += counts\n",
    "    elif np.sum(film[i, j, k+1, 6:]) < 30:\n",
    "        if (np.sum(film[i-1, j, k+1, 6:]) > 0) & (np.sum(film[i+1, j, k+1, 6:]) > 0) & (np.sum(film[i, j+1, k+1, 6:]) > 0) \\\n",
    "            & (np.sum(film[i, j-1, k, 6:]) > 0) & (np.sum(film[i, j, k+1+1, 6:]) > 0):\n",
    "            inCell = np.array([i, j, k])\n",
    "            overflow = 30 - np.sum(film[i, j, k+1])\n",
    "            film, unique, counts = pickParticles(film, inCell, overflow)\n",
    "            film[i, j, k+1][unique+6] += counts\n",
    "    return film"
   ]
  },
  {
   "cell_type": "code",
   "execution_count": 618,
   "metadata": {},
   "outputs": [
    {
     "name": "stdout",
     "output_type": "stream",
     "text": [
      "[ 10  40  74 114 147]\n",
      "[0.         0.06802721 0.27210884 0.50340136 0.7755102  1.        ]\n"
     ]
    }
   ],
   "source": [
    "a = np.array([10, 30, 34, 40, 33])\n",
    "b = np.zeros(a.shape[0] + 1)\n",
    "asum = np.sum(a)\n",
    "\n",
    "print(np.cumsum(a))\n",
    "# 使用累积和计算 b 的值\n",
    "b[1:] = np.cumsum(a) / asum\n",
    "\n",
    "print(b)"
   ]
  },
  {
   "cell_type": "code",
   "execution_count": 619,
   "metadata": {},
   "outputs": [],
   "source": [
    "# film([x,y,z] Left Right Front Back Bottom Top, type1, type2, ...)\n",
    "\n",
    "def surface_advancement(film, type):\n",
    "    N = int(30)\n",
    "    sumfilm = np.sum(film[:, :, :, 6:], axis=-1, dtype=int)\n",
    "    print(sumfilm[:, :, 2])\n",
    "    if type == 1:\n",
    "        upperCell = np.where(sumfilm > 2*N)\n",
    "        # lowerCell = np.where(sumfilm < N/5)\n",
    "        # upperCell = sumfilm > 2*N\n",
    "        # lowerCell = sumfilm < N/5\n",
    "        print(upperCell)\n",
    "        # print(lowerCell)\n",
    "        if upperCell[0].size == 0:\n",
    "            return film\n",
    "        else:\n",
    "            outFlowParticles = sumfilm[upperCell] - N\n",
    "            flux = film[upperCell[0], upperCell[1], upperCell[2], :6][0]\n",
    "            print(flux)\n",
    "            print('----flux----')\n",
    "            flux_rate = np.zeros(flux.shape[0] + 1)\n",
    "            flux_rate[1:] = np.cumsum(flux)/np.sum(flux)\n",
    "            flow_random = np.random.rand()\n",
    "            mask = (flow_random > flux_rate[:-1]) & (flow_random <= flux_rate[1:])\n",
    "            print(mask)\n",
    "            flow_choice = np.where(mask)[0]\n",
    "            print(flow_choice)\n",
    "            # indices = np.repeat(np.arange(film[upperCell][6:].size), film[upperCell][6:])\n",
    "            # np.random.shuffle(indices)\n",
    "            # # 选择前 N 个，统计各类别的抽取数量\n",
    "            # unique, counts = np.unique(indices[:N+1], return_counts=True)\n",
    "            # film[upperCell[0], upperCell[1], upperCell[2]][unique+6]     -= counts\n",
    "            film, unique, counts = pickParticles(film, upperCell, outFlowParticles)\n",
    "            if flow_choice == 0:\n",
    "                film[upperCell[0] - 1, upperCell[1], upperCell[2],unique+6] += counts\n",
    "                film = enclose_overflow(film, upperCell[0] - 1, upperCell[1], upperCell[2])\n",
    "            elif flow_choice == 1:\n",
    "                film[upperCell[0] + 1, upperCell[1], upperCell[2],unique+6] += counts\n",
    "                film = enclose_overflow(film, upperCell[0] + 1, upperCell[1], upperCell[2])\n",
    "            elif flow_choice == 2:\n",
    "                film[upperCell[0], upperCell[1] - 1, upperCell[2],unique+6] += counts\n",
    "                film = enclose_overflow(film, upperCell[0], upperCell[1] - 1, upperCell[2])\n",
    "            elif flow_choice == 3:\n",
    "                film[upperCell[0], upperCell[1] + 1, upperCell[2],unique+6] += counts\n",
    "                film = enclose_overflow(film, upperCell[0], upperCell[1] + 1, upperCell[2])\n",
    "            elif flow_choice == 4:\n",
    "                film[upperCell[0], upperCell[1], upperCell[2] - 1,unique+6] += counts\n",
    "                film = enclose_overflow(film, upperCell[0], upperCell[1], upperCell[2] - 1)\n",
    "            elif flow_choice == 5:\n",
    "                film[upperCell[0], upperCell[1], upperCell[2] + 1,unique+6] += counts\n",
    "                film = enclose_overflow(film, upperCell[0], upperCell[1], upperCell[2] + 1)\n",
    "            else:\n",
    "                print('error flow')\n",
    "        return film\n",
    "    elif type == -1:\n",
    "        # lowerCell = np.where(sumfilm > 2*N)\n",
    "        lowerCell = np.where(sumfilm < N/5)\n",
    "        # lowerCell = sumfilm > 2*N\n",
    "        # lowerCell = sumfilm < N/5\n",
    "        print(lowerCell)\n",
    "        # print(lowerCell)\n",
    "        if lowerCell.size == 0:\n",
    "            return film\n",
    "        else:\n",
    "            outFlowParticles = sumfilm[lowerCell]\n",
    "            flux = film[lowerCell[0], lowerCell[1], lowerCell[2], :6][0]\n",
    "            flux_min = np.min(flux)\n",
    "            flux -= flux_min\n",
    "            flux_rate = np.zeros(flux.shape[0] + 1)\n",
    "            flux_rate[1:] = np.cumsum(flux)/np.sum(flux)\n",
    "            flow_random = np.random.rand()\n",
    "            mask = (flow_random > flux_rate[:-1]) & (flow_random <= flux_rate[1:])\n",
    "            flow_choice = np.where(mask)[0]\n",
    "            counts = film[lowerCell[0], lowerCell[1], lowerCell[2], 6:]\n",
    "            if flow_choice == 0:\n",
    "                film[lowerCell[0] - 1, lowerCell[1], lowerCell[2],unique+6] += counts\n",
    "                film = enclose_overflow(film, lowerCell[0] - 1, lowerCell[1], lowerCell[2])\n",
    "            elif flow_choice == 1:\n",
    "                film[lowerCell[0] + 1, lowerCell[1], lowerCell[2],unique+6] += counts\n",
    "                film = enclose_overflow(film, lowerCell[0] + 1, lowerCell[1], lowerCell[2])\n",
    "            elif flow_choice == 2:\n",
    "                film[lowerCell[0], lowerCell[1] - 1, lowerCell[2],unique+6] += counts\n",
    "                film = enclose_overflow(film, lowerCell[0], lowerCell[1] - 1, lowerCell[2])\n",
    "            elif flow_choice == 3:\n",
    "                film[lowerCell[0], lowerCell[1] + 1, lowerCell[2],unique+6] += counts\n",
    "                film = enclose_overflow(film, lowerCell[0], lowerCell[1] + 1, lowerCell[2])\n",
    "            elif flow_choice == 4:\n",
    "                film[lowerCell[0], lowerCell[1], lowerCell[2] - 1,unique+6] += counts\n",
    "                film = enclose_overflow(film, lowerCell[0], lowerCell[1], lowerCell[2] - 1)\n",
    "            elif flow_choice == 5:\n",
    "                film[lowerCell[0], lowerCell[1], lowerCell[2] + 1,unique+6] += counts\n",
    "                film = enclose_overflow(film, lowerCell[0], lowerCell[1], lowerCell[2] + 1)\n",
    "            else:\n",
    "                print('error flow')\n",
    "        return film   \n",
    "\n",
    "            "
   ]
  },
  {
   "cell_type": "code",
   "execution_count": 620,
   "metadata": {},
   "outputs": [
    {
     "name": "stdout",
     "output_type": "stream",
     "text": [
      "[[[[ 0  0  0 ... 12  2 10]\n",
      "   [ 0  0  0 ... 12  5 12]\n",
      "   [ 0  0  0 ...  8 10 12]\n",
      "   [ 0  0  0 ...  1  6 11]]\n",
      "\n",
      "  [[ 0  0  0 ...  5 11 11]\n",
      "   [ 0  0  0 ... 10  2  7]\n",
      "   [ 0  0  0 ...  6 15 12]\n",
      "   [ 0  0  0 ...  4  2  8]]\n",
      "\n",
      "  [[ 0  0  0 ... 14 12  2]\n",
      "   [ 0  0  0 ...  5 14  9]\n",
      "   [ 0  0  0 ...  6  4  4]\n",
      "   [ 0  0  0 ... 14  1  8]]\n",
      "\n",
      "  [[ 0  0  0 ...  4  3  7]\n",
      "   [ 0  0  0 ...  5  4  1]\n",
      "   [ 0  0  0 ...  9  1  3]\n",
      "   [ 0  0  0 ... 11 12  1]]\n",
      "\n",
      "  [[ 0  0  0 ... 10 13  2]\n",
      "   [ 0  0  0 ...  7 11  7]\n",
      "   [ 0  0  0 ...  8  2  3]\n",
      "   [ 0  0  0 ...  5 13  7]]\n",
      "\n",
      "  [[ 0  0  0 ...  6  6  6]\n",
      "   [ 0  0  0 ...  4 14  4]\n",
      "   [ 0  0  0 ...  3 12  4]\n",
      "   [ 0  0  0 ...  1 15  5]]]\n",
      "\n",
      "\n",
      " [[[ 0  0  0 ... 14  6  4]\n",
      "   [ 0  0  0 ...  1 15  3]\n",
      "   [ 0  0  0 ...  4 13  1]\n",
      "   [ 0  0  0 ...  3 14  8]]\n",
      "\n",
      "  [[ 0  0  0 ...  1 15 12]\n",
      "   [ 0  0  0 ...  9  3  6]\n",
      "   [ 0  0  0 ...  3  9  7]\n",
      "   [ 0  0  0 ...  4  6  9]]\n",
      "\n",
      "  [[ 0  0  0 ...  2  2  9]\n",
      "   [ 0  0  0 ...  3  7 14]\n",
      "   [ 0  0  0 ... 15  7  5]\n",
      "   [ 0  0  0 ...  6  3 11]]\n",
      "\n",
      "  [[ 0  0  0 ...  5  7  9]\n",
      "   [ 0  0  0 ... 14  4 13]\n",
      "   [ 0  0  0 ...  7 11  8]\n",
      "   [ 0  0  0 ... 13  7  8]]\n",
      "\n",
      "  [[ 0  0  0 ... 10  4 12]\n",
      "   [ 0  0  0 ...  1  1  2]\n",
      "   [ 0  0  0 ...  5  7 14]\n",
      "   [ 0  0  0 ... 13  1  6]]\n",
      "\n",
      "  [[ 0  0  0 ...  9  3  3]\n",
      "   [ 0  0  0 ...  8  3  6]\n",
      "   [ 0  0  0 ... 10  9  2]\n",
      "   [ 0  0  0 ...  6 15  9]]]\n",
      "\n",
      "\n",
      " [[[ 0  0  0 ...  2  2 15]\n",
      "   [ 0  0  0 ... 13  4 14]\n",
      "   [ 0  0  0 ...  3  3 11]\n",
      "   [ 0  0  0 ...  3  5  4]]\n",
      "\n",
      "  [[ 0  0  0 ...  2  1  2]\n",
      "   [ 0  0  0 ...  7  3 10]\n",
      "   [ 0  0  0 ...  8 13  9]\n",
      "   [ 0  0  0 ...  8  4 15]]\n",
      "\n",
      "  [[ 0  0  0 ...  4 10 11]\n",
      "   [ 0  0  0 ... 13  1  1]\n",
      "   [ 0  0  0 ... 12 13 12]\n",
      "   [ 0  0  0 ...  2  1 10]]\n",
      "\n",
      "  [[ 0  0  0 ...  4  4  1]\n",
      "   [ 0  0  0 ...  3  2  5]\n",
      "   [ 0  0  0 ...  5  9 10]\n",
      "   [ 0  0  0 ... 12  1  2]]\n",
      "\n",
      "  [[ 0  0  0 ... 13  6  8]\n",
      "   [ 0  0  0 ... 13  3 14]\n",
      "   [ 0  0  0 ... 15  9  9]\n",
      "   [ 0  0  0 ...  8 15 11]]\n",
      "\n",
      "  [[ 0  0  0 ...  6 10  9]\n",
      "   [ 0  0  0 ...  3  4 10]\n",
      "   [ 0  0  0 ...  2  6  2]\n",
      "   [ 0  0  0 ...  9 15 12]]]\n",
      "\n",
      "\n",
      " [[[ 0  0  0 ...  8  5 13]\n",
      "   [ 0  0  0 ... 12  4  1]\n",
      "   [ 0  0  0 ...  7 15  5]\n",
      "   [ 0  0  0 ... 12 13 13]]\n",
      "\n",
      "  [[ 0  0  0 ...  1 14 12]\n",
      "   [ 0  0  0 ...  5  3  2]\n",
      "   [ 0  0  0 ...  5 14 11]\n",
      "   [ 0  0  0 ...  7  7 11]]\n",
      "\n",
      "  [[ 0  0  0 ... 10 11 12]\n",
      "   [ 0  0  0 ...  9  4  3]\n",
      "   [ 0  0  0 ...  4 14  5]\n",
      "   [ 0  0  0 ... 10 11 10]]\n",
      "\n",
      "  [[ 0  0  0 ... 14 10  7]\n",
      "   [ 0  0  0 ...  6  8 14]\n",
      "   [ 0  0  0 ...  5  8  4]\n",
      "   [ 0  0  0 ...  2 14  9]]\n",
      "\n",
      "  [[ 0  0  0 ... 11  5  4]\n",
      "   [ 0  0  0 ...  7 15  5]\n",
      "   [ 0  0  0 ...  8 12 15]\n",
      "   [ 0  0  0 ...  7 10 12]]\n",
      "\n",
      "  [[ 0  0  0 ... 15  5  9]\n",
      "   [ 0  0  0 ...  2  2  5]\n",
      "   [ 0  0  0 ... 10  6  2]\n",
      "   [ 0  0  0 ... 14  6 11]]]\n",
      "\n",
      "\n",
      " [[[ 0  0  0 ... 10  3 15]\n",
      "   [ 0  0  0 ...  8 13 12]\n",
      "   [ 0  0  0 ... 11 15 15]\n",
      "   [ 0  0  0 ... 13  5  2]]\n",
      "\n",
      "  [[ 0  0  0 ... 15 15 13]\n",
      "   [ 0  0  0 ... 15  8 13]\n",
      "   [ 0  0  0 ... 10 12 15]\n",
      "   [ 0  0  0 ...  6  4  9]]\n",
      "\n",
      "  [[ 0  0  0 ... 10  9  9]\n",
      "   [ 0  0  0 ...  2 12  3]\n",
      "   [ 0  0  0 ...  6  2 14]\n",
      "   [ 0  0  0 ... 12 13  4]]\n",
      "\n",
      "  [[ 0  0  0 ...  6 11  9]\n",
      "   [ 0  0  0 ...  8  2 10]\n",
      "   [ 0  0  0 ... 14  2  6]\n",
      "   [ 0  0  0 ...  2  3  9]]\n",
      "\n",
      "  [[ 0  0  0 ...  4 12 13]\n",
      "   [ 0  0  0 ... 12  4  7]\n",
      "   [ 0  0  0 ...  1  9  6]\n",
      "   [ 0  0  0 ...  9  3 15]]\n",
      "\n",
      "  [[ 0  0  0 ...  5  5  1]\n",
      "   [ 0  0  0 ...  9 15  4]\n",
      "   [ 0  0  0 ... 14  5  7]\n",
      "   [ 0  0  0 ... 11 11 12]]]\n",
      "\n",
      "\n",
      " [[[ 0  0  0 ... 12  3 15]\n",
      "   [ 0  0  0 ...  8  3  5]\n",
      "   [ 0  0  0 ...  6  7 10]\n",
      "   [ 0  0  0 ...  8 14  4]]\n",
      "\n",
      "  [[ 0  0  0 ...  9  2  7]\n",
      "   [ 0  0  0 ...  5  7 10]\n",
      "   [ 0  0  0 ... 15 13 11]\n",
      "   [ 0  0  0 ...  7 15 15]]\n",
      "\n",
      "  [[ 0  0  0 ...  9  5  5]\n",
      "   [ 0  0  0 ... 15 15  5]\n",
      "   [ 0  0  0 ... 10  1  9]\n",
      "   [ 0  0  0 ...  2  4 12]]\n",
      "\n",
      "  [[ 0  0  0 ... 14  6  5]\n",
      "   [ 0  0  0 ...  6 11  3]\n",
      "   [ 0  0  0 ...  1 11  7]\n",
      "   [ 0  0  0 ...  1  5  4]]\n",
      "\n",
      "  [[ 0  0  0 ...  2  3 13]\n",
      "   [ 0  0  0 ...  3 13  6]\n",
      "   [ 0  0  0 ...  2  6  6]\n",
      "   [ 0  0  0 ...  1 15 14]]\n",
      "\n",
      "  [[ 0  0  0 ...  2  8  4]\n",
      "   [ 0  0  0 ...  8  9 13]\n",
      "   [ 0  0  0 ... 13 11  7]\n",
      "   [ 0  0  0 ...  5  2 14]]]]\n"
     ]
    }
   ],
   "source": [
    "testfilm = np.zeros((6, 6, 4, 10), dtype=int)\n",
    "\n",
    "a = np.random.randint(1, 16, size=(6, 6, 4, 4))\n",
    "\n",
    "testfilm[:, :, :, 6:] = a\n",
    "print(testfilm)"
   ]
  },
  {
   "cell_type": "code",
   "execution_count": 621,
   "metadata": {},
   "outputs": [
    {
     "name": "stdout",
     "output_type": "stream",
     "text": [
      "[[[37 38 39 27]\n",
      "  [35 24 41 20]\n",
      "  [36 40 16 26]\n",
      "  [18 11 16 26]\n",
      "  [31 37 24 34]\n",
      "  [21 32 20 27]]\n",
      "\n",
      " [[31 33 23 38]\n",
      "  [40 31 32 29]\n",
      "  [27 31 32 30]\n",
      "  [27 44 41 37]\n",
      "  [33  9 36 22]\n",
      "  [20 19 26 31]]\n",
      "\n",
      " [[32 32 29 24]\n",
      "  [ 7 26 45 41]\n",
      "  [36 29 48 15]\n",
      "  [17 20 28 25]\n",
      "  [37 39 37 45]\n",
      "  [36 31 19 41]]\n",
      "\n",
      " [[32 24 30 50]\n",
      "  [32 17 36 40]\n",
      "  [47 30 28 44]\n",
      "  [41 40 26 30]\n",
      "  [33 40 40 42]\n",
      "  [42 20 26 45]]\n",
      "\n",
      " [[33 39 47 22]\n",
      "  [47 41 38 29]\n",
      "  [38 22 33 36]\n",
      "  [37 32 23 17]\n",
      "  [39 34 17 33]\n",
      "  [26 38 37 35]]\n",
      "\n",
      " [[31 21 28 40]\n",
      "  [24 26 51 46]\n",
      "  [23 40 26 24]\n",
      "  [29 28 27 25]\n",
      "  [24 28 16 38]\n",
      "  [26 41 40 35]]]\n"
     ]
    }
   ],
   "source": [
    "print(np.sum(testfilm, axis=-1))"
   ]
  },
  {
   "cell_type": "code",
   "execution_count": 622,
   "metadata": {},
   "outputs": [],
   "source": [
    "testfilm[:, :, 3, :] = 0"
   ]
  },
  {
   "cell_type": "code",
   "execution_count": 623,
   "metadata": {},
   "outputs": [
    {
     "name": "stdout",
     "output_type": "stream",
     "text": [
      "125\n",
      "[ 0 40  0  0  0  0 13  3  9 60]\n"
     ]
    }
   ],
   "source": [
    "testfilm[1, 1, 2, -1] = 60\n",
    "testfilm[1, 1, 2, 1] = 40\n",
    "print(np.sum(testfilm[1, 1, 2], axis=-1))\n",
    "print(testfilm[1, 1, 2])"
   ]
  },
  {
   "cell_type": "code",
   "execution_count": 624,
   "metadata": {},
   "outputs": [
    {
     "name": "stdout",
     "output_type": "stream",
     "text": [
      "[[0 0 0 0 0 0]\n",
      " [0 0 0 0 0 0]\n",
      " [0 0 0 0 0 0]\n",
      " [0 0 0 0 0 0]\n",
      " [0 0 0 0 0 0]\n",
      " [0 0 0 0 0 0]]\n",
      "[[39 41 16 16 24 20]\n",
      " [23 85 32 41 36 26]\n",
      " [29 45 48 28 37 19]\n",
      " [30 36 28 26 40 26]\n",
      " [47 38 33 23 17 37]\n",
      " [28 51 26 27 16 40]]\n",
      "[[38 24 40 11 37 32]\n",
      " [33 31 31 44  9 19]\n",
      " [32 26 29 20 39 31]\n",
      " [24 17 30 40 40 20]\n",
      " [39 41 22 32 34 38]\n",
      " [21 26 40 28 28 41]]\n",
      "[[37 35 36 18 31 21]\n",
      " [31 40 27 27 33 20]\n",
      " [32  7 36 17 37 36]\n",
      " [32 32 47 41 33 42]\n",
      " [33 47 38 37 39 26]\n",
      " [31 24 23 29 24 26]]\n"
     ]
    }
   ],
   "source": [
    "print(np.sum(testfilm[:, :, 3, 6:], axis=-1))\n",
    "print(np.sum(testfilm[:, :, 2, 6:], axis=-1))\n",
    "print(np.sum(testfilm[:, :, 1, 6:], axis=-1))\n",
    "print(np.sum(testfilm[:, :, 0, 6:], axis=-1))"
   ]
  },
  {
   "cell_type": "code",
   "execution_count": 625,
   "metadata": {},
   "outputs": [
    {
     "name": "stdout",
     "output_type": "stream",
     "text": [
      "[[39 41 16 16 24 20]\n",
      " [23 85 32 41 36 26]\n",
      " [29 45 48 28 37 19]\n",
      " [30 36 28 26 40 26]\n",
      " [47 38 33 23 17 37]\n",
      " [28 51 26 27 16 40]]\n",
      "(array([1], dtype=int64), array([1], dtype=int64), array([2], dtype=int64))\n",
      "[ 0 40  0  0  0  0]\n",
      "----flux----\n",
      "[False  True False False False False]\n",
      "[1]\n",
      "[3 3 3 3 3 0 3 3 3 2 0 3 0 3 0 0 3 0 3 3 3 3 3 3 3 3 3 3 3 2 3 3 3 3 3 3 3\n",
      " 3 3 3 2 3 1 3 3 3 0 3 3 3 3 3 0 3 2 3 2 3 3 1 0 1 2 3 2 3 3 3 3 0 3 3 3 3\n",
      " 0 3 3 2 2 3 0 3 3 0 3]\n",
      "[ 8  1  4 42]\n",
      "[0 1 2 3]\n",
      "----unique----\n"
     ]
    }
   ],
   "source": [
    "\n",
    "filmin = surface_advancement(testfilm, 1)"
   ]
  },
  {
   "cell_type": "code",
   "execution_count": 626,
   "metadata": {},
   "outputs": [
    {
     "name": "stdout",
     "output_type": "stream",
     "text": [
      "[[0 0 0 0 0 0]\n",
      " [0 0 0 0 0 0]\n",
      " [0 0 0 0 0 0]\n",
      " [0 0 0 0 0 0]\n",
      " [0 0 0 0 0 0]\n",
      " [0 0 0 0 0 0]]\n",
      "[[ 39  41  16  16  24  20]\n",
      " [ 23  30  32  41  36  26]\n",
      " [ 29 100  48  28  37  19]\n",
      " [ 30  36  28  26  40  26]\n",
      " [ 47  38  33  23  17  37]\n",
      " [ 28  51  26  27  16  40]]\n",
      "[[38 24 40 11 37 32]\n",
      " [33 31 31 44  9 19]\n",
      " [32 26 29 20 39 31]\n",
      " [24 17 30 40 40 20]\n",
      " [39 41 22 32 34 38]\n",
      " [21 26 40 28 28 41]]\n",
      "[[37 35 36 18 31 21]\n",
      " [31 40 27 27 33 20]\n",
      " [32  7 36 17 37 36]\n",
      " [32 32 47 41 33 42]\n",
      " [33 47 38 37 39 26]\n",
      " [31 24 23 29 24 26]]\n"
     ]
    }
   ],
   "source": [
    "print(np.sum(filmin[:, :, 3, 6:], axis=-1))\n",
    "print(np.sum(filmin[:, :, 2, 6:], axis=-1))\n",
    "print(np.sum(filmin[:, :, 1, 6:], axis=-1))\n",
    "print(np.sum(filmin[:, :, 0, 6:], axis=-1))"
   ]
  },
  {
   "cell_type": "code",
   "execution_count": 614,
   "metadata": {},
   "outputs": [
    {
     "data": {
      "text/plain": [
       "array([ 0, 40,  0,  0,  0,  0,  3,  1,  4, 22])"
      ]
     },
     "execution_count": 614,
     "metadata": {},
     "output_type": "execute_result"
    }
   ],
   "source": [
    "filmin[1, 1, 2]"
   ]
  },
  {
   "cell_type": "code",
   "execution_count": 615,
   "metadata": {},
   "outputs": [
    {
     "data": {
      "text/plain": [
       "array([ 0,  0,  0,  0,  0,  0, 12,  7, 14, 48])"
      ]
     },
     "execution_count": 615,
     "metadata": {},
     "output_type": "execute_result"
    }
   ],
   "source": [
    "filmin[2, 1, 2]"
   ]
  },
  {
   "cell_type": "code",
   "execution_count": null,
   "metadata": {},
   "outputs": [],
   "source": []
  }
 ],
 "metadata": {
  "kernelspec": {
   "display_name": "Python 3",
   "language": "python",
   "name": "python3"
  },
  "language_info": {
   "codemirror_mode": {
    "name": "ipython",
    "version": 3
   },
   "file_extension": ".py",
   "mimetype": "text/x-python",
   "name": "python",
   "nbconvert_exporter": "python",
   "pygments_lexer": "ipython3",
   "version": "3.11.7"
  }
 },
 "nbformat": 4,
 "nbformat_minor": 2
}
